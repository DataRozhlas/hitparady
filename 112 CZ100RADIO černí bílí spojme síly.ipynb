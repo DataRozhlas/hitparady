{
 "cells": [
  {
   "cell_type": "markdown",
   "id": "39e31c5b",
   "metadata": {},
   "source": [
    "Sešit naprd, v datech toho moc není."
   ]
  },
  {
   "cell_type": "code",
   "execution_count": 1,
   "id": "c9061ee0",
   "metadata": {},
   "outputs": [],
   "source": [
    "import os\n",
    "import pandas as pd"
   ]
  },
  {
   "cell_type": "code",
   "execution_count": 11,
   "id": "7e9d0e18",
   "metadata": {},
   "outputs": [],
   "source": [
    "df = pd.read_csv(os.path.join(\"data\",\"CZ_RADIO_TOP_100_tydenni.csv\"))\n",
    "wikid = pd.read_json(os.path.join(\"wikidata\",\"wikidata.json\"))\n",
    "df = df.merge(wikid, on=\"interpret_hlavni\", how=\"outer\")"
   ]
  },
  {
   "cell_type": "code",
   "execution_count": 12,
   "id": "eaf8c20a",
   "metadata": {},
   "outputs": [],
   "source": [
    "et = df.explode('etnicita')"
   ]
  },
  {
   "cell_type": "code",
   "execution_count": 13,
   "id": "f3e1066b",
   "metadata": {},
   "outputs": [
    {
     "data": {
      "text/plain": [
       "etnicita\n",
       "Frankokanaďan                                        817\n",
       "Italoameričané                                       817\n",
       "Afroameričané                                        745\n",
       "kosovský Albánec                                     445\n",
       "Albánci                                              429\n",
       "Portoričané  v USA                                   193\n",
       "multirasový Američan                                 158\n",
       "černoši                                              143\n",
       "Canadian Americans                                    94\n",
       "Black British                                         81\n",
       "Indo Caribbeans                                       62\n",
       "Iroameričané                                          43\n",
       "Skotští Američané                                     43\n",
       "Švédové                                               40\n",
       "švédští Američané                                     29\n",
       "Židé ve Spojeném království                           28\n",
       "Arabové                                               20\n",
       "arabští Američané                                     20\n",
       "Romové                                                15\n",
       "Američané jamajského původu                            8\n",
       "Filipínci                                              8\n",
       "Američané hispánského a latinskoamerického původu      7\n",
       "Řekové                                                 5\n",
       "Kolumbijští Američané                                  1\n",
       "Ladins                                                 1\n",
       "dtype: int64"
      ]
     },
     "execution_count": 13,
     "metadata": {},
     "output_type": "execute_result"
    }
   ],
   "source": [
    "et.groupby('etnicita').size().nlargest(25)"
   ]
  },
  {
   "cell_type": "code",
   "execution_count": 16,
   "id": "80642ea9",
   "metadata": {},
   "outputs": [],
   "source": [
    "def pomer(x):\n",
    "    return  (et[et['etnicita'] == x].groupby('rok').size() / df.groupby('rok').size()).plot.bar()"
   ]
  },
  {
   "cell_type": "code",
   "execution_count": 17,
   "id": "343af8df",
   "metadata": {},
   "outputs": [
    {
     "data": {
      "text/plain": [
       "<Axes: xlabel='rok'>"
      ]
     },
     "execution_count": 17,
     "metadata": {},
     "output_type": "execute_result"
    },
    {
     "data": {
      "image/png": "[encoded data removed]",
      "text/plain": [
       "<Figure size 432x288 with 1 Axes>"
      ]
     },
     "metadata": {
      "needs_background": "light"
     },
     "output_type": "display_data"
    }
   ],
   "source": [
    "pomer('Afroameričané')"
   ]
  },
  {
   "cell_type": "code",
   "execution_count": 18,
   "id": "96040bb8",
   "metadata": {},
   "outputs": [
    {
     "data": {
      "text/plain": [
       "<Axes: xlabel='rok'>"
      ]
     },
     "execution_count": 18,
     "metadata": {},
     "output_type": "execute_result"
    },
    {
     "data": {
      "image/png": "[encoded data removed]",
      "text/plain": [
       "<Figure size 432x288 with 1 Axes>"
      ]
     },
     "metadata": {
      "needs_background": "light"
     },
     "output_type": "display_data"
    }
   ],
   "source": [
    "pomer('kosovský Albánec')"
   ]
  },
  {
   "cell_type": "code",
   "execution_count": 19,
   "id": "df668a07",
   "metadata": {},
   "outputs": [
    {
     "data": {
      "text/plain": [
       "56280    Rita Ora\n",
       "75764    Dua Lipa\n",
       "Name: interpret_hlavni, dtype: object"
      ]
     },
     "execution_count": 19,
     "metadata": {},
     "output_type": "execute_result"
    }
   ],
   "source": [
    "et[et['etnicita'] == 'kosovský Albánec']['interpret_hlavni'].drop_duplicates()"
   ]
  }
 ],
 "metadata": {
  "kernelspec": {
   "display_name": "Python 3 (ipykernel)",
   "language": "python",
   "name": "python3"
  },
  "language_info": {
   "codemirror_mode": {
    "name": "ipython",
    "version": 3
   },
   "file_extension": ".py",
   "mimetype": "text/x-python",
   "name": "python",
   "nbconvert_exporter": "python",
   "pygments_lexer": "ipython3",
   "version": "3.10.8"
  }
 },
 "nbformat": 4,
 "nbformat_minor": 5
}
