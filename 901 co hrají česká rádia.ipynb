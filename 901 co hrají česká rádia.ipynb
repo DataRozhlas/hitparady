{
 "cells": [
  {
   "cell_type": "markdown",
   "id": "ca848ff5",
   "metadata": {},
   "source": [
    "Podklady pro články Anety Martínkové na iROZHLAS.cz v prosinci 2023."
   ]
  },
  {
   "cell_type": "code",
   "execution_count": 1,
   "id": "c22666e9",
   "metadata": {},
   "outputs": [],
   "source": [
    "import os\n",
    "import json\n",
    "import pandas as pd"
   ]
  },
  {
   "cell_type": "code",
   "execution_count": 2,
   "id": "639d80f0",
   "metadata": {},
   "outputs": [],
   "source": [
    "from src.tabulka import tabulka\n",
    "from src.graf import graf"
   ]
  },
  {
   "cell_type": "code",
   "execution_count": 3,
   "id": "c853f546",
   "metadata": {},
   "outputs": [],
   "source": [
    "df = pd.read_csv(os.path.join(\"data\",\"CZ_RADIO_TOP_100_tydenni.csv\"))\n",
    "wikid = pd.read_json(os.path.join(\"wikidata\",\"wikidata.json\"))\n",
    "df = df.merge(wikid, on=\"interpret_hlavni\", how=\"outer\")"
   ]
  },
  {
   "cell_type": "code",
   "execution_count": 4,
   "id": "30463c8a",
   "metadata": {},
   "outputs": [],
   "source": [
    "df = df.sort_values(by=['rok','tyden'])"
   ]
  },
  {
   "cell_type": "markdown",
   "id": "dc41c024",
   "metadata": {},
   "source": [
    "## Poslední týden v datech"
   ]
  },
  {
   "cell_type": "code",
   "execution_count": 5,
   "id": "c31d7eb6",
   "metadata": {},
   "outputs": [
    {
     "data": {
      "text/plain": [
       "'2023-47'"
      ]
     },
     "execution_count": 5,
     "metadata": {},
     "output_type": "execute_result"
    }
   ],
   "source": [
    "df['week'].dropna().drop_duplicates().sort_values().to_list()[-1]"
   ]
  },
  {
   "cell_type": "markdown",
   "id": "58119eb5",
   "metadata": {},
   "source": [
    "## Celkové statistiky od 1/2006"
   ]
  },
  {
   "cell_type": "markdown",
   "id": "d190e0ae",
   "metadata": {},
   "source": [
    "### Počet písní"
   ]
  },
  {
   "cell_type": "code",
   "execution_count": 6,
   "id": "2123611f",
   "metadata": {},
   "outputs": [
    {
     "data": {
      "text/plain": [
       "4994"
      ]
     },
     "execution_count": 6,
     "metadata": {},
     "output_type": "execute_result"
    }
   ],
   "source": [
    "len(df[['interpret_hlavni','track']].drop_duplicates())"
   ]
  },
  {
   "cell_type": "markdown",
   "id": "5dfc62a3",
   "metadata": {},
   "source": [
    "### Počet hlavních interpretů"
   ]
  },
  {
   "cell_type": "code",
   "execution_count": 7,
   "id": "3bb9c577",
   "metadata": {},
   "outputs": [
    {
     "data": {
      "text/plain": [
       "1935"
      ]
     },
     "execution_count": 7,
     "metadata": {},
     "output_type": "execute_result"
    }
   ],
   "source": [
    "len(df['interpret_hlavni'].drop_duplicates())"
   ]
  },
  {
   "cell_type": "markdown",
   "id": "99d3f1cc",
   "metadata": {},
   "source": [
    "### Z kolika zemí"
   ]
  },
  {
   "cell_type": "code",
   "execution_count": 8,
   "id": "a54fdc64",
   "metadata": {},
   "outputs": [
    {
     "data": {
      "text/plain": [
       "65"
      ]
     },
     "execution_count": 8,
     "metadata": {},
     "output_type": "execute_result"
    }
   ],
   "source": [
    "len(df['zeme_puvodu'].drop_duplicates())"
   ]
  },
  {
   "cell_type": "markdown",
   "id": "74d67c48",
   "metadata": {},
   "source": [
    "### Počet hitů č. 1"
   ]
  },
  {
   "cell_type": "code",
   "execution_count": 9,
   "id": "0631f16b",
   "metadata": {},
   "outputs": [
    {
     "data": {
      "text/plain": [
       "264"
      ]
     },
     "execution_count": 9,
     "metadata": {},
     "output_type": "execute_result"
    }
   ],
   "source": [
    "len(df[df['pozice'] == 1][['interpret_hlavni','track']].drop_duplicates())"
   ]
  },
  {
   "cell_type": "markdown",
   "id": "95a7d300",
   "metadata": {},
   "source": [
    "## Dominující interpreti (od roku 2006)"
   ]
  },
  {
   "cell_type": "markdown",
   "id": "2c67cfb5",
   "metadata": {},
   "source": [
    "### Podle „týdnopísniček“ v top 100"
   ]
  },
  {
   "cell_type": "code",
   "execution_count": 10,
   "id": "ff5b3704",
   "metadata": {},
   "outputs": [
    {
     "data": {
      "text/plain": [
       "interpret_hlavni\n",
       "Kryštof            1473\n",
       "Chinaski           1276\n",
       "Mirai              1195\n",
       "P!Nk               1117\n",
       "David Guetta       1091\n",
       "Marek Ztracený     1017\n",
       "Xindl X             881\n",
       "Lady Gaga           818\n",
       "Rihanna             759\n",
       "Slza                759\n",
       "Ed Sheeran          754\n",
       "Imagine Dragons     750\n",
       "Mandrage            731\n",
       "Katy Perry          721\n",
       "Michal Hrůza        668\n",
       "dtype: int64"
      ]
     },
     "execution_count": 10,
     "metadata": {},
     "output_type": "execute_result"
    }
   ],
   "source": [
    "df.groupby(\"interpret_hlavni\").size().nlargest(15)"
   ]
  },
  {
   "cell_type": "code",
   "execution_count": 83,
   "id": "4ef91883",
   "metadata": {},
   "outputs": [],
   "source": [
    "dominatori = df.groupby(\"interpret_hlavni\").size().nlargest(10).index.to_list()"
   ]
  },
  {
   "cell_type": "code",
   "execution_count": 84,
   "id": "e2c07a87",
   "metadata": {},
   "outputs": [],
   "source": [
    "dominatori_tydnopisnicky = pd.Series(df[df['interpret_hlavni'].isin(dominatori)].groupby(\"interpret_hlavni\").size().nlargest(10), name=\"Týdnopísniček v TOP 100\")"
   ]
  },
  {
   "cell_type": "code",
   "execution_count": 85,
   "id": "f8dd70c4",
   "metadata": {},
   "outputs": [
    {
     "data": {
      "text/plain": [
       "interpret_hlavni\n",
       "Kryštof           1473\n",
       "Chinaski          1276\n",
       "Mirai             1195\n",
       "P!Nk              1117\n",
       "David Guetta      1091\n",
       "Marek Ztracený    1017\n",
       "Xindl X            881\n",
       "Lady Gaga          818\n",
       "Rihanna            759\n",
       "Slza               759\n",
       "Name: Týdnopísniček v TOP 100, dtype: int64"
      ]
     },
     "execution_count": 85,
     "metadata": {},
     "output_type": "execute_result"
    }
   ],
   "source": [
    "dominatori_tydnopisnicky"
   ]
  },
  {
   "cell_type": "code",
   "execution_count": 86,
   "id": "87b63b00",
   "metadata": {},
   "outputs": [],
   "source": [
    "dominatori_tydny = pd.Series(df[df['interpret_hlavni'].isin(dominatori)].groupby(\"interpret_hlavni\")['week'].nunique().reindex(dominatori), name=\"Týdnů v TOP 100\")"
   ]
  },
  {
   "cell_type": "code",
   "execution_count": 87,
   "id": "bc20d50a",
   "metadata": {},
   "outputs": [],
   "source": [
    "dominatori_tydny_one = pd.Series(df[df['interpret_hlavni'].isin(dominatori) & (df['pozice'] == 1)].groupby(\"interpret_hlavni\")['week'].nunique().reindex(dominatori), name=\"Týdnů na vrcholu hitparády\")"
   ]
  },
  {
   "cell_type": "code",
   "execution_count": 88,
   "id": "3c178fa1",
   "metadata": {},
   "outputs": [
    {
     "data": {
      "text/plain": [
       "interpret_hlavni\n",
       "Kryštof           56.0\n",
       "Chinaski          39.0\n",
       "Mirai             30.0\n",
       "P!Nk              24.0\n",
       "David Guetta      13.0\n",
       "Marek Ztracený     3.0\n",
       "Xindl X           23.0\n",
       "Lady Gaga          8.0\n",
       "Rihanna           10.0\n",
       "Slza               NaN\n",
       "Name: Týdnů na vrcholu hitparády, dtype: float64"
      ]
     },
     "execution_count": 88,
     "metadata": {},
     "output_type": "execute_result"
    }
   ],
   "source": [
    "dominatori_tydny_one"
   ]
  },
  {
   "cell_type": "code",
   "execution_count": 108,
   "id": "4c73a3e2",
   "metadata": {},
   "outputs": [
    {
     "data": {
      "text/plain": [
       "interpret_hlavni\n",
       "Mirai              2.825059\n",
       "Lady Gaga          2.092545\n",
       "Ava Max            2.033019\n",
       "Marek Ztracený     1.937143\n",
       "Tatu               1.847826\n",
       "Rihanna            1.830918\n",
       "Madonna            1.819383\n",
       "Kryštof            1.812808\n",
       "Nelly Furtado      1.810256\n",
       "Inna               1.786207\n",
       "Bruno Mars         1.782427\n",
       "Wanastowi Vjecy    1.776000\n",
       "Slza               1.773364\n",
       "Ed Sheeran         1.757576\n",
       "Flipsyde           1.752688\n",
       "Katy Perry         1.718377\n",
       "Black Eyed Peas    1.714286\n",
       "Bob Sinclar        1.700680\n",
       "P!Nk               1.699237\n",
       "Jelen              1.684746\n",
       "Name: track, dtype: float64"
      ]
     },
     "execution_count": 108,
     "metadata": {},
     "output_type": "execute_result"
    }
   ],
   "source": [
    "df.groupby([\"week\",\"interpret_hlavni\"])['track'].nunique().reset_index().groupby(\"interpret_hlavni\")[\"track\"].mean().nlargest(20)"
   ]
  },
  {
   "cell_type": "code",
   "execution_count": 91,
   "id": "9390ed57",
   "metadata": {},
   "outputs": [
    {
     "data": {
      "text/plain": [
       "week     interpret_hlavni\n",
       "2019-49  Mirai               6\n",
       "2020-02  Mirai               6\n",
       "2020-04  Mirai               6\n",
       "2020-05  Mirai               6\n",
       "2020-06  Mirai               6\n",
       "2020-08  Mirai               6\n",
       "2020-09  Mirai               6\n",
       "2022-10  Mirai               6\n",
       "2022-12  Mirai               6\n",
       "2022-17  Mirai               6\n",
       "2022-32  Mirai               6\n",
       "2009-48  P!Nk                5\n",
       "2010-01  P!Nk                5\n",
       "2010-06  Black Eyed Peas     5\n",
       "2010-20  Inna                5\n",
       "         Lady Gaga           5\n",
       "2010-21  Inna                5\n",
       "         Lady Gaga           5\n",
       "2010-22  Inna                5\n",
       "2010-24  Inna                5\n",
       "2010-36  Lady Gaga           5\n",
       "2011-16  Lady Gaga           5\n",
       "2011-33  Lady Gaga           5\n",
       "2011-52  Lady Gaga           5\n",
       "2015-06  Avicii              5\n",
       "2018-17  Xindl X             5\n",
       "2019-35  Mirai               5\n",
       "2019-47  Mirai               5\n",
       "2020-03  Mirai               5\n",
       "2020-07  Mirai               5\n",
       "2020-10  Mirai               5\n",
       "2020-14  Kryštof             5\n",
       "2020-19  Mirai               5\n",
       "2020-20  Mirai               5\n",
       "2020-31  Mirai               5\n",
       "2020-34  Mirai               5\n",
       "2020-37  Mirai               5\n",
       "2020-38  Mirai               5\n",
       "2020-39  Mirai               5\n",
       "2022-03  Marek Ztracený      5\n",
       "         Mirai               5\n",
       "2022-05  Marek Ztracený      5\n",
       "2022-06  Mirai               5\n",
       "2022-07  Marek Ztracený      5\n",
       "         Mirai               5\n",
       "2022-08  Mirai               5\n",
       "2022-09  Mirai               5\n",
       "2022-11  Mirai               5\n",
       "2022-12  Marek Ztracený      5\n",
       "2022-13  Mirai               5\n",
       "Name: track, dtype: int64"
      ]
     },
     "execution_count": 91,
     "metadata": {},
     "output_type": "execute_result"
    }
   ],
   "source": [
    "df.groupby([\"week\",\"interpret_hlavni\"])['track'].nunique().nlargest(50)"
   ]
  },
  {
   "cell_type": "code",
   "execution_count": 100,
   "id": "389a05f4",
   "metadata": {},
   "outputs": [
    {
     "name": "stdout",
     "output_type": "stream",
     "text": [
      "Graf uložen.\n"
     ]
    }
   ],
   "source": [
    "graf(vodorovny=[dominatori_tydnopisnicky, dominatori_tydny, dominatori_tydny_one], target=\"top10\", titulek='Koho po roce 2006 nešlo přeslechnout', podtitulek=f'''Týdnopísničkou označujeme každou píseň v jednotlivých týdenních TOP 100. Například kapela Mirai hned v několika týdnech mezi lety 2019 a 2022 bodovala v hitparádě s rekordními 6 písněmi. Čím víc týdnopísní, tím nepřeslechnutelnější interpret je.''', kredity=[\"Zdroj dat: ifpicr.cz | Vizualizace: Michal Kašpárek, iROZHLAS.cz\",\"https://www.irozhlas.cz/zpravy-tag/datova-zurnalistika\"], prvni=True, osay=' ', osay2=' ', skladany=False, naopak=False, barvy=[\"#fd7f6f\",\"#7eb0d5\",\"#beb9db\"])"
   ]
  },
  {
   "cell_type": "markdown",
   "id": "c7fc7b0b",
   "metadata": {},
   "source": [
    "### Podle týdnů v top 100"
   ]
  },
  {
   "cell_type": "code",
   "execution_count": 11,
   "id": "2f9a6290",
   "metadata": {},
   "outputs": [
    {
     "data": {
      "text/plain": [
       "interpret_hlavni\n",
       "Kryštof            812\n",
       "Chinaski           786\n",
       "David Guetta       692\n",
       "P!Nk               655\n",
       "Xindl X            581\n",
       "Michal Hrůza       575\n",
       "Marek Ztracený     525\n",
       "Mandrage           520\n",
       "Onerepublic        485\n",
       "Imagine Dragons    477\n",
       "Coldplay           459\n",
       "Ed Sheeran         429\n",
       "Slza               428\n",
       "Mirai              423\n",
       "Katy Perry         419\n",
       "Rihanna            414\n",
       "Maroon 5           407\n",
       "Miro Žbirka        407\n",
       "No Name            400\n",
       "Anna K.            391\n",
       "Name: week, dtype: int64"
      ]
     },
     "execution_count": 11,
     "metadata": {},
     "output_type": "execute_result"
    }
   ],
   "source": [
    "df.groupby(\"interpret_hlavni\")['week'].nunique().nlargest(20)"
   ]
  },
  {
   "cell_type": "code",
   "execution_count": 12,
   "id": "95ae3d3c",
   "metadata": {},
   "outputs": [],
   "source": [
    "top10interpretu = df.groupby(\"interpret_hlavni\")['week'].nunique().nlargest(16).index.to_list()"
   ]
  },
  {
   "cell_type": "markdown",
   "id": "9f7368c2",
   "metadata": {},
   "source": [
    "### Podle týdnů na vrcholu hitparády"
   ]
  },
  {
   "cell_type": "code",
   "execution_count": 13,
   "id": "ecc2aa3f",
   "metadata": {},
   "outputs": [
    {
     "data": {
      "text/plain": [
       "interpret_hlavni\n",
       "Kryštof             56\n",
       "Chinaski            39\n",
       "Mirai               30\n",
       "Ed Sheeran          28\n",
       "Miley Cyrus         27\n",
       "Adele               24\n",
       "Nelly Furtado       24\n",
       "P!Nk                24\n",
       "Xindl X             23\n",
       "Lewis Capaldi       21\n",
       "Avicii              16\n",
       "Shakira             16\n",
       "David Guetta        14\n",
       "Ava Max             12\n",
       "Katy Perry          12\n",
       "Mandrage            12\n",
       "Sugababes           12\n",
       "The Weeknd          12\n",
       "Alesha Dixon        11\n",
       "Enrique Iglesias    11\n",
       "dtype: int64"
      ]
     },
     "execution_count": 13,
     "metadata": {},
     "output_type": "execute_result"
    }
   ],
   "source": [
    "df[df['pozice'] == 1].groupby('interpret_hlavni').size().nlargest(20)"
   ]
  },
  {
   "cell_type": "markdown",
   "id": "73b35822",
   "metadata": {},
   "source": [
    "### Podle písní na vrcholu hitparády"
   ]
  },
  {
   "cell_type": "code",
   "execution_count": 14,
   "id": "ce22d9f7",
   "metadata": {},
   "outputs": [],
   "source": [
    "topdeset = pd.DataFrame(df[df['pozice'] == 1].groupby('interpret_hlavni')['track'].nunique().nlargest(10)).reset_index()"
   ]
  },
  {
   "cell_type": "code",
   "execution_count": 15,
   "id": "5405af7f",
   "metadata": {},
   "outputs": [],
   "source": [
    "vsechny1 = pd.DataFrame(df[df['pozice'] == 1][['interpret_hlavni','track']].drop_duplicates().groupby('interpret_hlavni')['track'].agg(list)).reset_index()"
   ]
  },
  {
   "cell_type": "code",
   "execution_count": 16,
   "id": "70431f27",
   "metadata": {},
   "outputs": [],
   "source": [
    "topdeset = topdeset.merge(vsechny1, on='interpret_hlavni', how='inner')"
   ]
  },
  {
   "cell_type": "code",
   "execution_count": 17,
   "id": "8ba3de44",
   "metadata": {},
   "outputs": [],
   "source": [
    "topdeset = topdeset.rename(columns={'interpret_hlavni':'Interpreti','track_x':'#','track_y':'Tracky'})"
   ]
  },
  {
   "cell_type": "code",
   "execution_count": 18,
   "id": "a8613695",
   "metadata": {},
   "outputs": [],
   "source": [
    "topdeset['Tracky'] = topdeset['Tracky'].apply(lambda x: \" ~ \".join(x))"
   ]
  },
  {
   "cell_type": "code",
   "execution_count": 19,
   "id": "f5082992",
   "metadata": {},
   "outputs": [
    {
     "data": {
      "text/html": [
       "<div>\n",
       "<style scoped>\n",
       "    .dataframe tbody tr th:only-of-type {\n",
       "        vertical-align: middle;\n",
       "    }\n",
       "\n",
       "    .dataframe tbody tr th {\n",
       "        vertical-align: top;\n",
       "    }\n",
       "\n",
       "    .dataframe thead th {\n",
       "        text-align: right;\n",
       "    }\n",
       "</style>\n",
       "<table border=\"1\" class=\"dataframe\">\n",
       "  <thead>\n",
       "    <tr style=\"text-align: right;\">\n",
       "      <th></th>\n",
       "      <th>Interpreti</th>\n",
       "      <th>#</th>\n",
       "      <th>Tracky</th>\n",
       "    </tr>\n",
       "  </thead>\n",
       "  <tbody>\n",
       "    <tr>\n",
       "      <th>0</th>\n",
       "      <td>Chinaski</td>\n",
       "      <td>10</td>\n",
       "      <td>Vedoucí ~ Zadarmo ~ Hlavolam ~ Víno ~ Slovensk...</td>\n",
       "    </tr>\n",
       "    <tr>\n",
       "      <th>1</th>\n",
       "      <td>Kryštof</td>\n",
       "      <td>10</td>\n",
       "      <td>Rubikon ~ Atentát ~ Inzerát ~ Cesta ~ Srdcebea...</td>\n",
       "    </tr>\n",
       "    <tr>\n",
       "      <th>2</th>\n",
       "      <td>P!Nk</td>\n",
       "      <td>9</td>\n",
       "      <td>Who Knew ~ U &amp; UR Hand ~ So What ~ Sober ~ Rai...</td>\n",
       "    </tr>\n",
       "    <tr>\n",
       "      <th>3</th>\n",
       "      <td>Ed Sheeran</td>\n",
       "      <td>6</td>\n",
       "      <td>Shape of You ~ Perfect ~ I Don't Care ~ Bad Ha...</td>\n",
       "    </tr>\n",
       "    <tr>\n",
       "      <th>4</th>\n",
       "      <td>Adele</td>\n",
       "      <td>5</td>\n",
       "      <td>Someone Like You ~ Set Fire To The Rain ~ Skyf...</td>\n",
       "    </tr>\n",
       "    <tr>\n",
       "      <th>5</th>\n",
       "      <td>Avicii</td>\n",
       "      <td>5</td>\n",
       "      <td>Wake Me Up ~ Hey Brother ~ Addicted To You ~ W...</td>\n",
       "    </tr>\n",
       "    <tr>\n",
       "      <th>6</th>\n",
       "      <td>David Guetta</td>\n",
       "      <td>4</td>\n",
       "      <td>When Love Takes Over ~ Sexy Bitch ~ Lovers On ...</td>\n",
       "    </tr>\n",
       "    <tr>\n",
       "      <th>7</th>\n",
       "      <td>Enrique Iglesias</td>\n",
       "      <td>4</td>\n",
       "      <td>Do You Know ~ Can You Hear Me ~ Duele el Coraz...</td>\n",
       "    </tr>\n",
       "    <tr>\n",
       "      <th>8</th>\n",
       "      <td>Mirai</td>\n",
       "      <td>4</td>\n",
       "      <td>Když nemůžeš, tak přidej ~ Chci tančit ~ I pře...</td>\n",
       "    </tr>\n",
       "    <tr>\n",
       "      <th>9</th>\n",
       "      <td>Xindl X</td>\n",
       "      <td>4</td>\n",
       "      <td>Láska v housce ~ V blbým věku ~ Cudzinka v tvo...</td>\n",
       "    </tr>\n",
       "  </tbody>\n",
       "</table>\n",
       "</div>"
      ],
      "text/plain": [
       "         Interpreti   #                                             Tracky\n",
       "0          Chinaski  10  Vedoucí ~ Zadarmo ~ Hlavolam ~ Víno ~ Slovensk...\n",
       "1           Kryštof  10  Rubikon ~ Atentát ~ Inzerát ~ Cesta ~ Srdcebea...\n",
       "2              P!Nk   9  Who Knew ~ U & UR Hand ~ So What ~ Sober ~ Rai...\n",
       "3        Ed Sheeran   6  Shape of You ~ Perfect ~ I Don't Care ~ Bad Ha...\n",
       "4             Adele   5  Someone Like You ~ Set Fire To The Rain ~ Skyf...\n",
       "5            Avicii   5  Wake Me Up ~ Hey Brother ~ Addicted To You ~ W...\n",
       "6      David Guetta   4  When Love Takes Over ~ Sexy Bitch ~ Lovers On ...\n",
       "7  Enrique Iglesias   4  Do You Know ~ Can You Hear Me ~ Duele el Coraz...\n",
       "8             Mirai   4  Když nemůžeš, tak přidej ~ Chci tančit ~ I pře...\n",
       "9           Xindl X   4  Láska v housce ~ V blbým věku ~ Cudzinka v tvo..."
      ]
     },
     "execution_count": 19,
     "metadata": {},
     "output_type": "execute_result"
    }
   ],
   "source": [
    "topdeset"
   ]
  },
  {
   "cell_type": "code",
   "execution_count": 20,
   "id": "ed8444a0",
   "metadata": {},
   "outputs": [
    {
     "data": {
      "text/plain": [
       "'<table class=\"dataframe table table--responsive table--w100p table--striped-red table--plain\"><caption>Nejvíce hitů č. 1 v české rádiové hitparádě od roku 2006</caption><thead><tr style=\"text-align: right;\"><th class=\"text-nowrap\">Interpreti</th><th class=\"text-nowrap\">#</th><th class=\"text-nowrap\">Tracky</th></tr></thead><tbody class=\"text-sm\"><tr><td>Chinaski</td><td>10</td><td>Vedoucí ~ Zadarmo ~ Hlavolam ~ Víno ~ Slovenský klín ~ Není nám do pláče ~ Venku je na nule ~ Potkal jsem tě po letech ~ Láska a data ~ Měl bych si boty zout</td></tr><tr><td>Kryštof</td><td>10</td><td>Rubikon ~ Atentát ~ Inzerát ~ Cesta ~ Srdcebeat ~ Ty a já ~ Zůstaň tu se mnou (Za sny) ~ Hvězdáři (feat. Sima Martausová) ~ Hned teď (pojď být světlometem) ~ Vánoční</td></tr><tr><td>P!Nk</td><td>9</td><td>Who Knew ~ U &amp; UR Hand ~ So What ~ Sober ~ Raise Your Glass ~ Just Give Me A Reason ~ What About Us ~ Irrelevant ~ Runaway</td></tr><tr><td>Ed Sheeran</td><td>6</td><td>Shape of You ~ Perfect ~ I Don’t Care ~ Bad Habits ~ Overpass Graffiti ~ 2step</td></tr><tr><td>Adele</td><td>5</td><td>Someone Like You ~ Set Fire To The Rain ~ Skyfall ~ Hello ~ Easy On Me</td></tr><tr><td>Avicii</td><td>5</td><td>Wake Me Up ~ Hey Brother ~ Addicted To You ~ Without You ~ S.O.S.</td></tr><tr><td>David Guetta</td><td>4</td><td>When Love Takes Over ~ Sexy Bitch ~ Lovers On The Sun ~ Flames</td></tr><tr><td>Enrique Iglesias</td><td>4</td><td>Do You Know ~ Can You Hear Me ~ Duele el Corazon ~ SUBEME LA RADIO</td></tr><tr><td>Mirai</td><td>4</td><td>Když nemůžeš, tak přidej ~ Chci tančit ~ I přes to všechno ~ Vedle tebe usínám</td></tr><tr><td>Xindl X</td><td>4</td><td>Láska v housce ~ V blbým věku ~ Cudzinka v tvojej zemi ~ Popelka</td></tr></tbody></table>'"
      ]
     },
     "execution_count": 20,
     "metadata": {},
     "output_type": "execute_result"
    }
   ],
   "source": [
    "tabulka(topdeset, titulek='Nejvíce hitů č. 1 v české rádiové hitparádě od roku 2006')"
   ]
  },
  {
   "cell_type": "markdown",
   "id": "03315758",
   "metadata": {},
   "source": [
    "## Graf dominujících interpretů"
   ]
  },
  {
   "cell_type": "code",
   "execution_count": 21,
   "id": "8d22a882",
   "metadata": {},
   "outputs": [],
   "source": [
    "vsechnytydny = [x for x in df['week'].drop_duplicates().to_list() if len(str(x)) == 7]"
   ]
  },
  {
   "cell_type": "code",
   "execution_count": 22,
   "id": "a2d137ea",
   "metadata": {},
   "outputs": [],
   "source": [
    "def nejvyssi_pozice_interpreta(x):\n",
    "    pracovni = pd.Series(df[df['interpret_hlavni'] == x].groupby('week')['pozice'].min(), name=x)\n",
    "    pracovni = pracovni.reindex(vsechnytydny, fill_value=101).sort_index()\n",
    "    return pracovni"
   ]
  },
  {
   "cell_type": "code",
   "execution_count": 23,
   "id": "bbc1c74e",
   "metadata": {},
   "outputs": [
    {
     "data": {
      "text/plain": [
       "week\n",
       "2006-01    101.0\n",
       "2006-02    101.0\n",
       "2006-03    101.0\n",
       "2006-04    101.0\n",
       "2006-05    101.0\n",
       "           ...  \n",
       "2023-43    101.0\n",
       "2023-44    101.0\n",
       "2023-45    101.0\n",
       "2023-46    101.0\n",
       "2023-47    101.0\n",
       "Name: Karel Gott, Length: 913, dtype: float64"
      ]
     },
     "execution_count": 23,
     "metadata": {},
     "output_type": "execute_result"
    }
   ],
   "source": [
    "nejvyssi_pozice_interpreta(\"Karel Gott\")"
   ]
  },
  {
   "cell_type": "code",
   "execution_count": 24,
   "id": "fffa1388",
   "metadata": {},
   "outputs": [],
   "source": [
    "graf_interpretu = []\n",
    "for i in top10interpretu:\n",
    "    graf_interpretu.append(nejvyssi_pozice_interpreta(i))"
   ]
  },
  {
   "cell_type": "code",
   "execution_count": 25,
   "id": "bbfab891",
   "metadata": {
    "scrolled": true
   },
   "outputs": [
    {
     "name": "stdout",
     "output_type": "stream",
     "text": [
      "Graf uložen.\n"
     ]
    }
   ],
   "source": [
    "graf(carovy=graf_interpretu, target=\"pozoruhodni_interpreti\", titulek='Nejvyšší hitparádové pozice nejzastoupenějších interpretů', podtitulek=f'''Hitparádové dráhy šestnácti interpretů, kteří zaznamenali nejvíce týdnů s alespoň jednou písní mezi stovkou nejhranějších v českých rádiích.''', kredity=[\"Zdroj dat: ifpicr.cz | Vizualizace: Michal Kašpárek, iROZHLAS.cz\",\"https://www.irozhlas.cz/zpravy-tag/datova-zurnalistika\"], prvni=True, osay=' ', osay2=' ', skladany=False, naopak=False, vzhurunohama=True, osaymin=1, osaymax=100, skryte=graf_interpretu[2:])"
   ]
  },
  {
   "cell_type": "markdown",
   "id": "ad4db8b2",
   "metadata": {},
   "source": [
    "## Země původu"
   ]
  },
  {
   "cell_type": "code",
   "execution_count": 26,
   "id": "820da2f9",
   "metadata": {},
   "outputs": [
    {
     "data": {
      "text/plain": [
       "Index(['hitparada', 'rok', 'tyden', 'week', 'pozice', 'track', 'interpret',\n",
       "       'interpret_hlavni', 'vydavatel', 'id', 'stazeno', 'nazev_wiki',\n",
       "       'popis_en', 'popis_cs', 'velikost', 'zanry', 'datum_narozeni',\n",
       "       'datum_umrti', 'zacatek_pusobeni', 'konec_pusobeni', 'zalozeni',\n",
       "       'zanik', 'gender', 'misto_puvodu', 'zeme_puvodu', 'obcanstvi',\n",
       "       'etnicita', 'hlas', 'nastroje', 'oceneni', 'nabozenstvi', 'orientace',\n",
       "       'spotify_id', 'spotify_odberatele'],\n",
       "      dtype='object')"
      ]
     },
     "execution_count": 26,
     "metadata": {},
     "output_type": "execute_result"
    }
   ],
   "source": [
    "df.columns"
   ]
  },
  {
   "cell_type": "code",
   "execution_count": 27,
   "id": "52cdedd6",
   "metadata": {},
   "outputs": [
    {
     "data": {
      "text/plain": [
       "0.07907002188183808"
      ]
     },
     "execution_count": 27,
     "metadata": {},
     "output_type": "execute_result"
    }
   ],
   "source": [
    "len(df[(~df['rok'].isnull()) & (df['zeme_puvodu'].isnull())]) / len(df[(~df['rok'].isnull())])"
   ]
  },
  {
   "cell_type": "code",
   "execution_count": 28,
   "id": "6f65dbcc",
   "metadata": {},
   "outputs": [
    {
     "data": {
      "text/plain": [
       "zeme_puvodu\n",
       "Česko                             24997\n",
       "Spojené státy americké            22216\n",
       "Spojené království                14127\n",
       "Německo                            2776\n",
       "Kanada                             2513\n",
       "Francie                            2295\n",
       "Švédsko                            2075\n",
       "Slovensko                          1946\n",
       "Austrálie                          1294\n",
       "Nizozemsko                         1145\n",
       "Španělsko                           954\n",
       "Barbados                            768\n",
       "Belgie                              758\n",
       "Rumunsko                            735\n",
       "Irsko                               597\n",
       "Švýcarsko                           513\n",
       "Kolumbie                            492\n",
       "Itálie                              489\n",
       "Finsko                              466\n",
       "Britské impérium                    348\n",
       "Rusko                               299\n",
       "Jamajka                             276\n",
       "Norsko                              246\n",
       "Kosovo                              235\n",
       "Libanon                             200\n",
       "Dánsko                              198\n",
       "Senegal                             177\n",
       "Brazílie                            171\n",
       "Island                              142\n",
       "Konžská demokratická republika      140\n",
       "Jihoafrická republika               109\n",
       "Polsko                              109\n",
       "Litva                               104\n",
       "Nový Zéland                         101\n",
       "Rakousko                            101\n",
       "Alžírsko                             76\n",
       "Trinidad a Tobago                    65\n",
       "Írán                                 58\n",
       "Izrael                               42\n",
       "Kuba                                 42\n",
       "Kazachstán                           37\n",
       "Arménie                              35\n",
       "Nizozemské království                33\n",
       "Jižní Korea                          29\n",
       "Malajsie                             22\n",
       "Turecko                              20\n",
       "Somálsko                             14\n",
       "Čína                                 12\n",
       "Nigérie                              10\n",
       "Filipíny                              9\n",
       "Maroko                                8\n",
       "Mexiko                                8\n",
       "Jemen                                 6\n",
       "Papua Nová Guinea                     6\n",
       "Japonsko                              5\n",
       "Surinam                               4\n",
       "Ghana                                 3\n",
       "Argentina                             1\n",
       "Bělorusko                             1\n",
       "Haiti                                 1\n",
       "dtype: int64"
      ]
     },
     "execution_count": 28,
     "metadata": {},
     "output_type": "execute_result"
    }
   ],
   "source": [
    "df.groupby('zeme_puvodu').size().nlargest(60)"
   ]
  },
  {
   "cell_type": "code",
   "execution_count": 29,
   "id": "05bbc43a",
   "metadata": {},
   "outputs": [],
   "source": [
    "top3 = df.groupby('zeme_puvodu').size().nlargest(3).index.to_list()"
   ]
  },
  {
   "cell_type": "code",
   "execution_count": 30,
   "id": "dd1289c4",
   "metadata": {},
   "outputs": [],
   "source": [
    "procentotop3 = int(len(df[df['zeme_puvodu'].isin(top3)]) / len(df) * 100)"
   ]
  },
  {
   "cell_type": "code",
   "execution_count": 31,
   "id": "87dc7326",
   "metadata": {},
   "outputs": [],
   "source": [
    "chcu = ['Česko','Spojené státy americké','Spojené království','Německo','Slovensko','Kanada','Francie','Švédsko']"
   ]
  },
  {
   "cell_type": "code",
   "execution_count": 32,
   "id": "31d60c77",
   "metadata": {},
   "outputs": [],
   "source": [
    "nechcu = ['nezjištěno','ostatní']"
   ]
  },
  {
   "cell_type": "code",
   "execution_count": 33,
   "id": "4d0b4893",
   "metadata": {},
   "outputs": [],
   "source": [
    "def puvod_pro_graf(x):\n",
    "    if x in chcu:\n",
    "        return x\n",
    "    if x == None:\n",
    "        return \"nezjištěno\"\n",
    "    else:\n",
    "        return 'ostatní'"
   ]
  },
  {
   "cell_type": "code",
   "execution_count": 34,
   "id": "fdb62a47",
   "metadata": {},
   "outputs": [],
   "source": [
    "df['odkud'] = df['zeme_puvodu'].apply(lambda x: puvod_pro_graf(x))"
   ]
  },
  {
   "cell_type": "code",
   "execution_count": 35,
   "id": "1f3bb4f5",
   "metadata": {},
   "outputs": [],
   "source": [
    "roky = [int(x) for x in df['rok'].drop_duplicates().dropna().tolist()]"
   ]
  },
  {
   "cell_type": "code",
   "execution_count": 36,
   "id": "b425bceb",
   "metadata": {},
   "outputs": [],
   "source": [
    "zastoupeni_zemi = []\n",
    "for z in chcu + nechcu:\n",
    "    zastoupeni_zemi.append(pd.Series(df[df['odkud']==z].groupby('rok').size() / df.groupby('rok').size(), name=z).reindex(roky))"
   ]
  },
  {
   "cell_type": "code",
   "execution_count": 37,
   "id": "7d56297b",
   "metadata": {},
   "outputs": [
    {
     "name": "stdout",
     "output_type": "stream",
     "text": [
      "Graf uložen.\n"
     ]
    }
   ],
   "source": [
    "graf(carovy=zastoupeni_zemi, target=\"zastoupeni_zemi\", titulek='Zastoupení zemí v týdenních žebříčcích 100 nejhranějších písní', podtitulek=f'''{procentotop3} % jednotlivých příček připadá na kapely či jednotlivce z Česka, Spojených států a Spojeného království.''', kredity=[\"Zdroj dat: ifpicr.cz | Vizualizace: Michal Kašpárek, iROZHLAS.cz\",\"https://www.irozhlas.cz/zpravy-tag/datova-zurnalistika\"], procenta=zastoupeni_zemi, prvni=True, osay=' ', osay2=' ', skladany=False, naopak=False, skryte=zastoupeni_zemi[3:])"
   ]
  },
  {
   "cell_type": "markdown",
   "id": "f861a0e2",
   "metadata": {},
   "source": [
    "## Jedničky za jednotlivé země"
   ]
  },
  {
   "cell_type": "code",
   "execution_count": 38,
   "id": "bd84b555",
   "metadata": {},
   "outputs": [],
   "source": [
    "df['pisen'] = df.apply(lambda x: f\"\"\"{x['interpret_hlavni']}: {x['track']}\"\"\", axis = 1)"
   ]
  },
  {
   "cell_type": "code",
   "execution_count": 39,
   "id": "eba6c69a",
   "metadata": {},
   "outputs": [
    {
     "data": {
      "text/html": [
       "<div>\n",
       "<style scoped>\n",
       "    .dataframe tbody tr th:only-of-type {\n",
       "        vertical-align: middle;\n",
       "    }\n",
       "\n",
       "    .dataframe tbody tr th {\n",
       "        vertical-align: top;\n",
       "    }\n",
       "\n",
       "    .dataframe thead th {\n",
       "        text-align: right;\n",
       "    }\n",
       "</style>\n",
       "<table border=\"1\" class=\"dataframe\">\n",
       "  <thead>\n",
       "    <tr style=\"text-align: right;\">\n",
       "      <th></th>\n",
       "      <th>pisen</th>\n",
       "      <th>week</th>\n",
       "    </tr>\n",
       "    <tr>\n",
       "      <th>zeme_puvodu</th>\n",
       "      <th></th>\n",
       "      <th></th>\n",
       "    </tr>\n",
       "  </thead>\n",
       "  <tbody>\n",
       "    <tr>\n",
       "      <th>Spojené státy americké</th>\n",
       "      <td>Madonna: Hung Up</td>\n",
       "      <td>2006-01</td>\n",
       "    </tr>\n",
       "    <tr>\n",
       "      <th>Kolumbie</th>\n",
       "      <td>Juanes: La camisa negra</td>\n",
       "      <td>2006-04</td>\n",
       "    </tr>\n",
       "    <tr>\n",
       "      <th>Spojené království</th>\n",
       "      <td>James Blunt: Wisemen</td>\n",
       "      <td>2006-06</td>\n",
       "    </tr>\n",
       "    <tr>\n",
       "      <th>Česko</th>\n",
       "      <td>Helena Zeťová: Impossible (Unstoppable)</td>\n",
       "      <td>2006-11</td>\n",
       "    </tr>\n",
       "    <tr>\n",
       "      <th>Francie</th>\n",
       "      <td>Bob Sinclar: Love Generation</td>\n",
       "      <td>2006-12</td>\n",
       "    </tr>\n",
       "    <tr>\n",
       "      <th>Slovensko</th>\n",
       "      <td>Peha: Spomal</td>\n",
       "      <td>2006-45</td>\n",
       "    </tr>\n",
       "    <tr>\n",
       "      <th>Kanada</th>\n",
       "      <td>Nelly Furtado: All Good Things</td>\n",
       "      <td>2007-12</td>\n",
       "    </tr>\n",
       "    <tr>\n",
       "      <th>Libanon</th>\n",
       "      <td>Mika: Relax (Take It Easy)</td>\n",
       "      <td>2007-19</td>\n",
       "    </tr>\n",
       "    <tr>\n",
       "      <th>Španělsko</th>\n",
       "      <td>Enrique Iglesias: Do You Know</td>\n",
       "      <td>2007-43</td>\n",
       "    </tr>\n",
       "    <tr>\n",
       "      <th>Rumunsko</th>\n",
       "      <td>Morandi: Angels</td>\n",
       "      <td>2008-28</td>\n",
       "    </tr>\n",
       "    <tr>\n",
       "      <th>Barbados</th>\n",
       "      <td>Rihanna: Russian Roulette</td>\n",
       "      <td>2010-08</td>\n",
       "    </tr>\n",
       "    <tr>\n",
       "      <th>Belgie</th>\n",
       "      <td>Stromae: Alors On Danse</td>\n",
       "      <td>2010-23</td>\n",
       "    </tr>\n",
       "    <tr>\n",
       "      <th>Itálie</th>\n",
       "      <td>Get Far: Radio</td>\n",
       "      <td>2010-29</td>\n",
       "    </tr>\n",
       "    <tr>\n",
       "      <th>Austrálie</th>\n",
       "      <td>Yolanda Be Cool: We No Speak Americano</td>\n",
       "      <td>2010-31</td>\n",
       "    </tr>\n",
       "    <tr>\n",
       "      <th>Jihoafrická republika</th>\n",
       "      <td>Velile: Helele</td>\n",
       "      <td>2010-44</td>\n",
       "    </tr>\n",
       "    <tr>\n",
       "      <th>Švýcarsko</th>\n",
       "      <td>Dj Antoine: Ma Cherie</td>\n",
       "      <td>2012-19</td>\n",
       "    </tr>\n",
       "    <tr>\n",
       "      <th>Alžírsko</th>\n",
       "      <td>Khaled: C´est la vie</td>\n",
       "      <td>2013-29</td>\n",
       "    </tr>\n",
       "    <tr>\n",
       "      <th>Švédsko</th>\n",
       "      <td>Avicii: Wake Me Up</td>\n",
       "      <td>2013-32</td>\n",
       "    </tr>\n",
       "    <tr>\n",
       "      <th>Německo</th>\n",
       "      <td>Milky Chance: Stolen Dance</td>\n",
       "      <td>2014-13</td>\n",
       "    </tr>\n",
       "    <tr>\n",
       "      <th>Nizozemsko</th>\n",
       "      <td>Mr. Probz: Waves</td>\n",
       "      <td>2014-24</td>\n",
       "    </tr>\n",
       "    <tr>\n",
       "      <th>Irsko</th>\n",
       "      <td>Hozier: Take Me To Church</td>\n",
       "      <td>2015-04</td>\n",
       "    </tr>\n",
       "    <tr>\n",
       "      <th>Jamajka</th>\n",
       "      <td>Omi: Cheerleader</td>\n",
       "      <td>2015-23</td>\n",
       "    </tr>\n",
       "    <tr>\n",
       "      <th>Britské impérium</th>\n",
       "      <td>Kygo: Firestone</td>\n",
       "      <td>2015-26</td>\n",
       "    </tr>\n",
       "    <tr>\n",
       "      <th>Norsko</th>\n",
       "      <td>Madcon: Don't Worry</td>\n",
       "      <td>2015-29</td>\n",
       "    </tr>\n",
       "    <tr>\n",
       "      <th>Kosovo</th>\n",
       "      <td>Regard: Ride It</td>\n",
       "      <td>2020-03</td>\n",
       "    </tr>\n",
       "  </tbody>\n",
       "</table>\n",
       "</div>"
      ],
      "text/plain": [
       "                                                          pisen     week\n",
       "zeme_puvodu                                                             \n",
       "Spojené státy americké                         Madonna: Hung Up  2006-01\n",
       "Kolumbie                                Juanes: La camisa negra  2006-04\n",
       "Spojené království                         James Blunt: Wisemen  2006-06\n",
       "Česko                   Helena Zeťová: Impossible (Unstoppable)  2006-11\n",
       "Francie                            Bob Sinclar: Love Generation  2006-12\n",
       "Slovensko                                          Peha: Spomal  2006-45\n",
       "Kanada                           Nelly Furtado: All Good Things  2007-12\n",
       "Libanon                              Mika: Relax (Take It Easy)  2007-19\n",
       "Španělsko                         Enrique Iglesias: Do You Know  2007-43\n",
       "Rumunsko                                        Morandi: Angels  2008-28\n",
       "Barbados                              Rihanna: Russian Roulette  2010-08\n",
       "Belgie                                  Stromae: Alors On Danse  2010-23\n",
       "Itálie                                           Get Far: Radio  2010-29\n",
       "Austrálie                Yolanda Be Cool: We No Speak Americano  2010-31\n",
       "Jihoafrická republika                            Velile: Helele  2010-44\n",
       "Švýcarsko                                 Dj Antoine: Ma Cherie  2012-19\n",
       "Alžírsko                                   Khaled: C´est la vie  2013-29\n",
       "Švédsko                                      Avicii: Wake Me Up  2013-32\n",
       "Německo                              Milky Chance: Stolen Dance  2014-13\n",
       "Nizozemsko                                     Mr. Probz: Waves  2014-24\n",
       "Irsko                                 Hozier: Take Me To Church  2015-04\n",
       "Jamajka                                        Omi: Cheerleader  2015-23\n",
       "Britské impérium                                Kygo: Firestone  2015-26\n",
       "Norsko                                      Madcon: Don't Worry  2015-29\n",
       "Kosovo                                          Regard: Ride It  2020-03"
      ]
     },
     "execution_count": 39,
     "metadata": {},
     "output_type": "execute_result"
    }
   ],
   "source": [
    "df[df['pozice'] == 1].groupby('zeme_puvodu')[['pisen','week']].first().sort_values(by='week')"
   ]
  },
  {
   "cell_type": "markdown",
   "id": "78ad13b1",
   "metadata": {},
   "source": [
    "## Zastoupenost žánrů"
   ]
  },
  {
   "cell_type": "code",
   "execution_count": 40,
   "id": "0d945b40",
   "metadata": {},
   "outputs": [],
   "source": [
    "zanry = df.explode('zanry')"
   ]
  },
  {
   "cell_type": "code",
   "execution_count": 41,
   "id": "bb919f20",
   "metadata": {},
   "outputs": [],
   "source": [
    "def ze_slovniku(slovnik, druhysloupec):\n",
    "    with open(os.path.join(\"data_rucni\",slovnik), 'r', encoding='utf-8') as file:\n",
    "        frejm = pd.DataFrame(json.load(file), index=[0]).transpose().reset_index()\n",
    "        frejm = frejm.rename(columns = { \"index\" : \"zanry\", 0 : druhysloupec})\n",
    "    return frejm"
   ]
  },
  {
   "cell_type": "code",
   "execution_count": 42,
   "id": "131e8834",
   "metadata": {},
   "outputs": [],
   "source": [
    "zanry_kratce = ze_slovniku('zanry_klasik.json','zanry_kratce')\n",
    "zanry_prvky = ze_slovniku('zanry_prvky.json','zanry_prvky')\n",
    "zanry = zanry.merge(zanry_kratce, on='zanry', how=\"outer\")\n",
    "zanry = zanry.merge(zanry_prvky, on='zanry', how=\"outer\")"
   ]
  },
  {
   "cell_type": "code",
   "execution_count": 43,
   "id": "7129dfc2",
   "metadata": {},
   "outputs": [
    {
     "data": {
      "text/plain": [
       "['pop',\n",
       " 'elektronická taneční hudba',\n",
       " 'elektronická hudba',\n",
       " 'rock',\n",
       " 'soul a R&B',\n",
       " 'jazz',\n",
       " 'folk a country',\n",
       " 'latinskoamerická hudba',\n",
       " nan,\n",
       " 'hip hop a rap',\n",
       " 'jamajská hudba',\n",
       " 'různé',\n",
       " 'blues',\n",
       " 'alternativní metal',\n",
       " 'metal',\n",
       " 'indie rock',\n",
       " 'indie pop',\n",
       " 'disco',\n",
       " 'mluvené slovo',\n",
       " 'alternativní hudba',\n",
       " 'klasická hudba',\n",
       " 'šanson',\n",
       " 'filmová hudba']"
      ]
     },
     "execution_count": 43,
     "metadata": {},
     "output_type": "execute_result"
    }
   ],
   "source": [
    "kratke_zanry = zanry['zanry_kratce'].drop_duplicates().to_list()\n",
    "kratke_zanry"
   ]
  },
  {
   "cell_type": "code",
   "execution_count": 44,
   "id": "c886c2d0",
   "metadata": {
    "scrolled": true
   },
   "outputs": [
    {
     "data": {
      "text/html": [
       "<div>\n",
       "<style scoped>\n",
       "    .dataframe tbody tr th:only-of-type {\n",
       "        vertical-align: middle;\n",
       "    }\n",
       "\n",
       "    .dataframe tbody tr th {\n",
       "        vertical-align: top;\n",
       "    }\n",
       "\n",
       "    .dataframe thead th {\n",
       "        text-align: right;\n",
       "    }\n",
       "</style>\n",
       "<table border=\"1\" class=\"dataframe\">\n",
       "  <thead>\n",
       "    <tr style=\"text-align: right;\">\n",
       "      <th></th>\n",
       "      <th>hitparada</th>\n",
       "      <th>rok</th>\n",
       "      <th>tyden</th>\n",
       "      <th>week</th>\n",
       "      <th>pozice</th>\n",
       "      <th>track</th>\n",
       "      <th>interpret</th>\n",
       "      <th>interpret_hlavni</th>\n",
       "      <th>vydavatel</th>\n",
       "      <th>id</th>\n",
       "      <th>...</th>\n",
       "      <th>nastroje</th>\n",
       "      <th>oceneni</th>\n",
       "      <th>nabozenstvi</th>\n",
       "      <th>orientace</th>\n",
       "      <th>spotify_id</th>\n",
       "      <th>spotify_odberatele</th>\n",
       "      <th>odkud</th>\n",
       "      <th>pisen</th>\n",
       "      <th>zanry_kratce</th>\n",
       "      <th>zanry_prvky</th>\n",
       "    </tr>\n",
       "  </thead>\n",
       "  <tbody>\n",
       "    <tr>\n",
       "      <th>0</th>\n",
       "      <td>CZ - RADIO - TOP 100</td>\n",
       "      <td>2006.0</td>\n",
       "      <td>1.0</td>\n",
       "      <td>2006-01</td>\n",
       "      <td>1.0</td>\n",
       "      <td>Hung Up</td>\n",
       "      <td>Madonna</td>\n",
       "      <td>Madonna</td>\n",
       "      <td>Warner Music</td>\n",
       "      <td>Q1744</td>\n",
       "      <td>...</td>\n",
       "      <td>[kytara, bicí souprava, ukulele, hlas]</td>\n",
       "      <td>[Cena Grammy za nejlepší hudební film, Cena Gr...</td>\n",
       "      <td>None</td>\n",
       "      <td>[bisexualita]</td>\n",
       "      <td>6tbjWDEIzxoDsBA1FuhfPW</td>\n",
       "      <td>4831402.0</td>\n",
       "      <td>Spojené státy americké</td>\n",
       "      <td>Madonna: Hung Up</td>\n",
       "      <td>pop</td>\n",
       "      <td>zpěv</td>\n",
       "    </tr>\n",
       "    <tr>\n",
       "      <th>1</th>\n",
       "      <td>CZ - RADIO - TOP 100</td>\n",
       "      <td>2006.0</td>\n",
       "      <td>1.0</td>\n",
       "      <td>2006-01</td>\n",
       "      <td>3.0</td>\n",
       "      <td>Push The Button</td>\n",
       "      <td>Sugababes</td>\n",
       "      <td>Sugababes</td>\n",
       "      <td>Universal Music</td>\n",
       "      <td>Q193697</td>\n",
       "      <td>...</td>\n",
       "      <td>None</td>\n",
       "      <td>None</td>\n",
       "      <td>None</td>\n",
       "      <td>None</td>\n",
       "      <td>7rZNSLWMjTbwdLNskFbzFf</td>\n",
       "      <td>NaN</td>\n",
       "      <td>Spojené království</td>\n",
       "      <td>Sugababes: Push The Button</td>\n",
       "      <td>pop</td>\n",
       "      <td>zpěv</td>\n",
       "    </tr>\n",
       "    <tr>\n",
       "      <th>2</th>\n",
       "      <td>CZ - RADIO - TOP 100</td>\n",
       "      <td>2006.0</td>\n",
       "      <td>1.0</td>\n",
       "      <td>2006-01</td>\n",
       "      <td>4.0</td>\n",
       "      <td>Tripping</td>\n",
       "      <td>Robbie Williams</td>\n",
       "      <td>Robbie Williams</td>\n",
       "      <td>Warner Music</td>\n",
       "      <td>Q47875</td>\n",
       "      <td>...</td>\n",
       "      <td>[hlas, kytara, basová kytara, klávesový nástro...</td>\n",
       "      <td>[Amadeus Austrian Music Awards, Premios Oye!]</td>\n",
       "      <td>None</td>\n",
       "      <td>None</td>\n",
       "      <td>2HcwFjNelS49kFbfvMxQYw</td>\n",
       "      <td>NaN</td>\n",
       "      <td>Spojené království</td>\n",
       "      <td>Robbie Williams: Tripping</td>\n",
       "      <td>pop</td>\n",
       "      <td>zpěv</td>\n",
       "    </tr>\n",
       "    <tr>\n",
       "      <th>3</th>\n",
       "      <td>CZ - RADIO - TOP 100</td>\n",
       "      <td>2006.0</td>\n",
       "      <td>1.0</td>\n",
       "      <td>2006-01</td>\n",
       "      <td>9.0</td>\n",
       "      <td>All About Us</td>\n",
       "      <td>Tatu</td>\n",
       "      <td>Tatu</td>\n",
       "      <td>Universal Music</td>\n",
       "      <td>Q161723</td>\n",
       "      <td>...</td>\n",
       "      <td>None</td>\n",
       "      <td>None</td>\n",
       "      <td>None</td>\n",
       "      <td>None</td>\n",
       "      <td>7902s7cvHtLQV3K7875DAz</td>\n",
       "      <td>NaN</td>\n",
       "      <td>ostatní</td>\n",
       "      <td>Tatu: All About Us</td>\n",
       "      <td>pop</td>\n",
       "      <td>zpěv</td>\n",
       "    </tr>\n",
       "    <tr>\n",
       "      <th>4</th>\n",
       "      <td>CZ - RADIO - TOP 100</td>\n",
       "      <td>2006.0</td>\n",
       "      <td>1.0</td>\n",
       "      <td>2006-01</td>\n",
       "      <td>12.0</td>\n",
       "      <td>Cool</td>\n",
       "      <td>Gwen Stefani</td>\n",
       "      <td>Gwen Stefani</td>\n",
       "      <td>Universal Music</td>\n",
       "      <td>Q483379</td>\n",
       "      <td>...</td>\n",
       "      <td>[hlas]</td>\n",
       "      <td>[American Music Award for Favorite Pop/Rock Fe...</td>\n",
       "      <td>[katolická církev]</td>\n",
       "      <td>None</td>\n",
       "      <td>4yiQZ8tQPux8cPriYMWUFP</td>\n",
       "      <td>NaN</td>\n",
       "      <td>Spojené státy americké</td>\n",
       "      <td>Gwen Stefani: Cool</td>\n",
       "      <td>pop</td>\n",
       "      <td>zpěv</td>\n",
       "    </tr>\n",
       "    <tr>\n",
       "      <th>...</th>\n",
       "      <td>...</td>\n",
       "      <td>...</td>\n",
       "      <td>...</td>\n",
       "      <td>...</td>\n",
       "      <td>...</td>\n",
       "      <td>...</td>\n",
       "      <td>...</td>\n",
       "      <td>...</td>\n",
       "      <td>...</td>\n",
       "      <td>...</td>\n",
       "      <td>...</td>\n",
       "      <td>...</td>\n",
       "      <td>...</td>\n",
       "      <td>...</td>\n",
       "      <td>...</td>\n",
       "      <td>...</td>\n",
       "      <td>...</td>\n",
       "      <td>...</td>\n",
       "      <td>...</td>\n",
       "      <td>...</td>\n",
       "      <td>...</td>\n",
       "    </tr>\n",
       "    <tr>\n",
       "      <th>289994</th>\n",
       "      <td>NaN</td>\n",
       "      <td>NaN</td>\n",
       "      <td>NaN</td>\n",
       "      <td>NaN</td>\n",
       "      <td>NaN</td>\n",
       "      <td>NaN</td>\n",
       "      <td>NaN</td>\n",
       "      <td>NaN</td>\n",
       "      <td>NaN</td>\n",
       "      <td>NaN</td>\n",
       "      <td>...</td>\n",
       "      <td>NaN</td>\n",
       "      <td>NaN</td>\n",
       "      <td>NaN</td>\n",
       "      <td>NaN</td>\n",
       "      <td>NaN</td>\n",
       "      <td>NaN</td>\n",
       "      <td>NaN</td>\n",
       "      <td>NaN</td>\n",
       "      <td>metal</td>\n",
       "      <td>kytara</td>\n",
       "    </tr>\n",
       "    <tr>\n",
       "      <th>289995</th>\n",
       "      <td>NaN</td>\n",
       "      <td>NaN</td>\n",
       "      <td>NaN</td>\n",
       "      <td>NaN</td>\n",
       "      <td>NaN</td>\n",
       "      <td>NaN</td>\n",
       "      <td>NaN</td>\n",
       "      <td>NaN</td>\n",
       "      <td>NaN</td>\n",
       "      <td>NaN</td>\n",
       "      <td>...</td>\n",
       "      <td>NaN</td>\n",
       "      <td>NaN</td>\n",
       "      <td>NaN</td>\n",
       "      <td>NaN</td>\n",
       "      <td>NaN</td>\n",
       "      <td>NaN</td>\n",
       "      <td>NaN</td>\n",
       "      <td>NaN</td>\n",
       "      <td>elektronická hudba</td>\n",
       "      <td>syntezátor</td>\n",
       "    </tr>\n",
       "    <tr>\n",
       "      <th>289996</th>\n",
       "      <td>NaN</td>\n",
       "      <td>NaN</td>\n",
       "      <td>NaN</td>\n",
       "      <td>NaN</td>\n",
       "      <td>NaN</td>\n",
       "      <td>NaN</td>\n",
       "      <td>NaN</td>\n",
       "      <td>NaN</td>\n",
       "      <td>NaN</td>\n",
       "      <td>NaN</td>\n",
       "      <td>...</td>\n",
       "      <td>NaN</td>\n",
       "      <td>NaN</td>\n",
       "      <td>NaN</td>\n",
       "      <td>NaN</td>\n",
       "      <td>NaN</td>\n",
       "      <td>NaN</td>\n",
       "      <td>NaN</td>\n",
       "      <td>NaN</td>\n",
       "      <td>elektronická hudba</td>\n",
       "      <td>syntezátor</td>\n",
       "    </tr>\n",
       "    <tr>\n",
       "      <th>289997</th>\n",
       "      <td>NaN</td>\n",
       "      <td>NaN</td>\n",
       "      <td>NaN</td>\n",
       "      <td>NaN</td>\n",
       "      <td>NaN</td>\n",
       "      <td>NaN</td>\n",
       "      <td>NaN</td>\n",
       "      <td>NaN</td>\n",
       "      <td>NaN</td>\n",
       "      <td>NaN</td>\n",
       "      <td>...</td>\n",
       "      <td>NaN</td>\n",
       "      <td>NaN</td>\n",
       "      <td>NaN</td>\n",
       "      <td>NaN</td>\n",
       "      <td>NaN</td>\n",
       "      <td>NaN</td>\n",
       "      <td>NaN</td>\n",
       "      <td>NaN</td>\n",
       "      <td>elektronická hudba</td>\n",
       "      <td>syntezátor</td>\n",
       "    </tr>\n",
       "    <tr>\n",
       "      <th>289998</th>\n",
       "      <td>NaN</td>\n",
       "      <td>NaN</td>\n",
       "      <td>NaN</td>\n",
       "      <td>NaN</td>\n",
       "      <td>NaN</td>\n",
       "      <td>NaN</td>\n",
       "      <td>NaN</td>\n",
       "      <td>NaN</td>\n",
       "      <td>NaN</td>\n",
       "      <td>NaN</td>\n",
       "      <td>...</td>\n",
       "      <td>NaN</td>\n",
       "      <td>NaN</td>\n",
       "      <td>NaN</td>\n",
       "      <td>NaN</td>\n",
       "      <td>NaN</td>\n",
       "      <td>NaN</td>\n",
       "      <td>NaN</td>\n",
       "      <td>NaN</td>\n",
       "      <td>elektronická taneční hudba</td>\n",
       "      <td>rytmický základ</td>\n",
       "    </tr>\n",
       "  </tbody>\n",
       "</table>\n",
       "<p>289999 rows × 38 columns</p>\n",
       "</div>"
      ],
      "text/plain": [
       "                   hitparada     rok  tyden     week  pozice            track  \\\n",
       "0       CZ - RADIO - TOP 100  2006.0    1.0  2006-01     1.0          Hung Up   \n",
       "1       CZ - RADIO - TOP 100  2006.0    1.0  2006-01     3.0  Push The Button   \n",
       "2       CZ - RADIO - TOP 100  2006.0    1.0  2006-01     4.0         Tripping   \n",
       "3       CZ - RADIO - TOP 100  2006.0    1.0  2006-01     9.0     All About Us   \n",
       "4       CZ - RADIO - TOP 100  2006.0    1.0  2006-01    12.0             Cool   \n",
       "...                      ...     ...    ...      ...     ...              ...   \n",
       "289994                   NaN     NaN    NaN      NaN     NaN              NaN   \n",
       "289995                   NaN     NaN    NaN      NaN     NaN              NaN   \n",
       "289996                   NaN     NaN    NaN      NaN     NaN              NaN   \n",
       "289997                   NaN     NaN    NaN      NaN     NaN              NaN   \n",
       "289998                   NaN     NaN    NaN      NaN     NaN              NaN   \n",
       "\n",
       "              interpret interpret_hlavni        vydavatel       id  ...  \\\n",
       "0               Madonna          Madonna     Warner Music    Q1744  ...   \n",
       "1             Sugababes        Sugababes  Universal Music  Q193697  ...   \n",
       "2       Robbie Williams  Robbie Williams     Warner Music   Q47875  ...   \n",
       "3                  Tatu             Tatu  Universal Music  Q161723  ...   \n",
       "4          Gwen Stefani     Gwen Stefani  Universal Music  Q483379  ...   \n",
       "...                 ...              ...              ...      ...  ...   \n",
       "289994              NaN              NaN              NaN      NaN  ...   \n",
       "289995              NaN              NaN              NaN      NaN  ...   \n",
       "289996              NaN              NaN              NaN      NaN  ...   \n",
       "289997              NaN              NaN              NaN      NaN  ...   \n",
       "289998              NaN              NaN              NaN      NaN  ...   \n",
       "\n",
       "                                                 nastroje  \\\n",
       "0                  [kytara, bicí souprava, ukulele, hlas]   \n",
       "1                                                    None   \n",
       "2       [hlas, kytara, basová kytara, klávesový nástro...   \n",
       "3                                                    None   \n",
       "4                                                  [hlas]   \n",
       "...                                                   ...   \n",
       "289994                                                NaN   \n",
       "289995                                                NaN   \n",
       "289996                                                NaN   \n",
       "289997                                                NaN   \n",
       "289998                                                NaN   \n",
       "\n",
       "                                                  oceneni         nabozenstvi  \\\n",
       "0       [Cena Grammy za nejlepší hudební film, Cena Gr...                None   \n",
       "1                                                    None                None   \n",
       "2           [Amadeus Austrian Music Awards, Premios Oye!]                None   \n",
       "3                                                    None                None   \n",
       "4       [American Music Award for Favorite Pop/Rock Fe...  [katolická církev]   \n",
       "...                                                   ...                 ...   \n",
       "289994                                                NaN                 NaN   \n",
       "289995                                                NaN                 NaN   \n",
       "289996                                                NaN                 NaN   \n",
       "289997                                                NaN                 NaN   \n",
       "289998                                                NaN                 NaN   \n",
       "\n",
       "            orientace              spotify_id spotify_odberatele  \\\n",
       "0       [bisexualita]  6tbjWDEIzxoDsBA1FuhfPW          4831402.0   \n",
       "1                None  7rZNSLWMjTbwdLNskFbzFf                NaN   \n",
       "2                None  2HcwFjNelS49kFbfvMxQYw                NaN   \n",
       "3                None  7902s7cvHtLQV3K7875DAz                NaN   \n",
       "4                None  4yiQZ8tQPux8cPriYMWUFP                NaN   \n",
       "...               ...                     ...                ...   \n",
       "289994            NaN                     NaN                NaN   \n",
       "289995            NaN                     NaN                NaN   \n",
       "289996            NaN                     NaN                NaN   \n",
       "289997            NaN                     NaN                NaN   \n",
       "289998            NaN                     NaN                NaN   \n",
       "\n",
       "                         odkud                       pisen  \\\n",
       "0       Spojené státy americké            Madonna: Hung Up   \n",
       "1           Spojené království  Sugababes: Push The Button   \n",
       "2           Spojené království   Robbie Williams: Tripping   \n",
       "3                      ostatní          Tatu: All About Us   \n",
       "4       Spojené státy americké          Gwen Stefani: Cool   \n",
       "...                        ...                         ...   \n",
       "289994                     NaN                         NaN   \n",
       "289995                     NaN                         NaN   \n",
       "289996                     NaN                         NaN   \n",
       "289997                     NaN                         NaN   \n",
       "289998                     NaN                         NaN   \n",
       "\n",
       "                      zanry_kratce      zanry_prvky  \n",
       "0                              pop             zpěv  \n",
       "1                              pop             zpěv  \n",
       "2                              pop             zpěv  \n",
       "3                              pop             zpěv  \n",
       "4                              pop             zpěv  \n",
       "...                            ...              ...  \n",
       "289994                       metal           kytara  \n",
       "289995          elektronická hudba       syntezátor  \n",
       "289996          elektronická hudba       syntezátor  \n",
       "289997          elektronická hudba       syntezátor  \n",
       "289998  elektronická taneční hudba  rytmický základ  \n",
       "\n",
       "[289999 rows x 38 columns]"
      ]
     },
     "execution_count": 44,
     "metadata": {},
     "output_type": "execute_result"
    }
   ],
   "source": [
    "zanry"
   ]
  },
  {
   "cell_type": "code",
   "execution_count": 45,
   "id": "96732eef",
   "metadata": {
    "scrolled": true
   },
   "outputs": [
    {
     "data": {
      "text/html": [
       "<div>\n",
       "<style scoped>\n",
       "    .dataframe tbody tr th:only-of-type {\n",
       "        vertical-align: middle;\n",
       "    }\n",
       "\n",
       "    .dataframe tbody tr th {\n",
       "        vertical-align: top;\n",
       "    }\n",
       "\n",
       "    .dataframe thead th {\n",
       "        text-align: right;\n",
       "    }\n",
       "</style>\n",
       "<table border=\"1\" class=\"dataframe\">\n",
       "  <thead>\n",
       "    <tr style=\"text-align: right;\">\n",
       "      <th></th>\n",
       "      <th>hitparada</th>\n",
       "      <th>rok</th>\n",
       "      <th>tyden</th>\n",
       "      <th>week</th>\n",
       "      <th>pozice</th>\n",
       "      <th>track</th>\n",
       "      <th>interpret</th>\n",
       "      <th>interpret_hlavni</th>\n",
       "      <th>vydavatel</th>\n",
       "      <th>id</th>\n",
       "      <th>...</th>\n",
       "      <th>nastroje</th>\n",
       "      <th>oceneni</th>\n",
       "      <th>nabozenstvi</th>\n",
       "      <th>orientace</th>\n",
       "      <th>spotify_id</th>\n",
       "      <th>spotify_odberatele</th>\n",
       "      <th>odkud</th>\n",
       "      <th>pisen</th>\n",
       "      <th>zanry_kratce</th>\n",
       "      <th>zanry_prvky</th>\n",
       "    </tr>\n",
       "  </thead>\n",
       "  <tbody>\n",
       "    <tr>\n",
       "      <th>0</th>\n",
       "      <td>CZ - RADIO - TOP 100</td>\n",
       "      <td>2006.0</td>\n",
       "      <td>1.0</td>\n",
       "      <td>2006-01</td>\n",
       "      <td>1.0</td>\n",
       "      <td>Hung Up</td>\n",
       "      <td>Madonna</td>\n",
       "      <td>Madonna</td>\n",
       "      <td>Warner Music</td>\n",
       "      <td>Q1744</td>\n",
       "      <td>...</td>\n",
       "      <td>[kytara, bicí souprava, ukulele, hlas]</td>\n",
       "      <td>[Cena Grammy za nejlepší hudební film, Cena Gr...</td>\n",
       "      <td>None</td>\n",
       "      <td>[bisexualita]</td>\n",
       "      <td>6tbjWDEIzxoDsBA1FuhfPW</td>\n",
       "      <td>4831402.0</td>\n",
       "      <td>Spojené státy americké</td>\n",
       "      <td>Madonna: Hung Up</td>\n",
       "      <td>pop</td>\n",
       "      <td>zpěv</td>\n",
       "    </tr>\n",
       "    <tr>\n",
       "      <th>1</th>\n",
       "      <td>CZ - RADIO - TOP 100</td>\n",
       "      <td>2006.0</td>\n",
       "      <td>1.0</td>\n",
       "      <td>2006-01</td>\n",
       "      <td>3.0</td>\n",
       "      <td>Push The Button</td>\n",
       "      <td>Sugababes</td>\n",
       "      <td>Sugababes</td>\n",
       "      <td>Universal Music</td>\n",
       "      <td>Q193697</td>\n",
       "      <td>...</td>\n",
       "      <td>None</td>\n",
       "      <td>None</td>\n",
       "      <td>None</td>\n",
       "      <td>None</td>\n",
       "      <td>7rZNSLWMjTbwdLNskFbzFf</td>\n",
       "      <td>NaN</td>\n",
       "      <td>Spojené království</td>\n",
       "      <td>Sugababes: Push The Button</td>\n",
       "      <td>pop</td>\n",
       "      <td>zpěv</td>\n",
       "    </tr>\n",
       "    <tr>\n",
       "      <th>2</th>\n",
       "      <td>CZ - RADIO - TOP 100</td>\n",
       "      <td>2006.0</td>\n",
       "      <td>1.0</td>\n",
       "      <td>2006-01</td>\n",
       "      <td>4.0</td>\n",
       "      <td>Tripping</td>\n",
       "      <td>Robbie Williams</td>\n",
       "      <td>Robbie Williams</td>\n",
       "      <td>Warner Music</td>\n",
       "      <td>Q47875</td>\n",
       "      <td>...</td>\n",
       "      <td>[hlas, kytara, basová kytara, klávesový nástro...</td>\n",
       "      <td>[Amadeus Austrian Music Awards, Premios Oye!]</td>\n",
       "      <td>None</td>\n",
       "      <td>None</td>\n",
       "      <td>2HcwFjNelS49kFbfvMxQYw</td>\n",
       "      <td>NaN</td>\n",
       "      <td>Spojené království</td>\n",
       "      <td>Robbie Williams: Tripping</td>\n",
       "      <td>pop</td>\n",
       "      <td>zpěv</td>\n",
       "    </tr>\n",
       "    <tr>\n",
       "      <th>3</th>\n",
       "      <td>CZ - RADIO - TOP 100</td>\n",
       "      <td>2006.0</td>\n",
       "      <td>1.0</td>\n",
       "      <td>2006-01</td>\n",
       "      <td>9.0</td>\n",
       "      <td>All About Us</td>\n",
       "      <td>Tatu</td>\n",
       "      <td>Tatu</td>\n",
       "      <td>Universal Music</td>\n",
       "      <td>Q161723</td>\n",
       "      <td>...</td>\n",
       "      <td>None</td>\n",
       "      <td>None</td>\n",
       "      <td>None</td>\n",
       "      <td>None</td>\n",
       "      <td>7902s7cvHtLQV3K7875DAz</td>\n",
       "      <td>NaN</td>\n",
       "      <td>ostatní</td>\n",
       "      <td>Tatu: All About Us</td>\n",
       "      <td>pop</td>\n",
       "      <td>zpěv</td>\n",
       "    </tr>\n",
       "    <tr>\n",
       "      <th>4</th>\n",
       "      <td>CZ - RADIO - TOP 100</td>\n",
       "      <td>2006.0</td>\n",
       "      <td>1.0</td>\n",
       "      <td>2006-01</td>\n",
       "      <td>12.0</td>\n",
       "      <td>Cool</td>\n",
       "      <td>Gwen Stefani</td>\n",
       "      <td>Gwen Stefani</td>\n",
       "      <td>Universal Music</td>\n",
       "      <td>Q483379</td>\n",
       "      <td>...</td>\n",
       "      <td>[hlas]</td>\n",
       "      <td>[American Music Award for Favorite Pop/Rock Fe...</td>\n",
       "      <td>[katolická církev]</td>\n",
       "      <td>None</td>\n",
       "      <td>4yiQZ8tQPux8cPriYMWUFP</td>\n",
       "      <td>NaN</td>\n",
       "      <td>Spojené státy americké</td>\n",
       "      <td>Gwen Stefani: Cool</td>\n",
       "      <td>pop</td>\n",
       "      <td>zpěv</td>\n",
       "    </tr>\n",
       "    <tr>\n",
       "      <th>...</th>\n",
       "      <td>...</td>\n",
       "      <td>...</td>\n",
       "      <td>...</td>\n",
       "      <td>...</td>\n",
       "      <td>...</td>\n",
       "      <td>...</td>\n",
       "      <td>...</td>\n",
       "      <td>...</td>\n",
       "      <td>...</td>\n",
       "      <td>...</td>\n",
       "      <td>...</td>\n",
       "      <td>...</td>\n",
       "      <td>...</td>\n",
       "      <td>...</td>\n",
       "      <td>...</td>\n",
       "      <td>...</td>\n",
       "      <td>...</td>\n",
       "      <td>...</td>\n",
       "      <td>...</td>\n",
       "      <td>...</td>\n",
       "      <td>...</td>\n",
       "    </tr>\n",
       "    <tr>\n",
       "      <th>289994</th>\n",
       "      <td>NaN</td>\n",
       "      <td>NaN</td>\n",
       "      <td>NaN</td>\n",
       "      <td>NaN</td>\n",
       "      <td>NaN</td>\n",
       "      <td>NaN</td>\n",
       "      <td>NaN</td>\n",
       "      <td>NaN</td>\n",
       "      <td>NaN</td>\n",
       "      <td>NaN</td>\n",
       "      <td>...</td>\n",
       "      <td>NaN</td>\n",
       "      <td>NaN</td>\n",
       "      <td>NaN</td>\n",
       "      <td>NaN</td>\n",
       "      <td>NaN</td>\n",
       "      <td>NaN</td>\n",
       "      <td>NaN</td>\n",
       "      <td>NaN</td>\n",
       "      <td>metal</td>\n",
       "      <td>kytara</td>\n",
       "    </tr>\n",
       "    <tr>\n",
       "      <th>289995</th>\n",
       "      <td>NaN</td>\n",
       "      <td>NaN</td>\n",
       "      <td>NaN</td>\n",
       "      <td>NaN</td>\n",
       "      <td>NaN</td>\n",
       "      <td>NaN</td>\n",
       "      <td>NaN</td>\n",
       "      <td>NaN</td>\n",
       "      <td>NaN</td>\n",
       "      <td>NaN</td>\n",
       "      <td>...</td>\n",
       "      <td>NaN</td>\n",
       "      <td>NaN</td>\n",
       "      <td>NaN</td>\n",
       "      <td>NaN</td>\n",
       "      <td>NaN</td>\n",
       "      <td>NaN</td>\n",
       "      <td>NaN</td>\n",
       "      <td>NaN</td>\n",
       "      <td>elektronická hudba</td>\n",
       "      <td>syntezátor</td>\n",
       "    </tr>\n",
       "    <tr>\n",
       "      <th>289996</th>\n",
       "      <td>NaN</td>\n",
       "      <td>NaN</td>\n",
       "      <td>NaN</td>\n",
       "      <td>NaN</td>\n",
       "      <td>NaN</td>\n",
       "      <td>NaN</td>\n",
       "      <td>NaN</td>\n",
       "      <td>NaN</td>\n",
       "      <td>NaN</td>\n",
       "      <td>NaN</td>\n",
       "      <td>...</td>\n",
       "      <td>NaN</td>\n",
       "      <td>NaN</td>\n",
       "      <td>NaN</td>\n",
       "      <td>NaN</td>\n",
       "      <td>NaN</td>\n",
       "      <td>NaN</td>\n",
       "      <td>NaN</td>\n",
       "      <td>NaN</td>\n",
       "      <td>elektronická hudba</td>\n",
       "      <td>syntezátor</td>\n",
       "    </tr>\n",
       "    <tr>\n",
       "      <th>289997</th>\n",
       "      <td>NaN</td>\n",
       "      <td>NaN</td>\n",
       "      <td>NaN</td>\n",
       "      <td>NaN</td>\n",
       "      <td>NaN</td>\n",
       "      <td>NaN</td>\n",
       "      <td>NaN</td>\n",
       "      <td>NaN</td>\n",
       "      <td>NaN</td>\n",
       "      <td>NaN</td>\n",
       "      <td>...</td>\n",
       "      <td>NaN</td>\n",
       "      <td>NaN</td>\n",
       "      <td>NaN</td>\n",
       "      <td>NaN</td>\n",
       "      <td>NaN</td>\n",
       "      <td>NaN</td>\n",
       "      <td>NaN</td>\n",
       "      <td>NaN</td>\n",
       "      <td>elektronická hudba</td>\n",
       "      <td>syntezátor</td>\n",
       "    </tr>\n",
       "    <tr>\n",
       "      <th>289998</th>\n",
       "      <td>NaN</td>\n",
       "      <td>NaN</td>\n",
       "      <td>NaN</td>\n",
       "      <td>NaN</td>\n",
       "      <td>NaN</td>\n",
       "      <td>NaN</td>\n",
       "      <td>NaN</td>\n",
       "      <td>NaN</td>\n",
       "      <td>NaN</td>\n",
       "      <td>NaN</td>\n",
       "      <td>...</td>\n",
       "      <td>NaN</td>\n",
       "      <td>NaN</td>\n",
       "      <td>NaN</td>\n",
       "      <td>NaN</td>\n",
       "      <td>NaN</td>\n",
       "      <td>NaN</td>\n",
       "      <td>NaN</td>\n",
       "      <td>NaN</td>\n",
       "      <td>elektronická taneční hudba</td>\n",
       "      <td>rytmický základ</td>\n",
       "    </tr>\n",
       "  </tbody>\n",
       "</table>\n",
       "<p>289999 rows × 38 columns</p>\n",
       "</div>"
      ],
      "text/plain": [
       "                   hitparada     rok  tyden     week  pozice            track  \\\n",
       "0       CZ - RADIO - TOP 100  2006.0    1.0  2006-01     1.0          Hung Up   \n",
       "1       CZ - RADIO - TOP 100  2006.0    1.0  2006-01     3.0  Push The Button   \n",
       "2       CZ - RADIO - TOP 100  2006.0    1.0  2006-01     4.0         Tripping   \n",
       "3       CZ - RADIO - TOP 100  2006.0    1.0  2006-01     9.0     All About Us   \n",
       "4       CZ - RADIO - TOP 100  2006.0    1.0  2006-01    12.0             Cool   \n",
       "...                      ...     ...    ...      ...     ...              ...   \n",
       "289994                   NaN     NaN    NaN      NaN     NaN              NaN   \n",
       "289995                   NaN     NaN    NaN      NaN     NaN              NaN   \n",
       "289996                   NaN     NaN    NaN      NaN     NaN              NaN   \n",
       "289997                   NaN     NaN    NaN      NaN     NaN              NaN   \n",
       "289998                   NaN     NaN    NaN      NaN     NaN              NaN   \n",
       "\n",
       "              interpret interpret_hlavni        vydavatel       id  ...  \\\n",
       "0               Madonna          Madonna     Warner Music    Q1744  ...   \n",
       "1             Sugababes        Sugababes  Universal Music  Q193697  ...   \n",
       "2       Robbie Williams  Robbie Williams     Warner Music   Q47875  ...   \n",
       "3                  Tatu             Tatu  Universal Music  Q161723  ...   \n",
       "4          Gwen Stefani     Gwen Stefani  Universal Music  Q483379  ...   \n",
       "...                 ...              ...              ...      ...  ...   \n",
       "289994              NaN              NaN              NaN      NaN  ...   \n",
       "289995              NaN              NaN              NaN      NaN  ...   \n",
       "289996              NaN              NaN              NaN      NaN  ...   \n",
       "289997              NaN              NaN              NaN      NaN  ...   \n",
       "289998              NaN              NaN              NaN      NaN  ...   \n",
       "\n",
       "                                                 nastroje  \\\n",
       "0                  [kytara, bicí souprava, ukulele, hlas]   \n",
       "1                                                    None   \n",
       "2       [hlas, kytara, basová kytara, klávesový nástro...   \n",
       "3                                                    None   \n",
       "4                                                  [hlas]   \n",
       "...                                                   ...   \n",
       "289994                                                NaN   \n",
       "289995                                                NaN   \n",
       "289996                                                NaN   \n",
       "289997                                                NaN   \n",
       "289998                                                NaN   \n",
       "\n",
       "                                                  oceneni         nabozenstvi  \\\n",
       "0       [Cena Grammy za nejlepší hudební film, Cena Gr...                None   \n",
       "1                                                    None                None   \n",
       "2           [Amadeus Austrian Music Awards, Premios Oye!]                None   \n",
       "3                                                    None                None   \n",
       "4       [American Music Award for Favorite Pop/Rock Fe...  [katolická církev]   \n",
       "...                                                   ...                 ...   \n",
       "289994                                                NaN                 NaN   \n",
       "289995                                                NaN                 NaN   \n",
       "289996                                                NaN                 NaN   \n",
       "289997                                                NaN                 NaN   \n",
       "289998                                                NaN                 NaN   \n",
       "\n",
       "            orientace              spotify_id spotify_odberatele  \\\n",
       "0       [bisexualita]  6tbjWDEIzxoDsBA1FuhfPW          4831402.0   \n",
       "1                None  7rZNSLWMjTbwdLNskFbzFf                NaN   \n",
       "2                None  2HcwFjNelS49kFbfvMxQYw                NaN   \n",
       "3                None  7902s7cvHtLQV3K7875DAz                NaN   \n",
       "4                None  4yiQZ8tQPux8cPriYMWUFP                NaN   \n",
       "...               ...                     ...                ...   \n",
       "289994            NaN                     NaN                NaN   \n",
       "289995            NaN                     NaN                NaN   \n",
       "289996            NaN                     NaN                NaN   \n",
       "289997            NaN                     NaN                NaN   \n",
       "289998            NaN                     NaN                NaN   \n",
       "\n",
       "                         odkud                       pisen  \\\n",
       "0       Spojené státy americké            Madonna: Hung Up   \n",
       "1           Spojené království  Sugababes: Push The Button   \n",
       "2           Spojené království   Robbie Williams: Tripping   \n",
       "3                      ostatní          Tatu: All About Us   \n",
       "4       Spojené státy americké          Gwen Stefani: Cool   \n",
       "...                        ...                         ...   \n",
       "289994                     NaN                         NaN   \n",
       "289995                     NaN                         NaN   \n",
       "289996                     NaN                         NaN   \n",
       "289997                     NaN                         NaN   \n",
       "289998                     NaN                         NaN   \n",
       "\n",
       "                      zanry_kratce      zanry_prvky  \n",
       "0                              pop             zpěv  \n",
       "1                              pop             zpěv  \n",
       "2                              pop             zpěv  \n",
       "3                              pop             zpěv  \n",
       "4                              pop             zpěv  \n",
       "...                            ...              ...  \n",
       "289994                       metal           kytara  \n",
       "289995          elektronická hudba       syntezátor  \n",
       "289996          elektronická hudba       syntezátor  \n",
       "289997          elektronická hudba       syntezátor  \n",
       "289998  elektronická taneční hudba  rytmický základ  \n",
       "\n",
       "[289999 rows x 38 columns]"
      ]
     },
     "execution_count": 45,
     "metadata": {},
     "output_type": "execute_result"
    }
   ],
   "source": [
    "zanry"
   ]
  },
  {
   "cell_type": "code",
   "execution_count": 46,
   "id": "ad8e4816",
   "metadata": {},
   "outputs": [],
   "source": [
    "rockeri = zanry[zanry['zanry_kratce'].str.contains('rock',na=False)]['interpret_hlavni'].drop_duplicates().to_list()"
   ]
  },
  {
   "cell_type": "code",
   "execution_count": 47,
   "id": "7b90f75b",
   "metadata": {},
   "outputs": [],
   "source": [
    "rapperi = zanry[zanry['zanry_kratce'].str.contains('hip hop',na=False)]['interpret_hlavni'].drop_duplicates().to_list()"
   ]
  },
  {
   "cell_type": "code",
   "execution_count": 48,
   "id": "0a5ed3e8",
   "metadata": {},
   "outputs": [],
   "source": [
    "metalaci = zanry[zanry['zanry_kratce'].str.contains('metal',na=False)]['interpret_hlavni'].drop_duplicates().to_list()"
   ]
  },
  {
   "cell_type": "code",
   "execution_count": 49,
   "id": "bb6addf9",
   "metadata": {},
   "outputs": [],
   "source": [
    "elektro = zanry[zanry['zanry_kratce'].str.contains('elektro',na=False)]['interpret_hlavni'].drop_duplicates().to_list()"
   ]
  },
  {
   "cell_type": "code",
   "execution_count": 50,
   "id": "a9b65a9a",
   "metadata": {},
   "outputs": [],
   "source": [
    "folkari = zanry[zanry['zanry_kratce'].str.contains('folk',na=False)]['interpret_hlavni'].drop_duplicates().to_list()"
   ]
  },
  {
   "cell_type": "code",
   "execution_count": 51,
   "id": "f3078c25",
   "metadata": {},
   "outputs": [],
   "source": [
    "popik = zanry[zanry['zanry_kratce'].str.contains('pop',na=False)]['interpret_hlavni'].drop_duplicates().to_list()"
   ]
  },
  {
   "cell_type": "code",
   "execution_count": 52,
   "id": "65c72824",
   "metadata": {},
   "outputs": [
    {
     "data": {
      "text/plain": [
       "<Axes: xlabel='rok'>"
      ]
     },
     "execution_count": 52,
     "metadata": {},
     "output_type": "execute_result"
    },
    {
     "data": {
      "image/png": "[encoded data removed]",
      "text/plain": [
       "<Figure size 640x480 with 1 Axes>"
      ]
     },
     "metadata": {},
     "output_type": "display_data"
    }
   ],
   "source": [
    "(df[df['interpret_hlavni'].isin(rockeri)].groupby('rok').size() / df.groupby('rok').size()).plot.bar()"
   ]
  },
  {
   "cell_type": "code",
   "execution_count": 53,
   "id": "770d894d",
   "metadata": {},
   "outputs": [
    {
     "data": {
      "text/plain": [
       "<Axes: xlabel='rok'>"
      ]
     },
     "execution_count": 53,
     "metadata": {},
     "output_type": "execute_result"
    },
    {
     "data": {
      "image/png": "[encoded data removed]",
      "text/plain": [
       "<Figure size 640x480 with 1 Axes>"
      ]
     },
     "metadata": {},
     "output_type": "display_data"
    }
   ],
   "source": [
    "(df[df['interpret_hlavni'].isin(rapperi)].groupby('rok').size() / df.groupby('rok').size()).plot.bar()"
   ]
  },
  {
   "cell_type": "code",
   "execution_count": 54,
   "id": "947087f3",
   "metadata": {},
   "outputs": [
    {
     "data": {
      "text/plain": [
       "<Axes: xlabel='rok'>"
      ]
     },
     "execution_count": 54,
     "metadata": {},
     "output_type": "execute_result"
    },
    {
     "data": {
      "image/png": "[encoded data removed]",
      "text/plain": [
       "<Figure size 640x480 with 1 Axes>"
      ]
     },
     "metadata": {},
     "output_type": "display_data"
    }
   ],
   "source": [
    "(df[df['interpret_hlavni'].isin(metalaci)].groupby('rok').size() / df.groupby('rok').size()).plot.bar()"
   ]
  },
  {
   "cell_type": "code",
   "execution_count": 55,
   "id": "d44fc4e2",
   "metadata": {},
   "outputs": [
    {
     "data": {
      "text/plain": [
       "<Axes: xlabel='rok'>"
      ]
     },
     "execution_count": 55,
     "metadata": {},
     "output_type": "execute_result"
    },
    {
     "data": {
      "image/png": "[encoded data removed]",
      "text/plain": [
       "<Figure size 640x480 with 1 Axes>"
      ]
     },
     "metadata": {},
     "output_type": "display_data"
    }
   ],
   "source": [
    "(df[df['interpret_hlavni'].isin(folkari)].groupby('rok').size() / df.groupby('rok').size()).plot.bar()"
   ]
  },
  {
   "cell_type": "code",
   "execution_count": 56,
   "id": "f3ceed52",
   "metadata": {},
   "outputs": [
    {
     "data": {
      "text/plain": [
       "<Axes: xlabel='rok'>"
      ]
     },
     "execution_count": 56,
     "metadata": {},
     "output_type": "execute_result"
    },
    {
     "data": {
      "image/png": "[encoded data removed]",
      "text/plain": [
       "<Figure size 640x480 with 1 Axes>"
      ]
     },
     "metadata": {},
     "output_type": "display_data"
    }
   ],
   "source": [
    "(df[df['interpret_hlavni'].isin(elektro)].groupby('rok').size() / df.groupby('rok').size()).plot.bar()"
   ]
  },
  {
   "cell_type": "code",
   "execution_count": 57,
   "id": "3a977a42",
   "metadata": {},
   "outputs": [
    {
     "data": {
      "text/plain": [
       "<Axes: xlabel='rok'>"
      ]
     },
     "execution_count": 57,
     "metadata": {},
     "output_type": "execute_result"
    },
    {
     "data": {
      "image/png": "[encoded data removed]",
      "text/plain": [
       "<Figure size 640x480 with 1 Axes>"
      ]
     },
     "metadata": {},
     "output_type": "display_data"
    }
   ],
   "source": [
    "(df[df['interpret_hlavni'].isin(popik)].groupby('rok').size() / df.groupby('rok').size()).plot.bar()"
   ]
  },
  {
   "cell_type": "markdown",
   "id": "64e9a855",
   "metadata": {},
   "source": [
    "## Země původu a žánry"
   ]
  },
  {
   "cell_type": "code",
   "execution_count": 58,
   "id": "2d940ddb",
   "metadata": {},
   "outputs": [],
   "source": [
    "pet_zemi = df[df['rok'] >= 2019].groupby('zeme_puvodu').size().nlargest(6).index.to_list()"
   ]
  },
  {
   "cell_type": "code",
   "execution_count": 59,
   "id": "d7647d1a",
   "metadata": {},
   "outputs": [],
   "source": [
    "zemexzanry = {}\n",
    "for z in pet_zemi:\n",
    "    prac_dat = df[df['zeme_puvodu'] == z].explode('zanry')\n",
    "    zemexzanry[z] = \", \".join(prac_dat[(prac_dat['rok'] >= 2019) & (prac_dat['zanry'] != 'pop music')].explode('zanry').groupby('zanry').size().nlargest().index.to_list())\n",
    "zemexzanry = pd.DataFrame(zemexzanry, index=[0]).transpose().reset_index().rename(columns={0: 'Nejčastější žánry', 'index': 'Země'})\n",
    "zemexzanry['Nejčastější žánry'] = zemexzanry['Nejčastější žánry'].apply(lambda x: x.replace('American folk music', 'americká lidová hudba'))"
   ]
  },
  {
   "cell_type": "code",
   "execution_count": 60,
   "id": "22e17437",
   "metadata": {},
   "outputs": [
    {
     "data": {
      "text/html": [
       "<div>\n",
       "<style scoped>\n",
       "    .dataframe tbody tr th:only-of-type {\n",
       "        vertical-align: middle;\n",
       "    }\n",
       "\n",
       "    .dataframe tbody tr th {\n",
       "        vertical-align: top;\n",
       "    }\n",
       "\n",
       "    .dataframe thead th {\n",
       "        text-align: right;\n",
       "    }\n",
       "</style>\n",
       "<table border=\"1\" class=\"dataframe\">\n",
       "  <thead>\n",
       "    <tr style=\"text-align: right;\">\n",
       "      <th></th>\n",
       "      <th>Země</th>\n",
       "      <th>Nejčastější žánry</th>\n",
       "    </tr>\n",
       "  </thead>\n",
       "  <tbody>\n",
       "    <tr>\n",
       "      <th>0</th>\n",
       "      <td>Česko</td>\n",
       "      <td>rock, pop rock, alternativní rock, americká li...</td>\n",
       "    </tr>\n",
       "    <tr>\n",
       "      <th>1</th>\n",
       "      <td>Spojené státy americké</td>\n",
       "      <td>pop rock, elektropop, alternativní rock, hip h...</td>\n",
       "    </tr>\n",
       "    <tr>\n",
       "      <th>2</th>\n",
       "      <td>Spojené království</td>\n",
       "      <td>house music, pop rock, synthpop, alternativní ...</td>\n",
       "    </tr>\n",
       "    <tr>\n",
       "      <th>3</th>\n",
       "      <td>Německo</td>\n",
       "      <td>house music, deep house, elektronická taneční ...</td>\n",
       "    </tr>\n",
       "    <tr>\n",
       "      <th>4</th>\n",
       "      <td>Nizozemsko</td>\n",
       "      <td>electro house, elektronická taneční hudba, dee...</td>\n",
       "    </tr>\n",
       "    <tr>\n",
       "      <th>5</th>\n",
       "      <td>Kanada</td>\n",
       "      <td>alternativní R&amp;B, pop rock, folk pop, pop punk...</td>\n",
       "    </tr>\n",
       "  </tbody>\n",
       "</table>\n",
       "</div>"
      ],
      "text/plain": [
       "                     Země                                  Nejčastější žánry\n",
       "0                   Česko  rock, pop rock, alternativní rock, americká li...\n",
       "1  Spojené státy americké  pop rock, elektropop, alternativní rock, hip h...\n",
       "2      Spojené království  house music, pop rock, synthpop, alternativní ...\n",
       "3                 Německo  house music, deep house, elektronická taneční ...\n",
       "4              Nizozemsko  electro house, elektronická taneční hudba, dee...\n",
       "5                  Kanada  alternativní R&B, pop rock, folk pop, pop punk..."
      ]
     },
     "execution_count": 60,
     "metadata": {},
     "output_type": "execute_result"
    }
   ],
   "source": [
    "zemexzanry"
   ]
  },
  {
   "cell_type": "code",
   "execution_count": 61,
   "id": "210bf0ea",
   "metadata": {},
   "outputs": [
    {
     "data": {
      "text/plain": [
       "'<table class=\"dataframe table table--responsive table--w100p table--striped-red table--plain\"><caption>Hitparádový dovoz: nejzastoupenější země a žánry</caption><thead><tr style=\"text-align: right;\"><th class=\"text-nowrap\">Země</th><th class=\"text-nowrap\">Nejčastější žánry</th></tr></thead><tbody class=\"text-sm\"><tr><td>Česko</td><td>rock, pop rock, alternativní rock, americká lidová hudba, estráda</td></tr><tr><td>Spojené státy americké</td><td>pop rock, elektropop, alternativní rock, hip hop, dance-pop</td></tr><tr><td>Spojené království</td><td>house music, pop rock, synthpop, alternativní rock, lidová hudba</td></tr><tr><td>Německo</td><td>house music, deep house, elektronická taneční hudba, future house, tech house</td></tr><tr><td>Nizozemsko</td><td>electro house, elektronická taneční hudba, deep house, progressive house, big room house</td></tr><tr><td>Kanada</td><td>alternativní R&amp;B, pop rock, folk pop, pop punk, alternativní rock</td></tr></tbody><tfoot><tr style=\"text-align: center;\"><td colspan=2>Data za posledních 5 let. Ze srovnání jsme vyřadili univerzální štítek „pop music“.</td></tr></tfoot></table>'"
      ]
     },
     "execution_count": 61,
     "metadata": {},
     "output_type": "execute_result"
    }
   ],
   "source": [
    "tabulka(zemexzanry, titulek='Hitparádový dovoz: nejzastoupenější země a žánry', podtitulek=f\"\"\"Data za posledních 5 let. Ze srovnání jsme vyřadili univerzální štítek „pop music“.\"\"\")"
   ]
  }
 ],
 "metadata": {
  "kernelspec": {
   "display_name": "Python 3 (ipykernel)",
   "language": "python",
   "name": "python3"
  },
  "language_info": {
   "codemirror_mode": {
    "name": "ipython",
    "version": 3
   },
   "file_extension": ".py",
   "mimetype": "text/x-python",
   "name": "python",
   "nbconvert_exporter": "python",
   "pygments_lexer": "ipython3",
   "version": "3.11.5"
  }
 },
 "nbformat": 4,
 "nbformat_minor": 5
}
