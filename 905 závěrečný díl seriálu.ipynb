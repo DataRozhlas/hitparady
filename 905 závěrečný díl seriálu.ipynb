{
 "cells": [
  {
   "cell_type": "markdown",
   "id": "b841f4b4",
   "metadata": {},
   "source": [
    "Podklady pro články Anety Martínkové na iROZHLAS.cz v prosinci 2023."
   ]
  },
  {
   "cell_type": "code",
   "execution_count": 1,
   "id": "71d28ea5",
   "metadata": {},
   "outputs": [],
   "source": [
    "import os\n",
    "import json\n",
    "import pandas as pd"
   ]
  },
  {
   "cell_type": "code",
   "execution_count": 2,
   "id": "10418d47",
   "metadata": {},
   "outputs": [],
   "source": [
    "from src.tabulka import tabulka\n",
    "from src.graf import graf"
   ]
  },
  {
   "cell_type": "markdown",
   "id": "705803fe",
   "metadata": {},
   "source": [
    "## Poslední týden v žebříčku bez…"
   ]
  },
  {
   "cell_type": "code",
   "execution_count": 8,
   "id": "526e0cd7",
   "metadata": {},
   "outputs": [],
   "source": [
    "vsechnytydny = [x for x in df['week'].drop_duplicates().to_list() if len(str(x)) == 7]"
   ]
  },
  {
   "cell_type": "code",
   "execution_count": 3,
   "id": "13f3cc5f",
   "metadata": {},
   "outputs": [],
   "source": [
    "def kdynaposledne(x):\n",
    "    pracovni = df[df['interpret_hlavni'] == x].groupby('week')['pozice'].min()\n",
    "    pracovni = pracovni.reindex(vsechnytydny, fill_value=101).sort_index()\n",
    "    return pracovni[pracovni > 100].tail(1).index[0]"
   ]
  },
  {
   "cell_type": "code",
   "execution_count": 5,
   "id": "8752433b",
   "metadata": {},
   "outputs": [],
   "source": [
    "df = pd.read_csv(os.path.join(\"data\",\"CZ_RADIO_TOP_100_tydenni.csv\"))\n",
    "wikid = pd.read_json(os.path.join(\"wikidata\",\"wikidata.json\"))\n",
    "df = df.merge(wikid, on=\"interpret_hlavni\", how=\"outer\")\n",
    "df = df.sort_values(by='week')"
   ]
  },
  {
   "cell_type": "code",
   "execution_count": 6,
   "id": "828c6117",
   "metadata": {},
   "outputs": [],
   "source": [
    "dominatori = df.groupby('interpret_hlavni').size().nlargest(100).index.to_list()"
   ]
  },
  {
   "cell_type": "code",
   "execution_count": 9,
   "id": "0fb9c374",
   "metadata": {},
   "outputs": [],
   "source": [
    "doms = {}\n",
    "for x in dominatori:\n",
    "    doms[x] = kdynaposledne(x)"
   ]
  },
  {
   "cell_type": "code",
   "execution_count": 20,
   "id": "be1b3824",
   "metadata": {},
   "outputs": [
    {
     "data": {
      "text/html": [
       "<div>\n",
       "<style scoped>\n",
       "    .dataframe tbody tr th:only-of-type {\n",
       "        vertical-align: middle;\n",
       "    }\n",
       "\n",
       "    .dataframe tbody tr th {\n",
       "        vertical-align: top;\n",
       "    }\n",
       "\n",
       "    .dataframe thead th {\n",
       "        text-align: right;\n",
       "    }\n",
       "</style>\n",
       "<table border=\"1\" class=\"dataframe\">\n",
       "  <thead>\n",
       "    <tr style=\"text-align: right;\">\n",
       "      <th></th>\n",
       "      <th>index</th>\n",
       "      <th>Poslední týden mimo top 100</th>\n",
       "    </tr>\n",
       "  </thead>\n",
       "  <tbody>\n",
       "    <tr>\n",
       "      <th>0</th>\n",
       "      <td>Chinaski</td>\n",
       "      <td>2016-52</td>\n",
       "    </tr>\n",
       "    <tr>\n",
       "      <th>1</th>\n",
       "      <td>Mirai</td>\n",
       "      <td>2017-04</td>\n",
       "    </tr>\n",
       "    <tr>\n",
       "      <th>2</th>\n",
       "      <td>Kryštof</td>\n",
       "      <td>2017-21</td>\n",
       "    </tr>\n",
       "    <tr>\n",
       "      <th>3</th>\n",
       "      <td>Miley Cyrus</td>\n",
       "      <td>2020-39</td>\n",
       "    </tr>\n",
       "    <tr>\n",
       "      <th>4</th>\n",
       "      <td>Jelen</td>\n",
       "      <td>2020-43</td>\n",
       "    </tr>\n",
       "  </tbody>\n",
       "</table>\n",
       "</div>"
      ],
      "text/plain": [
       "         index Poslední týden mimo top 100\n",
       "0     Chinaski                     2016-52\n",
       "1        Mirai                     2017-04\n",
       "2      Kryštof                     2017-21\n",
       "3  Miley Cyrus                     2020-39\n",
       "4        Jelen                     2020-43"
      ]
     },
     "execution_count": 20,
     "metadata": {},
     "output_type": "execute_result"
    }
   ],
   "source": [
    "pd.DataFrame(pd.Series(doms).sort_values().head(5)).reset_index().rename(columns = {0 : 'Poslední týden mimo top 100'})"
   ]
  },
  {
   "cell_type": "code",
   "execution_count": 21,
   "id": "6449cde7",
   "metadata": {},
   "outputs": [
    {
     "data": {
      "text/plain": [
       "'<table class=\"dataframe table table--responsive table--w100p table--striped-red table--plain\"><caption>Nejdelší aktuální hitparádové šňůry</caption><thead><tr style=\"text-align: right;\"><th class=\"text-nowrap\">Interpreti</th><th class=\"text-nowrap\">Poslední týden mimo top 100</th></tr></thead><tbody class=\"text-sm\"><tr><td>Chinaski</td><td>2016-52</td></tr><tr><td>Mirai</td><td>2017-04</td></tr><tr><td>Kryštof</td><td>2017-21</td></tr><tr><td>Miley Cyrus</td><td>2020-39</td></tr><tr><td>Jelen</td><td>2020-43</td></tr></tbody></table>'"
      ]
     },
     "execution_count": 21,
     "metadata": {},
     "output_type": "execute_result"
    }
   ],
   "source": [
    "tabulka(pd.DataFrame(pd.Series(doms).sort_values().head(5)).reset_index().rename(columns = {\"index\": \"Interpreti\", 0 : 'Poslední týden mimo top 100'}), titulek=\"Nejdelší aktuální hitparádové šňůry\")"
   ]
  }
 ],
 "metadata": {
  "kernelspec": {
   "display_name": "Python 3 (ipykernel)",
   "language": "python",
   "name": "python3"
  },
  "language_info": {
   "codemirror_mode": {
    "name": "ipython",
    "version": 3
   },
   "file_extension": ".py",
   "mimetype": "text/x-python",
   "name": "python",
   "nbconvert_exporter": "python",
   "pygments_lexer": "ipython3",
   "version": "3.10.8"
  }
 },
 "nbformat": 4,
 "nbformat_minor": 5
}
