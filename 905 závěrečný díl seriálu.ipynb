{
 "cells": [
  {
   "cell_type": "markdown",
   "id": "b841f4b4",
   "metadata": {},
   "source": [
    "Podklady pro články Anety Martínkové na iROZHLAS.cz v prosinci 2023."
   ]
  },
  {
   "cell_type": "code",
   "execution_count": 170,
   "id": "71d28ea5",
   "metadata": {},
   "outputs": [],
   "source": [
    "import os\n",
    "import json\n",
    "import pandas as pd"
   ]
  },
  {
   "cell_type": "code",
   "execution_count": 171,
   "id": "10418d47",
   "metadata": {},
   "outputs": [],
   "source": [
    "from src.tabulka import tabulka\n",
    "from src.graf import graf"
   ]
  },
  {
   "cell_type": "code",
   "execution_count": 172,
   "id": "5674b903",
   "metadata": {},
   "outputs": [],
   "source": [
    "df = pd.read_csv(os.path.join(\"data\",\"CZ_RADIO_TOP_100_tydenni.csv\"))\n",
    "wikid = pd.read_json(os.path.join(\"wikidata\",\"wikidata.json\"))\n",
    "df = df.merge(wikid, on=\"interpret_hlavni\", how=\"outer\")\n",
    "stream = pd.read_csv(os.path.join(\"data\",\"CZ_SINGLES_DIGITAL_TOP_100_tydenni.csv\"))\n",
    "stream = stream.merge(wikid, on=\"interpret_hlavni\", how=\"outer\")"
   ]
  },
  {
   "cell_type": "markdown",
   "id": "705803fe",
   "metadata": {},
   "source": [
    "## Poslední týden v žebříčku bez…"
   ]
  },
  {
   "cell_type": "code",
   "execution_count": 173,
   "id": "526e0cd7",
   "metadata": {},
   "outputs": [],
   "source": [
    "vsechnytydny = [x for x in df['week'].drop_duplicates().to_list() if len(str(x)) == 7]"
   ]
  },
  {
   "cell_type": "code",
   "execution_count": 174,
   "id": "13f3cc5f",
   "metadata": {},
   "outputs": [],
   "source": [
    "def kdynaposledne(x):\n",
    "    pracovni = df[df['interpret_hlavni'] == x].groupby('week')['pozice'].min()\n",
    "    pracovni = pracovni.reindex(vsechnytydny, fill_value=101).sort_index()\n",
    "    return pracovni[pracovni > 100].tail(1).index[0]"
   ]
  },
  {
   "cell_type": "code",
   "execution_count": 175,
   "id": "8752433b",
   "metadata": {},
   "outputs": [],
   "source": [
    "df = pd.read_csv(os.path.join(\"data\",\"CZ_RADIO_TOP_100_tydenni.csv\"))\n",
    "wikid = pd.read_json(os.path.join(\"wikidata\",\"wikidata.json\"))\n",
    "df = df.merge(wikid, on=\"interpret_hlavni\", how=\"outer\")\n",
    "df = df.sort_values(by='week')"
   ]
  },
  {
   "cell_type": "code",
   "execution_count": 176,
   "id": "828c6117",
   "metadata": {},
   "outputs": [],
   "source": [
    "dominatori = df.groupby('interpret_hlavni').size().nlargest(100).index.to_list()"
   ]
  },
  {
   "cell_type": "code",
   "execution_count": 177,
   "id": "0fb9c374",
   "metadata": {},
   "outputs": [],
   "source": [
    "doms = {}\n",
    "for x in dominatori:\n",
    "    doms[x] = kdynaposledne(x)"
   ]
  },
  {
   "cell_type": "code",
   "execution_count": 178,
   "id": "be1b3824",
   "metadata": {},
   "outputs": [
    {
     "data": {
      "text/html": [
       "<div>\n",
       "<style scoped>\n",
       "    .dataframe tbody tr th:only-of-type {\n",
       "        vertical-align: middle;\n",
       "    }\n",
       "\n",
       "    .dataframe tbody tr th {\n",
       "        vertical-align: top;\n",
       "    }\n",
       "\n",
       "    .dataframe thead th {\n",
       "        text-align: right;\n",
       "    }\n",
       "</style>\n",
       "<table border=\"1\" class=\"dataframe\">\n",
       "  <thead>\n",
       "    <tr style=\"text-align: right;\">\n",
       "      <th></th>\n",
       "      <th>index</th>\n",
       "      <th>Poslední týden mimo top 100</th>\n",
       "    </tr>\n",
       "  </thead>\n",
       "  <tbody>\n",
       "    <tr>\n",
       "      <th>0</th>\n",
       "      <td>Chinaski</td>\n",
       "      <td>2016-52</td>\n",
       "    </tr>\n",
       "    <tr>\n",
       "      <th>1</th>\n",
       "      <td>Mirai</td>\n",
       "      <td>2017-04</td>\n",
       "    </tr>\n",
       "    <tr>\n",
       "      <th>2</th>\n",
       "      <td>Kryštof</td>\n",
       "      <td>2017-21</td>\n",
       "    </tr>\n",
       "    <tr>\n",
       "      <th>3</th>\n",
       "      <td>Miley Cyrus</td>\n",
       "      <td>2020-39</td>\n",
       "    </tr>\n",
       "    <tr>\n",
       "      <th>4</th>\n",
       "      <td>Jelen</td>\n",
       "      <td>2020-43</td>\n",
       "    </tr>\n",
       "  </tbody>\n",
       "</table>\n",
       "</div>"
      ],
      "text/plain": [
       "         index Poslední týden mimo top 100\n",
       "0     Chinaski                     2016-52\n",
       "1        Mirai                     2017-04\n",
       "2      Kryštof                     2017-21\n",
       "3  Miley Cyrus                     2020-39\n",
       "4        Jelen                     2020-43"
      ]
     },
     "execution_count": 178,
     "metadata": {},
     "output_type": "execute_result"
    }
   ],
   "source": [
    "pd.DataFrame(pd.Series(doms).sort_values().head(5)).reset_index().rename(columns = {0 : 'Poslední týden mimo top 100'})"
   ]
  },
  {
   "cell_type": "code",
   "execution_count": 179,
   "id": "6449cde7",
   "metadata": {},
   "outputs": [
    {
     "data": {
      "text/plain": [
       "'<table class=\"dataframe table table--responsive table--w100p table--striped-red table--plain\"><caption>Nejdelší aktuální hitparádové šňůry</caption><thead><tr style=\"text-align: right;\"><th class=\"text-nowrap\">Interpreti</th><th class=\"text-nowrap\">Poslední týden mimo top 100</th></tr></thead><tbody class=\"text-sm\"><tr><td>Chinaski</td><td>2016-52</td></tr><tr><td>Mirai</td><td>2017-04</td></tr><tr><td>Kryštof</td><td>2017-21</td></tr><tr><td>Miley Cyrus</td><td>2020-39</td></tr><tr><td>Jelen</td><td>2020-43</td></tr></tbody></table>'"
      ]
     },
     "execution_count": 179,
     "metadata": {},
     "output_type": "execute_result"
    }
   ],
   "source": [
    "tabulka(pd.DataFrame(pd.Series(doms).sort_values().head(5)).reset_index().rename(columns = {\"index\": \"Interpreti\", 0 : 'Poslední týden mimo top 100'}), titulek=\"Nejdelší aktuální hitparádové šňůry\")"
   ]
  },
  {
   "cell_type": "markdown",
   "id": "05697af0",
   "metadata": {},
   "source": [
    "## Jak se točí rádia x stream"
   ]
  },
  {
   "cell_type": "code",
   "execution_count": 180,
   "id": "e45d5e20",
   "metadata": {},
   "outputs": [],
   "source": [
    "df2 = df.copy()"
   ]
  },
  {
   "cell_type": "code",
   "execution_count": 181,
   "id": "a16fe73b",
   "metadata": {},
   "outputs": [],
   "source": [
    "stream = stream[stream['rok'] >= 2015]\n",
    "df2 = df2[df2['rok'] >= 2015]"
   ]
  },
  {
   "cell_type": "code",
   "execution_count": 182,
   "id": "e0537dc0",
   "metadata": {},
   "outputs": [],
   "source": [
    "stream_novinky = pd.DataFrame(stream.groupby('interpret_hlavni')['rok'].min()).reset_index()"
   ]
  },
  {
   "cell_type": "code",
   "execution_count": 183,
   "id": "fb96acfc",
   "metadata": {},
   "outputs": [],
   "source": [
    "radio_novinky = pd.DataFrame(df2.groupby('interpret_hlavni')['rok'].min()).reset_index()"
   ]
  },
  {
   "cell_type": "code",
   "execution_count": 184,
   "id": "e2bf4b00",
   "metadata": {},
   "outputs": [
    {
     "data": {
      "text/plain": [
       "96.0"
      ]
     },
     "execution_count": 184,
     "metadata": {},
     "output_type": "execute_result"
    }
   ],
   "source": [
    "stream_novinky.groupby('rok')['interpret_hlavni'].nunique().mean()"
   ]
  },
  {
   "cell_type": "code",
   "execution_count": 185,
   "id": "a56adb13",
   "metadata": {},
   "outputs": [
    {
     "data": {
      "text/plain": [
       "89.88888888888889"
      ]
     },
     "execution_count": 185,
     "metadata": {},
     "output_type": "execute_result"
    }
   ],
   "source": [
    "radio_novinky.groupby('rok')['interpret_hlavni'].nunique().mean()"
   ]
  },
  {
   "cell_type": "markdown",
   "id": "2b9ad09a",
   "metadata": {},
   "source": [
    "## Stáří interpretů a kapel"
   ]
  },
  {
   "cell_type": "code",
   "execution_count": 186,
   "id": "4c8564aa",
   "metadata": {},
   "outputs": [
    {
     "data": {
      "text/plain": [
       "Index(['interpret_hlavni', 'id', 'stazeno', 'nazev_wiki', 'popis_en',\n",
       "       'popis_cs', 'velikost', 'zanry', 'datum_narozeni', 'datum_umrti',\n",
       "       'zacatek_pusobeni', 'konec_pusobeni', 'zalozeni', 'zanik', 'gender',\n",
       "       'misto_puvodu', 'zeme_puvodu', 'obcanstvi', 'etnicita', 'hlas',\n",
       "       'nastroje', 'oceneni', 'nabozenstvi', 'orientace', 'spotify_id',\n",
       "       'spotify_odberatele'],\n",
       "      dtype='object')"
      ]
     },
     "execution_count": 186,
     "metadata": {},
     "output_type": "execute_result"
    }
   ],
   "source": [
    "wikid.columns"
   ]
  },
  {
   "cell_type": "code",
   "execution_count": 187,
   "id": "77d3b091",
   "metadata": {},
   "outputs": [
    {
     "data": {
      "text/html": [
       "<div>\n",
       "<style scoped>\n",
       "    .dataframe tbody tr th:only-of-type {\n",
       "        vertical-align: middle;\n",
       "    }\n",
       "\n",
       "    .dataframe tbody tr th {\n",
       "        vertical-align: top;\n",
       "    }\n",
       "\n",
       "    .dataframe thead th {\n",
       "        text-align: right;\n",
       "    }\n",
       "</style>\n",
       "<table border=\"1\" class=\"dataframe\">\n",
       "  <thead>\n",
       "    <tr style=\"text-align: right;\">\n",
       "      <th></th>\n",
       "      <th>interpret_hlavni</th>\n",
       "      <th>zalozeni</th>\n",
       "      <th>zacatek_pusobeni</th>\n",
       "    </tr>\n",
       "  </thead>\n",
       "  <tbody>\n",
       "    <tr>\n",
       "      <th>0</th>\n",
       "      <td>'N Sync</td>\n",
       "      <td>1995.0</td>\n",
       "      <td>1995.0</td>\n",
       "    </tr>\n",
       "    <tr>\n",
       "      <th>5</th>\n",
       "      <td>3Oh!3</td>\n",
       "      <td>2004.0</td>\n",
       "      <td>2004.0</td>\n",
       "    </tr>\n",
       "    <tr>\n",
       "      <th>6</th>\n",
       "      <td>5 Seconds Of Summer</td>\n",
       "      <td>2011.0</td>\n",
       "      <td>2011.0</td>\n",
       "    </tr>\n",
       "    <tr>\n",
       "      <th>13</th>\n",
       "      <td>A Great Big World</td>\n",
       "      <td>2011.0</td>\n",
       "      <td>2011.0</td>\n",
       "    </tr>\n",
       "    <tr>\n",
       "      <th>18</th>\n",
       "      <td>ACDC</td>\n",
       "      <td>1973.0</td>\n",
       "      <td>1973.0</td>\n",
       "    </tr>\n",
       "    <tr>\n",
       "      <th>...</th>\n",
       "      <td>...</td>\n",
       "      <td>...</td>\n",
       "      <td>...</td>\n",
       "    </tr>\n",
       "    <tr>\n",
       "      <th>1570</th>\n",
       "      <td>Ylvis</td>\n",
       "      <td>2000.0</td>\n",
       "      <td>2000.0</td>\n",
       "    </tr>\n",
       "    <tr>\n",
       "      <th>1572</th>\n",
       "      <td>Yolanda Be Cool</td>\n",
       "      <td>2009.0</td>\n",
       "      <td>2009.0</td>\n",
       "    </tr>\n",
       "    <tr>\n",
       "      <th>1573</th>\n",
       "      <td>Young Rising Sons</td>\n",
       "      <td>2010.0</td>\n",
       "      <td>2010.0</td>\n",
       "    </tr>\n",
       "    <tr>\n",
       "      <th>1580</th>\n",
       "      <td>Zac Brown Band</td>\n",
       "      <td>2000.0</td>\n",
       "      <td>2002.0</td>\n",
       "    </tr>\n",
       "    <tr>\n",
       "      <th>1598</th>\n",
       "      <td>Čechomor</td>\n",
       "      <td>1988.0</td>\n",
       "      <td>1988.0</td>\n",
       "    </tr>\n",
       "  </tbody>\n",
       "</table>\n",
       "<p>317 rows × 3 columns</p>\n",
       "</div>"
      ],
      "text/plain": [
       "         interpret_hlavni  zalozeni  zacatek_pusobeni\n",
       "0                 'N Sync    1995.0            1995.0\n",
       "5                   3Oh!3    2004.0            2004.0\n",
       "6     5 Seconds Of Summer    2011.0            2011.0\n",
       "13      A Great Big World    2011.0            2011.0\n",
       "18                   ACDC    1973.0            1973.0\n",
       "...                   ...       ...               ...\n",
       "1570                Ylvis    2000.0            2000.0\n",
       "1572      Yolanda Be Cool    2009.0            2009.0\n",
       "1573    Young Rising Sons    2010.0            2010.0\n",
       "1580       Zac Brown Band    2000.0            2002.0\n",
       "1598             Čechomor    1988.0            1988.0\n",
       "\n",
       "[317 rows x 3 columns]"
      ]
     },
     "execution_count": 187,
     "metadata": {},
     "output_type": "execute_result"
    }
   ],
   "source": [
    "wikid[['interpret_hlavni','zalozeni','zacatek_pusobeni']].dropna()"
   ]
  },
  {
   "cell_type": "code",
   "execution_count": 188,
   "id": "1fce4f09",
   "metadata": {},
   "outputs": [],
   "source": [
    "def vek(row):\n",
    "    try:\n",
    "        v = row['rok'] - row['datum_narozeni']\n",
    "    except:\n",
    "        v = None \n",
    "    return v"
   ]
  },
  {
   "cell_type": "code",
   "execution_count": 189,
   "id": "32b0a3a4",
   "metadata": {},
   "outputs": [],
   "source": [
    "def delka_kariery(row):\n",
    "    try:\n",
    "        kariera = row['rok'] - row['zacatek_pusobeni']\n",
    "    except:\n",
    "        kariera = None\n",
    "    return kariera"
   ]
  },
  {
   "cell_type": "code",
   "execution_count": 190,
   "id": "9f9cf2de",
   "metadata": {},
   "outputs": [],
   "source": [
    "def po_rozpadu(row):\n",
    "    try:\n",
    "        pr = row['rok'] - row['konec_pusobeni']\n",
    "        if pr > 0:\n",
    "            return pr\n",
    "        else:\n",
    "            return None\n",
    "    except:\n",
    "        return None"
   ]
  },
  {
   "cell_type": "code",
   "execution_count": 191,
   "id": "4ac9d2d5",
   "metadata": {},
   "outputs": [],
   "source": [
    "def po_smrti(row):\n",
    "    try:\n",
    "        ps = row['rok'] - row['datum_umrti']\n",
    "        if ps > 0:\n",
    "            return ps\n",
    "        else:\n",
    "            return None\n",
    "    except:\n",
    "        return None"
   ]
  },
  {
   "cell_type": "code",
   "execution_count": 192,
   "id": "9b3e3af0",
   "metadata": {},
   "outputs": [],
   "source": [
    "def dopln_stari(frame):\n",
    "    frame = frame.copy()\n",
    "    frame['vek'] = frame.apply(vek, axis=1)\n",
    "    frame['delka_kariery'] = frame.apply(delka_kariery, axis=1)\n",
    "    frame['po_rozpadu'] = frame.apply(po_smrti, axis=1)\n",
    "    frame['po_smrti'] = frame.apply(po_smrti, axis=1)\n",
    "    return frame"
   ]
  },
  {
   "cell_type": "code",
   "execution_count": 193,
   "id": "b3aa4aba",
   "metadata": {},
   "outputs": [],
   "source": [
    "df = dopln_stari(df)"
   ]
  },
  {
   "cell_type": "code",
   "execution_count": 194,
   "id": "96702563",
   "metadata": {},
   "outputs": [],
   "source": [
    "stream = dopln_stari(stream)"
   ]
  },
  {
   "cell_type": "code",
   "execution_count": 195,
   "id": "a1a75969",
   "metadata": {},
   "outputs": [
    {
     "data": {
      "text/plain": [
       "<Axes: xlabel='rok'>"
      ]
     },
     "execution_count": 195,
     "metadata": {},
     "output_type": "execute_result"
    },
    {
     "data": {
      "image/png": "[encoded data removed]",
      "text/plain": [
       "<Figure size 432x288 with 1 Axes>"
      ]
     },
     "metadata": {
      "needs_background": "light"
     },
     "output_type": "display_data"
    }
   ],
   "source": [
    "df.groupby('rok')['vek'].mean().plot.bar()"
   ]
  },
  {
   "cell_type": "code",
   "execution_count": 196,
   "id": "95886e28",
   "metadata": {},
   "outputs": [
    {
     "data": {
      "text/plain": [
       "interpret_hlavni\n",
       "John Lennon               42.0\n",
       "Kamakawiwo´ Ole Israel    16.0\n",
       "Thomas Gold               16.0\n",
       "Melanie Thornton          11.0\n",
       "Notorious B.I.G.           9.0\n",
       "Michael Jackson            6.0\n",
       "Karel Gott                 4.0\n",
       "Avicii                     2.0\n",
       "David Stypka               2.0\n",
       "Lil Peep                   2.0\n",
       "Miro Žbirka                2.0\n",
       "Petr Muk                   1.0\n",
       "'N Sync                    NaN\n",
       "- Universal Music          NaN\n",
       "2 Chainz                   NaN\n",
       "2 Pac                      NaN\n",
       "21 Savage                  NaN\n",
       "24Kgoldn                   NaN\n",
       "2Choice                    NaN\n",
       "2Kbaby                     NaN\n",
       "3Oh!3                      NaN\n",
       "5 Seconds Of Summer        NaN\n",
       "50 Cent                    NaN\n",
       "5Angels                    NaN\n",
       "6Ix9Ine                    NaN\n",
       "7 Ladies                   NaN\n",
       "99 Souls                   NaN\n",
       "A Boogie Wit Da Hoodie     NaN\n",
       "A Fine Frenzy              NaN\n",
       "A Great Big World          NaN\n",
       "A$Ap Ferg                  NaN\n",
       "A$Ap Rocky                 NaN\n",
       "A-Trak                     NaN\n",
       "A7S                        NaN\n",
       "ACDC                       NaN\n",
       "Aaron Carter               NaN\n",
       "Abba                       NaN\n",
       "Abraxas                    NaN\n",
       "Absolonová                 NaN\n",
       "Ac                         NaN\n",
       "Accept                     NaN\n",
       "Acraze                     NaN\n",
       "Action Bronson             NaN\n",
       "Adam Lambert               NaN\n",
       "Adam Levine                NaN\n",
       "Adam Mišík                 NaN\n",
       "Adam Ďurica                NaN\n",
       "Adele                      NaN\n",
       "Adonxs                     NaN\n",
       "Aerosmith                  NaN\n",
       "Name: po_rozpadu, dtype: float64"
      ]
     },
     "execution_count": 196,
     "metadata": {},
     "output_type": "execute_result"
    }
   ],
   "source": [
    "df.groupby('interpret_hlavni')['po_rozpadu'].max().nlargest(50)"
   ]
  },
  {
   "cell_type": "code",
   "execution_count": 197,
   "id": "9bb13d4d",
   "metadata": {},
   "outputs": [
    {
     "data": {
      "text/plain": [
       "interpret_hlavni\n",
       "John Lennon               42.0\n",
       "Kamakawiwo´ Ole Israel    16.0\n",
       "Thomas Gold               16.0\n",
       "Melanie Thornton          11.0\n",
       "Notorious B.I.G.           9.0\n",
       "Michael Jackson            6.0\n",
       "Karel Gott                 4.0\n",
       "Avicii                     2.0\n",
       "David Stypka               2.0\n",
       "Lil Peep                   2.0\n",
       "Miro Žbirka                2.0\n",
       "Petr Muk                   1.0\n",
       "'N Sync                    NaN\n",
       "- Universal Music          NaN\n",
       "2 Chainz                   NaN\n",
       "2 Pac                      NaN\n",
       "21 Savage                  NaN\n",
       "24Kgoldn                   NaN\n",
       "2Choice                    NaN\n",
       "2Kbaby                     NaN\n",
       "3Oh!3                      NaN\n",
       "5 Seconds Of Summer        NaN\n",
       "50 Cent                    NaN\n",
       "5Angels                    NaN\n",
       "6Ix9Ine                    NaN\n",
       "7 Ladies                   NaN\n",
       "99 Souls                   NaN\n",
       "A Boogie Wit Da Hoodie     NaN\n",
       "A Fine Frenzy              NaN\n",
       "A Great Big World          NaN\n",
       "A$Ap Ferg                  NaN\n",
       "A$Ap Rocky                 NaN\n",
       "A-Trak                     NaN\n",
       "A7S                        NaN\n",
       "ACDC                       NaN\n",
       "Aaron Carter               NaN\n",
       "Abba                       NaN\n",
       "Abraxas                    NaN\n",
       "Absolonová                 NaN\n",
       "Ac                         NaN\n",
       "Accept                     NaN\n",
       "Acraze                     NaN\n",
       "Action Bronson             NaN\n",
       "Adam Lambert               NaN\n",
       "Adam Levine                NaN\n",
       "Adam Mišík                 NaN\n",
       "Adam Ďurica                NaN\n",
       "Adele                      NaN\n",
       "Adonxs                     NaN\n",
       "Aerosmith                  NaN\n",
       "Name: po_smrti, dtype: float64"
      ]
     },
     "execution_count": 197,
     "metadata": {},
     "output_type": "execute_result"
    }
   ],
   "source": [
    "df.groupby('interpret_hlavni')['po_smrti'].max().nlargest(50)"
   ]
  },
  {
   "cell_type": "code",
   "execution_count": 198,
   "id": "2e6e9f28",
   "metadata": {},
   "outputs": [
    {
     "data": {
      "text/plain": [
       "interpret_hlavni\n",
       "John Lennon               42.0\n",
       "Bing Crosby               41.0\n",
       "Burl Ives                 27.0\n",
       "Dean Martin               27.0\n",
       "Nico                      27.0\n",
       "Bobby Helms               25.0\n",
       "Frank Sinatra             24.0\n",
       "Steve Lacy                18.0\n",
       "Perry Como                17.0\n",
       "Thomas Gold               13.0\n",
       "Cann                      12.0\n",
       "Andy Williams             10.0\n",
       "Iveta Bartošová            8.0\n",
       "Lil Peep                   6.0\n",
       "Avicii                     5.0\n",
       "Xxxtentacion               5.0\n",
       "Karel Gott                 4.0\n",
       "Juice Wrld                 2.0\n",
       "Mac Miller                 2.0\n",
       "Coolio                     1.0\n",
       "Pop Smoke                  1.0\n",
       "- Universal Music          NaN\n",
       "21 Savage                  NaN\n",
       "24Kgoldn                   NaN\n",
       "5 Seconds Of Summer        NaN\n",
       "58G                        NaN\n",
       "6Ix9Ine                    NaN\n",
       "A Boogie Wit Da Hoodie     NaN\n",
       "A$Ap Ferg                  NaN\n",
       "A$Ap Rocky                 NaN\n",
       "A-Trak                     NaN\n",
       "Aaron Carter               NaN\n",
       "Abde                       NaN\n",
       "Ac                         NaN\n",
       "Acraze                     NaN\n",
       "Action Bronson             NaN\n",
       "Adam Lambert               NaN\n",
       "Adam Mišík                 NaN\n",
       "Adam Ďurica                NaN\n",
       "Adele                      NaN\n",
       "Aerosmith                  NaN\n",
       "Afrojack                   NaN\n",
       "Aj Brix                    NaN\n",
       "Ajr                        NaN\n",
       "Ak                         NaN\n",
       "Alan Walker                NaN\n",
       "Albi John Brix             NaN\n",
       "Alec Benjamin              NaN\n",
       "Alessandra                 NaN\n",
       "Alessia Cara               NaN\n",
       "Name: po_smrti, dtype: float64"
      ]
     },
     "execution_count": 198,
     "metadata": {},
     "output_type": "execute_result"
    }
   ],
   "source": [
    "stream.groupby('interpret_hlavni')['po_smrti'].max().nlargest(50)"
   ]
  },
  {
   "cell_type": "code",
   "execution_count": 199,
   "id": "9c1dc357",
   "metadata": {},
   "outputs": [
    {
     "data": {
      "text/plain": [
       "interpret_hlavni\n",
       "Bing Crosby            115.0\n",
       "Burl Ives              113.0\n",
       "Frank Sinatra          107.0\n",
       "Perry Como             106.0\n",
       "Dean Martin            105.0\n",
       "Thomas Gold             97.0\n",
       "Andy Williams           95.0\n",
       "Bobby Helms             89.0\n",
       "Steve Lacy              88.0\n",
       "John Williams           85.0\n",
       "Karel Gott              84.0\n",
       "John Lennon             82.0\n",
       "Leonard Cohen           82.0\n",
       "Paul Mccartney          80.0\n",
       "Václav Neckář           80.0\n",
       "Brenda Lee              79.0\n",
       "Cann                    77.0\n",
       "José Feliciano          77.0\n",
       "Nico                    77.0\n",
       "Elton John              76.0\n",
       "Hana Zagorová           76.0\n",
       "Zagorová                76.0\n",
       "Paul Simon              74.0\n",
       "Shakin' Stevens         74.0\n",
       "Kojo                    70.0\n",
       "Van Morrison            70.0\n",
       "David Bowie             69.0\n",
       "Miro Žbirka             69.0\n",
       "Chris Rea               67.0\n",
       "Matthew Wilder          67.0\n",
       "Věra Špinarová          66.0\n",
       "James Newton Howard     64.0\n",
       "Annie Lennox            61.0\n",
       "Manu Chao               61.0\n",
       "Coolio                  60.0\n",
       "Janek Ledecký           60.0\n",
       "David Kushner           57.0\n",
       "David Guetta            56.0\n",
       "Iveta Bartošová         56.0\n",
       "Tiësto                  54.0\n",
       "Gwen Stefani            53.0\n",
       "Mariah Carey            53.0\n",
       "Dmx                     51.0\n",
       "Eminem                  51.0\n",
       "Michal Hrůza            51.0\n",
       "Sia                     48.0\n",
       "Jennifer Lopez          47.0\n",
       "Michael Bublé           47.0\n",
       "Shaggy                  47.0\n",
       "Monika Absolonová       46.0\n",
       "Name: vek, dtype: float64"
      ]
     },
     "execution_count": 199,
     "metadata": {},
     "output_type": "execute_result"
    }
   ],
   "source": [
    "stream.groupby('interpret_hlavni')['vek'].max().nlargest(50)"
   ]
  },
  {
   "cell_type": "code",
   "execution_count": 200,
   "id": "0913d14c",
   "metadata": {},
   "outputs": [
    {
     "data": {
      "text/plain": [
       "interpret_hlavni\n",
       "Bing Crosby              92.0\n",
       "Burl Ives                87.0\n",
       "Frank Sinatra            87.0\n",
       "Perry Como               86.0\n",
       "Andy Williams            84.0\n",
       "Dean Martin              82.0\n",
       "Brenda Lee               72.0\n",
       "Bobby Helms              67.0\n",
       "John Lennon              66.0\n",
       "John Williams            65.0\n",
       "Karel Gott               65.0\n",
       "Paul Mccartney           65.0\n",
       "Beatles                  63.0\n",
       "The Ronettes             63.0\n",
       "Elton John               61.0\n",
       "Nico                     61.0\n",
       "Leonard Cohen            60.0\n",
       "Hana Zagorová            59.0\n",
       "Zagorová                 59.0\n",
       "José Feliciano           58.0\n",
       "Paul Simon               58.0\n",
       "Van Morrison             57.0\n",
       "Václav Neckář            57.0\n",
       "Ricchi E Poveri          56.0\n",
       "Shakin' Stevens          54.0\n",
       "Aerosmith                53.0\n",
       "David Bowie              52.0\n",
       "Edison Lighthouse        52.0\n",
       "Miro Žbirka              52.0\n",
       "Věra Špinarová           50.0\n",
       "Queen                    49.0\n",
       "Matthew Wilder           48.0\n",
       "Wham!                    43.0\n",
       "Manu Chao                42.0\n",
       "Janek Ledecký            41.0\n",
       "Metallica                41.0\n",
       "Chris Rea                40.0\n",
       "James Newton Howard      40.0\n",
       "Kabát                    40.0\n",
       "Luis Fonsi               40.0\n",
       "Red Hot Chili Peppers    40.0\n",
       "Annie Lennox             39.0\n",
       "David Guetta             37.0\n",
       "Depeche Mode             37.0\n",
       "Iveta Bartošová          37.0\n",
       "Chinaski                 36.0\n",
       "Coolio                   36.0\n",
       "Gwen Stefani             36.0\n",
       "Michal Hrůza             36.0\n",
       "David Kushner            35.0\n",
       "Name: delka_kariery, dtype: float64"
      ]
     },
     "execution_count": 200,
     "metadata": {},
     "output_type": "execute_result"
    }
   ],
   "source": [
    "stream.groupby('interpret_hlavni')['delka_kariery'].max().nlargest(50)"
   ]
  },
  {
   "cell_type": "code",
   "execution_count": 201,
   "id": "8863bcaa",
   "metadata": {},
   "outputs": [
    {
     "data": {
      "text/plain": [
       "interpret_hlavni\n",
       "Tony Bennett              69.0\n",
       "John Lennon               66.0\n",
       "Karel Gott                65.0\n",
       "Elton John                61.0\n",
       "Hana Zagorová             56.0\n",
       "Václav Neckář             56.0\n",
       "Miro Žbirka               54.0\n",
       "Queen                     52.0\n",
       "Michael Jackson           51.0\n",
       "Paul Mccartney            50.0\n",
       "Zagorová                  50.0\n",
       "Elán                      49.0\n",
       "Kenny Rogers              48.0\n",
       "Joe Cocker                47.0\n",
       "Shakin' Stevens           47.0\n",
       "Khaled                    46.0\n",
       "Michal David              44.0\n",
       "Depeche Mode              43.0\n",
       "Helena Vondráčková        43.0\n",
       "David Koller              42.0\n",
       "Phil Collins              42.0\n",
       "U2                        42.0\n",
       "Wham!                     42.0\n",
       "Citron                    41.0\n",
       "Fred Roberts              41.0\n",
       "Janek Ledecký             41.0\n",
       "Luis Fonsi                41.0\n",
       "James Newton Howard       40.0\n",
       "Kabát                     40.0\n",
       "Petr Kotvald              40.0\n",
       "Red Hot Chili Peppers     40.0\n",
       "Santana                   39.0\n",
       "Lucie Bílá                38.0\n",
       "David Guetta              37.0\n",
       "Kamakawiwo´ Ole Israel    37.0\n",
       "Lucie                     37.0\n",
       "Michal Hrůza              37.0\n",
       "Pavol Habera              37.0\n",
       "Peter Nagy                37.0\n",
       "Zucchero                  37.0\n",
       "Chinaski                  36.0\n",
       "Madonna                   36.0\n",
       "Bon Jovi                  35.0\n",
       "David Michal              35.0\n",
       "Gwen Stefani              35.0\n",
       "Jennifer Lopez            35.0\n",
       "Jaromír Nohavica          34.0\n",
       "Bryan Adams               33.0\n",
       "Buty                      33.0\n",
       "Chumbawamba               33.0\n",
       "Name: delka_kariery, dtype: float64"
      ]
     },
     "execution_count": 201,
     "metadata": {},
     "output_type": "execute_result"
    }
   ],
   "source": [
    "df.groupby('interpret_hlavni')['delka_kariery'].max().nlargest(50)"
   ]
  },
  {
   "cell_type": "code",
   "execution_count": 202,
   "id": "927c0d35",
   "metadata": {},
   "outputs": [
    {
     "data": {
      "text/plain": [
       "interpret_hlavni\n",
       "John Lennon               42.0\n",
       "Kamakawiwo´ Ole Israel    16.0\n",
       "Thomas Gold               16.0\n",
       "Melanie Thornton          11.0\n",
       "Notorious B.I.G.           9.0\n",
       "Michael Jackson            6.0\n",
       "Karel Gott                 4.0\n",
       "Avicii                     2.0\n",
       "David Stypka               2.0\n",
       "Lil Peep                   2.0\n",
       "Miro Žbirka                2.0\n",
       "Petr Muk                   1.0\n",
       "'N Sync                    NaN\n",
       "- Universal Music          NaN\n",
       "2 Chainz                   NaN\n",
       "2 Pac                      NaN\n",
       "21 Savage                  NaN\n",
       "24Kgoldn                   NaN\n",
       "2Choice                    NaN\n",
       "2Kbaby                     NaN\n",
       "3Oh!3                      NaN\n",
       "5 Seconds Of Summer        NaN\n",
       "50 Cent                    NaN\n",
       "5Angels                    NaN\n",
       "6Ix9Ine                    NaN\n",
       "7 Ladies                   NaN\n",
       "99 Souls                   NaN\n",
       "A Boogie Wit Da Hoodie     NaN\n",
       "A Fine Frenzy              NaN\n",
       "A Great Big World          NaN\n",
       "A$Ap Ferg                  NaN\n",
       "A$Ap Rocky                 NaN\n",
       "A-Trak                     NaN\n",
       "A7S                        NaN\n",
       "ACDC                       NaN\n",
       "Aaron Carter               NaN\n",
       "Abba                       NaN\n",
       "Abraxas                    NaN\n",
       "Absolonová                 NaN\n",
       "Ac                         NaN\n",
       "Accept                     NaN\n",
       "Acraze                     NaN\n",
       "Action Bronson             NaN\n",
       "Adam Lambert               NaN\n",
       "Adam Levine                NaN\n",
       "Adam Mišík                 NaN\n",
       "Adam Ďurica                NaN\n",
       "Adele                      NaN\n",
       "Adonxs                     NaN\n",
       "Aerosmith                  NaN\n",
       "Name: po_rozpadu, dtype: float64"
      ]
     },
     "execution_count": 202,
     "metadata": {},
     "output_type": "execute_result"
    }
   ],
   "source": [
    "df.groupby('interpret_hlavni')['po_rozpadu'].max().nlargest(50)"
   ]
  },
  {
   "cell_type": "code",
   "execution_count": 203,
   "id": "bb4239b2",
   "metadata": {},
   "outputs": [
    {
     "data": {
      "text/plain": [
       "34012     NaN\n",
       "45981     NaN\n",
       "40315     9.0\n",
       "14020    12.0\n",
       "30403    20.0\n",
       "83325     6.0\n",
       "78715    12.0\n",
       "21911    24.0\n",
       "3916     20.0\n",
       "22278    33.0\n",
       "87052     2.0\n",
       "62803     8.0\n",
       "11079    18.0\n",
       "82194     NaN\n",
       "17908    24.0\n",
       "26991    10.0\n",
       "32040    12.0\n",
       "30590    25.0\n",
       "3986     21.0\n",
       "66101    22.0\n",
       "27547    23.0\n",
       "77874    20.0\n",
       "60433    10.0\n",
       "14623     9.0\n",
       "82466     NaN\n",
       "74014     3.0\n",
       "76634     7.0\n",
       "11410    14.0\n",
       "88065     7.0\n",
       "22388    36.0\n",
       "23291    21.0\n",
       "69524     NaN\n",
       "33149     6.0\n",
       "38616    10.0\n",
       "32800     7.0\n",
       "54121     9.0\n",
       "56864     4.0\n",
       "18992     1.0\n",
       "61204     7.0\n",
       "65758     NaN\n",
       "25118     7.0\n",
       "45       27.0\n",
       "88011     4.0\n",
       "56859     4.0\n",
       "64328     5.0\n",
       "58912     NaN\n",
       "13173    21.0\n",
       "59329     8.0\n",
       "69467     NaN\n",
       "50272     NaN\n",
       "Name: delka_kariery, dtype: float64"
      ]
     },
     "execution_count": 203,
     "metadata": {},
     "output_type": "execute_result"
    }
   ],
   "source": [
    "df['delka_kariery'].sample(50)"
   ]
  },
  {
   "cell_type": "code",
   "execution_count": 204,
   "id": "6c402f5b",
   "metadata": {},
   "outputs": [
    {
     "data": {
      "text/plain": [
       "<bound method DataFrame.groupby of                             hitparada     rok  tyden     week  pozice  \\\n",
       "41     CZ - SINGLES DIGITAL - TOP 100  2015.0    1.0  2015-01    38.0   \n",
       "42     CZ - SINGLES DIGITAL - TOP 100  2015.0    2.0  2015-02    56.0   \n",
       "43     CZ - SINGLES DIGITAL - TOP 100  2015.0    3.0  2015-03    66.0   \n",
       "44     CZ - SINGLES DIGITAL - TOP 100  2015.0    4.0  2015-04    67.0   \n",
       "45     CZ - SINGLES DIGITAL - TOP 100  2015.0    5.0  2015-05    81.0   \n",
       "...                               ...     ...    ...      ...     ...   \n",
       "48495  CZ - SINGLES DIGITAL - TOP 100  2023.0   45.0  2023-45   100.0   \n",
       "48496  CZ - SINGLES DIGITAL - TOP 100  2023.0   46.0  2023-46    96.0   \n",
       "48497  CZ - SINGLES DIGITAL - TOP 100  2023.0   47.0  2023-47    57.0   \n",
       "48498  CZ - SINGLES DIGITAL - TOP 100  2023.0   46.0  2023-46    60.0   \n",
       "48499  CZ - SINGLES DIGITAL - TOP 100  2023.0   47.0  2023-47    11.0   \n",
       "\n",
       "                                  track            interpret  \\\n",
       "41                                Happy    Pharrell Williams   \n",
       "42                                Happy    Pharrell Williams   \n",
       "43                                Happy    Pharrell Williams   \n",
       "44                                Happy    Pharrell Williams   \n",
       "45                                Happy    Pharrell Williams   \n",
       "...                                 ...                  ...   \n",
       "48495  Náš příběh (feat. Marek Lambora)       Tereza Mašková   \n",
       "48496  Náš příběh (feat. Marek Lambora)       Tereza Mašková   \n",
       "48497  Náš příběh (feat. Marek Lambora)       Tereza Mašková   \n",
       "48498                          LALALALA           Stray Kids   \n",
       "48499                        Ted a tady  Eight O & Nik Tendo   \n",
       "\n",
       "        interpret_hlavni          vydavatel         id  ... nastroje  \\\n",
       "41     Pharrell Williams         Sony Music     Q14313  ...     None   \n",
       "42     Pharrell Williams         Sony Music     Q14313  ...     None   \n",
       "43     Pharrell Williams         Sony Music     Q14313  ...     None   \n",
       "44     Pharrell Williams         Sony Music     Q14313  ...     None   \n",
       "45     Pharrell Williams         Sony Music     Q14313  ...     None   \n",
       "...                  ...                ...        ...  ...      ...   \n",
       "48495     Tereza Mašková       Warner Music  Q54936095  ...   [hlas]   \n",
       "48496     Tereza Mašková       Warner Music  Q54936095  ...   [hlas]   \n",
       "48497     Tereza Mašková       Warner Music  Q54936095  ...   [hlas]   \n",
       "48498         Stray Kids  Jyp Entertainment  Q46134670  ...     None   \n",
       "48499            Eight O      Bezbazaragang        NaN  ...      NaN   \n",
       "\n",
       "                                                 oceneni nabozenstvi  \\\n",
       "41     [Cena Grammy za nejlepší popový sólový výkon, ...        None   \n",
       "42     [Cena Grammy za nejlepší popový sólový výkon, ...        None   \n",
       "43     [Cena Grammy za nejlepší popový sólový výkon, ...        None   \n",
       "44     [Cena Grammy za nejlepší popový sólový výkon, ...        None   \n",
       "45     [Cena Grammy za nejlepší popový sólový výkon, ...        None   \n",
       "...                                                  ...         ...   \n",
       "48495                                               None        None   \n",
       "48496                                               None        None   \n",
       "48497                                               None        None   \n",
       "48498  [MTV Europe Music Award for Best Korean Act, S...        None   \n",
       "48499                                                NaN         NaN   \n",
       "\n",
       "      orientace              spotify_id spotify_odberatele   vek  \\\n",
       "41         None  2RdwBSPQiwcmiDo9kixcl8                NaN  42.0   \n",
       "42         None  2RdwBSPQiwcmiDo9kixcl8                NaN  42.0   \n",
       "43         None  2RdwBSPQiwcmiDo9kixcl8                NaN  42.0   \n",
       "44         None  2RdwBSPQiwcmiDo9kixcl8                NaN  42.0   \n",
       "45         None  2RdwBSPQiwcmiDo9kixcl8                NaN  42.0   \n",
       "...         ...                     ...                ...   ...   \n",
       "48495      None                    None                NaN  27.0   \n",
       "48496      None                    None                NaN  27.0   \n",
       "48497      None                    None                NaN  27.0   \n",
       "48498      None  2dIgFjalVxs4ThymZ67YCE                NaN   NaN   \n",
       "48499       NaN                     NaN                NaN   NaN   \n",
       "\n",
       "       delka_kariery  po_rozpadu  po_smrti  \n",
       "41              25.0         NaN       NaN  \n",
       "42              25.0         NaN       NaN  \n",
       "43              25.0         NaN       NaN  \n",
       "44              25.0         NaN       NaN  \n",
       "45              25.0         NaN       NaN  \n",
       "...              ...         ...       ...  \n",
       "48495            5.0         NaN       NaN  \n",
       "48496            5.0         NaN       NaN  \n",
       "48497            5.0         NaN       NaN  \n",
       "48498            6.0         NaN       NaN  \n",
       "48499            NaN         NaN       NaN  \n",
       "\n",
       "[45500 rows x 38 columns]>"
      ]
     },
     "execution_count": 204,
     "metadata": {},
     "output_type": "execute_result"
    }
   ],
   "source": [
    "stream.groupby"
   ]
  },
  {
   "cell_type": "code",
   "execution_count": 205,
   "id": "2fc6119c",
   "metadata": {},
   "outputs": [
    {
     "data": {
      "text/plain": [
       "<Axes: xlabel='rok'>"
      ]
     },
     "execution_count": 205,
     "metadata": {},
     "output_type": "execute_result"
    },
    {
     "data": {
      "image/png": "[encoded data removed]",
      "text/plain": [
       "<Figure size 432x288 with 1 Axes>"
      ]
     },
     "metadata": {
      "needs_background": "light"
     },
     "output_type": "display_data"
    }
   ],
   "source": [
    "stream.groupby('rok')['delka_kariery'].mean().plot.bar()"
   ]
  },
  {
   "cell_type": "code",
   "execution_count": 206,
   "id": "3cbd235a",
   "metadata": {},
   "outputs": [
    {
     "data": {
      "text/plain": [
       "<Axes: xlabel='rok'>"
      ]
     },
     "execution_count": 206,
     "metadata": {},
     "output_type": "execute_result"
    },
    {
     "data": {
      "image/png": "[encoded data removed]",
      "text/plain": [
       "<Figure size 432x288 with 1 Axes>"
      ]
     },
     "metadata": {
      "needs_background": "light"
     },
     "output_type": "display_data"
    }
   ],
   "source": [
    "stream.groupby('rok')['delka_kariery'].median().plot.bar()"
   ]
  },
  {
   "cell_type": "code",
   "execution_count": 209,
   "id": "f2c0261d",
   "metadata": {},
   "outputs": [
    {
     "data": {
      "text/plain": [
       "0.1676923076923077"
      ]
     },
     "execution_count": 209,
     "metadata": {},
     "output_type": "execute_result"
    }
   ],
   "source": [
    "len(df[(df['rok'] == 2015) & (df['delka_kariery'].isnull())]) / len(df[df['rok'] == 2015])"
   ]
  },
  {
   "cell_type": "code",
   "execution_count": 210,
   "id": "667bf057",
   "metadata": {},
   "outputs": [
    {
     "data": {
      "text/plain": [
       "0.29595744680851066"
      ]
     },
     "execution_count": 210,
     "metadata": {},
     "output_type": "execute_result"
    }
   ],
   "source": [
    "len(df[(df['rok'] == 2023) & (df['delka_kariery'].isnull())]) / len(df[df['rok'] == 2023])"
   ]
  },
  {
   "cell_type": "code",
   "execution_count": 208,
   "id": "dd043704",
   "metadata": {},
   "outputs": [
    {
     "data": {
      "text/plain": [
       "0.06865384615384615"
      ]
     },
     "execution_count": 208,
     "metadata": {},
     "output_type": "execute_result"
    }
   ],
   "source": [
    "len(stream[(stream['rok'] == 2015) & (stream['delka_kariery'].isnull())]) / len(stream[stream['rok'] == 2015])"
   ]
  },
  {
   "cell_type": "code",
   "execution_count": 207,
   "id": "a4a80e26",
   "metadata": {},
   "outputs": [
    {
     "data": {
      "text/plain": [
       "0.5127659574468085"
      ]
     },
     "execution_count": 207,
     "metadata": {},
     "output_type": "execute_result"
    }
   ],
   "source": [
    "len(stream[(stream['rok'] == 2023) & (stream['delka_kariery'].isnull())]) / len(stream[stream['rok'] == 2023])"
   ]
  }
 ],
 "metadata": {
  "kernelspec": {
   "display_name": "Python 3 (ipykernel)",
   "language": "python",
   "name": "python3"
  },
  "language_info": {
   "codemirror_mode": {
    "name": "ipython",
    "version": 3
   },
   "file_extension": ".py",
   "mimetype": "text/x-python",
   "name": "python",
   "nbconvert_exporter": "python",
   "pygments_lexer": "ipython3",
   "version": "3.10.8"
  }
 },
 "nbformat": 4,
 "nbformat_minor": 5
}
