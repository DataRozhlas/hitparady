{
 "cells": [
  {
   "cell_type": "markdown",
   "id": "b841f4b4",
   "metadata": {},
   "source": [
    "Podklady pro články Anety Martínkové na iROZHLAS.cz v prosinci 2023."
   ]
  },
  {
   "cell_type": "code",
   "execution_count": 1,
   "id": "71d28ea5",
   "metadata": {},
   "outputs": [],
   "source": [
    "import os\n",
    "import json\n",
    "import pandas as pd"
   ]
  },
  {
   "cell_type": "code",
   "execution_count": 2,
   "id": "10418d47",
   "metadata": {},
   "outputs": [],
   "source": [
    "from src.tabulka import tabulka\n",
    "from src.graf import graf"
   ]
  },
  {
   "cell_type": "code",
   "execution_count": 3,
   "id": "5674b903",
   "metadata": {},
   "outputs": [],
   "source": [
    "df = pd.read_csv(os.path.join(\"data\",\"CZ_RADIO_TOP_100_tydenni.csv\"))\n",
    "wikid = pd.read_json(os.path.join(\"wikidata\",\"wikidata.json\"))\n",
    "df = df.merge(wikid, on=\"interpret_hlavni\", how=\"outer\")\n",
    "stream = pd.read_csv(os.path.join(\"data\",\"CZ_SINGLES_DIGITAL_TOP_100_tydenni.csv\"))\n",
    "stream = stream.merge(wikid, on=\"interpret_hlavni\", how=\"outer\")"
   ]
  },
  {
   "cell_type": "markdown",
   "id": "705803fe",
   "metadata": {},
   "source": [
    "## Poslední týden v žebříčku bez…"
   ]
  },
  {
   "cell_type": "code",
   "execution_count": 4,
   "id": "526e0cd7",
   "metadata": {},
   "outputs": [],
   "source": [
    "vsechnytydny = [x for x in df['week'].drop_duplicates().to_list() if len(str(x)) == 7]"
   ]
  },
  {
   "cell_type": "code",
   "execution_count": 5,
   "id": "13f3cc5f",
   "metadata": {},
   "outputs": [],
   "source": [
    "def kdynaposledne(x):\n",
    "    pracovni = df[df['interpret_hlavni'] == x].groupby('week')['pozice'].min()\n",
    "    pracovni = pracovni.reindex(vsechnytydny, fill_value=101).sort_index()\n",
    "    return pracovni[pracovni > 100].tail(1).index[0]"
   ]
  },
  {
   "cell_type": "code",
   "execution_count": 6,
   "id": "8752433b",
   "metadata": {},
   "outputs": [],
   "source": [
    "df = pd.read_csv(os.path.join(\"data\",\"CZ_RADIO_TOP_100_tydenni.csv\"))\n",
    "wikid = pd.read_json(os.path.join(\"wikidata\",\"wikidata.json\"))\n",
    "df = df.merge(wikid, on=\"interpret_hlavni\", how=\"outer\")\n",
    "df = df.sort_values(by='week')"
   ]
  },
  {
   "cell_type": "code",
   "execution_count": 7,
   "id": "828c6117",
   "metadata": {},
   "outputs": [],
   "source": [
    "dominatori = df.groupby('interpret_hlavni').size().nlargest(100).index.to_list()"
   ]
  },
  {
   "cell_type": "code",
   "execution_count": 8,
   "id": "0fb9c374",
   "metadata": {},
   "outputs": [],
   "source": [
    "doms = {}\n",
    "for x in dominatori:\n",
    "    doms[x] = kdynaposledne(x)"
   ]
  },
  {
   "cell_type": "code",
   "execution_count": 9,
   "id": "be1b3824",
   "metadata": {},
   "outputs": [],
   "source": [
    "jak_dlouho_jiz = pd.DataFrame(pd.Series(doms).sort_values().head(7)).reset_index().rename(columns = {0 : 'Naposled mimo TOP 100', 'index': 'Interpreti'})"
   ]
  },
  {
   "cell_type": "code",
   "execution_count": 10,
   "id": "cd31d740",
   "metadata": {},
   "outputs": [
    {
     "data": {
      "text/html": [
       "<div>\n",
       "<style scoped>\n",
       "    .dataframe tbody tr th:only-of-type {\n",
       "        vertical-align: middle;\n",
       "    }\n",
       "\n",
       "    .dataframe tbody tr th {\n",
       "        vertical-align: top;\n",
       "    }\n",
       "\n",
       "    .dataframe thead th {\n",
       "        text-align: right;\n",
       "    }\n",
       "</style>\n",
       "<table border=\"1\" class=\"dataframe\">\n",
       "  <thead>\n",
       "    <tr style=\"text-align: right;\">\n",
       "      <th></th>\n",
       "      <th>Interpreti</th>\n",
       "      <th>Naposled mimo TOP 100</th>\n",
       "    </tr>\n",
       "  </thead>\n",
       "  <tbody>\n",
       "    <tr>\n",
       "      <th>0</th>\n",
       "      <td>Chinaski</td>\n",
       "      <td>2016-52</td>\n",
       "    </tr>\n",
       "    <tr>\n",
       "      <th>1</th>\n",
       "      <td>Mirai</td>\n",
       "      <td>2017-04</td>\n",
       "    </tr>\n",
       "    <tr>\n",
       "      <th>2</th>\n",
       "      <td>Kryštof</td>\n",
       "      <td>2017-21</td>\n",
       "    </tr>\n",
       "    <tr>\n",
       "      <th>3</th>\n",
       "      <td>Miley Cyrus</td>\n",
       "      <td>2020-39</td>\n",
       "    </tr>\n",
       "    <tr>\n",
       "      <th>4</th>\n",
       "      <td>Jelen</td>\n",
       "      <td>2020-43</td>\n",
       "    </tr>\n",
       "    <tr>\n",
       "      <th>5</th>\n",
       "      <td>Ed Sheeran</td>\n",
       "      <td>2020-51</td>\n",
       "    </tr>\n",
       "    <tr>\n",
       "      <th>6</th>\n",
       "      <td>O5</td>\n",
       "      <td>2021-07</td>\n",
       "    </tr>\n",
       "  </tbody>\n",
       "</table>\n",
       "</div>"
      ],
      "text/plain": [
       "    Interpreti Naposled mimo TOP 100\n",
       "0     Chinaski               2016-52\n",
       "1        Mirai               2017-04\n",
       "2      Kryštof               2017-21\n",
       "3  Miley Cyrus               2020-39\n",
       "4        Jelen               2020-43\n",
       "5   Ed Sheeran               2020-51\n",
       "6           O5               2021-07"
      ]
     },
     "execution_count": 10,
     "metadata": {},
     "output_type": "execute_result"
    }
   ],
   "source": [
    "jak_dlouho_jiz"
   ]
  },
  {
   "cell_type": "code",
   "execution_count": 11,
   "id": "021d5380",
   "metadata": {},
   "outputs": [],
   "source": [
    "def odecet_tydnu(tehdy, ted):\n",
    "    roky = int(ted.split(\"-\")[0]) - int(tehdy.split(\"-\")[0])\n",
    "    tydny = int(ted.split(\"-\")[1]) - int(tehdy.split(\"-\")[1])\n",
    "    if tydny < 0:\n",
    "        roky = roky - 1\n",
    "        tydny = 52 + tydny\n",
    "    if roky >= 5:\n",
    "        let = \"let\"\n",
    "    else:\n",
    "        let = \"roky\"\n",
    "    \n",
    "    return(f\"{roky} {let}, {tydny} týdnů\")"
   ]
  },
  {
   "cell_type": "code",
   "execution_count": 12,
   "id": "773065f6",
   "metadata": {},
   "outputs": [
    {
     "data": {
      "text/plain": [
       "'6 let, 49 týdnů'"
      ]
     },
     "execution_count": 12,
     "metadata": {},
     "output_type": "execute_result"
    }
   ],
   "source": [
    "odecet_tydnu(\"2016-52\",\"2023-49\")"
   ]
  },
  {
   "cell_type": "code",
   "execution_count": 13,
   "id": "58b053c2",
   "metadata": {},
   "outputs": [],
   "source": [
    "jak_dlouho_jiz['Délka šňůry'] = jak_dlouho_jiz['Naposled mimo TOP 100'].apply(lambda x: odecet_tydnu(x, \"2023-48\"))"
   ]
  },
  {
   "cell_type": "code",
   "execution_count": 14,
   "id": "913bc0a7",
   "metadata": {},
   "outputs": [
    {
     "data": {
      "text/html": [
       "<div>\n",
       "<style scoped>\n",
       "    .dataframe tbody tr th:only-of-type {\n",
       "        vertical-align: middle;\n",
       "    }\n",
       "\n",
       "    .dataframe tbody tr th {\n",
       "        vertical-align: top;\n",
       "    }\n",
       "\n",
       "    .dataframe thead th {\n",
       "        text-align: right;\n",
       "    }\n",
       "</style>\n",
       "<table border=\"1\" class=\"dataframe\">\n",
       "  <thead>\n",
       "    <tr style=\"text-align: right;\">\n",
       "      <th></th>\n",
       "      <th>Interpreti</th>\n",
       "      <th>Naposled mimo TOP 100</th>\n",
       "      <th>Délka šňůry</th>\n",
       "    </tr>\n",
       "  </thead>\n",
       "  <tbody>\n",
       "    <tr>\n",
       "      <th>0</th>\n",
       "      <td>Chinaski</td>\n",
       "      <td>2016-52</td>\n",
       "      <td>6 let, 48 týdnů</td>\n",
       "    </tr>\n",
       "    <tr>\n",
       "      <th>1</th>\n",
       "      <td>Mirai</td>\n",
       "      <td>2017-04</td>\n",
       "      <td>6 let, 44 týdnů</td>\n",
       "    </tr>\n",
       "    <tr>\n",
       "      <th>2</th>\n",
       "      <td>Kryštof</td>\n",
       "      <td>2017-21</td>\n",
       "      <td>6 let, 27 týdnů</td>\n",
       "    </tr>\n",
       "    <tr>\n",
       "      <th>3</th>\n",
       "      <td>Miley Cyrus</td>\n",
       "      <td>2020-39</td>\n",
       "      <td>3 roky, 9 týdnů</td>\n",
       "    </tr>\n",
       "    <tr>\n",
       "      <th>4</th>\n",
       "      <td>Jelen</td>\n",
       "      <td>2020-43</td>\n",
       "      <td>3 roky, 5 týdnů</td>\n",
       "    </tr>\n",
       "    <tr>\n",
       "      <th>5</th>\n",
       "      <td>Ed Sheeran</td>\n",
       "      <td>2020-51</td>\n",
       "      <td>2 roky, 49 týdnů</td>\n",
       "    </tr>\n",
       "    <tr>\n",
       "      <th>6</th>\n",
       "      <td>O5</td>\n",
       "      <td>2021-07</td>\n",
       "      <td>2 roky, 41 týdnů</td>\n",
       "    </tr>\n",
       "  </tbody>\n",
       "</table>\n",
       "</div>"
      ],
      "text/plain": [
       "    Interpreti Naposled mimo TOP 100       Délka šňůry\n",
       "0     Chinaski               2016-52   6 let, 48 týdnů\n",
       "1        Mirai               2017-04   6 let, 44 týdnů\n",
       "2      Kryštof               2017-21   6 let, 27 týdnů\n",
       "3  Miley Cyrus               2020-39   3 roky, 9 týdnů\n",
       "4        Jelen               2020-43   3 roky, 5 týdnů\n",
       "5   Ed Sheeran               2020-51  2 roky, 49 týdnů\n",
       "6           O5               2021-07  2 roky, 41 týdnů"
      ]
     },
     "execution_count": 14,
     "metadata": {},
     "output_type": "execute_result"
    }
   ],
   "source": [
    "jak_dlouho_jiz"
   ]
  },
  {
   "cell_type": "code",
   "execution_count": 15,
   "id": "3b86d44e",
   "metadata": {},
   "outputs": [
    {
     "data": {
      "text/plain": [
       "84508    2023-47\n",
       "25550    2023-47\n",
       "42386    2023-47\n",
       "28539    2023-47\n",
       "91399    2023-47\n",
       "Name: week, dtype: object"
      ]
     },
     "execution_count": 15,
     "metadata": {},
     "output_type": "execute_result"
    }
   ],
   "source": [
    "df['week'].dropna().tail()"
   ]
  },
  {
   "cell_type": "code",
   "execution_count": 16,
   "id": "6449cde7",
   "metadata": {
    "scrolled": true
   },
   "outputs": [
    {
     "data": {
      "text/plain": [
       "'<table class=\"dataframe table table--responsive table--w100p table--striped-red table--plain\"><caption>Nejdelší aktuální hitparádové šňůry</caption><thead><tr style=\"text-align: right;\"><th class=\"text-nowrap\">Interpreti</th><th class=\"text-nowrap\">Naposled mimo TOP 100</th><th class=\"text-nowrap\">Délka šňůry</th></tr></thead><tbody class=\"text-sm\"><tr><td>Chinaski</td><td>2016-52</td><td>6 let, 48 týdnů</td></tr><tr><td>Mirai</td><td>2017-04</td><td>6 let, 44 týdnů</td></tr><tr><td>Kryštof</td><td>2017-21</td><td>6 let, 27 týdnů</td></tr><tr><td>Miley Cyrus</td><td>2020-39</td><td>3 roky, 9 týdnů</td></tr><tr><td>Jelen</td><td>2020-43</td><td>3 roky, 5 týdnů</td></tr><tr><td>Ed Sheeran</td><td>2020-51</td><td>2 roky, 49 týdnů</td></tr><tr><td>O5</td><td>2021-07</td><td>2 roky, 41 týdnů</td></tr></tbody><tfoot><tr style=\"text-align: center;\"><td colspan=3>Data z rádiové hitparády do 47. týdne letošního roku.</td></tr></tfoot></table>'"
      ]
     },
     "execution_count": 16,
     "metadata": {},
     "output_type": "execute_result"
    }
   ],
   "source": [
    "tabulka(jak_dlouho_jiz, titulek=\"Nejdelší aktuální hitparádové šňůry\", podtitulek=\"Data z rádiové hitparády do 47. týdne letošního roku.\")"
   ]
  },
  {
   "cell_type": "markdown",
   "id": "a178f863",
   "metadata": {},
   "source": [
    "## Jak se točí rádia x stream"
   ]
  },
  {
   "cell_type": "code",
   "execution_count": 17,
   "id": "5382149b",
   "metadata": {},
   "outputs": [],
   "source": [
    "df2 = df.copy()"
   ]
  },
  {
   "cell_type": "code",
   "execution_count": 18,
   "id": "d2c1d912",
   "metadata": {},
   "outputs": [],
   "source": [
    "stream = stream[stream['rok'] >= 2015]\n",
    "df2 = df2[df2['rok'] >= 2015]"
   ]
  },
  {
   "cell_type": "code",
   "execution_count": 19,
   "id": "ce850bba",
   "metadata": {},
   "outputs": [],
   "source": [
    "stream_novinky = pd.DataFrame(stream.groupby('interpret_hlavni')['rok'].min()).reset_index()"
   ]
  },
  {
   "cell_type": "code",
   "execution_count": 20,
   "id": "a6db9b4a",
   "metadata": {},
   "outputs": [],
   "source": [
    "radio_novinky = pd.DataFrame(df2.groupby('interpret_hlavni')['rok'].min()).reset_index()"
   ]
  },
  {
   "cell_type": "code",
   "execution_count": 21,
   "id": "773dbfc9",
   "metadata": {},
   "outputs": [
    {
     "data": {
      "text/plain": [
       "96.0"
      ]
     },
     "execution_count": 21,
     "metadata": {},
     "output_type": "execute_result"
    }
   ],
   "source": [
    "stream_novinky.groupby('rok')['interpret_hlavni'].nunique().mean()"
   ]
  },
  {
   "cell_type": "code",
   "execution_count": 22,
   "id": "0ccec329",
   "metadata": {},
   "outputs": [
    {
     "data": {
      "text/plain": [
       "89.88888888888889"
      ]
     },
     "execution_count": 22,
     "metadata": {},
     "output_type": "execute_result"
    }
   ],
   "source": [
    "radio_novinky.groupby('rok')['interpret_hlavni'].nunique().mean()"
   ]
  },
  {
   "cell_type": "markdown",
   "id": "1bd14eac",
   "metadata": {},
   "source": [
    "## Stáří interpretů a kapel"
   ]
  },
  {
   "cell_type": "code",
   "execution_count": 23,
   "id": "d24690c5",
   "metadata": {},
   "outputs": [
    {
     "data": {
      "text/plain": [
       "Index(['interpret_hlavni', 'id', 'stazeno', 'nazev_wiki', 'popis_en',\n",
       "       'popis_cs', 'velikost', 'zanry', 'datum_narozeni', 'datum_umrti',\n",
       "       'zacatek_pusobeni', 'konec_pusobeni', 'zalozeni', 'zanik', 'gender',\n",
       "       'misto_puvodu', 'zeme_puvodu', 'obcanstvi', 'etnicita', 'hlas',\n",
       "       'nastroje', 'oceneni', 'nabozenstvi', 'orientace', 'spotify_id',\n",
       "       'spotify_odberatele'],\n",
       "      dtype='object')"
      ]
     },
     "execution_count": 23,
     "metadata": {},
     "output_type": "execute_result"
    }
   ],
   "source": [
    "wikid.columns"
   ]
  },
  {
   "cell_type": "code",
   "execution_count": 24,
   "id": "988a7884",
   "metadata": {},
   "outputs": [
    {
     "data": {
      "text/html": [
       "<div>\n",
       "<style scoped>\n",
       "    .dataframe tbody tr th:only-of-type {\n",
       "        vertical-align: middle;\n",
       "    }\n",
       "\n",
       "    .dataframe tbody tr th {\n",
       "        vertical-align: top;\n",
       "    }\n",
       "\n",
       "    .dataframe thead th {\n",
       "        text-align: right;\n",
       "    }\n",
       "</style>\n",
       "<table border=\"1\" class=\"dataframe\">\n",
       "  <thead>\n",
       "    <tr style=\"text-align: right;\">\n",
       "      <th></th>\n",
       "      <th>interpret_hlavni</th>\n",
       "      <th>zalozeni</th>\n",
       "      <th>zacatek_pusobeni</th>\n",
       "    </tr>\n",
       "  </thead>\n",
       "  <tbody>\n",
       "    <tr>\n",
       "      <th>0</th>\n",
       "      <td>'N Sync</td>\n",
       "      <td>1995.0</td>\n",
       "      <td>1995.0</td>\n",
       "    </tr>\n",
       "    <tr>\n",
       "      <th>5</th>\n",
       "      <td>3Oh!3</td>\n",
       "      <td>2004.0</td>\n",
       "      <td>2004.0</td>\n",
       "    </tr>\n",
       "    <tr>\n",
       "      <th>6</th>\n",
       "      <td>5 Seconds Of Summer</td>\n",
       "      <td>2011.0</td>\n",
       "      <td>2011.0</td>\n",
       "    </tr>\n",
       "    <tr>\n",
       "      <th>13</th>\n",
       "      <td>A Great Big World</td>\n",
       "      <td>2011.0</td>\n",
       "      <td>2011.0</td>\n",
       "    </tr>\n",
       "    <tr>\n",
       "      <th>18</th>\n",
       "      <td>ACDC</td>\n",
       "      <td>1973.0</td>\n",
       "      <td>1973.0</td>\n",
       "    </tr>\n",
       "    <tr>\n",
       "      <th>...</th>\n",
       "      <td>...</td>\n",
       "      <td>...</td>\n",
       "      <td>...</td>\n",
       "    </tr>\n",
       "    <tr>\n",
       "      <th>1570</th>\n",
       "      <td>Ylvis</td>\n",
       "      <td>2000.0</td>\n",
       "      <td>2000.0</td>\n",
       "    </tr>\n",
       "    <tr>\n",
       "      <th>1572</th>\n",
       "      <td>Yolanda Be Cool</td>\n",
       "      <td>2009.0</td>\n",
       "      <td>2009.0</td>\n",
       "    </tr>\n",
       "    <tr>\n",
       "      <th>1573</th>\n",
       "      <td>Young Rising Sons</td>\n",
       "      <td>2010.0</td>\n",
       "      <td>2010.0</td>\n",
       "    </tr>\n",
       "    <tr>\n",
       "      <th>1580</th>\n",
       "      <td>Zac Brown Band</td>\n",
       "      <td>2000.0</td>\n",
       "      <td>2002.0</td>\n",
       "    </tr>\n",
       "    <tr>\n",
       "      <th>1598</th>\n",
       "      <td>Čechomor</td>\n",
       "      <td>1988.0</td>\n",
       "      <td>1988.0</td>\n",
       "    </tr>\n",
       "  </tbody>\n",
       "</table>\n",
       "<p>317 rows × 3 columns</p>\n",
       "</div>"
      ],
      "text/plain": [
       "         interpret_hlavni  zalozeni  zacatek_pusobeni\n",
       "0                 'N Sync    1995.0            1995.0\n",
       "5                   3Oh!3    2004.0            2004.0\n",
       "6     5 Seconds Of Summer    2011.0            2011.0\n",
       "13      A Great Big World    2011.0            2011.0\n",
       "18                   ACDC    1973.0            1973.0\n",
       "...                   ...       ...               ...\n",
       "1570                Ylvis    2000.0            2000.0\n",
       "1572      Yolanda Be Cool    2009.0            2009.0\n",
       "1573    Young Rising Sons    2010.0            2010.0\n",
       "1580       Zac Brown Band    2000.0            2002.0\n",
       "1598             Čechomor    1988.0            1988.0\n",
       "\n",
       "[317 rows x 3 columns]"
      ]
     },
     "execution_count": 24,
     "metadata": {},
     "output_type": "execute_result"
    }
   ],
   "source": [
    "wikid[['interpret_hlavni','zalozeni','zacatek_pusobeni']].dropna()"
   ]
  },
  {
   "cell_type": "code",
   "execution_count": 25,
   "id": "366914e6",
   "metadata": {},
   "outputs": [],
   "source": [
    "def vek(row):\n",
    "    try:\n",
    "        v = row['rok'] - row['datum_narozeni']\n",
    "    except:\n",
    "        v = None \n",
    "    return v"
   ]
  },
  {
   "cell_type": "code",
   "execution_count": 26,
   "id": "94e849c5",
   "metadata": {},
   "outputs": [],
   "source": [
    "def delka_kariery(row):\n",
    "    try:\n",
    "        kariera = row['rok'] - row['zacatek_pusobeni']\n",
    "    except:\n",
    "        kariera = None\n",
    "    return kariera"
   ]
  },
  {
   "cell_type": "code",
   "execution_count": 27,
   "id": "ce9c118a",
   "metadata": {},
   "outputs": [],
   "source": [
    "def po_rozpadu(row):\n",
    "    try:\n",
    "        pr = row['rok'] - row['konec_pusobeni']\n",
    "        if pr > 0:\n",
    "            return pr\n",
    "        else:\n",
    "            return None\n",
    "    except:\n",
    "        return None"
   ]
  },
  {
   "cell_type": "code",
   "execution_count": 28,
   "id": "edeae5ed",
   "metadata": {},
   "outputs": [],
   "source": [
    "def po_smrti(row):\n",
    "    try:\n",
    "        ps = row['rok'] - row['datum_umrti']\n",
    "        if ps > 0:\n",
    "            return ps\n",
    "        else:\n",
    "            return None\n",
    "    except:\n",
    "        return None"
   ]
  },
  {
   "cell_type": "code",
   "execution_count": 29,
   "id": "727e9e86",
   "metadata": {},
   "outputs": [],
   "source": [
    "def dopln_stari(frame):\n",
    "    frame = frame.copy()\n",
    "    frame['vek'] = frame.apply(vek, axis=1)\n",
    "    frame['delka_kariery'] = frame.apply(delka_kariery, axis=1)\n",
    "    frame['po_rozpadu'] = frame.apply(po_smrti, axis=1)\n",
    "    frame['po_smrti'] = frame.apply(po_smrti, axis=1)\n",
    "    return frame"
   ]
  },
  {
   "cell_type": "code",
   "execution_count": 30,
   "id": "b3811305",
   "metadata": {},
   "outputs": [],
   "source": [
    "df = dopln_stari(df)"
   ]
  },
  {
   "cell_type": "code",
   "execution_count": 31,
   "id": "1a645ee8",
   "metadata": {},
   "outputs": [],
   "source": [
    "stream = dopln_stari(stream)"
   ]
  },
  {
   "cell_type": "code",
   "execution_count": 32,
   "id": "04307c31",
   "metadata": {},
   "outputs": [
    {
     "data": {
      "text/plain": [
       "<Axes: xlabel='rok'>"
      ]
     },
     "execution_count": 32,
     "metadata": {},
     "output_type": "execute_result"
    },
    {
     "data": {
      "image/png": "[encoded data removed]",
      "text/plain": [
       "<Figure size 640x480 with 1 Axes>"
      ]
     },
     "metadata": {},
     "output_type": "display_data"
    }
   ],
   "source": [
    "df.groupby('rok')['vek'].mean().plot.bar()"
   ]
  },
  {
   "cell_type": "code",
   "execution_count": 33,
   "id": "b4dd6703",
   "metadata": {},
   "outputs": [
    {
     "data": {
      "text/plain": [
       "interpret_hlavni\n",
       "John Lennon               42.0\n",
       "Kamakawiwo´ Ole Israel    16.0\n",
       "Thomas Gold               16.0\n",
       "Melanie Thornton          11.0\n",
       "Notorious B.I.G.           9.0\n",
       "Michael Jackson            6.0\n",
       "Karel Gott                 4.0\n",
       "Avicii                     2.0\n",
       "David Stypka               2.0\n",
       "Lil Peep                   2.0\n",
       "Miro Žbirka                2.0\n",
       "Petr Muk                   1.0\n",
       "'N Sync                    NaN\n",
       "- Universal Music          NaN\n",
       "2 Chainz                   NaN\n",
       "2 Pac                      NaN\n",
       "21 Savage                  NaN\n",
       "24Kgoldn                   NaN\n",
       "2Choice                    NaN\n",
       "2Kbaby                     NaN\n",
       "3Oh!3                      NaN\n",
       "5 Seconds Of Summer        NaN\n",
       "50 Cent                    NaN\n",
       "5Angels                    NaN\n",
       "6Ix9Ine                    NaN\n",
       "7 Ladies                   NaN\n",
       "99 Souls                   NaN\n",
       "A Boogie Wit Da Hoodie     NaN\n",
       "A Fine Frenzy              NaN\n",
       "A Great Big World          NaN\n",
       "A$Ap Ferg                  NaN\n",
       "A$Ap Rocky                 NaN\n",
       "A-Trak                     NaN\n",
       "A7S                        NaN\n",
       "ACDC                       NaN\n",
       "Aaron Carter               NaN\n",
       "Abba                       NaN\n",
       "Abraxas                    NaN\n",
       "Absolonová                 NaN\n",
       "Ac                         NaN\n",
       "Accept                     NaN\n",
       "Acraze                     NaN\n",
       "Action Bronson             NaN\n",
       "Adam Lambert               NaN\n",
       "Adam Levine                NaN\n",
       "Adam Mišík                 NaN\n",
       "Adam Ďurica                NaN\n",
       "Adele                      NaN\n",
       "Adonxs                     NaN\n",
       "Aerosmith                  NaN\n",
       "Name: po_rozpadu, dtype: float64"
      ]
     },
     "execution_count": 33,
     "metadata": {},
     "output_type": "execute_result"
    }
   ],
   "source": [
    "df.groupby('interpret_hlavni')['po_rozpadu'].max().nlargest(50)"
   ]
  },
  {
   "cell_type": "code",
   "execution_count": 34,
   "id": "038d412f",
   "metadata": {},
   "outputs": [
    {
     "data": {
      "text/plain": [
       "interpret_hlavni\n",
       "John Lennon               42.0\n",
       "Kamakawiwo´ Ole Israel    16.0\n",
       "Thomas Gold               16.0\n",
       "Melanie Thornton          11.0\n",
       "Notorious B.I.G.           9.0\n",
       "Michael Jackson            6.0\n",
       "Karel Gott                 4.0\n",
       "Avicii                     2.0\n",
       "David Stypka               2.0\n",
       "Lil Peep                   2.0\n",
       "Miro Žbirka                2.0\n",
       "Petr Muk                   1.0\n",
       "'N Sync                    NaN\n",
       "- Universal Music          NaN\n",
       "2 Chainz                   NaN\n",
       "2 Pac                      NaN\n",
       "21 Savage                  NaN\n",
       "24Kgoldn                   NaN\n",
       "2Choice                    NaN\n",
       "2Kbaby                     NaN\n",
       "3Oh!3                      NaN\n",
       "5 Seconds Of Summer        NaN\n",
       "50 Cent                    NaN\n",
       "5Angels                    NaN\n",
       "6Ix9Ine                    NaN\n",
       "7 Ladies                   NaN\n",
       "99 Souls                   NaN\n",
       "A Boogie Wit Da Hoodie     NaN\n",
       "A Fine Frenzy              NaN\n",
       "A Great Big World          NaN\n",
       "A$Ap Ferg                  NaN\n",
       "A$Ap Rocky                 NaN\n",
       "A-Trak                     NaN\n",
       "A7S                        NaN\n",
       "ACDC                       NaN\n",
       "Aaron Carter               NaN\n",
       "Abba                       NaN\n",
       "Abraxas                    NaN\n",
       "Absolonová                 NaN\n",
       "Ac                         NaN\n",
       "Accept                     NaN\n",
       "Acraze                     NaN\n",
       "Action Bronson             NaN\n",
       "Adam Lambert               NaN\n",
       "Adam Levine                NaN\n",
       "Adam Mišík                 NaN\n",
       "Adam Ďurica                NaN\n",
       "Adele                      NaN\n",
       "Adonxs                     NaN\n",
       "Aerosmith                  NaN\n",
       "Name: po_smrti, dtype: float64"
      ]
     },
     "execution_count": 34,
     "metadata": {},
     "output_type": "execute_result"
    }
   ],
   "source": [
    "df.groupby('interpret_hlavni')['po_smrti'].max().nlargest(50)"
   ]
  },
  {
   "cell_type": "code",
   "execution_count": 35,
   "id": "1a65f94c",
   "metadata": {},
   "outputs": [
    {
     "data": {
      "text/plain": [
       "interpret_hlavni\n",
       "John Lennon               42.0\n",
       "Bing Crosby               41.0\n",
       "Burl Ives                 27.0\n",
       "Dean Martin               27.0\n",
       "Nico                      27.0\n",
       "Bobby Helms               25.0\n",
       "Frank Sinatra             24.0\n",
       "Steve Lacy                18.0\n",
       "Perry Como                17.0\n",
       "Thomas Gold               13.0\n",
       "Cann                      12.0\n",
       "Andy Williams             10.0\n",
       "Iveta Bartošová            8.0\n",
       "Lil Peep                   6.0\n",
       "Avicii                     5.0\n",
       "Xxxtentacion               5.0\n",
       "Karel Gott                 4.0\n",
       "Juice Wrld                 2.0\n",
       "Mac Miller                 2.0\n",
       "Coolio                     1.0\n",
       "Pop Smoke                  1.0\n",
       "- Universal Music          NaN\n",
       "21 Savage                  NaN\n",
       "24Kgoldn                   NaN\n",
       "5 Seconds Of Summer        NaN\n",
       "58G                        NaN\n",
       "6Ix9Ine                    NaN\n",
       "A Boogie Wit Da Hoodie     NaN\n",
       "A$Ap Ferg                  NaN\n",
       "A$Ap Rocky                 NaN\n",
       "A-Trak                     NaN\n",
       "Aaron Carter               NaN\n",
       "Abde                       NaN\n",
       "Ac                         NaN\n",
       "Acraze                     NaN\n",
       "Action Bronson             NaN\n",
       "Adam Lambert               NaN\n",
       "Adam Mišík                 NaN\n",
       "Adam Ďurica                NaN\n",
       "Adele                      NaN\n",
       "Aerosmith                  NaN\n",
       "Afrojack                   NaN\n",
       "Aj Brix                    NaN\n",
       "Ajr                        NaN\n",
       "Ak                         NaN\n",
       "Alan Walker                NaN\n",
       "Albi John Brix             NaN\n",
       "Alec Benjamin              NaN\n",
       "Alessandra                 NaN\n",
       "Alessia Cara               NaN\n",
       "Name: po_smrti, dtype: float64"
      ]
     },
     "execution_count": 35,
     "metadata": {},
     "output_type": "execute_result"
    }
   ],
   "source": [
    "stream.groupby('interpret_hlavni')['po_smrti'].max().nlargest(50)"
   ]
  },
  {
   "cell_type": "code",
   "execution_count": 36,
   "id": "c35c8403",
   "metadata": {},
   "outputs": [
    {
     "data": {
      "text/plain": [
       "interpret_hlavni\n",
       "Bing Crosby            115.0\n",
       "Burl Ives              113.0\n",
       "Frank Sinatra          107.0\n",
       "Perry Como             106.0\n",
       "Dean Martin            105.0\n",
       "Thomas Gold             97.0\n",
       "Andy Williams           95.0\n",
       "Bobby Helms             89.0\n",
       "Steve Lacy              88.0\n",
       "John Williams           85.0\n",
       "Karel Gott              84.0\n",
       "John Lennon             82.0\n",
       "Leonard Cohen           82.0\n",
       "Paul Mccartney          80.0\n",
       "Václav Neckář           80.0\n",
       "Brenda Lee              79.0\n",
       "Cann                    77.0\n",
       "José Feliciano          77.0\n",
       "Nico                    77.0\n",
       "Elton John              76.0\n",
       "Hana Zagorová           76.0\n",
       "Zagorová                76.0\n",
       "Paul Simon              74.0\n",
       "Shakin' Stevens         74.0\n",
       "Kojo                    70.0\n",
       "Van Morrison            70.0\n",
       "David Bowie             69.0\n",
       "Miro Žbirka             69.0\n",
       "Chris Rea               67.0\n",
       "Matthew Wilder          67.0\n",
       "Věra Špinarová          66.0\n",
       "James Newton Howard     64.0\n",
       "Annie Lennox            61.0\n",
       "Manu Chao               61.0\n",
       "Coolio                  60.0\n",
       "Janek Ledecký           60.0\n",
       "David Kushner           57.0\n",
       "David Guetta            56.0\n",
       "Iveta Bartošová         56.0\n",
       "Tiësto                  54.0\n",
       "Gwen Stefani            53.0\n",
       "Mariah Carey            53.0\n",
       "Dmx                     51.0\n",
       "Eminem                  51.0\n",
       "Michal Hrůza            51.0\n",
       "Sia                     48.0\n",
       "Jennifer Lopez          47.0\n",
       "Michael Bublé           47.0\n",
       "Shaggy                  47.0\n",
       "Monika Absolonová       46.0\n",
       "Name: vek, dtype: float64"
      ]
     },
     "execution_count": 36,
     "metadata": {},
     "output_type": "execute_result"
    }
   ],
   "source": [
    "stream.groupby('interpret_hlavni')['vek'].max().nlargest(50)"
   ]
  },
  {
   "cell_type": "code",
   "execution_count": 37,
   "id": "01c8077e",
   "metadata": {},
   "outputs": [
    {
     "data": {
      "text/plain": [
       "interpret_hlavni\n",
       "Bing Crosby              92.0\n",
       "Burl Ives                87.0\n",
       "Frank Sinatra            87.0\n",
       "Perry Como               86.0\n",
       "Andy Williams            84.0\n",
       "Dean Martin              82.0\n",
       "Brenda Lee               72.0\n",
       "Bobby Helms              67.0\n",
       "John Lennon              66.0\n",
       "John Williams            65.0\n",
       "Karel Gott               65.0\n",
       "Paul Mccartney           65.0\n",
       "Beatles                  63.0\n",
       "The Ronettes             63.0\n",
       "Elton John               61.0\n",
       "Nico                     61.0\n",
       "Leonard Cohen            60.0\n",
       "Hana Zagorová            59.0\n",
       "Zagorová                 59.0\n",
       "José Feliciano           58.0\n",
       "Paul Simon               58.0\n",
       "Van Morrison             57.0\n",
       "Václav Neckář            57.0\n",
       "Ricchi E Poveri          56.0\n",
       "Shakin' Stevens          54.0\n",
       "Aerosmith                53.0\n",
       "David Bowie              52.0\n",
       "Edison Lighthouse        52.0\n",
       "Miro Žbirka              52.0\n",
       "Věra Špinarová           50.0\n",
       "Queen                    49.0\n",
       "Matthew Wilder           48.0\n",
       "Wham!                    43.0\n",
       "Manu Chao                42.0\n",
       "Janek Ledecký            41.0\n",
       "Metallica                41.0\n",
       "Chris Rea                40.0\n",
       "James Newton Howard      40.0\n",
       "Kabát                    40.0\n",
       "Luis Fonsi               40.0\n",
       "Red Hot Chili Peppers    40.0\n",
       "Annie Lennox             39.0\n",
       "David Guetta             37.0\n",
       "Depeche Mode             37.0\n",
       "Iveta Bartošová          37.0\n",
       "Chinaski                 36.0\n",
       "Coolio                   36.0\n",
       "Gwen Stefani             36.0\n",
       "Michal Hrůza             36.0\n",
       "David Kushner            35.0\n",
       "Name: delka_kariery, dtype: float64"
      ]
     },
     "execution_count": 37,
     "metadata": {},
     "output_type": "execute_result"
    }
   ],
   "source": [
    "stream.groupby('interpret_hlavni')['delka_kariery'].max().nlargest(50)"
   ]
  },
  {
   "cell_type": "code",
   "execution_count": 38,
   "id": "a18ebb0d",
   "metadata": {},
   "outputs": [
    {
     "data": {
      "text/plain": [
       "interpret_hlavni\n",
       "Tony Bennett              69.0\n",
       "John Lennon               66.0\n",
       "Karel Gott                65.0\n",
       "Elton John                61.0\n",
       "Hana Zagorová             56.0\n",
       "Václav Neckář             56.0\n",
       "Miro Žbirka               54.0\n",
       "Queen                     52.0\n",
       "Michael Jackson           51.0\n",
       "Paul Mccartney            50.0\n",
       "Zagorová                  50.0\n",
       "Elán                      49.0\n",
       "Kenny Rogers              48.0\n",
       "Joe Cocker                47.0\n",
       "Shakin' Stevens           47.0\n",
       "Khaled                    46.0\n",
       "Michal David              44.0\n",
       "Depeche Mode              43.0\n",
       "Helena Vondráčková        43.0\n",
       "David Koller              42.0\n",
       "Phil Collins              42.0\n",
       "U2                        42.0\n",
       "Wham!                     42.0\n",
       "Citron                    41.0\n",
       "Fred Roberts              41.0\n",
       "Janek Ledecký             41.0\n",
       "Luis Fonsi                41.0\n",
       "James Newton Howard       40.0\n",
       "Kabát                     40.0\n",
       "Petr Kotvald              40.0\n",
       "Red Hot Chili Peppers     40.0\n",
       "Santana                   39.0\n",
       "Lucie Bílá                38.0\n",
       "David Guetta              37.0\n",
       "Kamakawiwo´ Ole Israel    37.0\n",
       "Lucie                     37.0\n",
       "Michal Hrůza              37.0\n",
       "Pavol Habera              37.0\n",
       "Peter Nagy                37.0\n",
       "Zucchero                  37.0\n",
       "Chinaski                  36.0\n",
       "Madonna                   36.0\n",
       "Bon Jovi                  35.0\n",
       "David Michal              35.0\n",
       "Gwen Stefani              35.0\n",
       "Jennifer Lopez            35.0\n",
       "Jaromír Nohavica          34.0\n",
       "Bryan Adams               33.0\n",
       "Buty                      33.0\n",
       "Chumbawamba               33.0\n",
       "Name: delka_kariery, dtype: float64"
      ]
     },
     "execution_count": 38,
     "metadata": {},
     "output_type": "execute_result"
    }
   ],
   "source": [
    "df.groupby('interpret_hlavni')['delka_kariery'].max().nlargest(50)"
   ]
  },
  {
   "cell_type": "code",
   "execution_count": 39,
   "id": "c0677ff0",
   "metadata": {},
   "outputs": [
    {
     "data": {
      "text/plain": [
       "interpret_hlavni\n",
       "John Lennon               42.0\n",
       "Kamakawiwo´ Ole Israel    16.0\n",
       "Thomas Gold               16.0\n",
       "Melanie Thornton          11.0\n",
       "Notorious B.I.G.           9.0\n",
       "Michael Jackson            6.0\n",
       "Karel Gott                 4.0\n",
       "Avicii                     2.0\n",
       "David Stypka               2.0\n",
       "Lil Peep                   2.0\n",
       "Miro Žbirka                2.0\n",
       "Petr Muk                   1.0\n",
       "'N Sync                    NaN\n",
       "- Universal Music          NaN\n",
       "2 Chainz                   NaN\n",
       "2 Pac                      NaN\n",
       "21 Savage                  NaN\n",
       "24Kgoldn                   NaN\n",
       "2Choice                    NaN\n",
       "2Kbaby                     NaN\n",
       "3Oh!3                      NaN\n",
       "5 Seconds Of Summer        NaN\n",
       "50 Cent                    NaN\n",
       "5Angels                    NaN\n",
       "6Ix9Ine                    NaN\n",
       "7 Ladies                   NaN\n",
       "99 Souls                   NaN\n",
       "A Boogie Wit Da Hoodie     NaN\n",
       "A Fine Frenzy              NaN\n",
       "A Great Big World          NaN\n",
       "A$Ap Ferg                  NaN\n",
       "A$Ap Rocky                 NaN\n",
       "A-Trak                     NaN\n",
       "A7S                        NaN\n",
       "ACDC                       NaN\n",
       "Aaron Carter               NaN\n",
       "Abba                       NaN\n",
       "Abraxas                    NaN\n",
       "Absolonová                 NaN\n",
       "Ac                         NaN\n",
       "Accept                     NaN\n",
       "Acraze                     NaN\n",
       "Action Bronson             NaN\n",
       "Adam Lambert               NaN\n",
       "Adam Levine                NaN\n",
       "Adam Mišík                 NaN\n",
       "Adam Ďurica                NaN\n",
       "Adele                      NaN\n",
       "Adonxs                     NaN\n",
       "Aerosmith                  NaN\n",
       "Name: po_rozpadu, dtype: float64"
      ]
     },
     "execution_count": 39,
     "metadata": {},
     "output_type": "execute_result"
    }
   ],
   "source": [
    "df.groupby('interpret_hlavni')['po_rozpadu'].max().nlargest(50)"
   ]
  },
  {
   "cell_type": "code",
   "execution_count": 40,
   "id": "ce16a1f4",
   "metadata": {},
   "outputs": [
    {
     "data": {
      "text/plain": [
       "60869     3.0\n",
       "85761     5.0\n",
       "62153    15.0\n",
       "27800    25.0\n",
       "22186    31.0\n",
       "7187     22.0\n",
       "44549     NaN\n",
       "5142      7.0\n",
       "86375    17.0\n",
       "47072    23.0\n",
       "53391     NaN\n",
       "5501     13.0\n",
       "80690     NaN\n",
       "86478     2.0\n",
       "63906     5.0\n",
       "29943     NaN\n",
       "18167    20.0\n",
       "38241    15.0\n",
       "76893     NaN\n",
       "78817    21.0\n",
       "75654     4.0\n",
       "3799     21.0\n",
       "19919     7.0\n",
       "50266     NaN\n",
       "52641    11.0\n",
       "22847    20.0\n",
       "40792     NaN\n",
       "39904    10.0\n",
       "9477     12.0\n",
       "39877     6.0\n",
       "85735     5.0\n",
       "80394     5.0\n",
       "41797     8.0\n",
       "43486     NaN\n",
       "68538    13.0\n",
       "14390     5.0\n",
       "35571    14.0\n",
       "11554    17.0\n",
       "65825     NaN\n",
       "30810     5.0\n",
       "74688    11.0\n",
       "55593     1.0\n",
       "42663     8.0\n",
       "17542    10.0\n",
       "5633      3.0\n",
       "3389     35.0\n",
       "84585     4.0\n",
       "20886    12.0\n",
       "18990     1.0\n",
       "17270     NaN\n",
       "Name: delka_kariery, dtype: float64"
      ]
     },
     "execution_count": 40,
     "metadata": {},
     "output_type": "execute_result"
    }
   ],
   "source": [
    "df['delka_kariery'].sample(50)"
   ]
  },
  {
   "cell_type": "code",
   "execution_count": 41,
   "id": "4d9f2da1",
   "metadata": {},
   "outputs": [
    {
     "data": {
      "text/plain": [
       "<bound method DataFrame.groupby of                             hitparada     rok  tyden     week  pozice  \\\n",
       "41     CZ - SINGLES DIGITAL - TOP 100  2015.0    1.0  2015-01    38.0   \n",
       "42     CZ - SINGLES DIGITAL - TOP 100  2015.0    2.0  2015-02    56.0   \n",
       "43     CZ - SINGLES DIGITAL - TOP 100  2015.0    3.0  2015-03    66.0   \n",
       "44     CZ - SINGLES DIGITAL - TOP 100  2015.0    4.0  2015-04    67.0   \n",
       "45     CZ - SINGLES DIGITAL - TOP 100  2015.0    5.0  2015-05    81.0   \n",
       "...                               ...     ...    ...      ...     ...   \n",
       "48495  CZ - SINGLES DIGITAL - TOP 100  2023.0   45.0  2023-45   100.0   \n",
       "48496  CZ - SINGLES DIGITAL - TOP 100  2023.0   46.0  2023-46    96.0   \n",
       "48497  CZ - SINGLES DIGITAL - TOP 100  2023.0   47.0  2023-47    57.0   \n",
       "48498  CZ - SINGLES DIGITAL - TOP 100  2023.0   46.0  2023-46    60.0   \n",
       "48499  CZ - SINGLES DIGITAL - TOP 100  2023.0   47.0  2023-47    11.0   \n",
       "\n",
       "                                  track            interpret  \\\n",
       "41                                Happy    Pharrell Williams   \n",
       "42                                Happy    Pharrell Williams   \n",
       "43                                Happy    Pharrell Williams   \n",
       "44                                Happy    Pharrell Williams   \n",
       "45                                Happy    Pharrell Williams   \n",
       "...                                 ...                  ...   \n",
       "48495  Náš příběh (feat. Marek Lambora)       Tereza Mašková   \n",
       "48496  Náš příběh (feat. Marek Lambora)       Tereza Mašková   \n",
       "48497  Náš příběh (feat. Marek Lambora)       Tereza Mašková   \n",
       "48498                          LALALALA           Stray Kids   \n",
       "48499                        Ted a tady  Eight O & Nik Tendo   \n",
       "\n",
       "        interpret_hlavni          vydavatel         id  ... nastroje  \\\n",
       "41     Pharrell Williams         Sony Music     Q14313  ...     None   \n",
       "42     Pharrell Williams         Sony Music     Q14313  ...     None   \n",
       "43     Pharrell Williams         Sony Music     Q14313  ...     None   \n",
       "44     Pharrell Williams         Sony Music     Q14313  ...     None   \n",
       "45     Pharrell Williams         Sony Music     Q14313  ...     None   \n",
       "...                  ...                ...        ...  ...      ...   \n",
       "48495     Tereza Mašková       Warner Music  Q54936095  ...   [hlas]   \n",
       "48496     Tereza Mašková       Warner Music  Q54936095  ...   [hlas]   \n",
       "48497     Tereza Mašková       Warner Music  Q54936095  ...   [hlas]   \n",
       "48498         Stray Kids  Jyp Entertainment  Q46134670  ...     None   \n",
       "48499            Eight O      Bezbazaragang        NaN  ...      NaN   \n",
       "\n",
       "                                                 oceneni nabozenstvi  \\\n",
       "41     [Cena Grammy za nejlepší popový sólový výkon, ...        None   \n",
       "42     [Cena Grammy za nejlepší popový sólový výkon, ...        None   \n",
       "43     [Cena Grammy za nejlepší popový sólový výkon, ...        None   \n",
       "44     [Cena Grammy za nejlepší popový sólový výkon, ...        None   \n",
       "45     [Cena Grammy za nejlepší popový sólový výkon, ...        None   \n",
       "...                                                  ...         ...   \n",
       "48495                                               None        None   \n",
       "48496                                               None        None   \n",
       "48497                                               None        None   \n",
       "48498  [MTV Europe Music Award for Best Korean Act, S...        None   \n",
       "48499                                                NaN         NaN   \n",
       "\n",
       "      orientace              spotify_id spotify_odberatele   vek  \\\n",
       "41         None  2RdwBSPQiwcmiDo9kixcl8                NaN  42.0   \n",
       "42         None  2RdwBSPQiwcmiDo9kixcl8                NaN  42.0   \n",
       "43         None  2RdwBSPQiwcmiDo9kixcl8                NaN  42.0   \n",
       "44         None  2RdwBSPQiwcmiDo9kixcl8                NaN  42.0   \n",
       "45         None  2RdwBSPQiwcmiDo9kixcl8                NaN  42.0   \n",
       "...         ...                     ...                ...   ...   \n",
       "48495      None                    None                NaN  27.0   \n",
       "48496      None                    None                NaN  27.0   \n",
       "48497      None                    None                NaN  27.0   \n",
       "48498      None  2dIgFjalVxs4ThymZ67YCE                NaN   NaN   \n",
       "48499       NaN                     NaN                NaN   NaN   \n",
       "\n",
       "       delka_kariery  po_rozpadu  po_smrti  \n",
       "41              25.0         NaN       NaN  \n",
       "42              25.0         NaN       NaN  \n",
       "43              25.0         NaN       NaN  \n",
       "44              25.0         NaN       NaN  \n",
       "45              25.0         NaN       NaN  \n",
       "...              ...         ...       ...  \n",
       "48495            5.0         NaN       NaN  \n",
       "48496            5.0         NaN       NaN  \n",
       "48497            5.0         NaN       NaN  \n",
       "48498            6.0         NaN       NaN  \n",
       "48499            NaN         NaN       NaN  \n",
       "\n",
       "[45500 rows x 38 columns]>"
      ]
     },
     "execution_count": 41,
     "metadata": {},
     "output_type": "execute_result"
    }
   ],
   "source": [
    "stream.groupby"
   ]
  },
  {
   "cell_type": "code",
   "execution_count": 42,
   "id": "a36147bc",
   "metadata": {},
   "outputs": [
    {
     "data": {
      "text/plain": [
       "<Axes: xlabel='rok'>"
      ]
     },
     "execution_count": 42,
     "metadata": {},
     "output_type": "execute_result"
    },
    {
     "data": {
      "image/png": "[encoded data removed]",
      "text/plain": [
       "<Figure size 640x480 with 1 Axes>"
      ]
     },
     "metadata": {},
     "output_type": "display_data"
    }
   ],
   "source": [
    "stream.groupby('rok')['delka_kariery'].mean().plot.bar()"
   ]
  },
  {
   "cell_type": "code",
   "execution_count": 43,
   "id": "59a3eecd",
   "metadata": {},
   "outputs": [
    {
     "data": {
      "text/plain": [
       "<Axes: xlabel='rok'>"
      ]
     },
     "execution_count": 43,
     "metadata": {},
     "output_type": "execute_result"
    },
    {
     "data": {
      "image/png": "[encoded data removed]",
      "text/plain": [
       "<Figure size 640x480 with 1 Axes>"
      ]
     },
     "metadata": {},
     "output_type": "display_data"
    }
   ],
   "source": [
    "stream.groupby('rok')['delka_kariery'].median().plot.bar()"
   ]
  },
  {
   "cell_type": "code",
   "execution_count": 44,
   "id": "022973b9",
   "metadata": {},
   "outputs": [
    {
     "data": {
      "text/plain": [
       "0.1676923076923077"
      ]
     },
     "execution_count": 44,
     "metadata": {},
     "output_type": "execute_result"
    }
   ],
   "source": [
    "len(df[(df['rok'] == 2015) & (df['delka_kariery'].isnull())]) / len(df[df['rok'] == 2015])"
   ]
  },
  {
   "cell_type": "code",
   "execution_count": 45,
   "id": "d7db31da",
   "metadata": {},
   "outputs": [
    {
     "data": {
      "text/plain": [
       "0.29595744680851066"
      ]
     },
     "execution_count": 45,
     "metadata": {},
     "output_type": "execute_result"
    }
   ],
   "source": [
    "len(df[(df['rok'] == 2023) & (df['delka_kariery'].isnull())]) / len(df[df['rok'] == 2023])"
   ]
  },
  {
   "cell_type": "code",
   "execution_count": 46,
   "id": "740f921b",
   "metadata": {},
   "outputs": [
    {
     "data": {
      "text/plain": [
       "0.06865384615384615"
      ]
     },
     "execution_count": 46,
     "metadata": {},
     "output_type": "execute_result"
    }
   ],
   "source": [
    "len(stream[(stream['rok'] == 2015) & (stream['delka_kariery'].isnull())]) / len(stream[stream['rok'] == 2015])"
   ]
  },
  {
   "cell_type": "code",
   "execution_count": 47,
   "id": "557b4b77",
   "metadata": {},
   "outputs": [
    {
     "data": {
      "text/plain": [
       "0.5127659574468085"
      ]
     },
     "execution_count": 47,
     "metadata": {},
     "output_type": "execute_result"
    }
   ],
   "source": [
    "len(stream[(stream['rok'] == 2023) & (stream['delka_kariery'].isnull())]) / len(stream[stream['rok'] == 2023])"
   ]
  },
  {
   "cell_type": "markdown",
   "id": "ccbe7534",
   "metadata": {},
   "source": [
    "## Stream"
   ]
  },
  {
   "cell_type": "code",
   "execution_count": 48,
   "id": "182c5f6c",
   "metadata": {},
   "outputs": [],
   "source": [
    "vsechnytydny_s = stream[stream['rok'] >= 2017]['week'].sort_values().drop_duplicates().to_list()"
   ]
  },
  {
   "cell_type": "code",
   "execution_count": 49,
   "id": "e22a0ae2",
   "metadata": {},
   "outputs": [],
   "source": [
    "def nejvyssi_pozice_interpreta(x):\n",
    "    pracovni = pd.Series(stream[stream['interpret_hlavni'] == x].groupby('week')['pozice'].min(), name=x)\n",
    "    pracovni = pracovni.reindex(vsechnytydny_s, fill_value=101).sort_index()\n",
    "    return pracovni"
   ]
  },
  {
   "cell_type": "code",
   "execution_count": 50,
   "id": "fb86054c",
   "metadata": {},
   "outputs": [
    {
     "data": {
      "text/plain": [
       "['Ben Cristovao',\n",
       " 'Wohnout',\n",
       " 'Yzomandias',\n",
       " 'Calin',\n",
       " 'Nik Tendo',\n",
       " 'Ektor',\n",
       " 'Mirai',\n",
       " 'Meduza']"
      ]
     },
     "execution_count": 50,
     "metadata": {},
     "output_type": "execute_result"
    }
   ],
   "source": [
    "top10stream_cz = stream[stream['zeme_puvodu'].str.lower().str.contains('česk',na=False)].groupby('interpret_hlavni')['week'].nunique().nlargest(8).index.to_list()\n",
    "top10stream_cz"
   ]
  },
  {
   "cell_type": "code",
   "execution_count": 51,
   "id": "11d38917",
   "metadata": {},
   "outputs": [],
   "source": [
    "graf_cz_stream = []\n",
    "for i in top10stream_cz:\n",
    "    graf_cz_stream.append(nejvyssi_pozice_interpreta(i))"
   ]
  },
  {
   "cell_type": "code",
   "execution_count": 52,
   "id": "c0482842",
   "metadata": {},
   "outputs": [],
   "source": [
    "ukryt = graf_cz_stream[:3] + graf_cz_stream[5:]"
   ]
  },
  {
   "cell_type": "code",
   "execution_count": 53,
   "id": "10a64e0b",
   "metadata": {
    "scrolled": true
   },
   "outputs": [
    {
     "name": "stdout",
     "output_type": "stream",
     "text": [
      "Graf uložen.\n"
     ]
    }
   ],
   "source": [
    "graf(carovy=graf_cz_stream, target=\"pozoruhodni_interpreti_stream\", titulek='Nejúspěšnější čeští interpreti v digitální hitparádě', podtitulek=f'''Hitparádové dráhy osmi interpretů, kteří zaznamenali nejvíce týdnů s alespoň jednou písní mezi stovkou nejpřehrávanějších na digitálních platformách. Srovnatelně úspěšní v rádiích jsou z nich pouze Mirai.''', kredity=[\"Zdroj dat: ifpicr.cz | Vizualizace: Michal Kašpárek, iROZHLAS.cz\",\"https://www.irozhlas.cz/zpravy-tag/datova-zurnalistika\"], prvni=True, osay=' ', osay2=' ', skladany=False, naopak=False, vzhurunohama=True, osaymin=1, osaymax=100, skryte=graf_cz_stream[2:])"
   ]
  },
  {
   "cell_type": "code",
   "execution_count": 54,
   "id": "2bfafb9c",
   "metadata": {},
   "outputs": [],
   "source": [
    "vsechnytydny_c = stream[stream['rok'] >= 2018]['week'].sort_values().drop_duplicates().to_list()"
   ]
  },
  {
   "cell_type": "code",
   "execution_count": 55,
   "id": "69e9b9ae",
   "metadata": {},
   "outputs": [],
   "source": [
    "calin_radio = pd.Series(df[df['interpret_hlavni'] == 'Calin'].groupby('week')['pozice'].min(), name='Nejlepší pozice v rádiovém žebříčku').reindex(vsechnytydny_c).fillna(101)"
   ]
  },
  {
   "cell_type": "code",
   "execution_count": 56,
   "id": "b20587c9",
   "metadata": {},
   "outputs": [
    {
     "data": {
      "text/plain": [
       "47"
      ]
     },
     "execution_count": 56,
     "metadata": {},
     "output_type": "execute_result"
    }
   ],
   "source": [
    "len(stream[stream['interpret_hlavni'] == 'Calin']['track'].drop_duplicates())"
   ]
  },
  {
   "cell_type": "code",
   "execution_count": 57,
   "id": "5aae4c02",
   "metadata": {},
   "outputs": [
    {
     "data": {
      "text/plain": [
       "90702         Santé\n",
       "90708    Pretty Boy\n",
       "90712         Safír\n",
       "Name: track, dtype: object"
      ]
     },
     "execution_count": 57,
     "metadata": {},
     "output_type": "execute_result"
    }
   ],
   "source": [
    "df[df['interpret_hlavni'] == 'Calin']['track'].drop_duplicates()"
   ]
  },
  {
   "cell_type": "code",
   "execution_count": 58,
   "id": "5cd33f20",
   "metadata": {},
   "outputs": [
    {
     "data": {
      "text/plain": [
       "week\n",
       "2018-01    101.0\n",
       "2018-02    101.0\n",
       "2018-03    101.0\n",
       "2018-04    101.0\n",
       "2018-05    101.0\n",
       "           ...  \n",
       "2023-43    101.0\n",
       "2023-44    101.0\n",
       "2023-45    101.0\n",
       "2023-46    101.0\n",
       "2023-47    101.0\n",
       "Name: Nejlepší pozice v rádiovém žebříčku, Length: 301, dtype: float64"
      ]
     },
     "execution_count": 58,
     "metadata": {},
     "output_type": "execute_result"
    }
   ],
   "source": [
    "calin_radio"
   ]
  },
  {
   "cell_type": "code",
   "execution_count": 59,
   "id": "e6a3d47b",
   "metadata": {},
   "outputs": [],
   "source": [
    "calin_stream = pd.Series(stream[stream['interpret_hlavni'] == 'Calin'].groupby('week')['pozice'].min(), name='Nejlepší pozice v digitálním žebříčku').reindex(vsechnytydny_c).fillna(101)"
   ]
  },
  {
   "cell_type": "code",
   "execution_count": 60,
   "id": "d6a5dd4f",
   "metadata": {},
   "outputs": [
    {
     "data": {
      "text/plain": [
       "week\n",
       "2018-01    101.0\n",
       "2018-02    101.0\n",
       "2018-03    101.0\n",
       "2018-04    101.0\n",
       "2018-05    101.0\n",
       "           ...  \n",
       "2023-43      6.0\n",
       "2023-44      3.0\n",
       "2023-45      3.0\n",
       "2023-46      2.0\n",
       "2023-47      2.0\n",
       "Name: Nejlepší pozice v digitálním žebříčku, Length: 301, dtype: float64"
      ]
     },
     "execution_count": 60,
     "metadata": {},
     "output_type": "execute_result"
    }
   ],
   "source": [
    "calin_stream"
   ]
  },
  {
   "cell_type": "code",
   "execution_count": 70,
   "id": "c2e77a35",
   "metadata": {},
   "outputs": [
    {
     "name": "stdout",
     "output_type": "stream",
     "text": [
      "Graf uložen.\n"
     ]
    }
   ],
   "source": [
    "graf(carovy=[calin_stream,calin_radio], target=\"calin\", titulek='Jak byl Calin vysoko na streamu a v rádiu', podtitulek=f'''Do digitální hitparády pronikl poslední držitel Anděla pro Objev roku se 47 písněmi. V rádiích se do TOP 100 dostaly tři.''', kredity=[\"Zdroj dat: ifpicr.cz | Vizualizace: Michal Kašpárek, iROZHLAS.cz\",\"https://www.irozhlas.cz/zpravy-tag/datova-zurnalistika\"], prvni=True, osay=' ', osay2=' ', skladany=False, naopak=False, vzhurunohama=True, osaymin=1, osaymax=100)"
   ]
  },
  {
   "cell_type": "markdown",
   "id": "36bd5ebe",
   "metadata": {},
   "source": [
    "## Pro V12"
   ]
  },
  {
   "cell_type": "code",
   "execution_count": 62,
   "id": "e8328295",
   "metadata": {},
   "outputs": [
    {
     "data": {
      "text/plain": [
       "Series([], Name: track, dtype: object)"
      ]
     },
     "execution_count": 62,
     "metadata": {},
     "output_type": "execute_result"
    }
   ],
   "source": [
    "df[df['interpret_hlavni'].str.lower().str.contains('kubišo', na=False)]['track'].dropna().drop_duplicates()"
   ]
  },
  {
   "cell_type": "code",
   "execution_count": 63,
   "id": "1fd1d92b",
   "metadata": {},
   "outputs": [
    {
     "data": {
      "text/plain": [
       "Series([], Name: track, dtype: object)"
      ]
     },
     "execution_count": 63,
     "metadata": {},
     "output_type": "execute_result"
    }
   ],
   "source": [
    "df[df['interpret_hlavni'].str.lower().str.contains('kryl', na=False)]['track'].dropna().drop_duplicates()"
   ]
  },
  {
   "cell_type": "code",
   "execution_count": 64,
   "id": "a2b01525",
   "metadata": {},
   "outputs": [
    {
     "data": {
      "text/plain": [
       "24576                      Burlaci\n",
       "24589                    Malá dáma\n",
       "24666                 Kdoví jestli\n",
       "24738                 Raci v práci\n",
       "24819                      Virtuoz\n",
       "24848    Don Pedro von Poltergeist\n",
       "24862                       Schody\n",
       "24891                Brousíme nože\n",
       "24903               Western Boogie\n",
       "24910                Houby magický\n",
       "24917                        Šaman\n",
       "24920        RUMCAJS MILOVAL MANKU\n",
       "Name: track, dtype: object"
      ]
     },
     "execution_count": 64,
     "metadata": {},
     "output_type": "execute_result"
    }
   ],
   "source": [
    "df[df['interpret_hlavni'].str.lower().str.contains('kabát', na=False)]['track'].dropna().drop_duplicates()"
   ]
  },
  {
   "cell_type": "code",
   "execution_count": 65,
   "id": "b6ee2fbc",
   "metadata": {},
   "outputs": [
    {
     "data": {
      "text/plain": [
       "Series([], Name: track, dtype: object)"
      ]
     },
     "execution_count": 65,
     "metadata": {},
     "output_type": "execute_result"
    }
   ],
   "source": [
    "df[df['interpret_hlavni'].str.lower().str.contains('rolling', na=False)]['track'].dropna().drop_duplicates()"
   ]
  },
  {
   "cell_type": "code",
   "execution_count": 66,
   "id": "042f9d92",
   "metadata": {},
   "outputs": [
    {
     "data": {
      "text/plain": [
       "Series([], Name: track, dtype: object)"
      ]
     },
     "execution_count": 66,
     "metadata": {},
     "output_type": "execute_result"
    }
   ],
   "source": [
    "df[df['interpret_hlavni'].str.lower().str.contains('abba', na=False)]['track'].dropna().drop_duplicates()"
   ]
  },
  {
   "cell_type": "code",
   "execution_count": 67,
   "id": "e3177917",
   "metadata": {},
   "outputs": [
    {
     "data": {
      "text/plain": [
       "Series([], Name: track, dtype: object)"
      ]
     },
     "execution_count": 67,
     "metadata": {},
     "output_type": "execute_result"
    }
   ],
   "source": [
    "df[df['interpret_hlavni'].str.lower().str.contains('beatles', na=False)]['track'].dropna().drop_duplicates()"
   ]
  },
  {
   "cell_type": "code",
   "execution_count": 68,
   "id": "048af062",
   "metadata": {},
   "outputs": [
    {
     "data": {
      "text/plain": [
       "Series([], Name: track, dtype: object)"
      ]
     },
     "execution_count": 68,
     "metadata": {},
     "output_type": "execute_result"
    }
   ],
   "source": [
    "df[df['interpret_hlavni'].str.lower().str.contains('olympi', na=False)]['track'].dropna().drop_duplicates()"
   ]
  },
  {
   "cell_type": "code",
   "execution_count": 69,
   "id": "4eb2e61e",
   "metadata": {},
   "outputs": [
    {
     "data": {
      "text/plain": [
       "Series([], Name: track, dtype: object)"
      ]
     },
     "execution_count": 69,
     "metadata": {},
     "output_type": "execute_result"
    }
   ],
   "source": [
    "df[df['interpret_hlavni'].str.lower().str.contains('cranb', na=False)]['track'].dropna().drop_duplicates()"
   ]
  },
  {
   "cell_type": "markdown",
   "id": "dedd05dc",
   "metadata": {},
   "source": [
    "## Top tracky na streamu"
   ]
  },
  {
   "cell_type": "code",
   "execution_count": 75,
   "id": "a6e813d0",
   "metadata": {},
   "outputs": [],
   "source": [
    "stream['track_pekne'] = stream.apply(lambda row: f\"\"\"{row['interpret_hlavni']}: {row['track']}\"\"\", axis=1)"
   ]
  },
  {
   "cell_type": "code",
   "execution_count": 111,
   "id": "a06478fa",
   "metadata": {},
   "outputs": [],
   "source": [
    "top_ceske_tracky = pd.DataFrame(stream[(stream['pozice'] == 1) & (stream['zeme_puvodu'].str.lower().str.contains(\"čes\", na=False))].groupby(['interpret_hlavni','track'])['week'].nunique().nlargest(50))\n",
    "top_ceske_tracky = top_ceske_tracky.reset_index()\n",
    "top_ceske_tracky = top_ceske_tracky[top_ceske_tracky['week'] >= 2]\n",
    "top_ceske_tracky = top_ceske_tracky.rename(columns = {'interpret_hlavni': 'Hlavní interpret', 'week': 'Týdnů #1', 'track': 'Track'})"
   ]
  },
  {
   "cell_type": "code",
   "execution_count": 112,
   "id": "dde55714",
   "metadata": {},
   "outputs": [],
   "source": [
    "top_ceske_tracky['Rok'] = top_ceske_tracky['Track'].apply(lambda x: stream[stream['track'] == x]['week'].to_list()[0][0:4])"
   ]
  },
  {
   "cell_type": "code",
   "execution_count": 113,
   "id": "1e840492",
   "metadata": {},
   "outputs": [
    {
     "data": {
      "text/html": [
       "<div>\n",
       "<style scoped>\n",
       "    .dataframe tbody tr th:only-of-type {\n",
       "        vertical-align: middle;\n",
       "    }\n",
       "\n",
       "    .dataframe tbody tr th {\n",
       "        vertical-align: top;\n",
       "    }\n",
       "\n",
       "    .dataframe thead th {\n",
       "        text-align: right;\n",
       "    }\n",
       "</style>\n",
       "<table border=\"1\" class=\"dataframe\">\n",
       "  <thead>\n",
       "    <tr style=\"text-align: right;\">\n",
       "      <th></th>\n",
       "      <th>Hlavní interpret</th>\n",
       "      <th>Track</th>\n",
       "      <th>Týdnů #1</th>\n",
       "      <th>Rok</th>\n",
       "    </tr>\n",
       "  </thead>\n",
       "  <tbody>\n",
       "    <tr>\n",
       "      <th>0</th>\n",
       "      <td>Calin</td>\n",
       "      <td>Hannah Montana</td>\n",
       "      <td>32</td>\n",
       "      <td>2022</td>\n",
       "    </tr>\n",
       "    <tr>\n",
       "      <th>1</th>\n",
       "      <td>Calin</td>\n",
       "      <td>Safír</td>\n",
       "      <td>27</td>\n",
       "      <td>2023</td>\n",
       "    </tr>\n",
       "    <tr>\n",
       "      <th>2</th>\n",
       "      <td>Yzomandias</td>\n",
       "      <td>Rolls (feat. Nik Tendo)</td>\n",
       "      <td>4</td>\n",
       "      <td>2020</td>\n",
       "    </tr>\n",
       "    <tr>\n",
       "      <th>3</th>\n",
       "      <td>Calin</td>\n",
       "      <td>Praha/Vídeň</td>\n",
       "      <td>4</td>\n",
       "      <td>2021</td>\n",
       "    </tr>\n",
       "    <tr>\n",
       "      <th>4</th>\n",
       "      <td>Calin</td>\n",
       "      <td>Růže (feat. STEIN27)</td>\n",
       "      <td>2</td>\n",
       "      <td>2019</td>\n",
       "    </tr>\n",
       "    <tr>\n",
       "      <th>5</th>\n",
       "      <td>Ektor</td>\n",
       "      <td>King Kong</td>\n",
       "      <td>2</td>\n",
       "      <td>2023</td>\n",
       "    </tr>\n",
       "    <tr>\n",
       "      <th>6</th>\n",
       "      <td>Yzomandias</td>\n",
       "      <td>Designer Flow</td>\n",
       "      <td>2</td>\n",
       "      <td>2020</td>\n",
       "    </tr>\n",
       "  </tbody>\n",
       "</table>\n",
       "</div>"
      ],
      "text/plain": [
       "  Hlavní interpret                    Track  Týdnů #1   Rok\n",
       "0            Calin           Hannah Montana        32  2022\n",
       "1            Calin                    Safír        27  2023\n",
       "2       Yzomandias  Rolls (feat. Nik Tendo)         4  2020\n",
       "3            Calin              Praha/Vídeň         4  2021\n",
       "4            Calin     Růže (feat. STEIN27)         2  2019\n",
       "5            Ektor                King Kong         2  2023\n",
       "6       Yzomandias            Designer Flow         2  2020"
      ]
     },
     "execution_count": 113,
     "metadata": {},
     "output_type": "execute_result"
    }
   ],
   "source": [
    "top_ceske_tracky"
   ]
  },
  {
   "cell_type": "code",
   "execution_count": 114,
   "id": "deda30c6",
   "metadata": {},
   "outputs": [
    {
     "data": {
      "text/plain": [
       "'<table class=\"dataframe table table--responsive table--w100p table--striped-red table--plain\"><caption>České bengry na streamovacích platformách</caption><thead><tr style=\"text-align: right;\"><th class=\"text-nowrap\">Hlavní interpret</th><th class=\"text-nowrap\">Track</th><th class=\"text-nowrap\">Týdnů #1</th><th class=\"text-nowrap\">Rok</th></tr></thead><tbody class=\"text-sm\"><tr><td>Calin</td><td>Hannah Montana</td><td>32</td><td>2022</td></tr><tr><td>Calin</td><td>Safír</td><td>27</td><td>2023</td></tr><tr><td>Yzomandias</td><td>Rolls (feat. Nik Tendo)</td><td>4</td><td>2020</td></tr><tr><td>Calin</td><td>Praha/Vídeň</td><td>4</td><td>2021</td></tr><tr><td>Calin</td><td>Růže (feat. STEIN27)</td><td>2</td><td>2019</td></tr><tr><td>Ektor</td><td>King Kong</td><td>2</td><td>2023</td></tr><tr><td>Yzomandias</td><td>Designer Flow</td><td>2</td><td>2020</td></tr></tbody><tfoot><tr style=\"text-align: center;\"><td colspan=4>Singly, které byly alespoň dva týdny na špičce hitparády TOP 100 digital</td></tr></tfoot></table>'"
      ]
     },
     "execution_count": 114,
     "metadata": {},
     "output_type": "execute_result"
    }
   ],
   "source": [
    "tabulka(top_ceske_tracky, titulek='České bengry na streamovacích platformách', podtitulek=\"Singly, které byly alespoň dva týdny na špičce hitparády TOP 100 digital\")"
   ]
  }
 ],
 "metadata": {
  "kernelspec": {
   "display_name": "Python 3 (ipykernel)",
   "language": "python",
   "name": "python3"
  },
  "language_info": {
   "codemirror_mode": {
    "name": "ipython",
    "version": 3
   },
   "file_extension": ".py",
   "mimetype": "text/x-python",
   "name": "python",
   "nbconvert_exporter": "python",
   "pygments_lexer": "ipython3",
   "version": "3.11.5"
  }
 },
 "nbformat": 4,
 "nbformat_minor": 5
}
