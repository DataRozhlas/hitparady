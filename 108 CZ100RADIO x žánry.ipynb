{
 "cells": [
  {
   "cell_type": "markdown",
   "id": "41e6c63a",
   "metadata": {},
   "source": [
    "**Na co bacha**\n",
    "\n",
    "- Žánry jsou spojeny s interprety, ne písněmi!"
   ]
  },
  {
   "cell_type": "code",
   "execution_count": 1,
   "id": "a8cf1cbd",
   "metadata": {},
   "outputs": [],
   "source": [
    "import os\n",
    "import pandas as pd"
   ]
  },
  {
   "cell_type": "code",
   "execution_count": 2,
   "id": "6ae6d00c",
   "metadata": {},
   "outputs": [],
   "source": [
    "df = pd.read_csv(os.path.join(\"data\",\"CZ_RADIO_TOP_100_tydenni.csv\"))\n",
    "wikid = pd.read_json(os.path.join(\"wikidata\",\"wikidata.json\"))\n",
    "df = df.merge(wikid, on=\"interpret_hlavni\", how=\"outer\")"
   ]
  },
  {
   "cell_type": "code",
   "execution_count": 3,
   "id": "24bb4cb3",
   "metadata": {},
   "outputs": [],
   "source": [
    "zanry = df.explode('zanry')"
   ]
  },
  {
   "cell_type": "code",
   "execution_count": 4,
   "id": "0b34d25b",
   "metadata": {},
   "outputs": [],
   "source": [
    "import json"
   ]
  },
  {
   "cell_type": "code",
   "execution_count": 5,
   "id": "ae5afc1b",
   "metadata": {},
   "outputs": [],
   "source": [
    "def ze_slovniku(slovnik, druhysloupec):\n",
    "    with open(os.path.join(\"data_rucni\",slovnik), 'r', encoding='utf-8') as file:\n",
    "        frejm = pd.DataFrame(json.load(file), index=[0]).transpose().reset_index()\n",
    "        frejm = frejm.rename(columns = { \"index\" : \"zanry\", 0 : druhysloupec})\n",
    "    return frejm"
   ]
  },
  {
   "cell_type": "code",
   "execution_count": 6,
   "id": "518335b9",
   "metadata": {},
   "outputs": [],
   "source": [
    "zanry_kratce = ze_slovniku('zanry_klasik.json','zanry_kratce')"
   ]
  },
  {
   "cell_type": "code",
   "execution_count": 7,
   "id": "3b8ba99b",
   "metadata": {},
   "outputs": [],
   "source": [
    "zanry_prvky = ze_slovniku('zanry_prvky.json','zanry_prvky')"
   ]
  },
  {
   "cell_type": "code",
   "execution_count": 8,
   "id": "246aeb00",
   "metadata": {},
   "outputs": [],
   "source": [
    "zanry = zanry.merge(zanry_kratce, on='zanry', how=\"outer\")\n",
    "zanry = zanry.merge(zanry_prvky, on='zanry', how=\"outer\")"
   ]
  },
  {
   "cell_type": "markdown",
   "id": "01edaac6",
   "metadata": {},
   "source": [
    "## Nejzastoupenější žánry"
   ]
  },
  {
   "cell_type": "code",
   "execution_count": 9,
   "id": "d0afd29f",
   "metadata": {},
   "outputs": [
    {
     "data": {
      "text/plain": [
       "zanry\n",
       "pop music                     31700\n",
       "pop rock                      14917\n",
       "hip hop                       12030\n",
       "contemporary R&B              10638\n",
       "alternativní rock             10257\n",
       "rock                           9754\n",
       "elektropop                     9705\n",
       "dance-pop                      7897\n",
       "elektronická taneční hudba     7605\n",
       "synthpop                       5939\n",
       "house music                    5799\n",
       "electro house                  5753\n",
       "taneční hudba                  5679\n",
       "progressive house              4431\n",
       "rhythm and blues               4053\n",
       "soul                           3798\n",
       "indie pop                      3466\n",
       "elektronická hudba             3278\n",
       "pop rap                        3006\n",
       "reggae                         2992\n",
       "dtype: int64"
      ]
     },
     "execution_count": 9,
     "metadata": {},
     "output_type": "execute_result"
    }
   ],
   "source": [
    "zanry.groupby('zanry').size().nlargest(20)"
   ]
  },
  {
   "cell_type": "code",
   "execution_count": 10,
   "id": "b6640e2a",
   "metadata": {},
   "outputs": [],
   "source": [
    "# zanry.groupby('zanry').size().sort_values(ascending=False).to_json(os.path.join(\"data_raw\",\"zanry_pro_anet.json\"), indent = 4, force_ascii=False)"
   ]
  },
  {
   "cell_type": "markdown",
   "id": "ed8f6656",
   "metadata": {},
   "source": [
    "## Zastoupenost jednotlivých žánrů v čase: varianta \"obsahuje\""
   ]
  },
  {
   "cell_type": "code",
   "execution_count": 11,
   "id": "485543d9",
   "metadata": {},
   "outputs": [],
   "source": [
    "def podil(z,p):\n",
    "    z = z.lower()\n",
    "    if isinstance(z, str):\n",
    "        vyvoj = zanry[(zanry['zanry'].str.lower().str.contains(z,na=False)) & (zanry['pozice'] <= p)].groupby('rok').size() / df[df['pozice'] <= p].groupby('rok').size()\n",
    "        vyvoj.plot.bar()\n",
    "    if isinstance(z, list):\n",
    "        vyvoj = \"Toto zatím neumím.\"\n",
    "    \n",
    "    return (vyvoj)"
   ]
  },
  {
   "cell_type": "markdown",
   "id": "399cfa25",
   "metadata": {},
   "source": [
    "Funkce vybírá všechny řádky obsahující řetězec (\"pop\" vrátí i \"pop rock\") a podělí je počtem písniček za daný rok. Druhý parametr filtruje pozice v žebříčku."
   ]
  },
  {
   "cell_type": "code",
   "execution_count": 12,
   "id": "26fc4a8a",
   "metadata": {},
   "outputs": [
    {
     "data": {
      "text/plain": [
       "rok\n",
       "2006.0    0.957843\n",
       "2007.0    0.996275\n",
       "2008.0    0.742308\n",
       "2009.0    0.577255\n",
       "2010.0    0.457692\n",
       "2011.0    0.457000\n",
       "2012.0    0.551373\n",
       "2013.0    0.573725\n",
       "2014.0    0.623200\n",
       "2015.0    0.500962\n",
       "2016.0    0.396275\n",
       "2017.0    0.517308\n",
       "2018.0    0.475000\n",
       "2019.0    0.423137\n",
       "2020.0    0.303529\n",
       "2021.0    0.339020\n",
       "2022.0    0.504118\n",
       "2023.0    0.487857\n",
       "dtype: float64"
      ]
     },
     "execution_count": 12,
     "metadata": {},
     "output_type": "execute_result"
    },
    {
     "data": {
      "image/png": "[encoded data removed]",
      "text/plain": [
       "<Figure size 432x288 with 1 Axes>"
      ]
     },
     "metadata": {
      "needs_background": "light"
     },
     "output_type": "display_data"
    }
   ],
   "source": [
    "podil('rock',100)"
   ]
  },
  {
   "cell_type": "code",
   "execution_count": 13,
   "id": "fdc36d12",
   "metadata": {},
   "outputs": [
    {
     "data": {
      "text/plain": [
       "rok\n",
       "2006.0    0.159608\n",
       "2007.0    0.140196\n",
       "2008.0    0.185769\n",
       "2009.0    0.301765\n",
       "2010.0    0.357885\n",
       "2011.0    0.375600\n",
       "2012.0    0.251373\n",
       "2013.0    0.265686\n",
       "2014.0    0.212000\n",
       "2015.0    0.137500\n",
       "2016.0    0.122157\n",
       "2017.0    0.131538\n",
       "2018.0    0.123200\n",
       "2019.0    0.074118\n",
       "2020.0    0.062941\n",
       "2021.0    0.083137\n",
       "2022.0    0.069412\n",
       "2023.0    0.093095\n",
       "dtype: float64"
      ]
     },
     "execution_count": 13,
     "metadata": {},
     "output_type": "execute_result"
    },
    {
     "data": {
      "image/png": "[encoded data removed]",
      "text/plain": [
       "<Figure size 432x288 with 1 Axes>"
      ]
     },
     "metadata": {
      "needs_background": "light"
     },
     "output_type": "display_data"
    }
   ],
   "source": [
    "podil('hip hop',100)"
   ]
  },
  {
   "cell_type": "code",
   "execution_count": 14,
   "id": "de68be35",
   "metadata": {},
   "outputs": [
    {
     "data": {
      "text/plain": [
       "rok\n",
       "2006.0    0.119020\n",
       "2007.0    0.125294\n",
       "2008.0    0.120385\n",
       "2009.0    0.161373\n",
       "2010.0    0.172692\n",
       "2011.0    0.177200\n",
       "2012.0    0.149020\n",
       "2013.0    0.108627\n",
       "2014.0    0.098600\n",
       "2015.0    0.096731\n",
       "2016.0    0.104706\n",
       "2017.0    0.116538\n",
       "2018.0    0.118200\n",
       "2019.0    0.106471\n",
       "2020.0    0.058824\n",
       "2021.0    0.076078\n",
       "2022.0    0.099804\n",
       "2023.0    0.122143\n",
       "dtype: float64"
      ]
     },
     "execution_count": 14,
     "metadata": {},
     "output_type": "execute_result"
    },
    {
     "data": {
      "image/png": "[encoded data removed]",
      "text/plain": [
       "<Figure size 432x288 with 1 Axes>"
      ]
     },
     "metadata": {
      "needs_background": "light"
     },
     "output_type": "display_data"
    }
   ],
   "source": [
    "podil('rap',100)"
   ]
  },
  {
   "cell_type": "code",
   "execution_count": 15,
   "id": "60b697f2",
   "metadata": {},
   "outputs": [
    {
     "data": {
      "text/plain": [
       "rok\n",
       "2006.0    0.043333\n",
       "2007.0    0.078039\n",
       "2008.0    0.071538\n",
       "2009.0    0.132941\n",
       "2010.0    0.244231\n",
       "2011.0    0.341600\n",
       "2012.0    0.304510\n",
       "2013.0    0.299412\n",
       "2014.0    0.357800\n",
       "2015.0    0.440962\n",
       "2016.0    0.448431\n",
       "2017.0    0.441731\n",
       "2018.0    0.305400\n",
       "2019.0    0.372549\n",
       "2020.0    0.346275\n",
       "2021.0    0.242745\n",
       "2022.0    0.319216\n",
       "2023.0    0.191429\n",
       "dtype: float64"
      ]
     },
     "execution_count": 15,
     "metadata": {},
     "output_type": "execute_result"
    },
    {
     "data": {
      "image/png": "[encoded data removed]",
      "text/plain": [
       "<Figure size 432x288 with 1 Axes>"
      ]
     },
     "metadata": {
      "needs_background": "light"
     },
     "output_type": "display_data"
    }
   ],
   "source": [
    "podil('house',100)"
   ]
  },
  {
   "cell_type": "code",
   "execution_count": 16,
   "id": "7b8c4014",
   "metadata": {},
   "outputs": [
    {
     "data": {
      "text/plain": [
       "rok\n",
       "2006.0         NaN\n",
       "2007.0    0.000392\n",
       "2008.0         NaN\n",
       "2009.0    0.002745\n",
       "2010.0    0.006154\n",
       "2011.0    0.002600\n",
       "2012.0    0.001373\n",
       "2013.0    0.000980\n",
       "2014.0    0.001800\n",
       "2015.0    0.000192\n",
       "2016.0    0.000588\n",
       "2017.0    0.000769\n",
       "2018.0         NaN\n",
       "2019.0    0.002353\n",
       "2020.0         NaN\n",
       "2021.0         NaN\n",
       "2022.0         NaN\n",
       "2023.0         NaN\n",
       "dtype: float64"
      ]
     },
     "execution_count": 16,
     "metadata": {},
     "output_type": "execute_result"
    },
    {
     "data": {
      "image/png": "[encoded data removed]",
      "text/plain": [
       "<Figure size 432x288 with 1 Axes>"
      ]
     },
     "metadata": {
      "needs_background": "light"
     },
     "output_type": "display_data"
    }
   ],
   "source": [
    "podil('swing',100)"
   ]
  },
  {
   "cell_type": "code",
   "execution_count": 17,
   "id": "63787153",
   "metadata": {},
   "outputs": [
    {
     "data": {
      "text/plain": [
       "rok\n",
       "2006.0    0.176667\n",
       "2007.0    0.192745\n",
       "2008.0    0.175192\n",
       "2009.0    0.157647\n",
       "2010.0    0.182308\n",
       "2011.0    0.160200\n",
       "2012.0    0.132549\n",
       "2013.0    0.116863\n",
       "2014.0    0.099800\n",
       "2015.0    0.111346\n",
       "2016.0    0.129412\n",
       "2017.0    0.081154\n",
       "2018.0    0.113000\n",
       "2019.0    0.067059\n",
       "2020.0    0.113137\n",
       "2021.0    0.104706\n",
       "2022.0    0.058431\n",
       "2023.0    0.060238\n",
       "dtype: float64"
      ]
     },
     "execution_count": 17,
     "metadata": {},
     "output_type": "execute_result"
    },
    {
     "data": {
      "image/png": "[encoded data removed]",
      "text/plain": [
       "<Figure size 432x288 with 1 Axes>"
      ]
     },
     "metadata": {
      "needs_background": "light"
     },
     "output_type": "display_data"
    }
   ],
   "source": [
    "podil('R&B',100)"
   ]
  },
  {
   "cell_type": "code",
   "execution_count": 18,
   "id": "2b9f52f6",
   "metadata": {},
   "outputs": [
    {
     "data": {
      "text/plain": [
       "rok\n",
       "2006.0    0.045490\n",
       "2007.0    0.057451\n",
       "2008.0    0.079423\n",
       "2009.0    0.049020\n",
       "2010.0    0.056538\n",
       "2011.0    0.073400\n",
       "2012.0    0.095294\n",
       "2013.0    0.096078\n",
       "2014.0    0.072400\n",
       "2015.0    0.079038\n",
       "2016.0    0.082941\n",
       "2017.0    0.055192\n",
       "2018.0    0.030800\n",
       "2019.0    0.028824\n",
       "2020.0    0.045490\n",
       "2021.0    0.026275\n",
       "2022.0    0.056863\n",
       "2023.0    0.040952\n",
       "dtype: float64"
      ]
     },
     "execution_count": 18,
     "metadata": {},
     "output_type": "execute_result"
    },
    {
     "data": {
      "image/png": "[encoded data removed]",
      "text/plain": [
       "<Figure size 432x288 with 1 Axes>"
      ]
     },
     "metadata": {
      "needs_background": "light"
     },
     "output_type": "display_data"
    }
   ],
   "source": [
    "podil('soul',100)"
   ]
  },
  {
   "cell_type": "markdown",
   "id": "325d248a",
   "metadata": {},
   "source": [
    "## Zastoupenost jednotlivých žánrů v čase: ručně sgrupnuté žánry"
   ]
  },
  {
   "cell_type": "code",
   "execution_count": 19,
   "id": "01fb0284",
   "metadata": {},
   "outputs": [
    {
     "data": {
      "text/plain": [
       "['pop',\n",
       " 'elektronická taneční hudba',\n",
       " 'elektronická hudba',\n",
       " 'rock',\n",
       " 'soul a R&B',\n",
       " 'jazz',\n",
       " 'folk a country',\n",
       " 'latinskoamerická hudba',\n",
       " nan,\n",
       " 'hip hop a rap',\n",
       " 'jamajská hudba',\n",
       " 'různé',\n",
       " 'blues',\n",
       " 'alternativní metal',\n",
       " 'metal',\n",
       " 'indie rock',\n",
       " 'indie pop',\n",
       " 'disco',\n",
       " 'mluvené slovo',\n",
       " 'alternativní hudba',\n",
       " 'klasická hudba',\n",
       " 'šanson',\n",
       " 'filmová hudba']"
      ]
     },
     "execution_count": 19,
     "metadata": {},
     "output_type": "execute_result"
    }
   ],
   "source": [
    "zanry['zanry_kratce'].drop_duplicates().to_list()"
   ]
  },
  {
   "cell_type": "code",
   "execution_count": 20,
   "id": "47fd4f87",
   "metadata": {},
   "outputs": [],
   "source": [
    "def podil_kratce(z,p):\n",
    "    z = z.lower()\n",
    "    if isinstance(z, str):\n",
    "        vyvoj = zanry[(zanry['zanry_kratce'] == z) & (zanry['pozice'] <= p)].drop_duplicates(subset=['interpret_hlavni','track']).groupby('rok').size() / df[df['pozice'] <= p].drop_duplicates(subset=['interpret_hlavni','track']).groupby('rok').size()\n",
    "        vyvoj.plot.bar()\n",
    "    if isinstance(z, list):\n",
    "        vyvoj = \"Toto zatím neumím.\"\n",
    "    \n",
    "    return (vyvoj)"
   ]
  },
  {
   "cell_type": "code",
   "execution_count": 21,
   "id": "18bdf8ab",
   "metadata": {},
   "outputs": [
    {
     "data": {
      "text/plain": [
       "rok\n",
       "2006.0    0.056150\n",
       "2007.0    0.053942\n",
       "2008.0    0.039301\n",
       "2009.0    0.074803\n",
       "2010.0    0.029412\n",
       "2011.0    0.041152\n",
       "2012.0    0.044355\n",
       "2013.0    0.022556\n",
       "2014.0    0.075099\n",
       "2015.0    0.065041\n",
       "2016.0    0.037190\n",
       "2017.0    0.055762\n",
       "2018.0    0.040541\n",
       "2019.0    0.060606\n",
       "2020.0    0.043307\n",
       "2021.0    0.051502\n",
       "2022.0    0.055556\n",
       "2023.0    0.054945\n",
       "dtype: float64"
      ]
     },
     "execution_count": 21,
     "metadata": {},
     "output_type": "execute_result"
    },
    {
     "data": {
      "image/png": "[encoded data removed]",
      "text/plain": [
       "<Figure size 432x288 with 1 Axes>"
      ]
     },
     "metadata": {
      "needs_background": "light"
     },
     "output_type": "display_data"
    }
   ],
   "source": [
    "podil_kratce('folk a country', 100)"
   ]
  },
  {
   "cell_type": "code",
   "execution_count": 22,
   "id": "38149483",
   "metadata": {},
   "outputs": [
    {
     "data": {
      "text/plain": [
       "rok\n",
       "2006.0    0.393048\n",
       "2007.0    0.427386\n",
       "2008.0    0.310044\n",
       "2009.0    0.295276\n",
       "2010.0    0.226891\n",
       "2011.0    0.246914\n",
       "2012.0    0.270161\n",
       "2013.0    0.240602\n",
       "2014.0    0.312253\n",
       "2015.0    0.276423\n",
       "2016.0    0.202479\n",
       "2017.0    0.293680\n",
       "2018.0    0.297297\n",
       "2019.0    0.290043\n",
       "2020.0    0.204724\n",
       "2021.0    0.206009\n",
       "2022.0    0.206349\n",
       "2023.0    0.208791\n",
       "dtype: float64"
      ]
     },
     "execution_count": 22,
     "metadata": {},
     "output_type": "execute_result"
    },
    {
     "data": {
      "image/png": "[encoded data removed]",
      "text/plain": [
       "<Figure size 432x288 with 1 Axes>"
      ]
     },
     "metadata": {
      "needs_background": "light"
     },
     "output_type": "display_data"
    }
   ],
   "source": [
    "podil_kratce('rock', 100)"
   ]
  },
  {
   "cell_type": "code",
   "execution_count": 23,
   "id": "76903695",
   "metadata": {},
   "outputs": [
    {
     "data": {
      "text/plain": [
       "rok\n",
       "2006.0    0.157754\n",
       "2007.0    0.178423\n",
       "2008.0    0.165939\n",
       "2009.0    0.208661\n",
       "2010.0    0.273109\n",
       "2011.0    0.230453\n",
       "2012.0    0.213710\n",
       "2013.0    0.191729\n",
       "2014.0    0.114625\n",
       "2015.0    0.162602\n",
       "2016.0    0.107438\n",
       "2017.0    0.148699\n",
       "2018.0    0.130631\n",
       "2019.0    0.099567\n",
       "2020.0    0.118110\n",
       "2021.0    0.111588\n",
       "2022.0    0.099206\n",
       "2023.0    0.120879\n",
       "dtype: float64"
      ]
     },
     "execution_count": 23,
     "metadata": {},
     "output_type": "execute_result"
    },
    {
     "data": {
      "image/png": "[encoded data removed]",
      "text/plain": [
       "<Figure size 432x288 with 1 Axes>"
      ]
     },
     "metadata": {
      "needs_background": "light"
     },
     "output_type": "display_data"
    }
   ],
   "source": [
    "podil_kratce('hip hop a rap', 100)"
   ]
  },
  {
   "cell_type": "code",
   "execution_count": 24,
   "id": "fd5453d9",
   "metadata": {},
   "outputs": [
    {
     "data": {
      "text/plain": [
       "rok\n",
       "2006.0    0.371658\n",
       "2007.0    0.369295\n",
       "2008.0    0.432314\n",
       "2009.0    0.468504\n",
       "2010.0    0.453782\n",
       "2011.0    0.465021\n",
       "2012.0    0.471774\n",
       "2013.0    0.428571\n",
       "2014.0    0.407115\n",
       "2015.0    0.439024\n",
       "2016.0    0.450413\n",
       "2017.0    0.438662\n",
       "2018.0    0.369369\n",
       "2019.0    0.406926\n",
       "2020.0    0.354331\n",
       "2021.0    0.386266\n",
       "2022.0    0.301587\n",
       "2023.0    0.335165\n",
       "dtype: float64"
      ]
     },
     "execution_count": 24,
     "metadata": {},
     "output_type": "execute_result"
    },
    {
     "data": {
      "image/png": "[encoded data removed]",
      "text/plain": [
       "<Figure size 432x288 with 1 Axes>"
      ]
     },
     "metadata": {
      "needs_background": "light"
     },
     "output_type": "display_data"
    }
   ],
   "source": [
    "podil_kratce('pop', 100)"
   ]
  },
  {
   "cell_type": "code",
   "execution_count": 25,
   "id": "e8cb33cb",
   "metadata": {},
   "outputs": [
    {
     "data": {
      "text/plain": [
       "rok\n",
       "2006.0    0.141711\n",
       "2007.0    0.116183\n",
       "2008.0    0.165939\n",
       "2009.0    0.204724\n",
       "2010.0    0.260504\n",
       "2011.0    0.263374\n",
       "2012.0    0.245968\n",
       "2013.0    0.251880\n",
       "2014.0    0.193676\n",
       "2015.0    0.280488\n",
       "2016.0    0.239669\n",
       "2017.0    0.200743\n",
       "2018.0    0.184685\n",
       "2019.0    0.207792\n",
       "2020.0    0.196850\n",
       "2021.0    0.141631\n",
       "2022.0    0.190476\n",
       "2023.0    0.159341\n",
       "dtype: float64"
      ]
     },
     "execution_count": 25,
     "metadata": {},
     "output_type": "execute_result"
    },
    {
     "data": {
      "image/png": "[encoded data removed]",
      "text/plain": [
       "<Figure size 432x288 with 1 Axes>"
      ]
     },
     "metadata": {
      "needs_background": "light"
     },
     "output_type": "display_data"
    }
   ],
   "source": [
    "podil_kratce('elektronická taneční hudba', 100)"
   ]
  },
  {
   "cell_type": "code",
   "execution_count": 26,
   "id": "a2b189d2",
   "metadata": {},
   "outputs": [
    {
     "data": {
      "text/plain": [
       "zanry_kratce\n",
       "pop                           2443\n",
       "rock                          2308\n",
       "elektronická taneční hudba    1333\n",
       "hip hop a rap                  922\n",
       "folk a country                 622\n",
       "dtype: int64"
      ]
     },
     "execution_count": 26,
     "metadata": {},
     "output_type": "execute_result"
    }
   ],
   "source": [
    "zanry[zanry['rok'] == 2023].groupby('zanry_kratce').size().nlargest()"
   ]
  }
 ],
 "metadata": {
  "kernelspec": {
   "display_name": "Python 3 (ipykernel)",
   "language": "python",
   "name": "python3"
  },
  "language_info": {
   "codemirror_mode": {
    "name": "ipython",
    "version": 3
   },
   "file_extension": ".py",
   "mimetype": "text/x-python",
   "name": "python",
   "nbconvert_exporter": "python",
   "pygments_lexer": "ipython3",
   "version": "3.10.8"
  }
 },
 "nbformat": 4,
 "nbformat_minor": 5
}
