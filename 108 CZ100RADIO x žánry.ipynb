{
 "cells": [
  {
   "cell_type": "markdown",
   "id": "41e6c63a",
   "metadata": {},
   "source": [
    "**Na co bacha**\n",
    "\n",
    "- Žánry jsou spojeny s interprety, ne písněmi!"
   ]
  },
  {
   "cell_type": "code",
   "execution_count": 113,
   "id": "a8cf1cbd",
   "metadata": {},
   "outputs": [],
   "source": [
    "import os\n",
    "import pandas as pd"
   ]
  },
  {
   "cell_type": "code",
   "execution_count": 114,
   "id": "6ae6d00c",
   "metadata": {},
   "outputs": [],
   "source": [
    "df = pd.read_csv(os.path.join(\"data\",\"CZ_RADIO_TOP_100_tydenni.csv\"))\n",
    "wikid = pd.read_json(os.path.join(\"wikidata\",\"wikidata.json\"))\n",
    "df = df.merge(wikid, on=\"interpret_hlavni\", how=\"outer\")"
   ]
  },
  {
   "cell_type": "code",
   "execution_count": 115,
   "id": "24bb4cb3",
   "metadata": {},
   "outputs": [],
   "source": [
    "zanry = df.explode('zanry')"
   ]
  },
  {
   "cell_type": "code",
   "execution_count": 116,
   "id": "0b34d25b",
   "metadata": {},
   "outputs": [],
   "source": [
    "import json"
   ]
  },
  {
   "cell_type": "code",
   "execution_count": 117,
   "id": "ae5afc1b",
   "metadata": {},
   "outputs": [],
   "source": [
    "def ze_slovniku(slovnik, druhysloupec):\n",
    "    with open(os.path.join(\"data_rucni\",slovnik), 'r', encoding='utf-8') as file:\n",
    "        frejm = pd.DataFrame(json.load(file), index=[0]).transpose().reset_index()\n",
    "        frejm = frejm.rename(columns = { \"index\" : \"zanry\", 0 : druhysloupec})\n",
    "    return frejm"
   ]
  },
  {
   "cell_type": "code",
   "execution_count": 118,
   "id": "518335b9",
   "metadata": {},
   "outputs": [],
   "source": [
    "zanry_kratce = ze_slovniku('zanry_klasik.json','zanry_kratce')"
   ]
  },
  {
   "cell_type": "code",
   "execution_count": 119,
   "id": "3b8ba99b",
   "metadata": {},
   "outputs": [],
   "source": [
    "zanry_prvky = ze_slovniku('zanry_prvky.json','zanry_prvky')"
   ]
  },
  {
   "cell_type": "code",
   "execution_count": 120,
   "id": "246aeb00",
   "metadata": {},
   "outputs": [],
   "source": [
    "zanry = zanry.merge(zanry_kratce, on='zanry', how=\"outer\")\n",
    "zanry = zanry.merge(zanry_prvky, on='zanry', how=\"outer\")"
   ]
  },
  {
   "cell_type": "markdown",
   "id": "01edaac6",
   "metadata": {},
   "source": [
    "## Nejzastoupenější žánry"
   ]
  },
  {
   "cell_type": "code",
   "execution_count": 121,
   "id": "d0afd29f",
   "metadata": {},
   "outputs": [
    {
     "data": {
      "text/plain": [
       "zanry\n",
       "pop music                     31218\n",
       "pop rock                      14811\n",
       "hip hop                       11260\n",
       "contemporary R&B              10171\n",
       "alternativní rock              9962\n",
       "rock                           9790\n",
       "elektropop                     9230\n",
       "dance-pop                      7431\n",
       "elektronická taneční hudba     7011\n",
       "synthpop                       5905\n",
       "taneční hudba                  5627\n",
       "house music                    5357\n",
       "electro house                  5296\n",
       "rhythm and blues               4080\n",
       "progressive house              3974\n",
       "soul                           3721\n",
       "indie pop                      3424\n",
       "elektronická hudba             3171\n",
       "reggae                         2906\n",
       "deep house                     2830\n",
       "dtype: int64"
      ]
     },
     "execution_count": 121,
     "metadata": {},
     "output_type": "execute_result"
    }
   ],
   "source": [
    "zanry.groupby('zanry').size().nlargest(20)"
   ]
  },
  {
   "cell_type": "code",
   "execution_count": 122,
   "id": "b6640e2a",
   "metadata": {},
   "outputs": [],
   "source": [
    "# zanry.groupby('zanry').size().sort_values(ascending=False).to_json(os.path.join(\"data_raw\",\"zanry_pro_anet.json\"), indent = 4, force_ascii=False)"
   ]
  },
  {
   "cell_type": "markdown",
   "id": "ed8f6656",
   "metadata": {},
   "source": [
    "## Zastoupenost jednotlivých žánrů v čase: varianta \"obsahuje\""
   ]
  },
  {
   "cell_type": "code",
   "execution_count": 123,
   "id": "485543d9",
   "metadata": {},
   "outputs": [],
   "source": [
    "def podil(z,p):\n",
    "    z = z.lower()\n",
    "    if isinstance(z, str):\n",
    "        vyvoj = zanry[(zanry['zanry'].str.lower().str.contains(z,na=False)) & (zanry['pozice'] <= p)].groupby('rok').size() / df[df['pozice'] <= p].groupby('rok').size()\n",
    "        vyvoj.plot.bar()\n",
    "    if isinstance(z, list):\n",
    "        vyvoj = \"Toto zatím neumím.\"\n",
    "    \n",
    "    return (vyvoj)"
   ]
  },
  {
   "cell_type": "markdown",
   "id": "399cfa25",
   "metadata": {},
   "source": [
    "Funkce vybírá všechny řádky obsahující řetězec (\"pop\" vrátí i \"pop rock\") a podělí je počtem písniček za daný rok. Druhý parametr filtruje pozice v žebříčku."
   ]
  },
  {
   "cell_type": "code",
   "execution_count": 124,
   "id": "26fc4a8a",
   "metadata": {},
   "outputs": [
    {
     "data": {
      "text/plain": [
       "rok\n",
       "2006.0    0.949608\n",
       "2007.0    0.989804\n",
       "2008.0    0.726923\n",
       "2009.0    0.564706\n",
       "2010.0    0.455000\n",
       "2011.0    0.453200\n",
       "2012.0    0.551373\n",
       "2013.0    0.573725\n",
       "2014.0    0.632600\n",
       "2015.0    0.501154\n",
       "2016.0    0.391765\n",
       "2017.0    0.512115\n",
       "2018.0    0.471400\n",
       "2019.0    0.422941\n",
       "2020.0    0.293137\n",
       "2021.0    0.333137\n",
       "2022.0    0.495294\n",
       "2023.0    0.476842\n",
       "dtype: float64"
      ]
     },
     "execution_count": 124,
     "metadata": {},
     "output_type": "execute_result"
    },
    {
     "data": {
      "image/png": "[encoded data removed]",
      "text/plain": [
       "<Figure size 432x288 with 1 Axes>"
      ]
     },
     "metadata": {
      "needs_background": "light"
     },
     "output_type": "display_data"
    }
   ],
   "source": [
    "podil('rock',100)"
   ]
  },
  {
   "cell_type": "code",
   "execution_count": 125,
   "id": "fdc36d12",
   "metadata": {},
   "outputs": [
    {
     "data": {
      "text/plain": [
       "rok\n",
       "2006.0    0.145882\n",
       "2007.0    0.139020\n",
       "2008.0    0.185769\n",
       "2009.0    0.270588\n",
       "2010.0    0.305000\n",
       "2011.0    0.316600\n",
       "2012.0    0.225490\n",
       "2013.0    0.244118\n",
       "2014.0    0.191400\n",
       "2015.0    0.136923\n",
       "2016.0    0.120392\n",
       "2017.0    0.130000\n",
       "2018.0    0.110000\n",
       "2019.0    0.068431\n",
       "2020.0    0.057647\n",
       "2021.0    0.080392\n",
       "2022.0    0.068431\n",
       "2023.0    0.089737\n",
       "dtype: float64"
      ]
     },
     "execution_count": 125,
     "metadata": {},
     "output_type": "execute_result"
    },
    {
     "data": {
      "image/png": "[encoded data removed]",
      "text/plain": [
       "<Figure size 432x288 with 1 Axes>"
      ]
     },
     "metadata": {
      "needs_background": "light"
     },
     "output_type": "display_data"
    }
   ],
   "source": [
    "podil('hip hop',100)"
   ]
  },
  {
   "cell_type": "code",
   "execution_count": 126,
   "id": "de68be35",
   "metadata": {},
   "outputs": [
    {
     "data": {
      "text/plain": [
       "rok\n",
       "2006.0    0.097451\n",
       "2007.0    0.104510\n",
       "2008.0    0.115769\n",
       "2009.0    0.148235\n",
       "2010.0    0.155769\n",
       "2011.0    0.159400\n",
       "2012.0    0.130588\n",
       "2013.0    0.099804\n",
       "2014.0    0.083800\n",
       "2015.0    0.081154\n",
       "2016.0    0.093137\n",
       "2017.0    0.103654\n",
       "2018.0    0.092200\n",
       "2019.0    0.054510\n",
       "2020.0    0.027255\n",
       "2021.0    0.035686\n",
       "2022.0    0.052549\n",
       "2023.0    0.050000\n",
       "dtype: float64"
      ]
     },
     "execution_count": 126,
     "metadata": {},
     "output_type": "execute_result"
    },
    {
     "data": {
      "image/png": "[encoded data removed]",
      "text/plain": [
       "<Figure size 432x288 with 1 Axes>"
      ]
     },
     "metadata": {
      "needs_background": "light"
     },
     "output_type": "display_data"
    }
   ],
   "source": [
    "podil('rap',100)"
   ]
  },
  {
   "cell_type": "code",
   "execution_count": 127,
   "id": "60b697f2",
   "metadata": {},
   "outputs": [
    {
     "data": {
      "text/plain": [
       "rok\n",
       "2006.0    0.043333\n",
       "2007.0    0.077843\n",
       "2008.0    0.071538\n",
       "2009.0    0.106471\n",
       "2010.0    0.190192\n",
       "2011.0    0.279200\n",
       "2012.0    0.245490\n",
       "2013.0    0.248627\n",
       "2014.0    0.335200\n",
       "2015.0    0.440962\n",
       "2016.0    0.433529\n",
       "2017.0    0.415000\n",
       "2018.0    0.294400\n",
       "2019.0    0.360784\n",
       "2020.0    0.331176\n",
       "2021.0    0.237843\n",
       "2022.0    0.303725\n",
       "2023.0    0.179474\n",
       "dtype: float64"
      ]
     },
     "execution_count": 127,
     "metadata": {},
     "output_type": "execute_result"
    },
    {
     "data": {
      "image/png": "[encoded data removed]",
      "text/plain": [
       "<Figure size 432x288 with 1 Axes>"
      ]
     },
     "metadata": {
      "needs_background": "light"
     },
     "output_type": "display_data"
    }
   ],
   "source": [
    "podil('house',100)"
   ]
  },
  {
   "cell_type": "code",
   "execution_count": 128,
   "id": "7b8c4014",
   "metadata": {},
   "outputs": [
    {
     "data": {
      "text/plain": [
       "rok\n",
       "2006.0         NaN\n",
       "2007.0    0.000392\n",
       "2008.0         NaN\n",
       "2009.0    0.002745\n",
       "2010.0    0.006154\n",
       "2011.0    0.002600\n",
       "2012.0    0.001373\n",
       "2013.0    0.000980\n",
       "2014.0    0.001800\n",
       "2015.0    0.000192\n",
       "2016.0    0.000588\n",
       "2017.0    0.000769\n",
       "2018.0         NaN\n",
       "2019.0    0.002353\n",
       "2020.0         NaN\n",
       "2021.0         NaN\n",
       "2022.0         NaN\n",
       "2023.0         NaN\n",
       "dtype: float64"
      ]
     },
     "execution_count": 128,
     "metadata": {},
     "output_type": "execute_result"
    },
    {
     "data": {
      "image/png": "[encoded data removed]",
      "text/plain": [
       "<Figure size 432x288 with 1 Axes>"
      ]
     },
     "metadata": {
      "needs_background": "light"
     },
     "output_type": "display_data"
    }
   ],
   "source": [
    "podil('swing',100)"
   ]
  },
  {
   "cell_type": "code",
   "execution_count": 129,
   "id": "63787153",
   "metadata": {},
   "outputs": [
    {
     "data": {
      "text/plain": [
       "rok\n",
       "2006.0    0.167647\n",
       "2007.0    0.189216\n",
       "2008.0    0.168269\n",
       "2009.0    0.155490\n",
       "2010.0    0.167885\n",
       "2011.0    0.136200\n",
       "2012.0    0.126863\n",
       "2013.0    0.118431\n",
       "2014.0    0.100600\n",
       "2015.0    0.111346\n",
       "2016.0    0.133725\n",
       "2017.0    0.080962\n",
       "2018.0    0.113000\n",
       "2019.0    0.067059\n",
       "2020.0    0.102549\n",
       "2021.0    0.099216\n",
       "2022.0    0.056471\n",
       "2023.0    0.051053\n",
       "dtype: float64"
      ]
     },
     "execution_count": 129,
     "metadata": {},
     "output_type": "execute_result"
    },
    {
     "data": {
      "image/png": "[encoded data removed]",
      "text/plain": [
       "<Figure size 432x288 with 1 Axes>"
      ]
     },
     "metadata": {
      "needs_background": "light"
     },
     "output_type": "display_data"
    }
   ],
   "source": [
    "podil('R&B',100)"
   ]
  },
  {
   "cell_type": "code",
   "execution_count": 130,
   "id": "2b9f52f6",
   "metadata": {},
   "outputs": [
    {
     "data": {
      "text/plain": [
       "rok\n",
       "2006.0    0.037255\n",
       "2007.0    0.052353\n",
       "2008.0    0.067885\n",
       "2009.0    0.047647\n",
       "2010.0    0.053846\n",
       "2011.0    0.073400\n",
       "2012.0    0.095294\n",
       "2013.0    0.096078\n",
       "2014.0    0.072400\n",
       "2015.0    0.079038\n",
       "2016.0    0.082941\n",
       "2017.0    0.055192\n",
       "2018.0    0.030800\n",
       "2019.0    0.028824\n",
       "2020.0    0.045490\n",
       "2021.0    0.026275\n",
       "2022.0    0.056863\n",
       "2023.0    0.040526\n",
       "dtype: float64"
      ]
     },
     "execution_count": 130,
     "metadata": {},
     "output_type": "execute_result"
    },
    {
     "data": {
      "image/png": "[encoded data removed]",
      "text/plain": [
       "<Figure size 432x288 with 1 Axes>"
      ]
     },
     "metadata": {
      "needs_background": "light"
     },
     "output_type": "display_data"
    }
   ],
   "source": [
    "podil('soul',100)"
   ]
  },
  {
   "cell_type": "markdown",
   "id": "325d248a",
   "metadata": {},
   "source": [
    "## Zastoupenost jednotlivých žánrů v čase: varianta \"rovná se\""
   ]
  },
  {
   "cell_type": "code",
   "execution_count": 131,
   "id": "01fb0284",
   "metadata": {},
   "outputs": [
    {
     "data": {
      "text/plain": [
       "['pop',\n",
       " 'elektronická taneční hudba',\n",
       " 'elektronická hudba',\n",
       " 'rock',\n",
       " 'soul a R&B',\n",
       " 'jazz',\n",
       " 'folk a country',\n",
       " 'latinskoamerická hudba',\n",
       " nan,\n",
       " 'jamajská hudba',\n",
       " 'hip hop a rap',\n",
       " 'různé',\n",
       " 'blues',\n",
       " 'alternativní metal',\n",
       " 'metal',\n",
       " 'indie rock',\n",
       " 'indie pop',\n",
       " 'disco',\n",
       " 'mluvené slovo',\n",
       " 'alternativní hudba',\n",
       " 'klasická hudba',\n",
       " 'šanson',\n",
       " 'filmová hudba']"
      ]
     },
     "execution_count": 131,
     "metadata": {},
     "output_type": "execute_result"
    }
   ],
   "source": [
    "zanry['zanry_kratce'].drop_duplicates().to_list()"
   ]
  },
  {
   "cell_type": "code",
   "execution_count": 132,
   "id": "47fd4f87",
   "metadata": {},
   "outputs": [],
   "source": [
    "def podil_kratce(z,p):\n",
    "    z = z.lower()\n",
    "    if isinstance(z, str):\n",
    "        vyvoj = zanry[(zanry['zanry_kratce'] == z) & (zanry['pozice'] <= p)].drop_duplicates(subset=['interpret_hlavni','track']).groupby('rok').size() / df[df['pozice'] <= p].drop_duplicates(subset=['interpret_hlavni','track']).groupby('rok').size()\n",
    "        vyvoj.plot.bar()\n",
    "    if isinstance(z, list):\n",
    "        vyvoj = \"Toto zatím neumím.\"\n",
    "    \n",
    "    return (vyvoj)"
   ]
  },
  {
   "cell_type": "code",
   "execution_count": 139,
   "id": "18bdf8ab",
   "metadata": {},
   "outputs": [
    {
     "data": {
      "text/plain": [
       "rok\n",
       "2006.0    0.056150\n",
       "2007.0    0.053942\n",
       "2008.0    0.039301\n",
       "2009.0    0.070866\n",
       "2010.0    0.025210\n",
       "2011.0    0.032922\n",
       "2012.0    0.044355\n",
       "2013.0    0.022556\n",
       "2014.0    0.075099\n",
       "2015.0    0.065041\n",
       "2016.0    0.033058\n",
       "2017.0    0.055762\n",
       "2018.0    0.040541\n",
       "2019.0    0.060606\n",
       "2020.0    0.039370\n",
       "2021.0    0.051502\n",
       "2022.0    0.055556\n",
       "2023.0    0.061350\n",
       "dtype: float64"
      ]
     },
     "execution_count": 139,
     "metadata": {},
     "output_type": "execute_result"
    },
    {
     "data": {
      "image/png": "[encoded data removed]",
      "text/plain": [
       "<Figure size 432x288 with 1 Axes>"
      ]
     },
     "metadata": {
      "needs_background": "light"
     },
     "output_type": "display_data"
    }
   ],
   "source": [
    "podil_kratce('folk a country', 100)"
   ]
  },
  {
   "cell_type": "code",
   "execution_count": 133,
   "id": "38149483",
   "metadata": {},
   "outputs": [
    {
     "data": {
      "text/plain": [
       "rok\n",
       "2006.0    0.387701\n",
       "2007.0    0.423237\n",
       "2008.0    0.301310\n",
       "2009.0    0.291339\n",
       "2010.0    0.226891\n",
       "2011.0    0.242798\n",
       "2012.0    0.270161\n",
       "2013.0    0.240602\n",
       "2014.0    0.316206\n",
       "2015.0    0.276423\n",
       "2016.0    0.198347\n",
       "2017.0    0.293680\n",
       "2018.0    0.283784\n",
       "2019.0    0.281385\n",
       "2020.0    0.200787\n",
       "2021.0    0.206009\n",
       "2022.0    0.190476\n",
       "2023.0    0.190184\n",
       "dtype: float64"
      ]
     },
     "execution_count": 133,
     "metadata": {},
     "output_type": "execute_result"
    },
    {
     "data": {
      "image/png": "[encoded data removed]",
      "text/plain": [
       "<Figure size 432x288 with 1 Axes>"
      ]
     },
     "metadata": {
      "needs_background": "light"
     },
     "output_type": "display_data"
    }
   ],
   "source": [
    "podil_kratce('rock', 100)"
   ]
  },
  {
   "cell_type": "code",
   "execution_count": 141,
   "id": "76903695",
   "metadata": {},
   "outputs": [
    {
     "data": {
      "text/plain": [
       "rok\n",
       "2006.0    0.152406\n",
       "2007.0    0.170124\n",
       "2008.0    0.165939\n",
       "2009.0    0.196850\n",
       "2010.0    0.260504\n",
       "2011.0    0.205761\n",
       "2012.0    0.197581\n",
       "2013.0    0.184211\n",
       "2014.0    0.110672\n",
       "2015.0    0.162602\n",
       "2016.0    0.095041\n",
       "2017.0    0.144981\n",
       "2018.0    0.121622\n",
       "2019.0    0.090909\n",
       "2020.0    0.102362\n",
       "2021.0    0.085837\n",
       "2022.0    0.075397\n",
       "2023.0    0.104294\n",
       "dtype: float64"
      ]
     },
     "execution_count": 141,
     "metadata": {},
     "output_type": "execute_result"
    },
    {
     "data": {
      "image/png": "[encoded data removed]",
      "text/plain": [
       "<Figure size 432x288 with 1 Axes>"
      ]
     },
     "metadata": {
      "needs_background": "light"
     },
     "output_type": "display_data"
    }
   ],
   "source": [
    "podil_kratce('hip hop a rap', 100)"
   ]
  },
  {
   "cell_type": "code",
   "execution_count": 135,
   "id": "fd5453d9",
   "metadata": {},
   "outputs": [
    {
     "data": {
      "text/plain": [
       "rok\n",
       "2006.0    0.371658\n",
       "2007.0    0.365145\n",
       "2008.0    0.414847\n",
       "2009.0    0.444882\n",
       "2010.0    0.436975\n",
       "2011.0    0.436214\n",
       "2012.0    0.447581\n",
       "2013.0    0.417293\n",
       "2014.0    0.403162\n",
       "2015.0    0.434959\n",
       "2016.0    0.446281\n",
       "2017.0    0.438662\n",
       "2018.0    0.369369\n",
       "2019.0    0.406926\n",
       "2020.0    0.346457\n",
       "2021.0    0.377682\n",
       "2022.0    0.297619\n",
       "2023.0    0.337423\n",
       "dtype: float64"
      ]
     },
     "execution_count": 135,
     "metadata": {},
     "output_type": "execute_result"
    },
    {
     "data": {
      "image/png": "[encoded data removed]",
      "text/plain": [
       "<Figure size 432x288 with 1 Axes>"
      ]
     },
     "metadata": {
      "needs_background": "light"
     },
     "output_type": "display_data"
    }
   ],
   "source": [
    "podil_kratce('pop', 100)"
   ]
  },
  {
   "cell_type": "code",
   "execution_count": 136,
   "id": "e8cb33cb",
   "metadata": {},
   "outputs": [
    {
     "data": {
      "text/plain": [
       "rok\n",
       "2006.0    0.141711\n",
       "2007.0    0.112033\n",
       "2008.0    0.165939\n",
       "2009.0    0.188976\n",
       "2010.0    0.252101\n",
       "2011.0    0.238683\n",
       "2012.0    0.217742\n",
       "2013.0    0.240602\n",
       "2014.0    0.181818\n",
       "2015.0    0.280488\n",
       "2016.0    0.227273\n",
       "2017.0    0.193309\n",
       "2018.0    0.180180\n",
       "2019.0    0.207792\n",
       "2020.0    0.188976\n",
       "2021.0    0.137339\n",
       "2022.0    0.170635\n",
       "2023.0    0.141104\n",
       "dtype: float64"
      ]
     },
     "execution_count": 136,
     "metadata": {},
     "output_type": "execute_result"
    },
    {
     "data": {
      "image/png": "[encoded data removed]",
      "text/plain": [
       "<Figure size 432x288 with 1 Axes>"
      ]
     },
     "metadata": {
      "needs_background": "light"
     },
     "output_type": "display_data"
    }
   ],
   "source": [
    "podil_kratce('elektronická taneční hudba', 100)"
   ]
  },
  {
   "cell_type": "code",
   "execution_count": 137,
   "id": "a2b189d2",
   "metadata": {},
   "outputs": [
    {
     "data": {
      "text/plain": [
       "zanry_kratce\n",
       "pop                           2229\n",
       "rock                          2023\n",
       "elektronická taneční hudba    1138\n",
       "folk a country                 564\n",
       "hip hop a rap                  550\n",
       "dtype: int64"
      ]
     },
     "execution_count": 137,
     "metadata": {},
     "output_type": "execute_result"
    }
   ],
   "source": [
    "zanry[zanry['rok'] == 2023].groupby('zanry_kratce').size().nlargest()"
   ]
  }
 ],
 "metadata": {
  "kernelspec": {
   "display_name": "Python 3 (ipykernel)",
   "language": "python",
   "name": "python3"
  },
  "language_info": {
   "codemirror_mode": {
    "name": "ipython",
    "version": 3
   },
   "file_extension": ".py",
   "mimetype": "text/x-python",
   "name": "python",
   "nbconvert_exporter": "python",
   "pygments_lexer": "ipython3",
   "version": "3.10.8"
  }
 },
 "nbformat": 4,
 "nbformat_minor": 5
}
