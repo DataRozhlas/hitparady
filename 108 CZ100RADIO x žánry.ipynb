{
 "cells": [
  {
   "cell_type": "markdown",
   "id": "41e6c63a",
   "metadata": {},
   "source": [
    "**Na co bacha**\n",
    "\n",
    "- Žánry jsou spojeny s interprety, ne písněmi!"
   ]
  },
  {
   "cell_type": "code",
   "execution_count": 1,
   "id": "a8cf1cbd",
   "metadata": {},
   "outputs": [],
   "source": [
    "import os\n",
    "import pandas as pd"
   ]
  },
  {
   "cell_type": "code",
   "execution_count": 2,
   "id": "6ae6d00c",
   "metadata": {},
   "outputs": [],
   "source": [
    "df = pd.read_csv(os.path.join(\"data\",\"CZ_RADIO_TOP_100_tydenni.csv\"))\n",
    "wikid = pd.read_json(os.path.join(\"wikidata\",\"wikidata.json\"))\n",
    "df = df.merge(wikid, on=\"interpret_hlavni\", how=\"outer\")"
   ]
  },
  {
   "cell_type": "code",
   "execution_count": 13,
   "id": "24bb4cb3",
   "metadata": {},
   "outputs": [],
   "source": [
    "zanry = df.explode('zanry')"
   ]
  },
  {
   "cell_type": "markdown",
   "id": "01edaac6",
   "metadata": {},
   "source": [
    "## Nejzastoupenější žánry"
   ]
  },
  {
   "cell_type": "code",
   "execution_count": 14,
   "id": "d0afd29f",
   "metadata": {},
   "outputs": [
    {
     "data": {
      "text/plain": [
       "zanry\n",
       "pop music                     31218\n",
       "pop rock                      14811\n",
       "hip hop                       11260\n",
       "contemporary R&B              10171\n",
       "alternativní rock              9962\n",
       "rock                           9790\n",
       "elektropop                     9230\n",
       "dance-pop                      7431\n",
       "elektronická taneční hudba     7011\n",
       "synthpop                       5905\n",
       "taneční hudba                  5627\n",
       "house music                    5357\n",
       "electro house                  5296\n",
       "rhythm and blues               4080\n",
       "progressive house              3974\n",
       "soul                           3721\n",
       "indie pop                      3424\n",
       "elektronická hudba             3171\n",
       "reggae                         2906\n",
       "deep house                     2830\n",
       "dtype: int64"
      ]
     },
     "execution_count": 14,
     "metadata": {},
     "output_type": "execute_result"
    }
   ],
   "source": [
    "zanry.groupby('zanry').size().nlargest(20)"
   ]
  },
  {
   "cell_type": "code",
   "execution_count": 61,
   "id": "b6640e2a",
   "metadata": {},
   "outputs": [],
   "source": [
    "# zanry.groupby('zanry').size().sort_values(ascending=False).to_json(os.path.join(\"data_raw\",\"zanry_pro_anet.json\"), indent = 4, force_ascii=False)"
   ]
  },
  {
   "cell_type": "markdown",
   "id": "ed8f6656",
   "metadata": {},
   "source": [
    "## Zastoupenost jednotlivých žánrů v čase"
   ]
  },
  {
   "cell_type": "code",
   "execution_count": 52,
   "id": "485543d9",
   "metadata": {},
   "outputs": [],
   "source": [
    "def podil(z,p):\n",
    "    z = z.lower()\n",
    "    if isinstance(z, str):\n",
    "        vyvoj = zanry[(zanry['zanry'].str.lower().str.contains(z,na=False)) & (zanry['pozice'] <= p)].groupby('rok').size() / df[df['pozice'] <= p].groupby('rok').size()\n",
    "        vyvoj.plot.bar()\n",
    "    if isinstance(z, list):\n",
    "        vyvoj = \"Toto zatím neumím.\"\n",
    "    \n",
    "    return (vyvoj)"
   ]
  },
  {
   "cell_type": "markdown",
   "id": "399cfa25",
   "metadata": {},
   "source": [
    "Funkce vybírá všechny řádky obsahující řetězec (\"pop\" vrátí i \"pop rock\") a podělí je počtem písniček za daný rok. Druhý parametr filtruje pozice v žebříčku."
   ]
  },
  {
   "cell_type": "code",
   "execution_count": 19,
   "id": "26fc4a8a",
   "metadata": {},
   "outputs": [
    {
     "data": {
      "text/plain": [
       "rok\n",
       "2006.0    0.949608\n",
       "2007.0    0.989804\n",
       "2008.0    0.726923\n",
       "2009.0    0.564706\n",
       "2010.0    0.455000\n",
       "2011.0    0.453200\n",
       "2012.0    0.551373\n",
       "2013.0    0.573725\n",
       "2014.0    0.632600\n",
       "2015.0    0.501154\n",
       "2016.0    0.391765\n",
       "2017.0    0.512115\n",
       "2018.0    0.471400\n",
       "2019.0    0.422941\n",
       "2020.0    0.293137\n",
       "2021.0    0.333137\n",
       "2022.0    0.495294\n",
       "2023.0    0.476842\n",
       "dtype: float64"
      ]
     },
     "execution_count": 19,
     "metadata": {},
     "output_type": "execute_result"
    },
    {
     "data": {
      "image/png": "[encoded data removed]",
      "text/plain": [
       "<Figure size 432x288 with 1 Axes>"
      ]
     },
     "metadata": {
      "needs_background": "light"
     },
     "output_type": "display_data"
    }
   ],
   "source": [
    "podil('rock',100)"
   ]
  },
  {
   "cell_type": "code",
   "execution_count": 20,
   "id": "fdc36d12",
   "metadata": {},
   "outputs": [
    {
     "data": {
      "text/plain": [
       "rok\n",
       "2006.0    0.145882\n",
       "2007.0    0.139020\n",
       "2008.0    0.185769\n",
       "2009.0    0.270588\n",
       "2010.0    0.305000\n",
       "2011.0    0.316600\n",
       "2012.0    0.225490\n",
       "2013.0    0.244118\n",
       "2014.0    0.191400\n",
       "2015.0    0.136923\n",
       "2016.0    0.120392\n",
       "2017.0    0.130000\n",
       "2018.0    0.110000\n",
       "2019.0    0.068431\n",
       "2020.0    0.057647\n",
       "2021.0    0.080392\n",
       "2022.0    0.068431\n",
       "2023.0    0.089737\n",
       "dtype: float64"
      ]
     },
     "execution_count": 20,
     "metadata": {},
     "output_type": "execute_result"
    },
    {
     "data": {
      "image/png": "[encoded data removed]",
      "text/plain": [
       "<Figure size 432x288 with 1 Axes>"
      ]
     },
     "metadata": {
      "needs_background": "light"
     },
     "output_type": "display_data"
    }
   ],
   "source": [
    "podil('hip hop',100)"
   ]
  },
  {
   "cell_type": "code",
   "execution_count": 55,
   "id": "de68be35",
   "metadata": {},
   "outputs": [
    {
     "data": {
      "text/plain": [
       "rok\n",
       "2006.0    0.097451\n",
       "2007.0    0.104510\n",
       "2008.0    0.115769\n",
       "2009.0    0.148235\n",
       "2010.0    0.155769\n",
       "2011.0    0.159400\n",
       "2012.0    0.130588\n",
       "2013.0    0.099804\n",
       "2014.0    0.083800\n",
       "2015.0    0.081154\n",
       "2016.0    0.093137\n",
       "2017.0    0.103654\n",
       "2018.0    0.092200\n",
       "2019.0    0.054510\n",
       "2020.0    0.027255\n",
       "2021.0    0.035686\n",
       "2022.0    0.052549\n",
       "2023.0    0.050000\n",
       "dtype: float64"
      ]
     },
     "execution_count": 55,
     "metadata": {},
     "output_type": "execute_result"
    },
    {
     "data": {
      "image/png": "[encoded data removed]",
      "text/plain": [
       "<Figure size 432x288 with 1 Axes>"
      ]
     },
     "metadata": {
      "needs_background": "light"
     },
     "output_type": "display_data"
    }
   ],
   "source": [
    "podil('rap',100)"
   ]
  },
  {
   "cell_type": "code",
   "execution_count": 22,
   "id": "60b697f2",
   "metadata": {},
   "outputs": [
    {
     "data": {
      "text/plain": [
       "rok\n",
       "2006.0    0.043333\n",
       "2007.0    0.077843\n",
       "2008.0    0.071538\n",
       "2009.0    0.106471\n",
       "2010.0    0.190192\n",
       "2011.0    0.279200\n",
       "2012.0    0.245490\n",
       "2013.0    0.248627\n",
       "2014.0    0.335200\n",
       "2015.0    0.440962\n",
       "2016.0    0.433529\n",
       "2017.0    0.415000\n",
       "2018.0    0.294400\n",
       "2019.0    0.360784\n",
       "2020.0    0.331176\n",
       "2021.0    0.237843\n",
       "2022.0    0.303725\n",
       "2023.0    0.179474\n",
       "dtype: float64"
      ]
     },
     "execution_count": 22,
     "metadata": {},
     "output_type": "execute_result"
    },
    {
     "data": {
      "image/png": "[encoded data removed]",
      "text/plain": [
       "<Figure size 432x288 with 1 Axes>"
      ]
     },
     "metadata": {
      "needs_background": "light"
     },
     "output_type": "display_data"
    }
   ],
   "source": [
    "podil('house',100)"
   ]
  },
  {
   "cell_type": "code",
   "execution_count": 50,
   "id": "7b8c4014",
   "metadata": {},
   "outputs": [
    {
     "data": {
      "text/plain": [
       "rok\n",
       "2006.0         NaN\n",
       "2007.0    0.000392\n",
       "2008.0         NaN\n",
       "2009.0    0.002745\n",
       "2010.0    0.006154\n",
       "2011.0    0.002600\n",
       "2012.0    0.001373\n",
       "2013.0    0.000980\n",
       "2014.0    0.001800\n",
       "2015.0    0.000192\n",
       "2016.0    0.000588\n",
       "2017.0    0.000769\n",
       "2018.0         NaN\n",
       "2019.0    0.002353\n",
       "2020.0         NaN\n",
       "2021.0         NaN\n",
       "2022.0         NaN\n",
       "2023.0         NaN\n",
       "dtype: float64"
      ]
     },
     "execution_count": 50,
     "metadata": {},
     "output_type": "execute_result"
    },
    {
     "data": {
      "image/png": "[encoded data removed]",
      "text/plain": [
       "<Figure size 432x288 with 1 Axes>"
      ]
     },
     "metadata": {
      "needs_background": "light"
     },
     "output_type": "display_data"
    }
   ],
   "source": [
    "podil('swing',100)"
   ]
  },
  {
   "cell_type": "code",
   "execution_count": 53,
   "id": "63787153",
   "metadata": {},
   "outputs": [
    {
     "data": {
      "text/plain": [
       "rok\n",
       "2006.0    0.167647\n",
       "2007.0    0.189216\n",
       "2008.0    0.168269\n",
       "2009.0    0.155490\n",
       "2010.0    0.167885\n",
       "2011.0    0.136200\n",
       "2012.0    0.126863\n",
       "2013.0    0.118431\n",
       "2014.0    0.100600\n",
       "2015.0    0.111346\n",
       "2016.0    0.133725\n",
       "2017.0    0.080962\n",
       "2018.0    0.113000\n",
       "2019.0    0.067059\n",
       "2020.0    0.102549\n",
       "2021.0    0.099216\n",
       "2022.0    0.056471\n",
       "2023.0    0.051053\n",
       "dtype: float64"
      ]
     },
     "execution_count": 53,
     "metadata": {},
     "output_type": "execute_result"
    },
    {
     "data": {
      "image/png": "[encoded data removed]",
      "text/plain": [
       "<Figure size 432x288 with 1 Axes>"
      ]
     },
     "metadata": {
      "needs_background": "light"
     },
     "output_type": "display_data"
    }
   ],
   "source": [
    "podil('R&B',100)"
   ]
  },
  {
   "cell_type": "code",
   "execution_count": 54,
   "id": "2b9f52f6",
   "metadata": {},
   "outputs": [
    {
     "data": {
      "text/plain": [
       "rok\n",
       "2006.0    0.037255\n",
       "2007.0    0.052353\n",
       "2008.0    0.067885\n",
       "2009.0    0.047647\n",
       "2010.0    0.053846\n",
       "2011.0    0.073400\n",
       "2012.0    0.095294\n",
       "2013.0    0.096078\n",
       "2014.0    0.072400\n",
       "2015.0    0.079038\n",
       "2016.0    0.082941\n",
       "2017.0    0.055192\n",
       "2018.0    0.030800\n",
       "2019.0    0.028824\n",
       "2020.0    0.045490\n",
       "2021.0    0.026275\n",
       "2022.0    0.056863\n",
       "2023.0    0.040526\n",
       "dtype: float64"
      ]
     },
     "execution_count": 54,
     "metadata": {},
     "output_type": "execute_result"
    },
    {
     "data": {
      "image/png": "[encoded data removed]",
      "text/plain": [
       "<Figure size 432x288 with 1 Axes>"
      ]
     },
     "metadata": {
      "needs_background": "light"
     },
     "output_type": "display_data"
    }
   ],
   "source": [
    "podil('soul',100)"
   ]
  },
  {
   "cell_type": "code",
   "execution_count": null,
   "id": "76518c21",
   "metadata": {},
   "outputs": [],
   "source": []
  }
 ],
 "metadata": {
  "kernelspec": {
   "display_name": "Python 3 (ipykernel)",
   "language": "python",
   "name": "python3"
  },
  "language_info": {
   "codemirror_mode": {
    "name": "ipython",
    "version": 3
   },
   "file_extension": ".py",
   "mimetype": "text/x-python",
   "name": "python",
   "nbconvert_exporter": "python",
   "pygments_lexer": "ipython3",
   "version": "3.10.8"
  }
 },
 "nbformat": 4,
 "nbformat_minor": 5
}
