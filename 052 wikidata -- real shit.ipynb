{
 "cells": [
  {
   "cell_type": "markdown",
   "id": "e527f9b6",
   "metadata": {},
   "source": [
    "Chcu:\n",
    "- *ofiko název*\n",
    "- *bio*\n",
    "- x žánr\n",
    "- x kapela/jednotlivec? (Ale bacha u interpret_hlavni!)\n",
    "- *země původu (co když víc?)*\n",
    "- x pohlaví\n",
    "- *etnicita?*\n",
    "- x rok narození \n",
    "- *místo narození*\n",
    "- x rok úmrtí\n",
    "- *místo úmrtí*\n",
    "- x začátek kariéry\n",
    "- x konec kariéry\n",
    "\n",
    "Možná ještě:\n",
    "- last.fm id\n",
    "- x spotify id\n",
    "- ocenění?"
   ]
  },
  {
   "cell_type": "code",
   "execution_count": 217,
   "id": "6c79f0e2",
   "metadata": {},
   "outputs": [],
   "source": [
    "import os\n",
    "import json\n",
    "import requests"
   ]
  },
  {
   "cell_type": "code",
   "execution_count": 218,
   "id": "a0cff660",
   "metadata": {},
   "outputs": [],
   "source": [
    "from wikidata.client import Client\n",
    "import wikidata.entity"
   ]
  },
  {
   "cell_type": "code",
   "execution_count": 219,
   "id": "04858566",
   "metadata": {},
   "outputs": [],
   "source": [
    "with open(os.path.join(\"wikidata\",\"wiki_ids.json\"), \"r\") as file:\n",
    "    qecka = json.load(file)"
   ]
  },
  {
   "cell_type": "code",
   "execution_count": 7,
   "id": "7da2e91a",
   "metadata": {},
   "outputs": [],
   "source": [
    "def wikidates(id):\n",
    "    client = Client()\n",
    "    entity = client.get(id, load=True)\n",
    "    return entity"
   ]
  },
  {
   "cell_type": "code",
   "execution_count": 8,
   "id": "7fe92fc5",
   "metadata": {},
   "outputs": [],
   "source": [
    "def vsechny_atributy(q,p):\n",
    "    atributy = []\n",
    "    for x in wikidates(q).attributes['claims'][p]:\n",
    "        atributy.append(x['mainsnak']['datavalue']['value']['id'])\n",
    "    return(atributy)"
   ]
  },
  {
   "cell_type": "code",
   "execution_count": 9,
   "id": "7f34ec93",
   "metadata": {},
   "outputs": [],
   "source": [
    "def get_wikidata_item_label(wikidata_id, language):\n",
    "    url = f'https://www.wikidata.org/wiki/Special:EntityData/{wikidata_id}.json'\n",
    "    response = requests.get(url)\n",
    "    data = response.json()\n",
    "    label = data['entities'][wikidata_id]['labels'][language]['value']\n",
    "    return label"
   ]
  },
  {
   "cell_type": "code",
   "execution_count": 79,
   "id": "0833d6dd",
   "metadata": {},
   "outputs": [
    {
     "data": {
      "text/plain": [
       "'hard rock'"
      ]
     },
     "execution_count": 79,
     "metadata": {},
     "output_type": "execute_result"
    }
   ],
   "source": [
    "get_wikidata_item_label('Q83270', 'cs')"
   ]
  },
  {
   "cell_type": "code",
   "execution_count": 13,
   "id": "54dd6c9f",
   "metadata": {},
   "outputs": [
    {
     "data": {
      "text/plain": [
       "'syntezátor'"
      ]
     },
     "execution_count": 13,
     "metadata": {},
     "output_type": "execute_result"
    }
   ],
   "source": [
    "get_wikidata_item_label('Q163829', 'cs')"
   ]
  },
  {
   "cell_type": "markdown",
   "id": "49b79eff",
   "metadata": {},
   "source": [
    "## Atributy všech"
   ]
  },
  {
   "cell_type": "markdown",
   "id": "32baabe0",
   "metadata": {},
   "source": [
    "### Popisy"
   ]
  },
  {
   "cell_type": "markdown",
   "id": "c80456db",
   "metadata": {},
   "source": [
    "pseudonym (P742)"
   ]
  },
  {
   "cell_type": "code",
   "execution_count": 15,
   "id": "e2d47702",
   "metadata": {},
   "outputs": [
    {
     "data": {
      "text/plain": [
       "'Lady Gaga'"
      ]
     },
     "execution_count": 15,
     "metadata": {},
     "output_type": "execute_result"
    }
   ],
   "source": [
    "wikidates('Q19848').attributes['claims']['P742'][0]['mainsnak']['datavalue']['value']"
   ]
  },
  {
   "cell_type": "markdown",
   "id": "674016d0",
   "metadata": {},
   "source": [
    "subject named as (P1810)\n",
    "name by which a subject is recorded in a database, mentioned as a contributor of a work, or is referred to in a particular context"
   ]
  },
  {
   "cell_type": "code",
   "execution_count": 251,
   "id": "f94690c4",
   "metadata": {},
   "outputs": [
    {
     "data": {
      "text/plain": [
       "'Kryštof (hudební skupina)'"
      ]
     },
     "execution_count": 251,
     "metadata": {},
     "output_type": "execute_result"
    }
   ],
   "source": [
    "wikidates('Q6774073').attributes['claims']['P691'][0]['qualifiers']['P1810'][0]['datavalue']['value']"
   ]
  },
  {
   "cell_type": "markdown",
   "id": "32954101",
   "metadata": {},
   "source": [
    "#### Žánr já respektuji"
   ]
  },
  {
   "cell_type": "code",
   "execution_count": 17,
   "id": "1520fb98",
   "metadata": {},
   "outputs": [
    {
     "data": {
      "text/plain": [
       "['Q11366', 'Q484641', 'Q37073', 'Q95469495', 'Q217191', 'Q3231749']"
      ]
     },
     "execution_count": 17,
     "metadata": {},
     "output_type": "execute_result"
    }
   ],
   "source": [
    "vsechny_atributy('Q45188','P136')"
   ]
  },
  {
   "cell_type": "markdown",
   "id": "49c8cac8",
   "metadata": {},
   "source": [
    "#### Spotify ID"
   ]
  },
  {
   "cell_type": "code",
   "execution_count": 18,
   "id": "1a92a581",
   "metadata": {},
   "outputs": [
    {
     "data": {
      "text/plain": [
       "'1HY2Jd0NmPuamShAr6KMms'"
      ]
     },
     "execution_count": 18,
     "metadata": {},
     "output_type": "execute_result"
    }
   ],
   "source": [
    "wikidates('Q19848').attributes['claims']['P1902'][0]['mainsnak']['datavalue']['value']"
   ]
  },
  {
   "cell_type": "markdown",
   "id": "0df4a94b",
   "metadata": {},
   "source": [
    "#### Spotify odběratelstvo"
   ]
  },
  {
   "cell_type": "code",
   "execution_count": 19,
   "id": "e5e97085",
   "metadata": {},
   "outputs": [
    {
     "data": {
      "text/plain": [
       "'+20502345'"
      ]
     },
     "execution_count": 19,
     "metadata": {},
     "output_type": "execute_result"
    }
   ],
   "source": [
    "wikidates('Q19848').attributes['claims']['P1902'][0]['qualifiers']['P3744'][0]['datavalue']['value']['amount']"
   ]
  },
  {
   "cell_type": "markdown",
   "id": "bb9db346",
   "metadata": {},
   "source": [
    "#### Začátek a konec kariéry"
   ]
  },
  {
   "cell_type": "code",
   "execution_count": 255,
   "id": "bc9b35eb",
   "metadata": {},
   "outputs": [
    {
     "data": {
      "text/plain": [
       "'+1979-10-12T00:00:00Z'"
      ]
     },
     "execution_count": 255,
     "metadata": {},
     "output_type": "execute_result"
    }
   ],
   "source": [
    "wikidates('Q12029491').attributes['claims']['P569'][0]['mainsnak']['datavalue']['value']['time']"
   ]
  },
  {
   "cell_type": "code",
   "execution_count": 254,
   "id": "42b74411",
   "metadata": {},
   "outputs": [
    {
     "data": {
      "text/plain": [
       "'+1979-10-12T00:00:00Z'"
      ]
     },
     "execution_count": 254,
     "metadata": {},
     "output_type": "execute_result"
    }
   ],
   "source": [
    "wikidates('Q12029491').attributes['claims']['P569'][0]['mainsnak']['datavalue']['value']['time']"
   ]
  },
  {
   "cell_type": "markdown",
   "id": "181f6946",
   "metadata": {},
   "source": [
    "### Člověk/těleso"
   ]
  },
  {
   "cell_type": "code",
   "execution_count": 22,
   "id": "bb3276a0",
   "metadata": {},
   "outputs": [
    {
     "data": {
      "text/plain": [
       "'Q5'"
      ]
     },
     "execution_count": 22,
     "metadata": {},
     "output_type": "execute_result"
    }
   ],
   "source": [
    "wikidates('Q12029491').attributes['claims']['P31'][0]['mainsnak']['datavalue']['value']['id']"
   ]
  },
  {
   "cell_type": "code",
   "execution_count": 23,
   "id": "caf4b75d",
   "metadata": {},
   "outputs": [
    {
     "data": {
      "text/plain": [
       "'Q215380'"
      ]
     },
     "execution_count": 23,
     "metadata": {},
     "output_type": "execute_result"
    }
   ],
   "source": [
    "wikidates('Q1266721').attributes['claims']['P31'][0]['mainsnak']['datavalue']['value']['id']"
   ]
  },
  {
   "cell_type": "markdown",
   "id": "ed8e2e54",
   "metadata": {},
   "source": [
    "### Atributy lidí"
   ]
  },
  {
   "cell_type": "markdown",
   "id": "aacfb2ba",
   "metadata": {},
   "source": [
    "#### Gender\n",
    "\n",
    "pohlavní identita subjektu; u lidí použijte muž (Q6581097), žena (Q6581072), transmuž (Q2449503), transžena (Q1052281); u zvířat použijte samec (Q44148), samice (Q43445); u skupin stejného pohlaví použijte „podtřída (čeho)“ (P279)"
   ]
  },
  {
   "cell_type": "code",
   "execution_count": 24,
   "id": "edfd2854",
   "metadata": {},
   "outputs": [
    {
     "data": {
      "text/plain": [
       "'Q6581072'"
      ]
     },
     "execution_count": 24,
     "metadata": {},
     "output_type": "execute_result"
    }
   ],
   "source": [
    "wikidates('Q12029491').attributes['claims']['P21'][0]['mainsnak']['datavalue']['value']['id']"
   ]
  },
  {
   "cell_type": "markdown",
   "id": "f28a3d21",
   "metadata": {},
   "source": [
    "#### Občanství"
   ]
  },
  {
   "cell_type": "code",
   "execution_count": 26,
   "id": "fe79d0b9",
   "metadata": {},
   "outputs": [
    {
     "data": {
      "text/plain": [
       "['Q30']"
      ]
     },
     "execution_count": 26,
     "metadata": {},
     "output_type": "execute_result"
    }
   ],
   "source": [
    "vsechny_atributy('Q19848','P27')"
   ]
  },
  {
   "cell_type": "markdown",
   "id": "6f2afc96",
   "metadata": {},
   "source": [
    "#### Etnicita"
   ]
  },
  {
   "cell_type": "code",
   "execution_count": 27,
   "id": "e7a79d78",
   "metadata": {
    "scrolled": true
   },
   "outputs": [
    {
     "data": {
      "text/plain": [
       "['Q974693', 'Q857880']"
      ]
     },
     "execution_count": 27,
     "metadata": {},
     "output_type": "execute_result"
    }
   ],
   "source": [
    "vsechny_atributy('Q19848','P172')"
   ]
  },
  {
   "cell_type": "markdown",
   "id": "74e39731",
   "metadata": {},
   "source": [
    "#### Náboženství"
   ]
  },
  {
   "cell_type": "code",
   "execution_count": 222,
   "id": "5292ccc5",
   "metadata": {},
   "outputs": [
    {
     "data": {
      "text/plain": [
       "'Q5043'"
      ]
     },
     "execution_count": 222,
     "metadata": {},
     "output_type": "execute_result"
    }
   ],
   "source": [
    "wikidates('Q19848').attributes['claims']['P140'][0]['mainsnak']['datavalue']['value']['id']"
   ]
  },
  {
   "cell_type": "markdown",
   "id": "001a8773",
   "metadata": {},
   "source": [
    "#### Nástroj"
   ]
  },
  {
   "cell_type": "code",
   "execution_count": 29,
   "id": "b9fdcb76",
   "metadata": {},
   "outputs": [
    {
     "data": {
      "text/plain": [
       "['Q5994',\n",
       " 'Q1112687',\n",
       " 'Q31561',\n",
       " 'Q78987',\n",
       " 'Q163829',\n",
       " 'Q6607',\n",
       " 'Q128309',\n",
       " 'Q17172850']"
      ]
     },
     "execution_count": 29,
     "metadata": {},
     "output_type": "execute_result"
    }
   ],
   "source": [
    "vsechny_atributy('Q19848','P1303')"
   ]
  },
  {
   "cell_type": "markdown",
   "id": "4c1bb1d6",
   "metadata": {},
   "source": [
    "### Atributy kapel"
   ]
  },
  {
   "cell_type": "markdown",
   "id": "d4b47bdf",
   "metadata": {},
   "source": [
    "#### Založení"
   ]
  },
  {
   "cell_type": "code",
   "execution_count": 30,
   "id": "aff78df4",
   "metadata": {},
   "outputs": [
    {
     "data": {
      "text/plain": [
       "'+1994-00-00T00:00:00Z'"
      ]
     },
     "execution_count": 30,
     "metadata": {},
     "output_type": "execute_result"
    }
   ],
   "source": [
    "wikidates('Q6774073').attributes['claims']['P571'][0]['mainsnak']['datavalue']['value']['time']"
   ]
  },
  {
   "cell_type": "markdown",
   "id": "ae972dc9",
   "metadata": {},
   "source": [
    "#### Zánik"
   ]
  },
  {
   "cell_type": "code",
   "execution_count": 31,
   "id": "28898a1d",
   "metadata": {},
   "outputs": [
    {
     "data": {
      "text/plain": [
       "'+1970-04-10T00:00:00Z'"
      ]
     },
     "execution_count": 31,
     "metadata": {},
     "output_type": "execute_result"
    }
   ],
   "source": [
    "wikidates('Q1299').attributes['claims']['P576'][-1]['mainsnak']['datavalue']['value']['time']"
   ]
  },
  {
   "cell_type": "markdown",
   "id": "0694d7fc",
   "metadata": {},
   "source": [
    "#### Země původu"
   ]
  },
  {
   "cell_type": "code",
   "execution_count": 229,
   "id": "4f4a21cd",
   "metadata": {},
   "outputs": [
    {
     "data": {
      "text/plain": [
       "['Q6523170']"
      ]
     },
     "execution_count": 229,
     "metadata": {},
     "output_type": "execute_result"
    }
   ],
   "source": [
    "vsechny_atributy('Q19848','P19')"
   ]
  },
  {
   "cell_type": "markdown",
   "id": "d432ecba",
   "metadata": {},
   "source": [
    "## A jdem na to!"
   ]
  },
  {
   "cell_type": "code",
   "execution_count": 257,
   "id": "5e071ed8",
   "metadata": {},
   "outputs": [],
   "source": [
    "def stahni_wikidata(slovnik):\n",
    "    \n",
    "    slovnik = {k: v for k, v in slovnik.items() if v is not None}\n",
    "    \n",
    "    kody = {}\n",
    "    vysledky = []\n",
    "    c = 0\n",
    "    \n",
    "    def atributy(p):\n",
    "        atributy = []\n",
    "        for x in balicek.attributes['claims'][p]:\n",
    "            atributy.append(x['mainsnak']['datavalue']['value']['id'])\n",
    "        return(atributy)\n",
    "    \n",
    "    def rozkodovani(wikidata_id):\n",
    "        \n",
    "        url = f'https://www.wikidata.org/wiki/Special:EntityData/{wikidata_id}.json'\n",
    "        response = requests.get(url)\n",
    "        data = response.json()\n",
    "        try:\n",
    "            label = data['entities'][wikidata_id]['labels']['cs']['value']\n",
    "        except:\n",
    "            label = data['entities'][wikidata_id]['labels']['en']['value']\n",
    "        kody[wikidata_id] = label\n",
    "        return label        \n",
    "    \n",
    "    def rozkoduj(peckakvecka):\n",
    "        if isinstance(peckakvecka, list):\n",
    "            novy_seznam = []\n",
    "            for x in peckakvecka:\n",
    "                novy_seznam.append(rozkodovani(x))\n",
    "            citelne = novy_seznam\n",
    "        elif isinstance (peckakvecka, str):\n",
    "            citelne = rozkodovani(peckakvecka)\n",
    "        else:\n",
    "            citelne = peckakvecka\n",
    "        return citelne\n",
    "        \n",
    "    for key, value in slovnik.items():\n",
    "        \n",
    "        if value != None:\n",
    "        \n",
    "            interpret = {}\n",
    "            interpret['interpret_hlavni'] = key\n",
    "            interpret['id'] = value\n",
    "            balicek = wikidates(value)\n",
    "            \n",
    "            try:\n",
    "                interpret['nazev'] = balicek.attributes['claims']['P691'][0]['qualifiers']['P1810'][0]['datavalue']['value']\n",
    "            except:\n",
    "                interpret['nazev'] = None\n",
    "                \n",
    "            try:\n",
    "                interpret['zanry'] = rozkoduj(atributy('P136'))\n",
    "            except:\n",
    "                interpret['zanry'] = None\n",
    "            \n",
    "            try:\n",
    "                interpret['narozeni'] = balicek.attributes['claims']['P569'][0]['mainsnak']['datavalue']['value']['time']\n",
    "            except:\n",
    "                interpret['narozeni'] = None\n",
    "                \n",
    "            try:\n",
    "                interpret['umrti'] = balicek.attributes['claims']['P570'][0]['mainsnak']['datavalue']['value']['time']\n",
    "            except:\n",
    "                interpret['umrti'] = None\n",
    "            \n",
    "            try:\n",
    "                interpret['zacatek_pusobeni'] = balicek.attributes['claims']['P2031'][0]['mainsnak']['datavalue']['value']['time']\n",
    "            except:\n",
    "                interpret['zacatek_pusobeni'] = None\n",
    "                \n",
    "            try:\n",
    "                interpret['konec_pusobeni'] = balicek.attributes['claims']['P2032'][0]['mainsnak']['datavalue']['value']['time']\n",
    "            except:\n",
    "                interpret['konec_pusobeni'] = None\n",
    "            \n",
    "            try:\n",
    "                interpret['spotify_id'] = balicek.attributes['claims']['P1902'][0]['mainsnak']['datavalue']['value']\n",
    "            except:\n",
    "                interpret['spotify_id'] = None\n",
    "                \n",
    "            try:\n",
    "                interpret['spotify_odberatele'] = balicek.attributes['claims']['P1902'][0]['qualifiers']['P3744'][0]['datavalue']['value']['amount']\n",
    "            except:\n",
    "                interpret['spotify_odberatele'] = None\n",
    "            \n",
    "            try:\n",
    "                interpret['velikost'] = rozkoduj(balicek.attributes['claims']['P31'][0]['mainsnak']['datavalue']['value']['id'])\n",
    "            except: \n",
    "                interpret['velikost'] = None\n",
    "            \n",
    "            try:\n",
    "                interpret['gender'] = rozkoduj(balicek.attributes['claims']['P21'][0]['mainsnak']['datavalue']['value']['id'])\n",
    "            except:\n",
    "                interpret['gender'] = None\n",
    "                \n",
    "            try:\n",
    "                interpret['obcanstvi'] = rozkoduj(atributy('P27'))\n",
    "            except:\n",
    "                interpret['obcanstvi'] = None\n",
    "                \n",
    "            try:\n",
    "                interpret['etnicita'] = rozkoduj(atributy('P172'))\n",
    "            except:\n",
    "                interpret['etnicita'] = None\n",
    "            \n",
    "            try:\n",
    "                interpret['hlas'] = rozkoduj(atributy('P412'))\n",
    "            except:\n",
    "                interpret['hlas'] = None\n",
    "            \n",
    "            try:\n",
    "                interpret['nastroje'] = rozkoduj(atributy('P1303'))\n",
    "            except:\n",
    "                interpret['nastroje'] = None\n",
    "            \n",
    "            try:\n",
    "                interpret['zalozeni'] = balicek.attributes['claims']['P571'][0]['mainsnak']['datavalue']['value']['time']\n",
    "            except:\n",
    "                interpret['zalozeni'] = None\n",
    "                \n",
    "            try:\n",
    "                interpret['zanik'] = balicek.attributes['claims']['P576'][-1]['mainsnak']['datavalue']['value']['time']\n",
    "            except:\n",
    "                interpret['zanik'] = None\n",
    "            \n",
    "            try:\n",
    "                interpret['misto_puvodu'] = rozkoduj(atributy('P19')[-1])\n",
    "            except:                                        \n",
    "                interpret['misto_puvodu'] = None\n",
    "                \n",
    "            try:\n",
    "                interpret['nabozenstvi'] = rozkoduj(atributy('P140'))\n",
    "            except:\n",
    "                interpret['nabozenstvi'] = None\n",
    "            \n",
    "            try:\n",
    "                interpret['orientace'] = rozkoduj(atributy('P91'))\n",
    "            except:\n",
    "                interpret['orientace'] = None\n",
    "            \n",
    "            c = c + 1\n",
    "            \n",
    "            print(f'{c} / {len(slovnik)} / {key}')\n",
    "            \n",
    "            vysledky.append(interpret)\n",
    "            \n",
    "        else:\n",
    "            pass\n",
    "    \n",
    "    return(vysledky)"
   ]
  },
  {
   "cell_type": "code",
   "execution_count": 42,
   "id": "c804452e",
   "metadata": {},
   "outputs": [],
   "source": [
    "import itertools"
   ]
  },
  {
   "cell_type": "code",
   "execution_count": 240,
   "id": "a24936a3",
   "metadata": {},
   "outputs": [],
   "source": [
    "pokus = { \"Ed Sheeran\": \"Q47447\", \"Lucie Bílá\": \"Q468282\", \"Kabát\": \"Q938649\", \"Lady Gaga\": \"Q19848\", \"Pharrell Williams\": \"Q14313\", \"Michal Hrůza\": \"Q12036727\", \"Karel Gott\": \"Q333187\"}"
   ]
  },
  {
   "cell_type": "code",
   "execution_count": null,
   "id": "e3d26daf",
   "metadata": {},
   "outputs": [],
   "source": [
    "vsechny_atribu"
   ]
  },
  {
   "cell_type": "code",
   "execution_count": 258,
   "id": "93296a71",
   "metadata": {},
   "outputs": [
    {
     "name": "stdout",
     "output_type": "stream",
     "text": [
      "1 / 7 / Ed Sheeran\n",
      "2 / 7 / Lucie Bílá\n",
      "3 / 7 / Kabát\n",
      "4 / 7 / Lady Gaga\n",
      "5 / 7 / Pharrell Williams\n",
      "6 / 7 / Michal Hrůza\n",
      "7 / 7 / Karel Gott\n"
     ]
    }
   ],
   "source": [
    "pokusne_vysledky = stahni_wikidata(pokus)"
   ]
  },
  {
   "cell_type": "code",
   "execution_count": 260,
   "id": "c173222d",
   "metadata": {},
   "outputs": [
    {
     "data": {
      "text/plain": [
       "[{'interpret_hlavni': 'Ed Sheeran',\n",
       "  'id': 'Q47447',\n",
       "  'nazev': None,\n",
       "  'zanry': ['lidová hudba', 'folk pop', 'pop music', 'folk', 'hip hop', 'rap'],\n",
       "  'narozeni': '+1991-02-17T00:00:00Z',\n",
       "  'umrti': None,\n",
       "  'zacatek_pusobeni': '+2004-00-00T00:00:00Z',\n",
       "  'konec_pusobeni': None,\n",
       "  'spotify_id': '6eUKZXaKkcviH0Ku9w2n3V',\n",
       "  'spotify_odberatele': None,\n",
       "  'velikost': 'člověk',\n",
       "  'gender': 'muž',\n",
       "  'obcanstvi': ['Spojené království'],\n",
       "  'etnicita': None,\n",
       "  'hlas': ['tenor'],\n",
       "  'nastroje': ['kytara', 'hlas', 'live looper'],\n",
       "  'zalozeni': None,\n",
       "  'zanik': None,\n",
       "  'misto_puvodu': 'Halifax',\n",
       "  'nabozenstvi': None,\n",
       "  'orientace': None},\n",
       " {'interpret_hlavni': 'Lucie Bílá',\n",
       "  'id': 'Q468282',\n",
       "  'nazev': None,\n",
       "  'zanry': ['pop music'],\n",
       "  'narozeni': '+1966-04-07T00:00:00Z',\n",
       "  'umrti': None,\n",
       "  'zacatek_pusobeni': '+1985-00-00T00:00:00Z',\n",
       "  'konec_pusobeni': None,\n",
       "  'spotify_id': None,\n",
       "  'spotify_odberatele': None,\n",
       "  'velikost': 'člověk',\n",
       "  'gender': 'žena',\n",
       "  'obcanstvi': ['Česko'],\n",
       "  'etnicita': None,\n",
       "  'hlas': ['mezzosoprán'],\n",
       "  'nastroje': ['hlas'],\n",
       "  'zalozeni': None,\n",
       "  'zanik': None,\n",
       "  'misto_puvodu': 'Kladno',\n",
       "  'nabozenstvi': None,\n",
       "  'orientace': None},\n",
       " {'interpret_hlavni': 'Kabát',\n",
       "  'id': 'Q938649',\n",
       "  'nazev': None,\n",
       "  'zanry': ['hard rock'],\n",
       "  'narozeni': None,\n",
       "  'umrti': None,\n",
       "  'zacatek_pusobeni': '+1983-00-00T00:00:00Z',\n",
       "  'konec_pusobeni': None,\n",
       "  'spotify_id': None,\n",
       "  'spotify_odberatele': None,\n",
       "  'velikost': 'heavy metal band',\n",
       "  'gender': None,\n",
       "  'obcanstvi': None,\n",
       "  'etnicita': None,\n",
       "  'hlas': None,\n",
       "  'nastroje': None,\n",
       "  'zalozeni': '+1983-01-01T00:00:00Z',\n",
       "  'zanik': None,\n",
       "  'misto_puvodu': None,\n",
       "  'nabozenstvi': None,\n",
       "  'orientace': None},\n",
       " {'interpret_hlavni': 'Lady Gaga',\n",
       "  'id': 'Q19848',\n",
       "  'nazev': None,\n",
       "  'zanry': ['elektropop',\n",
       "   'dance-pop',\n",
       "   'synthpop',\n",
       "   'elektronická taneční hudba',\n",
       "   'art pop',\n",
       "   'pop music'],\n",
       "  'narozeni': '+1986-03-28T00:00:00Z',\n",
       "  'umrti': None,\n",
       "  'zacatek_pusobeni': '+2005-00-00T00:00:00Z',\n",
       "  'konec_pusobeni': None,\n",
       "  'spotify_id': '1HY2Jd0NmPuamShAr6KMms',\n",
       "  'spotify_odberatele': '+20502345',\n",
       "  'velikost': 'člověk',\n",
       "  'gender': 'žena',\n",
       "  'obcanstvi': ['Spojené státy americké'],\n",
       "  'etnicita': ['Italoameričané', 'Frankokanaďan'],\n",
       "  'hlas': ['mezzosoprán'],\n",
       "  'nastroje': ['klavír',\n",
       "   'keytar',\n",
       "   'akustická kytara',\n",
       "   'elektrická kytara',\n",
       "   'syntezátor',\n",
       "   'kytara',\n",
       "   'bicí souprava',\n",
       "   'hlas'],\n",
       "  'zalozeni': None,\n",
       "  'zanik': None,\n",
       "  'misto_puvodu': 'Nemocnice v Lenox Hill',\n",
       "  'nabozenstvi': ['křesťanství'],\n",
       "  'orientace': ['bisexualita']},\n",
       " {'interpret_hlavni': 'Pharrell Williams',\n",
       "  'id': 'Q14313',\n",
       "  'nazev': None,\n",
       "  'zanry': ['hip hop', 'contemporary R&B', 'funk', 'pop music'],\n",
       "  'narozeni': '+1973-04-05T00:00:00Z',\n",
       "  'umrti': None,\n",
       "  'zacatek_pusobeni': '+1990-00-00T00:00:00Z',\n",
       "  'konec_pusobeni': None,\n",
       "  'spotify_id': '2RdwBSPQiwcmiDo9kixcl8',\n",
       "  'spotify_odberatele': None,\n",
       "  'velikost': 'člověk',\n",
       "  'gender': 'muž',\n",
       "  'obcanstvi': ['Spojené státy americké'],\n",
       "  'etnicita': ['Afroameričané'],\n",
       "  'hlas': ['Kontratenor'],\n",
       "  'nastroje': ['hlas', 'bicí souprava', 'kytara', 'klávesový nástroj'],\n",
       "  'zalozeni': None,\n",
       "  'zanik': None,\n",
       "  'misto_puvodu': 'Virginia Beach',\n",
       "  'nabozenstvi': None,\n",
       "  'orientace': None},\n",
       " {'interpret_hlavni': 'Michal Hrůza',\n",
       "  'id': 'Q12036727',\n",
       "  'nazev': None,\n",
       "  'zanry': ['tradiční pop', 'rock'],\n",
       "  'narozeni': '+1971-08-31T00:00:00Z',\n",
       "  'umrti': None,\n",
       "  'zacatek_pusobeni': '+1986-00-00T00:00:00Z',\n",
       "  'konec_pusobeni': None,\n",
       "  'spotify_id': None,\n",
       "  'spotify_odberatele': None,\n",
       "  'velikost': 'člověk',\n",
       "  'gender': 'muž',\n",
       "  'obcanstvi': ['Česko'],\n",
       "  'etnicita': None,\n",
       "  'hlas': None,\n",
       "  'nastroje': ['kytara', 'hlas'],\n",
       "  'zalozeni': None,\n",
       "  'zanik': None,\n",
       "  'misto_puvodu': 'Turnov',\n",
       "  'nabozenstvi': None,\n",
       "  'orientace': None},\n",
       " {'interpret_hlavni': 'Karel Gott',\n",
       "  'id': 'Q333187',\n",
       "  'nazev': None,\n",
       "  'zanry': ['pop music', 'šanson', 'romance', 'estráda'],\n",
       "  'narozeni': '+1939-07-14T00:00:00Z',\n",
       "  'umrti': '+2019-10-01T00:00:00Z',\n",
       "  'zacatek_pusobeni': '+1958-00-00T00:00:00Z',\n",
       "  'konec_pusobeni': '+2019-00-00T00:00:00Z',\n",
       "  'spotify_id': '4zaslnpNr10iUFJGx0XqpM',\n",
       "  'spotify_odberatele': None,\n",
       "  'velikost': 'člověk',\n",
       "  'gender': 'muž',\n",
       "  'obcanstvi': ['Československo', 'Česko'],\n",
       "  'etnicita': None,\n",
       "  'hlas': ['tenor'],\n",
       "  'nastroje': ['kytara', 'hlas'],\n",
       "  'zalozeni': None,\n",
       "  'zanik': None,\n",
       "  'misto_puvodu': 'Plzeň',\n",
       "  'nabozenstvi': None,\n",
       "  'orientace': None}]"
      ]
     },
     "execution_count": 260,
     "metadata": {},
     "output_type": "execute_result"
    }
   ],
   "source": [
    "pokusne_vysledky"
   ]
  }
 ],
 "metadata": {
  "kernelspec": {
   "display_name": "Python 3 (ipykernel)",
   "language": "python",
   "name": "python3"
  },
  "language_info": {
   "codemirror_mode": {
    "name": "ipython",
    "version": 3
   },
   "file_extension": ".py",
   "mimetype": "text/x-python",
   "name": "python",
   "nbconvert_exporter": "python",
   "pygments_lexer": "ipython3",
   "version": "3.10.8"
  }
 },
 "nbformat": 4,
 "nbformat_minor": 5
}
