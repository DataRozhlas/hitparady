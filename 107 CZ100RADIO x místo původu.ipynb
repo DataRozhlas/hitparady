{
 "cells": [
  {
   "cell_type": "markdown",
   "id": "960dc12e",
   "metadata": {},
   "source": [
    "Todo:\n",
    "- Kolik zahraničních a kolik českých jmen se ve zkoumaným období protočilo v rádiích (tipuju že českých bude výrazně míň > z českých imho točíme dokola léta ta samá jména jen třeba s novýma písničkama)"
   ]
  },
  {
   "cell_type": "code",
   "execution_count": 1,
   "id": "d30a2642",
   "metadata": {},
   "outputs": [],
   "source": [
    "import os\n",
    "import pandas as pd"
   ]
  },
  {
   "cell_type": "code",
   "execution_count": 2,
   "id": "20cb7721",
   "metadata": {},
   "outputs": [],
   "source": [
    "df = pd.read_csv(os.path.join(\"data\",\"CZ_RADIO_TOP_100_tydenni.csv\"))\n",
    "wikid = pd.read_json(os.path.join(\"wikidata\",\"wikidata.json\"))\n",
    "df = df.merge(wikid, on=\"interpret_hlavni\", how=\"outer\")"
   ]
  },
  {
   "cell_type": "markdown",
   "id": "58baa941",
   "metadata": {},
   "source": [
    "## Co v těch datech vlastně máme"
   ]
  },
  {
   "cell_type": "code",
   "execution_count": 3,
   "id": "7fea7f98",
   "metadata": {},
   "outputs": [
    {
     "data": {
      "text/html": [
       "<div>\n",
       "<style scoped>\n",
       "    .dataframe tbody tr th:only-of-type {\n",
       "        vertical-align: middle;\n",
       "    }\n",
       "\n",
       "    .dataframe tbody tr th {\n",
       "        vertical-align: top;\n",
       "    }\n",
       "\n",
       "    .dataframe thead th {\n",
       "        text-align: right;\n",
       "    }\n",
       "</style>\n",
       "<table border=\"1\" class=\"dataframe\">\n",
       "  <thead>\n",
       "    <tr style=\"text-align: right;\">\n",
       "      <th></th>\n",
       "      <th>interpret_hlavni</th>\n",
       "      <th>zeme_puvodu</th>\n",
       "    </tr>\n",
       "  </thead>\n",
       "  <tbody>\n",
       "    <tr>\n",
       "      <th>26928</th>\n",
       "      <td>Mandrage</td>\n",
       "      <td>Česko</td>\n",
       "    </tr>\n",
       "    <tr>\n",
       "      <th>27602</th>\n",
       "      <td>David Guetta</td>\n",
       "      <td>Francie</td>\n",
       "    </tr>\n",
       "    <tr>\n",
       "      <th>67523</th>\n",
       "      <td>Slza</td>\n",
       "      <td>Česko</td>\n",
       "    </tr>\n",
       "    <tr>\n",
       "      <th>34092</th>\n",
       "      <td>Laurent Wolf</td>\n",
       "      <td>NaN</td>\n",
       "    </tr>\n",
       "    <tr>\n",
       "      <th>35302</th>\n",
       "      <td>Marek Ztracený</td>\n",
       "      <td>Česko</td>\n",
       "    </tr>\n",
       "    <tr>\n",
       "      <th>87636</th>\n",
       "      <td>Purple Disco Machine</td>\n",
       "      <td>Německo</td>\n",
       "    </tr>\n",
       "    <tr>\n",
       "      <th>85724</th>\n",
       "      <td>R3Hab</td>\n",
       "      <td>Nizozemsko</td>\n",
       "    </tr>\n",
       "    <tr>\n",
       "      <th>17736</th>\n",
       "      <td>Ne-Yo</td>\n",
       "      <td>Spojené státy americké</td>\n",
       "    </tr>\n",
       "    <tr>\n",
       "      <th>89838</th>\n",
       "      <td>Maneskin</td>\n",
       "      <td>Itálie</td>\n",
       "    </tr>\n",
       "    <tr>\n",
       "      <th>87243</th>\n",
       "      <td>Joel Corry</td>\n",
       "      <td>Spojené království</td>\n",
       "    </tr>\n",
       "  </tbody>\n",
       "</table>\n",
       "</div>"
      ],
      "text/plain": [
       "           interpret_hlavni             zeme_puvodu\n",
       "26928              Mandrage                   Česko\n",
       "27602          David Guetta                 Francie\n",
       "67523                  Slza                   Česko\n",
       "34092          Laurent Wolf                     NaN\n",
       "35302        Marek Ztracený                   Česko\n",
       "87636  Purple Disco Machine                 Německo\n",
       "85724                 R3Hab              Nizozemsko\n",
       "17736                 Ne-Yo  Spojené státy americké\n",
       "89838              Maneskin                  Itálie\n",
       "87243            Joel Corry      Spojené království"
      ]
     },
     "execution_count": 3,
     "metadata": {},
     "output_type": "execute_result"
    }
   ],
   "source": [
    "df[['interpret_hlavni','zeme_puvodu']].sample(10)"
   ]
  },
  {
   "cell_type": "code",
   "execution_count": 4,
   "id": "d07137d0",
   "metadata": {},
   "outputs": [
    {
     "data": {
      "text/plain": [
       "0.859831214379658"
      ]
     },
     "execution_count": 4,
     "metadata": {},
     "output_type": "execute_result"
    }
   ],
   "source": [
    "len(df[~df['zeme_puvodu'].isnull()]) / len(df)"
   ]
  },
  {
   "cell_type": "markdown",
   "id": "96fe49e5",
   "metadata": {},
   "source": [
    "To je slušný."
   ]
  },
  {
   "cell_type": "markdown",
   "id": "0c895ea1",
   "metadata": {},
   "source": [
    "## Nejzastoupenější země"
   ]
  },
  {
   "cell_type": "code",
   "execution_count": 5,
   "id": "860864c4",
   "metadata": {},
   "outputs": [
    {
     "data": {
      "text/plain": [
       "zeme_puvodu\n",
       "Spojené státy americké     22361\n",
       "Česko                      19483\n",
       "Spojené království         13679\n",
       "Kanada                      2598\n",
       "Německo                     2324\n",
       "Francie                     2204\n",
       "Švédsko                     2071\n",
       "Slovensko                   1896\n",
       "Austrálie                   1283\n",
       "Nizozemsko                  1135\n",
       "Španělsko                    951\n",
       "Barbados                     768\n",
       "Belgie                       693\n",
       "Irsko                        592\n",
       "Švýcarsko                    513\n",
       "Kolumbie                     492\n",
       "Finsko                       465\n",
       "Rumunsko                     428\n",
       "Braniborské markrabství      394\n",
       "Itálie                       378\n",
       "dtype: int64"
      ]
     },
     "execution_count": 5,
     "metadata": {},
     "output_type": "execute_result"
    }
   ],
   "source": [
    "df.groupby('zeme_puvodu').size().nlargest(20)"
   ]
  },
  {
   "cell_type": "code",
   "execution_count": 6,
   "id": "99d28369",
   "metadata": {},
   "outputs": [],
   "source": [
    "def pomer(x, y):\n",
    "    return (df[(df['zeme_puvodu'] == x) & (df['pozice'] <= y)].groupby('rok').size() / df[(~df['zeme_puvodu'].isnull()) & (df['pozice'] <= y)].groupby('rok').size()).plot.bar()"
   ]
  },
  {
   "cell_type": "code",
   "execution_count": 7,
   "id": "38b7a623",
   "metadata": {},
   "outputs": [
    {
     "data": {
      "text/plain": [
       "<Axes: xlabel='rok'>"
      ]
     },
     "execution_count": 7,
     "metadata": {},
     "output_type": "execute_result"
    },
    {
     "data": {
      "image/png": "[encoded data removed]",
      "text/plain": [
       "<Figure size 432x288 with 1 Axes>"
      ]
     },
     "metadata": {
      "needs_background": "light"
     },
     "output_type": "display_data"
    }
   ],
   "source": [
    "pomer('Spojené státy americké', 100)"
   ]
  },
  {
   "cell_type": "code",
   "execution_count": 8,
   "id": "5bc9eb13",
   "metadata": {},
   "outputs": [
    {
     "data": {
      "text/plain": [
       "<Axes: xlabel='rok'>"
      ]
     },
     "execution_count": 8,
     "metadata": {},
     "output_type": "execute_result"
    },
    {
     "data": {
      "image/png": "[encoded data removed]",
      "text/plain": [
       "<Figure size 432x288 with 1 Axes>"
      ]
     },
     "metadata": {
      "needs_background": "light"
     },
     "output_type": "display_data"
    }
   ],
   "source": [
    "pomer('Spojené státy americké', 10)"
   ]
  },
  {
   "cell_type": "code",
   "execution_count": 9,
   "id": "0d3bfce0",
   "metadata": {},
   "outputs": [
    {
     "data": {
      "text/plain": [
       "<Axes: xlabel='rok'>"
      ]
     },
     "execution_count": 9,
     "metadata": {},
     "output_type": "execute_result"
    },
    {
     "data": {
      "image/png": "[encoded data removed]",
      "text/plain": [
       "<Figure size 432x288 with 1 Axes>"
      ]
     },
     "metadata": {
      "needs_background": "light"
     },
     "output_type": "display_data"
    }
   ],
   "source": [
    "pomer('Česko', 100)"
   ]
  },
  {
   "cell_type": "code",
   "execution_count": 10,
   "id": "fd6cd048",
   "metadata": {
    "scrolled": true
   },
   "outputs": [
    {
     "data": {
      "text/plain": [
       "<Axes: xlabel='rok'>"
      ]
     },
     "execution_count": 10,
     "metadata": {},
     "output_type": "execute_result"
    },
    {
     "data": {
      "image/png": "[encoded data removed]",
      "text/plain": [
       "<Figure size 432x288 with 1 Axes>"
      ]
     },
     "metadata": {
      "needs_background": "light"
     },
     "output_type": "display_data"
    }
   ],
   "source": [
    "pomer('Česko', 10)"
   ]
  },
  {
   "cell_type": "code",
   "execution_count": 11,
   "id": "6e124bab",
   "metadata": {},
   "outputs": [
    {
     "data": {
      "text/plain": [
       "<Axes: xlabel='rok'>"
      ]
     },
     "execution_count": 11,
     "metadata": {},
     "output_type": "execute_result"
    },
    {
     "data": {
      "image/png": "[encoded data removed]",
      "text/plain": [
       "<Figure size 432x288 with 1 Axes>"
      ]
     },
     "metadata": {
      "needs_background": "light"
     },
     "output_type": "display_data"
    }
   ],
   "source": [
    "pomer('Spojené království', 100)"
   ]
  },
  {
   "cell_type": "code",
   "execution_count": 12,
   "id": "78d72221",
   "metadata": {},
   "outputs": [
    {
     "data": {
      "text/plain": [
       "<Axes: xlabel='rok'>"
      ]
     },
     "execution_count": 12,
     "metadata": {},
     "output_type": "execute_result"
    },
    {
     "data": {
      "image/png": "[encoded data removed]",
      "text/plain": [
       "<Figure size 432x288 with 1 Axes>"
      ]
     },
     "metadata": {
      "needs_background": "light"
     },
     "output_type": "display_data"
    }
   ],
   "source": [
    "pomer('Slovensko', 100)"
   ]
  },
  {
   "cell_type": "code",
   "execution_count": 13,
   "id": "bbf32a4c",
   "metadata": {},
   "outputs": [
    {
     "data": {
      "text/plain": [
       "<Axes: xlabel='rok'>"
      ]
     },
     "execution_count": 13,
     "metadata": {},
     "output_type": "execute_result"
    },
    {
     "data": {
      "image/png": "[encoded data removed]",
      "text/plain": [
       "<Figure size 432x288 with 1 Axes>"
      ]
     },
     "metadata": {
      "needs_background": "light"
     },
     "output_type": "display_data"
    }
   ],
   "source": [
    "pomer('Německo', 100)"
   ]
  },
  {
   "cell_type": "markdown",
   "id": "2d4b978e",
   "metadata": {},
   "source": [
    "## Jak se točí domácí x zahraniční"
   ]
  },
  {
   "cell_type": "code",
   "execution_count": 14,
   "id": "0c6e54b4",
   "metadata": {},
   "outputs": [
    {
     "data": {
      "text/plain": [
       "2.9731543624161074"
      ]
     },
     "execution_count": 14,
     "metadata": {},
     "output_type": "execute_result"
    }
   ],
   "source": [
    "df[~df['zeme_puvodu'].isnull() & (df['zeme_puvodu'] == \"Česko\")].groupby('interpret_hlavni')['track'].nunique().mean()"
   ]
  },
  {
   "cell_type": "code",
   "execution_count": 15,
   "id": "feeac4a7",
   "metadata": {},
   "outputs": [
    {
     "data": {
      "text/plain": [
       "3.3134146341463415"
      ]
     },
     "execution_count": 15,
     "metadata": {},
     "output_type": "execute_result"
    }
   ],
   "source": [
    "df[~df['zeme_puvodu'].isnull() & (df['zeme_puvodu'] != \"Česko\")].groupby('interpret_hlavni')['track'].nunique().mean()"
   ]
  },
  {
   "cell_type": "markdown",
   "id": "8fe24908",
   "metadata": {},
   "source": [
    "## Délka kariér"
   ]
  },
  {
   "cell_type": "code",
   "execution_count": 16,
   "id": "1d1256b0",
   "metadata": {},
   "outputs": [],
   "source": [
    "top_zeme = df.explode('zeme_puvodu').groupby('zeme_puvodu').size().nlargest(10).index.to_list()"
   ]
  },
  {
   "cell_type": "code",
   "execution_count": 17,
   "id": "abc3d887",
   "metadata": {},
   "outputs": [],
   "source": [
    "df['delka_pusobeni'] = df['rok'] - df['zacatek_pusobeni']"
   ]
  },
  {
   "cell_type": "code",
   "execution_count": 18,
   "id": "8a793038",
   "metadata": {},
   "outputs": [
    {
     "data": {
      "text/plain": [
       "zeme_puvodu\n",
       "Německo                    8.629206\n",
       "Spojené království         9.794620\n",
       "Švédsko                    9.866796\n",
       "Kanada                    10.374465\n",
       "Austrálie                 12.949099\n",
       "Spojené státy americké    13.264935\n",
       "Nizozemsko                14.010591\n",
       "Česko                     16.885559\n",
       "Slovensko                 18.902149\n",
       "Francie                   19.045847\n",
       "Name: delka_pusobeni, dtype: float64"
      ]
     },
     "execution_count": 18,
     "metadata": {},
     "output_type": "execute_result"
    }
   ],
   "source": [
    "df[df['zeme_puvodu'].isin(top_zeme)].groupby('zeme_puvodu')['delka_pusobeni'].mean().sort_values().head(60)"
   ]
  },
  {
   "cell_type": "markdown",
   "id": "e8b3cc3b",
   "metadata": {},
   "source": [
    "Nejosvědčenější zřejmě musí být interpreti ze Slovenska, naopak ze Spojeného království je přebíráme relativně krátce po založení.\n",
    "\n",
    "Bacha! Nemůže to nějak zkreslovat to, že jsou data až od roku 2006?"
   ]
  },
  {
   "cell_type": "markdown",
   "id": "e76addd2",
   "metadata": {},
   "source": [
    "## Brno x Praha"
   ]
  },
  {
   "cell_type": "code",
   "execution_count": 19,
   "id": "e1f6649b",
   "metadata": {},
   "outputs": [
    {
     "data": {
      "text/plain": [
       "0.04655493482309125"
      ]
     },
     "execution_count": 19,
     "metadata": {},
     "output_type": "execute_result"
    }
   ],
   "source": [
    "len(df[df['misto_puvodu'] == 'Brno']) / len(df[df['misto_puvodu'] == 'Praha'])"
   ]
  },
  {
   "cell_type": "markdown",
   "id": "7bd52675",
   "metadata": {},
   "source": [
    "Velmi disproporční, podobně jako u filmu, ale na tahle data bych pro velké soudy nespoléhal :/"
   ]
  },
  {
   "cell_type": "markdown",
   "id": "86a46636",
   "metadata": {},
   "source": [
    "## Versus žánry"
   ]
  },
  {
   "cell_type": "code",
   "execution_count": 20,
   "id": "5a46afbb",
   "metadata": {},
   "outputs": [],
   "source": [
    "zanryxmista = df.explode('zanry').explode('zeme_puvodu')\n",
    "zanryxmista = zanryxmista[['zanry','zeme_puvodu']].dropna()"
   ]
  },
  {
   "cell_type": "markdown",
   "id": "42c12690",
   "metadata": {},
   "source": [
    "Vyřazuji z toho pop."
   ]
  },
  {
   "cell_type": "code",
   "execution_count": 21,
   "id": "14fb87bf",
   "metadata": {},
   "outputs": [
    {
     "data": {
      "text/html": [
       "<div>\n",
       "<style scoped>\n",
       "    .dataframe tbody tr th:only-of-type {\n",
       "        vertical-align: middle;\n",
       "    }\n",
       "\n",
       "    .dataframe tbody tr th {\n",
       "        vertical-align: top;\n",
       "    }\n",
       "\n",
       "    .dataframe thead th {\n",
       "        text-align: right;\n",
       "    }\n",
       "</style>\n",
       "<table border=\"1\" class=\"dataframe\">\n",
       "  <thead>\n",
       "    <tr style=\"text-align: right;\">\n",
       "      <th></th>\n",
       "      <th></th>\n",
       "      <th>count</th>\n",
       "    </tr>\n",
       "    <tr>\n",
       "      <th>zeme_puvodu</th>\n",
       "      <th>zanry</th>\n",
       "      <th></th>\n",
       "    </tr>\n",
       "  </thead>\n",
       "  <tbody>\n",
       "    <tr>\n",
       "      <th rowspan=\"4\" valign=\"top\">Spojené státy americké</th>\n",
       "      <th>hip hop</th>\n",
       "      <td>7250</td>\n",
       "    </tr>\n",
       "    <tr>\n",
       "      <th>contemporary R&amp;B</th>\n",
       "      <td>6637</td>\n",
       "    </tr>\n",
       "    <tr>\n",
       "      <th>alternativní rock</th>\n",
       "      <td>4666</td>\n",
       "    </tr>\n",
       "    <tr>\n",
       "      <th>rock</th>\n",
       "      <td>3758</td>\n",
       "    </tr>\n",
       "    <tr>\n",
       "      <th>Česko</th>\n",
       "      <th>rock</th>\n",
       "      <td>3155</td>\n",
       "    </tr>\n",
       "    <tr>\n",
       "      <th rowspan=\"4\" valign=\"top\">Spojené státy americké</th>\n",
       "      <th>elektronická taneční hudba</th>\n",
       "      <td>2566</td>\n",
       "    </tr>\n",
       "    <tr>\n",
       "      <th>taneční hudba</th>\n",
       "      <td>2232</td>\n",
       "    </tr>\n",
       "    <tr>\n",
       "      <th>soul</th>\n",
       "      <td>2049</td>\n",
       "    </tr>\n",
       "    <tr>\n",
       "      <th>rhythm and blues</th>\n",
       "      <td>1898</td>\n",
       "    </tr>\n",
       "    <tr>\n",
       "      <th>Spojené království</th>\n",
       "      <th>alternativní rock</th>\n",
       "      <td>1835</td>\n",
       "    </tr>\n",
       "    <tr>\n",
       "      <th>Spojené státy americké</th>\n",
       "      <th>reggae</th>\n",
       "      <td>1728</td>\n",
       "    </tr>\n",
       "    <tr>\n",
       "      <th>Spojené království</th>\n",
       "      <th>soft rock</th>\n",
       "      <td>1714</td>\n",
       "    </tr>\n",
       "    <tr>\n",
       "      <th>Česko</th>\n",
       "      <th>alternativní rock</th>\n",
       "      <td>1688</td>\n",
       "    </tr>\n",
       "    <tr>\n",
       "      <th>Spojené státy americké</th>\n",
       "      <th>elektronická hudba</th>\n",
       "      <td>1668</td>\n",
       "    </tr>\n",
       "    <tr>\n",
       "      <th rowspan=\"2\" valign=\"top\">Spojené království</th>\n",
       "      <th>contemporary R&amp;B</th>\n",
       "      <td>1547</td>\n",
       "    </tr>\n",
       "    <tr>\n",
       "      <th>rock</th>\n",
       "      <td>1522</td>\n",
       "    </tr>\n",
       "    <tr>\n",
       "      <th rowspan=\"4\" valign=\"top\">Spojené státy americké</th>\n",
       "      <th>trap</th>\n",
       "      <td>1504</td>\n",
       "    </tr>\n",
       "    <tr>\n",
       "      <th>electro house</th>\n",
       "      <td>1402</td>\n",
       "    </tr>\n",
       "    <tr>\n",
       "      <th>country</th>\n",
       "      <td>1289</td>\n",
       "    </tr>\n",
       "    <tr>\n",
       "      <th>funk</th>\n",
       "      <td>1288</td>\n",
       "    </tr>\n",
       "    <tr>\n",
       "      <th>Spojené království</th>\n",
       "      <th>soul</th>\n",
       "      <td>1267</td>\n",
       "    </tr>\n",
       "    <tr>\n",
       "      <th>Spojené státy americké</th>\n",
       "      <th>house music</th>\n",
       "      <td>1254</td>\n",
       "    </tr>\n",
       "    <tr>\n",
       "      <th rowspan=\"2\" valign=\"top\">Spojené království</th>\n",
       "      <th>hip hop</th>\n",
       "      <td>1242</td>\n",
       "    </tr>\n",
       "    <tr>\n",
       "      <th>house music</th>\n",
       "      <td>1218</td>\n",
       "    </tr>\n",
       "    <tr>\n",
       "      <th rowspan=\"2\" valign=\"top\">Spojené státy americké</th>\n",
       "      <th>Southern hip hop</th>\n",
       "      <td>1182</td>\n",
       "    </tr>\n",
       "    <tr>\n",
       "      <th>gospel</th>\n",
       "      <td>1178</td>\n",
       "    </tr>\n",
       "    <tr>\n",
       "      <th>Spojené království</th>\n",
       "      <th>rhythm and blues</th>\n",
       "      <td>1175</td>\n",
       "    </tr>\n",
       "    <tr>\n",
       "      <th rowspan=\"3\" valign=\"top\">Spojené státy americké</th>\n",
       "      <th>reggaeton</th>\n",
       "      <td>1157</td>\n",
       "    </tr>\n",
       "    <tr>\n",
       "      <th>hip house</th>\n",
       "      <td>1155</td>\n",
       "    </tr>\n",
       "    <tr>\n",
       "      <th>dirty south</th>\n",
       "      <td>1145</td>\n",
       "    </tr>\n",
       "  </tbody>\n",
       "</table>\n",
       "</div>"
      ],
      "text/plain": [
       "                                                   count\n",
       "zeme_puvodu            zanry                            \n",
       "Spojené státy americké hip hop                      7250\n",
       "                       contemporary R&B             6637\n",
       "                       alternativní rock            4666\n",
       "                       rock                         3758\n",
       "Česko                  rock                         3155\n",
       "Spojené státy americké elektronická taneční hudba   2566\n",
       "                       taneční hudba                2232\n",
       "                       soul                         2049\n",
       "                       rhythm and blues             1898\n",
       "Spojené království     alternativní rock            1835\n",
       "Spojené státy americké reggae                       1728\n",
       "Spojené království     soft rock                    1714\n",
       "Česko                  alternativní rock            1688\n",
       "Spojené státy americké elektronická hudba           1668\n",
       "Spojené království     contemporary R&B             1547\n",
       "                       rock                         1522\n",
       "Spojené státy americké trap                         1504\n",
       "                       electro house                1402\n",
       "                       country                      1289\n",
       "                       funk                         1288\n",
       "Spojené království     soul                         1267\n",
       "Spojené státy americké house music                  1254\n",
       "Spojené království     hip hop                      1242\n",
       "                       house music                  1218\n",
       "Spojené státy americké Southern hip hop             1182\n",
       "                       gospel                       1178\n",
       "Spojené království     rhythm and blues             1175\n",
       "Spojené státy americké reggaeton                    1157\n",
       "                       hip house                    1155\n",
       "                       dirty south                  1145"
      ]
     },
     "execution_count": 21,
     "metadata": {},
     "output_type": "execute_result"
    }
   ],
   "source": [
    "pd.DataFrame(zanryxmista[~zanryxmista['zanry'].str.contains('pop',na=False)].groupby(['zeme_puvodu','zanry']).size().nlargest(30)).rename(columns={0:'count'})"
   ]
  }
 ],
 "metadata": {
  "kernelspec": {
   "display_name": "Python 3 (ipykernel)",
   "language": "python",
   "name": "python3"
  },
  "language_info": {
   "codemirror_mode": {
    "name": "ipython",
    "version": 3
   },
   "file_extension": ".py",
   "mimetype": "text/x-python",
   "name": "python",
   "nbconvert_exporter": "python",
   "pygments_lexer": "ipython3",
   "version": "3.10.8"
  }
 },
 "nbformat": 4,
 "nbformat_minor": 5
}
