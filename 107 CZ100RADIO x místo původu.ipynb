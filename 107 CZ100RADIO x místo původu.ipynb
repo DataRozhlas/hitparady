{
 "cells": [
  {
   "cell_type": "markdown",
   "id": "960dc12e",
   "metadata": {},
   "source": [
    "Todo:\n",
    "- Kolik zahraničních a kolik českých jmen se ve zkoumaným období protočilo v rádiích (tipuju že českých bude výrazně míň > z českých imho točíme dokola léta ta samá jména jen třeba s novýma písničkama)"
   ]
  },
  {
   "cell_type": "code",
   "execution_count": 2,
   "id": "d30a2642",
   "metadata": {},
   "outputs": [],
   "source": [
    "import os\n",
    "import pandas as pd"
   ]
  },
  {
   "cell_type": "code",
   "execution_count": 3,
   "id": "20cb7721",
   "metadata": {},
   "outputs": [],
   "source": [
    "df = pd.read_csv(os.path.join(\"data\",\"CZ_RADIO_TOP_100_tydenni.csv\"))\n",
    "wikid = pd.read_json(os.path.join(\"wikidata\",\"wikidata.json\"))\n",
    "df = df.merge(wikid, on=\"interpret_hlavni\", how=\"outer\")"
   ]
  },
  {
   "cell_type": "markdown",
   "id": "58baa941",
   "metadata": {},
   "source": [
    "## Co v těch datech vlastně máme"
   ]
  },
  {
   "cell_type": "code",
   "execution_count": 4,
   "id": "7fea7f98",
   "metadata": {},
   "outputs": [
    {
     "data": {
      "text/html": [
       "<div>\n",
       "<style scoped>\n",
       "    .dataframe tbody tr th:only-of-type {\n",
       "        vertical-align: middle;\n",
       "    }\n",
       "\n",
       "    .dataframe tbody tr th {\n",
       "        vertical-align: top;\n",
       "    }\n",
       "\n",
       "    .dataframe thead th {\n",
       "        text-align: right;\n",
       "    }\n",
       "</style>\n",
       "<table border=\"1\" class=\"dataframe\">\n",
       "  <thead>\n",
       "    <tr style=\"text-align: right;\">\n",
       "      <th></th>\n",
       "      <th>interpret_hlavni</th>\n",
       "      <th>zeme_puvodu</th>\n",
       "    </tr>\n",
       "  </thead>\n",
       "  <tbody>\n",
       "    <tr>\n",
       "      <th>75521</th>\n",
       "      <td>G-Eazy</td>\n",
       "      <td>Spojené státy americké</td>\n",
       "    </tr>\n",
       "    <tr>\n",
       "      <th>1101</th>\n",
       "      <td>Victoria</td>\n",
       "      <td>NaN</td>\n",
       "    </tr>\n",
       "    <tr>\n",
       "      <th>68068</th>\n",
       "      <td>Robin Schulz</td>\n",
       "      <td>Německo</td>\n",
       "    </tr>\n",
       "    <tr>\n",
       "      <th>3941</th>\n",
       "      <td>Green Day</td>\n",
       "      <td>Spojené státy americké</td>\n",
       "    </tr>\n",
       "    <tr>\n",
       "      <th>43287</th>\n",
       "      <td>Kristina</td>\n",
       "      <td>Slovensko</td>\n",
       "    </tr>\n",
       "    <tr>\n",
       "      <th>73619</th>\n",
       "      <td>Sigala</td>\n",
       "      <td>Spojené království</td>\n",
       "    </tr>\n",
       "    <tr>\n",
       "      <th>82048</th>\n",
       "      <td>Timmy White</td>\n",
       "      <td>NaN</td>\n",
       "    </tr>\n",
       "    <tr>\n",
       "      <th>9846</th>\n",
       "      <td>Maroon 5</td>\n",
       "      <td>Spojené státy americké</td>\n",
       "    </tr>\n",
       "    <tr>\n",
       "      <th>44756</th>\n",
       "      <td>Calvin Harris</td>\n",
       "      <td>Spojené království</td>\n",
       "    </tr>\n",
       "    <tr>\n",
       "      <th>71531</th>\n",
       "      <td>Kygo</td>\n",
       "      <td>Singapur</td>\n",
       "    </tr>\n",
       "  </tbody>\n",
       "</table>\n",
       "</div>"
      ],
      "text/plain": [
       "      interpret_hlavni             zeme_puvodu\n",
       "75521           G-Eazy  Spojené státy americké\n",
       "1101          Victoria                     NaN\n",
       "68068     Robin Schulz                 Německo\n",
       "3941         Green Day  Spojené státy americké\n",
       "43287         Kristina               Slovensko\n",
       "73619           Sigala      Spojené království\n",
       "82048      Timmy White                     NaN\n",
       "9846          Maroon 5  Spojené státy americké\n",
       "44756    Calvin Harris      Spojené království\n",
       "71531             Kygo                Singapur"
      ]
     },
     "execution_count": 4,
     "metadata": {},
     "output_type": "execute_result"
    }
   ],
   "source": [
    "df[['interpret_hlavni','zeme_puvodu']].sample(10)"
   ]
  },
  {
   "cell_type": "code",
   "execution_count": 5,
   "id": "d07137d0",
   "metadata": {},
   "outputs": [
    {
     "data": {
      "text/plain": [
       "0.8373332159055881"
      ]
     },
     "execution_count": 5,
     "metadata": {},
     "output_type": "execute_result"
    }
   ],
   "source": [
    "len(df[~df['zeme_puvodu'].isnull()]) / len(df)"
   ]
  },
  {
   "cell_type": "markdown",
   "id": "96fe49e5",
   "metadata": {},
   "source": [
    "To je slušný."
   ]
  },
  {
   "cell_type": "markdown",
   "id": "0c895ea1",
   "metadata": {},
   "source": [
    "## Nejzastoupenější země"
   ]
  },
  {
   "cell_type": "code",
   "execution_count": 6,
   "id": "860864c4",
   "metadata": {},
   "outputs": [
    {
     "data": {
      "text/plain": [
       "zeme_puvodu\n",
       "Spojené státy americké     21943\n",
       "Česko                      19197\n",
       "Spojené království         13072\n",
       "Kanada                      2598\n",
       "Německo                     2286\n",
       "Švédsko                     2033\n",
       "Slovensko                   1892\n",
       "Francie                     1748\n",
       "Nizozemsko                  1110\n",
       "Austrálie                   1087\n",
       "Španělsko                    951\n",
       "Barbados                     768\n",
       "Irsko                        584\n",
       "Belgie                       557\n",
       "Švýcarsko                    513\n",
       "Kolumbie                     492\n",
       "Finsko                       465\n",
       "Rumunsko                     428\n",
       "Braniborské markrabství      386\n",
       "Singapur                     348\n",
       "dtype: int64"
      ]
     },
     "execution_count": 6,
     "metadata": {},
     "output_type": "execute_result"
    }
   ],
   "source": [
    "df.groupby('zeme_puvodu').size().nlargest(20)"
   ]
  },
  {
   "cell_type": "code",
   "execution_count": 7,
   "id": "99d28369",
   "metadata": {},
   "outputs": [],
   "source": [
    "def pomer(x, y):\n",
    "    return (df[(df['zeme_puvodu'] == x) & (df['pozice'] <= y)].groupby('rok').size() / df[(~df['zeme_puvodu'].isnull()) & (df['pozice'] <= y)].groupby('rok').size()).plot.bar()"
   ]
  },
  {
   "cell_type": "code",
   "execution_count": 8,
   "id": "38b7a623",
   "metadata": {},
   "outputs": [
    {
     "data": {
      "text/plain": [
       "<Axes: xlabel='rok'>"
      ]
     },
     "execution_count": 8,
     "metadata": {},
     "output_type": "execute_result"
    },
    {
     "data": {
      "image/png": "[encoded data removed]",
      "text/plain": [
       "<Figure size 432x288 with 1 Axes>"
      ]
     },
     "metadata": {
      "needs_background": "light"
     },
     "output_type": "display_data"
    }
   ],
   "source": [
    "pomer('Spojené státy americké', 100)"
   ]
  },
  {
   "cell_type": "code",
   "execution_count": 9,
   "id": "5bc9eb13",
   "metadata": {},
   "outputs": [
    {
     "data": {
      "text/plain": [
       "<Axes: xlabel='rok'>"
      ]
     },
     "execution_count": 9,
     "metadata": {},
     "output_type": "execute_result"
    },
    {
     "data": {
      "image/png": "[encoded data removed]",
      "text/plain": [
       "<Figure size 432x288 with 1 Axes>"
      ]
     },
     "metadata": {
      "needs_background": "light"
     },
     "output_type": "display_data"
    }
   ],
   "source": [
    "pomer('Spojené státy americké', 10)"
   ]
  },
  {
   "cell_type": "code",
   "execution_count": 10,
   "id": "0d3bfce0",
   "metadata": {},
   "outputs": [
    {
     "data": {
      "text/plain": [
       "<Axes: xlabel='rok'>"
      ]
     },
     "execution_count": 10,
     "metadata": {},
     "output_type": "execute_result"
    },
    {
     "data": {
      "image/png": "[encoded data removed]",
      "text/plain": [
       "<Figure size 432x288 with 1 Axes>"
      ]
     },
     "metadata": {
      "needs_background": "light"
     },
     "output_type": "display_data"
    }
   ],
   "source": [
    "pomer('Česko', 100)"
   ]
  },
  {
   "cell_type": "code",
   "execution_count": 11,
   "id": "fd6cd048",
   "metadata": {
    "scrolled": true
   },
   "outputs": [
    {
     "data": {
      "text/plain": [
       "<Axes: xlabel='rok'>"
      ]
     },
     "execution_count": 11,
     "metadata": {},
     "output_type": "execute_result"
    },
    {
     "data": {
      "image/png": "[encoded data removed]",
      "text/plain": [
       "<Figure size 432x288 with 1 Axes>"
      ]
     },
     "metadata": {
      "needs_background": "light"
     },
     "output_type": "display_data"
    }
   ],
   "source": [
    "pomer('Česko', 10)"
   ]
  },
  {
   "cell_type": "code",
   "execution_count": 12,
   "id": "6e124bab",
   "metadata": {},
   "outputs": [
    {
     "data": {
      "text/plain": [
       "<Axes: xlabel='rok'>"
      ]
     },
     "execution_count": 12,
     "metadata": {},
     "output_type": "execute_result"
    },
    {
     "data": {
      "image/png": "[encoded data removed]",
      "text/plain": [
       "<Figure size 432x288 with 1 Axes>"
      ]
     },
     "metadata": {
      "needs_background": "light"
     },
     "output_type": "display_data"
    }
   ],
   "source": [
    "pomer('Spojené království', 100)"
   ]
  },
  {
   "cell_type": "code",
   "execution_count": 13,
   "id": "78d72221",
   "metadata": {},
   "outputs": [
    {
     "data": {
      "text/plain": [
       "<Axes: xlabel='rok'>"
      ]
     },
     "execution_count": 13,
     "metadata": {},
     "output_type": "execute_result"
    },
    {
     "data": {
      "image/png": "[encoded data removed]",
      "text/plain": [
       "<Figure size 432x288 with 1 Axes>"
      ]
     },
     "metadata": {
      "needs_background": "light"
     },
     "output_type": "display_data"
    }
   ],
   "source": [
    "pomer('Slovensko', 100)"
   ]
  },
  {
   "cell_type": "code",
   "execution_count": 14,
   "id": "bbf32a4c",
   "metadata": {},
   "outputs": [
    {
     "data": {
      "text/plain": [
       "<Axes: xlabel='rok'>"
      ]
     },
     "execution_count": 14,
     "metadata": {},
     "output_type": "execute_result"
    },
    {
     "data": {
      "image/png": "[encoded data removed]",
      "text/plain": [
       "<Figure size 432x288 with 1 Axes>"
      ]
     },
     "metadata": {
      "needs_background": "light"
     },
     "output_type": "display_data"
    }
   ],
   "source": [
    "pomer('Německo', 100)"
   ]
  },
  {
   "cell_type": "markdown",
   "id": "2d4b978e",
   "metadata": {},
   "source": [
    "## Jak se točí domácí x zahraniční"
   ]
  },
  {
   "cell_type": "code",
   "execution_count": 15,
   "id": "0c6e54b4",
   "metadata": {},
   "outputs": [
    {
     "data": {
      "text/plain": [
       "3.0069444444444446"
      ]
     },
     "execution_count": 15,
     "metadata": {},
     "output_type": "execute_result"
    }
   ],
   "source": [
    "df[~df['zeme_puvodu'].isnull() & (df['zeme_puvodu'] == \"Česko\")].groupby('interpret_hlavni')['track'].nunique().mean()"
   ]
  },
  {
   "cell_type": "code",
   "execution_count": 16,
   "id": "feeac4a7",
   "metadata": {},
   "outputs": [
    {
     "data": {
      "text/plain": [
       "3.2883895131086143"
      ]
     },
     "execution_count": 16,
     "metadata": {},
     "output_type": "execute_result"
    }
   ],
   "source": [
    "df[~df['zeme_puvodu'].isnull() & (df['zeme_puvodu'] != \"Česko\")].groupby('interpret_hlavni')['track'].nunique().mean()"
   ]
  },
  {
   "cell_type": "markdown",
   "id": "e0681496",
   "metadata": {},
   "source": [
    "## Délka kariér"
   ]
  },
  {
   "cell_type": "code",
   "execution_count": 67,
   "id": "7cc74251",
   "metadata": {},
   "outputs": [],
   "source": [
    "top_zeme = df.explode('zeme_puvodu').groupby('zeme_puvodu').size().nlargest(10).index.to_list()"
   ]
  },
  {
   "cell_type": "code",
   "execution_count": 68,
   "id": "a467989d",
   "metadata": {},
   "outputs": [],
   "source": [
    "df['delka_pusobeni'] = df['rok'] - df['zacatek_pusobeni']"
   ]
  },
  {
   "cell_type": "code",
   "execution_count": 69,
   "id": "6c42d79f",
   "metadata": {},
   "outputs": [
    {
     "data": {
      "text/plain": [
       "zeme_puvodu\n",
       "Spojené království         9.774898\n",
       "Německo                    9.819066\n",
       "Švédsko                    9.996038\n",
       "Kanada                    10.374465\n",
       "Spojené státy americké    13.194122\n",
       "Nizozemsko                14.012635\n",
       "Austrálie                 14.197040\n",
       "Česko                     16.943807\n",
       "Francie                   17.499421\n",
       "Slovensko                 18.822562\n",
       "Name: delka_pusobeni, dtype: float64"
      ]
     },
     "execution_count": 69,
     "metadata": {},
     "output_type": "execute_result"
    }
   ],
   "source": [
    "df[df['zeme_puvodu'].isin(top_zeme)].groupby('zeme_puvodu')['delka_pusobeni'].mean().sort_values().head(60)"
   ]
  },
  {
   "cell_type": "markdown",
   "id": "b4b9baaa",
   "metadata": {},
   "source": [
    "Nejosvědčenější zřejmě musí být interpreti ze Slovenska, naopak ze Spojeného království je přebíráme relativně krátce po založení.\n",
    "\n",
    "Bacha! Nemůže to nějak zkreslovat to, že jsou data až od roku 2006?"
   ]
  },
  {
   "cell_type": "markdown",
   "id": "46e5ed37",
   "metadata": {},
   "source": [
    "## Brno x Praha"
   ]
  },
  {
   "cell_type": "code",
   "execution_count": 34,
   "id": "0320de12",
   "metadata": {},
   "outputs": [
    {
     "data": {
      "text/plain": [
       "0.04654895666131621"
      ]
     },
     "execution_count": 34,
     "metadata": {},
     "output_type": "execute_result"
    }
   ],
   "source": [
    "len(df[df['misto_puvodu'] == 'Brno']) / len(df[df['misto_puvodu'] == 'Praha'])"
   ]
  },
  {
   "cell_type": "markdown",
   "id": "abcb692f",
   "metadata": {},
   "source": [
    "Velmi disproporční, podobně jako u filmu, ale na tahle data bych pro velké soudy nespoléhal :/"
   ]
  },
  {
   "cell_type": "markdown",
   "id": "86a46636",
   "metadata": {},
   "source": [
    "## Versus žánry"
   ]
  },
  {
   "cell_type": "code",
   "execution_count": 27,
   "id": "ccc79bf5",
   "metadata": {},
   "outputs": [],
   "source": [
    "zanryxmista = df.explode('zanry').explode('zeme_puvodu')\n",
    "zanryxmista = zanryxmista[['zanry','zeme_puvodu']].dropna()"
   ]
  },
  {
   "cell_type": "markdown",
   "id": "a17bf677",
   "metadata": {},
   "source": [
    "Vyřazuji z toho pop."
   ]
  },
  {
   "cell_type": "code",
   "execution_count": 42,
   "id": "20f5522a",
   "metadata": {},
   "outputs": [
    {
     "data": {
      "text/html": [
       "<div>\n",
       "<style scoped>\n",
       "    .dataframe tbody tr th:only-of-type {\n",
       "        vertical-align: middle;\n",
       "    }\n",
       "\n",
       "    .dataframe tbody tr th {\n",
       "        vertical-align: top;\n",
       "    }\n",
       "\n",
       "    .dataframe thead th {\n",
       "        text-align: right;\n",
       "    }\n",
       "</style>\n",
       "<table border=\"1\" class=\"dataframe\">\n",
       "  <thead>\n",
       "    <tr style=\"text-align: right;\">\n",
       "      <th></th>\n",
       "      <th></th>\n",
       "      <th>count</th>\n",
       "    </tr>\n",
       "    <tr>\n",
       "      <th>zeme_puvodu</th>\n",
       "      <th>zanry</th>\n",
       "      <th></th>\n",
       "    </tr>\n",
       "  </thead>\n",
       "  <tbody>\n",
       "    <tr>\n",
       "      <th rowspan=\"4\" valign=\"top\">Spojené státy americké</th>\n",
       "      <th>hip hop</th>\n",
       "      <td>7128</td>\n",
       "    </tr>\n",
       "    <tr>\n",
       "      <th>contemporary R&amp;B</th>\n",
       "      <td>6363</td>\n",
       "    </tr>\n",
       "    <tr>\n",
       "      <th>alternativní rock</th>\n",
       "      <td>4392</td>\n",
       "    </tr>\n",
       "    <tr>\n",
       "      <th>rock</th>\n",
       "      <td>3771</td>\n",
       "    </tr>\n",
       "    <tr>\n",
       "      <th>Česko</th>\n",
       "      <th>rock</th>\n",
       "      <td>3141</td>\n",
       "    </tr>\n",
       "    <tr>\n",
       "      <th rowspan=\"4\" valign=\"top\">Spojené státy americké</th>\n",
       "      <th>elektronická taneční hudba</th>\n",
       "      <td>2565</td>\n",
       "    </tr>\n",
       "    <tr>\n",
       "      <th>taneční hudba</th>\n",
       "      <td>2232</td>\n",
       "    </tr>\n",
       "    <tr>\n",
       "      <th>soul</th>\n",
       "      <td>2046</td>\n",
       "    </tr>\n",
       "    <tr>\n",
       "      <th>rhythm and blues</th>\n",
       "      <td>1937</td>\n",
       "    </tr>\n",
       "    <tr>\n",
       "      <th rowspan=\"2\" valign=\"top\">Spojené království</th>\n",
       "      <th>alternativní rock</th>\n",
       "      <td>1823</td>\n",
       "    </tr>\n",
       "    <tr>\n",
       "      <th>soft rock</th>\n",
       "      <td>1703</td>\n",
       "    </tr>\n",
       "    <tr>\n",
       "      <th>Česko</th>\n",
       "      <th>alternativní rock</th>\n",
       "      <td>1679</td>\n",
       "    </tr>\n",
       "    <tr>\n",
       "      <th rowspan=\"2\" valign=\"top\">Spojené státy americké</th>\n",
       "      <th>reggae</th>\n",
       "      <td>1642</td>\n",
       "    </tr>\n",
       "    <tr>\n",
       "      <th>elektronická hudba</th>\n",
       "      <td>1592</td>\n",
       "    </tr>\n",
       "    <tr>\n",
       "      <th>Spojené království</th>\n",
       "      <th>rock</th>\n",
       "      <td>1515</td>\n",
       "    </tr>\n",
       "    <tr>\n",
       "      <th>Spojené státy americké</th>\n",
       "      <th>electro house</th>\n",
       "      <td>1401</td>\n",
       "    </tr>\n",
       "    <tr>\n",
       "      <th>Spojené království</th>\n",
       "      <th>contemporary R&amp;B</th>\n",
       "      <td>1355</td>\n",
       "    </tr>\n",
       "    <tr>\n",
       "      <th rowspan=\"4\" valign=\"top\">Spojené státy americké</th>\n",
       "      <th>trap</th>\n",
       "      <td>1319</td>\n",
       "    </tr>\n",
       "    <tr>\n",
       "      <th>funk</th>\n",
       "      <td>1288</td>\n",
       "    </tr>\n",
       "    <tr>\n",
       "      <th>country</th>\n",
       "      <td>1281</td>\n",
       "    </tr>\n",
       "    <tr>\n",
       "      <th>house music</th>\n",
       "      <td>1254</td>\n",
       "    </tr>\n",
       "    <tr>\n",
       "      <th>Spojené království</th>\n",
       "      <th>soul</th>\n",
       "      <td>1193</td>\n",
       "    </tr>\n",
       "    <tr>\n",
       "      <th rowspan=\"5\" valign=\"top\">Spojené státy americké</th>\n",
       "      <th>Southern hip hop</th>\n",
       "      <td>1181</td>\n",
       "    </tr>\n",
       "    <tr>\n",
       "      <th>gospel</th>\n",
       "      <td>1177</td>\n",
       "    </tr>\n",
       "    <tr>\n",
       "      <th>reggaeton</th>\n",
       "      <td>1157</td>\n",
       "    </tr>\n",
       "    <tr>\n",
       "      <th>hip house</th>\n",
       "      <td>1155</td>\n",
       "    </tr>\n",
       "    <tr>\n",
       "      <th>dirty south</th>\n",
       "      <td>1145</td>\n",
       "    </tr>\n",
       "    <tr>\n",
       "      <th>Spojené království</th>\n",
       "      <th>rhythm and blues</th>\n",
       "      <td>1101</td>\n",
       "    </tr>\n",
       "    <tr>\n",
       "      <th>Spojené státy americké</th>\n",
       "      <th>punk rock</th>\n",
       "      <td>1096</td>\n",
       "    </tr>\n",
       "    <tr>\n",
       "      <th>Spojené království</th>\n",
       "      <th>folk</th>\n",
       "      <td>1064</td>\n",
       "    </tr>\n",
       "  </tbody>\n",
       "</table>\n",
       "</div>"
      ],
      "text/plain": [
       "                                                   count\n",
       "zeme_puvodu            zanry                            \n",
       "Spojené státy americké hip hop                      7128\n",
       "                       contemporary R&B             6363\n",
       "                       alternativní rock            4392\n",
       "                       rock                         3771\n",
       "Česko                  rock                         3141\n",
       "Spojené státy americké elektronická taneční hudba   2565\n",
       "                       taneční hudba                2232\n",
       "                       soul                         2046\n",
       "                       rhythm and blues             1937\n",
       "Spojené království     alternativní rock            1823\n",
       "                       soft rock                    1703\n",
       "Česko                  alternativní rock            1679\n",
       "Spojené státy americké reggae                       1642\n",
       "                       elektronická hudba           1592\n",
       "Spojené království     rock                         1515\n",
       "Spojené státy americké electro house                1401\n",
       "Spojené království     contemporary R&B             1355\n",
       "Spojené státy americké trap                         1319\n",
       "                       funk                         1288\n",
       "                       country                      1281\n",
       "                       house music                  1254\n",
       "Spojené království     soul                         1193\n",
       "Spojené státy americké Southern hip hop             1181\n",
       "                       gospel                       1177\n",
       "                       reggaeton                    1157\n",
       "                       hip house                    1155\n",
       "                       dirty south                  1145\n",
       "Spojené království     rhythm and blues             1101\n",
       "Spojené státy americké punk rock                    1096\n",
       "Spojené království     folk                         1064"
      ]
     },
     "execution_count": 42,
     "metadata": {},
     "output_type": "execute_result"
    }
   ],
   "source": [
    "pd.DataFrame(zanryxmista[~zanryxmista['zanry'].str.contains('pop',na=False)].groupby(['zeme_puvodu','zanry']).size().nlargest(30)).rename(columns={0:'count'})"
   ]
  }
 ],
 "metadata": {
  "kernelspec": {
   "display_name": "Python 3 (ipykernel)",
   "language": "python",
   "name": "python3"
  },
  "language_info": {
   "codemirror_mode": {
    "name": "ipython",
    "version": 3
   },
   "file_extension": ".py",
   "mimetype": "text/x-python",
   "name": "python",
   "nbconvert_exporter": "python",
   "pygments_lexer": "ipython3",
   "version": "3.10.8"
  }
 },
 "nbformat": 4,
 "nbformat_minor": 5
}
