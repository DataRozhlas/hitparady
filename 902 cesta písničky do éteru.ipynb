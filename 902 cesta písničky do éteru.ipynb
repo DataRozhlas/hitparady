{
 "cells": [
  {
   "cell_type": "markdown",
   "id": "1f3b4f06",
   "metadata": {},
   "source": [
    "Podklady pro články Anety Martínkové na iROZHLAS.cz v prosinci 2023."
   ]
  },
  {
   "cell_type": "code",
   "execution_count": 1,
   "id": "9b7d68a1",
   "metadata": {},
   "outputs": [],
   "source": [
    "import os\n",
    "import pandas as pd"
   ]
  },
  {
   "cell_type": "code",
   "execution_count": 2,
   "id": "cc4bab96",
   "metadata": {},
   "outputs": [],
   "source": [
    "from src.tabulka import tabulka\n",
    "from src.graf import graf"
   ]
  },
  {
   "cell_type": "code",
   "execution_count": 3,
   "id": "9b075d93",
   "metadata": {},
   "outputs": [],
   "source": [
    "df = pd.read_csv(os.path.join(\"data\",\"CZ_RADIO_TOP_100_tydenni.csv\"))"
   ]
  },
  {
   "cell_type": "code",
   "execution_count": 4,
   "id": "d04f9277",
   "metadata": {},
   "outputs": [],
   "source": [
    "df = df.sort_values(by = ['rok','tyden','pozice'], ascending=True)"
   ]
  },
  {
   "cell_type": "code",
   "execution_count": 5,
   "id": "921755f2",
   "metadata": {},
   "outputs": [],
   "source": [
    "df['wk'] = df['week'].rank(method='dense').astype(int)"
   ]
  },
  {
   "cell_type": "code",
   "execution_count": 6,
   "id": "166610ad",
   "metadata": {},
   "outputs": [],
   "source": [
    "premiery_pisni = pd.DataFrame(df.groupby(['interpret_hlavni','track'])['wk'].min()).reset_index().rename(columns={'wk': 'wk_poprve'})"
   ]
  },
  {
   "cell_type": "code",
   "execution_count": 7,
   "id": "30d4755a",
   "metadata": {},
   "outputs": [],
   "source": [
    "df = df.merge(premiery_pisni, on=['interpret_hlavni','track'], how='outer')"
   ]
  },
  {
   "cell_type": "code",
   "execution_count": 8,
   "id": "0089f5b6",
   "metadata": {},
   "outputs": [],
   "source": [
    "df['tyden_pisne'] = df['wk'] - df['wk_poprve'] + 1"
   ]
  },
  {
   "cell_type": "code",
   "execution_count": 9,
   "id": "f2f7a602",
   "metadata": {},
   "outputs": [],
   "source": [
    "df['tyden_pisne_bez_pauz'] = df.groupby(['interpret_hlavni', 'track']).cumcount() + 1"
   ]
  },
  {
   "cell_type": "markdown",
   "id": "54d5126f",
   "metadata": {},
   "source": [
    "## Pozoruhodné tracky"
   ]
  },
  {
   "cell_type": "markdown",
   "id": "14ec18b6",
   "metadata": {},
   "source": [
    "### Ve kterém týdnu (ne od začátku vysílání, ale od prvního průniku do top 100!) se píseň stala #1"
   ]
  },
  {
   "cell_type": "code",
   "execution_count": 10,
   "id": "ef569b2d",
   "metadata": {},
   "outputs": [],
   "source": [
    "nepocitat = df[df['week'] == '2006-01']['track'].to_list()"
   ]
  },
  {
   "cell_type": "code",
   "execution_count": 11,
   "id": "d5213635",
   "metadata": {},
   "outputs": [
    {
     "data": {
      "text/plain": [
       "interpret_hlavni    track             \n",
       "Lewis Capaldi       Forget Me             1\n",
       "Ofenbach            Katchi                1\n",
       "Chinaski            Láska a data          3\n",
       "Adele               Hello                 4\n",
       "Support Lesbiens    English Stereo        4\n",
       "George Ezra         Shotgun               5\n",
       "Mirai               I přes to všechno     5\n",
       "Adele               Skyfall               6\n",
       "Don Omar            Danza Kuduro          6\n",
       "Ed Sheeran          Bad Habits            6\n",
       "                    Shape of You          6\n",
       "Gabry Ponte, Lum!X  Thunder               6\n",
       "Lewis Capaldi       Before You Go         6\n",
       "Psy                 Gangnam Style         6\n",
       "Václav Neckář       Půlnoční              6\n",
       "Adele               Easy On Me            7\n",
       "Alec Benjamin       Let Me Down SLowly    7\n",
       "Avicii              Wake Me Up            7\n",
       "Carly Rae Jepsen    Call Me Maybe         7\n",
       "Coldplay            Higher Power          7\n",
       "Name: tyden_pisne, dtype: int32"
      ]
     },
     "execution_count": 11,
     "metadata": {},
     "output_type": "execute_result"
    }
   ],
   "source": [
    "df[(~df['track'].isin(nepocitat)) & (df['pozice'] == 1)].groupby(['interpret_hlavni','track'])['tyden_pisne'].min().nsmallest(20)"
   ]
  },
  {
   "cell_type": "markdown",
   "id": "d5320f19",
   "metadata": {},
   "source": [
    "### Těmto to naopak trvalo:"
   ]
  },
  {
   "cell_type": "code",
   "execution_count": 12,
   "id": "e7c5b103",
   "metadata": {},
   "outputs": [
    {
     "data": {
      "text/plain": [
       "interpret_hlavni  track                                     \n",
       "Ewa Farna         Vánoce na míru                                255\n",
       "Liam Payne        For You (Fifty Shades Freed)                   60\n",
       "Luis Fonsi        Échame la culpa                                59\n",
       "Nico Santos       Rooftop                                        57\n",
       "Avicii            Without You                                    55\n",
       "Mandrage          Motýli                                         54\n",
       "Chinaski          Potkal jsem tě po letech                       52\n",
       "Miley Cyrus       Flowers                                        51\n",
       "Ed Sheeran        Perfect                                        47\n",
       "Kryštof           Zůstaň tu se mnou (Za sny)                     44\n",
       "Emma Drobná       Words                                          42\n",
       "Chinaski          Měl bych si boty zout                          39\n",
       "Meduza            Bad Memories (feat. Elley Duhé & FAST BOY)     38\n",
       "P!Nk              Irrelevant                                     37\n",
       "Chinaski          Slovenský klín                                 36\n",
       "P!Nk              What About Us                                  36\n",
       "Axwell            More Than You Know                             34\n",
       "Shawn Mendes      There's Nothing Holdin' Me Back                30\n",
       "Marek Ztracený    Originál                                       28\n",
       "Morandi           Save Me                                        24\n",
       "Name: tyden_pisne, dtype: int32"
      ]
     },
     "execution_count": 12,
     "metadata": {},
     "output_type": "execute_result"
    }
   ],
   "source": [
    "df[df['pozice'] == 1].groupby(['interpret_hlavni','track'])['tyden_pisne'].min().nlargest(20)"
   ]
  },
  {
   "cell_type": "markdown",
   "id": "b82fcc72",
   "metadata": {},
   "source": [
    "### Nejpozdější top 1 (tentokrát i ty co byly top 1 dříve)"
   ]
  },
  {
   "cell_type": "code",
   "execution_count": 13,
   "id": "54fe98a2",
   "metadata": {},
   "outputs": [
    {
     "data": {
      "text/plain": [
       "interpret_hlavni  track                                     \n",
       "Ewa Farna         Vánoce na míru                                256\n",
       "Miley Cyrus       Flowers                                        75\n",
       "Kryštof           Zůstaň tu se mnou (Za sny)                     65\n",
       "Liam Payne        For You (Fifty Shades Freed)                   60\n",
       "Luis Fonsi        Échame la culpa                                59\n",
       "Chinaski          Potkal jsem tě po letech                       58\n",
       "Nico Santos       Rooftop                                        57\n",
       "Avicii            Without You                                    55\n",
       "Mandrage          Motýli                                         54\n",
       "Ofenbach          Katchi                                         51\n",
       "Ed Sheeran        Perfect                                        50\n",
       "Lewis Capaldi     Forget Me                                      50\n",
       "Chinaski          Slovenský klín                                 43\n",
       "Emma Drobná       Words                                          43\n",
       "Chinaski          Měl bych si boty zout                          42\n",
       "Axwell            More Than You Know                             41\n",
       "Mirai             Když nemůžeš, tak přidej                       41\n",
       "Meduza            Bad Memories (feat. Elley Duhé & FAST BOY)     38\n",
       "P!Nk              Irrelevant                                     37\n",
       "                  What About Us                                  37\n",
       "Name: tyden_pisne, dtype: int32"
      ]
     },
     "execution_count": 13,
     "metadata": {},
     "output_type": "execute_result"
    }
   ],
   "source": [
    "df[df['pozice'] == 1].groupby(['interpret_hlavni','track'])['tyden_pisne'].max().nlargest(20)"
   ]
  },
  {
   "cell_type": "markdown",
   "id": "9332ca44",
   "metadata": {},
   "source": [
    "### Držáci top 10"
   ]
  },
  {
   "cell_type": "markdown",
   "id": "f5d4027d",
   "metadata": {},
   "source": [
    "#### Nejdéle od prvního výskytu v žebříčku (vč. pauz, kdy vypadly z top 100!):"
   ]
  },
  {
   "cell_type": "code",
   "execution_count": 14,
   "id": "d22dd12e",
   "metadata": {},
   "outputs": [
    {
     "data": {
      "text/plain": [
       "interpret_hlavni  track                     \n",
       "Ewa Farna         Vánoce na míru                257\n",
       "Václav Neckář     Půlnoční                      111\n",
       "Kryštof           Vánoční                       109\n",
       "Chinaski          Potkal jsem tě po letech       88\n",
       "Miley Cyrus       Flowers                        88\n",
       "Mirai             Anděl                          88\n",
       "                  OTCHI                          88\n",
       "Dermot Kennedy    Kiss Me                        81\n",
       "Michal Hrůza      Pro Emu                        81\n",
       "Chinaski          Měl bych si boty zout          77\n",
       "Luis Fonsi        Échame la culpa                77\n",
       "Jelen             Ještě jednu noc                76\n",
       "Kryštof           Co bude pak                    75\n",
       "Poetika           Půlnoc                         73\n",
       "Kryštof           Zůstaň tu se mnou (Za sny)     71\n",
       "P!Nk              What About Us                  70\n",
       "Slza              Bouře                          68\n",
       "Lewis Capaldi     Forget Me                      67\n",
       "David Guetta      I'm Good (Blue)                66\n",
       "Axwell            Dreamer                        65\n",
       "Name: tyden_pisne, dtype: int32"
      ]
     },
     "execution_count": 14,
     "metadata": {},
     "output_type": "execute_result"
    }
   ],
   "source": [
    "df[df['pozice'] <= 10].groupby(['interpret_hlavni','track'])['tyden_pisne'].max().nlargest(20)"
   ]
  },
  {
   "cell_type": "markdown",
   "id": "8b3afa4d",
   "metadata": {},
   "source": [
    "#### Nejvíce jednotlivých týdnů:"
   ]
  },
  {
   "cell_type": "code",
   "execution_count": 15,
   "id": "be24f5ca",
   "metadata": {},
   "outputs": [
    {
     "data": {
      "text/plain": [
       "interpret_hlavni  track                   \n",
       "Mirai             Vedle tebe usínám           46\n",
       "Jelen             Ještě jednu noc             44\n",
       "Ed Sheeran        Bad Habits                  40\n",
       "Xindl X           V blbým věku                40\n",
       "Chinaski          Měl bych si boty zout       39\n",
       "Mirai             Když nemůžeš, tak přidej    39\n",
       "Miley Cyrus       Flowers                     37\n",
       "Mirai             I přes to všechno           37\n",
       "Xindl X           Cudzinka v tvojej zemi      37\n",
       "Kryštof           Co bude pak                 36\n",
       "Chinaski          Slovenský klín              33\n",
       "Shawn Mendes      Senorita                    33\n",
       "Ava Max           Kings & Queens              32\n",
       "O5                BRA3                        32\n",
       "Ava Max           Sweet but Psycho            31\n",
       "Chinaski          Potkal jsem tě po letech    31\n",
       "Kryštof           Ty a já                     31\n",
       "Alesha Dixon      Boy Does Nothing            30\n",
       "Lewis Capaldi     Before You Go               30\n",
       "Harry Styles      As it Was                   29\n",
       "Name: tyden_pisne, dtype: int64"
      ]
     },
     "execution_count": 15,
     "metadata": {},
     "output_type": "execute_result"
    }
   ],
   "source": [
    "df[df['pozice'] <= 10].groupby(['interpret_hlavni','track'])['tyden_pisne'].nunique().nlargest(20)"
   ]
  },
  {
   "cell_type": "markdown",
   "id": "995d2e16",
   "metadata": {},
   "source": [
    "### Držáci kdekoliv"
   ]
  },
  {
   "cell_type": "markdown",
   "id": "9970779d",
   "metadata": {},
   "source": [
    "#### Nejdéle od prvního výskytu v žebříčku (vč. pauz, kdy vypadly úplně):"
   ]
  },
  {
   "cell_type": "code",
   "execution_count": 16,
   "id": "364ae977",
   "metadata": {},
   "outputs": [
    {
     "data": {
      "text/plain": [
       "interpret_hlavni  track                          \n",
       "Wham!             Last Christmas                     763\n",
       "Chinaski          Hvězdy nad hlavou                  717\n",
       "Divokej Bill      Pocit                              684\n",
       "Dan Bárta         On My Head                         618\n",
       "Maroon 5          This Love                          581\n",
       "Václav Neckář     Půlnoční                           568\n",
       "Linkin Park       Breaking The Habit                 567\n",
       "Daniel Landa      Touha                              564\n",
       "Billy Mack        Christmas Is All Around            563\n",
       "Lucie             Medvídek                           562\n",
       "Janek Ledecký     Sliby se maj plnit o Vánocích      561\n",
       "Mariah Carey      All I Want For Christmas Is You    561\n",
       "David Guetta      Love Is Gone                       531\n",
       "John Lennon       Happy Xmas (War Is Over)           510\n",
       "Queen             Thank God It´s Christmas           510\n",
       "Mandrage          Hledá se žena                      506\n",
       "Evanescence       Bring Me To Life                   491\n",
       "Coldplay          Viva La Vida                       490\n",
       "Dan Bárta         Na nebi svítí                      460\n",
       "Limp Bizkit       Behind Blue Eyes                   460\n",
       "Name: tyden_pisne, dtype: int32"
      ]
     },
     "execution_count": 16,
     "metadata": {},
     "output_type": "execute_result"
    }
   ],
   "source": [
    "df.groupby(['interpret_hlavni','track'])['tyden_pisne'].max().nlargest(20)"
   ]
  },
  {
   "cell_type": "markdown",
   "id": "f42216d9",
   "metadata": {},
   "source": [
    "#### Nejvíce jednotlivých týdnů:"
   ]
  },
  {
   "cell_type": "code",
   "execution_count": 17,
   "id": "fa22a450",
   "metadata": {},
   "outputs": [
    {
     "data": {
      "text/plain": [
       "interpret_hlavni  track                              \n",
       "Karel Gott        Srdce nehasnou                         179\n",
       "Mirai             Když nemůžeš, tak přidej               175\n",
       "Mandrage          Motýli                                 169\n",
       "Michal Hrůza      Pro Emu                                164\n",
       "Mirai             Chci tančit                            150\n",
       "Marek Ztracený    Naše cesty                             149\n",
       "Mirai             OTCHI                                  140\n",
       "Slza              Na srdci (feat. Celeste Buckingham)    139\n",
       "Chinaski          Láska a data                           137\n",
       "Marek Ztracený    Tak se nezlob (Podpantoflák)           133\n",
       "Kelly Clarkson    Stronger (What Doesn´t Kill You)       129\n",
       "O5                BRA3                                   129\n",
       "The Weeknd        Blinding Lights                        128\n",
       "Kryštof           Hned teď (pojď být světlometem)        122\n",
       "Shawn Mendes      Senorita                               122\n",
       "Lewis Capaldi     Before You Go                          121\n",
       "Alvaro Soler      La Cintura                             120\n",
       "Ph Electro        Stereo Mexico                          120\n",
       "Train             Drive By                               120\n",
       "Mirai             Anděl                                  119\n",
       "Name: tyden_pisne, dtype: int64"
      ]
     },
     "execution_count": 17,
     "metadata": {},
     "output_type": "execute_result"
    }
   ],
   "source": [
    "df[df['pozice'] <= 100].groupby(['interpret_hlavni','track'])['tyden_pisne'].nunique().nlargest(20)"
   ]
  },
  {
   "cell_type": "code",
   "execution_count": 18,
   "id": "13230ee3",
   "metadata": {},
   "outputs": [],
   "source": [
    "top10 = pd.DataFrame(df[df['pozice'] <= 100].groupby(['interpret_hlavni','track'])['tyden_pisne'].nunique().nlargest(10)).reset_index()"
   ]
  },
  {
   "cell_type": "code",
   "execution_count": 19,
   "id": "bd9bde2f",
   "metadata": {},
   "outputs": [
    {
     "data": {
      "text/html": [
       "<div>\n",
       "<style scoped>\n",
       "    .dataframe tbody tr th:only-of-type {\n",
       "        vertical-align: middle;\n",
       "    }\n",
       "\n",
       "    .dataframe tbody tr th {\n",
       "        vertical-align: top;\n",
       "    }\n",
       "\n",
       "    .dataframe thead th {\n",
       "        text-align: right;\n",
       "    }\n",
       "</style>\n",
       "<table border=\"1\" class=\"dataframe\">\n",
       "  <thead>\n",
       "    <tr style=\"text-align: right;\">\n",
       "      <th></th>\n",
       "      <th>interpret_hlavni</th>\n",
       "      <th>track</th>\n",
       "      <th>tyden_pisne</th>\n",
       "    </tr>\n",
       "  </thead>\n",
       "  <tbody>\n",
       "    <tr>\n",
       "      <th>0</th>\n",
       "      <td>Karel Gott</td>\n",
       "      <td>Srdce nehasnou</td>\n",
       "      <td>179</td>\n",
       "    </tr>\n",
       "    <tr>\n",
       "      <th>1</th>\n",
       "      <td>Mirai</td>\n",
       "      <td>Když nemůžeš, tak přidej</td>\n",
       "      <td>175</td>\n",
       "    </tr>\n",
       "    <tr>\n",
       "      <th>2</th>\n",
       "      <td>Mandrage</td>\n",
       "      <td>Motýli</td>\n",
       "      <td>169</td>\n",
       "    </tr>\n",
       "    <tr>\n",
       "      <th>3</th>\n",
       "      <td>Michal Hrůza</td>\n",
       "      <td>Pro Emu</td>\n",
       "      <td>164</td>\n",
       "    </tr>\n",
       "    <tr>\n",
       "      <th>4</th>\n",
       "      <td>Mirai</td>\n",
       "      <td>Chci tančit</td>\n",
       "      <td>150</td>\n",
       "    </tr>\n",
       "    <tr>\n",
       "      <th>5</th>\n",
       "      <td>Marek Ztracený</td>\n",
       "      <td>Naše cesty</td>\n",
       "      <td>149</td>\n",
       "    </tr>\n",
       "    <tr>\n",
       "      <th>6</th>\n",
       "      <td>Mirai</td>\n",
       "      <td>OTCHI</td>\n",
       "      <td>140</td>\n",
       "    </tr>\n",
       "    <tr>\n",
       "      <th>7</th>\n",
       "      <td>Slza</td>\n",
       "      <td>Na srdci (feat. Celeste Buckingham)</td>\n",
       "      <td>139</td>\n",
       "    </tr>\n",
       "    <tr>\n",
       "      <th>8</th>\n",
       "      <td>Chinaski</td>\n",
       "      <td>Láska a data</td>\n",
       "      <td>137</td>\n",
       "    </tr>\n",
       "    <tr>\n",
       "      <th>9</th>\n",
       "      <td>Marek Ztracený</td>\n",
       "      <td>Tak se nezlob (Podpantoflák)</td>\n",
       "      <td>133</td>\n",
       "    </tr>\n",
       "  </tbody>\n",
       "</table>\n",
       "</div>"
      ],
      "text/plain": [
       "  interpret_hlavni                                track  tyden_pisne\n",
       "0       Karel Gott                       Srdce nehasnou          179\n",
       "1            Mirai             Když nemůžeš, tak přidej          175\n",
       "2         Mandrage                               Motýli          169\n",
       "3     Michal Hrůza                              Pro Emu          164\n",
       "4            Mirai                          Chci tančit          150\n",
       "5   Marek Ztracený                           Naše cesty          149\n",
       "6            Mirai                                OTCHI          140\n",
       "7             Slza  Na srdci (feat. Celeste Buckingham)          139\n",
       "8         Chinaski                         Láska a data          137\n",
       "9   Marek Ztracený         Tak se nezlob (Podpantoflák)          133"
      ]
     },
     "execution_count": 19,
     "metadata": {},
     "output_type": "execute_result"
    }
   ],
   "source": [
    "top10"
   ]
  },
  {
   "cell_type": "code",
   "execution_count": 20,
   "id": "d6384e36",
   "metadata": {},
   "outputs": [],
   "source": [
    "top10['Track'] = top10.apply(lambda x: f\"\"\"{x['interpret_hlavni']}: {x['track'].split(\"(\")[0]}\"\"\", axis=1)\n",
    "top10['Týdnů v top 100'] = top10['tyden_pisne']"
   ]
  },
  {
   "cell_type": "code",
   "execution_count": 21,
   "id": "85f7b2cf",
   "metadata": {},
   "outputs": [
    {
     "data": {
      "text/plain": [
       "'<table class=\"dataframe table table--responsive table--w100p table--striped-red table--plain\"><caption>Držáci hitparády</caption><thead><tr style=\"text-align: right;\"><th class=\"text-nowrap\"></th><th class=\"text-nowrap\">Track</th><th class=\"text-nowrap\">Týdnů v top 100</th></tr></thead><tbody class=\"text-sm\"><tr><td>1.</td><td>Karel Gott: Srdce nehasnou</td><td>179</td></tr><tr><td>2.</td><td>Mirai: Když nemůžeš, tak přidej</td><td>175</td></tr><tr><td>3.</td><td>Mandrage: Motýli</td><td>169</td></tr><tr><td>4.</td><td>Michal Hrůza: Pro Emu</td><td>164</td></tr><tr><td>5.</td><td>Mirai: Chci tančit</td><td>150</td></tr><tr><td>6.</td><td>Marek Ztracený: Naše cesty</td><td>149</td></tr><tr><td>7.</td><td>Mirai: OTCHI</td><td>140</td></tr><tr><td>8.</td><td>Slza: Na srdci</td><td>139</td></tr><tr><td>9.</td><td>Chinaski: Láska a data</td><td>137</td></tr><tr><td>10.</td><td>Marek Ztracený: Tak se nezlob</td><td>133</td></tr></tbody><tfoot><tr style=\"text-align: center;\"><td colspan=2>Písně, které se od roku 2006 držely nejvíce týdnů v top 100 českého rádiového žebříčku.</td></tr></tfoot></table>'"
      ]
     },
     "execution_count": 21,
     "metadata": {},
     "output_type": "execute_result"
    }
   ],
   "source": [
    "tabulka(top10[['Track','Týdnů v top 100']], titulek=\"Držáci hitparády\", podtitulek=\"Písně, které se od roku 2006 držely nejvíce týdnů v top 100 českého rádiového žebříčku.\", poradi=True)"
   ]
  },
  {
   "cell_type": "markdown",
   "id": "b2d07404",
   "metadata": {},
   "source": [
    "## Graf pozoruhodných písní"
   ]
  },
  {
   "cell_type": "code",
   "execution_count": 22,
   "id": "c694e1b0",
   "metadata": {},
   "outputs": [],
   "source": [
    "vsechnytydny = df['week'].drop_duplicates().to_list()"
   ]
  },
  {
   "cell_type": "code",
   "execution_count": 23,
   "id": "32f2cd48",
   "metadata": {},
   "outputs": [],
   "source": [
    "def cesta_pisne(interpretstvo, pisen, graf=False):\n",
    "    pracovni = df\n",
    "    pracovni = pracovni[(pracovni['track'] == pisen) & (pracovni['interpret_hlavni'] == interpretstvo)].drop_duplicates(subset=['rok','tyden']).set_index(\"week\", drop=True)\n",
    "    pracovni = pracovni.reindex(vsechnytydny, fill_value=101).sort_index()\n",
    "    if graf == True:\n",
    "        return pracovni['pozice'].plot(figsize=(20,5)).invert_yaxis()\n",
    "    else:\n",
    "        return pd.Series(pracovni['pozice'], name=f\"\"\"{interpretstvo}: {pisen}\"\"\")"
   ]
  },
  {
   "cell_type": "code",
   "execution_count": 24,
   "id": "51d7e87a",
   "metadata": {},
   "outputs": [],
   "source": [
    "pozoruhodne = [\n",
    "    ['Lewis Capaldi','Forget Me'],\n",
    "    ['Ofenbach','Katchi'],\n",
    "    ['Ewa Farna','Vánoce na míru'],\n",
    "    ['Liam Payne','For You (Fifty Shades Freed)'],\n",
    "    ['Luis Fonsi','Échame la culpa'],\n",
    "    ['Karel Gott','Srdce nehasnou'],\n",
    "    ['Mirai','Když nemůžeš, tak přidej'],\n",
    "    ['Mandrage','Motýli']\n",
    "]"
   ]
  },
  {
   "cell_type": "code",
   "execution_count": 25,
   "id": "4539bf3c",
   "metadata": {},
   "outputs": [],
   "source": [
    "tydny = [x for x in df['week'].drop_duplicates().to_list() if int(x[:4]) >= 2017]"
   ]
  },
  {
   "cell_type": "code",
   "execution_count": 26,
   "id": "94562338",
   "metadata": {},
   "outputs": [],
   "source": [
    "tydny.sort()"
   ]
  },
  {
   "cell_type": "code",
   "execution_count": 27,
   "id": "3c812888",
   "metadata": {},
   "outputs": [
    {
     "data": {
      "text/plain": [
       "['2017-01',\n",
       " '2017-02',\n",
       " '2017-03',\n",
       " '2017-04',\n",
       " '2017-05',\n",
       " '2017-06',\n",
       " '2017-07',\n",
       " '2017-08',\n",
       " '2017-09',\n",
       " '2017-10',\n",
       " '2017-11',\n",
       " '2017-12',\n",
       " '2017-13',\n",
       " '2017-14',\n",
       " '2017-15',\n",
       " '2017-16',\n",
       " '2017-17',\n",
       " '2017-18',\n",
       " '2017-19',\n",
       " '2017-20',\n",
       " '2017-21',\n",
       " '2017-22',\n",
       " '2017-23',\n",
       " '2017-24',\n",
       " '2017-25',\n",
       " '2017-26',\n",
       " '2017-27',\n",
       " '2017-28',\n",
       " '2017-29',\n",
       " '2017-30',\n",
       " '2017-31',\n",
       " '2017-32',\n",
       " '2017-33',\n",
       " '2017-34',\n",
       " '2017-35',\n",
       " '2017-36',\n",
       " '2017-37',\n",
       " '2017-38',\n",
       " '2017-39',\n",
       " '2017-40',\n",
       " '2017-41',\n",
       " '2017-42',\n",
       " '2017-43',\n",
       " '2017-44',\n",
       " '2017-45',\n",
       " '2017-46',\n",
       " '2017-47',\n",
       " '2017-48',\n",
       " '2017-49',\n",
       " '2017-50',\n",
       " '2017-52',\n",
       " '2018-01',\n",
       " '2018-02',\n",
       " '2018-03',\n",
       " '2018-04',\n",
       " '2018-05',\n",
       " '2018-06',\n",
       " '2018-07',\n",
       " '2018-09',\n",
       " '2018-10',\n",
       " '2018-11',\n",
       " '2018-12',\n",
       " '2018-13',\n",
       " '2018-14',\n",
       " '2018-15',\n",
       " '2018-16',\n",
       " '2018-17',\n",
       " '2018-18',\n",
       " '2018-19',\n",
       " '2018-20',\n",
       " '2018-21',\n",
       " '2018-22',\n",
       " '2018-23',\n",
       " '2018-24',\n",
       " '2018-25',\n",
       " '2018-26',\n",
       " '2018-27',\n",
       " '2018-28',\n",
       " '2018-29',\n",
       " '2018-30',\n",
       " '2018-31',\n",
       " '2018-32',\n",
       " '2018-33',\n",
       " '2018-34',\n",
       " '2018-35',\n",
       " '2018-36',\n",
       " '2018-37',\n",
       " '2018-38',\n",
       " '2018-39',\n",
       " '2018-40',\n",
       " '2018-41',\n",
       " '2018-42',\n",
       " '2018-43',\n",
       " '2018-44',\n",
       " '2018-45',\n",
       " '2018-46',\n",
       " '2018-47',\n",
       " '2018-48',\n",
       " '2018-49',\n",
       " '2018-50',\n",
       " '2018-52',\n",
       " '2019-01',\n",
       " '2019-02',\n",
       " '2019-03',\n",
       " '2019-04',\n",
       " '2019-05',\n",
       " '2019-06',\n",
       " '2019-07',\n",
       " '2019-08',\n",
       " '2019-09',\n",
       " '2019-10',\n",
       " '2019-11',\n",
       " '2019-12',\n",
       " '2019-13',\n",
       " '2019-14',\n",
       " '2019-15',\n",
       " '2019-16',\n",
       " '2019-17',\n",
       " '2019-18',\n",
       " '2019-19',\n",
       " '2019-20',\n",
       " '2019-21',\n",
       " '2019-22',\n",
       " '2019-23',\n",
       " '2019-24',\n",
       " '2019-25',\n",
       " '2019-26',\n",
       " '2019-27',\n",
       " '2019-28',\n",
       " '2019-29',\n",
       " '2019-31',\n",
       " '2019-32',\n",
       " '2019-33',\n",
       " '2019-34',\n",
       " '2019-35',\n",
       " '2019-36',\n",
       " '2019-37',\n",
       " '2019-38',\n",
       " '2019-39',\n",
       " '2019-40',\n",
       " '2019-41',\n",
       " '2019-42',\n",
       " '2019-43',\n",
       " '2019-44',\n",
       " '2019-45',\n",
       " '2019-46',\n",
       " '2019-47',\n",
       " '2019-48',\n",
       " '2019-49',\n",
       " '2019-50',\n",
       " '2019-51',\n",
       " '2019-52',\n",
       " '2020-02',\n",
       " '2020-03',\n",
       " '2020-04',\n",
       " '2020-05',\n",
       " '2020-06',\n",
       " '2020-07',\n",
       " '2020-08',\n",
       " '2020-09',\n",
       " '2020-10',\n",
       " '2020-11',\n",
       " '2020-12',\n",
       " '2020-13',\n",
       " '2020-14',\n",
       " '2020-15',\n",
       " '2020-16',\n",
       " '2020-17',\n",
       " '2020-18',\n",
       " '2020-19',\n",
       " '2020-20',\n",
       " '2020-21',\n",
       " '2020-22',\n",
       " '2020-23',\n",
       " '2020-24',\n",
       " '2020-25',\n",
       " '2020-26',\n",
       " '2020-27',\n",
       " '2020-28',\n",
       " '2020-29',\n",
       " '2020-30',\n",
       " '2020-31',\n",
       " '2020-32',\n",
       " '2020-33',\n",
       " '2020-34',\n",
       " '2020-35',\n",
       " '2020-36',\n",
       " '2020-37',\n",
       " '2020-38',\n",
       " '2020-39',\n",
       " '2020-40',\n",
       " '2020-41',\n",
       " '2020-42',\n",
       " '2020-43',\n",
       " '2020-44',\n",
       " '2020-45',\n",
       " '2020-46',\n",
       " '2020-47',\n",
       " '2020-48',\n",
       " '2020-49',\n",
       " '2020-50',\n",
       " '2020-51',\n",
       " '2020-52',\n",
       " '2021-01',\n",
       " '2021-02',\n",
       " '2021-03',\n",
       " '2021-04',\n",
       " '2021-05',\n",
       " '2021-06',\n",
       " '2021-07',\n",
       " '2021-08',\n",
       " '2021-09',\n",
       " '2021-10',\n",
       " '2021-11',\n",
       " '2021-12',\n",
       " '2021-13',\n",
       " '2021-14',\n",
       " '2021-15',\n",
       " '2021-16',\n",
       " '2021-17',\n",
       " '2021-18',\n",
       " '2021-19',\n",
       " '2021-20',\n",
       " '2021-21',\n",
       " '2021-22',\n",
       " '2021-23',\n",
       " '2021-24',\n",
       " '2021-25',\n",
       " '2021-26',\n",
       " '2021-27',\n",
       " '2021-28',\n",
       " '2021-29',\n",
       " '2021-30',\n",
       " '2021-31',\n",
       " '2021-32',\n",
       " '2021-33',\n",
       " '2021-34',\n",
       " '2021-35',\n",
       " '2021-36',\n",
       " '2021-37',\n",
       " '2021-38',\n",
       " '2021-39',\n",
       " '2021-40',\n",
       " '2021-41',\n",
       " '2021-42',\n",
       " '2021-43',\n",
       " '2021-44',\n",
       " '2021-45',\n",
       " '2021-46',\n",
       " '2021-47',\n",
       " '2021-48',\n",
       " '2021-49',\n",
       " '2021-50',\n",
       " '2021-52',\n",
       " '2022-01',\n",
       " '2022-02',\n",
       " '2022-03',\n",
       " '2022-04',\n",
       " '2022-05',\n",
       " '2022-06',\n",
       " '2022-07',\n",
       " '2022-08',\n",
       " '2022-09',\n",
       " '2022-10',\n",
       " '2022-11',\n",
       " '2022-12',\n",
       " '2022-13',\n",
       " '2022-14',\n",
       " '2022-15',\n",
       " '2022-16',\n",
       " '2022-17',\n",
       " '2022-18',\n",
       " '2022-19',\n",
       " '2022-20',\n",
       " '2022-21',\n",
       " '2022-22',\n",
       " '2022-23',\n",
       " '2022-24',\n",
       " '2022-25',\n",
       " '2022-26',\n",
       " '2022-28',\n",
       " '2022-29',\n",
       " '2022-30',\n",
       " '2022-31',\n",
       " '2022-32',\n",
       " '2022-33',\n",
       " '2022-34',\n",
       " '2022-35',\n",
       " '2022-36',\n",
       " '2022-37',\n",
       " '2022-38',\n",
       " '2022-39',\n",
       " '2022-40',\n",
       " '2022-41',\n",
       " '2022-42',\n",
       " '2022-43',\n",
       " '2022-44',\n",
       " '2022-45',\n",
       " '2022-46',\n",
       " '2022-47',\n",
       " '2022-48',\n",
       " '2022-49',\n",
       " '2022-50',\n",
       " '2022-52',\n",
       " '2023-01',\n",
       " '2023-02',\n",
       " '2023-03',\n",
       " '2023-04',\n",
       " '2023-06',\n",
       " '2023-07',\n",
       " '2023-08',\n",
       " '2023-09',\n",
       " '2023-10',\n",
       " '2023-11',\n",
       " '2023-12',\n",
       " '2023-13',\n",
       " '2023-14',\n",
       " '2023-15',\n",
       " '2023-16',\n",
       " '2023-17',\n",
       " '2023-18',\n",
       " '2023-19',\n",
       " '2023-20',\n",
       " '2023-21',\n",
       " '2023-22',\n",
       " '2023-23',\n",
       " '2023-24',\n",
       " '2023-25',\n",
       " '2023-26',\n",
       " '2023-27',\n",
       " '2023-28',\n",
       " '2023-29',\n",
       " '2023-30',\n",
       " '2023-31',\n",
       " '2023-32',\n",
       " '2023-33',\n",
       " '2023-34',\n",
       " '2023-35',\n",
       " '2023-36',\n",
       " '2023-37',\n",
       " '2023-38',\n",
       " '2023-39',\n",
       " '2023-40',\n",
       " '2023-41',\n",
       " '2023-42',\n",
       " '2023-43']"
      ]
     },
     "execution_count": 27,
     "metadata": {},
     "output_type": "execute_result"
    }
   ],
   "source": [
    "tydny"
   ]
  },
  {
   "cell_type": "code",
   "execution_count": 28,
   "id": "ecc82c85",
   "metadata": {},
   "outputs": [],
   "source": [
    "pozoruhodne_g = []\n",
    "for p in pozoruhodne:\n",
    "    pozoruhodne_g.append(cesta_pisne(p[0],p[1],graf=False).reindex(tydny))"
   ]
  },
  {
   "cell_type": "code",
   "execution_count": 29,
   "id": "a9cc9738",
   "metadata": {},
   "outputs": [
    {
     "name": "stdout",
     "output_type": "stream",
     "text": [
      "Graf uložen.\n"
     ]
    }
   ],
   "source": [
    "graf(carovy=pozoruhodne_g, target=\"pozoruhodne_pisne\", titulek='Hitparádové trajektorie vybraných písní', podtitulek=f'''Srovnání dvou nejrychlejších hitparádových jedniček (Forget Me, Katchi), tří nejpomalejších jedniček (Vánoce na míru, For You, Échame la culpa) a tří písní, které se v top 100 držely nejdéle (Srdce nehasnou, Když nemůžeš, tak přidej, Motýli).''', kredity=[\"Zdroj dat: ifpicr.cz | Vizualizace: Michal Kašpárek, iROZHLAS.cz\",\"https://www.irozhlas.cz/zpravy-tag/datova-zurnalistika\"], prvni=True, osay=' ', osay2=' ', skladany=False, naopak=False, vzhurunohama=True, osaymin=1, osaymax=100)"
   ]
  },
  {
   "cell_type": "markdown",
   "id": "f266d7fd",
   "metadata": {},
   "source": [
    "## Graf typické trajektorie"
   ]
  },
  {
   "cell_type": "code",
   "execution_count": 30,
   "id": "7bca7b2b",
   "metadata": {},
   "outputs": [],
   "source": [
    "def graf_stredni_pisne(nazev, tydny, filtr=df['track'].drop_duplicates().to_list()):\n",
    "    \n",
    "    pocet_nasazenych = [i for i in range (1, df[df['track'].isin(filtr)].groupby('tyden_pisne').size().iloc[0] + 1)]\n",
    "    tydny_pisni = [i for i in range(1,tydny + 1)]\n",
    "    \n",
    "    def spocti_stredni_pisen(tyden, pocet):\n",
    "        jak_si_vedou = pd.Series(df[(df['tyden_pisne'] == tyden) & (df['track'].isin(filtr))]['pozice'])\n",
    "        jak_si_vedou = jak_si_vedou.reset_index(drop = True)\n",
    "        jak_si_vedou = jak_si_vedou.reindex(pocet_nasazenych, fill_value=101).sort_index()\n",
    "        return jak_si_vedou\n",
    "    \n",
    "    cesta_stredni_pisne = {}\n",
    "    for t in tydny_pisni:\n",
    "        cesta_stredni_pisne[t] = spocti_stredni_pisen(t, pocet_nasazenych).median()\n",
    "    \n",
    "    return pd.Series(cesta_stredni_pisne, name=nazev)"
   ]
  },
  {
   "cell_type": "code",
   "execution_count": 31,
   "id": "cd9caffa",
   "metadata": {},
   "outputs": [],
   "source": [
    "h1 = graf_stredni_pisne('Hity č. 1',52, filtr=df[df['pozice'] == 1]['track'].drop_duplicates().to_list())"
   ]
  },
  {
   "cell_type": "code",
   "execution_count": 32,
   "id": "68261eb3",
   "metadata": {},
   "outputs": [],
   "source": [
    "h2 = graf_stredni_pisne('Písně z top 10',52, filtr=df[df['pozice'] <= 10]['track'].drop_duplicates().to_list())"
   ]
  },
  {
   "cell_type": "code",
   "execution_count": 33,
   "id": "8a5f405a",
   "metadata": {},
   "outputs": [],
   "source": [
    "h3 = graf_stredni_pisne('Písně z top 100',52, filtr=df[df['pozice'] <= 100]['track'].drop_duplicates().to_list())"
   ]
  },
  {
   "cell_type": "code",
   "execution_count": 34,
   "id": "3b6e9f7b",
   "metadata": {},
   "outputs": [
    {
     "name": "stdout",
     "output_type": "stream",
     "text": [
      "Graf uložen.\n"
     ]
    }
   ],
   "source": [
    "graf(carovy=[h1, h2, h3], target=\"typicka_trajektorie\", titulek='Typická cesta písně hitparádou', podtitulek=f'''Graf zobrazuje střední pozici vybrané kategorie podle týdnu od prvního proniknutí mezi 100 nejhranějších písní v českých rádiích.''', kredity=[\"Zdroj dat: ifpicr.cz | Vizualizace: Michal Kašpárek, iROZHLAS.cz\",\"https://www.irozhlas.cz/zpravy-tag/datova-zurnalistika\"], prvni=True, osay=' ', osay2=' ', skladany=False, naopak=False, vzhurunohama=True, osaymin=1, osaymax=100)"
   ]
  },
  {
   "cell_type": "markdown",
   "id": "8383066a",
   "metadata": {},
   "source": [
    "## Vydavatelství"
   ]
  },
  {
   "cell_type": "code",
   "execution_count": 36,
   "id": "64f8106b",
   "metadata": {},
   "outputs": [
    {
     "data": {
      "text/plain": [
       "0           Warner Music\n",
       "1           Warner Music\n",
       "2           Warner Music\n",
       "3           Warner Music\n",
       "4           Warner Music\n",
       "              ...       \n",
       "90995    Universal Music\n",
       "90996         Sony Music\n",
       "90997    Universal Music\n",
       "90998         Sony Music\n",
       "90999    Universal Music\n",
       "Name: vydavatel, Length: 91000, dtype: object"
      ]
     },
     "execution_count": 36,
     "metadata": {},
     "output_type": "execute_result"
    }
   ],
   "source": [
    "df['vydavatel']"
   ]
  },
  {
   "cell_type": "code",
   "execution_count": 37,
   "id": "d13fe231",
   "metadata": {},
   "outputs": [
    {
     "data": {
      "text/plain": [
       "['Warner Music',\n",
       " 'Universal Music',\n",
       " 'Sony Music',\n",
       " 'Agentura Goja',\n",
       " 'Um/Mp',\n",
       " 'Pm',\n",
       " 'Wave Rec.',\n",
       " 'Popron Traxx',\n",
       " 'Hfr',\n",
       " 'Rgme',\n",
       " 'Ir',\n",
       " 'Tiger',\n",
       " 'Supraphon',\n",
       " 'Tah',\n",
       " 'Orpheus Production',\n",
       " 'E2',\n",
       " 'Fajnr.',\n",
       " 'Tr',\n",
       " 'Curepink',\n",
       " 'Prospero In',\n",
       " 'Lp',\n",
       " 'Next Era',\n",
       " 'Nettwerk',\n",
       " 'Brjan Music',\n",
       " 'Nan',\n",
       " 'Starshit-Recordings',\n",
       " 'Pony Canyon',\n",
       " 'Wm/Forza',\n",
       " 'Leftout',\n",
       " 'Kontor Records',\n",
       " 'Championship Music',\n",
       " 'Colosseum Rec.',\n",
       " 'Homerun Records',\n",
       " 'Sl/Um',\n",
       " 'Klubbstyle Rec.',\n",
       " 'M&M Brothers',\n",
       " 'Bpm Rec.',\n",
       " 'Toka Beatz',\n",
       " 'Wg',\n",
       " 'Altantic',\n",
       " 'Big Demoiselles',\n",
       " 'Fm1/Promoprodukce',\n",
       " 'Panther',\n",
       " 'Onairmusic',\n",
       " 'Vis-A-Vis Prod.',\n",
       " 'Chm/Parlophone',\n",
       " 'X Production',\n",
       " \"H'Art\",\n",
       " 'Patricie',\n",
       " 'Fn',\n",
       " 'Richmondrecords',\n",
       " 'Rm Records',\n",
       " 'Brainzone',\n",
       " 'Cox',\n",
       " 'Singlton/Universal Music',\n",
       " 'Česká Muzika',\n",
       " 'Hm/Emi',\n",
       " 'Am',\n",
       " 'Pink Panther Desing/Warner Music',\n",
       " 'Mafia Records',\n",
       " 'Pop Off Production',\n",
       " 'Richmondrecords/Emi',\n",
       " 'Petarda Production',\n",
       " 'Mc Production',\n",
       " 'Ultrarecords',\n",
       " 'Bohemian Recordings',\n",
       " 'Brainzone/Tommü Records',\n",
       " 'Art One/Um',\n",
       " 'Um/Richrec',\n",
       " 'Um/Hitfactory Rec.',\n",
       " 'Revealed',\n",
       " 'Distribuce Závodský',\n",
       " 'Lewron Music Center',\n",
       " 'Cmh',\n",
       " 'Studio Fontána',\n",
       " 'Promoteam',\n",
       " 'Hurikán Records',\n",
       " 'Raego Tv',\n",
       " 'Olga Lounová Records',\n",
       " 'Magic Records',\n",
       " 'B&M Music',\n",
       " 'R48 Agency S.R.O.',\n",
       " 'Wait For Waves',\n",
       " 'Clockwise',\n",
       " 'Biograf Jan Svěrák',\n",
       " 'Cross Audio Production',\n",
       " 'Dade Music/Supraphon',\n",
       " 'Kudykam',\n",
       " 'Art Shock/Supraphon',\n",
       " 'I.Richmond.P./Universal Music',\n",
       " 'Bookin Agency',\n",
       " 'Pink Panther',\n",
       " 'Popron Music',\n",
       " 'Ty Nikdy / Universal Music',\n",
       " 'Tescoma Music',\n",
       " 'Tomáš Klus',\n",
       " 'Lch',\n",
       " 'Maxi Records',\n",
       " 'Harix S.R.O.',\n",
       " 'Lotus Line',\n",
       " 'Tranzistor',\n",
       " 'Samonáklad',\n",
       " 'Xl Recordings',\n",
       " 'We On The Moon',\n",
       " 'Mistamusic',\n",
       " 'Foret Records',\n",
       " 'Hr',\n",
       " 'Marlene Film Production',\n",
       " 'Studio Citron',\n",
       " 'Ego',\n",
       " 'Sukuba Agency',\n",
       " 'Lake Malawi',\n",
       " 'Eleven Seven',\n",
       " 'Paf Music',\n",
       " 'Ewolution/Warner Music',\n",
       " 'Goja',\n",
       " 'Blakkwood/Universal Music',\n",
       " 'Mikael Music',\n",
       " 'Armada',\n",
       " 'Buckingham Entertainment Group',\n",
       " 'Sagl Production',\n",
       " 'The Silver Spoons',\n",
       " 'Edel',\n",
       " 'Ty Nikdy/Warner Music',\n",
       " 'Lauv',\n",
       " 'Bigg Boss',\n",
       " 'Universal Music/Warner Music',\n",
       " 'Kali Records',\n",
       " 'Vivienne Records',\n",
       " 'Niko',\n",
       " 'Bmg/Dream Music',\n",
       " 'Surikata Rec.',\n",
       " 'Nn Music',\n",
       " 'Peter Fider',\n",
       " 'Hm Productions',\n",
       " 'Wisemusic',\n",
       " 'Cap-Sounds',\n",
       " 'Mida',\n",
       " 'Mu-Zi-Ka!',\n",
       " 'Petarda/Brainzone',\n",
       " 'Mike Roft Records/Warner Music',\n",
       " '100Promotion',\n",
       " 'Alma Matters',\n",
       " 'Daniell',\n",
       " 'Pias',\n",
       " 'Fck Them/Universal Music',\n",
       " 'Easy Life Records',\n",
       " 'Domi',\n",
       " 'Marek Ztracený/Supraphon',\n",
       " 'Autentik Music/Universal Music',\n",
       " 'Timbre Music',\n",
       " 'Ewolution',\n",
       " 'Irascible Music',\n",
       " 'Ingrooves',\n",
       " 'Tomáš Klus / Supraphon',\n",
       " 'Super Projects',\n",
       " 'Adam Janota',\n",
       " 'Global Records',\n",
       " 'Ruka Hore',\n",
       " 'Holidays Forever',\n",
       " 'Fate Magazine',\n",
       " 'Dimitrije Maksimovic',\n",
       " 'Bmg Rights Management',\n",
       " 'Mark Dann',\n",
       " 'Championship M./Universal M.',\n",
       " 'Better Noise Music',\n",
       " 'Viktor Sheen/Mikeroft/Warner M.',\n",
       " 'Promuziku']"
      ]
     },
     "execution_count": 37,
     "metadata": {},
     "output_type": "execute_result"
    }
   ],
   "source": [
    "df['vydavatel'].drop_duplicates().to_list()"
   ]
  },
  {
   "cell_type": "code",
   "execution_count": 38,
   "id": "eb3c6e91",
   "metadata": {},
   "outputs": [],
   "source": [
    "vydavatelstvo = df.copy()"
   ]
  },
  {
   "cell_type": "code",
   "execution_count": 39,
   "id": "6fb9a3f3",
   "metadata": {},
   "outputs": [],
   "source": [
    "vydavatelstvo['vydavatel'] = vydavatelstvo['vydavatel'].apply(lambda x: x.split(\"/\"))"
   ]
  },
  {
   "cell_type": "code",
   "execution_count": 40,
   "id": "535f6bf1",
   "metadata": {},
   "outputs": [],
   "source": [
    "vydavatelstvo = vydavatelstvo.explode('vydavatel')"
   ]
  },
  {
   "cell_type": "code",
   "execution_count": 41,
   "id": "114a1e96",
   "metadata": {},
   "outputs": [],
   "source": [
    "vydavatelstvo['vydavatel'] = vydavatelstvo['vydavatel'].apply(lambda x: x.strip())"
   ]
  },
  {
   "cell_type": "code",
   "execution_count": 46,
   "id": "1fdabdad",
   "metadata": {},
   "outputs": [],
   "source": [
    "vydavatelstvo['vydavatel'] = vydavatelstvo['vydavatel'].replace('Nan',None)"
   ]
  },
  {
   "cell_type": "code",
   "execution_count": 47,
   "id": "86f1fdc6",
   "metadata": {},
   "outputs": [
    {
     "data": {
      "text/plain": [
       "vydavatel\n",
       "Universal Music       41204\n",
       "Warner Music          21187\n",
       "Sony Music            17874\n",
       "Supraphon              2410\n",
       "Brainzone              2399\n",
       "Singlton                981\n",
       "I.Richmond.P.           871\n",
       "Championship Music      290\n",
       "Marek Ztracený          278\n",
       "Rgme                    206\n",
       "dtype: int64"
      ]
     },
     "execution_count": 47,
     "metadata": {},
     "output_type": "execute_result"
    }
   ],
   "source": [
    "vydavatelstvo.groupby('vydavatel').size().nlargest(10)"
   ]
  },
  {
   "cell_type": "code",
   "execution_count": 49,
   "id": "d019a2eb",
   "metadata": {},
   "outputs": [],
   "source": [
    "top_vydavatele = vydavatelstvo.groupby('vydavatel').size().nlargest().index.to_list()"
   ]
  },
  {
   "cell_type": "code",
   "execution_count": 51,
   "id": "e4f881b4",
   "metadata": {},
   "outputs": [],
   "source": [
    "vydavatelstvo_graf = []\n",
    "for v in top_vydavatele:\n",
    "    serie = pd.Series(vydavatelstvo[vydavatelstvo['vydavatel'] == v].groupby('rok').size() / vydavatelstvo.groupby('rok').size(), name=v)\n",
    "    vydavatelstvo_graf.append(serie)\n",
    "serie_ostatni = pd.Series(vydavatelstvo[~vydavatelstvo['vydavatel'].isin(top_vydavatele)].groupby('rok').size()  / vydavatelstvo.groupby('rok').size(), name='ostatní')\n",
    "vydavatelstvo_graf.append(serie_ostatni)"
   ]
  },
  {
   "cell_type": "code",
   "execution_count": 53,
   "id": "8f59eac9",
   "metadata": {},
   "outputs": [
    {
     "name": "stdout",
     "output_type": "stream",
     "text": [
      "Graf uložen.\n"
     ]
    }
   ],
   "source": [
    "graf(carovy=vydavatelstvo_graf, target='vydavatelstvo', titulek='Podíl vydavatelů na obsazených hitparádových příčkách', procenta=vydavatelstvo_graf, kredity=[\"Zdroj dat: ifpicr.cz | Vizualizace: Michal Kašpárek, iROZHLAS.cz\",\"https://www.irozhlas.cz/zpravy-tag/datova-zurnalistika\"])"
   ]
  },
  {
   "cell_type": "markdown",
   "id": "53ff94a1",
   "metadata": {},
   "source": [
    "### Největší úspěchy malých: týdny na vrcholu hitparády"
   ]
  },
  {
   "cell_type": "code",
   "execution_count": 59,
   "id": "42364c0d",
   "metadata": {
    "scrolled": true
   },
   "outputs": [
    {
     "data": {
      "text/plain": [
       "vydavatel         interpret_hlavni  track                                   \n",
       "I.Richmond.P.     Kryštof           Ty a já                                     9\n",
       "                                    Srdcebeat                                   6\n",
       "                                    Zůstaň tu se mnou (Za sny)                  5\n",
       "Richrec           Kryštof           Inzerát                                     5\n",
       "Um                Kryštof           Inzerát                                     5\n",
       "I.Richmond.P.     Kryštof           Hvězdáři (feat. Sima Martausová)            3\n",
       "Marek Ztracený    Marek Ztracený    Originál                                    3\n",
       "Ewolution         Ewa Farna         Vánoce na míru                              2\n",
       "I.Richmond.P.     Kryštof           Hned teď (pojď být světlometem)             2\n",
       "Vivienne Records  Mikolas Josef     Acapella (feat. Fito Blanko & Frankie J)    2\n",
       "Chm               Xindl X           Láska v housce                              1\n",
       "I.Richmond.P.     Kryštof           Vánoční                                     1\n",
       "Onairmusic        Nightwork         Čekám na signál                             1\n",
       "Parlophone        Xindl X           Láska v housce                              1\n",
       "Name: week, dtype: int64"
      ]
     },
     "execution_count": 59,
     "metadata": {},
     "output_type": "execute_result"
    }
   ],
   "source": [
    "vydavatelstvo[(vydavatelstvo['pozice'] == 1) & (~vydavatelstvo['vydavatel'].isin(top_vydavatele))].groupby(['vydavatel','interpret_hlavni','track'])['week'].nunique().nlargest(20)"
   ]
  },
  {
   "cell_type": "markdown",
   "id": "ff1a4b01",
   "metadata": {},
   "source": [
    "### Největší úspěchy malých: písní v top 100"
   ]
  },
  {
   "cell_type": "code",
   "execution_count": 60,
   "id": "f9c05439",
   "metadata": {},
   "outputs": [
    {
     "data": {
      "text/plain": [
       "vydavatel\n",
       "Singlton                44\n",
       "Championship Music      29\n",
       "I.Richmond.P.           14\n",
       "Rgme                    12\n",
       "Tr                       9\n",
       "Kontor Records           8\n",
       "Vis-A-Vis Prod.          8\n",
       "Lewron Music Center      7\n",
       "Olga Lounová Records     7\n",
       "Pm                       7\n",
       "Hfr                      6\n",
       "Marek Ztracený           6\n",
       "Um                       6\n",
       "Armada                   5\n",
       "Onairmusic               5\n",
       "Pink Panther             5\n",
       "The Silver Spoons        5\n",
       "Tomáš Klus               5\n",
       "Ty Nikdy                 5\n",
       "Wisemusic                5\n",
       "Name: track, dtype: int64"
      ]
     },
     "execution_count": 60,
     "metadata": {},
     "output_type": "execute_result"
    }
   ],
   "source": [
    "vydavatelstvo[(~vydavatelstvo['vydavatel'].isin(top_vydavatele))].groupby(['vydavatel'])['track'].nunique().nlargest(20)"
   ]
  }
 ],
 "metadata": {
  "kernelspec": {
   "display_name": "Python 3 (ipykernel)",
   "language": "python",
   "name": "python3"
  },
  "language_info": {
   "codemirror_mode": {
    "name": "ipython",
    "version": 3
   },
   "file_extension": ".py",
   "mimetype": "text/x-python",
   "name": "python",
   "nbconvert_exporter": "python",
   "pygments_lexer": "ipython3",
   "version": "3.10.8"
  }
 },
 "nbformat": 4,
 "nbformat_minor": 5
}
