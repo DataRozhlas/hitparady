{
 "cells": [
  {
   "cell_type": "markdown",
   "id": "7919ea27",
   "metadata": {},
   "source": [
    "# Na co bacha\n",
    "\n",
    "Pracujeme tady s neúplnými daty, jsou tu možné biasy přispěvatelstva wikidat. Také nebereme ohled na složení KAPEL."
   ]
  },
  {
   "cell_type": "code",
   "execution_count": 1,
   "id": "5cf531e7",
   "metadata": {},
   "outputs": [],
   "source": [
    "import os\n",
    "import pandas as pd"
   ]
  },
  {
   "cell_type": "code",
   "execution_count": 2,
   "id": "66905835",
   "metadata": {},
   "outputs": [],
   "source": [
    "df = pd.read_csv(os.path.join(\"data\",\"CZ_RADIO_TOP_100_tydenni.csv\"))\n",
    "wikid = pd.read_json(os.path.join(\"wikidata\",\"wikidata.json\"))\n",
    "df = df.merge(wikid, on=\"interpret_hlavni\", how=\"outer\")"
   ]
  },
  {
   "cell_type": "markdown",
   "id": "e414a85f",
   "metadata": {},
   "source": [
    "## Nejdřív: kolik je v žebříčku sólo interpretů"
   ]
  },
  {
   "cell_type": "code",
   "execution_count": 6,
   "id": "978640cc",
   "metadata": {},
   "outputs": [
    {
     "data": {
      "text/plain": [
       "<Axes: xlabel='rok'>"
      ]
     },
     "execution_count": 6,
     "metadata": {},
     "output_type": "execute_result"
    },
    {
     "data": {
      "image/png": "[encoded data removed]",
      "text/plain": [
       "<Figure size 432x288 with 1 Axes>"
      ]
     },
     "metadata": {
      "needs_background": "light"
     },
     "output_type": "display_data"
    }
   ],
   "source": [
    "(df[df['velikost'] == 'člověk'].groupby('rok').size() / df[~df['velikost'].isnull()].groupby('rok').size()).plot.bar()"
   ]
  },
  {
   "cell_type": "markdown",
   "id": "77d4cc25",
   "metadata": {},
   "source": [
    "## Nýčko: nemuži x muži"
   ]
  },
  {
   "cell_type": "code",
   "execution_count": 13,
   "id": "34a8cec9",
   "metadata": {},
   "outputs": [
    {
     "data": {
      "text/plain": [
       "<Axes: xlabel='rok'>"
      ]
     },
     "execution_count": 13,
     "metadata": {},
     "output_type": "execute_result"
    },
    {
     "data": {
      "image/png": "[encoded data removed]",
      "text/plain": [
       "<Figure size 432x288 with 1 Axes>"
      ]
     },
     "metadata": {
      "needs_background": "light"
     },
     "output_type": "display_data"
    }
   ],
   "source": [
    "(df[(~df['gender'].isnull()) & (df['gender'] != 'muž')].groupby('rok').size() / df[~df['gender'].isnull()].groupby('rok').size()).plot.bar()"
   ]
  },
  {
   "cell_type": "markdown",
   "id": "3ea80281",
   "metadata": {},
   "source": [
    "Hustý."
   ]
  },
  {
   "cell_type": "markdown",
   "id": "c7a518a0",
   "metadata": {},
   "source": [
    "## Pozice"
   ]
  },
  {
   "cell_type": "code",
   "execution_count": 15,
   "id": "2a73b186",
   "metadata": {},
   "outputs": [
    {
     "data": {
      "text/plain": [
       "gender\n",
       "genderfluid    43.996086\n",
       "muž            49.122019\n",
       "nebinární      50.940541\n",
       "žena           49.560581\n",
       "Name: pozice, dtype: float64"
      ]
     },
     "execution_count": 15,
     "metadata": {},
     "output_type": "execute_result"
    }
   ],
   "source": [
    "df[~df['gender'].isnull()].groupby('gender')['pozice'].mean()"
   ]
  },
  {
   "cell_type": "code",
   "execution_count": 16,
   "id": "db03a0e3",
   "metadata": {},
   "outputs": [
    {
     "data": {
      "text/plain": [
       "gender\n",
       "genderfluid    44.0\n",
       "muž            48.0\n",
       "nebinární      53.0\n",
       "žena           49.0\n",
       "Name: pozice, dtype: float64"
      ]
     },
     "execution_count": 16,
     "metadata": {},
     "output_type": "execute_result"
    }
   ],
   "source": [
    "df[~df['gender'].isnull()].groupby('gender')['pozice'].median()"
   ]
  },
  {
   "cell_type": "code",
   "execution_count": 9,
   "id": "77e61444",
   "metadata": {},
   "outputs": [
    {
     "data": {
      "text/plain": [
       "gender\n",
       "genderfluid     27\n",
       "muž            330\n",
       "žena           215\n",
       "dtype: int64"
      ]
     },
     "execution_count": 9,
     "metadata": {},
     "output_type": "execute_result"
    }
   ],
   "source": [
    "df[df['pozice'] == 1].groupby('gender').size()"
   ]
  },
  {
   "cell_type": "code",
   "execution_count": 10,
   "id": "9be9d735",
   "metadata": {},
   "outputs": [
    {
     "data": {
      "text/plain": [
       "38146    Miley Cyrus\n",
       "59946    Demi Lovato\n",
       "Name: interpret_hlavni, dtype: object"
      ]
     },
     "execution_count": 10,
     "metadata": {},
     "output_type": "execute_result"
    }
   ],
   "source": [
    "df[df['gender'] == 'genderfluid']['interpret_hlavni'].drop_duplicates()"
   ]
  },
  {
   "cell_type": "markdown",
   "id": "5549811c",
   "metadata": {},
   "source": [
    "## Počty hitů na jednotlivce"
   ]
  },
  {
   "cell_type": "code",
   "execution_count": 23,
   "id": "4a0db317",
   "metadata": {},
   "outputs": [
    {
     "data": {
      "text/plain": [
       "gender\n",
       "genderfluid    11.500000\n",
       "muž             3.025490\n",
       "nebinární       4.000000\n",
       "žena            3.955947\n",
       "Name: track, dtype: float64"
      ]
     },
     "execution_count": 23,
     "metadata": {},
     "output_type": "execute_result"
    }
   ],
   "source": [
    "pd.DataFrame(df[~df['gender'].isnull()].groupby('interpret_hlavni')['track'].nunique()).merge(wikid[['interpret_hlavni','gender']], on='interpret_hlavni', how='outer').groupby('gender')['track'].mean()"
   ]
  },
  {
   "cell_type": "markdown",
   "id": "91692c64",
   "metadata": {},
   "source": [
    "Ženy se v průměru prosadí 4 písničkami, muži 3, ale nic bych z toho nevyvozoval."
   ]
  },
  {
   "cell_type": "markdown",
   "id": "ba988ed3",
   "metadata": {},
   "source": [
    "## Věk"
   ]
  },
  {
   "cell_type": "code",
   "execution_count": 24,
   "id": "31d7166c",
   "metadata": {},
   "outputs": [],
   "source": [
    "df['vek'] = df['rok'] - df['datum_narozeni']"
   ]
  },
  {
   "cell_type": "code",
   "execution_count": 25,
   "id": "df3a9073",
   "metadata": {},
   "outputs": [
    {
     "data": {
      "text/plain": [
       "gender\n",
       "genderfluid    24.986301\n",
       "muž            32.969293\n",
       "nebinární      25.372973\n",
       "žena           29.218997\n",
       "Name: vek, dtype: float64"
      ]
     },
     "execution_count": 25,
     "metadata": {},
     "output_type": "execute_result"
    }
   ],
   "source": [
    "df.groupby('gender')['vek'].mean()"
   ]
  },
  {
   "cell_type": "markdown",
   "id": "114890ca",
   "metadata": {},
   "source": [
    "Překvapivě blízko."
   ]
  },
  {
   "cell_type": "code",
   "execution_count": 27,
   "id": "00c3f90e",
   "metadata": {},
   "outputs": [
    {
     "data": {
      "text/plain": [
       "gender\n",
       "genderfluid    18.500000\n",
       "muž            32.128141\n",
       "nebinární      23.500000\n",
       "žena           27.206030\n",
       "Name: vek, dtype: float64"
      ]
     },
     "execution_count": 27,
     "metadata": {},
     "output_type": "execute_result"
    }
   ],
   "source": [
    "pd.DataFrame(df[~df['vek'].isnull()].groupby('interpret_hlavni')['vek'].min()).merge(wikid[['interpret_hlavni','gender']], on='interpret_hlavni', how='outer').groupby('gender')['vek'].mean()"
   ]
  },
  {
   "cell_type": "markdown",
   "id": "c7cd05c3",
   "metadata": {},
   "source": [
    "První zjevení se v hitparádě: ženy o 5 let dříve než muži."
   ]
  },
  {
   "cell_type": "code",
   "execution_count": 28,
   "id": "565c0588",
   "metadata": {},
   "outputs": [
    {
     "data": {
      "text/plain": [
       "gender\n",
       "genderfluid    31.000000\n",
       "muž            35.929648\n",
       "nebinární      29.000000\n",
       "žena           31.527638\n",
       "Name: vek, dtype: float64"
      ]
     },
     "execution_count": 28,
     "metadata": {},
     "output_type": "execute_result"
    }
   ],
   "source": [
    "pd.DataFrame(df[~df['vek'].isnull()].groupby('interpret_hlavni')['vek'].max()).merge(wikid[['interpret_hlavni','gender']], on='interpret_hlavni', how='outer').groupby('gender')['vek'].mean()"
   ]
  },
  {
   "cell_type": "markdown",
   "id": "ccaf3d9f",
   "metadata": {},
   "source": [
    "Poslední zjevení se v hitparádě: ženy o 4 roky dříve než muži."
   ]
  }
 ],
 "metadata": {
  "kernelspec": {
   "display_name": "Python 3 (ipykernel)",
   "language": "python",
   "name": "python3"
  },
  "language_info": {
   "codemirror_mode": {
    "name": "ipython",
    "version": 3
   },
   "file_extension": ".py",
   "mimetype": "text/x-python",
   "name": "python",
   "nbconvert_exporter": "python",
   "pygments_lexer": "ipython3",
   "version": "3.10.8"
  }
 },
 "nbformat": 4,
 "nbformat_minor": 5
}
