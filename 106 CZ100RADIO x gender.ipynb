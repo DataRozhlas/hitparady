{
 "cells": [
  {
   "cell_type": "markdown",
   "id": "7919ea27",
   "metadata": {},
   "source": [
    "# Na co bacha\n",
    "\n",
    "- Pracujeme tady s neúplnými daty, jsou tu možné biasy přispěvatelstva wikidat.\n",
    "- Také nebereme ohled na složení KAPEL.\n",
    "- Analyzujeme hlavního interpreta – pokud existuje nějaká konvence v pořadí, např Gott/Rollins, je možné, že to výsledky zkresluje. (Šlo by v případě zájmu vyřešit.)"
   ]
  },
  {
   "cell_type": "code",
   "execution_count": 1,
   "id": "5cf531e7",
   "metadata": {},
   "outputs": [],
   "source": [
    "import os\n",
    "import pandas as pd"
   ]
  },
  {
   "cell_type": "code",
   "execution_count": 2,
   "id": "66905835",
   "metadata": {},
   "outputs": [],
   "source": [
    "df = pd.read_csv(os.path.join(\"data\",\"CZ_RADIO_TOP_100_tydenni.csv\"))\n",
    "wikid = pd.read_json(os.path.join(\"wikidata\",\"wikidata.json\"))\n",
    "df = df.merge(wikid, on=\"interpret_hlavni\", how=\"outer\")"
   ]
  },
  {
   "cell_type": "markdown",
   "id": "e414a85f",
   "metadata": {},
   "source": [
    "## Nejdřív: kolik je v žebříčku sólo interpretů"
   ]
  },
  {
   "cell_type": "code",
   "execution_count": 3,
   "id": "978640cc",
   "metadata": {},
   "outputs": [
    {
     "data": {
      "text/plain": [
       "<Axes: xlabel='rok'>"
      ]
     },
     "execution_count": 3,
     "metadata": {},
     "output_type": "execute_result"
    },
    {
     "data": {
      "image/png": "[encoded data removed]",
      "text/plain": [
       "<Figure size 432x288 with 1 Axes>"
      ]
     },
     "metadata": {
      "needs_background": "light"
     },
     "output_type": "display_data"
    }
   ],
   "source": [
    "(df[df['velikost'] == 'člověk'].groupby('rok').size() / df[~df['velikost'].isnull()].groupby('rok').size()).plot.bar()"
   ]
  },
  {
   "cell_type": "markdown",
   "id": "29399daa",
   "metadata": {},
   "source": [
    "## Podíl žen na sólovém interpretstvu"
   ]
  },
  {
   "cell_type": "markdown",
   "id": "43c991f0",
   "metadata": {},
   "source": [
    "### Podíl žen na binárním interpretstvu "
   ]
  },
  {
   "cell_type": "code",
   "execution_count": 4,
   "id": "b352b764",
   "metadata": {},
   "outputs": [
    {
     "data": {
      "text/plain": [
       "<Axes: xlabel='rok'>"
      ]
     },
     "execution_count": 4,
     "metadata": {},
     "output_type": "execute_result"
    },
    {
     "data": {
      "image/png": "[encoded data removed]",
      "text/plain": [
       "<Figure size 432x288 with 1 Axes>"
      ]
     },
     "metadata": {
      "needs_background": "light"
     },
     "output_type": "display_data"
    }
   ],
   "source": [
    "(df[(df['gender'] == 'žena')].groupby('rok').size() / df[df['gender'].isin(['žena','muž'])].groupby('rok').size()).plot.bar()"
   ]
  },
  {
   "cell_type": "code",
   "execution_count": 18,
   "id": "0419b06f",
   "metadata": {},
   "outputs": [
    {
     "data": {
      "text/plain": [
       "<Axes: xlabel='rok'>"
      ]
     },
     "execution_count": 18,
     "metadata": {},
     "output_type": "execute_result"
    },
    {
     "data": {
      "image/png": "[encoded data removed]",
      "text/plain": [
       "<Figure size 432x288 with 1 Axes>"
      ]
     },
     "metadata": {
      "needs_background": "light"
     },
     "output_type": "display_data"
    }
   ],
   "source": [
    "(df[(~df['gender'].isnull()) & (df['gender'] == 'muž')].groupby('rok').size() / df[~df['gender'].isnull()].groupby('rok').size()).plot.bar()"
   ]
  },
  {
   "cell_type": "markdown",
   "id": "77d4cc25",
   "metadata": {},
   "source": [
    "### Podíl lidí s jiným genderem než \"muž\""
   ]
  },
  {
   "cell_type": "code",
   "execution_count": 5,
   "id": "34a8cec9",
   "metadata": {},
   "outputs": [
    {
     "data": {
      "text/plain": [
       "<Axes: xlabel='rok'>"
      ]
     },
     "execution_count": 5,
     "metadata": {},
     "output_type": "execute_result"
    },
    {
     "data": {
      "image/png": "[encoded data removed]",
      "text/plain": [
       "<Figure size 432x288 with 1 Axes>"
      ]
     },
     "metadata": {
      "needs_background": "light"
     },
     "output_type": "display_data"
    }
   ],
   "source": [
    "(df[(~df['gender'].isnull()) & (df['gender'] != 'muž')].groupby('rok').size() / df[~df['gender'].isnull()].groupby('rok').size()).plot.bar()"
   ]
  },
  {
   "cell_type": "markdown",
   "id": "3ea80281",
   "metadata": {},
   "source": [
    "Hustý."
   ]
  },
  {
   "cell_type": "markdown",
   "id": "c7a518a0",
   "metadata": {},
   "source": [
    "## Pozice v hitparádě"
   ]
  },
  {
   "cell_type": "markdown",
   "id": "ffee8d71",
   "metadata": {},
   "source": [
    "### Průměrná pozice písně podle genderu"
   ]
  },
  {
   "cell_type": "code",
   "execution_count": 6,
   "id": "2a73b186",
   "metadata": {},
   "outputs": [
    {
     "data": {
      "text/plain": [
       "gender\n",
       "genderfluid    43.996086\n",
       "muž            49.122019\n",
       "nebinární      50.940541\n",
       "žena           49.560581\n",
       "Name: pozice, dtype: float64"
      ]
     },
     "execution_count": 6,
     "metadata": {},
     "output_type": "execute_result"
    }
   ],
   "source": [
    "df[~df['gender'].isnull()].groupby('gender')['pozice'].mean()"
   ]
  },
  {
   "cell_type": "markdown",
   "id": "773c7491",
   "metadata": {},
   "source": [
    "### Střední pozice písně podle genderu"
   ]
  },
  {
   "cell_type": "code",
   "execution_count": 7,
   "id": "db03a0e3",
   "metadata": {},
   "outputs": [
    {
     "data": {
      "text/plain": [
       "gender\n",
       "genderfluid    44.0\n",
       "muž            48.0\n",
       "nebinární      53.0\n",
       "žena           49.0\n",
       "Name: pozice, dtype: float64"
      ]
     },
     "execution_count": 7,
     "metadata": {},
     "output_type": "execute_result"
    }
   ],
   "source": [
    "df[~df['gender'].isnull()].groupby('gender')['pozice'].median()"
   ]
  },
  {
   "cell_type": "markdown",
   "id": "574fd9d1",
   "metadata": {},
   "source": [
    "### Kolik týdnů byl který gender na první místě hitparády"
   ]
  },
  {
   "cell_type": "code",
   "execution_count": 8,
   "id": "77e61444",
   "metadata": {},
   "outputs": [
    {
     "data": {
      "text/plain": [
       "gender\n",
       "genderfluid     27\n",
       "muž            330\n",
       "žena           215\n",
       "dtype: int64"
      ]
     },
     "execution_count": 8,
     "metadata": {},
     "output_type": "execute_result"
    }
   ],
   "source": [
    "df[df['pozice'] == 1].groupby('gender').size()"
   ]
  },
  {
   "cell_type": "markdown",
   "id": "7a93a397",
   "metadata": {},
   "source": [
    "### Seznam nebinárního interpretstva"
   ]
  },
  {
   "cell_type": "code",
   "execution_count": 9,
   "id": "9be9d735",
   "metadata": {},
   "outputs": [
    {
     "data": {
      "text/html": [
       "<div>\n",
       "<style scoped>\n",
       "    .dataframe tbody tr th:only-of-type {\n",
       "        vertical-align: middle;\n",
       "    }\n",
       "\n",
       "    .dataframe tbody tr th {\n",
       "        vertical-align: top;\n",
       "    }\n",
       "\n",
       "    .dataframe thead th {\n",
       "        text-align: right;\n",
       "    }\n",
       "</style>\n",
       "<table border=\"1\" class=\"dataframe\">\n",
       "  <thead>\n",
       "    <tr style=\"text-align: right;\">\n",
       "      <th></th>\n",
       "      <th>interpret_hlavni</th>\n",
       "      <th>gender</th>\n",
       "    </tr>\n",
       "  </thead>\n",
       "  <tbody>\n",
       "    <tr>\n",
       "      <th>38146</th>\n",
       "      <td>Miley Cyrus</td>\n",
       "      <td>genderfluid</td>\n",
       "    </tr>\n",
       "    <tr>\n",
       "      <th>52007</th>\n",
       "      <td>Christina Perri</td>\n",
       "      <td>nebinární</td>\n",
       "    </tr>\n",
       "    <tr>\n",
       "      <th>59946</th>\n",
       "      <td>Demi Lovato</td>\n",
       "      <td>genderfluid</td>\n",
       "    </tr>\n",
       "    <tr>\n",
       "      <th>62465</th>\n",
       "      <td>Sam Smith</td>\n",
       "      <td>nebinární</td>\n",
       "    </tr>\n",
       "    <tr>\n",
       "      <th>90709</th>\n",
       "      <td>Lil Uzi Vert</td>\n",
       "      <td>nebinární</td>\n",
       "    </tr>\n",
       "  </tbody>\n",
       "</table>\n",
       "</div>"
      ],
      "text/plain": [
       "      interpret_hlavni       gender\n",
       "38146      Miley Cyrus  genderfluid\n",
       "52007  Christina Perri    nebinární\n",
       "59946      Demi Lovato  genderfluid\n",
       "62465        Sam Smith    nebinární\n",
       "90709     Lil Uzi Vert    nebinární"
      ]
     },
     "execution_count": 9,
     "metadata": {},
     "output_type": "execute_result"
    }
   ],
   "source": [
    "df[df['gender'].isin(['genderfluid','nebinární'])][['interpret_hlavni','gender']].drop_duplicates()"
   ]
  },
  {
   "cell_type": "markdown",
   "id": "5549811c",
   "metadata": {},
   "source": [
    "## Počty hitů na jednotlivce"
   ]
  },
  {
   "cell_type": "code",
   "execution_count": 10,
   "id": "4a0db317",
   "metadata": {},
   "outputs": [
    {
     "data": {
      "text/plain": [
       "gender\n",
       "genderfluid    11.500000\n",
       "muž             3.025490\n",
       "nebinární       4.000000\n",
       "žena            3.955947\n",
       "Name: track, dtype: float64"
      ]
     },
     "execution_count": 10,
     "metadata": {},
     "output_type": "execute_result"
    }
   ],
   "source": [
    "pd.DataFrame(df[~df['gender'].isnull()].groupby('interpret_hlavni')['track'].nunique()).merge(wikid[['interpret_hlavni','gender']], on='interpret_hlavni', how='outer').groupby('gender')['track'].mean()"
   ]
  },
  {
   "cell_type": "markdown",
   "id": "91692c64",
   "metadata": {},
   "source": [
    "Ženy se v průměru prosadí 4 písničkami, muži 3, ale nic bych z toho nevyvozoval."
   ]
  },
  {
   "cell_type": "markdown",
   "id": "ba988ed3",
   "metadata": {},
   "source": [
    "## Věk"
   ]
  },
  {
   "cell_type": "code",
   "execution_count": 1,
   "id": "31d7166c",
   "metadata": {},
   "outputs": [
    {
     "ename": "NameError",
     "evalue": "name 'df' is not defined",
     "output_type": "error",
     "traceback": [
      "\u001b[1;31m---------------------------------------------------------------------------\u001b[0m",
      "\u001b[1;31mNameError\u001b[0m                                 Traceback (most recent call last)",
      "Cell \u001b[1;32mIn[1], line 1\u001b[0m\n\u001b[1;32m----> 1\u001b[0m df[\u001b[38;5;124m'\u001b[39m\u001b[38;5;124mvek\u001b[39m\u001b[38;5;124m'\u001b[39m] \u001b[38;5;241m=\u001b[39m \u001b[43mdf\u001b[49m[\u001b[38;5;124m'\u001b[39m\u001b[38;5;124mrok\u001b[39m\u001b[38;5;124m'\u001b[39m] \u001b[38;5;241m-\u001b[39m df[\u001b[38;5;124m'\u001b[39m\u001b[38;5;124mdatum_narozeni\u001b[39m\u001b[38;5;124m'\u001b[39m]\n",
      "\u001b[1;31mNameError\u001b[0m: name 'df' is not defined"
     ]
    }
   ],
   "source": [
    "df['vek'] = df['rok'] - df['datum_narozeni']"
   ]
  },
  {
   "cell_type": "code",
   "execution_count": 12,
   "id": "df3a9073",
   "metadata": {},
   "outputs": [
    {
     "data": {
      "text/plain": [
       "gender\n",
       "genderfluid    24.986301\n",
       "muž            32.969293\n",
       "nebinární      25.372973\n",
       "žena           29.218997\n",
       "Name: vek, dtype: float64"
      ]
     },
     "execution_count": 12,
     "metadata": {},
     "output_type": "execute_result"
    }
   ],
   "source": [
    "df.groupby('gender')['vek'].mean()"
   ]
  },
  {
   "cell_type": "markdown",
   "id": "114890ca",
   "metadata": {},
   "source": [
    "Překvapivě blízko."
   ]
  },
  {
   "cell_type": "code",
   "execution_count": 13,
   "id": "00c3f90e",
   "metadata": {},
   "outputs": [
    {
     "data": {
      "text/plain": [
       "gender\n",
       "genderfluid    18.500000\n",
       "muž            32.128141\n",
       "nebinární      23.500000\n",
       "žena           27.206030\n",
       "Name: vek, dtype: float64"
      ]
     },
     "execution_count": 13,
     "metadata": {},
     "output_type": "execute_result"
    }
   ],
   "source": [
    "pd.DataFrame(df[~df['vek'].isnull()].groupby('interpret_hlavni')['vek'].min()).merge(wikid[['interpret_hlavni','gender']], on='interpret_hlavni', how='outer').groupby('gender')['vek'].mean()"
   ]
  },
  {
   "cell_type": "markdown",
   "id": "c7cd05c3",
   "metadata": {},
   "source": [
    "První zjevení se v hitparádě: ženy o 5 let dříve než muži."
   ]
  },
  {
   "cell_type": "code",
   "execution_count": 14,
   "id": "565c0588",
   "metadata": {},
   "outputs": [
    {
     "data": {
      "text/plain": [
       "gender\n",
       "genderfluid    31.000000\n",
       "muž            35.929648\n",
       "nebinární      29.000000\n",
       "žena           31.527638\n",
       "Name: vek, dtype: float64"
      ]
     },
     "execution_count": 14,
     "metadata": {},
     "output_type": "execute_result"
    }
   ],
   "source": [
    "pd.DataFrame(df[~df['vek'].isnull()].groupby('interpret_hlavni')['vek'].max()).merge(wikid[['interpret_hlavni','gender']], on='interpret_hlavni', how='outer').groupby('gender')['vek'].mean()"
   ]
  },
  {
   "cell_type": "markdown",
   "id": "ccaf3d9f",
   "metadata": {},
   "source": [
    "Poslední zjevení se v hitparádě: ženy o 4 roky dříve než muži."
   ]
  },
  {
   "cell_type": "markdown",
   "id": "982c94d0",
   "metadata": {},
   "source": [
    "## Podíl žen mezi českými interprety a mezi zahraničními"
   ]
  },
  {
   "cell_type": "code",
   "execution_count": 15,
   "id": "cdcbf56d",
   "metadata": {},
   "outputs": [
    {
     "data": {
      "text/plain": [
       "gender\n",
       "žena    0.321759\n",
       "dtype: float64"
      ]
     },
     "execution_count": 15,
     "metadata": {},
     "output_type": "execute_result"
    }
   ],
   "source": [
    "df[(df['zeme_puvodu'] == \"Česko\") & (df['gender'] == \"žena\")].groupby('gender').size() / len(df[(df['zeme_puvodu'] == \"Česko\") & (df['gender'].isin([\"muž\",\"žena\"]))])"
   ]
  },
  {
   "cell_type": "code",
   "execution_count": 16,
   "id": "b67cbd40",
   "metadata": {},
   "outputs": [
    {
     "data": {
      "text/plain": [
       "gender\n",
       "žena    0.381471\n",
       "dtype: float64"
      ]
     },
     "execution_count": 16,
     "metadata": {},
     "output_type": "execute_result"
    }
   ],
   "source": [
    "df[(df['zeme_puvodu'] != \"Česko\") & (~df['zeme_puvodu'].isnull()) & (df['gender'] == \"žena\")].groupby('gender').size() / len(df[(df['zeme_puvodu'] != \"Česko\") & (~df['zeme_puvodu'].isnull()) & (df['gender'].isin([\"muž\",\"žena\"]))])"
   ]
  },
  {
   "cell_type": "code",
   "execution_count": 17,
   "id": "a8ee3d63",
   "metadata": {},
   "outputs": [
    {
     "data": {
      "text/plain": [
       "gender\n",
       "žena    0.512305\n",
       "dtype: float64"
      ]
     },
     "execution_count": 17,
     "metadata": {},
     "output_type": "execute_result"
    }
   ],
   "source": [
    "df[(df['zeme_puvodu'] == \"Spojené státy americké\") & (df['gender'] == \"žena\")].groupby('gender').size() / len(df[(df['zeme_puvodu'] == \"Spojené státy americké\") & (df['gender'].isin([\"muž\",\"žena\"]))])"
   ]
  }
 ],
 "metadata": {
  "kernelspec": {
   "display_name": "Python 3 (ipykernel)",
   "language": "python",
   "name": "python3"
  },
  "language_info": {
   "codemirror_mode": {
    "name": "ipython",
    "version": 3
   },
   "file_extension": ".py",
   "mimetype": "text/x-python",
   "name": "python",
   "nbconvert_exporter": "python",
   "pygments_lexer": "ipython3",
   "version": "3.10.8"
  }
 },
 "nbformat": 4,
 "nbformat_minor": 5
}
