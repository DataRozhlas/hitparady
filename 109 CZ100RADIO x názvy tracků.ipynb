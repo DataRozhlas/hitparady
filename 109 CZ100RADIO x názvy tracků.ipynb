{
 "cells": [
  {
   "cell_type": "code",
   "execution_count": 1,
   "id": "7ce629f4",
   "metadata": {},
   "outputs": [],
   "source": [
    "import os\n",
    "import pandas as pd"
   ]
  },
  {
   "cell_type": "code",
   "execution_count": 2,
   "id": "85e2eaa5",
   "metadata": {},
   "outputs": [],
   "source": [
    "df = pd.read_csv(os.path.join(\"data\",\"CZ_RADIO_TOP_100_tydenni.csv\"))\n",
    "wikid = pd.read_json(os.path.join(\"wikidata\",\"wikidata.json\"))\n",
    "df = df.merge(wikid, on=\"interpret_hlavni\", how=\"outer\")"
   ]
  },
  {
   "cell_type": "code",
   "execution_count": 3,
   "id": "a87964ff",
   "metadata": {},
   "outputs": [],
   "source": [
    "import re"
   ]
  },
  {
   "cell_type": "code",
   "execution_count": 4,
   "id": "16a0eddf",
   "metadata": {},
   "outputs": [],
   "source": [
    "def ohol(text):\n",
    "    try:\n",
    "        oholenost = text.replace(\".\",\"\").replace(\",\",\"\").replace(\"?\",\"\").replace(\"!\",\"\").replace(\"-\",\"\").replace(\"(\",\"\").replace(\")\",\"\").lower()\n",
    "    except:\n",
    "        oholenost = text\n",
    "    return oholenost"
   ]
  },
  {
   "cell_type": "code",
   "execution_count": 5,
   "id": "afe9eca4",
   "metadata": {},
   "outputs": [],
   "source": [
    "df['track_oholeny'] = df['track'].apply(lambda x: ohol(x))"
   ]
  },
  {
   "cell_type": "code",
   "execution_count": 6,
   "id": "a9931ade",
   "metadata": {},
   "outputs": [],
   "source": [
    "df['slova'] = df['track_oholeny'].apply(lambda x: x.split(\" \") if isinstance(x,str) else x)"
   ]
  },
  {
   "cell_type": "markdown",
   "id": "33b1701c",
   "metadata": {},
   "source": [
    "## Žebříčky slov"
   ]
  },
  {
   "cell_type": "code",
   "execution_count": 7,
   "id": "7225aa48",
   "metadata": {},
   "outputs": [
    {
     "data": {
      "text/plain": [
       "slova\n",
       "you      259\n",
       "the      226\n",
       "me       213\n",
       "feat     183\n",
       "love     178\n",
       "i        151\n",
       "to       132\n",
       "my       117\n",
       "it       109\n",
       "a        102\n",
       "on        89\n",
       "of        86\n",
       "in        83\n",
       "up        64\n",
       "your      57\n",
       "all       55\n",
       "&         54\n",
       "like      52\n",
       "for       50\n",
       "is        48\n",
       "we        46\n",
       "be        45\n",
       "don't     40\n",
       "no        40\n",
       "this      40\n",
       "what      40\n",
       "one       39\n",
       "do        36\n",
       "life      36\n",
       "and       34\n",
       "night     34\n",
       "go        33\n",
       "v         32\n",
       "with      32\n",
       "down      31\n",
       "out       31\n",
       "heart     30\n",
       "know      29\n",
       "se        29\n",
       "time      29\n",
       "good      28\n",
       "now       27\n",
       "so        27\n",
       "world     27\n",
       "let       26\n",
       "never     26\n",
       "song      26\n",
       "back      25\n",
       "na        25\n",
       "are       24\n",
       "Name: track, dtype: int64"
      ]
     },
     "execution_count": 7,
     "metadata": {},
     "output_type": "execute_result"
    }
   ],
   "source": [
    "df.explode('slova').groupby('slova')['track'].nunique().nlargest(50)"
   ]
  },
  {
   "cell_type": "code",
   "execution_count": 8,
   "id": "437bdbc6",
   "metadata": {},
   "outputs": [
    {
     "data": {
      "text/plain": [
       "slova\n",
       "v          27\n",
       "feat       26\n",
       "to         25\n",
       "a          23\n",
       "se         23\n",
       "na         18\n",
       "the        15\n",
       "you        15\n",
       "je         14\n",
       "já         14\n",
       "co         13\n",
       "do         11\n",
       "love       10\n",
       "láska      10\n",
       "my         10\n",
       "o          10\n",
       "tě         10\n",
       "i           9\n",
       "mám         9\n",
       "tak         9\n",
       "z           9\n",
       "jsem        8\n",
       "mi          8\n",
       "mě          8\n",
       "on          8\n",
       "si          8\n",
       "noc         7\n",
       "of          7\n",
       "ráno        7\n",
       "s           7\n",
       "all         6\n",
       "chci        6\n",
       "jsi         6\n",
       "me          6\n",
       "nad         6\n",
       "nebe        6\n",
       "srdce       6\n",
       "vánoční     6\n",
       "čas         6\n",
       "život       6\n",
       "is          5\n",
       "it          5\n",
       "jako        5\n",
       "jednou      5\n",
       "nech        5\n",
       "no          5\n",
       "ty          5\n",
       "vánoce      5\n",
       "by          4\n",
       "dál         4\n",
       "Name: track, dtype: int64"
      ]
     },
     "execution_count": 8,
     "metadata": {},
     "output_type": "execute_result"
    }
   ],
   "source": [
    "df[df['zeme_puvodu'] == 'Česko'].explode('slova').groupby('slova')['track'].nunique().nlargest(50)"
   ]
  },
  {
   "cell_type": "markdown",
   "id": "ec16b4af",
   "metadata": {},
   "source": [
    "## Vývoj slov (ošemetné: je silně ovlivněno dramaturgií domácí/zahraniční)"
   ]
  },
  {
   "cell_type": "code",
   "execution_count": 9,
   "id": "3173e565",
   "metadata": {},
   "outputs": [],
   "source": [
    "def pomer(s):\n",
    "    podil = df[df['track'].str.lower().str.contains(s, na=False)].groupby('rok').size() / df.groupby('rok').size()\n",
    "    podil.plot.bar()\n",
    "    return podil"
   ]
  },
  {
   "cell_type": "code",
   "execution_count": 10,
   "id": "16b524ac",
   "metadata": {},
   "outputs": [
    {
     "data": {
      "text/plain": [
       "rok\n",
       "2006.0    0.039608\n",
       "2007.0    0.039020\n",
       "2008.0    0.051346\n",
       "2009.0    0.033529\n",
       "2010.0    0.075385\n",
       "2011.0    0.031400\n",
       "2012.0    0.047451\n",
       "2013.0    0.058235\n",
       "2014.0    0.063800\n",
       "2015.0    0.074808\n",
       "2016.0    0.064706\n",
       "2017.0    0.039615\n",
       "2018.0    0.034800\n",
       "2019.0    0.040196\n",
       "2020.0    0.051569\n",
       "2021.0    0.066078\n",
       "2022.0    0.048824\n",
       "2023.0    0.042857\n",
       "dtype: float64"
      ]
     },
     "execution_count": 10,
     "metadata": {},
     "output_type": "execute_result"
    },
    {
     "data": {
      "image/png": "[encoded data removed]",
      "text/plain": [
       "<Figure size 432x288 with 1 Axes>"
      ]
     },
     "metadata": {
      "needs_background": "light"
     },
     "output_type": "display_data"
    }
   ],
   "source": [
    "pomer('love')"
   ]
  },
  {
   "cell_type": "code",
   "execution_count": null,
   "id": "02fc84b3",
   "metadata": {},
   "outputs": [],
   "source": []
  }
 ],
 "metadata": {
  "kernelspec": {
   "display_name": "Python 3 (ipykernel)",
   "language": "python",
   "name": "python3"
  },
  "language_info": {
   "codemirror_mode": {
    "name": "ipython",
    "version": 3
   },
   "file_extension": ".py",
   "mimetype": "text/x-python",
   "name": "python",
   "nbconvert_exporter": "python",
   "pygments_lexer": "ipython3",
   "version": "3.10.8"
  }
 },
 "nbformat": 4,
 "nbformat_minor": 5
}
