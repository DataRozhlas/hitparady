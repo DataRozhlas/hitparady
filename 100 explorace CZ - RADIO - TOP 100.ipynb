{
 "cells": [
  {
   "cell_type": "code",
   "execution_count": 157,
   "id": "e3826b61",
   "metadata": {},
   "outputs": [],
   "source": [
    "import os\n",
    "import pandas as pd"
   ]
  },
  {
   "cell_type": "code",
   "execution_count": 158,
   "id": "2d0f218d",
   "metadata": {},
   "outputs": [],
   "source": [
    "df = pd.read_csv(os.path.join(\"data\",\"CZ_RADIO_TOP_100_tydeni.csv\"))"
   ]
  },
  {
   "cell_type": "code",
   "execution_count": 159,
   "id": "954f8e4f",
   "metadata": {},
   "outputs": [],
   "source": [
    "df['week'] = df.apply(lambda row: f\"\"\"{row[\"rok\"]}-{row[\"tyden\"]}\"\"\", axis=1)"
   ]
  },
  {
   "cell_type": "code",
   "execution_count": 160,
   "id": "6b61b6c6",
   "metadata": {},
   "outputs": [
    {
     "data": {
      "text/html": [
       "<div>\n",
       "<style scoped>\n",
       "    .dataframe tbody tr th:only-of-type {\n",
       "        vertical-align: middle;\n",
       "    }\n",
       "\n",
       "    .dataframe tbody tr th {\n",
       "        vertical-align: top;\n",
       "    }\n",
       "\n",
       "    .dataframe thead th {\n",
       "        text-align: right;\n",
       "    }\n",
       "</style>\n",
       "<table border=\"1\" class=\"dataframe\">\n",
       "  <thead>\n",
       "    <tr style=\"text-align: right;\">\n",
       "      <th></th>\n",
       "      <th>Unnamed: 0</th>\n",
       "      <th>hitparada</th>\n",
       "      <th>rok</th>\n",
       "      <th>tyden</th>\n",
       "      <th>pozice</th>\n",
       "      <th>track</th>\n",
       "      <th>interpret</th>\n",
       "      <th>interpret_hlavni</th>\n",
       "      <th>vydavatel</th>\n",
       "      <th>week</th>\n",
       "    </tr>\n",
       "  </thead>\n",
       "  <tbody>\n",
       "    <tr>\n",
       "      <th>65508</th>\n",
       "      <td>65908</td>\n",
       "      <td>CZ - RADIO - TOP 100</td>\n",
       "      <td>2018</td>\n",
       "      <td>43</td>\n",
       "      <td>9</td>\n",
       "      <td>Za 100 let</td>\n",
       "      <td>Za100Let</td>\n",
       "      <td>Za100Let</td>\n",
       "      <td>Supraphon</td>\n",
       "      <td>2018-43</td>\n",
       "    </tr>\n",
       "    <tr>\n",
       "      <th>24752</th>\n",
       "      <td>24852</td>\n",
       "      <td>CZ - RADIO - TOP 100</td>\n",
       "      <td>2010</td>\n",
       "      <td>42</td>\n",
       "      <td>53</td>\n",
       "      <td>Svítá</td>\n",
       "      <td>Leona Šenková</td>\n",
       "      <td>Leona Šenková</td>\n",
       "      <td>Sony Music</td>\n",
       "      <td>2010-42</td>\n",
       "    </tr>\n",
       "    <tr>\n",
       "      <th>70868</th>\n",
       "      <td>72468</td>\n",
       "      <td>CZ - RADIO - TOP 100</td>\n",
       "      <td>2019</td>\n",
       "      <td>46</td>\n",
       "      <td>69</td>\n",
       "      <td>Sweet but Psycho</td>\n",
       "      <td>Ava Max</td>\n",
       "      <td>Ava Max</td>\n",
       "      <td>Warner Music</td>\n",
       "      <td>2019-46</td>\n",
       "    </tr>\n",
       "    <tr>\n",
       "      <th>31671</th>\n",
       "      <td>31771</td>\n",
       "      <td>CZ - RADIO - TOP 100</td>\n",
       "      <td>2012</td>\n",
       "      <td>10</td>\n",
       "      <td>72</td>\n",
       "      <td>Rock It (United)</td>\n",
       "      <td>Mista</td>\n",
       "      <td>Mista</td>\n",
       "      <td>Singlton/Universal Music</td>\n",
       "      <td>2012-10</td>\n",
       "    </tr>\n",
       "    <tr>\n",
       "      <th>68682</th>\n",
       "      <td>70282</td>\n",
       "      <td>CZ - RADIO - TOP 100</td>\n",
       "      <td>2019</td>\n",
       "      <td>23</td>\n",
       "      <td>83</td>\n",
       "      <td>Bohouš</td>\n",
       "      <td>Lokomotiva</td>\n",
       "      <td>Lokomotiva</td>\n",
       "      <td>Nan</td>\n",
       "      <td>2019-23</td>\n",
       "    </tr>\n",
       "  </tbody>\n",
       "</table>\n",
       "</div>"
      ],
      "text/plain": [
       "       Unnamed: 0             hitparada   rok tyden  pozice             track  \\\n",
       "65508       65908  CZ - RADIO - TOP 100  2018    43       9        Za 100 let   \n",
       "24752       24852  CZ - RADIO - TOP 100  2010    42      53             Svítá   \n",
       "70868       72468  CZ - RADIO - TOP 100  2019    46      69  Sweet but Psycho   \n",
       "31671       31771  CZ - RADIO - TOP 100  2012    10      72  Rock It (United)   \n",
       "68682       70282  CZ - RADIO - TOP 100  2019    23      83            Bohouš   \n",
       "\n",
       "           interpret interpret_hlavni                 vydavatel     week  \n",
       "65508       Za100Let         Za100Let                 Supraphon  2018-43  \n",
       "24752  Leona Šenková    Leona Šenková                Sony Music  2010-42  \n",
       "70868        Ava Max          Ava Max              Warner Music  2019-46  \n",
       "31671          Mista            Mista  Singlton/Universal Music  2012-10  \n",
       "68682     Lokomotiva       Lokomotiva                       Nan  2019-23  "
      ]
     },
     "execution_count": 160,
     "metadata": {},
     "output_type": "execute_result"
    }
   ],
   "source": [
    "df.sample(5)"
   ]
  },
  {
   "cell_type": "markdown",
   "id": "6c982d6e",
   "metadata": {},
   "source": [
    "## Písně, které se objevily v nejvíce…"
   ]
  },
  {
   "cell_type": "markdown",
   "id": "bf8c2dfe",
   "metadata": {},
   "source": [
    "### …letech"
   ]
  },
  {
   "cell_type": "code",
   "execution_count": 161,
   "id": "2ce3b93a",
   "metadata": {},
   "outputs": [
    {
     "data": {
      "text/plain": [
       "interpret                track                          \n",
       "Wham!                    Last Christmas                     12\n",
       "Billy Mack               Christmas Is All Around            11\n",
       "Mariah Carey             All I Want For Christmas Is You    11\n",
       "Václav Neckář & Umakart  Půlnoční                           11\n",
       "Janek Ledecký            Sliby se maj plnit o Vánocích      10\n",
       "John Lennon              Happy Xmas (War Is Over)           10\n",
       "Queen                    Thank God It´s Christmas           10\n",
       "Lucie                    Medvídek                            9\n",
       "Dan Bárta                Na nebi svítí                       7\n",
       "Guru Josh Project        Infinity 2008                       7\n",
       "Katy Perry               Hot ´N´ Cold                        7\n",
       "Mandrage                 Hledá se žena                       7\n",
       "Michal Hrůza             Pro Emu                             7\n",
       "Olga Lounová             Jsem optimista                      7\n",
       "All American Rejects     Gives You Hell                      6\n",
       "Amy Macdonald            This Is The Life                    6\n",
       "Band Aid Ii.             Do They Know It´s Christmas?        6\n",
       "Bruno Mars               Lazy Song                           6\n",
       "Chinaski                 Hvězdy nad hlavou                   6\n",
       "Coldplay                 Viva La Vida                        6\n",
       "Name: rok, dtype: int64"
      ]
     },
     "execution_count": 161,
     "metadata": {},
     "output_type": "execute_result"
    }
   ],
   "source": [
    "df.groupby([\"interpret\",\"track\"])[\"rok\"].nunique().nlargest(20)"
   ]
  },
  {
   "cell_type": "markdown",
   "id": "f610fa31",
   "metadata": {},
   "source": [
    "### …týdnech"
   ]
  },
  {
   "cell_type": "code",
   "execution_count": 162,
   "id": "c0403d8c",
   "metadata": {},
   "outputs": [
    {
     "data": {
      "text/plain": [
       "interpret                          track                              \n",
       "Karel Gott/Charlotte Ella Gottová  Srdce nehasnou                         179\n",
       "Mirai                              Když nemůžeš, tak přidej               175\n",
       "Mandrage                           Motýli                                 169\n",
       "Michal Hrůza                       Pro Emu                                164\n",
       "Mirai                              Chci tančit                            150\n",
       "Marek Ztracený                     Naše cesty                             149\n",
       "Mirai                              OTCHI                                  140\n",
       "Slza                               Na srdci (feat. Celeste Buckingham)    139\n",
       "Chinaski                           Láska a data                           137\n",
       "Marek Ztracený                     Tak se nezlob (Podpantoflák)           133\n",
       "Kelly Clarkson                     Stronger (What Doesn´t Kill You)       129\n",
       "O5 & Radeček                       BRA3                                   128\n",
       "The Weeknd                         Blinding Lights                        128\n",
       "Kryštof                            Hned teď (pojď být světlometem)        122\n",
       "Shawn Mendes & Camila Cabello      Senorita                               122\n",
       "Lewis Capaldi                      Before You Go                          121\n",
       "Alvaro Soler                       La Cintura                             120\n",
       "Ph Electro                         Stereo Mexico                          120\n",
       "Train                              Drive By                               120\n",
       "Mirai                              Anděl                                  119\n",
       "Olga Lounová                       Jsem optimista                         119\n",
       "Chinaski                           Potkal jsem tě po letech               118\n",
       "Marek Ztracený                     To se mi líbí                          118\n",
       "Pharrell Williams                  Happy                                  117\n",
       "Enrique Iglesias & Wisin           Duele el Corazon                       115\n",
       "Jelen                              Ještě jednu noc                        114\n",
       "Sigma                              Nobody To Love                         113\n",
       "Onerepublic                        Counting Stars                         112\n",
       "Xindl X                            Popelka                                111\n",
       "Ava Max                            Kings & Queens                         110\n",
       "Xindl X                            Dřevo                                  110\n",
       "Slza                               Bouře                                  109\n",
       "Imagine Dragons                    Bad Liar                               108\n",
       "Mirai                              I přes to všechno                      107\n",
       "Nelly Furtado                      Say It Right                           107\n",
       "Xindl X                            Na vodě                                106\n",
       "Coldplay                           Higher Power                           105\n",
       "Lumineers                          Ho Hey                                 105\n",
       "Jana Kirschner                     Pokoj v duši                           104\n",
       "Kid Laroi & Justin Bieber          Stay                                   104\n",
       "Lp                                 Girls Go Wild                          104\n",
       "Nelly Furtado                      All Good Things                        104\n",
       "Martin Garrix                      No Sleep (feat. Bonn)                  103\n",
       "Lenka Filipová/Lenny               Samotní nejsme nic                     102\n",
       "Katy Perry                         Hot ´N´ Cold                           101\n",
       "Slza                               Holomráz                               101\n",
       "Kryštof                            Naviděnou                              100\n",
       "Last Goodnight                     Pictures Of You                        100\n",
       "September                          Cry For You                            100\n",
       "Get Far                            Radio                                   99\n",
       "Name: week, dtype: int64"
      ]
     },
     "execution_count": 162,
     "metadata": {},
     "output_type": "execute_result"
    }
   ],
   "source": [
    "df.groupby([\"interpret\",\"track\"])[\"week\"].nunique().nlargest(50)"
   ]
  },
  {
   "cell_type": "code",
   "execution_count": 163,
   "id": "0ff76550",
   "metadata": {},
   "outputs": [
    {
     "data": {
      "text/plain": [
       "interpret                       track                     \n",
       "Mirai                           Vedle tebe usínám             33\n",
       "Ed Sheeran                      Bad Habits                    31\n",
       "Mirai                           I přes to všechno             29\n",
       "Chinaski                        Slovenský klín                28\n",
       "Miley Cyrus                     Flowers                       28\n",
       "Ava Max                         Kings & Queens                26\n",
       "Xindl X & Mirka Miškechová      Cudzinka v tvojej zemi        25\n",
       "Jelen                           Ještě jednu noc               24\n",
       "Mirai                           Když nemůžeš, tak přidej      24\n",
       "Ava Max                         Sweet but Psycho              23\n",
       "Xindl X                         V blbým věku                  23\n",
       "Chinaski                        Láska a data                  22\n",
       "Kryštof                         Co bude pak                   22\n",
       "Chinaski                        Měl bych si boty zout         21\n",
       "Kryštof                         Tak nějak málo tančím         21\n",
       "Lewis Capaldi                   Forget Me                     21\n",
       "Mandrage                        Šrouby a matice               21\n",
       "Shawn Mendes & Camila Cabello   Senorita                      21\n",
       "Alesha Dixon                    Boy Does Nothing              20\n",
       "Kryštof & Tomáš Klus            Cesta                         19\n",
       "Nelly Furtado                   Say It Right                  19\n",
       "Adele                           Easy On Me                    18\n",
       "Chinaski                        Hlavolam                      18\n",
       "                                Potkal jsem tě po letech      18\n",
       "                                Venku je na nule              18\n",
       "Colbie Caillat                  Bubbly                        18\n",
       "Kryštof                         Šňůry                         18\n",
       "P!Nk                            U & UR Hand                   18\n",
       "Avicii & Aloe Blacc             Wake Me Up                    17\n",
       "Kryštof                         Zůstaň tu se mnou (Za sny)    17\n",
       "Milk & Sugar Vs. Vaya Con Dios  Hey (Nah Neh Nah)             17\n",
       "Robbie Williams                 She´s Madonna                 17\n",
       "Coldplay                        Higher Power                  16\n",
       "Don Omar Feat. Lucenzo          Danza Kuduro                  16\n",
       "Edward Maya/Vika Jigulina       Stereo Love                   16\n",
       "Get Far                         Radio                         16\n",
       "Kryštof                         Ty a já                       16\n",
       "Marlon Roudette                 New Age                       16\n",
       "Pharrell Williams               Happy                         16\n",
       "Pitbull & Ke$Ha                 Timber                        16\n",
       "Poetika                         Půlnoc                        16\n",
       "The Weeknd                      Blinding Lights               16\n",
       "Black Eyed Peas                 I Gotta Feeling               15\n",
       "Chinaski                        Kapradí                       15\n",
       "Duck Sauce                      Barbra Streisand              15\n",
       "George Ezra                     Budapest                      15\n",
       "                                Shotgun                       15\n",
       "Kryštof                         Rubikon                       15\n",
       "Lenka                           Everything At Once            15\n",
       "Lewis Capaldi                   Before You Go                 15\n",
       "Name: week, dtype: int64"
      ]
     },
     "execution_count": 163,
     "metadata": {},
     "output_type": "execute_result"
    }
   ],
   "source": [
    "df[df['pozice'] <= 5].groupby([\"interpret\",\"track\"])[\"week\"].nunique().nlargest(50)"
   ]
  },
  {
   "cell_type": "markdown",
   "id": "970aa562",
   "metadata": {},
   "source": [
    "## Interpreti s nejvíce písněmi"
   ]
  },
  {
   "cell_type": "markdown",
   "id": "8c57f965",
   "metadata": {},
   "source": [
    "### …v top 100"
   ]
  },
  {
   "cell_type": "code",
   "execution_count": 164,
   "id": "3ee721ba",
   "metadata": {},
   "outputs": [
    {
     "data": {
      "text/plain": [
       "interpret\n",
       "Chinaski            27\n",
       "Kryštof             26\n",
       "P!Nk                26\n",
       "Support Lesbiens    25\n",
       "Xindl X             24\n",
       "Ed Sheeran          23\n",
       "Marek Ztracený      23\n",
       "Rihanna             23\n",
       "Imagine Dragons     22\n",
       "Onerepublic         22\n",
       "Name: track, dtype: int64"
      ]
     },
     "execution_count": 164,
     "metadata": {},
     "output_type": "execute_result"
    }
   ],
   "source": [
    "df.groupby(\"interpret\")[\"track\"].nunique().nlargest(10)"
   ]
  },
  {
   "cell_type": "markdown",
   "id": "e30696aa",
   "metadata": {},
   "source": [
    "### …v top 10"
   ]
  },
  {
   "cell_type": "code",
   "execution_count": 165,
   "id": "5766f9ab",
   "metadata": {},
   "outputs": [
    {
     "data": {
      "text/plain": [
       "interpret\n",
       "P!Nk               20\n",
       "Chinaski           19\n",
       "Kryštof            19\n",
       "Ed Sheeran         14\n",
       "Imagine Dragons    14\n",
       "Marek Ztracený     14\n",
       "Mirai              14\n",
       "Rihanna            13\n",
       "Lady Gaga          11\n",
       "Katy Perry         10\n",
       "Name: track, dtype: int64"
      ]
     },
     "execution_count": 165,
     "metadata": {},
     "output_type": "execute_result"
    }
   ],
   "source": [
    "df[df['pozice'] <= 10].groupby(\"interpret\")[\"track\"].nunique().nlargest(10)"
   ]
  },
  {
   "cell_type": "markdown",
   "id": "4cac8cd1",
   "metadata": {},
   "source": [
    "## Letos jsem to opravdu nečekal"
   ]
  },
  {
   "cell_type": "code",
   "execution_count": 166,
   "id": "e2b76456",
   "metadata": {},
   "outputs": [
    {
     "data": {
      "text/plain": [
       "<Axes: xlabel='rok'>"
      ]
     },
     "execution_count": 166,
     "metadata": {},
     "output_type": "execute_result"
    },
    {
     "data": {
      "image/png": "[encoded data removed]",
      "text/plain": [
       "<Figure size 432x288 with 1 Axes>"
      ]
     },
     "metadata": {
      "needs_background": "light"
     },
     "output_type": "display_data"
    }
   ],
   "source": [
    "df[df['interpret'].str.lower().str.contains('gott',na=False)].groupby(['rok'])['track'].nunique().plot.bar()"
   ]
  },
  {
   "cell_type": "code",
   "execution_count": 167,
   "id": "a84d0c18",
   "metadata": {},
   "outputs": [
    {
     "data": {
      "text/plain": [
       "<Axes: xlabel='rok'>"
      ]
     },
     "execution_count": 167,
     "metadata": {},
     "output_type": "execute_result"
    },
    {
     "data": {
      "image/png": "[encoded data removed]",
      "text/plain": [
       "<Figure size 432x288 with 1 Axes>"
      ]
     },
     "metadata": {
      "needs_background": "light"
     },
     "output_type": "display_data"
    }
   ],
   "source": [
    "df[df['interpret'].str.lower().str.contains('žbirk',na=False)].groupby(['rok'])['track'].nunique().plot.bar()"
   ]
  },
  {
   "cell_type": "markdown",
   "id": "c9e44a1f",
   "metadata": {},
   "source": [
    "## Vánoční písně"
   ]
  },
  {
   "cell_type": "code",
   "execution_count": 168,
   "id": "987171c4",
   "metadata": {},
   "outputs": [],
   "source": [
    "dfm = pd.read_csv(os.path.join(\"data\",\"CZ_RADIO_TOP_100_mesicni.csv\"))"
   ]
  },
  {
   "cell_type": "code",
   "execution_count": 169,
   "id": "d17b02e8",
   "metadata": {},
   "outputs": [
    {
     "data": {
      "text/plain": [
       "track                                            interpret                        \n",
       "Vánoce na míru                                   Ewa Farna                            5.0\n",
       "Půlnoční                                         Václav Neckář & Umakart              5.0\n",
       "Last Christmas                                   Wham!                                5.0\n",
       "Sliby se maj plnit o Vánocích                    Janek Ledecký                        4.0\n",
       "Christmas Is All Around                          Billy Mack                           4.0\n",
       "All I Want For Christmas Is You                  Mariah Carey                         3.0\n",
       "Happy Xmas (War Is Over)                         John Lennon                          3.0\n",
       "Medvídek                                         Lucie                                2.0\n",
       "Thank God It´s Christmas                         Queen                                2.0\n",
       "Merry Christmas                                  Ed Sheeran & Elton John              2.0\n",
       "Vánoční                                          Kryštof/Karel Gott                   1.5\n",
       "Shake                                            L.L.A.M.A & Ne-Yo & Carmen Deleon    1.0\n",
       "La camisa negra                                  Juanes                               1.0\n",
       "Window Shopper                                   50 Cent                              1.0\n",
       "Far Away                                         Nickelback                           1.0\n",
       "Wild (feat. Chelcee Grimes, TINI & Jhay Cortez)  Jonas Blue                           1.0\n",
       "One in a Million                                 Bebe Rexha & David Guetta            1.0\n",
       "Fado                                             Milky Chance                         1.0\n",
       "One Right Now                                    Post Malone & The Weeknd             1.0\n",
       "Wisemen                                          James Blunt                          1.0\n",
       "dtype: float64"
      ]
     },
     "execution_count": 169,
     "metadata": {},
     "output_type": "execute_result"
    }
   ],
   "source": [
    "pd.Series(dfm.groupby(['track','interpret'])['rok'].nunique() / dfm.groupby(['track','interpret'])['mesic'].nunique()).sort_values(ascending=False).head(20)"
   ]
  },
  {
   "cell_type": "code",
   "execution_count": 170,
   "id": "f14f2370",
   "metadata": {},
   "outputs": [],
   "source": [
    "vanocni = ['Last Christmas','Christmas Is All Around','All I Want For Christmas Is You','Půlnoční','Sliby se maj plnit o Vánocích','Happy Xmas (War Is Over)','Thank God It´s Christmas','Christmas Is All Around','Merry Christmas','Vánoční']"
   ]
  },
  {
   "cell_type": "code",
   "execution_count": 171,
   "id": "8348a7a4",
   "metadata": {},
   "outputs": [
    {
     "data": {
      "text/plain": [
       "<Axes: xlabel='tyden'>"
      ]
     },
     "execution_count": 171,
     "metadata": {},
     "output_type": "execute_result"
    },
    {
     "data": {
      "image/png": "[encoded data removed]",
      "text/plain": [
       "<Figure size 432x288 with 1 Axes>"
      ]
     },
     "metadata": {
      "needs_background": "light"
     },
     "output_type": "display_data"
    }
   ],
   "source": [
    "df[df['track'].isin(vanocni)].groupby(\"tyden\")['rok'].nunique().plot.bar()"
   ]
  },
  {
   "cell_type": "markdown",
   "id": "587185e1",
   "metadata": {},
   "source": [
    "43 = konec října  \n",
    "48 = konec listopadu"
   ]
  },
  {
   "cell_type": "markdown",
   "id": "2957cb6e",
   "metadata": {},
   "source": [
    "todo: co se na Vánoce nehraje"
   ]
  },
  {
   "cell_type": "code",
   "execution_count": 172,
   "id": "3ddd1eed",
   "metadata": {},
   "outputs": [
    {
     "data": {
      "text/plain": [
       "interpret                track                          \n",
       "Wham!                    Last Christmas                     2008\n",
       "Billy Mack               Christmas Is All Around            2011\n",
       "Janek Ledecký            Sliby se maj plnit o Vánocích      2011\n",
       "Mariah Carey             All I Want For Christmas Is You    2011\n",
       "Václav Neckář & Umakart  Půlnoční                           2011\n",
       "John Lennon              Happy Xmas (War Is Over)           2012\n",
       "Queen                    Thank God It´s Christmas           2012\n",
       "Jelen                    Vánoční                            2017\n",
       "Natálie Grossová         Vánoční                            2017\n",
       "Kryštof/Karel Gott       Vánoční                            2020\n",
       "Ed Sheeran & Elton John  Merry Christmas                    2021\n",
       "Name: rok, dtype: int64"
      ]
     },
     "execution_count": 172,
     "metadata": {},
     "output_type": "execute_result"
    }
   ],
   "source": [
    "df[df['track'].isin(vanocni)].groupby(['interpret','track'])['rok'].min().nsmallest(50)"
   ]
  },
  {
   "cell_type": "markdown",
   "id": "6440d81c",
   "metadata": {},
   "source": [
    "## Co mám rád"
   ]
  },
  {
   "cell_type": "code",
   "execution_count": 213,
   "id": "ecb9e09f",
   "metadata": {},
   "outputs": [
    {
     "data": {
      "text/html": [
       "<div>\n",
       "<style scoped>\n",
       "    .dataframe tbody tr th:only-of-type {\n",
       "        vertical-align: middle;\n",
       "    }\n",
       "\n",
       "    .dataframe tbody tr th {\n",
       "        vertical-align: top;\n",
       "    }\n",
       "\n",
       "    .dataframe thead th {\n",
       "        text-align: right;\n",
       "    }\n",
       "</style>\n",
       "<table border=\"1\" class=\"dataframe\">\n",
       "  <thead>\n",
       "    <tr style=\"text-align: right;\">\n",
       "      <th></th>\n",
       "      <th>Unnamed: 0</th>\n",
       "      <th>hitparada</th>\n",
       "      <th>rok</th>\n",
       "      <th>tyden</th>\n",
       "      <th>pozice</th>\n",
       "      <th>track</th>\n",
       "      <th>interpret</th>\n",
       "      <th>interpret_hlavni</th>\n",
       "      <th>vydavatel</th>\n",
       "      <th>week</th>\n",
       "    </tr>\n",
       "  </thead>\n",
       "  <tbody>\n",
       "    <tr>\n",
       "      <th>52465</th>\n",
       "      <td>52565</td>\n",
       "      <td>CZ - RADIO - TOP 100</td>\n",
       "      <td>2016</td>\n",
       "      <td>14</td>\n",
       "      <td>66</td>\n",
       "      <td>The Less I Know The Better</td>\n",
       "      <td>Tame Impala</td>\n",
       "      <td>Tame Impala</td>\n",
       "      <td>Universal Music</td>\n",
       "      <td>2016-14</td>\n",
       "    </tr>\n",
       "    <tr>\n",
       "      <th>52657</th>\n",
       "      <td>52757</td>\n",
       "      <td>CZ - RADIO - TOP 100</td>\n",
       "      <td>2016</td>\n",
       "      <td>16</td>\n",
       "      <td>58</td>\n",
       "      <td>The Less I Know The Better</td>\n",
       "      <td>Tame Impala</td>\n",
       "      <td>Tame Impala</td>\n",
       "      <td>Universal Music</td>\n",
       "      <td>2016-16</td>\n",
       "    </tr>\n",
       "    <tr>\n",
       "      <th>52754</th>\n",
       "      <td>52854</td>\n",
       "      <td>CZ - RADIO - TOP 100</td>\n",
       "      <td>2016</td>\n",
       "      <td>17</td>\n",
       "      <td>55</td>\n",
       "      <td>The Less I Know The Better</td>\n",
       "      <td>Tame Impala</td>\n",
       "      <td>Tame Impala</td>\n",
       "      <td>Universal Music</td>\n",
       "      <td>2016-17</td>\n",
       "    </tr>\n",
       "    <tr>\n",
       "      <th>52859</th>\n",
       "      <td>52959</td>\n",
       "      <td>CZ - RADIO - TOP 100</td>\n",
       "      <td>2016</td>\n",
       "      <td>18</td>\n",
       "      <td>60</td>\n",
       "      <td>The Less I Know The Better</td>\n",
       "      <td>Tame Impala</td>\n",
       "      <td>Tame Impala</td>\n",
       "      <td>Universal Music</td>\n",
       "      <td>2016-18</td>\n",
       "    </tr>\n",
       "    <tr>\n",
       "      <th>52963</th>\n",
       "      <td>53063</td>\n",
       "      <td>CZ - RADIO - TOP 100</td>\n",
       "      <td>2016</td>\n",
       "      <td>19</td>\n",
       "      <td>64</td>\n",
       "      <td>The Less I Know The Better</td>\n",
       "      <td>Tame Impala</td>\n",
       "      <td>Tame Impala</td>\n",
       "      <td>Universal Music</td>\n",
       "      <td>2016-19</td>\n",
       "    </tr>\n",
       "  </tbody>\n",
       "</table>\n",
       "</div>"
      ],
      "text/plain": [
       "       Unnamed: 0             hitparada   rok tyden  pozice  \\\n",
       "52465       52565  CZ - RADIO - TOP 100  2016    14      66   \n",
       "52657       52757  CZ - RADIO - TOP 100  2016    16      58   \n",
       "52754       52854  CZ - RADIO - TOP 100  2016    17      55   \n",
       "52859       52959  CZ - RADIO - TOP 100  2016    18      60   \n",
       "52963       53063  CZ - RADIO - TOP 100  2016    19      64   \n",
       "\n",
       "                            track    interpret interpret_hlavni  \\\n",
       "52465  The Less I Know The Better  Tame Impala      Tame Impala   \n",
       "52657  The Less I Know The Better  Tame Impala      Tame Impala   \n",
       "52754  The Less I Know The Better  Tame Impala      Tame Impala   \n",
       "52859  The Less I Know The Better  Tame Impala      Tame Impala   \n",
       "52963  The Less I Know The Better  Tame Impala      Tame Impala   \n",
       "\n",
       "             vydavatel     week  \n",
       "52465  Universal Music  2016-14  \n",
       "52657  Universal Music  2016-16  \n",
       "52754  Universal Music  2016-17  \n",
       "52859  Universal Music  2016-18  \n",
       "52963  Universal Music  2016-19  "
      ]
     },
     "execution_count": 213,
     "metadata": {},
     "output_type": "execute_result"
    }
   ],
   "source": [
    "df[df['interpret'].str.lower().str.contains('impala',na=False)]"
   ]
  },
  {
   "cell_type": "code",
   "execution_count": 218,
   "id": "24097fa3",
   "metadata": {},
   "outputs": [
    {
     "data": {
      "text/html": [
       "<div>\n",
       "<style scoped>\n",
       "    .dataframe tbody tr th:only-of-type {\n",
       "        vertical-align: middle;\n",
       "    }\n",
       "\n",
       "    .dataframe tbody tr th {\n",
       "        vertical-align: top;\n",
       "    }\n",
       "\n",
       "    .dataframe thead th {\n",
       "        text-align: right;\n",
       "    }\n",
       "</style>\n",
       "<table border=\"1\" class=\"dataframe\">\n",
       "  <thead>\n",
       "    <tr style=\"text-align: right;\">\n",
       "      <th></th>\n",
       "      <th>Unnamed: 0</th>\n",
       "      <th>hitparada</th>\n",
       "      <th>rok</th>\n",
       "      <th>tyden</th>\n",
       "      <th>pozice</th>\n",
       "      <th>track</th>\n",
       "      <th>interpret</th>\n",
       "      <th>interpret_hlavni</th>\n",
       "      <th>vydavatel</th>\n",
       "      <th>week</th>\n",
       "    </tr>\n",
       "  </thead>\n",
       "  <tbody>\n",
       "    <tr>\n",
       "      <th>50</th>\n",
       "      <td>150</td>\n",
       "      <td>CZ - RADIO - TOP 100</td>\n",
       "      <td>2006</td>\n",
       "      <td>01</td>\n",
       "      <td>51</td>\n",
       "      <td>Galvanize</td>\n",
       "      <td>Chemical Brothers</td>\n",
       "      <td>Chemical Brothers</td>\n",
       "      <td>Warner Music</td>\n",
       "      <td>2006-01</td>\n",
       "    </tr>\n",
       "    <tr>\n",
       "      <th>150</th>\n",
       "      <td>250</td>\n",
       "      <td>CZ - RADIO - TOP 100</td>\n",
       "      <td>2006</td>\n",
       "      <td>02</td>\n",
       "      <td>51</td>\n",
       "      <td>Galvanize</td>\n",
       "      <td>Chemical Brothers</td>\n",
       "      <td>Chemical Brothers</td>\n",
       "      <td>Warner Music</td>\n",
       "      <td>2006-02</td>\n",
       "    </tr>\n",
       "    <tr>\n",
       "      <th>263</th>\n",
       "      <td>363</td>\n",
       "      <td>CZ - RADIO - TOP 100</td>\n",
       "      <td>2006</td>\n",
       "      <td>03</td>\n",
       "      <td>64</td>\n",
       "      <td>Galvanize</td>\n",
       "      <td>Chemical Brothers</td>\n",
       "      <td>Chemical Brothers</td>\n",
       "      <td>Warner Music</td>\n",
       "      <td>2006-03</td>\n",
       "    </tr>\n",
       "    <tr>\n",
       "      <th>377</th>\n",
       "      <td>477</td>\n",
       "      <td>CZ - RADIO - TOP 100</td>\n",
       "      <td>2006</td>\n",
       "      <td>04</td>\n",
       "      <td>78</td>\n",
       "      <td>Galvanize</td>\n",
       "      <td>Chemical Brothers</td>\n",
       "      <td>Chemical Brothers</td>\n",
       "      <td>Warner Music</td>\n",
       "      <td>2006-04</td>\n",
       "    </tr>\n",
       "    <tr>\n",
       "      <th>580</th>\n",
       "      <td>680</td>\n",
       "      <td>CZ - RADIO - TOP 100</td>\n",
       "      <td>2006</td>\n",
       "      <td>06</td>\n",
       "      <td>81</td>\n",
       "      <td>Galvanize</td>\n",
       "      <td>Chemical Brothers</td>\n",
       "      <td>Chemical Brothers</td>\n",
       "      <td>Warner Music</td>\n",
       "      <td>2006-06</td>\n",
       "    </tr>\n",
       "    <tr>\n",
       "      <th>682</th>\n",
       "      <td>782</td>\n",
       "      <td>CZ - RADIO - TOP 100</td>\n",
       "      <td>2006</td>\n",
       "      <td>07</td>\n",
       "      <td>83</td>\n",
       "      <td>Galvanize</td>\n",
       "      <td>Chemical Brothers</td>\n",
       "      <td>Chemical Brothers</td>\n",
       "      <td>Warner Music</td>\n",
       "      <td>2006-07</td>\n",
       "    </tr>\n",
       "    <tr>\n",
       "      <th>774</th>\n",
       "      <td>874</td>\n",
       "      <td>CZ - RADIO - TOP 100</td>\n",
       "      <td>2006</td>\n",
       "      <td>08</td>\n",
       "      <td>75</td>\n",
       "      <td>Galvanize</td>\n",
       "      <td>Chemical Brothers</td>\n",
       "      <td>Chemical Brothers</td>\n",
       "      <td>Warner Music</td>\n",
       "      <td>2006-08</td>\n",
       "    </tr>\n",
       "    <tr>\n",
       "      <th>857</th>\n",
       "      <td>957</td>\n",
       "      <td>CZ - RADIO - TOP 100</td>\n",
       "      <td>2006</td>\n",
       "      <td>09</td>\n",
       "      <td>58</td>\n",
       "      <td>Galvanize</td>\n",
       "      <td>Chemical Brothers</td>\n",
       "      <td>Chemical Brothers</td>\n",
       "      <td>Warner Music</td>\n",
       "      <td>2006-09</td>\n",
       "    </tr>\n",
       "    <tr>\n",
       "      <th>1172</th>\n",
       "      <td>1272</td>\n",
       "      <td>CZ - RADIO - TOP 100</td>\n",
       "      <td>2006</td>\n",
       "      <td>12</td>\n",
       "      <td>73</td>\n",
       "      <td>Galvanize</td>\n",
       "      <td>Chemical Brothers</td>\n",
       "      <td>Chemical Brothers</td>\n",
       "      <td>Warner Music</td>\n",
       "      <td>2006-12</td>\n",
       "    </tr>\n",
       "    <tr>\n",
       "      <th>1283</th>\n",
       "      <td>1383</td>\n",
       "      <td>CZ - RADIO - TOP 100</td>\n",
       "      <td>2006</td>\n",
       "      <td>13</td>\n",
       "      <td>84</td>\n",
       "      <td>Galvanize</td>\n",
       "      <td>Chemical Brothers</td>\n",
       "      <td>Chemical Brothers</td>\n",
       "      <td>Warner Music</td>\n",
       "      <td>2006-13</td>\n",
       "    </tr>\n",
       "    <tr>\n",
       "      <th>1484</th>\n",
       "      <td>1584</td>\n",
       "      <td>CZ - RADIO - TOP 100</td>\n",
       "      <td>2006</td>\n",
       "      <td>15</td>\n",
       "      <td>85</td>\n",
       "      <td>Galvanize</td>\n",
       "      <td>Chemical Brothers</td>\n",
       "      <td>Chemical Brothers</td>\n",
       "      <td>Warner Music</td>\n",
       "      <td>2006-15</td>\n",
       "    </tr>\n",
       "    <tr>\n",
       "      <th>1897</th>\n",
       "      <td>1997</td>\n",
       "      <td>CZ - RADIO - TOP 100</td>\n",
       "      <td>2006</td>\n",
       "      <td>19</td>\n",
       "      <td>98</td>\n",
       "      <td>Galvanize</td>\n",
       "      <td>Chemical Brothers</td>\n",
       "      <td>Chemical Brothers</td>\n",
       "      <td>Warner Music</td>\n",
       "      <td>2006-19</td>\n",
       "    </tr>\n",
       "    <tr>\n",
       "      <th>2479</th>\n",
       "      <td>2579</td>\n",
       "      <td>CZ - RADIO - TOP 100</td>\n",
       "      <td>2006</td>\n",
       "      <td>25</td>\n",
       "      <td>80</td>\n",
       "      <td>Galvanize</td>\n",
       "      <td>Chemical Brothers</td>\n",
       "      <td>Chemical Brothers</td>\n",
       "      <td>Warner Music</td>\n",
       "      <td>2006-25</td>\n",
       "    </tr>\n",
       "    <tr>\n",
       "      <th>3596</th>\n",
       "      <td>3696</td>\n",
       "      <td>CZ - RADIO - TOP 100</td>\n",
       "      <td>2006</td>\n",
       "      <td>36</td>\n",
       "      <td>97</td>\n",
       "      <td>Galvanize</td>\n",
       "      <td>Chemical Brothers</td>\n",
       "      <td>Chemical Brothers</td>\n",
       "      <td>Warner Music</td>\n",
       "      <td>2006-36</td>\n",
       "    </tr>\n",
       "    <tr>\n",
       "      <th>4199</th>\n",
       "      <td>4299</td>\n",
       "      <td>CZ - RADIO - TOP 100</td>\n",
       "      <td>2006</td>\n",
       "      <td>42</td>\n",
       "      <td>100</td>\n",
       "      <td>Galvanize</td>\n",
       "      <td>Chemical Brothers</td>\n",
       "      <td>Chemical Brothers</td>\n",
       "      <td>Warner Music</td>\n",
       "      <td>2006-42</td>\n",
       "    </tr>\n",
       "  </tbody>\n",
       "</table>\n",
       "</div>"
      ],
      "text/plain": [
       "      Unnamed: 0             hitparada   rok tyden  pozice      track  \\\n",
       "50           150  CZ - RADIO - TOP 100  2006    01      51  Galvanize   \n",
       "150          250  CZ - RADIO - TOP 100  2006    02      51  Galvanize   \n",
       "263          363  CZ - RADIO - TOP 100  2006    03      64  Galvanize   \n",
       "377          477  CZ - RADIO - TOP 100  2006    04      78  Galvanize   \n",
       "580          680  CZ - RADIO - TOP 100  2006    06      81  Galvanize   \n",
       "682          782  CZ - RADIO - TOP 100  2006    07      83  Galvanize   \n",
       "774          874  CZ - RADIO - TOP 100  2006    08      75  Galvanize   \n",
       "857          957  CZ - RADIO - TOP 100  2006    09      58  Galvanize   \n",
       "1172        1272  CZ - RADIO - TOP 100  2006    12      73  Galvanize   \n",
       "1283        1383  CZ - RADIO - TOP 100  2006    13      84  Galvanize   \n",
       "1484        1584  CZ - RADIO - TOP 100  2006    15      85  Galvanize   \n",
       "1897        1997  CZ - RADIO - TOP 100  2006    19      98  Galvanize   \n",
       "2479        2579  CZ - RADIO - TOP 100  2006    25      80  Galvanize   \n",
       "3596        3696  CZ - RADIO - TOP 100  2006    36      97  Galvanize   \n",
       "4199        4299  CZ - RADIO - TOP 100  2006    42     100  Galvanize   \n",
       "\n",
       "              interpret   interpret_hlavni     vydavatel     week  \n",
       "50    Chemical Brothers  Chemical Brothers  Warner Music  2006-01  \n",
       "150   Chemical Brothers  Chemical Brothers  Warner Music  2006-02  \n",
       "263   Chemical Brothers  Chemical Brothers  Warner Music  2006-03  \n",
       "377   Chemical Brothers  Chemical Brothers  Warner Music  2006-04  \n",
       "580   Chemical Brothers  Chemical Brothers  Warner Music  2006-06  \n",
       "682   Chemical Brothers  Chemical Brothers  Warner Music  2006-07  \n",
       "774   Chemical Brothers  Chemical Brothers  Warner Music  2006-08  \n",
       "857   Chemical Brothers  Chemical Brothers  Warner Music  2006-09  \n",
       "1172  Chemical Brothers  Chemical Brothers  Warner Music  2006-12  \n",
       "1283  Chemical Brothers  Chemical Brothers  Warner Music  2006-13  \n",
       "1484  Chemical Brothers  Chemical Brothers  Warner Music  2006-15  \n",
       "1897  Chemical Brothers  Chemical Brothers  Warner Music  2006-19  \n",
       "2479  Chemical Brothers  Chemical Brothers  Warner Music  2006-25  \n",
       "3596  Chemical Brothers  Chemical Brothers  Warner Music  2006-36  \n",
       "4199  Chemical Brothers  Chemical Brothers  Warner Music  2006-42  "
      ]
     },
     "execution_count": 218,
     "metadata": {},
     "output_type": "execute_result"
    }
   ],
   "source": [
    "df[df['interpret'].str.lower().str.contains('chemical broth',na=False)]"
   ]
  },
  {
   "cell_type": "code",
   "execution_count": 219,
   "id": "ae8a4f4f",
   "metadata": {},
   "outputs": [
    {
     "data": {
      "text/html": [
       "<div>\n",
       "<style scoped>\n",
       "    .dataframe tbody tr th:only-of-type {\n",
       "        vertical-align: middle;\n",
       "    }\n",
       "\n",
       "    .dataframe tbody tr th {\n",
       "        vertical-align: top;\n",
       "    }\n",
       "\n",
       "    .dataframe thead th {\n",
       "        text-align: right;\n",
       "    }\n",
       "</style>\n",
       "<table border=\"1\" class=\"dataframe\">\n",
       "  <thead>\n",
       "    <tr style=\"text-align: right;\">\n",
       "      <th></th>\n",
       "      <th>Unnamed: 0</th>\n",
       "      <th>hitparada</th>\n",
       "      <th>rok</th>\n",
       "      <th>tyden</th>\n",
       "      <th>pozice</th>\n",
       "      <th>track</th>\n",
       "      <th>interpret</th>\n",
       "      <th>interpret_hlavni</th>\n",
       "      <th>vydavatel</th>\n",
       "      <th>week</th>\n",
       "    </tr>\n",
       "  </thead>\n",
       "  <tbody>\n",
       "  </tbody>\n",
       "</table>\n",
       "</div>"
      ],
      "text/plain": [
       "Empty DataFrame\n",
       "Columns: [Unnamed: 0, hitparada, rok, tyden, pozice, track, interpret, interpret_hlavni, vydavatel, week]\n",
       "Index: []"
      ]
     },
     "execution_count": 219,
     "metadata": {},
     "output_type": "execute_result"
    }
   ],
   "source": [
    "df[df['interpret'].str.lower().str.contains('nick cav',na=False)]"
   ]
  }
 ],
 "metadata": {
  "kernelspec": {
   "display_name": "Python 3 (ipykernel)",
   "language": "python",
   "name": "python3"
  },
  "language_info": {
   "codemirror_mode": {
    "name": "ipython",
    "version": 3
   },
   "file_extension": ".py",
   "mimetype": "text/x-python",
   "name": "python",
   "nbconvert_exporter": "python",
   "pygments_lexer": "ipython3",
   "version": "3.10.8"
  }
 },
 "nbformat": 4,
 "nbformat_minor": 5
}
