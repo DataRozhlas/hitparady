{
 "cells": [
  {
   "cell_type": "code",
   "execution_count": 157,
   "id": "1ee39c5b",
   "metadata": {},
   "outputs": [],
   "source": [
    "import os\n",
    "import pandas as pd"
   ]
  },
  {
   "cell_type": "code",
   "execution_count": 221,
   "id": "e6a95d3e",
   "metadata": {},
   "outputs": [],
   "source": [
    "df = pd.read_csv(os.path.join(\"data\",\"CZ_RADIO_TOP_100_tydeni.csv\"))"
   ]
  },
  {
   "cell_type": "code",
   "execution_count": 222,
   "id": "c1f41d63",
   "metadata": {},
   "outputs": [],
   "source": [
    "df['week'] = df.apply(lambda row: f\"\"\"{row[\"rok\"]}-{row[\"tyden\"]}\"\"\", axis=1)"
   ]
  },
  {
   "cell_type": "code",
   "execution_count": 223,
   "id": "eca9a5c1",
   "metadata": {},
   "outputs": [
    {
     "data": {
      "text/html": [
       "<div>\n",
       "<style scoped>\n",
       "    .dataframe tbody tr th:only-of-type {\n",
       "        vertical-align: middle;\n",
       "    }\n",
       "\n",
       "    .dataframe tbody tr th {\n",
       "        vertical-align: top;\n",
       "    }\n",
       "\n",
       "    .dataframe thead th {\n",
       "        text-align: right;\n",
       "    }\n",
       "</style>\n",
       "<table border=\"1\" class=\"dataframe\">\n",
       "  <thead>\n",
       "    <tr style=\"text-align: right;\">\n",
       "      <th></th>\n",
       "      <th>Unnamed: 0</th>\n",
       "      <th>hitparada</th>\n",
       "      <th>rok</th>\n",
       "      <th>tyden</th>\n",
       "      <th>pozice</th>\n",
       "      <th>track</th>\n",
       "      <th>interpret</th>\n",
       "      <th>interpret_hlavni</th>\n",
       "      <th>vydavatel</th>\n",
       "      <th>week</th>\n",
       "    </tr>\n",
       "  </thead>\n",
       "  <tbody>\n",
       "    <tr>\n",
       "      <th>22664</th>\n",
       "      <td>22764</td>\n",
       "      <td>CZ - RADIO - TOP 100</td>\n",
       "      <td>2010</td>\n",
       "      <td>21</td>\n",
       "      <td>65</td>\n",
       "      <td>Stonka</td>\n",
       "      <td>Kristina</td>\n",
       "      <td>Kristina</td>\n",
       "      <td>Universal Music</td>\n",
       "      <td>2010-21</td>\n",
       "    </tr>\n",
       "    <tr>\n",
       "      <th>28836</th>\n",
       "      <td>28936</td>\n",
       "      <td>CZ - RADIO - TOP 100</td>\n",
       "      <td>2011</td>\n",
       "      <td>33</td>\n",
       "      <td>37</td>\n",
       "      <td>DigiHrách</td>\n",
       "      <td>Kryštof / Xindl X</td>\n",
       "      <td>Kryštof</td>\n",
       "      <td>Warner Music</td>\n",
       "      <td>2011-33</td>\n",
       "    </tr>\n",
       "    <tr>\n",
       "      <th>4388</th>\n",
       "      <td>4488</td>\n",
       "      <td>CZ - RADIO - TOP 100</td>\n",
       "      <td>2006</td>\n",
       "      <td>44</td>\n",
       "      <td>89</td>\n",
       "      <td>Sorry</td>\n",
       "      <td>Madonna</td>\n",
       "      <td>Madonna</td>\n",
       "      <td>Warner Music</td>\n",
       "      <td>2006-44</td>\n",
       "    </tr>\n",
       "    <tr>\n",
       "      <th>21866</th>\n",
       "      <td>21966</td>\n",
       "      <td>CZ - RADIO - TOP 100</td>\n",
       "      <td>2010</td>\n",
       "      <td>13</td>\n",
       "      <td>67</td>\n",
       "      <td>Paparazzi</td>\n",
       "      <td>Lady Gaga</td>\n",
       "      <td>Lady Gaga</td>\n",
       "      <td>Universal Music</td>\n",
       "      <td>2010-13</td>\n",
       "    </tr>\n",
       "    <tr>\n",
       "      <th>84742</th>\n",
       "      <td>89942</td>\n",
       "      <td>CZ - RADIO - TOP 100</td>\n",
       "      <td>2022</td>\n",
       "      <td>31</td>\n",
       "      <td>43</td>\n",
       "      <td>Dvě srdce vejpůl</td>\n",
       "      <td>Chinaski</td>\n",
       "      <td>Chinaski</td>\n",
       "      <td>Brainzone</td>\n",
       "      <td>2022-31</td>\n",
       "    </tr>\n",
       "  </tbody>\n",
       "</table>\n",
       "</div>"
      ],
      "text/plain": [
       "       Unnamed: 0             hitparada   rok tyden  pozice             track  \\\n",
       "22664       22764  CZ - RADIO - TOP 100  2010    21      65            Stonka   \n",
       "28836       28936  CZ - RADIO - TOP 100  2011    33      37         DigiHrách   \n",
       "4388         4488  CZ - RADIO - TOP 100  2006    44      89             Sorry   \n",
       "21866       21966  CZ - RADIO - TOP 100  2010    13      67         Paparazzi   \n",
       "84742       89942  CZ - RADIO - TOP 100  2022    31      43  Dvě srdce vejpůl   \n",
       "\n",
       "               interpret interpret_hlavni        vydavatel     week  \n",
       "22664           Kristina         Kristina  Universal Music  2010-21  \n",
       "28836  Kryštof / Xindl X          Kryštof     Warner Music  2011-33  \n",
       "4388             Madonna          Madonna     Warner Music  2006-44  \n",
       "21866          Lady Gaga        Lady Gaga  Universal Music  2010-13  \n",
       "84742           Chinaski         Chinaski        Brainzone  2022-31  "
      ]
     },
     "execution_count": 223,
     "metadata": {},
     "output_type": "execute_result"
    }
   ],
   "source": [
    "df.sample(5)"
   ]
  },
  {
   "cell_type": "markdown",
   "id": "8a9fae0d",
   "metadata": {},
   "source": [
    "## Hudební diverzita"
   ]
  },
  {
   "cell_type": "code",
   "execution_count": 237,
   "id": "cf1a59b9",
   "metadata": {},
   "outputs": [
    {
     "data": {
      "text/plain": [
       "<Axes: xlabel='rok'>"
      ]
     },
     "execution_count": 237,
     "metadata": {},
     "output_type": "execute_result"
    },
    {
     "data": {
      "image/png": "[encoded data removed]",
      "text/plain": [
       "<Figure size 432x288 with 1 Axes>"
      ]
     },
     "metadata": {
      "needs_background": "light"
     },
     "output_type": "display_data"
    }
   ],
   "source": [
    "df.groupby('rok')['track'].nunique().plot.bar()"
   ]
  },
  {
   "cell_type": "code",
   "execution_count": 238,
   "id": "b9f88c29",
   "metadata": {},
   "outputs": [
    {
     "data": {
      "text/plain": [
       "<Axes: xlabel='rok'>"
      ]
     },
     "execution_count": 238,
     "metadata": {},
     "output_type": "execute_result"
    },
    {
     "data": {
      "image/png": "[encoded data removed]",
      "text/plain": [
       "<Figure size 432x288 with 1 Axes>"
      ]
     },
     "metadata": {
      "needs_background": "light"
     },
     "output_type": "display_data"
    }
   ],
   "source": [
    "df.groupby('rok')['interpret_hlavni'].nunique().plot.bar()"
   ]
  },
  {
   "cell_type": "code",
   "execution_count": 239,
   "id": "3936d59e",
   "metadata": {},
   "outputs": [
    {
     "data": {
      "text/plain": [
       "<Axes: xlabel='rok'>"
      ]
     },
     "execution_count": 239,
     "metadata": {},
     "output_type": "execute_result"
    },
    {
     "data": {
      "image/png": "[encoded data removed]",
      "text/plain": [
       "<Figure size 432x288 with 1 Axes>"
      ]
     },
     "metadata": {
      "needs_background": "light"
     },
     "output_type": "display_data"
    }
   ],
   "source": [
    "df.groupby('rok')['interpret'].nunique().plot.bar()"
   ]
  },
  {
   "cell_type": "code",
   "execution_count": 240,
   "id": "0654dfd1",
   "metadata": {},
   "outputs": [
    {
     "data": {
      "text/plain": [
       "<Axes: xlabel='rok'>"
      ]
     },
     "execution_count": 240,
     "metadata": {},
     "output_type": "execute_result"
    },
    {
     "data": {
      "image/png": "[encoded data removed]",
      "text/plain": [
       "<Figure size 432x288 with 1 Axes>"
      ]
     },
     "metadata": {
      "needs_background": "light"
     },
     "output_type": "display_data"
    }
   ],
   "source": [
    "df[df['pozice'] <= 10].groupby('rok')['track'].nunique().plot.bar()"
   ]
  },
  {
   "cell_type": "code",
   "execution_count": 241,
   "id": "9cd6fc8c",
   "metadata": {},
   "outputs": [
    {
     "data": {
      "text/plain": [
       "<Axes: xlabel='rok'>"
      ]
     },
     "execution_count": 241,
     "metadata": {},
     "output_type": "execute_result"
    },
    {
     "data": {
      "image/png": "[encoded data removed]",
      "text/plain": [
       "<Figure size 432x288 with 1 Axes>"
      ]
     },
     "metadata": {
      "needs_background": "light"
     },
     "output_type": "display_data"
    }
   ],
   "source": [
    "df[df['pozice'] <= 50].groupby('rok')['track'].nunique().plot.bar()"
   ]
  },
  {
   "cell_type": "markdown",
   "id": "ed8dd418",
   "metadata": {},
   "source": [
    "## Písně, které se objevily v nejvíce…"
   ]
  },
  {
   "cell_type": "markdown",
   "id": "f496eac3",
   "metadata": {},
   "source": [
    "### …letech"
   ]
  },
  {
   "cell_type": "code",
   "execution_count": 224,
   "id": "67c699bd",
   "metadata": {},
   "outputs": [
    {
     "data": {
      "text/plain": [
       "interpret                track                          \n",
       "Wham!                    Last Christmas                     12\n",
       "Billy Mack               Christmas Is All Around            11\n",
       "Mariah Carey             All I Want For Christmas Is You    11\n",
       "Václav Neckář & Umakart  Půlnoční                           11\n",
       "Janek Ledecký            Sliby se maj plnit o Vánocích      10\n",
       "John Lennon              Happy Xmas (War Is Over)           10\n",
       "Queen                    Thank God It´s Christmas           10\n",
       "Lucie                    Medvídek                            9\n",
       "Dan Bárta                Na nebi svítí                       7\n",
       "Guru Josh Project        Infinity 2008                       7\n",
       "Katy Perry               Hot ´N´ Cold                        7\n",
       "Mandrage                 Hledá se žena                       7\n",
       "Michal Hrůza             Pro Emu                             7\n",
       "Olga Lounová             Jsem optimista                      7\n",
       "All American Rejects     Gives You Hell                      6\n",
       "Amy Macdonald            This Is The Life                    6\n",
       "Band Aid Ii.             Do They Know It´s Christmas?        6\n",
       "Bruno Mars               Lazy Song                           6\n",
       "Chinaski                 Hvězdy nad hlavou                   6\n",
       "Coldplay                 Viva La Vida                        6\n",
       "Name: rok, dtype: int64"
      ]
     },
     "execution_count": 224,
     "metadata": {},
     "output_type": "execute_result"
    }
   ],
   "source": [
    "df.groupby([\"interpret\",\"track\"])[\"rok\"].nunique().nlargest(20)"
   ]
  },
  {
   "cell_type": "markdown",
   "id": "80c8386c",
   "metadata": {},
   "source": [
    "### …týdnech"
   ]
  },
  {
   "cell_type": "code",
   "execution_count": 225,
   "id": "b8d90552",
   "metadata": {},
   "outputs": [
    {
     "data": {
      "text/plain": [
       "interpret                          track                              \n",
       "Karel Gott/Charlotte Ella Gottová  Srdce nehasnou                         179\n",
       "Mirai                              Když nemůžeš, tak přidej               175\n",
       "Mandrage                           Motýli                                 169\n",
       "Michal Hrůza                       Pro Emu                                164\n",
       "Mirai                              Chci tančit                            150\n",
       "Marek Ztracený                     Naše cesty                             149\n",
       "Mirai                              OTCHI                                  140\n",
       "Slza                               Na srdci (feat. Celeste Buckingham)    139\n",
       "Chinaski                           Láska a data                           137\n",
       "Marek Ztracený                     Tak se nezlob (Podpantoflák)           133\n",
       "Kelly Clarkson                     Stronger (What Doesn´t Kill You)       129\n",
       "O5 & Radeček                       BRA3                                   128\n",
       "The Weeknd                         Blinding Lights                        128\n",
       "Kryštof                            Hned teď (pojď být světlometem)        122\n",
       "Shawn Mendes & Camila Cabello      Senorita                               122\n",
       "Lewis Capaldi                      Before You Go                          121\n",
       "Alvaro Soler                       La Cintura                             120\n",
       "Ph Electro                         Stereo Mexico                          120\n",
       "Train                              Drive By                               120\n",
       "Mirai                              Anděl                                  119\n",
       "Olga Lounová                       Jsem optimista                         119\n",
       "Chinaski                           Potkal jsem tě po letech               118\n",
       "Marek Ztracený                     To se mi líbí                          118\n",
       "Pharrell Williams                  Happy                                  117\n",
       "Enrique Iglesias & Wisin           Duele el Corazon                       115\n",
       "Jelen                              Ještě jednu noc                        114\n",
       "Sigma                              Nobody To Love                         113\n",
       "Onerepublic                        Counting Stars                         112\n",
       "Xindl X                            Popelka                                111\n",
       "Ava Max                            Kings & Queens                         110\n",
       "Xindl X                            Dřevo                                  110\n",
       "Slza                               Bouře                                  109\n",
       "Imagine Dragons                    Bad Liar                               108\n",
       "Mirai                              I přes to všechno                      107\n",
       "Nelly Furtado                      Say It Right                           107\n",
       "Xindl X                            Na vodě                                106\n",
       "Coldplay                           Higher Power                           105\n",
       "Lumineers                          Ho Hey                                 105\n",
       "Jana Kirschner                     Pokoj v duši                           104\n",
       "Kid Laroi & Justin Bieber          Stay                                   104\n",
       "Lp                                 Girls Go Wild                          104\n",
       "Nelly Furtado                      All Good Things                        104\n",
       "Martin Garrix                      No Sleep (feat. Bonn)                  103\n",
       "Lenka Filipová/Lenny               Samotní nejsme nic                     102\n",
       "Katy Perry                         Hot ´N´ Cold                           101\n",
       "Slza                               Holomráz                               101\n",
       "Kryštof                            Naviděnou                              100\n",
       "Last Goodnight                     Pictures Of You                        100\n",
       "September                          Cry For You                            100\n",
       "Get Far                            Radio                                   99\n",
       "Name: week, dtype: int64"
      ]
     },
     "execution_count": 225,
     "metadata": {},
     "output_type": "execute_result"
    }
   ],
   "source": [
    "df.groupby([\"interpret\",\"track\"])[\"week\"].nunique().nlargest(50)"
   ]
  },
  {
   "cell_type": "code",
   "execution_count": 226,
   "id": "d5bfe2eb",
   "metadata": {},
   "outputs": [
    {
     "data": {
      "text/plain": [
       "interpret                       track                     \n",
       "Mirai                           Vedle tebe usínám             33\n",
       "Ed Sheeran                      Bad Habits                    31\n",
       "Mirai                           I přes to všechno             29\n",
       "Chinaski                        Slovenský klín                28\n",
       "Miley Cyrus                     Flowers                       28\n",
       "Ava Max                         Kings & Queens                26\n",
       "Xindl X & Mirka Miškechová      Cudzinka v tvojej zemi        25\n",
       "Jelen                           Ještě jednu noc               24\n",
       "Mirai                           Když nemůžeš, tak přidej      24\n",
       "Ava Max                         Sweet but Psycho              23\n",
       "Xindl X                         V blbým věku                  23\n",
       "Chinaski                        Láska a data                  22\n",
       "Kryštof                         Co bude pak                   22\n",
       "Chinaski                        Měl bych si boty zout         21\n",
       "Kryštof                         Tak nějak málo tančím         21\n",
       "Lewis Capaldi                   Forget Me                     21\n",
       "Mandrage                        Šrouby a matice               21\n",
       "Shawn Mendes & Camila Cabello   Senorita                      21\n",
       "Alesha Dixon                    Boy Does Nothing              20\n",
       "Kryštof & Tomáš Klus            Cesta                         19\n",
       "Nelly Furtado                   Say It Right                  19\n",
       "Adele                           Easy On Me                    18\n",
       "Chinaski                        Hlavolam                      18\n",
       "                                Potkal jsem tě po letech      18\n",
       "                                Venku je na nule              18\n",
       "Colbie Caillat                  Bubbly                        18\n",
       "Kryštof                         Šňůry                         18\n",
       "P!Nk                            U & UR Hand                   18\n",
       "Avicii & Aloe Blacc             Wake Me Up                    17\n",
       "Kryštof                         Zůstaň tu se mnou (Za sny)    17\n",
       "Milk & Sugar Vs. Vaya Con Dios  Hey (Nah Neh Nah)             17\n",
       "Robbie Williams                 She´s Madonna                 17\n",
       "Coldplay                        Higher Power                  16\n",
       "Don Omar Feat. Lucenzo          Danza Kuduro                  16\n",
       "Edward Maya/Vika Jigulina       Stereo Love                   16\n",
       "Get Far                         Radio                         16\n",
       "Kryštof                         Ty a já                       16\n",
       "Marlon Roudette                 New Age                       16\n",
       "Pharrell Williams               Happy                         16\n",
       "Pitbull & Ke$Ha                 Timber                        16\n",
       "Poetika                         Půlnoc                        16\n",
       "The Weeknd                      Blinding Lights               16\n",
       "Black Eyed Peas                 I Gotta Feeling               15\n",
       "Chinaski                        Kapradí                       15\n",
       "Duck Sauce                      Barbra Streisand              15\n",
       "George Ezra                     Budapest                      15\n",
       "                                Shotgun                       15\n",
       "Kryštof                         Rubikon                       15\n",
       "Lenka                           Everything At Once            15\n",
       "Lewis Capaldi                   Before You Go                 15\n",
       "Name: week, dtype: int64"
      ]
     },
     "execution_count": 226,
     "metadata": {},
     "output_type": "execute_result"
    }
   ],
   "source": [
    "df[df['pozice'] <= 5].groupby([\"interpret\",\"track\"])[\"week\"].nunique().nlargest(50)"
   ]
  },
  {
   "cell_type": "markdown",
   "id": "fdcd33f8",
   "metadata": {},
   "source": [
    "## Interpreti s nejvíce písněmi"
   ]
  },
  {
   "cell_type": "markdown",
   "id": "ec24883c",
   "metadata": {},
   "source": [
    "### …v top 100"
   ]
  },
  {
   "cell_type": "code",
   "execution_count": 227,
   "id": "751ccbb3",
   "metadata": {},
   "outputs": [
    {
     "data": {
      "text/plain": [
       "interpret\n",
       "Chinaski            27\n",
       "Kryštof             26\n",
       "P!Nk                26\n",
       "Support Lesbiens    25\n",
       "Xindl X             24\n",
       "Ed Sheeran          23\n",
       "Marek Ztracený      23\n",
       "Rihanna             23\n",
       "Imagine Dragons     22\n",
       "Onerepublic         22\n",
       "Name: track, dtype: int64"
      ]
     },
     "execution_count": 227,
     "metadata": {},
     "output_type": "execute_result"
    }
   ],
   "source": [
    "df.groupby(\"interpret\")[\"track\"].nunique().nlargest(10)"
   ]
  },
  {
   "cell_type": "markdown",
   "id": "cd5d0cd8",
   "metadata": {},
   "source": [
    "### …v top 10"
   ]
  },
  {
   "cell_type": "code",
   "execution_count": 228,
   "id": "84aa0bf4",
   "metadata": {},
   "outputs": [
    {
     "data": {
      "text/plain": [
       "interpret\n",
       "P!Nk               20\n",
       "Chinaski           19\n",
       "Kryštof            19\n",
       "Ed Sheeran         14\n",
       "Imagine Dragons    14\n",
       "Marek Ztracený     14\n",
       "Mirai              14\n",
       "Rihanna            13\n",
       "Lady Gaga          11\n",
       "Katy Perry         10\n",
       "Name: track, dtype: int64"
      ]
     },
     "execution_count": 228,
     "metadata": {},
     "output_type": "execute_result"
    }
   ],
   "source": [
    "df[df['pozice'] <= 10].groupby(\"interpret\")[\"track\"].nunique().nlargest(10)"
   ]
  },
  {
   "cell_type": "markdown",
   "id": "5c778985",
   "metadata": {},
   "source": [
    "## Letos jsem to opravdu nečekal"
   ]
  },
  {
   "cell_type": "code",
   "execution_count": 229,
   "id": "20b53c77",
   "metadata": {},
   "outputs": [
    {
     "data": {
      "text/plain": [
       "<Axes: xlabel='rok'>"
      ]
     },
     "execution_count": 229,
     "metadata": {},
     "output_type": "execute_result"
    },
    {
     "data": {
      "image/png": "[encoded data removed]",
      "text/plain": [
       "<Figure size 432x288 with 1 Axes>"
      ]
     },
     "metadata": {
      "needs_background": "light"
     },
     "output_type": "display_data"
    }
   ],
   "source": [
    "df[df['interpret'].str.lower().str.contains('gott',na=False)].groupby(['rok'])['track'].nunique().plot.bar()"
   ]
  },
  {
   "cell_type": "code",
   "execution_count": 230,
   "id": "4a6cacea",
   "metadata": {},
   "outputs": [
    {
     "data": {
      "text/plain": [
       "<Axes: xlabel='rok'>"
      ]
     },
     "execution_count": 230,
     "metadata": {},
     "output_type": "execute_result"
    },
    {
     "data": {
      "image/png": "[encoded data removed]",
      "text/plain": [
       "<Figure size 432x288 with 1 Axes>"
      ]
     },
     "metadata": {
      "needs_background": "light"
     },
     "output_type": "display_data"
    }
   ],
   "source": [
    "df[df['interpret'].str.lower().str.contains('žbirk',na=False)].groupby(['rok'])['track'].nunique().plot.bar()"
   ]
  },
  {
   "cell_type": "markdown",
   "id": "0c31fdab",
   "metadata": {},
   "source": [
    "## Vánoční písně"
   ]
  },
  {
   "cell_type": "code",
   "execution_count": 168,
   "id": "41974fa4",
   "metadata": {},
   "outputs": [],
   "source": [
    "dfm = pd.read_csv(os.path.join(\"data\",\"CZ_RADIO_TOP_100_mesicni.csv\"))"
   ]
  },
  {
   "cell_type": "code",
   "execution_count": 169,
   "id": "ccd72228",
   "metadata": {},
   "outputs": [
    {
     "data": {
      "text/plain": [
       "track                                            interpret                        \n",
       "Vánoce na míru                                   Ewa Farna                            5.0\n",
       "Půlnoční                                         Václav Neckář & Umakart              5.0\n",
       "Last Christmas                                   Wham!                                5.0\n",
       "Sliby se maj plnit o Vánocích                    Janek Ledecký                        4.0\n",
       "Christmas Is All Around                          Billy Mack                           4.0\n",
       "All I Want For Christmas Is You                  Mariah Carey                         3.0\n",
       "Happy Xmas (War Is Over)                         John Lennon                          3.0\n",
       "Medvídek                                         Lucie                                2.0\n",
       "Thank God It´s Christmas                         Queen                                2.0\n",
       "Merry Christmas                                  Ed Sheeran & Elton John              2.0\n",
       "Vánoční                                          Kryštof/Karel Gott                   1.5\n",
       "Shake                                            L.L.A.M.A & Ne-Yo & Carmen Deleon    1.0\n",
       "La camisa negra                                  Juanes                               1.0\n",
       "Window Shopper                                   50 Cent                              1.0\n",
       "Far Away                                         Nickelback                           1.0\n",
       "Wild (feat. Chelcee Grimes, TINI & Jhay Cortez)  Jonas Blue                           1.0\n",
       "One in a Million                                 Bebe Rexha & David Guetta            1.0\n",
       "Fado                                             Milky Chance                         1.0\n",
       "One Right Now                                    Post Malone & The Weeknd             1.0\n",
       "Wisemen                                          James Blunt                          1.0\n",
       "dtype: float64"
      ]
     },
     "execution_count": 169,
     "metadata": {},
     "output_type": "execute_result"
    }
   ],
   "source": [
    "pd.Series(dfm.groupby(['track','interpret'])['rok'].nunique() / dfm.groupby(['track','interpret'])['mesic'].nunique()).sort_values(ascending=False).head(20)"
   ]
  },
  {
   "cell_type": "code",
   "execution_count": 170,
   "id": "38677c36",
   "metadata": {},
   "outputs": [],
   "source": [
    "vanocni = ['Last Christmas','Christmas Is All Around','All I Want For Christmas Is You','Půlnoční','Sliby se maj plnit o Vánocích','Happy Xmas (War Is Over)','Thank God It´s Christmas','Christmas Is All Around','Merry Christmas','Vánoční']"
   ]
  },
  {
   "cell_type": "code",
   "execution_count": 171,
   "id": "288004b5",
   "metadata": {},
   "outputs": [
    {
     "data": {
      "text/plain": [
       "<Axes: xlabel='tyden'>"
      ]
     },
     "execution_count": 171,
     "metadata": {},
     "output_type": "execute_result"
    },
    {
     "data": {
      "image/png": "[encoded data removed]",
      "text/plain": [
       "<Figure size 432x288 with 1 Axes>"
      ]
     },
     "metadata": {
      "needs_background": "light"
     },
     "output_type": "display_data"
    }
   ],
   "source": [
    "df[df['track'].isin(vanocni)].groupby(\"tyden\")['rok'].nunique().plot.bar()"
   ]
  },
  {
   "cell_type": "markdown",
   "id": "d71f0132",
   "metadata": {},
   "source": [
    "43 = konec října  \n",
    "48 = konec listopadu"
   ]
  },
  {
   "cell_type": "markdown",
   "id": "97c4d31d",
   "metadata": {},
   "source": [
    "todo: co se na Vánoce nehraje"
   ]
  },
  {
   "cell_type": "code",
   "execution_count": 232,
   "id": "027482a6",
   "metadata": {},
   "outputs": [
    {
     "data": {
      "text/plain": [
       "interpret                track                          \n",
       "Wham!                    Last Christmas                     2008\n",
       "Billy Mack               Christmas Is All Around            2011\n",
       "Janek Ledecký            Sliby se maj plnit o Vánocích      2011\n",
       "Mariah Carey             All I Want For Christmas Is You    2011\n",
       "Václav Neckář & Umakart  Půlnoční                           2011\n",
       "John Lennon              Happy Xmas (War Is Over)           2012\n",
       "Queen                    Thank God It´s Christmas           2012\n",
       "Jelen                    Vánoční                            2017\n",
       "Natálie Grossová         Vánoční                            2017\n",
       "Kryštof/Karel Gott       Vánoční                            2020\n",
       "Ed Sheeran & Elton John  Merry Christmas                    2021\n",
       "Name: rok, dtype: int64"
      ]
     },
     "execution_count": 232,
     "metadata": {},
     "output_type": "execute_result"
    }
   ],
   "source": [
    "df[df['track'].isin(vanocni)].groupby(['interpret','track'])['rok'].min().nsmallest(50)"
   ]
  },
  {
   "cell_type": "markdown",
   "id": "5a97f6ca",
   "metadata": {},
   "source": [
    "## Co mám rád"
   ]
  },
  {
   "cell_type": "code",
   "execution_count": 234,
   "id": "0eb42e91",
   "metadata": {},
   "outputs": [
    {
     "data": {
      "text/html": [
       "<div>\n",
       "<style scoped>\n",
       "    .dataframe tbody tr th:only-of-type {\n",
       "        vertical-align: middle;\n",
       "    }\n",
       "\n",
       "    .dataframe tbody tr th {\n",
       "        vertical-align: top;\n",
       "    }\n",
       "\n",
       "    .dataframe thead th {\n",
       "        text-align: right;\n",
       "    }\n",
       "</style>\n",
       "<table border=\"1\" class=\"dataframe\">\n",
       "  <thead>\n",
       "    <tr style=\"text-align: right;\">\n",
       "      <th></th>\n",
       "      <th>Unnamed: 0</th>\n",
       "      <th>hitparada</th>\n",
       "      <th>rok</th>\n",
       "      <th>tyden</th>\n",
       "      <th>pozice</th>\n",
       "      <th>track</th>\n",
       "      <th>interpret</th>\n",
       "      <th>interpret_hlavni</th>\n",
       "      <th>vydavatel</th>\n",
       "      <th>week</th>\n",
       "    </tr>\n",
       "  </thead>\n",
       "  <tbody>\n",
       "    <tr>\n",
       "      <th>3</th>\n",
       "      <td>103</td>\n",
       "      <td>CZ - RADIO - TOP 100</td>\n",
       "      <td>2006</td>\n",
       "      <td>01</td>\n",
       "      <td>4</td>\n",
       "      <td>Tripping</td>\n",
       "      <td>Robbie Williams</td>\n",
       "      <td>Robbie Williams</td>\n",
       "      <td>Warner Music</td>\n",
       "      <td>2006-01</td>\n",
       "    </tr>\n",
       "    <tr>\n",
       "      <th>102</th>\n",
       "      <td>202</td>\n",
       "      <td>CZ - RADIO - TOP 100</td>\n",
       "      <td>2006</td>\n",
       "      <td>02</td>\n",
       "      <td>3</td>\n",
       "      <td>Tripping</td>\n",
       "      <td>Robbie Williams</td>\n",
       "      <td>Robbie Williams</td>\n",
       "      <td>Warner Music</td>\n",
       "      <td>2006-02</td>\n",
       "    </tr>\n",
       "    <tr>\n",
       "      <th>203</th>\n",
       "      <td>303</td>\n",
       "      <td>CZ - RADIO - TOP 100</td>\n",
       "      <td>2006</td>\n",
       "      <td>03</td>\n",
       "      <td>4</td>\n",
       "      <td>Tripping</td>\n",
       "      <td>Robbie Williams</td>\n",
       "      <td>Robbie Williams</td>\n",
       "      <td>Warner Music</td>\n",
       "      <td>2006-03</td>\n",
       "    </tr>\n",
       "    <tr>\n",
       "      <th>311</th>\n",
       "      <td>411</td>\n",
       "      <td>CZ - RADIO - TOP 100</td>\n",
       "      <td>2006</td>\n",
       "      <td>04</td>\n",
       "      <td>12</td>\n",
       "      <td>Tripping</td>\n",
       "      <td>Robbie Williams</td>\n",
       "      <td>Robbie Williams</td>\n",
       "      <td>Warner Music</td>\n",
       "      <td>2006-04</td>\n",
       "    </tr>\n",
       "    <tr>\n",
       "      <th>324</th>\n",
       "      <td>424</td>\n",
       "      <td>CZ - RADIO - TOP 100</td>\n",
       "      <td>2006</td>\n",
       "      <td>04</td>\n",
       "      <td>25</td>\n",
       "      <td>Advertising Space</td>\n",
       "      <td>Robbie Williams</td>\n",
       "      <td>Robbie Williams</td>\n",
       "      <td>Warner Music</td>\n",
       "      <td>2006-04</td>\n",
       "    </tr>\n",
       "    <tr>\n",
       "      <th>...</th>\n",
       "      <td>...</td>\n",
       "      <td>...</td>\n",
       "      <td>...</td>\n",
       "      <td>...</td>\n",
       "      <td>...</td>\n",
       "      <td>...</td>\n",
       "      <td>...</td>\n",
       "      <td>...</td>\n",
       "      <td>...</td>\n",
       "      <td>...</td>\n",
       "    </tr>\n",
       "    <tr>\n",
       "      <th>84991</th>\n",
       "      <td>90191</td>\n",
       "      <td>CZ - RADIO - TOP 100</td>\n",
       "      <td>2022</td>\n",
       "      <td>33</td>\n",
       "      <td>92</td>\n",
       "      <td>Stay With Me</td>\n",
       "      <td>Calvin Harris &amp; J.Timberlake &amp; Halsey &amp; P.Will...</td>\n",
       "      <td>Calvin Harris</td>\n",
       "      <td>Sony Music</td>\n",
       "      <td>2022-33</td>\n",
       "    </tr>\n",
       "    <tr>\n",
       "      <th>85093</th>\n",
       "      <td>90293</td>\n",
       "      <td>CZ - RADIO - TOP 100</td>\n",
       "      <td>2022</td>\n",
       "      <td>34</td>\n",
       "      <td>94</td>\n",
       "      <td>Stay With Me</td>\n",
       "      <td>Calvin Harris &amp; J.Timberlake &amp; Halsey &amp; P.Will...</td>\n",
       "      <td>Calvin Harris</td>\n",
       "      <td>Sony Music</td>\n",
       "      <td>2022-34</td>\n",
       "    </tr>\n",
       "    <tr>\n",
       "      <th>85190</th>\n",
       "      <td>90390</td>\n",
       "      <td>CZ - RADIO - TOP 100</td>\n",
       "      <td>2022</td>\n",
       "      <td>35</td>\n",
       "      <td>91</td>\n",
       "      <td>Stay With Me</td>\n",
       "      <td>Calvin Harris &amp; J.Timberlake &amp; Halsey &amp; P.Will...</td>\n",
       "      <td>Calvin Harris</td>\n",
       "      <td>Sony Music</td>\n",
       "      <td>2022-35</td>\n",
       "    </tr>\n",
       "    <tr>\n",
       "      <th>85275</th>\n",
       "      <td>90475</td>\n",
       "      <td>CZ - RADIO - TOP 100</td>\n",
       "      <td>2022</td>\n",
       "      <td>36</td>\n",
       "      <td>76</td>\n",
       "      <td>Stay With Me</td>\n",
       "      <td>Calvin Harris &amp; J.Timberlake &amp; Halsey &amp; P.Will...</td>\n",
       "      <td>Calvin Harris</td>\n",
       "      <td>Sony Music</td>\n",
       "      <td>2022-36</td>\n",
       "    </tr>\n",
       "    <tr>\n",
       "      <th>85698</th>\n",
       "      <td>90898</td>\n",
       "      <td>CZ - RADIO - TOP 100</td>\n",
       "      <td>2022</td>\n",
       "      <td>40</td>\n",
       "      <td>99</td>\n",
       "      <td>Stay With Me</td>\n",
       "      <td>Calvin Harris &amp; J.Timberlake &amp; Halsey &amp; P.Will...</td>\n",
       "      <td>Calvin Harris</td>\n",
       "      <td>Sony Music</td>\n",
       "      <td>2022-40</td>\n",
       "    </tr>\n",
       "  </tbody>\n",
       "</table>\n",
       "<p>635 rows × 10 columns</p>\n",
       "</div>"
      ],
      "text/plain": [
       "       Unnamed: 0             hitparada   rok tyden  pozice  \\\n",
       "3             103  CZ - RADIO - TOP 100  2006    01       4   \n",
       "102           202  CZ - RADIO - TOP 100  2006    02       3   \n",
       "203           303  CZ - RADIO - TOP 100  2006    03       4   \n",
       "311           411  CZ - RADIO - TOP 100  2006    04      12   \n",
       "324           424  CZ - RADIO - TOP 100  2006    04      25   \n",
       "...           ...                   ...   ...   ...     ...   \n",
       "84991       90191  CZ - RADIO - TOP 100  2022    33      92   \n",
       "85093       90293  CZ - RADIO - TOP 100  2022    34      94   \n",
       "85190       90390  CZ - RADIO - TOP 100  2022    35      91   \n",
       "85275       90475  CZ - RADIO - TOP 100  2022    36      76   \n",
       "85698       90898  CZ - RADIO - TOP 100  2022    40      99   \n",
       "\n",
       "                   track                                          interpret  \\\n",
       "3               Tripping                                    Robbie Williams   \n",
       "102             Tripping                                    Robbie Williams   \n",
       "203             Tripping                                    Robbie Williams   \n",
       "311             Tripping                                    Robbie Williams   \n",
       "324    Advertising Space                                    Robbie Williams   \n",
       "...                  ...                                                ...   \n",
       "84991       Stay With Me  Calvin Harris & J.Timberlake & Halsey & P.Will...   \n",
       "85093       Stay With Me  Calvin Harris & J.Timberlake & Halsey & P.Will...   \n",
       "85190       Stay With Me  Calvin Harris & J.Timberlake & Halsey & P.Will...   \n",
       "85275       Stay With Me  Calvin Harris & J.Timberlake & Halsey & P.Will...   \n",
       "85698       Stay With Me  Calvin Harris & J.Timberlake & Halsey & P.Will...   \n",
       "\n",
       "      interpret_hlavni     vydavatel     week  \n",
       "3      Robbie Williams  Warner Music  2006-01  \n",
       "102    Robbie Williams  Warner Music  2006-02  \n",
       "203    Robbie Williams  Warner Music  2006-03  \n",
       "311    Robbie Williams  Warner Music  2006-04  \n",
       "324    Robbie Williams  Warner Music  2006-04  \n",
       "...                ...           ...      ...  \n",
       "84991    Calvin Harris    Sony Music  2022-33  \n",
       "85093    Calvin Harris    Sony Music  2022-34  \n",
       "85190    Calvin Harris    Sony Music  2022-35  \n",
       "85275    Calvin Harris    Sony Music  2022-36  \n",
       "85698    Calvin Harris    Sony Music  2022-40  \n",
       "\n",
       "[635 rows x 10 columns]"
      ]
     },
     "execution_count": 234,
     "metadata": {},
     "output_type": "execute_result"
    }
   ],
   "source": [
    "df[df['interpret'].str.lower().str.contains('williams',na=False)]"
   ]
  },
  {
   "cell_type": "code",
   "execution_count": 236,
   "id": "15850669",
   "metadata": {},
   "outputs": [
    {
     "data": {
      "text/html": [
       "<div>\n",
       "<style scoped>\n",
       "    .dataframe tbody tr th:only-of-type {\n",
       "        vertical-align: middle;\n",
       "    }\n",
       "\n",
       "    .dataframe tbody tr th {\n",
       "        vertical-align: top;\n",
       "    }\n",
       "\n",
       "    .dataframe thead th {\n",
       "        text-align: right;\n",
       "    }\n",
       "</style>\n",
       "<table border=\"1\" class=\"dataframe\">\n",
       "  <thead>\n",
       "    <tr style=\"text-align: right;\">\n",
       "      <th></th>\n",
       "      <th>Unnamed: 0</th>\n",
       "      <th>hitparada</th>\n",
       "      <th>rok</th>\n",
       "      <th>tyden</th>\n",
       "      <th>pozice</th>\n",
       "      <th>track</th>\n",
       "      <th>interpret</th>\n",
       "      <th>interpret_hlavni</th>\n",
       "      <th>vydavatel</th>\n",
       "      <th>week</th>\n",
       "    </tr>\n",
       "  </thead>\n",
       "  <tbody>\n",
       "    <tr>\n",
       "      <th>40845</th>\n",
       "      <td>40945</td>\n",
       "      <td>CZ - RADIO - TOP 100</td>\n",
       "      <td>2013</td>\n",
       "      <td>51</td>\n",
       "      <td>46</td>\n",
       "      <td>Happy</td>\n",
       "      <td>Pharrell Williams</td>\n",
       "      <td>Pharrell Williams</td>\n",
       "      <td>Sony Music</td>\n",
       "      <td>2013-51</td>\n",
       "    </tr>\n",
       "    <tr>\n",
       "      <th>40930</th>\n",
       "      <td>41030</td>\n",
       "      <td>CZ - RADIO - TOP 100</td>\n",
       "      <td>2014</td>\n",
       "      <td>01</td>\n",
       "      <td>31</td>\n",
       "      <td>Happy</td>\n",
       "      <td>Pharrell Williams</td>\n",
       "      <td>Pharrell Williams</td>\n",
       "      <td>Sony Music</td>\n",
       "      <td>2014-01</td>\n",
       "    </tr>\n",
       "    <tr>\n",
       "      <th>41026</th>\n",
       "      <td>41126</td>\n",
       "      <td>CZ - RADIO - TOP 100</td>\n",
       "      <td>2014</td>\n",
       "      <td>02</td>\n",
       "      <td>27</td>\n",
       "      <td>Happy</td>\n",
       "      <td>Pharrell Williams</td>\n",
       "      <td>Pharrell Williams</td>\n",
       "      <td>Sony Music</td>\n",
       "      <td>2014-02</td>\n",
       "    </tr>\n",
       "    <tr>\n",
       "      <th>41113</th>\n",
       "      <td>41213</td>\n",
       "      <td>CZ - RADIO - TOP 100</td>\n",
       "      <td>2014</td>\n",
       "      <td>03</td>\n",
       "      <td>14</td>\n",
       "      <td>Happy</td>\n",
       "      <td>Pharrell Williams</td>\n",
       "      <td>Pharrell Williams</td>\n",
       "      <td>Sony Music</td>\n",
       "      <td>2014-03</td>\n",
       "    </tr>\n",
       "    <tr>\n",
       "      <th>41210</th>\n",
       "      <td>41310</td>\n",
       "      <td>CZ - RADIO - TOP 100</td>\n",
       "      <td>2014</td>\n",
       "      <td>04</td>\n",
       "      <td>11</td>\n",
       "      <td>Happy</td>\n",
       "      <td>Pharrell Williams</td>\n",
       "      <td>Pharrell Williams</td>\n",
       "      <td>Sony Music</td>\n",
       "      <td>2014-04</td>\n",
       "    </tr>\n",
       "    <tr>\n",
       "      <th>...</th>\n",
       "      <td>...</td>\n",
       "      <td>...</td>\n",
       "      <td>...</td>\n",
       "      <td>...</td>\n",
       "      <td>...</td>\n",
       "      <td>...</td>\n",
       "      <td>...</td>\n",
       "      <td>...</td>\n",
       "      <td>...</td>\n",
       "      <td>...</td>\n",
       "    </tr>\n",
       "    <tr>\n",
       "      <th>61331</th>\n",
       "      <td>61431</td>\n",
       "      <td>CZ - RADIO - TOP 100</td>\n",
       "      <td>2017</td>\n",
       "      <td>52</td>\n",
       "      <td>32</td>\n",
       "      <td>Feels</td>\n",
       "      <td>Calvin Harris &amp; Pharrell Williams &amp; Katy Perry</td>\n",
       "      <td>Calvin Harris</td>\n",
       "      <td>Sony Music</td>\n",
       "      <td>2017-52</td>\n",
       "    </tr>\n",
       "    <tr>\n",
       "      <th>61441</th>\n",
       "      <td>61841</td>\n",
       "      <td>CZ - RADIO - TOP 100</td>\n",
       "      <td>2018</td>\n",
       "      <td>01</td>\n",
       "      <td>42</td>\n",
       "      <td>Feels</td>\n",
       "      <td>Calvin Harris &amp; Pharrell Williams &amp; Katy Perry</td>\n",
       "      <td>Calvin Harris</td>\n",
       "      <td>Sony Music</td>\n",
       "      <td>2018-01</td>\n",
       "    </tr>\n",
       "    <tr>\n",
       "      <th>61569</th>\n",
       "      <td>61969</td>\n",
       "      <td>CZ - RADIO - TOP 100</td>\n",
       "      <td>2018</td>\n",
       "      <td>02</td>\n",
       "      <td>70</td>\n",
       "      <td>Feels</td>\n",
       "      <td>Calvin Harris &amp; Pharrell Williams &amp; Katy Perry</td>\n",
       "      <td>Calvin Harris</td>\n",
       "      <td>Sony Music</td>\n",
       "      <td>2018-02</td>\n",
       "    </tr>\n",
       "    <tr>\n",
       "      <th>61685</th>\n",
       "      <td>62085</td>\n",
       "      <td>CZ - RADIO - TOP 100</td>\n",
       "      <td>2018</td>\n",
       "      <td>03</td>\n",
       "      <td>86</td>\n",
       "      <td>Feels</td>\n",
       "      <td>Calvin Harris &amp; Pharrell Williams &amp; Katy Perry</td>\n",
       "      <td>Calvin Harris</td>\n",
       "      <td>Sony Music</td>\n",
       "      <td>2018-03</td>\n",
       "    </tr>\n",
       "    <tr>\n",
       "      <th>61790</th>\n",
       "      <td>62190</td>\n",
       "      <td>CZ - RADIO - TOP 100</td>\n",
       "      <td>2018</td>\n",
       "      <td>04</td>\n",
       "      <td>91</td>\n",
       "      <td>Feels</td>\n",
       "      <td>Calvin Harris &amp; Pharrell Williams &amp; Katy Perry</td>\n",
       "      <td>Calvin Harris</td>\n",
       "      <td>Sony Music</td>\n",
       "      <td>2018-04</td>\n",
       "    </tr>\n",
       "  </tbody>\n",
       "</table>\n",
       "<p>189 rows × 10 columns</p>\n",
       "</div>"
      ],
      "text/plain": [
       "       Unnamed: 0             hitparada   rok tyden  pozice  track  \\\n",
       "40845       40945  CZ - RADIO - TOP 100  2013    51      46  Happy   \n",
       "40930       41030  CZ - RADIO - TOP 100  2014    01      31  Happy   \n",
       "41026       41126  CZ - RADIO - TOP 100  2014    02      27  Happy   \n",
       "41113       41213  CZ - RADIO - TOP 100  2014    03      14  Happy   \n",
       "41210       41310  CZ - RADIO - TOP 100  2014    04      11  Happy   \n",
       "...           ...                   ...   ...   ...     ...    ...   \n",
       "61331       61431  CZ - RADIO - TOP 100  2017    52      32  Feels   \n",
       "61441       61841  CZ - RADIO - TOP 100  2018    01      42  Feels   \n",
       "61569       61969  CZ - RADIO - TOP 100  2018    02      70  Feels   \n",
       "61685       62085  CZ - RADIO - TOP 100  2018    03      86  Feels   \n",
       "61790       62190  CZ - RADIO - TOP 100  2018    04      91  Feels   \n",
       "\n",
       "                                            interpret   interpret_hlavni  \\\n",
       "40845                               Pharrell Williams  Pharrell Williams   \n",
       "40930                               Pharrell Williams  Pharrell Williams   \n",
       "41026                               Pharrell Williams  Pharrell Williams   \n",
       "41113                               Pharrell Williams  Pharrell Williams   \n",
       "41210                               Pharrell Williams  Pharrell Williams   \n",
       "...                                               ...                ...   \n",
       "61331  Calvin Harris & Pharrell Williams & Katy Perry      Calvin Harris   \n",
       "61441  Calvin Harris & Pharrell Williams & Katy Perry      Calvin Harris   \n",
       "61569  Calvin Harris & Pharrell Williams & Katy Perry      Calvin Harris   \n",
       "61685  Calvin Harris & Pharrell Williams & Katy Perry      Calvin Harris   \n",
       "61790  Calvin Harris & Pharrell Williams & Katy Perry      Calvin Harris   \n",
       "\n",
       "        vydavatel     week  \n",
       "40845  Sony Music  2013-51  \n",
       "40930  Sony Music  2014-01  \n",
       "41026  Sony Music  2014-02  \n",
       "41113  Sony Music  2014-03  \n",
       "41210  Sony Music  2014-04  \n",
       "...           ...      ...  \n",
       "61331  Sony Music  2017-52  \n",
       "61441  Sony Music  2018-01  \n",
       "61569  Sony Music  2018-02  \n",
       "61685  Sony Music  2018-03  \n",
       "61790  Sony Music  2018-04  \n",
       "\n",
       "[189 rows x 10 columns]"
      ]
     },
     "execution_count": 236,
     "metadata": {},
     "output_type": "execute_result"
    }
   ],
   "source": [
    "df[df['interpret'].str.lower().str.contains('pharrell wi',na=False)]"
   ]
  },
  {
   "cell_type": "code",
   "execution_count": 219,
   "id": "d488e459",
   "metadata": {},
   "outputs": [
    {
     "data": {
      "text/html": [
       "<div>\n",
       "<style scoped>\n",
       "    .dataframe tbody tr th:only-of-type {\n",
       "        vertical-align: middle;\n",
       "    }\n",
       "\n",
       "    .dataframe tbody tr th {\n",
       "        vertical-align: top;\n",
       "    }\n",
       "\n",
       "    .dataframe thead th {\n",
       "        text-align: right;\n",
       "    }\n",
       "</style>\n",
       "<table border=\"1\" class=\"dataframe\">\n",
       "  <thead>\n",
       "    <tr style=\"text-align: right;\">\n",
       "      <th></th>\n",
       "      <th>Unnamed: 0</th>\n",
       "      <th>hitparada</th>\n",
       "      <th>rok</th>\n",
       "      <th>tyden</th>\n",
       "      <th>pozice</th>\n",
       "      <th>track</th>\n",
       "      <th>interpret</th>\n",
       "      <th>interpret_hlavni</th>\n",
       "      <th>vydavatel</th>\n",
       "      <th>week</th>\n",
       "    </tr>\n",
       "  </thead>\n",
       "  <tbody>\n",
       "  </tbody>\n",
       "</table>\n",
       "</div>"
      ],
      "text/plain": [
       "Empty DataFrame\n",
       "Columns: [Unnamed: 0, hitparada, rok, tyden, pozice, track, interpret, interpret_hlavni, vydavatel, week]\n",
       "Index: []"
      ]
     },
     "execution_count": 219,
     "metadata": {},
     "output_type": "execute_result"
    }
   ],
   "source": [
    "df[df['interpret'].str.lower().str.contains('nick cav',na=False)]"
   ]
  }
 ],
 "metadata": {
  "kernelspec": {
   "display_name": "Python 3 (ipykernel)",
   "language": "python",
   "name": "python3"
  },
  "language_info": {
   "codemirror_mode": {
    "name": "ipython",
    "version": 3
   },
   "file_extension": ".py",
   "mimetype": "text/x-python",
   "name": "python",
   "nbconvert_exporter": "python",
   "pygments_lexer": "ipython3",
   "version": "3.10.8"
  }
 },
 "nbformat": 4,
 "nbformat_minor": 5
}
