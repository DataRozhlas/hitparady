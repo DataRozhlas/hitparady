{
 "cells": [
  {
   "cell_type": "code",
   "execution_count": 1,
   "id": "865133b1",
   "metadata": {},
   "outputs": [],
   "source": [
    "import os\n",
    "import pandas as pd"
   ]
  },
  {
   "cell_type": "code",
   "execution_count": 2,
   "id": "78aa2b47",
   "metadata": {},
   "outputs": [],
   "source": [
    "df = pd.read_csv(os.path.join(\"data\",\"CZ_SINGLES_DIGITAL_TOP_100_tydeni.csv\"))"
   ]
  },
  {
   "cell_type": "code",
   "execution_count": 13,
   "id": "06cd11b5",
   "metadata": {},
   "outputs": [],
   "source": [
    "df['week'] = df.apply(lambda row: f\"\"\"{row[\"rok\"]}-{row[\"tyden\"]}\"\"\", axis=1)"
   ]
  },
  {
   "cell_type": "markdown",
   "id": "0da6b64d",
   "metadata": {},
   "source": [
    "## Písně, které se objevily v nejvíce…"
   ]
  },
  {
   "cell_type": "markdown",
   "id": "c153faa3",
   "metadata": {},
   "source": [
    "### …letech"
   ]
  },
  {
   "cell_type": "code",
   "execution_count": 18,
   "id": "581cb46c",
   "metadata": {},
   "outputs": [
    {
     "data": {
      "text/plain": [
       "interpret                           track                                      \n",
       "Mariah Carey                        All I Want For Christmas Is You                9\n",
       "Michael Bublé                       It's Beginning To Look A Lot Like Christmas    9\n",
       "Wham!                               Last Christmas                                 9\n",
       "Ariana Grande                       Santa Tell Me                                  8\n",
       "Frank Sinatra                       Let It Snow! Let It Snow! Let It Snow!         8\n",
       "Imagine Dragons                     Demons                                         8\n",
       "                                    Believer                                       7\n",
       "John Lennon                         Happy Xmas (War Is Over)                       7\n",
       "Andy Williams                       It's the Most Wonderful Time of the Year       6\n",
       "Avicii                              The Nights                                     6\n",
       "Brenda Lee                          Rockin' Around The Christmas Tree              6\n",
       "Coldplay                            Christmas Lights                               6\n",
       "Ed Sheeran                          Thinking Out Loud                              6\n",
       "Ego Feat. Robert Burian             Žijeme len raz                                 6\n",
       "Ewa Farna                           Vánoce na míru                                 6\n",
       "Imagine Dragons                     Radioactive                                    6\n",
       "Justin Bieber                       Mistletoe                                      6\n",
       "Macklemore & Ryan Lewis Feat. Wanz  Can´t Hold Us                                  6\n",
       "Michael Bublé                       Holly Jolly Christmas                          6\n",
       "Onerepublic                         Counting Stars                                 6\n",
       "Name: rok, dtype: int64"
      ]
     },
     "execution_count": 18,
     "metadata": {},
     "output_type": "execute_result"
    }
   ],
   "source": [
    "df.groupby([\"interpret\",\"track\"])[\"rok\"].nunique().nlargest(20)"
   ]
  },
  {
   "cell_type": "markdown",
   "id": "afec2f5a",
   "metadata": {},
   "source": [
    "### …týdnech"
   ]
  },
  {
   "cell_type": "code",
   "execution_count": 17,
   "id": "3bbd4987",
   "metadata": {},
   "outputs": [
    {
     "data": {
      "text/plain": [
       "interpret        track                                       \n",
       "Imagine Dragons  Believer                                        280\n",
       "Wohnout          Svaz českých bohémů                             247\n",
       "Viktor Sheen     Až na měsíc (feat. Calin, Hasan & Nik Tendo)    221\n",
       "Imagine Dragons  Demons                                          198\n",
       "Onerepublic      Counting Stars                                  190\n",
       "The Weeknd       Blinding Lights                                 190\n",
       "Lewis Capaldi    Someone You Loved                               185\n",
       "Škwor            Síla starejch vín                               153\n",
       "Viktor Sheen     Rozdělený světy                                 149\n",
       "Imagine Dragons  Radioactive                                     147\n",
       "Ed Sheeran       Shape of You                                    144\n",
       "Imagine Dragons  Thunder                                         143\n",
       "Kapitán Demo     Zlatíčka                                        141\n",
       "Neighbourhood    Sweather Weather                                137\n",
       "Calin            Růže (feat. STEIN27)                            136\n",
       "Tom Odell        Another Love                                    135\n",
       "Yzomandias       Rolls (feat. Nik Tendo)                         135\n",
       "Kabát            Malá dáma                                       129\n",
       "Glass Animals    Heat Waves                                      125\n",
       "Passenger        Let Her Go                                      125\n",
       "Name: week, dtype: int64"
      ]
     },
     "execution_count": 17,
     "metadata": {},
     "output_type": "execute_result"
    }
   ],
   "source": [
    "df.groupby([\"interpret\",\"track\"])[\"week\"].nunique().nlargest(20)"
   ]
  },
  {
   "cell_type": "markdown",
   "id": "317911ea",
   "metadata": {},
   "source": [
    "## Interpreti s nejvíce písněmi"
   ]
  },
  {
   "cell_type": "markdown",
   "id": "b0c5c530",
   "metadata": {},
   "source": [
    "### …v top 100"
   ]
  },
  {
   "cell_type": "code",
   "execution_count": 20,
   "id": "0c8fb015",
   "metadata": {},
   "outputs": [
    {
     "data": {
      "text/plain": [
       "interpret\n",
       "Yzomandias          132\n",
       "Ca$hanova Bulhar     64\n",
       "Viktor Sheen         59\n",
       "Ed Sheeran           53\n",
       "Nik Tendo            51\n",
       "Ektor                49\n",
       "Imagine Dragons      43\n",
       "The Weeknd           42\n",
       "Robin Zoot           38\n",
       "Eminem               36\n",
       "Name: track, dtype: int64"
      ]
     },
     "execution_count": 20,
     "metadata": {},
     "output_type": "execute_result"
    }
   ],
   "source": [
    "df.groupby(\"interpret\")[\"track\"].nunique().nlargest(10)"
   ]
  },
  {
   "cell_type": "markdown",
   "id": "888168a0",
   "metadata": {},
   "source": [
    "### …v top 10"
   ]
  },
  {
   "cell_type": "code",
   "execution_count": 22,
   "id": "67a75227",
   "metadata": {},
   "outputs": [
    {
     "data": {
      "text/plain": [
       "interpret\n",
       "Yzomandias              33\n",
       "Viktor Sheen            31\n",
       "Nik Tendo               28\n",
       "Calin                   15\n",
       "Ed Sheeran              13\n",
       "Ariana Grande           10\n",
       "Billie Eilish           10\n",
       "Calin & Viktor Sheen     9\n",
       "Imagine Dragons          9\n",
       "Robin Zoot               9\n",
       "Name: track, dtype: int64"
      ]
     },
     "execution_count": 22,
     "metadata": {},
     "output_type": "execute_result"
    }
   ],
   "source": [
    "df[df['pozice'] <= 10].groupby(\"interpret\")[\"track\"].nunique().nlargest(10)"
   ]
  }
 ],
 "metadata": {
  "kernelspec": {
   "display_name": "Python 3 (ipykernel)",
   "language": "python",
   "name": "python3"
  },
  "language_info": {
   "codemirror_mode": {
    "name": "ipython",
    "version": 3
   },
   "file_extension": ".py",
   "mimetype": "text/x-python",
   "name": "python",
   "nbconvert_exporter": "python",
   "pygments_lexer": "ipython3",
   "version": "3.10.8"
  }
 },
 "nbformat": 4,
 "nbformat_minor": 5
}
