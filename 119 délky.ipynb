{
 "cells": [
  {
   "cell_type": "code",
   "execution_count": 106,
   "id": "16a0b1f7",
   "metadata": {},
   "outputs": [],
   "source": [
    "import os\n",
    "import json\n",
    "import pandas as pd"
   ]
  },
  {
   "cell_type": "code",
   "execution_count": 107,
   "id": "a6ea66a8",
   "metadata": {},
   "outputs": [],
   "source": [
    "from src.tabulka import tabulka\n",
    "from src.graf import graf"
   ]
  },
  {
   "cell_type": "code",
   "execution_count": 108,
   "id": "dafc9bc3",
   "metadata": {},
   "outputs": [],
   "source": [
    "def cas(sekundy):\n",
    "    return f\"\"\"{int(sekundy // 60)}:{int(sekundy % 60):02}\"\"\""
   ]
  },
  {
   "cell_type": "code",
   "execution_count": 109,
   "id": "26fc8baf",
   "metadata": {},
   "outputs": [],
   "source": [
    "df = pd.read_csv(os.path.join(\"data\",\"CZ_RADIO_TOP_100_tydenni.csv\"))"
   ]
  },
  {
   "cell_type": "code",
   "execution_count": 110,
   "id": "a07c9962",
   "metadata": {},
   "outputs": [],
   "source": [
    "delka_puvodni = len(df)"
   ]
  },
  {
   "cell_type": "code",
   "execution_count": 111,
   "id": "3cc138e0",
   "metadata": {},
   "outputs": [],
   "source": [
    "youtube = pd.read_csv(os.path.join(\"data\",\"youtube_delka.csv\"))"
   ]
  },
  {
   "cell_type": "code",
   "execution_count": 112,
   "id": "d0328cb0",
   "metadata": {},
   "outputs": [],
   "source": [
    "df = df.merge(youtube, on=['interpret_hlavni','track'], how='inner')"
   ]
  },
  {
   "cell_type": "code",
   "execution_count": 113,
   "id": "e7c4b8a8",
   "metadata": {},
   "outputs": [
    {
     "data": {
      "text/plain": [
       "0.31883516483516483"
      ]
     },
     "execution_count": 113,
     "metadata": {},
     "output_type": "execute_result"
    }
   ],
   "source": [
    "len(df) / delka_puvodni"
   ]
  },
  {
   "cell_type": "code",
   "execution_count": 114,
   "id": "d18da598",
   "metadata": {},
   "outputs": [
    {
     "data": {
      "text/html": [
       "<div>\n",
       "<style scoped>\n",
       "    .dataframe tbody tr th:only-of-type {\n",
       "        vertical-align: middle;\n",
       "    }\n",
       "\n",
       "    .dataframe tbody tr th {\n",
       "        vertical-align: top;\n",
       "    }\n",
       "\n",
       "    .dataframe thead th {\n",
       "        text-align: right;\n",
       "    }\n",
       "</style>\n",
       "<table border=\"1\" class=\"dataframe\">\n",
       "  <thead>\n",
       "    <tr style=\"text-align: right;\">\n",
       "      <th></th>\n",
       "      <th>hitparada</th>\n",
       "      <th>rok</th>\n",
       "      <th>tyden</th>\n",
       "      <th>week</th>\n",
       "      <th>pozice</th>\n",
       "      <th>track</th>\n",
       "      <th>interpret</th>\n",
       "      <th>interpret_hlavni</th>\n",
       "      <th>vydavatel</th>\n",
       "      <th>Unnamed: 0</th>\n",
       "      <th>youtube</th>\n",
       "      <th>delka</th>\n",
       "    </tr>\n",
       "  </thead>\n",
       "  <tbody>\n",
       "    <tr>\n",
       "      <th>0</th>\n",
       "      <td>CZ - RADIO - TOP 100</td>\n",
       "      <td>2006</td>\n",
       "      <td>19</td>\n",
       "      <td>2006-19</td>\n",
       "      <td>36</td>\n",
       "      <td>Put Your Records On</td>\n",
       "      <td>Corinne Bailey Rae</td>\n",
       "      <td>Corinne Bailey Rae</td>\n",
       "      <td>Universal Music</td>\n",
       "      <td>79293</td>\n",
       "      <td>https://www.youtube.com/watch?v=oWQl00LWEwE</td>\n",
       "      <td>244.784</td>\n",
       "    </tr>\n",
       "    <tr>\n",
       "      <th>1</th>\n",
       "      <td>CZ - RADIO - TOP 100</td>\n",
       "      <td>2006</td>\n",
       "      <td>20</td>\n",
       "      <td>2006-20</td>\n",
       "      <td>33</td>\n",
       "      <td>Put Your Records On</td>\n",
       "      <td>Corinne Bailey Rae</td>\n",
       "      <td>Corinne Bailey Rae</td>\n",
       "      <td>Universal Music</td>\n",
       "      <td>79293</td>\n",
       "      <td>https://www.youtube.com/watch?v=oWQl00LWEwE</td>\n",
       "      <td>244.784</td>\n",
       "    </tr>\n",
       "    <tr>\n",
       "      <th>2</th>\n",
       "      <td>CZ - RADIO - TOP 100</td>\n",
       "      <td>2006</td>\n",
       "      <td>21</td>\n",
       "      <td>2006-21</td>\n",
       "      <td>38</td>\n",
       "      <td>Put Your Records On</td>\n",
       "      <td>Corinne Bailey Rae</td>\n",
       "      <td>Corinne Bailey Rae</td>\n",
       "      <td>Universal Music</td>\n",
       "      <td>79293</td>\n",
       "      <td>https://www.youtube.com/watch?v=oWQl00LWEwE</td>\n",
       "      <td>244.784</td>\n",
       "    </tr>\n",
       "    <tr>\n",
       "      <th>3</th>\n",
       "      <td>CZ - RADIO - TOP 100</td>\n",
       "      <td>2006</td>\n",
       "      <td>22</td>\n",
       "      <td>2006-22</td>\n",
       "      <td>32</td>\n",
       "      <td>Put Your Records On</td>\n",
       "      <td>Corinne Bailey Rae</td>\n",
       "      <td>Corinne Bailey Rae</td>\n",
       "      <td>Universal Music</td>\n",
       "      <td>79293</td>\n",
       "      <td>https://www.youtube.com/watch?v=oWQl00LWEwE</td>\n",
       "      <td>244.784</td>\n",
       "    </tr>\n",
       "    <tr>\n",
       "      <th>4</th>\n",
       "      <td>CZ - RADIO - TOP 100</td>\n",
       "      <td>2006</td>\n",
       "      <td>23</td>\n",
       "      <td>2006-23</td>\n",
       "      <td>31</td>\n",
       "      <td>Put Your Records On</td>\n",
       "      <td>Corinne Bailey Rae</td>\n",
       "      <td>Corinne Bailey Rae</td>\n",
       "      <td>Universal Music</td>\n",
       "      <td>79293</td>\n",
       "      <td>https://www.youtube.com/watch?v=oWQl00LWEwE</td>\n",
       "      <td>244.784</td>\n",
       "    </tr>\n",
       "    <tr>\n",
       "      <th>...</th>\n",
       "      <td>...</td>\n",
       "      <td>...</td>\n",
       "      <td>...</td>\n",
       "      <td>...</td>\n",
       "      <td>...</td>\n",
       "      <td>...</td>\n",
       "      <td>...</td>\n",
       "      <td>...</td>\n",
       "      <td>...</td>\n",
       "      <td>...</td>\n",
       "      <td>...</td>\n",
       "      <td>...</td>\n",
       "    </tr>\n",
       "    <tr>\n",
       "      <th>29009</th>\n",
       "      <td>CZ - RADIO - TOP 100</td>\n",
       "      <td>2023</td>\n",
       "      <td>43</td>\n",
       "      <td>2023-43</td>\n",
       "      <td>56</td>\n",
       "      <td>Red Flags</td>\n",
       "      <td>Plain White T´S</td>\n",
       "      <td>Plain White T´S</td>\n",
       "      <td>Universal Music</td>\n",
       "      <td>172405</td>\n",
       "      <td>https://www.youtube.com/watch?v=tvBU2ZHD0qo</td>\n",
       "      <td>251.425</td>\n",
       "    </tr>\n",
       "    <tr>\n",
       "      <th>29010</th>\n",
       "      <td>CZ - RADIO - TOP 100</td>\n",
       "      <td>2023</td>\n",
       "      <td>43</td>\n",
       "      <td>2023-43</td>\n",
       "      <td>58</td>\n",
       "      <td>Do It Again</td>\n",
       "      <td>Ray Dalton</td>\n",
       "      <td>Ray Dalton</td>\n",
       "      <td>Sony Music</td>\n",
       "      <td>172407</td>\n",
       "      <td>https://www.youtube.com/watch?v=15jEjGwQCf0</td>\n",
       "      <td>176.100</td>\n",
       "    </tr>\n",
       "    <tr>\n",
       "      <th>29011</th>\n",
       "      <td>CZ - RADIO - TOP 100</td>\n",
       "      <td>2023</td>\n",
       "      <td>43</td>\n",
       "      <td>2023-43</td>\n",
       "      <td>60</td>\n",
       "      <td>Enough Is Enough</td>\n",
       "      <td>Post Malone</td>\n",
       "      <td>Post Malone</td>\n",
       "      <td>Universal Music</td>\n",
       "      <td>172409</td>\n",
       "      <td>https://www.youtube.com/watch?v=KYrurkKKeA0</td>\n",
       "      <td>165.372</td>\n",
       "    </tr>\n",
       "    <tr>\n",
       "      <th>29012</th>\n",
       "      <td>CZ - RADIO - TOP 100</td>\n",
       "      <td>2023</td>\n",
       "      <td>43</td>\n",
       "      <td>2023-43</td>\n",
       "      <td>62</td>\n",
       "      <td>Summertime Friends</td>\n",
       "      <td>Chainsmokers</td>\n",
       "      <td>Chainsmokers</td>\n",
       "      <td>Sony Music</td>\n",
       "      <td>172411</td>\n",
       "      <td>https://www.youtube.com/watch?v=tZdMX7ohw1I</td>\n",
       "      <td>137.462</td>\n",
       "    </tr>\n",
       "    <tr>\n",
       "      <th>29013</th>\n",
       "      <td>CZ - RADIO - TOP 100</td>\n",
       "      <td>2023</td>\n",
       "      <td>43</td>\n",
       "      <td>2023-43</td>\n",
       "      <td>99</td>\n",
       "      <td>Meltdown</td>\n",
       "      <td>Niall Horan</td>\n",
       "      <td>Niall Horan</td>\n",
       "      <td>Universal Music</td>\n",
       "      <td>172448</td>\n",
       "      <td>https://www.youtube.com/watch?v=GuoTm7DIGEU</td>\n",
       "      <td>153.205</td>\n",
       "    </tr>\n",
       "  </tbody>\n",
       "</table>\n",
       "<p>29014 rows × 12 columns</p>\n",
       "</div>"
      ],
      "text/plain": [
       "                  hitparada   rok  tyden     week  pozice  \\\n",
       "0      CZ - RADIO - TOP 100  2006     19  2006-19      36   \n",
       "1      CZ - RADIO - TOP 100  2006     20  2006-20      33   \n",
       "2      CZ - RADIO - TOP 100  2006     21  2006-21      38   \n",
       "3      CZ - RADIO - TOP 100  2006     22  2006-22      32   \n",
       "4      CZ - RADIO - TOP 100  2006     23  2006-23      31   \n",
       "...                     ...   ...    ...      ...     ...   \n",
       "29009  CZ - RADIO - TOP 100  2023     43  2023-43      56   \n",
       "29010  CZ - RADIO - TOP 100  2023     43  2023-43      58   \n",
       "29011  CZ - RADIO - TOP 100  2023     43  2023-43      60   \n",
       "29012  CZ - RADIO - TOP 100  2023     43  2023-43      62   \n",
       "29013  CZ - RADIO - TOP 100  2023     43  2023-43      99   \n",
       "\n",
       "                     track           interpret    interpret_hlavni  \\\n",
       "0      Put Your Records On  Corinne Bailey Rae  Corinne Bailey Rae   \n",
       "1      Put Your Records On  Corinne Bailey Rae  Corinne Bailey Rae   \n",
       "2      Put Your Records On  Corinne Bailey Rae  Corinne Bailey Rae   \n",
       "3      Put Your Records On  Corinne Bailey Rae  Corinne Bailey Rae   \n",
       "4      Put Your Records On  Corinne Bailey Rae  Corinne Bailey Rae   \n",
       "...                    ...                 ...                 ...   \n",
       "29009            Red Flags     Plain White T´S     Plain White T´S   \n",
       "29010          Do It Again          Ray Dalton          Ray Dalton   \n",
       "29011     Enough Is Enough         Post Malone         Post Malone   \n",
       "29012   Summertime Friends        Chainsmokers        Chainsmokers   \n",
       "29013             Meltdown         Niall Horan         Niall Horan   \n",
       "\n",
       "             vydavatel  Unnamed: 0  \\\n",
       "0      Universal Music       79293   \n",
       "1      Universal Music       79293   \n",
       "2      Universal Music       79293   \n",
       "3      Universal Music       79293   \n",
       "4      Universal Music       79293   \n",
       "...                ...         ...   \n",
       "29009  Universal Music      172405   \n",
       "29010       Sony Music      172407   \n",
       "29011  Universal Music      172409   \n",
       "29012       Sony Music      172411   \n",
       "29013  Universal Music      172448   \n",
       "\n",
       "                                           youtube    delka  \n",
       "0      https://www.youtube.com/watch?v=oWQl00LWEwE  244.784  \n",
       "1      https://www.youtube.com/watch?v=oWQl00LWEwE  244.784  \n",
       "2      https://www.youtube.com/watch?v=oWQl00LWEwE  244.784  \n",
       "3      https://www.youtube.com/watch?v=oWQl00LWEwE  244.784  \n",
       "4      https://www.youtube.com/watch?v=oWQl00LWEwE  244.784  \n",
       "...                                            ...      ...  \n",
       "29009  https://www.youtube.com/watch?v=tvBU2ZHD0qo  251.425  \n",
       "29010  https://www.youtube.com/watch?v=15jEjGwQCf0  176.100  \n",
       "29011  https://www.youtube.com/watch?v=KYrurkKKeA0  165.372  \n",
       "29012  https://www.youtube.com/watch?v=tZdMX7ohw1I  137.462  \n",
       "29013  https://www.youtube.com/watch?v=GuoTm7DIGEU  153.205  \n",
       "\n",
       "[29014 rows x 12 columns]"
      ]
     },
     "execution_count": 114,
     "metadata": {},
     "output_type": "execute_result"
    }
   ],
   "source": [
    "df"
   ]
  },
  {
   "cell_type": "code",
   "execution_count": 115,
   "id": "6498e689",
   "metadata": {},
   "outputs": [
    {
     "data": {
      "text/plain": [
       "307.7694316546763"
      ]
     },
     "execution_count": 115,
     "metadata": {},
     "output_type": "execute_result"
    }
   ],
   "source": [
    "df[df['pozice'] == 1]['delka'].mean()"
   ]
  },
  {
   "cell_type": "code",
   "execution_count": 116,
   "id": "c081f73a",
   "metadata": {},
   "outputs": [
    {
     "data": {
      "text/plain": [
       "1.0"
      ]
     },
     "execution_count": 116,
     "metadata": {},
     "output_type": "execute_result"
    }
   ],
   "source": [
    "len(df[~df['youtube'].isnull()]) / len(df)"
   ]
  },
  {
   "cell_type": "code",
   "execution_count": 117,
   "id": "6689c554",
   "metadata": {},
   "outputs": [
    {
     "data": {
      "text/plain": [
       "0.8862273385262287"
      ]
     },
     "execution_count": 117,
     "metadata": {},
     "output_type": "execute_result"
    }
   ],
   "source": [
    "len(df[~df['delka'].isnull()]) / len(df)"
   ]
  },
  {
   "cell_type": "code",
   "execution_count": 118,
   "id": "961b727e",
   "metadata": {},
   "outputs": [
    {
     "data": {
      "text/plain": [
       "224.50605324155097"
      ]
     },
     "execution_count": 118,
     "metadata": {},
     "output_type": "execute_result"
    }
   ],
   "source": [
    "df['delka'].mean()"
   ]
  },
  {
   "cell_type": "code",
   "execution_count": 119,
   "id": "87565a25",
   "metadata": {},
   "outputs": [
    {
     "data": {
      "text/plain": [
       "211.115"
      ]
     },
     "execution_count": 119,
     "metadata": {},
     "output_type": "execute_result"
    }
   ],
   "source": [
    "df['delka'].median()"
   ]
  },
  {
   "cell_type": "code",
   "execution_count": 120,
   "id": "b217dc10",
   "metadata": {},
   "outputs": [
    {
     "data": {
      "text/html": [
       "<div>\n",
       "<style scoped>\n",
       "    .dataframe tbody tr th:only-of-type {\n",
       "        vertical-align: middle;\n",
       "    }\n",
       "\n",
       "    .dataframe tbody tr th {\n",
       "        vertical-align: top;\n",
       "    }\n",
       "\n",
       "    .dataframe thead th {\n",
       "        text-align: right;\n",
       "    }\n",
       "</style>\n",
       "<table border=\"1\" class=\"dataframe\">\n",
       "  <thead>\n",
       "    <tr style=\"text-align: right;\">\n",
       "      <th></th>\n",
       "      <th>interpret_hlavni</th>\n",
       "      <th>track</th>\n",
       "      <th>youtube</th>\n",
       "      <th>delka</th>\n",
       "    </tr>\n",
       "  </thead>\n",
       "  <tbody>\n",
       "    <tr>\n",
       "      <th>8236</th>\n",
       "      <td>David Guetta</td>\n",
       "      <td>Sun Goes Down</td>\n",
       "      <td>https://www.youtube.com/watch?v=VaoSdUooLFE</td>\n",
       "      <td>15.046</td>\n",
       "    </tr>\n",
       "    <tr>\n",
       "      <th>2920</th>\n",
       "      <td>Maroon 5</td>\n",
       "      <td>Maps</td>\n",
       "      <td>https://www.youtube.com/watch?v=iC0Gj-_vp4U</td>\n",
       "      <td>15.092</td>\n",
       "    </tr>\n",
       "    <tr>\n",
       "      <th>7876</th>\n",
       "      <td>Sam Smith</td>\n",
       "      <td>Writing's On The Wall</td>\n",
       "      <td>https://www.youtube.com/watch?v=8MumPLXz4d4</td>\n",
       "      <td>16.114</td>\n",
       "    </tr>\n",
       "    <tr>\n",
       "      <th>7738</th>\n",
       "      <td>Ellie Goulding</td>\n",
       "      <td>On My Mind</td>\n",
       "      <td>https://www.youtube.com/watch?v=de46GBoz594</td>\n",
       "      <td>30.139</td>\n",
       "    </tr>\n",
       "    <tr>\n",
       "      <th>12220</th>\n",
       "      <td>Ellie Goulding</td>\n",
       "      <td>Still Falling For You</td>\n",
       "      <td>https://www.youtube.com/watch?v=o94D0d-xED0</td>\n",
       "      <td>60.139</td>\n",
       "    </tr>\n",
       "    <tr>\n",
       "      <th>4523</th>\n",
       "      <td>Axwell</td>\n",
       "      <td>Something New</td>\n",
       "      <td>https://www.youtube.com/watch?v=fhFlO08OTsg</td>\n",
       "      <td>60.348</td>\n",
       "    </tr>\n",
       "    <tr>\n",
       "      <th>4426</th>\n",
       "      <td>Onerepublic</td>\n",
       "      <td>I Lived</td>\n",
       "      <td>http://www.youtube.com/watch?v=CB57GYkTSfA</td>\n",
       "      <td>90.372</td>\n",
       "    </tr>\n",
       "    <tr>\n",
       "      <th>10888</th>\n",
       "      <td>Calvin Harris</td>\n",
       "      <td>This Is What You Came For</td>\n",
       "      <td>https://www.youtube.com/watch?v=Ybo4QvKVHoE</td>\n",
       "      <td>90.975</td>\n",
       "    </tr>\n",
       "    <tr>\n",
       "      <th>9607</th>\n",
       "      <td>Felix Jaehn</td>\n",
       "      <td>Book Of Love</td>\n",
       "      <td>https://www.youtube.com/watch?v=8Qoqz4nPQoY</td>\n",
       "      <td>94.621</td>\n",
       "    </tr>\n",
       "    <tr>\n",
       "      <th>17587</th>\n",
       "      <td>Support Lesbiens</td>\n",
       "      <td>White Lines</td>\n",
       "      <td>https://www.youtube.com/watch?v=A9A7r2HdYvI</td>\n",
       "      <td>103.886</td>\n",
       "    </tr>\n",
       "    <tr>\n",
       "      <th>24819</th>\n",
       "      <td>Arizona Zervas</td>\n",
       "      <td>BAND$</td>\n",
       "      <td>https://www.youtube.com/watch?v=qVEQPcEaiZI</td>\n",
       "      <td>107.670</td>\n",
       "    </tr>\n",
       "    <tr>\n",
       "      <th>2388</th>\n",
       "      <td>Gisele</td>\n",
       "      <td>Heart of Glass</td>\n",
       "      <td>http://www.youtube.com/watch?v=OVSzCJVlxzI</td>\n",
       "      <td>108.576</td>\n",
       "    </tr>\n",
       "    <tr>\n",
       "      <th>15927</th>\n",
       "      <td>Alan Walker</td>\n",
       "      <td>Tired</td>\n",
       "      <td>https://www.youtube.com/watch?v=rwXnN8bVxDA</td>\n",
       "      <td>109.412</td>\n",
       "    </tr>\n",
       "    <tr>\n",
       "      <th>26383</th>\n",
       "      <td>Calin</td>\n",
       "      <td>Santé</td>\n",
       "      <td>https://www.youtube.com/watch?v=X5dJkuBf69k</td>\n",
       "      <td>114.056</td>\n",
       "    </tr>\n",
       "    <tr>\n",
       "      <th>17261</th>\n",
       "      <td>Lucie Vondráčková</td>\n",
       "      <td>Paralelní světy</td>\n",
       "      <td>https://www.youtube.com/watch?v=CV1lTneK9iI</td>\n",
       "      <td>118.932</td>\n",
       "    </tr>\n",
       "    <tr>\n",
       "      <th>7757</th>\n",
       "      <td>Olga Lounová</td>\n",
       "      <td>Jsem optimista</td>\n",
       "      <td>https://www.youtube.com/watch?v=WwpV8lRNttY</td>\n",
       "      <td>119.884</td>\n",
       "    </tr>\n",
       "    <tr>\n",
       "      <th>3531</th>\n",
       "      <td>Tony Bennett</td>\n",
       "      <td>Anything Goes</td>\n",
       "      <td>http://www.youtube.com/watch?v=Fg1meK-IgOM</td>\n",
       "      <td>122.740</td>\n",
       "    </tr>\n",
       "    <tr>\n",
       "      <th>29004</th>\n",
       "      <td>Lizot</td>\n",
       "      <td>Dooh Dooh (Stereo Sound)</td>\n",
       "      <td>https://www.youtube.com/watch?v=neRior9cFV8</td>\n",
       "      <td>124.923</td>\n",
       "    </tr>\n",
       "    <tr>\n",
       "      <th>25317</th>\n",
       "      <td>Tiësto</td>\n",
       "      <td>Hot In It</td>\n",
       "      <td>https://www.youtube.com/watch?v=zyln2WuD5jE</td>\n",
       "      <td>125.782</td>\n",
       "    </tr>\n",
       "    <tr>\n",
       "      <th>21054</th>\n",
       "      <td>Masked Wolf</td>\n",
       "      <td>Say So</td>\n",
       "      <td>https://www.youtube.com/watch?v=kyBnR_fgW9o</td>\n",
       "      <td>133.421</td>\n",
       "    </tr>\n",
       "  </tbody>\n",
       "</table>\n",
       "</div>"
      ],
      "text/plain": [
       "        interpret_hlavni                      track  \\\n",
       "8236        David Guetta              Sun Goes Down   \n",
       "2920            Maroon 5                       Maps   \n",
       "7876           Sam Smith      Writing's On The Wall   \n",
       "7738      Ellie Goulding                 On My Mind   \n",
       "12220     Ellie Goulding      Still Falling For You   \n",
       "4523              Axwell              Something New   \n",
       "4426         Onerepublic                    I Lived   \n",
       "10888      Calvin Harris  This Is What You Came For   \n",
       "9607         Felix Jaehn               Book Of Love   \n",
       "17587   Support Lesbiens                White Lines   \n",
       "24819     Arizona Zervas                      BAND$   \n",
       "2388              Gisele             Heart of Glass   \n",
       "15927        Alan Walker                      Tired   \n",
       "26383              Calin                      Santé   \n",
       "17261  Lucie Vondráčková            Paralelní světy   \n",
       "7757        Olga Lounová             Jsem optimista   \n",
       "3531        Tony Bennett              Anything Goes   \n",
       "29004              Lizot   Dooh Dooh (Stereo Sound)   \n",
       "25317             Tiësto                  Hot In It   \n",
       "21054        Masked Wolf                     Say So   \n",
       "\n",
       "                                           youtube    delka  \n",
       "8236   https://www.youtube.com/watch?v=VaoSdUooLFE   15.046  \n",
       "2920   https://www.youtube.com/watch?v=iC0Gj-_vp4U   15.092  \n",
       "7876   https://www.youtube.com/watch?v=8MumPLXz4d4   16.114  \n",
       "7738   https://www.youtube.com/watch?v=de46GBoz594   30.139  \n",
       "12220  https://www.youtube.com/watch?v=o94D0d-xED0   60.139  \n",
       "4523   https://www.youtube.com/watch?v=fhFlO08OTsg   60.348  \n",
       "4426    http://www.youtube.com/watch?v=CB57GYkTSfA   90.372  \n",
       "10888  https://www.youtube.com/watch?v=Ybo4QvKVHoE   90.975  \n",
       "9607   https://www.youtube.com/watch?v=8Qoqz4nPQoY   94.621  \n",
       "17587  https://www.youtube.com/watch?v=A9A7r2HdYvI  103.886  \n",
       "24819  https://www.youtube.com/watch?v=qVEQPcEaiZI  107.670  \n",
       "2388    http://www.youtube.com/watch?v=OVSzCJVlxzI  108.576  \n",
       "15927  https://www.youtube.com/watch?v=rwXnN8bVxDA  109.412  \n",
       "26383  https://www.youtube.com/watch?v=X5dJkuBf69k  114.056  \n",
       "17261  https://www.youtube.com/watch?v=CV1lTneK9iI  118.932  \n",
       "7757   https://www.youtube.com/watch?v=WwpV8lRNttY  119.884  \n",
       "3531    http://www.youtube.com/watch?v=Fg1meK-IgOM  122.740  \n",
       "29004  https://www.youtube.com/watch?v=neRior9cFV8  124.923  \n",
       "25317  https://www.youtube.com/watch?v=zyln2WuD5jE  125.782  \n",
       "21054  https://www.youtube.com/watch?v=kyBnR_fgW9o  133.421  "
      ]
     },
     "execution_count": 120,
     "metadata": {},
     "output_type": "execute_result"
    }
   ],
   "source": [
    "df[['interpret_hlavni','track','youtube','delka']].drop_duplicates().dropna().sort_values(by='delka').head(20)"
   ]
  },
  {
   "cell_type": "code",
   "execution_count": 121,
   "id": "5a40e605",
   "metadata": {},
   "outputs": [
    {
     "data": {
      "text/html": [
       "<div>\n",
       "<style scoped>\n",
       "    .dataframe tbody tr th:only-of-type {\n",
       "        vertical-align: middle;\n",
       "    }\n",
       "\n",
       "    .dataframe tbody tr th {\n",
       "        vertical-align: top;\n",
       "    }\n",
       "\n",
       "    .dataframe thead th {\n",
       "        text-align: right;\n",
       "    }\n",
       "</style>\n",
       "<table border=\"1\" class=\"dataframe\">\n",
       "  <thead>\n",
       "    <tr style=\"text-align: right;\">\n",
       "      <th></th>\n",
       "      <th>interpret_hlavni</th>\n",
       "      <th>track</th>\n",
       "      <th>youtube</th>\n",
       "      <th>delka</th>\n",
       "    </tr>\n",
       "  </thead>\n",
       "  <tbody>\n",
       "    <tr>\n",
       "      <th>2127</th>\n",
       "      <td>Bakermat</td>\n",
       "      <td>One Day</td>\n",
       "      <td>http://www.youtube.com/watch?v=yzCWGGG2gQc</td>\n",
       "      <td>322.339</td>\n",
       "    </tr>\n",
       "    <tr>\n",
       "      <th>7635</th>\n",
       "      <td>Macklemore</td>\n",
       "      <td>Downtown</td>\n",
       "      <td>https://www.youtube.com/watch?v=JGhoLcsr8GA</td>\n",
       "      <td>322.641</td>\n",
       "    </tr>\n",
       "    <tr>\n",
       "      <th>27907</th>\n",
       "      <td>Rita Ora</td>\n",
       "      <td>Praising You (feat. FatboySlim)</td>\n",
       "      <td>https://www.youtube.com/watch?v=_Sz7fhThrS4</td>\n",
       "      <td>325.172</td>\n",
       "    </tr>\n",
       "    <tr>\n",
       "      <th>27489</th>\n",
       "      <td>Fall Out Boy</td>\n",
       "      <td>Love From The Other Side</td>\n",
       "      <td>https://www.youtube.com/watch?v=oBrkbWSB3Ls</td>\n",
       "      <td>327.471</td>\n",
       "    </tr>\n",
       "    <tr>\n",
       "      <th>17902</th>\n",
       "      <td>Kryštof</td>\n",
       "      <td>Vánoční</td>\n",
       "      <td>https://www.youtube.com/watch?v=lxVWXItaC00</td>\n",
       "      <td>327.958</td>\n",
       "    </tr>\n",
       "    <tr>\n",
       "      <th>6076</th>\n",
       "      <td>Madonna</td>\n",
       "      <td>Ghosttown</td>\n",
       "      <td>https://www.youtube.com/watch?v=GgDxv0Qg_Rg</td>\n",
       "      <td>328.562</td>\n",
       "    </tr>\n",
       "    <tr>\n",
       "      <th>22298</th>\n",
       "      <td>Adele</td>\n",
       "      <td>Easy On Me</td>\n",
       "      <td>https://www.youtube.com/watch?v=U3ASj1L6_sY</td>\n",
       "      <td>331.673</td>\n",
       "    </tr>\n",
       "    <tr>\n",
       "      <th>15241</th>\n",
       "      <td>Harry Styles</td>\n",
       "      <td>Sign of the Times</td>\n",
       "      <td>https://www.youtube.com/watch?v=z0GKGpObgPY</td>\n",
       "      <td>341.867</td>\n",
       "    </tr>\n",
       "    <tr>\n",
       "      <th>10395</th>\n",
       "      <td>Adele</td>\n",
       "      <td>When We Were Young</td>\n",
       "      <td>https://www.youtube.com/watch?v=DDWKuo3gXMQ</td>\n",
       "      <td>342.749</td>\n",
       "    </tr>\n",
       "    <tr>\n",
       "      <th>20878</th>\n",
       "      <td>Andy Cermak</td>\n",
       "      <td>Inside Outside</td>\n",
       "      <td>https://www.youtube.com/watch?v=qzCIBKvr33c</td>\n",
       "      <td>346.139</td>\n",
       "    </tr>\n",
       "    <tr>\n",
       "      <th>12184</th>\n",
       "      <td>Sia</td>\n",
       "      <td>The Greatest</td>\n",
       "      <td>https://www.youtube.com/watch?v=GKSRyLdjsPA</td>\n",
       "      <td>351.573</td>\n",
       "    </tr>\n",
       "    <tr>\n",
       "      <th>8327</th>\n",
       "      <td>Adele</td>\n",
       "      <td>Hello</td>\n",
       "      <td>https://www.youtube.com/watch?v=YQHsXMglC9A</td>\n",
       "      <td>366.898</td>\n",
       "    </tr>\n",
       "    <tr>\n",
       "      <th>7436</th>\n",
       "      <td>Slza</td>\n",
       "      <td>Katarze</td>\n",
       "      <td>https://www.youtube.com/watch?v=3h5DG5obScg</td>\n",
       "      <td>378.903</td>\n",
       "    </tr>\n",
       "    <tr>\n",
       "      <th>9627</th>\n",
       "      <td>The Weeknd</td>\n",
       "      <td>In The Night</td>\n",
       "      <td>https://www.youtube.com/watch?v=2iFa5We6zqw</td>\n",
       "      <td>387.773</td>\n",
       "    </tr>\n",
       "    <tr>\n",
       "      <th>14822</th>\n",
       "      <td>Maroon 5</td>\n",
       "      <td>Cold</td>\n",
       "      <td>https://www.youtube.com/watch?v=XatXy6ZhKZw</td>\n",
       "      <td>410.575</td>\n",
       "    </tr>\n",
       "    <tr>\n",
       "      <th>354</th>\n",
       "      <td>Macklemore</td>\n",
       "      <td>Can´t Hold Us</td>\n",
       "      <td>http://www.youtube.com/watch?v=2zNSgSzhBfM</td>\n",
       "      <td>423.508</td>\n",
       "    </tr>\n",
       "    <tr>\n",
       "      <th>21873</th>\n",
       "      <td>Kat Von D</td>\n",
       "      <td>Fear You</td>\n",
       "      <td>https://www.youtube.com/watch?v=jFyWu_a2WQc</td>\n",
       "      <td>474.360</td>\n",
       "    </tr>\n",
       "    <tr>\n",
       "      <th>14620</th>\n",
       "      <td>Balageband</td>\n",
       "      <td>Zeměkoule</td>\n",
       "      <td>https://www.youtube.com/watch?v=6w3aKbqYfD4</td>\n",
       "      <td>517.967</td>\n",
       "    </tr>\n",
       "    <tr>\n",
       "      <th>23011</th>\n",
       "      <td>Lil Nas X</td>\n",
       "      <td>THATS WHAT I WANT</td>\n",
       "      <td>https://www.youtube.com/watch?v=9YSgwSS5iN8</td>\n",
       "      <td>2734.265</td>\n",
       "    </tr>\n",
       "    <tr>\n",
       "      <th>9504</th>\n",
       "      <td>Alan Walker</td>\n",
       "      <td>Faded</td>\n",
       "      <td>https://www.youtube.com/watch?v=beg2WpbU2cs</td>\n",
       "      <td>3648.899</td>\n",
       "    </tr>\n",
       "  </tbody>\n",
       "</table>\n",
       "</div>"
      ],
      "text/plain": [
       "      interpret_hlavni                            track  \\\n",
       "2127          Bakermat                          One Day   \n",
       "7635        Macklemore                         Downtown   \n",
       "27907         Rita Ora  Praising You (feat. FatboySlim)   \n",
       "27489     Fall Out Boy         Love From The Other Side   \n",
       "17902          Kryštof                          Vánoční   \n",
       "6076           Madonna                        Ghosttown   \n",
       "22298            Adele                       Easy On Me   \n",
       "15241     Harry Styles                Sign of the Times   \n",
       "10395            Adele               When We Were Young   \n",
       "20878      Andy Cermak                   Inside Outside   \n",
       "12184              Sia                     The Greatest   \n",
       "8327             Adele                            Hello   \n",
       "7436              Slza                          Katarze   \n",
       "9627        The Weeknd                     In The Night   \n",
       "14822         Maroon 5                             Cold   \n",
       "354         Macklemore                    Can´t Hold Us   \n",
       "21873        Kat Von D                         Fear You   \n",
       "14620       Balageband                        Zeměkoule   \n",
       "23011        Lil Nas X                THATS WHAT I WANT   \n",
       "9504       Alan Walker                            Faded   \n",
       "\n",
       "                                           youtube     delka  \n",
       "2127    http://www.youtube.com/watch?v=yzCWGGG2gQc   322.339  \n",
       "7635   https://www.youtube.com/watch?v=JGhoLcsr8GA   322.641  \n",
       "27907  https://www.youtube.com/watch?v=_Sz7fhThrS4   325.172  \n",
       "27489  https://www.youtube.com/watch?v=oBrkbWSB3Ls   327.471  \n",
       "17902  https://www.youtube.com/watch?v=lxVWXItaC00   327.958  \n",
       "6076   https://www.youtube.com/watch?v=GgDxv0Qg_Rg   328.562  \n",
       "22298  https://www.youtube.com/watch?v=U3ASj1L6_sY   331.673  \n",
       "15241  https://www.youtube.com/watch?v=z0GKGpObgPY   341.867  \n",
       "10395  https://www.youtube.com/watch?v=DDWKuo3gXMQ   342.749  \n",
       "20878  https://www.youtube.com/watch?v=qzCIBKvr33c   346.139  \n",
       "12184  https://www.youtube.com/watch?v=GKSRyLdjsPA   351.573  \n",
       "8327   https://www.youtube.com/watch?v=YQHsXMglC9A   366.898  \n",
       "7436   https://www.youtube.com/watch?v=3h5DG5obScg   378.903  \n",
       "9627   https://www.youtube.com/watch?v=2iFa5We6zqw   387.773  \n",
       "14822  https://www.youtube.com/watch?v=XatXy6ZhKZw   410.575  \n",
       "354     http://www.youtube.com/watch?v=2zNSgSzhBfM   423.508  \n",
       "21873  https://www.youtube.com/watch?v=jFyWu_a2WQc   474.360  \n",
       "14620  https://www.youtube.com/watch?v=6w3aKbqYfD4   517.967  \n",
       "23011  https://www.youtube.com/watch?v=9YSgwSS5iN8  2734.265  \n",
       "9504   https://www.youtube.com/watch?v=beg2WpbU2cs  3648.899  "
      ]
     },
     "execution_count": 121,
     "metadata": {},
     "output_type": "execute_result"
    }
   ],
   "source": [
    "df[['interpret_hlavni','track','youtube','delka']].drop_duplicates().dropna().sort_values(by='delka').tail(20)"
   ]
  },
  {
   "cell_type": "code",
   "execution_count": 122,
   "id": "1b6f4788",
   "metadata": {},
   "outputs": [
    {
     "data": {
      "text/plain": [
       "<Axes: ylabel='Frequency'>"
      ]
     },
     "execution_count": 122,
     "metadata": {},
     "output_type": "execute_result"
    },
    {
     "data": {
      "image/png": "[encoded data removed]",
      "text/plain": [
       "<Figure size 1800x360 with 1 Axes>"
      ]
     },
     "metadata": {
      "needs_background": "light"
     },
     "output_type": "display_data"
    }
   ],
   "source": [
    "df[df['delka'] < 1000]['delka'].plot.hist(bins=50,figsize=(25,5))"
   ]
  },
  {
   "cell_type": "code",
   "execution_count": 131,
   "id": "4ae8bb73",
   "metadata": {},
   "outputs": [
    {
     "data": {
      "text/plain": [
       "'3:30'"
      ]
     },
     "execution_count": 131,
     "metadata": {},
     "output_type": "execute_result"
    }
   ],
   "source": [
    "cas(df[df['rok']>=2014]['delka'].median())"
   ]
  },
  {
   "cell_type": "code",
   "execution_count": 134,
   "id": "4f3776a3",
   "metadata": {},
   "outputs": [
    {
     "data": {
      "text/plain": [
       "'5:02'"
      ]
     },
     "execution_count": 134,
     "metadata": {},
     "output_type": "execute_result"
    }
   ],
   "source": [
    "cas(df[df['rok']>=2014]['delka'].quantile(0.97))"
   ]
  },
  {
   "cell_type": "code",
   "execution_count": 123,
   "id": "cf2ce2f6",
   "metadata": {
    "scrolled": true
   },
   "outputs": [
    {
     "data": {
      "text/plain": [
       "'3:31'"
      ]
     },
     "execution_count": 123,
     "metadata": {},
     "output_type": "execute_result"
    }
   ],
   "source": [
    "cas(df['delka'].median())"
   ]
  },
  {
   "cell_type": "code",
   "execution_count": 124,
   "id": "eb67cfef",
   "metadata": {},
   "outputs": [
    {
     "name": "stderr",
     "output_type": "stream",
     "text": [
      "C:\\Users\\micha\\AppData\\Local\\Temp\\ipykernel_9964\\2201164498.py:2: FutureWarning: Calling int on a single element Series is deprecated and will raise a TypeError in the future. Use int(ser.iloc[0]) instead\n",
      "  return f\"\"\"{int(sekundy // 60)}:{int(sekundy % 60):02}\"\"\"\n"
     ]
    },
    {
     "data": {
      "text/plain": [
       "'3:41'"
      ]
     },
     "execution_count": 124,
     "metadata": {},
     "output_type": "execute_result"
    }
   ],
   "source": [
    "cas(df['delka'].mode())"
   ]
  },
  {
   "cell_type": "code",
   "execution_count": 125,
   "id": "b87d3a05",
   "metadata": {},
   "outputs": [
    {
     "data": {
      "text/plain": [
       "'3:44'"
      ]
     },
     "execution_count": 125,
     "metadata": {},
     "output_type": "execute_result"
    }
   ],
   "source": [
    "cas(df['delka'].mean())"
   ]
  },
  {
   "cell_type": "code",
   "execution_count": 126,
   "id": "1a49620f",
   "metadata": {},
   "outputs": [
    {
     "data": {
      "text/plain": [
       "'2:36'"
      ]
     },
     "execution_count": 126,
     "metadata": {},
     "output_type": "execute_result"
    }
   ],
   "source": [
    "cas(df['delka'].quantile(0.05))"
   ]
  },
  {
   "cell_type": "code",
   "execution_count": 127,
   "id": "63052db9",
   "metadata": {},
   "outputs": [
    {
     "data": {
      "text/plain": [
       "'4:42'"
      ]
     },
     "execution_count": 127,
     "metadata": {},
     "output_type": "execute_result"
    }
   ],
   "source": [
    "cas(df['delka'].quantile(0.95))"
   ]
  },
  {
   "cell_type": "code",
   "execution_count": 128,
   "id": "442db5ce",
   "metadata": {},
   "outputs": [
    {
     "data": {
      "text/plain": [
       "77"
      ]
     },
     "execution_count": 128,
     "metadata": {},
     "output_type": "execute_result"
    }
   ],
   "source": [
    "df[df['pozice'] == 1]['delka'].nunique()"
   ]
  },
  {
   "cell_type": "code",
   "execution_count": 129,
   "id": "a69065a2",
   "metadata": {},
   "outputs": [
    {
     "data": {
      "text/plain": [
       "'4:00'"
      ]
     },
     "execution_count": 129,
     "metadata": {},
     "output_type": "execute_result"
    }
   ],
   "source": [
    "cas(df[df['pozice'] == 1]['delka'].median())"
   ]
  }
 ],
 "metadata": {
  "kernelspec": {
   "display_name": "Python 3 (ipykernel)",
   "language": "python",
   "name": "python3"
  },
  "language_info": {
   "codemirror_mode": {
    "name": "ipython",
    "version": 3
   },
   "file_extension": ".py",
   "mimetype": "text/x-python",
   "name": "python",
   "nbconvert_exporter": "python",
   "pygments_lexer": "ipython3",
   "version": "3.10.8"
  }
 },
 "nbformat": 4,
 "nbformat_minor": 5
}
