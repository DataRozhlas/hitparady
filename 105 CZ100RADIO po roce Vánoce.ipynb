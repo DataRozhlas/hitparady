{
 "cells": [
  {
   "cell_type": "code",
   "execution_count": 1,
   "id": "160c012d",
   "metadata": {},
   "outputs": [],
   "source": [
    "import os\n",
    "import pandas as pd"
   ]
  },
  {
   "cell_type": "code",
   "execution_count": 2,
   "id": "90b07a7a",
   "metadata": {
    "scrolled": true
   },
   "outputs": [],
   "source": [
    "df = pd.read_csv(os.path.join(\"data\",\"CZ_RADIO_TOP_100_tydenni.csv\"))"
   ]
  },
  {
   "cell_type": "code",
   "execution_count": 3,
   "id": "cace00d8",
   "metadata": {},
   "outputs": [],
   "source": [
    "from src.tabulka import tabulka\n",
    "from src.graf import graf"
   ]
  },
  {
   "cell_type": "markdown",
   "id": "cccfedbc",
   "metadata": {},
   "source": [
    "## Zformátování pro hezké výpisy"
   ]
  },
  {
   "cell_type": "code",
   "execution_count": 4,
   "id": "69fba33f",
   "metadata": {},
   "outputs": [],
   "source": [
    "df['track_hezky'] = df.apply(lambda row: f\"\"\"{row['interpret_hlavni']}: {row['track'].split(\"(\")[0]}\"\"\", axis=1)"
   ]
  },
  {
   "cell_type": "code",
   "execution_count": 5,
   "id": "b773c045",
   "metadata": {},
   "outputs": [
    {
     "data": {
      "text/html": [
       "<div>\n",
       "<style scoped>\n",
       "    .dataframe tbody tr th:only-of-type {\n",
       "        vertical-align: middle;\n",
       "    }\n",
       "\n",
       "    .dataframe tbody tr th {\n",
       "        vertical-align: top;\n",
       "    }\n",
       "\n",
       "    .dataframe thead th {\n",
       "        text-align: right;\n",
       "    }\n",
       "</style>\n",
       "<table border=\"1\" class=\"dataframe\">\n",
       "  <thead>\n",
       "    <tr style=\"text-align: right;\">\n",
       "      <th></th>\n",
       "      <th>hitparada</th>\n",
       "      <th>rok</th>\n",
       "      <th>tyden</th>\n",
       "      <th>week</th>\n",
       "      <th>pozice</th>\n",
       "      <th>track</th>\n",
       "      <th>interpret</th>\n",
       "      <th>interpret_hlavni</th>\n",
       "      <th>vydavatel</th>\n",
       "      <th>track_hezky</th>\n",
       "    </tr>\n",
       "  </thead>\n",
       "  <tbody>\n",
       "    <tr>\n",
       "      <th>0</th>\n",
       "      <td>CZ - RADIO - TOP 100</td>\n",
       "      <td>2006</td>\n",
       "      <td>1</td>\n",
       "      <td>2006-01</td>\n",
       "      <td>1</td>\n",
       "      <td>Hung Up</td>\n",
       "      <td>Madonna</td>\n",
       "      <td>Madonna</td>\n",
       "      <td>Warner Music</td>\n",
       "      <td>Madonna: Hung Up</td>\n",
       "    </tr>\n",
       "    <tr>\n",
       "      <th>1</th>\n",
       "      <td>CZ - RADIO - TOP 100</td>\n",
       "      <td>2006</td>\n",
       "      <td>1</td>\n",
       "      <td>2006-01</td>\n",
       "      <td>2</td>\n",
       "      <td>La camisa negra</td>\n",
       "      <td>Juanes</td>\n",
       "      <td>Juanes</td>\n",
       "      <td>Universal Music</td>\n",
       "      <td>Juanes: La camisa negra</td>\n",
       "    </tr>\n",
       "    <tr>\n",
       "      <th>2</th>\n",
       "      <td>CZ - RADIO - TOP 100</td>\n",
       "      <td>2006</td>\n",
       "      <td>1</td>\n",
       "      <td>2006-01</td>\n",
       "      <td>3</td>\n",
       "      <td>Push The Button</td>\n",
       "      <td>Sugababes</td>\n",
       "      <td>Sugababes</td>\n",
       "      <td>Universal Music</td>\n",
       "      <td>Sugababes: Push The Button</td>\n",
       "    </tr>\n",
       "    <tr>\n",
       "      <th>3</th>\n",
       "      <td>CZ - RADIO - TOP 100</td>\n",
       "      <td>2006</td>\n",
       "      <td>1</td>\n",
       "      <td>2006-01</td>\n",
       "      <td>4</td>\n",
       "      <td>Tripping</td>\n",
       "      <td>Robbie Williams</td>\n",
       "      <td>Robbie Williams</td>\n",
       "      <td>Warner Music</td>\n",
       "      <td>Robbie Williams: Tripping</td>\n",
       "    </tr>\n",
       "    <tr>\n",
       "      <th>4</th>\n",
       "      <td>CZ - RADIO - TOP 100</td>\n",
       "      <td>2006</td>\n",
       "      <td>1</td>\n",
       "      <td>2006-01</td>\n",
       "      <td>5</td>\n",
       "      <td>Hotel California</td>\n",
       "      <td>Victoria</td>\n",
       "      <td>Victoria</td>\n",
       "      <td>Universal Music</td>\n",
       "      <td>Victoria: Hotel California</td>\n",
       "    </tr>\n",
       "    <tr>\n",
       "      <th>...</th>\n",
       "      <td>...</td>\n",
       "      <td>...</td>\n",
       "      <td>...</td>\n",
       "      <td>...</td>\n",
       "      <td>...</td>\n",
       "      <td>...</td>\n",
       "      <td>...</td>\n",
       "      <td>...</td>\n",
       "      <td>...</td>\n",
       "      <td>...</td>\n",
       "    </tr>\n",
       "    <tr>\n",
       "      <th>90995</th>\n",
       "      <td>CZ - RADIO - TOP 100</td>\n",
       "      <td>2023</td>\n",
       "      <td>43</td>\n",
       "      <td>2023-43</td>\n",
       "      <td>96</td>\n",
       "      <td>Friend For Life</td>\n",
       "      <td>X Ambassadors &amp; Medium Build</td>\n",
       "      <td>X Ambassadors</td>\n",
       "      <td>Nan</td>\n",
       "      <td>X Ambassadors: Friend For Life</td>\n",
       "    </tr>\n",
       "    <tr>\n",
       "      <th>90996</th>\n",
       "      <td>CZ - RADIO - TOP 100</td>\n",
       "      <td>2023</td>\n",
       "      <td>43</td>\n",
       "      <td>2023-43</td>\n",
       "      <td>97</td>\n",
       "      <td>SNAP</td>\n",
       "      <td>Rosa Linn</td>\n",
       "      <td>Rosa Linn</td>\n",
       "      <td>Sony Music</td>\n",
       "      <td>Rosa Linn: SNAP</td>\n",
       "    </tr>\n",
       "    <tr>\n",
       "      <th>90997</th>\n",
       "      <td>CZ - RADIO - TOP 100</td>\n",
       "      <td>2023</td>\n",
       "      <td>43</td>\n",
       "      <td>2023-43</td>\n",
       "      <td>98</td>\n",
       "      <td>Without You</td>\n",
       "      <td>Tribbs</td>\n",
       "      <td>Tribbs</td>\n",
       "      <td>Nan</td>\n",
       "      <td>Tribbs: Without You</td>\n",
       "    </tr>\n",
       "    <tr>\n",
       "      <th>90998</th>\n",
       "      <td>CZ - RADIO - TOP 100</td>\n",
       "      <td>2023</td>\n",
       "      <td>43</td>\n",
       "      <td>2023-43</td>\n",
       "      <td>99</td>\n",
       "      <td>Meltdown</td>\n",
       "      <td>Niall Horan</td>\n",
       "      <td>Niall Horan</td>\n",
       "      <td>Universal Music</td>\n",
       "      <td>Niall Horan: Meltdown</td>\n",
       "    </tr>\n",
       "    <tr>\n",
       "      <th>90999</th>\n",
       "      <td>CZ - RADIO - TOP 100</td>\n",
       "      <td>2023</td>\n",
       "      <td>43</td>\n",
       "      <td>2023-43</td>\n",
       "      <td>100</td>\n",
       "      <td>Do nebe se propadám</td>\n",
       "      <td>Kryštof</td>\n",
       "      <td>Kryštof</td>\n",
       "      <td>I.Richmond.P./Universal Music</td>\n",
       "      <td>Kryštof: Do nebe se propadám</td>\n",
       "    </tr>\n",
       "  </tbody>\n",
       "</table>\n",
       "<p>91000 rows × 10 columns</p>\n",
       "</div>"
      ],
      "text/plain": [
       "                  hitparada   rok  tyden     week  pozice  \\\n",
       "0      CZ - RADIO - TOP 100  2006      1  2006-01       1   \n",
       "1      CZ - RADIO - TOP 100  2006      1  2006-01       2   \n",
       "2      CZ - RADIO - TOP 100  2006      1  2006-01       3   \n",
       "3      CZ - RADIO - TOP 100  2006      1  2006-01       4   \n",
       "4      CZ - RADIO - TOP 100  2006      1  2006-01       5   \n",
       "...                     ...   ...    ...      ...     ...   \n",
       "90995  CZ - RADIO - TOP 100  2023     43  2023-43      96   \n",
       "90996  CZ - RADIO - TOP 100  2023     43  2023-43      97   \n",
       "90997  CZ - RADIO - TOP 100  2023     43  2023-43      98   \n",
       "90998  CZ - RADIO - TOP 100  2023     43  2023-43      99   \n",
       "90999  CZ - RADIO - TOP 100  2023     43  2023-43     100   \n",
       "\n",
       "                     track                     interpret interpret_hlavni  \\\n",
       "0                  Hung Up                       Madonna          Madonna   \n",
       "1          La camisa negra                        Juanes           Juanes   \n",
       "2          Push The Button                     Sugababes        Sugababes   \n",
       "3                 Tripping               Robbie Williams  Robbie Williams   \n",
       "4         Hotel California                      Victoria         Victoria   \n",
       "...                    ...                           ...              ...   \n",
       "90995      Friend For Life  X Ambassadors & Medium Build    X Ambassadors   \n",
       "90996                 SNAP                     Rosa Linn        Rosa Linn   \n",
       "90997          Without You                        Tribbs           Tribbs   \n",
       "90998             Meltdown                   Niall Horan      Niall Horan   \n",
       "90999  Do nebe se propadám                       Kryštof          Kryštof   \n",
       "\n",
       "                           vydavatel                     track_hezky  \n",
       "0                       Warner Music                Madonna: Hung Up  \n",
       "1                    Universal Music         Juanes: La camisa negra  \n",
       "2                    Universal Music      Sugababes: Push The Button  \n",
       "3                       Warner Music       Robbie Williams: Tripping  \n",
       "4                    Universal Music      Victoria: Hotel California  \n",
       "...                              ...                             ...  \n",
       "90995                            Nan  X Ambassadors: Friend For Life  \n",
       "90996                     Sony Music                 Rosa Linn: SNAP  \n",
       "90997                            Nan             Tribbs: Without You  \n",
       "90998                Universal Music           Niall Horan: Meltdown  \n",
       "90999  I.Richmond.P./Universal Music    Kryštof: Do nebe se propadám  \n",
       "\n",
       "[91000 rows x 10 columns]"
      ]
     },
     "execution_count": 5,
     "metadata": {},
     "output_type": "execute_result"
    }
   ],
   "source": [
    "df"
   ]
  },
  {
   "cell_type": "markdown",
   "id": "9caffb32",
   "metadata": {},
   "source": [
    "## Písně, které se točí v hodně letech, ale málo konkrétních týdnech"
   ]
  },
  {
   "cell_type": "code",
   "execution_count": 6,
   "id": "b3e13e6d",
   "metadata": {},
   "outputs": [],
   "source": [
    "letnipisne = df[df['tyden'].isin([x for x in range(13,42)])]['track'].drop_duplicates().to_list()"
   ]
  },
  {
   "cell_type": "code",
   "execution_count": 7,
   "id": "5e8bb7e2",
   "metadata": {},
   "outputs": [
    {
     "data": {
      "text/plain": [
       "track\n",
       "All I Want For Christmas Is You    11\n",
       "Christmas Is All Around            11\n",
       "Last Christmas                     11\n",
       "Půlnoční                           11\n",
       "Happy Xmas (War Is Over)           10\n",
       "Sliby se maj plnit o Vánocích      10\n",
       "Thank God It´s Christmas           10\n",
       "Medvídek                            9\n",
       "Na nebi svítí                       7\n",
       "Do They Know It´s Christmas?        6\n",
       "Sněhulák                            6\n",
       "Vánoce na míru                      6\n",
       "Christmas Lights                    4\n",
       "Vánoční                             4\n",
       "Jsou svátky                         3\n",
       "Ledaco                              3\n",
       "Ryba rybě                           3\n",
       "Biela krása                         2\n",
       "Bílý kraj                           2\n",
       "Christmas Without You               2\n",
       "Lover                               2\n",
       "Merry Christmas                     2\n",
       "Milióóóny přání                     2\n",
       "Shake Up Christmas                  2\n",
       "Tichá noc                           2\n",
       "Tiché Gloria                        2\n",
       "Vianočná (o prímerí)                2\n",
       "Vánoční hymna                       2\n",
       "Vánoční přání                       2\n",
       "Name: rok, dtype: int64"
      ]
     },
     "execution_count": 7,
     "metadata": {},
     "output_type": "execute_result"
    }
   ],
   "source": [
    "vanocnipisne = df[(df['tyden'].isin([49,50,51,52,53]) & (~df['track'].isin(letnipisne)))].groupby(['track'])['rok'].nunique().nlargest(50)\n",
    "vanocnipisne = vanocnipisne[vanocnipisne >= 2]\n",
    "vanocnipisne"
   ]
  },
  {
   "cell_type": "code",
   "execution_count": 8,
   "id": "8348ba6c",
   "metadata": {},
   "outputs": [
    {
     "data": {
      "text/plain": [
       "29"
      ]
     },
     "execution_count": 8,
     "metadata": {},
     "output_type": "execute_result"
    }
   ],
   "source": [
    "len(vanocnipisne)"
   ]
  },
  {
   "cell_type": "code",
   "execution_count": 9,
   "id": "48af8de8",
   "metadata": {},
   "outputs": [],
   "source": [
    "vanocnitracky = vanocnipisne.index.to_list()"
   ]
  },
  {
   "cell_type": "code",
   "execution_count": 10,
   "id": "70b4961d",
   "metadata": {},
   "outputs": [
    {
     "data": {
      "text/html": [
       "<div>\n",
       "<style scoped>\n",
       "    .dataframe tbody tr th:only-of-type {\n",
       "        vertical-align: middle;\n",
       "    }\n",
       "\n",
       "    .dataframe tbody tr th {\n",
       "        vertical-align: top;\n",
       "    }\n",
       "\n",
       "    .dataframe thead th {\n",
       "        text-align: right;\n",
       "    }\n",
       "</style>\n",
       "<table border=\"1\" class=\"dataframe\">\n",
       "  <thead>\n",
       "    <tr style=\"text-align: right;\">\n",
       "      <th></th>\n",
       "      <th>Píseň</th>\n",
       "      <th>Let v hitparádě</th>\n",
       "    </tr>\n",
       "  </thead>\n",
       "  <tbody>\n",
       "    <tr>\n",
       "      <th>0</th>\n",
       "      <td>Billy Mack: Christmas Is All Around</td>\n",
       "      <td>11</td>\n",
       "    </tr>\n",
       "    <tr>\n",
       "      <th>1</th>\n",
       "      <td>Mariah Carey: All I Want For Christmas Is You</td>\n",
       "      <td>11</td>\n",
       "    </tr>\n",
       "    <tr>\n",
       "      <th>2</th>\n",
       "      <td>Václav Neckář: Půlnoční</td>\n",
       "      <td>11</td>\n",
       "    </tr>\n",
       "    <tr>\n",
       "      <th>3</th>\n",
       "      <td>Wham!: Last Christmas</td>\n",
       "      <td>11</td>\n",
       "    </tr>\n",
       "    <tr>\n",
       "      <th>4</th>\n",
       "      <td>Janek Ledecký: Sliby se maj plnit o Vánocích</td>\n",
       "      <td>10</td>\n",
       "    </tr>\n",
       "    <tr>\n",
       "      <th>5</th>\n",
       "      <td>John Lennon: Happy Xmas</td>\n",
       "      <td>10</td>\n",
       "    </tr>\n",
       "    <tr>\n",
       "      <th>6</th>\n",
       "      <td>Queen: Thank God It´s Christmas</td>\n",
       "      <td>10</td>\n",
       "    </tr>\n",
       "    <tr>\n",
       "      <th>7</th>\n",
       "      <td>Lucie: Medvídek</td>\n",
       "      <td>9</td>\n",
       "    </tr>\n",
       "    <tr>\n",
       "      <th>8</th>\n",
       "      <td>Dan Bárta: Na nebi svítí</td>\n",
       "      <td>7</td>\n",
       "    </tr>\n",
       "    <tr>\n",
       "      <th>9</th>\n",
       "      <td>Band Aid Ii.: Do They Know It´s Christmas?</td>\n",
       "      <td>6</td>\n",
       "    </tr>\n",
       "    <tr>\n",
       "      <th>10</th>\n",
       "      <td>Ewa Farna: Vánoce na míru</td>\n",
       "      <td>6</td>\n",
       "    </tr>\n",
       "    <tr>\n",
       "      <th>11</th>\n",
       "      <td>Michal Hrůza: Sněhulák</td>\n",
       "      <td>6</td>\n",
       "    </tr>\n",
       "  </tbody>\n",
       "</table>\n",
       "</div>"
      ],
      "text/plain": [
       "                                            Píseň  Let v hitparádě\n",
       "0             Billy Mack: Christmas Is All Around               11\n",
       "1   Mariah Carey: All I Want For Christmas Is You               11\n",
       "2                         Václav Neckář: Půlnoční               11\n",
       "3                           Wham!: Last Christmas               11\n",
       "4    Janek Ledecký: Sliby se maj plnit o Vánocích               10\n",
       "5                        John Lennon: Happy Xmas                10\n",
       "6                 Queen: Thank God It´s Christmas               10\n",
       "7                                 Lucie: Medvídek                9\n",
       "8                        Dan Bárta: Na nebi svítí                7\n",
       "9      Band Aid Ii.: Do They Know It´s Christmas?                6\n",
       "10                      Ewa Farna: Vánoce na míru                6\n",
       "11                         Michal Hrůza: Sněhulák                6"
      ]
     },
     "execution_count": 10,
     "metadata": {},
     "output_type": "execute_result"
    }
   ],
   "source": [
    "vanocnipisne_hezky = df[(df['tyden'].isin([49,50,51,52,53]) & (~df['track'].isin(letnipisne)))].groupby(['track_hezky'])['rok'].nunique().nlargest(50)\n",
    "vanocnipisne_hezky = vanocnipisne_hezky[vanocnipisne_hezky >= 6]\n",
    "vanocnipisne_hezky = pd.DataFrame(vanocnipisne_hezky).reset_index().rename(columns={'track_hezky':'Píseň','rok':'Let v hitparádě'})\n",
    "vanocnipisne_hezky"
   ]
  },
  {
   "cell_type": "code",
   "execution_count": 11,
   "id": "191c7077",
   "metadata": {},
   "outputs": [
    {
     "data": {
      "text/plain": [
       "'<table class=\"dataframe table table--responsive table--w100p table--striped-red table--plain\"><caption>Vánoční hitparádové stálice</caption><thead><tr style=\"text-align: right;\"><th class=\"text-nowrap\">Píseň</th><th class=\"text-nowrap\">Let v hitparádě</th></tr></thead><tbody class=\"text-sm\"><tr><td>Billy Mack: Christmas Is All Around</td><td>11</td></tr><tr><td>Mariah Carey: All I Want For Christmas Is You</td><td>11</td></tr><tr><td>Václav Neckář: Půlnoční</td><td>11</td></tr><tr><td>Wham!: Last Christmas</td><td>11</td></tr><tr><td>Janek Ledecký: Sliby se maj plnit o Vánocích</td><td>10</td></tr><tr><td>John Lennon: Happy Xmas</td><td>10</td></tr><tr><td>Queen: Thank God It´s Christmas</td><td>10</td></tr><tr><td>Lucie: Medvídek</td><td>9</td></tr><tr><td>Dan Bárta: Na nebi svítí</td><td>7</td></tr><tr><td>Band Aid Ii.: Do They Know It´s Christmas?</td><td>6</td></tr><tr><td>Ewa Farna: Vánoce na míru</td><td>6</td></tr><tr><td>Michal Hrůza: Sněhulák</td><td>6</td></tr></tbody><tfoot><tr style=\"text-align: center;\"><td colspan=2>Data od roku 2006, zdroj: ČNS IFPI</td></tr></tfoot></table>'"
      ]
     },
     "execution_count": 11,
     "metadata": {},
     "output_type": "execute_result"
    }
   ],
   "source": [
    "tabulka(vanocnipisne_hezky, titulek=\"Vánoční hitparádové stálice\", podtitulek=\"Data od roku 2006, zdroj: ČNS IFPI\")"
   ]
  },
  {
   "cell_type": "markdown",
   "id": "3946622a",
   "metadata": {},
   "source": [
    "## Písně, které mají Vánoce v názvu"
   ]
  },
  {
   "cell_type": "code",
   "execution_count": 12,
   "id": "59476c4c",
   "metadata": {},
   "outputs": [
    {
     "data": {
      "text/plain": [
       "30598    Sliby se maj plnit o Vánocích\n",
       "35665                      Vánoce bílý\n",
       "56090             Vánoce hrajou glóriá\n",
       "60989                   Vánoce na míru\n",
       "81392                 Vánoce jako dřív\n",
       "86394    O Vánocích (feat. Boni Pueri)\n",
       "86595                Vánoce přicházejí\n",
       "Name: track, dtype: object"
      ]
     },
     "execution_count": 12,
     "metadata": {},
     "output_type": "execute_result"
    }
   ],
   "source": [
    "df[df['track'].str.contains('Vánoc')]['track'].drop_duplicates()"
   ]
  },
  {
   "cell_type": "code",
   "execution_count": 13,
   "id": "62802def",
   "metadata": {},
   "outputs": [
    {
     "data": {
      "text/plain": [
       "35676    Happy Xmas (War Is Over)\n",
       "Name: track, dtype: object"
      ]
     },
     "execution_count": 13,
     "metadata": {},
     "output_type": "execute_result"
    }
   ],
   "source": [
    "df[df['track'].str.contains('Xmas')]['track'].drop_duplicates()"
   ]
  },
  {
   "cell_type": "code",
   "execution_count": 14,
   "id": "93f01c00",
   "metadata": {},
   "outputs": [
    {
     "data": {
      "text/plain": [
       "10298                     Last Christmas\n",
       "25250                 Shake Up Christmas\n",
       "25475                   Christmas Lights\n",
       "30377            Christmas Is All Around\n",
       "30580    All I Want For Christmas Is You\n",
       "35693           Thank God It´s Christmas\n",
       "40778                    White Christmas\n",
       "45638       Do They Know It´s Christmas?\n",
       "50996           Merry Christmas Everyone\n",
       "76351              Christmas Without You\n",
       "81461                    Merry Christmas\n",
       "Name: track, dtype: object"
      ]
     },
     "execution_count": 14,
     "metadata": {},
     "output_type": "execute_result"
    }
   ],
   "source": [
    "df[df['track'].str.contains('Christm')]['track'].drop_duplicates()"
   ]
  },
  {
   "cell_type": "code",
   "execution_count": 15,
   "id": "529f57d1",
   "metadata": {},
   "outputs": [],
   "source": [
    "vanocevnazvu = df[df['track'].str.contains('Christm')]['track'].drop_duplicates().to_list() + df[df['track'].str.contains('Xmas')]['track'].drop_duplicates().to_list() + df[df['track'].str.contains('Vánoc')]['track'].drop_duplicates().to_list() + df[df['track'].str.lower().str.contains('vánoč')]['track'].drop_duplicates().to_list()"
   ]
  },
  {
   "cell_type": "code",
   "execution_count": 16,
   "id": "7109f2cc",
   "metadata": {},
   "outputs": [],
   "source": [
    "vanocni = vanocevnazvu + vanocnitracky"
   ]
  },
  {
   "cell_type": "code",
   "execution_count": 17,
   "id": "cb5b337a",
   "metadata": {},
   "outputs": [
    {
     "data": {
      "text/plain": [
       "['Last Christmas',\n",
       " 'Shake Up Christmas',\n",
       " 'Christmas Lights',\n",
       " 'Christmas Is All Around',\n",
       " 'All I Want For Christmas Is You',\n",
       " 'Thank God It´s Christmas',\n",
       " 'White Christmas',\n",
       " 'Do They Know It´s Christmas?',\n",
       " 'Merry Christmas Everyone',\n",
       " 'Christmas Without You',\n",
       " 'Merry Christmas',\n",
       " 'Happy Xmas (War Is Over)',\n",
       " 'Sliby se maj plnit o Vánocích',\n",
       " 'Vánoce bílý',\n",
       " 'Vánoce hrajou glóriá',\n",
       " 'Vánoce na míru',\n",
       " 'Vánoce jako dřív',\n",
       " 'O Vánocích (feat. Boni Pueri)',\n",
       " 'Vánoce přicházejí',\n",
       " 'Vánoční svařák',\n",
       " 'Vánoční strom',\n",
       " 'Vánoční přání',\n",
       " 'Vánoční hymna',\n",
       " 'Čas vánoční',\n",
       " 'Vánoční fanatik',\n",
       " 'Vánoční',\n",
       " 'All I Want For Christmas Is You',\n",
       " 'Christmas Is All Around',\n",
       " 'Last Christmas',\n",
       " 'Půlnoční',\n",
       " 'Happy Xmas (War Is Over)',\n",
       " 'Sliby se maj plnit o Vánocích',\n",
       " 'Thank God It´s Christmas',\n",
       " 'Medvídek',\n",
       " 'Na nebi svítí',\n",
       " 'Do They Know It´s Christmas?',\n",
       " 'Sněhulák',\n",
       " 'Vánoce na míru',\n",
       " 'Christmas Lights',\n",
       " 'Vánoční',\n",
       " 'Jsou svátky',\n",
       " 'Ledaco',\n",
       " 'Ryba rybě',\n",
       " 'Biela krása',\n",
       " 'Bílý kraj',\n",
       " 'Christmas Without You',\n",
       " 'Lover',\n",
       " 'Merry Christmas',\n",
       " 'Milióóóny přání',\n",
       " 'Shake Up Christmas',\n",
       " 'Tichá noc',\n",
       " 'Tiché Gloria',\n",
       " 'Vianočná (o prímerí)',\n",
       " 'Vánoční hymna',\n",
       " 'Vánoční přání']"
      ]
     },
     "execution_count": 17,
     "metadata": {},
     "output_type": "execute_result"
    }
   ],
   "source": [
    "vanocni"
   ]
  },
  {
   "cell_type": "markdown",
   "id": "ae19142e",
   "metadata": {},
   "source": [
    "## Kdy se to dostává do top 100"
   ]
  },
  {
   "cell_type": "code",
   "execution_count": 84,
   "id": "2df41bb3",
   "metadata": {},
   "outputs": [
    {
     "data": {
      "text/plain": [
       "<Axes: xlabel='tyden'>"
      ]
     },
     "execution_count": 84,
     "metadata": {},
     "output_type": "execute_result"
    },
    {
     "data": {
      "image/png": "[encoded data removed]",
      "text/plain": [
       "<Figure size 1440x360 with 1 Axes>"
      ]
     },
     "metadata": {
      "needs_background": "light"
     },
     "output_type": "display_data"
    }
   ],
   "source": [
    "(df[df['track'].isin(vanocni)].groupby(\"tyden\").size() / df.groupby('tyden').size()).plot.bar(figsize=(20,5))"
   ]
  },
  {
   "cell_type": "code",
   "execution_count": 19,
   "id": "dfb556b3",
   "metadata": {},
   "outputs": [],
   "source": [
    "vanocni_tydnove = [43,44,45,46,47,48,49,50,51,52,1,2,3,4,5,6,7,8,9,10,11]"
   ]
  },
  {
   "cell_type": "code",
   "execution_count": 20,
   "id": "8d93708e",
   "metadata": {},
   "outputs": [],
   "source": [
    "cely_rok = pd.Series((df[df['track'].isin(vanocni)].groupby(\"tyden\").size()).reindex(vanocni_tydnove), name='Hitparádové příčky obsazené od roku 2006 vánočními písněmi')"
   ]
  },
  {
   "cell_type": "code",
   "execution_count": 21,
   "id": "d9350af3",
   "metadata": {},
   "outputs": [
    {
     "data": {
      "text/plain": [
       "tyden\n",
       "43      1\n",
       "44      1\n",
       "45      3\n",
       "46      3\n",
       "47      6\n",
       "48     33\n",
       "49    100\n",
       "50    136\n",
       "51     62\n",
       "52     57\n",
       "1       8\n",
       "2       6\n",
       "3       4\n",
       "4       4\n",
       "5       4\n",
       "6       4\n",
       "7       4\n",
       "8       3\n",
       "9       3\n",
       "10      2\n",
       "11      1\n",
       "Name: Hitparádové příčky obsazené od roku 2006 vánočními písněmi, dtype: int64"
      ]
     },
     "execution_count": 21,
     "metadata": {},
     "output_type": "execute_result"
    }
   ],
   "source": [
    "cely_rok"
   ]
  },
  {
   "cell_type": "code",
   "execution_count": 22,
   "id": "17475971",
   "metadata": {},
   "outputs": [
    {
     "data": {
      "text/html": [
       "<div>\n",
       "<style scoped>\n",
       "    .dataframe tbody tr th:only-of-type {\n",
       "        vertical-align: middle;\n",
       "    }\n",
       "\n",
       "    .dataframe tbody tr th {\n",
       "        vertical-align: top;\n",
       "    }\n",
       "\n",
       "    .dataframe thead th {\n",
       "        text-align: right;\n",
       "    }\n",
       "</style>\n",
       "<table border=\"1\" class=\"dataframe\">\n",
       "  <thead>\n",
       "    <tr style=\"text-align: right;\">\n",
       "      <th></th>\n",
       "      <th>hitparada</th>\n",
       "      <th>rok</th>\n",
       "      <th>tyden</th>\n",
       "      <th>week</th>\n",
       "      <th>pozice</th>\n",
       "      <th>track</th>\n",
       "      <th>interpret</th>\n",
       "      <th>interpret_hlavni</th>\n",
       "      <th>vydavatel</th>\n",
       "      <th>track_hezky</th>\n",
       "    </tr>\n",
       "  </thead>\n",
       "  <tbody>\n",
       "    <tr>\n",
       "      <th>36579</th>\n",
       "      <td>CZ - RADIO - TOP 100</td>\n",
       "      <td>2013</td>\n",
       "      <td>8</td>\n",
       "      <td>2013-08</td>\n",
       "      <td>80</td>\n",
       "      <td>Biela krása</td>\n",
       "      <td>No Name</td>\n",
       "      <td>No Name</td>\n",
       "      <td>Sony Music</td>\n",
       "      <td>No Name: Biela krása</td>\n",
       "    </tr>\n",
       "    <tr>\n",
       "      <th>46661</th>\n",
       "      <td>CZ - RADIO - TOP 100</td>\n",
       "      <td>2015</td>\n",
       "      <td>8</td>\n",
       "      <td>2015-08</td>\n",
       "      <td>62</td>\n",
       "      <td>Sněhulák</td>\n",
       "      <td>Michal Hrůza</td>\n",
       "      <td>Michal Hrůza</td>\n",
       "      <td>Universal Music</td>\n",
       "      <td>Michal Hrůza: Sněhulák</td>\n",
       "    </tr>\n",
       "    <tr>\n",
       "      <th>72195</th>\n",
       "      <td>CZ - RADIO - TOP 100</td>\n",
       "      <td>2020</td>\n",
       "      <td>8</td>\n",
       "      <td>2020-08</td>\n",
       "      <td>96</td>\n",
       "      <td>Lover</td>\n",
       "      <td>Taylor Swift</td>\n",
       "      <td>Taylor Swift</td>\n",
       "      <td>Universal Music</td>\n",
       "      <td>Taylor Swift: Lover</td>\n",
       "    </tr>\n",
       "  </tbody>\n",
       "</table>\n",
       "</div>"
      ],
      "text/plain": [
       "                  hitparada   rok  tyden     week  pozice        track  \\\n",
       "36579  CZ - RADIO - TOP 100  2013      8  2013-08      80  Biela krása   \n",
       "46661  CZ - RADIO - TOP 100  2015      8  2015-08      62     Sněhulák   \n",
       "72195  CZ - RADIO - TOP 100  2020      8  2020-08      96        Lover   \n",
       "\n",
       "          interpret interpret_hlavni        vydavatel             track_hezky  \n",
       "36579       No Name          No Name       Sony Music    No Name: Biela krása  \n",
       "46661  Michal Hrůza     Michal Hrůza  Universal Music  Michal Hrůza: Sněhulák  \n",
       "72195  Taylor Swift     Taylor Swift  Universal Music     Taylor Swift: Lover  "
      ]
     },
     "execution_count": 22,
     "metadata": {},
     "output_type": "execute_result"
    }
   ],
   "source": [
    "df[df['track'].isin(vanocni) & (df['tyden'] == 8)]"
   ]
  },
  {
   "cell_type": "code",
   "execution_count": 23,
   "id": "fad6bf36",
   "metadata": {},
   "outputs": [
    {
     "name": "stdout",
     "output_type": "stream",
     "text": [
      "Graf uložen.\n"
     ]
    }
   ],
   "source": [
    "graf(sloupcovy=[cely_rok], target=\"vanoce_celorok\", titulek='Ve kterých týdnech se vánoční hity dostávají do top 100', podtitulek=f'''Do března v hitparádě vydržely Biela krása od No Name (2013), Sněhulák od Michala Hrůzy (2015) a Lover od Taylor Swift (2020).''', kredity=[\"Zdroj dat: ČNS IFPI | Vizualizace: Michal Kašpárek, iROZHLAS.cz\",\"https://www.irozhlas.cz/zpravy-tag/datova-zurnalistika\"], prvni=False, osay=' ', osay2=' ', skladany=False, naopak=False, skrytnuly=True)"
   ]
  },
  {
   "cell_type": "markdown",
   "id": "edfbef46",
   "metadata": {},
   "source": [
    "## Trajektorie písní"
   ]
  },
  {
   "cell_type": "code",
   "execution_count": 24,
   "id": "3222696e",
   "metadata": {},
   "outputs": [],
   "source": [
    "vsechnytydny = df['week'].drop_duplicates().to_list()"
   ]
  },
  {
   "cell_type": "code",
   "execution_count": 25,
   "id": "2dd243ec",
   "metadata": {},
   "outputs": [
    {
     "data": {
      "text/plain": [
       "['2011-40',\n",
       " '2011-41',\n",
       " '2011-42',\n",
       " '2011-43',\n",
       " '2011-44',\n",
       " '2011-45',\n",
       " '2011-46',\n",
       " '2011-47',\n",
       " '2011-48',\n",
       " '2011-49',\n",
       " '2011-50',\n",
       " '2011-52',\n",
       " '2012-01',\n",
       " '2012-02',\n",
       " '2012-03',\n",
       " '2012-04',\n",
       " '2012-05',\n",
       " '2012-06',\n",
       " '2012-07',\n",
       " '2012-08',\n",
       " '2012-09',\n",
       " '2012-10',\n",
       " '2012-11',\n",
       " '2012-12',\n",
       " '2012-13',\n",
       " '2012-14',\n",
       " '2012-15',\n",
       " '2012-16',\n",
       " '2012-17',\n",
       " '2012-18',\n",
       " '2012-19',\n",
       " '2012-20',\n",
       " '2012-21',\n",
       " '2012-22',\n",
       " '2012-23',\n",
       " '2012-24',\n",
       " '2012-25',\n",
       " '2012-26',\n",
       " '2012-27',\n",
       " '2012-28',\n",
       " '2012-29',\n",
       " '2012-30',\n",
       " '2012-31',\n",
       " '2012-32',\n",
       " '2012-33',\n",
       " '2012-34',\n",
       " '2012-35',\n",
       " '2012-36',\n",
       " '2012-37',\n",
       " '2012-38',\n",
       " '2012-39',\n",
       " '2012-40',\n",
       " '2012-41',\n",
       " '2012-42',\n",
       " '2012-43',\n",
       " '2012-44',\n",
       " '2012-45',\n",
       " '2012-46',\n",
       " '2012-47',\n",
       " '2012-48',\n",
       " '2012-49',\n",
       " '2012-50',\n",
       " '2012-51',\n",
       " '2013-01',\n",
       " '2013-02',\n",
       " '2013-03',\n",
       " '2013-04',\n",
       " '2013-05',\n",
       " '2013-06',\n",
       " '2013-07',\n",
       " '2013-08',\n",
       " '2013-09',\n",
       " '2013-10',\n",
       " '2013-11',\n",
       " '2013-12',\n",
       " '2013-13',\n",
       " '2013-14',\n",
       " '2013-15',\n",
       " '2013-16',\n",
       " '2013-17',\n",
       " '2013-18',\n",
       " '2013-19',\n",
       " '2013-20',\n",
       " '2013-21',\n",
       " '2013-22',\n",
       " '2013-23',\n",
       " '2013-24',\n",
       " '2013-25',\n",
       " '2013-26',\n",
       " '2013-27',\n",
       " '2013-28',\n",
       " '2013-29',\n",
       " '2013-30',\n",
       " '2013-31',\n",
       " '2013-32',\n",
       " '2013-33',\n",
       " '2013-34',\n",
       " '2013-35',\n",
       " '2013-36',\n",
       " '2013-37',\n",
       " '2013-38',\n",
       " '2013-39',\n",
       " '2013-40',\n",
       " '2013-41',\n",
       " '2013-42',\n",
       " '2013-43',\n",
       " '2013-44',\n",
       " '2013-45',\n",
       " '2013-46',\n",
       " '2013-47',\n",
       " '2013-48',\n",
       " '2013-49',\n",
       " '2013-50',\n",
       " '2013-51',\n",
       " '2014-01',\n",
       " '2014-02',\n",
       " '2014-03',\n",
       " '2014-04',\n",
       " '2014-05',\n",
       " '2014-06',\n",
       " '2014-07',\n",
       " '2014-08',\n",
       " '2014-09',\n",
       " '2014-10',\n",
       " '2014-11',\n",
       " '2014-12',\n",
       " '2014-13',\n",
       " '2014-14',\n",
       " '2014-15',\n",
       " '2014-16',\n",
       " '2014-17',\n",
       " '2014-18',\n",
       " '2014-19',\n",
       " '2014-20',\n",
       " '2014-21',\n",
       " '2014-22',\n",
       " '2014-23',\n",
       " '2014-24',\n",
       " '2014-25',\n",
       " '2014-26',\n",
       " '2014-27',\n",
       " '2014-28',\n",
       " '2014-29',\n",
       " '2014-30',\n",
       " '2014-31',\n",
       " '2014-32',\n",
       " '2014-34',\n",
       " '2014-35',\n",
       " '2014-36',\n",
       " '2014-37',\n",
       " '2014-38',\n",
       " '2014-39',\n",
       " '2014-40',\n",
       " '2014-41',\n",
       " '2014-42',\n",
       " '2014-43',\n",
       " '2014-44',\n",
       " '2014-45',\n",
       " '2014-46',\n",
       " '2014-47',\n",
       " '2014-48',\n",
       " '2014-49',\n",
       " '2014-50',\n",
       " '2014-52',\n",
       " '2015-01',\n",
       " '2015-02',\n",
       " '2015-03',\n",
       " '2015-04',\n",
       " '2015-05',\n",
       " '2015-06',\n",
       " '2015-07',\n",
       " '2015-08',\n",
       " '2015-09',\n",
       " '2015-10',\n",
       " '2015-11',\n",
       " '2015-12',\n",
       " '2015-13',\n",
       " '2015-14',\n",
       " '2015-15',\n",
       " '2015-16',\n",
       " '2015-17',\n",
       " '2015-18',\n",
       " '2015-19',\n",
       " '2015-20',\n",
       " '2015-21',\n",
       " '2015-22',\n",
       " '2015-23',\n",
       " '2015-24',\n",
       " '2015-25',\n",
       " '2015-26',\n",
       " '2015-27',\n",
       " '2015-28',\n",
       " '2015-29',\n",
       " '2015-30',\n",
       " '2015-31',\n",
       " '2015-32',\n",
       " '2015-33',\n",
       " '2015-34',\n",
       " '2015-35',\n",
       " '2015-36',\n",
       " '2015-37',\n",
       " '2015-38',\n",
       " '2015-39',\n",
       " '2015-40',\n",
       " '2015-41',\n",
       " '2015-42',\n",
       " '2015-43',\n",
       " '2015-44',\n",
       " '2015-45',\n",
       " '2015-46',\n",
       " '2015-47',\n",
       " '2015-48',\n",
       " '2015-49',\n",
       " '2015-50',\n",
       " '2015-51',\n",
       " '2015-53',\n",
       " '2016-01',\n",
       " '2016-02',\n",
       " '2016-03',\n",
       " '2016-04',\n",
       " '2016-05',\n",
       " '2016-06',\n",
       " '2016-07',\n",
       " '2016-08',\n",
       " '2016-09',\n",
       " '2016-10',\n",
       " '2016-11',\n",
       " '2016-12',\n",
       " '2016-13',\n",
       " '2016-14',\n",
       " '2016-15',\n",
       " '2016-16',\n",
       " '2016-17',\n",
       " '2016-18',\n",
       " '2016-19',\n",
       " '2016-20',\n",
       " '2016-21',\n",
       " '2016-22',\n",
       " '2016-23',\n",
       " '2016-24',\n",
       " '2016-25',\n",
       " '2016-26',\n",
       " '2016-27',\n",
       " '2016-28',\n",
       " '2016-29',\n",
       " '2016-30',\n",
       " '2016-31',\n",
       " '2016-32',\n",
       " '2016-33',\n",
       " '2016-34',\n",
       " '2016-35',\n",
       " '2016-36',\n",
       " '2016-37',\n",
       " '2016-38',\n",
       " '2016-39',\n",
       " '2016-40',\n",
       " '2016-41',\n",
       " '2016-42',\n",
       " '2016-43',\n",
       " '2016-44',\n",
       " '2016-45',\n",
       " '2016-46',\n",
       " '2016-47',\n",
       " '2016-48',\n",
       " '2016-49',\n",
       " '2016-50',\n",
       " '2016-52',\n",
       " '2017-01',\n",
       " '2017-02',\n",
       " '2017-03',\n",
       " '2017-04',\n",
       " '2017-05',\n",
       " '2017-06',\n",
       " '2017-07',\n",
       " '2017-08',\n",
       " '2017-09',\n",
       " '2017-10',\n",
       " '2017-11',\n",
       " '2017-12',\n",
       " '2017-13',\n",
       " '2017-14',\n",
       " '2017-15',\n",
       " '2017-16',\n",
       " '2017-17',\n",
       " '2017-18',\n",
       " '2017-19',\n",
       " '2017-20',\n",
       " '2017-21',\n",
       " '2017-22',\n",
       " '2017-23',\n",
       " '2017-24',\n",
       " '2017-25',\n",
       " '2017-26',\n",
       " '2017-27',\n",
       " '2017-28',\n",
       " '2017-29',\n",
       " '2017-30',\n",
       " '2017-31',\n",
       " '2017-32',\n",
       " '2017-33',\n",
       " '2017-34',\n",
       " '2017-35',\n",
       " '2017-36',\n",
       " '2017-37',\n",
       " '2017-38',\n",
       " '2017-39',\n",
       " '2017-40',\n",
       " '2017-41',\n",
       " '2017-42',\n",
       " '2017-43',\n",
       " '2017-44',\n",
       " '2017-45',\n",
       " '2017-46',\n",
       " '2017-47',\n",
       " '2017-48',\n",
       " '2017-49',\n",
       " '2017-50',\n",
       " '2017-52',\n",
       " '2018-01',\n",
       " '2018-02',\n",
       " '2018-03',\n",
       " '2018-04',\n",
       " '2018-05',\n",
       " '2018-06',\n",
       " '2018-07',\n",
       " '2018-08',\n",
       " '2018-09',\n",
       " '2018-10',\n",
       " '2018-11',\n",
       " '2018-12',\n",
       " '2018-13',\n",
       " '2018-14',\n",
       " '2018-15',\n",
       " '2018-16',\n",
       " '2018-17',\n",
       " '2018-18',\n",
       " '2018-19',\n",
       " '2018-20',\n",
       " '2018-21',\n",
       " '2018-22',\n",
       " '2018-23',\n",
       " '2018-24',\n",
       " '2018-25',\n",
       " '2018-26',\n",
       " '2018-27',\n",
       " '2018-28',\n",
       " '2018-29',\n",
       " '2018-30',\n",
       " '2018-31',\n",
       " '2018-32',\n",
       " '2018-33',\n",
       " '2018-34',\n",
       " '2018-35',\n",
       " '2018-36',\n",
       " '2018-37',\n",
       " '2018-38',\n",
       " '2018-39',\n",
       " '2018-40',\n",
       " '2018-41',\n",
       " '2018-42',\n",
       " '2018-43',\n",
       " '2018-44',\n",
       " '2018-45',\n",
       " '2018-46',\n",
       " '2018-47',\n",
       " '2018-48',\n",
       " '2018-49',\n",
       " '2018-50',\n",
       " '2018-52',\n",
       " '2019-01',\n",
       " '2019-02',\n",
       " '2019-03',\n",
       " '2019-04',\n",
       " '2019-05',\n",
       " '2019-06',\n",
       " '2019-07',\n",
       " '2019-08',\n",
       " '2019-09',\n",
       " '2019-10',\n",
       " '2019-11',\n",
       " '2019-12',\n",
       " '2019-13',\n",
       " '2019-14',\n",
       " '2019-15',\n",
       " '2019-16',\n",
       " '2019-17',\n",
       " '2019-18',\n",
       " '2019-19',\n",
       " '2019-20',\n",
       " '2019-21',\n",
       " '2019-22',\n",
       " '2019-23',\n",
       " '2019-24',\n",
       " '2019-25',\n",
       " '2019-26',\n",
       " '2019-27',\n",
       " '2019-28',\n",
       " '2019-29',\n",
       " '2019-31',\n",
       " '2019-32',\n",
       " '2019-33',\n",
       " '2019-34',\n",
       " '2019-35',\n",
       " '2019-36',\n",
       " '2019-37',\n",
       " '2019-38',\n",
       " '2019-39',\n",
       " '2019-40',\n",
       " '2019-41',\n",
       " '2019-42',\n",
       " '2019-43',\n",
       " '2019-44',\n",
       " '2019-45',\n",
       " '2019-46',\n",
       " '2019-47',\n",
       " '2019-48',\n",
       " '2019-49',\n",
       " '2019-50',\n",
       " '2019-51',\n",
       " '2019-52',\n",
       " '2020-02',\n",
       " '2020-03',\n",
       " '2020-04',\n",
       " '2020-05',\n",
       " '2020-06',\n",
       " '2020-07',\n",
       " '2020-08',\n",
       " '2020-09',\n",
       " '2020-10',\n",
       " '2020-11',\n",
       " '2020-12',\n",
       " '2020-13',\n",
       " '2020-14',\n",
       " '2020-15',\n",
       " '2020-16',\n",
       " '2020-17',\n",
       " '2020-18',\n",
       " '2020-19',\n",
       " '2020-20',\n",
       " '2020-21',\n",
       " '2020-22',\n",
       " '2020-23',\n",
       " '2020-24',\n",
       " '2020-25',\n",
       " '2020-26',\n",
       " '2020-27',\n",
       " '2020-28',\n",
       " '2020-29',\n",
       " '2020-30',\n",
       " '2020-31',\n",
       " '2020-32',\n",
       " '2020-33',\n",
       " '2020-34',\n",
       " '2020-35',\n",
       " '2020-36',\n",
       " '2020-37',\n",
       " '2020-38',\n",
       " '2020-39',\n",
       " '2020-40',\n",
       " '2020-41',\n",
       " '2020-42',\n",
       " '2020-43',\n",
       " '2020-44',\n",
       " '2020-45',\n",
       " '2020-46',\n",
       " '2020-47',\n",
       " '2020-48',\n",
       " '2020-49',\n",
       " '2020-50',\n",
       " '2020-51',\n",
       " '2020-52',\n",
       " '2021-01',\n",
       " '2021-02',\n",
       " '2021-03',\n",
       " '2021-04',\n",
       " '2021-05',\n",
       " '2021-06',\n",
       " '2021-07',\n",
       " '2021-08',\n",
       " '2021-09',\n",
       " '2021-10',\n",
       " '2021-11',\n",
       " '2021-12',\n",
       " '2021-13',\n",
       " '2021-14',\n",
       " '2021-15',\n",
       " '2021-16',\n",
       " '2021-17',\n",
       " '2021-18',\n",
       " '2021-19',\n",
       " '2021-20',\n",
       " '2021-21',\n",
       " '2021-22',\n",
       " '2021-23',\n",
       " '2021-24',\n",
       " '2021-25',\n",
       " '2021-26',\n",
       " '2021-27',\n",
       " '2021-28',\n",
       " '2021-29',\n",
       " '2021-30',\n",
       " '2021-31',\n",
       " '2021-32',\n",
       " '2021-33',\n",
       " '2021-34',\n",
       " '2021-35',\n",
       " '2021-36',\n",
       " '2021-37',\n",
       " '2021-38',\n",
       " '2021-39',\n",
       " '2021-40',\n",
       " '2021-41',\n",
       " '2021-42',\n",
       " '2021-43',\n",
       " '2021-44',\n",
       " '2021-45',\n",
       " '2021-46',\n",
       " '2021-47',\n",
       " '2021-48',\n",
       " '2021-49',\n",
       " '2021-50',\n",
       " '2021-52',\n",
       " '2022-01',\n",
       " '2022-02',\n",
       " '2022-03',\n",
       " '2022-04',\n",
       " '2022-05',\n",
       " '2022-06',\n",
       " '2022-07',\n",
       " '2022-08',\n",
       " '2022-09',\n",
       " '2022-10',\n",
       " '2022-11',\n",
       " '2022-12',\n",
       " '2022-13',\n",
       " '2022-14',\n",
       " '2022-15',\n",
       " '2022-16',\n",
       " '2022-17',\n",
       " '2022-18',\n",
       " '2022-19',\n",
       " '2022-20',\n",
       " '2022-21',\n",
       " '2022-22',\n",
       " '2022-23',\n",
       " '2022-24',\n",
       " '2022-25',\n",
       " '2022-26',\n",
       " '2022-28',\n",
       " '2022-29',\n",
       " '2022-30',\n",
       " '2022-31',\n",
       " '2022-32',\n",
       " '2022-33',\n",
       " '2022-34',\n",
       " '2022-35',\n",
       " '2022-36',\n",
       " '2022-37',\n",
       " '2022-38',\n",
       " '2022-39',\n",
       " '2022-40',\n",
       " '2022-41',\n",
       " '2022-42',\n",
       " '2022-43',\n",
       " '2022-44',\n",
       " '2022-45',\n",
       " '2022-46',\n",
       " '2022-47',\n",
       " '2022-48',\n",
       " '2022-49',\n",
       " '2022-50',\n",
       " '2022-52',\n",
       " '2023-01',\n",
       " '2023-02',\n",
       " '2023-03',\n",
       " '2023-04']"
      ]
     },
     "execution_count": 25,
     "metadata": {},
     "output_type": "execute_result"
    }
   ],
   "source": [
    "vsechnytydny[294:-39]"
   ]
  },
  {
   "cell_type": "code",
   "execution_count": 26,
   "id": "04abbf86",
   "metadata": {},
   "outputs": [],
   "source": [
    "def trajektorie(pisnicka):\n",
    "    pracovni = df.copy()\n",
    "    pracovni = pracovni[(pracovni['track_hezky'] == pisnicka)].drop_duplicates(subset=['rok','tyden']).set_index(\"week\", drop=True)\n",
    "    pracovni = pracovni.reindex(vsechnytydny[292:-39], fill_value=101).sort_index()\n",
    "    return pd.Series(pracovni['pozice'], name=pisnicka)"
   ]
  },
  {
   "cell_type": "code",
   "execution_count": 27,
   "id": "d03b709c",
   "metadata": {},
   "outputs": [
    {
     "data": {
      "text/plain": [
       "12"
      ]
     },
     "execution_count": 27,
     "metadata": {},
     "output_type": "execute_result"
    }
   ],
   "source": [
    "trajekts = []\n",
    "for p in vanocnipisne_hezky['Píseň'].drop_duplicates().to_list():\n",
    "    trajekts.append(trajektorie(p))\n",
    "len(trajekts)"
   ]
  },
  {
   "cell_type": "code",
   "execution_count": 28,
   "id": "276c3bcb",
   "metadata": {},
   "outputs": [
    {
     "name": "stdout",
     "output_type": "stream",
     "text": [
      "Graf uložen.\n"
     ]
    }
   ],
   "source": [
    "graf(carovy=trajekts, target=\"vanoce_since_2006\", titulek='Dobré koledy se vracejí', podtitulek=f'''Hitparádová umístění 12 nejtrvanlivějších vánočních písní''', kredity=[\"Zdroj dat: ČNS IFPI | Vizualizace: Michal Kašpárek, iROZHLAS.cz\",\"https://www.irozhlas.cz/zpravy-tag/datova-zurnalistika\"], prvni=True, osay=' ', osay2=' ', skladany=False, naopak=False, skrytnuly=True, vzhurunohama=True, osaymin=1, osaymax=100)"
   ]
  },
  {
   "cell_type": "code",
   "execution_count": 29,
   "id": "a384526f",
   "metadata": {},
   "outputs": [
    {
     "data": {
      "text/html": [
       "<div>\n",
       "<style scoped>\n",
       "    .dataframe tbody tr th:only-of-type {\n",
       "        vertical-align: middle;\n",
       "    }\n",
       "\n",
       "    .dataframe tbody tr th {\n",
       "        vertical-align: top;\n",
       "    }\n",
       "\n",
       "    .dataframe thead th {\n",
       "        text-align: right;\n",
       "    }\n",
       "</style>\n",
       "<table border=\"1\" class=\"dataframe\">\n",
       "  <thead>\n",
       "    <tr style=\"text-align: right;\">\n",
       "      <th></th>\n",
       "      <th>hitparada</th>\n",
       "      <th>rok</th>\n",
       "      <th>tyden</th>\n",
       "      <th>week</th>\n",
       "      <th>pozice</th>\n",
       "      <th>track</th>\n",
       "      <th>interpret</th>\n",
       "      <th>interpret_hlavni</th>\n",
       "      <th>vydavatel</th>\n",
       "      <th>track_hezky</th>\n",
       "    </tr>\n",
       "  </thead>\n",
       "  <tbody>\n",
       "    <tr>\n",
       "      <th>61000</th>\n",
       "      <td>CZ - RADIO - TOP 100</td>\n",
       "      <td>2017</td>\n",
       "      <td>49</td>\n",
       "      <td>2017-49</td>\n",
       "      <td>1</td>\n",
       "      <td>Words</td>\n",
       "      <td>Emma Drobná</td>\n",
       "      <td>Emma Drobná</td>\n",
       "      <td>Warner Music</td>\n",
       "      <td>Emma Drobná: Words</td>\n",
       "    </tr>\n",
       "    <tr>\n",
       "      <th>61001</th>\n",
       "      <td>CZ - RADIO - TOP 100</td>\n",
       "      <td>2017</td>\n",
       "      <td>49</td>\n",
       "      <td>2017-49</td>\n",
       "      <td>2</td>\n",
       "      <td>Walk On Water</td>\n",
       "      <td>Thirty Seconds To Mars</td>\n",
       "      <td>Thirty Seconds To Mars</td>\n",
       "      <td>Universal Music</td>\n",
       "      <td>Thirty Seconds To Mars: Walk On Water</td>\n",
       "    </tr>\n",
       "    <tr>\n",
       "      <th>61002</th>\n",
       "      <td>CZ - RADIO - TOP 100</td>\n",
       "      <td>2017</td>\n",
       "      <td>49</td>\n",
       "      <td>2017-49</td>\n",
       "      <td>3</td>\n",
       "      <td>Little Hollywood</td>\n",
       "      <td>Alle Farben &amp; Janieck</td>\n",
       "      <td>Alle Farben</td>\n",
       "      <td>Sony Music</td>\n",
       "      <td>Alle Farben: Little Hollywood</td>\n",
       "    </tr>\n",
       "    <tr>\n",
       "      <th>61003</th>\n",
       "      <td>CZ - RADIO - TOP 100</td>\n",
       "      <td>2017</td>\n",
       "      <td>49</td>\n",
       "      <td>2017-49</td>\n",
       "      <td>4</td>\n",
       "      <td>Whatever It Takes</td>\n",
       "      <td>Imagine Dragons</td>\n",
       "      <td>Imagine Dragons</td>\n",
       "      <td>Universal Music</td>\n",
       "      <td>Imagine Dragons: Whatever It Takes</td>\n",
       "    </tr>\n",
       "    <tr>\n",
       "      <th>61004</th>\n",
       "      <td>CZ - RADIO - TOP 100</td>\n",
       "      <td>2017</td>\n",
       "      <td>49</td>\n",
       "      <td>2017-49</td>\n",
       "      <td>5</td>\n",
       "      <td>More Than You Know</td>\n",
       "      <td>Axwell / Ingrosso</td>\n",
       "      <td>Axwell</td>\n",
       "      <td>Universal Music</td>\n",
       "      <td>Axwell: More Than You Know</td>\n",
       "    </tr>\n",
       "    <tr>\n",
       "      <th>...</th>\n",
       "      <td>...</td>\n",
       "      <td>...</td>\n",
       "      <td>...</td>\n",
       "      <td>...</td>\n",
       "      <td>...</td>\n",
       "      <td>...</td>\n",
       "      <td>...</td>\n",
       "      <td>...</td>\n",
       "      <td>...</td>\n",
       "      <td>...</td>\n",
       "    </tr>\n",
       "    <tr>\n",
       "      <th>61095</th>\n",
       "      <td>CZ - RADIO - TOP 100</td>\n",
       "      <td>2017</td>\n",
       "      <td>49</td>\n",
       "      <td>2017-49</td>\n",
       "      <td>96</td>\n",
       "      <td>You’re The Best Thing About Me</td>\n",
       "      <td>U2</td>\n",
       "      <td>U2</td>\n",
       "      <td>Universal Music</td>\n",
       "      <td>U2: You’re The Best Thing About Me</td>\n",
       "    </tr>\n",
       "    <tr>\n",
       "      <th>61096</th>\n",
       "      <td>CZ - RADIO - TOP 100</td>\n",
       "      <td>2017</td>\n",
       "      <td>49</td>\n",
       "      <td>2017-49</td>\n",
       "      <td>97</td>\n",
       "      <td>I Feel So Bad</td>\n",
       "      <td>Kungs &amp; Ephemerals</td>\n",
       "      <td>Kungs</td>\n",
       "      <td>Universal Music</td>\n",
       "      <td>Kungs: I Feel So Bad</td>\n",
       "    </tr>\n",
       "    <tr>\n",
       "      <th>61097</th>\n",
       "      <td>CZ - RADIO - TOP 100</td>\n",
       "      <td>2017</td>\n",
       "      <td>49</td>\n",
       "      <td>2017-49</td>\n",
       "      <td>98</td>\n",
       "      <td>Beautiful Ones</td>\n",
       "      <td>Hurts</td>\n",
       "      <td>Hurts</td>\n",
       "      <td>Sony Music</td>\n",
       "      <td>Hurts: Beautiful Ones</td>\n",
       "    </tr>\n",
       "    <tr>\n",
       "      <th>61098</th>\n",
       "      <td>CZ - RADIO - TOP 100</td>\n",
       "      <td>2017</td>\n",
       "      <td>49</td>\n",
       "      <td>2017-49</td>\n",
       "      <td>99</td>\n",
       "      <td>New Rules</td>\n",
       "      <td>Dua Lipa</td>\n",
       "      <td>Dua Lipa</td>\n",
       "      <td>Warner Music</td>\n",
       "      <td>Dua Lipa: New Rules</td>\n",
       "    </tr>\n",
       "    <tr>\n",
       "      <th>61099</th>\n",
       "      <td>CZ - RADIO - TOP 100</td>\n",
       "      <td>2017</td>\n",
       "      <td>49</td>\n",
       "      <td>2017-49</td>\n",
       "      <td>100</td>\n",
       "      <td>2U</td>\n",
       "      <td>David Guetta &amp; Justin Bieber</td>\n",
       "      <td>David Guetta</td>\n",
       "      <td>Warner Music</td>\n",
       "      <td>David Guetta: 2U</td>\n",
       "    </tr>\n",
       "  </tbody>\n",
       "</table>\n",
       "<p>100 rows × 10 columns</p>\n",
       "</div>"
      ],
      "text/plain": [
       "                  hitparada   rok  tyden     week  pozice  \\\n",
       "61000  CZ - RADIO - TOP 100  2017     49  2017-49       1   \n",
       "61001  CZ - RADIO - TOP 100  2017     49  2017-49       2   \n",
       "61002  CZ - RADIO - TOP 100  2017     49  2017-49       3   \n",
       "61003  CZ - RADIO - TOP 100  2017     49  2017-49       4   \n",
       "61004  CZ - RADIO - TOP 100  2017     49  2017-49       5   \n",
       "...                     ...   ...    ...      ...     ...   \n",
       "61095  CZ - RADIO - TOP 100  2017     49  2017-49      96   \n",
       "61096  CZ - RADIO - TOP 100  2017     49  2017-49      97   \n",
       "61097  CZ - RADIO - TOP 100  2017     49  2017-49      98   \n",
       "61098  CZ - RADIO - TOP 100  2017     49  2017-49      99   \n",
       "61099  CZ - RADIO - TOP 100  2017     49  2017-49     100   \n",
       "\n",
       "                                track                     interpret  \\\n",
       "61000                           Words                   Emma Drobná   \n",
       "61001                   Walk On Water        Thirty Seconds To Mars   \n",
       "61002                Little Hollywood         Alle Farben & Janieck   \n",
       "61003               Whatever It Takes               Imagine Dragons   \n",
       "61004              More Than You Know             Axwell / Ingrosso   \n",
       "...                               ...                           ...   \n",
       "61095  You’re The Best Thing About Me                            U2   \n",
       "61096                   I Feel So Bad            Kungs & Ephemerals   \n",
       "61097                  Beautiful Ones                         Hurts   \n",
       "61098                       New Rules                      Dua Lipa   \n",
       "61099                              2U  David Guetta & Justin Bieber   \n",
       "\n",
       "             interpret_hlavni        vydavatel  \\\n",
       "61000             Emma Drobná     Warner Music   \n",
       "61001  Thirty Seconds To Mars  Universal Music   \n",
       "61002             Alle Farben       Sony Music   \n",
       "61003         Imagine Dragons  Universal Music   \n",
       "61004                  Axwell  Universal Music   \n",
       "...                       ...              ...   \n",
       "61095                      U2  Universal Music   \n",
       "61096                   Kungs  Universal Music   \n",
       "61097                   Hurts       Sony Music   \n",
       "61098                Dua Lipa     Warner Music   \n",
       "61099            David Guetta     Warner Music   \n",
       "\n",
       "                                 track_hezky  \n",
       "61000                     Emma Drobná: Words  \n",
       "61001  Thirty Seconds To Mars: Walk On Water  \n",
       "61002          Alle Farben: Little Hollywood  \n",
       "61003     Imagine Dragons: Whatever It Takes  \n",
       "61004             Axwell: More Than You Know  \n",
       "...                                      ...  \n",
       "61095     U2: You’re The Best Thing About Me  \n",
       "61096                   Kungs: I Feel So Bad  \n",
       "61097                  Hurts: Beautiful Ones  \n",
       "61098                    Dua Lipa: New Rules  \n",
       "61099                       David Guetta: 2U  \n",
       "\n",
       "[100 rows x 10 columns]"
      ]
     },
     "execution_count": 29,
     "metadata": {},
     "output_type": "execute_result"
    }
   ],
   "source": [
    "df[(df['rok'] == 2017) & (df['tyden'] == 49)]"
   ]
  },
  {
   "cell_type": "code",
   "execution_count": 30,
   "id": "a2c1cf9c",
   "metadata": {},
   "outputs": [],
   "source": [
    "def cesta_pisne(seznam):\n",
    "    pracovni = df.copy()\n",
    "    pracovni = pracovni[(pracovni['track'].isin(seznam))].drop_duplicates(subset=['rok','tyden']).set_index(\"week\", drop=True)\n",
    "    pracovni = pracovni.reindex(vsechnytydny, fill_value=101).sort_index()\n",
    "    return pracovni['pozice'].plot(figsize=(20,5)).invert_yaxis()"
   ]
  },
  {
   "cell_type": "code",
   "execution_count": 31,
   "id": "3cd0d084",
   "metadata": {},
   "outputs": [
    {
     "data": {
      "image/png": "[encoded data removed]",
      "text/plain": [
       "<Figure size 1440x360 with 1 Axes>"
      ]
     },
     "metadata": {
      "needs_background": "light"
     },
     "output_type": "display_data"
    }
   ],
   "source": [
    "cesta_pisne(vanocni)"
   ]
  },
  {
   "cell_type": "code",
   "execution_count": 32,
   "id": "d9407f48",
   "metadata": {},
   "outputs": [
    {
     "data": {
      "image/png": "[encoded data removed]",
      "text/plain": [
       "<Figure size 1440x360 with 1 Axes>"
      ]
     },
     "metadata": {
      "needs_background": "light"
     },
     "output_type": "display_data"
    }
   ],
   "source": [
    "cesta_pisne(['Ledaco'])"
   ]
  },
  {
   "cell_type": "code",
   "execution_count": 33,
   "id": "af744e92",
   "metadata": {},
   "outputs": [
    {
     "data": {
      "image/png": "[encoded data removed]",
      "text/plain": [
       "<Figure size 1440x360 with 1 Axes>"
      ]
     },
     "metadata": {
      "needs_background": "light"
     },
     "output_type": "display_data"
    }
   ],
   "source": [
    "cesta_pisne(['Milióóóny přání'])"
   ]
  },
  {
   "cell_type": "code",
   "execution_count": 34,
   "id": "91a1a7ab",
   "metadata": {},
   "outputs": [
    {
     "data": {
      "image/png": "[encoded data removed]",
      "text/plain": [
       "<Figure size 1440x360 with 1 Axes>"
      ]
     },
     "metadata": {
      "needs_background": "light"
     },
     "output_type": "display_data"
    }
   ],
   "source": [
    "cesta_pisne(['Jsou svátky'])"
   ]
  },
  {
   "cell_type": "code",
   "execution_count": 35,
   "id": "ab31366b",
   "metadata": {},
   "outputs": [
    {
     "data": {
      "image/png": "[encoded data removed]",
      "text/plain": [
       "<Figure size 1440x360 with 1 Axes>"
      ]
     },
     "metadata": {
      "needs_background": "light"
     },
     "output_type": "display_data"
    }
   ],
   "source": [
    "cesta_pisne(['Chci tančit'])"
   ]
  },
  {
   "cell_type": "code",
   "execution_count": 36,
   "id": "da122a34",
   "metadata": {},
   "outputs": [
    {
     "data": {
      "image/png": "[encoded data removed]",
      "text/plain": [
       "<Figure size 1440x360 with 1 Axes>"
      ]
     },
     "metadata": {
      "needs_background": "light"
     },
     "output_type": "display_data"
    }
   ],
   "source": [
    "cesta_pisne(['Medvídek'])"
   ]
  },
  {
   "cell_type": "code",
   "execution_count": 37,
   "id": "23c604db",
   "metadata": {},
   "outputs": [
    {
     "data": {
      "image/png": "[encoded data removed]",
      "text/plain": [
       "<Figure size 1440x360 with 1 Axes>"
      ]
     },
     "metadata": {
      "needs_background": "light"
     },
     "output_type": "display_data"
    }
   ],
   "source": [
    "cesta_pisne(['Na nebi svítí'])"
   ]
  },
  {
   "cell_type": "code",
   "execution_count": 38,
   "id": "6ba4aa8a",
   "metadata": {},
   "outputs": [
    {
     "data": {
      "image/png": "[encoded data removed]",
      "text/plain": [
       "<Figure size 1440x360 with 1 Axes>"
      ]
     },
     "metadata": {
      "needs_background": "light"
     },
     "output_type": "display_data"
    }
   ],
   "source": [
    "cesta_pisne(['Desatero'])"
   ]
  },
  {
   "cell_type": "code",
   "execution_count": 39,
   "id": "05e90fa3",
   "metadata": {},
   "outputs": [
    {
     "data": {
      "image/png": "[encoded data removed]",
      "text/plain": [
       "<Figure size 1440x360 with 1 Axes>"
      ]
     },
     "metadata": {
      "needs_background": "light"
     },
     "output_type": "display_data"
    }
   ],
   "source": [
    "cesta_pisne(['Sněhulák'])"
   ]
  },
  {
   "cell_type": "code",
   "execution_count": 40,
   "id": "d6484b4c",
   "metadata": {},
   "outputs": [
    {
     "data": {
      "image/png": "[encoded data removed]",
      "text/plain": [
       "<Figure size 1440x360 with 1 Axes>"
      ]
     },
     "metadata": {
      "needs_background": "light"
     },
     "output_type": "display_data"
    }
   ],
   "source": [
    "cesta_pisne(['Pouta'])"
   ]
  },
  {
   "cell_type": "code",
   "execution_count": 41,
   "id": "eabab542",
   "metadata": {},
   "outputs": [
    {
     "data": {
      "image/png": "[encoded data removed]",
      "text/plain": [
       "<Figure size 1440x360 with 1 Axes>"
      ]
     },
     "metadata": {
      "needs_background": "light"
     },
     "output_type": "display_data"
    }
   ],
   "source": [
    "cesta_pisne(['Occhi'])"
   ]
  },
  {
   "cell_type": "markdown",
   "id": "e88136aa",
   "metadata": {},
   "source": [
    "## Rok 2017"
   ]
  },
  {
   "cell_type": "code",
   "execution_count": 62,
   "id": "7809b7f9",
   "metadata": {},
   "outputs": [
    {
     "data": {
      "text/plain": [
       "track\n",
       "Shape of You                49\n",
       "Když nemůžeš, tak přidej    47\n",
       "Pro Emu                     46\n",
       "Sofia                       46\n",
       "Would I Lie To You          46\n",
       "Name: week, dtype: int64"
      ]
     },
     "execution_count": 62,
     "metadata": {},
     "output_type": "execute_result"
    }
   ],
   "source": [
    "df[df['rok'] == 2017].groupby('track')['week'].nunique().nlargest()"
   ]
  },
  {
   "cell_type": "code",
   "execution_count": 67,
   "id": "cf7a9e04",
   "metadata": {},
   "outputs": [
    {
     "data": {
      "text/plain": [
       "track\n",
       "Vánoce na míru    4\n",
       "Vánoční           3\n",
       "Name: week, dtype: int64"
      ]
     },
     "execution_count": 67,
     "metadata": {},
     "output_type": "execute_result"
    }
   ],
   "source": [
    "df[(df['rok'] == 2017) & (df['track'].str.lower().str.contains('váno',na=False))].groupby('track')['week'].nunique().nlargest()"
   ]
  },
  {
   "cell_type": "markdown",
   "id": "84eabbfe",
   "metadata": {},
   "source": [
    "## Kdy nás ty tracky oblažily poprvé"
   ]
  },
  {
   "cell_type": "code",
   "execution_count": 42,
   "id": "d145759f",
   "metadata": {},
   "outputs": [
    {
     "data": {
      "text/plain": [
       "interpret                          track                          \n",
       "Wham!                              Last Christmas                     2008\n",
       "Walda Gang                         Vánoční svařák                     2009\n",
       "Coldplay                           Christmas Lights                   2010\n",
       "Lucie Vondráčková                  Vánoční strom                      2010\n",
       "Train                              Shake Up Christmas                 2010\n",
       "Billy Mack                         Christmas Is All Around            2011\n",
       "Mariah Carey                       All I Want For Christmas Is You    2011\n",
       "Lucie Vondráčková Feat. R. Schwab  Vánoční přání                      2011\n",
       "Václav Neckář & Umakart            Půlnoční                           2011\n",
       "Lucie                              Medvídek                           2011\n",
       "Janek Ledecký                      Sliby se maj plnit o Vánocích      2011\n",
       "No Name                            Biela krása                        2012\n",
       "Lucie Vondráčková & Kolář Petr     Vánoce bílý                        2012\n",
       "Queen                              Thank God It´s Christmas           2012\n",
       "John Lennon                        Happy Xmas (War Is Over)           2012\n",
       "Tomáš Klus                         Ledaco                             2012\n",
       "Janek Ledecký                      Ryba rybě                          2012\n",
       "Jan Kalousek                       Bílý kraj                          2013\n",
       "Miro Žbirka                        Vianočná (o prímerí)               2013\n",
       "E2 Crew                            Vánoční hymna                      2013\n",
       "Dan Bárta                          Na nebi svítí                      2013\n",
       "Michael Bublé & Shania Twain       White Christmas                    2013\n",
       "Band Aid Ii.                       Do They Know It´s Christmas?       2014\n",
       "Michal Hrůza                       Sněhulák                           2014\n",
       "Bohouš Josef                       Tichá noc                          2014\n",
       "Karel Gott                         Jsou svátky                        2015\n",
       "Olga Lounová                       Vánoční fanatik                    2015\n",
       "Shakin' Stevens                    Merry Christmas Everyone           2015\n",
       "Karel Gott & Lucie Vondráčková     Čas vánoční                        2015\n",
       "Lucie Bílá                         Tiché Gloria                       2016\n",
       "Lenny                              Lover                              2016\n",
       "Petr Kotvald                       Vánoce hrajou glóriá               2016\n",
       "Ewa Farna                          Vánoce na míru                     2017\n",
       "Natálie Grossová                   Vánoční                            2017\n",
       "Jelen                              Vánoční                            2017\n",
       "Chinaski & Katka Knechtová         Milióóóny přání                    2018\n",
       "Taylor Swift                       Lover                              2019\n",
       "Ava Max                            Christmas Without You              2020\n",
       "Kryštof/Karel Gott                 Vánoční                            2020\n",
       "Ed Sheeran & Elton John            Merry Christmas                    2021\n",
       "Marek Ztracený & Hana Zagorová     Vánoce jako dřív                   2021\n",
       "Voxel/Em.                          Vánoce přicházejí                  2022\n",
       "David Deyl & Kristína              Vánoční přání                      2022\n",
       "Lucie Bílá                         O Vánocích (feat. Boni Pueri)      2022\n",
       "Name: rok, dtype: int64"
      ]
     },
     "execution_count": 42,
     "metadata": {},
     "output_type": "execute_result"
    }
   ],
   "source": [
    "df[df['track'].isin(vanocni)].groupby(['interpret','track'])['rok'].min().nsmallest(50)"
   ]
  },
  {
   "cell_type": "markdown",
   "id": "c725cb50",
   "metadata": {},
   "source": [
    "## Český rozhlas"
   ]
  },
  {
   "cell_type": "code",
   "execution_count": 43,
   "id": "a1abc964",
   "metadata": {},
   "outputs": [],
   "source": [
    "cro = pd.read_json(os.path.join(\"data\",\"cro_raw.json\"))"
   ]
  },
  {
   "cell_type": "code",
   "execution_count": 44,
   "id": "5acd0a37",
   "metadata": {},
   "outputs": [],
   "source": [
    "cro['since'] = pd.to_datetime(cro['since'].apply(lambda x: x.replace(\"02:00\",\"01:00\")))"
   ]
  },
  {
   "cell_type": "code",
   "execution_count": 45,
   "id": "4e4a8961",
   "metadata": {},
   "outputs": [],
   "source": [
    "vanocni2 = [x.lower().split(\"(\")[0] for x in vanocni]"
   ]
  },
  {
   "cell_type": "code",
   "execution_count": 46,
   "id": "ac704846",
   "metadata": {},
   "outputs": [
    {
     "data": {
      "text/html": [
       "<div>\n",
       "<style scoped>\n",
       "    .dataframe tbody tr th:only-of-type {\n",
       "        vertical-align: middle;\n",
       "    }\n",
       "\n",
       "    .dataframe tbody tr th {\n",
       "        vertical-align: top;\n",
       "    }\n",
       "\n",
       "    .dataframe thead th {\n",
       "        text-align: right;\n",
       "    }\n",
       "</style>\n",
       "<table border=\"1\" class=\"dataframe\">\n",
       "  <thead>\n",
       "    <tr style=\"text-align: right;\">\n",
       "      <th></th>\n",
       "      <th>since</th>\n",
       "      <th>id</th>\n",
       "      <th>interpret</th>\n",
       "      <th>interpret_id</th>\n",
       "      <th>track</th>\n",
       "      <th>track_id</th>\n",
       "      <th>stanice</th>\n",
       "    </tr>\n",
       "  </thead>\n",
       "  <tbody>\n",
       "    <tr>\n",
       "      <th>0</th>\n",
       "      <td>2020-12-01 04:42:44+01:00</td>\n",
       "      <td>10236811</td>\n",
       "      <td>Samuel Ramey &amp; London Philharmonic Orchestra, ...</td>\n",
       "      <td>24978</td>\n",
       "      <td>Non piu andrai, árie z 1. dějství opery Figaro</td>\n",
       "      <td>83837</td>\n",
       "      <td>d</td>\n",
       "    </tr>\n",
       "    <tr>\n",
       "      <th>1</th>\n",
       "      <td>2020-12-08 18:25:47+01:00</td>\n",
       "      <td>10270691</td>\n",
       "      <td>Samuel Ramey &amp; London Philharmonic Orchestra, ...</td>\n",
       "      <td>24978</td>\n",
       "      <td>Non piu andrai, árie z 1. dějství opery Figaro</td>\n",
       "      <td>83837</td>\n",
       "      <td>d</td>\n",
       "    </tr>\n",
       "    <tr>\n",
       "      <th>2</th>\n",
       "      <td>2020-12-09 06:24:52+01:00</td>\n",
       "      <td>10272302</td>\n",
       "      <td>Samuel Ramey &amp; London Philharmonic Orchestra, ...</td>\n",
       "      <td>24978</td>\n",
       "      <td>Non piu andrai, árie z 1. dějství opery Figaro</td>\n",
       "      <td>83837</td>\n",
       "      <td>d</td>\n",
       "    </tr>\n",
       "    <tr>\n",
       "      <th>3</th>\n",
       "      <td>2020-12-10 18:05:36+01:00</td>\n",
       "      <td>10279719</td>\n",
       "      <td>Adam Plachetka &amp; Symfonický Orchestr Českého R...</td>\n",
       "      <td>24977</td>\n",
       "      <td>La calunnia e un venticello, árie z 1. dějství...</td>\n",
       "      <td>83835</td>\n",
       "      <td>d</td>\n",
       "    </tr>\n",
       "    <tr>\n",
       "      <th>4</th>\n",
       "      <td>2020-12-11 06:04:38+01:00</td>\n",
       "      <td>10281201</td>\n",
       "      <td>Adam Plachetka &amp; Symfonický Orchestr Českého R...</td>\n",
       "      <td>24977</td>\n",
       "      <td>La calunnia e un venticello, árie z 1. dějství...</td>\n",
       "      <td>83835</td>\n",
       "      <td>d</td>\n",
       "    </tr>\n",
       "  </tbody>\n",
       "</table>\n",
       "</div>"
      ],
      "text/plain": [
       "                      since        id  \\\n",
       "0 2020-12-01 04:42:44+01:00  10236811   \n",
       "1 2020-12-08 18:25:47+01:00  10270691   \n",
       "2 2020-12-09 06:24:52+01:00  10272302   \n",
       "3 2020-12-10 18:05:36+01:00  10279719   \n",
       "4 2020-12-11 06:04:38+01:00  10281201   \n",
       "\n",
       "                                           interpret  interpret_id  \\\n",
       "0  Samuel Ramey & London Philharmonic Orchestra, ...         24978   \n",
       "1  Samuel Ramey & London Philharmonic Orchestra, ...         24978   \n",
       "2  Samuel Ramey & London Philharmonic Orchestra, ...         24978   \n",
       "3  Adam Plachetka & Symfonický Orchestr Českého R...         24977   \n",
       "4  Adam Plachetka & Symfonický Orchestr Českého R...         24977   \n",
       "\n",
       "                                               track  track_id stanice  \n",
       "0     Non piu andrai, árie z 1. dějství opery Figaro     83837       d  \n",
       "1     Non piu andrai, árie z 1. dějství opery Figaro     83837       d  \n",
       "2     Non piu andrai, árie z 1. dějství opery Figaro     83837       d  \n",
       "3  La calunnia e un venticello, árie z 1. dějství...     83835       d  \n",
       "4  La calunnia e un venticello, árie z 1. dějství...     83835       d  "
      ]
     },
     "execution_count": 46,
     "metadata": {},
     "output_type": "execute_result"
    }
   ],
   "source": [
    "cro.head()"
   ]
  },
  {
   "cell_type": "code",
   "execution_count": 47,
   "id": "ea92df66",
   "metadata": {},
   "outputs": [],
   "source": [
    "cro['track'] = cro['track'].apply(lambda x: x.lower().split(\"(\")[0])"
   ]
  },
  {
   "cell_type": "code",
   "execution_count": 48,
   "id": "cea80963",
   "metadata": {},
   "outputs": [],
   "source": [
    "cro['datum'] = cro['since'].apply(lambda x: f\"\"\"{x.month:02}-{x.day:02}\"\"\")"
   ]
  },
  {
   "cell_type": "code",
   "execution_count": 49,
   "id": "ac111ef6",
   "metadata": {},
   "outputs": [],
   "source": [
    "vanocnidata = cro[cro['since'].dt.month >= 11]['datum'].sort_values().drop_duplicates().to_list()[23:]"
   ]
  },
  {
   "cell_type": "code",
   "execution_count": 50,
   "id": "f665d953",
   "metadata": {},
   "outputs": [],
   "source": [
    "vanocenacro = pd.Series(cro[(cro['track'].isin(vanocni2)) & (cro['since'].dt.year.isin([2021,2022])) & (cro['since'].dt.month > 9)].groupby('datum')['id'].nunique().reindex(vanocnidata).fillna(0), name=\"denní přehrání\")"
   ]
  },
  {
   "cell_type": "code",
   "execution_count": 51,
   "id": "c42d315a",
   "metadata": {
    "scrolled": true
   },
   "outputs": [
    {
     "data": {
      "text/plain": [
       "55"
      ]
     },
     "execution_count": 51,
     "metadata": {},
     "output_type": "execute_result"
    }
   ],
   "source": [
    "len(vanocni2)"
   ]
  },
  {
   "cell_type": "code",
   "execution_count": 52,
   "id": "708d4943",
   "metadata": {},
   "outputs": [
    {
     "name": "stdout",
     "output_type": "stream",
     "text": [
      "Graf uložen.\n"
     ]
    }
   ],
   "source": [
    "graf(sloupcovy=[vanocenacro], target=\"vanoce_cro\", titulek='Vánoční hity ve vysílání Českého rozhlasu', podtitulek=f'''Denní počty přehrání 55 vánočních skladeb, které od roku 2006 pronikly do týdenních žebříčků top 100 rádiových písní. Data z let 2021 a 2022.''', kredity=[\"Zdroj dat: IFPI a Český rozhlas | Vizualizace: Michal Kašpárek, iROZHLAS.cz\",\"https://www.irozhlas.cz/zpravy-tag/datova-zurnalistika\"], prvni=True, osay=' ', osay2=' ', skladany=False, naopak=False, skrytnuly=True)"
   ]
  },
  {
   "cell_type": "code",
   "execution_count": 53,
   "id": "e030d355",
   "metadata": {},
   "outputs": [
    {
     "data": {
      "text/plain": [
       "datum\n",
       "11-24     1.0\n",
       "11-25     1.0\n",
       "11-26     0.0\n",
       "11-27     0.0\n",
       "11-28     9.0\n",
       "11-29    13.0\n",
       "11-30    15.0\n",
       "12-01    14.0\n",
       "12-02    10.0\n",
       "12-03     9.0\n",
       "12-04     7.0\n",
       "12-05    29.0\n",
       "12-06    34.0\n",
       "12-07    34.0\n",
       "12-08    32.0\n",
       "12-09    32.0\n",
       "12-10    23.0\n",
       "12-11    14.0\n",
       "12-12    43.0\n",
       "12-13    64.0\n",
       "12-14    42.0\n",
       "12-15    44.0\n",
       "12-16    15.0\n",
       "12-17    14.0\n",
       "12-18    14.0\n",
       "12-19    14.0\n",
       "12-20    78.0\n",
       "12-21    75.0\n",
       "12-22    74.0\n",
       "12-23    70.0\n",
       "12-24    69.0\n",
       "12-25    65.0\n",
       "12-26    59.0\n",
       "12-27     0.0\n",
       "12-28     2.0\n",
       "12-29     2.0\n",
       "12-30     2.0\n",
       "12-31     0.0\n",
       "Name: id, dtype: float64"
      ]
     },
     "execution_count": 53,
     "metadata": {},
     "output_type": "execute_result"
    }
   ],
   "source": [
    "cro[((cro['track'].str.lower().str.contains('vánoc',na=False)) | (cro['track'].str.lower().str.contains('christm',na=False))) & (cro['since'].dt.year.isin([2021,2022])) & (cro['since'].dt.month > 9)].groupby('datum')['id'].nunique().reindex(vanocnidata).fillna(0)"
   ]
  },
  {
   "cell_type": "code",
   "execution_count": 54,
   "id": "2bac8694",
   "metadata": {},
   "outputs": [
    {
     "data": {
      "text/plain": [
       "datum\n",
       "02-02    1\n",
       "02-16    1\n",
       "06-03    1\n",
       "06-09    2\n",
       "06-10    1\n",
       "06-25    1\n",
       "07-20    1\n",
       "09-22    1\n",
       "09-26    1\n",
       "09-28    1\n",
       "09-29    1\n",
       "10-01    1\n",
       "10-15    1\n",
       "11-01    1\n",
       "12-02    1\n",
       "12-05    1\n",
       "12-07    1\n",
       "12-12    1\n",
       "12-14    1\n",
       "12-15    1\n",
       "12-16    1\n",
       "12-20    1\n",
       "12-21    1\n",
       "12-22    1\n",
       "12-24    1\n",
       "12-27    1\n",
       "Name: id, dtype: int64"
      ]
     },
     "execution_count": 54,
     "metadata": {},
     "output_type": "execute_result"
    }
   ],
   "source": [
    "cro[((cro['track'].str.lower().str.contains('kdepak ty',na=False))) & (cro['since'].dt.year.isin([2021,2022])) & (cro['since'].dt.month > 1)].groupby('datum')['id'].nunique()"
   ]
  },
  {
   "cell_type": "code",
   "execution_count": 55,
   "id": "c20b2ab2",
   "metadata": {},
   "outputs": [
    {
     "data": {
      "text/html": [
       "<div>\n",
       "<style scoped>\n",
       "    .dataframe tbody tr th:only-of-type {\n",
       "        vertical-align: middle;\n",
       "    }\n",
       "\n",
       "    .dataframe tbody tr th {\n",
       "        vertical-align: top;\n",
       "    }\n",
       "\n",
       "    .dataframe thead th {\n",
       "        text-align: right;\n",
       "    }\n",
       "</style>\n",
       "<table border=\"1\" class=\"dataframe\">\n",
       "  <thead>\n",
       "    <tr style=\"text-align: right;\">\n",
       "      <th></th>\n",
       "      <th>since</th>\n",
       "      <th>id</th>\n",
       "      <th>interpret</th>\n",
       "      <th>interpret_id</th>\n",
       "      <th>track</th>\n",
       "      <th>track_id</th>\n",
       "      <th>stanice</th>\n",
       "      <th>datum</th>\n",
       "    </tr>\n",
       "  </thead>\n",
       "  <tbody>\n",
       "    <tr>\n",
       "      <th>396429</th>\n",
       "      <td>2021-09-29 15:24:04+01:00</td>\n",
       "      <td>11693467</td>\n",
       "      <td>KAREL GOTT</td>\n",
       "      <td>3502</td>\n",
       "      <td>kdepak ty ptáčku hnízdo máš</td>\n",
       "      <td>13828</td>\n",
       "      <td>pohoda</td>\n",
       "      <td>09-29</td>\n",
       "    </tr>\n",
       "    <tr>\n",
       "      <th>397106</th>\n",
       "      <td>2021-10-01 07:11:28+01:00</td>\n",
       "      <td>11705949</td>\n",
       "      <td>KAREL GOTT</td>\n",
       "      <td>3502</td>\n",
       "      <td>kdepak ty ptáčku hnízdo máš</td>\n",
       "      <td>13828</td>\n",
       "      <td>pohoda</td>\n",
       "      <td>10-01</td>\n",
       "    </tr>\n",
       "    <tr>\n",
       "      <th>398921</th>\n",
       "      <td>2021-10-15 09:19:18+01:00</td>\n",
       "      <td>11823701</td>\n",
       "      <td>KAREL GOTT</td>\n",
       "      <td>3502</td>\n",
       "      <td>kdepak ty ptáčku hnízdo máš</td>\n",
       "      <td>13828</td>\n",
       "      <td>pohoda</td>\n",
       "      <td>10-15</td>\n",
       "    </tr>\n",
       "    <tr>\n",
       "      <th>509338</th>\n",
       "      <td>2020-12-21 10:46:05+01:00</td>\n",
       "      <td>10324924</td>\n",
       "      <td>KAREL GOTT</td>\n",
       "      <td>3502</td>\n",
       "      <td>kdepak ty ptáčku hnízdo máš</td>\n",
       "      <td>13828</td>\n",
       "      <td>radiowave</td>\n",
       "      <td>12-21</td>\n",
       "    </tr>\n",
       "    <tr>\n",
       "      <th>526665</th>\n",
       "      <td>2021-02-16 20:56:59+01:00</td>\n",
       "      <td>10576371</td>\n",
       "      <td>KAREL GOTT</td>\n",
       "      <td>3502</td>\n",
       "      <td>kdepak ty ptáčku hnízdo máš</td>\n",
       "      <td>13828</td>\n",
       "      <td>radiowave</td>\n",
       "      <td>02-16</td>\n",
       "    </tr>\n",
       "  </tbody>\n",
       "</table>\n",
       "</div>"
      ],
      "text/plain": [
       "                           since        id   interpret  interpret_id  \\\n",
       "396429 2021-09-29 15:24:04+01:00  11693467  KAREL GOTT          3502   \n",
       "397106 2021-10-01 07:11:28+01:00  11705949  KAREL GOTT          3502   \n",
       "398921 2021-10-15 09:19:18+01:00  11823701  KAREL GOTT          3502   \n",
       "509338 2020-12-21 10:46:05+01:00  10324924  KAREL GOTT          3502   \n",
       "526665 2021-02-16 20:56:59+01:00  10576371  KAREL GOTT          3502   \n",
       "\n",
       "                              track  track_id    stanice  datum  \n",
       "396429  kdepak ty ptáčku hnízdo máš     13828     pohoda  09-29  \n",
       "397106  kdepak ty ptáčku hnízdo máš     13828     pohoda  10-01  \n",
       "398921  kdepak ty ptáčku hnízdo máš     13828     pohoda  10-15  \n",
       "509338  kdepak ty ptáčku hnízdo máš     13828  radiowave  12-21  \n",
       "526665  kdepak ty ptáčku hnízdo máš     13828  radiowave  02-16  "
      ]
     },
     "execution_count": 55,
     "metadata": {},
     "output_type": "execute_result"
    }
   ],
   "source": [
    "cro[cro['track'].str.lower().str.contains('kdepak ty',na=False)].tail(5)"
   ]
  },
  {
   "cell_type": "code",
   "execution_count": 56,
   "id": "cd3faa34",
   "metadata": {},
   "outputs": [
    {
     "data": {
      "text/html": [
       "<div>\n",
       "<style scoped>\n",
       "    .dataframe tbody tr th:only-of-type {\n",
       "        vertical-align: middle;\n",
       "    }\n",
       "\n",
       "    .dataframe tbody tr th {\n",
       "        vertical-align: top;\n",
       "    }\n",
       "\n",
       "    .dataframe thead th {\n",
       "        text-align: right;\n",
       "    }\n",
       "</style>\n",
       "<table border=\"1\" class=\"dataframe\">\n",
       "  <thead>\n",
       "    <tr style=\"text-align: right;\">\n",
       "      <th></th>\n",
       "      <th>since</th>\n",
       "      <th>id</th>\n",
       "      <th>interpret</th>\n",
       "      <th>interpret_id</th>\n",
       "      <th>track</th>\n",
       "      <th>track_id</th>\n",
       "      <th>stanice</th>\n",
       "      <th>datum</th>\n",
       "    </tr>\n",
       "  </thead>\n",
       "  <tbody>\n",
       "    <tr>\n",
       "      <th>91500</th>\n",
       "      <td>2023-01-24 00:15:45+01:00</td>\n",
       "      <td>16911782</td>\n",
       "      <td>WHAM/GEORGE MICHAEL</td>\n",
       "      <td>4042</td>\n",
       "      <td>last christmas</td>\n",
       "      <td>39260</td>\n",
       "      <td>dvojka</td>\n",
       "      <td>01-24</td>\n",
       "    </tr>\n",
       "    <tr>\n",
       "      <th>328150</th>\n",
       "      <td>2023-02-14 09:39:00+01:00</td>\n",
       "      <td>17110288</td>\n",
       "      <td>NIR FELDER</td>\n",
       "      <td>8076</td>\n",
       "      <td>lover</td>\n",
       "      <td>23867</td>\n",
       "      <td>jazz</td>\n",
       "      <td>02-14</td>\n",
       "    </tr>\n",
       "    <tr>\n",
       "      <th>331702</th>\n",
       "      <td>2023-02-28 18:40:30+01:00</td>\n",
       "      <td>17246452</td>\n",
       "      <td>MAHAGON</td>\n",
       "      <td>246</td>\n",
       "      <td>půlnoční</td>\n",
       "      <td>252</td>\n",
       "      <td>jazz</td>\n",
       "      <td>02-28</td>\n",
       "    </tr>\n",
       "    <tr>\n",
       "      <th>333485</th>\n",
       "      <td>2023-03-08 01:37:09+01:00</td>\n",
       "      <td>17312918</td>\n",
       "      <td>MAHAGON</td>\n",
       "      <td>246</td>\n",
       "      <td>půlnoční</td>\n",
       "      <td>252</td>\n",
       "      <td>jazz</td>\n",
       "      <td>03-08</td>\n",
       "    </tr>\n",
       "    <tr>\n",
       "      <th>348913</th>\n",
       "      <td>2023-05-09 02:52:35+01:00</td>\n",
       "      <td>17774131</td>\n",
       "      <td>MAHAGON</td>\n",
       "      <td>246</td>\n",
       "      <td>půlnoční</td>\n",
       "      <td>252</td>\n",
       "      <td>jazz</td>\n",
       "      <td>05-09</td>\n",
       "    </tr>\n",
       "    <tr>\n",
       "      <th>784190</th>\n",
       "      <td>2023-06-07 03:58:53+01:00</td>\n",
       "      <td>18042800</td>\n",
       "      <td>KVĚTY</td>\n",
       "      <td>2004</td>\n",
       "      <td>medvídek</td>\n",
       "      <td>10708</td>\n",
       "      <td>radiowave</td>\n",
       "      <td>06-07</td>\n",
       "    </tr>\n",
       "    <tr>\n",
       "      <th>356544</th>\n",
       "      <td>2023-06-08 20:46:51+01:00</td>\n",
       "      <td>18054875</td>\n",
       "      <td>MAHAGON</td>\n",
       "      <td>246</td>\n",
       "      <td>půlnoční</td>\n",
       "      <td>252</td>\n",
       "      <td>jazz</td>\n",
       "      <td>06-08</td>\n",
       "    </tr>\n",
       "    <tr>\n",
       "      <th>362238</th>\n",
       "      <td>2023-07-01 18:32:25+01:00</td>\n",
       "      <td>18232457</td>\n",
       "      <td>MAHAGON</td>\n",
       "      <td>246</td>\n",
       "      <td>půlnoční</td>\n",
       "      <td>252</td>\n",
       "      <td>jazz</td>\n",
       "      <td>07-01</td>\n",
       "    </tr>\n",
       "    <tr>\n",
       "      <th>364922</th>\n",
       "      <td>2023-07-12 10:43:57+01:00</td>\n",
       "      <td>18367500</td>\n",
       "      <td>MAHAGON</td>\n",
       "      <td>246</td>\n",
       "      <td>půlnoční</td>\n",
       "      <td>252</td>\n",
       "      <td>jazz</td>\n",
       "      <td>07-12</td>\n",
       "    </tr>\n",
       "    <tr>\n",
       "      <th>366507</th>\n",
       "      <td>2023-07-18 18:20:48+01:00</td>\n",
       "      <td>18451677</td>\n",
       "      <td>MAHAGON</td>\n",
       "      <td>246</td>\n",
       "      <td>půlnoční</td>\n",
       "      <td>252</td>\n",
       "      <td>jazz</td>\n",
       "      <td>07-18</td>\n",
       "    </tr>\n",
       "    <tr>\n",
       "      <th>112269</th>\n",
       "      <td>2023-07-24 23:40:14+01:00</td>\n",
       "      <td>18531325</td>\n",
       "      <td>WHAM</td>\n",
       "      <td>4520</td>\n",
       "      <td>last christmas</td>\n",
       "      <td>15138</td>\n",
       "      <td>dvojka</td>\n",
       "      <td>07-24</td>\n",
       "    </tr>\n",
       "    <tr>\n",
       "      <th>116205</th>\n",
       "      <td>2023-08-23 23:40:37+01:00</td>\n",
       "      <td>18923514</td>\n",
       "      <td>TAYLOR SWIFT</td>\n",
       "      <td>5823</td>\n",
       "      <td>lover</td>\n",
       "      <td>70289</td>\n",
       "      <td>dvojka</td>\n",
       "      <td>08-23</td>\n",
       "    </tr>\n",
       "    <tr>\n",
       "      <th>379878</th>\n",
       "      <td>2023-09-10 07:22:50+01:00</td>\n",
       "      <td>19147567</td>\n",
       "      <td>MAHAGON</td>\n",
       "      <td>246</td>\n",
       "      <td>půlnoční</td>\n",
       "      <td>252</td>\n",
       "      <td>jazz</td>\n",
       "      <td>09-10</td>\n",
       "    </tr>\n",
       "    <tr>\n",
       "      <th>118747</th>\n",
       "      <td>2023-09-12 23:01:53+01:00</td>\n",
       "      <td>19182878</td>\n",
       "      <td>VÁCLAV NECKÁŘ/UMAKART</td>\n",
       "      <td>5035</td>\n",
       "      <td>půlnoční</td>\n",
       "      <td>13362</td>\n",
       "      <td>dvojka</td>\n",
       "      <td>09-12</td>\n",
       "    </tr>\n",
       "    <tr>\n",
       "      <th>120303</th>\n",
       "      <td>2023-09-24 23:31:34+01:00</td>\n",
       "      <td>19246415</td>\n",
       "      <td>WHAM/GEORGE MICHAEL</td>\n",
       "      <td>4042</td>\n",
       "      <td>last christmas</td>\n",
       "      <td>39260</td>\n",
       "      <td>dvojka</td>\n",
       "      <td>09-24</td>\n",
       "    </tr>\n",
       "    <tr>\n",
       "      <th>384067</th>\n",
       "      <td>2023-09-26 21:47:23+01:00</td>\n",
       "      <td>19256245</td>\n",
       "      <td>MAHAGON</td>\n",
       "      <td>246</td>\n",
       "      <td>půlnoční</td>\n",
       "      <td>252</td>\n",
       "      <td>jazz</td>\n",
       "      <td>09-26</td>\n",
       "    </tr>\n",
       "    <tr>\n",
       "      <th>388326</th>\n",
       "      <td>2023-10-14 03:36:42+01:00</td>\n",
       "      <td>19338633</td>\n",
       "      <td>MAHAGON</td>\n",
       "      <td>246</td>\n",
       "      <td>půlnoční</td>\n",
       "      <td>252</td>\n",
       "      <td>jazz</td>\n",
       "      <td>10-14</td>\n",
       "    </tr>\n",
       "    <tr>\n",
       "      <th>390094</th>\n",
       "      <td>2023-10-21 03:37:12+01:00</td>\n",
       "      <td>19372315</td>\n",
       "      <td>MAHAGON</td>\n",
       "      <td>246</td>\n",
       "      <td>půlnoční</td>\n",
       "      <td>252</td>\n",
       "      <td>jazz</td>\n",
       "      <td>10-21</td>\n",
       "    </tr>\n",
       "    <tr>\n",
       "      <th>124745</th>\n",
       "      <td>2023-10-28 00:52:13+01:00</td>\n",
       "      <td>19405750</td>\n",
       "      <td>Neckář Václav &amp; Umakart</td>\n",
       "      <td>13146</td>\n",
       "      <td>půlnoční</td>\n",
       "      <td>45850</td>\n",
       "      <td>dvojka</td>\n",
       "      <td>10-28</td>\n",
       "    </tr>\n",
       "    <tr>\n",
       "      <th>125028</th>\n",
       "      <td>2023-10-30 23:54:34+01:00</td>\n",
       "      <td>19419299</td>\n",
       "      <td>WHAM!</td>\n",
       "      <td>4520</td>\n",
       "      <td>last christmas</td>\n",
       "      <td>15138</td>\n",
       "      <td>dvojka</td>\n",
       "      <td>10-30</td>\n",
       "    </tr>\n",
       "  </tbody>\n",
       "</table>\n",
       "</div>"
      ],
      "text/plain": [
       "                           since        id                interpret  \\\n",
       "91500  2023-01-24 00:15:45+01:00  16911782      WHAM/GEORGE MICHAEL   \n",
       "328150 2023-02-14 09:39:00+01:00  17110288               NIR FELDER   \n",
       "331702 2023-02-28 18:40:30+01:00  17246452                  MAHAGON   \n",
       "333485 2023-03-08 01:37:09+01:00  17312918                  MAHAGON   \n",
       "348913 2023-05-09 02:52:35+01:00  17774131                  MAHAGON   \n",
       "784190 2023-06-07 03:58:53+01:00  18042800                    KVĚTY   \n",
       "356544 2023-06-08 20:46:51+01:00  18054875                  MAHAGON   \n",
       "362238 2023-07-01 18:32:25+01:00  18232457                  MAHAGON   \n",
       "364922 2023-07-12 10:43:57+01:00  18367500                  MAHAGON   \n",
       "366507 2023-07-18 18:20:48+01:00  18451677                  MAHAGON   \n",
       "112269 2023-07-24 23:40:14+01:00  18531325                     WHAM   \n",
       "116205 2023-08-23 23:40:37+01:00  18923514             TAYLOR SWIFT   \n",
       "379878 2023-09-10 07:22:50+01:00  19147567                  MAHAGON   \n",
       "118747 2023-09-12 23:01:53+01:00  19182878    VÁCLAV NECKÁŘ/UMAKART   \n",
       "120303 2023-09-24 23:31:34+01:00  19246415      WHAM/GEORGE MICHAEL   \n",
       "384067 2023-09-26 21:47:23+01:00  19256245                  MAHAGON   \n",
       "388326 2023-10-14 03:36:42+01:00  19338633                  MAHAGON   \n",
       "390094 2023-10-21 03:37:12+01:00  19372315                  MAHAGON   \n",
       "124745 2023-10-28 00:52:13+01:00  19405750  Neckář Václav & Umakart   \n",
       "125028 2023-10-30 23:54:34+01:00  19419299                    WHAM!   \n",
       "\n",
       "        interpret_id           track  track_id    stanice  datum  \n",
       "91500           4042  last christmas     39260     dvojka  01-24  \n",
       "328150          8076           lover     23867       jazz  02-14  \n",
       "331702           246        půlnoční       252       jazz  02-28  \n",
       "333485           246        půlnoční       252       jazz  03-08  \n",
       "348913           246        půlnoční       252       jazz  05-09  \n",
       "784190          2004        medvídek     10708  radiowave  06-07  \n",
       "356544           246        půlnoční       252       jazz  06-08  \n",
       "362238           246        půlnoční       252       jazz  07-01  \n",
       "364922           246        půlnoční       252       jazz  07-12  \n",
       "366507           246        půlnoční       252       jazz  07-18  \n",
       "112269          4520  last christmas     15138     dvojka  07-24  \n",
       "116205          5823           lover     70289     dvojka  08-23  \n",
       "379878           246        půlnoční       252       jazz  09-10  \n",
       "118747          5035        půlnoční     13362     dvojka  09-12  \n",
       "120303          4042  last christmas     39260     dvojka  09-24  \n",
       "384067           246        půlnoční       252       jazz  09-26  \n",
       "388326           246        půlnoční       252       jazz  10-14  \n",
       "390094           246        půlnoční       252       jazz  10-21  \n",
       "124745         13146        půlnoční     45850     dvojka  10-28  \n",
       "125028          4520  last christmas     15138     dvojka  10-30  "
      ]
     },
     "execution_count": 56,
     "metadata": {},
     "output_type": "execute_result"
    }
   ],
   "source": [
    "cro[cro['track'].isin(vanocni2) & (cro['since'].dt.year == 2023) & (cro['since'].dt.month <= 10)].sort_values(by='datum').tail(20)"
   ]
  },
  {
   "cell_type": "code",
   "execution_count": 57,
   "id": "91cba347",
   "metadata": {},
   "outputs": [],
   "source": [
    "letni_tracky = cro[cro['since'].dt.month.isin([5,6,7,8])]['track'].drop_duplicates().to_list()"
   ]
  },
  {
   "cell_type": "code",
   "execution_count": 58,
   "id": "8f5e9698",
   "metadata": {},
   "outputs": [
    {
     "data": {
      "text/plain": [
       "track\n",
       "                                   131\n",
       "vánoční                            124\n",
       "all i want for christmas is you     85\n",
       "crazy                               84\n",
       "česká státní hymna                  83\n",
       "půlnoční                            79\n",
       "last christmas                      78\n",
       "bílý den                            75\n",
       "vánoce na míru                      72\n",
       "imagine                             71\n",
       "fotky z výletu                      68\n",
       "whatever it takes                   64\n",
       "torn                                63\n",
       "thank god it's christmas            60\n",
       "merry christmas                     59\n",
       "farmářům                            58\n",
       "i přes to všechno                   58\n",
       "vzácnej den                         58\n",
       "christmas time                      57\n",
       "easy on me                          57\n",
       "black and white                     56\n",
       "medvídek                            56\n",
       "na malou chvíli                     56\n",
       "ryba rybě                           56\n",
       "vianočná                            56\n",
       "before you go                       55\n",
       "driving home for christmas          54\n",
       "na nebi svítí                       54\n",
       "unforgettable                       54\n",
       "alone together                      53\n",
       "snad se něco stane                  53\n",
       "angels like you                     52\n",
       "sněhulák                            52\n",
       "no sleep                            51\n",
       "reflections                         51\n",
       "hallelujah                          50\n",
       "in my bones                         50\n",
       "golden                              49\n",
       "skin                                49\n",
       "do they know it's christmas         48\n",
       "eleanor rigby                       48\n",
       "jediný co chci                      48\n",
       "not giving in                       48\n",
       "stars                               48\n",
       "when you're gone                    48\n",
       "here i am                           47\n",
       "anděl                               46\n",
       "dreaming                            46\n",
       "little bit of love                  46\n",
       "autumn leaves                       45\n",
       "blinding lights                     45\n",
       "coconuts                            45\n",
       "ledaco                              45\n",
       "mes étrangeres                      45\n",
       "život je jen náhoda                 45\n",
       "candy                               44\n",
       "merry christmas everyone            44\n",
       "run                                 44\n",
       "try                                 44\n",
       "move on                             43\n",
       "Name: id, dtype: int64"
      ]
     },
     "execution_count": 58,
     "metadata": {},
     "output_type": "execute_result"
    }
   ],
   "source": [
    "cro[(cro['since'].dt.month == 12)].groupby('track')['id'].nunique().nlargest(60)"
   ]
  },
  {
   "cell_type": "code",
   "execution_count": 59,
   "id": "f24c3e82",
   "metadata": {},
   "outputs": [
    {
     "data": {
      "text/plain": [
       "track\n",
       "vánoční                                      124\n",
       "all i want for christmas is you               85\n",
       "vánoce na míru                                72\n",
       "thank god it's christmas                      60\n",
       "merry christmas                               59\n",
       "vzácnej den                                   58\n",
       "christmas time                                57\n",
       "ryba rybě                                     56\n",
       "vianočná                                      56\n",
       "driving home for christmas                    54\n",
       "na nebi svítí                                 54\n",
       "sněhulák                                      52\n",
       "do they know it's christmas                   48\n",
       "merry christmas everyone                      44\n",
       "bílý kraj                                     39\n",
       "o vánocích                                    39\n",
       "happy xmas                                    38\n",
       "prokřehlá - vánoční                           38\n",
       "so tell me…                                   38\n",
       "bra3 - vánoční                                37\n",
       "happy xmas                                    37\n",
       "sliby se maj plnit o vánocích                 37\n",
       "tisíc andělů                                  37\n",
       "vánoce jako dřív                              37\n",
       "klidná jako voda - vánoční                    36\n",
       "poděkování zdravotníkům - vánoční             36\n",
       "christams all around                          35\n",
       "sebelovesong - vánoční                        35\n",
       "veselé vánoce                                 35\n",
       "bílé vánoce                                   34\n",
       "christmas without you                         33\n",
       "tichá noc                                     33\n",
       "báseň - vánoční                               32\n",
       "lítej - vánoční                               32\n",
       "na vánoce k našim                             32\n",
       "a od těch časů                                31\n",
       "christmas                                     31\n",
       "na obloze právě vysvitly hvězdy - vánoční     29\n",
       "purpura                                       29\n",
       "vítr do plachet - vánoční                     29\n",
       "christmas is all around                       28\n",
       "vánoční                                       28\n",
       "vánoční den                                   28\n",
       "christmas lights                              27\n",
       "mistletoe & wine                              26\n",
       "christmas day                                 24\n",
       "stačí věřit                                   24\n",
       "underneath the tree                           24\n",
       "čas to zabalit                                24\n",
       "gold rush                                     23\n",
       "modlitba                                      23\n",
       "white christmas                               23\n",
       "vánoce přicházejí                             22\n",
       "a od těch časů do vánoc                       21\n",
       "co je toho příčinou                           21\n",
       "jak krásné je být milován - vánoční           20\n",
       "jsou svátky                                   20\n",
       "pro emu - vánoční                             19\n",
       "solo para ti                                  19\n",
       "vánoční kapela                                18\n",
       "Name: id, dtype: int64"
      ]
     },
     "execution_count": 59,
     "metadata": {},
     "output_type": "execute_result"
    }
   ],
   "source": [
    "cro[(cro['since'].dt.month == 12) & (~cro['track'].isin(letni_tracky))].groupby('track')['id'].nunique().nlargest(60)"
   ]
  },
  {
   "cell_type": "markdown",
   "id": "00c6f6aa",
   "metadata": {},
   "source": [
    "## Versus stream"
   ]
  },
  {
   "cell_type": "code",
   "execution_count": 73,
   "id": "22859eba",
   "metadata": {},
   "outputs": [],
   "source": [
    "stream = pd.read_csv(os.path.join(\"data\",\"CZ_SINGLES_DIGITAL_TOP_100_tydenni.csv\"))"
   ]
  },
  {
   "cell_type": "code",
   "execution_count": 74,
   "id": "5782ea5f",
   "metadata": {},
   "outputs": [],
   "source": [
    "stream['track_hezky'] = stream.apply(lambda row: f\"\"\"{row['interpret_hlavni']}: {row['track'].split(\"(\")[0]}\"\"\", axis=1)"
   ]
  },
  {
   "cell_type": "code",
   "execution_count": 75,
   "id": "fc86b29a",
   "metadata": {},
   "outputs": [],
   "source": [
    "letnistream = stream[stream['tyden'].isin([x for x in range(13,42)])]['track'].drop_duplicates().to_list()"
   ]
  },
  {
   "cell_type": "code",
   "execution_count": 76,
   "id": "7ba3995d",
   "metadata": {},
   "outputs": [
    {
     "data": {
      "text/plain": [
       "track\n",
       "All I Want For Christmas Is You                9\n",
       "It's Beginning To Look A Lot Like Christmas    9\n",
       "Last Christmas                                 9\n",
       "Let It Snow! Let It Snow! Let It Snow!         8\n",
       "Santa Tell Me                                  8\n",
       "Happy Xmas (War Is Over)                       7\n",
       "Christmas Lights                               6\n",
       "Holly Jolly Christmas                          6\n",
       "It's the Most Wonderful Time of the Year       6\n",
       "Jingle Bell Rock                               6\n",
       "Mistletoe                                      6\n",
       "Půlnoční                                       6\n",
       "Rockin' Around The Christmas Tree              6\n",
       "Vánoce na míru                                 6\n",
       "Underneath the Tree                            5\n",
       "Vánoční                                        5\n",
       "Have Yourself A Merry Little Christmas         4\n",
       "Merry Christmas Everyone                       4\n",
       "Ryba rybě                                      4\n",
       "Sleigh Ride                                    4\n",
       "Wonderful Christmastime                        4\n",
       "A Holly Jolly Christmas                        3\n",
       "Do They Know It´s Christmas?                   3\n",
       "Feliz Navidad                                  3\n",
       "Milióóóny přání                                3\n",
       "Santa's Coming For Us                          3\n",
       "Sliby se maj plnit o Vánocích                  3\n",
       "Snowman                                        3\n",
       "Tři oříšky                                     3\n",
       "Štědrej večer nastal                           3\n",
       "Driving Home For Christmas                     2\n",
       "Jsou svátky                                    2\n",
       "Merry Christmas                                2\n",
       "Stačí věřit                                    2\n",
       "Vánoce jako dřív                               2\n",
       "Vánoční (feat. Teri Blitzen)                   2\n",
       "White Christmas                                2\n",
       "Name: rok, dtype: int64"
      ]
     },
     "execution_count": 76,
     "metadata": {},
     "output_type": "execute_result"
    }
   ],
   "source": [
    "vanocnistream = stream[(stream['tyden'].isin([49,50,51,52,53]) & (~stream['track'].isin(letnistream)))].groupby(['track'])['rok'].nunique().nlargest(50)\n",
    "vanocnistream = vanocnistream[vanocnistream >= 2]\n",
    "vanocnistream"
   ]
  },
  {
   "cell_type": "code",
   "execution_count": 83,
   "id": "0bc144ab",
   "metadata": {},
   "outputs": [
    {
     "data": {
      "text/plain": [
       "<Axes: xlabel='tyden'>"
      ]
     },
     "execution_count": 83,
     "metadata": {},
     "output_type": "execute_result"
    },
    {
     "data": {
      "image/png": "[encoded data removed]",
      "text/plain": [
       "<Figure size 1440x360 with 1 Axes>"
      ]
     },
     "metadata": {
      "needs_background": "light"
     },
     "output_type": "display_data"
    }
   ],
   "source": [
    "stream[stream['track'].isin(vanocnistream.index.to_list())].groupby('tyden').size().plot.bar(figsize=(20,5))"
   ]
  },
  {
   "cell_type": "code",
   "execution_count": 91,
   "id": "d327c8cf",
   "metadata": {},
   "outputs": [
    {
     "data": {
      "text/plain": [
       "37"
      ]
     },
     "execution_count": 91,
     "metadata": {},
     "output_type": "execute_result"
    }
   ],
   "source": [
    "len(vanocnistream.index.to_list())"
   ]
  },
  {
   "cell_type": "code",
   "execution_count": 90,
   "id": "a883932b",
   "metadata": {},
   "outputs": [
    {
     "data": {
      "text/plain": [
       "track_hezky\n",
       "Wham!: Last Christmas                                         9\n",
       "Mariah Carey: All I Want For Christmas Is You                 9\n",
       "Michael Bublé: It's Beginning To Look A Lot Like Christmas    9\n",
       "Ariana Grande: Santa Tell Me                                  8\n",
       "Frank Sinatra: Let It Snow! Let It Snow! Let It Snow!         8\n",
       "John Lennon: Happy Xmas                                       7\n",
       "Justin Bieber: Mistletoe                                      6\n",
       "Michael Bublé: Holly Jolly Christmas                          6\n",
       "Ewa Farna: Vánoce na míru                                     6\n",
       "Andy Williams: It's the Most Wonderful Time of the Year       6\n",
       "Brenda Lee: Rockin' Around The Christmas Tree                 6\n",
       "Václav Neckář: Půlnoční                                       6\n",
       "Coldplay: Christmas Lights                                    6\n",
       "Dean Martin: Let It Snow! Let It Snow! Let It Snow!           5\n",
       "Bobby Helms: Jingle Bell Rock                                 5\n",
       "Kelly Clarkson: Underneath the Tree                           5\n",
       "Sam Smith: Have Yourself A Merry Little Christmas             4\n",
       "Paul Mccartney: Wonderful Christmastime                       4\n",
       "Shakin' Stevens: Merry Christmas Everyone                     4\n",
       "The Ronettes: Sleigh Ride                                     4\n",
       "Johny Machette: Vánoční                                       4\n",
       "Janek Ledecký: Ryba rybě                                      4\n",
       "Iveta Bartošová: Tři oříšky                                   3\n",
       "Band Aid Ii.: Do They Know It´s Christmas?                    3\n",
       "Burl Ives: A Holly Jolly Christmas                            3\n",
       "Sia: Snowman                                                  3\n",
       "Sia: Santa's Coming For Us                                    3\n",
       "Chinaski: Milióóóny přání                                     3\n",
       "José Feliciano: Feliz Navidad                                 3\n",
       "Xindl X: Štědrej večer nastal                                 3\n",
       "Janek Ledecký: Sliby se maj plnit o Vánocích                  3\n",
       "Kryštof: Vánoční                                              3\n",
       "Jelen: Vánoční                                                3\n",
       "Marek Ztracený: Vánoce jako dřív                              2\n",
       "Ed Sheeran: Merry Christmas                                   2\n",
       "Chris Rea: Driving Home For Christmas                         2\n",
       "Marek Ztracený: Stačí věřit                                   2\n",
       "Karel Gott: Jsou svátky                                       2\n",
       "Bing Crosby: White Christmas                                  2\n",
       "Johny Machette: Vánoční                                       2\n",
       "Anita Kerr Singers: Jingle Bell Rock                          1\n",
       "Name: rok, dtype: int64"
      ]
     },
     "execution_count": 90,
     "metadata": {},
     "output_type": "execute_result"
    }
   ],
   "source": [
    "stream[(stream['track'].isin(vanocnistream.index.to_list())) & (stream['tyden'] > 45)].groupby('track_hezky')['rok'].nunique().nlargest(50)"
   ]
  }
 ],
 "metadata": {
  "kernelspec": {
   "display_name": "Python 3 (ipykernel)",
   "language": "python",
   "name": "python3"
  },
  "language_info": {
   "codemirror_mode": {
    "name": "ipython",
    "version": 3
   },
   "file_extension": ".py",
   "mimetype": "text/x-python",
   "name": "python",
   "nbconvert_exporter": "python",
   "pygments_lexer": "ipython3",
   "version": "3.10.8"
  }
 },
 "nbformat": 4,
 "nbformat_minor": 5
}
