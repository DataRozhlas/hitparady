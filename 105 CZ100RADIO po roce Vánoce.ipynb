{
 "cells": [
  {
   "cell_type": "code",
   "execution_count": 1,
   "id": "160c012d",
   "metadata": {},
   "outputs": [],
   "source": [
    "import os\n",
    "import pandas as pd"
   ]
  },
  {
   "cell_type": "code",
   "execution_count": 2,
   "id": "90b07a7a",
   "metadata": {
    "scrolled": true
   },
   "outputs": [],
   "source": [
    "df = pd.read_csv(os.path.join(\"data\",\"CZ_RADIO_TOP_100_tydenni.csv\"))"
   ]
  },
  {
   "cell_type": "markdown",
   "id": "9caffb32",
   "metadata": {},
   "source": [
    "## Písně, které se točí v hodně letech, ale málo konkrétních týdnech"
   ]
  },
  {
   "cell_type": "code",
   "execution_count": 3,
   "id": "6161c869",
   "metadata": {},
   "outputs": [
    {
     "data": {
      "text/plain": [
       "track                            interpret                      \n",
       "Thank God It´s Christmas         Queen                              2.50\n",
       "Medvídek                         Lucie                              2.25\n",
       "Christmas Is All Around          Billy Mack                         2.20\n",
       "All I Want For Christmas Is You  Mariah Carey                       2.20\n",
       "Sliby se maj plnit o Vánocích    Janek Ledecký                      2.00\n",
       "Last Christmas                   Wham!                              2.00\n",
       "Happy Xmas (War Is Over)         John Lennon                        2.00\n",
       "Christmas Without You            Ava Max                            2.00\n",
       "Na nebi svítí                    Dan Bárta                          1.75\n",
       "Do They Know It´s Christmas?     Band Aid Ii.                       1.50\n",
       "Vánoce na míru                   Ewa Farna                          1.20\n",
       "Něco je ve vzduchu               Xindl X                            1.00\n",
       "Obchodník s deštěm               Kryštof                            1.00\n",
       "Occhi                            Zucchero                           1.00\n",
       "Blame It On the Summ             Shaun Baker / Bryce                1.00\n",
       "Depressing Valentine' s          Elis                               1.00\n",
       "Black Beatles                    Rae Sremmurd & Gucci Mane          1.00\n",
       "Other Boys                       Marshmello & Dove Cameron          1.00\n",
       "Big Yellow Taxi                  Counting Crows                     1.00\n",
       "P.Y.T. (Pretty Young Thing)      John Gibbson                       1.00\n",
       "Paradise                         George Ezra                        1.00\n",
       "Pieces                           Declan J Donovan                   1.00\n",
       "Noel                             David Deyl                         1.00\n",
       "Big In Japan                     Martin Solveig Feat. Dragonette    1.00\n",
       "Pizzaman                         Indy Feat. Nicol                   1.00\n",
       "Polárka                          Michal Hrůza                       1.00\n",
       "Pop!Goes My Heart                Grant Hugh                         1.00\n",
       "Praha                            O5 & Radeček                       1.00\n",
       "Pretty Shining People            George Ezra                        1.00\n",
       "Pump It Up                       Endor                              1.00\n",
       "dtype: float64"
      ]
     },
     "execution_count": 3,
     "metadata": {},
     "output_type": "execute_result"
    }
   ],
   "source": [
    "pd.Series(df.groupby(['track','interpret'])['rok'].nunique() / df.groupby(['track','interpret'])['tyden'].nunique()).sort_values(ascending=False).head(30)"
   ]
  },
  {
   "cell_type": "markdown",
   "id": "f90f999d",
   "metadata": {},
   "source": [
    "Lol Medvídek, je tam SNÍH, jsou to VÁNOCE."
   ]
  },
  {
   "cell_type": "code",
   "execution_count": 4,
   "id": "6d625769",
   "metadata": {},
   "outputs": [
    {
     "data": {
      "text/plain": [
       "track                            interpret                \n",
       "Thank God It´s Christmas         Queen                        2.50\n",
       "Medvídek                         Lucie                        2.25\n",
       "Christmas Is All Around          Billy Mack                   2.20\n",
       "All I Want For Christmas Is You  Mariah Carey                 2.20\n",
       "Sliby se maj plnit o Vánocích    Janek Ledecký                2.00\n",
       "Last Christmas                   Wham!                        2.00\n",
       "Happy Xmas (War Is Over)         John Lennon                  2.00\n",
       "Christmas Without You            Ava Max                      2.00\n",
       "Na nebi svítí                    Dan Bárta                    1.75\n",
       "Do They Know It´s Christmas?     Band Aid Ii.                 1.50\n",
       "Vánoce na míru                   Ewa Farna                    1.20\n",
       "Něco je ve vzduchu               Xindl X                      1.00\n",
       "Obchodník s deštěm               Kryštof                      1.00\n",
       "Occhi                            Zucchero                     1.00\n",
       "Blame It On the Summ             Shaun Baker / Bryce          1.00\n",
       "Depressing Valentine' s          Elis                         1.00\n",
       "Black Beatles                    Rae Sremmurd & Gucci Mane    1.00\n",
       "Other Boys                       Marshmello & Dove Cameron    1.00\n",
       "Big Yellow Taxi                  Counting Crows               1.00\n",
       "P.Y.T. (Pretty Young Thing)      John Gibbson                 1.00\n",
       "dtype: float64"
      ]
     },
     "execution_count": 4,
     "metadata": {},
     "output_type": "execute_result"
    }
   ],
   "source": [
    "pd.Series(df.groupby(['track','interpret'])['rok'].nunique() / df.groupby(['track','interpret'])['tyden'].nunique()).sort_values(ascending=False).head(20)"
   ]
  },
  {
   "cell_type": "markdown",
   "id": "3946622a",
   "metadata": {},
   "source": [
    "## Písně, které mají Vánoce v názvu"
   ]
  },
  {
   "cell_type": "code",
   "execution_count": 5,
   "id": "59476c4c",
   "metadata": {},
   "outputs": [
    {
     "data": {
      "text/plain": [
       "30598    Sliby se maj plnit o Vánocích\n",
       "35665                      Vánoce bílý\n",
       "56090             Vánoce hrajou glóriá\n",
       "61089                   Vánoce na míru\n",
       "81392                 Vánoce jako dřív\n",
       "86494    O Vánocích (feat. Boni Pueri)\n",
       "86695                Vánoce přicházejí\n",
       "Name: track, dtype: object"
      ]
     },
     "execution_count": 5,
     "metadata": {},
     "output_type": "execute_result"
    }
   ],
   "source": [
    "df[df['track'].str.contains('Vánoc')]['track'].drop_duplicates()"
   ]
  },
  {
   "cell_type": "code",
   "execution_count": 6,
   "id": "62802def",
   "metadata": {},
   "outputs": [
    {
     "data": {
      "text/plain": [
       "35676    Happy Xmas (War Is Over)\n",
       "Name: track, dtype: object"
      ]
     },
     "execution_count": 6,
     "metadata": {},
     "output_type": "execute_result"
    }
   ],
   "source": [
    "df[df['track'].str.contains('Xmas')]['track'].drop_duplicates()"
   ]
  },
  {
   "cell_type": "code",
   "execution_count": 7,
   "id": "93f01c00",
   "metadata": {},
   "outputs": [
    {
     "data": {
      "text/plain": [
       "10298                     Last Christmas\n",
       "25250                 Shake Up Christmas\n",
       "25475                   Christmas Lights\n",
       "30377            Christmas Is All Around\n",
       "30580    All I Want For Christmas Is You\n",
       "35693           Thank God It´s Christmas\n",
       "40778                    White Christmas\n",
       "45638       Do They Know It´s Christmas?\n",
       "50996           Merry Christmas Everyone\n",
       "76351              Christmas Without You\n",
       "81461                    Merry Christmas\n",
       "Name: track, dtype: object"
      ]
     },
     "execution_count": 7,
     "metadata": {},
     "output_type": "execute_result"
    }
   ],
   "source": [
    "df[df['track'].str.contains('Christm')]['track'].drop_duplicates()"
   ]
  },
  {
   "cell_type": "code",
   "execution_count": 8,
   "id": "529f57d1",
   "metadata": {},
   "outputs": [],
   "source": [
    "vanocni = df[df['track'].str.contains('Christm')]['track'].drop_duplicates().to_list() + df[df['track'].str.contains('Xmas')]['track'].drop_duplicates().to_list() + df[df['track'].str.contains('Vánoc')]['track'].drop_duplicates().to_list() + df[df['track'].str.lower().str.contains('vánoč')]['track'].drop_duplicates().to_list()\n",
    "vanocni.append(\"Půlnoční\")"
   ]
  },
  {
   "cell_type": "markdown",
   "id": "ae19142e",
   "metadata": {},
   "source": [
    "## Kdy se to dostává do top 100"
   ]
  },
  {
   "cell_type": "code",
   "execution_count": 9,
   "id": "fc90410c",
   "metadata": {},
   "outputs": [
    {
     "data": {
      "text/plain": [
       "<Axes: xlabel='tyden'>"
      ]
     },
     "execution_count": 9,
     "metadata": {},
     "output_type": "execute_result"
    },
    {
     "data": {
      "image/png": "[encoded data removed]",
      "text/plain": [
       "<Figure size 432x288 with 1 Axes>"
      ]
     },
     "metadata": {
      "needs_background": "light"
     },
     "output_type": "display_data"
    }
   ],
   "source": [
    "df[df['track'].isin(vanocni)].groupby(\"tyden\")['rok'].nunique().plot.bar()"
   ]
  },
  {
   "cell_type": "code",
   "execution_count": 10,
   "id": "3222696e",
   "metadata": {},
   "outputs": [],
   "source": [
    "vsechnytydny = df['week'].drop_duplicates().to_list()"
   ]
  },
  {
   "cell_type": "code",
   "execution_count": 11,
   "id": "a2c1cf9c",
   "metadata": {},
   "outputs": [],
   "source": [
    "def cesta_pisne(seznam):\n",
    "    pracovni = df\n",
    "    pracovni = pracovni[(pracovni['track'].isin(seznam))].drop_duplicates(subset=['rok','tyden']).set_index(\"week\", drop=True)\n",
    "    pracovni = pracovni.reindex(vsechnytydny, fill_value=101).sort_index()\n",
    "    return pracovni['pozice'].plot(figsize=(20,5)).invert_yaxis()"
   ]
  },
  {
   "cell_type": "code",
   "execution_count": 12,
   "id": "3cd0d084",
   "metadata": {},
   "outputs": [
    {
     "data": {
      "image/png": "[encoded data removed]",
      "text/plain": [
       "<Figure size 1440x360 with 1 Axes>"
      ]
     },
     "metadata": {
      "needs_background": "light"
     },
     "output_type": "display_data"
    }
   ],
   "source": [
    "cesta_pisne(vanocni)"
   ]
  },
  {
   "cell_type": "markdown",
   "id": "84eabbfe",
   "metadata": {},
   "source": [
    "## Kdy nás ty tracky oblažily poprvé"
   ]
  },
  {
   "cell_type": "code",
   "execution_count": 13,
   "id": "d145759f",
   "metadata": {},
   "outputs": [
    {
     "data": {
      "text/plain": [
       "interpret                          track                          \n",
       "Wham!                              Last Christmas                     2008\n",
       "Walda Gang                         Vánoční svařák                     2009\n",
       "Train                              Shake Up Christmas                 2010\n",
       "Lucie Vondráčková                  Vánoční strom                      2010\n",
       "Coldplay                           Christmas Lights                   2010\n",
       "Lucie Vondráčková Feat. R. Schwab  Vánoční přání                      2011\n",
       "Václav Neckář & Umakart            Půlnoční                           2011\n",
       "Janek Ledecký                      Sliby se maj plnit o Vánocích      2011\n",
       "Mariah Carey                       All I Want For Christmas Is You    2011\n",
       "Billy Mack                         Christmas Is All Around            2011\n",
       "John Lennon                        Happy Xmas (War Is Over)           2012\n",
       "Queen                              Thank God It´s Christmas           2012\n",
       "Lucie Vondráčková & Kolář Petr     Vánoce bílý                        2012\n",
       "E2 Crew                            Vánoční hymna                      2013\n",
       "Michael Bublé & Shania Twain       White Christmas                    2013\n",
       "Band Aid Ii.                       Do They Know It´s Christmas?       2014\n",
       "Shakin' Stevens                    Merry Christmas Everyone           2015\n",
       "Karel Gott & Lucie Vondráčková     Čas vánoční                        2015\n",
       "Olga Lounová                       Vánoční fanatik                    2015\n",
       "Petr Kotvald                       Vánoce hrajou glóriá               2016\n",
       "Jelen                              Vánoční                            2017\n",
       "Ewa Farna                          Vánoce na míru                     2017\n",
       "Natálie Grossová                   Vánoční                            2017\n",
       "Ava Max                            Christmas Without You              2020\n",
       "Kryštof/Karel Gott                 Vánoční                            2020\n",
       "Ed Sheeran & Elton John            Merry Christmas                    2021\n",
       "Marek Ztracený & Hana Zagorová     Vánoce jako dřív                   2021\n",
       "Lucie Bílá                         O Vánocích (feat. Boni Pueri)      2022\n",
       "Voxel/Em.                          Vánoce přicházejí                  2022\n",
       "David Deyl & Kristína              Vánoční přání                      2022\n",
       "Name: rok, dtype: int64"
      ]
     },
     "execution_count": 13,
     "metadata": {},
     "output_type": "execute_result"
    }
   ],
   "source": [
    "df[df['track'].isin(vanocni)].groupby(['interpret','track'])['rok'].min().nsmallest(50)"
   ]
  },
  {
   "cell_type": "markdown",
   "id": "3c449342",
   "metadata": {},
   "source": [
    "## Český rozhlas"
   ]
  },
  {
   "cell_type": "code",
   "execution_count": 14,
   "id": "ca9d19d1",
   "metadata": {},
   "outputs": [],
   "source": [
    "vanocni_l = [x.lower() for x in vanocni]"
   ]
  },
  {
   "cell_type": "code",
   "execution_count": 15,
   "id": "63c464bd",
   "metadata": {},
   "outputs": [],
   "source": [
    "rz = pd.read_json(os.path.join(\"data\",\"cro_raw.json\"))"
   ]
  },
  {
   "cell_type": "code",
   "execution_count": 16,
   "id": "8e91a8ac",
   "metadata": {},
   "outputs": [],
   "source": [
    "rz['since'] = rz['since'].apply(lambda x: x.replace(\"01:00\",\"02:00\"))"
   ]
  },
  {
   "cell_type": "code",
   "execution_count": 17,
   "id": "cf565c2d",
   "metadata": {},
   "outputs": [],
   "source": [
    "rz['den'] = pd.to_datetime(rz['since']).dt.dayofyear"
   ]
  },
  {
   "cell_type": "code",
   "execution_count": 18,
   "id": "a9c2fd3e",
   "metadata": {},
   "outputs": [
    {
     "data": {
      "text/plain": [
       "0          2020-12-01T04:42:44+02:00\n",
       "1          2020-12-08T18:25:47+02:00\n",
       "2          2020-12-09T06:24:52+02:00\n",
       "3          2020-12-10T18:05:36+02:00\n",
       "4          2020-12-11T06:04:38+02:00\n",
       "                     ...            \n",
       "1067022    2023-10-21T11:56:56+02:00\n",
       "1067023    2023-10-21T16:22:37+02:00\n",
       "1067024    2023-10-22T13:53:15+02:00\n",
       "1067025    2023-10-22T13:57:04+02:00\n",
       "1067026    2023-10-22T23:26:45+02:00\n",
       "Name: since, Length: 1067027, dtype: object"
      ]
     },
     "execution_count": 18,
     "metadata": {},
     "output_type": "execute_result"
    }
   ],
   "source": [
    "rz['since']"
   ]
  },
  {
   "cell_type": "code",
   "execution_count": 19,
   "id": "6dd033c7",
   "metadata": {},
   "outputs": [],
   "source": [
    "rz['datum'] = rz['since'].apply(lambda x: f\"\"\"{x[5:10]}\"\"\")"
   ]
  },
  {
   "cell_type": "code",
   "execution_count": 20,
   "id": "79f6b6f5",
   "metadata": {},
   "outputs": [],
   "source": [
    "rz['track'] = rz['track'].apply(lambda x: x.lower())"
   ]
  },
  {
   "cell_type": "code",
   "execution_count": 21,
   "id": "714c9c91",
   "metadata": {},
   "outputs": [
    {
     "data": {
      "text/html": [
       "<div>\n",
       "<style scoped>\n",
       "    .dataframe tbody tr th:only-of-type {\n",
       "        vertical-align: middle;\n",
       "    }\n",
       "\n",
       "    .dataframe tbody tr th {\n",
       "        vertical-align: top;\n",
       "    }\n",
       "\n",
       "    .dataframe thead th {\n",
       "        text-align: right;\n",
       "    }\n",
       "</style>\n",
       "<table border=\"1\" class=\"dataframe\">\n",
       "  <thead>\n",
       "    <tr style=\"text-align: right;\">\n",
       "      <th></th>\n",
       "      <th>since</th>\n",
       "      <th>id</th>\n",
       "      <th>interpret</th>\n",
       "      <th>interpret_id</th>\n",
       "      <th>track</th>\n",
       "      <th>track_id</th>\n",
       "      <th>stanice</th>\n",
       "      <th>den</th>\n",
       "      <th>datum</th>\n",
       "    </tr>\n",
       "  </thead>\n",
       "  <tbody>\n",
       "    <tr>\n",
       "      <th>728</th>\n",
       "      <td>2020-12-01T07:04:55+02:00</td>\n",
       "      <td>10237476</td>\n",
       "      <td>KRYŠTOF &amp; KAREL GOTT</td>\n",
       "      <td>25130</td>\n",
       "      <td>vánoční</td>\n",
       "      <td>84268</td>\n",
       "      <td>dvojka</td>\n",
       "      <td>336</td>\n",
       "      <td>12-01</td>\n",
       "    </tr>\n",
       "    <tr>\n",
       "      <th>765</th>\n",
       "      <td>2020-12-01T12:05:30+02:00</td>\n",
       "      <td>10238769</td>\n",
       "      <td>EWA FARNA</td>\n",
       "      <td>4499</td>\n",
       "      <td>vánoce na míru</td>\n",
       "      <td>46017</td>\n",
       "      <td>dvojka</td>\n",
       "      <td>336</td>\n",
       "      <td>12-01</td>\n",
       "    </tr>\n",
       "    <tr>\n",
       "      <th>820</th>\n",
       "      <td>2020-12-01T18:26:55+02:00</td>\n",
       "      <td>10240231</td>\n",
       "      <td>LUCIE VONDRÁČKOVÁ</td>\n",
       "      <td>3694</td>\n",
       "      <td>vánoční strom</td>\n",
       "      <td>15246</td>\n",
       "      <td>dvojka</td>\n",
       "      <td>336</td>\n",
       "      <td>12-01</td>\n",
       "    </tr>\n",
       "    <tr>\n",
       "      <th>843</th>\n",
       "      <td>2020-12-01T23:54:38+02:00</td>\n",
       "      <td>10240774</td>\n",
       "      <td>WHAM!</td>\n",
       "      <td>4520</td>\n",
       "      <td>last christmas</td>\n",
       "      <td>15138</td>\n",
       "      <td>dvojka</td>\n",
       "      <td>336</td>\n",
       "      <td>12-01</td>\n",
       "    </tr>\n",
       "    <tr>\n",
       "      <th>847</th>\n",
       "      <td>2020-12-02T00:19:10+02:00</td>\n",
       "      <td>10240821</td>\n",
       "      <td>KRYŠTOF &amp; KAREL GOTT</td>\n",
       "      <td>25130</td>\n",
       "      <td>vánoční</td>\n",
       "      <td>84268</td>\n",
       "      <td>dvojka</td>\n",
       "      <td>337</td>\n",
       "      <td>12-02</td>\n",
       "    </tr>\n",
       "    <tr>\n",
       "      <th>...</th>\n",
       "      <td>...</td>\n",
       "      <td>...</td>\n",
       "      <td>...</td>\n",
       "      <td>...</td>\n",
       "      <td>...</td>\n",
       "      <td>...</td>\n",
       "      <td>...</td>\n",
       "      <td>...</td>\n",
       "      <td>...</td>\n",
       "    </tr>\n",
       "    <tr>\n",
       "      <th>976713</th>\n",
       "      <td>2022-12-26T10:15:00+02:00</td>\n",
       "      <td>16669025</td>\n",
       "      <td>MARIAH CAREY</td>\n",
       "      <td>3093</td>\n",
       "      <td>all i want for christmas is you</td>\n",
       "      <td>15232</td>\n",
       "      <td>radiozurnal</td>\n",
       "      <td>360</td>\n",
       "      <td>12-26</td>\n",
       "    </tr>\n",
       "    <tr>\n",
       "      <th>976724</th>\n",
       "      <td>2022-12-26T11:16:53+02:00</td>\n",
       "      <td>16669591</td>\n",
       "      <td>JOHN LENNON/ YOKO ONO</td>\n",
       "      <td>5548</td>\n",
       "      <td>happy xmas (war is over)</td>\n",
       "      <td>15269</td>\n",
       "      <td>radiozurnal</td>\n",
       "      <td>360</td>\n",
       "      <td>12-26</td>\n",
       "    </tr>\n",
       "    <tr>\n",
       "      <th>976735</th>\n",
       "      <td>2022-12-26T12:21:07+02:00</td>\n",
       "      <td>16670206</td>\n",
       "      <td>BILLY MACK</td>\n",
       "      <td>5527</td>\n",
       "      <td>christmas is all around</td>\n",
       "      <td>15098</td>\n",
       "      <td>radiozurnal</td>\n",
       "      <td>360</td>\n",
       "      <td>12-26</td>\n",
       "    </tr>\n",
       "    <tr>\n",
       "      <th>976782</th>\n",
       "      <td>2022-12-26T18:35:20+02:00</td>\n",
       "      <td>16673046</td>\n",
       "      <td>DAVID DEYL &amp; KRISTÍNA</td>\n",
       "      <td>31262</td>\n",
       "      <td>vánoční přání</td>\n",
       "      <td>104453</td>\n",
       "      <td>radiozurnal</td>\n",
       "      <td>360</td>\n",
       "      <td>12-26</td>\n",
       "    </tr>\n",
       "    <tr>\n",
       "      <th>976814</th>\n",
       "      <td>2022-12-26T22:17:13+02:00</td>\n",
       "      <td>16673583</td>\n",
       "      <td>GEORGE EZRA</td>\n",
       "      <td>8605</td>\n",
       "      <td>white christmas</td>\n",
       "      <td>46235</td>\n",
       "      <td>radiozurnal</td>\n",
       "      <td>360</td>\n",
       "      <td>12-26</td>\n",
       "    </tr>\n",
       "  </tbody>\n",
       "</table>\n",
       "<p>900 rows × 9 columns</p>\n",
       "</div>"
      ],
      "text/plain": [
       "                            since        id              interpret  \\\n",
       "728     2020-12-01T07:04:55+02:00  10237476   KRYŠTOF & KAREL GOTT   \n",
       "765     2020-12-01T12:05:30+02:00  10238769              EWA FARNA   \n",
       "820     2020-12-01T18:26:55+02:00  10240231      LUCIE VONDRÁČKOVÁ   \n",
       "843     2020-12-01T23:54:38+02:00  10240774                  WHAM!   \n",
       "847     2020-12-02T00:19:10+02:00  10240821   KRYŠTOF & KAREL GOTT   \n",
       "...                           ...       ...                    ...   \n",
       "976713  2022-12-26T10:15:00+02:00  16669025           MARIAH CAREY   \n",
       "976724  2022-12-26T11:16:53+02:00  16669591  JOHN LENNON/ YOKO ONO   \n",
       "976735  2022-12-26T12:21:07+02:00  16670206             BILLY MACK   \n",
       "976782  2022-12-26T18:35:20+02:00  16673046  DAVID DEYL & KRISTÍNA   \n",
       "976814  2022-12-26T22:17:13+02:00  16673583            GEORGE EZRA   \n",
       "\n",
       "        interpret_id                            track  track_id      stanice  \\\n",
       "728            25130                          vánoční     84268       dvojka   \n",
       "765             4499                   vánoce na míru     46017       dvojka   \n",
       "820             3694                    vánoční strom     15246       dvojka   \n",
       "843             4520                   last christmas     15138       dvojka   \n",
       "847            25130                          vánoční     84268       dvojka   \n",
       "...              ...                              ...       ...          ...   \n",
       "976713          3093  all i want for christmas is you     15232  radiozurnal   \n",
       "976724          5548         happy xmas (war is over)     15269  radiozurnal   \n",
       "976735          5527          christmas is all around     15098  radiozurnal   \n",
       "976782         31262                    vánoční přání    104453  radiozurnal   \n",
       "976814          8605                  white christmas     46235  radiozurnal   \n",
       "\n",
       "        den  datum  \n",
       "728     336  12-01  \n",
       "765     336  12-01  \n",
       "820     336  12-01  \n",
       "843     336  12-01  \n",
       "847     337  12-02  \n",
       "...     ...    ...  \n",
       "976713  360  12-26  \n",
       "976724  360  12-26  \n",
       "976735  360  12-26  \n",
       "976782  360  12-26  \n",
       "976814  360  12-26  \n",
       "\n",
       "[900 rows x 9 columns]"
      ]
     },
     "execution_count": 21,
     "metadata": {},
     "output_type": "execute_result"
    }
   ],
   "source": [
    "rz[rz['track'].isin(vanocni_l)]"
   ]
  },
  {
   "cell_type": "code",
   "execution_count": 22,
   "id": "9f384f35",
   "metadata": {},
   "outputs": [],
   "source": [
    "vanocni_rz = rz[rz['track'].isin(vanocni_l)]"
   ]
  },
  {
   "cell_type": "code",
   "execution_count": 23,
   "id": "d3857206",
   "metadata": {},
   "outputs": [
    {
     "data": {
      "text/plain": [
       "datum\n",
       "01-04     1\n",
       "01-12     1\n",
       "01-17     2\n",
       "01-24     1\n",
       "02-01     1\n",
       "         ..\n",
       "12-25    49\n",
       "12-26    54\n",
       "12-29     1\n",
       "12-30     1\n",
       "12-31     1\n",
       "Length: 74, dtype: int64"
      ]
     },
     "execution_count": 23,
     "metadata": {},
     "output_type": "execute_result"
    }
   ],
   "source": [
    "vanocni_rz.groupby('datum').size()"
   ]
  }
 ],
 "metadata": {
  "kernelspec": {
   "display_name": "Python 3 (ipykernel)",
   "language": "python",
   "name": "python3"
  },
  "language_info": {
   "codemirror_mode": {
    "name": "ipython",
    "version": 3
   },
   "file_extension": ".py",
   "mimetype": "text/x-python",
   "name": "python",
   "nbconvert_exporter": "python",
   "pygments_lexer": "ipython3",
   "version": "3.10.8"
  }
 },
 "nbformat": 4,
 "nbformat_minor": 5
}
