{
 "cells": [
  {
   "cell_type": "code",
   "execution_count": 4,
   "id": "160c012d",
   "metadata": {},
   "outputs": [],
   "source": [
    "import os\n",
    "import pandas as pd"
   ]
  },
  {
   "cell_type": "code",
   "execution_count": 5,
   "id": "90b07a7a",
   "metadata": {
    "scrolled": true
   },
   "outputs": [],
   "source": [
    "df = pd.read_csv(os.path.join(\"data\",\"CZ_RADIO_TOP_100_tydenni.csv\"))"
   ]
  },
  {
   "cell_type": "markdown",
   "id": "9caffb32",
   "metadata": {},
   "source": [
    "## Písně, které se točí v hodně letech, ale málo konkrétních týdnech"
   ]
  },
  {
   "cell_type": "code",
   "execution_count": 19,
   "id": "6161c869",
   "metadata": {},
   "outputs": [
    {
     "data": {
      "text/plain": [
       "track                            interpret                     \n",
       "Thank God It´s Christmas         Queen                             2.50\n",
       "Medvídek                         Lucie                             2.25\n",
       "All I Want For Christmas Is You  Mariah Carey                      2.20\n",
       "Christmas Is All Around          Billy Mack                        2.20\n",
       "Happy Xmas (War Is Over)         John Lennon                       2.00\n",
       "Sliby se maj plnit o Vánocích    Janek Ledecký                     2.00\n",
       "Christmas Without You            Ava Max                           2.00\n",
       "Last Christmas                   Wham!                             2.00\n",
       "Na nebi svítí                    Dan Bárta                         1.75\n",
       "Do They Know It´s Christmas?     Band Aid Ii.                      1.50\n",
       "Vánoce na míru                   Ewa Farna                         1.20\n",
       "Goodbye (feat. Marek Ztracený)   Rybičky 48                        1.00\n",
       "Going Out                        Apl.De.Ap Feat. Damien Leroy      1.00\n",
       "Uptown Girl                      Westlife                          1.00\n",
       "Go Gentle                        Robbie Williams                   1.00\n",
       "Unholy (feat. Kim Petras)        Sam Smith                         1.00\n",
       "Gold Dust                        Dj Fresh                          1.00\n",
       "Friend For Life                  X Ambassadors & Medium Build      1.00\n",
       "Good Without                     Mimi Webb                         1.00\n",
       "Ukolébavka                       Daniel Landa                      1.00\n",
       "Ghost Again                      Depeche Mode                      1.00\n",
       "Fool's Gold                      Peter Aristone                    1.00\n",
       "Vente Pa' Ca                     Ricky Martin                      1.00\n",
       "Vzpomínka                        Aneta Langerová                   1.00\n",
       "Vánoční fanatik                  Olga Lounová                      1.00\n",
       "F**k It                          Eamon                             1.00\n",
       "Vánoční                          Jelen                             1.00\n",
       "Faded                            Zhu                               1.00\n",
       "Vánoce hrajou glóriá             Petr Kotvald                      1.00\n",
       "Vánoce bílý                      Lucie Vondráčková & Kolář Petr    1.00\n",
       "dtype: float64"
      ]
     },
     "execution_count": 19,
     "metadata": {},
     "output_type": "execute_result"
    }
   ],
   "source": [
    "pd.Series(df.groupby(['track','interpret'])['rok'].nunique() / df.groupby(['track','interpret'])['tyden'].nunique()).sort_values(ascending=False).head(30)"
   ]
  },
  {
   "cell_type": "markdown",
   "id": "f90f999d",
   "metadata": {},
   "source": [
    "Lol Medvídek, je tam SNÍH, jsou to VÁNOCE."
   ]
  },
  {
   "cell_type": "code",
   "execution_count": null,
   "id": "6d625769",
   "metadata": {},
   "outputs": [],
   "source": [
    "pd.Series(df.groupby(['track','interpret'])['rok'].nunique() / df.groupby(['track','interpret'])['tyden'].nunique()).sort_values(ascending=False).head(20)"
   ]
  },
  {
   "cell_type": "markdown",
   "id": "3946622a",
   "metadata": {},
   "source": [
    "## Písně, které mají Vánoce v názvu"
   ]
  },
  {
   "cell_type": "code",
   "execution_count": 7,
   "id": "59476c4c",
   "metadata": {},
   "outputs": [
    {
     "data": {
      "text/plain": [
       "30598    Sliby se maj plnit o Vánocích\n",
       "35665                      Vánoce bílý\n",
       "56090             Vánoce hrajou glóriá\n",
       "61089                   Vánoce na míru\n",
       "81392                 Vánoce jako dřív\n",
       "86494    O Vánocích (feat. Boni Pueri)\n",
       "86695                Vánoce přicházejí\n",
       "Name: track, dtype: object"
      ]
     },
     "execution_count": 7,
     "metadata": {},
     "output_type": "execute_result"
    }
   ],
   "source": [
    "df[df['track'].str.contains('Vánoc')]['track'].drop_duplicates()"
   ]
  },
  {
   "cell_type": "code",
   "execution_count": 8,
   "id": "62802def",
   "metadata": {},
   "outputs": [
    {
     "data": {
      "text/plain": [
       "35676    Happy Xmas (War Is Over)\n",
       "Name: track, dtype: object"
      ]
     },
     "execution_count": 8,
     "metadata": {},
     "output_type": "execute_result"
    }
   ],
   "source": [
    "df[df['track'].str.contains('Xmas')]['track'].drop_duplicates()"
   ]
  },
  {
   "cell_type": "code",
   "execution_count": 9,
   "id": "93f01c00",
   "metadata": {},
   "outputs": [
    {
     "data": {
      "text/plain": [
       "10298                     Last Christmas\n",
       "25250                 Shake Up Christmas\n",
       "25475                   Christmas Lights\n",
       "30377            Christmas Is All Around\n",
       "30580    All I Want For Christmas Is You\n",
       "35693           Thank God It´s Christmas\n",
       "40778                    White Christmas\n",
       "45638       Do They Know It´s Christmas?\n",
       "50996           Merry Christmas Everyone\n",
       "76351              Christmas Without You\n",
       "81461                    Merry Christmas\n",
       "Name: track, dtype: object"
      ]
     },
     "execution_count": 9,
     "metadata": {},
     "output_type": "execute_result"
    }
   ],
   "source": [
    "df[df['track'].str.contains('Christm')]['track'].drop_duplicates()"
   ]
  },
  {
   "cell_type": "code",
   "execution_count": 24,
   "id": "529f57d1",
   "metadata": {},
   "outputs": [],
   "source": [
    "vanocni = df[df['track'].str.contains('Christm')]['track'].drop_duplicates().to_list() + df[df['track'].str.contains('Xmas')]['track'].drop_duplicates().to_list() + df[df['track'].str.contains('Vánoc')]['track'].drop_duplicates().to_list() + df[df['track'].str.lower().str.contains('vánoč')]['track'].drop_duplicates().to_list()\n",
    "vanocni.append(\"Půlnoční\")"
   ]
  },
  {
   "cell_type": "markdown",
   "id": "ae19142e",
   "metadata": {},
   "source": [
    "## Kdy se to dostává do top 100"
   ]
  },
  {
   "cell_type": "code",
   "execution_count": 25,
   "id": "fc90410c",
   "metadata": {},
   "outputs": [
    {
     "data": {
      "text/plain": [
       "<Axes: xlabel='tyden'>"
      ]
     },
     "execution_count": 25,
     "metadata": {},
     "output_type": "execute_result"
    },
    {
     "data": {
      "image/png": "[encoded data removed]",
      "text/plain": [
       "<Figure size 432x288 with 1 Axes>"
      ]
     },
     "metadata": {
      "needs_background": "light"
     },
     "output_type": "display_data"
    }
   ],
   "source": [
    "df[df['track'].isin(vanocni)].groupby(\"tyden\")['rok'].nunique().plot.bar()"
   ]
  },
  {
   "cell_type": "code",
   "execution_count": 26,
   "id": "3222696e",
   "metadata": {},
   "outputs": [],
   "source": [
    "vsechnytydny = df['week'].drop_duplicates().to_list()"
   ]
  },
  {
   "cell_type": "code",
   "execution_count": 27,
   "id": "a2c1cf9c",
   "metadata": {},
   "outputs": [],
   "source": [
    "def cesta_pisne(seznam):\n",
    "    pracovni = df\n",
    "    pracovni = pracovni[(pracovni['track'].isin(seznam))].drop_duplicates(subset=['rok','tyden']).set_index(\"week\", drop=True)\n",
    "    pracovni = pracovni.reindex(vsechnytydny, fill_value=101).sort_index()\n",
    "    return pracovni['pozice'].plot(figsize=(20,5)).invert_yaxis()"
   ]
  },
  {
   "cell_type": "code",
   "execution_count": 28,
   "id": "3cd0d084",
   "metadata": {},
   "outputs": [
    {
     "data": {
      "image/png": "[encoded data removed]",
      "text/plain": [
       "<Figure size 1440x360 with 1 Axes>"
      ]
     },
     "metadata": {
      "needs_background": "light"
     },
     "output_type": "display_data"
    }
   ],
   "source": [
    "cesta_pisne(vanocni)"
   ]
  },
  {
   "cell_type": "markdown",
   "id": "84eabbfe",
   "metadata": {},
   "source": [
    "## Kdy nás ty tracky oblažily poprvé"
   ]
  },
  {
   "cell_type": "code",
   "execution_count": 29,
   "id": "d145759f",
   "metadata": {},
   "outputs": [
    {
     "data": {
      "text/plain": [
       "interpret                          track                          \n",
       "Wham!                              Last Christmas                     2008\n",
       "Walda Gang                         Vánoční svařák                     2009\n",
       "Train                              Shake Up Christmas                 2010\n",
       "Lucie Vondráčková                  Vánoční strom                      2010\n",
       "Coldplay                           Christmas Lights                   2010\n",
       "Lucie Vondráčková Feat. R. Schwab  Vánoční přání                      2011\n",
       "Václav Neckář & Umakart            Půlnoční                           2011\n",
       "Janek Ledecký                      Sliby se maj plnit o Vánocích      2011\n",
       "Mariah Carey                       All I Want For Christmas Is You    2011\n",
       "Billy Mack                         Christmas Is All Around            2011\n",
       "John Lennon                        Happy Xmas (War Is Over)           2012\n",
       "Queen                              Thank God It´s Christmas           2012\n",
       "Lucie Vondráčková & Kolář Petr     Vánoce bílý                        2012\n",
       "E2 Crew                            Vánoční hymna                      2013\n",
       "Michael Bublé & Shania Twain       White Christmas                    2013\n",
       "Band Aid Ii.                       Do They Know It´s Christmas?       2014\n",
       "Shakin' Stevens                    Merry Christmas Everyone           2015\n",
       "Karel Gott & Lucie Vondráčková     Čas vánoční                        2015\n",
       "Olga Lounová                       Vánoční fanatik                    2015\n",
       "Petr Kotvald                       Vánoce hrajou glóriá               2016\n",
       "Jelen                              Vánoční                            2017\n",
       "Ewa Farna                          Vánoce na míru                     2017\n",
       "Natálie Grossová                   Vánoční                            2017\n",
       "Ava Max                            Christmas Without You              2020\n",
       "Kryštof/Karel Gott                 Vánoční                            2020\n",
       "Ed Sheeran & Elton John            Merry Christmas                    2021\n",
       "Marek Ztracený & Hana Zagorová     Vánoce jako dřív                   2021\n",
       "Lucie Bílá                         O Vánocích (feat. Boni Pueri)      2022\n",
       "Voxel/Em.                          Vánoce přicházejí                  2022\n",
       "David Deyl & Kristína              Vánoční přání                      2022\n",
       "Name: rok, dtype: int64"
      ]
     },
     "execution_count": 29,
     "metadata": {},
     "output_type": "execute_result"
    }
   ],
   "source": [
    "df[df['track'].isin(vanocni)].groupby(['interpret','track'])['rok'].min().nsmallest(50)"
   ]
  },
  {
   "cell_type": "markdown",
   "id": "3c449342",
   "metadata": {},
   "source": [
    "## Radiožurnál"
   ]
  },
  {
   "cell_type": "code",
   "execution_count": 130,
   "id": "ca9d19d1",
   "metadata": {},
   "outputs": [],
   "source": [
    "vanocni_l = [x.lower() for x in vanocni]"
   ]
  },
  {
   "cell_type": "code",
   "execution_count": 137,
   "id": "63c464bd",
   "metadata": {},
   "outputs": [],
   "source": [
    "rz = pd.read_json(os.path.join(\"data\",\"radiozurnal.json\"))"
   ]
  },
  {
   "cell_type": "code",
   "execution_count": 138,
   "id": "8e91a8ac",
   "metadata": {},
   "outputs": [],
   "source": [
    "rz['since'] = rz['since'].apply(lambda x: x.replace(\"01:00\",\"02:00\"))"
   ]
  },
  {
   "cell_type": "code",
   "execution_count": 139,
   "id": "cf565c2d",
   "metadata": {},
   "outputs": [],
   "source": [
    "rz['den'] = pd.to_datetime(rz['since']).dt.dayofyear"
   ]
  },
  {
   "cell_type": "code",
   "execution_count": 145,
   "id": "a9c2fd3e",
   "metadata": {},
   "outputs": [
    {
     "data": {
      "text/plain": [
       "0         2020-12-01T00:38:45+02:00\n",
       "1         2020-12-01T00:42:25+02:00\n",
       "2         2020-12-01T00:48:18+02:00\n",
       "3         2020-12-01T00:51:48+02:00\n",
       "4         2020-12-01T00:55:41+02:00\n",
       "                    ...            \n",
       "218600    2023-10-22T23:07:32+02:00\n",
       "218601    2023-10-22T23:15:56+02:00\n",
       "218602    2023-10-22T23:25:35+02:00\n",
       "218603    2023-10-22T23:34:17+02:00\n",
       "218604    2023-10-22T23:47:09+02:00\n",
       "Name: since, Length: 218605, dtype: object"
      ]
     },
     "execution_count": 145,
     "metadata": {},
     "output_type": "execute_result"
    }
   ],
   "source": [
    "rz['since']"
   ]
  },
  {
   "cell_type": "code",
   "execution_count": 149,
   "id": "6dd033c7",
   "metadata": {},
   "outputs": [],
   "source": [
    "rz['datum'] = rz['since'].apply(lambda x: f\"\"\"{x[5:10]}\"\"\")"
   ]
  },
  {
   "cell_type": "code",
   "execution_count": 141,
   "id": "79f6b6f5",
   "metadata": {},
   "outputs": [],
   "source": [
    "rz['track'] = rz['track'].apply(lambda x: x.lower())"
   ]
  },
  {
   "cell_type": "code",
   "execution_count": 151,
   "id": "714c9c91",
   "metadata": {},
   "outputs": [
    {
     "data": {
      "text/html": [
       "<div>\n",
       "<style scoped>\n",
       "    .dataframe tbody tr th:only-of-type {\n",
       "        vertical-align: middle;\n",
       "    }\n",
       "\n",
       "    .dataframe tbody tr th {\n",
       "        vertical-align: top;\n",
       "    }\n",
       "\n",
       "    .dataframe thead th {\n",
       "        text-align: right;\n",
       "    }\n",
       "</style>\n",
       "<table border=\"1\" class=\"dataframe\">\n",
       "  <thead>\n",
       "    <tr style=\"text-align: right;\">\n",
       "      <th></th>\n",
       "      <th>since</th>\n",
       "      <th>id</th>\n",
       "      <th>interpret</th>\n",
       "      <th>interpret_id</th>\n",
       "      <th>track</th>\n",
       "      <th>track_id</th>\n",
       "      <th>den</th>\n",
       "      <th>datum</th>\n",
       "    </tr>\n",
       "  </thead>\n",
       "  <tbody>\n",
       "    <tr>\n",
       "      <th>897</th>\n",
       "      <td>2020-12-05T08:34:11+02:00</td>\n",
       "      <td>10256077</td>\n",
       "      <td>Kryštof,  Karel Gott</td>\n",
       "      <td>25130</td>\n",
       "      <td>vánoční</td>\n",
       "      <td>84268</td>\n",
       "      <td>340</td>\n",
       "      <td>12-05</td>\n",
       "    </tr>\n",
       "    <tr>\n",
       "      <th>1116</th>\n",
       "      <td>2020-12-06T09:33:53+02:00</td>\n",
       "      <td>10260165</td>\n",
       "      <td>John Lennon/ Yoko Ono</td>\n",
       "      <td>5548</td>\n",
       "      <td>happy xmas (war is over)</td>\n",
       "      <td>15269</td>\n",
       "      <td>341</td>\n",
       "      <td>12-06</td>\n",
       "    </tr>\n",
       "    <tr>\n",
       "      <th>1257</th>\n",
       "      <td>2020-12-07T01:33:24+02:00</td>\n",
       "      <td>10262421</td>\n",
       "      <td>Shakin' Stevens</td>\n",
       "      <td>3166</td>\n",
       "      <td>merry christmas everyone</td>\n",
       "      <td>15175</td>\n",
       "      <td>342</td>\n",
       "      <td>12-07</td>\n",
       "    </tr>\n",
       "    <tr>\n",
       "      <th>1319</th>\n",
       "      <td>2020-12-07T07:34:18+02:00</td>\n",
       "      <td>10263597</td>\n",
       "      <td>Billy Mack</td>\n",
       "      <td>5527</td>\n",
       "      <td>christmas is all around</td>\n",
       "      <td>15098</td>\n",
       "      <td>342</td>\n",
       "      <td>12-07</td>\n",
       "    </tr>\n",
       "    <tr>\n",
       "      <th>1343</th>\n",
       "      <td>2020-12-07T10:33:38+02:00</td>\n",
       "      <td>10264374</td>\n",
       "      <td>Václav Neckář,  Umakart</td>\n",
       "      <td>5035</td>\n",
       "      <td>půlnoční</td>\n",
       "      <td>13362</td>\n",
       "      <td>342</td>\n",
       "      <td>12-07</td>\n",
       "    </tr>\n",
       "    <tr>\n",
       "      <th>...</th>\n",
       "      <td>...</td>\n",
       "      <td>...</td>\n",
       "      <td>...</td>\n",
       "      <td>...</td>\n",
       "      <td>...</td>\n",
       "      <td>...</td>\n",
       "      <td>...</td>\n",
       "      <td>...</td>\n",
       "    </tr>\n",
       "    <tr>\n",
       "      <th>157776</th>\n",
       "      <td>2022-12-26T10:15:00+02:00</td>\n",
       "      <td>16669025</td>\n",
       "      <td>Mariah Carey</td>\n",
       "      <td>3093</td>\n",
       "      <td>all i want for christmas is you</td>\n",
       "      <td>15232</td>\n",
       "      <td>360</td>\n",
       "      <td>12-26</td>\n",
       "    </tr>\n",
       "    <tr>\n",
       "      <th>157787</th>\n",
       "      <td>2022-12-26T11:16:53+02:00</td>\n",
       "      <td>16669591</td>\n",
       "      <td>John Lennon/ Yoko Ono</td>\n",
       "      <td>5548</td>\n",
       "      <td>happy xmas (war is over)</td>\n",
       "      <td>15269</td>\n",
       "      <td>360</td>\n",
       "      <td>12-26</td>\n",
       "    </tr>\n",
       "    <tr>\n",
       "      <th>157798</th>\n",
       "      <td>2022-12-26T12:21:07+02:00</td>\n",
       "      <td>16670206</td>\n",
       "      <td>Billy Mack</td>\n",
       "      <td>5527</td>\n",
       "      <td>christmas is all around</td>\n",
       "      <td>15098</td>\n",
       "      <td>360</td>\n",
       "      <td>12-26</td>\n",
       "    </tr>\n",
       "    <tr>\n",
       "      <th>157845</th>\n",
       "      <td>2022-12-26T18:35:20+02:00</td>\n",
       "      <td>16673046</td>\n",
       "      <td>David Deyl &amp; Kristína</td>\n",
       "      <td>31262</td>\n",
       "      <td>vánoční přání</td>\n",
       "      <td>104453</td>\n",
       "      <td>360</td>\n",
       "      <td>12-26</td>\n",
       "    </tr>\n",
       "    <tr>\n",
       "      <th>157877</th>\n",
       "      <td>2022-12-26T22:17:13+02:00</td>\n",
       "      <td>16673583</td>\n",
       "      <td>George Ezra</td>\n",
       "      <td>8605</td>\n",
       "      <td>white christmas</td>\n",
       "      <td>46235</td>\n",
       "      <td>360</td>\n",
       "      <td>12-26</td>\n",
       "    </tr>\n",
       "  </tbody>\n",
       "</table>\n",
       "<p>277 rows × 8 columns</p>\n",
       "</div>"
      ],
      "text/plain": [
       "                            since        id                interpret  \\\n",
       "897     2020-12-05T08:34:11+02:00  10256077     Kryštof,  Karel Gott   \n",
       "1116    2020-12-06T09:33:53+02:00  10260165    John Lennon/ Yoko Ono   \n",
       "1257    2020-12-07T01:33:24+02:00  10262421          Shakin' Stevens   \n",
       "1319    2020-12-07T07:34:18+02:00  10263597               Billy Mack   \n",
       "1343    2020-12-07T10:33:38+02:00  10264374  Václav Neckář,  Umakart   \n",
       "...                           ...       ...                      ...   \n",
       "157776  2022-12-26T10:15:00+02:00  16669025             Mariah Carey   \n",
       "157787  2022-12-26T11:16:53+02:00  16669591    John Lennon/ Yoko Ono   \n",
       "157798  2022-12-26T12:21:07+02:00  16670206               Billy Mack   \n",
       "157845  2022-12-26T18:35:20+02:00  16673046    David Deyl & Kristína   \n",
       "157877  2022-12-26T22:17:13+02:00  16673583              George Ezra   \n",
       "\n",
       "        interpret_id                            track  track_id  den  datum  \n",
       "897            25130                          vánoční     84268  340  12-05  \n",
       "1116            5548         happy xmas (war is over)     15269  341  12-06  \n",
       "1257            3166         merry christmas everyone     15175  342  12-07  \n",
       "1319            5527          christmas is all around     15098  342  12-07  \n",
       "1343            5035                         půlnoční     13362  342  12-07  \n",
       "...              ...                              ...       ...  ...    ...  \n",
       "157776          3093  all i want for christmas is you     15232  360  12-26  \n",
       "157787          5548         happy xmas (war is over)     15269  360  12-26  \n",
       "157798          5527          christmas is all around     15098  360  12-26  \n",
       "157845         31262                    vánoční přání    104453  360  12-26  \n",
       "157877          8605                  white christmas     46235  360  12-26  \n",
       "\n",
       "[277 rows x 8 columns]"
      ]
     },
     "execution_count": 151,
     "metadata": {},
     "output_type": "execute_result"
    }
   ],
   "source": [
    "rz[rz['track'].isin(vanocni_l)]"
   ]
  },
  {
   "cell_type": "code",
   "execution_count": 152,
   "id": "9f384f35",
   "metadata": {},
   "outputs": [],
   "source": [
    "vanocni_rz = rz[rz['track'].isin(vanocni_l)]"
   ]
  },
  {
   "cell_type": "code",
   "execution_count": 153,
   "id": "d3857206",
   "metadata": {},
   "outputs": [
    {
     "data": {
      "text/plain": [
       "datum\n",
       "11-27     1\n",
       "12-03     1\n",
       "12-05     7\n",
       "12-06     4\n",
       "12-07    10\n",
       "12-08     8\n",
       "12-09     6\n",
       "12-10     9\n",
       "12-11     8\n",
       "12-12     7\n",
       "12-13    10\n",
       "12-14    10\n",
       "12-15     9\n",
       "12-16     8\n",
       "12-17     6\n",
       "12-18     4\n",
       "12-19     9\n",
       "12-20    17\n",
       "12-21    16\n",
       "12-22    18\n",
       "12-23    15\n",
       "12-24    35\n",
       "12-25    31\n",
       "12-26    28\n",
       "dtype: int64"
      ]
     },
     "execution_count": 153,
     "metadata": {},
     "output_type": "execute_result"
    }
   ],
   "source": [
    "vanocni_rz.groupby('datum').size()"
   ]
  }
 ],
 "metadata": {
  "kernelspec": {
   "display_name": "Python 3 (ipykernel)",
   "language": "python",
   "name": "python3"
  },
  "language_info": {
   "codemirror_mode": {
    "name": "ipython",
    "version": 3
   },
   "file_extension": ".py",
   "mimetype": "text/x-python",
   "name": "python",
   "nbconvert_exporter": "python",
   "pygments_lexer": "ipython3",
   "version": "3.10.8"
  }
 },
 "nbformat": 4,
 "nbformat_minor": 5
}
