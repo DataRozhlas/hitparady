{
 "cells": [
  {
   "cell_type": "code",
   "execution_count": 3,
   "id": "160c012d",
   "metadata": {},
   "outputs": [],
   "source": [
    "import os\n",
    "import pandas as pd"
   ]
  },
  {
   "cell_type": "code",
   "execution_count": 16,
   "id": "90b07a7a",
   "metadata": {
    "scrolled": true
   },
   "outputs": [],
   "source": [
    "df = pd.read_csv(os.path.join(\"data\",\"CZ_RADIO_TOP_100_tydeni.csv\"))"
   ]
  },
  {
   "cell_type": "markdown",
   "id": "9caffb32",
   "metadata": {},
   "source": [
    "## Písně, které se točí v hodně letech, ale málo konkrétních týdnech"
   ]
  },
  {
   "cell_type": "code",
   "execution_count": 18,
   "id": "6161c869",
   "metadata": {},
   "outputs": [
    {
     "data": {
      "text/plain": [
       "track                                       interpret                    \n",
       "Thank God It´s Christmas                    Queen                            2.50\n",
       "Medvídek                                    Lucie                            2.25\n",
       "All I Want For Christmas Is You             Mariah Carey                     2.20\n",
       "Christmas Is All Around                     Billy Mack                       2.20\n",
       "Christmas Without You                       Ava Max                          2.00\n",
       "Happy Xmas (War Is Over)                    John Lennon                      2.00\n",
       "Last Christmas                              Wham!                            2.00\n",
       "Sliby se maj plnit o Vánocích               Janek Ledecký                    2.00\n",
       "Na nebi svítí                               Dan Bárta                        1.75\n",
       "Do They Know It´s Christmas?                Band Aid Ii.                     1.50\n",
       "Zachraň co se dá                            Miloš Novotný                    1.00\n",
       "Behind The Cow                              Scooter                          1.00\n",
       "Zamilovaný / Nešťastná (feat. B. Zemanová)  Rybičky 48                       1.00\n",
       "Jednou ráno                                 Buty                             1.00\n",
       "Because The Night                           Cascada                          1.00\n",
       "Ten, kdo tě miloval                         Michal Hrůza / Anna K.           1.00\n",
       "Bed Of Lies                                 Nicki Minaj Feat. Skylar Grey    1.00\n",
       "Žít co to dá                                Ilona Csáková                    1.00\n",
       "Temptation                                  Arash                            1.00\n",
       "Believe In Me                               Atb                              1.00\n",
       "dtype: float64"
      ]
     },
     "execution_count": 18,
     "metadata": {},
     "output_type": "execute_result"
    }
   ],
   "source": [
    "pd.Series(df.groupby(['track','interpret'])['rok'].nunique() / df.groupby(['track','interpret'])['tyden'].nunique()).sort_values(ascending=False).head(20)"
   ]
  },
  {
   "cell_type": "markdown",
   "id": "f90f999d",
   "metadata": {},
   "source": [
    "Lol Medvídek, je tam SNÍH, jsou to VÁNOCE."
   ]
  },
  {
   "cell_type": "markdown",
   "id": "3946622a",
   "metadata": {},
   "source": [
    "## Písně, které mají Vánoce v názvu"
   ]
  },
  {
   "cell_type": "code",
   "execution_count": 20,
   "id": "59476c4c",
   "metadata": {},
   "outputs": [
    {
     "data": {
      "text/plain": [
       "30598    Sliby se maj plnit o Vánocích\n",
       "35665                      Vánoce bílý\n",
       "56090             Vánoce hrajou glóriá\n",
       "61089                   Vánoce na míru\n",
       "81392                 Vánoce jako dřív\n",
       "86494    O Vánocích (feat. Boni Pueri)\n",
       "86695                Vánoce přicházejí\n",
       "Name: track, dtype: object"
      ]
     },
     "execution_count": 20,
     "metadata": {},
     "output_type": "execute_result"
    }
   ],
   "source": [
    "df[df['track'].str.contains('Vánoc')]['track'].drop_duplicates()"
   ]
  },
  {
   "cell_type": "code",
   "execution_count": 21,
   "id": "62802def",
   "metadata": {},
   "outputs": [
    {
     "data": {
      "text/plain": [
       "35676    Happy Xmas (War Is Over)\n",
       "Name: track, dtype: object"
      ]
     },
     "execution_count": 21,
     "metadata": {},
     "output_type": "execute_result"
    }
   ],
   "source": [
    "df[df['track'].str.contains('Xmas')]['track'].drop_duplicates()"
   ]
  },
  {
   "cell_type": "code",
   "execution_count": 22,
   "id": "93f01c00",
   "metadata": {},
   "outputs": [
    {
     "data": {
      "text/plain": [
       "10298                     Last Christmas\n",
       "25250                 Shake Up Christmas\n",
       "25475                   Christmas Lights\n",
       "30377            Christmas Is All Around\n",
       "30580    All I Want For Christmas Is You\n",
       "35693           Thank God It´s Christmas\n",
       "40778                    White Christmas\n",
       "45638       Do They Know It´s Christmas?\n",
       "50996           Merry Christmas Everyone\n",
       "76351              Christmas Without You\n",
       "81461                    Merry Christmas\n",
       "Name: track, dtype: object"
      ]
     },
     "execution_count": 22,
     "metadata": {},
     "output_type": "execute_result"
    }
   ],
   "source": [
    "df[df['track'].str.contains('Christm')]['track'].drop_duplicates()"
   ]
  },
  {
   "cell_type": "code",
   "execution_count": 23,
   "id": "529f57d1",
   "metadata": {},
   "outputs": [],
   "source": [
    "vanocni = df[df['track'].str.contains('Christm')]['track'].drop_duplicates().to_list() + df[df['track'].str.contains('Xmas')]['track'].drop_duplicates().to_list() + df[df['track'].str.contains('Vánoc')]['track'].drop_duplicates().to_list()"
   ]
  },
  {
   "cell_type": "markdown",
   "id": "ae19142e",
   "metadata": {},
   "source": [
    "## Kdy se to dostává do top 100"
   ]
  },
  {
   "cell_type": "code",
   "execution_count": 24,
   "id": "fc90410c",
   "metadata": {},
   "outputs": [
    {
     "data": {
      "text/plain": [
       "<Axes: xlabel='tyden'>"
      ]
     },
     "execution_count": 24,
     "metadata": {},
     "output_type": "execute_result"
    },
    {
     "data": {
      "image/png": "[encoded data removed]",
      "text/plain": [
       "<Figure size 432x288 with 1 Axes>"
      ]
     },
     "metadata": {
      "needs_background": "light"
     },
     "output_type": "display_data"
    }
   ],
   "source": [
    "df[df['track'].isin(vanocni)].groupby(\"tyden\")['rok'].nunique().plot.bar()"
   ]
  },
  {
   "cell_type": "markdown",
   "id": "84eabbfe",
   "metadata": {},
   "source": [
    "## Kdy nás ty tracky oblažily poprvé"
   ]
  },
  {
   "cell_type": "code",
   "execution_count": 25,
   "id": "d145759f",
   "metadata": {},
   "outputs": [
    {
     "data": {
      "text/plain": [
       "interpret                       track                          \n",
       "Wham!                           Last Christmas                     2008\n",
       "Train                           Shake Up Christmas                 2010\n",
       "Coldplay                        Christmas Lights                   2010\n",
       "Billy Mack                      Christmas Is All Around            2011\n",
       "Mariah Carey                    All I Want For Christmas Is You    2011\n",
       "Janek Ledecký                   Sliby se maj plnit o Vánocích      2011\n",
       "Queen                           Thank God It´s Christmas           2012\n",
       "Lucie Vondráčková & Kolář Petr  Vánoce bílý                        2012\n",
       "John Lennon                     Happy Xmas (War Is Over)           2012\n",
       "Michael Bublé & Shania Twain    White Christmas                    2013\n",
       "Band Aid Ii.                    Do They Know It´s Christmas?       2014\n",
       "Shakin' Stevens                 Merry Christmas Everyone           2015\n",
       "Petr Kotvald                    Vánoce hrajou glóriá               2016\n",
       "Ewa Farna                       Vánoce na míru                     2017\n",
       "Ava Max                         Christmas Without You              2020\n",
       "Marek Ztracený & Hana Zagorová  Vánoce jako dřív                   2021\n",
       "Ed Sheeran & Elton John         Merry Christmas                    2021\n",
       "Lucie Bílá                      O Vánocích (feat. Boni Pueri)      2022\n",
       "Voxel/Em.                       Vánoce přicházejí                  2022\n",
       "Name: rok, dtype: int64"
      ]
     },
     "execution_count": 25,
     "metadata": {},
     "output_type": "execute_result"
    }
   ],
   "source": [
    "df[df['track'].isin(vanocni)].groupby(['interpret','track'])['rok'].min().nsmallest(50)"
   ]
  }
 ],
 "metadata": {
  "kernelspec": {
   "display_name": "Python 3 (ipykernel)",
   "language": "python",
   "name": "python3"
  },
  "language_info": {
   "codemirror_mode": {
    "name": "ipython",
    "version": 3
   },
   "file_extension": ".py",
   "mimetype": "text/x-python",
   "name": "python",
   "nbconvert_exporter": "python",
   "pygments_lexer": "ipython3",
   "version": "3.10.8"
  }
 },
 "nbformat": 4,
 "nbformat_minor": 5
}
