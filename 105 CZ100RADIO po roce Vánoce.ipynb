{
 "cells": [
  {
   "cell_type": "code",
   "execution_count": 173,
   "id": "160c012d",
   "metadata": {},
   "outputs": [],
   "source": [
    "import os\n",
    "import pandas as pd"
   ]
  },
  {
   "cell_type": "code",
   "execution_count": 174,
   "id": "90b07a7a",
   "metadata": {
    "scrolled": true
   },
   "outputs": [],
   "source": [
    "df = pd.read_csv(os.path.join(\"data\",\"CZ_RADIO_TOP_100_tydenni.csv\"))"
   ]
  },
  {
   "cell_type": "code",
   "execution_count": 175,
   "id": "08adde1f",
   "metadata": {},
   "outputs": [],
   "source": [
    "from src.tabulka import tabulka\n",
    "from src.graf import graf"
   ]
  },
  {
   "cell_type": "markdown",
   "id": "f99956cf",
   "metadata": {},
   "source": [
    "## Zformátování pro hezké výpisy"
   ]
  },
  {
   "cell_type": "code",
   "execution_count": 176,
   "id": "20983172",
   "metadata": {},
   "outputs": [],
   "source": [
    "df['track_hezky'] = df.apply(lambda row: f\"\"\"{row['interpret_hlavni']}: {row['track'].split(\"(\")[0]}\"\"\", axis=1)"
   ]
  },
  {
   "cell_type": "code",
   "execution_count": 177,
   "id": "742fe531",
   "metadata": {},
   "outputs": [
    {
     "data": {
      "text/html": [
       "<div>\n",
       "<style scoped>\n",
       "    .dataframe tbody tr th:only-of-type {\n",
       "        vertical-align: middle;\n",
       "    }\n",
       "\n",
       "    .dataframe tbody tr th {\n",
       "        vertical-align: top;\n",
       "    }\n",
       "\n",
       "    .dataframe thead th {\n",
       "        text-align: right;\n",
       "    }\n",
       "</style>\n",
       "<table border=\"1\" class=\"dataframe\">\n",
       "  <thead>\n",
       "    <tr style=\"text-align: right;\">\n",
       "      <th></th>\n",
       "      <th>Unnamed: 0</th>\n",
       "      <th>hitparada</th>\n",
       "      <th>rok</th>\n",
       "      <th>tyden</th>\n",
       "      <th>week</th>\n",
       "      <th>pozice</th>\n",
       "      <th>track</th>\n",
       "      <th>interpret</th>\n",
       "      <th>interpret_hlavni</th>\n",
       "      <th>vydavatel</th>\n",
       "      <th>track_hezky</th>\n",
       "    </tr>\n",
       "  </thead>\n",
       "  <tbody>\n",
       "    <tr>\n",
       "      <th>0</th>\n",
       "      <td>100</td>\n",
       "      <td>CZ - RADIO - TOP 100</td>\n",
       "      <td>2006</td>\n",
       "      <td>1</td>\n",
       "      <td>2006-01</td>\n",
       "      <td>1</td>\n",
       "      <td>Hung Up</td>\n",
       "      <td>Madonna</td>\n",
       "      <td>Madonna</td>\n",
       "      <td>Warner Music</td>\n",
       "      <td>Madonna: Hung Up</td>\n",
       "    </tr>\n",
       "    <tr>\n",
       "      <th>1</th>\n",
       "      <td>101</td>\n",
       "      <td>CZ - RADIO - TOP 100</td>\n",
       "      <td>2006</td>\n",
       "      <td>1</td>\n",
       "      <td>2006-01</td>\n",
       "      <td>2</td>\n",
       "      <td>La camisa negra</td>\n",
       "      <td>Juanes</td>\n",
       "      <td>Juanes</td>\n",
       "      <td>Universal Music</td>\n",
       "      <td>Juanes: La camisa negra</td>\n",
       "    </tr>\n",
       "    <tr>\n",
       "      <th>2</th>\n",
       "      <td>102</td>\n",
       "      <td>CZ - RADIO - TOP 100</td>\n",
       "      <td>2006</td>\n",
       "      <td>1</td>\n",
       "      <td>2006-01</td>\n",
       "      <td>3</td>\n",
       "      <td>Push The Button</td>\n",
       "      <td>Sugababes</td>\n",
       "      <td>Sugababes</td>\n",
       "      <td>Universal Music</td>\n",
       "      <td>Sugababes: Push The Button</td>\n",
       "    </tr>\n",
       "    <tr>\n",
       "      <th>3</th>\n",
       "      <td>103</td>\n",
       "      <td>CZ - RADIO - TOP 100</td>\n",
       "      <td>2006</td>\n",
       "      <td>1</td>\n",
       "      <td>2006-01</td>\n",
       "      <td>4</td>\n",
       "      <td>Tripping</td>\n",
       "      <td>Robbie Williams</td>\n",
       "      <td>Robbie Williams</td>\n",
       "      <td>Warner Music</td>\n",
       "      <td>Robbie Williams: Tripping</td>\n",
       "    </tr>\n",
       "    <tr>\n",
       "      <th>4</th>\n",
       "      <td>104</td>\n",
       "      <td>CZ - RADIO - TOP 100</td>\n",
       "      <td>2006</td>\n",
       "      <td>1</td>\n",
       "      <td>2006-01</td>\n",
       "      <td>5</td>\n",
       "      <td>Hotel California</td>\n",
       "      <td>Victoria</td>\n",
       "      <td>Victoria</td>\n",
       "      <td>Universal Music</td>\n",
       "      <td>Victoria: Hotel California</td>\n",
       "    </tr>\n",
       "    <tr>\n",
       "      <th>...</th>\n",
       "      <td>...</td>\n",
       "      <td>...</td>\n",
       "      <td>...</td>\n",
       "      <td>...</td>\n",
       "      <td>...</td>\n",
       "      <td>...</td>\n",
       "      <td>...</td>\n",
       "      <td>...</td>\n",
       "      <td>...</td>\n",
       "      <td>...</td>\n",
       "      <td>...</td>\n",
       "    </tr>\n",
       "    <tr>\n",
       "      <th>90995</th>\n",
       "      <td>97195</td>\n",
       "      <td>CZ - RADIO - TOP 100</td>\n",
       "      <td>2023</td>\n",
       "      <td>43</td>\n",
       "      <td>2023-43</td>\n",
       "      <td>96</td>\n",
       "      <td>Friend For Life</td>\n",
       "      <td>X Ambassadors &amp; Medium Build</td>\n",
       "      <td>X Ambassadors</td>\n",
       "      <td>Nan</td>\n",
       "      <td>X Ambassadors: Friend For Life</td>\n",
       "    </tr>\n",
       "    <tr>\n",
       "      <th>90996</th>\n",
       "      <td>97196</td>\n",
       "      <td>CZ - RADIO - TOP 100</td>\n",
       "      <td>2023</td>\n",
       "      <td>43</td>\n",
       "      <td>2023-43</td>\n",
       "      <td>97</td>\n",
       "      <td>SNAP</td>\n",
       "      <td>Rosa Linn</td>\n",
       "      <td>Rosa Linn</td>\n",
       "      <td>Sony Music</td>\n",
       "      <td>Rosa Linn: SNAP</td>\n",
       "    </tr>\n",
       "    <tr>\n",
       "      <th>90997</th>\n",
       "      <td>97197</td>\n",
       "      <td>CZ - RADIO - TOP 100</td>\n",
       "      <td>2023</td>\n",
       "      <td>43</td>\n",
       "      <td>2023-43</td>\n",
       "      <td>98</td>\n",
       "      <td>Without You</td>\n",
       "      <td>Tribbs</td>\n",
       "      <td>Tribbs</td>\n",
       "      <td>Nan</td>\n",
       "      <td>Tribbs: Without You</td>\n",
       "    </tr>\n",
       "    <tr>\n",
       "      <th>90998</th>\n",
       "      <td>97198</td>\n",
       "      <td>CZ - RADIO - TOP 100</td>\n",
       "      <td>2023</td>\n",
       "      <td>43</td>\n",
       "      <td>2023-43</td>\n",
       "      <td>99</td>\n",
       "      <td>Meltdown</td>\n",
       "      <td>Niall Horan</td>\n",
       "      <td>Niall Horan</td>\n",
       "      <td>Universal Music</td>\n",
       "      <td>Niall Horan: Meltdown</td>\n",
       "    </tr>\n",
       "    <tr>\n",
       "      <th>90999</th>\n",
       "      <td>97199</td>\n",
       "      <td>CZ - RADIO - TOP 100</td>\n",
       "      <td>2023</td>\n",
       "      <td>43</td>\n",
       "      <td>2023-43</td>\n",
       "      <td>100</td>\n",
       "      <td>Do nebe se propadám</td>\n",
       "      <td>Kryštof</td>\n",
       "      <td>Kryštof</td>\n",
       "      <td>I.Richmond.P./Universal Music</td>\n",
       "      <td>Kryštof: Do nebe se propadám</td>\n",
       "    </tr>\n",
       "  </tbody>\n",
       "</table>\n",
       "<p>91000 rows × 11 columns</p>\n",
       "</div>"
      ],
      "text/plain": [
       "       Unnamed: 0             hitparada   rok  tyden     week  pozice  \\\n",
       "0             100  CZ - RADIO - TOP 100  2006      1  2006-01       1   \n",
       "1             101  CZ - RADIO - TOP 100  2006      1  2006-01       2   \n",
       "2             102  CZ - RADIO - TOP 100  2006      1  2006-01       3   \n",
       "3             103  CZ - RADIO - TOP 100  2006      1  2006-01       4   \n",
       "4             104  CZ - RADIO - TOP 100  2006      1  2006-01       5   \n",
       "...           ...                   ...   ...    ...      ...     ...   \n",
       "90995       97195  CZ - RADIO - TOP 100  2023     43  2023-43      96   \n",
       "90996       97196  CZ - RADIO - TOP 100  2023     43  2023-43      97   \n",
       "90997       97197  CZ - RADIO - TOP 100  2023     43  2023-43      98   \n",
       "90998       97198  CZ - RADIO - TOP 100  2023     43  2023-43      99   \n",
       "90999       97199  CZ - RADIO - TOP 100  2023     43  2023-43     100   \n",
       "\n",
       "                     track                     interpret interpret_hlavni  \\\n",
       "0                  Hung Up                       Madonna          Madonna   \n",
       "1          La camisa negra                        Juanes           Juanes   \n",
       "2          Push The Button                     Sugababes        Sugababes   \n",
       "3                 Tripping               Robbie Williams  Robbie Williams   \n",
       "4         Hotel California                      Victoria         Victoria   \n",
       "...                    ...                           ...              ...   \n",
       "90995      Friend For Life  X Ambassadors & Medium Build    X Ambassadors   \n",
       "90996                 SNAP                     Rosa Linn        Rosa Linn   \n",
       "90997          Without You                        Tribbs           Tribbs   \n",
       "90998             Meltdown                   Niall Horan      Niall Horan   \n",
       "90999  Do nebe se propadám                       Kryštof          Kryštof   \n",
       "\n",
       "                           vydavatel                     track_hezky  \n",
       "0                       Warner Music                Madonna: Hung Up  \n",
       "1                    Universal Music         Juanes: La camisa negra  \n",
       "2                    Universal Music      Sugababes: Push The Button  \n",
       "3                       Warner Music       Robbie Williams: Tripping  \n",
       "4                    Universal Music      Victoria: Hotel California  \n",
       "...                              ...                             ...  \n",
       "90995                            Nan  X Ambassadors: Friend For Life  \n",
       "90996                     Sony Music                 Rosa Linn: SNAP  \n",
       "90997                            Nan             Tribbs: Without You  \n",
       "90998                Universal Music           Niall Horan: Meltdown  \n",
       "90999  I.Richmond.P./Universal Music    Kryštof: Do nebe se propadám  \n",
       "\n",
       "[91000 rows x 11 columns]"
      ]
     },
     "execution_count": 177,
     "metadata": {},
     "output_type": "execute_result"
    }
   ],
   "source": [
    "df"
   ]
  },
  {
   "cell_type": "markdown",
   "id": "9caffb32",
   "metadata": {},
   "source": [
    "## Písně, které se točí v hodně letech, ale málo konkrétních týdnech"
   ]
  },
  {
   "cell_type": "code",
   "execution_count": 178,
   "id": "6982d596",
   "metadata": {},
   "outputs": [],
   "source": [
    "letnipisne = df[df['tyden'].isin([x for x in range(13,42)])]['track'].drop_duplicates().to_list()"
   ]
  },
  {
   "cell_type": "code",
   "execution_count": 179,
   "id": "534c574d",
   "metadata": {},
   "outputs": [
    {
     "data": {
      "text/plain": [
       "track\n",
       "All I Want For Christmas Is You    11\n",
       "Christmas Is All Around            11\n",
       "Last Christmas                     11\n",
       "Půlnoční                           11\n",
       "Happy Xmas (War Is Over)           10\n",
       "Sliby se maj plnit o Vánocích      10\n",
       "Thank God It´s Christmas           10\n",
       "Medvídek                            9\n",
       "Na nebi svítí                       7\n",
       "Do They Know It´s Christmas?        6\n",
       "Sněhulák                            6\n",
       "Vánoce na míru                      6\n",
       "Christmas Lights                    4\n",
       "Vánoční                             4\n",
       "Jsou svátky                         3\n",
       "Ledaco                              3\n",
       "Ryba rybě                           3\n",
       "Biela krása                         2\n",
       "Bílý kraj                           2\n",
       "Christmas Without You               2\n",
       "Lover                               2\n",
       "Merry Christmas                     2\n",
       "Milióóóny přání                     2\n",
       "Shake Up Christmas                  2\n",
       "Tichá noc                           2\n",
       "Tiché Gloria                        2\n",
       "Vianočná (o prímerí)                2\n",
       "Vánoční hymna                       2\n",
       "Vánoční přání                       2\n",
       "Name: rok, dtype: int64"
      ]
     },
     "execution_count": 179,
     "metadata": {},
     "output_type": "execute_result"
    }
   ],
   "source": [
    "vanocnipisne = df[(df['tyden'].isin([49,50,51,52,53]) & (~df['track'].isin(letnipisne)))].groupby(['track'])['rok'].nunique().nlargest(50)\n",
    "vanocnipisne = vanocnipisne[vanocnipisne >= 2]\n",
    "vanocnipisne"
   ]
  },
  {
   "cell_type": "code",
   "execution_count": 180,
   "id": "1ebe0dc6",
   "metadata": {},
   "outputs": [],
   "source": [
    "vanocnitracky = vanocnipisne.index.to_list()"
   ]
  },
  {
   "cell_type": "code",
   "execution_count": 228,
   "id": "ca4aa04c",
   "metadata": {},
   "outputs": [
    {
     "data": {
      "text/html": [
       "<div>\n",
       "<style scoped>\n",
       "    .dataframe tbody tr th:only-of-type {\n",
       "        vertical-align: middle;\n",
       "    }\n",
       "\n",
       "    .dataframe tbody tr th {\n",
       "        vertical-align: top;\n",
       "    }\n",
       "\n",
       "    .dataframe thead th {\n",
       "        text-align: right;\n",
       "    }\n",
       "</style>\n",
       "<table border=\"1\" class=\"dataframe\">\n",
       "  <thead>\n",
       "    <tr style=\"text-align: right;\">\n",
       "      <th></th>\n",
       "      <th>Píseň</th>\n",
       "      <th>Let v hitparádě</th>\n",
       "    </tr>\n",
       "  </thead>\n",
       "  <tbody>\n",
       "    <tr>\n",
       "      <th>0</th>\n",
       "      <td>Billy Mack: Christmas Is All Around</td>\n",
       "      <td>11</td>\n",
       "    </tr>\n",
       "    <tr>\n",
       "      <th>1</th>\n",
       "      <td>Mariah Carey: All I Want For Christmas Is You</td>\n",
       "      <td>11</td>\n",
       "    </tr>\n",
       "    <tr>\n",
       "      <th>2</th>\n",
       "      <td>Václav Neckář: Půlnoční</td>\n",
       "      <td>11</td>\n",
       "    </tr>\n",
       "    <tr>\n",
       "      <th>3</th>\n",
       "      <td>Wham!: Last Christmas</td>\n",
       "      <td>11</td>\n",
       "    </tr>\n",
       "    <tr>\n",
       "      <th>4</th>\n",
       "      <td>Janek Ledecký: Sliby se maj plnit o Vánocích</td>\n",
       "      <td>10</td>\n",
       "    </tr>\n",
       "    <tr>\n",
       "      <th>5</th>\n",
       "      <td>John Lennon: Happy Xmas</td>\n",
       "      <td>10</td>\n",
       "    </tr>\n",
       "    <tr>\n",
       "      <th>6</th>\n",
       "      <td>Queen: Thank God It´s Christmas</td>\n",
       "      <td>10</td>\n",
       "    </tr>\n",
       "    <tr>\n",
       "      <th>7</th>\n",
       "      <td>Lucie: Medvídek</td>\n",
       "      <td>9</td>\n",
       "    </tr>\n",
       "    <tr>\n",
       "      <th>8</th>\n",
       "      <td>Dan Bárta: Na nebi svítí</td>\n",
       "      <td>7</td>\n",
       "    </tr>\n",
       "    <tr>\n",
       "      <th>9</th>\n",
       "      <td>Band Aid Ii.: Do They Know It´s Christmas?</td>\n",
       "      <td>6</td>\n",
       "    </tr>\n",
       "    <tr>\n",
       "      <th>10</th>\n",
       "      <td>Ewa Farna: Vánoce na míru</td>\n",
       "      <td>6</td>\n",
       "    </tr>\n",
       "    <tr>\n",
       "      <th>11</th>\n",
       "      <td>Michal Hrůza: Sněhulák</td>\n",
       "      <td>6</td>\n",
       "    </tr>\n",
       "  </tbody>\n",
       "</table>\n",
       "</div>"
      ],
      "text/plain": [
       "                                            Píseň  Let v hitparádě\n",
       "0             Billy Mack: Christmas Is All Around               11\n",
       "1   Mariah Carey: All I Want For Christmas Is You               11\n",
       "2                         Václav Neckář: Půlnoční               11\n",
       "3                           Wham!: Last Christmas               11\n",
       "4    Janek Ledecký: Sliby se maj plnit o Vánocích               10\n",
       "5                        John Lennon: Happy Xmas                10\n",
       "6                 Queen: Thank God It´s Christmas               10\n",
       "7                                 Lucie: Medvídek                9\n",
       "8                        Dan Bárta: Na nebi svítí                7\n",
       "9      Band Aid Ii.: Do They Know It´s Christmas?                6\n",
       "10                      Ewa Farna: Vánoce na míru                6\n",
       "11                         Michal Hrůza: Sněhulák                6"
      ]
     },
     "execution_count": 228,
     "metadata": {},
     "output_type": "execute_result"
    }
   ],
   "source": [
    "vanocnipisne_hezky = df[(df['tyden'].isin([49,50,51,52,53]) & (~df['track'].isin(letnipisne)))].groupby(['track_hezky'])['rok'].nunique().nlargest(50)\n",
    "vanocnipisne_hezky = vanocnipisne_hezky[vanocnipisne_hezky >= 6]\n",
    "vanocnipisne_hezky = pd.DataFrame(vanocnipisne_hezky).reset_index().rename(columns={'track_hezky':'Píseň','rok':'Let v hitparádě'})\n",
    "vanocnipisne_hezky"
   ]
  },
  {
   "cell_type": "code",
   "execution_count": 229,
   "id": "5368a4db",
   "metadata": {},
   "outputs": [
    {
     "data": {
      "text/plain": [
       "'<table class=\"dataframe table table--responsive table--w100p table--striped-red table--plain\"><caption>Vánoční hitparádové stálice</caption><thead><tr style=\"text-align: right;\"><th class=\"text-nowrap\">Píseň</th><th class=\"text-nowrap\">Let v hitparádě</th></tr></thead><tbody class=\"text-sm\"><tr><td>Billy Mack: Christmas Is All Around</td><td>11</td></tr><tr><td>Mariah Carey: All I Want For Christmas Is You</td><td>11</td></tr><tr><td>Václav Neckář: Půlnoční</td><td>11</td></tr><tr><td>Wham!: Last Christmas</td><td>11</td></tr><tr><td>Janek Ledecký: Sliby se maj plnit o Vánocích</td><td>10</td></tr><tr><td>John Lennon: Happy Xmas</td><td>10</td></tr><tr><td>Queen: Thank God It´s Christmas</td><td>10</td></tr><tr><td>Lucie: Medvídek</td><td>9</td></tr><tr><td>Dan Bárta: Na nebi svítí</td><td>7</td></tr><tr><td>Band Aid Ii.: Do They Know It´s Christmas?</td><td>6</td></tr><tr><td>Ewa Farna: Vánoce na míru</td><td>6</td></tr><tr><td>Michal Hrůza: Sněhulák</td><td>6</td></tr></tbody><tfoot><tr style=\"text-align: center;\"><td colspan=2>Data od roku 2006, zdroj: ČNS IFPI</td></tr></tfoot></table>'"
      ]
     },
     "execution_count": 229,
     "metadata": {},
     "output_type": "execute_result"
    }
   ],
   "source": [
    "tabulka(vanocnipisne_hezky, titulek=\"Vánoční hitparádové stálice\", podtitulek=\"Data od roku 2006, zdroj: ČNS IFPI\")"
   ]
  },
  {
   "cell_type": "markdown",
   "id": "3946622a",
   "metadata": {},
   "source": [
    "## Písně, které mají Vánoce v názvu"
   ]
  },
  {
   "cell_type": "code",
   "execution_count": 182,
   "id": "59476c4c",
   "metadata": {},
   "outputs": [
    {
     "data": {
      "text/plain": [
       "30598    Sliby se maj plnit o Vánocích\n",
       "35665                      Vánoce bílý\n",
       "56090             Vánoce hrajou glóriá\n",
       "61089                   Vánoce na míru\n",
       "81392                 Vánoce jako dřív\n",
       "86494    O Vánocích (feat. Boni Pueri)\n",
       "86695                Vánoce přicházejí\n",
       "Name: track, dtype: object"
      ]
     },
     "execution_count": 182,
     "metadata": {},
     "output_type": "execute_result"
    }
   ],
   "source": [
    "df[df['track'].str.contains('Vánoc')]['track'].drop_duplicates()"
   ]
  },
  {
   "cell_type": "code",
   "execution_count": 183,
   "id": "62802def",
   "metadata": {},
   "outputs": [
    {
     "data": {
      "text/plain": [
       "35676    Happy Xmas (War Is Over)\n",
       "Name: track, dtype: object"
      ]
     },
     "execution_count": 183,
     "metadata": {},
     "output_type": "execute_result"
    }
   ],
   "source": [
    "df[df['track'].str.contains('Xmas')]['track'].drop_duplicates()"
   ]
  },
  {
   "cell_type": "code",
   "execution_count": 184,
   "id": "93f01c00",
   "metadata": {},
   "outputs": [
    {
     "data": {
      "text/plain": [
       "10298                     Last Christmas\n",
       "25250                 Shake Up Christmas\n",
       "25475                   Christmas Lights\n",
       "30377            Christmas Is All Around\n",
       "30580    All I Want For Christmas Is You\n",
       "35693           Thank God It´s Christmas\n",
       "40778                    White Christmas\n",
       "45638       Do They Know It´s Christmas?\n",
       "50996           Merry Christmas Everyone\n",
       "76351              Christmas Without You\n",
       "81461                    Merry Christmas\n",
       "Name: track, dtype: object"
      ]
     },
     "execution_count": 184,
     "metadata": {},
     "output_type": "execute_result"
    }
   ],
   "source": [
    "df[df['track'].str.contains('Christm')]['track'].drop_duplicates()"
   ]
  },
  {
   "cell_type": "code",
   "execution_count": 185,
   "id": "529f57d1",
   "metadata": {},
   "outputs": [],
   "source": [
    "vanocevnazvu = df[df['track'].str.contains('Christm')]['track'].drop_duplicates().to_list() + df[df['track'].str.contains('Xmas')]['track'].drop_duplicates().to_list() + df[df['track'].str.contains('Vánoc')]['track'].drop_duplicates().to_list() + df[df['track'].str.lower().str.contains('vánoč')]['track'].drop_duplicates().to_list()"
   ]
  },
  {
   "cell_type": "code",
   "execution_count": 186,
   "id": "2924295e",
   "metadata": {},
   "outputs": [],
   "source": [
    "vanocni = vanocevnazvu + vanocnitracky"
   ]
  },
  {
   "cell_type": "code",
   "execution_count": 187,
   "id": "334e4dd5",
   "metadata": {},
   "outputs": [
    {
     "data": {
      "text/plain": [
       "['Last Christmas',\n",
       " 'Shake Up Christmas',\n",
       " 'Christmas Lights',\n",
       " 'Christmas Is All Around',\n",
       " 'All I Want For Christmas Is You',\n",
       " 'Thank God It´s Christmas',\n",
       " 'White Christmas',\n",
       " 'Do They Know It´s Christmas?',\n",
       " 'Merry Christmas Everyone',\n",
       " 'Christmas Without You',\n",
       " 'Merry Christmas',\n",
       " 'Happy Xmas (War Is Over)',\n",
       " 'Sliby se maj plnit o Vánocích',\n",
       " 'Vánoce bílý',\n",
       " 'Vánoce hrajou glóriá',\n",
       " 'Vánoce na míru',\n",
       " 'Vánoce jako dřív',\n",
       " 'O Vánocích (feat. Boni Pueri)',\n",
       " 'Vánoce přicházejí',\n",
       " 'Vánoční svařák',\n",
       " 'Vánoční strom',\n",
       " 'Vánoční přání',\n",
       " 'Vánoční hymna',\n",
       " 'Čas vánoční',\n",
       " 'Vánoční fanatik',\n",
       " 'Vánoční',\n",
       " 'All I Want For Christmas Is You',\n",
       " 'Christmas Is All Around',\n",
       " 'Last Christmas',\n",
       " 'Půlnoční',\n",
       " 'Happy Xmas (War Is Over)',\n",
       " 'Sliby se maj plnit o Vánocích',\n",
       " 'Thank God It´s Christmas',\n",
       " 'Medvídek',\n",
       " 'Na nebi svítí',\n",
       " 'Do They Know It´s Christmas?',\n",
       " 'Sněhulák',\n",
       " 'Vánoce na míru',\n",
       " 'Christmas Lights',\n",
       " 'Vánoční',\n",
       " 'Jsou svátky',\n",
       " 'Ledaco',\n",
       " 'Ryba rybě',\n",
       " 'Biela krása',\n",
       " 'Bílý kraj',\n",
       " 'Christmas Without You',\n",
       " 'Lover',\n",
       " 'Merry Christmas',\n",
       " 'Milióóóny přání',\n",
       " 'Shake Up Christmas',\n",
       " 'Tichá noc',\n",
       " 'Tiché Gloria',\n",
       " 'Vianočná (o prímerí)',\n",
       " 'Vánoční hymna',\n",
       " 'Vánoční přání']"
      ]
     },
     "execution_count": 187,
     "metadata": {},
     "output_type": "execute_result"
    }
   ],
   "source": [
    "vanocni"
   ]
  },
  {
   "cell_type": "markdown",
   "id": "ae19142e",
   "metadata": {},
   "source": [
    "## Kdy se to dostává do top 100"
   ]
  },
  {
   "cell_type": "code",
   "execution_count": 233,
   "id": "fc90410c",
   "metadata": {},
   "outputs": [
    {
     "data": {
      "text/plain": [
       "<Axes: xlabel='tyden'>"
      ]
     },
     "execution_count": 233,
     "metadata": {},
     "output_type": "execute_result"
    },
    {
     "data": {
      "image/png": "[encoded data removed]",
      "text/plain": [
       "<Figure size 432x288 with 1 Axes>"
      ]
     },
     "metadata": {
      "needs_background": "light"
     },
     "output_type": "display_data"
    }
   ],
   "source": [
    "df[df['track'].isin(vanocni)].groupby(\"tyden\").size().plot.bar()"
   ]
  },
  {
   "cell_type": "code",
   "execution_count": 237,
   "id": "0dc5833a",
   "metadata": {},
   "outputs": [],
   "source": [
    "vanocni_tydnove = [43,44,45,46,47,48,49,50,51,52,1,2,3,4,5,6,7,8,9,10,11]"
   ]
  },
  {
   "cell_type": "code",
   "execution_count": 238,
   "id": "53898346",
   "metadata": {},
   "outputs": [],
   "source": [
    "cely_rok = df[df['track'].isin(vanocni)].groupby(\"tyden\").size().reindex(vanocni_tydnove)"
   ]
  },
  {
   "cell_type": "code",
   "execution_count": 242,
   "id": "e57c7e58",
   "metadata": {},
   "outputs": [
    {
     "data": {
      "text/html": [
       "<div>\n",
       "<style scoped>\n",
       "    .dataframe tbody tr th:only-of-type {\n",
       "        vertical-align: middle;\n",
       "    }\n",
       "\n",
       "    .dataframe tbody tr th {\n",
       "        vertical-align: top;\n",
       "    }\n",
       "\n",
       "    .dataframe thead th {\n",
       "        text-align: right;\n",
       "    }\n",
       "</style>\n",
       "<table border=\"1\" class=\"dataframe\">\n",
       "  <thead>\n",
       "    <tr style=\"text-align: right;\">\n",
       "      <th></th>\n",
       "      <th>Unnamed: 0</th>\n",
       "      <th>hitparada</th>\n",
       "      <th>rok</th>\n",
       "      <th>tyden</th>\n",
       "      <th>week</th>\n",
       "      <th>pozice</th>\n",
       "      <th>track</th>\n",
       "      <th>interpret</th>\n",
       "      <th>interpret_hlavni</th>\n",
       "      <th>vydavatel</th>\n",
       "      <th>track_hezky</th>\n",
       "    </tr>\n",
       "  </thead>\n",
       "  <tbody>\n",
       "    <tr>\n",
       "      <th>36674</th>\n",
       "      <td>36774</td>\n",
       "      <td>CZ - RADIO - TOP 100</td>\n",
       "      <td>2013</td>\n",
       "      <td>9</td>\n",
       "      <td>2013-09</td>\n",
       "      <td>75</td>\n",
       "      <td>Biela krása</td>\n",
       "      <td>No Name</td>\n",
       "      <td>No Name</td>\n",
       "      <td>Sony Music</td>\n",
       "      <td>No Name: Biela krása</td>\n",
       "    </tr>\n",
       "    <tr>\n",
       "      <th>46768</th>\n",
       "      <td>46868</td>\n",
       "      <td>CZ - RADIO - TOP 100</td>\n",
       "      <td>2015</td>\n",
       "      <td>9</td>\n",
       "      <td>2015-09</td>\n",
       "      <td>69</td>\n",
       "      <td>Sněhulák</td>\n",
       "      <td>Michal Hrůza</td>\n",
       "      <td>Michal Hrůza</td>\n",
       "      <td>Universal Music</td>\n",
       "      <td>Michal Hrůza: Sněhulák</td>\n",
       "    </tr>\n",
       "    <tr>\n",
       "      <th>72277</th>\n",
       "      <td>75077</td>\n",
       "      <td>CZ - RADIO - TOP 100</td>\n",
       "      <td>2020</td>\n",
       "      <td>9</td>\n",
       "      <td>2020-09</td>\n",
       "      <td>78</td>\n",
       "      <td>Lover</td>\n",
       "      <td>Taylor Swift</td>\n",
       "      <td>Taylor Swift</td>\n",
       "      <td>Universal Music</td>\n",
       "      <td>Taylor Swift: Lover</td>\n",
       "    </tr>\n",
       "  </tbody>\n",
       "</table>\n",
       "</div>"
      ],
      "text/plain": [
       "       Unnamed: 0             hitparada   rok  tyden     week  pozice  \\\n",
       "36674       36774  CZ - RADIO - TOP 100  2013      9  2013-09      75   \n",
       "46768       46868  CZ - RADIO - TOP 100  2015      9  2015-09      69   \n",
       "72277       75077  CZ - RADIO - TOP 100  2020      9  2020-09      78   \n",
       "\n",
       "             track     interpret interpret_hlavni        vydavatel  \\\n",
       "36674  Biela krása       No Name          No Name       Sony Music   \n",
       "46768     Sněhulák  Michal Hrůza     Michal Hrůza  Universal Music   \n",
       "72277        Lover  Taylor Swift     Taylor Swift  Universal Music   \n",
       "\n",
       "                  track_hezky  \n",
       "36674    No Name: Biela krása  \n",
       "46768  Michal Hrůza: Sněhulák  \n",
       "72277     Taylor Swift: Lover  "
      ]
     },
     "execution_count": 242,
     "metadata": {},
     "output_type": "execute_result"
    }
   ],
   "source": [
    "df[df['track'].isin(vanocni) & (df['tyden'] == 9)]"
   ]
  },
  {
   "cell_type": "code",
   "execution_count": 245,
   "id": "47f74bec",
   "metadata": {},
   "outputs": [
    {
     "name": "stdout",
     "output_type": "stream",
     "text": [
      "Graf uložen.\n"
     ]
    }
   ],
   "source": [
    "graf(sloupcovy=[cely_rok], target=\"vanoce_celorok\", titulek='Ve kterých týdnech se vánoční hity dostávají do top 100', podtitulek=f'''Číslo na svislé ose udává celkový počet obsazených hitparádových příček od roku 2006. Do března v hitparádě vydržely Biela krása od No Name (2013), Sněhulák od Michala Hrůzy (2015) a Lover od Taylor Swift (2020). V roce 2023 začíná 48. týden 27. listopadu.''', kredity=[\"Zdroj dat: ČNS IFPI | Vizualizace: Michal Kašpárek, iROZHLAS.cz\",\"https://www.irozhlas.cz/zpravy-tag/datova-zurnalistika\"], prvni=True, osay=' ', osay2=' ', skladany=False, naopak=False, skrytnuly=True)"
   ]
  },
  {
   "cell_type": "code",
   "execution_count": 189,
   "id": "3222696e",
   "metadata": {},
   "outputs": [],
   "source": [
    "vsechnytydny = df['week'].drop_duplicates().to_list()"
   ]
  },
  {
   "cell_type": "code",
   "execution_count": 190,
   "id": "a2c1cf9c",
   "metadata": {},
   "outputs": [],
   "source": [
    "def cesta_pisne(seznam):\n",
    "    pracovni = df\n",
    "    pracovni = pracovni[(pracovni['track'].isin(seznam))].drop_duplicates(subset=['rok','tyden']).set_index(\"week\", drop=True)\n",
    "    pracovni = pracovni.reindex(vsechnytydny, fill_value=101).sort_index()\n",
    "    return pracovni['pozice'].plot(figsize=(20,5)).invert_yaxis()"
   ]
  },
  {
   "cell_type": "code",
   "execution_count": 191,
   "id": "3cd0d084",
   "metadata": {},
   "outputs": [
    {
     "data": {
      "image/png": "[encoded data removed]",
      "text/plain": [
       "<Figure size 1440x360 with 1 Axes>"
      ]
     },
     "metadata": {
      "needs_background": "light"
     },
     "output_type": "display_data"
    }
   ],
   "source": [
    "cesta_pisne(vanocni)"
   ]
  },
  {
   "cell_type": "code",
   "execution_count": 192,
   "id": "6c16ea08",
   "metadata": {},
   "outputs": [
    {
     "data": {
      "image/png": "[encoded data removed]",
      "text/plain": [
       "<Figure size 1440x360 with 1 Axes>"
      ]
     },
     "metadata": {
      "needs_background": "light"
     },
     "output_type": "display_data"
    }
   ],
   "source": [
    "cesta_pisne(['Ledaco'])"
   ]
  },
  {
   "cell_type": "code",
   "execution_count": 193,
   "id": "c80c8c0f",
   "metadata": {},
   "outputs": [
    {
     "data": {
      "image/png": "[encoded data removed]",
      "text/plain": [
       "<Figure size 1440x360 with 1 Axes>"
      ]
     },
     "metadata": {
      "needs_background": "light"
     },
     "output_type": "display_data"
    }
   ],
   "source": [
    "cesta_pisne(['Milióóóny přání'])"
   ]
  },
  {
   "cell_type": "code",
   "execution_count": 194,
   "id": "ddebb106",
   "metadata": {},
   "outputs": [
    {
     "data": {
      "image/png": "[encoded data removed]",
      "text/plain": [
       "<Figure size 1440x360 with 1 Axes>"
      ]
     },
     "metadata": {
      "needs_background": "light"
     },
     "output_type": "display_data"
    }
   ],
   "source": [
    "cesta_pisne(['Jsou svátky'])"
   ]
  },
  {
   "cell_type": "code",
   "execution_count": 195,
   "id": "378fbebc",
   "metadata": {},
   "outputs": [
    {
     "data": {
      "image/png": "[encoded data removed]",
      "text/plain": [
       "<Figure size 1440x360 with 1 Axes>"
      ]
     },
     "metadata": {
      "needs_background": "light"
     },
     "output_type": "display_data"
    }
   ],
   "source": [
    "cesta_pisne(['Chci tančit'])"
   ]
  },
  {
   "cell_type": "code",
   "execution_count": 196,
   "id": "e2d98fdd",
   "metadata": {},
   "outputs": [
    {
     "data": {
      "image/png": "[encoded data removed]",
      "text/plain": [
       "<Figure size 1440x360 with 1 Axes>"
      ]
     },
     "metadata": {
      "needs_background": "light"
     },
     "output_type": "display_data"
    }
   ],
   "source": [
    "cesta_pisne(['Medvídek'])"
   ]
  },
  {
   "cell_type": "code",
   "execution_count": 197,
   "id": "3bcd3710",
   "metadata": {},
   "outputs": [
    {
     "data": {
      "image/png": "[encoded data removed]",
      "text/plain": [
       "<Figure size 1440x360 with 1 Axes>"
      ]
     },
     "metadata": {
      "needs_background": "light"
     },
     "output_type": "display_data"
    }
   ],
   "source": [
    "cesta_pisne(['Na nebi svítí'])"
   ]
  },
  {
   "cell_type": "code",
   "execution_count": 198,
   "id": "0050b979",
   "metadata": {},
   "outputs": [
    {
     "data": {
      "image/png": "[encoded data removed]",
      "text/plain": [
       "<Figure size 1440x360 with 1 Axes>"
      ]
     },
     "metadata": {
      "needs_background": "light"
     },
     "output_type": "display_data"
    }
   ],
   "source": [
    "cesta_pisne(['Desatero'])"
   ]
  },
  {
   "cell_type": "code",
   "execution_count": 199,
   "id": "469196d8",
   "metadata": {},
   "outputs": [
    {
     "data": {
      "image/png": "[encoded data removed]",
      "text/plain": [
       "<Figure size 1440x360 with 1 Axes>"
      ]
     },
     "metadata": {
      "needs_background": "light"
     },
     "output_type": "display_data"
    }
   ],
   "source": [
    "cesta_pisne(['Sněhulák'])"
   ]
  },
  {
   "cell_type": "code",
   "execution_count": 200,
   "id": "1e639b46",
   "metadata": {},
   "outputs": [
    {
     "data": {
      "image/png": "[encoded data removed]",
      "text/plain": [
       "<Figure size 1440x360 with 1 Axes>"
      ]
     },
     "metadata": {
      "needs_background": "light"
     },
     "output_type": "display_data"
    }
   ],
   "source": [
    "cesta_pisne(['Pouta'])"
   ]
  },
  {
   "cell_type": "code",
   "execution_count": 201,
   "id": "fa77ae7c",
   "metadata": {},
   "outputs": [
    {
     "data": {
      "image/png": "[encoded data removed]",
      "text/plain": [
       "<Figure size 1440x360 with 1 Axes>"
      ]
     },
     "metadata": {
      "needs_background": "light"
     },
     "output_type": "display_data"
    }
   ],
   "source": [
    "cesta_pisne(['Occhi'])"
   ]
  },
  {
   "cell_type": "markdown",
   "id": "84eabbfe",
   "metadata": {},
   "source": [
    "## Kdy nás ty tracky oblažily poprvé"
   ]
  },
  {
   "cell_type": "code",
   "execution_count": 202,
   "id": "d145759f",
   "metadata": {},
   "outputs": [
    {
     "data": {
      "text/plain": [
       "interpret                          track                          \n",
       "Wham!                              Last Christmas                     2008\n",
       "Walda Gang                         Vánoční svařák                     2009\n",
       "Coldplay                           Christmas Lights                   2010\n",
       "Lucie Vondráčková                  Vánoční strom                      2010\n",
       "Train                              Shake Up Christmas                 2010\n",
       "Billy Mack                         Christmas Is All Around            2011\n",
       "Mariah Carey                       All I Want For Christmas Is You    2011\n",
       "Lucie Vondráčková Feat. R. Schwab  Vánoční přání                      2011\n",
       "Václav Neckář & Umakart            Půlnoční                           2011\n",
       "Lucie                              Medvídek                           2011\n",
       "Janek Ledecký                      Sliby se maj plnit o Vánocích      2011\n",
       "No Name                            Biela krása                        2012\n",
       "Lucie Vondráčková & Kolář Petr     Vánoce bílý                        2012\n",
       "Queen                              Thank God It´s Christmas           2012\n",
       "John Lennon                        Happy Xmas (War Is Over)           2012\n",
       "Tomáš Klus                         Ledaco                             2012\n",
       "Janek Ledecký                      Ryba rybě                          2012\n",
       "Jan Kalousek                       Bílý kraj                          2013\n",
       "Miro Žbirka                        Vianočná (o prímerí)               2013\n",
       "E2 Crew                            Vánoční hymna                      2013\n",
       "Dan Bárta                          Na nebi svítí                      2013\n",
       "Michael Bublé & Shania Twain       White Christmas                    2013\n",
       "Band Aid Ii.                       Do They Know It´s Christmas?       2014\n",
       "Michal Hrůza                       Sněhulák                           2014\n",
       "Bohouš Josef                       Tichá noc                          2014\n",
       "Karel Gott                         Jsou svátky                        2015\n",
       "Olga Lounová                       Vánoční fanatik                    2015\n",
       "Shakin' Stevens                    Merry Christmas Everyone           2015\n",
       "Karel Gott & Lucie Vondráčková     Čas vánoční                        2015\n",
       "Lucie Bílá                         Tiché Gloria                       2016\n",
       "Lenny                              Lover                              2016\n",
       "Petr Kotvald                       Vánoce hrajou glóriá               2016\n",
       "Ewa Farna                          Vánoce na míru                     2017\n",
       "Natálie Grossová                   Vánoční                            2017\n",
       "Jelen                              Vánoční                            2017\n",
       "Chinaski & Katka Knechtová         Milióóóny přání                    2018\n",
       "Taylor Swift                       Lover                              2019\n",
       "Ava Max                            Christmas Without You              2020\n",
       "Kryštof/Karel Gott                 Vánoční                            2020\n",
       "Ed Sheeran & Elton John            Merry Christmas                    2021\n",
       "Marek Ztracený & Hana Zagorová     Vánoce jako dřív                   2021\n",
       "Voxel/Em.                          Vánoce přicházejí                  2022\n",
       "David Deyl & Kristína              Vánoční přání                      2022\n",
       "Lucie Bílá                         O Vánocích (feat. Boni Pueri)      2022\n",
       "Name: rok, dtype: int64"
      ]
     },
     "execution_count": 202,
     "metadata": {},
     "output_type": "execute_result"
    }
   ],
   "source": [
    "df[df['track'].isin(vanocni)].groupby(['interpret','track'])['rok'].min().nsmallest(50)"
   ]
  },
  {
   "cell_type": "markdown",
   "id": "3c449342",
   "metadata": {},
   "source": [
    "## Český rozhlas"
   ]
  },
  {
   "cell_type": "code",
   "execution_count": 203,
   "id": "ca9d19d1",
   "metadata": {},
   "outputs": [],
   "source": [
    "vanocni_l = [x.lower() for x in vanocni]"
   ]
  },
  {
   "cell_type": "code",
   "execution_count": 204,
   "id": "63c464bd",
   "metadata": {},
   "outputs": [],
   "source": [
    "rz = pd.read_json(os.path.join(\"data\",\"cro_raw.json\"))"
   ]
  },
  {
   "cell_type": "code",
   "execution_count": 205,
   "id": "8e91a8ac",
   "metadata": {},
   "outputs": [],
   "source": [
    "rz['since'] = rz['since'].apply(lambda x: x.replace(\"01:00\",\"02:00\"))"
   ]
  },
  {
   "cell_type": "code",
   "execution_count": 206,
   "id": "cf565c2d",
   "metadata": {},
   "outputs": [],
   "source": [
    "rz['den'] = pd.to_datetime(rz['since']).dt.dayofyear"
   ]
  },
  {
   "cell_type": "code",
   "execution_count": 207,
   "id": "a9c2fd3e",
   "metadata": {},
   "outputs": [
    {
     "data": {
      "text/plain": [
       "0          2020-12-01T04:42:44+02:00\n",
       "1          2020-12-08T18:25:47+02:00\n",
       "2          2020-12-09T06:24:52+02:00\n",
       "3          2020-12-10T18:05:36+02:00\n",
       "4          2020-12-11T06:04:38+02:00\n",
       "                     ...            \n",
       "1067022    2023-10-21T11:56:56+02:00\n",
       "1067023    2023-10-21T16:22:37+02:00\n",
       "1067024    2023-10-22T13:53:15+02:00\n",
       "1067025    2023-10-22T13:57:04+02:00\n",
       "1067026    2023-10-22T23:26:45+02:00\n",
       "Name: since, Length: 1067027, dtype: object"
      ]
     },
     "execution_count": 207,
     "metadata": {},
     "output_type": "execute_result"
    }
   ],
   "source": [
    "rz['since']"
   ]
  },
  {
   "cell_type": "code",
   "execution_count": 208,
   "id": "6dd033c7",
   "metadata": {},
   "outputs": [],
   "source": [
    "rz['datum'] = rz['since'].apply(lambda x: f\"\"\"{x[5:10]}\"\"\")"
   ]
  },
  {
   "cell_type": "code",
   "execution_count": 209,
   "id": "79f6b6f5",
   "metadata": {},
   "outputs": [],
   "source": [
    "rz['track'] = rz['track'].apply(lambda x: x.lower())"
   ]
  },
  {
   "cell_type": "code",
   "execution_count": 210,
   "id": "714c9c91",
   "metadata": {},
   "outputs": [
    {
     "data": {
      "text/html": [
       "<div>\n",
       "<style scoped>\n",
       "    .dataframe tbody tr th:only-of-type {\n",
       "        vertical-align: middle;\n",
       "    }\n",
       "\n",
       "    .dataframe tbody tr th {\n",
       "        vertical-align: top;\n",
       "    }\n",
       "\n",
       "    .dataframe thead th {\n",
       "        text-align: right;\n",
       "    }\n",
       "</style>\n",
       "<table border=\"1\" class=\"dataframe\">\n",
       "  <thead>\n",
       "    <tr style=\"text-align: right;\">\n",
       "      <th></th>\n",
       "      <th>since</th>\n",
       "      <th>id</th>\n",
       "      <th>interpret</th>\n",
       "      <th>interpret_id</th>\n",
       "      <th>track</th>\n",
       "      <th>track_id</th>\n",
       "      <th>stanice</th>\n",
       "      <th>den</th>\n",
       "      <th>datum</th>\n",
       "    </tr>\n",
       "  </thead>\n",
       "  <tbody>\n",
       "    <tr>\n",
       "      <th>728</th>\n",
       "      <td>2020-12-01T07:04:55+02:00</td>\n",
       "      <td>10237476</td>\n",
       "      <td>KRYŠTOF &amp; KAREL GOTT</td>\n",
       "      <td>25130</td>\n",
       "      <td>vánoční</td>\n",
       "      <td>84268</td>\n",
       "      <td>dvojka</td>\n",
       "      <td>336</td>\n",
       "      <td>12-01</td>\n",
       "    </tr>\n",
       "    <tr>\n",
       "      <th>745</th>\n",
       "      <td>2020-12-01T09:35:24+02:00</td>\n",
       "      <td>10238187</td>\n",
       "      <td>DAN BÁRTA</td>\n",
       "      <td>3192</td>\n",
       "      <td>na nebi svítí</td>\n",
       "      <td>12618</td>\n",
       "      <td>dvojka</td>\n",
       "      <td>336</td>\n",
       "      <td>12-01</td>\n",
       "    </tr>\n",
       "    <tr>\n",
       "      <th>765</th>\n",
       "      <td>2020-12-01T12:05:30+02:00</td>\n",
       "      <td>10238769</td>\n",
       "      <td>EWA FARNA</td>\n",
       "      <td>4499</td>\n",
       "      <td>vánoce na míru</td>\n",
       "      <td>46017</td>\n",
       "      <td>dvojka</td>\n",
       "      <td>336</td>\n",
       "      <td>12-01</td>\n",
       "    </tr>\n",
       "    <tr>\n",
       "      <th>820</th>\n",
       "      <td>2020-12-01T18:26:55+02:00</td>\n",
       "      <td>10240231</td>\n",
       "      <td>LUCIE VONDRÁČKOVÁ</td>\n",
       "      <td>3694</td>\n",
       "      <td>vánoční strom</td>\n",
       "      <td>15246</td>\n",
       "      <td>dvojka</td>\n",
       "      <td>336</td>\n",
       "      <td>12-01</td>\n",
       "    </tr>\n",
       "    <tr>\n",
       "      <th>835</th>\n",
       "      <td>2020-12-01T22:47:45+02:00</td>\n",
       "      <td>10240649</td>\n",
       "      <td>TOMÁŠ KLUS</td>\n",
       "      <td>3098</td>\n",
       "      <td>ledaco</td>\n",
       "      <td>14791</td>\n",
       "      <td>dvojka</td>\n",
       "      <td>336</td>\n",
       "      <td>12-01</td>\n",
       "    </tr>\n",
       "    <tr>\n",
       "      <th>...</th>\n",
       "      <td>...</td>\n",
       "      <td>...</td>\n",
       "      <td>...</td>\n",
       "      <td>...</td>\n",
       "      <td>...</td>\n",
       "      <td>...</td>\n",
       "      <td>...</td>\n",
       "      <td>...</td>\n",
       "      <td>...</td>\n",
       "    </tr>\n",
       "    <tr>\n",
       "      <th>976735</th>\n",
       "      <td>2022-12-26T12:21:07+02:00</td>\n",
       "      <td>16670206</td>\n",
       "      <td>BILLY MACK</td>\n",
       "      <td>5527</td>\n",
       "      <td>christmas is all around</td>\n",
       "      <td>15098</td>\n",
       "      <td>radiozurnal</td>\n",
       "      <td>360</td>\n",
       "      <td>12-26</td>\n",
       "    </tr>\n",
       "    <tr>\n",
       "      <th>976742</th>\n",
       "      <td>2022-12-26T13:34:36+02:00</td>\n",
       "      <td>16670805</td>\n",
       "      <td>LUCIE</td>\n",
       "      <td>3035</td>\n",
       "      <td>medvídek</td>\n",
       "      <td>12781</td>\n",
       "      <td>radiozurnal</td>\n",
       "      <td>360</td>\n",
       "      <td>12-26</td>\n",
       "    </tr>\n",
       "    <tr>\n",
       "      <th>976782</th>\n",
       "      <td>2022-12-26T18:35:20+02:00</td>\n",
       "      <td>16673046</td>\n",
       "      <td>DAVID DEYL &amp; KRISTÍNA</td>\n",
       "      <td>31262</td>\n",
       "      <td>vánoční přání</td>\n",
       "      <td>104453</td>\n",
       "      <td>radiozurnal</td>\n",
       "      <td>360</td>\n",
       "      <td>12-26</td>\n",
       "    </tr>\n",
       "    <tr>\n",
       "      <th>976814</th>\n",
       "      <td>2022-12-26T22:17:13+02:00</td>\n",
       "      <td>16673583</td>\n",
       "      <td>GEORGE EZRA</td>\n",
       "      <td>8605</td>\n",
       "      <td>white christmas</td>\n",
       "      <td>46235</td>\n",
       "      <td>radiozurnal</td>\n",
       "      <td>360</td>\n",
       "      <td>12-26</td>\n",
       "    </tr>\n",
       "    <tr>\n",
       "      <th>976825</th>\n",
       "      <td>2022-12-26T23:16:23+02:00</td>\n",
       "      <td>16673729</td>\n",
       "      <td>KATKA KNECHTOVÁ, CHINASKI</td>\n",
       "      <td>18248</td>\n",
       "      <td>milióóóny přání</td>\n",
       "      <td>60380</td>\n",
       "      <td>radiozurnal</td>\n",
       "      <td>360</td>\n",
       "      <td>12-26</td>\n",
       "    </tr>\n",
       "  </tbody>\n",
       "</table>\n",
       "<p>1368 rows × 9 columns</p>\n",
       "</div>"
      ],
      "text/plain": [
       "                            since        id                  interpret  \\\n",
       "728     2020-12-01T07:04:55+02:00  10237476       KRYŠTOF & KAREL GOTT   \n",
       "745     2020-12-01T09:35:24+02:00  10238187                  DAN BÁRTA   \n",
       "765     2020-12-01T12:05:30+02:00  10238769                  EWA FARNA   \n",
       "820     2020-12-01T18:26:55+02:00  10240231          LUCIE VONDRÁČKOVÁ   \n",
       "835     2020-12-01T22:47:45+02:00  10240649                 TOMÁŠ KLUS   \n",
       "...                           ...       ...                        ...   \n",
       "976735  2022-12-26T12:21:07+02:00  16670206                 BILLY MACK   \n",
       "976742  2022-12-26T13:34:36+02:00  16670805                      LUCIE   \n",
       "976782  2022-12-26T18:35:20+02:00  16673046      DAVID DEYL & KRISTÍNA   \n",
       "976814  2022-12-26T22:17:13+02:00  16673583                GEORGE EZRA   \n",
       "976825  2022-12-26T23:16:23+02:00  16673729  KATKA KNECHTOVÁ, CHINASKI   \n",
       "\n",
       "        interpret_id                    track  track_id      stanice  den  \\\n",
       "728            25130                  vánoční     84268       dvojka  336   \n",
       "745             3192            na nebi svítí     12618       dvojka  336   \n",
       "765             4499           vánoce na míru     46017       dvojka  336   \n",
       "820             3694            vánoční strom     15246       dvojka  336   \n",
       "835             3098                   ledaco     14791       dvojka  336   \n",
       "...              ...                      ...       ...          ...  ...   \n",
       "976735          5527  christmas is all around     15098  radiozurnal  360   \n",
       "976742          3035                 medvídek     12781  radiozurnal  360   \n",
       "976782         31262            vánoční přání    104453  radiozurnal  360   \n",
       "976814          8605          white christmas     46235  radiozurnal  360   \n",
       "976825         18248          milióóóny přání     60380  radiozurnal  360   \n",
       "\n",
       "        datum  \n",
       "728     12-01  \n",
       "745     12-01  \n",
       "765     12-01  \n",
       "820     12-01  \n",
       "835     12-01  \n",
       "...       ...  \n",
       "976735  12-26  \n",
       "976742  12-26  \n",
       "976782  12-26  \n",
       "976814  12-26  \n",
       "976825  12-26  \n",
       "\n",
       "[1368 rows x 9 columns]"
      ]
     },
     "execution_count": 210,
     "metadata": {},
     "output_type": "execute_result"
    }
   ],
   "source": [
    "rz[rz['track'].isin(vanocni_l)]"
   ]
  },
  {
   "cell_type": "code",
   "execution_count": 211,
   "id": "9f384f35",
   "metadata": {},
   "outputs": [],
   "source": [
    "vanocni_rz = rz[rz['track'].isin(vanocni_l)]"
   ]
  },
  {
   "cell_type": "code",
   "execution_count": 212,
   "id": "d3857206",
   "metadata": {},
   "outputs": [
    {
     "data": {
      "text/plain": [
       "datum\n",
       "01-01     1\n",
       "01-04     1\n",
       "01-07     2\n",
       "01-09     1\n",
       "01-12     2\n",
       "         ..\n",
       "12-26    81\n",
       "12-27     2\n",
       "12-29     1\n",
       "12-30     2\n",
       "12-31     3\n",
       "Length: 98, dtype: int64"
      ]
     },
     "execution_count": 212,
     "metadata": {},
     "output_type": "execute_result"
    }
   ],
   "source": [
    "vanocni_rz.groupby('datum').size()"
   ]
  },
  {
   "cell_type": "markdown",
   "id": "a8d4fcd9",
   "metadata": {},
   "source": [
    "## Český rozhlas"
   ]
  },
  {
   "cell_type": "code",
   "execution_count": 213,
   "id": "46637c18",
   "metadata": {},
   "outputs": [],
   "source": [
    "cro = pd.read_json(os.path.join(\"data\",\"cro_raw.json\"))"
   ]
  },
  {
   "cell_type": "code",
   "execution_count": 214,
   "id": "a19d95d5",
   "metadata": {},
   "outputs": [],
   "source": [
    "cro['since'] = pd.to_datetime(cro['since'].apply(lambda x: x.replace(\"02:00\",\"01:00\")))"
   ]
  },
  {
   "cell_type": "code",
   "execution_count": 215,
   "id": "de0a80a3",
   "metadata": {},
   "outputs": [],
   "source": [
    "vanocni2 = [x.lower().split(\"(\")[0] for x in vanocni]"
   ]
  },
  {
   "cell_type": "code",
   "execution_count": 216,
   "id": "5fa3fa69",
   "metadata": {},
   "outputs": [
    {
     "data": {
      "text/html": [
       "<div>\n",
       "<style scoped>\n",
       "    .dataframe tbody tr th:only-of-type {\n",
       "        vertical-align: middle;\n",
       "    }\n",
       "\n",
       "    .dataframe tbody tr th {\n",
       "        vertical-align: top;\n",
       "    }\n",
       "\n",
       "    .dataframe thead th {\n",
       "        text-align: right;\n",
       "    }\n",
       "</style>\n",
       "<table border=\"1\" class=\"dataframe\">\n",
       "  <thead>\n",
       "    <tr style=\"text-align: right;\">\n",
       "      <th></th>\n",
       "      <th>since</th>\n",
       "      <th>id</th>\n",
       "      <th>interpret</th>\n",
       "      <th>interpret_id</th>\n",
       "      <th>track</th>\n",
       "      <th>track_id</th>\n",
       "      <th>stanice</th>\n",
       "    </tr>\n",
       "  </thead>\n",
       "  <tbody>\n",
       "    <tr>\n",
       "      <th>0</th>\n",
       "      <td>2020-12-01 04:42:44+01:00</td>\n",
       "      <td>10236811</td>\n",
       "      <td>Samuel Ramey &amp; London Philharmonic Orchestra, ...</td>\n",
       "      <td>24978</td>\n",
       "      <td>Non piu andrai, árie z 1. dějství opery Figaro</td>\n",
       "      <td>83837</td>\n",
       "      <td>d</td>\n",
       "    </tr>\n",
       "    <tr>\n",
       "      <th>1</th>\n",
       "      <td>2020-12-08 18:25:47+01:00</td>\n",
       "      <td>10270691</td>\n",
       "      <td>Samuel Ramey &amp; London Philharmonic Orchestra, ...</td>\n",
       "      <td>24978</td>\n",
       "      <td>Non piu andrai, árie z 1. dějství opery Figaro</td>\n",
       "      <td>83837</td>\n",
       "      <td>d</td>\n",
       "    </tr>\n",
       "    <tr>\n",
       "      <th>2</th>\n",
       "      <td>2020-12-09 06:24:52+01:00</td>\n",
       "      <td>10272302</td>\n",
       "      <td>Samuel Ramey &amp; London Philharmonic Orchestra, ...</td>\n",
       "      <td>24978</td>\n",
       "      <td>Non piu andrai, árie z 1. dějství opery Figaro</td>\n",
       "      <td>83837</td>\n",
       "      <td>d</td>\n",
       "    </tr>\n",
       "    <tr>\n",
       "      <th>3</th>\n",
       "      <td>2020-12-10 18:05:36+01:00</td>\n",
       "      <td>10279719</td>\n",
       "      <td>Adam Plachetka &amp; Symfonický Orchestr Českého R...</td>\n",
       "      <td>24977</td>\n",
       "      <td>La calunnia e un venticello, árie z 1. dějství...</td>\n",
       "      <td>83835</td>\n",
       "      <td>d</td>\n",
       "    </tr>\n",
       "    <tr>\n",
       "      <th>4</th>\n",
       "      <td>2020-12-11 06:04:38+01:00</td>\n",
       "      <td>10281201</td>\n",
       "      <td>Adam Plachetka &amp; Symfonický Orchestr Českého R...</td>\n",
       "      <td>24977</td>\n",
       "      <td>La calunnia e un venticello, árie z 1. dějství...</td>\n",
       "      <td>83835</td>\n",
       "      <td>d</td>\n",
       "    </tr>\n",
       "  </tbody>\n",
       "</table>\n",
       "</div>"
      ],
      "text/plain": [
       "                      since        id  \\\n",
       "0 2020-12-01 04:42:44+01:00  10236811   \n",
       "1 2020-12-08 18:25:47+01:00  10270691   \n",
       "2 2020-12-09 06:24:52+01:00  10272302   \n",
       "3 2020-12-10 18:05:36+01:00  10279719   \n",
       "4 2020-12-11 06:04:38+01:00  10281201   \n",
       "\n",
       "                                           interpret  interpret_id  \\\n",
       "0  Samuel Ramey & London Philharmonic Orchestra, ...         24978   \n",
       "1  Samuel Ramey & London Philharmonic Orchestra, ...         24978   \n",
       "2  Samuel Ramey & London Philharmonic Orchestra, ...         24978   \n",
       "3  Adam Plachetka & Symfonický Orchestr Českého R...         24977   \n",
       "4  Adam Plachetka & Symfonický Orchestr Českého R...         24977   \n",
       "\n",
       "                                               track  track_id stanice  \n",
       "0     Non piu andrai, árie z 1. dějství opery Figaro     83837       d  \n",
       "1     Non piu andrai, árie z 1. dějství opery Figaro     83837       d  \n",
       "2     Non piu andrai, árie z 1. dějství opery Figaro     83837       d  \n",
       "3  La calunnia e un venticello, árie z 1. dějství...     83835       d  \n",
       "4  La calunnia e un venticello, árie z 1. dějství...     83835       d  "
      ]
     },
     "execution_count": 216,
     "metadata": {},
     "output_type": "execute_result"
    }
   ],
   "source": [
    "cro.head()"
   ]
  },
  {
   "cell_type": "code",
   "execution_count": 217,
   "id": "5f160df5",
   "metadata": {},
   "outputs": [],
   "source": [
    "cro['track'] = cro['track'].apply(lambda x: x.lower().split(\"(\")[0])"
   ]
  },
  {
   "cell_type": "code",
   "execution_count": 218,
   "id": "f2ece5a9",
   "metadata": {},
   "outputs": [],
   "source": [
    "cro['datum'] = cro['since'].apply(lambda x: f\"\"\"{x.month:02}-{x.day:02}\"\"\")"
   ]
  },
  {
   "cell_type": "code",
   "execution_count": 219,
   "id": "9b5cc12c",
   "metadata": {},
   "outputs": [],
   "source": [
    "vanocnidata = cro[cro['since'].dt.month >= 11]['datum'].sort_values().drop_duplicates().to_list()[23:]"
   ]
  },
  {
   "cell_type": "code",
   "execution_count": 220,
   "id": "726a2784",
   "metadata": {},
   "outputs": [],
   "source": [
    "vanocenacro = pd.Series(cro[(cro['track'].isin(vanocni2)) & (cro['since'].dt.year.isin([2021,2022])) & (cro['since'].dt.month > 9)].groupby('datum')['id'].nunique().reindex(vanocnidata).fillna(0), name=\"denní přehrání\")"
   ]
  },
  {
   "cell_type": "code",
   "execution_count": 221,
   "id": "25eac4de",
   "metadata": {
    "scrolled": true
   },
   "outputs": [
    {
     "data": {
      "text/plain": [
       "55"
      ]
     },
     "execution_count": 221,
     "metadata": {},
     "output_type": "execute_result"
    }
   ],
   "source": [
    "len(vanocni2)"
   ]
  },
  {
   "cell_type": "code",
   "execution_count": 222,
   "id": "62bbc95d",
   "metadata": {},
   "outputs": [
    {
     "name": "stdout",
     "output_type": "stream",
     "text": [
      "Graf uložen.\n"
     ]
    }
   ],
   "source": [
    "graf(sloupcovy=[vanocenacro], target=\"vanoce_cro\", titulek='Vánoční hity ve vysílání Českého rozhlasu', podtitulek=f'''Denní počty přehrání 55 vánočních skladeb, které od roku 2006 pronikly do týdenních žebříčků top 100 rádiových písní. Data z let 2021 a 2022.''', kredity=[\"Zdroj dat: IFPI a Český rozhlas | Vizualizace: Michal Kašpárek, iROZHLAS.cz\",\"https://www.irozhlas.cz/zpravy-tag/datova-zurnalistika\"], prvni=True, osay=' ', osay2=' ', skladany=False, naopak=False, skrytnuly=True)"
   ]
  },
  {
   "cell_type": "code",
   "execution_count": 223,
   "id": "10727563",
   "metadata": {},
   "outputs": [
    {
     "data": {
      "text/plain": [
       "datum\n",
       "11-24     1.0\n",
       "11-25     1.0\n",
       "11-26     0.0\n",
       "11-27     0.0\n",
       "11-28     9.0\n",
       "11-29    13.0\n",
       "11-30    15.0\n",
       "12-01    14.0\n",
       "12-02    10.0\n",
       "12-03     9.0\n",
       "12-04     7.0\n",
       "12-05    29.0\n",
       "12-06    34.0\n",
       "12-07    34.0\n",
       "12-08    32.0\n",
       "12-09    32.0\n",
       "12-10    23.0\n",
       "12-11    14.0\n",
       "12-12    43.0\n",
       "12-13    64.0\n",
       "12-14    42.0\n",
       "12-15    44.0\n",
       "12-16    15.0\n",
       "12-17    14.0\n",
       "12-18    14.0\n",
       "12-19    14.0\n",
       "12-20    78.0\n",
       "12-21    75.0\n",
       "12-22    74.0\n",
       "12-23    70.0\n",
       "12-24    69.0\n",
       "12-25    65.0\n",
       "12-26    59.0\n",
       "12-27     0.0\n",
       "12-28     2.0\n",
       "12-29     2.0\n",
       "12-30     2.0\n",
       "12-31     0.0\n",
       "Name: id, dtype: float64"
      ]
     },
     "execution_count": 223,
     "metadata": {},
     "output_type": "execute_result"
    }
   ],
   "source": [
    "cro[((cro['track'].str.lower().str.contains('vánoc',na=False)) | (cro['track'].str.lower().str.contains('christm',na=False))) & (cro['since'].dt.year.isin([2021,2022])) & (cro['since'].dt.month > 9)].groupby('datum')['id'].nunique().reindex(vanocnidata).fillna(0)"
   ]
  },
  {
   "cell_type": "code",
   "execution_count": 224,
   "id": "ff402547",
   "metadata": {},
   "outputs": [
    {
     "data": {
      "text/plain": [
       "datum\n",
       "02-02    1\n",
       "02-16    1\n",
       "06-03    1\n",
       "06-09    2\n",
       "06-10    1\n",
       "06-25    1\n",
       "07-20    1\n",
       "09-22    1\n",
       "09-26    1\n",
       "09-28    1\n",
       "09-29    1\n",
       "10-01    1\n",
       "10-15    1\n",
       "11-01    1\n",
       "12-02    1\n",
       "12-05    1\n",
       "12-07    1\n",
       "12-12    1\n",
       "12-14    1\n",
       "12-15    1\n",
       "12-16    1\n",
       "12-20    1\n",
       "12-21    1\n",
       "12-22    1\n",
       "12-24    1\n",
       "12-27    1\n",
       "Name: id, dtype: int64"
      ]
     },
     "execution_count": 224,
     "metadata": {},
     "output_type": "execute_result"
    }
   ],
   "source": [
    "cro[((cro['track'].str.lower().str.contains('kdepak ty',na=False))) & (cro['since'].dt.year.isin([2021,2022])) & (cro['since'].dt.month > 1)].groupby('datum')['id'].nunique()"
   ]
  },
  {
   "cell_type": "code",
   "execution_count": 225,
   "id": "a628e9de",
   "metadata": {},
   "outputs": [],
   "source": [
    "letni_tracky = cro[cro['since'].dt.month.isin([5,6,7,8])]['track'].drop_duplicates().to_list()"
   ]
  },
  {
   "cell_type": "code",
   "execution_count": 226,
   "id": "ec572524",
   "metadata": {},
   "outputs": [
    {
     "data": {
      "text/plain": [
       "track\n",
       "vánoční                                      124\n",
       "all i want for christmas is you               85\n",
       "vánoce na míru                                72\n",
       "thank god it's christmas                      60\n",
       "merry christmas                               59\n",
       "vzácnej den                                   58\n",
       "christmas time                                57\n",
       "ryba rybě                                     56\n",
       "vianočná                                      56\n",
       "driving home for christmas                    54\n",
       "na nebi svítí                                 54\n",
       "sněhulák                                      52\n",
       "do they know it's christmas                   48\n",
       "merry christmas everyone                      44\n",
       "bílý kraj                                     39\n",
       "o vánocích                                    39\n",
       "happy xmas                                    38\n",
       "prokřehlá - vánoční                           38\n",
       "so tell me…                                   38\n",
       "bra3 - vánoční                                37\n",
       "happy xmas                                    37\n",
       "sliby se maj plnit o vánocích                 37\n",
       "tisíc andělů                                  37\n",
       "vánoce jako dřív                              37\n",
       "klidná jako voda - vánoční                    36\n",
       "poděkování zdravotníkům - vánoční             36\n",
       "christams all around                          35\n",
       "sebelovesong - vánoční                        35\n",
       "veselé vánoce                                 35\n",
       "bílé vánoce                                   34\n",
       "christmas without you                         33\n",
       "tichá noc                                     33\n",
       "báseň - vánoční                               32\n",
       "lítej - vánoční                               32\n",
       "na vánoce k našim                             32\n",
       "a od těch časů                                31\n",
       "christmas                                     31\n",
       "na obloze právě vysvitly hvězdy - vánoční     29\n",
       "purpura                                       29\n",
       "vítr do plachet - vánoční                     29\n",
       "christmas is all around                       28\n",
       "vánoční                                       28\n",
       "vánoční den                                   28\n",
       "christmas lights                              27\n",
       "mistletoe & wine                              26\n",
       "christmas day                                 24\n",
       "stačí věřit                                   24\n",
       "underneath the tree                           24\n",
       "čas to zabalit                                24\n",
       "gold rush                                     23\n",
       "modlitba                                      23\n",
       "white christmas                               23\n",
       "vánoce přicházejí                             22\n",
       "a od těch časů do vánoc                       21\n",
       "co je toho příčinou                           21\n",
       "jak krásné je být milován - vánoční           20\n",
       "jsou svátky                                   20\n",
       "pro emu - vánoční                             19\n",
       "solo para ti                                  19\n",
       "vánoční kapela                                18\n",
       "Name: id, dtype: int64"
      ]
     },
     "execution_count": 226,
     "metadata": {},
     "output_type": "execute_result"
    }
   ],
   "source": [
    "cro[(cro['since'].dt.month == 12) & (~cro['track'].isin(letni_tracky))].groupby('track')['id'].nunique().nlargest(60)"
   ]
  },
  {
   "cell_type": "code",
   "execution_count": 227,
   "id": "36fe35f7",
   "metadata": {},
   "outputs": [
    {
     "data": {
      "text/plain": [
       "track\n",
       "                                                                                     0.935714\n",
       "\"33 \"\"god\"\"\"                                                                         1.800000\n",
       "#metoo                                                                                    NaN\n",
       "#toyland feat. marcus king, liv warfield, questlove & black thought _ 2021 single         NaN\n",
       "$20                                                                                       NaN\n",
       "                                                                                       ...   \n",
       "žárlivost                                                                            2.333333\n",
       "žárlím                                                                                    NaN\n",
       "žít a nechat žít                                                                          NaN\n",
       "žít jako kaskadér                                                                    1.500000\n",
       "žízeň lásky                                                                          2.166667\n",
       "Name: id, Length: 19742, dtype: float64"
      ]
     },
     "execution_count": 227,
     "metadata": {},
     "output_type": "execute_result"
    }
   ],
   "source": [
    "cro[cro['since'].dt.month == 12].groupby('track')['id'].nunique() / cro[cro['since'].dt.month == 6].groupby('track')['id'].nunique()"
   ]
  }
 ],
 "metadata": {
  "kernelspec": {
   "display_name": "Python 3 (ipykernel)",
   "language": "python",
   "name": "python3"
  },
  "language_info": {
   "codemirror_mode": {
    "name": "ipython",
    "version": 3
   },
   "file_extension": ".py",
   "mimetype": "text/x-python",
   "name": "python",
   "nbconvert_exporter": "python",
   "pygments_lexer": "ipython3",
   "version": "3.10.8"
  }
 },
 "nbformat": 4,
 "nbformat_minor": 5
}
