{
 "cells": [
  {
   "cell_type": "code",
   "execution_count": 1,
   "id": "3620b9ac",
   "metadata": {},
   "outputs": [],
   "source": [
    "import os\n",
    "import pandas as pd"
   ]
  },
  {
   "cell_type": "code",
   "execution_count": 2,
   "id": "f8a4e0d9",
   "metadata": {},
   "outputs": [],
   "source": [
    "df = pd.read_csv(os.path.join(\"data\",\"CZ_RADIO_TOP_100_tydeni.csv\"))"
   ]
  },
  {
   "cell_type": "code",
   "execution_count": 3,
   "id": "541b4445",
   "metadata": {},
   "outputs": [],
   "source": [
    "df['week'] = df.apply(lambda row: f\"\"\"{row[\"rok\"]}-{row[\"tyden\"]}\"\"\", axis=1)"
   ]
  },
  {
   "cell_type": "code",
   "execution_count": 8,
   "id": "c47a2b14",
   "metadata": {},
   "outputs": [],
   "source": [
    "df['vydavatel'] = df['vydavatel'].apply(lambda x: x.split('/'))\n",
    "df = df.explode('vydavatel')"
   ]
  },
  {
   "cell_type": "code",
   "execution_count": 53,
   "id": "11539752",
   "metadata": {},
   "outputs": [
    {
     "data": {
      "text/plain": [
       "vydavatel\n",
       "Universal Music         41002\n",
       "Warner Music            21121\n",
       "Sony Music              17782\n",
       "Supraphon                2387\n",
       "Brainzone                2378\n",
       "Nan                      2070\n",
       "Singlton                  968\n",
       "I.Richmond.P.             862\n",
       "Championship Music        290\n",
       "Marek Ztracený            270\n",
       "Rgme                      206\n",
       "Olga Lounová Records      176\n",
       "Kontor Records            133\n",
       "Um                        122\n",
       "Lewron Music Center       121\n",
       "Tr                        111\n",
       "Forza                     105\n",
       "Onairmusic                105\n",
       "Wm                        105\n",
       "Chm                        99\n",
       "Parlophone                 99\n",
       "Dade Music                 88\n",
       "Vivienne Records           85\n",
       "Hfr                        82\n",
       "Vis-A-Vis Prod.            76\n",
       "The Silver Spoons          74\n",
       "Am                         72\n",
       "Ingrooves                  72\n",
       "Art Shock                  66\n",
       "Richrec                    66\n",
       "Homerun Records            63\n",
       "Biograf Jan Svěrák         57\n",
       "M&M Brothers               50\n",
       "Tranzistor                 50\n",
       "Ty Nikdy                   50\n",
       "Popron Music               47\n",
       "Tomáš Klus                 44\n",
       "Ewolution                  43\n",
       "Panther                    43\n",
       "Wait For Waves             43\n",
       "Eleven Seven               42\n",
       "Xl Recordings              42\n",
       "Mike Roft Records          41\n",
       "Pm                         40\n",
       "Wisemusic                  38\n",
       "Pop Off Production         37\n",
       "Pink Panther               36\n",
       "Sl                         36\n",
       "Wave Rec.                  36\n",
       "Richmondrecords            35\n",
       "Hurikán Records            34\n",
       "Hm Productions             33\n",
       "H'Art                      32\n",
       "Brjan Music                30\n",
       "Lp                         30\n",
       "Samonáklad                 29\n",
       "Timbre Music               29\n",
       "Bmg                        28\n",
       "Dream Music                28\n",
       "Ir                         27\n",
       "dtype: int64"
      ]
     },
     "execution_count": 53,
     "metadata": {},
     "output_type": "execute_result"
    }
   ],
   "source": [
    "df.groupby('vydavatel').size().nlargest(60)"
   ]
  },
  {
   "cell_type": "code",
   "execution_count": 60,
   "id": "e204eae9",
   "metadata": {},
   "outputs": [],
   "source": [
    "df.loc[df['vydavatel'] == \"Um\",\"vydavatel\"]=\"Universal Music\"\n",
    "df.loc[df['vydavatel'] == \"Wm\",\"vydavatel\"]=\"Warner Music\""
   ]
  },
  {
   "cell_type": "code",
   "execution_count": 34,
   "id": "ad51ef02",
   "metadata": {},
   "outputs": [],
   "source": [
    "def podil(vydavatel, misto):\n",
    "    pracovni_df = df[df['pozice'] <= misto]\n",
    "    return (pracovni_df[pracovni_df['vydavatel'] == vydavatel].groupby('rok').size() / pracovni_df.groupby('rok').size()).plot.bar()"
   ]
  },
  {
   "cell_type": "markdown",
   "id": "4c876c24",
   "metadata": {},
   "source": [
    "## Podíl největších vydavatelů v…"
   ]
  },
  {
   "cell_type": "markdown",
   "id": "68a6e98e",
   "metadata": {},
   "source": [
    "### Top 100"
   ]
  },
  {
   "cell_type": "code",
   "execution_count": 61,
   "id": "dc4b1768",
   "metadata": {},
   "outputs": [
    {
     "data": {
      "text/plain": [
       "<Axes: xlabel='rok'>"
      ]
     },
     "execution_count": 61,
     "metadata": {},
     "output_type": "execute_result"
    },
    {
     "data": {
      "image/png": "[encoded data removed]",
      "text/plain": [
       "<Figure size 432x288 with 1 Axes>"
      ]
     },
     "metadata": {
      "needs_background": "light"
     },
     "output_type": "display_data"
    }
   ],
   "source": [
    "podil('Universal Music',100)"
   ]
  },
  {
   "cell_type": "code",
   "execution_count": 62,
   "id": "f8d78e10",
   "metadata": {},
   "outputs": [
    {
     "data": {
      "text/plain": [
       "<Axes: xlabel='rok'>"
      ]
     },
     "execution_count": 62,
     "metadata": {},
     "output_type": "execute_result"
    },
    {
     "data": {
      "image/png": "[encoded data removed]",
      "text/plain": [
       "<Figure size 432x288 with 1 Axes>"
      ]
     },
     "metadata": {
      "needs_background": "light"
     },
     "output_type": "display_data"
    }
   ],
   "source": [
    "podil('Warner Music',100)"
   ]
  },
  {
   "cell_type": "code",
   "execution_count": 63,
   "id": "840a35e9",
   "metadata": {},
   "outputs": [
    {
     "data": {
      "text/plain": [
       "<Axes: xlabel='rok'>"
      ]
     },
     "execution_count": 63,
     "metadata": {},
     "output_type": "execute_result"
    },
    {
     "data": {
      "image/png": "[encoded data removed]",
      "text/plain": [
       "<Figure size 432x288 with 1 Axes>"
      ]
     },
     "metadata": {
      "needs_background": "light"
     },
     "output_type": "display_data"
    }
   ],
   "source": [
    "podil('Sony Music',100)"
   ]
  },
  {
   "cell_type": "code",
   "execution_count": 64,
   "id": "05037ee6",
   "metadata": {},
   "outputs": [
    {
     "data": {
      "text/plain": [
       "<Axes: xlabel='rok'>"
      ]
     },
     "execution_count": 64,
     "metadata": {},
     "output_type": "execute_result"
    },
    {
     "data": {
      "image/png": "[encoded data removed]",
      "text/plain": [
       "<Figure size 432x288 with 1 Axes>"
      ]
     },
     "metadata": {
      "needs_background": "light"
     },
     "output_type": "display_data"
    }
   ],
   "source": [
    "podil('Supraphon',100)"
   ]
  },
  {
   "cell_type": "code",
   "execution_count": 65,
   "id": "cb31d79e",
   "metadata": {},
   "outputs": [
    {
     "data": {
      "text/plain": [
       "<Axes: xlabel='rok'>"
      ]
     },
     "execution_count": 65,
     "metadata": {},
     "output_type": "execute_result"
    },
    {
     "data": {
      "image/png": "[encoded data removed]",
      "text/plain": [
       "<Figure size 432x288 with 1 Axes>"
      ]
     },
     "metadata": {
      "needs_background": "light"
     },
     "output_type": "display_data"
    }
   ],
   "source": [
    "podil('Brainzone',100)"
   ]
  },
  {
   "cell_type": "code",
   "execution_count": 66,
   "id": "3b62328a",
   "metadata": {},
   "outputs": [
    {
     "data": {
      "text/plain": [
       "<Axes: xlabel='rok'>"
      ]
     },
     "execution_count": 66,
     "metadata": {},
     "output_type": "execute_result"
    },
    {
     "data": {
      "image/png": "[encoded data removed]",
      "text/plain": [
       "<Figure size 432x288 with 1 Axes>"
      ]
     },
     "metadata": {
      "needs_background": "light"
     },
     "output_type": "display_data"
    }
   ],
   "source": [
    "podil('Olga Lounová Records',100)"
   ]
  },
  {
   "cell_type": "markdown",
   "id": "b95f13ff",
   "metadata": {},
   "source": [
    "## Top 10"
   ]
  },
  {
   "cell_type": "code",
   "execution_count": 67,
   "id": "fb54c36d",
   "metadata": {},
   "outputs": [
    {
     "data": {
      "text/plain": [
       "<Axes: xlabel='rok'>"
      ]
     },
     "execution_count": 67,
     "metadata": {},
     "output_type": "execute_result"
    },
    {
     "data": {
      "image/png": "[encoded data removed]",
      "text/plain": [
       "<Figure size 432x288 with 1 Axes>"
      ]
     },
     "metadata": {
      "needs_background": "light"
     },
     "output_type": "display_data"
    }
   ],
   "source": [
    "podil('Universal Music',10)"
   ]
  },
  {
   "cell_type": "code",
   "execution_count": 68,
   "id": "7ca595b8",
   "metadata": {},
   "outputs": [
    {
     "data": {
      "text/plain": [
       "<Axes: xlabel='rok'>"
      ]
     },
     "execution_count": 68,
     "metadata": {},
     "output_type": "execute_result"
    },
    {
     "data": {
      "image/png": "[encoded data removed]",
      "text/plain": [
       "<Figure size 432x288 with 1 Axes>"
      ]
     },
     "metadata": {
      "needs_background": "light"
     },
     "output_type": "display_data"
    }
   ],
   "source": [
    "podil('Warner Music',10)"
   ]
  },
  {
   "cell_type": "code",
   "execution_count": 69,
   "id": "43964777",
   "metadata": {},
   "outputs": [
    {
     "data": {
      "text/plain": [
       "<Axes: xlabel='rok'>"
      ]
     },
     "execution_count": 69,
     "metadata": {},
     "output_type": "execute_result"
    },
    {
     "data": {
      "image/png": "[encoded data removed]",
      "text/plain": [
       "<Figure size 432x288 with 1 Axes>"
      ]
     },
     "metadata": {
      "needs_background": "light"
     },
     "output_type": "display_data"
    }
   ],
   "source": [
    "podil('Sony Music',10)"
   ]
  },
  {
   "cell_type": "markdown",
   "id": "2163c575",
   "metadata": {},
   "source": [
    "## Vrchol"
   ]
  },
  {
   "cell_type": "code",
   "execution_count": 70,
   "id": "9e4d7e15",
   "metadata": {},
   "outputs": [
    {
     "data": {
      "text/plain": [
       "<Axes: xlabel='rok'>"
      ]
     },
     "execution_count": 70,
     "metadata": {},
     "output_type": "execute_result"
    },
    {
     "data": {
      "image/png": "[encoded data removed]",
      "text/plain": [
       "<Figure size 432x288 with 1 Axes>"
      ]
     },
     "metadata": {
      "needs_background": "light"
     },
     "output_type": "display_data"
    }
   ],
   "source": [
    "podil('Universal Music',1)"
   ]
  },
  {
   "cell_type": "code",
   "execution_count": 71,
   "id": "e05d0e46",
   "metadata": {},
   "outputs": [
    {
     "data": {
      "text/plain": [
       "<Axes: xlabel='rok'>"
      ]
     },
     "execution_count": 71,
     "metadata": {},
     "output_type": "execute_result"
    },
    {
     "data": {
      "image/png": "[encoded data removed]",
      "text/plain": [
       "<Figure size 432x288 with 1 Axes>"
      ]
     },
     "metadata": {
      "needs_background": "light"
     },
     "output_type": "display_data"
    }
   ],
   "source": [
    "podil('Warner Music',1)"
   ]
  },
  {
   "cell_type": "code",
   "execution_count": 72,
   "id": "4476186b",
   "metadata": {},
   "outputs": [
    {
     "data": {
      "text/plain": [
       "<Axes: xlabel='rok'>"
      ]
     },
     "execution_count": 72,
     "metadata": {},
     "output_type": "execute_result"
    },
    {
     "data": {
      "image/png": "[encoded data removed]",
      "text/plain": [
       "<Figure size 432x288 with 1 Axes>"
      ]
     },
     "metadata": {
      "needs_background": "light"
     },
     "output_type": "display_data"
    }
   ],
   "source": [
    "podil('Sony Music',1)"
   ]
  },
  {
   "cell_type": "markdown",
   "id": "1d3eaf25",
   "metadata": {},
   "source": [
    "## Diverzita: kolik vydavatelů si sáhlo na…"
   ]
  },
  {
   "cell_type": "markdown",
   "id": "47e5ffaa",
   "metadata": {},
   "source": [
    "### Top 100"
   ]
  },
  {
   "cell_type": "code",
   "execution_count": 73,
   "id": "29fd343e",
   "metadata": {},
   "outputs": [
    {
     "data": {
      "text/plain": [
       "<Axes: xlabel='rok'>"
      ]
     },
     "execution_count": 73,
     "metadata": {},
     "output_type": "execute_result"
    },
    {
     "data": {
      "image/png": "[encoded data removed]",
      "text/plain": [
       "<Figure size 432x288 with 1 Axes>"
      ]
     },
     "metadata": {
      "needs_background": "light"
     },
     "output_type": "display_data"
    }
   ],
   "source": [
    "df.groupby('rok')['vydavatel'].nunique().plot.bar()"
   ]
  },
  {
   "cell_type": "markdown",
   "id": "5dda9990",
   "metadata": {},
   "source": [
    "### Top 10"
   ]
  },
  {
   "cell_type": "code",
   "execution_count": 50,
   "id": "4343e815",
   "metadata": {},
   "outputs": [
    {
     "data": {
      "text/plain": [
       "<Axes: xlabel='rok'>"
      ]
     },
     "execution_count": 50,
     "metadata": {},
     "output_type": "execute_result"
    },
    {
     "data": {
      "image/png": "[encoded data removed]",
      "text/plain": [
       "<Figure size 432x288 with 1 Axes>"
      ]
     },
     "metadata": {
      "needs_background": "light"
     },
     "output_type": "display_data"
    }
   ],
   "source": [
    "df[df['pozice'] <= 10].groupby('rok')['vydavatel'].nunique().plot.bar()"
   ]
  },
  {
   "cell_type": "markdown",
   "id": "b5cf2286",
   "metadata": {},
   "source": [
    "### Top 1"
   ]
  },
  {
   "cell_type": "code",
   "execution_count": 51,
   "id": "0fc5386d",
   "metadata": {},
   "outputs": [
    {
     "data": {
      "text/plain": [
       "<Axes: xlabel='rok'>"
      ]
     },
     "execution_count": 51,
     "metadata": {},
     "output_type": "execute_result"
    },
    {
     "data": {
      "image/png": "[encoded data removed]",
      "text/plain": [
       "<Figure size 432x288 with 1 Axes>"
      ]
     },
     "metadata": {
      "needs_background": "light"
     },
     "output_type": "display_data"
    }
   ],
   "source": [
    "df[df['pozice'] <= 1].groupby('rok')['vydavatel'].nunique().plot.bar()"
   ]
  },
  {
   "cell_type": "markdown",
   "id": "54aeb61f",
   "metadata": {},
   "source": [
    "Nejde o optický klam? Nepřibylo diverzity kvůli tomu, že dříve nebyli tak vyplňovaní vydavatelé? Zjistíme!"
   ]
  },
  {
   "cell_type": "code",
   "execution_count": 54,
   "id": "d4d0f1da",
   "metadata": {},
   "outputs": [
    {
     "data": {
      "text/plain": [
       "<Axes: xlabel='rok'>"
      ]
     },
     "execution_count": 54,
     "metadata": {},
     "output_type": "execute_result"
    },
    {
     "data": {
      "image/png": "[encoded data removed]",
      "text/plain": [
       "<Figure size 432x288 with 1 Axes>"
      ]
     },
     "metadata": {
      "needs_background": "light"
     },
     "output_type": "display_data"
    }
   ],
   "source": [
    "podil('Nan',100)"
   ]
  },
  {
   "cell_type": "code",
   "execution_count": 55,
   "id": "a0850311",
   "metadata": {},
   "outputs": [
    {
     "data": {
      "text/plain": [
       "<Axes: xlabel='rok'>"
      ]
     },
     "execution_count": 55,
     "metadata": {},
     "output_type": "execute_result"
    },
    {
     "data": {
      "image/png": "[encoded data removed]",
      "text/plain": [
       "<Figure size 432x288 with 1 Axes>"
      ]
     },
     "metadata": {
      "needs_background": "light"
     },
     "output_type": "display_data"
    }
   ],
   "source": [
    "(df[df['vydavatel'].isnull()].groupby('rok').size() / df.groupby('rok').size()).plot.bar()"
   ]
  },
  {
   "cell_type": "markdown",
   "id": "299a0ce6",
   "metadata": {},
   "source": [
    "Nezdá se, nevyplněných je málo."
   ]
  },
  {
   "cell_type": "markdown",
   "id": "de93069d",
   "metadata": {},
   "source": [
    "## Vydavatelé na prvním místě hitparád (a jejich první jedničkový hit):"
   ]
  },
  {
   "cell_type": "code",
   "execution_count": 58,
   "id": "7b1f441a",
   "metadata": {},
   "outputs": [
    {
     "data": {
      "text/html": [
       "<div>\n",
       "<style scoped>\n",
       "    .dataframe tbody tr th:only-of-type {\n",
       "        vertical-align: middle;\n",
       "    }\n",
       "\n",
       "    .dataframe tbody tr th {\n",
       "        vertical-align: top;\n",
       "    }\n",
       "\n",
       "    .dataframe thead th {\n",
       "        text-align: right;\n",
       "    }\n",
       "</style>\n",
       "<table border=\"1\" class=\"dataframe\">\n",
       "  <thead>\n",
       "    <tr style=\"text-align: right;\">\n",
       "      <th></th>\n",
       "      <th>interpret</th>\n",
       "      <th>track</th>\n",
       "      <th>rok</th>\n",
       "    </tr>\n",
       "    <tr>\n",
       "      <th>vydavatel</th>\n",
       "      <th></th>\n",
       "      <th></th>\n",
       "      <th></th>\n",
       "    </tr>\n",
       "  </thead>\n",
       "  <tbody>\n",
       "    <tr>\n",
       "      <th>Sony Music</th>\n",
       "      <td>Shakira</td>\n",
       "      <td>Hips Don´t Lie</td>\n",
       "      <td>2006</td>\n",
       "    </tr>\n",
       "    <tr>\n",
       "      <th>Universal Music</th>\n",
       "      <td>Juanes</td>\n",
       "      <td>La camisa negra</td>\n",
       "      <td>2006</td>\n",
       "    </tr>\n",
       "    <tr>\n",
       "      <th>Warner Music</th>\n",
       "      <td>Madonna</td>\n",
       "      <td>Hung Up</td>\n",
       "      <td>2006</td>\n",
       "    </tr>\n",
       "    <tr>\n",
       "      <th>Chm</th>\n",
       "      <td>Xindl X Feat. Olga Lounová</td>\n",
       "      <td>Láska v housce</td>\n",
       "      <td>2010</td>\n",
       "    </tr>\n",
       "    <tr>\n",
       "      <th>Parlophone</th>\n",
       "      <td>Xindl X Feat. Olga Lounová</td>\n",
       "      <td>Láska v housce</td>\n",
       "      <td>2010</td>\n",
       "    </tr>\n",
       "    <tr>\n",
       "      <th>Supraphon</th>\n",
       "      <td>Václav Neckář &amp; Umakart</td>\n",
       "      <td>Půlnoční</td>\n",
       "      <td>2011</td>\n",
       "    </tr>\n",
       "    <tr>\n",
       "      <th>Onairmusic</th>\n",
       "      <td>Nightwork</td>\n",
       "      <td>Čekám na signál</td>\n",
       "      <td>2012</td>\n",
       "    </tr>\n",
       "    <tr>\n",
       "      <th>Richrec</th>\n",
       "      <td>Kryštof</td>\n",
       "      <td>Inzerát</td>\n",
       "      <td>2012</td>\n",
       "    </tr>\n",
       "    <tr>\n",
       "      <th>Um</th>\n",
       "      <td>Kryštof</td>\n",
       "      <td>Inzerát</td>\n",
       "      <td>2012</td>\n",
       "    </tr>\n",
       "    <tr>\n",
       "      <th>Brainzone</th>\n",
       "      <td>Chinaski</td>\n",
       "      <td>Víno</td>\n",
       "      <td>2014</td>\n",
       "    </tr>\n",
       "    <tr>\n",
       "      <th>Nan</th>\n",
       "      <td>Milky Chance</td>\n",
       "      <td>Stolen Dance</td>\n",
       "      <td>2014</td>\n",
       "    </tr>\n",
       "    <tr>\n",
       "      <th>I.Richmond.P.</th>\n",
       "      <td>Kryštof</td>\n",
       "      <td>Srdcebeat</td>\n",
       "      <td>2015</td>\n",
       "    </tr>\n",
       "    <tr>\n",
       "      <th>Vivienne Records</th>\n",
       "      <td>Mikolas Josef</td>\n",
       "      <td>Acapella (feat. Fito Blanko &amp; Frankie J)</td>\n",
       "      <td>2019</td>\n",
       "    </tr>\n",
       "    <tr>\n",
       "      <th>Ewolution</th>\n",
       "      <td>Ewa Farna</td>\n",
       "      <td>Vánoce na míru</td>\n",
       "      <td>2022</td>\n",
       "    </tr>\n",
       "    <tr>\n",
       "      <th>Marek Ztracený</th>\n",
       "      <td>Marek Ztracený</td>\n",
       "      <td>Originál</td>\n",
       "      <td>2022</td>\n",
       "    </tr>\n",
       "  </tbody>\n",
       "</table>\n",
       "</div>"
      ],
      "text/plain": [
       "                                   interpret  \\\n",
       "vydavatel                                      \n",
       "Sony Music                           Shakira   \n",
       "Universal Music                       Juanes   \n",
       "Warner Music                         Madonna   \n",
       "Chm               Xindl X Feat. Olga Lounová   \n",
       "Parlophone        Xindl X Feat. Olga Lounová   \n",
       "Supraphon            Václav Neckář & Umakart   \n",
       "Onairmusic                         Nightwork   \n",
       "Richrec                              Kryštof   \n",
       "Um                                   Kryštof   \n",
       "Brainzone                           Chinaski   \n",
       "Nan                             Milky Chance   \n",
       "I.Richmond.P.                        Kryštof   \n",
       "Vivienne Records               Mikolas Josef   \n",
       "Ewolution                          Ewa Farna   \n",
       "Marek Ztracený                Marek Ztracený   \n",
       "\n",
       "                                                     track   rok  \n",
       "vydavatel                                                         \n",
       "Sony Music                                  Hips Don´t Lie  2006  \n",
       "Universal Music                            La camisa negra  2006  \n",
       "Warner Music                                       Hung Up  2006  \n",
       "Chm                                         Láska v housce  2010  \n",
       "Parlophone                                  Láska v housce  2010  \n",
       "Supraphon                                         Půlnoční  2011  \n",
       "Onairmusic                                 Čekám na signál  2012  \n",
       "Richrec                                            Inzerát  2012  \n",
       "Um                                                 Inzerát  2012  \n",
       "Brainzone                                             Víno  2014  \n",
       "Nan                                           Stolen Dance  2014  \n",
       "I.Richmond.P.                                    Srdcebeat  2015  \n",
       "Vivienne Records  Acapella (feat. Fito Blanko & Frankie J)  2019  \n",
       "Ewolution                                   Vánoce na míru  2022  \n",
       "Marek Ztracený                                    Originál  2022  "
      ]
     },
     "execution_count": 58,
     "metadata": {},
     "output_type": "execute_result"
    }
   ],
   "source": [
    "df[df['pozice'] == 1].groupby('vydavatel')[['interpret','track','rok']].first().sort_values(by='rok')"
   ]
  }
 ],
 "metadata": {
  "kernelspec": {
   "display_name": "Python 3 (ipykernel)",
   "language": "python",
   "name": "python3"
  },
  "language_info": {
   "codemirror_mode": {
    "name": "ipython",
    "version": 3
   },
   "file_extension": ".py",
   "mimetype": "text/x-python",
   "name": "python",
   "nbconvert_exporter": "python",
   "pygments_lexer": "ipython3",
   "version": "3.10.8"
  }
 },
 "nbformat": 4,
 "nbformat_minor": 5
}
