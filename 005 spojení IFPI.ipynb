{
 "cells": [
  {
   "cell_type": "code",
   "execution_count": 8,
   "id": "5f588dcc",
   "metadata": {},
   "outputs": [],
   "source": [
    "import os"
   ]
  },
  {
   "cell_type": "code",
   "execution_count": 9,
   "id": "9a69d92c",
   "metadata": {},
   "outputs": [],
   "source": [
    "import pandas as pd"
   ]
  },
  {
   "cell_type": "code",
   "execution_count": 10,
   "id": "7d233802",
   "metadata": {},
   "outputs": [],
   "source": [
    "folder = \"data_raw\""
   ]
  },
  {
   "cell_type": "code",
   "execution_count": 11,
   "id": "64d34282",
   "metadata": {},
   "outputs": [],
   "source": [
    "def seznam_souboru(slozka):\n",
    "    seznam = []\n",
    "    for file in os.listdir(slozka):\n",
    "        seznam.append(file)\n",
    "    return(seznam)"
   ]
  },
  {
   "cell_type": "code",
   "execution_count": 12,
   "id": "9871d7e4",
   "metadata": {},
   "outputs": [],
   "source": [
    "raw_data = seznam_souboru(folder)"
   ]
  },
  {
   "cell_type": "code",
   "execution_count": 13,
   "id": "07287511",
   "metadata": {},
   "outputs": [],
   "source": [
    "from IPython.display import clear_output"
   ]
  },
  {
   "cell_type": "code",
   "execution_count": 14,
   "id": "97b18169",
   "metadata": {},
   "outputs": [
    {
     "name": "stdout",
     "output_type": "stream",
     "text": [
      "done: 13503 / total: 13503 / ifpi_raw.csv\n"
     ]
    }
   ],
   "source": [
    "df = pd.DataFrame()\n",
    "count = 0\n",
    "for r in raw_data:\n",
    "    count = count + 1\n",
    "    print(f\"done: {count} / total: {len(raw_data)} / {r}\")\n",
    "    if \".json\" in r: \n",
    "        df = pd.concat([df, pd.read_json(os.path.join(folder,r))])\n",
    "    clear_output(wait=True)"
   ]
  },
  {
   "cell_type": "code",
   "execution_count": 15,
   "id": "83f860cc",
   "metadata": {},
   "outputs": [],
   "source": [
    "df.to_csv(os.path.join(folder,\"ifpi_raw.csv\"))"
   ]
  }
 ],
 "metadata": {
  "kernelspec": {
   "display_name": "Python 3 (ipykernel)",
   "language": "python",
   "name": "python3"
  },
  "language_info": {
   "codemirror_mode": {
    "name": "ipython",
    "version": 3
   },
   "file_extension": ".py",
   "mimetype": "text/x-python",
   "name": "python",
   "nbconvert_exporter": "python",
   "pygments_lexer": "ipython3",
   "version": "3.10.8"
  }
 },
 "nbformat": 4,
 "nbformat_minor": 5
}
