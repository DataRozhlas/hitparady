{
 "cells": [
  {
   "cell_type": "code",
   "execution_count": 1,
   "id": "6b16539e",
   "metadata": {},
   "outputs": [],
   "source": [
    "import os\n",
    "import pandas as pd"
   ]
  },
  {
   "cell_type": "code",
   "execution_count": 2,
   "id": "3c3e9558",
   "metadata": {},
   "outputs": [],
   "source": [
    "df = pd.read_csv(os.path.join(\"data\",\"CZ_RADIO_TOP_100_tydenni.csv\"))\n",
    "wikid = pd.read_json(os.path.join(\"wikidata\",\"wikidata.json\"))"
   ]
  },
  {
   "cell_type": "code",
   "execution_count": 3,
   "id": "fd6110d7",
   "metadata": {},
   "outputs": [],
   "source": [
    "df = df.merge(wikid, on=\"interpret_hlavni\", how=\"outer\")"
   ]
  },
  {
   "cell_type": "code",
   "execution_count": 4,
   "id": "44d177b5",
   "metadata": {},
   "outputs": [
    {
     "data": {
      "text/plain": [
       "Index(['Unnamed: 0', 'hitparada', 'rok', 'tyden', 'week', 'pozice', 'track',\n",
       "       'interpret', 'interpret_hlavni', 'vydavatel', 'id', 'stazeno',\n",
       "       'nazev_wiki', 'popis_en', 'popis_cs', 'velikost', 'zanry',\n",
       "       'datum_narozeni', 'datum_umrti', 'zacatek_pusobeni', 'konec_pusobeni',\n",
       "       'zalozeni', 'zanik', 'gender', 'misto_puvodu', 'zeme_puvodu',\n",
       "       'obcanstvi', 'etnicita', 'hlas', 'nastroje', 'oceneni', 'nabozenstvi',\n",
       "       'orientace', 'spotify_id', 'spotify_odberatele'],\n",
       "      dtype='object')"
      ]
     },
     "execution_count": 4,
     "metadata": {},
     "output_type": "execute_result"
    }
   ],
   "source": [
    "df.columns"
   ]
  },
  {
   "cell_type": "markdown",
   "id": "5fe2b9d7",
   "metadata": {},
   "source": [
    "## Interpreti, kteří se stali jedničkou po své smrti"
   ]
  },
  {
   "cell_type": "code",
   "execution_count": 5,
   "id": "50f0562c",
   "metadata": {},
   "outputs": [
    {
     "data": {
      "text/plain": [
       "interpret_hlavni\n",
       "Avicii                     1.0\n",
       "Miro Žbirka                1.0\n",
       "Kamakawiwo´ Ole Israel     2.0\n",
       "Lil Peep                  12.0\n",
       "David Stypka              21.0\n",
       "John Lennon               25.0\n",
       "Karel Gott                25.0\n",
       "Notorious B.I.G.          44.0\n",
       "Michael Jackson           60.0\n",
       "Petr Muk                  64.0\n",
       "Name: pozice, dtype: float64"
      ]
     },
     "execution_count": 5,
     "metadata": {},
     "output_type": "execute_result"
    }
   ],
   "source": [
    "df[(df['rok']) > (df['datum_umrti'])].groupby('interpret_hlavni')['pozice'].min().nsmallest(10)"
   ]
  },
  {
   "cell_type": "markdown",
   "id": "e2ba626b",
   "metadata": {},
   "source": [
    "## Interpreti, kteří se stali jedničkou v roce své smrti"
   ]
  },
  {
   "cell_type": "code",
   "execution_count": 6,
   "id": "2b1f701a",
   "metadata": {},
   "outputs": [
    {
     "data": {
      "text/plain": [
       "interpret_hlavni\n",
       "Avicii              1.0\n",
       "David Stypka        4.0\n",
       "Karel Gott         24.0\n",
       "Michael Jackson    27.0\n",
       "Miro Žbirka        59.0\n",
       "Name: pozice, dtype: float64"
      ]
     },
     "execution_count": 6,
     "metadata": {},
     "output_type": "execute_result"
    }
   ],
   "source": [
    "df[(df['rok']) == (df['datum_umrti'])].groupby('interpret_hlavni')['pozice'].min().nsmallest(10)"
   ]
  },
  {
   "cell_type": "markdown",
   "id": "e498dccf",
   "metadata": {},
   "source": [
    "## Interpreti, kteří se stali jedničkou po (posledním) rozpadu kapely"
   ]
  },
  {
   "cell_type": "code",
   "execution_count": 7,
   "id": "acb69902",
   "metadata": {},
   "outputs": [
    {
     "data": {
      "text/plain": [
       "interpret_hlavni\n",
       "Jonas Brothers     1.0\n",
       "Linkin Park        2.0\n",
       "Take That          6.0\n",
       "Westlife          45.0\n",
       "Mandrage          48.0\n",
       "Surfaces          54.0\n",
       "Lmfao             61.0\n",
       "Outkast           75.0\n",
       "R.E.M.            75.0\n",
       "Limp Bizkit       84.0\n",
       "Name: pozice, dtype: float64"
      ]
     },
     "execution_count": 7,
     "metadata": {},
     "output_type": "execute_result"
    }
   ],
   "source": [
    "df[(df['rok'] > df['konec_pusobeni']) & (df['velikost'] != 'člověk')].groupby('interpret_hlavni')['pozice'].min().nsmallest(10)"
   ]
  },
  {
   "cell_type": "markdown",
   "id": "454e258f",
   "metadata": {},
   "source": [
    "## Podíl neživých a neaktivních lidí na žebříčkové hudbě všech lidí"
   ]
  },
  {
   "cell_type": "code",
   "execution_count": 8,
   "id": "728c31fa",
   "metadata": {},
   "outputs": [],
   "source": [
    "lide = df[df['velikost'] == 'člověk']"
   ]
  },
  {
   "cell_type": "code",
   "execution_count": 9,
   "id": "323231ee",
   "metadata": {},
   "outputs": [
    {
     "data": {
      "text/plain": [
       "<Axes: xlabel='rok'>"
      ]
     },
     "execution_count": 9,
     "metadata": {},
     "output_type": "execute_result"
    },
    {
     "data": {
      "image/png": "[encoded data removed]",
      "text/plain": [
       "<Figure size 432x288 with 1 Axes>"
      ]
     },
     "metadata": {
      "needs_background": "light"
     },
     "output_type": "display_data"
    }
   ],
   "source": [
    "(lide[(lide['datum_umrti'] < lide['rok'])].groupby('rok').size() / lide.groupby('rok').size()).plot.bar()"
   ]
  },
  {
   "cell_type": "code",
   "execution_count": 10,
   "id": "1a2776c1",
   "metadata": {},
   "outputs": [
    {
     "data": {
      "text/plain": [
       "<Axes: xlabel='rok'>"
      ]
     },
     "execution_count": 10,
     "metadata": {},
     "output_type": "execute_result"
    },
    {
     "data": {
      "image/png": "[encoded data removed]",
      "text/plain": [
       "<Figure size 432x288 with 1 Axes>"
      ]
     },
     "metadata": {
      "needs_background": "light"
     },
     "output_type": "display_data"
    }
   ],
   "source": [
    "(lide[(lide['konec_pusobeni'] < lide['rok']) | (lide['datum_umrti'] < lide['rok'])].groupby('rok').size() / lide.groupby('rok').size()).plot.bar()"
   ]
  },
  {
   "cell_type": "markdown",
   "id": "dd21a95d",
   "metadata": {},
   "source": [
    "Vypadá to zajímavě, ale asi není, viz ty hodnoty – to je v rámci statistické chyby :("
   ]
  },
  {
   "cell_type": "markdown",
   "id": "f11a70e1",
   "metadata": {},
   "source": [
    "## Podíl zaniklých kapel na žebříčkové hudbě všech kapel"
   ]
  },
  {
   "cell_type": "code",
   "execution_count": 11,
   "id": "4b22356a",
   "metadata": {},
   "outputs": [],
   "source": [
    "kapely = df[df['velikost'] != 'člověk']"
   ]
  },
  {
   "cell_type": "code",
   "execution_count": 12,
   "id": "00b40b8f",
   "metadata": {},
   "outputs": [
    {
     "data": {
      "text/plain": [
       "<Axes: xlabel='rok'>"
      ]
     },
     "execution_count": 12,
     "metadata": {},
     "output_type": "execute_result"
    },
    {
     "data": {
      "image/png": "[encoded data removed]",
      "text/plain": [
       "<Figure size 432x288 with 1 Axes>"
      ]
     },
     "metadata": {
      "needs_background": "light"
     },
     "output_type": "display_data"
    }
   ],
   "source": [
    "(kapely[kapely['konec_pusobeni'] < kapely['rok']].groupby('rok').size() / kapely.groupby('rok').size()).plot.bar()"
   ]
  }
 ],
 "metadata": {
  "kernelspec": {
   "display_name": "Python 3 (ipykernel)",
   "language": "python",
   "name": "python3"
  },
  "language_info": {
   "codemirror_mode": {
    "name": "ipython",
    "version": 3
   },
   "file_extension": ".py",
   "mimetype": "text/x-python",
   "name": "python",
   "nbconvert_exporter": "python",
   "pygments_lexer": "ipython3",
   "version": "3.10.8"
  }
 },
 "nbformat": 4,
 "nbformat_minor": 5
}
