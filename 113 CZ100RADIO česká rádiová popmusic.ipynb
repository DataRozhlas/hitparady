{
 "cells": [
  {
   "cell_type": "code",
   "execution_count": 1,
   "id": "2a0c0a59",
   "metadata": {},
   "outputs": [],
   "source": [
    "import os\n",
    "import pandas as pd"
   ]
  },
  {
   "cell_type": "code",
   "execution_count": 4,
   "id": "402b1b0c",
   "metadata": {},
   "outputs": [],
   "source": [
    "df = pd.read_csv(os.path.join(\"data\",\"CZ_RADIO_TOP_100_tydenni.csv\"))\n",
    "wikid = pd.read_json(os.path.join(\"wikidata\",\"wikidata.json\"))\n",
    "df = df.merge(wikid, on=\"interpret_hlavni\", how=\"outer\")"
   ]
  },
  {
   "cell_type": "code",
   "execution_count": 5,
   "id": "067c97ea",
   "metadata": {},
   "outputs": [
    {
     "data": {
      "text/html": [
       "<div>\n",
       "<style scoped>\n",
       "    .dataframe tbody tr th:only-of-type {\n",
       "        vertical-align: middle;\n",
       "    }\n",
       "\n",
       "    .dataframe tbody tr th {\n",
       "        vertical-align: top;\n",
       "    }\n",
       "\n",
       "    .dataframe thead th {\n",
       "        text-align: right;\n",
       "    }\n",
       "</style>\n",
       "<table border=\"1\" class=\"dataframe\">\n",
       "  <thead>\n",
       "    <tr style=\"text-align: right;\">\n",
       "      <th></th>\n",
       "      <th>Unnamed: 0</th>\n",
       "      <th>hitparada</th>\n",
       "      <th>rok</th>\n",
       "      <th>tyden</th>\n",
       "      <th>pozice</th>\n",
       "      <th>track</th>\n",
       "      <th>interpret</th>\n",
       "      <th>interpret_hlavni</th>\n",
       "      <th>vydavatel</th>\n",
       "      <th>id</th>\n",
       "      <th>...</th>\n",
       "      <th>zeme_puvodu</th>\n",
       "      <th>obcanstvi</th>\n",
       "      <th>etnicita</th>\n",
       "      <th>hlas</th>\n",
       "      <th>nastroje</th>\n",
       "      <th>oceneni</th>\n",
       "      <th>nabozenstvi</th>\n",
       "      <th>orientace</th>\n",
       "      <th>spotify_id</th>\n",
       "      <th>spotify_odberatele</th>\n",
       "    </tr>\n",
       "  </thead>\n",
       "  <tbody>\n",
       "    <tr>\n",
       "      <th>90798</th>\n",
       "      <td>NaN</td>\n",
       "      <td>NaN</td>\n",
       "      <td>NaN</td>\n",
       "      <td>NaN</td>\n",
       "      <td>NaN</td>\n",
       "      <td>NaN</td>\n",
       "      <td>NaN</td>\n",
       "      <td>Spirituál Kvintet</td>\n",
       "      <td>NaN</td>\n",
       "      <td>Q3564752</td>\n",
       "      <td>...</td>\n",
       "      <td>Československo</td>\n",
       "      <td>None</td>\n",
       "      <td>None</td>\n",
       "      <td>None</td>\n",
       "      <td>None</td>\n",
       "      <td>[Stříbrná medaile předsedy Senátu]</td>\n",
       "      <td>None</td>\n",
       "      <td>None</td>\n",
       "      <td>None</td>\n",
       "      <td>NaN</td>\n",
       "    </tr>\n",
       "  </tbody>\n",
       "</table>\n",
       "<p>1 rows × 34 columns</p>\n",
       "</div>"
      ],
      "text/plain": [
       "       Unnamed: 0 hitparada  rok tyden  pozice track interpret  \\\n",
       "90798         NaN       NaN  NaN   NaN     NaN   NaN       NaN   \n",
       "\n",
       "        interpret_hlavni vydavatel        id  ...     zeme_puvodu obcanstvi  \\\n",
       "90798  Spirituál Kvintet       NaN  Q3564752  ...  Československo      None   \n",
       "\n",
       "      etnicita  hlas nastroje                             oceneni  \\\n",
       "90798     None  None     None  [Stříbrná medaile předsedy Senátu]   \n",
       "\n",
       "       nabozenstvi  orientace  spotify_id  spotify_odberatele  \n",
       "90798         None       None        None                 NaN  \n",
       "\n",
       "[1 rows x 34 columns]"
      ]
     },
     "execution_count": 5,
     "metadata": {},
     "output_type": "execute_result"
    }
   ],
   "source": [
    "df[df['zeme_puvodu'] == 'Československo']"
   ]
  },
  {
   "cell_type": "code",
   "execution_count": 6,
   "id": "494405e6",
   "metadata": {},
   "outputs": [],
   "source": [
    "df = df[df['zeme_puvodu'] == 'Česko']"
   ]
  },
  {
   "cell_type": "code",
   "execution_count": 15,
   "id": "46314923",
   "metadata": {},
   "outputs": [
    {
     "data": {
      "text/plain": [
       "interpret_hlavni\n",
       "Kryštof              30\n",
       "Chinaski             28\n",
       "Xindl X              27\n",
       "Marek Ztracený       25\n",
       "Michal Hrůza         25\n",
       "Support Lesbiens     25\n",
       "Ewa Farna            22\n",
       "Mirai                19\n",
       "Verona               19\n",
       "Lucie Vondráčková    18\n",
       "Name: track, dtype: int64"
      ]
     },
     "execution_count": 15,
     "metadata": {},
     "output_type": "execute_result"
    }
   ],
   "source": [
    "df.groupby('interpret_hlavni')['track'].nunique().nlargest(10)"
   ]
  },
  {
   "cell_type": "code",
   "execution_count": 19,
   "id": "7da70308",
   "metadata": {},
   "outputs": [
    {
     "data": {
      "text/plain": [
       "interpret_hlavni\n",
       "Chinaski             10\n",
       "Kryštof              10\n",
       "Mirai                 4\n",
       "Xindl X               4\n",
       "Lenny                 2\n",
       "Mandrage              2\n",
       "Verona                2\n",
       "Helena Zeťová         1\n",
       "Lucie                 1\n",
       "Marek Ztracený        1\n",
       "Michal Hrůza          1\n",
       "Divokej Bill          1\n",
       "Ewa Farna             1\n",
       "Nightwork             1\n",
       "Peter Bič Project     1\n",
       "Ready Kirken          1\n",
       "Support Lesbiens      1\n",
       "Václav Neckář         1\n",
       "Wanastowi Vjecy       1\n",
       "Mikolas Josef         1\n",
       "Name: track, dtype: int64"
      ]
     },
     "execution_count": 19,
     "metadata": {},
     "output_type": "execute_result"
    }
   ],
   "source": [
    "df[df['pozice'] == 1].groupby('interpret_hlavni')['track'].nunique().nlargest(50)"
   ]
  },
  {
   "cell_type": "code",
   "execution_count": 9,
   "id": "bf19f93a",
   "metadata": {},
   "outputs": [
    {
     "data": {
      "text/plain": [
       "interpret_hlavni\n",
       "Chinaski            18\n",
       "Kryštof             18\n",
       "Michal Hrůza        18\n",
       "Ewa Farna           16\n",
       "No Name             16\n",
       "Support Lesbiens    16\n",
       "Verona              16\n",
       "Anna K.             15\n",
       "Marek Ztracený      15\n",
       "Xindl X             15\n",
       "Name: rok, dtype: int64"
      ]
     },
     "execution_count": 9,
     "metadata": {},
     "output_type": "execute_result"
    }
   ],
   "source": [
    "df.groupby('interpret_hlavni')['rok'].nunique().nlargest(10)"
   ]
  },
  {
   "cell_type": "code",
   "execution_count": 10,
   "id": "baa1a4b0",
   "metadata": {},
   "outputs": [
    {
     "data": {
      "text/plain": [
       "interpret_hlavni\n",
       "Kryštof           1449\n",
       "Chinaski          1259\n",
       "Mirai             1171\n",
       "Marek Ztracený     997\n",
       "Xindl X            874\n",
       "Slza               748\n",
       "Mandrage           731\n",
       "Michal Hrůza       668\n",
       "No Name            497\n",
       "Divokej Bill       487\n",
       "dtype: int64"
      ]
     },
     "execution_count": 10,
     "metadata": {},
     "output_type": "execute_result"
    }
   ],
   "source": [
    "df.groupby('interpret_hlavni').size().nlargest(10)"
   ]
  },
  {
   "cell_type": "code",
   "execution_count": 13,
   "id": "ddba6c6a",
   "metadata": {},
   "outputs": [
    {
     "data": {
      "text/plain": [
       "interpret_hlavni\n",
       "Anna K.              395\n",
       "Lenny                322\n",
       "Ewa Farna            312\n",
       "Lucie Vondráčková    255\n",
       "Lucie Bílá           226\n",
       "Aneta Langerová      211\n",
       "Olga Lounová         206\n",
       "Tereza Kerndlová     140\n",
       "Helena Zeťová        110\n",
       "Lenka Filipová       102\n",
       "dtype: int64"
      ]
     },
     "execution_count": 13,
     "metadata": {},
     "output_type": "execute_result"
    }
   ],
   "source": [
    "df[df['gender'] == 'žena'].groupby('interpret_hlavni').size().nlargest(10)"
   ]
  },
  {
   "cell_type": "code",
   "execution_count": 28,
   "id": "d06a2699",
   "metadata": {},
   "outputs": [
    {
     "data": {
      "text/plain": [
       "interpret_hlavni\n",
       "Anna K.              8\n",
       "Ewa Farna            8\n",
       "Lenny                8\n",
       "Emma Smetana         4\n",
       "Annabelle            3\n",
       "Olga Lounová         3\n",
       "Helena Zeťová        2\n",
       "Lucie Bílá           2\n",
       "Tereza Kerndlová     2\n",
       "Barbora Poláková     1\n",
       "Lenka Filipová       1\n",
       "Lucie Vondráčková    1\n",
       "Name: track, dtype: int64"
      ]
     },
     "execution_count": 28,
     "metadata": {},
     "output_type": "execute_result"
    }
   ],
   "source": [
    "df[(df['gender'] == 'žena') & (df['pozice'] <= 20)].groupby('interpret_hlavni')['track'].nunique().nlargest(15)"
   ]
  },
  {
   "cell_type": "code",
   "execution_count": 24,
   "id": "aada2d37",
   "metadata": {},
   "outputs": [
    {
     "data": {
      "text/plain": [
       "zanry\n",
       "pop music            36\n",
       "rock                 25\n",
       "folk                 10\n",
       "pop rock             10\n",
       "hip hop               8\n",
       "alternativní rock     6\n",
       "jazz                  6\n",
       "punk rock             5\n",
       "rap                   5\n",
       "lidová hudba          4\n",
       "country               3\n",
       "hard rock             3\n",
       "heavy metal           3\n",
       "indie rock            3\n",
       "populární hudba       3\n",
       "trap                  3\n",
       "folk pop              2\n",
       "folk rock             2\n",
       "house music           2\n",
       "indie pop             2\n",
       "Name: interpret_hlavni, dtype: int64"
      ]
     },
     "execution_count": 24,
     "metadata": {},
     "output_type": "execute_result"
    }
   ],
   "source": [
    "df.explode('zanry').groupby('zanry')['interpret_hlavni'].nunique().nlargest(20)"
   ]
  }
 ],
 "metadata": {
  "kernelspec": {
   "display_name": "Python 3 (ipykernel)",
   "language": "python",
   "name": "python3"
  },
  "language_info": {
   "codemirror_mode": {
    "name": "ipython",
    "version": 3
   },
   "file_extension": ".py",
   "mimetype": "text/x-python",
   "name": "python",
   "nbconvert_exporter": "python",
   "pygments_lexer": "ipython3",
   "version": "3.10.8"
  }
 },
 "nbformat": 4,
 "nbformat_minor": 5
}
