{
 "cells": [
  {
   "cell_type": "code",
   "execution_count": 104,
   "id": "03ddde3a",
   "metadata": {},
   "outputs": [],
   "source": [
    "import os\n",
    "import pandas as pd"
   ]
  },
  {
   "cell_type": "code",
   "execution_count": 105,
   "id": "02844f12",
   "metadata": {},
   "outputs": [],
   "source": [
    "cro = pd.read_json(os.path.join(\"data\",\"cro_raw.json\"))"
   ]
  },
  {
   "cell_type": "code",
   "execution_count": 106,
   "id": "435a265f",
   "metadata": {},
   "outputs": [],
   "source": [
    "df = pd.read_csv(os.path.join(\"data\",\"CZ_RADIO_TOP_100_mesicni.csv\"))"
   ]
  },
  {
   "cell_type": "code",
   "execution_count": 107,
   "id": "24bd8f30",
   "metadata": {},
   "outputs": [],
   "source": [
    "cro['since'] = pd.to_datetime(cro['since'].apply(lambda x: x.replace(\"02:00\",\"01:00\")))"
   ]
  },
  {
   "cell_type": "code",
   "execution_count": 108,
   "id": "276b1fd1",
   "metadata": {},
   "outputs": [],
   "source": [
    "radiozurnal = cro[(cro['stanice'] == 'radiozurnal')]"
   ]
  },
  {
   "cell_type": "code",
   "execution_count": 109,
   "id": "28ee866c",
   "metadata": {},
   "outputs": [
    {
     "name": "stderr",
     "output_type": "stream",
     "text": [
      "C:\\Users\\micha\\AppData\\Local\\Temp\\ipykernel_20964\\2931147685.py:1: SettingWithCopyWarning: \n",
      "A value is trying to be set on a copy of a slice from a DataFrame.\n",
      "Try using .loc[row_indexer,col_indexer] = value instead\n",
      "\n",
      "See the caveats in the documentation: https://pandas.pydata.org/pandas-docs/stable/user_guide/indexing.html#returning-a-view-versus-a-copy\n",
      "  radiozurnal['track'] = radiozurnal['track'].apply(lambda x: x.split(\"(\")[0].lower())\n"
     ]
    }
   ],
   "source": [
    "radiozurnal['track'] = radiozurnal['track'].apply(lambda x: x.split(\"(\")[0].lower())"
   ]
  },
  {
   "cell_type": "markdown",
   "id": "8cf4fb06",
   "metadata": {},
   "source": [
    "## Poměr všech skladeb hraných radiožurnálem x písní v top 100"
   ]
  },
  {
   "cell_type": "code",
   "execution_count": 110,
   "id": "658fd5a1",
   "metadata": {},
   "outputs": [],
   "source": [
    "def podil(rok, mesic):\n",
    "    return len(radiozurnal[(radiozurnal['track'].isin(df[(df['rok'] == rok) & (df['mesic'] == mesic)]['track'].apply(lambda x: x.split(\"(\")[0].lower()).to_list())) & (radiozurnal['since'].dt.year == rok) & (radiozurnal['since'].dt.month == mesic)]) / len(radiozurnal[(radiozurnal['since'].dt.year == rok) & (radiozurnal['since'].dt.month == mesic)])"
   ]
  },
  {
   "cell_type": "code",
   "execution_count": 111,
   "id": "c0f14f5c",
   "metadata": {},
   "outputs": [],
   "source": [
    "podily = {}\n",
    "for r in range(2021,2024):\n",
    "    for m in range(1,13):\n",
    "        obdobi = f\"\"\"{r}-{m:02}\"\"\"\n",
    "        try:\n",
    "            podily[obdobi] = podil(r, m)\n",
    "        except:\n",
    "            podily[obdobi] = None"
   ]
  },
  {
   "cell_type": "code",
   "execution_count": 112,
   "id": "f7e90681",
   "metadata": {},
   "outputs": [],
   "source": [
    "podily = pd.Series(podily)\n",
    "podily = podily[podily > 0]"
   ]
  },
  {
   "cell_type": "code",
   "execution_count": 113,
   "id": "82ba0116",
   "metadata": {},
   "outputs": [
    {
     "data": {
      "text/plain": [
       "2021-01    0.062594\n",
       "2021-02    0.051310\n",
       "2021-03    0.059589\n",
       "2021-04    0.058392\n",
       "2021-05    0.064195\n",
       "2021-06    0.074480\n",
       "2021-07    0.069042\n",
       "2021-08    0.080887\n",
       "2021-09    0.084094\n",
       "2021-10    0.092905\n",
       "2021-11    0.104426\n",
       "2021-12    0.092401\n",
       "2022-01    0.097639\n",
       "2022-02    0.092009\n",
       "2022-03    0.080648\n",
       "2022-04    0.088100\n",
       "2022-05    0.089530\n",
       "2022-06    0.092039\n",
       "2022-07    0.072799\n",
       "2022-08    0.076551\n",
       "2022-09    0.079301\n",
       "2022-10    0.098007\n",
       "2022-11    0.087944\n",
       "2022-12    0.101135\n",
       "2023-01    0.083081\n",
       "2023-02    0.079296\n",
       "2023-03    0.082767\n",
       "2023-04    0.089501\n",
       "2023-05    0.082514\n",
       "2023-06    0.083083\n",
       "2023-07    0.090583\n",
       "2023-08    0.087111\n",
       "2023-09    0.081270\n",
       "dtype: float64"
      ]
     },
     "execution_count": 113,
     "metadata": {},
     "output_type": "execute_result"
    }
   ],
   "source": [
    "podily"
   ]
  },
  {
   "cell_type": "code",
   "execution_count": 114,
   "id": "a07d99bb",
   "metadata": {
    "scrolled": true
   },
   "outputs": [
    {
     "data": {
      "text/plain": [
       "0.0820976625404727"
      ]
     },
     "execution_count": 114,
     "metadata": {},
     "output_type": "execute_result"
    }
   ],
   "source": [
    "podily.mean()"
   ]
  },
  {
   "cell_type": "markdown",
   "id": "b0b8c733",
   "metadata": {},
   "source": [
    "## Podíl interpretů"
   ]
  },
  {
   "cell_type": "code",
   "execution_count": 115,
   "id": "792adef3",
   "metadata": {},
   "outputs": [],
   "source": [
    "def kdojeprvni(x):\n",
    "    delice = [\"&\",\"/\",\"(feat.\",\"feat.\",\"Feat.\",\" a \", \", \"]\n",
    "    for d in delice:\n",
    "        if d in x:\n",
    "            x = x.split(d)[0]\n",
    "    return x.strip().lower()"
   ]
  },
  {
   "cell_type": "code",
   "execution_count": 116,
   "id": "73d1d5f1",
   "metadata": {},
   "outputs": [
    {
     "name": "stderr",
     "output_type": "stream",
     "text": [
      "C:\\Users\\micha\\AppData\\Local\\Temp\\ipykernel_20964\\3976064205.py:1: SettingWithCopyWarning: \n",
      "A value is trying to be set on a copy of a slice from a DataFrame.\n",
      "Try using .loc[row_indexer,col_indexer] = value instead\n",
      "\n",
      "See the caveats in the documentation: https://pandas.pydata.org/pandas-docs/stable/user_guide/indexing.html#returning-a-view-versus-a-copy\n",
      "  radiozurnal['interpret'] = radiozurnal['interpret'].apply(lambda x: kdojeprvni(x))\n"
     ]
    }
   ],
   "source": [
    "radiozurnal['interpret'] = radiozurnal['interpret'].apply(lambda x: kdojeprvni(x))"
   ]
  },
  {
   "cell_type": "code",
   "execution_count": 117,
   "id": "7f93cad4",
   "metadata": {},
   "outputs": [
    {
     "data": {
      "text/plain": [
       "818937                                          jam\n",
       "818938                              wanastowi vjecy\n",
       "818939                                   goodfellas\n",
       "818940                                 donna summer\n",
       "818941                                   tomáš klus\n",
       "                             ...                   \n",
       "1034953                                  edith piaf\n",
       "1037205                               karel černoch\n",
       "1037206                           tereza černochová\n",
       "1037208                                  black milk\n",
       "1037321    tereza černochová feat. barbora poláková\n",
       "Name: interpret, Length: 983, dtype: object"
      ]
     },
     "execution_count": 117,
     "metadata": {},
     "output_type": "execute_result"
    }
   ],
   "source": [
    "radiozurnal['interpret'].drop_duplicates()"
   ]
  },
  {
   "cell_type": "code",
   "execution_count": 118,
   "id": "6b1019e9",
   "metadata": {},
   "outputs": [],
   "source": [
    "def podil_i(rok, mesic):\n",
    "    return len(radiozurnal[(radiozurnal['interpret'].isin(df[(df['rok'] == rok) & (df['mesic'] == mesic)]['interpret_hlavni'].apply(lambda x: x.split(\"(\")[0].lower()).to_list())) & (radiozurnal['since'].dt.year == rok) & (radiozurnal['since'].dt.month == mesic)]) / len(radiozurnal[(radiozurnal['since'].dt.year == rok) & (radiozurnal['since'].dt.month == mesic)])"
   ]
  },
  {
   "cell_type": "code",
   "execution_count": 119,
   "id": "01160a18",
   "metadata": {},
   "outputs": [
    {
     "data": {
      "text/plain": [
       "0.18123634093037777"
      ]
     },
     "execution_count": 119,
     "metadata": {},
     "output_type": "execute_result"
    }
   ],
   "source": [
    "podil_i(2022, 9)"
   ]
  },
  {
   "cell_type": "code",
   "execution_count": 120,
   "id": "b8adc7e6",
   "metadata": {},
   "outputs": [],
   "source": [
    "podily_i = {}\n",
    "for r in range(2021,2024):\n",
    "    for m in range(1,13):\n",
    "        obdobi = f\"\"\"{r}-{m:02}\"\"\"\n",
    "        try:\n",
    "            podily_i[obdobi] = podil_i(r, m)\n",
    "        except:\n",
    "            podily_i[obdobi] = None"
   ]
  },
  {
   "cell_type": "code",
   "execution_count": 121,
   "id": "5ddd954e",
   "metadata": {},
   "outputs": [],
   "source": [
    "podily_i = pd.Series(podily_i)\n",
    "podily_i = podily_i[podily_i > 0]"
   ]
  },
  {
   "cell_type": "code",
   "execution_count": 122,
   "id": "03965a7d",
   "metadata": {},
   "outputs": [
    {
     "data": {
      "text/plain": [
       "2021-01    0.158301\n",
       "2021-02    0.143377\n",
       "2021-03    0.144283\n",
       "2021-04    0.133646\n",
       "2021-05    0.138655\n",
       "2021-06    0.142608\n",
       "2021-07    0.154311\n",
       "2021-08    0.158963\n",
       "2021-09    0.158738\n",
       "2021-10    0.186891\n",
       "2021-11    0.206017\n",
       "2021-12    0.208055\n",
       "2022-01    0.193755\n",
       "2022-02    0.192662\n",
       "2022-03    0.166810\n",
       "2022-04    0.167010\n",
       "2022-05    0.171399\n",
       "2022-06    0.195582\n",
       "2022-07    0.178727\n",
       "2022-08    0.179938\n",
       "2022-09    0.181236\n",
       "2022-10    0.197799\n",
       "2022-11    0.195981\n",
       "2022-12    0.209838\n",
       "2023-01    0.179953\n",
       "2023-02    0.172842\n",
       "2023-03    0.178968\n",
       "2023-04    0.177281\n",
       "2023-05    0.165861\n",
       "2023-06    0.171972\n",
       "2023-07    0.173705\n",
       "2023-08    0.173483\n",
       "2023-09    0.162385\n",
       "dtype: float64"
      ]
     },
     "execution_count": 122,
     "metadata": {},
     "output_type": "execute_result"
    }
   ],
   "source": [
    "podily_i"
   ]
  },
  {
   "cell_type": "code",
   "execution_count": 123,
   "id": "0e41c1f3",
   "metadata": {},
   "outputs": [
    {
     "data": {
      "text/plain": [
       "0.17336460980615914"
      ]
     },
     "execution_count": 123,
     "metadata": {},
     "output_type": "execute_result"
    }
   ],
   "source": [
    "podily_i.mean()"
   ]
  },
  {
   "cell_type": "markdown",
   "id": "cad1d4e1",
   "metadata": {},
   "source": [
    "### Pokus: setrvačnost"
   ]
  },
  {
   "cell_type": "markdown",
   "id": "b2c327ba",
   "metadata": {},
   "source": [
    "Podíl tracků z top 100 před 2 lety"
   ]
  },
  {
   "cell_type": "code",
   "execution_count": 124,
   "id": "b1a25693",
   "metadata": {},
   "outputs": [
    {
     "data": {
      "text/plain": [
       "0.025116728385123167"
      ]
     },
     "execution_count": 124,
     "metadata": {},
     "output_type": "execute_result"
    }
   ],
   "source": [
    "len(radiozurnal[(radiozurnal['track'].isin(df[(df['rok'] == 2021) & (df['mesic'] == 9)]['track'].apply(lambda x: x.split(\"(\")[0].lower()).to_list())) & (radiozurnal['since'] >= '2023-09-01') & (radiozurnal['since'] <= '2023-09-30')]) / len(radiozurnal[(radiozurnal['since'] >= '2023-09-01') & (radiozurnal['since'] <= '2023-09-30')])"
   ]
  }
 ],
 "metadata": {
  "kernelspec": {
   "display_name": "Python 3 (ipykernel)",
   "language": "python",
   "name": "python3"
  },
  "language_info": {
   "codemirror_mode": {
    "name": "ipython",
    "version": 3
   },
   "file_extension": ".py",
   "mimetype": "text/x-python",
   "name": "python",
   "nbconvert_exporter": "python",
   "pygments_lexer": "ipython3",
   "version": "3.10.8"
  }
 },
 "nbformat": 4,
 "nbformat_minor": 5
}
