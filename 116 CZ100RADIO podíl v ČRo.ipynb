{
 "cells": [
  {
   "cell_type": "code",
   "execution_count": 1,
   "id": "03ddde3a",
   "metadata": {},
   "outputs": [],
   "source": [
    "import os\n",
    "import pandas as pd"
   ]
  },
  {
   "cell_type": "code",
   "execution_count": 2,
   "id": "02844f12",
   "metadata": {},
   "outputs": [],
   "source": [
    "cro = pd.read_json(os.path.join(\"data\",\"cro_raw.json\"))"
   ]
  },
  {
   "cell_type": "code",
   "execution_count": 3,
   "id": "435a265f",
   "metadata": {},
   "outputs": [],
   "source": [
    "df = pd.read_csv(os.path.join(\"data\",\"CZ_RADIO_TOP_100_mesicni.csv\"))"
   ]
  },
  {
   "cell_type": "code",
   "execution_count": 4,
   "id": "24bd8f30",
   "metadata": {},
   "outputs": [],
   "source": [
    "cro['since'] = pd.to_datetime(cro['since'].apply(lambda x: x.replace(\"02:00\",\"01:00\")))"
   ]
  },
  {
   "cell_type": "code",
   "execution_count": 5,
   "id": "276b1fd1",
   "metadata": {},
   "outputs": [],
   "source": [
    "radiozurnal = cro[(cro['stanice'] == 'radiozurnal')]"
   ]
  },
  {
   "cell_type": "code",
   "execution_count": 6,
   "id": "28ee866c",
   "metadata": {},
   "outputs": [
    {
     "name": "stderr",
     "output_type": "stream",
     "text": [
      "C:\\Users\\micha\\AppData\\Local\\Temp\\ipykernel_14612\\2931147685.py:1: SettingWithCopyWarning: \n",
      "A value is trying to be set on a copy of a slice from a DataFrame.\n",
      "Try using .loc[row_indexer,col_indexer] = value instead\n",
      "\n",
      "See the caveats in the documentation: https://pandas.pydata.org/pandas-docs/stable/user_guide/indexing.html#returning-a-view-versus-a-copy\n",
      "  radiozurnal['track'] = radiozurnal['track'].apply(lambda x: x.split(\"(\")[0].lower())\n"
     ]
    }
   ],
   "source": [
    "radiozurnal['track'] = radiozurnal['track'].apply(lambda x: x.split(\"(\")[0].lower())"
   ]
  },
  {
   "cell_type": "markdown",
   "id": "8cf4fb06",
   "metadata": {},
   "source": [
    "## Poměr všech skladeb hraných radiožurnálem x písní v top 100"
   ]
  },
  {
   "cell_type": "code",
   "execution_count": 7,
   "id": "658fd5a1",
   "metadata": {},
   "outputs": [],
   "source": [
    "def podil(rok, mesic):\n",
    "    return len(radiozurnal[(radiozurnal['track'].isin(df[(df['rok'] == rok) & (df['mesic'] == mesic)]['track'].apply(lambda x: x.split(\"(\")[0].lower()).to_list())) & (radiozurnal['since'].dt.year == rok) & (radiozurnal['since'].dt.month == mesic)]) / len(radiozurnal[(radiozurnal['since'].dt.year == rok) & (radiozurnal['since'].dt.month == mesic)])"
   ]
  },
  {
   "cell_type": "code",
   "execution_count": 8,
   "id": "c0f14f5c",
   "metadata": {},
   "outputs": [],
   "source": [
    "podily = {}\n",
    "for r in range(2021,2024):\n",
    "    for m in range(1,13):\n",
    "        obdobi = f\"\"\"{r}-{m:02}\"\"\"\n",
    "        try:\n",
    "            podily[obdobi] = podil(r, m)\n",
    "        except:\n",
    "            podily[obdobi] = None"
   ]
  },
  {
   "cell_type": "code",
   "execution_count": 9,
   "id": "f7e90681",
   "metadata": {},
   "outputs": [],
   "source": [
    "podily = pd.Series(podily)\n",
    "podily = podily[podily > 0]"
   ]
  },
  {
   "cell_type": "code",
   "execution_count": 10,
   "id": "82ba0116",
   "metadata": {},
   "outputs": [
    {
     "data": {
      "text/plain": [
       "2021-01    0.062594\n",
       "2021-02    0.051310\n",
       "2021-03    0.059589\n",
       "2021-04    0.058392\n",
       "2021-05    0.064195\n",
       "2021-06    0.074480\n",
       "2021-07    0.069042\n",
       "2021-08    0.080887\n",
       "2021-09    0.084094\n",
       "2021-10    0.092905\n",
       "2021-11    0.104426\n",
       "2021-12    0.092401\n",
       "2022-01    0.097639\n",
       "2022-02    0.092009\n",
       "2022-03    0.080648\n",
       "2022-04    0.088100\n",
       "2022-05    0.089530\n",
       "2022-06    0.092039\n",
       "2022-07    0.072799\n",
       "2022-08    0.076551\n",
       "2022-09    0.079301\n",
       "2022-10    0.098007\n",
       "2022-11    0.087944\n",
       "2022-12    0.101135\n",
       "2023-01    0.083081\n",
       "2023-02    0.079296\n",
       "2023-03    0.082767\n",
       "2023-04    0.089501\n",
       "2023-05    0.082514\n",
       "2023-06    0.083083\n",
       "2023-07    0.090583\n",
       "2023-08    0.087111\n",
       "2023-09    0.081270\n",
       "2023-10    0.082470\n",
       "dtype: float64"
      ]
     },
     "execution_count": 10,
     "metadata": {},
     "output_type": "execute_result"
    }
   ],
   "source": [
    "podily"
   ]
  },
  {
   "cell_type": "code",
   "execution_count": 11,
   "id": "a07d99bb",
   "metadata": {
    "scrolled": true
   },
   "outputs": [
    {
     "data": {
      "text/plain": [
       "0.0821086042382414"
      ]
     },
     "execution_count": 11,
     "metadata": {},
     "output_type": "execute_result"
    }
   ],
   "source": [
    "podily.mean()"
   ]
  },
  {
   "cell_type": "markdown",
   "id": "b0b8c733",
   "metadata": {},
   "source": [
    "## Podíl interpretů"
   ]
  },
  {
   "cell_type": "code",
   "execution_count": 12,
   "id": "792adef3",
   "metadata": {},
   "outputs": [],
   "source": [
    "def kdojeprvni(x):\n",
    "    delice = [\"&\",\"/\",\"(feat.\",\"feat.\",\"Feat.\",\" a \", \", \"]\n",
    "    for d in delice:\n",
    "        if d in x:\n",
    "            x = x.split(d)[0]\n",
    "    return x.strip().lower()"
   ]
  },
  {
   "cell_type": "code",
   "execution_count": 13,
   "id": "73d1d5f1",
   "metadata": {},
   "outputs": [
    {
     "name": "stderr",
     "output_type": "stream",
     "text": [
      "C:\\Users\\micha\\AppData\\Local\\Temp\\ipykernel_14612\\3976064205.py:1: SettingWithCopyWarning: \n",
      "A value is trying to be set on a copy of a slice from a DataFrame.\n",
      "Try using .loc[row_indexer,col_indexer] = value instead\n",
      "\n",
      "See the caveats in the documentation: https://pandas.pydata.org/pandas-docs/stable/user_guide/indexing.html#returning-a-view-versus-a-copy\n",
      "  radiozurnal['interpret'] = radiozurnal['interpret'].apply(lambda x: kdojeprvni(x))\n"
     ]
    }
   ],
   "source": [
    "radiozurnal['interpret'] = radiozurnal['interpret'].apply(lambda x: kdojeprvni(x))"
   ]
  },
  {
   "cell_type": "code",
   "execution_count": 14,
   "id": "7f93cad4",
   "metadata": {
    "scrolled": true
   },
   "outputs": [
    {
     "data": {
      "text/plain": [
       "818937                                          jam\n",
       "818938                              wanastowi vjecy\n",
       "818939                                   goodfellas\n",
       "818940                                 donna summer\n",
       "818941                                   tomáš klus\n",
       "                             ...                   \n",
       "1034953                                  edith piaf\n",
       "1037205                               karel černoch\n",
       "1037206                           tereza černochová\n",
       "1037208                                  black milk\n",
       "1037321    tereza černochová feat. barbora poláková\n",
       "Name: interpret, Length: 983, dtype: object"
      ]
     },
     "execution_count": 14,
     "metadata": {},
     "output_type": "execute_result"
    }
   ],
   "source": [
    "radiozurnal['interpret'].drop_duplicates()"
   ]
  },
  {
   "cell_type": "code",
   "execution_count": 15,
   "id": "6b1019e9",
   "metadata": {},
   "outputs": [],
   "source": [
    "def podil_i(rok, mesic):\n",
    "    return len(radiozurnal[(radiozurnal['interpret'].isin(df[(df['rok'] == rok) & (df['mesic'] == mesic)]['interpret_hlavni'].apply(lambda x: x.split(\"(\")[0].lower()).to_list())) & (radiozurnal['since'].dt.year == rok) & (radiozurnal['since'].dt.month == mesic)]) / len(radiozurnal[(radiozurnal['since'].dt.year == rok) & (radiozurnal['since'].dt.month == mesic)])"
   ]
  },
  {
   "cell_type": "code",
   "execution_count": 16,
   "id": "01160a18",
   "metadata": {},
   "outputs": [
    {
     "data": {
      "text/plain": [
       "0.18123634093037777"
      ]
     },
     "execution_count": 16,
     "metadata": {},
     "output_type": "execute_result"
    }
   ],
   "source": [
    "podil_i(2022, 9)"
   ]
  },
  {
   "cell_type": "code",
   "execution_count": 17,
   "id": "b8adc7e6",
   "metadata": {},
   "outputs": [],
   "source": [
    "podily_i = {}\n",
    "for r in range(2021,2024):\n",
    "    for m in range(1,13):\n",
    "        obdobi = f\"\"\"{r}-{m:02}\"\"\"\n",
    "        try:\n",
    "            podily_i[obdobi] = podil_i(r, m)\n",
    "        except:\n",
    "            podily_i[obdobi] = None"
   ]
  },
  {
   "cell_type": "code",
   "execution_count": 18,
   "id": "5ddd954e",
   "metadata": {},
   "outputs": [],
   "source": [
    "podily_i = pd.Series(podily_i)\n",
    "podily_i = podily_i[podily_i > 0]"
   ]
  },
  {
   "cell_type": "code",
   "execution_count": 19,
   "id": "03965a7d",
   "metadata": {},
   "outputs": [
    {
     "data": {
      "text/plain": [
       "2021-01    0.158301\n",
       "2021-02    0.143377\n",
       "2021-03    0.144283\n",
       "2021-04    0.133646\n",
       "2021-05    0.138655\n",
       "2021-06    0.142608\n",
       "2021-07    0.154311\n",
       "2021-08    0.158963\n",
       "2021-09    0.158738\n",
       "2021-10    0.186891\n",
       "2021-11    0.206017\n",
       "2021-12    0.208055\n",
       "2022-01    0.193755\n",
       "2022-02    0.192662\n",
       "2022-03    0.166810\n",
       "2022-04    0.167010\n",
       "2022-05    0.171399\n",
       "2022-06    0.195582\n",
       "2022-07    0.178727\n",
       "2022-08    0.179938\n",
       "2022-09    0.181236\n",
       "2022-10    0.197799\n",
       "2022-11    0.195981\n",
       "2022-12    0.209838\n",
       "2023-01    0.179953\n",
       "2023-02    0.172842\n",
       "2023-03    0.178968\n",
       "2023-04    0.177281\n",
       "2023-05    0.165861\n",
       "2023-06    0.171972\n",
       "2023-07    0.173705\n",
       "2023-08    0.173483\n",
       "2023-09    0.162385\n",
       "2023-10    0.162955\n",
       "dtype: float64"
      ]
     },
     "execution_count": 19,
     "metadata": {},
     "output_type": "execute_result"
    }
   ],
   "source": [
    "podily_i"
   ]
  },
  {
   "cell_type": "code",
   "execution_count": 20,
   "id": "0e41c1f3",
   "metadata": {},
   "outputs": [
    {
     "data": {
      "text/plain": [
       "0.17305843881276828"
      ]
     },
     "execution_count": 20,
     "metadata": {},
     "output_type": "execute_result"
    }
   ],
   "source": [
    "podily_i.mean()"
   ]
  },
  {
   "cell_type": "markdown",
   "id": "4dfe8164",
   "metadata": {},
   "source": [
    "## Podíl _všech_ interpretů z top 100 od r. 2006 do r. 2022 na vysílání RŽ v roce 2022"
   ]
  },
  {
   "cell_type": "code",
   "execution_count": 26,
   "id": "abd06bad",
   "metadata": {},
   "outputs": [],
   "source": [
    "vsechno_intepretstvo = df[df['rok'] < 2023]['interpret_hlavni'].apply(lambda x: x.lower()).drop_duplicates().to_list()"
   ]
  },
  {
   "cell_type": "code",
   "execution_count": 28,
   "id": "1c356522",
   "metadata": {},
   "outputs": [
    {
     "data": {
      "text/html": [
       "<div>\n",
       "<style scoped>\n",
       "    .dataframe tbody tr th:only-of-type {\n",
       "        vertical-align: middle;\n",
       "    }\n",
       "\n",
       "    .dataframe tbody tr th {\n",
       "        vertical-align: top;\n",
       "    }\n",
       "\n",
       "    .dataframe thead th {\n",
       "        text-align: right;\n",
       "    }\n",
       "</style>\n",
       "<table border=\"1\" class=\"dataframe\">\n",
       "  <thead>\n",
       "    <tr style=\"text-align: right;\">\n",
       "      <th></th>\n",
       "      <th>since</th>\n",
       "      <th>id</th>\n",
       "      <th>interpret</th>\n",
       "      <th>interpret_id</th>\n",
       "      <th>track</th>\n",
       "      <th>track_id</th>\n",
       "      <th>stanice</th>\n",
       "    </tr>\n",
       "  </thead>\n",
       "  <tbody>\n",
       "    <tr>\n",
       "      <th>818937</th>\n",
       "      <td>2020-12-01 00:38:45+01:00</td>\n",
       "      <td>10236284</td>\n",
       "      <td>jam</td>\n",
       "      <td>2989</td>\n",
       "      <td>set me free</td>\n",
       "      <td>7480</td>\n",
       "      <td>radiozurnal</td>\n",
       "    </tr>\n",
       "    <tr>\n",
       "      <th>818938</th>\n",
       "      <td>2020-12-01 00:42:25+01:00</td>\n",
       "      <td>10236293</td>\n",
       "      <td>wanastowi vjecy</td>\n",
       "      <td>3068</td>\n",
       "      <td>kouzlo</td>\n",
       "      <td>7569</td>\n",
       "      <td>radiozurnal</td>\n",
       "    </tr>\n",
       "    <tr>\n",
       "      <th>818939</th>\n",
       "      <td>2020-12-01 00:48:18+01:00</td>\n",
       "      <td>10236306</td>\n",
       "      <td>goodfellas</td>\n",
       "      <td>5472</td>\n",
       "      <td>supersmooth</td>\n",
       "      <td>14913</td>\n",
       "      <td>radiozurnal</td>\n",
       "    </tr>\n",
       "    <tr>\n",
       "      <th>818940</th>\n",
       "      <td>2020-12-01 00:51:48+01:00</td>\n",
       "      <td>10236315</td>\n",
       "      <td>donna summer</td>\n",
       "      <td>3681</td>\n",
       "      <td>this time i know it's for real</td>\n",
       "      <td>11519</td>\n",
       "      <td>radiozurnal</td>\n",
       "    </tr>\n",
       "    <tr>\n",
       "      <th>818941</th>\n",
       "      <td>2020-12-01 00:55:41+01:00</td>\n",
       "      <td>10236326</td>\n",
       "      <td>tomáš klus</td>\n",
       "      <td>3098</td>\n",
       "      <td>nenávratná</td>\n",
       "      <td>16232</td>\n",
       "      <td>radiozurnal</td>\n",
       "    </tr>\n",
       "    <tr>\n",
       "      <th>...</th>\n",
       "      <td>...</td>\n",
       "      <td>...</td>\n",
       "      <td>...</td>\n",
       "      <td>...</td>\n",
       "      <td>...</td>\n",
       "      <td>...</td>\n",
       "      <td>...</td>\n",
       "    </tr>\n",
       "    <tr>\n",
       "      <th>1037537</th>\n",
       "      <td>2023-10-22 23:07:32+01:00</td>\n",
       "      <td>19380454</td>\n",
       "      <td>robbie williams</td>\n",
       "      <td>2984</td>\n",
       "      <td>come undone</td>\n",
       "      <td>10429</td>\n",
       "      <td>radiozurnal</td>\n",
       "    </tr>\n",
       "    <tr>\n",
       "      <th>1037538</th>\n",
       "      <td>2023-10-22 23:15:56+01:00</td>\n",
       "      <td>19380472</td>\n",
       "      <td>babybird</td>\n",
       "      <td>4569</td>\n",
       "      <td>you're gorgeous</td>\n",
       "      <td>11678</td>\n",
       "      <td>radiozurnal</td>\n",
       "    </tr>\n",
       "    <tr>\n",
       "      <th>1037539</th>\n",
       "      <td>2023-10-22 23:25:35+01:00</td>\n",
       "      <td>19380489</td>\n",
       "      <td>anna k</td>\n",
       "      <td>3161</td>\n",
       "      <td>údolí včel</td>\n",
       "      <td>109184</td>\n",
       "      <td>radiozurnal</td>\n",
       "    </tr>\n",
       "    <tr>\n",
       "      <th>1037540</th>\n",
       "      <td>2023-10-22 23:34:17+01:00</td>\n",
       "      <td>19380510</td>\n",
       "      <td>emeli sandé</td>\n",
       "      <td>4229</td>\n",
       "      <td>read all about it</td>\n",
       "      <td>36778</td>\n",
       "      <td>radiozurnal</td>\n",
       "    </tr>\n",
       "    <tr>\n",
       "      <th>1037541</th>\n",
       "      <td>2023-10-22 23:47:09+01:00</td>\n",
       "      <td>19380537</td>\n",
       "      <td>pet shop boys</td>\n",
       "      <td>3158</td>\n",
       "      <td>se a vida é</td>\n",
       "      <td>13103</td>\n",
       "      <td>radiozurnal</td>\n",
       "    </tr>\n",
       "  </tbody>\n",
       "</table>\n",
       "<p>218605 rows × 7 columns</p>\n",
       "</div>"
      ],
      "text/plain": [
       "                            since        id        interpret  interpret_id  \\\n",
       "818937  2020-12-01 00:38:45+01:00  10236284              jam          2989   \n",
       "818938  2020-12-01 00:42:25+01:00  10236293  wanastowi vjecy          3068   \n",
       "818939  2020-12-01 00:48:18+01:00  10236306       goodfellas          5472   \n",
       "818940  2020-12-01 00:51:48+01:00  10236315     donna summer          3681   \n",
       "818941  2020-12-01 00:55:41+01:00  10236326       tomáš klus          3098   \n",
       "...                           ...       ...              ...           ...   \n",
       "1037537 2023-10-22 23:07:32+01:00  19380454  robbie williams          2984   \n",
       "1037538 2023-10-22 23:15:56+01:00  19380472         babybird          4569   \n",
       "1037539 2023-10-22 23:25:35+01:00  19380489           anna k          3161   \n",
       "1037540 2023-10-22 23:34:17+01:00  19380510      emeli sandé          4229   \n",
       "1037541 2023-10-22 23:47:09+01:00  19380537    pet shop boys          3158   \n",
       "\n",
       "                                  track  track_id      stanice  \n",
       "818937                      set me free      7480  radiozurnal  \n",
       "818938                           kouzlo      7569  radiozurnal  \n",
       "818939                      supersmooth     14913  radiozurnal  \n",
       "818940   this time i know it's for real     11519  radiozurnal  \n",
       "818941                       nenávratná     16232  radiozurnal  \n",
       "...                                 ...       ...          ...  \n",
       "1037537                     come undone     10429  radiozurnal  \n",
       "1037538                 you're gorgeous     11678  radiozurnal  \n",
       "1037539                      údolí včel    109184  radiozurnal  \n",
       "1037540              read all about it      36778  radiozurnal  \n",
       "1037541                     se a vida é     13103  radiozurnal  \n",
       "\n",
       "[218605 rows x 7 columns]"
      ]
     },
     "execution_count": 28,
     "metadata": {},
     "output_type": "execute_result"
    }
   ],
   "source": [
    "radiozurnal"
   ]
  },
  {
   "cell_type": "code",
   "execution_count": 33,
   "id": "462082a3",
   "metadata": {},
   "outputs": [
    {
     "data": {
      "text/plain": [
       "0.4405849611426171"
      ]
     },
     "execution_count": 33,
     "metadata": {},
     "output_type": "execute_result"
    }
   ],
   "source": [
    "len(radiozurnal[(radiozurnal['since'].dt.year == 2022) & (radiozurnal['interpret'].isin(vsechno_intepretstvo))]) / len(radiozurnal[(radiozurnal['since'].dt.year == 2022)])"
   ]
  }
 ],
 "metadata": {
  "kernelspec": {
   "display_name": "Python 3 (ipykernel)",
   "language": "python",
   "name": "python3"
  },
  "language_info": {
   "codemirror_mode": {
    "name": "ipython",
    "version": 3
   },
   "file_extension": ".py",
   "mimetype": "text/x-python",
   "name": "python",
   "nbconvert_exporter": "python",
   "pygments_lexer": "ipython3",
   "version": "3.10.8"
  }
 },
 "nbformat": 4,
 "nbformat_minor": 5
}
