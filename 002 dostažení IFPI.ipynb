{
 "cells": [
  {
   "cell_type": "code",
   "execution_count": 2,
   "id": "2396eb79",
   "metadata": {},
   "outputs": [],
   "source": [
    "hitparady = {\n",
    "    \"CZ - ALBUMS - TOP 100\": \"14\",\n",
    "    \"CZ - ALBUMS CLASSICAL - TOP 10\": \"25\",\n",
    "    \"CZ - RADIO - TOP 100\": \"2\",\n",
    "    \"CZ - RADIO - TOP 20 MODERN ROCK\": \"21\",\n",
    "    \"CZ - RADIO - TOP 50 CZ\": \"7\",\n",
    "    \"CZ - SINGLES DIGITAL - TOP 100\": \"30\",\n",
    "    \"CZ - SINGLES DIGITAL - TOP 50 CZ\": \"32\",\n",
    "    \"SK - ALBUMS - TOP 100\": \"36\",\n",
    "    \"SK - RADIO - TOP 100\": \"40\",\n",
    "    \"SK - RADIO - TOP 50 SK\": \"42\",\n",
    "    \"SK - SINGLES DIGITAL - TOP 100\": \"43\",\n",
    "    \"SK - SINGLES DIGITAL - TOP 50 SK\": \"44\"\n",
    "}"
   ]
  },
  {
   "cell_type": "code",
   "execution_count": 3,
   "id": "b2a19454",
   "metadata": {},
   "outputs": [],
   "source": [
    "folder = \"ifpi\""
   ]
  },
  {
   "cell_type": "code",
   "execution_count": 4,
   "id": "650d2834",
   "metadata": {},
   "outputs": [],
   "source": [
    "import os\n",
    "\n",
    "if not os.path.exists(folder):\n",
    "    os.mkdir(folder)\n",
    "else:\n",
    "    pass"
   ]
  },
  {
   "cell_type": "code",
   "execution_count": 5,
   "id": "979f1301",
   "metadata": {},
   "outputs": [],
   "source": [
    "import requests"
   ]
  },
  {
   "cell_type": "code",
   "execution_count": 6,
   "id": "5f7b1924",
   "metadata": {},
   "outputs": [],
   "source": [
    "from IPython.display import clear_output"
   ]
  },
  {
   "cell_type": "code",
   "execution_count": 7,
   "id": "23fa22dc",
   "metadata": {},
   "outputs": [],
   "source": [
    "def stahni_hitparady(hitparady, weekmin, weekmax):\n",
    "    celkem = len(hitparady) * (weekmax - weekmin + 1)\n",
    "    prubeh = 0\n",
    "    for key, val in hitparady.items():\n",
    "        for i in range (weekmin, weekmax + 1):\n",
    "            url = f\"https://ifpicr.cz/hitparada/{val}?weekId={i}\"\n",
    "            r = requests.get(url)\n",
    "            prubeh = prubeh + 1\n",
    "            print(f\"{prubeh}/{celkem} / {url}\")\n",
    "            if \"Při načítání hitparády došlo k chybě\" not in r.text:\n",
    "                with open(os.path.join(folder, f\"{val}-{i}.html\"), 'w+', encoding='utf-8') as f:\n",
    "                    f.write(r.text)\n",
    "            clear_output(wait=True)"
   ]
  },
  {
   "cell_type": "code",
   "execution_count": 8,
   "id": "dff02bd9",
   "metadata": {},
   "outputs": [
    {
     "name": "stdout",
     "output_type": "stream",
     "text": [
      "132/132 / https://ifpicr.cz/hitparada/44?weekId=2871\n"
     ]
    }
   ],
   "source": [
    "stahni_hitparady(hitparady, 2861, 2871)"
   ]
  }
 ],
 "metadata": {
  "kernelspec": {
   "display_name": "Python 3 (ipykernel)",
   "language": "python",
   "name": "python3"
  },
  "language_info": {
   "codemirror_mode": {
    "name": "ipython",
    "version": 3
   },
   "file_extension": ".py",
   "mimetype": "text/x-python",
   "name": "python",
   "nbconvert_exporter": "python",
   "pygments_lexer": "ipython3",
   "version": "3.10.8"
  }
 },
 "nbformat": 4,
 "nbformat_minor": 5
}
