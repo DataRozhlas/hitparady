{
 "cells": [
  {
   "cell_type": "markdown",
   "id": "592b7a66",
   "metadata": {},
   "source": [
    "V tomto sešitu odstraňujeme zjevně chybné interprety – při příštím scrapování wikidat opravit!"
   ]
  },
  {
   "cell_type": "code",
   "execution_count": 5,
   "id": "cc2c5dd7",
   "metadata": {},
   "outputs": [],
   "source": [
    "import os\n",
    "import pandas as pd"
   ]
  },
  {
   "cell_type": "code",
   "execution_count": 9,
   "id": "6583f78c",
   "metadata": {},
   "outputs": [],
   "source": [
    "df = pd.read_json(os.path.join('wikidata','wikidata_raw2.json'))"
   ]
  },
  {
   "cell_type": "code",
   "execution_count": 10,
   "id": "2f5df906",
   "metadata": {},
   "outputs": [],
   "source": [
    "blbosti = ['Lucas','Bazzi','Rembrandts','Michele Lea','Griff','Hugel','David Ross','Banks','Ishi','Ashe','Chase','Abde']"
   ]
  },
  {
   "cell_type": "code",
   "execution_count": 11,
   "id": "7000420b",
   "metadata": {},
   "outputs": [],
   "source": [
    "df = df[~df['interpret_hlavni'].isin(blbosti)]"
   ]
  },
  {
   "cell_type": "code",
   "execution_count": 12,
   "id": "a12fd87e",
   "metadata": {},
   "outputs": [],
   "source": [
    "df.to_json(os.path.join('wikidata','wikidata.json'), orient=\"records\")"
   ]
  }
 ],
 "metadata": {
  "kernelspec": {
   "display_name": "Python 3 (ipykernel)",
   "language": "python",
   "name": "python3"
  },
  "language_info": {
   "codemirror_mode": {
    "name": "ipython",
    "version": 3
   },
   "file_extension": ".py",
   "mimetype": "text/x-python",
   "name": "python",
   "nbconvert_exporter": "python",
   "pygments_lexer": "ipython3",
   "version": "3.10.8"
  }
 },
 "nbformat": 4,
 "nbformat_minor": 5
}
