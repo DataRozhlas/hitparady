{
 "cells": [
  {
   "cell_type": "code",
   "execution_count": 1,
   "id": "ba9994e6",
   "metadata": {},
   "outputs": [],
   "source": [
    "import os\n",
    "import pandas as pd"
   ]
  },
  {
   "cell_type": "code",
   "execution_count": 2,
   "id": "2d3268ec",
   "metadata": {},
   "outputs": [],
   "source": [
    "from src.tabulka import tabulka"
   ]
  },
  {
   "cell_type": "code",
   "execution_count": 3,
   "id": "42d7b9c8",
   "metadata": {},
   "outputs": [],
   "source": [
    "df = pd.read_json(os.path.join(\"data\",\"cro_raw.json\"))"
   ]
  },
  {
   "cell_type": "code",
   "execution_count": 4,
   "id": "50b56530",
   "metadata": {},
   "outputs": [
    {
     "data": {
      "text/plain": [
       "(219422, 7)"
      ]
     },
     "execution_count": 4,
     "metadata": {},
     "output_type": "execute_result"
    }
   ],
   "source": [
    "df.shape"
   ]
  },
  {
   "cell_type": "code",
   "execution_count": 5,
   "id": "a4e03cba",
   "metadata": {},
   "outputs": [],
   "source": [
    "df['since'] = pd.to_datetime(df['since'].apply(lambda x: x.replace(\"02:00\",\"01:00\")))"
   ]
  },
  {
   "cell_type": "code",
   "execution_count": 6,
   "id": "51909b0e",
   "metadata": {},
   "outputs": [],
   "source": [
    "df['interpret'] = df['interpret'].apply(lambda x: x.upper())\n",
    "df['track'] = df['track'].apply(lambda x: x.upper())"
   ]
  },
  {
   "cell_type": "code",
   "execution_count": 7,
   "id": "1aa00303",
   "metadata": {},
   "outputs": [
    {
     "data": {
      "text/html": [
       "<div>\n",
       "<style scoped>\n",
       "    .dataframe tbody tr th:only-of-type {\n",
       "        vertical-align: middle;\n",
       "    }\n",
       "\n",
       "    .dataframe tbody tr th {\n",
       "        vertical-align: top;\n",
       "    }\n",
       "\n",
       "    .dataframe thead th {\n",
       "        text-align: right;\n",
       "    }\n",
       "</style>\n",
       "<table border=\"1\" class=\"dataframe\">\n",
       "  <thead>\n",
       "    <tr style=\"text-align: right;\">\n",
       "      <th></th>\n",
       "      <th>since</th>\n",
       "      <th>id</th>\n",
       "      <th>interpret</th>\n",
       "      <th>interpret_id</th>\n",
       "      <th>track</th>\n",
       "      <th>track_id</th>\n",
       "      <th>stanice</th>\n",
       "    </tr>\n",
       "  </thead>\n",
       "  <tbody>\n",
       "    <tr>\n",
       "      <th>0</th>\n",
       "      <td>2023-10-22 00:00:22+01:00</td>\n",
       "      <td>19376269</td>\n",
       "      <td>SYLVAN ESSO</td>\n",
       "      <td>11101</td>\n",
       "      <td>FREQUENCY</td>\n",
       "      <td>82943</td>\n",
       "      <td>radiowave</td>\n",
       "    </tr>\n",
       "    <tr>\n",
       "      <th>1</th>\n",
       "      <td>2023-10-22 00:03:12+01:00</td>\n",
       "      <td>19376274</td>\n",
       "      <td>WINONA OAK</td>\n",
       "      <td>25899</td>\n",
       "      <td>WINTER RAIN</td>\n",
       "      <td>87407</td>\n",
       "      <td>radiowave</td>\n",
       "    </tr>\n",
       "  </tbody>\n",
       "</table>\n",
       "</div>"
      ],
      "text/plain": [
       "                      since        id    interpret  interpret_id        track  \\\n",
       "0 2023-10-22 00:00:22+01:00  19376269  SYLVAN ESSO         11101    FREQUENCY   \n",
       "1 2023-10-22 00:03:12+01:00  19376274   WINONA OAK         25899  WINTER RAIN   \n",
       "\n",
       "   track_id    stanice  \n",
       "0     82943  radiowave  \n",
       "1     87407  radiowave  "
      ]
     },
     "execution_count": 7,
     "metadata": {},
     "output_type": "execute_result"
    }
   ],
   "source": [
    "df.head(2)"
   ]
  },
  {
   "cell_type": "code",
   "execution_count": 8,
   "id": "e57f5334",
   "metadata": {},
   "outputs": [],
   "source": [
    "df['rok'] = df['since'].dt.year"
   ]
  },
  {
   "cell_type": "code",
   "execution_count": 9,
   "id": "7283b167",
   "metadata": {
    "scrolled": true
   },
   "outputs": [
    {
     "data": {
      "text/plain": [
       "interpret                      track             \n",
       "DERMOT KENNEDY                 KISS ME               320\n",
       "HARRY STYLES                   AS IT WAS             312\n",
       "MILEY CYRUS                    FLOWERS               310\n",
       "STUDIOVÝ ORCHESTR              ČESKÁ STÁTNÍ HYMNA    301\n",
       "LEWIS CAPALDI                  FORGET ME             288\n",
       "KATEŘINA MARIE TICHÁ           PLAMEN                261\n",
       "JELEN                          TOUHA A PLÁČ          248\n",
       "FRED ROBERTS                   RUNAWAY               223\n",
       "JAMES ARTHUR                   BLINDSIDE             213\n",
       "BERRE                          THRILL OF IT ALL      208\n",
       "ONE REPUBLIC                   WEST COAST            204\n",
       "RAY DALTON                     DO IT AGAIN           203\n",
       "ADAM ĎURICA                    VIETOR                201\n",
       "MIROSLAV ŽBIRKA, DAVID ŽBIRKA  NEJSI SÁM             193\n",
       "ANNA K                         ÚDOLÍ VČEL            191\n",
       "ONLY THE POETS                 LOOKING AT YOU        182\n",
       "PICTURE THIS                   GET ON MY LOVE        180\n",
       "ED SHEERAN                     AMERICAN TOWN         178\n",
       "MIRAI                          TENKRÁT               178\n",
       "CHINASKI                       SMŮLA                 175\n",
       "dtype: int64"
      ]
     },
     "execution_count": 9,
     "metadata": {},
     "output_type": "execute_result"
    }
   ],
   "source": [
    "df.groupby([\"interpret\",\"track\"]).size().nlargest(20)"
   ]
  },
  {
   "cell_type": "code",
   "execution_count": 10,
   "id": "0a24d25f",
   "metadata": {},
   "outputs": [
    {
     "data": {
      "text/plain": [
       "''"
      ]
     },
     "execution_count": 10,
     "metadata": {},
     "output_type": "execute_result"
    }
   ],
   "source": [
    "cro22 = df[df['rok'] == 2022].groupby(\"interpret\").size().nlargest(60)\n",
    "cro22 = cro22[cro22 >= 1000]\n",
    "cro22 = cro22.reset_index()\n",
    "cro22['interpret'] = cro22['interpret'].apply(lambda x: x.title())\n",
    "\", \".join(cro22['interpret'].to_list())"
   ]
  },
  {
   "cell_type": "code",
   "execution_count": 11,
   "id": "35df7d49",
   "metadata": {},
   "outputs": [
    {
     "data": {
      "text/plain": [
       "interpret\n",
       "CHINASKI             938\n",
       "ROBBIE WILLIAMS      856\n",
       "MIRAI                743\n",
       "ED SHEERAN           697\n",
       "JELEN                684\n",
       "ROXETTE              684\n",
       "R.E.M.               656\n",
       "ADELE                631\n",
       "COLDPLAY             630\n",
       "QUEEN                629\n",
       "BRYAN ADAMS          605\n",
       "ANETA LANGEROVÁ      601\n",
       "CRANBERRIES          601\n",
       "ANNA K               598\n",
       "LEWIS CAPALDI        580\n",
       "ONE REPUBLIC         580\n",
       "U 2                  580\n",
       "DIVOKEJ BILL         574\n",
       "PHIL COLLINS         570\n",
       "MILEY CYRUS          569\n",
       "SUPPORT LESBIENS     532\n",
       "LUCIE                528\n",
       "TINA TURNER          526\n",
       "DUA LIPA             515\n",
       "P!NK                 515\n",
       "PET SHOP BOYS        503\n",
       "MICHAEL JACKSON      495\n",
       "TOMÁŠ KLUS           491\n",
       "ABBA                 475\n",
       "MAREK ZTRACENÝ       464\n",
       "KAREL GOTT           456\n",
       "DERMOT KENNEDY       453\n",
       "XINDL X              439\n",
       "GEORGE EZRA          436\n",
       "HARRY STYLES         433\n",
       "MIROSLAV ŽBIRKA      425\n",
       "MARIE ROTTROVÁ       414\n",
       "BON JOVI             408\n",
       "HANA ZAGOROVÁ        408\n",
       "LINKIN PARK          399\n",
       "EARTHEATER           391\n",
       "MICHAL HRŮZA         391\n",
       "RICHARD MÜLLER       389\n",
       "IMAGINE DRAGONS      375\n",
       "MADONNA              372\n",
       "BUTY                 369\n",
       "GORILLAZ             368\n",
       "DEPECHE MODE         362\n",
       "LP                   359\n",
       "TOM GRENNAN          359\n",
       "ADAM ĎURICA          358\n",
       "CAROLINE POLACHEK    354\n",
       "ZAZ                  353\n",
       "ROLLING STONES       346\n",
       "OLYMPIC              340\n",
       "ELÁN                 334\n",
       "KRYŠTOF              328\n",
       "VÁCLAV NECKÁŘ        326\n",
       "STING                322\n",
       "ENYA                 319\n",
       "dtype: int64"
      ]
     },
     "execution_count": 11,
     "metadata": {},
     "output_type": "execute_result"
    }
   ],
   "source": [
    "df.groupby(\"interpret\").size().nlargest(60)"
   ]
  },
  {
   "cell_type": "code",
   "execution_count": 12,
   "id": "13e75cee",
   "metadata": {},
   "outputs": [
    {
     "data": {
      "text/plain": [
       "interpret                          track                  \n",
       "DERMOT KENNEDY                     KISS ME                    320\n",
       "HARRY STYLES                       AS IT WAS                  312\n",
       "MILEY CYRUS                        FLOWERS                    310\n",
       "STUDIOVÝ ORCHESTR                  ČESKÁ STÁTNÍ HYMNA         301\n",
       "LEWIS CAPALDI                      FORGET ME                  288\n",
       "KATEŘINA MARIE TICHÁ               PLAMEN                     261\n",
       "JELEN                              TOUHA A PLÁČ               248\n",
       "FRED ROBERTS                       RUNAWAY                    223\n",
       "JAMES ARTHUR                       BLINDSIDE                  213\n",
       "BERRE                              THRILL OF IT ALL           208\n",
       "ONE REPUBLIC                       WEST COAST                 204\n",
       "RAY DALTON                         DO IT AGAIN                203\n",
       "ADAM ĎURICA                        VIETOR                     201\n",
       "MIROSLAV ŽBIRKA, DAVID ŽBIRKA      NEJSI SÁM                  193\n",
       "ANNA K                             ÚDOLÍ VČEL                 191\n",
       "ONLY THE POETS                     LOOKING AT YOU             182\n",
       "PICTURE THIS                       GET ON MY LOVE             180\n",
       "ED SHEERAN                         AMERICAN TOWN              178\n",
       "MIRAI                              TENKRÁT                    178\n",
       "CHINASKI                           SMŮLA                      175\n",
       "MICHAEL SCHULTE, R3HAB             WATERFALL                  167\n",
       "JANA KIRSCHNER, MILAN ONDRÍK       LOVESTORY                  163\n",
       "ANNE-MARIE, SHANIA TWAIN           UNHEALTHY                  162\n",
       "COLDPLAY                           HIGHER POWER               160\n",
       "DECLAN J DONOVAN                   HIDEAWAY                   157\n",
       "P!NK                               RUNAWAY                    156\n",
       "REA GARVEY                         FREE LIKE THE OCEAN        156\n",
       "VOJTIK                             LOVESICK                   154\n",
       "JAX JONES, FIREBOY DML             ME AND MY GUITAR           153\n",
       "COLDPLAY, BTS                      MY UNIVERSE                149\n",
       "DAVID KUSHNER                      DAYLIGHT                   149\n",
       "JELEN                              JEŠTĚ JEDNU NOC            148\n",
       "NIALL HORAN                        MELTDOWN                   147\n",
       "DUA LIPA                           HOUDINI                    146\n",
       "TOM GRENNAN                        HOW DOES IT FEEL           146\n",
       "LOST FREQUENCIES                   THE FEELING                145\n",
       "NATHAN EVANS                       CATCH YOU WHEN YOU FALL    145\n",
       "LIGHT & LOVE                       BLUEBERRY SKY              144\n",
       "GIANT ROOKS                        SOMEBODY LIKE YOU          141\n",
       "MIRAI                              VEDLE TEBE USÍNÁM          139\n",
       "PURPL BOI                          FADING AWAY                139\n",
       "TEDDY SWIMS                        LOSE CONTROL               138\n",
       "MAEA                               FINALLY                    137\n",
       "ROBIN SCHULZ, RITA ORA, TIAGO PZK  I'LL BE THERE              134\n",
       "ELI MICHAILI & LARIS DIAM          NTL                        131\n",
       "TOM GREGORY                        FORGET SOMEBODY            131\n",
       "POETIKA                            PŮLNOC                     130\n",
       "TOMÁŠ HAVLEN                       SIVÁ                       130\n",
       "ED SHEERAN                         CELESTIAL                  128\n",
       "P!NK                               IRRELEVANT                 128\n",
       "dtype: int64"
      ]
     },
     "execution_count": 12,
     "metadata": {},
     "output_type": "execute_result"
    }
   ],
   "source": [
    "df.groupby([\"interpret\",\"track\"]).size().nlargest(50)"
   ]
  },
  {
   "cell_type": "markdown",
   "id": "b3f84fdb",
   "metadata": {},
   "source": [
    "## Kánon hlavního proudu"
   ]
  },
  {
   "cell_type": "code",
   "execution_count": 13,
   "id": "95931d65",
   "metadata": {},
   "outputs": [],
   "source": [
    "univerzalove = df.groupby(['interpret',\"track\"])['stanice'].nunique()\n",
    "univerzalove = univerzalove[univerzalove >= 3]"
   ]
  },
  {
   "cell_type": "code",
   "execution_count": 14,
   "id": "473efc9f",
   "metadata": {},
   "outputs": [
    {
     "data": {
      "text/plain": [
       "21"
      ]
     },
     "execution_count": 14,
     "metadata": {},
     "output_type": "execute_result"
    }
   ],
   "source": [
    "len(univerzalove)"
   ]
  },
  {
   "cell_type": "code",
   "execution_count": 15,
   "id": "e0cf0b25",
   "metadata": {},
   "outputs": [
    {
     "data": {
      "text/plain": [
       "Series([], Name: stanice, dtype: int64)"
      ]
     },
     "execution_count": 15,
     "metadata": {},
     "output_type": "execute_result"
    }
   ],
   "source": [
    "univerzalove[univerzalove > 3]"
   ]
  },
  {
   "cell_type": "code",
   "execution_count": 16,
   "id": "747329ba",
   "metadata": {},
   "outputs": [
    {
     "data": {
      "text/plain": [
       "interpret              track                          \n",
       "ANNABELLE              FLOWERS ON MY EYES                 3\n",
       "BEATLES                HEY JUDE                           3\n",
       "BILLIE EILISH          LUNCH                              3\n",
       "BONEY M                DADDY COOL                         3\n",
       "CELINE DION            MY HEART WILL GO ON                3\n",
       "DUA LIPA               HOUDINI                            3\n",
       "                       PHYSICAL                           3\n",
       "HARRY STYLES           AS IT WAS                          3\n",
       "LANA DEL REY           VIDEO GAMES                        3\n",
       "MADONNA                HUNG UP                            3\n",
       "MARIAH CAREY           ALL I WANT FOR CHRISTMAS IS YOU    3\n",
       "MARKÉTA IRGLOVÁ        MY ROOTS GO DEEP                   3\n",
       "MILEY CYRUS            FLOWERS                            3\n",
       "NIRVANA                COME AS YOU ARE                    3\n",
       "                       SMELLS LIKE TEEN SPIRIT            3\n",
       "OASIS                  WONDERWALL                         3\n",
       "RED HOT CHILI PEPPERS  CALIFORNICATION                    3\n",
       "ROBBIE WILLIAMS        ROCK DJ                            3\n",
       "                       SUPREME                            3\n",
       "SADE                   SMOOTH OPERATOR                    3\n",
       "STING                  ENGLISHMAN IN NEW YORK             3\n",
       "Name: stanice, dtype: int64"
      ]
     },
     "execution_count": 16,
     "metadata": {},
     "output_type": "execute_result"
    }
   ],
   "source": [
    "univerzalove.head(25)"
   ]
  },
  {
   "cell_type": "markdown",
   "id": "6928f276",
   "metadata": {},
   "source": [
    "## Mám rád"
   ]
  },
  {
   "cell_type": "code",
   "execution_count": 17,
   "id": "99c4ed56",
   "metadata": {},
   "outputs": [],
   "source": [
    "def hraje(x):\n",
    "    return df[df['interpret'].str.lower().str.contains(x.lower(), na=False)].groupby(['interpret','track','stanice']).size().nlargest(1000).head(50)"
   ]
  },
  {
   "cell_type": "code",
   "execution_count": 18,
   "id": "f4c7e5da",
   "metadata": {},
   "outputs": [
    {
     "data": {
      "text/plain": [
       "interpret                  track                         stanice    \n",
       "QUEEN, DAVID BOWIE         UNDER PRESSURE                radiozurnal    8\n",
       "DAVID BOWIE                LET'S DANCE                   dvojka         4\n",
       "LESTER BOWIE               GHOSTS (ALBERT AYLER)         vltava         4\n",
       "DAVID BOWIE                THE STARS (ARE OUT TONIGHT)   vltava         4\n",
       "                           CHINA GIRL                    dvojka         3\n",
       "                           DOLLAR DAYS                   vltava         3\n",
       "                           FAME                          dvojka         3\n",
       "                           HEROES                        radiozurnal    2\n",
       "BOWIE DAVID                CHINA GIRL                    dvojka         2\n",
       "DAVID BOWIE                GIRL LOVES ME (DAVID BOWIE)   vltava         2\n",
       "                           I CAN'T GIVE EVERYTHING AWAY  vltava         1\n",
       "                           LAZARUS                       vltava         1\n",
       "                           LET S DANCE                   dvojka         1\n",
       "BOWIE DAVID                LET´S DANCE                   dvojka         1\n",
       "DAVID BOWIE                LIFE ON MARS                  radiowave      1\n",
       "                           SPACE ODDITY                  dvojka         1\n",
       "                           SPACE ODDITY (ADMIN)          vltava         1\n",
       "                           HEROES                        radiowave      1\n",
       "                           THURSDAY S CHILD (ADMIN)      vltava         1\n",
       "                           THURSDAYS CHILD               dvojka         1\n",
       "                           VALENTINE´S DAY               dvojka         1\n",
       "DAVID BOWIE & MICK JAGGER  DANCING IN THE STREET         dvojka         1\n",
       "JAGGER MICK & BOWIE DAVID  DANCING IN THE STREET         dvojka         1\n",
       "DAVID BOWIE                ABSOLUTE BEGINNERS            dvojka         1\n",
       "QUEEN/DAVID BOWIE          UNDER PRESSURE                dvojka         1\n",
       "dtype: int64"
      ]
     },
     "execution_count": 18,
     "metadata": {},
     "output_type": "execute_result"
    }
   ],
   "source": [
    "hraje('bowie')"
   ]
  },
  {
   "cell_type": "code",
   "execution_count": 19,
   "id": "b56eda84",
   "metadata": {},
   "outputs": [
    {
     "data": {
      "text/plain": [
       "interpret                                              track                                                                        stanice    \n",
       "VLADIMÍR MIŠÍK                                         JEDNOU                                                                       radiozurnal    51\n",
       "VLADIMÍR MIŠÍK/ETC...                                  VARIACE NA RENESANČNÍ TÉMA                                                   dvojka         40\n",
       "VLADIMÍR MIŠÍK                                         VARIACE NA RENESANČNÍ TÉMA                                                   radiozurnal    34\n",
       "VLADIMÍR MIŠÍK, BLUE EFFECT                            SLUNEČNÝ HROB                                                                radiozurnal    33\n",
       "VLADIMÍR MIŠÍK                                         SLUNEČNÍ HROB                                                                dvojka         29\n",
       "                                                       JEDNOU                                                                       dvojka          9\n",
       "                                                       CO TI DÁM?                                                                   dvojka          9\n",
       "VLADIMÍR MIŠÍK/ETC...                                  STŘÍHALI DOHOLA MALÉHO CHLAPEČKA                                             dvojka          7\n",
       "VLADIMÍR MIŠÍK & ETC…                                  LADY VAMP (VLADIMÍR MIŠÍK & JAN HRUBÝ & VLADIMÍR PADRŮNĚK & VLADIMÍR MERTA)  vltava          3\n",
       "VLADIMÍR MIŠÍK                                         PO DLOUHÉM DNI                                                               vltava          3\n",
       "                                                       DĚKUJI (PETR OSTROUCHOV & DAVID STYPKA)                                      vltava          3\n",
       "ADAM MIŠÍK & VLADIMÍR MIŠÍK                            VARIACE NA RENESANČNÍ TÉMA                                                   radiozurnal     2\n",
       "VLADIMÍR MIŠÍK & BLUE SHADOWS & BLIND BOYS OF ALABAMA  ŠEDESÁTÁ LÉTA (VLADIMÍR MIŠÍK)                                               vltava          2\n",
       "ADAM MIŠÍK FEAT. BEN CRISTOVAO                         ZAPOMENOUT                                                                   radiozurnal     2\n",
       "ADAM MIŠÍK                                             JARO                                                                         radiozurnal     2\n",
       "VLADIMÍR MIŠÍK                                         CO TI DÁM                                                                    radiozurnal     2\n",
       "                                                       ANDĚLÉ (PETR OSTROUCHOV & JAN SKÁCEL)                                        vltava          2\n",
       "ADAM MIŠÍK, VLADIMÍR MIŠÍK                             VARIACE NA RENESANČNÍ TÉMA                                                   dvojka          2\n",
       "ADAM MIŠÍK X SIMA                                      BEZ TEBE                                                                     radiozurnal     2\n",
       "ADAM MIŠÍK                                             V TOBĚ                                                                       dvojka          1\n",
       "VLADIMÍR MIŠÍK                                         JEDNOHUBKY                                                                   dvojka          1\n",
       "                                                       KOUKNI NA TU FOTKU (ADMIN)                                                   vltava          1\n",
       "                                                       KOČKY MŇOUKALY NA STŘEŠE                                                     dvojka          1\n",
       "                                                       NOČNÍ OBRAZ                                                                  dvojka          1\n",
       "                                                       DVACET DEKA DUŠE                                                             dvojka          1\n",
       "                                                       STŘÍHALI DOHOLA MALÉHO CHLAPEČKA                                             dvojka          1\n",
       "                                                       VARIACE NA RENESANČNÍ TÉMA (ADMIN)                                           vltava          1\n",
       "VLADIMÍR MIŠÍK & BLUE SHADOWS & BLIND BOYS OF ALABAMA  ŠEDESÁTÁ LÉTA                                                                dvojka          1\n",
       "MIŠÍK VLADIMÍR/FLAMENGO                                JÁ A DÝM                                                                     dvojka          1\n",
       "MIŠÍK VLADIMÍR                                         LADY VAMP                                                                    dvojka          1\n",
       "VLADIMÍR MIŠÍK                                         JEDNOU (ADMIN)                                                               vltava          1\n",
       "dtype: int64"
      ]
     },
     "execution_count": 19,
     "metadata": {},
     "output_type": "execute_result"
    }
   ],
   "source": [
    "hraje('mišík')"
   ]
  },
  {
   "cell_type": "code",
   "execution_count": 20,
   "id": "4068676e",
   "metadata": {},
   "outputs": [
    {
     "data": {
      "text/plain": [
       "interpret                       track                                           stanice    \n",
       "ROLLING STONES                  MESS IT UP                                      radiozurnal    91\n",
       "                                ANGRY                                           radiozurnal    60\n",
       "                                START ME UP                                     radiozurnal    50\n",
       "                                ANGIE                                           radiozurnal    41\n",
       "                                ANYBODY SEEN MY BABY                            radiozurnal    20\n",
       "                                                                                dvojka         19\n",
       "THE ROLLING STONES              ANGIE                                           dvojka         18\n",
       "ROLLING STONES                  ANGIE                                           dvojka         11\n",
       "THE ROLLING STONES              MESS IT UP                                      dvojka         10\n",
       "ROLLING STONES                  LADY JANE                                       dvojka          8\n",
       "                                LIKE A ROLLING STONE                            dvojka          6\n",
       "THE ROLLING STONES              ANGRY                                           dvojka          6\n",
       "ROLLING STONES                  RUBY TUESDAY                                    dvojka          4\n",
       "                                AS TEARS GO BY                                  dvojka          3\n",
       "                                ANGRY                                           dvojka          3\n",
       "                                MESS IT UP ( PURPLE DISCO MACHINE REMIX)        dvojka          3\n",
       "THE ROLLING STONES              LIKE A ROLLING STONE                            dvojka          2\n",
       "                                MISS YOU                                        dvojka          2\n",
       "SLOWLY ROLLING CAMERA           LOST ORBITS (DAVE STAPLETON)                    vltava          2\n",
       "                                ILLUMINATE (DAVE STAPLETON & SACHAL VASANDANI)  vltava          2\n",
       "ROLLING STONES                  WILD HORSES                                     dvojka          2\n",
       "                                THE LAST TIME                                   dvojka          2\n",
       "                                SATISFACTION (I CAN'T GET NO)                   radiozurnal     2\n",
       "THE ROLLING STONES & LADY GAGA  SWEET SOUNDS OF HEAVEN                          dvojka          2\n",
       "ROLLING STONES                  BROWN SUGAR                                     dvojka          2\n",
       "                                GET OFF OF MY CLOUD                             dvojka          2\n",
       "                                JUMPING JACK FLASH                              dvojka          2\n",
       "                                OUT OF TIME                                     dvojka          2\n",
       "                                SATISFACTION (I CAN´T GET NO)                   dvojka          1\n",
       "ST. MAARTENS ROLLING TONES      IT'S A FEELING _2014 RECORD KICKS               radiowave       1\n",
       "ROLLING STONES                  ANGRY (BÁRCZAY LUKÁŠ)                           vltava          1\n",
       "THE ROLLING STONES              HONKY TONK WOMEN                                dvojka          1\n",
       "                                AS TEARS GO BY                                  dvojka          1\n",
       "                                ANYBODY SEEN MY BABY                            dvojka          1\n",
       "ROLLING STONES                  LET'S SPEND THE NIGHT TOGETHER                  dvojka          1\n",
       "                                LOVE IS STRONG                                  dvojka          1\n",
       "                                START ME UP                                     dvojka          1\n",
       "SLOWLY ROLLING CAMERA           FLOW                                            vltava          1\n",
       "ROLLING STONES                  WILD HORSES - ROLLING STONES                    dvojka          1\n",
       "                                WILD HORSES                                     radiozurnal     1\n",
       "                                PAINT IT BLACK                                  dvojka          1\n",
       "                                TIME IS ON MY SIDE                              dvojka          1\n",
       "                                PAINT IT, BLACK                                 dvojka          1\n",
       "                                SYMPATHY FOR THE DEVIL                          dvojka          1\n",
       "                                SATISFACTION (I CAN'T GET NO)                   dvojka          1\n",
       "                                /I CAN T GET NO / SATISFUCTION                  dvojka          1\n",
       "dtype: int64"
      ]
     },
     "execution_count": 20,
     "metadata": {},
     "output_type": "execute_result"
    }
   ],
   "source": [
    "hraje('rolling')"
   ]
  },
  {
   "cell_type": "code",
   "execution_count": 21,
   "id": "00b2138e",
   "metadata": {},
   "outputs": [
    {
     "data": {
      "text/plain": [
       "interpret  track                                               stanice    \n",
       "BOB DYLAN  KNOCKIN' ON HEAVEN'S DOOR                           dvojka         11\n",
       "           FOREVER YOUNG                                       vltava          4\n",
       "           IT TAKES A LOT TO LAUGH, IT TAKES A TRAIN TO CRY    vltava          4\n",
       "           LIKE A ROLLING STONE                                dvojka          4\n",
       "           BLOWIN IN THE WIND                                  dvojka          3\n",
       "           I WANT YOU                                          dvojka          3\n",
       "           BLACK RIDER                                         vltava          2\n",
       "           IT AIN'T ME BABE                                    vltava          2\n",
       "           MASTERS OF WAR                                      vltava          2\n",
       "           BLOWIN´ IN THE WIND (ADMIN)                         vltava          1\n",
       "           I WANT YOU (BURDA JIŘÍ)                             vltava          1\n",
       "           KNOCKIN' ON HEAVEN'S DOOR                           radiozurnal     1\n",
       "           MOTHER OF MUSES                                     vltava          1\n",
       "           MR. TAMBOURINE MAN                                  dvojka          1\n",
       "           THE CHRISTMAS BLUES (SAMMY CAHN & DAVID JACK HOLT)  vltava          1\n",
       "           THE TIMES THEY ARE A-CHANGIN'                       dvojka          1\n",
       "dtype: int64"
      ]
     },
     "execution_count": 21,
     "metadata": {},
     "output_type": "execute_result"
    }
   ],
   "source": [
    "hraje('bob dylan')"
   ]
  },
  {
   "cell_type": "code",
   "execution_count": 22,
   "id": "89ed593a",
   "metadata": {},
   "outputs": [
    {
     "data": {
      "text/plain": [
       "interpret                                track                                              stanice    \n",
       "MARTA KUBIŠOVÁ                           DEPEŠE                                             dvojka         57\n",
       "                                         NECHTE ZVONY ZNÍT                                  dvojka         49\n",
       "                                         HEJ, JUDE (HEY, JUDE)                              dvojka         43\n",
       "                                         MAGDALENA                                          dvojka         32\n",
       "                                         LOUDÁ SE PŮLMĚSÍC                                  dvojka         15\n",
       "                                         RING-O-DING                                        dvojka          8\n",
       "                                         MODLITBA PRO MARTU                                 dvojka          4\n",
       "                                         MAMA                                               dvojka          3\n",
       "                                         DOBRODRUŽSTVÍ S BOHEM PANEM                        dvojka          3\n",
       "                                         MAGDALÉNA                                          dvojka          2\n",
       "                                         S NEBÝVALOU OCHOTOU                                dvojka          2\n",
       "                                         ZDIVOČELÁ ZEMĚ                                     dvojka          2\n",
       "                                         POJĎ A MĚJ MĚ RÁD                                  dvojka          2\n",
       "                                         NEPIŠ DÁL                                          dvojka          2\n",
       "                                         S TEBOU JSEM JÁ                                    dvojka          1\n",
       "                                         STARALA SE MÁTI MÁ                                 dvojka          1\n",
       "                                         SAMA                                               dvojka          1\n",
       "                                         SEDÍM NA MĚSÍCI                                    dvojka          1\n",
       "                                         VRBA                                               dvojka          1\n",
       "                                         TULÁCKÁ (ADMIN)                                    vltava          1\n",
       "                                         TVŮJ KRÉM, TVŮJ NŮŽ, TVŮJ RŮŽENEC                  dvojka          1\n",
       "                                         VŠECHNY BOLESTI UTIŠÍ LÁSKA                        dvojka          1\n",
       "                                         ZLÝ DLOUHÝ PŮST                                    dvojka          1\n",
       "MARTA KUBIŠOVÁ & BRATŘI EBENOVÉ          PANNO BLAHOSLAVENÁ (TRAD. /ARR. BRATŘI EBENOVÉ)    vltava          1\n",
       "                                         Z NEBE POSEL VYCHÁZÍ (TRAD. /ARR. BRATŘI EBENOVÉ)  vltava          1\n",
       "                                         ŠLA MARIA DO RÁJE (MAREK EBEN)                     vltava          1\n",
       "MARTA KUBIŠOVÁ, H.VONDRÁČKOVÁ, V.NECKÁŘ  ČASY SE MĚNÍ                                       dvojka          1\n",
       "MARTA KUBIŠOVÁ, HELENA VONDRÁČKOVÁ       OH, BABY, BABY                                     dvojka          1\n",
       "MARTA KUBIŠOVÁ, WALDEMAR MATUŠKA         VÍC NECHTĚL BY SNAD ANI D´ARTAGNAN                 dvojka          1\n",
       "MARTA KUBIŠOVÁ, WHITE WOLF TREZAK        NA NA HEYA                                         dvojka          1\n",
       "MARTA KUBIŠOVÁ/VÁCLAV NECKÁŘ             RÁDA BYCH K BETLÉMU/ŠTĚSTÍ, ZDRAVÍ, POKOJ SVATÝ    dvojka          1\n",
       "MARTA KUBIŠOVÁ                           NESEM VÁM NOVINY                                   dvojka          1\n",
       "KAREL GOTT & MARTA KUBIŠOVÁ              JARMARK VE SCARBOROUGH                             dvojka          1\n",
       "MARTA KUBIŠOVÁ                           NENÍ TO LÁSKA                                      dvojka          1\n",
       "                                         DOBRODRUŽSTVÍ S BOHEM PANEM                        radiozurnal     1\n",
       "KUBIŠOVÁ MARTA                           ATLANTIS - MARTA KUBIŠOVÁ                          dvojka          1\n",
       "                                         DEJTE MI KOUSEK LOUKY - KUBIŠOVÁ MARTA             dvojka          1\n",
       "                                         DEPEŠE                                             dvojka          1\n",
       "                                         HEY JUDE                                           dvojka          1\n",
       "                                         MODLITBA PRO MARTU - MARTA KUBIŠOVÁ                dvojka          1\n",
       "                                         ČAS JE NEJVYŠŠÍ PÁN - KUBIŠOVÁ MARTA               dvojka          1\n",
       "MARTA KUBIŠOVÁ                           AŽ ÚNAVOU                                          dvojka          1\n",
       "                                         CESTA                                              dvojka          1\n",
       "                                         DENNĚ ČEKÁM                                        dvojka          1\n",
       "                                         HEJ JUDE                                           dvojka          1\n",
       "                                         MÁJ                                                dvojka          1\n",
       "                                         HEY JUDE                                           radiozurnal     1\n",
       "                                         JÁ CESTU K TOBĚ NAJDU SI                           dvojka          1\n",
       "                                         JÁ DOVEDU LHÁT                                     dvojka          1\n",
       "                                         JÁ TU S TVÁŘÍ NEMĚNNOU                             dvojka          1\n",
       "dtype: int64"
      ]
     },
     "execution_count": 22,
     "metadata": {},
     "output_type": "execute_result"
    }
   ],
   "source": [
    "hraje('kubiš')"
   ]
  },
  {
   "cell_type": "code",
   "execution_count": 23,
   "id": "2ff65499",
   "metadata": {},
   "outputs": [
    {
     "data": {
      "text/plain": [
       "interpret                  track                              stanice\n",
       "THE VELVET UNDERGROUND     ALL TOMORROW'S PARTIES (LOU REED)  vltava     2\n",
       "                           I´LL BE YOUR MIRROR (ADMIN)        vltava     1\n",
       "                           JESUS (LOU REED & DOUG YULE)       vltava     1\n",
       "VELVET UNDERGROUND & NICO  SUNDAY MORNING (BURDA JIŘÍ)        vltava     1\n",
       "dtype: int64"
      ]
     },
     "execution_count": 23,
     "metadata": {},
     "output_type": "execute_result"
    }
   ],
   "source": [
    "hraje('velvet')"
   ]
  },
  {
   "cell_type": "code",
   "execution_count": 24,
   "id": "dc5cb841",
   "metadata": {},
   "outputs": [
    {
     "data": {
      "text/plain": [
       "interpret                                                                               track                                                                                                            stanice\n",
       "STUDIOVÝ ORCHESTR                                                                       ČESKÁ STÁTNÍ HYMNA                                                                                               dvojka     301\n",
       "ORCHESTRAL MANOEUVRES IN THE DARK                                                       WALKING ON THE MILKY WAY                                                                                         dvojka      16\n",
       "EVA OLMEROVÁ & ORCHESTR GUSTAVA BROMA                                                   ČERNÁ KÁRA (JOSEF KAINAR)                                                                                        vltava       7\n",
       "                                                                                        BLUES ŽELEZNIČNÍHO MOSTU (JOSEF KAINAR)                                                                          vltava       7\n",
       "JIŘÍ SUCHÝ & JIŘÍ ŠLITR & ORCHESTR FERDINANDA HAVLÍKA                                   MISSISSIPPI (JIŘÍ ŠLITR & JIŘÍ SUCHÝ)                                                                            vltava       6\n",
       "SYMFONICKÝ ORCHESTR HLAVNÍHO MĚSTA PRAHY FOK, DIR. LIBOR PEŠEK                          VALČÍK Z FILMU OBCHOD NA KORZE (ZDENĚK LIŠKA)                                                                    vltava       6\n",
       "BOURNEMOUTH SYMPHONY ORCHESTRA, DIR. KIRILL KARABITS                                    SINFONIETTA A DUR, OP. 5/48 - 5. ČÁST, ALLEGRO GIOCOSO (SERGEJ PROKOFJEV)                                        vltava       5\n",
       "SYMFONICKÝ ORCHESTR HLAVNÍHO MĚSTA PRAHY FOK, DIR. JIŘÍ BĚLOHLÁVEK                      VÝLETY PANA BROUČKA, SUITA PRO ORCHESTR Z OPERY - 2. ČÁST, MĚSÍČNÍ VALČÍK (LEOŠ JANÁČEK)                         vltava       5\n",
       "IVAN KLÁNSKÝ & DVOŘÁKŮV KOMORNÍ ORCHESTR, DIR. VLADIMÍR VÁLEK                           MENUET Z CYKLU HUMORESQUES DE CONCERT (ÚPRAVA PRO KLAVÍR A ORCHESTR) (IGNACY JAN PADEREWSKI)                     vltava       5\n",
       "DVOŘÁKŮV KOMORNÍ ORCHESTR, DIR. MIROSLAV HOMOLKA                                        VALČÍK A KVAPÍK Z 1. DĚJSTVÍ BALETU Z POHÁDKY DO POHÁDKY (OSKAR NEDBAL)                                          vltava       5\n",
       "LAHTI SYMPHONY ORCHESTRA, DIR. OSMO VÄNSKÄ                                              SYMFONIE Č. 1 E MOLL, OP. 39 - 3. ČÁST, SCHERZO. ALLEGRO (JEAN SIBELIUS)                                         vltava       5\n",
       "SLOVENSKÝ KOMORNÍ ORCHESTR, DIR. BOHDAN WARCHAL & MUSICA BOHEMICA, DIR. JAROSLAV KRČEK  TŘI TANCE VE STARÉM SLOHU, OP. 77 - Č. 1, ALLEGRO (JAROSLAV KRČEK)                                               vltava       5\n",
       "VAN CLIBURN & CHICAGO SYMPHONY ORCHESTRA, DIR. WALTER HENDL                             KONCERT PRO KLAVÍR A ORCHESTR Č. 2 D MOLL, OP. 23 - 2. ČÁST, PRESTO GIOCOSO (EDWARD MACDOWELL)                   vltava       5\n",
       "FILHARMONICKÝ ORCHESTR - OSLO, DIR. MARISS JANSONS                                      ROMEO A JULIE, SUITA Z BALETU, OP. 64B - 1. ČÁST, LIDOVÝ TANEC (SERGEJ PROKOFJEV)                                vltava       5\n",
       "FILMHARMONIC ORCHESTRA PRAGUE, DIR. ADAM KLEMENS                                        TARANTELA, SKLADBA PRO SYMFONICKÝ ORCHESTR (VADIM PETROV)                                                        vltava       5\n",
       "JIŘÍ SUCHÝ & ORCHESTR KARLA VLACHA                                                      SLEČNA V SEDMÝ ŘADĚ (JIŘÍ ŠLITR & JIŘÍ SUCHÝ)                                                                    vltava       5\n",
       "BRUSELSKÝ FILHARMONICKÝ ORCHESTR, DIR. ALEXANDER RAHBARI                                VROLIJKE OVERTURE (VESELÁ PŘEDEHRA) (MARCEL POOT)                                                                vltava       5\n",
       "STUDIOVÝ ORCHESTR                                                                       HAUNTED BY WATERS - A RIVER RUNS THROUGH IT (REPRISE), HUDBA Z FILMU TEČE TUDY ŘEKA (MARK ISHAM)                 vltava       5\n",
       "JAROSLAVA ELIÁŠOVÁ & FILMOVÝ SYMFONICKÝ ORCHESTR, DIR. ŠTĚPÁN KONÍČEK                   SAO PAULO, HUDBA Z FILMU Z ARGENTINY DO MEXIKA (ZDENĚK LIŠKA)                                                    vltava       5\n",
       "HAKAN HARDENBERGER & LONDÝNSKÝ FILHARMONICKÝ ORCHESTR, DIR. ELGAR HOWARTH               KONCERT PRO TRUBKU, SMYČCOVÝ ORCHESTR A BASSO CONTINUO Č. 1 ES DUR - 3. ČÁST, VIVACE (JOHANN WILHELM HERTEL)     vltava       4\n",
       "SYMFONICKÝ ORCHESTR HLAVNÍHO MĚSTA PRAHY FOK, DIR. VLADIMÍR VÁLEK                       VENKOVANKA, VERZE PRO ORCHESTR (BEDŘICH SMETANA)                                                                 vltava       4\n",
       "CITY OF BIRMINGHAM SYMPHONY ORCHESTRA, DIR. SIMON RATTLE                                SCHERZO A LA RUSSE (IGOR STRAVINSKIJ)                                                                            vltava       4\n",
       "GÖTEBORSKÝ SYMFONICKÝ ORCHESTR, DIR. NEEME JÄRVI                                        MALÁ SUITA PRO ORCHESTR - 4. ČÁST, MAZURKA. ALLEGRETTO (ALEXANDR PORFIRJEVIČ BORODIN)                            vltava       4\n",
       "GÖTEBORSKÝ SYMFONICKÝ ORCHESTR, DIR. MYUNG-WHUN CHUNG                                   MAŠKARÁDA, PŘEDEHRA K OPEŘE (CARL NIELSEN)                                                                       vltava       4\n",
       "SYMFONICKÝ ORCHESTR ČESKÉHO ROZHLASU, DIR. MAREK ŠEDIVÝ                                 SYMFONIE Č. 4 F MOLL, OP. 36 - 4. VĚTA, FINALE: ALLEGRO CON FUOCO (ČÁST) (PETR ILJIČ ČAJKOVSKIJ)                 vltava       4\n",
       "                                                                                        SERENÁDA Č. 2, H 216 - 3. ČÁST, ALLEGRO CON BRIO (BOHUSLAV MARTINŮ)                                              vltava       4\n",
       "CITY OF BIRMINGHAM SYMPHONY ORCHESTRA, DIR. SIMON RATTLE                                HUDBA K DRAMATU WILLIAMA SHAKESPEARA KRÁL LEAR - 1. ČÁST, FANFARE D'OUVERTURE (CLAUDE DEBUSSY)                   vltava       4\n",
       "HANA HEGEROVÁ & ORCHESTR FERDINANDA HAVLÍKA                                             KAPKA ŽÁRLIVOSTI (JIŘÍ ŠLITR & JIŘÍ SUCHÝ)                                                                       vltava       4\n",
       "SYMFONICKÝ ORCHESTR ČESKÉHO ROZHLASU, DIR. TOMÁŠ NETOPIL                                FILHARMONICKÉ TANCE - 1. ČÁST, ALLEGRO (JAN NOVÁK)                                                               vltava       4\n",
       "NBC SYMPHONY ORCHESTRA, DIR. ARTURO TOSCANINI                                           UHERSKÝ TANEC Č. 20. E MOLL. POCO ALLEGRETTO - VIVACE (JOHANNES BRAHMS)                                          vltava       4\n",
       "FILHARMONICKÝ ORCHESTR – OSLO, DIR. MARISS JANSONS                                      ROMEO A JULIE, OP. 64 - 4. ČÁST, TANEC (SERGEJ PROKOFJEV)                                                        vltava       4\n",
       "SYMFONICKÝ ORCHESTR JIHONĚMECKÉHO ROZHLASU, DIR. JIŘÍ STÁREK                            SUITA PRO ORCHESTR A DUR, OP. 98B - Č. 5, ALLEGRO (ANTONÍN DVOŘÁK)                                               vltava       4\n",
       "NEW ZEALAND SYMPHONY ORCHESTRA, DIR. JAMES JUDD                                         FANTASIA ON GREENSLEEVES (RALPH VAUGHAN WILLIAMS)                                                                vltava       4\n",
       "SYMFONICKÝ ORCHESTR HLAVNÍHO MĚSTA PRAHY FOK, DIR. VÁCLAV SMETÁČEK                      PEER GYNT, SUITA Č. 1, OP. 46 - Č. 3, TANEC ANITRY (EDVARD GRIEG)                                                vltava       4\n",
       "GÖTEBORSKÝ SYMFONICKÝ ORCHESTR, DIR. NEEME JÄRVI                                        VARIACE PRO VELKÝ ORCHESTR, OP. 2 - FINALE. VARIATION 10. ADAGIO - ALLEGRO (MAXIMILIAN OSEJEVIČ STEINBERG)       vltava       4\n",
       "SYMFONICKÝ ORCHESTR HLAVNÍHO MĚSTA PRAHY FOK, DIR. JIŘÍ BĚLOHLÁVEK                      PRODANÁ NEVĚSTA - POLKA Z 1. DĚJSTVÍ (BEDŘICH SMETANA)                                                           vltava       4\n",
       "SAO PAULO SYMPHONY ORCHESTRA, DIR. ISAAC KARABTCHEVSKY                                  SYMFONIE Č. 1 - 3. ČÁST, SCHERZO. ALLEGRO VIVACE (HEITOR VILLA-LOBOS)                                            vltava       4\n",
       "FRANCOUZSKÝ NÁRODNÍ ROZHLASOVÝ ORCHESTR, DIR. JAMES CONLON                              FANTASTICKÁ SYMFONIE, OP. 14 - 4. ČÁST, POCHOD NA POPRAVIŠTĚ (HECTOR BERLIOZ)                                    vltava       4\n",
       "FAST FOOD ORCHESTRA                                                                     BISTRO SNŮ                                                                                                       dvojka       4\n",
       "STUDIOVÝ ORCHESTR                                                                       ONE FLEW OVER THE CUCKOO'S NEST (CLOSING THEME) (JACK NITZSCHE)                                                  vltava       4\n",
       "EVA OLMEROVÁ & ORCHESTR KARLA VLACHA                                                    POSLEDNÍ PRODUKCE (LUDĚK HULAN & RONALD KRAUS)                                                                   vltava       4\n",
       "FILIP TŮMA & DEBRECEN PHILHARMONIC ORCHESTRA, DIR. IGOR DOHOVIČ                         VOTRE TOAST, JE PEUX VOUS LE RENDRE, ÁRIE Z 2. DĚJSTVÍ OPERY CARMEN (GEORGES BIZET)                              vltava       4\n",
       "SUKŮV KOMORNÍ ORCHESTR                                                                  SYMFONIE PRO SMYČCOVÝ ORCHESTR A CEMBALO Č. 1 G DUR - 1. ČÁST, ALLEGRO (FRANTIŠEK XAVER RICHTER)                 vltava       4\n",
       "LONDON PHILHARMONIC ORCHESTRA, DIR. ENNIO MORRICONE                                     GABRIEL'S OBOE, SKLADBA Z FILMU THE MISSION (MISE) (ENNIO MORRICONE)                                             vltava       4\n",
       "SUKŮV KOMORNÍ ORCHESTR, DIR. JOSEF SUK                                                  SERENÁDA PRO SMYČCOVÝ ORCHESTR ES DUR, OP. 6 - 2. ČÁST, ALLEGRO MA NON TROPPO E GRAZIOSO (JOSEF SUK)             vltava       4\n",
       "LONDON SYMPHONY ORCHESTRA, DIR. GEOFFREY SIMON                                          ČARODĚJNÁ LÁSKA (EL AMOR BRUJO) - 8. ČÁST, RITUAL FIVE DANCE (TO DRIVE AWAY THE EVIL SPIRITS) (MANUEL DE FALLA)  vltava       4\n",
       "SYMFONICKÝ ORCHESTR HLAVNÍHO MĚSTA PRAHY FOK, DIR. VLADIMÍR VÁLEK                       SLAVNOSTNÍ PŘEDEHRA K POLOŽENÍ ZÁKLADNÍHO KAMENE NÁRODNÍHO DIVADLA (BEDŘICH SMETANA)                             vltava       4\n",
       "LONDON PHILHARMONIC ORCHESTRA, DIR. ADRIAN BOULT                                        SERENÁDA PRO SMYČCOVÝ ORCHESTR E MOLL, OP. 20 - 1. ČÁST, ALLEGRO PIACEVOLE (EDWARD ELGAR)                        vltava       4\n",
       "JOSEF SUK & PRAŽSKÝ KOMORNÍ ORCHESTR                                                    SERENÁDA PRO HOUSLE A ORCHESTR (OSKAR NEDBAL)                                                                    vltava       4\n",
       "DŽAMBO AGUŠEVI ORCHESTRA                                                                SIKIDIM (DŽAMBO´S VERSION) (FATMA SEZEN YILDIRIM & DJAMBO OZDEN & HENRY ERNST)                                   vltava       4\n",
       "dtype: int64"
      ]
     },
     "execution_count": 24,
     "metadata": {},
     "output_type": "execute_result"
    }
   ],
   "source": [
    "hraje('orchestr')"
   ]
  },
  {
   "cell_type": "code",
   "execution_count": 25,
   "id": "4704d00b",
   "metadata": {},
   "outputs": [
    {
     "data": {
      "text/plain": [
       "interpret   track                              stanice    \n",
       "KAREL KRYL  BRATŘÍČKU, ZAVÍREJ VRÁTKA          dvojka         6\n",
       "            ANDĚL                              dvojka         5\n",
       "            PÍSEŇ O ŽRÁDLE                     vltava         4\n",
       "            ANDĚL                              radiozurnal    3\n",
       "            MORITURI TE SALUTANT               dvojka         3\n",
       "            KARAVANA MRAKŮ                     dvojka         2\n",
       "            MARAT VE VANĚ                      dvojka         2\n",
       "            MARTINA                            dvojka         2\n",
       "            SAMETOVÉ JARO                      vltava         2\n",
       "            BRATŘÍČKU, ZAVÍREJ VRÁTKA          radiozurnal    1\n",
       "            BRATŘÍČKU, ZAVÍREJ VRÁTKA (ADMIN)  vltava         1\n",
       "            DĚKUJI (ADMIN)                     vltava         1\n",
       "            KRÁL A KLAUN                       dvojka         1\n",
       "            MARTINA (ADMIN)                    vltava         1\n",
       "KRYL KAREL  KRÁL A KLAUN                       dvojka         1\n",
       "            SALOME (K.KRYL/K.KRYL)             vltava         1\n",
       "dtype: int64"
      ]
     },
     "execution_count": 25,
     "metadata": {},
     "output_type": "execute_result"
    }
   ],
   "source": [
    "hraje('kryl')"
   ]
  },
  {
   "cell_type": "code",
   "execution_count": 26,
   "id": "2ef23f46",
   "metadata": {},
   "outputs": [
    {
     "data": {
      "text/html": [
       "<div>\n",
       "<style scoped>\n",
       "    .dataframe tbody tr th:only-of-type {\n",
       "        vertical-align: middle;\n",
       "    }\n",
       "\n",
       "    .dataframe tbody tr th {\n",
       "        vertical-align: top;\n",
       "    }\n",
       "\n",
       "    .dataframe thead th {\n",
       "        text-align: right;\n",
       "    }\n",
       "</style>\n",
       "<table border=\"1\" class=\"dataframe\">\n",
       "  <thead>\n",
       "    <tr style=\"text-align: right;\">\n",
       "      <th></th>\n",
       "      <th>since</th>\n",
       "      <th>id</th>\n",
       "      <th>interpret</th>\n",
       "      <th>interpret_id</th>\n",
       "      <th>track</th>\n",
       "      <th>track_id</th>\n",
       "      <th>stanice</th>\n",
       "      <th>rok</th>\n",
       "    </tr>\n",
       "  </thead>\n",
       "  <tbody>\n",
       "  </tbody>\n",
       "</table>\n",
       "</div>"
      ],
      "text/plain": [
       "Empty DataFrame\n",
       "Columns: [since, id, interpret, interpret_id, track, track_id, stanice, rok]\n",
       "Index: []"
      ]
     },
     "execution_count": 26,
     "metadata": {},
     "output_type": "execute_result"
    }
   ],
   "source": [
    "df[(df['stanice'] == 'radiozurnal') & (df['interpret'] == 'JAROMÍR NOHAVICA')]"
   ]
  },
  {
   "cell_type": "code",
   "execution_count": 27,
   "id": "ea1d1b26",
   "metadata": {},
   "outputs": [
    {
     "data": {
      "text/plain": [
       "interpret                        track                             stanice    \n",
       "JAROMÍR NOHAVICA                 STARÝ MUŽ                         dvojka         41\n",
       "                                 MÁMA MI NA KRK DALA KLÍČ          dvojka         25\n",
       "                                 KOMETA                            dvojka         23\n",
       "JAROMÍR NOHAVICA/JANA KIRSCHNER  PRVNÍ NOC V NOVÉM BYTĚ            dvojka         21\n",
       "JAROMÍR NOHAVICA                 PODEJ MI RUKU A PROJDEM VÁCLAVÁK  dvojka         11\n",
       "PETR NOHAVICA                    VINEFIELD NO. 1                   vltava          3\n",
       "                                 EVEN IF                           vltava          3\n",
       "JAROMÍR NOHAVICA, LENKA NOVÁ     MILÁČEK ŽEN A VETEŠNÍKŮ           radiozurnal     2\n",
       "JAROMÍR NOHAVICA                 LADOVSKÁ ZIMA                     dvojka          2\n",
       "                                 TĚŠÍNSKÁ                          dvojka          2\n",
       "JAROMÍR NOHAVICA - B SIDE BAND   ZATÍM CO SE KOUPEŠ                dvojka          1\n",
       "JAROMÍR NOHAVICA                 ŠNEČÍ BLUES                       dvojka          1\n",
       "                                 ZBLOUDILÝ KORÁB                   dvojka          1\n",
       "                                 ZATÍM CO SE KOUPEŠ                dvojka          1\n",
       "                                 VLAŠTOVKO LEŤ (J.NOHAVICA)        vltava          1\n",
       "                                 V PŮLNOČNÍ HODINU                 dvojka          1\n",
       "JAREK NOHAVICA                   TĚŠÍNSKÁ                          dvojka          1\n",
       "JAROMÍR NOHAVICA                 PEKLO A RÁJ                       dvojka          1\n",
       "                                 CUKRÁŘSKÁ BOSSANOVA               dvojka          1\n",
       "                                 MÁM JIZVU NA RTU                  dvojka          1\n",
       "                                 MOŽNÁ ŽE SE MÝLÍM                 dvojka          1\n",
       "                                 GRÓNSKÁ PÍSNIČKA                  dvojka          1\n",
       "                                 FOTBAL                            dvojka          1\n",
       "                                 EMPIRE STATE                      dvojka          1\n",
       "                                 DOKUD SE ZPÍVÁ                    dvojka          1\n",
       "                                 DIVOCÍ KONĚ                       dvojka          1\n",
       "                                 DARMODĚJ                          dvojka          1\n",
       "                                 CYKLISTIKA                        dvojka          1\n",
       "                                 MÁMA MI NA KRK DALA KLÍČ          vltava          1\n",
       "dtype: int64"
      ]
     },
     "execution_count": 27,
     "metadata": {},
     "output_type": "execute_result"
    }
   ],
   "source": [
    "hraje('nohavi')"
   ]
  },
  {
   "cell_type": "code",
   "execution_count": 28,
   "id": "60f2a6fb",
   "metadata": {},
   "outputs": [],
   "source": [
    "derniery = df[df['stanice'] == 'radiozurnal'].groupby('interpret')['since'].max()"
   ]
  },
  {
   "cell_type": "code",
   "execution_count": 29,
   "id": "006ffc31",
   "metadata": {},
   "outputs": [
    {
     "data": {
      "text/plain": [
       "Series([], Name: since, dtype: datetime64[ns, UTC+01:00])"
      ]
     },
     "execution_count": 29,
     "metadata": {},
     "output_type": "execute_result"
    }
   ],
   "source": [
    "derniery[derniery <= '2022-02-24'].sort_values(ascending=False).head(30)"
   ]
  },
  {
   "cell_type": "code",
   "execution_count": 30,
   "id": "c664cf0b",
   "metadata": {},
   "outputs": [
    {
     "data": {
      "text/plain": [
       "interpret        track                  stanice\n",
       "RICCHI E POVERI  MADE IN ITALY          dvojka     3\n",
       "                 SARÁ PERCHÉ TI AMO     dvojka     3\n",
       "                 ACAPULCO               dvojka     2\n",
       "                 CANZONE D'AMORE        dvojka     1\n",
       "                 CIAO ITALY,CIAO AMORE  dvojka     1\n",
       "                 MAMMA MARIA            dvojka     1\n",
       "                 VOULES VOUZ DANSER     dvojka     1\n",
       "dtype: int64"
      ]
     },
     "execution_count": 30,
     "metadata": {},
     "output_type": "execute_result"
    }
   ],
   "source": [
    "hraje('e pove')"
   ]
  },
  {
   "cell_type": "code",
   "execution_count": 31,
   "id": "eba64a14",
   "metadata": {},
   "outputs": [
    {
     "data": {
      "text/plain": [
       "interpret       track                                                      stanice  \n",
       "SUFJAN STEVENS  LONELY MAN OF WINTER (DOVEMAN MIX FT. MELISSA MARY AHERN)  radiowave    56\n",
       "                WITH MY WHOLE HEART                                        radiowave    52\n",
       "                WILL ANYBODY EVER LOVE ME                                  radiowave    51\n",
       "                VIDEO GAME                                                 radiowave    45\n",
       "                DING-A-LING-A-RING-A-LING                                  radiowave     2\n",
       "                ALL OF ME WANTS ALL OF YOU                                 radiowave     1\n",
       "                WASTE OF WHAT YOUR KIDS WONT HAVE                          radiowave     1\n",
       "dtype: int64"
      ]
     },
     "execution_count": 31,
     "metadata": {},
     "output_type": "execute_result"
    }
   ],
   "source": [
    "hraje('sufjan')"
   ]
  },
  {
   "cell_type": "code",
   "execution_count": 32,
   "id": "a4a0208a",
   "metadata": {},
   "outputs": [
    {
     "data": {
      "text/plain": [
       "interpret  track                stanice  \n",
       "GRIMES     VIOLENCE FT. I_O     radiowave    47\n",
       "           4/EM                 radiowave    43\n",
       "           WE APPRECIATE POWER  radiowave    32\n",
       "           REALITI              radiowave     1\n",
       "dtype: int64"
      ]
     },
     "execution_count": 32,
     "metadata": {},
     "output_type": "execute_result"
    }
   ],
   "source": [
    "hraje('grimes')"
   ]
  },
  {
   "cell_type": "code",
   "execution_count": 33,
   "id": "ba10ea9e",
   "metadata": {},
   "outputs": [
    {
     "data": {
      "text/plain": [
       "interpret  track                    stanice  \n",
       "MIDI LIDI  NA TO NESMÍŠ ZAPOMENOUT  radiowave    1\n",
       "dtype: int64"
      ]
     },
     "execution_count": 33,
     "metadata": {},
     "output_type": "execute_result"
    }
   ],
   "source": [
    "hraje('midi lidi')"
   ]
  },
  {
   "cell_type": "code",
   "execution_count": 34,
   "id": "742cb4b5",
   "metadata": {},
   "outputs": [
    {
     "data": {
      "text/plain": [
       "Series([], dtype: int64)"
      ]
     },
     "execution_count": 34,
     "metadata": {},
     "output_type": "execute_result"
    }
   ],
   "source": [
    "hraje('kazety')"
   ]
  },
  {
   "cell_type": "code",
   "execution_count": 35,
   "id": "cd816c76",
   "metadata": {},
   "outputs": [
    {
     "data": {
      "text/plain": [
       "interpret  track                                                                                      stanice  \n",
       "MARGO      THE FASCINATING STORY OF TSAR NICHOLAS AND WHAT HAPPENED TO OUR INTERPOLITICAL FRIENDSHIP  radiowave    68\n",
       "           A WELL TRAVELED GENTLEMAN MR. PARTESH HAVING A DRINK ON THE 96TH FLOOR, WHAT A VIEW!       radiowave    50\n",
       "dtype: int64"
      ]
     },
     "execution_count": 35,
     "metadata": {},
     "output_type": "execute_result"
    }
   ],
   "source": [
    "hraje('margo')"
   ]
  },
  {
   "cell_type": "code",
   "execution_count": 36,
   "id": "9dc7fc91",
   "metadata": {},
   "outputs": [
    {
     "data": {
      "text/plain": [
       "interpret  track          stanice  \n",
       "VENTOLIN   POSUN ČASU     radiowave    22\n",
       "           SUPERSONIK     radiowave    15\n",
       "           DISCO SCIENCE  radiowave    11\n",
       "           PŮJDEME VEN    radiowave     2\n",
       "dtype: int64"
      ]
     },
     "execution_count": 36,
     "metadata": {},
     "output_type": "execute_result"
    }
   ],
   "source": [
    "hraje('ventol')"
   ]
  },
  {
   "cell_type": "code",
   "execution_count": 37,
   "id": "a61cebb1",
   "metadata": {},
   "outputs": [
    {
     "data": {
      "text/plain": [
       "interpret   track                                        stanice  \n",
       "POST-HUDBA  BEZPEČÍ A KLID                               radiowave    24\n",
       "            DO PRÁCE PŘES NUSELÁK, Z PRÁCE PŘES NUSELÁK  vltava        2\n",
       "            PRVNÍ SNÍH V PODOLÍ                          vltava        2\n",
       "            BEZPEČÍ A KLID                               vltava        1\n",
       "            POŘÁD STEJNÝ POUŠTĚ                          radiowave     1\n",
       "            PŘÍSTAVY                                     radiowave     1\n",
       "dtype: int64"
      ]
     },
     "execution_count": 37,
     "metadata": {},
     "output_type": "execute_result"
    }
   ],
   "source": [
    "hraje('post-hudb')"
   ]
  },
  {
   "cell_type": "code",
   "execution_count": 38,
   "id": "528b1042",
   "metadata": {},
   "outputs": [
    {
     "data": {
      "text/plain": [
       "interpret          track                                                 stanice  \n",
       "CAROLINE POLACHEK  SO COLD YOU'RE HURTING MY FEELINGS                    radiowave    78\n",
       "                   WELCOME TO MY ISLAND                                  radiowave    74\n",
       "                   SMOKE                                                 radiowave    73\n",
       "                   DANG                                                  radiowave    63\n",
       "                   BUNNY IS A RIDER                                      radiowave    54\n",
       "                   PANG                                                  radiowave     6\n",
       "                   BLOOD AND BUTTER (CAROLINE POLACHEK & DANNY L HARLE)  vltava        4\n",
       "                   OCEAN OF TEARS                                        radiowave     1\n",
       "                   SO HOT YOURE HURTING MY FEELINGS                      radiowave     1\n",
       "dtype: int64"
      ]
     },
     "execution_count": 38,
     "metadata": {},
     "output_type": "execute_result"
    }
   ],
   "source": [
    "hraje('polachek')"
   ]
  },
  {
   "cell_type": "code",
   "execution_count": 39,
   "id": "16e33c31",
   "metadata": {},
   "outputs": [
    {
     "data": {
      "text/plain": [
       "interpret  track                stanice  \n",
       "GLEB       ALIBABABIGBASS       radiowave    73\n",
       "           WORKIN WORKIN        radiowave    29\n",
       "           GAUČ STORYTELLING    radiowave    17\n",
       "           ZEŠLACH CRUNK        radiowave    15\n",
       "           BUDEME TAM FT. VI3E  radiowave     1\n",
       "           GO GO GO             radiowave     1\n",
       "           ODZEMOK              radiowave     1\n",
       "           ZZZ                  radiowave     1\n",
       "dtype: int64"
      ]
     },
     "execution_count": 39,
     "metadata": {},
     "output_type": "execute_result"
    }
   ],
   "source": [
    "hraje('gleb')"
   ]
  },
  {
   "cell_type": "code",
   "execution_count": 40,
   "id": "e28344ed",
   "metadata": {},
   "outputs": [
    {
     "data": {
      "text/html": [
       "<div>\n",
       "<style scoped>\n",
       "    .dataframe tbody tr th:only-of-type {\n",
       "        vertical-align: middle;\n",
       "    }\n",
       "\n",
       "    .dataframe tbody tr th {\n",
       "        vertical-align: top;\n",
       "    }\n",
       "\n",
       "    .dataframe thead th {\n",
       "        text-align: right;\n",
       "    }\n",
       "</style>\n",
       "<table border=\"1\" class=\"dataframe\">\n",
       "  <thead>\n",
       "    <tr style=\"text-align: right;\">\n",
       "      <th></th>\n",
       "      <th>since</th>\n",
       "      <th>id</th>\n",
       "      <th>interpret</th>\n",
       "      <th>interpret_id</th>\n",
       "      <th>track</th>\n",
       "      <th>track_id</th>\n",
       "      <th>stanice</th>\n",
       "      <th>rok</th>\n",
       "    </tr>\n",
       "  </thead>\n",
       "  <tbody>\n",
       "  </tbody>\n",
       "</table>\n",
       "</div>"
      ],
      "text/plain": [
       "Empty DataFrame\n",
       "Columns: [since, id, interpret, interpret_id, track, track_id, stanice, rok]\n",
       "Index: []"
      ]
     },
     "execution_count": 40,
     "metadata": {},
     "output_type": "execute_result"
    }
   ],
   "source": [
    "df[(df['interpret'] == 'GLEB ZOO') & (df['stanice'] == 'dvojka')]"
   ]
  },
  {
   "cell_type": "code",
   "execution_count": 41,
   "id": "bef4a2fd",
   "metadata": {},
   "outputs": [
    {
     "data": {
      "text/html": [
       "<div>\n",
       "<style scoped>\n",
       "    .dataframe tbody tr th:only-of-type {\n",
       "        vertical-align: middle;\n",
       "    }\n",
       "\n",
       "    .dataframe tbody tr th {\n",
       "        vertical-align: top;\n",
       "    }\n",
       "\n",
       "    .dataframe thead th {\n",
       "        text-align: right;\n",
       "    }\n",
       "</style>\n",
       "<table border=\"1\" class=\"dataframe\">\n",
       "  <thead>\n",
       "    <tr style=\"text-align: right;\">\n",
       "      <th></th>\n",
       "      <th>since</th>\n",
       "      <th>id</th>\n",
       "      <th>interpret</th>\n",
       "      <th>interpret_id</th>\n",
       "      <th>track</th>\n",
       "      <th>track_id</th>\n",
       "      <th>stanice</th>\n",
       "      <th>rok</th>\n",
       "    </tr>\n",
       "  </thead>\n",
       "  <tbody>\n",
       "  </tbody>\n",
       "</table>\n",
       "</div>"
      ],
      "text/plain": [
       "Empty DataFrame\n",
       "Columns: [since, id, interpret, interpret_id, track, track_id, stanice, rok]\n",
       "Index: []"
      ]
     },
     "execution_count": 41,
     "metadata": {},
     "output_type": "execute_result"
    }
   ],
   "source": [
    "df[(df['interpret'] == 'VENTOLIN') & (df['stanice'] == 'dvojka')]"
   ]
  },
  {
   "cell_type": "code",
   "execution_count": 42,
   "id": "c3f06c43",
   "metadata": {},
   "outputs": [
    {
     "data": {
      "text/html": [
       "<div>\n",
       "<style scoped>\n",
       "    .dataframe tbody tr th:only-of-type {\n",
       "        vertical-align: middle;\n",
       "    }\n",
       "\n",
       "    .dataframe tbody tr th {\n",
       "        vertical-align: top;\n",
       "    }\n",
       "\n",
       "    .dataframe thead th {\n",
       "        text-align: right;\n",
       "    }\n",
       "</style>\n",
       "<table border=\"1\" class=\"dataframe\">\n",
       "  <thead>\n",
       "    <tr style=\"text-align: right;\">\n",
       "      <th></th>\n",
       "      <th>since</th>\n",
       "      <th>id</th>\n",
       "      <th>interpret</th>\n",
       "      <th>interpret_id</th>\n",
       "      <th>track</th>\n",
       "      <th>track_id</th>\n",
       "      <th>stanice</th>\n",
       "      <th>rok</th>\n",
       "    </tr>\n",
       "  </thead>\n",
       "  <tbody>\n",
       "  </tbody>\n",
       "</table>\n",
       "</div>"
      ],
      "text/plain": [
       "Empty DataFrame\n",
       "Columns: [since, id, interpret, interpret_id, track, track_id, stanice, rok]\n",
       "Index: []"
      ]
     },
     "execution_count": 42,
     "metadata": {},
     "output_type": "execute_result"
    }
   ],
   "source": [
    "df[(df['interpret'] == 'MIDI LIDI') & (df['stanice'] == 'dvojka')]"
   ]
  },
  {
   "cell_type": "code",
   "execution_count": 43,
   "id": "c34e2caa",
   "metadata": {},
   "outputs": [
    {
     "data": {
      "text/html": [
       "<div>\n",
       "<style scoped>\n",
       "    .dataframe tbody tr th:only-of-type {\n",
       "        vertical-align: middle;\n",
       "    }\n",
       "\n",
       "    .dataframe tbody tr th {\n",
       "        vertical-align: top;\n",
       "    }\n",
       "\n",
       "    .dataframe thead th {\n",
       "        text-align: right;\n",
       "    }\n",
       "</style>\n",
       "<table border=\"1\" class=\"dataframe\">\n",
       "  <thead>\n",
       "    <tr style=\"text-align: right;\">\n",
       "      <th></th>\n",
       "      <th>since</th>\n",
       "      <th>id</th>\n",
       "      <th>interpret</th>\n",
       "      <th>interpret_id</th>\n",
       "      <th>track</th>\n",
       "      <th>track_id</th>\n",
       "      <th>stanice</th>\n",
       "      <th>rok</th>\n",
       "    </tr>\n",
       "  </thead>\n",
       "  <tbody>\n",
       "    <tr>\n",
       "      <th>128911</th>\n",
       "      <td>2024-04-18 22:50:17+01:00</td>\n",
       "      <td>20238895</td>\n",
       "      <td>RADIOHEAD</td>\n",
       "      <td>1267</td>\n",
       "      <td>CREEP</td>\n",
       "      <td>42843</td>\n",
       "      <td>dvojka</td>\n",
       "      <td>2024</td>\n",
       "    </tr>\n",
       "  </tbody>\n",
       "</table>\n",
       "</div>"
      ],
      "text/plain": [
       "                           since        id  interpret  interpret_id  track  \\\n",
       "128911 2024-04-18 22:50:17+01:00  20238895  RADIOHEAD          1267  CREEP   \n",
       "\n",
       "        track_id stanice   rok  \n",
       "128911     42843  dvojka  2024  "
      ]
     },
     "execution_count": 43,
     "metadata": {},
     "output_type": "execute_result"
    }
   ],
   "source": [
    "df[(df['interpret'] == 'RADIOHEAD') & (df['stanice'] == 'dvojka')]"
   ]
  },
  {
   "cell_type": "code",
   "execution_count": 44,
   "id": "28020d05",
   "metadata": {},
   "outputs": [
    {
     "data": {
      "text/plain": [
       "interpret                      track                                    stanice    \n",
       "TAYLOR SWIFT                   CRUEL SUMMER                             radiozurnal    76\n",
       "                               I CAN SEE YOU                            radiozurnal    60\n",
       "TAYLOR SWIFT, POST MALONE      FORTNIGHT                                radiozurnal    30\n",
       "TAYLOR SWIFT                   EXILE FEAT. BON IVER                     radiowave      16\n",
       "TAYLOR SWIFT FEAT.POST MALONE  FORTNIGHT                                dvojka         11\n",
       "TAYLOR SWIFT                   ANTI-HERO                                dvojka          5\n",
       "                               IS IT OVER NOW                           dvojka          4\n",
       "                               SHAKE IT OFF                             radiozurnal     4\n",
       "                               LAVENDER HAZE                            dvojka          3\n",
       "TAYLOR SWIFT FEAT. ICE SPICE   KARMA                                    dvojka          3\n",
       "TAYLOR SWIFT                   CRUEL SUMMER                             dvojka          3\n",
       "                               ANTI-HERO                                radiozurnal     2\n",
       "                               DON'T BLAME ME                           dvojka          2\n",
       "                               LAST CHRISTMAS                           dvojka          1\n",
       "                               BLANK SPACE                              dvojka          1\n",
       "                               I CAN DO IT WITH A BROKEN HEART          dvojka          1\n",
       "                               TEARDROPS ON MY GUITAR                   dvojka          1\n",
       "                               WE ARE NEVER EVER GETTING BACK TOGETHER  dvojka          1\n",
       "TAYLOR SWIFT FEAT. BON IVER    EXILE                                    dvojka          1\n",
       "TAYLOR SWIFT                   CARDIGAN                                 dvojka          1\n",
       "                               BAD BLOOD                                dvojka          1\n",
       "TAYLOR SWIFT FEAT.POST MALONE  FORTNIGHT                                radiozurnal     1\n",
       "TAYLOR SWIFT                   OUR SONG                                 dvojka          1\n",
       "dtype: int64"
      ]
     },
     "execution_count": 44,
     "metadata": {},
     "output_type": "execute_result"
    }
   ],
   "source": [
    "hraje('taylor swift')"
   ]
  },
  {
   "cell_type": "code",
   "execution_count": 45,
   "id": "1ac9e275",
   "metadata": {},
   "outputs": [
    {
     "data": {
      "text/plain": [
       "interpret  track                                    stanice  \n",
       "NĚCO NĚCO  CHYBY                                    radiowave    99\n",
       "           CO VLASTNĚ CHCEŠ II                      radiowave    91\n",
       "           ROVINA                                   radiowave    62\n",
       "           CO VLASTNĚ CHCEŠ                         radiowave    43\n",
       "           MEZERY (TOMÁŠ TKÁČ & ALŽBĚTA TRUSINOVÁ)  vltava        1\n",
       "dtype: int64"
      ]
     },
     "execution_count": 45,
     "metadata": {},
     "output_type": "execute_result"
    }
   ],
   "source": [
    "hraje('něco něco')"
   ]
  },
  {
   "cell_type": "code",
   "execution_count": 46,
   "id": "51cad1b9",
   "metadata": {},
   "outputs": [
    {
     "data": {
      "text/plain": [
       "interpret                  track                            stanice\n",
       "ELEFTERIADU MARTHA A TENA  HRAJTE SWING                     dvojka     1\n",
       "MARTA & TENA ELEFTERIADU   SULEJMON                         dvojka     1\n",
       "MARTHA A TENA ELEFTERIADU  VELKÁ CENA                       dvojka     1\n",
       "MARTHA ELEFTERIADU         PROČ PŘICHÁZÍŠ TAK POZDĚ, LÁSKO  dvojka     1\n",
       "dtype: int64"
      ]
     },
     "execution_count": 46,
     "metadata": {},
     "output_type": "execute_result"
    }
   ],
   "source": [
    "hraje('elefteriadu')"
   ]
  },
  {
   "cell_type": "code",
   "execution_count": 47,
   "id": "37d4a437",
   "metadata": {},
   "outputs": [
    {
     "data": {
      "text/plain": [
       "Series([], dtype: int64)"
      ]
     },
     "execution_count": 47,
     "metadata": {},
     "output_type": "execute_result"
    }
   ],
   "source": [
    "hraje('of montreal')"
   ]
  },
  {
   "cell_type": "code",
   "execution_count": 48,
   "id": "000c552c",
   "metadata": {},
   "outputs": [
    {
     "data": {
      "text/plain": [
       "interpret           track                                    stanice  \n",
       "THE MOUNTAIN GOATS  ANDREW ELDRITCH IS MOVING BACK TO LEEDS  radiowave    1\n",
       "                    DAMN THESE VAMPIRES                      radiowave    1\n",
       "dtype: int64"
      ]
     },
     "execution_count": 48,
     "metadata": {},
     "output_type": "execute_result"
    }
   ],
   "source": [
    "hraje('mountain goats')"
   ]
  },
  {
   "cell_type": "code",
   "execution_count": 49,
   "id": "12aa7d48",
   "metadata": {},
   "outputs": [
    {
     "data": {
      "text/plain": [
       "interpret                              track                                                                              stanice    \n",
       "NICK CAVE, KYLIE MINOGUE               WHERE THE WILD ROSES GROW                                                          radiozurnal    73\n",
       "NICK CAVE & KYLIE MINOQUE              WHERE THE WILD ROSES GROW                                                          dvojka         20\n",
       "NICK CAVE AND THE BAD SEEDS            WE NO WHO U R (NICK CAVE & WARREN ELLIS)                                           vltava          3\n",
       "NICK CAVE                              SAD WATERS                                                                         vltava          2\n",
       "NICK CAVE & WARREN ELLIS               CARNAGE                                                                            vltava          2\n",
       "                                       LAVENDER FIELDS                                                                    vltava          2\n",
       "NICK CAVE                              IDIOT PRAYER                                                                       vltava          1\n",
       "                                       PALACES OF MONTEZUMA (NICK CAVE & WARREN ELLIS & MARTYN P. CASEY & JIM SCLAVUNOS)  vltava          1\n",
       "NICK CAVE & KYLIE MINOQUE              WHERE THE WILD ROSES GROW (HUDEBNÍ REDAKTOR PL)                                    vltava          1\n",
       "NICK CAVE & THE BAD SEEDS              DO YOU LOVE ME? (ADMIN)                                                            vltava          1\n",
       "                                       LONG DARK NIGHT                                                                    radiowave       1\n",
       "                                       RED RIGHT HAND (PETR JUNGMANN)                                                     vltava          1\n",
       "                                       SUPERNATURALLY                                                                     radiowave       1\n",
       "                                       WONDERFUL LIFE                                                                     dvojka          1\n",
       "NICK CAVE & THE BAD SEEDS & PJ HARVEY  HENRY LEE                                                                          dvojka          1\n",
       "dtype: int64"
      ]
     },
     "execution_count": 49,
     "metadata": {},
     "output_type": "execute_result"
    }
   ],
   "source": [
    "hraje('nick cave')"
   ]
  },
  {
   "cell_type": "markdown",
   "id": "e8eab329",
   "metadata": {},
   "source": [
    "## Hledání písní"
   ]
  },
  {
   "cell_type": "code",
   "execution_count": 50,
   "id": "845a2ca5",
   "metadata": {},
   "outputs": [
    {
     "data": {
      "text/html": [
       "<div>\n",
       "<style scoped>\n",
       "    .dataframe tbody tr th:only-of-type {\n",
       "        vertical-align: middle;\n",
       "    }\n",
       "\n",
       "    .dataframe tbody tr th {\n",
       "        vertical-align: top;\n",
       "    }\n",
       "\n",
       "    .dataframe thead th {\n",
       "        text-align: right;\n",
       "    }\n",
       "</style>\n",
       "<table border=\"1\" class=\"dataframe\">\n",
       "  <thead>\n",
       "    <tr style=\"text-align: right;\">\n",
       "      <th></th>\n",
       "      <th>interpret</th>\n",
       "      <th>track</th>\n",
       "    </tr>\n",
       "  </thead>\n",
       "  <tbody>\n",
       "  </tbody>\n",
       "</table>\n",
       "</div>"
      ],
      "text/plain": [
       "Empty DataFrame\n",
       "Columns: [interpret, track]\n",
       "Index: []"
      ]
     },
     "execution_count": 50,
     "metadata": {},
     "output_type": "execute_result"
    }
   ],
   "source": [
    "df[df['track'].str.lower().str.contains('vražd',na=False)][['interpret','track']].drop_duplicates()"
   ]
  },
  {
   "cell_type": "markdown",
   "id": "9fd4fd29",
   "metadata": {},
   "source": [
    "## Žebříček pro článek"
   ]
  },
  {
   "cell_type": "code",
   "execution_count": 51,
   "id": "88212d2f",
   "metadata": {},
   "outputs": [],
   "source": [
    "df['den'] = df['since'].dt.dayofyear"
   ]
  },
  {
   "cell_type": "code",
   "execution_count": 52,
   "id": "1f30425a",
   "metadata": {},
   "outputs": [
    {
     "data": {
      "text/plain": [
       "310"
      ]
     },
     "execution_count": 52,
     "metadata": {},
     "output_type": "execute_result"
    }
   ],
   "source": [
    "df['den'].nunique()"
   ]
  },
  {
   "cell_type": "code",
   "execution_count": 53,
   "id": "8ebfdd0e",
   "metadata": {},
   "outputs": [],
   "source": [
    "top10rz = pd.DataFrame(df[(df['stanice'] == 'radiozurnal') & (df['rok'] == 2023)].groupby('interpret')['id'].nunique().nlargest(6))"
   ]
  },
  {
   "cell_type": "code",
   "execution_count": 54,
   "id": "694ca03c",
   "metadata": {},
   "outputs": [
    {
     "data": {
      "text/plain": [
       "Index(['since', 'id', 'interpret', 'interpret_id', 'track', 'track_id',\n",
       "       'stanice', 'rok', 'den'],\n",
       "      dtype='object')"
      ]
     },
     "execution_count": 54,
     "metadata": {},
     "output_type": "execute_result"
    }
   ],
   "source": [
    "df.columns"
   ]
  },
  {
   "cell_type": "code",
   "execution_count": 55,
   "id": "e24fb73f",
   "metadata": {},
   "outputs": [
    {
     "data": {
      "text/html": [
       "<div>\n",
       "<style scoped>\n",
       "    .dataframe tbody tr th:only-of-type {\n",
       "        vertical-align: middle;\n",
       "    }\n",
       "\n",
       "    .dataframe tbody tr th {\n",
       "        vertical-align: top;\n",
       "    }\n",
       "\n",
       "    .dataframe thead th {\n",
       "        text-align: right;\n",
       "    }\n",
       "</style>\n",
       "<table border=\"1\" class=\"dataframe\">\n",
       "  <thead>\n",
       "    <tr style=\"text-align: right;\">\n",
       "      <th></th>\n",
       "      <th>id</th>\n",
       "    </tr>\n",
       "    <tr>\n",
       "      <th>interpret</th>\n",
       "      <th></th>\n",
       "    </tr>\n",
       "  </thead>\n",
       "  <tbody>\n",
       "    <tr>\n",
       "      <th>ROBBIE WILLIAMS</th>\n",
       "      <td>160</td>\n",
       "    </tr>\n",
       "    <tr>\n",
       "      <th>R.E.M.</th>\n",
       "      <td>154</td>\n",
       "    </tr>\n",
       "    <tr>\n",
       "      <th>ED SHEERAN</th>\n",
       "      <td>153</td>\n",
       "    </tr>\n",
       "    <tr>\n",
       "      <th>COLDPLAY</th>\n",
       "      <td>144</td>\n",
       "    </tr>\n",
       "    <tr>\n",
       "      <th>U 2</th>\n",
       "      <td>144</td>\n",
       "    </tr>\n",
       "    <tr>\n",
       "      <th>BRYAN ADAMS</th>\n",
       "      <td>136</td>\n",
       "    </tr>\n",
       "  </tbody>\n",
       "</table>\n",
       "</div>"
      ],
      "text/plain": [
       "                  id\n",
       "interpret           \n",
       "ROBBIE WILLIAMS  160\n",
       "R.E.M.           154\n",
       "ED SHEERAN       153\n",
       "COLDPLAY         144\n",
       "U 2              144\n",
       "BRYAN ADAMS      136"
      ]
     },
     "execution_count": 55,
     "metadata": {},
     "output_type": "execute_result"
    }
   ],
   "source": [
    "top10rz"
   ]
  },
  {
   "cell_type": "code",
   "execution_count": 56,
   "id": "627b2891",
   "metadata": {},
   "outputs": [],
   "source": [
    "top10rz = top10rz.reset_index()"
   ]
  },
  {
   "cell_type": "code",
   "execution_count": 57,
   "id": "71d6bfbb",
   "metadata": {},
   "outputs": [
    {
     "data": {
      "text/html": [
       "<div>\n",
       "<style scoped>\n",
       "    .dataframe tbody tr th:only-of-type {\n",
       "        vertical-align: middle;\n",
       "    }\n",
       "\n",
       "    .dataframe tbody tr th {\n",
       "        vertical-align: top;\n",
       "    }\n",
       "\n",
       "    .dataframe thead th {\n",
       "        text-align: right;\n",
       "    }\n",
       "</style>\n",
       "<table border=\"1\" class=\"dataframe\">\n",
       "  <thead>\n",
       "    <tr style=\"text-align: right;\">\n",
       "      <th></th>\n",
       "      <th>interpret</th>\n",
       "      <th>id</th>\n",
       "    </tr>\n",
       "  </thead>\n",
       "  <tbody>\n",
       "    <tr>\n",
       "      <th>0</th>\n",
       "      <td>ROBBIE WILLIAMS</td>\n",
       "      <td>160</td>\n",
       "    </tr>\n",
       "    <tr>\n",
       "      <th>1</th>\n",
       "      <td>R.E.M.</td>\n",
       "      <td>154</td>\n",
       "    </tr>\n",
       "    <tr>\n",
       "      <th>2</th>\n",
       "      <td>ED SHEERAN</td>\n",
       "      <td>153</td>\n",
       "    </tr>\n",
       "    <tr>\n",
       "      <th>3</th>\n",
       "      <td>COLDPLAY</td>\n",
       "      <td>144</td>\n",
       "    </tr>\n",
       "    <tr>\n",
       "      <th>4</th>\n",
       "      <td>U 2</td>\n",
       "      <td>144</td>\n",
       "    </tr>\n",
       "    <tr>\n",
       "      <th>5</th>\n",
       "      <td>BRYAN ADAMS</td>\n",
       "      <td>136</td>\n",
       "    </tr>\n",
       "  </tbody>\n",
       "</table>\n",
       "</div>"
      ],
      "text/plain": [
       "         interpret   id\n",
       "0  ROBBIE WILLIAMS  160\n",
       "1           R.E.M.  154\n",
       "2       ED SHEERAN  153\n",
       "3         COLDPLAY  144\n",
       "4              U 2  144\n",
       "5      BRYAN ADAMS  136"
      ]
     },
     "execution_count": 57,
     "metadata": {},
     "output_type": "execute_result"
    }
   ],
   "source": [
    "top10rz"
   ]
  },
  {
   "cell_type": "code",
   "execution_count": 58,
   "id": "3db7a2ab",
   "metadata": {},
   "outputs": [],
   "source": [
    "dni2023 = df[df['rok'] == 2023]['den'].nunique()"
   ]
  },
  {
   "cell_type": "code",
   "execution_count": 59,
   "id": "c83b1495",
   "metadata": {},
   "outputs": [],
   "source": [
    "top10rz['denne'] = top10rz['id'] / dni2023"
   ]
  },
  {
   "cell_type": "code",
   "execution_count": 60,
   "id": "e490d8d8",
   "metadata": {},
   "outputs": [],
   "source": [
    "top10rz['denne'] = top10rz['denne'].apply(lambda x: round(x, 2))"
   ]
  },
  {
   "cell_type": "code",
   "execution_count": 61,
   "id": "e4fdd3c3",
   "metadata": {},
   "outputs": [],
   "source": [
    "top10rz['Písní'] = top10rz['interpret'].apply(lambda x: df[(df['stanice'] == 'radiozurnal') & (df['rok'] == 2023) & (df['interpret'] == x)]['track'].nunique())"
   ]
  },
  {
   "cell_type": "code",
   "execution_count": 62,
   "id": "af11e292",
   "metadata": {},
   "outputs": [
    {
     "data": {
      "text/html": [
       "<div>\n",
       "<style scoped>\n",
       "    .dataframe tbody tr th:only-of-type {\n",
       "        vertical-align: middle;\n",
       "    }\n",
       "\n",
       "    .dataframe tbody tr th {\n",
       "        vertical-align: top;\n",
       "    }\n",
       "\n",
       "    .dataframe thead th {\n",
       "        text-align: right;\n",
       "    }\n",
       "</style>\n",
       "<table border=\"1\" class=\"dataframe\">\n",
       "  <thead>\n",
       "    <tr style=\"text-align: right;\">\n",
       "      <th></th>\n",
       "      <th>interpret</th>\n",
       "      <th>id</th>\n",
       "      <th>denne</th>\n",
       "      <th>Písní</th>\n",
       "    </tr>\n",
       "  </thead>\n",
       "  <tbody>\n",
       "    <tr>\n",
       "      <th>0</th>\n",
       "      <td>ROBBIE WILLIAMS</td>\n",
       "      <td>160</td>\n",
       "      <td>2.25</td>\n",
       "      <td>12</td>\n",
       "    </tr>\n",
       "    <tr>\n",
       "      <th>1</th>\n",
       "      <td>R.E.M.</td>\n",
       "      <td>154</td>\n",
       "      <td>2.17</td>\n",
       "      <td>11</td>\n",
       "    </tr>\n",
       "    <tr>\n",
       "      <th>2</th>\n",
       "      <td>ED SHEERAN</td>\n",
       "      <td>153</td>\n",
       "      <td>2.15</td>\n",
       "      <td>10</td>\n",
       "    </tr>\n",
       "    <tr>\n",
       "      <th>3</th>\n",
       "      <td>COLDPLAY</td>\n",
       "      <td>144</td>\n",
       "      <td>2.03</td>\n",
       "      <td>12</td>\n",
       "    </tr>\n",
       "    <tr>\n",
       "      <th>4</th>\n",
       "      <td>U 2</td>\n",
       "      <td>144</td>\n",
       "      <td>2.03</td>\n",
       "      <td>11</td>\n",
       "    </tr>\n",
       "    <tr>\n",
       "      <th>5</th>\n",
       "      <td>BRYAN ADAMS</td>\n",
       "      <td>136</td>\n",
       "      <td>1.92</td>\n",
       "      <td>12</td>\n",
       "    </tr>\n",
       "  </tbody>\n",
       "</table>\n",
       "</div>"
      ],
      "text/plain": [
       "         interpret   id  denne  Písní\n",
       "0  ROBBIE WILLIAMS  160   2.25     12\n",
       "1           R.E.M.  154   2.17     11\n",
       "2       ED SHEERAN  153   2.15     10\n",
       "3         COLDPLAY  144   2.03     12\n",
       "4              U 2  144   2.03     11\n",
       "5      BRYAN ADAMS  136   1.92     12"
      ]
     },
     "execution_count": 62,
     "metadata": {},
     "output_type": "execute_result"
    }
   ],
   "source": [
    "top10rz"
   ]
  },
  {
   "cell_type": "code",
   "execution_count": 63,
   "id": "1bf098b8",
   "metadata": {},
   "outputs": [],
   "source": [
    "hezke_nazvy = {\"ROBBIE WILLIAMS\": \"Robbie Williams\", \"CHINASKI\": \"Chinaski\", \"ED SHEERAN\": \"Ed Sheeran\", \"U 2\": \"U2\", \"COLDPLAY\": \"Coldplay\", \"P!NK\": \"P!nk\", \"ONE REPUBLIC\": \"One Republic\", \"ANETA LANGEROVÁ\": \"Aneta Langerová\", \"ADELE\": \"Adele\", \"ROXETTE\": \"Roxette\", \"CRANBERRIES\": \"Cranberries\"}"
   ]
  },
  {
   "cell_type": "code",
   "execution_count": 64,
   "id": "b61e8937",
   "metadata": {},
   "outputs": [],
   "source": [
    "top10rz['interpret'] = top10rz['interpret'].replace(hezke_nazvy)"
   ]
  },
  {
   "cell_type": "code",
   "execution_count": 65,
   "id": "4eb85ab1",
   "metadata": {},
   "outputs": [
    {
     "data": {
      "text/html": [
       "<div>\n",
       "<style scoped>\n",
       "    .dataframe tbody tr th:only-of-type {\n",
       "        vertical-align: middle;\n",
       "    }\n",
       "\n",
       "    .dataframe tbody tr th {\n",
       "        vertical-align: top;\n",
       "    }\n",
       "\n",
       "    .dataframe thead th {\n",
       "        text-align: right;\n",
       "    }\n",
       "</style>\n",
       "<table border=\"1\" class=\"dataframe\">\n",
       "  <thead>\n",
       "    <tr style=\"text-align: right;\">\n",
       "      <th></th>\n",
       "      <th>interpret</th>\n",
       "      <th>id</th>\n",
       "      <th>denne</th>\n",
       "      <th>Písní</th>\n",
       "    </tr>\n",
       "  </thead>\n",
       "  <tbody>\n",
       "    <tr>\n",
       "      <th>0</th>\n",
       "      <td>Robbie Williams</td>\n",
       "      <td>160</td>\n",
       "      <td>2.25</td>\n",
       "      <td>12</td>\n",
       "    </tr>\n",
       "    <tr>\n",
       "      <th>1</th>\n",
       "      <td>R.E.M.</td>\n",
       "      <td>154</td>\n",
       "      <td>2.17</td>\n",
       "      <td>11</td>\n",
       "    </tr>\n",
       "    <tr>\n",
       "      <th>2</th>\n",
       "      <td>Ed Sheeran</td>\n",
       "      <td>153</td>\n",
       "      <td>2.15</td>\n",
       "      <td>10</td>\n",
       "    </tr>\n",
       "    <tr>\n",
       "      <th>3</th>\n",
       "      <td>Coldplay</td>\n",
       "      <td>144</td>\n",
       "      <td>2.03</td>\n",
       "      <td>12</td>\n",
       "    </tr>\n",
       "    <tr>\n",
       "      <th>4</th>\n",
       "      <td>U2</td>\n",
       "      <td>144</td>\n",
       "      <td>2.03</td>\n",
       "      <td>11</td>\n",
       "    </tr>\n",
       "    <tr>\n",
       "      <th>5</th>\n",
       "      <td>BRYAN ADAMS</td>\n",
       "      <td>136</td>\n",
       "      <td>1.92</td>\n",
       "      <td>12</td>\n",
       "    </tr>\n",
       "  </tbody>\n",
       "</table>\n",
       "</div>"
      ],
      "text/plain": [
       "         interpret   id  denne  Písní\n",
       "0  Robbie Williams  160   2.25     12\n",
       "1           R.E.M.  154   2.17     11\n",
       "2       Ed Sheeran  153   2.15     10\n",
       "3         Coldplay  144   2.03     12\n",
       "4               U2  144   2.03     11\n",
       "5      BRYAN ADAMS  136   1.92     12"
      ]
     },
     "execution_count": 65,
     "metadata": {},
     "output_type": "execute_result"
    }
   ],
   "source": [
    "top10rz"
   ]
  },
  {
   "cell_type": "code",
   "execution_count": 66,
   "id": "11223285",
   "metadata": {},
   "outputs": [],
   "source": [
    "top10rz = top10rz.rename(columns={'interpret': 'Interpret', 'id': 'Přehrání', 'denne': 'Přehrání za den'})"
   ]
  },
  {
   "cell_type": "code",
   "execution_count": 67,
   "id": "4ebf17b1",
   "metadata": {},
   "outputs": [],
   "source": [
    "top10rz = top10rz.drop(columns=['Přehrání'])"
   ]
  },
  {
   "cell_type": "code",
   "execution_count": 68,
   "id": "ce58bfdc",
   "metadata": {},
   "outputs": [
    {
     "data": {
      "text/html": [
       "<div>\n",
       "<style scoped>\n",
       "    .dataframe tbody tr th:only-of-type {\n",
       "        vertical-align: middle;\n",
       "    }\n",
       "\n",
       "    .dataframe tbody tr th {\n",
       "        vertical-align: top;\n",
       "    }\n",
       "\n",
       "    .dataframe thead th {\n",
       "        text-align: right;\n",
       "    }\n",
       "</style>\n",
       "<table border=\"1\" class=\"dataframe\">\n",
       "  <thead>\n",
       "    <tr style=\"text-align: right;\">\n",
       "      <th></th>\n",
       "      <th>Interpret</th>\n",
       "      <th>Přehrání za den</th>\n",
       "      <th>Písní</th>\n",
       "    </tr>\n",
       "  </thead>\n",
       "  <tbody>\n",
       "    <tr>\n",
       "      <th>0</th>\n",
       "      <td>Robbie Williams</td>\n",
       "      <td>2.25</td>\n",
       "      <td>12</td>\n",
       "    </tr>\n",
       "    <tr>\n",
       "      <th>1</th>\n",
       "      <td>R.E.M.</td>\n",
       "      <td>2.17</td>\n",
       "      <td>11</td>\n",
       "    </tr>\n",
       "    <tr>\n",
       "      <th>2</th>\n",
       "      <td>Ed Sheeran</td>\n",
       "      <td>2.15</td>\n",
       "      <td>10</td>\n",
       "    </tr>\n",
       "    <tr>\n",
       "      <th>3</th>\n",
       "      <td>Coldplay</td>\n",
       "      <td>2.03</td>\n",
       "      <td>12</td>\n",
       "    </tr>\n",
       "    <tr>\n",
       "      <th>4</th>\n",
       "      <td>U2</td>\n",
       "      <td>2.03</td>\n",
       "      <td>11</td>\n",
       "    </tr>\n",
       "    <tr>\n",
       "      <th>5</th>\n",
       "      <td>BRYAN ADAMS</td>\n",
       "      <td>1.92</td>\n",
       "      <td>12</td>\n",
       "    </tr>\n",
       "  </tbody>\n",
       "</table>\n",
       "</div>"
      ],
      "text/plain": [
       "         Interpret  Přehrání za den  Písní\n",
       "0  Robbie Williams             2.25     12\n",
       "1           R.E.M.             2.17     11\n",
       "2       Ed Sheeran             2.15     10\n",
       "3         Coldplay             2.03     12\n",
       "4               U2             2.03     11\n",
       "5      BRYAN ADAMS             1.92     12"
      ]
     },
     "execution_count": 68,
     "metadata": {},
     "output_type": "execute_result"
    }
   ],
   "source": [
    "top10rz"
   ]
  },
  {
   "cell_type": "code",
   "execution_count": 69,
   "id": "3c2bee8f",
   "metadata": {},
   "outputs": [],
   "source": [
    "wikid = pd.read_json(os.path.join(\"wikidata\",\"wikidata.json\"))\n",
    "wikid['interpret_hlavni'] = wikid['interpret_hlavni'].apply(lambda x: x.lower())"
   ]
  },
  {
   "cell_type": "code",
   "execution_count": 70,
   "id": "39a75629",
   "metadata": {},
   "outputs": [
    {
     "data": {
      "text/plain": [
       "Index(['interpret_hlavni', 'id', 'stazeno', 'nazev_wiki', 'popis_en',\n",
       "       'popis_cs', 'velikost', 'zanry', 'datum_narozeni', 'datum_umrti',\n",
       "       'zacatek_pusobeni', 'konec_pusobeni', 'zalozeni', 'zanik', 'gender',\n",
       "       'misto_puvodu', 'zeme_puvodu', 'obcanstvi', 'etnicita', 'hlas',\n",
       "       'nastroje', 'oceneni', 'nabozenstvi', 'orientace', 'spotify_id',\n",
       "       'spotify_odberatele'],\n",
       "      dtype='object')"
      ]
     },
     "execution_count": 70,
     "metadata": {},
     "output_type": "execute_result"
    }
   ],
   "source": [
    "wikid.columns"
   ]
  },
  {
   "cell_type": "code",
   "execution_count": 71,
   "id": "a3dda47e",
   "metadata": {},
   "outputs": [],
   "source": [
    "def zacatek(i):\n",
    "        if i == 'One Republic':\n",
    "            return 2002\n",
    "        else:\n",
    "            return int(wikid[wikid['interpret_hlavni'] == i.lower()]['zacatek_pusobeni'].min())"
   ]
  },
  {
   "cell_type": "code",
   "execution_count": 72,
   "id": "249759f9",
   "metadata": {},
   "outputs": [],
   "source": [
    "top10rz['Začátek kariéry'] = top10rz['Interpret'].apply(lambda x: zacatek(x))"
   ]
  },
  {
   "cell_type": "code",
   "execution_count": 73,
   "id": "fed0d703",
   "metadata": {},
   "outputs": [],
   "source": [
    "top10rz['Přehrání za den'] = top10rz['Přehrání za den'].apply(lambda x: str(x).replace(\".\",\",\"))"
   ]
  },
  {
   "cell_type": "code",
   "execution_count": 74,
   "id": "b7f8342c",
   "metadata": {},
   "outputs": [],
   "source": [
    "top10rz['Přehrání za den'] = top10rz['Přehrání za den'].apply(lambda x: str(x).replace(\",0\",\",00\"))"
   ]
  },
  {
   "cell_type": "code",
   "execution_count": 75,
   "id": "3151086f",
   "metadata": {},
   "outputs": [
    {
     "data": {
      "text/html": [
       "<div>\n",
       "<style scoped>\n",
       "    .dataframe tbody tr th:only-of-type {\n",
       "        vertical-align: middle;\n",
       "    }\n",
       "\n",
       "    .dataframe tbody tr th {\n",
       "        vertical-align: top;\n",
       "    }\n",
       "\n",
       "    .dataframe thead th {\n",
       "        text-align: right;\n",
       "    }\n",
       "</style>\n",
       "<table border=\"1\" class=\"dataframe\">\n",
       "  <thead>\n",
       "    <tr style=\"text-align: right;\">\n",
       "      <th></th>\n",
       "      <th>Interpret</th>\n",
       "      <th>Přehrání za den</th>\n",
       "      <th>Písní</th>\n",
       "      <th>Začátek kariéry</th>\n",
       "    </tr>\n",
       "  </thead>\n",
       "  <tbody>\n",
       "    <tr>\n",
       "      <th>0</th>\n",
       "      <td>Robbie Williams</td>\n",
       "      <td>2,25</td>\n",
       "      <td>12</td>\n",
       "      <td>1990</td>\n",
       "    </tr>\n",
       "    <tr>\n",
       "      <th>1</th>\n",
       "      <td>R.E.M.</td>\n",
       "      <td>2,17</td>\n",
       "      <td>11</td>\n",
       "      <td>1980</td>\n",
       "    </tr>\n",
       "    <tr>\n",
       "      <th>2</th>\n",
       "      <td>Ed Sheeran</td>\n",
       "      <td>2,15</td>\n",
       "      <td>10</td>\n",
       "      <td>2004</td>\n",
       "    </tr>\n",
       "    <tr>\n",
       "      <th>3</th>\n",
       "      <td>Coldplay</td>\n",
       "      <td>2,003</td>\n",
       "      <td>12</td>\n",
       "      <td>1997</td>\n",
       "    </tr>\n",
       "    <tr>\n",
       "      <th>4</th>\n",
       "      <td>U2</td>\n",
       "      <td>2,003</td>\n",
       "      <td>11</td>\n",
       "      <td>1976</td>\n",
       "    </tr>\n",
       "    <tr>\n",
       "      <th>5</th>\n",
       "      <td>BRYAN ADAMS</td>\n",
       "      <td>1,92</td>\n",
       "      <td>12</td>\n",
       "      <td>1975</td>\n",
       "    </tr>\n",
       "  </tbody>\n",
       "</table>\n",
       "</div>"
      ],
      "text/plain": [
       "         Interpret Přehrání za den  Písní  Začátek kariéry\n",
       "0  Robbie Williams            2,25     12             1990\n",
       "1           R.E.M.            2,17     11             1980\n",
       "2       Ed Sheeran            2,15     10             2004\n",
       "3         Coldplay           2,003     12             1997\n",
       "4               U2           2,003     11             1976\n",
       "5      BRYAN ADAMS            1,92     12             1975"
      ]
     },
     "execution_count": 75,
     "metadata": {},
     "output_type": "execute_result"
    }
   ],
   "source": [
    "top10rz"
   ]
  },
  {
   "cell_type": "code",
   "execution_count": 76,
   "id": "71bb2812",
   "metadata": {},
   "outputs": [
    {
     "data": {
      "text/plain": [
       "'<table class=\"dataframe table table--responsive table--w100p table--striped-red table--plain\"><caption>Nejhranější interpreti na stanici ČRo Radiožurnál v roce 2023</caption><thead><tr style=\"text-align: right;\"><th class=\"text-nowrap\"></th><th class=\"text-nowrap\">Interpret</th><th class=\"text-nowrap\">Přehrání za den</th><th class=\"text-nowrap\">Písní</th><th class=\"text-nowrap\">Začátek kariéry</th></tr></thead><tbody class=\"text-sm\"><tr><td>1.</td><td>Robbie Williams</td><td>2,25</td><td>12</td><td>1990</td></tr><tr><td>2.</td><td>R.E.M.</td><td>2,17</td><td>11</td><td>1980</td></tr><tr><td>3.</td><td>Ed Sheeran</td><td>2,15</td><td>10</td><td>2004</td></tr><tr><td>4.</td><td>Coldplay</td><td>2,003</td><td>12</td><td>1997</td></tr><tr><td>5.</td><td>U2</td><td>2,003</td><td>11</td><td>1976</td></tr><tr><td>6.</td><td>BRYAN ADAMS</td><td>1,92</td><td>12</td><td>1975</td></tr></tbody></table>'"
      ]
     },
     "execution_count": 76,
     "metadata": {},
     "output_type": "execute_result"
    }
   ],
   "source": [
    "tabulka(top10rz, titulek=\"Nejhranější interpreti na stanici ČRo Radiožurnál v roce 2023\", poradi=True)"
   ]
  },
  {
   "cell_type": "markdown",
   "id": "1720c041",
   "metadata": {},
   "source": [
    "## Titulek pro Datažurnál #15"
   ]
  },
  {
   "cell_type": "code",
   "execution_count": 77,
   "id": "c15d4e2e",
   "metadata": {},
   "outputs": [
    {
     "data": {
      "text/html": [
       "<div>\n",
       "<style scoped>\n",
       "    .dataframe tbody tr th:only-of-type {\n",
       "        vertical-align: middle;\n",
       "    }\n",
       "\n",
       "    .dataframe tbody tr th {\n",
       "        vertical-align: top;\n",
       "    }\n",
       "\n",
       "    .dataframe thead th {\n",
       "        text-align: right;\n",
       "    }\n",
       "</style>\n",
       "<table border=\"1\" class=\"dataframe\">\n",
       "  <thead>\n",
       "    <tr style=\"text-align: right;\">\n",
       "      <th></th>\n",
       "      <th>since</th>\n",
       "      <th>id</th>\n",
       "      <th>interpret</th>\n",
       "      <th>interpret_id</th>\n",
       "      <th>track</th>\n",
       "      <th>track_id</th>\n",
       "      <th>stanice</th>\n",
       "      <th>rok</th>\n",
       "      <th>den</th>\n",
       "    </tr>\n",
       "  </thead>\n",
       "  <tbody>\n",
       "    <tr>\n",
       "      <th>1</th>\n",
       "      <td>2023-10-22 00:03:12+01:00</td>\n",
       "      <td>19376274</td>\n",
       "      <td>WINONA OAK</td>\n",
       "      <td>25899</td>\n",
       "      <td>WINTER RAIN</td>\n",
       "      <td>87407</td>\n",
       "      <td>radiowave</td>\n",
       "      <td>2023</td>\n",
       "      <td>295</td>\n",
       "    </tr>\n",
       "    <tr>\n",
       "      <th>2</th>\n",
       "      <td>2023-10-22 00:07:28+01:00</td>\n",
       "      <td>19376280</td>\n",
       "      <td>DIIV</td>\n",
       "      <td>2909</td>\n",
       "      <td>SKIN GAME</td>\n",
       "      <td>69599</td>\n",
       "      <td>radiowave</td>\n",
       "      <td>2023</td>\n",
       "      <td>295</td>\n",
       "    </tr>\n",
       "    <tr>\n",
       "      <th>3</th>\n",
       "      <td>2023-10-22 00:10:40+01:00</td>\n",
       "      <td>19376285</td>\n",
       "      <td>ROBBIE WILLIAMS</td>\n",
       "      <td>2984</td>\n",
       "      <td>ROAD TO MANDALAY</td>\n",
       "      <td>7475</td>\n",
       "      <td>radiozurnal</td>\n",
       "      <td>2023</td>\n",
       "      <td>295</td>\n",
       "    </tr>\n",
       "    <tr>\n",
       "      <th>4</th>\n",
       "      <td>2023-10-22 00:11:24+01:00</td>\n",
       "      <td>19376286</td>\n",
       "      <td>DUA LIPA</td>\n",
       "      <td>11139</td>\n",
       "      <td>DANCE THE NIGHT</td>\n",
       "      <td>108512</td>\n",
       "      <td>dvojka</td>\n",
       "      <td>2023</td>\n",
       "      <td>295</td>\n",
       "    </tr>\n",
       "    <tr>\n",
       "      <th>6</th>\n",
       "      <td>2023-10-22 00:14:35+01:00</td>\n",
       "      <td>19376292</td>\n",
       "      <td>ROSALÍA &amp; RAUW ALEJANDRO</td>\n",
       "      <td>32074</td>\n",
       "      <td>VAMPIROS</td>\n",
       "      <td>107110</td>\n",
       "      <td>radiowave</td>\n",
       "      <td>2023</td>\n",
       "      <td>295</td>\n",
       "    </tr>\n",
       "    <tr>\n",
       "      <th>...</th>\n",
       "      <td>...</td>\n",
       "      <td>...</td>\n",
       "      <td>...</td>\n",
       "      <td>...</td>\n",
       "      <td>...</td>\n",
       "      <td>...</td>\n",
       "      <td>...</td>\n",
       "      <td>...</td>\n",
       "      <td>...</td>\n",
       "    </tr>\n",
       "    <tr>\n",
       "      <th>219416</th>\n",
       "      <td>2024-08-27 23:50:12+01:00</td>\n",
       "      <td>20843085</td>\n",
       "      <td>CHIEF BROMDEN</td>\n",
       "      <td>34198</td>\n",
       "      <td>LEADERSHIP</td>\n",
       "      <td>114360</td>\n",
       "      <td>radiowave</td>\n",
       "      <td>2024</td>\n",
       "      <td>240</td>\n",
       "    </tr>\n",
       "    <tr>\n",
       "      <th>219417</th>\n",
       "      <td>2024-08-27 23:53:31+01:00</td>\n",
       "      <td>20843091</td>\n",
       "      <td>JESSIE J</td>\n",
       "      <td>9523</td>\n",
       "      <td>I WANT LOVE</td>\n",
       "      <td>91200</td>\n",
       "      <td>radiowave</td>\n",
       "      <td>2024</td>\n",
       "      <td>240</td>\n",
       "    </tr>\n",
       "    <tr>\n",
       "      <th>219418</th>\n",
       "      <td>2024-08-27 23:53:35+01:00</td>\n",
       "      <td>20843092</td>\n",
       "      <td>OASIS</td>\n",
       "      <td>6426</td>\n",
       "      <td>WHATEVER</td>\n",
       "      <td>56027</td>\n",
       "      <td>dvojka</td>\n",
       "      <td>2024</td>\n",
       "      <td>240</td>\n",
       "    </tr>\n",
       "    <tr>\n",
       "      <th>219419</th>\n",
       "      <td>2024-08-27 23:56:46+01:00</td>\n",
       "      <td>20843099</td>\n",
       "      <td>U.S. GIRLS</td>\n",
       "      <td>9345</td>\n",
       "      <td>SO TYPICALLY NOW</td>\n",
       "      <td>102167</td>\n",
       "      <td>radiowave</td>\n",
       "      <td>2024</td>\n",
       "      <td>240</td>\n",
       "    </tr>\n",
       "    <tr>\n",
       "      <th>219421</th>\n",
       "      <td>2024-08-27 23:58:47+01:00</td>\n",
       "      <td>20843103</td>\n",
       "      <td>STUDIOVÝ ORCHESTR</td>\n",
       "      <td>4144</td>\n",
       "      <td>ČESKÁ STÁTNÍ HYMNA</td>\n",
       "      <td>13826</td>\n",
       "      <td>dvojka</td>\n",
       "      <td>2024</td>\n",
       "      <td>240</td>\n",
       "    </tr>\n",
       "  </tbody>\n",
       "</table>\n",
       "<p>134417 rows × 9 columns</p>\n",
       "</div>"
      ],
      "text/plain": [
       "                           since        id                 interpret  \\\n",
       "1      2023-10-22 00:03:12+01:00  19376274                WINONA OAK   \n",
       "2      2023-10-22 00:07:28+01:00  19376280                      DIIV   \n",
       "3      2023-10-22 00:10:40+01:00  19376285           ROBBIE WILLIAMS   \n",
       "4      2023-10-22 00:11:24+01:00  19376286                  DUA LIPA   \n",
       "6      2023-10-22 00:14:35+01:00  19376292  ROSALÍA & RAUW ALEJANDRO   \n",
       "...                          ...       ...                       ...   \n",
       "219416 2024-08-27 23:50:12+01:00  20843085             CHIEF BROMDEN   \n",
       "219417 2024-08-27 23:53:31+01:00  20843091                  JESSIE J   \n",
       "219418 2024-08-27 23:53:35+01:00  20843092                     OASIS   \n",
       "219419 2024-08-27 23:56:46+01:00  20843099                U.S. GIRLS   \n",
       "219421 2024-08-27 23:58:47+01:00  20843103         STUDIOVÝ ORCHESTR   \n",
       "\n",
       "        interpret_id               track  track_id      stanice   rok  den  \n",
       "1              25899         WINTER RAIN     87407    radiowave  2023  295  \n",
       "2               2909           SKIN GAME     69599    radiowave  2023  295  \n",
       "3               2984    ROAD TO MANDALAY      7475  radiozurnal  2023  295  \n",
       "4              11139     DANCE THE NIGHT    108512       dvojka  2023  295  \n",
       "6              32074            VAMPIROS    107110    radiowave  2023  295  \n",
       "...              ...                 ...       ...          ...   ...  ...  \n",
       "219416         34198          LEADERSHIP    114360    radiowave  2024  240  \n",
       "219417          9523         I WANT LOVE     91200    radiowave  2024  240  \n",
       "219418          6426            WHATEVER     56027       dvojka  2024  240  \n",
       "219419          9345    SO TYPICALLY NOW    102167    radiowave  2024  240  \n",
       "219421          4144  ČESKÁ STÁTNÍ HYMNA     13826       dvojka  2024  240  \n",
       "\n",
       "[134417 rows x 9 columns]"
      ]
     },
     "execution_count": 77,
     "metadata": {},
     "output_type": "execute_result"
    }
   ],
   "source": [
    "df[df['track'].str.lower().str.contains('a')]"
   ]
  }
 ],
 "metadata": {
  "kernelspec": {
   "display_name": "Python 3 (ipykernel)",
   "language": "python",
   "name": "python3"
  },
  "language_info": {
   "codemirror_mode": {
    "name": "ipython",
    "version": 3
   },
   "file_extension": ".py",
   "mimetype": "text/x-python",
   "name": "python",
   "nbconvert_exporter": "python",
   "pygments_lexer": "ipython3",
   "version": "3.11.5"
  }
 },
 "nbformat": 4,
 "nbformat_minor": 5
}
