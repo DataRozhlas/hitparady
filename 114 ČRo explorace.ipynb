{
 "cells": [
  {
   "cell_type": "code",
   "execution_count": 5,
   "id": "ba9994e6",
   "metadata": {},
   "outputs": [],
   "source": [
    "import os\n",
    "import pandas as pd"
   ]
  },
  {
   "cell_type": "code",
   "execution_count": 6,
   "id": "2d3268ec",
   "metadata": {},
   "outputs": [],
   "source": [
    "from src.tabulka import tabulka"
   ]
  },
  {
   "cell_type": "code",
   "execution_count": 7,
   "id": "42d7b9c8",
   "metadata": {},
   "outputs": [],
   "source": [
    "df = pd.read_json(os.path.join(\"data\",\"cro_raw.json\"))"
   ]
  },
  {
   "cell_type": "code",
   "execution_count": 8,
   "id": "50b56530",
   "metadata": {},
   "outputs": [
    {
     "data": {
      "text/plain": [
       "(1087914, 7)"
      ]
     },
     "execution_count": 8,
     "metadata": {},
     "output_type": "execute_result"
    }
   ],
   "source": [
    "df.shape"
   ]
  },
  {
   "cell_type": "code",
   "execution_count": 9,
   "id": "a4e03cba",
   "metadata": {},
   "outputs": [],
   "source": [
    "df['since'] = pd.to_datetime(df['since'].apply(lambda x: x.replace(\"02:00\",\"01:00\")))"
   ]
  },
  {
   "cell_type": "code",
   "execution_count": 10,
   "id": "51909b0e",
   "metadata": {},
   "outputs": [],
   "source": [
    "df['interpret'] = df['interpret'].apply(lambda x: x.upper())\n",
    "df['track'] = df['track'].apply(lambda x: x.upper())"
   ]
  },
  {
   "cell_type": "code",
   "execution_count": 11,
   "id": "1aa00303",
   "metadata": {},
   "outputs": [
    {
     "data": {
      "text/html": [
       "<div>\n",
       "<style scoped>\n",
       "    .dataframe tbody tr th:only-of-type {\n",
       "        vertical-align: middle;\n",
       "    }\n",
       "\n",
       "    .dataframe tbody tr th {\n",
       "        vertical-align: top;\n",
       "    }\n",
       "\n",
       "    .dataframe thead th {\n",
       "        text-align: right;\n",
       "    }\n",
       "</style>\n",
       "<table border=\"1\" class=\"dataframe\">\n",
       "  <thead>\n",
       "    <tr style=\"text-align: right;\">\n",
       "      <th></th>\n",
       "      <th>since</th>\n",
       "      <th>id</th>\n",
       "      <th>interpret</th>\n",
       "      <th>interpret_id</th>\n",
       "      <th>track</th>\n",
       "      <th>track_id</th>\n",
       "      <th>stanice</th>\n",
       "    </tr>\n",
       "  </thead>\n",
       "  <tbody>\n",
       "    <tr>\n",
       "      <th>0</th>\n",
       "      <td>2020-12-01 04:42:44+01:00</td>\n",
       "      <td>10236811</td>\n",
       "      <td>SAMUEL RAMEY &amp; LONDON PHILHARMONIC ORCHESTRA, ...</td>\n",
       "      <td>24978</td>\n",
       "      <td>NON PIU ANDRAI, ÁRIE Z 1. DĚJSTVÍ OPERY FIGARO</td>\n",
       "      <td>83837</td>\n",
       "      <td>d</td>\n",
       "    </tr>\n",
       "    <tr>\n",
       "      <th>1</th>\n",
       "      <td>2020-12-08 18:25:47+01:00</td>\n",
       "      <td>10270691</td>\n",
       "      <td>SAMUEL RAMEY &amp; LONDON PHILHARMONIC ORCHESTRA, ...</td>\n",
       "      <td>24978</td>\n",
       "      <td>NON PIU ANDRAI, ÁRIE Z 1. DĚJSTVÍ OPERY FIGARO</td>\n",
       "      <td>83837</td>\n",
       "      <td>d</td>\n",
       "    </tr>\n",
       "  </tbody>\n",
       "</table>\n",
       "</div>"
      ],
      "text/plain": [
       "                      since        id  \\\n",
       "0 2020-12-01 04:42:44+01:00  10236811   \n",
       "1 2020-12-08 18:25:47+01:00  10270691   \n",
       "\n",
       "                                           interpret  interpret_id  \\\n",
       "0  SAMUEL RAMEY & LONDON PHILHARMONIC ORCHESTRA, ...         24978   \n",
       "1  SAMUEL RAMEY & LONDON PHILHARMONIC ORCHESTRA, ...         24978   \n",
       "\n",
       "                                            track  track_id stanice  \n",
       "0  NON PIU ANDRAI, ÁRIE Z 1. DĚJSTVÍ OPERY FIGARO     83837       d  \n",
       "1  NON PIU ANDRAI, ÁRIE Z 1. DĚJSTVÍ OPERY FIGARO     83837       d  "
      ]
     },
     "execution_count": 11,
     "metadata": {},
     "output_type": "execute_result"
    }
   ],
   "source": [
    "df.head(2)"
   ]
  },
  {
   "cell_type": "code",
   "execution_count": 12,
   "id": "e57f5334",
   "metadata": {},
   "outputs": [],
   "source": [
    "df['rok'] = df['since'].dt.year"
   ]
  },
  {
   "cell_type": "code",
   "execution_count": 13,
   "id": "7283b167",
   "metadata": {
    "scrolled": true
   },
   "outputs": [
    {
     "data": {
      "text/plain": [
       "interpret                      track                \n",
       "STUDIOVÝ ORCHESTR              ČESKÁ STÁTNÍ HYMNA       1000\n",
       "NEDIVOČ                        FOTKY Z VÝLETU            660\n",
       "ANETA LANGEROVÁ                BÍLÝ DEN                  652\n",
       "HARRY STYLES                   AS IT WAS                 637\n",
       "DAVID STYPKA                   FARMÁŘŮM                  611\n",
       "MIRAI                          I PŘES TO VŠECHNO         600\n",
       "MILEY CYRUS                    ANGELS LIKE YOU           591\n",
       "JC STEWART                     I NEED YOU TO HATE ME     568\n",
       "COLDPLAY                       HIGHER POWER              564\n",
       "MILOW                          WHATEVER IT TAKES         535\n",
       "CHINASKI                       BÁSEŇ                     529\n",
       "DUA LIPA                       LOVE AGAIN                527\n",
       "ADELE                          EASY ON ME                521\n",
       "JELEN                          JEŠTĚ JEDNU NOC           517\n",
       "ZAZ                            IMAGINE                   513\n",
       "IMAGINE DRAGONS                FOLLOW YOU                497\n",
       "MIRAI                          VEDLE TEBE USÍNÁM         497\n",
       "JELEN                          JEDINÝ CO CHCI            487\n",
       "RAY DALTON                     IN MY BONES               480\n",
       "MIROSLAV ŽBIRKA, DAVID ŽBIRKA  NEJSI SÁM                 463\n",
       "dtype: int64"
      ]
     },
     "execution_count": 13,
     "metadata": {},
     "output_type": "execute_result"
    }
   ],
   "source": [
    "df.groupby([\"interpret\",\"track\"]).size().nlargest(20)"
   ]
  },
  {
   "cell_type": "code",
   "execution_count": 14,
   "id": "0a24d25f",
   "metadata": {},
   "outputs": [
    {
     "data": {
      "text/plain": [
       "'Karel Gott, Hana Zagorová, Waldemar Matuška, Chinaski, Marie Rottrová, Adele, Václav Neckář, Helena Vondráčková, Michal Tučný, Robbie Williams, Karel Zich'"
      ]
     },
     "execution_count": 14,
     "metadata": {},
     "output_type": "execute_result"
    }
   ],
   "source": [
    "cro22 = df[df['rok'] == 2022].groupby(\"interpret\").size().nlargest(60)\n",
    "cro22 = cro22[cro22 >= 1000]\n",
    "cro22 = cro22.reset_index()\n",
    "cro22['interpret'] = cro22['interpret'].apply(lambda x: x.title())\n",
    "\", \".join(cro22['interpret'].to_list())"
   ]
  },
  {
   "cell_type": "code",
   "execution_count": 15,
   "id": "35df7d49",
   "metadata": {},
   "outputs": [
    {
     "data": {
      "text/plain": [
       "interpret\n",
       "CHINASKI              3502\n",
       "KAREL GOTT            3190\n",
       "ROBBIE WILLIAMS       2927\n",
       "ADELE                 2891\n",
       "HANA ZAGOROVÁ         2859\n",
       "WALDEMAR MATUŠKA      2756\n",
       "QUEEN                 2705\n",
       "ANETA LANGEROVÁ       2702\n",
       "VÁCLAV NECKÁŘ         2684\n",
       "MARIE ROTTROVÁ        2601\n",
       "HELENA VONDRÁČKOVÁ    2554\n",
       "ED SHEERAN            2534\n",
       "MIRAI                 2534\n",
       "ROXETTE               2491\n",
       "R.E.M.                2448\n",
       "JELEN                 2364\n",
       "BRYAN ADAMS           2318\n",
       "COLDPLAY              2259\n",
       "MARTA KUBIŠOVÁ        2254\n",
       "MICHAL HRŮZA          2229\n",
       "MICHAL TUČNÝ          2219\n",
       "OLYMPIC               2217\n",
       "MAREK ZTRACENÝ        2179\n",
       "KAREL ZICH            2137\n",
       "U 2                   2073\n",
       "LUCIE                 2044\n",
       "PETR REZEK            2039\n",
       "P!NK                  2032\n",
       "XINDL X               2030\n",
       "PETR SPÁLENÝ          1994\n",
       "VĚRA ŠPINAROVÁ        1977\n",
       "JIŘÍ KORN             1974\n",
       "ABBA                  1971\n",
       "GEORGE EZRA           1954\n",
       "CRANBERRIES           1928\n",
       "PHIL COLLINS          1889\n",
       "IMAGINE DRAGONS       1828\n",
       "PAVEL NOVÁK           1799\n",
       "MIROSLAV ŽBIRKA       1787\n",
       "ONE REPUBLIC          1762\n",
       "JIŘÍ SUCHÝ            1751\n",
       "NAĎA URBÁNKOVÁ        1745\n",
       "ZAZ                   1743\n",
       "KAREL ČERNOCH         1734\n",
       "SUPPORT LESBIENS      1721\n",
       "DIVOKEJ BILL          1704\n",
       "BUTY                  1687\n",
       "PAVEL BOBEK           1671\n",
       "TINA TURNER           1661\n",
       "EVA PILAROVÁ          1655\n",
       "TOMÁŠ KLUS            1642\n",
       "ANNA K                1641\n",
       "LENKA FILIPOVÁ        1610\n",
       "MADONNA               1558\n",
       "LP                    1546\n",
       "VĚRA MARTINOVÁ        1528\n",
       "LEWIS CAPALDI         1508\n",
       "HARRY STYLES          1496\n",
       "ANNA K.               1490\n",
       "PETR NOVÁK            1483\n",
       "dtype: int64"
      ]
     },
     "execution_count": 15,
     "metadata": {},
     "output_type": "execute_result"
    }
   ],
   "source": [
    "df.groupby(\"interpret\").size().nlargest(60)"
   ]
  },
  {
   "cell_type": "code",
   "execution_count": 16,
   "id": "13e75cee",
   "metadata": {},
   "outputs": [
    {
     "data": {
      "text/plain": [
       "interpret                      track                          \n",
       "STUDIOVÝ ORCHESTR              ČESKÁ STÁTNÍ HYMNA                 1000\n",
       "NEDIVOČ                        FOTKY Z VÝLETU                      660\n",
       "ANETA LANGEROVÁ                BÍLÝ DEN                            652\n",
       "HARRY STYLES                   AS IT WAS                           637\n",
       "DAVID STYPKA                   FARMÁŘŮM                            611\n",
       "MIRAI                          I PŘES TO VŠECHNO                   600\n",
       "MILEY CYRUS                    ANGELS LIKE YOU                     591\n",
       "JC STEWART                     I NEED YOU TO HATE ME               568\n",
       "COLDPLAY                       HIGHER POWER                        564\n",
       "MILOW                          WHATEVER IT TAKES                   535\n",
       "CHINASKI                       BÁSEŇ                               529\n",
       "DUA LIPA                       LOVE AGAIN                          527\n",
       "ADELE                          EASY ON ME                          521\n",
       "JELEN                          JEŠTĚ JEDNU NOC                     517\n",
       "ZAZ                            IMAGINE                             513\n",
       "IMAGINE DRAGONS                FOLLOW YOU                          497\n",
       "MIRAI                          VEDLE TEBE USÍNÁM                   497\n",
       "JELEN                          JEDINÝ CO CHCI                      487\n",
       "RAY DALTON                     IN MY BONES                         480\n",
       "MIROSLAV ŽBIRKA, DAVID ŽBIRKA  NEJSI SÁM                           463\n",
       "SUPPORT LESBIENS               HERE I AM                           447\n",
       "JELEN                          NĚKDE KOLEM                         443\n",
       "BANNERS                        IF I DIDN'T HAVE YOU                437\n",
       "ANNA K.                        NA MALOU CHVÍLI                     436\n",
       "LES GARS D'EN BAS              MES ÉTRANGERES                      434\n",
       "LEWIS CAPALDI                  BEFORE YOU GO                       430\n",
       "NIALL HORAN                    BLACK AND WHITE                     428\n",
       "NEA                            SOME SAY                            425\n",
       "ONE REPUBLIC                   WEST COAST                          415\n",
       "TONYA GRAVES                   MEANING OF THE BLUES                415\n",
       "TOM WALKER                     NOT GIVING IN                       410\n",
       "WEEKND                         SAVE YOUR TEARS                     408\n",
       "LIGHT & LOVE                   BLUEBERRY SKY                       407\n",
       "LEWIS CAPALDI                  FORGET ME                           402\n",
       "DECLAN J DONOVAN               PIECES                              399\n",
       "DAVID KOLLER                   POUTA                               398\n",
       "NICO SANTOS                    UNFORGETTABLE                       398\n",
       "ED SHEERAN                     BAD HABITS                          392\n",
       "CECILIA KRULL                  MY LIFE IS GOING ON                 391\n",
       "TONYA GRAVES                   THRILL IS GONE                      386\n",
       "DEBBI                          TOUCH THE SUN                       385\n",
       "MIKE & THE MECHANICS           OVER MY SHOULDER                    385\n",
       "TOMÁŠ KLUS                     POCITY                              382\n",
       "JELEN                          MAGDALÉNA                           375\n",
       "AMY MACDONALD                  THIS IS THE LIFE                    374\n",
       "BUTY                           FRANTIŠEK                           373\n",
       "PETR HAPKA                     KOCOUR SE SCHOULIL NA TVŮJ KLÍN     372\n",
       "TOMÁŠ KLUS                     NINA                                371\n",
       "WET WET WET                    LOVE IS ALL AROUND                  371\n",
       "MICHAL HRŮZA                   ZAKÁZANÉ UVOLNĚNÍ                   369\n",
       "dtype: int64"
      ]
     },
     "execution_count": 16,
     "metadata": {},
     "output_type": "execute_result"
    }
   ],
   "source": [
    "df.groupby([\"interpret\",\"track\"]).size().nlargest(50)"
   ]
  },
  {
   "cell_type": "markdown",
   "id": "b3f84fdb",
   "metadata": {},
   "source": [
    "## Kánon hlavního proudu"
   ]
  },
  {
   "cell_type": "code",
   "execution_count": 17,
   "id": "95931d65",
   "metadata": {},
   "outputs": [],
   "source": [
    "univerzalove = df.groupby(['interpret',\"track\"])['stanice'].nunique()\n",
    "univerzalove = univerzalove[univerzalove >= 3]"
   ]
  },
  {
   "cell_type": "code",
   "execution_count": 18,
   "id": "473efc9f",
   "metadata": {},
   "outputs": [
    {
     "data": {
      "text/plain": [
       "229"
      ]
     },
     "execution_count": 18,
     "metadata": {},
     "output_type": "execute_result"
    }
   ],
   "source": [
    "len(univerzalove)"
   ]
  },
  {
   "cell_type": "code",
   "execution_count": 19,
   "id": "e0cf0b25",
   "metadata": {},
   "outputs": [
    {
     "data": {
      "text/plain": [
       "interpret                track                    \n",
       "EDITH PIAF               NON, JE NE REGRETTE RIEN     4\n",
       "GEORGE HARRISON          MY SWEET LORD                4\n",
       "GOLDEN KIDS              ČASY SE MĚNÍ                 4\n",
       "HANA HEGEROVÁ            POTMĚŠILÝ HOST               4\n",
       "JIŘÍ PAVLICA, HRADIŠŤAN  MODLITBA ZA VODU             4\n",
       "JIŘÍ SCHELINGER          HOLUBÍ DŮM                   4\n",
       "KAREL KRYL               BRATŘÍČKU, ZAVÍREJ VRÁTKA    4\n",
       "LEONARD COHEN            SUZANNE                      4\n",
       "MIROSLAV ŽBIRKA          BIELY KVET                   4\n",
       "YVONNE PŘENOSILOVÁ       TAK PRÁZDNÁ                  4\n",
       "Name: stanice, dtype: int64"
      ]
     },
     "execution_count": 19,
     "metadata": {},
     "output_type": "execute_result"
    }
   ],
   "source": [
    "univerzalove[univerzalove > 3]"
   ]
  },
  {
   "cell_type": "code",
   "execution_count": 20,
   "id": "747329ba",
   "metadata": {},
   "outputs": [
    {
     "data": {
      "text/plain": [
       "interpret          track                 \n",
       "ABBA               CHIQUITITA                3\n",
       "                   DANCING QUEEN             3\n",
       "                   FERNANDO                  3\n",
       "                   I HAVE A DREAM            3\n",
       "                   SUPER TROUPER             3\n",
       "ADAM PLACHETKA     ANDĚL PÁNĚ ZPRÁVU NESE    3\n",
       "ADELE              EASY ON ME                3\n",
       "                   HELLO                     3\n",
       "                   SKYFALL                   3\n",
       "ALANIS MORISSETTE  IRONIC                    3\n",
       "ALPHAVILLE         FOREVER YOUNG             3\n",
       "ANASTACIA          LEFT OUTSIDE ALONE        3\n",
       "ANETA LANGEROVÁ    PODZIM                    3\n",
       "                   VODA ŽIVÁ                 3\n",
       "ARCHIES            SUGAR, SUGAR              3\n",
       "AVRIL LAVIGNE      COMPLICATED               3\n",
       "BEACH BOYS         GOD ONLY KNOWS            3\n",
       "                   GOOD VIBRATIONS           3\n",
       "BEATLES            ALL YOU NEED IS LOVE      3\n",
       "                   CAN'T BUY ME LOVE         3\n",
       "                   LADY MADONNA              3\n",
       "                   YESTERDAY                 3\n",
       "BEE GEES           WORDS                     3\n",
       "BEYONCÉ            HALO                      3\n",
       "BILLIE EILISH      NO TIME TO DIE            3\n",
       "Name: stanice, dtype: int64"
      ]
     },
     "execution_count": 20,
     "metadata": {},
     "output_type": "execute_result"
    }
   ],
   "source": [
    "univerzalove.head(25)"
   ]
  },
  {
   "cell_type": "markdown",
   "id": "6928f276",
   "metadata": {},
   "source": [
    "## Mám rád"
   ]
  },
  {
   "cell_type": "code",
   "execution_count": 21,
   "id": "99c4ed56",
   "metadata": {},
   "outputs": [],
   "source": [
    "def hraje(x):\n",
    "    return df[df['interpret'].str.lower().str.contains(x.lower(), na=False)].groupby(['interpret','track','stanice']).size().nlargest(1000).head(50)"
   ]
  },
  {
   "cell_type": "code",
   "execution_count": 22,
   "id": "f4c7e5da",
   "metadata": {},
   "outputs": [
    {
     "data": {
      "text/plain": [
       "interpret                  track                                         stanice    \n",
       "QUEEN, DAVID BOWIE         UNDER PRESSURE                                radiozurnal    123\n",
       "DAVID BOWIE                CHINA GIRL                                    dvojka          12\n",
       "                           LET'S DANCE                                   dvojka          11\n",
       "                           LAZARUS                                       vltava           9\n",
       "                           I CAN'T GIVE EVERYTHING AWAY                  vltava           8\n",
       "                           HEROES                                        radiowave        8\n",
       "QUEEN/DAVID BOWIE          UNDER PRESSURE                                dvojka           7\n",
       "DAVID BOWIE                THE STARS (ARE OUT TONIGHT)                   vltava           7\n",
       "                           GIRL LOVES ME                                 vltava           7\n",
       "                           DOLLAR DAYS                                   vltava           7\n",
       "DAVID BOWIE, QUEEN         UNDER PRESSURE                                radiozurnal      5\n",
       "BOWIE DAVID                CHINA GIRL                                    dvojka           5\n",
       "DAVID BOWIE                ABSOLUTE BEGINNERS                            dvojka           5\n",
       "QUEEN / DAVID BOWIE        UNDER PRESSURE                                dvojka           4\n",
       "DAVID BOWIE                LIFE ON MARS                                  radiowave        4\n",
       "                           LET S DANCE                                   dvojka           4\n",
       "LESTER BOWIE               GHOSTS (ALBERT AYLER)                         vltava           3\n",
       "DAVID BOWIE                HEROES                                        dvojka           3\n",
       "                           LET'S DANCE                                   radiowave        3\n",
       "BOWIE DAVID                MODERN LOVE                                   radiowave        2\n",
       "DAVID BOWIE                CHINA GIRL-DAVID BOWIE                        dvojka           2\n",
       "                           SOUL LOVE                                     radiowave        2\n",
       "DAVID BOWIE, JOHN LENNON   ACROSS THE UNIVERSE                           dvojka           2\n",
       "DAVID BOWIE                SPACE ODDITY                                  dvojka           2\n",
       "DAVID BOWIE & MICK JAGGER  DANCING IN THE STREET                         dvojka           2\n",
       "DAVID BOWIE                STARMAN                                       dvojka           2\n",
       "                           LET´S DANCE-DAVID BOWIE                       dvojka           2\n",
       "                           ASHES TO ASHES                                dvojka           1\n",
       "                           STARMAN                                       radiozurnal      1\n",
       "                           ZIGGY STARDUST                                radiowave        1\n",
       "                           THE STARS (ARE OUT TONIGHT) (DAVID BOWIE)     vltava           1\n",
       "                           THURSDAY S CHILD                              dvojka           1\n",
       "                           THURSDAY S CHILD (ADMIN)                      vltava           1\n",
       "                           REBEL REBEL                                   radiozurnal      1\n",
       "DAVID BOWIE & MICK JAGGER  DANCING IN THE STREET                         radiowave        1\n",
       "JAGGER MICK & BOWIE DAVID  DANCING IN THE STREET                         dvojka           1\n",
       "LIZZO & DAVID BOWIE        LET'S JUICE (AMERIGO GAZAWAY MASH-UP)         radiowave        1\n",
       "DAVID BOWIE                ROCK 'N' ROLL SUICIDE                         radiowave        1\n",
       "                           CHINA GIRL                                    radiozurnal      1\n",
       "                           LIFE ON MARS (THE SINGLES COLLECTION DISC 1)  vltava           1\n",
       "                           CHINA GIRL (DAVID BOWIE/IGGY POP)             vltava           1\n",
       "                           CHANGES (ADMIN)                               vltava           1\n",
       "                           DOLLAR DAYS (DAVID BOWIE)                     vltava           1\n",
       "                           FAME                                          dvojka           1\n",
       "                                                                         radiowave        1\n",
       "                           FASHION                                       radiowave        1\n",
       "                           CHANGES                                       dvojka           1\n",
       "                           GIRL LOVES ME (DAVID BOWIE)                   vltava           1\n",
       "                           CAT PEOPLE (PUTTING OUT FIRE)                 dvojka           1\n",
       "                           HEROES                                        vltava           1\n",
       "dtype: int64"
      ]
     },
     "execution_count": 22,
     "metadata": {},
     "output_type": "execute_result"
    }
   ],
   "source": [
    "hraje('bowie')"
   ]
  },
  {
   "cell_type": "code",
   "execution_count": 23,
   "id": "b56eda84",
   "metadata": {},
   "outputs": [
    {
     "data": {
      "text/plain": [
       "interpret                                              track                                                                        stanice    \n",
       "VLADIMÍR MIŠÍK                                         JEDNOU                                                                       radiozurnal    266\n",
       "VLADIMÍR MIŠÍK, BLUE EFFECT                            SLUNEČNÝ HROB                                                                radiozurnal     88\n",
       "VLADIMÍR MIŠÍK/ETC...                                  VARIACE NA RENESANČNÍ TÉMA                                                   dvojka          80\n",
       "VLADIMÍR MIŠÍK                                         VARIACE NA RENESANČNÍ TÉMA                                                   radiozurnal     75\n",
       "                                                       JEDNOU                                                                       dvojka          74\n",
       "VLADIMÍR MIŠÍK, ETC...                                 STŘÍHALI DOHOLA MALÉHO CHLAPEČKA                                             radiozurnal     57\n",
       "VLADIMÍR MIŠÍK                                         CO TI DÁM                                                                    radiozurnal     52\n",
       "                                                       SLUNEČNÍ HROB                                                                dvojka          39\n",
       "                                                       CO TI DÁM LÁSKO POD STROMEČEK                                                dvojka          18\n",
       "                                                       DĚKUJI (PETR OSTROUCHOV & DAVID STYPKA)                                      vltava          12\n",
       "                                                       PO DLOUHÉM DNI                                                               vltava           9\n",
       "                                                       ANDĚLÉ (PETR OSTROUCHOV & JAN SKÁCEL)                                        vltava           8\n",
       "VLADIMÍR MIŠÍK & BLUE SHADOWS & BLIND BOYS OF ALABAMA  ŠEDESÁTÁ LÉTA (VLADIMÍR MIŠÍK)                                               vltava           7\n",
       "VLADIMÍR MIŠÍK                                         VARIACE NA RENESANČNÍ TÉMA                                                   dvojka           7\n",
       "                                                       VÁNOČNÍ POHLEDNICE (PETR OSTROUCHOV & VÁCLAV HRABĚ)                          vltava           6\n",
       "VLADIMÍR MIŠÍK & ETC…                                  LADY VAMP (VLADIMÍR MIŠÍK & JAN HRUBÝ & VLADIMÍR PADRŮNĚK & VLADIMÍR MERTA)  vltava           6\n",
       "VLADIMÍR MIŠÍK                                         PROČ TA RŮŽE UVADÁ                                                           dvojka           5\n",
       "                                                       ANDĚLÉ                                                                       radiozurnal      5\n",
       "                                                       STŘÍHALI DOHOLA MALÉHO CHLAPEČKA                                             dvojka           4\n",
       "VLADIMÍR MIŠÍK/BLUE EFFECT                             SLUNEČNÝ HROB                                                                dvojka           4\n",
       "VLADIMÍR MIŠÍK/ETC...                                  STŘÍHALI DOHOLA MALÉHO CHLAPEČKA                                             dvojka           4\n",
       "VLADIMÍR MIŠÍK & BLUE SHADOWS & BLIND BOYS OF ALABAMA  ŠEDESÁTÁ LÉTA                                                                dvojka           3\n",
       "VLADIMÍR MIŠÍK & ETC...                                BYL JSEM DOBREJ                                                              dvojka           3\n",
       "VLADIMÍR MIŠÍK                                         ŠEDESÁTÁ LÉTA                                                                radiozurnal      3\n",
       "ADAM MIŠÍK & VLADIMÍR MIŠÍK                            VARIACE NA RENESANČNÍ TÉMA                                                   dvojka           3\n",
       "VLADIMÍR MIŠÍK                                         JEDNOHUBKY                                                                   dvojka           3\n",
       "VLADIMÍR MIŠÍK & ETC...                                PROČ TA RŮŽE UVADÁ                                                           dvojka           3\n",
       "VLADIMÍR MIŠÍK                                         NOČNÍ OBRAZ                                                                  dvojka           3\n",
       "                                                       ŠMAJDÁKY A PLOUŽÁKY                                                          dvojka           2\n",
       "BLUE EFFECT - VL.MIŠÍK                                 SLUNEČNÝ HROB                                                                dvojka           2\n",
       "ADAM MIŠÍK & CELESTE BUCKINGHAM                        ONE LIFE                                                                     radiozurnal      2\n",
       "VLADIMÍR MIŠÍK                                         KDO PŘIJDE PO MNĚ                                                            dvojka           2\n",
       "BLUE EFFECT, VLADIMÍR MIŠÍK                            SLUNEČNÝ HROB                                                                radiozurnal      2\n",
       "ADAM MIŠÍK,  VLADIMÍR MIŠÍK                            VARIACE NA RENESANČNÍ TÉMA                                                   dvojka           2\n",
       "ADAM MIŠÍK                                             V TOBĚ                                                                       radiozurnal      2\n",
       "                                                                                                                                    dvojka           2\n",
       "MIŠÍK VLADIMÍR                                         RÁM PŘÍŠTÍCH OBRAZŮ                                                          dvojka           2\n",
       "MIŠÍK VLADIMIR                                         PROČ TA RŮŽE UVADÁ                                                           dvojka           2\n",
       "VLADIMÍR MIŠÍK                                         KOČKY MŇOUKALY NA STŘEŠE                                                     dvojka           2\n",
       "                                                       ŠPEJCHAR BLUES                                                               dvojka           1\n",
       "VLADIMÍR MIŠÍK & ETC...                                ŠERO V KAVÁRNĚ                                                               dvojka           1\n",
       "VLADIMÍR MIŠÍK                                         ZA VODOU                                                                     dvojka           1\n",
       "VLADIMÍR MIŠÍK, ETC                                    JEDNOHUBKY (ADMIN)                                                           vltava           1\n",
       "                                                       ZTRACENÝ PODZIM                                                              dvojka           1\n",
       "ADAM MIŠÍK                                             TVOJE SVĚTY                                                                  dvojka           1\n",
       "ADAM MIŠÍK, BEN CRISTOVAO                              ZAPOMENOUT                                                                   dvojka           1\n",
       "VLADIMÍR MIŠÍK                                         PO DLOUHÉM DNI                                                               dvojka           1\n",
       "ADAM MIŠÍK, VLADIMÍR MIŠÍK                             VARIACE NA RENESANČNÍ TÉMA                                                   radiozurnal      1\n",
       "BLUE EFFECT - VL.MIŠÍK                                 SLUNEČNÝ HROB (V.MIŠÍK/J.SMETANA)                                            vltava           1\n",
       "ETC..., VLADIMÍR MIŠÍK                                 STŘÍHALI DOHOLA MALÉHO CHLAPEČKA                                             radiozurnal      1\n",
       "dtype: int64"
      ]
     },
     "execution_count": 23,
     "metadata": {},
     "output_type": "execute_result"
    }
   ],
   "source": [
    "hraje('mišík')"
   ]
  },
  {
   "cell_type": "code",
   "execution_count": 24,
   "id": "4068676e",
   "metadata": {},
   "outputs": [
    {
     "data": {
      "text/plain": [
       "interpret                        track                                           stanice    \n",
       "ROLLING STONES                   ANYBODY SEEN MY BABY                            radiozurnal    219\n",
       "                                 START ME UP                                     radiozurnal    207\n",
       "                                 ANGIE                                           radiozurnal    165\n",
       "                                                                                 dvojka          68\n",
       "SLOWLY ROLLING CAMERA            PROTAGONIST                                     jazz            56\n",
       "ROLLING STONES                   ANGRY                                           radiozurnal     33\n",
       "                                 ANYBODY SEEN MY BABY                            dvojka          32\n",
       "ROLLING BLACKOUTS COASTAL FEVER  CAMEO                                           radiowave       25\n",
       "ROLLING STONES                   LIKE A ROLLING STONE                            dvojka          22\n",
       "                                 LADY JANE                                       dvojka          21\n",
       "                                 RUBY TUESDAY                                    pohoda          20\n",
       "                                 LET'S SPEND THE NIGHT TOGETHER                  pohoda          18\n",
       "                                 AS TEARS GO BY                                  pohoda          16\n",
       "                                 BROWN SUGAR                                     dvojka          16\n",
       "                                 (I CAN'T GET NO) SATISFACTION                   pohoda          15\n",
       "                                 START ME UP                                     dvojka          14\n",
       "THE ROLLING STONES               ANGRY                                           dvojka          13\n",
       "ROLLING STONES                   SATISFACTION (I CAN'T GET NO)                   radiozurnal     11\n",
       "                                 LADY JANE                                       pohoda          11\n",
       "                                 PAINT IT, BLACK                                 pohoda          10\n",
       "                                 WILD HORSES                                     dvojka          10\n",
       "                                 RUBY TUESDAY                                    dvojka           9\n",
       "                                 SATISFACTION (I CAN´T GET NO)                   dvojka           9\n",
       "                                 AS TEARS GO BY                                  dvojka           9\n",
       "                                 WILD HORSES                                     radiozurnal      6\n",
       "                                 IT'S ALL OVER NOW                               dvojka           6\n",
       "THE ROLLING STONES               MISS YOU                                        dvojka           5\n",
       "ROLLING STONES                   OUT OF TIME                                     dvojka           5\n",
       "                                 LOVE IS STRONG                                  dvojka           5\n",
       "SLOWLY ROLLING CAMERA            LOST ORBITS (DAVE STAPLETON)                    vltava           5\n",
       "ROLLING STONES                   LET'S SPEND THE NIGHT TOGETHER                  dvojka           5\n",
       "                                 /I CAN T GET NO / SATISFUCTION                  dvojka           5\n",
       "THE ROLLING STONES               ANYBODY SEEN MY BABY                            dvojka           5\n",
       "ROLLING STONES                   (I CAN'T GET NO) SATISFACTION                   dvojka           5\n",
       "THE ROLLING STONES               LIVING IN A GHOST TOWN                          dvojka           4\n",
       "SLOWLY ROLLING CAMERA            ILLUMINATE (DAVE STAPLETON & SACHAL VASANDANI)  vltava           4\n",
       "ROLLING STONES                   PAINT IT BLACK                                  dvojka           4\n",
       "THE ROLLING STONES & LADY GAGA   SWEET SOUNDS OF HEAVEN                          dvojka           3\n",
       "ROLLING STONES                   ANGRY                                           dvojka           3\n",
       "                                 HONKY TONK WOMAN                                radiozurnal      3\n",
       "                                 LADY JANE                                       radiozurnal      2\n",
       "                                 HONKY TONK WOMEN                                dvojka           2\n",
       "                                 JUMPING JACK FLASH                              dvojka           2\n",
       "                                 TIME IS ON MY SIDE                              dvojka           2\n",
       "THE ROLLING STONES               LIKE A ROLLING STONE                            dvojka           2\n",
       "ROLLING STONES                   (I CAN´T GET NO) SATISFACTION                   dvojka           2\n",
       "THE ROLLING STONES               HONKY TONK WOMEN                                plus             1\n",
       "                                                                                 dvojka           1\n",
       "ROLLING STONES                   ANGIE (JAGGER/RICHARDS)                         vltava           1\n",
       "                                 TIME IS ON MY SIDE                              radiowave        1\n",
       "dtype: int64"
      ]
     },
     "execution_count": 24,
     "metadata": {},
     "output_type": "execute_result"
    }
   ],
   "source": [
    "hraje('rolling')"
   ]
  },
  {
   "cell_type": "code",
   "execution_count": 25,
   "id": "00b2138e",
   "metadata": {},
   "outputs": [
    {
     "data": {
      "text/plain": [
       "interpret  track                                               stanice    \n",
       "BOB DYLAN  SUBTERRANEAN HOMESICK BLUES                         pohoda         23\n",
       "           I WANT YOU                                          pohoda         20\n",
       "           LAY LADY LAY                                        pohoda         18\n",
       "           BLOWIND IN THE WIND                                 pohoda         17\n",
       "           LIKE A ROLLING STONE                                pohoda         16\n",
       "           FOREVER YOUNG                                       vltava          9\n",
       "           KNOCKIN ON HEAVEN S DOOR                            dvojka          8\n",
       "           I WANT YOU                                          dvojka          8\n",
       "           IT AIN'T ME BABE                                    vltava          7\n",
       "           IT TAKES A LOT TO LAUGH, IT TAKES A TRAIN TO CRY    vltava          7\n",
       "           MOTHER OF MUSES                                     vltava          7\n",
       "           FALSE PROPHET                                       vltava          6\n",
       "           LIKE A ROLLING STONE                                dvojka          6\n",
       "           MASTERS OF WAR                                      vltava          6\n",
       "           BLACK RIDER                                         vltava          6\n",
       "           THE TIMES THEY ARE A-CHANGIN'                       dvojka          5\n",
       "           KNOCKIN' ON HEAVEN'S DOOR                           dvojka          4\n",
       "           BLOWIN' IN THE WIND                                 dvojka          4\n",
       "           LIKE A ROLLING STONE                                radiozurnal     3\n",
       "           JUST LIKE A WOMAN                                   dvojka          3\n",
       "           MR. TAMBOURINE MAN                                  dvojka          2\n",
       "           LAY LADY LAY                                        dvojka          2\n",
       "           BLOWIN´ IN THE WIND                                 dvojka          2\n",
       "           IT AIN'T ME BABE (BOB DYLAN)                        vltava          1\n",
       "           DON'T THINK TWICE, IT'S ALL RIGHT                   dvojka          1\n",
       "           BLOWIN IN THE WIND                                  dvojka          1\n",
       "           THE TIMES THEY ARE A CHANGING                       dvojka          1\n",
       "           THE CHRISTMAS BLUES (SAMMY CAHN & DAVID JACK HOLT)  vltava          1\n",
       "           BLOWIND IN THE WIND                                 dvojka          1\n",
       "           MOTHER OF MUSES (BOB DYLAN)                         vltava          1\n",
       "           BLOWING IN THE WIND                                 dvojka          1\n",
       "           MASTERS OF WAR (BOB DYLAN)                          vltava          1\n",
       "           CRY A WHILE                                         dvojka          1\n",
       "           FALSE PROPHET (BOB DYLAN)                           vltava          1\n",
       "           I WANT YOU (ADMIN)                                  vltava          1\n",
       "           LAY, LADY, LAY (TAKE 2)                             dvojka          1\n",
       "           LAY LADY LAY (BURDA JIŘÍ)                           vltava          1\n",
       "           LAY LADY LAY                                        vltava          1\n",
       "           FOREVER YOUNG (BOB DYLAN)                           vltava          1\n",
       "           KNOCKIN' ON HEAVEN'S DOOR (ADMIN)                   vltava          1\n",
       "           KNOCKIN' ON HEAVEN'S DOOR                           radiozurnal     1\n",
       "           HIGWAY 61 REVISITED                                 dvojka          1\n",
       "           I WANT YOU                                          vltava          1\n",
       "           BLACK RIDER (BOB DYLAN)                             vltava          1\n",
       "           THINGS HAVE CHANGED                                 vltava          1\n",
       "dtype: int64"
      ]
     },
     "execution_count": 25,
     "metadata": {},
     "output_type": "execute_result"
    }
   ],
   "source": [
    "hraje('bob dylan')"
   ]
  },
  {
   "cell_type": "code",
   "execution_count": 26,
   "id": "89ed593a",
   "metadata": {},
   "outputs": [
    {
     "data": {
      "text/plain": [
       "interpret                                          track                              stanice    \n",
       "MARTA KUBIŠOVÁ                                     DEPEŠE                             pohoda         161\n",
       "                                                   NEPIŠ DÁL                          pohoda         152\n",
       "                                                   POJĎ A MĚJ MNĚ RÁD                 pohoda         140\n",
       "                                                   LOUDÁ SE PŮLMĚSÍC                  pohoda         113\n",
       "                                                   NENÍ TO LÁSKA                      pohoda         111\n",
       "                                                   RING-O-DING                        pohoda         108\n",
       "                                                   NECHTE ZVONY ZNÍT                  pohoda          99\n",
       "                                                   CESTA                              pohoda          96\n",
       "                                                   NECHTE ZVONY ZNÍT                  dvojka          93\n",
       "                                                   DEPEŠE                             dvojka          92\n",
       "                                                   MAGDALÉNA                          pohoda          88\n",
       "                                                   VŠECHNY BOLESTI UTIŠÍ LÁSKA        pohoda          76\n",
       "                                                   HEJ, JUDE                          pohoda          73\n",
       "                                                   S NEBÝVALOU OCHOTOU                pohoda          58\n",
       "                                                   PROUDY                             pohoda          56\n",
       "                                                   LAMPA                              pohoda          55\n",
       "                                                   MAMÁ                               pohoda          54\n",
       "                                                   DOBRODRUŽSTVÍ S BOHEM PANEM        pohoda          52\n",
       "                                                   RING-O-DING                        dvojka          50\n",
       "                                                   DENNĚ ČEKÁM                        pohoda          44\n",
       "                                                   JÁ DOVEDU LHÁT                     pohoda          42\n",
       "                                                   TVŮJ KRÉM, TVŮJ NŮŽ, TVŮJ RŮŽENEC  pohoda          40\n",
       "                                                   HEJ, JUDE (HEY, JUDE)              dvojka          40\n",
       "                                                   S NEBÝVALOU OCHOTOU                dvojka          34\n",
       "                                                   MODLITBA PRO MARTU                 dvojka          34\n",
       "                                                   HEY, JUDE                          dvojka          29\n",
       "                                                   DOBRODRUŽSTVÍ S BOHEM PANEM        dvojka          25\n",
       "                                                   MAGDALENA                          pohoda          23\n",
       "                                                   VOLÁM NA SHLEDANOU                 pohoda          22\n",
       "                                                   MAGDALENA                          dvojka          20\n",
       "                                                   HEJ JUDE                           pohoda          19\n",
       "                                                   NEPIŠ DÁL                          dvojka          18\n",
       "                                                   LOUDÁ SE PŮLMĚSÍC                  dvojka          17\n",
       "                                                   TICHÁ NOC                          pohoda          11\n",
       "                                                   LAVIČKA V JASMÍNU                  pohoda           9\n",
       "                                                   MAMA                               dvojka           7\n",
       "                                                   MODLITBA PRO MARTU                 radiozurnal      6\n",
       "                                                   ZDIVOČELÁ ZEMĚ                     dvojka           5\n",
       "                                                   MÁJ                                dvojka           4\n",
       "                                                   LAMPA                              dvojka           4\n",
       "                                                   CESTA                              dvojka           4\n",
       "                                                   HEY JUDE                           radiozurnal      4\n",
       "VÁCLAV NECKÁŘ,  MARTA KUBIŠOVÁ                     NOC                                radiozurnal      4\n",
       "MARTA KUBIŠOVÁ                                     VOLÁM NASHLEDANOU                  pohoda           4\n",
       "                                                   JÁ DOVEDU LHÁT                     dvojka           3\n",
       "                                                   MAGDALÉNA                          dvojka           3\n",
       "ANETA LANGEROVÁ, MARTA KUBIŠOVÁ                    ŽIVOT NENÍ PES                     dvojka           3\n",
       "MARTA KUBIŠOVÁ                                     NECHCI BÝT TA DRUHÁ                dvojka           3\n",
       "                                                   ŘEKA VŮNÍ                          dvojka           3\n",
       "HELENA VONDRÁČKOVÁ, MARTA KUBIŠOVÁ, VÁCLAV NECKÁŘ  ČASY SE MĚNÍ                       dvojka           3\n",
       "dtype: int64"
      ]
     },
     "execution_count": 26,
     "metadata": {},
     "output_type": "execute_result"
    }
   ],
   "source": [
    "hraje('kubiš')"
   ]
  },
  {
   "cell_type": "code",
   "execution_count": 27,
   "id": "2ff65499",
   "metadata": {},
   "outputs": [
    {
     "data": {
      "text/plain": [
       "interpret                  track                              stanice    \n",
       "VELVET UNDERGROUND & NICO  SUNDAY MORNING                     pohoda         22\n",
       "THE VELVET UNDERGROUND     ALL TOMORROW'S PARTIES (LOU REED)  vltava          9\n",
       "                           JESUS (LOU REED & DOUG YULE)       vltava          6\n",
       "RED VELVET                 QUEENDOM                           radiowave       1\n",
       "THE VELVET UNDERGROUND     SWEET JANE                         radiowave       1\n",
       "VELVET HONEY               IT'S TIME TO BREATHE               radiozurnal     1\n",
       "VELVET UNDERGROUND & NICO  I'LL BE YOUR MIRROR                dvojka          1\n",
       "                                                              vltava          1\n",
       "                           SUNDAY MORNING                     radiowave       1\n",
       "dtype: int64"
      ]
     },
     "execution_count": 27,
     "metadata": {},
     "output_type": "execute_result"
    }
   ],
   "source": [
    "hraje('velvet')"
   ]
  },
  {
   "cell_type": "code",
   "execution_count": 28,
   "id": "dc5cb841",
   "metadata": {},
   "outputs": [
    {
     "data": {
      "text/plain": [
       "interpret                                                       track                                                                                stanice  \n",
       "STUDIOVÝ ORCHESTR                                               ČESKÁ STÁTNÍ HYMNA                                                                   dvojka       1000\n",
       "COTATCHA ORCHESTRA                                              SEN SEI                                                                              jazz          218\n",
       "JAZZ AT LINCOLN CENTER ORCHESTRA & WYNTON MARSALIS              THE THREE MARIAS                                                                     jazz          200\n",
       "COTATCHA ORCHESTRA                                              BILLY'S PILGRIMAGE                                                                   jazz          190\n",
       "ORCHESTRE NATIONAL DE JAZZ                                      WONDER TWIN POWERS ACTIVATE!                                                         jazz          179\n",
       "MATTHEW HALSALL & THE GONDWANA ORCHESTRA                        ONLY A WOMAN                                                                         jazz          146\n",
       "JAZZOVÝ ORCHESTR ČESKOSLOVENSKÉHO ROZHLASU                      STARÉ KOŘENÍ                                                                         jazz          141\n",
       "                                                                VÝCHOD SLUNCE                                                                        jazz          138\n",
       "HIDDEN ORCHESTRA                                                FOURTH WALL                                                                          jazz          136\n",
       "JAZZ AT LINCOLN CENTER ORCHESTRA                                ELLINGTON'S STRAY HORN                                                               jazz          133\n",
       "JOHNNY GRIFFIN ORCHESTRA                                        WADE IN THE WATER                                                                    jazz          119\n",
       "BUDDY RICH AND HIS ORCHESTRA                                    BLUES FOR BASIE                                                                      jazz          100\n",
       "MODERN ART ORCHESTRA                                            CHAPTER FOUR                                                                         jazz           97\n",
       "ED PARTYKA ORCHESTRA                                            VERTICAL CONVERTIBLE                                                                 jazz           93\n",
       "JAZZ AT LINCOLN CENTER ORCHESTRA                                DALI                                                                                 jazz           87\n",
       "CINEMATIC ORCHESTRA & ROOTS MANUVA                              ALL THINGS TO ALL MEN                                                                radiowave      85\n",
       "JOHNNY GRIFFIN ORCHESTRA                                        SO TIRED                                                                             jazz           85\n",
       "AVISHAI COHEN & GOTHENBURG SYMPHONY ORCHESTRA                   ALON BASELA                                                                          jazz           81\n",
       "MAGIC MALIK ORCHESTRA                                           VOLEO                                                                                jazz           80\n",
       "AVISHAI COHEN & GOTHENBURG SYMPHONY ORCHESTRA                   ARAB MEDLEY                                                                          jazz           79\n",
       "RAY CHARLES/COUNT BASIE ORCHESTRA                               COME LIVE WITH ME                                                                    jazz           79\n",
       "                                                                OH, WHAT A BEAUTIFUL MORNING                                                         jazz           78\n",
       "                                                                HOW LONG HAS THIS BEEN GOING ON?                                                     jazz           77\n",
       "KRISTJAN RANDALU & NEW WIND JAZZ ORCHESTRA                      SISU                                                                                 jazz           74\n",
       "MATTHEW HALSALL & THE GONDWANA ORCHESTRA                        THE LAND OF                                                                          jazz           74\n",
       "MODERN ART ORCHESTRA                                            DARK FOREST                                                                          jazz           74\n",
       "MARIUS NESET & TRONDHEIM JAZZ ORCHESTRA                         GOLDEN XPLOSION                                                                      jazz           72\n",
       "OLIVER NELSON AND HIS ORCHESTRA                                 TAKE ME WITH YOU                                                                     jazz           68\n",
       "SAMUEL RAMEY & LONDON PHILHARMONIC ORCHESTRA, DIR. GEORG SOLTI  NON PIU ANDRAI, ÁRIE Z 1. DĚJSTVÍ OPERY FIGARO                                       d              68\n",
       "COTATCHA ORCHESTRA                                              [SARDA]NAPALM                                                                        jazz           64\n",
       "TODD MARCUS JAZZ ORCHESTRA                                      CAIRO STREET RIDE                                                                    jazz           64\n",
       "ENNIO MORRICONE & HIS ORCHESTRA                                 THE GOOD, THE BAD AND THE UGLY                                                       pohoda         59\n",
       "AVISHAI COHEN & GOTHENBURG SYMPHONY ORCHESTRA                   TWO ROSES (SHNEI SHOSHANIM)                                                          jazz           56\n",
       "EURORADIO JAZZ ORCHESTRA                                        JAN ZRZAVÝ - SEA SIDE                                                                jazz           53\n",
       "ORCHESTR PETRA FINKA                                            JEŠTĚ JÁ SE PODÍVÁM                                                                  pohoda         53\n",
       "STROM STÍNU & BUCINATORES ORCHESTRA                             NIKDY V ŽIVOTĚ                                                                       jazz           53\n",
       "MAXIME BENDER ORCHESTRA                                         FELLOWSHIP                                                                           jazz           52\n",
       "STROM STÍNU & BUCINATORES ORCHESTRA                             ZIMA                                                                                 jazz           51\n",
       "UNKNOWN MORTAL ORCHESTRA                                        MULTI-LOVE                                                                           radiowave      50\n",
       "HENRY MANCINI ORCHESTRA                                         PETER GUNN                                                                           pohoda         49\n",
       "OLIVER NELSON AND HIS ORCHESTRA                                 A BIENTOT                                                                            jazz           49\n",
       "MARIUS NESET & NORWEGIAN RADIO ORCHESTRA                        MATH OF MARS                                                                         jazz           47\n",
       "SALONNÍ ORCHESTR JOSEFA VEJVODY                                 ANDULIČKA                                                                            pohoda         47\n",
       "ORCHESTR PETRA FINKA                                            AŽ JÁ BUDU RUKOVAT                                                                   pohoda         46\n",
       "                                                                TEN VEČER MÁJOVÝ                                                                     pohoda         46\n",
       "STUDIOVÝ ORCHESTR                                               ANDULKO ŠAFÁŘOVÁ                                                                     pohoda         45\n",
       "THE GIL EVANS ORCHESTRA                                         ANGEL                                                                                jazz           45\n",
       "MAGIC MALIK ORCHESTRA                                           OVNI                                                                                 jazz           44\n",
       "MAHAVISHNU ORCHESTRA                                            I WONDER                                                                             jazz           44\n",
       "KAREL KRAUTGARTNER & ORCHESTR KARLA KRAUTGARTNERA               EBONY CONCERTO, KONCERT PRO KLARINET A JAZZOVÝ ORCHESTR - 1. ČÁST, ALLEGRO MODERATO  d              43\n",
       "dtype: int64"
      ]
     },
     "execution_count": 28,
     "metadata": {},
     "output_type": "execute_result"
    }
   ],
   "source": [
    "hraje('orchestr')"
   ]
  },
  {
   "cell_type": "code",
   "execution_count": 29,
   "id": "4704d00b",
   "metadata": {},
   "outputs": [
    {
     "data": {
      "text/plain": [
       "interpret   track                                           stanice    \n",
       "KAREL KRYL  BRATŘÍČKU, ZAVÍREJ VRÁTKA                       dvojka         8\n",
       "            MARTINA                                         dvojka         8\n",
       "            MORITURI TE SALUTANT                            dvojka         6\n",
       "            ANDĚL                                           dvojka         3\n",
       "            BRATŘÍČKU, ZAVÍREJ VRÁTKA                       radiozurnal    3\n",
       "            PÍSEŇ O ŽRÁDLE                                  vltava         3\n",
       "            BRATŘÍČKU,  ZAVÍREJ VRÁTKA                      dvojka         2\n",
       "            SAMETOVÉ JARO                                   vltava         2\n",
       "            KARAVANA MRAKŮ (ADMIN)                          vltava         2\n",
       "            KARAVANA MRAKŮ                                  dvojka         2\n",
       "            BRATŘÍČKU, ZAVÍREJ VRÁTKA                       vltava         2\n",
       "            KARAVANA MRAKŮ                                  radiozurnal    1\n",
       "            MARAT VE VANĚ                                   radiowave      1\n",
       "            BRATŘÍČKU, ZAVÍREJ VRÁTKA - KAREL KRYL (ADMIN)  vltava         1\n",
       "            BRATŘÍČKU, ZAVÍREJ VRÁTKA - KAREL KRYL          dvojka         1\n",
       "            PÍSEŇ NEZNÁMÉHO VOJÍNA                          dvojka         1\n",
       "            BRATŘÍČKU, ZAVÍREJ VRÁTKA                       radiowave      1\n",
       "            VELIČENSTVO KAT                                 dvojka         1\n",
       "KRYL KAREL  ATLANTIS (K.KRYL / K.KRYL)                      vltava         1\n",
       "            STARÝ MLÝN - KAREL KRYL                         vltava         1\n",
       "dtype: int64"
      ]
     },
     "execution_count": 29,
     "metadata": {},
     "output_type": "execute_result"
    }
   ],
   "source": [
    "hraje('kryl')"
   ]
  },
  {
   "cell_type": "code",
   "execution_count": 30,
   "id": "ea1d1b26",
   "metadata": {},
   "outputs": [
    {
     "data": {
      "text/plain": [
       "interpret                         track                               stanice    \n",
       "JAROMÍR NOHAVICA                  MÁMA MI NA KRK DALA KLÍČ            dvojka         109\n",
       "                                  KOMETA                              radiozurnal     98\n",
       "                                  MÁM JIZVU NA RTU                    radiozurnal     97\n",
       "JAROMÍR NOHAVICA,  ČECHOMOR       BÁSNÍŘKA                            radiozurnal     84\n",
       "JAROMÍR NOHAVICA, JANA KIRSCHNER  PRVNÍ NOC V NOVÉM BYTĚ              radiozurnal     77\n",
       "JAROMÍR NOHAVICA                  SAKO ZE SAMETU                      radiozurnal     77\n",
       "                                  STARÝ MUŽ                           dvojka          76\n",
       "                                  ZATÍMCO SE KOUPEŠ                   radiozurnal     59\n",
       "JAROMÍR NOHAVICA/JANA KIRSCHNER   PRVNÍ NOC V NOVÉM BYTĚ              dvojka          47\n",
       "JAROMÍR NOHAVICA                  TĚŠÍNSKÁ                            dvojka          43\n",
       "                                  KOMETA                              dvojka          41\n",
       "                                  MUZEUM                              radiozurnal     40\n",
       "PETR NOHAVICA                     VINEFIELD NO. 2                     jazz            39\n",
       "                                  FOUR NOTES                          jazz            37\n",
       "JAROMÍR NOHAVICA                  MÁM JIZVU NA RTU                    dvojka          32\n",
       "                                  VLAŠTOVKO LEŤ                       dvojka          25\n",
       "PETR NOHAVICA                     GASP                                jazz            24\n",
       "JAROMÍR NOHAVICA                  PODEJ MI RUKU  A PROJDEM VÁCLAVÁK   dvojka          15\n",
       "KRYŠTOF/JAROMÍR NOHAVICA          KŘÍDLA Z MÝDLA                      dvojka          14\n",
       "JAROMÍR NOHAVICA                  PODEJ MI RUKU A PROJDEM VÁCLAVÁK    dvojka          14\n",
       "                                  DOKUD SE ZPÍVÁ                      dvojka          12\n",
       "                                  LADOVSKÁ ZIMA                       dvojka           5\n",
       "                                  TŘI ČUNÍCI                          dvojka           4\n",
       "JAROMÍR NOHAVICA/ČECHOMOR         KOMETA                              dvojka           3\n",
       "JAROMÍR NOHAVICA                  PANE PREZIDENTE                     dvojka           3\n",
       "                                  V PŮLNOČNÍ HODINU                   dvojka           2\n",
       "JANA KIRSCHNER, JAROMÍR NOHAVICA  PRVNÍ NOC V NOVÉM BYTĚ              dvojka           2\n",
       "JAROMÍR NOHAVICA                  GRÓNSKÁ PÍSNIČKA                    dvojka           2\n",
       "PETR NOHAVICA                     VINEFIELD NO. 1                     vltava           2\n",
       "NOHAVICA JAROMÍR                  SPATŘIL JSEM KOMETU                 dvojka           2\n",
       "                                  PODZEMNÍ PRAMENY                    dvojka           1\n",
       "                                  STARÝ MUŽ                           dvojka           1\n",
       "PETR NOHAVICA                     EVEN IF                             vltava           1\n",
       "NOHAVICA JAROMÍR                  MIKYMAUZ (J.NOHAVICA / J.NOHAVICA)  vltava           1\n",
       "                                  KOŠILKA - NOHAVICA                  dvojka           1\n",
       "                                  JÁ SI TO PAMATUJU                   dvojka           1\n",
       "NOHAVICA JAREK/ ČECHOMOR          KOMETA                              dvojka           1\n",
       "NOHAVICA JAREK                    KOMETA - NOHAVICA JAREK             dvojka           1\n",
       "NOHAVICA                          TŘI ČUNÍCI                          dvojka           1\n",
       "JAROMÍR NOHAVICA                  MARIA PANNA                         dvojka           1\n",
       "JAREK NOHAVICA                    TĚŠÍNSKÁ                            dvojka           1\n",
       "JAROMÍR NOHAVICA, PETER CMORÍK    KŘÍŽ SVŮJ NESEME                    dvojka           1\n",
       "JAROMÍR NOHAVICA                  AŽ TO SE MNOU SEKNE                 dvojka           1\n",
       "                                  DIVOCÍ KONĚ                         dvojka           1\n",
       "                                  MILIONÁŘ                            dvojka           1\n",
       "                                  ZATÍMCO SE KOUPEŠ                   dvojka           1\n",
       "JAREK NOHAVICA                    STARÝ MUŽ                           dvojka           1\n",
       "JAROMÍR NOHAVICA                  FOTBAL                              dvojka           1\n",
       "                                  SARAJEVO                            dvojka           1\n",
       "                                  GAUDEAMUS IGITUR                    dvojka           1\n",
       "dtype: int64"
      ]
     },
     "execution_count": 30,
     "metadata": {},
     "output_type": "execute_result"
    }
   ],
   "source": [
    "hraje('nohavi')"
   ]
  },
  {
   "cell_type": "code",
   "execution_count": 31,
   "id": "c664cf0b",
   "metadata": {},
   "outputs": [
    {
     "data": {
      "text/plain": [
       "interpret        track                   stanice\n",
       "RICCHI E POVERI  MADE IN ITALY           dvojka     36\n",
       "                 COMME VORREI            dvojka     26\n",
       "                 SARÁ PERCHÉ TI AMO      dvojka     19\n",
       "                 ACAPULCO                dvojka      6\n",
       "                 COSA SEI                dvojka      6\n",
       "                 MAMMA MARIA             dvojka      4\n",
       "                 SARÁ PERCHE TI AMO      dvojka      4\n",
       "                 CANZONE D'AMORE         dvojka      2\n",
       "                 M' INNAMORO DI TE       dvojka      2\n",
       "                 SARA PERCHE TI AMO      dvojka      2\n",
       "                 BACIAMOCI               dvojka      1\n",
       "                 CIAO ITALY, CIAO AMORE  dvojka      1\n",
       "                 CIAO ITALY,CIAO AMORE   dvojka      1\n",
       "                 M´INNAMORO DI TE        dvojka      1\n",
       "                 VOULES VOUZ DANSER      dvojka      1\n",
       "dtype: int64"
      ]
     },
     "execution_count": 31,
     "metadata": {},
     "output_type": "execute_result"
    }
   ],
   "source": [
    "hraje('e pove')"
   ]
  },
  {
   "cell_type": "code",
   "execution_count": 32,
   "id": "eba64a14",
   "metadata": {},
   "outputs": [
    {
     "data": {
      "text/plain": [
       "interpret                                                      track                                                      stanice  \n",
       "SUFJAN STEVENS                                                 VIDEO GAME                                                 radiowave    101\n",
       "                                                               LONELY MAN OF WINTER (DOVEMAN MIX FT. MELISSA MARY AHERN)  radiowave     95\n",
       "SUFJAN STEVENS / BRYCE DESSNER / NICO MUHLY / JAMES MCALISTER  SATURN                                                     radiowave     89\n",
       "                                                               VENUS                                                      radiowave     87\n",
       "SUFJAN STEVENS                                                 I WALKED                                                   radiowave     82\n",
       "                                                               WILL ANYBODY EVER LOVE ME                                  radiowave     36\n",
       "                                                               WITH MY WHOLE HEART                                        radiowave     36\n",
       "                                                               URSA MAJOR                                                 vltava         7\n",
       "                                                               GET REAL GET RIGHT                                         radiowave      6\n",
       "                                                               DING-A-LING-A-RING-A-LING                                  radiowave      5\n",
       "                                                               ALL OF ME WANTS ALL OF YOU                                 radiowave      3\n",
       "                                                               SHOULD HAVE KNOWN BETTER                                   radiowave      1\n",
       "                                                               THE TRANSFIGURATION                                        radiowave      1\n",
       "                                                               URSA MAJOR (SUFJAN STEVENS)                                vltava         1\n",
       "dtype: int64"
      ]
     },
     "execution_count": 32,
     "metadata": {},
     "output_type": "execute_result"
    }
   ],
   "source": [
    "hraje('sufjan')"
   ]
  },
  {
   "cell_type": "code",
   "execution_count": 33,
   "id": "a4a0208a",
   "metadata": {},
   "outputs": [
    {
     "data": {
      "text/plain": [
       "interpret  track                  stanice  \n",
       "GRIMES     VIOLENCE FT. I_O       radiowave    82\n",
       "           FLESH WITHOUT BLOOD    radiowave    81\n",
       "           4/EM                   radiowave    62\n",
       "           OBLIVION               radiowave    52\n",
       "           GO FT. BLOOD DIAMONDS  radiowave    50\n",
       "           REALITI                radiowave    46\n",
       "           DELETE FOREVER         radiowave    41\n",
       "           GENESIS                radiowave    40\n",
       "           WE APPRECIATE POWER    radiowave    33\n",
       "dtype: int64"
      ]
     },
     "execution_count": 33,
     "metadata": {},
     "output_type": "execute_result"
    }
   ],
   "source": [
    "hraje('grimes')"
   ]
  },
  {
   "cell_type": "code",
   "execution_count": 34,
   "id": "ba10ea9e",
   "metadata": {},
   "outputs": [
    {
     "data": {
      "text/plain": [
       "interpret  track                    stanice  \n",
       "MIDI LIDI  LÁSKA                    radiowave    35\n",
       "           POJĎ VEN (EDIT)          radiowave    35\n",
       "           LUX                      radiowave    22\n",
       "                                    vltava        1\n",
       "           LÁSKA                    dvojka        1\n",
       "           NA TO NESMÍŠ ZAPOMENOUT  radiowave     1\n",
       "           PAPÁ                     radiowave     1\n",
       "           POKOJ                    dvojka        1\n",
       "dtype: int64"
      ]
     },
     "execution_count": 34,
     "metadata": {},
     "output_type": "execute_result"
    }
   ],
   "source": [
    "hraje('midi lidi')"
   ]
  },
  {
   "cell_type": "code",
   "execution_count": 35,
   "id": "742cb4b5",
   "metadata": {},
   "outputs": [
    {
     "data": {
      "text/plain": [
       "interpret  track  stanice  \n",
       "KAZETY     JIZVY  radiowave    85\n",
       "dtype: int64"
      ]
     },
     "execution_count": 35,
     "metadata": {},
     "output_type": "execute_result"
    }
   ],
   "source": [
    "hraje('kazety')"
   ]
  },
  {
   "cell_type": "code",
   "execution_count": 36,
   "id": "cd816c76",
   "metadata": {},
   "outputs": [
    {
     "data": {
      "text/plain": [
       "interpret                track                                                                                      stanice  \n",
       "MARGO                    THE FASCINATING STORY OF TSAR NICHOLAS AND WHAT HAPPENED TO OUR INTERPOLITICAL FRIENDSHIP  radiowave    132\n",
       "ZELA MARGOSSIAN QUINTET  REFUGE                                                                                     jazz          75\n",
       "                         ON YA                                                                                      jazz          73\n",
       "                         TIMELESS                                                                                   jazz          69\n",
       "MARGO                    A WELL TRAVELED GENTLEMAN MR. PARTESH HAVING A DRINK ON THE 96TH FLOOR, WHAT A VIEW!       radiowave     42\n",
       "MARGO GURYAN             SUN                                                                                        radiowave      8\n",
       "dtype: int64"
      ]
     },
     "execution_count": 36,
     "metadata": {},
     "output_type": "execute_result"
    }
   ],
   "source": [
    "hraje('margo')"
   ]
  },
  {
   "cell_type": "code",
   "execution_count": 37,
   "id": "9dc7fc91",
   "metadata": {},
   "outputs": [
    {
     "data": {
      "text/plain": [
       "interpret  track          stanice  \n",
       "VENTOLIN   DISCO SCIENCE  radiowave    96\n",
       "           PŮJDEME VEN    radiowave    84\n",
       "           POSUN ČASU     radiowave    61\n",
       "           SUPERSONIK     radiowave    59\n",
       "           KAPESNÍK       radiowave     4\n",
       "           MECH           radiowave     3\n",
       "           PŮJDEME VEN    dvojka        1\n",
       "dtype: int64"
      ]
     },
     "execution_count": 37,
     "metadata": {},
     "output_type": "execute_result"
    }
   ],
   "source": [
    "hraje('ventol')"
   ]
  },
  {
   "cell_type": "code",
   "execution_count": 38,
   "id": "a61cebb1",
   "metadata": {},
   "outputs": [
    {
     "data": {
      "text/plain": [
       "interpret   track                                        stanice  \n",
       "POST-HUDBA  BEZPEČÍ A KLID                               radiowave    182\n",
       "            POŘÁD STEJNÝ POUŠTĚ                          radiowave    170\n",
       "            PŘÍSTAVY                                     radiowave     10\n",
       "            DO PRÁCE PŘES NUSELÁK, Z PRÁCE PŘES NUSELÁK  vltava         6\n",
       "            PRVNÍ SNÍH V PODOLÍ                          vltava         5\n",
       "            BEZPEČÍ A KLID                               vltava         4\n",
       "            BEZPEČÍ A KLID (VLADISLAV DUBA)              vltava         2\n",
       "            MODŘÍNOVÝ HÁJ                                vltava         2\n",
       "dtype: int64"
      ]
     },
     "execution_count": 38,
     "metadata": {},
     "output_type": "execute_result"
    }
   ],
   "source": [
    "hraje('post-hudb')"
   ]
  },
  {
   "cell_type": "code",
   "execution_count": 39,
   "id": "528b1042",
   "metadata": {},
   "outputs": [
    {
     "data": {
      "text/plain": [
       "interpret          track                                                 stanice  \n",
       "CAROLINE POLACHEK  SO COLD YOU'RE HURTING MY FEELINGS                    radiowave    125\n",
       "                   SMOKE                                                 radiowave     94\n",
       "                   BUNNY IS A RIDER                                      radiowave     89\n",
       "                   WELCOME TO MY ISLAND                                  radiowave     89\n",
       "                   OCEAN OF TEARS                                        radiowave     67\n",
       "                   DANG                                                  radiowave     30\n",
       "                   PANG                                                  radiowave      8\n",
       "                   SO HOT YOURE HURTING MY FEELINGS                      radiowave      4\n",
       "                   BILLIONS                                              radiowave      1\n",
       "                   BLOOD AND BUTTER                                      radiowave      1\n",
       "                   BLOOD AND BUTTER (CAROLINE POLACHEK & DANNY L HARLE)  vltava         1\n",
       "                   BUNNY IS A RIDER (NIKKI NAIR SATELLITE REMIX)         radiowave      1\n",
       "dtype: int64"
      ]
     },
     "execution_count": 39,
     "metadata": {},
     "output_type": "execute_result"
    }
   ],
   "source": [
    "hraje('polachek')"
   ]
  },
  {
   "cell_type": "code",
   "execution_count": 40,
   "id": "16e33c31",
   "metadata": {},
   "outputs": [
    {
     "data": {
      "text/plain": [
       "interpret               track                                   stanice  \n",
       "GLEB                    ALIBABABIGBASS                          radiowave    121\n",
       "                        BUDEME TAM FT. VI3E                     radiowave    120\n",
       "                        GO GO GO                                radiowave     77\n",
       "                        GAUČ STORYTELLING                       radiowave     74\n",
       "                        ZEŠLACH CRUNK                           radiowave     70\n",
       "GLEB ZOO                GAUČ STORYTELLING                       radiowave     64\n",
       "GLEB                    WORKIN WORKIN                           radiowave     52\n",
       "                        MC ERIK & BARBARA FT. NATÁLIA HULEJOVÁ  radiowave     37\n",
       "BIG BOY GLEB            ŠEDÁ HUS                                radiowave      1\n",
       "GLEB                    BUDEME TAM                              radiowave      1\n",
       "GLEB X SEPAR            HEY G                                   radiowave      1\n",
       "GLEB ZOO                GAUČ STORYTELLING                       dvojka         1\n",
       "GLEB, DALYB, FOBIA KID  2000X                                   radiowave      1\n",
       "dtype: int64"
      ]
     },
     "execution_count": 40,
     "metadata": {},
     "output_type": "execute_result"
    }
   ],
   "source": [
    "hraje('gleb')"
   ]
  },
  {
   "cell_type": "code",
   "execution_count": null,
   "id": "285b7a80",
   "metadata": {},
   "outputs": [],
   "source": []
  },
  {
   "cell_type": "code",
   "execution_count": 41,
   "id": "e28344ed",
   "metadata": {},
   "outputs": [
    {
     "data": {
      "text/html": [
       "<div>\n",
       "<style scoped>\n",
       "    .dataframe tbody tr th:only-of-type {\n",
       "        vertical-align: middle;\n",
       "    }\n",
       "\n",
       "    .dataframe tbody tr th {\n",
       "        vertical-align: top;\n",
       "    }\n",
       "\n",
       "    .dataframe thead th {\n",
       "        text-align: right;\n",
       "    }\n",
       "</style>\n",
       "<table border=\"1\" class=\"dataframe\">\n",
       "  <thead>\n",
       "    <tr style=\"text-align: right;\">\n",
       "      <th></th>\n",
       "      <th>since</th>\n",
       "      <th>id</th>\n",
       "      <th>interpret</th>\n",
       "      <th>interpret_id</th>\n",
       "      <th>track</th>\n",
       "      <th>track_id</th>\n",
       "      <th>stanice</th>\n",
       "      <th>rok</th>\n",
       "    </tr>\n",
       "  </thead>\n",
       "  <tbody>\n",
       "    <tr>\n",
       "      <th>47880</th>\n",
       "      <td>2022-01-06 23:01:12+01:00</td>\n",
       "      <td>12474636</td>\n",
       "      <td>GLEB ZOO</td>\n",
       "      <td>18622</td>\n",
       "      <td>GAUČ STORYTELLING</td>\n",
       "      <td>61548</td>\n",
       "      <td>dvojka</td>\n",
       "      <td>2022</td>\n",
       "    </tr>\n",
       "  </tbody>\n",
       "</table>\n",
       "</div>"
      ],
      "text/plain": [
       "                          since        id interpret  interpret_id  \\\n",
       "47880 2022-01-06 23:01:12+01:00  12474636  GLEB ZOO         18622   \n",
       "\n",
       "                   track  track_id stanice   rok  \n",
       "47880  GAUČ STORYTELLING     61548  dvojka  2022  "
      ]
     },
     "execution_count": 41,
     "metadata": {},
     "output_type": "execute_result"
    }
   ],
   "source": [
    "df[(df['interpret'] == 'GLEB ZOO') & (df['stanice'] == 'dvojka')]"
   ]
  },
  {
   "cell_type": "code",
   "execution_count": 42,
   "id": "bef4a2fd",
   "metadata": {},
   "outputs": [
    {
     "data": {
      "text/html": [
       "<div>\n",
       "<style scoped>\n",
       "    .dataframe tbody tr th:only-of-type {\n",
       "        vertical-align: middle;\n",
       "    }\n",
       "\n",
       "    .dataframe tbody tr th {\n",
       "        vertical-align: top;\n",
       "    }\n",
       "\n",
       "    .dataframe thead th {\n",
       "        text-align: right;\n",
       "    }\n",
       "</style>\n",
       "<table border=\"1\" class=\"dataframe\">\n",
       "  <thead>\n",
       "    <tr style=\"text-align: right;\">\n",
       "      <th></th>\n",
       "      <th>since</th>\n",
       "      <th>id</th>\n",
       "      <th>interpret</th>\n",
       "      <th>interpret_id</th>\n",
       "      <th>track</th>\n",
       "      <th>track_id</th>\n",
       "      <th>stanice</th>\n",
       "      <th>rok</th>\n",
       "    </tr>\n",
       "  </thead>\n",
       "  <tbody>\n",
       "    <tr>\n",
       "      <th>7515</th>\n",
       "      <td>2021-01-24 22:33:34+01:00</td>\n",
       "      <td>10474043</td>\n",
       "      <td>VENTOLIN</td>\n",
       "      <td>5344</td>\n",
       "      <td>PŮJDEME VEN</td>\n",
       "      <td>14462</td>\n",
       "      <td>dvojka</td>\n",
       "      <td>2021</td>\n",
       "    </tr>\n",
       "  </tbody>\n",
       "</table>\n",
       "</div>"
      ],
      "text/plain": [
       "                         since        id interpret  interpret_id        track  \\\n",
       "7515 2021-01-24 22:33:34+01:00  10474043  VENTOLIN          5344  PŮJDEME VEN   \n",
       "\n",
       "      track_id stanice   rok  \n",
       "7515     14462  dvojka  2021  "
      ]
     },
     "execution_count": 42,
     "metadata": {},
     "output_type": "execute_result"
    }
   ],
   "source": [
    "df[(df['interpret'] == 'VENTOLIN') & (df['stanice'] == 'dvojka')]"
   ]
  },
  {
   "cell_type": "code",
   "execution_count": 43,
   "id": "c3f06c43",
   "metadata": {},
   "outputs": [
    {
     "data": {
      "text/html": [
       "<div>\n",
       "<style scoped>\n",
       "    .dataframe tbody tr th:only-of-type {\n",
       "        vertical-align: middle;\n",
       "    }\n",
       "\n",
       "    .dataframe tbody tr th {\n",
       "        vertical-align: top;\n",
       "    }\n",
       "\n",
       "    .dataframe thead th {\n",
       "        text-align: right;\n",
       "    }\n",
       "</style>\n",
       "<table border=\"1\" class=\"dataframe\">\n",
       "  <thead>\n",
       "    <tr style=\"text-align: right;\">\n",
       "      <th></th>\n",
       "      <th>since</th>\n",
       "      <th>id</th>\n",
       "      <th>interpret</th>\n",
       "      <th>interpret_id</th>\n",
       "      <th>track</th>\n",
       "      <th>track_id</th>\n",
       "      <th>stanice</th>\n",
       "      <th>rok</th>\n",
       "    </tr>\n",
       "  </thead>\n",
       "  <tbody>\n",
       "    <tr>\n",
       "      <th>7516</th>\n",
       "      <td>2021-01-24 22:47:26+01:00</td>\n",
       "      <td>10474068</td>\n",
       "      <td>MIDI LIDI</td>\n",
       "      <td>317</td>\n",
       "      <td>POKOJ</td>\n",
       "      <td>324</td>\n",
       "      <td>dvojka</td>\n",
       "      <td>2021</td>\n",
       "    </tr>\n",
       "    <tr>\n",
       "      <th>18515</th>\n",
       "      <td>2021-04-27 22:46:51+01:00</td>\n",
       "      <td>10883357</td>\n",
       "      <td>MIDI LIDI</td>\n",
       "      <td>317</td>\n",
       "      <td>LÁSKA</td>\n",
       "      <td>1235</td>\n",
       "      <td>dvojka</td>\n",
       "      <td>2021</td>\n",
       "    </tr>\n",
       "  </tbody>\n",
       "</table>\n",
       "</div>"
      ],
      "text/plain": [
       "                          since        id  interpret  interpret_id  track  \\\n",
       "7516  2021-01-24 22:47:26+01:00  10474068  MIDI LIDI           317  POKOJ   \n",
       "18515 2021-04-27 22:46:51+01:00  10883357  MIDI LIDI           317  LÁSKA   \n",
       "\n",
       "       track_id stanice   rok  \n",
       "7516        324  dvojka  2021  \n",
       "18515      1235  dvojka  2021  "
      ]
     },
     "execution_count": 43,
     "metadata": {},
     "output_type": "execute_result"
    }
   ],
   "source": [
    "df[(df['interpret'] == 'MIDI LIDI') & (df['stanice'] == 'dvojka')]"
   ]
  },
  {
   "cell_type": "code",
   "execution_count": 44,
   "id": "c34e2caa",
   "metadata": {},
   "outputs": [
    {
     "data": {
      "text/html": [
       "<div>\n",
       "<style scoped>\n",
       "    .dataframe tbody tr th:only-of-type {\n",
       "        vertical-align: middle;\n",
       "    }\n",
       "\n",
       "    .dataframe tbody tr th {\n",
       "        vertical-align: top;\n",
       "    }\n",
       "\n",
       "    .dataframe thead th {\n",
       "        text-align: right;\n",
       "    }\n",
       "</style>\n",
       "<table border=\"1\" class=\"dataframe\">\n",
       "  <thead>\n",
       "    <tr style=\"text-align: right;\">\n",
       "      <th></th>\n",
       "      <th>since</th>\n",
       "      <th>id</th>\n",
       "      <th>interpret</th>\n",
       "      <th>interpret_id</th>\n",
       "      <th>track</th>\n",
       "      <th>track_id</th>\n",
       "      <th>stanice</th>\n",
       "      <th>rok</th>\n",
       "    </tr>\n",
       "  </thead>\n",
       "  <tbody>\n",
       "    <tr>\n",
       "      <th>44432</th>\n",
       "      <td>2021-12-07 22:47:55+01:00</td>\n",
       "      <td>12240162</td>\n",
       "      <td>RADIOHEAD</td>\n",
       "      <td>1267</td>\n",
       "      <td>CREEP</td>\n",
       "      <td>42843</td>\n",
       "      <td>dvojka</td>\n",
       "      <td>2021</td>\n",
       "    </tr>\n",
       "    <tr>\n",
       "      <th>77946</th>\n",
       "      <td>2022-09-21 23:48:43+01:00</td>\n",
       "      <td>15522599</td>\n",
       "      <td>RADIOHEAD</td>\n",
       "      <td>1267</td>\n",
       "      <td>CREEP</td>\n",
       "      <td>42843</td>\n",
       "      <td>dvojka</td>\n",
       "      <td>2022</td>\n",
       "    </tr>\n",
       "  </tbody>\n",
       "</table>\n",
       "</div>"
      ],
      "text/plain": [
       "                          since        id  interpret  interpret_id  track  \\\n",
       "44432 2021-12-07 22:47:55+01:00  12240162  RADIOHEAD          1267  CREEP   \n",
       "77946 2022-09-21 23:48:43+01:00  15522599  RADIOHEAD          1267  CREEP   \n",
       "\n",
       "       track_id stanice   rok  \n",
       "44432     42843  dvojka  2021  \n",
       "77946     42843  dvojka  2022  "
      ]
     },
     "execution_count": 44,
     "metadata": {},
     "output_type": "execute_result"
    }
   ],
   "source": [
    "df[(df['interpret'] == 'RADIOHEAD') & (df['stanice'] == 'dvojka')]"
   ]
  },
  {
   "cell_type": "code",
   "execution_count": 45,
   "id": "28020d05",
   "metadata": {},
   "outputs": [
    {
     "data": {
      "text/plain": [
       "interpret                               track                                                stanice    \n",
       "TAYLOR SWIFT                            CRUEL SUMMER                                         radiowave      136\n",
       "                                        EXILE FEAT. BON IVER                                 radiowave      103\n",
       "                                        I CAN SEE YOU                                        radiozurnal     31\n",
       "                                        ANTI-HERO                                            dvojka          17\n",
       "                                        CRUEL SUMMER                                         radiozurnal     16\n",
       "                                        WILLOW                                               dvojka          14\n",
       "                                        WILDEST DREAMS                                       dvojka           9\n",
       "                                        LAVENDER HAZE                                        dvojka           8\n",
       "                                        CRUEL SUMMER                                         dvojka           7\n",
       "BIG RED MACHINE FEAT. TAYLOR SWIFT      RENEGADE                                             radiowave        7\n",
       "ED SHEERAN FEAT. TAYLOR SWIFT           THE JOKER & THE QUEEN                                dvojka           6\n",
       "TAYLOR SWIFT                            BLANK SPACE                                          dvojka           5\n",
       "                                        BETTY                                                radiowave        5\n",
       "                                        CARDIGAN                                             radiowave        4\n",
       "                                        CHRISTMAS TREE FARM                                  dvojka           4\n",
       "TAYLOR SWIFT FEAT. ICE SPICE            KARMA                                                dvojka           4\n",
       "TAYLOR SWIFT                            SHAKE IT OFF                                         dvojka           4\n",
       "                                        NO BODY, NO CRIME FT. HAIM                           radiowave        4\n",
       "                                        CARDIGAN                                             dvojka           3\n",
       "TAYLOR SWIFT FEAT. BRANDON URIE         ME!                                                  dvojka           3\n",
       "TAYLOR SWIFT                            WILLOW                                               radiowave        3\n",
       "                                        LOVER                                                dvojka           3\n",
       "                                        ANTI-HERO                                            radiowave        2\n",
       "TAYLOR SWIFT & ICE SPICE                KARMA                                                radiowave        2\n",
       "TAYLOR SWIFT                            ALL TOO WELL (10 MINUTE VERSION) (TAYLOR’S VERSION)  radiowave        1\n",
       "                                        ****CW-I KNEW YOU WERE TROUBLE                       dvojka           1\n",
       "                                        BLANK SPACE                                          radiozurnal      1\n",
       "TAYLOR SWIFT FEAT. ED SHEERAN & FUTURE  END GAME                                             radiowave        1\n",
       "TAYLOR SWIFT                            DON'T BLAME ME                                       dvojka           1\n",
       "TAYLOR SWIFT  FEAT. BON IVER            EXILE                                                radiowave        1\n",
       "TAYLOR SWIFT                            END GAME                                             radiowave        1\n",
       "                                        A MESSAGE IN A BOTTLE (TAYLOR'S VERSION)             dvojka           1\n",
       "                                        LAVENDER HAZE                                        radiowave        1\n",
       "                                        WE ARE NEVER EVER GETTING BACK TOGETHER              dvojka           1\n",
       "                                        THE MAN                                              dvojka           1\n",
       "                                        I CAN SEE YOU (TAYLOR’S VERSION)                     radiowave        1\n",
       "                                        MESSAGE IN A BOTTLE                                  dvojka           1\n",
       "                                        I KNEW YOU WERE TROUBLE                              radiowave        1\n",
       "TAYLOR SWIFT,  BRANDON URIE             ME!                                                  dvojka           1\n",
       "dtype: int64"
      ]
     },
     "execution_count": 45,
     "metadata": {},
     "output_type": "execute_result"
    }
   ],
   "source": [
    "hraje('taylor swift')"
   ]
  },
  {
   "cell_type": "code",
   "execution_count": 46,
   "id": "1ac9e275",
   "metadata": {},
   "outputs": [
    {
     "data": {
      "text/plain": [
       "interpret  track                                    stanice  \n",
       "NĚCO NĚCO  ROVINA                                   radiowave    101\n",
       "           CO VLASTNĚ CHCEŠ                         radiowave     90\n",
       "           CO VLASTNĚ CHCEŠ II                      radiowave     40\n",
       "           CHYBY                                    radiowave     12\n",
       "           MEZERY (TOMÁŠ TKÁČ & ALŽBĚTA TRUSINOVÁ)  vltava         4\n",
       "dtype: int64"
      ]
     },
     "execution_count": 46,
     "metadata": {},
     "output_type": "execute_result"
    }
   ],
   "source": [
    "hraje('něco něco')"
   ]
  },
  {
   "cell_type": "code",
   "execution_count": 47,
   "id": "51cad1b9",
   "metadata": {},
   "outputs": [
    {
     "data": {
      "text/plain": [
       "interpret                                track                            stanice\n",
       "MARTHA ELEFTERIADU                       PROČ PŘICHÁZÍŠ TAK POZDĚ, LÁSKO  pohoda     154\n",
       "MARTHA A TENA ELEFTERIADU                OD ZÍTŘKA MÁME DOVOLENOU         pohoda     132\n",
       "                                         A DESKY DÁL STÁRNOU              pohoda     125\n",
       "                                         TOHLE BOOGIE - WOOGIE            pohoda     115\n",
       "                                         HREJ DÁL                         pohoda      85\n",
       "                                         AŤ SE MÚZY POPEROU               pohoda      64\n",
       "MARTHA A TENA ELEFTERIADU & BOB FRÍDL    ZPÍVEJ TU PÍSEŇ KOUZELNOU        pohoda      36\n",
       "MARTHA A TENA ELEFTERIADU                MODRÉ KRÁLOVSTVÍ                 pohoda      34\n",
       "TENA ELEFTERIADU                         PŮLNOČNÍ ČAS                     pohoda      34\n",
       "MARTHA A TENA ELEFTERIADU & IVAN MLÁDEK  DVĚ PLUS JEDEN                   pohoda      28\n",
       "MARTHA ELEFTERIADU                       MODRÉ KRÁLOVSTVÍ                 pohoda      20\n",
       "MARTHA A TENA ELEFTERIADU                HREJTE SWING                     pohoda       6\n",
       "                                         SRDCE NA DLANI                   dvojka       6\n",
       "ELEFTERIADU MARTHA A TENA                PROČ PŘICHÁZÍŠ TAK POZDĚ, LÁSKO  dvojka       4\n",
       "MARTHA A TENA ELEFTERIADU, BOB FRÍDL     ZPÍVEJ TU PÍSEŇ KOUZELNOU        dvojka       3\n",
       "MARTA & TENA ELEFTERIADU                 SULEJMON                         dvojka       2\n",
       "MARTHA/TENA ELEFTERIADU                  A DESKY DÁL STÁRNOU              dvojka       2\n",
       "MARTHA A TENA ELEFTERIADU                DÁL NEŽ SLUNCE VSTÁVÁ            dvojka       2\n",
       "                                         HREJ DÁL                         dvojka       2\n",
       "ELEFTERIADU MARTHA,  ELEFTERIADU TENA    BYL MŮJ PŘÍTEL                   dvojka       2\n",
       "MARTHA A TENA ELEFTERIADU                SULEJMON                         dvojka       2\n",
       "MARTHA/TENA ELEFTERIADU                  KDE SE HVĚZDY OČÍM ZTRÁCEJÍ      dvojka       1\n",
       "MARTHA A TENA ELEFTERIADU, JIŘÍ SUCHÝ    TENTO TÝDEN V PÁTEK              dvojka       1\n",
       "ELEFTERIADU MARTHA A TENA                HRAJTE SWING                     dvojka       1\n",
       "MARTHA A TENA ELEFTERIADU                ŽIVOT JE JEN NÁHODA              dvojka       1\n",
       "                                         TÁTO, POJĎ SI HRÁT               dvojka       1\n",
       "                                         NÁMĚSTÍ                          dvojka       1\n",
       "                                         A DESKY DÁL STÁRNOU              dvojka       1\n",
       "ELEFTERIADU MARTHA, ELEFTERIADU TENA     BYL MŮJ PŘÍTEL                   dvojka       1\n",
       "ELEFTERIADU MARTHA A TENA                PŮLNOC JE PRO MNE RÁNEM          dvojka       1\n",
       "MARTHA A TENA ELEFTERIADU                OD ZÍTŘKA MÁME DOVOLENOU         dvojka       1\n",
       "dtype: int64"
      ]
     },
     "execution_count": 47,
     "metadata": {},
     "output_type": "execute_result"
    }
   ],
   "source": [
    "hraje('elefteriadu')"
   ]
  },
  {
   "cell_type": "code",
   "execution_count": 48,
   "id": "37d4a437",
   "metadata": {},
   "outputs": [
    {
     "data": {
      "text/plain": [
       "interpret    track            stanice  \n",
       "OF MONTREAL  DOUR PERCENTAGE  radiowave    77\n",
       "             COQUET COQUETTE  radiowave    56\n",
       "             JIGSAW PUZZLE    radiowave    21\n",
       "dtype: int64"
      ]
     },
     "execution_count": 48,
     "metadata": {},
     "output_type": "execute_result"
    }
   ],
   "source": [
    "hraje('of montreal')"
   ]
  },
  {
   "cell_type": "code",
   "execution_count": 49,
   "id": "000c552c",
   "metadata": {},
   "outputs": [
    {
     "data": {
      "text/plain": [
       "interpret           track                                    stanice  \n",
       "THE MOUNTAIN GOATS  ANDREW ELDRITCH IS MOVING BACK TO LEEDS  radiowave    170\n",
       "dtype: int64"
      ]
     },
     "execution_count": 49,
     "metadata": {},
     "output_type": "execute_result"
    }
   ],
   "source": [
    "hraje('mountain goats')"
   ]
  },
  {
   "cell_type": "code",
   "execution_count": 50,
   "id": "12aa7d48",
   "metadata": {},
   "outputs": [
    {
     "data": {
      "text/plain": [
       "interpret                              track                                                                              stanice    \n",
       "NICK CAVE, KYLIE MINOGUE               WHERE THE WILD ROSES GROW                                                          radiozurnal    241\n",
       "NICK CAVE & KYLIE MINOQUE              WHERE THE WILD ROSES GROW                                                          dvojka          50\n",
       "NICK CAVE AND THE BAD SEEDS            WE NO WHO U R (NICK CAVE & WARREN ELLIS)                                           vltava          11\n",
       "KYLIE MINOGUE, NICK CAVE               WHERE THE WILD ROSES GROW                                                          radiozurnal      8\n",
       "NICK CAVE                              IDIOT PRAYER                                                                       vltava           7\n",
       "                                       PALACES OF MONTEZUMA (NICK CAVE & WARREN ELLIS & MARTYN P. CASEY & JIM SCLAVUNOS)  vltava           7\n",
       "                                       SAD WATERS                                                                         vltava           7\n",
       "NICK CAVE & WARREN ELLIS               CARNAGE                                                                            vltava           6\n",
       "                                       LAVENDER FIELDS                                                                    vltava           5\n",
       "NICK CAVE, KYLIE MINOGUE               WHERE THE WILD ROSES GROW                                                          dvojka           2\n",
       "NICK CAVE & THE BAD SEEDS              SUPERNATURALLY                                                                     radiowave        2\n",
       "NICK CAVE/KYLIE MINOGUE                WHERE THE WILD ROSES GROW                                                          dvojka           2\n",
       "NICK CAVE & THE BAD SEEDS              RED RIGHT HAND                                                                     dvojka           2\n",
       "                                       RED RIGHT HAND (PETR JUNGMANN)                                                     vltava           1\n",
       "                                       DO YOU LOVE ME?                                                                    radiowave        1\n",
       "NICK CAVE & THE BAD SEEDS & PJ HARVEY  HENRY LEE                                                                          dvojka           1\n",
       "NICK CAVE & THE BAD SEEDS              DIG, LAZARUS, DIG!!!                                                               dvojka           1\n",
       "                                       BRING IT ON                                                                        radiowave        1\n",
       "NICK CAVE & WARREN ELLIS               WE ARE NOT ALONE                                                                   dvojka           1\n",
       "NICK CAVE AND THE BAD SEEDS            JESUS OF THE MOON                                                                  dvojka           1\n",
       "NICK CAVE  THE BAD SEEDS               INTO MY ARMS                                                                       vltava           1\n",
       "NICK CAVE THE BAD SEEDS                INTO MY ARMS (DALET GALAXY SERVICE)                                                vltava           1\n",
       "NICK CAVE                              SLOWLY GOES THE NIGHT                                                              dvojka           1\n",
       "                                       PALACES OF MONTEZUMA                                                               radiowave        1\n",
       "NICK CAVE & THE BAD SEEDS              RED RIGHT HAND                                                                     radiowave        1\n",
       "dtype: int64"
      ]
     },
     "execution_count": 50,
     "metadata": {},
     "output_type": "execute_result"
    }
   ],
   "source": [
    "hraje('nick cave')"
   ]
  },
  {
   "cell_type": "markdown",
   "id": "e8eab329",
   "metadata": {},
   "source": [
    "## Hledání písní"
   ]
  },
  {
   "cell_type": "code",
   "execution_count": 51,
   "id": "845a2ca5",
   "metadata": {},
   "outputs": [
    {
     "data": {
      "text/html": [
       "<div>\n",
       "<style scoped>\n",
       "    .dataframe tbody tr th:only-of-type {\n",
       "        vertical-align: middle;\n",
       "    }\n",
       "\n",
       "    .dataframe tbody tr th {\n",
       "        vertical-align: top;\n",
       "    }\n",
       "\n",
       "    .dataframe thead th {\n",
       "        text-align: right;\n",
       "    }\n",
       "</style>\n",
       "<table border=\"1\" class=\"dataframe\">\n",
       "  <thead>\n",
       "    <tr style=\"text-align: right;\">\n",
       "      <th></th>\n",
       "      <th>interpret</th>\n",
       "      <th>track</th>\n",
       "    </tr>\n",
       "  </thead>\n",
       "  <tbody>\n",
       "    <tr>\n",
       "      <th>158004</th>\n",
       "      <td>NOČNÍ OPTIKA</td>\n",
       "      <td>VRAŽDA V ORIENT EXPRESSU</td>\n",
       "    </tr>\n",
       "  </tbody>\n",
       "</table>\n",
       "</div>"
      ],
      "text/plain": [
       "           interpret                     track\n",
       "158004  NOČNÍ OPTIKA  VRAŽDA V ORIENT EXPRESSU"
      ]
     },
     "execution_count": 51,
     "metadata": {},
     "output_type": "execute_result"
    }
   ],
   "source": [
    "df[df['track'].str.lower().str.contains('vražd',na=False)][['interpret','track']].drop_duplicates()"
   ]
  },
  {
   "cell_type": "markdown",
   "id": "9fd4fd29",
   "metadata": {},
   "source": [
    "## Žebříček pro článek"
   ]
  },
  {
   "cell_type": "code",
   "execution_count": 52,
   "id": "88212d2f",
   "metadata": {},
   "outputs": [],
   "source": [
    "df['den'] = df['since'].dt.dayofyear"
   ]
  },
  {
   "cell_type": "code",
   "execution_count": 53,
   "id": "1f30425a",
   "metadata": {},
   "outputs": [
    {
     "data": {
      "text/plain": [
       "366"
      ]
     },
     "execution_count": 53,
     "metadata": {},
     "output_type": "execute_result"
    }
   ],
   "source": [
    "df['den'].nunique()"
   ]
  },
  {
   "cell_type": "code",
   "execution_count": 74,
   "id": "8ebfdd0e",
   "metadata": {},
   "outputs": [],
   "source": [
    "top10rz = pd.DataFrame(df[(df['stanice'] == 'radiozurnal') & (df['rok'] == 2023)].groupby('interpret')['id'].nunique().nlargest(6))"
   ]
  },
  {
   "cell_type": "code",
   "execution_count": 75,
   "id": "694ca03c",
   "metadata": {},
   "outputs": [
    {
     "data": {
      "text/plain": [
       "Index(['since', 'id', 'interpret', 'interpret_id', 'track', 'track_id',\n",
       "       'stanice', 'rok', 'den'],\n",
       "      dtype='object')"
      ]
     },
     "execution_count": 75,
     "metadata": {},
     "output_type": "execute_result"
    }
   ],
   "source": [
    "df.columns"
   ]
  },
  {
   "cell_type": "code",
   "execution_count": 76,
   "id": "e24fb73f",
   "metadata": {},
   "outputs": [
    {
     "data": {
      "text/html": [
       "<div>\n",
       "<style scoped>\n",
       "    .dataframe tbody tr th:only-of-type {\n",
       "        vertical-align: middle;\n",
       "    }\n",
       "\n",
       "    .dataframe tbody tr th {\n",
       "        vertical-align: top;\n",
       "    }\n",
       "\n",
       "    .dataframe thead th {\n",
       "        text-align: right;\n",
       "    }\n",
       "</style>\n",
       "<table border=\"1\" class=\"dataframe\">\n",
       "  <thead>\n",
       "    <tr style=\"text-align: right;\">\n",
       "      <th></th>\n",
       "      <th>id</th>\n",
       "    </tr>\n",
       "    <tr>\n",
       "      <th>interpret</th>\n",
       "      <th></th>\n",
       "    </tr>\n",
       "  </thead>\n",
       "  <tbody>\n",
       "    <tr>\n",
       "      <th>ROBBIE WILLIAMS</th>\n",
       "      <td>694</td>\n",
       "    </tr>\n",
       "    <tr>\n",
       "      <th>CHINASKI</th>\n",
       "      <td>627</td>\n",
       "    </tr>\n",
       "    <tr>\n",
       "      <th>ED SHEERAN</th>\n",
       "      <td>627</td>\n",
       "    </tr>\n",
       "    <tr>\n",
       "      <th>R.E.M.</th>\n",
       "      <td>592</td>\n",
       "    </tr>\n",
       "    <tr>\n",
       "      <th>U 2</th>\n",
       "      <td>590</td>\n",
       "    </tr>\n",
       "    <tr>\n",
       "      <th>COLDPLAY</th>\n",
       "      <td>555</td>\n",
       "    </tr>\n",
       "  </tbody>\n",
       "</table>\n",
       "</div>"
      ],
      "text/plain": [
       "                  id\n",
       "interpret           \n",
       "ROBBIE WILLIAMS  694\n",
       "CHINASKI         627\n",
       "ED SHEERAN       627\n",
       "R.E.M.           592\n",
       "U 2              590\n",
       "COLDPLAY         555"
      ]
     },
     "execution_count": 76,
     "metadata": {},
     "output_type": "execute_result"
    }
   ],
   "source": [
    "top10rz"
   ]
  },
  {
   "cell_type": "code",
   "execution_count": 77,
   "id": "627b2891",
   "metadata": {},
   "outputs": [],
   "source": [
    "top10rz = top10rz.reset_index()"
   ]
  },
  {
   "cell_type": "code",
   "execution_count": 78,
   "id": "71d6bfbb",
   "metadata": {},
   "outputs": [
    {
     "data": {
      "text/html": [
       "<div>\n",
       "<style scoped>\n",
       "    .dataframe tbody tr th:only-of-type {\n",
       "        vertical-align: middle;\n",
       "    }\n",
       "\n",
       "    .dataframe tbody tr th {\n",
       "        vertical-align: top;\n",
       "    }\n",
       "\n",
       "    .dataframe thead th {\n",
       "        text-align: right;\n",
       "    }\n",
       "</style>\n",
       "<table border=\"1\" class=\"dataframe\">\n",
       "  <thead>\n",
       "    <tr style=\"text-align: right;\">\n",
       "      <th></th>\n",
       "      <th>interpret</th>\n",
       "      <th>id</th>\n",
       "    </tr>\n",
       "  </thead>\n",
       "  <tbody>\n",
       "    <tr>\n",
       "      <th>0</th>\n",
       "      <td>ROBBIE WILLIAMS</td>\n",
       "      <td>694</td>\n",
       "    </tr>\n",
       "    <tr>\n",
       "      <th>1</th>\n",
       "      <td>CHINASKI</td>\n",
       "      <td>627</td>\n",
       "    </tr>\n",
       "    <tr>\n",
       "      <th>2</th>\n",
       "      <td>ED SHEERAN</td>\n",
       "      <td>627</td>\n",
       "    </tr>\n",
       "    <tr>\n",
       "      <th>3</th>\n",
       "      <td>R.E.M.</td>\n",
       "      <td>592</td>\n",
       "    </tr>\n",
       "    <tr>\n",
       "      <th>4</th>\n",
       "      <td>U 2</td>\n",
       "      <td>590</td>\n",
       "    </tr>\n",
       "    <tr>\n",
       "      <th>5</th>\n",
       "      <td>COLDPLAY</td>\n",
       "      <td>555</td>\n",
       "    </tr>\n",
       "  </tbody>\n",
       "</table>\n",
       "</div>"
      ],
      "text/plain": [
       "         interpret   id\n",
       "0  ROBBIE WILLIAMS  694\n",
       "1         CHINASKI  627\n",
       "2       ED SHEERAN  627\n",
       "3           R.E.M.  592\n",
       "4              U 2  590\n",
       "5         COLDPLAY  555"
      ]
     },
     "execution_count": 78,
     "metadata": {},
     "output_type": "execute_result"
    }
   ],
   "source": [
    "top10rz"
   ]
  },
  {
   "cell_type": "code",
   "execution_count": 79,
   "id": "3db7a2ab",
   "metadata": {},
   "outputs": [],
   "source": [
    "dni2023 = df[df['rok'] == 2023]['den'].nunique()"
   ]
  },
  {
   "cell_type": "code",
   "execution_count": 80,
   "id": "c83b1495",
   "metadata": {},
   "outputs": [],
   "source": [
    "top10rz['denne'] = top10rz['id'] / dni2023"
   ]
  },
  {
   "cell_type": "code",
   "execution_count": 81,
   "id": "e490d8d8",
   "metadata": {},
   "outputs": [],
   "source": [
    "top10rz['denne'] = top10rz['denne'].apply(lambda x: round(x, 2))"
   ]
  },
  {
   "cell_type": "code",
   "execution_count": 82,
   "id": "e4fdd3c3",
   "metadata": {},
   "outputs": [],
   "source": [
    "top10rz['Písní'] = top10rz['interpret'].apply(lambda x: df[(df['stanice'] == 'radiozurnal') & (df['rok'] == 2023) & (df['interpret'] == x)]['track'].nunique())"
   ]
  },
  {
   "cell_type": "code",
   "execution_count": 83,
   "id": "af11e292",
   "metadata": {},
   "outputs": [
    {
     "data": {
      "text/html": [
       "<div>\n",
       "<style scoped>\n",
       "    .dataframe tbody tr th:only-of-type {\n",
       "        vertical-align: middle;\n",
       "    }\n",
       "\n",
       "    .dataframe tbody tr th {\n",
       "        vertical-align: top;\n",
       "    }\n",
       "\n",
       "    .dataframe thead th {\n",
       "        text-align: right;\n",
       "    }\n",
       "</style>\n",
       "<table border=\"1\" class=\"dataframe\">\n",
       "  <thead>\n",
       "    <tr style=\"text-align: right;\">\n",
       "      <th></th>\n",
       "      <th>interpret</th>\n",
       "      <th>id</th>\n",
       "      <th>denne</th>\n",
       "      <th>Písní</th>\n",
       "    </tr>\n",
       "  </thead>\n",
       "  <tbody>\n",
       "    <tr>\n",
       "      <th>0</th>\n",
       "      <td>ROBBIE WILLIAMS</td>\n",
       "      <td>694</td>\n",
       "      <td>2.22</td>\n",
       "      <td>12</td>\n",
       "    </tr>\n",
       "    <tr>\n",
       "      <th>1</th>\n",
       "      <td>CHINASKI</td>\n",
       "      <td>627</td>\n",
       "      <td>2.00</td>\n",
       "      <td>20</td>\n",
       "    </tr>\n",
       "    <tr>\n",
       "      <th>2</th>\n",
       "      <td>ED SHEERAN</td>\n",
       "      <td>627</td>\n",
       "      <td>2.00</td>\n",
       "      <td>11</td>\n",
       "    </tr>\n",
       "    <tr>\n",
       "      <th>3</th>\n",
       "      <td>R.E.M.</td>\n",
       "      <td>592</td>\n",
       "      <td>1.89</td>\n",
       "      <td>11</td>\n",
       "    </tr>\n",
       "    <tr>\n",
       "      <th>4</th>\n",
       "      <td>U 2</td>\n",
       "      <td>590</td>\n",
       "      <td>1.88</td>\n",
       "      <td>10</td>\n",
       "    </tr>\n",
       "    <tr>\n",
       "      <th>5</th>\n",
       "      <td>COLDPLAY</td>\n",
       "      <td>555</td>\n",
       "      <td>1.77</td>\n",
       "      <td>10</td>\n",
       "    </tr>\n",
       "  </tbody>\n",
       "</table>\n",
       "</div>"
      ],
      "text/plain": [
       "         interpret   id  denne  Písní\n",
       "0  ROBBIE WILLIAMS  694   2.22     12\n",
       "1         CHINASKI  627   2.00     20\n",
       "2       ED SHEERAN  627   2.00     11\n",
       "3           R.E.M.  592   1.89     11\n",
       "4              U 2  590   1.88     10\n",
       "5         COLDPLAY  555   1.77     10"
      ]
     },
     "execution_count": 83,
     "metadata": {},
     "output_type": "execute_result"
    }
   ],
   "source": [
    "top10rz"
   ]
  },
  {
   "cell_type": "code",
   "execution_count": 84,
   "id": "1bf098b8",
   "metadata": {},
   "outputs": [],
   "source": [
    "hezke_nazvy = {\"ROBBIE WILLIAMS\": \"Robbie Williams\", \"CHINASKI\": \"Chinaski\", \"ED SHEERAN\": \"Ed Sheeran\", \"U 2\": \"U2\", \"COLDPLAY\": \"Coldplay\", \"P!NK\": \"P!nk\", \"ONE REPUBLIC\": \"One Republic\", \"ANETA LANGEROVÁ\": \"Aneta Langerová\", \"ADELE\": \"Adele\", \"ROXETTE\": \"Roxette\", \"CRANBERRIES\": \"Cranberries\"}"
   ]
  },
  {
   "cell_type": "code",
   "execution_count": 85,
   "id": "b61e8937",
   "metadata": {},
   "outputs": [],
   "source": [
    "top10rz['interpret'] = top10rz['interpret'].replace(hezke_nazvy)"
   ]
  },
  {
   "cell_type": "code",
   "execution_count": 86,
   "id": "4eb85ab1",
   "metadata": {},
   "outputs": [
    {
     "data": {
      "text/html": [
       "<div>\n",
       "<style scoped>\n",
       "    .dataframe tbody tr th:only-of-type {\n",
       "        vertical-align: middle;\n",
       "    }\n",
       "\n",
       "    .dataframe tbody tr th {\n",
       "        vertical-align: top;\n",
       "    }\n",
       "\n",
       "    .dataframe thead th {\n",
       "        text-align: right;\n",
       "    }\n",
       "</style>\n",
       "<table border=\"1\" class=\"dataframe\">\n",
       "  <thead>\n",
       "    <tr style=\"text-align: right;\">\n",
       "      <th></th>\n",
       "      <th>interpret</th>\n",
       "      <th>id</th>\n",
       "      <th>denne</th>\n",
       "      <th>Písní</th>\n",
       "    </tr>\n",
       "  </thead>\n",
       "  <tbody>\n",
       "    <tr>\n",
       "      <th>0</th>\n",
       "      <td>Robbie Williams</td>\n",
       "      <td>694</td>\n",
       "      <td>2.22</td>\n",
       "      <td>12</td>\n",
       "    </tr>\n",
       "    <tr>\n",
       "      <th>1</th>\n",
       "      <td>Chinaski</td>\n",
       "      <td>627</td>\n",
       "      <td>2.00</td>\n",
       "      <td>20</td>\n",
       "    </tr>\n",
       "    <tr>\n",
       "      <th>2</th>\n",
       "      <td>Ed Sheeran</td>\n",
       "      <td>627</td>\n",
       "      <td>2.00</td>\n",
       "      <td>11</td>\n",
       "    </tr>\n",
       "    <tr>\n",
       "      <th>3</th>\n",
       "      <td>R.E.M.</td>\n",
       "      <td>592</td>\n",
       "      <td>1.89</td>\n",
       "      <td>11</td>\n",
       "    </tr>\n",
       "    <tr>\n",
       "      <th>4</th>\n",
       "      <td>U2</td>\n",
       "      <td>590</td>\n",
       "      <td>1.88</td>\n",
       "      <td>10</td>\n",
       "    </tr>\n",
       "    <tr>\n",
       "      <th>5</th>\n",
       "      <td>Coldplay</td>\n",
       "      <td>555</td>\n",
       "      <td>1.77</td>\n",
       "      <td>10</td>\n",
       "    </tr>\n",
       "  </tbody>\n",
       "</table>\n",
       "</div>"
      ],
      "text/plain": [
       "         interpret   id  denne  Písní\n",
       "0  Robbie Williams  694   2.22     12\n",
       "1         Chinaski  627   2.00     20\n",
       "2       Ed Sheeran  627   2.00     11\n",
       "3           R.E.M.  592   1.89     11\n",
       "4               U2  590   1.88     10\n",
       "5         Coldplay  555   1.77     10"
      ]
     },
     "execution_count": 86,
     "metadata": {},
     "output_type": "execute_result"
    }
   ],
   "source": [
    "top10rz"
   ]
  },
  {
   "cell_type": "code",
   "execution_count": 87,
   "id": "11223285",
   "metadata": {},
   "outputs": [],
   "source": [
    "top10rz = top10rz.rename(columns={'interpret': 'Interpret', 'id': 'Přehrání', 'denne': 'Přehrání za den'})"
   ]
  },
  {
   "cell_type": "code",
   "execution_count": 88,
   "id": "4ebf17b1",
   "metadata": {},
   "outputs": [],
   "source": [
    "top10rz = top10rz.drop(columns=['Přehrání'])"
   ]
  },
  {
   "cell_type": "code",
   "execution_count": 89,
   "id": "ce58bfdc",
   "metadata": {},
   "outputs": [
    {
     "data": {
      "text/html": [
       "<div>\n",
       "<style scoped>\n",
       "    .dataframe tbody tr th:only-of-type {\n",
       "        vertical-align: middle;\n",
       "    }\n",
       "\n",
       "    .dataframe tbody tr th {\n",
       "        vertical-align: top;\n",
       "    }\n",
       "\n",
       "    .dataframe thead th {\n",
       "        text-align: right;\n",
       "    }\n",
       "</style>\n",
       "<table border=\"1\" class=\"dataframe\">\n",
       "  <thead>\n",
       "    <tr style=\"text-align: right;\">\n",
       "      <th></th>\n",
       "      <th>Interpret</th>\n",
       "      <th>Přehrání za den</th>\n",
       "      <th>Písní</th>\n",
       "    </tr>\n",
       "  </thead>\n",
       "  <tbody>\n",
       "    <tr>\n",
       "      <th>0</th>\n",
       "      <td>Robbie Williams</td>\n",
       "      <td>2.22</td>\n",
       "      <td>12</td>\n",
       "    </tr>\n",
       "    <tr>\n",
       "      <th>1</th>\n",
       "      <td>Chinaski</td>\n",
       "      <td>2.00</td>\n",
       "      <td>20</td>\n",
       "    </tr>\n",
       "    <tr>\n",
       "      <th>2</th>\n",
       "      <td>Ed Sheeran</td>\n",
       "      <td>2.00</td>\n",
       "      <td>11</td>\n",
       "    </tr>\n",
       "    <tr>\n",
       "      <th>3</th>\n",
       "      <td>R.E.M.</td>\n",
       "      <td>1.89</td>\n",
       "      <td>11</td>\n",
       "    </tr>\n",
       "    <tr>\n",
       "      <th>4</th>\n",
       "      <td>U2</td>\n",
       "      <td>1.88</td>\n",
       "      <td>10</td>\n",
       "    </tr>\n",
       "    <tr>\n",
       "      <th>5</th>\n",
       "      <td>Coldplay</td>\n",
       "      <td>1.77</td>\n",
       "      <td>10</td>\n",
       "    </tr>\n",
       "  </tbody>\n",
       "</table>\n",
       "</div>"
      ],
      "text/plain": [
       "         Interpret  Přehrání za den  Písní\n",
       "0  Robbie Williams             2.22     12\n",
       "1         Chinaski             2.00     20\n",
       "2       Ed Sheeran             2.00     11\n",
       "3           R.E.M.             1.89     11\n",
       "4               U2             1.88     10\n",
       "5         Coldplay             1.77     10"
      ]
     },
     "execution_count": 89,
     "metadata": {},
     "output_type": "execute_result"
    }
   ],
   "source": [
    "top10rz"
   ]
  },
  {
   "cell_type": "code",
   "execution_count": 90,
   "id": "3c2bee8f",
   "metadata": {},
   "outputs": [],
   "source": [
    "wikid = pd.read_json(os.path.join(\"wikidata\",\"wikidata.json\"))\n",
    "wikid['interpret_hlavni'] = wikid['interpret_hlavni'].apply(lambda x: x.lower())"
   ]
  },
  {
   "cell_type": "code",
   "execution_count": 91,
   "id": "39a75629",
   "metadata": {},
   "outputs": [
    {
     "data": {
      "text/plain": [
       "Index(['interpret_hlavni', 'id', 'stazeno', 'nazev_wiki', 'popis_en',\n",
       "       'popis_cs', 'velikost', 'zanry', 'datum_narozeni', 'datum_umrti',\n",
       "       'zacatek_pusobeni', 'konec_pusobeni', 'zalozeni', 'zanik', 'gender',\n",
       "       'misto_puvodu', 'zeme_puvodu', 'obcanstvi', 'etnicita', 'hlas',\n",
       "       'nastroje', 'oceneni', 'nabozenstvi', 'orientace', 'spotify_id',\n",
       "       'spotify_odberatele'],\n",
       "      dtype='object')"
      ]
     },
     "execution_count": 91,
     "metadata": {},
     "output_type": "execute_result"
    }
   ],
   "source": [
    "wikid.columns"
   ]
  },
  {
   "cell_type": "code",
   "execution_count": 92,
   "id": "a3dda47e",
   "metadata": {},
   "outputs": [],
   "source": [
    "def zacatek(i):\n",
    "        if i == 'One Republic':\n",
    "            return 2002\n",
    "        else:\n",
    "            return int(wikid[wikid['interpret_hlavni'] == i.lower()]['zacatek_pusobeni'].min())"
   ]
  },
  {
   "cell_type": "code",
   "execution_count": 93,
   "id": "249759f9",
   "metadata": {},
   "outputs": [],
   "source": [
    "top10rz['Začátek kariéry'] = top10rz['Interpret'].apply(lambda x: zacatek(x))"
   ]
  },
  {
   "cell_type": "code",
   "execution_count": 95,
   "id": "fed0d703",
   "metadata": {},
   "outputs": [],
   "source": [
    "top10rz['Přehrání za den'] = top10rz['Přehrání za den'].apply(lambda x: str(x).replace(\".\",\",\"))"
   ]
  },
  {
   "cell_type": "code",
   "execution_count": 97,
   "id": "b7f8342c",
   "metadata": {},
   "outputs": [],
   "source": [
    "top10rz['Přehrání za den'] = top10rz['Přehrání za den'].apply(lambda x: str(x).replace(\",0\",\",00\"))"
   ]
  },
  {
   "cell_type": "code",
   "execution_count": 98,
   "id": "3151086f",
   "metadata": {},
   "outputs": [
    {
     "data": {
      "text/html": [
       "<div>\n",
       "<style scoped>\n",
       "    .dataframe tbody tr th:only-of-type {\n",
       "        vertical-align: middle;\n",
       "    }\n",
       "\n",
       "    .dataframe tbody tr th {\n",
       "        vertical-align: top;\n",
       "    }\n",
       "\n",
       "    .dataframe thead th {\n",
       "        text-align: right;\n",
       "    }\n",
       "</style>\n",
       "<table border=\"1\" class=\"dataframe\">\n",
       "  <thead>\n",
       "    <tr style=\"text-align: right;\">\n",
       "      <th></th>\n",
       "      <th>Interpret</th>\n",
       "      <th>Přehrání za den</th>\n",
       "      <th>Písní</th>\n",
       "      <th>Začátek kariéry</th>\n",
       "    </tr>\n",
       "  </thead>\n",
       "  <tbody>\n",
       "    <tr>\n",
       "      <th>0</th>\n",
       "      <td>Robbie Williams</td>\n",
       "      <td>2,22</td>\n",
       "      <td>12</td>\n",
       "      <td>1990</td>\n",
       "    </tr>\n",
       "    <tr>\n",
       "      <th>1</th>\n",
       "      <td>Chinaski</td>\n",
       "      <td>2,00</td>\n",
       "      <td>20</td>\n",
       "      <td>1987</td>\n",
       "    </tr>\n",
       "    <tr>\n",
       "      <th>2</th>\n",
       "      <td>Ed Sheeran</td>\n",
       "      <td>2,00</td>\n",
       "      <td>11</td>\n",
       "      <td>2004</td>\n",
       "    </tr>\n",
       "    <tr>\n",
       "      <th>3</th>\n",
       "      <td>R.E.M.</td>\n",
       "      <td>1,89</td>\n",
       "      <td>11</td>\n",
       "      <td>1980</td>\n",
       "    </tr>\n",
       "    <tr>\n",
       "      <th>4</th>\n",
       "      <td>U2</td>\n",
       "      <td>1,88</td>\n",
       "      <td>10</td>\n",
       "      <td>1976</td>\n",
       "    </tr>\n",
       "    <tr>\n",
       "      <th>5</th>\n",
       "      <td>Coldplay</td>\n",
       "      <td>1,77</td>\n",
       "      <td>10</td>\n",
       "      <td>1997</td>\n",
       "    </tr>\n",
       "  </tbody>\n",
       "</table>\n",
       "</div>"
      ],
      "text/plain": [
       "         Interpret Přehrání za den  Písní  Začátek kariéry\n",
       "0  Robbie Williams            2,22     12             1990\n",
       "1         Chinaski            2,00     20             1987\n",
       "2       Ed Sheeran            2,00     11             2004\n",
       "3           R.E.M.            1,89     11             1980\n",
       "4               U2            1,88     10             1976\n",
       "5         Coldplay            1,77     10             1997"
      ]
     },
     "execution_count": 98,
     "metadata": {},
     "output_type": "execute_result"
    }
   ],
   "source": [
    "top10rz"
   ]
  },
  {
   "cell_type": "code",
   "execution_count": 99,
   "id": "71bb2812",
   "metadata": {},
   "outputs": [
    {
     "data": {
      "text/plain": [
       "'<table class=\"dataframe table table--responsive table--w100p table--striped-red table--plain\"><caption>Nejhranější interpreti na stanici ČRo Radiožurnál v roce 2023</caption><thead><tr style=\"text-align: right;\"><th class=\"text-nowrap\"></th><th class=\"text-nowrap\">Interpret</th><th class=\"text-nowrap\">Přehrání za den</th><th class=\"text-nowrap\">Písní</th><th class=\"text-nowrap\">Začátek kariéry</th></tr></thead><tbody class=\"text-sm\"><tr><td>1.</td><td>Robbie Williams</td><td>2,22</td><td>12</td><td>1990</td></tr><tr><td>2.</td><td>Chinaski</td><td>2,00</td><td>20</td><td>1987</td></tr><tr><td>3.</td><td>Ed Sheeran</td><td>2,00</td><td>11</td><td>2004</td></tr><tr><td>4.</td><td>R.E.M.</td><td>1,89</td><td>11</td><td>1980</td></tr><tr><td>5.</td><td>U2</td><td>1,88</td><td>10</td><td>1976</td></tr><tr><td>6.</td><td>Coldplay</td><td>1,77</td><td>10</td><td>1997</td></tr></tbody></table>'"
      ]
     },
     "execution_count": 99,
     "metadata": {},
     "output_type": "execute_result"
    }
   ],
   "source": [
    "tabulka(top10rz, titulek=\"Nejhranější interpreti na stanici ČRo Radiožurnál v roce 2023\", poradi=True)"
   ]
  }
 ],
 "metadata": {
  "kernelspec": {
   "display_name": "Python 3 (ipykernel)",
   "language": "python",
   "name": "python3"
  },
  "language_info": {
   "codemirror_mode": {
    "name": "ipython",
    "version": 3
   },
   "file_extension": ".py",
   "mimetype": "text/x-python",
   "name": "python",
   "nbconvert_exporter": "python",
   "pygments_lexer": "ipython3",
   "version": "3.11.5"
  }
 },
 "nbformat": 4,
 "nbformat_minor": 5
}
