{
 "cells": [
  {
   "cell_type": "code",
   "execution_count": 43,
   "id": "ba9994e6",
   "metadata": {},
   "outputs": [],
   "source": [
    "import os\n",
    "import pandas as pd"
   ]
  },
  {
   "cell_type": "code",
   "execution_count": 44,
   "id": "42d7b9c8",
   "metadata": {},
   "outputs": [],
   "source": [
    "df = pd.read_json(os.path.join(\"data\",\"cro_raw.json\"))"
   ]
  },
  {
   "cell_type": "code",
   "execution_count": 105,
   "id": "50b56530",
   "metadata": {},
   "outputs": [
    {
     "data": {
      "text/plain": [
       "(1067027, 8)"
      ]
     },
     "execution_count": 105,
     "metadata": {},
     "output_type": "execute_result"
    }
   ],
   "source": [
    "df.shape"
   ]
  },
  {
   "cell_type": "code",
   "execution_count": 45,
   "id": "a4e03cba",
   "metadata": {},
   "outputs": [],
   "source": [
    "df['since'] = pd.to_datetime(df['since'].apply(lambda x: x.replace(\"02:00\",\"01:00\")))"
   ]
  },
  {
   "cell_type": "code",
   "execution_count": 46,
   "id": "51909b0e",
   "metadata": {},
   "outputs": [],
   "source": [
    "df['interpret'] = df['interpret'].apply(lambda x: x.upper())\n",
    "df['track'] = df['track'].apply(lambda x: x.upper())"
   ]
  },
  {
   "cell_type": "code",
   "execution_count": 47,
   "id": "1aa00303",
   "metadata": {},
   "outputs": [
    {
     "data": {
      "text/html": [
       "<div>\n",
       "<style scoped>\n",
       "    .dataframe tbody tr th:only-of-type {\n",
       "        vertical-align: middle;\n",
       "    }\n",
       "\n",
       "    .dataframe tbody tr th {\n",
       "        vertical-align: top;\n",
       "    }\n",
       "\n",
       "    .dataframe thead th {\n",
       "        text-align: right;\n",
       "    }\n",
       "</style>\n",
       "<table border=\"1\" class=\"dataframe\">\n",
       "  <thead>\n",
       "    <tr style=\"text-align: right;\">\n",
       "      <th></th>\n",
       "      <th>since</th>\n",
       "      <th>id</th>\n",
       "      <th>interpret</th>\n",
       "      <th>interpret_id</th>\n",
       "      <th>track</th>\n",
       "      <th>track_id</th>\n",
       "      <th>stanice</th>\n",
       "    </tr>\n",
       "  </thead>\n",
       "  <tbody>\n",
       "    <tr>\n",
       "      <th>0</th>\n",
       "      <td>2020-12-01 04:42:44+01:00</td>\n",
       "      <td>10236811</td>\n",
       "      <td>SAMUEL RAMEY &amp; LONDON PHILHARMONIC ORCHESTRA, ...</td>\n",
       "      <td>24978</td>\n",
       "      <td>NON PIU ANDRAI, ÁRIE Z 1. DĚJSTVÍ OPERY FIGARO</td>\n",
       "      <td>83837</td>\n",
       "      <td>d</td>\n",
       "    </tr>\n",
       "    <tr>\n",
       "      <th>1</th>\n",
       "      <td>2020-12-08 18:25:47+01:00</td>\n",
       "      <td>10270691</td>\n",
       "      <td>SAMUEL RAMEY &amp; LONDON PHILHARMONIC ORCHESTRA, ...</td>\n",
       "      <td>24978</td>\n",
       "      <td>NON PIU ANDRAI, ÁRIE Z 1. DĚJSTVÍ OPERY FIGARO</td>\n",
       "      <td>83837</td>\n",
       "      <td>d</td>\n",
       "    </tr>\n",
       "  </tbody>\n",
       "</table>\n",
       "</div>"
      ],
      "text/plain": [
       "                      since        id  \\\n",
       "0 2020-12-01 04:42:44+01:00  10236811   \n",
       "1 2020-12-08 18:25:47+01:00  10270691   \n",
       "\n",
       "                                           interpret  interpret_id  \\\n",
       "0  SAMUEL RAMEY & LONDON PHILHARMONIC ORCHESTRA, ...         24978   \n",
       "1  SAMUEL RAMEY & LONDON PHILHARMONIC ORCHESTRA, ...         24978   \n",
       "\n",
       "                                            track  track_id stanice  \n",
       "0  NON PIU ANDRAI, ÁRIE Z 1. DĚJSTVÍ OPERY FIGARO     83837       d  \n",
       "1  NON PIU ANDRAI, ÁRIE Z 1. DĚJSTVÍ OPERY FIGARO     83837       d  "
      ]
     },
     "execution_count": 47,
     "metadata": {},
     "output_type": "execute_result"
    }
   ],
   "source": [
    "df.head(2)"
   ]
  },
  {
   "cell_type": "code",
   "execution_count": 48,
   "id": "e57f5334",
   "metadata": {},
   "outputs": [],
   "source": [
    "df['rok'] = df['since'].dt.year"
   ]
  },
  {
   "cell_type": "code",
   "execution_count": 49,
   "id": "7283b167",
   "metadata": {
    "scrolled": true
   },
   "outputs": [
    {
     "data": {
      "text/plain": [
       "interpret                      track                \n",
       "STUDIOVÝ ORCHESTR              ČESKÁ STÁTNÍ HYMNA       982\n",
       "NEDIVOČ                        FOTKY Z VÝLETU           654\n",
       "ANETA LANGEROVÁ                BÍLÝ DEN                 649\n",
       "HARRY STYLES                   AS IT WAS                621\n",
       "DAVID STYPKA                   FARMÁŘŮM                 606\n",
       "MIRAI                          I PŘES TO VŠECHNO        595\n",
       "MILEY CYRUS                    ANGELS LIKE YOU          589\n",
       "JC STEWART                     I NEED YOU TO HATE ME    565\n",
       "COLDPLAY                       HIGHER POWER             554\n",
       "MILOW                          WHATEVER IT TAKES        530\n",
       "CHINASKI                       BÁSEŇ                    529\n",
       "DUA LIPA                       LOVE AGAIN               524\n",
       "ADELE                          EASY ON ME               518\n",
       "ZAZ                            IMAGINE                  510\n",
       "JELEN                          JEŠTĚ JEDNU NOC          509\n",
       "IMAGINE DRAGONS                FOLLOW YOU               494\n",
       "MIRAI                          VEDLE TEBE USÍNÁM        487\n",
       "JELEN                          JEDINÝ CO CHCI           485\n",
       "RAY DALTON                     IN MY BONES              475\n",
       "MIROSLAV ŽBIRKA, DAVID ŽBIRKA  NEJSI SÁM                448\n",
       "dtype: int64"
      ]
     },
     "execution_count": 49,
     "metadata": {},
     "output_type": "execute_result"
    }
   ],
   "source": [
    "df.groupby([\"interpret\",\"track\"]).size().nlargest(20)"
   ]
  },
  {
   "cell_type": "code",
   "execution_count": 50,
   "id": "35df7d49",
   "metadata": {},
   "outputs": [
    {
     "data": {
      "text/plain": [
       "interpret\n",
       "CHINASKI              3435\n",
       "KAREL GOTT            3117\n",
       "ROBBIE WILLIAMS       2864\n",
       "ADELE                 2851\n",
       "HANA ZAGOROVÁ         2784\n",
       "WALDEMAR MATUŠKA      2680\n",
       "QUEEN                 2663\n",
       "ANETA LANGEROVÁ       2657\n",
       "VÁCLAV NECKÁŘ         2596\n",
       "MARIE ROTTROVÁ        2531\n",
       "MIRAI                 2492\n",
       "HELENA VONDRÁČKOVÁ    2486\n",
       "ED SHEERAN            2482\n",
       "ROXETTE               2444\n",
       "R.E.M.                2397\n",
       "JELEN                 2330\n",
       "BRYAN ADAMS           2271\n",
       "COLDPLAY              2215\n",
       "MICHAL HRŮZA          2198\n",
       "MARTA KUBIŠOVÁ        2185\n",
       "MICHAL TUČNÝ          2168\n",
       "OLYMPIC               2153\n",
       "MAREK ZTRACENÝ        2142\n",
       "KAREL ZICH            2091\n",
       "U 2                   2031\n",
       "LUCIE                 2011\n",
       "P!NK                  2000\n",
       "XINDL X               1999\n",
       "PETR REZEK            1992\n",
       "PETR SPÁLENÝ          1944\n",
       "JIŘÍ KORN             1929\n",
       "ABBA                  1927\n",
       "VĚRA ŠPINAROVÁ        1924\n",
       "GEORGE EZRA           1915\n",
       "CRANBERRIES           1886\n",
       "PHIL COLLINS          1854\n",
       "IMAGINE DRAGONS       1803\n",
       "MIROSLAV ŽBIRKA       1753\n",
       "PAVEL NOVÁK           1752\n",
       "ONE REPUBLIC          1728\n",
       "ZAZ                   1720\n",
       "JIŘÍ SUCHÝ            1713\n",
       "NAĎA URBÁNKOVÁ        1695\n",
       "KAREL ČERNOCH         1688\n",
       "SUPPORT LESBIENS      1685\n",
       "DIVOKEJ BILL          1668\n",
       "BUTY                  1663\n",
       "TINA TURNER           1628\n",
       "EVA PILAROVÁ          1624\n",
       "PAVEL BOBEK           1622\n",
       "dtype: int64"
      ]
     },
     "execution_count": 50,
     "metadata": {},
     "output_type": "execute_result"
    }
   ],
   "source": [
    "df.groupby(\"interpret\").size().nlargest(50)"
   ]
  },
  {
   "cell_type": "code",
   "execution_count": 51,
   "id": "13e75cee",
   "metadata": {},
   "outputs": [
    {
     "data": {
      "text/plain": [
       "interpret                      track                          \n",
       "STUDIOVÝ ORCHESTR              ČESKÁ STÁTNÍ HYMNA                 982\n",
       "NEDIVOČ                        FOTKY Z VÝLETU                     654\n",
       "ANETA LANGEROVÁ                BÍLÝ DEN                           649\n",
       "HARRY STYLES                   AS IT WAS                          621\n",
       "DAVID STYPKA                   FARMÁŘŮM                           606\n",
       "MIRAI                          I PŘES TO VŠECHNO                  595\n",
       "MILEY CYRUS                    ANGELS LIKE YOU                    589\n",
       "JC STEWART                     I NEED YOU TO HATE ME              565\n",
       "COLDPLAY                       HIGHER POWER                       554\n",
       "MILOW                          WHATEVER IT TAKES                  530\n",
       "CHINASKI                       BÁSEŇ                              529\n",
       "DUA LIPA                       LOVE AGAIN                         524\n",
       "ADELE                          EASY ON ME                         518\n",
       "ZAZ                            IMAGINE                            510\n",
       "JELEN                          JEŠTĚ JEDNU NOC                    509\n",
       "IMAGINE DRAGONS                FOLLOW YOU                         494\n",
       "MIRAI                          VEDLE TEBE USÍNÁM                  487\n",
       "JELEN                          JEDINÝ CO CHCI                     485\n",
       "RAY DALTON                     IN MY BONES                        475\n",
       "MIROSLAV ŽBIRKA, DAVID ŽBIRKA  NEJSI SÁM                          448\n",
       "SUPPORT LESBIENS               HERE I AM                          443\n",
       "JELEN                          NĚKDE KOLEM                        438\n",
       "BANNERS                        IF I DIDN'T HAVE YOU               435\n",
       "ANNA K.                        NA MALOU CHVÍLI                    430\n",
       "LES GARS D'EN BAS              MES ÉTRANGERES                     428\n",
       "NIALL HORAN                    BLACK AND WHITE                    427\n",
       "LEWIS CAPALDI                  BEFORE YOU GO                      426\n",
       "NEA                            SOME SAY                           422\n",
       "TONYA GRAVES                   MEANING OF THE BLUES               408\n",
       "WEEKND                         SAVE YOUR TEARS                    406\n",
       "TOM WALKER                     NOT GIVING IN                      405\n",
       "ONE REPUBLIC                   WEST COAST                         403\n",
       "DECLAN J DONOVAN               PIECES                             397\n",
       "LIGHT & LOVE                   BLUEBERRY SKY                      397\n",
       "NICO SANTOS                    UNFORGETTABLE                      397\n",
       "DAVID KOLLER                   POUTA                              395\n",
       "CECILIA KRULL                  MY LIFE IS GOING ON                388\n",
       "ED SHEERAN                     BAD HABITS                         388\n",
       "LEWIS CAPALDI                  FORGET ME                          381\n",
       "DEBBI                          TOUCH THE SUN                      380\n",
       "TONYA GRAVES                   THRILL IS GONE                     379\n",
       "TOMÁŠ KLUS                     POCITY                             377\n",
       "MIKE & THE MECHANICS           OVER MY SHOULDER                   376\n",
       "JELEN                          MAGDALÉNA                          370\n",
       "AMY MACDONALD                  THIS IS THE LIFE                   367\n",
       "BUTY                           FRANTIŠEK                          367\n",
       "PETR HAPKA                     KOCOUR SE SCHOULIL NA TVŮJ KLÍN    364\n",
       "TOMÁŠ KLUS                     NINA                               361\n",
       "WET WET WET                    LOVE IS ALL AROUND                 361\n",
       "MICHAL HRŮZA                   ZAKÁZANÉ UVOLNĚNÍ                  360\n",
       "dtype: int64"
      ]
     },
     "execution_count": 51,
     "metadata": {},
     "output_type": "execute_result"
    }
   ],
   "source": [
    "df.groupby([\"interpret\",\"track\"]).size().nlargest(50)"
   ]
  },
  {
   "cell_type": "markdown",
   "id": "b3f84fdb",
   "metadata": {},
   "source": [
    "## Kánon hlavního proudu"
   ]
  },
  {
   "cell_type": "code",
   "execution_count": 52,
   "id": "95931d65",
   "metadata": {},
   "outputs": [],
   "source": [
    "univerzalove = df.groupby(['interpret',\"track\"])['stanice'].nunique()\n",
    "univerzalove = univerzalove[univerzalove >= 3]"
   ]
  },
  {
   "cell_type": "code",
   "execution_count": 70,
   "id": "473efc9f",
   "metadata": {},
   "outputs": [
    {
     "data": {
      "text/plain": [
       "224"
      ]
     },
     "execution_count": 70,
     "metadata": {},
     "output_type": "execute_result"
    }
   ],
   "source": [
    "len(univerzalove)"
   ]
  },
  {
   "cell_type": "code",
   "execution_count": 71,
   "id": "e0cf0b25",
   "metadata": {},
   "outputs": [
    {
     "data": {
      "text/plain": [
       "interpret                track                    \n",
       "EDITH PIAF               NON, JE NE REGRETTE RIEN     4\n",
       "GEORGE HARRISON          MY SWEET LORD                4\n",
       "GOLDEN KIDS              ČASY SE MĚNÍ                 4\n",
       "HANA HEGEROVÁ            POTMĚŠILÝ HOST               4\n",
       "JIŘÍ PAVLICA, HRADIŠŤAN  MODLITBA ZA VODU             4\n",
       "JIŘÍ SCHELINGER          HOLUBÍ DŮM                   4\n",
       "KAREL KRYL               BRATŘÍČKU, ZAVÍREJ VRÁTKA    4\n",
       "LEONARD COHEN            SUZANNE                      4\n",
       "MIROSLAV ŽBIRKA          BIELY KVET                   4\n",
       "YVONNE PŘENOSILOVÁ       TAK PRÁZDNÁ                  4\n",
       "Name: stanice, dtype: int64"
      ]
     },
     "execution_count": 71,
     "metadata": {},
     "output_type": "execute_result"
    }
   ],
   "source": [
    "univerzalove[univerzalove > 3]"
   ]
  },
  {
   "cell_type": "code",
   "execution_count": 53,
   "id": "747329ba",
   "metadata": {},
   "outputs": [
    {
     "data": {
      "text/plain": [
       "interpret          track                 \n",
       "ABBA               CHIQUITITA                3\n",
       "                   DANCING QUEEN             3\n",
       "                   FERNANDO                  3\n",
       "                   I HAVE A DREAM            3\n",
       "                   SUPER TROUPER             3\n",
       "ADAM PLACHETKA     ANDĚL PÁNĚ ZPRÁVU NESE    3\n",
       "ADELE              EASY ON ME                3\n",
       "                   HELLO                     3\n",
       "                   SKYFALL                   3\n",
       "ALANIS MORISSETTE  IRONIC                    3\n",
       "ALPHAVILLE         FOREVER YOUNG             3\n",
       "ANASTACIA          LEFT OUTSIDE ALONE        3\n",
       "ANETA LANGEROVÁ    PODZIM                    3\n",
       "                   VODA ŽIVÁ                 3\n",
       "ARCHIES            SUGAR, SUGAR              3\n",
       "AVRIL LAVIGNE      COMPLICATED               3\n",
       "BEACH BOYS         GOD ONLY KNOWS            3\n",
       "                   GOOD VIBRATIONS           3\n",
       "BEATLES            ALL YOU NEED IS LOVE      3\n",
       "                   CAN'T BUY ME LOVE         3\n",
       "                   LADY MADONNA              3\n",
       "                   YESTERDAY                 3\n",
       "BEE GEES           WORDS                     3\n",
       "BEYONCÉ            HALO                      3\n",
       "BILLIE EILISH      NO TIME TO DIE            3\n",
       "Name: stanice, dtype: int64"
      ]
     },
     "execution_count": 53,
     "metadata": {},
     "output_type": "execute_result"
    }
   ],
   "source": [
    "univerzalove.head(25)"
   ]
  },
  {
   "cell_type": "markdown",
   "id": "6928f276",
   "metadata": {},
   "source": [
    "## Mám rád"
   ]
  },
  {
   "cell_type": "code",
   "execution_count": 82,
   "id": "99c4ed56",
   "metadata": {},
   "outputs": [],
   "source": [
    "def hraje(x):\n",
    "    return df[df['interpret'].str.lower().str.contains(x.lower(), na=False)].groupby(['interpret','track','stanice']).size().nlargest(1000).head(50)"
   ]
  },
  {
   "cell_type": "code",
   "execution_count": 83,
   "id": "f4c7e5da",
   "metadata": {},
   "outputs": [
    {
     "data": {
      "text/plain": [
       "interpret                  track                                         stanice    \n",
       "QUEEN, DAVID BOWIE         UNDER PRESSURE                                radiozurnal    122\n",
       "DAVID BOWIE                CHINA GIRL                                    dvojka          12\n",
       "                           LET'S DANCE                                   dvojka          10\n",
       "                           LAZARUS                                       vltava           9\n",
       "                           I CAN'T GIVE EVERYTHING AWAY                  vltava           8\n",
       "QUEEN/DAVID BOWIE          UNDER PRESSURE                                dvojka           7\n",
       "DAVID BOWIE                HEROES                                        radiowave        7\n",
       "                           GIRL LOVES ME                                 vltava           7\n",
       "                           DOLLAR DAYS                                   vltava           7\n",
       "                           THE STARS (ARE OUT TONIGHT)                   vltava           6\n",
       "DAVID BOWIE, QUEEN         UNDER PRESSURE                                radiozurnal      5\n",
       "BOWIE DAVID                CHINA GIRL                                    dvojka           5\n",
       "DAVID BOWIE                ABSOLUTE BEGINNERS                            dvojka           5\n",
       "                           LET S DANCE                                   dvojka           4\n",
       "                           LIFE ON MARS                                  radiowave        4\n",
       "QUEEN / DAVID BOWIE        UNDER PRESSURE                                dvojka           4\n",
       "LESTER BOWIE               GHOSTS (ALBERT AYLER)                         vltava           3\n",
       "DAVID BOWIE                LET'S DANCE                                   radiowave        3\n",
       "                           HEROES                                        dvojka           3\n",
       "                           LET´S DANCE-DAVID BOWIE                       dvojka           2\n",
       "                           SOUL LOVE                                     radiowave        2\n",
       "                           SPACE ODDITY                                  dvojka           2\n",
       "                           STARMAN                                       dvojka           2\n",
       "DAVID BOWIE & MICK JAGGER  DANCING IN THE STREET                         dvojka           2\n",
       "DAVID BOWIE, JOHN LENNON   ACROSS THE UNIVERSE                           dvojka           2\n",
       "BOWIE DAVID                MODERN LOVE                                   radiowave        2\n",
       "DAVID BOWIE                CHINA GIRL-DAVID BOWIE                        dvojka           2\n",
       "                           REBEL REBEL                                   radiozurnal      1\n",
       "                           ZIGGY STARDUST                                radiowave        1\n",
       "                           THURSDAY S CHILD                              dvojka           1\n",
       "                           THE STARS (ARE OUT TONIGHT) (DAVID BOWIE)     vltava           1\n",
       "                           ASHES TO ASHES                                dvojka           1\n",
       "DAVID BOWIE & MICK JAGGER  DANCING IN THE STREET                         radiowave        1\n",
       "DAVID BOWIE                STARMAN                                       radiozurnal      1\n",
       "JAGGER MICK & BOWIE DAVID  DANCING IN THE STREET                         dvojka           1\n",
       "LIZZO & DAVID BOWIE        LET'S JUICE (AMERIGO GAZAWAY MASH-UP)         radiowave        1\n",
       "DAVID BOWIE                ROCK 'N' ROLL SUICIDE                         radiowave        1\n",
       "                           CHINA GIRL                                    radiozurnal      1\n",
       "                           LIFE ON MARS (THE SINGLES COLLECTION DISC 1)  vltava           1\n",
       "                           HEROES                                        vltava           1\n",
       "                           CHANGES (ADMIN)                               vltava           1\n",
       "                           DOLLAR DAYS (DAVID BOWIE)                     vltava           1\n",
       "                           FAME                                          radiowave        1\n",
       "                           FASHION                                       radiowave        1\n",
       "                           CHANGES                                       dvojka           1\n",
       "                           GIRL LOVES ME (DAVID BOWIE)                   vltava           1\n",
       "                           CAT PEOPLE (PUTTING OUT FIRE)                 dvojka           1\n",
       "                           HEROES-DAVID BOWIE                            radiowave        1\n",
       "                           CHINA GIRL (DAVID BOWIE/IGGY POP)             vltava           1\n",
       "                           BLUE JEANS                                    dvojka           1\n",
       "dtype: int64"
      ]
     },
     "execution_count": 83,
     "metadata": {},
     "output_type": "execute_result"
    }
   ],
   "source": [
    "hraje('bowie')"
   ]
  },
  {
   "cell_type": "code",
   "execution_count": 84,
   "id": "b56eda84",
   "metadata": {},
   "outputs": [
    {
     "data": {
      "text/plain": [
       "interpret                                              track                                                                        stanice    \n",
       "VLADIMÍR MIŠÍK                                         JEDNOU                                                                       radiozurnal    261\n",
       "VLADIMÍR MIŠÍK, BLUE EFFECT                            SLUNEČNÝ HROB                                                                radiozurnal     87\n",
       "VLADIMÍR MIŠÍK/ETC...                                  VARIACE NA RENESANČNÍ TÉMA                                                   dvojka          78\n",
       "VLADIMÍR MIŠÍK                                         VARIACE NA RENESANČNÍ TÉMA                                                   radiozurnal     73\n",
       "                                                       JEDNOU                                                                       dvojka          71\n",
       "VLADIMÍR MIŠÍK, ETC...                                 STŘÍHALI DOHOLA MALÉHO CHLAPEČKA                                             radiozurnal     57\n",
       "VLADIMÍR MIŠÍK                                         CO TI DÁM                                                                    radiozurnal     52\n",
       "                                                       SLUNEČNÍ HROB                                                                dvojka          38\n",
       "                                                       CO TI DÁM LÁSKO POD STROMEČEK                                                dvojka          18\n",
       "                                                       DĚKUJI (PETR OSTROUCHOV & DAVID STYPKA)                                      vltava          12\n",
       "                                                       PO DLOUHÉM DNI                                                               vltava           9\n",
       "                                                       ANDĚLÉ (PETR OSTROUCHOV & JAN SKÁCEL)                                        vltava           8\n",
       "VLADIMÍR MIŠÍK & BLUE SHADOWS & BLIND BOYS OF ALABAMA  ŠEDESÁTÁ LÉTA (VLADIMÍR MIŠÍK)                                               vltava           7\n",
       "VLADIMÍR MIŠÍK                                         VARIACE NA RENESANČNÍ TÉMA                                                   dvojka           7\n",
       "                                                       VÁNOČNÍ POHLEDNICE (PETR OSTROUCHOV & VÁCLAV HRABĚ)                          vltava           6\n",
       "                                                       PROČ TA RŮŽE UVADÁ                                                           dvojka           5\n",
       "VLADIMÍR MIŠÍK & ETC…                                  LADY VAMP (VLADIMÍR MIŠÍK & JAN HRUBÝ & VLADIMÍR PADRŮNĚK & VLADIMÍR MERTA)  vltava           5\n",
       "VLADIMÍR MIŠÍK                                         ANDĚLÉ                                                                       radiozurnal      5\n",
       "                                                       STŘÍHALI DOHOLA MALÉHO CHLAPEČKA                                             dvojka           4\n",
       "VLADIMÍR MIŠÍK/BLUE EFFECT                             SLUNEČNÝ HROB                                                                dvojka           4\n",
       "VLADIMÍR MIŠÍK/ETC...                                  STŘÍHALI DOHOLA MALÉHO CHLAPEČKA                                             dvojka           4\n",
       "VLADIMÍR MIŠÍK & BLUE SHADOWS & BLIND BOYS OF ALABAMA  ŠEDESÁTÁ LÉTA                                                                dvojka           3\n",
       "VLADIMÍR MIŠÍK & ETC...                                BYL JSEM DOBREJ                                                              dvojka           3\n",
       "VLADIMÍR MIŠÍK                                         ŠEDESÁTÁ LÉTA                                                                radiozurnal      3\n",
       "ADAM MIŠÍK & VLADIMÍR MIŠÍK                            VARIACE NA RENESANČNÍ TÉMA                                                   dvojka           3\n",
       "VLADIMÍR MIŠÍK                                         JEDNOHUBKY                                                                   dvojka           3\n",
       "VLADIMÍR MIŠÍK & ETC...                                PROČ TA RŮŽE UVADÁ                                                           dvojka           3\n",
       "VLADIMÍR MIŠÍK                                         ŠMAJDÁKY A PLOUŽÁKY                                                          dvojka           2\n",
       "                                                       NOČNÍ OBRAZ                                                                  dvojka           2\n",
       "BLUE EFFECT - VL.MIŠÍK                                 SLUNEČNÝ HROB                                                                dvojka           2\n",
       "ADAM MIŠÍK & CELESTE BUCKINGHAM                        ONE LIFE                                                                     radiozurnal      2\n",
       "VLADIMÍR MIŠÍK                                         KDO PŘIJDE PO MNĚ                                                            dvojka           2\n",
       "BLUE EFFECT, VLADIMÍR MIŠÍK                            SLUNEČNÝ HROB                                                                radiozurnal      2\n",
       "ADAM MIŠÍK,  VLADIMÍR MIŠÍK                            VARIACE NA RENESANČNÍ TÉMA                                                   dvojka           2\n",
       "ADAM MIŠÍK                                             V TOBĚ                                                                       radiozurnal      2\n",
       "                                                                                                                                    dvojka           2\n",
       "MIŠÍK VLADIMÍR                                         RÁM PŘÍŠTÍCH OBRAZŮ                                                          dvojka           2\n",
       "MIŠÍK VLADIMIR                                         PROČ TA RŮŽE UVADÁ                                                           dvojka           2\n",
       "VLADIMÍR MIŠÍK                                         KOČKY MŇOUKALY NA STŘEŠE                                                     dvojka           2\n",
       "                                                       ŠPEJCHAR BLUES                                                               dvojka           1\n",
       "VLADIMÍR MIŠÍK & ETC...                                ŠERO V KAVÁRNĚ                                                               dvojka           1\n",
       "VLADIMÍR MIŠÍK                                         ZA VODOU                                                                     dvojka           1\n",
       "VLADIMÍR MIŠÍK, ETC                                    JEDNOHUBKY (ADMIN)                                                           vltava           1\n",
       "                                                       ZTRACENÝ PODZIM                                                              dvojka           1\n",
       "ADAM MIŠÍK                                             TVOJE SVĚTY                                                                  dvojka           1\n",
       "ADAM MIŠÍK, BEN CRISTOVAO                              ZAPOMENOUT                                                                   dvojka           1\n",
       "VLADIMÍR MIŠÍK                                         PO DLOUHÉM DNI                                                               dvojka           1\n",
       "ADAM MIŠÍK, VLADIMÍR MIŠÍK                             VARIACE NA RENESANČNÍ TÉMA                                                   radiozurnal      1\n",
       "BLUE EFFECT - VL.MIŠÍK                                 SLUNEČNÝ HROB (V.MIŠÍK/J.SMETANA)                                            vltava           1\n",
       "ETC..., VLADIMÍR MIŠÍK                                 STŘÍHALI DOHOLA MALÉHO CHLAPEČKA                                             radiozurnal      1\n",
       "dtype: int64"
      ]
     },
     "execution_count": 84,
     "metadata": {},
     "output_type": "execute_result"
    }
   ],
   "source": [
    "hraje('mišík')"
   ]
  },
  {
   "cell_type": "code",
   "execution_count": 85,
   "id": "4068676e",
   "metadata": {},
   "outputs": [
    {
     "data": {
      "text/plain": [
       "interpret                        track                                           stanice    \n",
       "ROLLING STONES                   ANYBODY SEEN MY BABY                            radiozurnal    215\n",
       "                                 START ME UP                                     radiozurnal    204\n",
       "                                 ANGIE                                           radiozurnal    164\n",
       "                                                                                 dvojka          67\n",
       "SLOWLY ROLLING CAMERA            PROTAGONIST                                     jazz            55\n",
       "ROLLING STONES                   ANYBODY SEEN MY BABY                            dvojka          30\n",
       "ROLLING BLACKOUTS COASTAL FEVER  CAMEO                                           radiowave       25\n",
       "ROLLING STONES                   ANGRY                                           radiozurnal     24\n",
       "                                 LADY JANE                                       dvojka          21\n",
       "                                 RUBY TUESDAY                                    pohoda          19\n",
       "                                 LIKE A ROLLING STONE                            dvojka          19\n",
       "                                 LET'S SPEND THE NIGHT TOGETHER                  pohoda          17\n",
       "                                 BROWN SUGAR                                     dvojka          16\n",
       "                                 (I CAN'T GET NO) SATISFACTION                   pohoda          14\n",
       "                                 START ME UP                                     dvojka          14\n",
       "                                 AS TEARS GO BY                                  pohoda          14\n",
       "THE ROLLING STONES               ANGRY                                           dvojka          10\n",
       "ROLLING STONES                   LADY JANE                                       pohoda          10\n",
       "                                 WILD HORSES                                     dvojka           9\n",
       "                                 SATISFACTION (I CAN´T GET NO)                   dvojka           9\n",
       "                                 SATISFACTION (I CAN'T GET NO)                   radiozurnal      9\n",
       "                                 PAINT IT, BLACK                                 pohoda           9\n",
       "                                 RUBY TUESDAY                                    dvojka           8\n",
       "                                 AS TEARS GO BY                                  dvojka           8\n",
       "                                 WILD HORSES                                     radiozurnal      6\n",
       "                                 IT'S ALL OVER NOW                               dvojka           6\n",
       "                                 (I CAN'T GET NO) SATISFACTION                   dvojka           5\n",
       "                                 /I CAN T GET NO / SATISFUCTION                  dvojka           5\n",
       "THE ROLLING STONES               ANYBODY SEEN MY BABY                            dvojka           5\n",
       "ROLLING STONES                   OUT OF TIME                                     dvojka           5\n",
       "                                 LOVE IS STRONG                                  dvojka           5\n",
       "                                 LET'S SPEND THE NIGHT TOGETHER                  dvojka           5\n",
       "THE ROLLING STONES               MISS YOU                                        dvojka           5\n",
       "SLOWLY ROLLING CAMERA            LOST ORBITS (DAVE STAPLETON)                    vltava           5\n",
       "THE ROLLING STONES               LIVING IN A GHOST TOWN                          dvojka           4\n",
       "ROLLING STONES                   PAINT IT BLACK                                  dvojka           4\n",
       "SLOWLY ROLLING CAMERA            ILLUMINATE (DAVE STAPLETON & SACHAL VASANDANI)  vltava           4\n",
       "ROLLING STONES                   HONKY TONK WOMAN                                radiozurnal      3\n",
       "                                 (I CAN´T GET NO) SATISFACTION                   dvojka           2\n",
       "                                 TIME IS ON MY SIDE                              dvojka           2\n",
       "                                 HONKY TONK WOMEN                                dvojka           2\n",
       "THE ROLLING STONES               LIKE A ROLLING STONE                            dvojka           2\n",
       "ROLLING STONES                   LADY JANE                                       radiozurnal      2\n",
       "                                 JUMPING JACK FLASH                              dvojka           2\n",
       "                                 (I CAN'T GET NO) SATISFACTION                   radiowave        1\n",
       "                                 ANGIE (JAGGER/RICHARDS)                         vltava           1\n",
       "SLOWLY ROLLING CAMERA            FLOW                                            vltava           1\n",
       "THE ROLLING STONES               HONKY TONK WOMEN                                dvojka           1\n",
       "                                                                                 plus             1\n",
       "ROLLING STONES                   TIME IS ON MY SIDE                              radiowave        1\n",
       "dtype: int64"
      ]
     },
     "execution_count": 85,
     "metadata": {},
     "output_type": "execute_result"
    }
   ],
   "source": [
    "hraje('rolling')"
   ]
  },
  {
   "cell_type": "code",
   "execution_count": 86,
   "id": "00b2138e",
   "metadata": {},
   "outputs": [
    {
     "data": {
      "text/plain": [
       "interpret  track                                               stanice    \n",
       "BOB DYLAN  SUBTERRANEAN HOMESICK BLUES                         pohoda         22\n",
       "           I WANT YOU                                          pohoda         19\n",
       "           LAY LADY LAY                                        pohoda         18\n",
       "           BLOWIND IN THE WIND                                 pohoda         16\n",
       "           LIKE A ROLLING STONE                                pohoda         15\n",
       "           FOREVER YOUNG                                       vltava          9\n",
       "           KNOCKIN ON HEAVEN S DOOR                            dvojka          8\n",
       "           I WANT YOU                                          dvojka          8\n",
       "           IT AIN'T ME BABE                                    vltava          7\n",
       "           IT TAKES A LOT TO LAUGH, IT TAKES A TRAIN TO CRY    vltava          7\n",
       "           MOTHER OF MUSES                                     vltava          7\n",
       "           FALSE PROPHET                                       vltava          6\n",
       "           BLACK RIDER                                         vltava          6\n",
       "           LIKE A ROLLING STONE                                dvojka          5\n",
       "           MASTERS OF WAR                                      vltava          5\n",
       "           THE TIMES THEY ARE A-CHANGIN'                       dvojka          5\n",
       "           KNOCKIN' ON HEAVEN'S DOOR                           dvojka          4\n",
       "           BLOWIN' IN THE WIND                                 dvojka          4\n",
       "           LIKE A ROLLING STONE                                radiozurnal     3\n",
       "           JUST LIKE A WOMAN                                   dvojka          3\n",
       "           MR. TAMBOURINE MAN                                  dvojka          2\n",
       "           LAY LADY LAY                                        dvojka          2\n",
       "           BLOWIN´ IN THE WIND                                 dvojka          2\n",
       "           IT AIN'T ME BABE (BOB DYLAN)                        vltava          1\n",
       "           DON'T THINK TWICE, IT'S ALL RIGHT                   dvojka          1\n",
       "           BLOWIN IN THE WIND                                  dvojka          1\n",
       "           THE TIMES THEY ARE A CHANGING                       dvojka          1\n",
       "           THE CHRISTMAS BLUES (SAMMY CAHN & DAVID JACK HOLT)  vltava          1\n",
       "           BLOWIND IN THE WIND                                 dvojka          1\n",
       "           MOTHER OF MUSES (BOB DYLAN)                         vltava          1\n",
       "           BLOWING IN THE WIND                                 dvojka          1\n",
       "           MASTERS OF WAR (BOB DYLAN)                          vltava          1\n",
       "           CRY A WHILE                                         dvojka          1\n",
       "           FALSE PROPHET (BOB DYLAN)                           vltava          1\n",
       "           I WANT YOU (ADMIN)                                  vltava          1\n",
       "           LAY, LADY, LAY (TAKE 2)                             dvojka          1\n",
       "           LAY LADY LAY (BURDA JIŘÍ)                           vltava          1\n",
       "           LAY LADY LAY                                        vltava          1\n",
       "           FOREVER YOUNG (BOB DYLAN)                           vltava          1\n",
       "           KNOCKIN' ON HEAVEN'S DOOR (ADMIN)                   vltava          1\n",
       "           KNOCKIN' ON HEAVEN'S DOOR                           radiozurnal     1\n",
       "           HIGWAY 61 REVISITED                                 dvojka          1\n",
       "           I WANT YOU                                          vltava          1\n",
       "           BLACK RIDER (BOB DYLAN)                             vltava          1\n",
       "           THINGS HAVE CHANGED                                 vltava          1\n",
       "dtype: int64"
      ]
     },
     "execution_count": 86,
     "metadata": {},
     "output_type": "execute_result"
    }
   ],
   "source": [
    "hraje('bob dylan')"
   ]
  },
  {
   "cell_type": "code",
   "execution_count": 87,
   "id": "89ed593a",
   "metadata": {},
   "outputs": [
    {
     "data": {
      "text/plain": [
       "interpret                                          track                              stanice    \n",
       "MARTA KUBIŠOVÁ                                     DEPEŠE                             pohoda         156\n",
       "                                                   NEPIŠ DÁL                          pohoda         148\n",
       "                                                   POJĎ A MĚJ MNĚ RÁD                 pohoda         136\n",
       "                                                   LOUDÁ SE PŮLMĚSÍC                  pohoda         109\n",
       "                                                   RING-O-DING                        pohoda         106\n",
       "                                                   NENÍ TO LÁSKA                      pohoda         105\n",
       "                                                   NECHTE ZVONY ZNÍT                  pohoda          96\n",
       "                                                   CESTA                              pohoda          93\n",
       "                                                   NECHTE ZVONY ZNÍT                  dvojka          90\n",
       "                                                   DEPEŠE                             dvojka          89\n",
       "                                                   MAGDALÉNA                          pohoda          86\n",
       "                                                   VŠECHNY BOLESTI UTIŠÍ LÁSKA        pohoda          73\n",
       "                                                   HEJ, JUDE                          pohoda          72\n",
       "                                                   S NEBÝVALOU OCHOTOU                pohoda          56\n",
       "                                                   PROUDY                             pohoda          53\n",
       "                                                   LAMPA                              pohoda          53\n",
       "                                                   MAMÁ                               pohoda          52\n",
       "                                                   DOBRODRUŽSTVÍ S BOHEM PANEM        pohoda          51\n",
       "                                                   RING-O-DING                        dvojka          49\n",
       "                                                   DENNĚ ČEKÁM                        pohoda          43\n",
       "                                                   TVŮJ KRÉM, TVŮJ NŮŽ, TVŮJ RŮŽENEC  pohoda          40\n",
       "                                                   JÁ DOVEDU LHÁT                     pohoda          40\n",
       "                                                   HEJ, JUDE (HEY, JUDE)              dvojka          37\n",
       "                                                   S NEBÝVALOU OCHOTOU                dvojka          33\n",
       "                                                   MODLITBA PRO MARTU                 dvojka          32\n",
       "                                                   HEY, JUDE                          dvojka          29\n",
       "                                                   DOBRODRUŽSTVÍ S BOHEM PANEM        dvojka          25\n",
       "                                                   MAGDALENA                          pohoda          23\n",
       "                                                   VOLÁM NA SHLEDANOU                 pohoda          21\n",
       "                                                   MAGDALENA                          dvojka          19\n",
       "                                                   HEJ JUDE                           pohoda          19\n",
       "                                                   NEPIŠ DÁL                          dvojka          18\n",
       "                                                   LOUDÁ SE PŮLMĚSÍC                  dvojka          16\n",
       "                                                   TICHÁ NOC                          pohoda          11\n",
       "                                                   LAVIČKA V JASMÍNU                  pohoda           9\n",
       "                                                   MAMA                               dvojka           7\n",
       "                                                   MODLITBA PRO MARTU                 radiozurnal      6\n",
       "                                                   ZDIVOČELÁ ZEMĚ                     dvojka           5\n",
       "                                                   CESTA                              dvojka           4\n",
       "VÁCLAV NECKÁŘ,  MARTA KUBIŠOVÁ                     NOC                                radiozurnal      4\n",
       "MARTA KUBIŠOVÁ                                     VOLÁM NASHLEDANOU                  pohoda           4\n",
       "                                                   HEY JUDE                           radiozurnal      4\n",
       "                                                   LAMPA                              dvojka           4\n",
       "                                                   MÁJ                                dvojka           4\n",
       "                                                   DEPEŠE                             radiozurnal      3\n",
       "KUBIŠOVÁ MARTA                                     DEPEŠE                             dvojka           3\n",
       "HELENA VONDRÁČKOVÁ, MARTA KUBIŠOVÁ, VÁCLAV NECKÁŘ  ČASY SE MĚNÍ                       dvojka           3\n",
       "MARTA KUBIŠOVÁ                                     MAGDALÉNA                          dvojka           3\n",
       "KAREL GOTT & MARTA KUBIŠOVÁ                        JARMARK VE SCARBOROUGH             dvojka           3\n",
       "MARTA KUBIŠOVÁ, ANETA LANGEROVÁ                    ŽIVOT NENÍ PES                     radiozurnal      3\n",
       "dtype: int64"
      ]
     },
     "execution_count": 87,
     "metadata": {},
     "output_type": "execute_result"
    }
   ],
   "source": [
    "hraje('kubiš')"
   ]
  },
  {
   "cell_type": "code",
   "execution_count": 88,
   "id": "2ff65499",
   "metadata": {},
   "outputs": [
    {
     "data": {
      "text/plain": [
       "interpret                  track                              stanice    \n",
       "VELVET UNDERGROUND & NICO  SUNDAY MORNING                     pohoda         21\n",
       "THE VELVET UNDERGROUND     ALL TOMORROW'S PARTIES (LOU REED)  vltava          9\n",
       "                           JESUS (LOU REED & DOUG YULE)       vltava          6\n",
       "RED VELVET                 QUEENDOM                           radiowave       1\n",
       "THE VELVET UNDERGROUND     SWEET JANE                         radiowave       1\n",
       "VELVET HONEY               IT'S TIME TO BREATHE               radiozurnal     1\n",
       "VELVET UNDERGROUND & NICO  I'LL BE YOUR MIRROR                dvojka          1\n",
       "                                                              vltava          1\n",
       "                           SUNDAY MORNING                     radiowave       1\n",
       "dtype: int64"
      ]
     },
     "execution_count": 88,
     "metadata": {},
     "output_type": "execute_result"
    }
   ],
   "source": [
    "hraje('velvet')"
   ]
  },
  {
   "cell_type": "code",
   "execution_count": 89,
   "id": "dc5cb841",
   "metadata": {},
   "outputs": [
    {
     "data": {
      "text/plain": [
       "interpret                                                       track                                           stanice  \n",
       "STUDIOVÝ ORCHESTR                                               ČESKÁ STÁTNÍ HYMNA                              dvojka       982\n",
       "COTATCHA ORCHESTRA                                              SEN SEI                                         jazz         214\n",
       "JAZZ AT LINCOLN CENTER ORCHESTRA & WYNTON MARSALIS              THE THREE MARIAS                                jazz         195\n",
       "COTATCHA ORCHESTRA                                              BILLY'S PILGRIMAGE                              jazz         189\n",
       "ORCHESTRE NATIONAL DE JAZZ                                      WONDER TWIN POWERS ACTIVATE!                    jazz         177\n",
       "MATTHEW HALSALL & THE GONDWANA ORCHESTRA                        ONLY A WOMAN                                    jazz         142\n",
       "JAZZOVÝ ORCHESTR ČESKOSLOVENSKÉHO ROZHLASU                      STARÉ KOŘENÍ                                    jazz         139\n",
       "                                                                VÝCHOD SLUNCE                                   jazz         136\n",
       "HIDDEN ORCHESTRA                                                FOURTH WALL                                     jazz         134\n",
       "JAZZ AT LINCOLN CENTER ORCHESTRA                                ELLINGTON'S STRAY HORN                          jazz         132\n",
       "JOHNNY GRIFFIN ORCHESTRA                                        WADE IN THE WATER                               jazz         116\n",
       "BUDDY RICH AND HIS ORCHESTRA                                    BLUES FOR BASIE                                 jazz         100\n",
       "MODERN ART ORCHESTRA                                            CHAPTER FOUR                                    jazz          94\n",
       "ED PARTYKA ORCHESTRA                                            VERTICAL CONVERTIBLE                            jazz          91\n",
       "JAZZ AT LINCOLN CENTER ORCHESTRA                                DALI                                            jazz          86\n",
       "CINEMATIC ORCHESTRA & ROOTS MANUVA                              ALL THINGS TO ALL MEN                           radiowave     85\n",
       "JOHNNY GRIFFIN ORCHESTRA                                        SO TIRED                                        jazz          83\n",
       "AVISHAI COHEN & GOTHENBURG SYMPHONY ORCHESTRA                   ALON BASELA                                     jazz          80\n",
       "                                                                ARAB MEDLEY                                     jazz          79\n",
       "MAGIC MALIK ORCHESTRA                                           VOLEO                                           jazz          77\n",
       "RAY CHARLES/COUNT BASIE ORCHESTRA                               COME LIVE WITH ME                               jazz          77\n",
       "                                                                OH, WHAT A BEAUTIFUL MORNING                    jazz          76\n",
       "                                                                HOW LONG HAS THIS BEEN GOING ON?                jazz          75\n",
       "KRISTJAN RANDALU & NEW WIND JAZZ ORCHESTRA                      SISU                                            jazz          74\n",
       "MODERN ART ORCHESTRA                                            DARK FOREST                                     jazz          74\n",
       "MATTHEW HALSALL & THE GONDWANA ORCHESTRA                        THE LAND OF                                     jazz          73\n",
       "MARIUS NESET & TRONDHEIM JAZZ ORCHESTRA                         GOLDEN XPLOSION                                 jazz          70\n",
       "OLIVER NELSON AND HIS ORCHESTRA                                 TAKE ME WITH YOU                                jazz          66\n",
       "COTATCHA ORCHESTRA                                              [SARDA]NAPALM                                   jazz          64\n",
       "SAMUEL RAMEY & LONDON PHILHARMONIC ORCHESTRA, DIR. GEORG SOLTI  NON PIU ANDRAI, ÁRIE Z 1. DĚJSTVÍ OPERY FIGARO  d             64\n",
       "TODD MARCUS JAZZ ORCHESTRA                                      CAIRO STREET RIDE                               jazz          63\n",
       "ENNIO MORRICONE & HIS ORCHESTRA                                 THE GOOD, THE BAD AND THE UGLY                  pohoda        57\n",
       "AVISHAI COHEN & GOTHENBURG SYMPHONY ORCHESTRA                   TWO ROSES (SHNEI SHOSHANIM)                     jazz          56\n",
       "ORCHESTR PETRA FINKA                                            JEŠTĚ JÁ SE PODÍVÁM                             pohoda        53\n",
       "EURORADIO JAZZ ORCHESTRA                                        JAN ZRZAVÝ - SEA SIDE                           jazz          52\n",
       "STROM STÍNU & BUCINATORES ORCHESTRA                             NIKDY V ŽIVOTĚ                                  jazz          52\n",
       "MAXIME BENDER ORCHESTRA                                         FELLOWSHIP                                      jazz          51\n",
       "STROM STÍNU & BUCINATORES ORCHESTRA                             ZIMA                                            jazz          50\n",
       "UNKNOWN MORTAL ORCHESTRA                                        MULTI-LOVE                                      radiowave     50\n",
       "OLIVER NELSON AND HIS ORCHESTRA                                 A BIENTOT                                       jazz          48\n",
       "HENRY MANCINI ORCHESTRA                                         PETER GUNN                                      pohoda        46\n",
       "ORCHESTR PETRA FINKA                                            AŽ JÁ BUDU RUKOVAT                              pohoda        46\n",
       "SALONNÍ ORCHESTR JOSEFA VEJVODY                                 ANDULIČKA                                       pohoda        46\n",
       "ORCHESTR PETRA FINKA                                            TEN VEČER MÁJOVÝ                                pohoda        45\n",
       "STUDIOVÝ ORCHESTR                                               ANDULKO ŠAFÁŘOVÁ                                pohoda        45\n",
       "MAGIC MALIK ORCHESTRA                                           OVNI                                            jazz          44\n",
       "THE GIL EVANS ORCHESTRA                                         ANGEL                                           jazz          44\n",
       "MAHAVISHNU ORCHESTRA                                            I WONDER                                        jazz          43\n",
       "SALONNÍ ORCHESTR JOSEFA VEJVODY                                 KAMENNÝ CHODNÍČEK                               pohoda        43\n",
       "TRONDHEIM JAZZ ORCHESTRA & GURLS                                SWEET TALKER                                    jazz          42\n",
       "dtype: int64"
      ]
     },
     "execution_count": 89,
     "metadata": {},
     "output_type": "execute_result"
    }
   ],
   "source": [
    "hraje('orchestr')"
   ]
  },
  {
   "cell_type": "code",
   "execution_count": 62,
   "id": "4704d00b",
   "metadata": {},
   "outputs": [
    {
     "data": {
      "text/plain": [
       "interpret   track                                           stanice    \n",
       "KAREL KRYL  BRATŘÍČKU, ZAVÍREJ VRÁTKA                       dvojka         8\n",
       "            MARTINA                                         dvojka         8\n",
       "            MORITURI TE SALUTANT                            dvojka         6\n",
       "            BRATŘÍČKU, ZAVÍREJ VRÁTKA                       radiozurnal    3\n",
       "            PÍSEŇ O ŽRÁDLE                                  vltava         3\n",
       "            ANDĚL                                           dvojka         2\n",
       "            BRATŘÍČKU,  ZAVÍREJ VRÁTKA                      dvojka         2\n",
       "            SAMETOVÉ JARO                                   vltava         2\n",
       "            KARAVANA MRAKŮ (ADMIN)                          vltava         2\n",
       "            KARAVANA MRAKŮ                                  dvojka         2\n",
       "            BRATŘÍČKU, ZAVÍREJ VRÁTKA                       vltava         2\n",
       "            KARAVANA MRAKŮ                                  radiozurnal    1\n",
       "            MARAT VE VANĚ                                   radiowave      1\n",
       "            BRATŘÍČKU, ZAVÍREJ VRÁTKA - KAREL KRYL (ADMIN)  vltava         1\n",
       "            BRATŘÍČKU, ZAVÍREJ VRÁTKA - KAREL KRYL          dvojka         1\n",
       "            PÍSEŇ NEZNÁMÉHO VOJÍNA                          dvojka         1\n",
       "            BRATŘÍČKU, ZAVÍREJ VRÁTKA                       radiowave      1\n",
       "            VELIČENSTVO KAT                                 dvojka         1\n",
       "KRYL KAREL  ATLANTIS (K.KRYL / K.KRYL)                      vltava         1\n",
       "            STARÝ MLÝN - KAREL KRYL                         vltava         1\n",
       "dtype: int64"
      ]
     },
     "execution_count": 62,
     "metadata": {},
     "output_type": "execute_result"
    }
   ],
   "source": [
    "hraje('kryl')"
   ]
  },
  {
   "cell_type": "code",
   "execution_count": 90,
   "id": "ea1d1b26",
   "metadata": {},
   "outputs": [
    {
     "data": {
      "text/plain": [
       "interpret                         track                               stanice    \n",
       "JAROMÍR NOHAVICA                  MÁMA MI NA KRK DALA KLÍČ            dvojka         106\n",
       "                                  KOMETA                              radiozurnal     98\n",
       "                                  MÁM JIZVU NA RTU                    radiozurnal     97\n",
       "JAROMÍR NOHAVICA,  ČECHOMOR       BÁSNÍŘKA                            radiozurnal     83\n",
       "JAROMÍR NOHAVICA, JANA KIRSCHNER  PRVNÍ NOC V NOVÉM BYTĚ              radiozurnal     77\n",
       "JAROMÍR NOHAVICA                  SAKO ZE SAMETU                      radiozurnal     76\n",
       "                                  STARÝ MUŽ                           dvojka          74\n",
       "                                  ZATÍMCO SE KOUPEŠ                   radiozurnal     59\n",
       "JAROMÍR NOHAVICA/JANA KIRSCHNER   PRVNÍ NOC V NOVÉM BYTĚ              dvojka          46\n",
       "JAROMÍR NOHAVICA                  TĚŠÍNSKÁ                            dvojka          43\n",
       "                                  MUZEUM                              radiozurnal     40\n",
       "                                  KOMETA                              dvojka          39\n",
       "PETR NOHAVICA                     FOUR NOTES                          jazz            37\n",
       "                                  VINEFIELD NO. 2                     jazz            37\n",
       "JAROMÍR NOHAVICA                  MÁM JIZVU NA RTU                    dvojka          32\n",
       "                                  VLAŠTOVKO LEŤ                       dvojka          25\n",
       "PETR NOHAVICA                     GASP                                jazz            23\n",
       "JAROMÍR NOHAVICA                  PODEJ MI RUKU  A PROJDEM VÁCLAVÁK   dvojka          15\n",
       "KRYŠTOF/JAROMÍR NOHAVICA          KŘÍDLA Z MÝDLA                      dvojka          14\n",
       "JAROMÍR NOHAVICA                  DOKUD SE ZPÍVÁ                      dvojka          12\n",
       "                                  PODEJ MI RUKU A PROJDEM VÁCLAVÁK    dvojka          11\n",
       "                                  LADOVSKÁ ZIMA                       dvojka           5\n",
       "                                  TŘI ČUNÍCI                          dvojka           4\n",
       "                                  PANE PREZIDENTE                     dvojka           3\n",
       "JAROMÍR NOHAVICA/ČECHOMOR         KOMETA                              dvojka           3\n",
       "NOHAVICA JAROMÍR                  SPATŘIL JSEM KOMETU                 dvojka           2\n",
       "JAROMÍR NOHAVICA                  V PŮLNOČNÍ HODINU                   dvojka           2\n",
       "JANA KIRSCHNER, JAROMÍR NOHAVICA  PRVNÍ NOC V NOVÉM BYTĚ              dvojka           2\n",
       "JAROMÍR NOHAVICA                  GRÓNSKÁ PÍSNIČKA                    dvojka           2\n",
       "JAREK NOHAVICA                    STARÝ MUŽ                           dvojka           1\n",
       "NOHAVICA JAREK/ ČECHOMOR          KOMETA                              dvojka           1\n",
       "PETR NOHAVICA                     VINEFIELD NO. 1                     vltava           1\n",
       "JAROMÍR NOHAVICA                  MARIA PANNA                         dvojka           1\n",
       "JAREK NOHAVICA                    TĚŠÍNSKÁ                            dvojka           1\n",
       "PETR NOHAVICA                     EVEN IF                             vltava           1\n",
       "NOHAVICA JAROMÍR                  STARÝ MUŽ                           dvojka           1\n",
       "JAROMÍR NOHAVICA                  LACHTANI                            dvojka           1\n",
       "NOHAVICA JAROMÍR                  PODZEMNÍ PRAMENY                    dvojka           1\n",
       "                                  MIKYMAUZ (J.NOHAVICA / J.NOHAVICA)  vltava           1\n",
       "                                  KOŠILKA - NOHAVICA                  dvojka           1\n",
       "                                  JÁ SI TO PAMATUJU                   dvojka           1\n",
       "NOHAVICA JAREK                    KOMETA - NOHAVICA JAREK             dvojka           1\n",
       "JAROMÍR NOHAVICA                  GAUDEAMUS IGITUR                    dvojka           1\n",
       "NOHAVICA                          TŘI ČUNÍCI                          dvojka           1\n",
       "JAROMÍR NOHAVICA                  PETĚRBURG                           dvojka           1\n",
       "                                  AŽ TO SE MNOU SEKNE                 dvojka           1\n",
       "JAROMÍR NOHAVICA, PETER CMORÍK    KŘÍŽ SVŮJ NESEME                    dvojka           1\n",
       "JAROMÍR NOHAVICA                  DIVOCÍ KONĚ                         dvojka           1\n",
       "                                  MUZEUM                              dvojka           1\n",
       "                                  ZÍTRA RÁNO V PĚT                    dvojka           1\n",
       "dtype: int64"
      ]
     },
     "execution_count": 90,
     "metadata": {},
     "output_type": "execute_result"
    }
   ],
   "source": [
    "hraje('nohavi')"
   ]
  },
  {
   "cell_type": "code",
   "execution_count": 117,
   "id": "c664cf0b",
   "metadata": {},
   "outputs": [
    {
     "data": {
      "text/plain": [
       "interpret        track                   stanice\n",
       "RICCHI E POVERI  MADE IN ITALY           dvojka     36\n",
       "                 COMME VORREI            dvojka     26\n",
       "                 SARÁ PERCHÉ TI AMO      dvojka     19\n",
       "                 ACAPULCO                dvojka      6\n",
       "                 COSA SEI                dvojka      6\n",
       "                 MAMMA MARIA             dvojka      4\n",
       "                 SARÁ PERCHE TI AMO      dvojka      4\n",
       "                 CANZONE D'AMORE         dvojka      2\n",
       "                 M' INNAMORO DI TE       dvojka      2\n",
       "                 SARA PERCHE TI AMO      dvojka      2\n",
       "                 BACIAMOCI               dvojka      1\n",
       "                 CIAO ITALY, CIAO AMORE  dvojka      1\n",
       "                 CIAO ITALY,CIAO AMORE   dvojka      1\n",
       "                 M´INNAMORO DI TE        dvojka      1\n",
       "                 VOULES VOUZ DANSER      dvojka      1\n",
       "dtype: int64"
      ]
     },
     "execution_count": 117,
     "metadata": {},
     "output_type": "execute_result"
    }
   ],
   "source": [
    "hraje('e pove')"
   ]
  },
  {
   "cell_type": "code",
   "execution_count": 65,
   "id": "eba64a14",
   "metadata": {},
   "outputs": [
    {
     "data": {
      "text/plain": [
       "interpret                                                      track                                                      stanice  \n",
       "SUFJAN STEVENS                                                 VIDEO GAME                                                 radiowave    101\n",
       "                                                               LONELY MAN OF WINTER (DOVEMAN MIX FT. MELISSA MARY AHERN)  radiowave     90\n",
       "SUFJAN STEVENS / BRYCE DESSNER / NICO MUHLY / JAMES MCALISTER  SATURN                                                     radiowave     89\n",
       "                                                               VENUS                                                      radiowave     87\n",
       "SUFJAN STEVENS                                                 I WALKED                                                   radiowave     82\n",
       "                                                               WILL ANYBODY EVER LOVE ME                                  radiowave     34\n",
       "                                                               WITH MY WHOLE HEART                                        radiowave     34\n",
       "                                                               URSA MAJOR                                                 vltava         7\n",
       "                                                               GET REAL GET RIGHT                                         radiowave      6\n",
       "                                                               DING-A-LING-A-RING-A-LING                                  radiowave      5\n",
       "                                                               ALL OF ME WANTS ALL OF YOU                                 radiowave      3\n",
       "                                                               SHOULD HAVE KNOWN BETTER                                   radiowave      1\n",
       "                                                               THE TRANSFIGURATION                                        radiowave      1\n",
       "                                                               URSA MAJOR (SUFJAN STEVENS)                                vltava         1\n",
       "dtype: int64"
      ]
     },
     "execution_count": 65,
     "metadata": {},
     "output_type": "execute_result"
    }
   ],
   "source": [
    "hraje('sufjan')"
   ]
  },
  {
   "cell_type": "code",
   "execution_count": 118,
   "id": "a4a0208a",
   "metadata": {},
   "outputs": [
    {
     "data": {
      "text/plain": [
       "interpret  track                  stanice  \n",
       "GRIMES     FLESH WITHOUT BLOOD    radiowave    81\n",
       "           VIOLENCE FT. I_O       radiowave    79\n",
       "           4/EM                   radiowave    60\n",
       "           OBLIVION               radiowave    52\n",
       "           GO FT. BLOOD DIAMONDS  radiowave    50\n",
       "           REALITI                radiowave    46\n",
       "           DELETE FOREVER         radiowave    41\n",
       "           GENESIS                radiowave    40\n",
       "           WE APPRECIATE POWER    radiowave    32\n",
       "dtype: int64"
      ]
     },
     "execution_count": 118,
     "metadata": {},
     "output_type": "execute_result"
    }
   ],
   "source": [
    "hraje('grimes')"
   ]
  },
  {
   "cell_type": "code",
   "execution_count": 91,
   "id": "ba10ea9e",
   "metadata": {},
   "outputs": [
    {
     "data": {
      "text/plain": [
       "interpret  track                    stanice  \n",
       "MIDI LIDI  LÁSKA                    radiowave    35\n",
       "           POJĎ VEN (EDIT)          radiowave    35\n",
       "           LUX                      radiowave    22\n",
       "                                    vltava        1\n",
       "           LÁSKA                    dvojka        1\n",
       "           NA TO NESMÍŠ ZAPOMENOUT  radiowave     1\n",
       "           PAPÁ                     radiowave     1\n",
       "           POKOJ                    dvojka        1\n",
       "dtype: int64"
      ]
     },
     "execution_count": 91,
     "metadata": {},
     "output_type": "execute_result"
    }
   ],
   "source": [
    "hraje('midi lidi')"
   ]
  },
  {
   "cell_type": "code",
   "execution_count": 92,
   "id": "742cb4b5",
   "metadata": {},
   "outputs": [
    {
     "data": {
      "text/plain": [
       "interpret  track  stanice  \n",
       "KAZETY     JIZVY  radiowave    85\n",
       "dtype: int64"
      ]
     },
     "execution_count": 92,
     "metadata": {},
     "output_type": "execute_result"
    }
   ],
   "source": [
    "hraje('kazety')"
   ]
  },
  {
   "cell_type": "code",
   "execution_count": 119,
   "id": "cd816c76",
   "metadata": {},
   "outputs": [
    {
     "data": {
      "text/plain": [
       "interpret                track                                                                                      stanice  \n",
       "MARGO                    THE FASCINATING STORY OF TSAR NICHOLAS AND WHAT HAPPENED TO OUR INTERPOLITICAL FRIENDSHIP  radiowave    127\n",
       "ZELA MARGOSSIAN QUINTET  REFUGE                                                                                     jazz          74\n",
       "                         ON YA                                                                                      jazz          72\n",
       "                         TIMELESS                                                                                   jazz          68\n",
       "MARGO                    A WELL TRAVELED GENTLEMAN MR. PARTESH HAVING A DRINK ON THE 96TH FLOOR, WHAT A VIEW!       radiowave     41\n",
       "MARGO GURYAN             SUN                                                                                        radiowave      8\n",
       "dtype: int64"
      ]
     },
     "execution_count": 119,
     "metadata": {},
     "output_type": "execute_result"
    }
   ],
   "source": [
    "hraje('margo')"
   ]
  },
  {
   "cell_type": "code",
   "execution_count": 68,
   "id": "9dc7fc91",
   "metadata": {},
   "outputs": [
    {
     "data": {
      "text/plain": [
       "interpret  track          stanice  \n",
       "VENTOLIN   DISCO SCIENCE  radiowave    94\n",
       "           PŮJDEME VEN    radiowave    82\n",
       "           POSUN ČASU     radiowave    59\n",
       "           SUPERSONIK     radiowave    57\n",
       "           KAPESNÍK       radiowave     4\n",
       "           MECH           radiowave     3\n",
       "           PŮJDEME VEN    dvojka        1\n",
       "dtype: int64"
      ]
     },
     "execution_count": 68,
     "metadata": {},
     "output_type": "execute_result"
    }
   ],
   "source": [
    "hraje('ventol')"
   ]
  },
  {
   "cell_type": "code",
   "execution_count": 101,
   "id": "a61cebb1",
   "metadata": {},
   "outputs": [
    {
     "data": {
      "text/plain": [
       "interpret   track                                        stanice  \n",
       "POST-HUDBA  BEZPEČÍ A KLID                               radiowave    178\n",
       "            POŘÁD STEJNÝ POUŠTĚ                          radiowave    169\n",
       "            PŘÍSTAVY                                     radiowave     10\n",
       "            DO PRÁCE PŘES NUSELÁK, Z PRÁCE PŘES NUSELÁK  vltava         5\n",
       "            PRVNÍ SNÍH V PODOLÍ                          vltava         5\n",
       "            BEZPEČÍ A KLID                               vltava         4\n",
       "            BEZPEČÍ A KLID (VLADISLAV DUBA)              vltava         2\n",
       "            MODŘÍNOVÝ HÁJ                                vltava         2\n",
       "dtype: int64"
      ]
     },
     "execution_count": 101,
     "metadata": {},
     "output_type": "execute_result"
    }
   ],
   "source": [
    "hraje('post-hudb')"
   ]
  },
  {
   "cell_type": "code",
   "execution_count": 97,
   "id": "528b1042",
   "metadata": {},
   "outputs": [
    {
     "data": {
      "text/plain": [
       "interpret          track                                                 stanice  \n",
       "CAROLINE POLACHEK  SO COLD YOU'RE HURTING MY FEELINGS                    radiowave    123\n",
       "                   SMOKE                                                 radiowave     91\n",
       "                   BUNNY IS A RIDER                                      radiowave     87\n",
       "                   WELCOME TO MY ISLAND                                  radiowave     86\n",
       "                   OCEAN OF TEARS                                        radiowave     67\n",
       "                   PANG                                                  radiowave      8\n",
       "                   SO HOT YOURE HURTING MY FEELINGS                      radiowave      4\n",
       "                   BILLIONS                                              radiowave      1\n",
       "                   BLOOD AND BUTTER                                      radiowave      1\n",
       "                   BLOOD AND BUTTER (CAROLINE POLACHEK & DANNY L HARLE)  vltava         1\n",
       "                   BUNNY IS A RIDER (NIKKI NAIR SATELLITE REMIX)         radiowave      1\n",
       "dtype: int64"
      ]
     },
     "execution_count": 97,
     "metadata": {},
     "output_type": "execute_result"
    }
   ],
   "source": [
    "hraje('polachek')"
   ]
  },
  {
   "cell_type": "code",
   "execution_count": 104,
   "id": "16e33c31",
   "metadata": {},
   "outputs": [
    {
     "data": {
      "text/plain": [
       "interpret               track                                   stanice  \n",
       "GLEB                    BUDEME TAM FT. VI3E                     radiowave    120\n",
       "                        ALIBABABIGBASS                          radiowave    118\n",
       "                        GO GO GO                                radiowave     77\n",
       "                        GAUČ STORYTELLING                       radiowave     71\n",
       "                        ZEŠLACH CRUNK                           radiowave     69\n",
       "GLEB ZOO                GAUČ STORYTELLING                       radiowave     64\n",
       "GLEB                    WORKIN WORKIN                           radiowave     52\n",
       "                        MC ERIK & BARBARA FT. NATÁLIA HULEJOVÁ  radiowave     37\n",
       "BIG BOY GLEB            ŠEDÁ HUS                                radiowave      1\n",
       "GLEB                    BUDEME TAM                              radiowave      1\n",
       "GLEB X SEPAR            HEY G                                   radiowave      1\n",
       "GLEB ZOO                GAUČ STORYTELLING                       dvojka         1\n",
       "GLEB, DALYB, FOBIA KID  2000X                                   radiowave      1\n",
       "dtype: int64"
      ]
     },
     "execution_count": 104,
     "metadata": {},
     "output_type": "execute_result"
    }
   ],
   "source": [
    "hraje('gleb')"
   ]
  },
  {
   "cell_type": "code",
   "execution_count": null,
   "id": "285b7a80",
   "metadata": {},
   "outputs": [],
   "source": []
  },
  {
   "cell_type": "code",
   "execution_count": 108,
   "id": "e28344ed",
   "metadata": {},
   "outputs": [
    {
     "data": {
      "text/html": [
       "<div>\n",
       "<style scoped>\n",
       "    .dataframe tbody tr th:only-of-type {\n",
       "        vertical-align: middle;\n",
       "    }\n",
       "\n",
       "    .dataframe tbody tr th {\n",
       "        vertical-align: top;\n",
       "    }\n",
       "\n",
       "    .dataframe thead th {\n",
       "        text-align: right;\n",
       "    }\n",
       "</style>\n",
       "<table border=\"1\" class=\"dataframe\">\n",
       "  <thead>\n",
       "    <tr style=\"text-align: right;\">\n",
       "      <th></th>\n",
       "      <th>since</th>\n",
       "      <th>id</th>\n",
       "      <th>interpret</th>\n",
       "      <th>interpret_id</th>\n",
       "      <th>track</th>\n",
       "      <th>track_id</th>\n",
       "      <th>stanice</th>\n",
       "      <th>rok</th>\n",
       "    </tr>\n",
       "  </thead>\n",
       "  <tbody>\n",
       "    <tr>\n",
       "      <th>47861</th>\n",
       "      <td>2022-01-06 23:01:12+01:00</td>\n",
       "      <td>12474636</td>\n",
       "      <td>GLEB ZOO</td>\n",
       "      <td>18622</td>\n",
       "      <td>GAUČ STORYTELLING</td>\n",
       "      <td>61548</td>\n",
       "      <td>dvojka</td>\n",
       "      <td>2022</td>\n",
       "    </tr>\n",
       "  </tbody>\n",
       "</table>\n",
       "</div>"
      ],
      "text/plain": [
       "                          since        id interpret  interpret_id  \\\n",
       "47861 2022-01-06 23:01:12+01:00  12474636  GLEB ZOO         18622   \n",
       "\n",
       "                   track  track_id stanice   rok  \n",
       "47861  GAUČ STORYTELLING     61548  dvojka  2022  "
      ]
     },
     "execution_count": 108,
     "metadata": {},
     "output_type": "execute_result"
    }
   ],
   "source": [
    "df[(df['interpret'] == 'GLEB ZOO') & (df['stanice'] == 'dvojka')]"
   ]
  },
  {
   "cell_type": "code",
   "execution_count": 110,
   "id": "bef4a2fd",
   "metadata": {},
   "outputs": [
    {
     "data": {
      "text/html": [
       "<div>\n",
       "<style scoped>\n",
       "    .dataframe tbody tr th:only-of-type {\n",
       "        vertical-align: middle;\n",
       "    }\n",
       "\n",
       "    .dataframe tbody tr th {\n",
       "        vertical-align: top;\n",
       "    }\n",
       "\n",
       "    .dataframe thead th {\n",
       "        text-align: right;\n",
       "    }\n",
       "</style>\n",
       "<table border=\"1\" class=\"dataframe\">\n",
       "  <thead>\n",
       "    <tr style=\"text-align: right;\">\n",
       "      <th></th>\n",
       "      <th>since</th>\n",
       "      <th>id</th>\n",
       "      <th>interpret</th>\n",
       "      <th>interpret_id</th>\n",
       "      <th>track</th>\n",
       "      <th>track_id</th>\n",
       "      <th>stanice</th>\n",
       "      <th>rok</th>\n",
       "    </tr>\n",
       "  </thead>\n",
       "  <tbody>\n",
       "    <tr>\n",
       "      <th>7496</th>\n",
       "      <td>2021-01-24 22:33:34+01:00</td>\n",
       "      <td>10474043</td>\n",
       "      <td>VENTOLIN</td>\n",
       "      <td>5344</td>\n",
       "      <td>PŮJDEME VEN</td>\n",
       "      <td>14462</td>\n",
       "      <td>dvojka</td>\n",
       "      <td>2021</td>\n",
       "    </tr>\n",
       "  </tbody>\n",
       "</table>\n",
       "</div>"
      ],
      "text/plain": [
       "                         since        id interpret  interpret_id        track  \\\n",
       "7496 2021-01-24 22:33:34+01:00  10474043  VENTOLIN          5344  PŮJDEME VEN   \n",
       "\n",
       "      track_id stanice   rok  \n",
       "7496     14462  dvojka  2021  "
      ]
     },
     "execution_count": 110,
     "metadata": {},
     "output_type": "execute_result"
    }
   ],
   "source": [
    "df[(df['interpret'] == 'VENTOLIN') & (df['stanice'] == 'dvojka')]"
   ]
  },
  {
   "cell_type": "code",
   "execution_count": 111,
   "id": "c3f06c43",
   "metadata": {},
   "outputs": [
    {
     "data": {
      "text/html": [
       "<div>\n",
       "<style scoped>\n",
       "    .dataframe tbody tr th:only-of-type {\n",
       "        vertical-align: middle;\n",
       "    }\n",
       "\n",
       "    .dataframe tbody tr th {\n",
       "        vertical-align: top;\n",
       "    }\n",
       "\n",
       "    .dataframe thead th {\n",
       "        text-align: right;\n",
       "    }\n",
       "</style>\n",
       "<table border=\"1\" class=\"dataframe\">\n",
       "  <thead>\n",
       "    <tr style=\"text-align: right;\">\n",
       "      <th></th>\n",
       "      <th>since</th>\n",
       "      <th>id</th>\n",
       "      <th>interpret</th>\n",
       "      <th>interpret_id</th>\n",
       "      <th>track</th>\n",
       "      <th>track_id</th>\n",
       "      <th>stanice</th>\n",
       "      <th>rok</th>\n",
       "    </tr>\n",
       "  </thead>\n",
       "  <tbody>\n",
       "    <tr>\n",
       "      <th>7497</th>\n",
       "      <td>2021-01-24 22:47:26+01:00</td>\n",
       "      <td>10474068</td>\n",
       "      <td>MIDI LIDI</td>\n",
       "      <td>317</td>\n",
       "      <td>POKOJ</td>\n",
       "      <td>324</td>\n",
       "      <td>dvojka</td>\n",
       "      <td>2021</td>\n",
       "    </tr>\n",
       "    <tr>\n",
       "      <th>18496</th>\n",
       "      <td>2021-04-27 22:46:51+01:00</td>\n",
       "      <td>10883357</td>\n",
       "      <td>MIDI LIDI</td>\n",
       "      <td>317</td>\n",
       "      <td>LÁSKA</td>\n",
       "      <td>1235</td>\n",
       "      <td>dvojka</td>\n",
       "      <td>2021</td>\n",
       "    </tr>\n",
       "  </tbody>\n",
       "</table>\n",
       "</div>"
      ],
      "text/plain": [
       "                          since        id  interpret  interpret_id  track  \\\n",
       "7497  2021-01-24 22:47:26+01:00  10474068  MIDI LIDI           317  POKOJ   \n",
       "18496 2021-04-27 22:46:51+01:00  10883357  MIDI LIDI           317  LÁSKA   \n",
       "\n",
       "       track_id stanice   rok  \n",
       "7497        324  dvojka  2021  \n",
       "18496      1235  dvojka  2021  "
      ]
     },
     "execution_count": 111,
     "metadata": {},
     "output_type": "execute_result"
    }
   ],
   "source": [
    "df[(df['interpret'] == 'MIDI LIDI') & (df['stanice'] == 'dvojka')]"
   ]
  },
  {
   "cell_type": "code",
   "execution_count": 112,
   "id": "c34e2caa",
   "metadata": {},
   "outputs": [
    {
     "data": {
      "text/html": [
       "<div>\n",
       "<style scoped>\n",
       "    .dataframe tbody tr th:only-of-type {\n",
       "        vertical-align: middle;\n",
       "    }\n",
       "\n",
       "    .dataframe tbody tr th {\n",
       "        vertical-align: top;\n",
       "    }\n",
       "\n",
       "    .dataframe thead th {\n",
       "        text-align: right;\n",
       "    }\n",
       "</style>\n",
       "<table border=\"1\" class=\"dataframe\">\n",
       "  <thead>\n",
       "    <tr style=\"text-align: right;\">\n",
       "      <th></th>\n",
       "      <th>since</th>\n",
       "      <th>id</th>\n",
       "      <th>interpret</th>\n",
       "      <th>interpret_id</th>\n",
       "      <th>track</th>\n",
       "      <th>track_id</th>\n",
       "      <th>stanice</th>\n",
       "      <th>rok</th>\n",
       "    </tr>\n",
       "  </thead>\n",
       "  <tbody>\n",
       "    <tr>\n",
       "      <th>44413</th>\n",
       "      <td>2021-12-07 22:47:55+01:00</td>\n",
       "      <td>12240162</td>\n",
       "      <td>RADIOHEAD</td>\n",
       "      <td>1267</td>\n",
       "      <td>CREEP</td>\n",
       "      <td>42843</td>\n",
       "      <td>dvojka</td>\n",
       "      <td>2021</td>\n",
       "    </tr>\n",
       "    <tr>\n",
       "      <th>77927</th>\n",
       "      <td>2022-09-21 23:48:43+01:00</td>\n",
       "      <td>15522599</td>\n",
       "      <td>RADIOHEAD</td>\n",
       "      <td>1267</td>\n",
       "      <td>CREEP</td>\n",
       "      <td>42843</td>\n",
       "      <td>dvojka</td>\n",
       "      <td>2022</td>\n",
       "    </tr>\n",
       "  </tbody>\n",
       "</table>\n",
       "</div>"
      ],
      "text/plain": [
       "                          since        id  interpret  interpret_id  track  \\\n",
       "44413 2021-12-07 22:47:55+01:00  12240162  RADIOHEAD          1267  CREEP   \n",
       "77927 2022-09-21 23:48:43+01:00  15522599  RADIOHEAD          1267  CREEP   \n",
       "\n",
       "       track_id stanice   rok  \n",
       "44413     42843  dvojka  2021  \n",
       "77927     42843  dvojka  2022  "
      ]
     },
     "execution_count": 112,
     "metadata": {},
     "output_type": "execute_result"
    }
   ],
   "source": [
    "df[(df['interpret'] == 'RADIOHEAD') & (df['stanice'] == 'dvojka')]"
   ]
  },
  {
   "cell_type": "code",
   "execution_count": 69,
   "id": "1ac9e275",
   "metadata": {},
   "outputs": [
    {
     "data": {
      "text/plain": [
       "interpret  track                                    stanice  \n",
       "NĚCO NĚCO  ROVINA                                   radiowave    98\n",
       "           CO VLASTNĚ CHCEŠ                         radiowave    87\n",
       "           CO VLASTNĚ CHCEŠ II                      radiowave    33\n",
       "           CHYBY                                    radiowave     7\n",
       "           MEZERY (TOMÁŠ TKÁČ & ALŽBĚTA TRUSINOVÁ)  vltava        4\n",
       "dtype: int64"
      ]
     },
     "execution_count": 69,
     "metadata": {},
     "output_type": "execute_result"
    }
   ],
   "source": [
    "hraje('něco něco')"
   ]
  },
  {
   "cell_type": "code",
   "execution_count": 127,
   "id": "51cad1b9",
   "metadata": {},
   "outputs": [
    {
     "data": {
      "text/plain": [
       "interpret                                track                            stanice\n",
       "MARTHA ELEFTERIADU                       PROČ PŘICHÁZÍŠ TAK POZDĚ, LÁSKO  pohoda     150\n",
       "MARTHA A TENA ELEFTERIADU                OD ZÍTŘKA MÁME DOVOLENOU         pohoda     128\n",
       "                                         A DESKY DÁL STÁRNOU              pohoda     122\n",
       "                                         TOHLE BOOGIE - WOOGIE            pohoda     110\n",
       "                                         HREJ DÁL                         pohoda      83\n",
       "                                         AŤ SE MÚZY POPEROU               pohoda      63\n",
       "                                         MODRÉ KRÁLOVSTVÍ                 pohoda      34\n",
       "MARTHA A TENA ELEFTERIADU & BOB FRÍDL    ZPÍVEJ TU PÍSEŇ KOUZELNOU        pohoda      33\n",
       "TENA ELEFTERIADU                         PŮLNOČNÍ ČAS                     pohoda      32\n",
       "MARTHA A TENA ELEFTERIADU & IVAN MLÁDEK  DVĚ PLUS JEDEN                   pohoda      28\n",
       "MARTHA ELEFTERIADU                       MODRÉ KRÁLOVSTVÍ                 pohoda      20\n",
       "MARTHA A TENA ELEFTERIADU                HREJTE SWING                     pohoda       6\n",
       "                                         SRDCE NA DLANI                   dvojka       6\n",
       "ELEFTERIADU MARTHA A TENA                PROČ PŘICHÁZÍŠ TAK POZDĚ, LÁSKO  dvojka       4\n",
       "MARTHA A TENA ELEFTERIADU, BOB FRÍDL     ZPÍVEJ TU PÍSEŇ KOUZELNOU        dvojka       3\n",
       "MARTA & TENA ELEFTERIADU                 SULEJMON                         dvojka       2\n",
       "MARTHA A TENA ELEFTERIADU                DÁL NEŽ SLUNCE VSTÁVÁ            dvojka       2\n",
       "                                         HREJ DÁL                         dvojka       2\n",
       "MARTHA/TENA ELEFTERIADU                  A DESKY DÁL STÁRNOU              dvojka       2\n",
       "ELEFTERIADU MARTHA,  ELEFTERIADU TENA    BYL MŮJ PŘÍTEL                   dvojka       2\n",
       "MARTHA A TENA ELEFTERIADU                SULEJMON                         dvojka       2\n",
       "MARTHA/TENA ELEFTERIADU                  KDE SE HVĚZDY OČÍM ZTRÁCEJÍ      dvojka       1\n",
       "MARTHA A TENA ELEFTERIADU, JIŘÍ SUCHÝ    TENTO TÝDEN V PÁTEK              dvojka       1\n",
       "ELEFTERIADU MARTHA A TENA                HRAJTE SWING                     dvojka       1\n",
       "MARTHA A TENA ELEFTERIADU                ŽIVOT JE JEN NÁHODA              dvojka       1\n",
       "                                         TÁTO, POJĎ SI HRÁT               dvojka       1\n",
       "                                         NÁMĚSTÍ                          dvojka       1\n",
       "                                         A DESKY DÁL STÁRNOU              dvojka       1\n",
       "ELEFTERIADU MARTHA, ELEFTERIADU TENA     BYL MŮJ PŘÍTEL                   dvojka       1\n",
       "ELEFTERIADU MARTHA A TENA                PŮLNOC JE PRO MNE RÁNEM          dvojka       1\n",
       "MARTHA A TENA ELEFTERIADU                OD ZÍTŘKA MÁME DOVOLENOU         dvojka       1\n",
       "dtype: int64"
      ]
     },
     "execution_count": 127,
     "metadata": {},
     "output_type": "execute_result"
    }
   ],
   "source": [
    "hraje('elefteriadu')"
   ]
  },
  {
   "cell_type": "code",
   "execution_count": 128,
   "id": "37d4a437",
   "metadata": {},
   "outputs": [
    {
     "data": {
      "text/plain": [
       "interpret    track            stanice  \n",
       "OF MONTREAL  DOUR PERCENTAGE  radiowave    77\n",
       "             COQUET COQUETTE  radiowave    56\n",
       "             JIGSAW PUZZLE    radiowave    21\n",
       "dtype: int64"
      ]
     },
     "execution_count": 128,
     "metadata": {},
     "output_type": "execute_result"
    }
   ],
   "source": [
    "hraje('of montreal')"
   ]
  },
  {
   "cell_type": "code",
   "execution_count": 129,
   "id": "000c552c",
   "metadata": {},
   "outputs": [
    {
     "data": {
      "text/plain": [
       "interpret           track                                    stanice  \n",
       "THE MOUNTAIN GOATS  ANDREW ELDRITCH IS MOVING BACK TO LEEDS  radiowave    169\n",
       "dtype: int64"
      ]
     },
     "execution_count": 129,
     "metadata": {},
     "output_type": "execute_result"
    }
   ],
   "source": [
    "hraje('mountain goats')"
   ]
  },
  {
   "cell_type": "code",
   "execution_count": 143,
   "id": "12aa7d48",
   "metadata": {},
   "outputs": [
    {
     "data": {
      "text/plain": [
       "interpret                              track                                                                              stanice    \n",
       "NICK CAVE, KYLIE MINOGUE               WHERE THE WILD ROSES GROW                                                          radiozurnal    235\n",
       "NICK CAVE & KYLIE MINOQUE              WHERE THE WILD ROSES GROW                                                          dvojka          49\n",
       "NICK CAVE AND THE BAD SEEDS            WE NO WHO U R (NICK CAVE & WARREN ELLIS)                                           vltava          11\n",
       "KYLIE MINOGUE, NICK CAVE               WHERE THE WILD ROSES GROW                                                          radiozurnal      8\n",
       "NICK CAVE                              IDIOT PRAYER                                                                       vltava           7\n",
       "                                       PALACES OF MONTEZUMA (NICK CAVE & WARREN ELLIS & MARTYN P. CASEY & JIM SCLAVUNOS)  vltava           7\n",
       "                                       SAD WATERS                                                                         vltava           7\n",
       "NICK CAVE & WARREN ELLIS               CARNAGE                                                                            vltava           6\n",
       "                                       LAVENDER FIELDS                                                                    vltava           5\n",
       "NICK CAVE, KYLIE MINOGUE               WHERE THE WILD ROSES GROW                                                          dvojka           2\n",
       "NICK CAVE & THE BAD SEEDS              SUPERNATURALLY                                                                     radiowave        2\n",
       "NICK CAVE/KYLIE MINOGUE                WHERE THE WILD ROSES GROW                                                          dvojka           2\n",
       "NICK CAVE & THE BAD SEEDS              RED RIGHT HAND                                                                     dvojka           2\n",
       "                                       RED RIGHT HAND (PETR JUNGMANN)                                                     vltava           1\n",
       "                                       DO YOU LOVE ME?                                                                    radiowave        1\n",
       "NICK CAVE & THE BAD SEEDS & PJ HARVEY  HENRY LEE                                                                          dvojka           1\n",
       "NICK CAVE & THE BAD SEEDS              DIG, LAZARUS, DIG!!!                                                               dvojka           1\n",
       "                                       BRING IT ON                                                                        radiowave        1\n",
       "NICK CAVE & WARREN ELLIS               WE ARE NOT ALONE                                                                   dvojka           1\n",
       "NICK CAVE AND THE BAD SEEDS            JESUS OF THE MOON                                                                  dvojka           1\n",
       "NICK CAVE  THE BAD SEEDS               INTO MY ARMS                                                                       vltava           1\n",
       "NICK CAVE THE BAD SEEDS                INTO MY ARMS (DALET GALAXY SERVICE)                                                vltava           1\n",
       "NICK CAVE                              SLOWLY GOES THE NIGHT                                                              dvojka           1\n",
       "                                       PALACES OF MONTEZUMA                                                               radiowave        1\n",
       "NICK CAVE & THE BAD SEEDS              RED RIGHT HAND                                                                     radiowave        1\n",
       "dtype: int64"
      ]
     },
     "execution_count": 143,
     "metadata": {},
     "output_type": "execute_result"
    }
   ],
   "source": [
    "hraje('nick cave')"
   ]
  },
  {
   "cell_type": "markdown",
   "id": "e8eab329",
   "metadata": {},
   "source": [
    "## Hledání písní"
   ]
  },
  {
   "cell_type": "code",
   "execution_count": 126,
   "id": "845a2ca5",
   "metadata": {},
   "outputs": [
    {
     "data": {
      "text/html": [
       "<div>\n",
       "<style scoped>\n",
       "    .dataframe tbody tr th:only-of-type {\n",
       "        vertical-align: middle;\n",
       "    }\n",
       "\n",
       "    .dataframe tbody tr th {\n",
       "        vertical-align: top;\n",
       "    }\n",
       "\n",
       "    .dataframe thead th {\n",
       "        text-align: right;\n",
       "    }\n",
       "</style>\n",
       "<table border=\"1\" class=\"dataframe\">\n",
       "  <thead>\n",
       "    <tr style=\"text-align: right;\">\n",
       "      <th></th>\n",
       "      <th>interpret</th>\n",
       "      <th>track</th>\n",
       "    </tr>\n",
       "  </thead>\n",
       "  <tbody>\n",
       "    <tr>\n",
       "      <th>155460</th>\n",
       "      <td>NOČNÍ OPTIKA</td>\n",
       "      <td>VRAŽDA V ORIENT EXPRESSU</td>\n",
       "    </tr>\n",
       "  </tbody>\n",
       "</table>\n",
       "</div>"
      ],
      "text/plain": [
       "           interpret                     track\n",
       "155460  NOČNÍ OPTIKA  VRAŽDA V ORIENT EXPRESSU"
      ]
     },
     "execution_count": 126,
     "metadata": {},
     "output_type": "execute_result"
    }
   ],
   "source": [
    "df[df['track'].str.lower().str.contains('vražd',na=False)][['interpret','track']].drop_duplicates()"
   ]
  }
 ],
 "metadata": {
  "kernelspec": {
   "display_name": "Python 3 (ipykernel)",
   "language": "python",
   "name": "python3"
  },
  "language_info": {
   "codemirror_mode": {
    "name": "ipython",
    "version": 3
   },
   "file_extension": ".py",
   "mimetype": "text/x-python",
   "name": "python",
   "nbconvert_exporter": "python",
   "pygments_lexer": "ipython3",
   "version": "3.10.8"
  }
 },
 "nbformat": 4,
 "nbformat_minor": 5
}
