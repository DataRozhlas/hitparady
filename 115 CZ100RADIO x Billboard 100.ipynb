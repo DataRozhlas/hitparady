{
 "cells": [
  {
   "cell_type": "markdown",
   "id": "8a5b646a",
   "metadata": {},
   "source": [
    "Problémy:\n",
    "- za USA data jen do podzimu 2021\n",
    "- různé číslování týdnů USA/ČR\n",
    "- časový ořez – Mariah Carey byla u nás prý nasazená výrazně později než v USA, ale to my nevíme, páč hrála už před rokem 2006 (v závěrečném srovnání snad vyřešeno)"
   ]
  },
  {
   "cell_type": "code",
   "execution_count": 187,
   "id": "9a6f0436",
   "metadata": {},
   "outputs": [],
   "source": [
    "import os\n",
    "import pandas as pd"
   ]
  },
  {
   "cell_type": "code",
   "execution_count": 188,
   "id": "28030b05",
   "metadata": {},
   "outputs": [],
   "source": [
    "cz = pd.read_csv(os.path.join(\"data\",\"CZ_RADIO_TOP_100_tydenni.csv\"))\n",
    "b100 = pd.read_csv(os.path.join(\"data_b100\",\"b100.csv\"))"
   ]
  },
  {
   "cell_type": "markdown",
   "id": "0752603f",
   "metadata": {},
   "source": [
    "## Oříznem B100"
   ]
  },
  {
   "cell_type": "code",
   "execution_count": 189,
   "id": "05ba2808",
   "metadata": {},
   "outputs": [],
   "source": [
    "b100 = b100[b100['rok'] >= 2006]"
   ]
  },
  {
   "cell_type": "markdown",
   "id": "9372259e",
   "metadata": {},
   "source": [
    "## Sjednotíme si týdny"
   ]
  },
  {
   "cell_type": "code",
   "execution_count": 190,
   "id": "bb17c665",
   "metadata": {},
   "outputs": [],
   "source": [
    "cz = cz.sort_values(by = ['rok','tyden','pozice'], ascending=True)"
   ]
  },
  {
   "cell_type": "code",
   "execution_count": 191,
   "id": "aac9a713",
   "metadata": {},
   "outputs": [],
   "source": [
    "cz['interpret_hlavni'] = cz['interpret_hlavni'].apply(lambda x: x.lower())"
   ]
  },
  {
   "cell_type": "code",
   "execution_count": 192,
   "id": "627310df",
   "metadata": {},
   "outputs": [],
   "source": [
    "cz['wk'] = cz['week'].rank(method='dense').astype(int)"
   ]
  },
  {
   "cell_type": "code",
   "execution_count": 193,
   "id": "845a7c3f",
   "metadata": {},
   "outputs": [],
   "source": [
    "b100['week'] = b100.apply(lambda row: f\"\"\"{row['rok']}-{row['tyden']:02}\"\"\", axis = 1)"
   ]
  },
  {
   "cell_type": "code",
   "execution_count": 194,
   "id": "c33a1641",
   "metadata": {},
   "outputs": [],
   "source": [
    "b100['interpret_hlavni'] = b100['interpret_hlavni'].apply(lambda x: x.lower())"
   ]
  },
  {
   "cell_type": "code",
   "execution_count": 195,
   "id": "5c1fbabc",
   "metadata": {},
   "outputs": [],
   "source": [
    "cz = cz.sort_values(by=\"week\")\n",
    "b100 = b100.sort_values(by=\"week\")"
   ]
  },
  {
   "cell_type": "markdown",
   "id": "27dbe45b",
   "metadata": {},
   "source": [
    "### Kontrola"
   ]
  },
  {
   "cell_type": "code",
   "execution_count": 196,
   "id": "26f37e7d",
   "metadata": {},
   "outputs": [
    {
     "data": {
      "text/plain": [
       "['2006-51',\n",
       " '2007-52',\n",
       " '2009-51',\n",
       " '2010-50',\n",
       " '2011-26',\n",
       " '2011-51',\n",
       " '2011-53',\n",
       " '2012-52',\n",
       " '2013-52',\n",
       " '2014-33',\n",
       " '2014-51',\n",
       " '2015-52',\n",
       " '2016-51',\n",
       " '2016-53',\n",
       " '2017-51',\n",
       " '2018-08',\n",
       " '2018-51',\n",
       " '2019-30',\n",
       " '2020-01']"
      ]
     },
     "execution_count": 196,
     "metadata": {},
     "output_type": "execute_result"
    }
   ],
   "source": [
    "[x for x in b100['week'].drop_duplicates().to_list() if x not in cz['week'].drop_duplicates().to_list()]"
   ]
  },
  {
   "cell_type": "markdown",
   "id": "aa0b4f05",
   "metadata": {},
   "source": [
    "VELKÝ ŠPATNÝ: PROTOŽE MÁME PRÁZDNINOVÉ A NĚKDY I VÁNOČNÍ PAUZY, POROVNÁNÍ MŮŽE BĚŽNĚ LÍTAT O TÝDEN.\n",
    "\n",
    "Něco vypovídajícího možná zjistíme, ale nutno na toto explicitně upozornit v textu."
   ]
  },
  {
   "cell_type": "markdown",
   "id": "5a01486b",
   "metadata": {},
   "source": [
    "## Porovnání"
   ]
  },
  {
   "cell_type": "code",
   "execution_count": 197,
   "id": "47fc2461",
   "metadata": {},
   "outputs": [],
   "source": [
    "americke_jednicky = b100[b100['rank'] == 1]['interpret_hlavni'].drop_duplicates().to_list()"
   ]
  },
  {
   "cell_type": "code",
   "execution_count": 198,
   "id": "3ee6ce0e",
   "metadata": {},
   "outputs": [],
   "source": [
    "americke_jednicky_v_cesku = pd.Series(cz[cz['interpret_hlavni'].isin(americke_jednicky)].groupby('interpret_hlavni')['pozice'].min().reindex(americke_jednicky).sort_values())"
   ]
  },
  {
   "cell_type": "markdown",
   "id": "68d4a0bc",
   "metadata": {},
   "source": [
    "### Nejhůře umístěné americké jedničky u nás"
   ]
  },
  {
   "cell_type": "code",
   "execution_count": 199,
   "id": "54c84102",
   "metadata": {},
   "outputs": [
    {
     "data": {
      "text/plain": [
       "interpret_hlavni\n",
       "billie eilish              7.0\n",
       "lorde                      7.0\n",
       "usher                      9.0\n",
       "halsey                     9.0\n",
       "olivia rodrigo             9.0\n",
       "robin thicke              10.0\n",
       "lizzo                     11.0\n",
       "mariah carey              11.0\n",
       "john legend               12.0\n",
       "kendrick lamar            12.0\n",
       "nelly                     15.0\n",
       "dj khaled                 16.0\n",
       "chris brown               19.0\n",
       "iggy azalea               19.0\n",
       "kanye west                19.0\n",
       "jay sean                  20.0\n",
       "jawsh 685                 21.0\n",
       "doja cat                  23.0\n",
       "daniel powter             25.0\n",
       "drake                     26.0\n",
       "t-pain                    27.0\n",
       "ludacris                  32.0\n",
       "d4l                       41.0\n",
       "cardi b                   44.0\n",
       "b.o.b                     67.0\n",
       "rae sremmurd              98.0\n",
       "chamillionaire             NaN\n",
       "taylor hicks               NaN\n",
       "mims                       NaN\n",
       "plain white t's            NaN\n",
       "sean kingston              NaN\n",
       "soulja boy tell'em         NaN\n",
       "taio cruz                  NaN\n",
       "far*east movement          NaN\n",
       "baauer                     NaN\n",
       "desiigner                  NaN\n",
       "migos                      NaN\n",
       "childish gambino           NaN\n",
       "xxxtentacion               NaN\n",
       "travis scott               NaN\n",
       "lil nas                    NaN\n",
       "roddy ricch                NaN\n",
       "the scotts                 NaN\n",
       "megan thee stallion        NaN\n",
       "dababy                     NaN\n",
       "6ix9ine                    NaN\n",
       "bts                        NaN\n",
       "silk sonic (bruno mars     NaN\n",
       "polo g                     NaN\n",
       "the kid laroi              NaN\n",
       "Name: pozice, dtype: float64"
      ]
     },
     "execution_count": 199,
     "metadata": {},
     "output_type": "execute_result"
    }
   ],
   "source": [
    "americke_jednicky_v_cesku.tail(50)"
   ]
  },
  {
   "cell_type": "code",
   "execution_count": 200,
   "id": "df0f17a0",
   "metadata": {},
   "outputs": [
    {
     "data": {
      "text/plain": [
       "[]"
      ]
     },
     "execution_count": 200,
     "metadata": {},
     "output_type": "execute_result"
    }
   ],
   "source": [
    "cz[cz['interpret_hlavni'].str.contains(\"P!Nk\",na=False)]['interpret_hlavni'].drop_duplicates().to_list()"
   ]
  },
  {
   "cell_type": "markdown",
   "id": "806c6f17",
   "metadata": {},
   "source": [
    "### Zpoždění (?) za USA"
   ]
  },
  {
   "cell_type": "code",
   "execution_count": 201,
   "id": "8fc37a34",
   "metadata": {},
   "outputs": [
    {
     "data": {
      "text/plain": [
       "52.13333333333333"
      ]
     },
     "execution_count": 201,
     "metadata": {},
     "output_type": "execute_result"
    }
   ],
   "source": [
    "b100[b100['rok'] < 2021].groupby('rok')['week'].nunique().mean()"
   ]
  },
  {
   "cell_type": "code",
   "execution_count": 202,
   "id": "c06a3934",
   "metadata": {},
   "outputs": [],
   "source": [
    "def rozdil_tydnu(t1, t2):\n",
    "    \n",
    "    try:\n",
    "    \n",
    "        rok1 = int(t1[:4])\n",
    "        tyden1 = int(t1[5:])\n",
    "        rok2 = int(t2[:4])\n",
    "        tyden2 = int(t2[5:])\n",
    "\n",
    "        letorozdil = rok2-rok1\n",
    "        letorozdil = letorozdil*52\n",
    "\n",
    "        tydnorozdil = tyden2-tyden1\n",
    "\n",
    "        return(letorozdil + tydnorozdil)\n",
    "    \n",
    "    except:\n",
    "        \n",
    "        return(None)"
   ]
  },
  {
   "cell_type": "code",
   "execution_count": 221,
   "id": "c400d20a",
   "metadata": {},
   "outputs": [],
   "source": [
    "def porovnani(ranking):\n",
    "    dfp = {}\n",
    "    for j in b100[b100['rank'] <= ranking]['interpret_hlavni'].drop_duplicates().to_list():\n",
    "        dfp[j] = [b100[(b100['interpret_hlavni'] == j) & (b100['rank'] <= ranking)]['week'].min(), cz[(cz['interpret_hlavni'] == j) & (cz['pozice'] <= ranking)]['week'].min()]\n",
    "    dfp = pd.DataFrame.from_dict(dfp).transpose().rename(columns={0: \"USA\", 1: \"ČR\"})\n",
    "    dfp['zpozdeni'] = dfp.apply(lambda row: rozdil_tydnu(row['USA'], row['ČR']), axis = 1)\n",
    "    dfp = dfp.dropna()\n",
    "    return dfp"
   ]
  },
  {
   "cell_type": "code",
   "execution_count": 222,
   "id": "19be4d7a",
   "metadata": {},
   "outputs": [],
   "source": [
    "jednicky = porovnani(1)"
   ]
  },
  {
   "cell_type": "code",
   "execution_count": 223,
   "id": "1f2ac55c",
   "metadata": {},
   "outputs": [
    {
     "data": {
      "text/html": [
       "<div>\n",
       "<style scoped>\n",
       "    .dataframe tbody tr th:only-of-type {\n",
       "        vertical-align: middle;\n",
       "    }\n",
       "\n",
       "    .dataframe tbody tr th {\n",
       "        vertical-align: top;\n",
       "    }\n",
       "\n",
       "    .dataframe thead th {\n",
       "        text-align: right;\n",
       "    }\n",
       "</style>\n",
       "<table border=\"1\" class=\"dataframe\">\n",
       "  <thead>\n",
       "    <tr style=\"text-align: right;\">\n",
       "      <th></th>\n",
       "      <th>USA</th>\n",
       "      <th>ČR</th>\n",
       "      <th>zpozdeni</th>\n",
       "    </tr>\n",
       "  </thead>\n",
       "  <tbody>\n",
       "    <tr>\n",
       "      <th>james blunt</th>\n",
       "      <td>2006-10</td>\n",
       "      <td>2006-06</td>\n",
       "      <td>-4.0</td>\n",
       "    </tr>\n",
       "    <tr>\n",
       "      <th>rihanna</th>\n",
       "      <td>2006-19</td>\n",
       "      <td>2010-08</td>\n",
       "      <td>197.0</td>\n",
       "    </tr>\n",
       "    <tr>\n",
       "      <th>shakira</th>\n",
       "      <td>2006-24</td>\n",
       "      <td>2006-25</td>\n",
       "      <td>1.0</td>\n",
       "    </tr>\n",
       "    <tr>\n",
       "      <th>nelly furtado</th>\n",
       "      <td>2006-27</td>\n",
       "      <td>2007-12</td>\n",
       "      <td>37.0</td>\n",
       "    </tr>\n",
       "    <tr>\n",
       "      <th>fergie</th>\n",
       "      <td>2006-33</td>\n",
       "      <td>2007-42</td>\n",
       "      <td>61.0</td>\n",
       "    </tr>\n",
       "    <tr>\n",
       "      <th>justin timberlake</th>\n",
       "      <td>2006-36</td>\n",
       "      <td>2016-30</td>\n",
       "      <td>514.0</td>\n",
       "    </tr>\n",
       "    <tr>\n",
       "      <th>timbaland</th>\n",
       "      <td>2007-16</td>\n",
       "      <td>2010-24</td>\n",
       "      <td>164.0</td>\n",
       "    </tr>\n",
       "    <tr>\n",
       "      <th>flo rida</th>\n",
       "      <td>2008-01</td>\n",
       "      <td>2012-29</td>\n",
       "      <td>236.0</td>\n",
       "    </tr>\n",
       "    <tr>\n",
       "      <th>coldplay</th>\n",
       "      <td>2008-26</td>\n",
       "      <td>2008-44</td>\n",
       "      <td>18.0</td>\n",
       "    </tr>\n",
       "    <tr>\n",
       "      <th>katy perry</th>\n",
       "      <td>2008-27</td>\n",
       "      <td>2008-43</td>\n",
       "      <td>16.0</td>\n",
       "    </tr>\n",
       "    <tr>\n",
       "      <th>p!nk</th>\n",
       "      <td>2008-39</td>\n",
       "      <td>2006-39</td>\n",
       "      <td>-104.0</td>\n",
       "    </tr>\n",
       "    <tr>\n",
       "      <th>lady gaga</th>\n",
       "      <td>2009-03</td>\n",
       "      <td>2009-44</td>\n",
       "      <td>41.0</td>\n",
       "    </tr>\n",
       "    <tr>\n",
       "      <th>black eyed peas</th>\n",
       "      <td>2009-16</td>\n",
       "      <td>2009-33</td>\n",
       "      <td>17.0</td>\n",
       "    </tr>\n",
       "    <tr>\n",
       "      <th>jay-z</th>\n",
       "      <td>2009-48</td>\n",
       "      <td>2010-07</td>\n",
       "      <td>11.0</td>\n",
       "    </tr>\n",
       "    <tr>\n",
       "      <th>bruno mars</th>\n",
       "      <td>2010-40</td>\n",
       "      <td>2011-30</td>\n",
       "      <td>42.0</td>\n",
       "    </tr>\n",
       "    <tr>\n",
       "      <th>adele</th>\n",
       "      <td>2011-21</td>\n",
       "      <td>2011-34</td>\n",
       "      <td>13.0</td>\n",
       "    </tr>\n",
       "    <tr>\n",
       "      <th>pitbull</th>\n",
       "      <td>2011-28</td>\n",
       "      <td>2010-03</td>\n",
       "      <td>-77.0</td>\n",
       "    </tr>\n",
       "    <tr>\n",
       "      <th>lmfao</th>\n",
       "      <td>2011-29</td>\n",
       "      <td>2011-31</td>\n",
       "      <td>2.0</td>\n",
       "    </tr>\n",
       "    <tr>\n",
       "      <th>gotye</th>\n",
       "      <td>2012-17</td>\n",
       "      <td>2012-15</td>\n",
       "      <td>-2.0</td>\n",
       "    </tr>\n",
       "    <tr>\n",
       "      <th>carly rae jepsen</th>\n",
       "      <td>2012-25</td>\n",
       "      <td>2012-21</td>\n",
       "      <td>-4.0</td>\n",
       "    </tr>\n",
       "    <tr>\n",
       "      <th>taylor swift</th>\n",
       "      <td>2012-35</td>\n",
       "      <td>2013-11</td>\n",
       "      <td>28.0</td>\n",
       "    </tr>\n",
       "    <tr>\n",
       "      <th>miley cyrus</th>\n",
       "      <td>2013-39</td>\n",
       "      <td>2021-28</td>\n",
       "      <td>405.0</td>\n",
       "    </tr>\n",
       "    <tr>\n",
       "      <th>pharrell williams</th>\n",
       "      <td>2014-10</td>\n",
       "      <td>2014-09</td>\n",
       "      <td>-1.0</td>\n",
       "    </tr>\n",
       "    <tr>\n",
       "      <th>mark ronson</th>\n",
       "      <td>2015-03</td>\n",
       "      <td>2019-14</td>\n",
       "      <td>219.0</td>\n",
       "    </tr>\n",
       "    <tr>\n",
       "      <th>omi</th>\n",
       "      <td>2015-30</td>\n",
       "      <td>2015-23</td>\n",
       "      <td>-7.0</td>\n",
       "    </tr>\n",
       "    <tr>\n",
       "      <th>the weeknd</th>\n",
       "      <td>2015-34</td>\n",
       "      <td>2020-19</td>\n",
       "      <td>245.0</td>\n",
       "    </tr>\n",
       "    <tr>\n",
       "      <th>justin bieber</th>\n",
       "      <td>2015-38</td>\n",
       "      <td>2016-10</td>\n",
       "      <td>24.0</td>\n",
       "    </tr>\n",
       "    <tr>\n",
       "      <th>sia</th>\n",
       "      <td>2016-32</td>\n",
       "      <td>2016-22</td>\n",
       "      <td>-10.0</td>\n",
       "    </tr>\n",
       "    <tr>\n",
       "      <th>chainsmokers</th>\n",
       "      <td>2016-36</td>\n",
       "      <td>2017-25</td>\n",
       "      <td>41.0</td>\n",
       "    </tr>\n",
       "    <tr>\n",
       "      <th>ed sheeran</th>\n",
       "      <td>2017-04</td>\n",
       "      <td>2017-08</td>\n",
       "      <td>4.0</td>\n",
       "    </tr>\n",
       "    <tr>\n",
       "      <th>luis fonsi</th>\n",
       "      <td>2017-21</td>\n",
       "      <td>2018-16</td>\n",
       "      <td>47.0</td>\n",
       "    </tr>\n",
       "    <tr>\n",
       "      <th>post malone</th>\n",
       "      <td>2017-43</td>\n",
       "      <td>2023-32</td>\n",
       "      <td>301.0</td>\n",
       "    </tr>\n",
       "    <tr>\n",
       "      <th>jonas brothers</th>\n",
       "      <td>2019-11</td>\n",
       "      <td>2019-37</td>\n",
       "      <td>26.0</td>\n",
       "    </tr>\n",
       "    <tr>\n",
       "      <th>shawn mendes</th>\n",
       "      <td>2019-35</td>\n",
       "      <td>2017-37</td>\n",
       "      <td>-102.0</td>\n",
       "    </tr>\n",
       "    <tr>\n",
       "      <th>lewis capaldi</th>\n",
       "      <td>2019-44</td>\n",
       "      <td>2019-21</td>\n",
       "      <td>-23.0</td>\n",
       "    </tr>\n",
       "    <tr>\n",
       "      <th>harry styles</th>\n",
       "      <td>2020-33</td>\n",
       "      <td>2022-23</td>\n",
       "      <td>94.0</td>\n",
       "    </tr>\n",
       "  </tbody>\n",
       "</table>\n",
       "</div>"
      ],
      "text/plain": [
       "                       USA       ČR  zpozdeni\n",
       "james blunt        2006-10  2006-06      -4.0\n",
       "rihanna            2006-19  2010-08     197.0\n",
       "shakira            2006-24  2006-25       1.0\n",
       "nelly furtado      2006-27  2007-12      37.0\n",
       "fergie             2006-33  2007-42      61.0\n",
       "justin timberlake  2006-36  2016-30     514.0\n",
       "timbaland          2007-16  2010-24     164.0\n",
       "flo rida           2008-01  2012-29     236.0\n",
       "coldplay           2008-26  2008-44      18.0\n",
       "katy perry         2008-27  2008-43      16.0\n",
       "p!nk               2008-39  2006-39    -104.0\n",
       "lady gaga          2009-03  2009-44      41.0\n",
       "black eyed peas    2009-16  2009-33      17.0\n",
       "jay-z              2009-48  2010-07      11.0\n",
       "bruno mars         2010-40  2011-30      42.0\n",
       "adele              2011-21  2011-34      13.0\n",
       "pitbull            2011-28  2010-03     -77.0\n",
       "lmfao              2011-29  2011-31       2.0\n",
       "gotye              2012-17  2012-15      -2.0\n",
       "carly rae jepsen   2012-25  2012-21      -4.0\n",
       "taylor swift       2012-35  2013-11      28.0\n",
       "miley cyrus        2013-39  2021-28     405.0\n",
       "pharrell williams  2014-10  2014-09      -1.0\n",
       "mark ronson        2015-03  2019-14     219.0\n",
       "omi                2015-30  2015-23      -7.0\n",
       "the weeknd         2015-34  2020-19     245.0\n",
       "justin bieber      2015-38  2016-10      24.0\n",
       "sia                2016-32  2016-22     -10.0\n",
       "chainsmokers       2016-36  2017-25      41.0\n",
       "ed sheeran         2017-04  2017-08       4.0\n",
       "luis fonsi         2017-21  2018-16      47.0\n",
       "post malone        2017-43  2023-32     301.0\n",
       "jonas brothers     2019-11  2019-37      26.0\n",
       "shawn mendes       2019-35  2017-37    -102.0\n",
       "lewis capaldi      2019-44  2019-21     -23.0\n",
       "harry styles       2020-33  2022-23      94.0"
      ]
     },
     "execution_count": 223,
     "metadata": {},
     "output_type": "execute_result"
    }
   ],
   "source": [
    "jednicky"
   ]
  },
  {
   "cell_type": "code",
   "execution_count": 236,
   "id": "987e9bbe",
   "metadata": {},
   "outputs": [
    {
     "data": {
      "text/plain": [
       "18.5"
      ]
     },
     "execution_count": 236,
     "metadata": {},
     "output_type": "execute_result"
    }
   ],
   "source": [
    "jednicky[jednicky['USA'] > '2010-01']['zpozdeni'].median()"
   ]
  },
  {
   "cell_type": "code",
   "execution_count": 225,
   "id": "3ae6823e",
   "metadata": {},
   "outputs": [],
   "source": [
    "desitky = porovnani(10)"
   ]
  },
  {
   "cell_type": "code",
   "execution_count": 226,
   "id": "be4e3e74",
   "metadata": {},
   "outputs": [
    {
     "data": {
      "text/html": [
       "<div>\n",
       "<style scoped>\n",
       "    .dataframe tbody tr th:only-of-type {\n",
       "        vertical-align: middle;\n",
       "    }\n",
       "\n",
       "    .dataframe tbody tr th {\n",
       "        vertical-align: top;\n",
       "    }\n",
       "\n",
       "    .dataframe thead th {\n",
       "        text-align: right;\n",
       "    }\n",
       "</style>\n",
       "<table border=\"1\" class=\"dataframe\">\n",
       "  <thead>\n",
       "    <tr style=\"text-align: right;\">\n",
       "      <th></th>\n",
       "      <th>USA</th>\n",
       "      <th>ČR</th>\n",
       "      <th>zpozdeni</th>\n",
       "    </tr>\n",
       "  </thead>\n",
       "  <tbody>\n",
       "    <tr>\n",
       "      <th>black eyed peas</th>\n",
       "      <td>2006-01</td>\n",
       "      <td>2006-08</td>\n",
       "      <td>7.0</td>\n",
       "    </tr>\n",
       "    <tr>\n",
       "      <th>beyoncé</th>\n",
       "      <td>2006-01</td>\n",
       "      <td>2006-15</td>\n",
       "      <td>14.0</td>\n",
       "    </tr>\n",
       "    <tr>\n",
       "      <th>fall out boy</th>\n",
       "      <td>2006-02</td>\n",
       "      <td>2018-13</td>\n",
       "      <td>635.0</td>\n",
       "    </tr>\n",
       "    <tr>\n",
       "      <th>james blunt</th>\n",
       "      <td>2006-05</td>\n",
       "      <td>2006-04</td>\n",
       "      <td>-1.0</td>\n",
       "    </tr>\n",
       "    <tr>\n",
       "      <th>ne-yo</th>\n",
       "      <td>2006-06</td>\n",
       "      <td>2008-36</td>\n",
       "      <td>134.0</td>\n",
       "    </tr>\n",
       "    <tr>\n",
       "      <th>...</th>\n",
       "      <td>...</td>\n",
       "      <td>...</td>\n",
       "      <td>...</td>\n",
       "    </tr>\n",
       "    <tr>\n",
       "      <th>lil nas x</th>\n",
       "      <td>2019-39</td>\n",
       "      <td>2022-04</td>\n",
       "      <td>121.0</td>\n",
       "    </tr>\n",
       "    <tr>\n",
       "      <th>tones and i</th>\n",
       "      <td>2019-51</td>\n",
       "      <td>2019-44</td>\n",
       "      <td>-7.0</td>\n",
       "    </tr>\n",
       "    <tr>\n",
       "      <th>saint jhn</th>\n",
       "      <td>2020-24</td>\n",
       "      <td>2020-24</td>\n",
       "      <td>0.0</td>\n",
       "    </tr>\n",
       "    <tr>\n",
       "      <th>24kgoldn</th>\n",
       "      <td>2020-37</td>\n",
       "      <td>2021-11</td>\n",
       "      <td>26.0</td>\n",
       "    </tr>\n",
       "    <tr>\n",
       "      <th>olivia rodrigo</th>\n",
       "      <td>2021-04</td>\n",
       "      <td>2021-43</td>\n",
       "      <td>39.0</td>\n",
       "    </tr>\n",
       "  </tbody>\n",
       "</table>\n",
       "<p>138 rows × 3 columns</p>\n",
       "</div>"
      ],
      "text/plain": [
       "                     USA       ČR  zpozdeni\n",
       "black eyed peas  2006-01  2006-08       7.0\n",
       "beyoncé          2006-01  2006-15      14.0\n",
       "fall out boy     2006-02  2018-13     635.0\n",
       "james blunt      2006-05  2006-04      -1.0\n",
       "ne-yo            2006-06  2008-36     134.0\n",
       "...                  ...      ...       ...\n",
       "lil nas x        2019-39  2022-04     121.0\n",
       "tones and i      2019-51  2019-44      -7.0\n",
       "saint jhn        2020-24  2020-24       0.0\n",
       "24kgoldn         2020-37  2021-11      26.0\n",
       "olivia rodrigo   2021-04  2021-43      39.0\n",
       "\n",
       "[138 rows x 3 columns]"
      ]
     },
     "execution_count": 226,
     "metadata": {},
     "output_type": "execute_result"
    }
   ],
   "source": [
    "desitky"
   ]
  },
  {
   "cell_type": "code",
   "execution_count": 237,
   "id": "78c49024",
   "metadata": {},
   "outputs": [
    {
     "data": {
      "text/plain": [
       "7.0"
      ]
     },
     "execution_count": 237,
     "metadata": {},
     "output_type": "execute_result"
    }
   ],
   "source": [
    "desitky[desitky['USA'] > '2010-01']['zpozdeni'].median()"
   ]
  },
  {
   "cell_type": "code",
   "execution_count": 228,
   "id": "79e76549",
   "metadata": {},
   "outputs": [],
   "source": [
    "stovky = porovnani(100)"
   ]
  },
  {
   "cell_type": "code",
   "execution_count": 229,
   "id": "fb4365fa",
   "metadata": {},
   "outputs": [
    {
     "data": {
      "text/html": [
       "<div>\n",
       "<style scoped>\n",
       "    .dataframe tbody tr th:only-of-type {\n",
       "        vertical-align: middle;\n",
       "    }\n",
       "\n",
       "    .dataframe tbody tr th {\n",
       "        vertical-align: top;\n",
       "    }\n",
       "\n",
       "    .dataframe thead th {\n",
       "        text-align: right;\n",
       "    }\n",
       "</style>\n",
       "<table border=\"1\" class=\"dataframe\">\n",
       "  <thead>\n",
       "    <tr style=\"text-align: right;\">\n",
       "      <th></th>\n",
       "      <th>USA</th>\n",
       "      <th>ČR</th>\n",
       "      <th>zpozdeni</th>\n",
       "    </tr>\n",
       "  </thead>\n",
       "  <tbody>\n",
       "    <tr>\n",
       "      <th>mariah carey</th>\n",
       "      <td>2006-01</td>\n",
       "      <td>2008-16</td>\n",
       "      <td>119.0</td>\n",
       "    </tr>\n",
       "    <tr>\n",
       "      <th>t-pain</th>\n",
       "      <td>2006-01</td>\n",
       "      <td>2011-47</td>\n",
       "      <td>306.0</td>\n",
       "    </tr>\n",
       "    <tr>\n",
       "      <th>daddy yankee</th>\n",
       "      <td>2006-01</td>\n",
       "      <td>2006-01</td>\n",
       "      <td>0.0</td>\n",
       "    </tr>\n",
       "    <tr>\n",
       "      <th>chris brown</th>\n",
       "      <td>2006-01</td>\n",
       "      <td>2006-13</td>\n",
       "      <td>12.0</td>\n",
       "    </tr>\n",
       "    <tr>\n",
       "      <th>busta rhymes</th>\n",
       "      <td>2006-01</td>\n",
       "      <td>2008-21</td>\n",
       "      <td>124.0</td>\n",
       "    </tr>\n",
       "    <tr>\n",
       "      <th>...</th>\n",
       "      <td>...</td>\n",
       "      <td>...</td>\n",
       "      <td>...</td>\n",
       "    </tr>\n",
       "    <tr>\n",
       "      <th>elton john</th>\n",
       "      <td>2021-35</td>\n",
       "      <td>2018-12</td>\n",
       "      <td>-179.0</td>\n",
       "    </tr>\n",
       "    <tr>\n",
       "      <th>ckay</th>\n",
       "      <td>2021-40</td>\n",
       "      <td>2022-28</td>\n",
       "      <td>40.0</td>\n",
       "    </tr>\n",
       "    <tr>\n",
       "      <th>skylar grey</th>\n",
       "      <td>2021-42</td>\n",
       "      <td>2013-03</td>\n",
       "      <td>-455.0</td>\n",
       "    </tr>\n",
       "    <tr>\n",
       "      <th>oliver tree</th>\n",
       "      <td>2021-43</td>\n",
       "      <td>2022-05</td>\n",
       "      <td>14.0</td>\n",
       "    </tr>\n",
       "    <tr>\n",
       "      <th>neiked</th>\n",
       "      <td>2021-44</td>\n",
       "      <td>2016-38</td>\n",
       "      <td>-266.0</td>\n",
       "    </tr>\n",
       "  </tbody>\n",
       "</table>\n",
       "<p>378 rows × 3 columns</p>\n",
       "</div>"
      ],
      "text/plain": [
       "                  USA       ČR  zpozdeni\n",
       "mariah carey  2006-01  2008-16     119.0\n",
       "t-pain        2006-01  2011-47     306.0\n",
       "daddy yankee  2006-01  2006-01       0.0\n",
       "chris brown   2006-01  2006-13      12.0\n",
       "busta rhymes  2006-01  2008-21     124.0\n",
       "...               ...      ...       ...\n",
       "elton john    2021-35  2018-12    -179.0\n",
       "ckay          2021-40  2022-28      40.0\n",
       "skylar grey   2021-42  2013-03    -455.0\n",
       "oliver tree   2021-43  2022-05      14.0\n",
       "neiked        2021-44  2016-38    -266.0\n",
       "\n",
       "[378 rows x 3 columns]"
      ]
     },
     "execution_count": 229,
     "metadata": {},
     "output_type": "execute_result"
    }
   ],
   "source": [
    "stovky"
   ]
  },
  {
   "cell_type": "code",
   "execution_count": 238,
   "id": "436ba900",
   "metadata": {},
   "outputs": [
    {
     "data": {
      "text/plain": [
       "5.5"
      ]
     },
     "execution_count": 238,
     "metadata": {},
     "output_type": "execute_result"
    }
   ],
   "source": [
    "stovky[stovky['USA'] > '2010-01']['zpozdeni'].median()"
   ]
  }
 ],
 "metadata": {
  "kernelspec": {
   "display_name": "Python 3 (ipykernel)",
   "language": "python",
   "name": "python3"
  },
  "language_info": {
   "codemirror_mode": {
    "name": "ipython",
    "version": 3
   },
   "file_extension": ".py",
   "mimetype": "text/x-python",
   "name": "python",
   "nbconvert_exporter": "python",
   "pygments_lexer": "ipython3",
   "version": "3.10.8"
  }
 },
 "nbformat": 4,
 "nbformat_minor": 5
}
