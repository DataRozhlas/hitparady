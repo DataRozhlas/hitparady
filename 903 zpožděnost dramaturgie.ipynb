{
 "cells": [
  {
   "cell_type": "markdown",
   "id": "4d45f3b6",
   "metadata": {},
   "source": [
    "Podklady pro články Anety Martínkové na iROZHLAS.cz v prosinci 2023."
   ]
  },
  {
   "cell_type": "code",
   "execution_count": 1,
   "id": "b88240f1",
   "metadata": {},
   "outputs": [],
   "source": [
    "import os\n",
    "import pandas as pd"
   ]
  },
  {
   "cell_type": "code",
   "execution_count": 2,
   "id": "f251ada4",
   "metadata": {},
   "outputs": [],
   "source": [
    "from src.tabulka import tabulka\n",
    "from src.graf import graf"
   ]
  },
  {
   "cell_type": "code",
   "execution_count": 3,
   "id": "b195ce71",
   "metadata": {},
   "outputs": [],
   "source": [
    "cz = pd.read_csv(os.path.join(\"data\",\"CZ_RADIO_TOP_100_tydenni.csv\"))"
   ]
  },
  {
   "cell_type": "code",
   "execution_count": 4,
   "id": "20fa35fe",
   "metadata": {},
   "outputs": [],
   "source": [
    "cz_interpreti = cz['interpret_hlavni'].drop_duplicates().to_list()"
   ]
  },
  {
   "cell_type": "code",
   "execution_count": 5,
   "id": "63929e63",
   "metadata": {},
   "outputs": [],
   "source": [
    "def nejmensispolecny(x):\n",
    "    x = x.lower().split('(')[0]\n",
    "    if x[0:3] == \"the\":\n",
    "        x = x.replace(\"the \",\"\")\n",
    "    return x"
   ]
  },
  {
   "cell_type": "code",
   "execution_count": 6,
   "id": "060c1b39",
   "metadata": {},
   "outputs": [],
   "source": [
    "wikid = pd.read_json(os.path.join(\"wikidata\",\"wikidata.json\"))\n",
    "wikid['interpret_hlavni'] = wikid['interpret_hlavni'].apply(lambda x: nejmensispolecny(x))"
   ]
  },
  {
   "cell_type": "markdown",
   "id": "6c766967",
   "metadata": {},
   "source": [
    "## vs. Billboard 100"
   ]
  },
  {
   "cell_type": "code",
   "execution_count": 7,
   "id": "dde110c7",
   "metadata": {},
   "outputs": [],
   "source": [
    "b100 = pd.read_csv(os.path.join(\"data_b100\",\"b100.csv\"))"
   ]
  },
  {
   "cell_type": "code",
   "execution_count": 8,
   "id": "6308e37e",
   "metadata": {},
   "outputs": [],
   "source": [
    "b100 = b100[b100['rok'] >= 2006]"
   ]
  },
  {
   "cell_type": "code",
   "execution_count": 9,
   "id": "4e3d0afa",
   "metadata": {},
   "outputs": [],
   "source": [
    "us_interpreti = b100['interpret_hlavni'].drop_duplicates().to_list()"
   ]
  },
  {
   "cell_type": "code",
   "execution_count": 10,
   "id": "7aafd465",
   "metadata": {},
   "outputs": [],
   "source": [
    "interpreti = cz_interpreti + us_interpreti"
   ]
  },
  {
   "cell_type": "code",
   "execution_count": 11,
   "id": "82d55ae2",
   "metadata": {},
   "outputs": [],
   "source": [
    "interpreti_slovnik = {}\n",
    "for i in interpreti:\n",
    "    malym = nejmensispolecny(i)\n",
    "    interpreti_slovnik[malym] = i"
   ]
  },
  {
   "cell_type": "code",
   "execution_count": 12,
   "id": "f855e3ca",
   "metadata": {},
   "outputs": [],
   "source": [
    "cz = cz.sort_values(by = ['rok','tyden','pozice'], ascending=True)"
   ]
  },
  {
   "cell_type": "code",
   "execution_count": 13,
   "id": "938c2df5",
   "metadata": {},
   "outputs": [],
   "source": [
    "cz['interpret_hlavni'] = cz['interpret_hlavni'].apply(lambda x: nejmensispolecny(x))\n",
    "cz['track'] = cz['track'].apply(lambda x: nejmensispolecny(x))"
   ]
  },
  {
   "cell_type": "code",
   "execution_count": 14,
   "id": "a6d0fd97",
   "metadata": {},
   "outputs": [],
   "source": [
    "cz['wk'] = cz['week'].rank(method='dense').astype(int)"
   ]
  },
  {
   "cell_type": "code",
   "execution_count": 15,
   "id": "d112fcbd",
   "metadata": {},
   "outputs": [],
   "source": [
    "b100['week'] = b100.apply(lambda row: f\"\"\"{row['rok']}-{row['tyden']:02}\"\"\", axis = 1)"
   ]
  },
  {
   "cell_type": "code",
   "execution_count": 16,
   "id": "8d87f582",
   "metadata": {},
   "outputs": [],
   "source": [
    "b100 = b100.rename(columns = {'song': 'track'})"
   ]
  },
  {
   "cell_type": "code",
   "execution_count": 17,
   "id": "a208db43",
   "metadata": {},
   "outputs": [],
   "source": [
    "b100['interpret_hlavni'] = b100['interpret_hlavni'].apply(lambda x: nejmensispolecny(x))\n",
    "b100['track'] = b100['track'].apply(lambda x: nejmensispolecny(x))"
   ]
  },
  {
   "cell_type": "code",
   "execution_count": 18,
   "id": "b0568569",
   "metadata": {},
   "outputs": [],
   "source": [
    "cz = cz.sort_values(by=\"week\")\n",
    "b100 = b100.sort_values(by=\"week\")"
   ]
  },
  {
   "cell_type": "code",
   "execution_count": 19,
   "id": "dbde5a77",
   "metadata": {},
   "outputs": [
    {
     "data": {
      "text/html": [
       "<div>\n",
       "<style scoped>\n",
       "    .dataframe tbody tr th:only-of-type {\n",
       "        vertical-align: middle;\n",
       "    }\n",
       "\n",
       "    .dataframe tbody tr th {\n",
       "        vertical-align: top;\n",
       "    }\n",
       "\n",
       "    .dataframe thead th {\n",
       "        text-align: right;\n",
       "    }\n",
       "</style>\n",
       "<table border=\"1\" class=\"dataframe\">\n",
       "  <thead>\n",
       "    <tr style=\"text-align: right;\">\n",
       "      <th></th>\n",
       "      <th>date</th>\n",
       "      <th>rank</th>\n",
       "      <th>track</th>\n",
       "      <th>artist</th>\n",
       "      <th>last-week</th>\n",
       "      <th>peak-rank</th>\n",
       "      <th>weeks-on-board</th>\n",
       "      <th>rok</th>\n",
       "      <th>datum</th>\n",
       "      <th>tyden</th>\n",
       "      <th>interpret_hlavni</th>\n",
       "      <th>week</th>\n",
       "    </tr>\n",
       "  </thead>\n",
       "  <tbody>\n",
       "    <tr>\n",
       "      <th>317414</th>\n",
       "      <td>2021-11-06</td>\n",
       "      <td>28</td>\n",
       "      <td>let's go brandon</td>\n",
       "      <td>Bryson Gray Featuring Tyson James &amp; Chandler C...</td>\n",
       "      <td>NaN</td>\n",
       "      <td>28</td>\n",
       "      <td>1</td>\n",
       "      <td>2021</td>\n",
       "      <td>11-06</td>\n",
       "      <td>45</td>\n",
       "      <td>bryson gray</td>\n",
       "      <td>2021-45</td>\n",
       "    </tr>\n",
       "    <tr>\n",
       "      <th>317413</th>\n",
       "      <td>2021-11-06</td>\n",
       "      <td>27</td>\n",
       "      <td>moth to a flame</td>\n",
       "      <td>Swedish House Mafia &amp; The Weeknd</td>\n",
       "      <td>NaN</td>\n",
       "      <td>27</td>\n",
       "      <td>1</td>\n",
       "      <td>2021</td>\n",
       "      <td>11-06</td>\n",
       "      <td>45</td>\n",
       "      <td>swedish house mafia</td>\n",
       "      <td>2021-45</td>\n",
       "    </tr>\n",
       "    <tr>\n",
       "      <th>317411</th>\n",
       "      <td>2021-11-06</td>\n",
       "      <td>25</td>\n",
       "      <td>chasing after you</td>\n",
       "      <td>Ryan Hurd With Maren Morris</td>\n",
       "      <td>25.0</td>\n",
       "      <td>23</td>\n",
       "      <td>26</td>\n",
       "      <td>2021</td>\n",
       "      <td>11-06</td>\n",
       "      <td>45</td>\n",
       "      <td>ryan hurd</td>\n",
       "      <td>2021-45</td>\n",
       "    </tr>\n",
       "    <tr>\n",
       "      <th>317422</th>\n",
       "      <td>2021-11-06</td>\n",
       "      <td>36</td>\n",
       "      <td>buy dirt</td>\n",
       "      <td>Jordan Davis Featuring Luke Bryan</td>\n",
       "      <td>34.0</td>\n",
       "      <td>34</td>\n",
       "      <td>12</td>\n",
       "      <td>2021</td>\n",
       "      <td>11-06</td>\n",
       "      <td>45</td>\n",
       "      <td>jordan davis</td>\n",
       "      <td>2021-45</td>\n",
       "    </tr>\n",
       "    <tr>\n",
       "      <th>317486</th>\n",
       "      <td>2021-11-06</td>\n",
       "      <td>100</td>\n",
       "      <td>nevada</td>\n",
       "      <td>YoungBoy Never Broke Again</td>\n",
       "      <td>NaN</td>\n",
       "      <td>58</td>\n",
       "      <td>4</td>\n",
       "      <td>2021</td>\n",
       "      <td>11-06</td>\n",
       "      <td>45</td>\n",
       "      <td>youngboy never broke again</td>\n",
       "      <td>2021-45</td>\n",
       "    </tr>\n",
       "  </tbody>\n",
       "</table>\n",
       "</div>"
      ],
      "text/plain": [
       "              date  rank              track  \\\n",
       "317414  2021-11-06    28   let's go brandon   \n",
       "317413  2021-11-06    27    moth to a flame   \n",
       "317411  2021-11-06    25  chasing after you   \n",
       "317422  2021-11-06    36           buy dirt   \n",
       "317486  2021-11-06   100             nevada   \n",
       "\n",
       "                                                   artist  last-week  \\\n",
       "317414  Bryson Gray Featuring Tyson James & Chandler C...        NaN   \n",
       "317413                   Swedish House Mafia & The Weeknd        NaN   \n",
       "317411                        Ryan Hurd With Maren Morris       25.0   \n",
       "317422                  Jordan Davis Featuring Luke Bryan       34.0   \n",
       "317486                         YoungBoy Never Broke Again        NaN   \n",
       "\n",
       "        peak-rank  weeks-on-board   rok  datum  tyden  \\\n",
       "317414         28               1  2021  11-06     45   \n",
       "317413         27               1  2021  11-06     45   \n",
       "317411         23              26  2021  11-06     45   \n",
       "317422         34              12  2021  11-06     45   \n",
       "317486         58               4  2021  11-06     45   \n",
       "\n",
       "                  interpret_hlavni     week  \n",
       "317414                 bryson gray  2021-45  \n",
       "317413         swedish house mafia  2021-45  \n",
       "317411                   ryan hurd  2021-45  \n",
       "317422                jordan davis  2021-45  \n",
       "317486  youngboy never broke again  2021-45  "
      ]
     },
     "execution_count": 19,
     "metadata": {},
     "output_type": "execute_result"
    }
   ],
   "source": [
    "b100.tail()"
   ]
  },
  {
   "cell_type": "code",
   "execution_count": 20,
   "id": "dac5a22d",
   "metadata": {},
   "outputs": [],
   "source": [
    "cz = cz[cz['week'] <= '2021-45']"
   ]
  },
  {
   "cell_type": "code",
   "execution_count": 21,
   "id": "2d7509ff",
   "metadata": {},
   "outputs": [
    {
     "data": {
      "text/plain": [
       "['2006-51',\n",
       " '2007-52',\n",
       " '2009-51',\n",
       " '2010-50',\n",
       " '2011-26',\n",
       " '2011-51',\n",
       " '2011-53',\n",
       " '2012-52',\n",
       " '2013-52',\n",
       " '2014-33',\n",
       " '2014-51',\n",
       " '2015-52',\n",
       " '2016-51',\n",
       " '2016-53',\n",
       " '2017-51',\n",
       " '2018-51',\n",
       " '2019-30',\n",
       " '2020-01']"
      ]
     },
     "execution_count": 21,
     "metadata": {},
     "output_type": "execute_result"
    }
   ],
   "source": [
    "[x for x in b100['week'].drop_duplicates().to_list() if x not in cz['week'].drop_duplicates().to_list()]"
   ]
  },
  {
   "cell_type": "markdown",
   "id": "6677ee72",
   "metadata": {},
   "source": [
    "Pozor, seznamy týdnů se úplně nepřekrývají, srovnání může lítat o týden."
   ]
  },
  {
   "cell_type": "markdown",
   "id": "46adc915",
   "metadata": {},
   "source": [
    "### Porovnání interpretů"
   ]
  },
  {
   "cell_type": "code",
   "execution_count": 22,
   "id": "f7c57219",
   "metadata": {},
   "outputs": [],
   "source": [
    "am_jednicky = pd.Series(b100[b100['rank'] == 1].groupby('interpret_hlavni')['track'].nunique())\n",
    "am_jednicky = am_jednicky[am_jednicky >= 3]\n",
    "am_jednicky = am_jednicky.index.to_list()"
   ]
  },
  {
   "cell_type": "code",
   "execution_count": 23,
   "id": "2999056b",
   "metadata": {},
   "outputs": [
    {
     "data": {
      "text/plain": [
       "['adele',\n",
       " 'ariana grande',\n",
       " 'beyoncé',\n",
       " 'black eyed peas',\n",
       " 'britney spears',\n",
       " 'bruno mars',\n",
       " 'bts',\n",
       " 'cardi b',\n",
       " 'drake',\n",
       " 'eminem',\n",
       " 'fergie',\n",
       " 'flo rida',\n",
       " 'justin bieber',\n",
       " 'justin timberlake',\n",
       " 'katy perry',\n",
       " 'lady gaga',\n",
       " 'mariah carey',\n",
       " 'maroon 5',\n",
       " 'p!nk',\n",
       " 'post malone',\n",
       " 'rihanna',\n",
       " 'taylor swift',\n",
       " 'travis scott',\n",
       " 'weeknd']"
      ]
     },
     "execution_count": 23,
     "metadata": {},
     "output_type": "execute_result"
    }
   ],
   "source": [
    "am_jednicky"
   ]
  },
  {
   "cell_type": "code",
   "execution_count": 24,
   "id": "ef691fb8",
   "metadata": {},
   "outputs": [],
   "source": [
    "americke_jednicky = b100[b100['rank'] == 1]['interpret_hlavni'].drop_duplicates().to_list()"
   ]
  },
  {
   "cell_type": "code",
   "execution_count": 25,
   "id": "959277e4",
   "metadata": {},
   "outputs": [],
   "source": [
    "americke_jednicky_v_cesku = pd.Series(cz[cz['interpret_hlavni'].isin(am_jednicky)].groupby('interpret_hlavni')['pozice'].min().reindex(am_jednicky).sort_values())"
   ]
  },
  {
   "cell_type": "code",
   "execution_count": 26,
   "id": "398bfe67",
   "metadata": {},
   "outputs": [],
   "source": [
    "americke_jednicky_v_cesku = pd.DataFrame(americke_jednicky_v_cesku[americke_jednicky_v_cesku != 1]).reset_index().rename(columns = {'interpret_hlavni':'Interpreti','pozice':'Nejlepší pozice v ČR'}).replace({\"Interpreti\": interpreti_slovnik})"
   ]
  },
  {
   "cell_type": "code",
   "execution_count": 27,
   "id": "ac5b56f3",
   "metadata": {},
   "outputs": [
    {
     "data": {
      "text/html": [
       "<div>\n",
       "<style scoped>\n",
       "    .dataframe tbody tr th:only-of-type {\n",
       "        vertical-align: middle;\n",
       "    }\n",
       "\n",
       "    .dataframe tbody tr th {\n",
       "        vertical-align: top;\n",
       "    }\n",
       "\n",
       "    .dataframe thead th {\n",
       "        text-align: right;\n",
       "    }\n",
       "</style>\n",
       "<table border=\"1\" class=\"dataframe\">\n",
       "  <thead>\n",
       "    <tr style=\"text-align: right;\">\n",
       "      <th></th>\n",
       "      <th>interpret_hlavni</th>\n",
       "      <th>id</th>\n",
       "      <th>stazeno</th>\n",
       "      <th>nazev_wiki</th>\n",
       "      <th>popis_en</th>\n",
       "      <th>popis_cs</th>\n",
       "      <th>velikost</th>\n",
       "      <th>zanry</th>\n",
       "      <th>datum_narozeni</th>\n",
       "      <th>datum_umrti</th>\n",
       "      <th>...</th>\n",
       "      <th>zeme_puvodu</th>\n",
       "      <th>obcanstvi</th>\n",
       "      <th>etnicita</th>\n",
       "      <th>hlas</th>\n",
       "      <th>nastroje</th>\n",
       "      <th>oceneni</th>\n",
       "      <th>nabozenstvi</th>\n",
       "      <th>orientace</th>\n",
       "      <th>spotify_id</th>\n",
       "      <th>spotify_odberatele</th>\n",
       "    </tr>\n",
       "  </thead>\n",
       "  <tbody>\n",
       "    <tr>\n",
       "      <th>0</th>\n",
       "      <td>'n sync</td>\n",
       "      <td>Q154454</td>\n",
       "      <td>True</td>\n",
       "      <td>NSYNC</td>\n",
       "      <td>American boy band</td>\n",
       "      <td>hudební skupina</td>\n",
       "      <td>boy band</td>\n",
       "      <td>[teen pop]</td>\n",
       "      <td>NaN</td>\n",
       "      <td>NaN</td>\n",
       "      <td>...</td>\n",
       "      <td>Spojené státy americké</td>\n",
       "      <td>None</td>\n",
       "      <td>None</td>\n",
       "      <td>None</td>\n",
       "      <td>None</td>\n",
       "      <td>[Umělec roku, Hvězda na Hollywoodském chodníku...</td>\n",
       "      <td>None</td>\n",
       "      <td>None</td>\n",
       "      <td>6Ff53KvcvAj5U7Z1vojB5o</td>\n",
       "      <td>NaN</td>\n",
       "    </tr>\n",
       "    <tr>\n",
       "      <th>1</th>\n",
       "      <td>2 chainz</td>\n",
       "      <td>Q129668</td>\n",
       "      <td>True</td>\n",
       "      <td>2 Chainz</td>\n",
       "      <td>American rapper (born 1977)</td>\n",
       "      <td>None</td>\n",
       "      <td>člověk</td>\n",
       "      <td>[Southern hip hop, hip hop, Gangsta rap, trap,...</td>\n",
       "      <td>1977.0</td>\n",
       "      <td>NaN</td>\n",
       "      <td>...</td>\n",
       "      <td>Spojené státy americké</td>\n",
       "      <td>[Spojené státy americké]</td>\n",
       "      <td>None</td>\n",
       "      <td>None</td>\n",
       "      <td>[sampler, bicí souprava, syntezátor, hlas]</td>\n",
       "      <td>[BET Award for Best Collaboration]</td>\n",
       "      <td>None</td>\n",
       "      <td>None</td>\n",
       "      <td>17lzZA2AlOHwCwFALHttmp</td>\n",
       "      <td>NaN</td>\n",
       "    </tr>\n",
       "    <tr>\n",
       "      <th>2</th>\n",
       "      <td>2 pac</td>\n",
       "      <td>Q112240732</td>\n",
       "      <td>True</td>\n",
       "      <td>2 Packesel</td>\n",
       "      <td>painting by H.v. Zügel</td>\n",
       "      <td>None</td>\n",
       "      <td>malba</td>\n",
       "      <td>None</td>\n",
       "      <td>NaN</td>\n",
       "      <td>NaN</td>\n",
       "      <td>...</td>\n",
       "      <td>Česko</td>\n",
       "      <td>None</td>\n",
       "      <td>None</td>\n",
       "      <td>None</td>\n",
       "      <td>None</td>\n",
       "      <td>None</td>\n",
       "      <td>None</td>\n",
       "      <td>None</td>\n",
       "      <td>None</td>\n",
       "      <td>NaN</td>\n",
       "    </tr>\n",
       "    <tr>\n",
       "      <th>3</th>\n",
       "      <td>21 savage</td>\n",
       "      <td>Q25095399</td>\n",
       "      <td>True</td>\n",
       "      <td>21 Savage</td>\n",
       "      <td>English-born rapper</td>\n",
       "      <td>None</td>\n",
       "      <td>člověk</td>\n",
       "      <td>[hip hop, trap, Gangsta rap, Horrorcore]</td>\n",
       "      <td>1992.0</td>\n",
       "      <td>NaN</td>\n",
       "      <td>...</td>\n",
       "      <td>Spojené království</td>\n",
       "      <td>[Spojené království]</td>\n",
       "      <td>[Black British]</td>\n",
       "      <td>None</td>\n",
       "      <td>[hlas]</td>\n",
       "      <td>None</td>\n",
       "      <td>[Ifá, ateismus]</td>\n",
       "      <td>None</td>\n",
       "      <td>1URnnhqYAYcrqrcwql10ft</td>\n",
       "      <td>NaN</td>\n",
       "    </tr>\n",
       "    <tr>\n",
       "      <th>4</th>\n",
       "      <td>24kgoldn</td>\n",
       "      <td>Q83751918</td>\n",
       "      <td>True</td>\n",
       "      <td>24kGoldn</td>\n",
       "      <td>American rapper and singer</td>\n",
       "      <td>None</td>\n",
       "      <td>člověk</td>\n",
       "      <td>[pop rap]</td>\n",
       "      <td>2000.0</td>\n",
       "      <td>NaN</td>\n",
       "      <td>...</td>\n",
       "      <td>Spojené státy americké</td>\n",
       "      <td>[Spojené státy americké]</td>\n",
       "      <td>None</td>\n",
       "      <td>None</td>\n",
       "      <td>[hlas]</td>\n",
       "      <td>[Billboard 21 Under 21]</td>\n",
       "      <td>None</td>\n",
       "      <td>None</td>\n",
       "      <td>6fWVd57NKTalqvmjRd2t8Z</td>\n",
       "      <td>NaN</td>\n",
       "    </tr>\n",
       "    <tr>\n",
       "      <th>...</th>\n",
       "      <td>...</td>\n",
       "      <td>...</td>\n",
       "      <td>...</td>\n",
       "      <td>...</td>\n",
       "      <td>...</td>\n",
       "      <td>...</td>\n",
       "      <td>...</td>\n",
       "      <td>...</td>\n",
       "      <td>...</td>\n",
       "      <td>...</td>\n",
       "      <td>...</td>\n",
       "      <td>...</td>\n",
       "      <td>...</td>\n",
       "      <td>...</td>\n",
       "      <td>...</td>\n",
       "      <td>...</td>\n",
       "      <td>...</td>\n",
       "      <td>...</td>\n",
       "      <td>...</td>\n",
       "      <td>...</td>\n",
       "      <td>...</td>\n",
       "    </tr>\n",
       "    <tr>\n",
       "      <th>1598</th>\n",
       "      <td>čechomor</td>\n",
       "      <td>Q2424041</td>\n",
       "      <td>True</td>\n",
       "      <td>Čechomor</td>\n",
       "      <td>Czech traditional music band</td>\n",
       "      <td>česká hudební skupina</td>\n",
       "      <td>hudební skupina</td>\n",
       "      <td>[lidová hudba, lidová píseň]</td>\n",
       "      <td>NaN</td>\n",
       "      <td>NaN</td>\n",
       "      <td>...</td>\n",
       "      <td>Česko</td>\n",
       "      <td>None</td>\n",
       "      <td>None</td>\n",
       "      <td>None</td>\n",
       "      <td>None</td>\n",
       "      <td>[Cena Anděl Skupina roku]</td>\n",
       "      <td>None</td>\n",
       "      <td>None</td>\n",
       "      <td>None</td>\n",
       "      <td>NaN</td>\n",
       "    </tr>\n",
       "    <tr>\n",
       "      <th>1599</th>\n",
       "      <td>české srdce</td>\n",
       "      <td>Q42709632</td>\n",
       "      <td>True</td>\n",
       "      <td>České srdce</td>\n",
       "      <td>None</td>\n",
       "      <td>česká hudební skupina</td>\n",
       "      <td>hudební skupina</td>\n",
       "      <td>[rock]</td>\n",
       "      <td>NaN</td>\n",
       "      <td>NaN</td>\n",
       "      <td>...</td>\n",
       "      <td>Česko</td>\n",
       "      <td>None</td>\n",
       "      <td>None</td>\n",
       "      <td>None</td>\n",
       "      <td>None</td>\n",
       "      <td>None</td>\n",
       "      <td>None</td>\n",
       "      <td>None</td>\n",
       "      <td>None</td>\n",
       "      <td>NaN</td>\n",
       "    </tr>\n",
       "    <tr>\n",
       "      <th>1600</th>\n",
       "      <td>škwor</td>\n",
       "      <td>Q392143</td>\n",
       "      <td>True</td>\n",
       "      <td>Škwor</td>\n",
       "      <td>Czech rock band</td>\n",
       "      <td>hudební skupina</td>\n",
       "      <td>hudební skupina</td>\n",
       "      <td>[nu metal]</td>\n",
       "      <td>NaN</td>\n",
       "      <td>NaN</td>\n",
       "      <td>...</td>\n",
       "      <td>Česko</td>\n",
       "      <td>None</td>\n",
       "      <td>None</td>\n",
       "      <td>None</td>\n",
       "      <td>None</td>\n",
       "      <td>None</td>\n",
       "      <td>None</td>\n",
       "      <td>None</td>\n",
       "      <td>None</td>\n",
       "      <td>NaN</td>\n",
       "    </tr>\n",
       "    <tr>\n",
       "      <th>1601</th>\n",
       "      <td>štefan margita</td>\n",
       "      <td>Q8082873</td>\n",
       "      <td>True</td>\n",
       "      <td>Štefan Margita</td>\n",
       "      <td>Slovak opera singer</td>\n",
       "      <td>slovenský operní pěvec</td>\n",
       "      <td>člověk</td>\n",
       "      <td>None</td>\n",
       "      <td>1956.0</td>\n",
       "      <td>NaN</td>\n",
       "      <td>...</td>\n",
       "      <td>Slovensko</td>\n",
       "      <td>[Česko]</td>\n",
       "      <td>None</td>\n",
       "      <td>[tenor]</td>\n",
       "      <td>[hlas]</td>\n",
       "      <td>[medaile Za zásluhy]</td>\n",
       "      <td>None</td>\n",
       "      <td>None</td>\n",
       "      <td>None</td>\n",
       "      <td>NaN</td>\n",
       "    </tr>\n",
       "    <tr>\n",
       "      <th>1602</th>\n",
       "      <td>žalman</td>\n",
       "      <td>Q10270121</td>\n",
       "      <td>True</td>\n",
       "      <td>Žalman &amp; spol.</td>\n",
       "      <td>None</td>\n",
       "      <td>česká folková kapela</td>\n",
       "      <td>hudební skupina</td>\n",
       "      <td>[folk]</td>\n",
       "      <td>NaN</td>\n",
       "      <td>NaN</td>\n",
       "      <td>...</td>\n",
       "      <td>Česko</td>\n",
       "      <td>None</td>\n",
       "      <td>None</td>\n",
       "      <td>None</td>\n",
       "      <td>None</td>\n",
       "      <td>None</td>\n",
       "      <td>None</td>\n",
       "      <td>None</td>\n",
       "      <td>None</td>\n",
       "      <td>NaN</td>\n",
       "    </tr>\n",
       "  </tbody>\n",
       "</table>\n",
       "<p>1603 rows × 26 columns</p>\n",
       "</div>"
      ],
      "text/plain": [
       "     interpret_hlavni          id  stazeno      nazev_wiki  \\\n",
       "0             'n sync     Q154454     True           NSYNC   \n",
       "1            2 chainz     Q129668     True        2 Chainz   \n",
       "2               2 pac  Q112240732     True      2 Packesel   \n",
       "3           21 savage   Q25095399     True       21 Savage   \n",
       "4            24kgoldn   Q83751918     True        24kGoldn   \n",
       "...               ...         ...      ...             ...   \n",
       "1598         čechomor    Q2424041     True        Čechomor   \n",
       "1599      české srdce   Q42709632     True     České srdce   \n",
       "1600            škwor     Q392143     True           Škwor   \n",
       "1601   štefan margita    Q8082873     True  Štefan Margita   \n",
       "1602           žalman   Q10270121     True  Žalman & spol.   \n",
       "\n",
       "                          popis_en                popis_cs         velikost  \\\n",
       "0                American boy band         hudební skupina         boy band   \n",
       "1      American rapper (born 1977)                    None           člověk   \n",
       "2           painting by H.v. Zügel                    None            malba   \n",
       "3              English-born rapper                    None           člověk   \n",
       "4       American rapper and singer                    None           člověk   \n",
       "...                            ...                     ...              ...   \n",
       "1598  Czech traditional music band   česká hudební skupina  hudební skupina   \n",
       "1599                          None   česká hudební skupina  hudební skupina   \n",
       "1600               Czech rock band         hudební skupina  hudební skupina   \n",
       "1601           Slovak opera singer  slovenský operní pěvec           člověk   \n",
       "1602                          None    česká folková kapela  hudební skupina   \n",
       "\n",
       "                                                  zanry  datum_narozeni  \\\n",
       "0                                            [teen pop]             NaN   \n",
       "1     [Southern hip hop, hip hop, Gangsta rap, trap,...          1977.0   \n",
       "2                                                  None             NaN   \n",
       "3              [hip hop, trap, Gangsta rap, Horrorcore]          1992.0   \n",
       "4                                             [pop rap]          2000.0   \n",
       "...                                                 ...             ...   \n",
       "1598                       [lidová hudba, lidová píseň]             NaN   \n",
       "1599                                             [rock]             NaN   \n",
       "1600                                         [nu metal]             NaN   \n",
       "1601                                               None          1956.0   \n",
       "1602                                             [folk]             NaN   \n",
       "\n",
       "      datum_umrti  ...             zeme_puvodu                 obcanstvi  \\\n",
       "0             NaN  ...  Spojené státy americké                      None   \n",
       "1             NaN  ...  Spojené státy americké  [Spojené státy americké]   \n",
       "2             NaN  ...                   Česko                      None   \n",
       "3             NaN  ...      Spojené království      [Spojené království]   \n",
       "4             NaN  ...  Spojené státy americké  [Spojené státy americké]   \n",
       "...           ...  ...                     ...                       ...   \n",
       "1598          NaN  ...                   Česko                      None   \n",
       "1599          NaN  ...                   Česko                      None   \n",
       "1600          NaN  ...                   Česko                      None   \n",
       "1601          NaN  ...               Slovensko                   [Česko]   \n",
       "1602          NaN  ...                   Česko                      None   \n",
       "\n",
       "             etnicita     hlas                                    nastroje  \\\n",
       "0                None     None                                        None   \n",
       "1                None     None  [sampler, bicí souprava, syntezátor, hlas]   \n",
       "2                None     None                                        None   \n",
       "3     [Black British]     None                                      [hlas]   \n",
       "4                None     None                                      [hlas]   \n",
       "...               ...      ...                                         ...   \n",
       "1598             None     None                                        None   \n",
       "1599             None     None                                        None   \n",
       "1600             None     None                                        None   \n",
       "1601             None  [tenor]                                      [hlas]   \n",
       "1602             None     None                                        None   \n",
       "\n",
       "                                                oceneni      nabozenstvi  \\\n",
       "0     [Umělec roku, Hvězda na Hollywoodském chodníku...             None   \n",
       "1                    [BET Award for Best Collaboration]             None   \n",
       "2                                                  None             None   \n",
       "3                                                  None  [Ifá, ateismus]   \n",
       "4                               [Billboard 21 Under 21]             None   \n",
       "...                                                 ...              ...   \n",
       "1598                          [Cena Anděl Skupina roku]             None   \n",
       "1599                                               None             None   \n",
       "1600                                               None             None   \n",
       "1601                               [medaile Za zásluhy]             None   \n",
       "1602                                               None             None   \n",
       "\n",
       "     orientace              spotify_id spotify_odberatele  \n",
       "0         None  6Ff53KvcvAj5U7Z1vojB5o                NaN  \n",
       "1         None  17lzZA2AlOHwCwFALHttmp                NaN  \n",
       "2         None                    None                NaN  \n",
       "3         None  1URnnhqYAYcrqrcwql10ft                NaN  \n",
       "4         None  6fWVd57NKTalqvmjRd2t8Z                NaN  \n",
       "...        ...                     ...                ...  \n",
       "1598      None                    None                NaN  \n",
       "1599      None                    None                NaN  \n",
       "1600      None                    None                NaN  \n",
       "1601      None                    None                NaN  \n",
       "1602      None                    None                NaN  \n",
       "\n",
       "[1603 rows x 26 columns]"
      ]
     },
     "execution_count": 27,
     "metadata": {},
     "output_type": "execute_result"
    }
   ],
   "source": [
    "wikid"
   ]
  },
  {
   "cell_type": "code",
   "execution_count": 28,
   "id": "3c1b5b97",
   "metadata": {},
   "outputs": [],
   "source": [
    "americke_jednicky_v_cesku['Žánry'] = americke_jednicky_v_cesku['Interpreti'].apply(lambda x: wikid[wikid['interpret_hlavni'] == x.lower()].explode('zanry')['zanry'].drop_duplicates().to_list())\n",
    "americke_jednicky_v_cesku['Žánry'] = americke_jednicky_v_cesku['Žánry'].apply(lambda x: \", \".join(x[0:3]))"
   ]
  },
  {
   "cell_type": "code",
   "execution_count": 29,
   "id": "687f27f5",
   "metadata": {},
   "outputs": [
    {
     "data": {
      "text/html": [
       "<div>\n",
       "<style scoped>\n",
       "    .dataframe tbody tr th:only-of-type {\n",
       "        vertical-align: middle;\n",
       "    }\n",
       "\n",
       "    .dataframe tbody tr th {\n",
       "        vertical-align: top;\n",
       "    }\n",
       "\n",
       "    .dataframe thead th {\n",
       "        text-align: right;\n",
       "    }\n",
       "</style>\n",
       "<table border=\"1\" class=\"dataframe\">\n",
       "  <thead>\n",
       "    <tr style=\"text-align: right;\">\n",
       "      <th></th>\n",
       "      <th>Interpreti</th>\n",
       "      <th>Nejlepší pozice v ČR</th>\n",
       "      <th>Žánry</th>\n",
       "    </tr>\n",
       "  </thead>\n",
       "  <tbody>\n",
       "    <tr>\n",
       "      <th>0</th>\n",
       "      <td>Maroon 5</td>\n",
       "      <td>2.0</td>\n",
       "      <td>alternativní rock, funk rock, grunge</td>\n",
       "    </tr>\n",
       "    <tr>\n",
       "      <th>1</th>\n",
       "      <td>Beyoncé</td>\n",
       "      <td>2.0</td>\n",
       "      <td>soul, pop music, rhythm and blues</td>\n",
       "    </tr>\n",
       "    <tr>\n",
       "      <th>2</th>\n",
       "      <td>Eminem</td>\n",
       "      <td>2.0</td>\n",
       "      <td>hip hop, hardcore hip hop, Midwest hip hop</td>\n",
       "    </tr>\n",
       "    <tr>\n",
       "      <th>3</th>\n",
       "      <td>Ariana Grande</td>\n",
       "      <td>5.0</td>\n",
       "      <td>pop music, contemporary R&amp;B, rhythm and blues</td>\n",
       "    </tr>\n",
       "    <tr>\n",
       "      <th>4</th>\n",
       "      <td>Britney Spears</td>\n",
       "      <td>6.0</td>\n",
       "      <td>pop music, dance-pop, elektropop</td>\n",
       "    </tr>\n",
       "    <tr>\n",
       "      <th>5</th>\n",
       "      <td>Post Malone</td>\n",
       "      <td>7.0</td>\n",
       "      <td>hip hop, pop rap, pop music</td>\n",
       "    </tr>\n",
       "    <tr>\n",
       "      <th>6</th>\n",
       "      <td>Mariah Carey</td>\n",
       "      <td>11.0</td>\n",
       "      <td>contemporary R&amp;B, pop music, hip hop</td>\n",
       "    </tr>\n",
       "    <tr>\n",
       "      <th>7</th>\n",
       "      <td>Drake</td>\n",
       "      <td>26.0</td>\n",
       "      <td>hip hop, contemporary R&amp;B, pop rap</td>\n",
       "    </tr>\n",
       "    <tr>\n",
       "      <th>8</th>\n",
       "      <td>Cardi B</td>\n",
       "      <td>44.0</td>\n",
       "      <td>hip hop, trap</td>\n",
       "    </tr>\n",
       "    <tr>\n",
       "      <th>9</th>\n",
       "      <td>BTS</td>\n",
       "      <td>NaN</td>\n",
       "      <td>K-pop, dance-pop, hip hop</td>\n",
       "    </tr>\n",
       "    <tr>\n",
       "      <th>10</th>\n",
       "      <td>Travis Scott</td>\n",
       "      <td>NaN</td>\n",
       "      <td>hip hop, trap, alternativní hip-hop</td>\n",
       "    </tr>\n",
       "  </tbody>\n",
       "</table>\n",
       "</div>"
      ],
      "text/plain": [
       "        Interpreti  Nejlepší pozice v ČR  \\\n",
       "0         Maroon 5                   2.0   \n",
       "1          Beyoncé                   2.0   \n",
       "2           Eminem                   2.0   \n",
       "3    Ariana Grande                   5.0   \n",
       "4   Britney Spears                   6.0   \n",
       "5      Post Malone                   7.0   \n",
       "6     Mariah Carey                  11.0   \n",
       "7            Drake                  26.0   \n",
       "8          Cardi B                  44.0   \n",
       "9              BTS                   NaN   \n",
       "10    Travis Scott                   NaN   \n",
       "\n",
       "                                            Žánry  \n",
       "0            alternativní rock, funk rock, grunge  \n",
       "1               soul, pop music, rhythm and blues  \n",
       "2      hip hop, hardcore hip hop, Midwest hip hop  \n",
       "3   pop music, contemporary R&B, rhythm and blues  \n",
       "4                pop music, dance-pop, elektropop  \n",
       "5                     hip hop, pop rap, pop music  \n",
       "6            contemporary R&B, pop music, hip hop  \n",
       "7              hip hop, contemporary R&B, pop rap  \n",
       "8                                   hip hop, trap  \n",
       "9                       K-pop, dance-pop, hip hop  \n",
       "10            hip hop, trap, alternativní hip-hop  "
      ]
     },
     "execution_count": 29,
     "metadata": {},
     "output_type": "execute_result"
    }
   ],
   "source": [
    "americke_jednicky_v_cesku"
   ]
  },
  {
   "cell_type": "code",
   "execution_count": 30,
   "id": "15db78b8",
   "metadata": {},
   "outputs": [
    {
     "data": {
      "text/plain": [
       "'<table class=\"dataframe table table--responsive table--w100p table--striped-red table--plain\"><caption>V USA 2× nebo víckrát jedničkou, v Česku pod vrcholem</caption><thead><tr style=\"text-align: right;\"><th class=\"text-nowrap\">Interpreti</th><th class=\"text-nowrap\">Nejlepší pozice v ČR</th><th class=\"text-nowrap\">Žánry</th></tr></thead><tbody class=\"text-sm\"><tr><td>Maroon 5</td><td>2</td><td>alternativní rock, funk rock, grunge</td></tr><tr><td>Beyoncé</td><td>2</td><td>soul, pop music, rhythm and blues</td></tr><tr><td>Eminem</td><td>2</td><td>hip hop, hardcore hip hop, Midwest hip hop</td></tr><tr><td>Ariana Grande</td><td>5</td><td>pop music, contemporary R&amp;B, rhythm and blues</td></tr><tr><td>Britney Spears</td><td>6</td><td>pop music, dance-pop, elektropop</td></tr><tr><td>Post Malone</td><td>7</td><td>hip hop, pop rap, pop music</td></tr><tr><td>Mariah Carey</td><td>11</td><td>contemporary R&amp;B, pop music, hip hop</td></tr><tr><td>Drake</td><td>26</td><td>hip hop, contemporary R&amp;B, pop rap</td></tr><tr><td>Cardi B</td><td>44</td><td>hip hop, trap</td></tr><tr><td>BTS</td><td>–</td><td>K-pop, dance-pop, hip hop</td></tr><tr><td>Travis Scott</td><td>–</td><td>hip hop, trap, alternativní hip-hop</td></tr></tbody><tfoot><tr style=\"text-align: center;\"><td colspan=3>Data z Billboard 100 jsou od roku 2006 do podzimu 2021, česká data do listopadu 2023.</td></tr></tfoot></table>'"
      ]
     },
     "execution_count": 30,
     "metadata": {},
     "output_type": "execute_result"
    }
   ],
   "source": [
    "tabulka(americke_jednicky_v_cesku,titulek='V USA 2× nebo víckrát jedničkou, v Česku pod vrcholem', podtitulek='Data z Billboard 100 jsou od roku 2006 do podzimu 2021, česká data do listopadu 2023.', bez_tecky=['Nejlepší pozice v ČR'])"
   ]
  },
  {
   "cell_type": "markdown",
   "id": "65d3b9cd",
   "metadata": {},
   "source": [
    "## vs. stream"
   ]
  },
  {
   "cell_type": "code",
   "execution_count": 31,
   "id": "2af9a708",
   "metadata": {},
   "outputs": [],
   "source": [
    "df = pd.read_csv(os.path.join(\"data\",\"CZ_RADIO_TOP_100_tydenni.csv\"))\n",
    "df['week'] = df.apply(lambda x: f\"\"\"{x['rok']}-{x['tyden']}\"\"\", axis = 1)\n",
    "df = df[df['rok'] >= 2015]"
   ]
  },
  {
   "cell_type": "code",
   "execution_count": 32,
   "id": "cb8f6f87",
   "metadata": {},
   "outputs": [],
   "source": [
    "df['track'] = df['track'].apply(lambda x: nejmensispolecny(x))\n",
    "df['interpret_hlavni'] = df['interpret_hlavni'].apply(lambda x: nejmensispolecny(x))"
   ]
  },
  {
   "cell_type": "code",
   "execution_count": 33,
   "id": "61935212",
   "metadata": {},
   "outputs": [],
   "source": [
    "stream = pd.read_csv(os.path.join(\"data\",\"CZ_SINGLES_DIGITAL_TOP_100_tydenni.csv\"))\n",
    "stream = stream[stream['rok'] >= 2015]\n",
    "stream['week'] = stream.apply(lambda x: f\"\"\"{x['rok']}-{x['tyden']}\"\"\", axis = 1)"
   ]
  },
  {
   "cell_type": "code",
   "execution_count": 34,
   "id": "e6448ac4",
   "metadata": {},
   "outputs": [],
   "source": [
    "stream_interpreti = stream['interpret_hlavni'].drop_duplicates().to_list()"
   ]
  },
  {
   "cell_type": "code",
   "execution_count": 35,
   "id": "92671419",
   "metadata": {},
   "outputs": [],
   "source": [
    "for s in stream_interpreti:\n",
    "    malym = nejmensispolecny(s)\n",
    "    interpreti_slovnik[malym] = s"
   ]
  },
  {
   "cell_type": "code",
   "execution_count": 36,
   "id": "fa16ae1f",
   "metadata": {},
   "outputs": [],
   "source": [
    "interpreti = interpreti + stream_interpreti"
   ]
  },
  {
   "cell_type": "code",
   "execution_count": 37,
   "id": "04265ef4",
   "metadata": {},
   "outputs": [],
   "source": [
    "stream['track'] = stream['track'].apply(lambda x: nejmensispolecny(x))\n",
    "stream['interpret_hlavni'] = stream['interpret_hlavni'].apply(lambda x: nejmensispolecny(x))"
   ]
  },
  {
   "cell_type": "code",
   "execution_count": 38,
   "id": "44a6c3bd",
   "metadata": {},
   "outputs": [],
   "source": [
    "df['w'] = df['week'].rank(method='dense').astype(int)"
   ]
  },
  {
   "cell_type": "code",
   "execution_count": 39,
   "id": "e17acac8",
   "metadata": {},
   "outputs": [],
   "source": [
    "stream['w'] = stream['week'].rank(method='dense').astype(int)"
   ]
  },
  {
   "cell_type": "markdown",
   "id": "71fb1a8a",
   "metadata": {},
   "source": [
    "### Porovnání písní: která bodovala dřív online (-) a která v rádiu (+)"
   ]
  },
  {
   "cell_type": "code",
   "execution_count": 40,
   "id": "dab73d5a",
   "metadata": {},
   "outputs": [],
   "source": [
    "jednicky_radio = df[df['pozice'] == 1].groupby(['interpret_hlavni','track'])['w'].min()"
   ]
  },
  {
   "cell_type": "code",
   "execution_count": 41,
   "id": "0146679e",
   "metadata": {},
   "outputs": [],
   "source": [
    "jednicky_stream = stream[stream['pozice'] == 1].groupby(['interpret_hlavni','track'])['w'].min()"
   ]
  },
  {
   "cell_type": "code",
   "execution_count": 42,
   "id": "8a4dee67",
   "metadata": {},
   "outputs": [
    {
     "data": {
      "text/plain": [
       "interpret_hlavni  track         \n",
       "24kgoldn          mood              287\n",
       "6ix9ine           gooba             268\n",
       "adele             easy on me        344\n",
       "                  hello              39\n",
       "alan walker       faded              60\n",
       "                                   ... \n",
       "yzomandias        designer flow     297\n",
       "                  free karlo        399\n",
       "                  rodinnej typ      355\n",
       "                  rolls             283\n",
       "zayn              dusk till dawn    140\n",
       "Name: w, Length: 96, dtype: int32"
      ]
     },
     "execution_count": 42,
     "metadata": {},
     "output_type": "execute_result"
    }
   ],
   "source": [
    "jednicky_stream"
   ]
  },
  {
   "cell_type": "code",
   "execution_count": 43,
   "id": "83ed364f",
   "metadata": {},
   "outputs": [
    {
     "data": {
      "text/plain": [
       "interpret_hlavni   track            \n",
       "imagine dragons    bad liar            -54.0\n",
       "hozier             take me to church   -33.0\n",
       "twenty one pilots  heathens            -15.0\n",
       "ed sheeran         i don't care        -13.0\n",
       "shawn mendes       senorita            -12.0\n",
       "Name: w, dtype: float64"
      ]
     },
     "execution_count": 43,
     "metadata": {},
     "output_type": "execute_result"
    }
   ],
   "source": [
    "(jednicky_stream - jednicky_radio).dropna().sort_values().head()"
   ]
  },
  {
   "cell_type": "code",
   "execution_count": 44,
   "id": "27dd7302",
   "metadata": {},
   "outputs": [
    {
     "data": {
      "text/plain": [
       "interpret_hlavni  track              \n",
       "ed sheeran        shape of you            0.0\n",
       "alan walker       faded                   0.0\n",
       "ellie goulding    love me like you do     0.0\n",
       "ava max           sweet but psycho       11.0\n",
       "miley cyrus       flowers                21.0\n",
       "Name: w, dtype: float64"
      ]
     },
     "execution_count": 44,
     "metadata": {},
     "output_type": "execute_result"
    }
   ],
   "source": [
    "(jednicky_stream - jednicky_radio).dropna().sort_values().tail()"
   ]
  },
  {
   "cell_type": "code",
   "execution_count": 45,
   "id": "33309e26",
   "metadata": {},
   "outputs": [
    {
     "data": {
      "text/plain": [
       "-8.11111111111111"
      ]
     },
     "execution_count": 45,
     "metadata": {},
     "output_type": "execute_result"
    }
   ],
   "source": [
    "(jednicky_stream - jednicky_radio).dropna().mean()"
   ]
  },
  {
   "cell_type": "code",
   "execution_count": 46,
   "id": "7b705450",
   "metadata": {},
   "outputs": [
    {
     "data": {
      "text/plain": [
       "interpret_hlavni  track               \n",
       "ed sheeran        happier                -87.0\n",
       "sam smith         too good at goodbyes   -67.0\n",
       "shawn mendes      stitches               -61.0\n",
       "justin bieber     sorry                  -58.0\n",
       "billie eilish     therefore i am         -58.0\n",
       "                                          ... \n",
       "julia michaels    issues                  28.0\n",
       "alan walker       alone                   31.0\n",
       "ofenbach          katchi                  38.0\n",
       "sheppard          geronimo                44.0\n",
       "david guetta      dangerous               44.0\n",
       "Name: w, Length: 167, dtype: float64"
      ]
     },
     "execution_count": 46,
     "metadata": {},
     "output_type": "execute_result"
    }
   ],
   "source": [
    "dodeseti_radio = df[df['pozice'] <= 10].groupby(['interpret_hlavni','track'])['w'].min()\n",
    "dodeseti_stream = stream[stream['pozice'] <= 10].groupby(['interpret_hlavni','track'])['w'].min()\n",
    "(dodeseti_stream - dodeseti_radio).dropna().sort_values()"
   ]
  },
  {
   "cell_type": "code",
   "execution_count": 47,
   "id": "300d33dc",
   "metadata": {},
   "outputs": [
    {
     "data": {
      "text/plain": [
       "-9.425149700598803"
      ]
     },
     "execution_count": 47,
     "metadata": {},
     "output_type": "execute_result"
    }
   ],
   "source": [
    "(dodeseti_stream - dodeseti_radio).dropna().mean()"
   ]
  },
  {
   "cell_type": "code",
   "execution_count": 48,
   "id": "db9f7c9e",
   "metadata": {},
   "outputs": [
    {
     "data": {
      "text/plain": [
       "-9.0"
      ]
     },
     "execution_count": 48,
     "metadata": {},
     "output_type": "execute_result"
    }
   ],
   "source": [
    "(dodeseti_stream - dodeseti_radio).dropna().median()"
   ]
  },
  {
   "cell_type": "code",
   "execution_count": 49,
   "id": "ffe7904d",
   "metadata": {},
   "outputs": [
    {
     "data": {
      "text/plain": [
       "interpret_hlavni  track                        \n",
       "taylor swift      cruel summer                    -204.0\n",
       "jubel             dancing in the moonlight        -104.0\n",
       "martin garrix     high on life                     -99.0\n",
       "ed sheeran        happier                          -69.0\n",
       "p!nk              just give me a reason            -65.0\n",
       "                                                   ...  \n",
       "janek ledecký     sliby se maj plnit o vánocích    259.0\n",
       "olga lounová      jsem optimista                   314.0\n",
       "jelen             magdaléna                        364.0\n",
       "kabát             western boogie                   379.0\n",
       "amy macdonald     this is the life                 412.0\n",
       "Name: w, Length: 880, dtype: float64"
      ]
     },
     "execution_count": 49,
     "metadata": {},
     "output_type": "execute_result"
    }
   ],
   "source": [
    "dosta_radio = df[df['pozice'] <= 100].groupby(['interpret_hlavni','track'])['w'].min()\n",
    "dosta_stream = stream[stream['pozice'] <= 100].groupby(['interpret_hlavni','track'])['w'].min()\n",
    "(dosta_stream - dosta_radio).dropna().sort_values()"
   ]
  },
  {
   "cell_type": "code",
   "execution_count": 50,
   "id": "a3878d00",
   "metadata": {},
   "outputs": [
    {
     "data": {
      "text/plain": [
       "-1.128409090909091"
      ]
     },
     "execution_count": 50,
     "metadata": {},
     "output_type": "execute_result"
    }
   ],
   "source": [
    "(dosta_stream - dosta_radio).dropna().mean()"
   ]
  },
  {
   "cell_type": "code",
   "execution_count": 51,
   "id": "e7836aa3",
   "metadata": {},
   "outputs": [
    {
     "data": {
      "text/plain": [
       "-3.0"
      ]
     },
     "execution_count": 51,
     "metadata": {},
     "output_type": "execute_result"
    }
   ],
   "source": [
    "(dosta_stream - dosta_radio).dropna().median()"
   ]
  },
  {
   "cell_type": "markdown",
   "id": "ac2230fa",
   "metadata": {},
   "source": [
    "Polovina písniček je o 4 týdny nebo více dřív populární online než v rádiu."
   ]
  },
  {
   "cell_type": "markdown",
   "id": "28d3a702",
   "metadata": {},
   "source": [
    "### co lidé stahují a streamují vs. co hrají djové v rádiu"
   ]
  },
  {
   "cell_type": "code",
   "execution_count": 52,
   "id": "766aa38e",
   "metadata": {},
   "outputs": [],
   "source": [
    "radio = pd.read_csv(os.path.join(\"data\",\"CZ_RADIO_TOP_100_tydenni.csv\"))"
   ]
  },
  {
   "cell_type": "code",
   "execution_count": 53,
   "id": "755194be",
   "metadata": {},
   "outputs": [
    {
     "data": {
      "text/plain": [
       "2015"
      ]
     },
     "execution_count": 53,
     "metadata": {},
     "output_type": "execute_result"
    }
   ],
   "source": [
    "stream['rok'].min()"
   ]
  },
  {
   "cell_type": "code",
   "execution_count": 54,
   "id": "7caddcd4",
   "metadata": {},
   "outputs": [],
   "source": [
    "radio = radio[radio['rok'] >= stream['rok'].min()]"
   ]
  },
  {
   "cell_type": "code",
   "execution_count": 55,
   "id": "cd1d56a1",
   "metadata": {},
   "outputs": [],
   "source": [
    "radio['interpret_hlavni'] = radio['interpret_hlavni'].apply(lambda x: nejmensispolecny(x))"
   ]
  },
  {
   "cell_type": "markdown",
   "id": "a45f3a29",
   "metadata": {},
   "source": [
    "#### Porovnání výskytů interpretů v top 100 rádio vs. stream od roku 2014"
   ]
  },
  {
   "cell_type": "code",
   "execution_count": 56,
   "id": "804ac48f",
   "metadata": {},
   "outputs": [
    {
     "data": {
      "text/plain": [
       "interpret_hlavni\n",
       "mirai              1195\n",
       "kryštof             887\n",
       "marek ztracený      829\n",
       "chinaski            795\n",
       "slza                750\n",
       "ed sheeran          672\n",
       "xindl x             654\n",
       "imagine dragons     596\n",
       "robin schulz        492\n",
       "jelen               471\n",
       "dtype: int64"
      ]
     },
     "execution_count": 56,
     "metadata": {},
     "output_type": "execute_result"
    }
   ],
   "source": [
    "radio.groupby('interpret_hlavni').size().nlargest(10)"
   ]
  },
  {
   "cell_type": "code",
   "execution_count": 57,
   "id": "378a89d7",
   "metadata": {},
   "outputs": [
    {
     "data": {
      "text/plain": [
       "interpret_hlavni\n",
       "viktor sheen       1831\n",
       "imagine dragons    1386\n",
       "ed sheeran         1212\n",
       "calin              1099\n",
       "yzomandias          979\n",
       "weeknd              705\n",
       "nik tendo           695\n",
       "kygo                623\n",
       "ektor               539\n",
       "chainsmokers        527\n",
       "dtype: int64"
      ]
     },
     "execution_count": 57,
     "metadata": {},
     "output_type": "execute_result"
    }
   ],
   "source": [
    "stream.groupby('interpret_hlavni').size().nlargest(10)"
   ]
  },
  {
   "cell_type": "code",
   "execution_count": 58,
   "id": "6204c5a5",
   "metadata": {},
   "outputs": [],
   "source": [
    "pomer = (radio.groupby('interpret_hlavni').size() / stream.groupby('interpret_hlavni').size()).sort_values()\n",
    "hvezdy_streamu = pd.DataFrame(pomer).reset_index().rename(columns={'interpret_hlavni':'Interpreti',0:'Poměr stream/rádio'}).head(10).replace({\"Interpreti\": interpreti_slovnik})\n",
    "hvezdy_streamu['Poměr stream/rádio'] = 1 / hvezdy_streamu['Poměr stream/rádio']\n",
    "hvezdy_streamu['Poměr stream/rádio'] = hvezdy_streamu['Poměr stream/rádio'].apply(lambda x: f\"\"\"{int(x)}×\"\"\")\n",
    "hvezdy_radia = pd.DataFrame(pomer.nlargest(5)).reset_index().rename(columns={'interpret_hlavni':'Interpreti',0:'Poměr rádio/stream'}).replace({\"Interpreti\": interpreti_slovnik})\n",
    "hvezdy_radia['Poměr rádio/stream'] = hvezdy_radia['Poměr rádio/stream'].apply(lambda x: f\"\"\"{int(x)}×\"\"\")"
   ]
  },
  {
   "cell_type": "code",
   "execution_count": 59,
   "id": "f049eda9",
   "metadata": {},
   "outputs": [
    {
     "data": {
      "text/html": [
       "<div>\n",
       "<style scoped>\n",
       "    .dataframe tbody tr th:only-of-type {\n",
       "        vertical-align: middle;\n",
       "    }\n",
       "\n",
       "    .dataframe tbody tr th {\n",
       "        vertical-align: top;\n",
       "    }\n",
       "\n",
       "    .dataframe thead th {\n",
       "        text-align: right;\n",
       "    }\n",
       "</style>\n",
       "<table border=\"1\" class=\"dataframe\">\n",
       "  <thead>\n",
       "    <tr style=\"text-align: right;\">\n",
       "      <th></th>\n",
       "      <th>Interpreti</th>\n",
       "      <th>Poměr stream/rádio</th>\n",
       "    </tr>\n",
       "  </thead>\n",
       "  <tbody>\n",
       "    <tr>\n",
       "      <th>0</th>\n",
       "      <td>Calin</td>\n",
       "      <td>64×</td>\n",
       "    </tr>\n",
       "    <tr>\n",
       "      <th>1</th>\n",
       "      <td>James Hype</td>\n",
       "      <td>60×</td>\n",
       "    </tr>\n",
       "    <tr>\n",
       "      <th>2</th>\n",
       "      <td>Echosmith</td>\n",
       "      <td>37×</td>\n",
       "    </tr>\n",
       "    <tr>\n",
       "      <th>3</th>\n",
       "      <td>Matoma</td>\n",
       "      <td>37×</td>\n",
       "    </tr>\n",
       "    <tr>\n",
       "      <th>4</th>\n",
       "      <td>Rema</td>\n",
       "      <td>32×</td>\n",
       "    </tr>\n",
       "    <tr>\n",
       "      <th>5</th>\n",
       "      <td>Passenger</td>\n",
       "      <td>31×</td>\n",
       "    </tr>\n",
       "    <tr>\n",
       "      <th>6</th>\n",
       "      <td>Ben Cristovao</td>\n",
       "      <td>28×</td>\n",
       "    </tr>\n",
       "    <tr>\n",
       "      <th>7</th>\n",
       "      <td>Rae Sremmurd</td>\n",
       "      <td>25×</td>\n",
       "    </tr>\n",
       "    <tr>\n",
       "      <th>8</th>\n",
       "      <td>Kapitán Demo</td>\n",
       "      <td>23×</td>\n",
       "    </tr>\n",
       "    <tr>\n",
       "      <th>9</th>\n",
       "      <td>Marc E. Bassy</td>\n",
       "      <td>21×</td>\n",
       "    </tr>\n",
       "  </tbody>\n",
       "</table>\n",
       "</div>"
      ],
      "text/plain": [
       "      Interpreti Poměr stream/rádio\n",
       "0          Calin                64×\n",
       "1     James Hype                60×\n",
       "2      Echosmith                37×\n",
       "3         Matoma                37×\n",
       "4           Rema                32×\n",
       "5      Passenger                31×\n",
       "6  Ben Cristovao                28×\n",
       "7   Rae Sremmurd                25×\n",
       "8   Kapitán Demo                23×\n",
       "9  Marc E. Bassy                21×"
      ]
     },
     "execution_count": 59,
     "metadata": {},
     "output_type": "execute_result"
    }
   ],
   "source": [
    "hvezdy_streamu"
   ]
  },
  {
   "cell_type": "code",
   "execution_count": 60,
   "id": "aa26616c",
   "metadata": {},
   "outputs": [],
   "source": [
    "hvezdy_streamu['Žánry'] = hvezdy_streamu['Interpreti'].apply(lambda x: wikid[wikid['interpret_hlavni'] == x.lower()].explode('zanry')['zanry'].drop_duplicates().to_list())\n",
    "hvezdy_streamu['Žánry'] = hvezdy_streamu['Žánry'].apply(lambda x: [y for y in x if y != None])\n",
    "hvezdy_streamu['Žánry'] = hvezdy_streamu['Žánry'].apply(lambda x: \", \".join(x[0:3]))"
   ]
  },
  {
   "cell_type": "code",
   "execution_count": 94,
   "id": "76aa764b",
   "metadata": {},
   "outputs": [
    {
     "data": {
      "text/html": [
       "<div>\n",
       "<style scoped>\n",
       "    .dataframe tbody tr th:only-of-type {\n",
       "        vertical-align: middle;\n",
       "    }\n",
       "\n",
       "    .dataframe tbody tr th {\n",
       "        vertical-align: top;\n",
       "    }\n",
       "\n",
       "    .dataframe thead th {\n",
       "        text-align: right;\n",
       "    }\n",
       "</style>\n",
       "<table border=\"1\" class=\"dataframe\">\n",
       "  <thead>\n",
       "    <tr style=\"text-align: right;\">\n",
       "      <th></th>\n",
       "      <th>Interpreti</th>\n",
       "      <th>Poměr stream/rádio</th>\n",
       "      <th>Žánry</th>\n",
       "    </tr>\n",
       "  </thead>\n",
       "  <tbody>\n",
       "    <tr>\n",
       "      <th>0</th>\n",
       "      <td>Calin</td>\n",
       "      <td>64×</td>\n",
       "      <td>alternativní R&amp;B, hip hop</td>\n",
       "    </tr>\n",
       "    <tr>\n",
       "      <th>1</th>\n",
       "      <td>James Hype</td>\n",
       "      <td>60×</td>\n",
       "      <td>house music, elektronická hudba</td>\n",
       "    </tr>\n",
       "    <tr>\n",
       "      <th>2</th>\n",
       "      <td>Echosmith</td>\n",
       "      <td>37×</td>\n",
       "      <td>alternativní rock, rock</td>\n",
       "    </tr>\n",
       "    <tr>\n",
       "      <th>3</th>\n",
       "      <td>Matoma</td>\n",
       "      <td>37×</td>\n",
       "      <td>elektronická taneční hudba</td>\n",
       "    </tr>\n",
       "    <tr>\n",
       "      <th>4</th>\n",
       "      <td>Rema</td>\n",
       "      <td>32×</td>\n",
       "      <td>Afrobeat</td>\n",
       "    </tr>\n",
       "    <tr>\n",
       "      <th>5</th>\n",
       "      <td>Passenger</td>\n",
       "      <td>31×</td>\n",
       "      <td>folk, indie folk</td>\n",
       "    </tr>\n",
       "    <tr>\n",
       "      <th>6</th>\n",
       "      <td>Ben Cristovao</td>\n",
       "      <td>28×</td>\n",
       "      <td></td>\n",
       "    </tr>\n",
       "    <tr>\n",
       "      <th>7</th>\n",
       "      <td>Rae Sremmurd</td>\n",
       "      <td>25×</td>\n",
       "      <td>hip hop</td>\n",
       "    </tr>\n",
       "    <tr>\n",
       "      <th>8</th>\n",
       "      <td>Kapitán Demo</td>\n",
       "      <td>23×</td>\n",
       "      <td></td>\n",
       "    </tr>\n",
       "    <tr>\n",
       "      <th>9</th>\n",
       "      <td>Marc E. Bassy</td>\n",
       "      <td>21×</td>\n",
       "      <td></td>\n",
       "    </tr>\n",
       "  </tbody>\n",
       "</table>\n",
       "</div>"
      ],
      "text/plain": [
       "      Interpreti Poměr stream/rádio                            Žánry\n",
       "0          Calin                64×        alternativní R&B, hip hop\n",
       "1     James Hype                60×  house music, elektronická hudba\n",
       "2      Echosmith                37×          alternativní rock, rock\n",
       "3         Matoma                37×       elektronická taneční hudba\n",
       "4           Rema                32×                         Afrobeat\n",
       "5      Passenger                31×                 folk, indie folk\n",
       "6  Ben Cristovao                28×                                 \n",
       "7   Rae Sremmurd                25×                          hip hop\n",
       "8   Kapitán Demo                23×                                 \n",
       "9  Marc E. Bassy                21×                                 "
      ]
     },
     "execution_count": 94,
     "metadata": {},
     "output_type": "execute_result"
    }
   ],
   "source": [
    "hvezdy_streamu"
   ]
  },
  {
   "cell_type": "code",
   "execution_count": 95,
   "id": "9360dd20",
   "metadata": {},
   "outputs": [],
   "source": [
    "hvezdy_streamu['Žánry'] = hvezdy_streamu['Žánry'].apply(lambda x: x if x != \"\" else \"-\")"
   ]
  },
  {
   "cell_type": "code",
   "execution_count": 96,
   "id": "74ca8fb4",
   "metadata": {},
   "outputs": [
    {
     "data": {
      "text/plain": [
       "'<table class=\"dataframe table table--responsive table--w100p table--striped-red table--plain\"><caption>Komu se výrazně více daří v digitálních než rádiových hitparádách</caption><thead><tr style=\"text-align: right;\"><th class=\"text-nowrap\">Interpreti</th><th class=\"text-nowrap\">Poměr stream/rádio</th><th class=\"text-nowrap\">Žánry</th></tr></thead><tbody class=\"text-sm\"><tr><td>Calin</td><td>64×</td><td>alternativní R&amp;B, hip hop</td></tr><tr><td>James Hype</td><td>60×</td><td>house music, elektronická hudba</td></tr><tr><td>Echosmith</td><td>37×</td><td>alternativní rock, rock</td></tr><tr><td>Matoma</td><td>37×</td><td>elektronická taneční hudba</td></tr><tr><td>Rema</td><td>32×</td><td>Afrobeat</td></tr><tr><td>Passenger</td><td>31×</td><td>folk, indie folk</td></tr><tr><td>Ben Cristovao</td><td>28×</td><td>-</td></tr><tr><td>Rae Sremmurd</td><td>25×</td><td>hip hop</td></tr><tr><td>Kapitán Demo</td><td>23×</td><td>-</td></tr><tr><td>Marc E. Bassy</td><td>21×</td><td>-</td></tr></tbody><tfoot><tr style=\"text-align: center;\"><td colspan=3>Srovnání žebříčků top 100 radio a top 100 digital od roku 2015. Číslo vyjadřuje poměr mezi týdny v online a rádiových hitparádách.</td></tr></tfoot></table>'"
      ]
     },
     "execution_count": 96,
     "metadata": {},
     "output_type": "execute_result"
    }
   ],
   "source": [
    "tabulka(hvezdy_streamu, titulek=\"Komu se výrazně více daří v digitálních než rádiových hitparádách\", podtitulek=\"Srovnání žebříčků top 100 radio a top 100 digital od roku 2015. Číslo vyjadřuje poměr mezi týdny v online a rádiových hitparádách.\")"
   ]
  },
  {
   "cell_type": "code",
   "execution_count": 63,
   "id": "69473d8d",
   "metadata": {},
   "outputs": [
    {
     "data": {
      "text/html": [
       "<div>\n",
       "<style scoped>\n",
       "    .dataframe tbody tr th:only-of-type {\n",
       "        vertical-align: middle;\n",
       "    }\n",
       "\n",
       "    .dataframe tbody tr th {\n",
       "        vertical-align: top;\n",
       "    }\n",
       "\n",
       "    .dataframe thead th {\n",
       "        text-align: right;\n",
       "    }\n",
       "</style>\n",
       "<table border=\"1\" class=\"dataframe\">\n",
       "  <thead>\n",
       "    <tr style=\"text-align: right;\">\n",
       "      <th></th>\n",
       "      <th>Interpreti</th>\n",
       "      <th>Poměr rádio/stream</th>\n",
       "    </tr>\n",
       "  </thead>\n",
       "  <tbody>\n",
       "    <tr>\n",
       "      <th>0</th>\n",
       "      <td>Poetika</td>\n",
       "      <td>164×</td>\n",
       "    </tr>\n",
       "    <tr>\n",
       "      <th>1</th>\n",
       "      <td>Tomáš Klus</td>\n",
       "      <td>80×</td>\n",
       "    </tr>\n",
       "    <tr>\n",
       "      <th>2</th>\n",
       "      <td>Purple Disco Machine</td>\n",
       "      <td>78×</td>\n",
       "    </tr>\n",
       "    <tr>\n",
       "      <th>3</th>\n",
       "      <td>Imany</td>\n",
       "      <td>65×</td>\n",
       "    </tr>\n",
       "    <tr>\n",
       "      <th>4</th>\n",
       "      <td>David Stypka</td>\n",
       "      <td>63×</td>\n",
       "    </tr>\n",
       "  </tbody>\n",
       "</table>\n",
       "</div>"
      ],
      "text/plain": [
       "             Interpreti Poměr rádio/stream\n",
       "0               Poetika               164×\n",
       "1            Tomáš Klus                80×\n",
       "2  Purple Disco Machine                78×\n",
       "3                 Imany                65×\n",
       "4          David Stypka                63×"
      ]
     },
     "execution_count": 63,
     "metadata": {},
     "output_type": "execute_result"
    }
   ],
   "source": [
    "hvezdy_radia"
   ]
  },
  {
   "cell_type": "code",
   "execution_count": 64,
   "id": "5c62b7e0",
   "metadata": {},
   "outputs": [],
   "source": [
    "hvezdy_radia['Žánry'] = hvezdy_radia['Interpreti'].apply(lambda x: wikid[wikid['interpret_hlavni'] == x.lower()].explode('zanry')['zanry'].drop_duplicates().to_list())\n",
    "hvezdy_radia['Žánry'] = hvezdy_radia['Žánry'].apply(lambda x: [y for y in x if y != None])\n",
    "hvezdy_radia['Žánry'] = hvezdy_radia['Žánry'].apply(lambda x: \", \".join(x[0:3]))\n",
    "hvezdy_radia['Žánry'] = hvezdy_radia['Žánry'].apply(lambda x: \"-\" if x == \"\" else x)"
   ]
  },
  {
   "cell_type": "code",
   "execution_count": 65,
   "id": "1ccffa14",
   "metadata": {},
   "outputs": [
    {
     "data": {
      "text/plain": [
       "'<table class=\"dataframe table table--responsive table--w100p table--striped-red table--plain\"><caption>Komu se výrazně víc daří v rádiových než digitálních hitparádách</caption><thead><tr style=\"text-align: right;\"><th class=\"text-nowrap\">Interpreti</th><th class=\"text-nowrap\">Poměr rádio/stream</th><th class=\"text-nowrap\">Žánry</th></tr></thead><tbody class=\"text-sm\"><tr><td>Poetika</td><td>164×</td><td>-</td></tr><tr><td>Tomáš Klus</td><td>80×</td><td>pop music, folk pop, akustická hudba</td></tr><tr><td>Purple Disco Machine</td><td>78×</td><td>-</td></tr><tr><td>Imany</td><td>65×</td><td>lidová hudba, blues, folk</td></tr><tr><td>David Stypka</td><td>63×</td><td>jazz rock, pop rock</td></tr></tbody><tfoot><tr style=\"text-align: center;\"><td colspan=3>Srovnání žebříčků top 100 radio a top 100 digital od roku 2015. Číslo vyjadřuje poměr mezi týdny v rádiových a online hitparádách.</td></tr></tfoot></table>'"
      ]
     },
     "execution_count": 65,
     "metadata": {},
     "output_type": "execute_result"
    }
   ],
   "source": [
    "tabulka(hvezdy_radia, titulek=\"Komu se výrazně víc daří v rádiových než digitálních hitparádách\", podtitulek=\"Srovnání žebříčků top 100 radio a top 100 digital od roku 2015. Číslo vyjadřuje poměr mezi týdny v rádiových a online hitparádách.\")"
   ]
  },
  {
   "cell_type": "code",
   "execution_count": 66,
   "id": "38ec07ed",
   "metadata": {},
   "outputs": [],
   "source": [
    "jenomonline = pd.DataFrame(stream[~stream['interpret_hlavni'].isin(radio['interpret_hlavni'].drop_duplicates().to_list())].groupby('interpret_hlavni')['week'].nunique().nlargest(9)).reset_index().rename(columns={'interpret_hlavni':'Interpreti','week':'Týdnů v digi hitparádě'}).replace({\"Interpreti\": interpreti_slovnik})"
   ]
  },
  {
   "cell_type": "code",
   "execution_count": 67,
   "id": "59db1eed",
   "metadata": {},
   "outputs": [
    {
     "data": {
      "text/html": [
       "<div>\n",
       "<style scoped>\n",
       "    .dataframe tbody tr th:only-of-type {\n",
       "        vertical-align: middle;\n",
       "    }\n",
       "\n",
       "    .dataframe tbody tr th {\n",
       "        vertical-align: top;\n",
       "    }\n",
       "\n",
       "    .dataframe thead th {\n",
       "        text-align: right;\n",
       "    }\n",
       "</style>\n",
       "<table border=\"1\" class=\"dataframe\">\n",
       "  <thead>\n",
       "    <tr style=\"text-align: right;\">\n",
       "      <th></th>\n",
       "      <th>Interpreti</th>\n",
       "      <th>Týdnů v digi hitparádě</th>\n",
       "    </tr>\n",
       "  </thead>\n",
       "  <tbody>\n",
       "    <tr>\n",
       "      <th>0</th>\n",
       "      <td>Wohnout</td>\n",
       "      <td>253</td>\n",
       "    </tr>\n",
       "    <tr>\n",
       "      <th>1</th>\n",
       "      <td>Viktor Sheen</td>\n",
       "      <td>251</td>\n",
       "    </tr>\n",
       "    <tr>\n",
       "      <th>2</th>\n",
       "      <td>Yzomandias</td>\n",
       "      <td>247</td>\n",
       "    </tr>\n",
       "    <tr>\n",
       "      <th>3</th>\n",
       "      <td>Nik Tendo</td>\n",
       "      <td>225</td>\n",
       "    </tr>\n",
       "    <tr>\n",
       "      <th>4</th>\n",
       "      <td>Ektor</td>\n",
       "      <td>222</td>\n",
       "    </tr>\n",
       "    <tr>\n",
       "      <th>5</th>\n",
       "      <td>Škwor</td>\n",
       "      <td>162</td>\n",
       "    </tr>\n",
       "    <tr>\n",
       "      <th>6</th>\n",
       "      <td>Ca$Hanova Bulhar</td>\n",
       "      <td>151</td>\n",
       "    </tr>\n",
       "    <tr>\n",
       "      <th>7</th>\n",
       "      <td>Travis Scott</td>\n",
       "      <td>151</td>\n",
       "    </tr>\n",
       "    <tr>\n",
       "      <th>8</th>\n",
       "      <td>Earth</td>\n",
       "      <td>150</td>\n",
       "    </tr>\n",
       "  </tbody>\n",
       "</table>\n",
       "</div>"
      ],
      "text/plain": [
       "         Interpreti  Týdnů v digi hitparádě\n",
       "0           Wohnout                     253\n",
       "1      Viktor Sheen                     251\n",
       "2        Yzomandias                     247\n",
       "3         Nik Tendo                     225\n",
       "4             Ektor                     222\n",
       "5             Škwor                     162\n",
       "6  Ca$Hanova Bulhar                     151\n",
       "7      Travis Scott                     151\n",
       "8             Earth                     150"
      ]
     },
     "execution_count": 67,
     "metadata": {},
     "output_type": "execute_result"
    }
   ],
   "source": [
    "jenomonline"
   ]
  },
  {
   "cell_type": "code",
   "execution_count": 68,
   "id": "0544a064",
   "metadata": {},
   "outputs": [],
   "source": [
    "def zeme(zeme):\n",
    "    try:\n",
    "        return zeme[0]\n",
    "    except:\n",
    "        return \"-\""
   ]
  },
  {
   "cell_type": "code",
   "execution_count": 69,
   "id": "8164cd6d",
   "metadata": {},
   "outputs": [],
   "source": [
    "jenomonline['Země původu'] = jenomonline['Interpreti'].apply(lambda x: zeme(wikid[wikid['interpret_hlavni'] == x.lower()]['zeme_puvodu'].drop_duplicates().to_list()))"
   ]
  },
  {
   "cell_type": "code",
   "execution_count": 70,
   "id": "c4c195e1",
   "metadata": {},
   "outputs": [],
   "source": [
    "def zanry(zanry):\n",
    "    if len(zanry) == 0:\n",
    "        return \"-\"\n",
    "    if len(zanry) == 1:\n",
    "        return zanry[0]\n",
    "    if len(zanry) > 1:\n",
    "        return zanry[1]"
   ]
  },
  {
   "cell_type": "code",
   "execution_count": 71,
   "id": "9b503bc7",
   "metadata": {},
   "outputs": [],
   "source": [
    "jenomonline['Žánr'] = jenomonline['Interpreti'].apply(lambda x: zanry(wikid[wikid['interpret_hlavni'] == x.lower()].explode('zanry')['zanry'].drop_duplicates().to_list()))"
   ]
  },
  {
   "cell_type": "code",
   "execution_count": 72,
   "id": "1336a4ea",
   "metadata": {},
   "outputs": [],
   "source": [
    "jenomonline = jenomonline.replace({\"Ca$Hanova Bulhar\": \"Ca$hanova Bulhar\"})"
   ]
  },
  {
   "cell_type": "code",
   "execution_count": 73,
   "id": "7688753c",
   "metadata": {},
   "outputs": [
    {
     "data": {
      "text/html": [
       "<div>\n",
       "<style scoped>\n",
       "    .dataframe tbody tr th:only-of-type {\n",
       "        vertical-align: middle;\n",
       "    }\n",
       "\n",
       "    .dataframe tbody tr th {\n",
       "        vertical-align: top;\n",
       "    }\n",
       "\n",
       "    .dataframe thead th {\n",
       "        text-align: right;\n",
       "    }\n",
       "</style>\n",
       "<table border=\"1\" class=\"dataframe\">\n",
       "  <thead>\n",
       "    <tr style=\"text-align: right;\">\n",
       "      <th></th>\n",
       "      <th>Interpreti</th>\n",
       "      <th>Týdnů v digi hitparádě</th>\n",
       "      <th>Země původu</th>\n",
       "      <th>Žánr</th>\n",
       "    </tr>\n",
       "  </thead>\n",
       "  <tbody>\n",
       "    <tr>\n",
       "      <th>0</th>\n",
       "      <td>Wohnout</td>\n",
       "      <td>253</td>\n",
       "      <td>Česko</td>\n",
       "      <td>punk rock</td>\n",
       "    </tr>\n",
       "    <tr>\n",
       "      <th>1</th>\n",
       "      <td>Viktor Sheen</td>\n",
       "      <td>251</td>\n",
       "      <td>Kazachstán</td>\n",
       "      <td>hip hop</td>\n",
       "    </tr>\n",
       "    <tr>\n",
       "      <th>2</th>\n",
       "      <td>Yzomandias</td>\n",
       "      <td>247</td>\n",
       "      <td>Česko</td>\n",
       "      <td>trap</td>\n",
       "    </tr>\n",
       "    <tr>\n",
       "      <th>3</th>\n",
       "      <td>Nik Tendo</td>\n",
       "      <td>225</td>\n",
       "      <td>Česko</td>\n",
       "      <td>trap</td>\n",
       "    </tr>\n",
       "    <tr>\n",
       "      <th>4</th>\n",
       "      <td>Ektor</td>\n",
       "      <td>222</td>\n",
       "      <td>Česko</td>\n",
       "      <td>hip hop</td>\n",
       "    </tr>\n",
       "    <tr>\n",
       "      <th>5</th>\n",
       "      <td>Škwor</td>\n",
       "      <td>162</td>\n",
       "      <td>Česko</td>\n",
       "      <td>nu metal</td>\n",
       "    </tr>\n",
       "    <tr>\n",
       "      <th>6</th>\n",
       "      <td>Ca$hanova Bulhar</td>\n",
       "      <td>151</td>\n",
       "      <td>Česko</td>\n",
       "      <td>trap</td>\n",
       "    </tr>\n",
       "    <tr>\n",
       "      <th>7</th>\n",
       "      <td>Travis Scott</td>\n",
       "      <td>151</td>\n",
       "      <td>Spojené státy americké</td>\n",
       "      <td>trap</td>\n",
       "    </tr>\n",
       "    <tr>\n",
       "      <th>8</th>\n",
       "      <td>Earth</td>\n",
       "      <td>150</td>\n",
       "      <td>Česko</td>\n",
       "      <td>None</td>\n",
       "    </tr>\n",
       "  </tbody>\n",
       "</table>\n",
       "</div>"
      ],
      "text/plain": [
       "         Interpreti  Týdnů v digi hitparádě             Země původu       Žánr\n",
       "0           Wohnout                     253                   Česko  punk rock\n",
       "1      Viktor Sheen                     251              Kazachstán    hip hop\n",
       "2        Yzomandias                     247                   Česko       trap\n",
       "3         Nik Tendo                     225                   Česko       trap\n",
       "4             Ektor                     222                   Česko    hip hop\n",
       "5             Škwor                     162                   Česko   nu metal\n",
       "6  Ca$hanova Bulhar                     151                   Česko       trap\n",
       "7      Travis Scott                     151  Spojené státy americké       trap\n",
       "8             Earth                     150                   Česko       None"
      ]
     },
     "execution_count": 73,
     "metadata": {},
     "output_type": "execute_result"
    }
   ],
   "source": [
    "jenomonline"
   ]
  },
  {
   "cell_type": "code",
   "execution_count": 74,
   "id": "33ddc28a",
   "metadata": {},
   "outputs": [
    {
     "data": {
      "text/plain": [
       "'<table class=\"dataframe table table--responsive table--w100p table--striped-red table--plain\"><caption>Online bodují, v rádiích zůstali pod stovkou nejhranějších</caption><thead><tr style=\"text-align: right;\"><th class=\"text-nowrap\">Interpreti</th><th class=\"text-nowrap\">Týdnů v digi hitparádě</th><th class=\"text-nowrap\">Země původu</th><th class=\"text-nowrap\">Žánr</th></tr></thead><tbody class=\"text-sm\"><tr><td>Wohnout</td><td>253</td><td>Česko</td><td>punk rock</td></tr><tr><td>Viktor Sheen</td><td>251</td><td>Kazachstán</td><td>hip hop</td></tr><tr><td>Yzomandias</td><td>247</td><td>Česko</td><td>trap</td></tr><tr><td>Nik Tendo</td><td>225</td><td>Česko</td><td>trap</td></tr><tr><td>Ektor</td><td>222</td><td>Česko</td><td>hip hop</td></tr><tr><td>Škwor</td><td>162</td><td>Česko</td><td>nu metal</td></tr><tr><td>Ca$hanova Bulhar</td><td>151</td><td>Česko</td><td>trap</td></tr><tr><td>Travis Scott</td><td>151</td><td>Spojené státy americké</td><td>trap</td></tr><tr><td>Earth</td><td>150</td><td>Česko</td><td>None</td></tr></tbody><tfoot><tr style=\"text-align: center;\"><td colspan=4>Data od roku 2015 do roku 2023.</td></tr></tfoot></table>'"
      ]
     },
     "execution_count": 74,
     "metadata": {},
     "output_type": "execute_result"
    }
   ],
   "source": [
    "tabulka(jenomonline, titulek=\"Online bodují, v rádiích zůstali pod stovkou nejhranějších\", podtitulek=\"Data od roku 2015 do roku 2023.\")"
   ]
  },
  {
   "cell_type": "markdown",
   "id": "46157914",
   "metadata": {},
   "source": [
    "## Podíl rapu"
   ]
  },
  {
   "cell_type": "code",
   "execution_count": 75,
   "id": "db4c5f96",
   "metadata": {},
   "outputs": [],
   "source": [
    "wikidzanry = wikid.explode('zanry')"
   ]
  },
  {
   "cell_type": "code",
   "execution_count": 76,
   "id": "4a1ec2b9",
   "metadata": {},
   "outputs": [
    {
     "data": {
      "text/plain": [
       "zanry\n",
       "pop music                     346\n",
       "hip hop                       196\n",
       "rock                          107\n",
       "pop rock                      106\n",
       "contemporary R&B              105\n",
       "alternativní rock             102\n",
       "elektronická taneční hudba     64\n",
       "trap                           63\n",
       "house music                    61\n",
       "soul                           53\n",
       "rhythm and blues               52\n",
       "dance-pop                      51\n",
       "elektropop                     51\n",
       "synthpop                       50\n",
       "indie pop                      49\n",
       "pop rap                        44\n",
       "elektronická hudba             43\n",
       "hard rock                      43\n",
       "taneční hudba                  38\n",
       "electro house                  37\n",
       "indie rock                     35\n",
       "country                        33\n",
       "folk                           29\n",
       "jazz                           27\n",
       "heavy metal                    26\n",
       "electronica                    25\n",
       "pop punk                       25\n",
       "Gangsta rap                    24\n",
       "blues                          24\n",
       "hardcore hip hop               24\n",
       "deep house                     23\n",
       "progressive house              23\n",
       "alternativní hip-hop           22\n",
       "punk rock                      22\n",
       "reggae                         22\n",
       "soft rock                      21\n",
       "folk rock                      20\n",
       "nová vlna                      20\n",
       "reggaeton                      20\n",
       "Southern hip hop               19\n",
       "rap                            18\n",
       "alternativní metal             17\n",
       "blues rock                     17\n",
       "Latin pop                      16\n",
       "alternativní R&B               16\n",
       "psychedelický rock             16\n",
       "rap rock                       15\n",
       "klasický heavy metal           14\n",
       "progresivní rock               14\n",
       "East Coast hip hop             13\n",
       "art pop                        13\n",
       "electro                        13\n",
       "nu metal                       13\n",
       "techno                         13\n",
       "SoundCloud rap                 12\n",
       "art rock                       12\n",
       "dirty south                    12\n",
       "glam rock                      12\n",
       "lidová hudba                   12\n",
       "dancehall                      11\n",
       "Name: interpret_hlavni, dtype: int64"
      ]
     },
     "execution_count": 76,
     "metadata": {},
     "output_type": "execute_result"
    }
   ],
   "source": [
    "wikidzanry.groupby('zanry')['interpret_hlavni'].nunique().nlargest(60)"
   ]
  },
  {
   "cell_type": "code",
   "execution_count": 77,
   "id": "1253925f",
   "metadata": {},
   "outputs": [
    {
     "data": {
      "text/plain": [
       "zanry\n",
       "hip hop                   196\n",
       "hardcore hip hop           24\n",
       "alternativní hip-hop       22\n",
       "Southern hip hop           19\n",
       "East Coast hip hop         13\n",
       "Atlanta hip hop             9\n",
       "comedy hip hop              7\n",
       "hip house                   4\n",
       "hip-hop kultura             4\n",
       "Latin hip hop               3\n",
       "Midwest hip hop             2\n",
       "conscious hip hop           2\n",
       "experimentální hip hop      2\n",
       "Hip-hop soul                2\n",
       "political hip hop           2\n",
       "chipmunk soul               1\n",
       "Christian hip hop           1\n",
       "industrial hip hop          1\n",
       "lofi hip hop                1\n",
       "Name: interpret_hlavni, dtype: int64"
      ]
     },
     "execution_count": 77,
     "metadata": {},
     "output_type": "execute_result"
    }
   ],
   "source": [
    "wikidzanry[wikidzanry['zanry'].str.lower().str.contains('hip',na=False)].groupby('zanry')['interpret_hlavni'].nunique().nlargest(60)"
   ]
  },
  {
   "cell_type": "code",
   "execution_count": 78,
   "id": "f1a1b205",
   "metadata": {},
   "outputs": [
    {
     "data": {
      "text/plain": [
       "zanry\n",
       "trap               63\n",
       "pop rap            44\n",
       "Gangsta rap        24\n",
       "rap                18\n",
       "rap rock           15\n",
       "SoundCloud rap     12\n",
       "emo rap            10\n",
       "West Coast rap      8\n",
       "cloud rap           6\n",
       "mafioso rap         5\n",
       "Latin trap          5\n",
       "punk rap            4\n",
       "progressive rap     4\n",
       "dirty rap           4\n",
       "mumble rap          4\n",
       "EDM trap music      4\n",
       "UK rap              4\n",
       "jazz rap            3\n",
       "rap metal           3\n",
       "Country rap         2\n",
       "rage rap            2\n",
       "Rapcore             2\n",
       "psychedelic rap     1\n",
       "rapper              1\n",
       "trap metal          1\n",
       "Name: interpret_hlavni, dtype: int64"
      ]
     },
     "execution_count": 78,
     "metadata": {},
     "output_type": "execute_result"
    }
   ],
   "source": [
    "wikidzanry[wikidzanry['zanry'].str.lower().str.contains('rap',na=False)].groupby('zanry')['interpret_hlavni'].nunique().nlargest(60)"
   ]
  },
  {
   "cell_type": "code",
   "execution_count": 79,
   "id": "cead3bc7",
   "metadata": {},
   "outputs": [],
   "source": [
    "hiphoperstvo = wikidzanry[(wikidzanry['zanry'].str.lower().str.contains('rap',na=False)) | (wikidzanry['zanry'].str.lower().str.contains('hip',na=False))]['interpret_hlavni'].drop_duplicates().to_list()"
   ]
  },
  {
   "cell_type": "code",
   "execution_count": 80,
   "id": "d53aeb2b",
   "metadata": {},
   "outputs": [],
   "source": [
    "hiphoperstvo2 = (wikidzanry[(wikidzanry['zanry'].str.lower().str.contains('rap',na=False)) | (wikidzanry['zanry'].str.lower().str.contains('hip',na=False))].groupby('interpret_hlavni').size() / wikidzanry.groupby('interpret_hlavni').size())\n",
    "hiphoperstvo2 = hiphoperstvo2[hiphoperstvo2 > 0.66].index.to_list()"
   ]
  },
  {
   "cell_type": "markdown",
   "id": "e60d7f1f",
   "metadata": {},
   "source": [
    "***Hiphoper je ten, jehož seznam žánrů obsahuje hiphop/rap alespoň ze 2/3.***"
   ]
  },
  {
   "cell_type": "code",
   "execution_count": 81,
   "id": "63760315",
   "metadata": {},
   "outputs": [],
   "source": [
    "vsichni_s_zanrem = wikidzanry[~wikidzanry['zanry'].isnull()]['interpret_hlavni'].drop_duplicates().to_list()"
   ]
  },
  {
   "cell_type": "code",
   "execution_count": 82,
   "id": "fb4f54cd",
   "metadata": {},
   "outputs": [],
   "source": [
    "def podil_hiphoperstva(tablica, jmeno):\n",
    "    tablica = tablica.copy()\n",
    "    return pd.Series(tablica[tablica['interpret_hlavni'].isin(hiphoperstvo2)].groupby('rok').size() / tablica[tablica['interpret_hlavni'].isin(vsichni_s_zanrem)].groupby('rok').size(), name=jmeno)"
   ]
  },
  {
   "cell_type": "code",
   "execution_count": 83,
   "id": "ab146051",
   "metadata": {},
   "outputs": [],
   "source": [
    "roky_hiphop = [x for x in range(2006,2024)]"
   ]
  },
  {
   "cell_type": "code",
   "execution_count": 84,
   "id": "536cae7b",
   "metadata": {},
   "outputs": [],
   "source": [
    "cz2 = pd.read_csv(os.path.join(\"data\",\"CZ_RADIO_TOP_100_tydenni.csv\"))"
   ]
  },
  {
   "cell_type": "code",
   "execution_count": 85,
   "id": "92dbbe43",
   "metadata": {},
   "outputs": [],
   "source": [
    "cz2['interpret_hlavni'] = cz2['interpret_hlavni'].apply(lambda x: nejmensispolecny(x))"
   ]
  },
  {
   "cell_type": "code",
   "execution_count": 86,
   "id": "a900fd18",
   "metadata": {},
   "outputs": [
    {
     "data": {
      "text/plain": [
       "interpret_hlavni\n",
       "black eyed peas     458\n",
       "eminem              271\n",
       "kid laroi           181\n",
       "flipsyde            163\n",
       "macklemore          150\n",
       "jay-z               121\n",
       "post malone         120\n",
       "t.i.                108\n",
       "stromae             106\n",
       "g-eazy               93\n",
       "nf                   83\n",
       "lunchmoney lewis     75\n",
       "lil nas x            70\n",
       "50 cent              64\n",
       "professor green      64\n",
       "wiz khalifa          63\n",
       "big ali              61\n",
       "fort minor           61\n",
       "mattafix             51\n",
       "24kgoldn             48\n",
       "dtype: int64"
      ]
     },
     "execution_count": 86,
     "metadata": {},
     "output_type": "execute_result"
    }
   ],
   "source": [
    "cz2[cz2['interpret_hlavni'].isin(hiphoperstvo2)].groupby('interpret_hlavni').size().nlargest(20)"
   ]
  },
  {
   "cell_type": "code",
   "execution_count": 87,
   "id": "0db00dba",
   "metadata": {},
   "outputs": [],
   "source": [
    "hiphop_cz = podil_hiphoperstva(cz2, \"TOP 100 ČR - rádio\").reindex(roky_hiphop)"
   ]
  },
  {
   "cell_type": "code",
   "execution_count": 88,
   "id": "547a5237",
   "metadata": {},
   "outputs": [],
   "source": [
    "hiphop_usa = podil_hiphoperstva(b100, \"TOP 100 Billboard\").reindex(roky_hiphop)"
   ]
  },
  {
   "cell_type": "code",
   "execution_count": 89,
   "id": "86f0cf65",
   "metadata": {},
   "outputs": [],
   "source": [
    "hiphop_stream = podil_hiphoperstva(stream, \"TOP 100 ČR - digital\").reindex(roky_hiphop)"
   ]
  },
  {
   "cell_type": "code",
   "execution_count": 90,
   "id": "a68012be",
   "metadata": {},
   "outputs": [
    {
     "ename": "ModuleNotFoundError",
     "evalue": "No module named 'highcharts_core'",
     "output_type": "error",
     "traceback": [
      "\u001b[1;31m---------------------------------------------------------------------------\u001b[0m",
      "\u001b[1;31mModuleNotFoundError\u001b[0m                       Traceback (most recent call last)",
      "Cell \u001b[1;32mIn[90], line 1\u001b[0m\n\u001b[1;32m----> 1\u001b[0m graf(carovy\u001b[38;5;241m=\u001b[39m[hiphop_cz, hiphop_stream, hiphop_usa], target\u001b[38;5;241m=\u001b[39m\u001b[38;5;124m\"\u001b[39m\u001b[38;5;124mhiphop\u001b[39m\u001b[38;5;124m\"\u001b[39m, titulek\u001b[38;5;241m=\u001b[39m\u001b[38;5;124m'\u001b[39m\u001b[38;5;124mHip hop lidé poslouchají online, v rádiu zní svátečně\u001b[39m\u001b[38;5;124m'\u001b[39m, podtitulek\u001b[38;5;241m=\u001b[39m\u001b[38;5;124mf\u001b[39m\u001b[38;5;124m'''\u001b[39m\u001b[38;5;124mPodíl interpretů hrajících hiphop a rap na všech hitparádových příčkách.\u001b[39m\u001b[38;5;124m'''\u001b[39m, kredity\u001b[38;5;241m=\u001b[39m[\u001b[38;5;124m\"\u001b[39m\u001b[38;5;124mZdroj dat: ČNS IFPI a Wikidata | Vizualizace: Michal Kašpárek, iROZHLAS.cz\u001b[39m\u001b[38;5;124m\"\u001b[39m,\u001b[38;5;124m\"\u001b[39m\u001b[38;5;124mhttps://www.irozhlas.cz/zpravy-tag/datova-zurnalistika\u001b[39m\u001b[38;5;124m\"\u001b[39m], prvni\u001b[38;5;241m=\u001b[39m\u001b[38;5;28;01mTrue\u001b[39;00m, osay\u001b[38;5;241m=\u001b[39m\u001b[38;5;124m'\u001b[39m\u001b[38;5;124m \u001b[39m\u001b[38;5;124m'\u001b[39m, osay2\u001b[38;5;241m=\u001b[39m\u001b[38;5;124m'\u001b[39m\u001b[38;5;124m \u001b[39m\u001b[38;5;124m'\u001b[39m, skladany\u001b[38;5;241m=\u001b[39m\u001b[38;5;28;01mFalse\u001b[39;00m, max_procenta\u001b[38;5;241m=\u001b[39m\u001b[38;5;241m50\u001b[39m, naopak\u001b[38;5;241m=\u001b[39m\u001b[38;5;28;01mFalse\u001b[39;00m, procenta\u001b[38;5;241m=\u001b[39m[hiphop_cz, hiphop_usa, hiphop_stream], skrytnuly\u001b[38;5;241m=\u001b[39m\u001b[38;5;28;01mTrue\u001b[39;00m)\n",
      "File \u001b[1;32m~\\projekty\\hitparady\\src\\graf.py:27\u001b[0m, in \u001b[0;36mgraf\u001b[1;34m(carovy, sloupcovy, vodorovny, procenta, skryte, barvy, histogram, max_procenta, target, titulek, podtitulek, osay, osay2, osaymin, osaymax, kredity, zaokrouhleni, prvni, skladany, naopak, vzhurunohama, skrytnuly)\u001b[0m\n\u001b[0;32m     25\u001b[0m \u001b[38;5;28;01mimport\u001b[39;00m \u001b[38;5;21;01mos\u001b[39;00m\n\u001b[0;32m     26\u001b[0m \u001b[38;5;28;01mimport\u001b[39;00m \u001b[38;5;21;01mpandas\u001b[39;00m \u001b[38;5;28;01mas\u001b[39;00m \u001b[38;5;21;01mpd\u001b[39;00m\n\u001b[1;32m---> 27\u001b[0m \u001b[38;5;28;01mfrom\u001b[39;00m \u001b[38;5;21;01mhighcharts_core\u001b[39;00m\u001b[38;5;21;01m.\u001b[39;00m\u001b[38;5;21;01mchart\u001b[39;00m \u001b[38;5;28;01mimport\u001b[39;00m Chart\n\u001b[0;32m     28\u001b[0m \u001b[38;5;28;01mfrom\u001b[39;00m \u001b[38;5;21;01mhighcharts_core\u001b[39;00m\u001b[38;5;21;01m.\u001b[39;00m\u001b[38;5;21;01moptions\u001b[39;00m\u001b[38;5;21;01m.\u001b[39;00m\u001b[38;5;21;01mseries\u001b[39;00m\u001b[38;5;21;01m.\u001b[39;00m\u001b[38;5;21;01marea\u001b[39;00m \u001b[38;5;28;01mimport\u001b[39;00m LineSeries\n\u001b[0;32m     29\u001b[0m \u001b[38;5;28;01mfrom\u001b[39;00m \u001b[38;5;21;01mhighcharts_core\u001b[39;00m\u001b[38;5;21;01m.\u001b[39;00m\u001b[38;5;21;01moptions\u001b[39;00m\u001b[38;5;21;01m.\u001b[39;00m\u001b[38;5;21;01mseries\u001b[39;00m\u001b[38;5;21;01m.\u001b[39;00m\u001b[38;5;21;01mbar\u001b[39;00m \u001b[38;5;28;01mimport\u001b[39;00m ColumnSeries\n",
      "\u001b[1;31mModuleNotFoundError\u001b[0m: No module named 'highcharts_core'"
     ]
    }
   ],
   "source": [
    "graf(carovy=[hiphop_cz, hiphop_stream, hiphop_usa], target=\"hiphop\", titulek='Hip hop lidé poslouchají online, v rádiu zní svátečně', podtitulek=f'''Podíl interpretů hrajících hiphop a rap na všech hitparádových příčkách.''', kredity=[\"Zdroj dat: ČNS IFPI a Wikidata | Vizualizace: Michal Kašpárek, iROZHLAS.cz\",\"https://www.irozhlas.cz/zpravy-tag/datova-zurnalistika\"], prvni=True, osay=' ', osay2=' ', skladany=False, max_procenta=50, naopak=False, procenta=[hiphop_cz, hiphop_usa, hiphop_stream], skrytnuly=True)"
   ]
  },
  {
   "cell_type": "markdown",
   "id": "c34366e4",
   "metadata": {},
   "source": [
    "## Odchylky stream x radio"
   ]
  },
  {
   "cell_type": "code",
   "execution_count": null,
   "id": "353f7532",
   "metadata": {},
   "outputs": [],
   "source": [
    "sr_pomer = {}\n",
    "for r in range(2015,2024):\n",
    "    pracovni_stream = stream[stream['rok'] == r]['interpret_hlavni'].drop_duplicates().to_list()\n",
    "    pracovni_radio = df[df['rok'] == r]['interpret_hlavni'].drop_duplicates().to_list()\n",
    "    sr = [x for x in pracovni_stream if x in pracovni_radio]\n",
    "    sr_pomer[r] = len(sr) / len(set(pracovni_stream + pracovni_radio))"
   ]
  },
  {
   "cell_type": "code",
   "execution_count": null,
   "id": "45ad5cc1",
   "metadata": {},
   "outputs": [],
   "source": [
    "sr_pomer = pd.Series(sr_pomer, name=\"Podíl interpretů, kteří se během roku objevili v rádiových i digitálních TOP 100\")\n",
    "sr_pomer"
   ]
  },
  {
   "cell_type": "code",
   "execution_count": null,
   "id": "6fcac86d",
   "metadata": {},
   "outputs": [],
   "source": [
    "graf(carovy=[sr_pomer], target=\"pomer_stream_radio\", titulek='Odluka vysílání od streamu', podtitulek=f'''Vkus hudebních dramaturgů a uživatelstva digitálních platforem se posledních devět let rozchází.''', kredity=[\"Zdroj dat: ČNS IFPI a Wikidata | Vizualizace: Michal Kašpárek, iROZHLAS.cz\",\"https://www.irozhlas.cz/zpravy-tag/datova-zurnalistika\"], prvni=True, osay=' ', osay2=' ', max_procenta=50, skladany=False, naopak=False, procenta=[sr_pomer], skrytnuly=True, barvy=[\"#fd7f6f\"])"
   ]
  }
 ],
 "metadata": {
  "kernelspec": {
   "display_name": "Python 3 (ipykernel)",
   "language": "python",
   "name": "python3"
  },
  "language_info": {
   "codemirror_mode": {
    "name": "ipython",
    "version": 3
   },
   "file_extension": ".py",
   "mimetype": "text/x-python",
   "name": "python",
   "nbconvert_exporter": "python",
   "pygments_lexer": "ipython3",
   "version": "3.11.5"
  }
 },
 "nbformat": 4,
 "nbformat_minor": 5
}
