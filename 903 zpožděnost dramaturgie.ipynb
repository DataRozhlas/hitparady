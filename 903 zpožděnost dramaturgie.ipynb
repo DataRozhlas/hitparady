{
 "cells": [
  {
   "cell_type": "markdown",
   "id": "4d45f3b6",
   "metadata": {},
   "source": [
    "Podklady pro články Anety Martínkové na iROZHLAS.cz v prosinci 2023."
   ]
  },
  {
   "cell_type": "code",
   "execution_count": 1,
   "id": "b88240f1",
   "metadata": {},
   "outputs": [],
   "source": [
    "import os\n",
    "import pandas as pd"
   ]
  },
  {
   "cell_type": "code",
   "execution_count": 2,
   "id": "f251ada4",
   "metadata": {},
   "outputs": [],
   "source": [
    "from src.tabulka import tabulka\n",
    "from src.graf import graf"
   ]
  },
  {
   "cell_type": "code",
   "execution_count": 3,
   "id": "b195ce71",
   "metadata": {},
   "outputs": [],
   "source": [
    "cz = pd.read_csv(os.path.join(\"data\",\"CZ_RADIO_TOP_100_tydenni.csv\"))"
   ]
  },
  {
   "cell_type": "code",
   "execution_count": 4,
   "id": "20fa35fe",
   "metadata": {},
   "outputs": [],
   "source": [
    "cz_interpreti = cz['interpret_hlavni'].drop_duplicates().to_list()"
   ]
  },
  {
   "cell_type": "markdown",
   "id": "6c766967",
   "metadata": {},
   "source": [
    "## vs. Billboard 100"
   ]
  },
  {
   "cell_type": "code",
   "execution_count": 5,
   "id": "dde110c7",
   "metadata": {},
   "outputs": [],
   "source": [
    "b100 = pd.read_csv(os.path.join(\"data_b100\",\"b100.csv\"))"
   ]
  },
  {
   "cell_type": "code",
   "execution_count": 6,
   "id": "6308e37e",
   "metadata": {},
   "outputs": [],
   "source": [
    "b100 = b100[b100['rok'] >= 2006]"
   ]
  },
  {
   "cell_type": "code",
   "execution_count": 7,
   "id": "4e3d0afa",
   "metadata": {},
   "outputs": [],
   "source": [
    "us_interpreti = b100['interpret_hlavni'].drop_duplicates().to_list()"
   ]
  },
  {
   "cell_type": "code",
   "execution_count": 8,
   "id": "7aafd465",
   "metadata": {},
   "outputs": [],
   "source": [
    "interpreti = cz_interpreti + us_interpreti"
   ]
  },
  {
   "cell_type": "code",
   "execution_count": 9,
   "id": "4ef7c572",
   "metadata": {},
   "outputs": [],
   "source": [
    "def nejmensispolecny(x):\n",
    "    x = x.lower().split('(')[0]\n",
    "    if x[0:3] == \"the\":\n",
    "        x = x.replace(\"the \",\"\")\n",
    "    return x"
   ]
  },
  {
   "cell_type": "code",
   "execution_count": 10,
   "id": "82d55ae2",
   "metadata": {},
   "outputs": [],
   "source": [
    "interpreti_slovnik = {}\n",
    "for i in interpreti:\n",
    "    malym = nejmensispolecny(i)\n",
    "    interpreti_slovnik[malym] = i"
   ]
  },
  {
   "cell_type": "code",
   "execution_count": 11,
   "id": "f855e3ca",
   "metadata": {},
   "outputs": [],
   "source": [
    "cz = cz.sort_values(by = ['rok','tyden','pozice'], ascending=True)"
   ]
  },
  {
   "cell_type": "code",
   "execution_count": 12,
   "id": "938c2df5",
   "metadata": {},
   "outputs": [],
   "source": [
    "cz['interpret_hlavni'] = cz['interpret_hlavni'].apply(lambda x: nejmensispolecny(x))\n",
    "cz['track'] = cz['track'].apply(lambda x: nejmensispolecny(x))"
   ]
  },
  {
   "cell_type": "code",
   "execution_count": 13,
   "id": "a6d0fd97",
   "metadata": {},
   "outputs": [],
   "source": [
    "cz['wk'] = cz['week'].rank(method='dense').astype(int)"
   ]
  },
  {
   "cell_type": "code",
   "execution_count": 14,
   "id": "d112fcbd",
   "metadata": {},
   "outputs": [],
   "source": [
    "b100['week'] = b100.apply(lambda row: f\"\"\"{row['rok']}-{row['tyden']:02}\"\"\", axis = 1)"
   ]
  },
  {
   "cell_type": "code",
   "execution_count": 15,
   "id": "8d87f582",
   "metadata": {},
   "outputs": [],
   "source": [
    "b100 = b100.rename(columns = {'song': 'track'})"
   ]
  },
  {
   "cell_type": "code",
   "execution_count": 16,
   "id": "a208db43",
   "metadata": {},
   "outputs": [],
   "source": [
    "b100['interpret_hlavni'] = b100['interpret_hlavni'].apply(lambda x: nejmensispolecny(x))\n",
    "b100['track'] = b100['track'].apply(lambda x: nejmensispolecny(x))"
   ]
  },
  {
   "cell_type": "code",
   "execution_count": 17,
   "id": "b0568569",
   "metadata": {},
   "outputs": [],
   "source": [
    "cz = cz.sort_values(by=\"week\")\n",
    "b100 = b100.sort_values(by=\"week\")"
   ]
  },
  {
   "cell_type": "code",
   "execution_count": 18,
   "id": "dbde5a77",
   "metadata": {},
   "outputs": [
    {
     "data": {
      "text/html": [
       "<div>\n",
       "<style scoped>\n",
       "    .dataframe tbody tr th:only-of-type {\n",
       "        vertical-align: middle;\n",
       "    }\n",
       "\n",
       "    .dataframe tbody tr th {\n",
       "        vertical-align: top;\n",
       "    }\n",
       "\n",
       "    .dataframe thead th {\n",
       "        text-align: right;\n",
       "    }\n",
       "</style>\n",
       "<table border=\"1\" class=\"dataframe\">\n",
       "  <thead>\n",
       "    <tr style=\"text-align: right;\">\n",
       "      <th></th>\n",
       "      <th>date</th>\n",
       "      <th>rank</th>\n",
       "      <th>track</th>\n",
       "      <th>artist</th>\n",
       "      <th>last-week</th>\n",
       "      <th>peak-rank</th>\n",
       "      <th>weeks-on-board</th>\n",
       "      <th>rok</th>\n",
       "      <th>datum</th>\n",
       "      <th>tyden</th>\n",
       "      <th>interpret_hlavni</th>\n",
       "      <th>week</th>\n",
       "    </tr>\n",
       "  </thead>\n",
       "  <tbody>\n",
       "    <tr>\n",
       "      <th>317414</th>\n",
       "      <td>2021-11-06</td>\n",
       "      <td>28</td>\n",
       "      <td>let's go brandon</td>\n",
       "      <td>Bryson Gray Featuring Tyson James &amp; Chandler C...</td>\n",
       "      <td>NaN</td>\n",
       "      <td>28</td>\n",
       "      <td>1</td>\n",
       "      <td>2021</td>\n",
       "      <td>11-06</td>\n",
       "      <td>45</td>\n",
       "      <td>bryson gray</td>\n",
       "      <td>2021-45</td>\n",
       "    </tr>\n",
       "    <tr>\n",
       "      <th>317413</th>\n",
       "      <td>2021-11-06</td>\n",
       "      <td>27</td>\n",
       "      <td>moth to a flame</td>\n",
       "      <td>Swedish House Mafia &amp; The Weeknd</td>\n",
       "      <td>NaN</td>\n",
       "      <td>27</td>\n",
       "      <td>1</td>\n",
       "      <td>2021</td>\n",
       "      <td>11-06</td>\n",
       "      <td>45</td>\n",
       "      <td>swedish house mafia</td>\n",
       "      <td>2021-45</td>\n",
       "    </tr>\n",
       "    <tr>\n",
       "      <th>317411</th>\n",
       "      <td>2021-11-06</td>\n",
       "      <td>25</td>\n",
       "      <td>chasing after you</td>\n",
       "      <td>Ryan Hurd With Maren Morris</td>\n",
       "      <td>25.0</td>\n",
       "      <td>23</td>\n",
       "      <td>26</td>\n",
       "      <td>2021</td>\n",
       "      <td>11-06</td>\n",
       "      <td>45</td>\n",
       "      <td>ryan hurd</td>\n",
       "      <td>2021-45</td>\n",
       "    </tr>\n",
       "    <tr>\n",
       "      <th>317422</th>\n",
       "      <td>2021-11-06</td>\n",
       "      <td>36</td>\n",
       "      <td>buy dirt</td>\n",
       "      <td>Jordan Davis Featuring Luke Bryan</td>\n",
       "      <td>34.0</td>\n",
       "      <td>34</td>\n",
       "      <td>12</td>\n",
       "      <td>2021</td>\n",
       "      <td>11-06</td>\n",
       "      <td>45</td>\n",
       "      <td>jordan davis</td>\n",
       "      <td>2021-45</td>\n",
       "    </tr>\n",
       "    <tr>\n",
       "      <th>317486</th>\n",
       "      <td>2021-11-06</td>\n",
       "      <td>100</td>\n",
       "      <td>nevada</td>\n",
       "      <td>YoungBoy Never Broke Again</td>\n",
       "      <td>NaN</td>\n",
       "      <td>58</td>\n",
       "      <td>4</td>\n",
       "      <td>2021</td>\n",
       "      <td>11-06</td>\n",
       "      <td>45</td>\n",
       "      <td>youngboy never broke again</td>\n",
       "      <td>2021-45</td>\n",
       "    </tr>\n",
       "  </tbody>\n",
       "</table>\n",
       "</div>"
      ],
      "text/plain": [
       "              date  rank              track  \\\n",
       "317414  2021-11-06    28   let's go brandon   \n",
       "317413  2021-11-06    27    moth to a flame   \n",
       "317411  2021-11-06    25  chasing after you   \n",
       "317422  2021-11-06    36           buy dirt   \n",
       "317486  2021-11-06   100             nevada   \n",
       "\n",
       "                                                   artist  last-week  \\\n",
       "317414  Bryson Gray Featuring Tyson James & Chandler C...        NaN   \n",
       "317413                   Swedish House Mafia & The Weeknd        NaN   \n",
       "317411                        Ryan Hurd With Maren Morris       25.0   \n",
       "317422                  Jordan Davis Featuring Luke Bryan       34.0   \n",
       "317486                         YoungBoy Never Broke Again        NaN   \n",
       "\n",
       "        peak-rank  weeks-on-board   rok  datum  tyden  \\\n",
       "317414         28               1  2021  11-06     45   \n",
       "317413         27               1  2021  11-06     45   \n",
       "317411         23              26  2021  11-06     45   \n",
       "317422         34              12  2021  11-06     45   \n",
       "317486         58               4  2021  11-06     45   \n",
       "\n",
       "                  interpret_hlavni     week  \n",
       "317414                 bryson gray  2021-45  \n",
       "317413         swedish house mafia  2021-45  \n",
       "317411                   ryan hurd  2021-45  \n",
       "317422                jordan davis  2021-45  \n",
       "317486  youngboy never broke again  2021-45  "
      ]
     },
     "execution_count": 18,
     "metadata": {},
     "output_type": "execute_result"
    }
   ],
   "source": [
    "b100.tail()"
   ]
  },
  {
   "cell_type": "code",
   "execution_count": 19,
   "id": "dac5a22d",
   "metadata": {},
   "outputs": [],
   "source": [
    "cz = cz[cz['week'] <= '2021-45']"
   ]
  },
  {
   "cell_type": "code",
   "execution_count": 20,
   "id": "2d7509ff",
   "metadata": {},
   "outputs": [
    {
     "data": {
      "text/plain": [
       "['2006-51',\n",
       " '2007-52',\n",
       " '2009-51',\n",
       " '2010-50',\n",
       " '2011-26',\n",
       " '2011-51',\n",
       " '2011-53',\n",
       " '2012-52',\n",
       " '2013-52',\n",
       " '2014-33',\n",
       " '2014-51',\n",
       " '2015-52',\n",
       " '2016-51',\n",
       " '2016-53',\n",
       " '2017-51',\n",
       " '2018-08',\n",
       " '2018-51',\n",
       " '2019-30',\n",
       " '2020-01']"
      ]
     },
     "execution_count": 20,
     "metadata": {},
     "output_type": "execute_result"
    }
   ],
   "source": [
    "[x for x in b100['week'].drop_duplicates().to_list() if x not in cz['week'].drop_duplicates().to_list()]"
   ]
  },
  {
   "cell_type": "markdown",
   "id": "6677ee72",
   "metadata": {},
   "source": [
    "Pozor, seznamy týdnů se úplně nepřekrývají, srovnání může lítat o týden."
   ]
  },
  {
   "cell_type": "markdown",
   "id": "46adc915",
   "metadata": {},
   "source": [
    "### Porovnání interpretů"
   ]
  },
  {
   "cell_type": "code",
   "execution_count": 21,
   "id": "f7c57219",
   "metadata": {},
   "outputs": [],
   "source": [
    "am_jednicky = pd.Series(b100[b100['rank'] == 1].groupby('interpret_hlavni')['track'].nunique())\n",
    "am_jednicky = am_jednicky[am_jednicky >= 3]\n",
    "am_jednicky = am_jednicky.index.to_list()"
   ]
  },
  {
   "cell_type": "code",
   "execution_count": 22,
   "id": "2999056b",
   "metadata": {},
   "outputs": [
    {
     "data": {
      "text/plain": [
       "['adele',\n",
       " 'ariana grande',\n",
       " 'beyoncé',\n",
       " 'black eyed peas',\n",
       " 'britney spears',\n",
       " 'bruno mars',\n",
       " 'bts',\n",
       " 'cardi b',\n",
       " 'drake',\n",
       " 'eminem',\n",
       " 'fergie',\n",
       " 'flo rida',\n",
       " 'justin bieber',\n",
       " 'justin timberlake',\n",
       " 'katy perry',\n",
       " 'lady gaga',\n",
       " 'mariah carey',\n",
       " 'maroon 5',\n",
       " 'p!nk',\n",
       " 'post malone',\n",
       " 'rihanna',\n",
       " 'taylor swift',\n",
       " 'travis scott',\n",
       " 'weeknd']"
      ]
     },
     "execution_count": 22,
     "metadata": {},
     "output_type": "execute_result"
    }
   ],
   "source": [
    "am_jednicky"
   ]
  },
  {
   "cell_type": "code",
   "execution_count": 23,
   "id": "ef691fb8",
   "metadata": {},
   "outputs": [],
   "source": [
    "americke_jednicky = b100[b100['rank'] == 1]['interpret_hlavni'].drop_duplicates().to_list()"
   ]
  },
  {
   "cell_type": "code",
   "execution_count": 24,
   "id": "959277e4",
   "metadata": {},
   "outputs": [],
   "source": [
    "americke_jednicky_v_cesku = pd.Series(cz[cz['interpret_hlavni'].isin(am_jednicky)].groupby('interpret_hlavni')['pozice'].min().reindex(am_jednicky).sort_values())"
   ]
  },
  {
   "cell_type": "code",
   "execution_count": 25,
   "id": "398bfe67",
   "metadata": {},
   "outputs": [],
   "source": [
    "americke_jednicky_v_cesku = pd.DataFrame(americke_jednicky_v_cesku[americke_jednicky_v_cesku != 1]).reset_index().rename(columns = {'interpret_hlavni':'Interpreti','pozice':'#'}).replace({\"Interpreti\": interpreti_slovnik})"
   ]
  },
  {
   "cell_type": "code",
   "execution_count": 26,
   "id": "15db78b8",
   "metadata": {},
   "outputs": [
    {
     "data": {
      "text/plain": [
       "'<table class=\"dataframe table table--responsive table--w100p table--striped-red table--plain\"><caption>V USA 2× nebo víckrát jedničkou, v Česku pod vrcholem</caption><thead><tr style=\"text-align: right;\"><th class=\"text-nowrap\">Interpreti</th><th class=\"text-nowrap\">#</th></tr></thead><tbody class=\"text-sm\"><tr><td>Maroon 5</td><td>2.0</td></tr><tr><td>Beyoncé</td><td>2.0</td></tr><tr><td>Eminem</td><td>2.0</td></tr><tr><td>Ariana Grande</td><td>5.0</td></tr><tr><td>Britney Spears</td><td>6.0</td></tr><tr><td>Post Malone</td><td>7.0</td></tr><tr><td>Mariah Carey</td><td>11.0</td></tr><tr><td>Drake</td><td>26.0</td></tr><tr><td>Cardi B</td><td>44.0</td></tr><tr><td>BTS</td><td>NaN</td></tr><tr><td>Travis Scott</td><td>NaN</td></tr></tbody><tfoot><tr style=\"text-align: center;\"><td colspan=2>Data z Billboard 100 jsou od roku 2006 do podzimu 2021, česká data do listopadu 2023.</td></tr></tfoot></table>'"
      ]
     },
     "execution_count": 26,
     "metadata": {},
     "output_type": "execute_result"
    }
   ],
   "source": [
    "tabulka(americke_jednicky_v_cesku,titulek='V USA 2× nebo víckrát jedničkou, v Česku pod vrcholem', podtitulek='Data z Billboard 100 jsou od roku 2006 do podzimu 2021, česká data do listopadu 2023.')"
   ]
  },
  {
   "cell_type": "markdown",
   "id": "65d3b9cd",
   "metadata": {},
   "source": [
    "## vs. stream"
   ]
  },
  {
   "cell_type": "code",
   "execution_count": 27,
   "id": "2af9a708",
   "metadata": {},
   "outputs": [],
   "source": [
    "df = pd.read_csv(os.path.join(\"data\",\"CZ_RADIO_TOP_100_tydenni.csv\"))\n",
    "df['week'] = df.apply(lambda x: f\"\"\"{x['rok']}-{x['tyden']}\"\"\", axis = 1)\n",
    "df = df[df['rok'] >= 2015]"
   ]
  },
  {
   "cell_type": "code",
   "execution_count": 28,
   "id": "cb8f6f87",
   "metadata": {},
   "outputs": [],
   "source": [
    "df['track'] = df['track'].apply(lambda x: nejmensispolecny(x))\n",
    "df['interpret_hlavni'] = df['interpret_hlavni'].apply(lambda x: nejmensispolecny(x))"
   ]
  },
  {
   "cell_type": "code",
   "execution_count": 29,
   "id": "61935212",
   "metadata": {},
   "outputs": [],
   "source": [
    "stream = pd.read_csv(os.path.join(\"data\",\"CZ_SINGLES_DIGITAL_TOP_100_tydenni.csv\"))\n",
    "stream = stream[stream['rok'] >= 2015]\n",
    "stream['week'] = stream.apply(lambda x: f\"\"\"{x['rok']}-{x['tyden']}\"\"\", axis = 1)"
   ]
  },
  {
   "cell_type": "code",
   "execution_count": 30,
   "id": "e6448ac4",
   "metadata": {},
   "outputs": [],
   "source": [
    "stream_interpreti = stream['interpret_hlavni'].drop_duplicates().to_list()"
   ]
  },
  {
   "cell_type": "code",
   "execution_count": 31,
   "id": "92671419",
   "metadata": {},
   "outputs": [],
   "source": [
    "for s in stream_interpreti:\n",
    "    malym = nejmensispolecny(s)\n",
    "    interpreti_slovnik[malym] = s"
   ]
  },
  {
   "cell_type": "code",
   "execution_count": 32,
   "id": "fa16ae1f",
   "metadata": {},
   "outputs": [],
   "source": [
    "interpreti = interpreti + stream_interpreti"
   ]
  },
  {
   "cell_type": "code",
   "execution_count": 33,
   "id": "04265ef4",
   "metadata": {},
   "outputs": [],
   "source": [
    "stream['track'] = stream['track'].apply(lambda x: nejmensispolecny(x))\n",
    "stream['interpret_hlavni'] = stream['interpret_hlavni'].apply(lambda x: nejmensispolecny(x))"
   ]
  },
  {
   "cell_type": "code",
   "execution_count": 34,
   "id": "44a6c3bd",
   "metadata": {},
   "outputs": [],
   "source": [
    "df['w'] = df['week'].rank(method='dense').astype(int)"
   ]
  },
  {
   "cell_type": "code",
   "execution_count": 35,
   "id": "e17acac8",
   "metadata": {},
   "outputs": [],
   "source": [
    "stream['w'] = stream['week'].rank(method='dense').astype(int)"
   ]
  },
  {
   "cell_type": "markdown",
   "id": "71fb1a8a",
   "metadata": {},
   "source": [
    "### Porovnání písní: která bodovala dřív online (-) a která v rádiu (+)"
   ]
  },
  {
   "cell_type": "code",
   "execution_count": 36,
   "id": "dab73d5a",
   "metadata": {},
   "outputs": [],
   "source": [
    "jednicky_radio = df[df['pozice'] == 1].groupby(['interpret_hlavni','track'])['w'].min()"
   ]
  },
  {
   "cell_type": "code",
   "execution_count": 37,
   "id": "0146679e",
   "metadata": {},
   "outputs": [],
   "source": [
    "jednicky_stream = stream[stream['pozice'] == 1].groupby(['interpret_hlavni','track'])['w'].min()"
   ]
  },
  {
   "cell_type": "code",
   "execution_count": 38,
   "id": "8a4dee67",
   "metadata": {},
   "outputs": [
    {
     "data": {
      "text/plain": [
       "interpret_hlavni  track         \n",
       "24kgoldn          mood              286\n",
       "6ix9ine           gooba             267\n",
       "adele             easy on me        343\n",
       "                  hello              39\n",
       "alan walker       faded              60\n",
       "                                   ... \n",
       "yzomandias        designer flow     296\n",
       "                  free karlo        398\n",
       "                  rodinnej typ      354\n",
       "                  rolls             282\n",
       "zayn              dusk till dawn    140\n",
       "Name: w, Length: 96, dtype: int32"
      ]
     },
     "execution_count": 38,
     "metadata": {},
     "output_type": "execute_result"
    }
   ],
   "source": [
    "jednicky_stream"
   ]
  },
  {
   "cell_type": "code",
   "execution_count": 39,
   "id": "83ed364f",
   "metadata": {},
   "outputs": [
    {
     "data": {
      "text/plain": [
       "interpret_hlavni   track            \n",
       "imagine dragons    bad liar            -53.0\n",
       "hozier             take me to church   -33.0\n",
       "twenty one pilots  heathens            -15.0\n",
       "ed sheeran         i don't care        -13.0\n",
       "shawn mendes       senorita            -12.0\n",
       "Name: w, dtype: float64"
      ]
     },
     "execution_count": 39,
     "metadata": {},
     "output_type": "execute_result"
    }
   ],
   "source": [
    "(jednicky_stream - jednicky_radio).dropna().sort_values().head()"
   ]
  },
  {
   "cell_type": "code",
   "execution_count": 40,
   "id": "27dd7302",
   "metadata": {},
   "outputs": [
    {
     "data": {
      "text/plain": [
       "interpret_hlavni  track              \n",
       "justin bieber     love yourself          -1.0\n",
       "ed sheeran        shape of you            0.0\n",
       "alan walker       faded                   0.0\n",
       "ellie goulding    love me like you do     0.0\n",
       "ava max           sweet but psycho       11.0\n",
       "Name: w, dtype: float64"
      ]
     },
     "execution_count": 40,
     "metadata": {},
     "output_type": "execute_result"
    }
   ],
   "source": [
    "(jednicky_stream - jednicky_radio).dropna().sort_values().tail()"
   ]
  },
  {
   "cell_type": "code",
   "execution_count": 41,
   "id": "33309e26",
   "metadata": {},
   "outputs": [
    {
     "data": {
      "text/plain": [
       "-9.666666666666666"
      ]
     },
     "execution_count": 41,
     "metadata": {},
     "output_type": "execute_result"
    }
   ],
   "source": [
    "(jednicky_stream - jednicky_radio).dropna().mean()"
   ]
  },
  {
   "cell_type": "code",
   "execution_count": 42,
   "id": "7b705450",
   "metadata": {},
   "outputs": [
    {
     "data": {
      "text/plain": [
       "interpret_hlavni  track               \n",
       "ed sheeran        happier                -87.0\n",
       "sam smith         too good at goodbyes   -67.0\n",
       "shawn mendes      stitches               -61.0\n",
       "justin bieber     sorry                  -58.0\n",
       "billie eilish     therefore i am         -58.0\n",
       "                                          ... \n",
       "julia michaels    issues                  28.0\n",
       "alan walker       alone                   31.0\n",
       "ofenbach          katchi                  38.0\n",
       "sheppard          geronimo                44.0\n",
       "david guetta      dangerous               44.0\n",
       "Name: w, Length: 167, dtype: float64"
      ]
     },
     "execution_count": 42,
     "metadata": {},
     "output_type": "execute_result"
    }
   ],
   "source": [
    "dodeseti_radio = df[df['pozice'] <= 10].groupby(['interpret_hlavni','track'])['w'].min()\n",
    "dodeseti_stream = stream[stream['pozice'] <= 10].groupby(['interpret_hlavni','track'])['w'].min()\n",
    "(dodeseti_stream - dodeseti_radio).dropna().sort_values()"
   ]
  },
  {
   "cell_type": "code",
   "execution_count": 43,
   "id": "300d33dc",
   "metadata": {},
   "outputs": [
    {
     "data": {
      "text/plain": [
       "-9.479041916167665"
      ]
     },
     "execution_count": 43,
     "metadata": {},
     "output_type": "execute_result"
    }
   ],
   "source": [
    "(dodeseti_stream - dodeseti_radio).dropna().mean()"
   ]
  },
  {
   "cell_type": "code",
   "execution_count": 44,
   "id": "db9f7c9e",
   "metadata": {},
   "outputs": [
    {
     "data": {
      "text/plain": [
       "-9.0"
      ]
     },
     "execution_count": 44,
     "metadata": {},
     "output_type": "execute_result"
    }
   ],
   "source": [
    "(dodeseti_stream - dodeseti_radio).dropna().median()"
   ]
  },
  {
   "cell_type": "code",
   "execution_count": 45,
   "id": "ffe7904d",
   "metadata": {},
   "outputs": [
    {
     "data": {
      "text/plain": [
       "interpret_hlavni  track                    \n",
       "taylor swift      cruel summer                -204.0\n",
       "jubel             dancing in the moonlight    -103.0\n",
       "martin garrix     high on life                 -98.0\n",
       "ed sheeran        happier                      -69.0\n",
       "p!nk              just give me a reason        -65.0\n",
       "                                               ...  \n",
       "coldplay          viva la vida                 263.0\n",
       "olga lounová      jsem optimista               313.0\n",
       "jelen             magdaléna                    363.0\n",
       "kabát             western boogie               378.0\n",
       "amy macdonald     this is the life             411.0\n",
       "Name: w, Length: 874, dtype: float64"
      ]
     },
     "execution_count": 45,
     "metadata": {},
     "output_type": "execute_result"
    }
   ],
   "source": [
    "dosta_radio = df[df['pozice'] <= 100].groupby(['interpret_hlavni','track'])['w'].min()\n",
    "dosta_stream = stream[stream['pozice'] <= 100].groupby(['interpret_hlavni','track'])['w'].min()\n",
    "(dosta_stream - dosta_radio).dropna().sort_values()"
   ]
  },
  {
   "cell_type": "code",
   "execution_count": 46,
   "id": "a3878d00",
   "metadata": {},
   "outputs": [
    {
     "data": {
      "text/plain": [
       "-1.1418764302059496"
      ]
     },
     "execution_count": 46,
     "metadata": {},
     "output_type": "execute_result"
    }
   ],
   "source": [
    "(dosta_stream - dosta_radio).dropna().mean()"
   ]
  },
  {
   "cell_type": "code",
   "execution_count": 47,
   "id": "e7836aa3",
   "metadata": {},
   "outputs": [
    {
     "data": {
      "text/plain": [
       "-4.0"
      ]
     },
     "execution_count": 47,
     "metadata": {},
     "output_type": "execute_result"
    }
   ],
   "source": [
    "(dosta_stream - dosta_radio).dropna().median()"
   ]
  },
  {
   "cell_type": "markdown",
   "id": "ac2230fa",
   "metadata": {},
   "source": [
    "Polovina písniček je o 4 týdny nebo více dřív populární online než v rádiu."
   ]
  },
  {
   "cell_type": "markdown",
   "id": "28d3a702",
   "metadata": {},
   "source": [
    "### co lidé stahují a streamují vs. co hrají djové v rádiu"
   ]
  },
  {
   "cell_type": "code",
   "execution_count": 48,
   "id": "766aa38e",
   "metadata": {},
   "outputs": [],
   "source": [
    "radio = pd.read_csv(os.path.join(\"data\",\"CZ_RADIO_TOP_100_tydenni.csv\"))"
   ]
  },
  {
   "cell_type": "code",
   "execution_count": 49,
   "id": "755194be",
   "metadata": {},
   "outputs": [
    {
     "data": {
      "text/plain": [
       "2015"
      ]
     },
     "execution_count": 49,
     "metadata": {},
     "output_type": "execute_result"
    }
   ],
   "source": [
    "stream['rok'].min()"
   ]
  },
  {
   "cell_type": "code",
   "execution_count": 50,
   "id": "7caddcd4",
   "metadata": {},
   "outputs": [],
   "source": [
    "radio = radio[radio['rok'] >= stream['rok'].min()]"
   ]
  },
  {
   "cell_type": "code",
   "execution_count": 51,
   "id": "cd1d56a1",
   "metadata": {},
   "outputs": [],
   "source": [
    "radio['interpret_hlavni'] = radio['interpret_hlavni'].apply(lambda x: nejmensispolecny(x))"
   ]
  },
  {
   "cell_type": "markdown",
   "id": "a45f3a29",
   "metadata": {},
   "source": [
    "#### Porovnání výskytů interpretů v top 100 rádio vs. stream od roku 2014"
   ]
  },
  {
   "cell_type": "code",
   "execution_count": 52,
   "id": "804ac48f",
   "metadata": {},
   "outputs": [
    {
     "data": {
      "text/plain": [
       "interpret_hlavni\n",
       "mirai              1180\n",
       "kryštof             872\n",
       "marek ztracený      817\n",
       "chinaski            786\n",
       "slza                746\n",
       "ed sheeran          666\n",
       "xindl x             650\n",
       "imagine dragons     592\n",
       "robin schulz        492\n",
       "alvaro soler        463\n",
       "dtype: int64"
      ]
     },
     "execution_count": 52,
     "metadata": {},
     "output_type": "execute_result"
    }
   ],
   "source": [
    "radio.groupby('interpret_hlavni').size().nlargest(10)"
   ]
  },
  {
   "cell_type": "code",
   "execution_count": 53,
   "id": "378a89d7",
   "metadata": {},
   "outputs": [
    {
     "data": {
      "text/plain": [
       "interpret_hlavni\n",
       "viktor sheen       1753\n",
       "imagine dragons    1377\n",
       "ed sheeran         1212\n",
       "calin              1072\n",
       "yzomandias          978\n",
       "weeknd              700\n",
       "nik tendo           695\n",
       "kygo                623\n",
       "ektor               531\n",
       "chainsmokers        527\n",
       "dtype: int64"
      ]
     },
     "execution_count": 53,
     "metadata": {},
     "output_type": "execute_result"
    }
   ],
   "source": [
    "stream.groupby('interpret_hlavni').size().nlargest(10)"
   ]
  },
  {
   "cell_type": "code",
   "execution_count": 54,
   "id": "6204c5a5",
   "metadata": {},
   "outputs": [],
   "source": [
    "pomer = (radio.groupby('interpret_hlavni').size() / stream.groupby('interpret_hlavni').size()).sort_values()\n",
    "hvezdy_streamu = pd.DataFrame(pomer).reset_index().rename(columns={'interpret_hlavni':'Interpreti',0:'Poměr stream/rádio'}).head(10).replace({\"Interpreti\": interpreti_slovnik})\n",
    "hvezdy_streamu['Poměr stream/rádio'] = 1 / hvezdy_streamu['Poměr stream/rádio']\n",
    "hvezdy_streamu['Poměr stream/rádio'] = hvezdy_streamu['Poměr stream/rádio'].apply(lambda x: f\"\"\"{int(x)}×\"\"\")\n",
    "hvezdy_radia = pd.DataFrame(pomer.nlargest(10)).reset_index().rename(columns={'interpret_hlavni':'Interpreti',0:'Poměr rádio/stream'}).replace({\"Interpreti\": interpreti_slovnik})\n",
    "hvezdy_radia['Poměr rádio/stream'] = hvezdy_radia['Poměr rádio/stream'].apply(lambda x: f\"\"\"{int(x)}×\"\"\")"
   ]
  },
  {
   "cell_type": "code",
   "execution_count": 55,
   "id": "f049eda9",
   "metadata": {},
   "outputs": [
    {
     "data": {
      "text/html": [
       "<div>\n",
       "<style scoped>\n",
       "    .dataframe tbody tr th:only-of-type {\n",
       "        vertical-align: middle;\n",
       "    }\n",
       "\n",
       "    .dataframe tbody tr th {\n",
       "        vertical-align: top;\n",
       "    }\n",
       "\n",
       "    .dataframe thead th {\n",
       "        text-align: right;\n",
       "    }\n",
       "</style>\n",
       "<table border=\"1\" class=\"dataframe\">\n",
       "  <thead>\n",
       "    <tr style=\"text-align: right;\">\n",
       "      <th></th>\n",
       "      <th>Interpreti</th>\n",
       "      <th>Poměr stream/rádio</th>\n",
       "    </tr>\n",
       "  </thead>\n",
       "  <tbody>\n",
       "    <tr>\n",
       "      <th>0</th>\n",
       "      <td>Calin</td>\n",
       "      <td>63×</td>\n",
       "    </tr>\n",
       "    <tr>\n",
       "      <th>1</th>\n",
       "      <td>James Hype</td>\n",
       "      <td>60×</td>\n",
       "    </tr>\n",
       "    <tr>\n",
       "      <th>2</th>\n",
       "      <td>Ben Cristovao</td>\n",
       "      <td>40×</td>\n",
       "    </tr>\n",
       "    <tr>\n",
       "      <th>3</th>\n",
       "      <td>Echosmith</td>\n",
       "      <td>37×</td>\n",
       "    </tr>\n",
       "    <tr>\n",
       "      <th>4</th>\n",
       "      <td>Matoma</td>\n",
       "      <td>37×</td>\n",
       "    </tr>\n",
       "    <tr>\n",
       "      <th>5</th>\n",
       "      <td>Passenger</td>\n",
       "      <td>31×</td>\n",
       "    </tr>\n",
       "    <tr>\n",
       "      <th>6</th>\n",
       "      <td>Rema</td>\n",
       "      <td>30×</td>\n",
       "    </tr>\n",
       "    <tr>\n",
       "      <th>7</th>\n",
       "      <td>Rae Sremmurd</td>\n",
       "      <td>25×</td>\n",
       "    </tr>\n",
       "    <tr>\n",
       "      <th>8</th>\n",
       "      <td>Kapitán Demo</td>\n",
       "      <td>23×</td>\n",
       "    </tr>\n",
       "    <tr>\n",
       "      <th>9</th>\n",
       "      <td>Marc E. Bassy</td>\n",
       "      <td>21×</td>\n",
       "    </tr>\n",
       "  </tbody>\n",
       "</table>\n",
       "</div>"
      ],
      "text/plain": [
       "      Interpreti Poměr stream/rádio\n",
       "0          Calin                63×\n",
       "1     James Hype                60×\n",
       "2  Ben Cristovao                40×\n",
       "3      Echosmith                37×\n",
       "4         Matoma                37×\n",
       "5      Passenger                31×\n",
       "6           Rema                30×\n",
       "7   Rae Sremmurd                25×\n",
       "8   Kapitán Demo                23×\n",
       "9  Marc E. Bassy                21×"
      ]
     },
     "execution_count": 55,
     "metadata": {},
     "output_type": "execute_result"
    }
   ],
   "source": [
    "hvezdy_streamu"
   ]
  },
  {
   "cell_type": "code",
   "execution_count": 56,
   "id": "74ca8fb4",
   "metadata": {},
   "outputs": [
    {
     "data": {
      "text/plain": [
       "'<table class=\"dataframe table table--responsive table--w100p table--striped-red table--plain\"><caption>Koho lidé výrazně častěji poslouchají online než slyší v rádiu</caption><thead><tr style=\"text-align: right;\"><th class=\"text-nowrap\">Interpreti</th><th class=\"text-nowrap\">Poměr stream/rádio</th></tr></thead><tbody class=\"text-sm\"><tr><td>Calin</td><td>63×</td></tr><tr><td>James Hype</td><td>60×</td></tr><tr><td>Ben Cristovao</td><td>40×</td></tr><tr><td>Echosmith</td><td>37×</td></tr><tr><td>Matoma</td><td>37×</td></tr><tr><td>Passenger</td><td>31×</td></tr><tr><td>Rema</td><td>30×</td></tr><tr><td>Rae Sremmurd</td><td>25×</td></tr><tr><td>Kapitán Demo</td><td>23×</td></tr><tr><td>Marc E. Bassy</td><td>21×</td></tr></tbody><tfoot><tr style=\"text-align: center;\"><td colspan=2>Srovnání žebříčků top 100 radio a top 100 digital od roku 2015. Číslo vyjadřuje poměr mezi týdny v online a rádiových hitparádách.</td></tr></tfoot></table>'"
      ]
     },
     "execution_count": 56,
     "metadata": {},
     "output_type": "execute_result"
    }
   ],
   "source": [
    "tabulka(hvezdy_streamu, titulek=\"Koho lidé výrazně častěji poslouchají online než slyší v rádiu\", podtitulek=\"Srovnání žebříčků top 100 radio a top 100 digital od roku 2015. Číslo vyjadřuje poměr mezi týdny v online a rádiových hitparádách.\")"
   ]
  },
  {
   "cell_type": "code",
   "execution_count": 57,
   "id": "69473d8d",
   "metadata": {},
   "outputs": [
    {
     "data": {
      "text/html": [
       "<div>\n",
       "<style scoped>\n",
       "    .dataframe tbody tr th:only-of-type {\n",
       "        vertical-align: middle;\n",
       "    }\n",
       "\n",
       "    .dataframe tbody tr th {\n",
       "        vertical-align: top;\n",
       "    }\n",
       "\n",
       "    .dataframe thead th {\n",
       "        text-align: right;\n",
       "    }\n",
       "</style>\n",
       "<table border=\"1\" class=\"dataframe\">\n",
       "  <thead>\n",
       "    <tr style=\"text-align: right;\">\n",
       "      <th></th>\n",
       "      <th>Interpreti</th>\n",
       "      <th>Poměr rádio/stream</th>\n",
       "    </tr>\n",
       "  </thead>\n",
       "  <tbody>\n",
       "    <tr>\n",
       "      <th>0</th>\n",
       "      <td>Poetika</td>\n",
       "      <td>160×</td>\n",
       "    </tr>\n",
       "    <tr>\n",
       "      <th>1</th>\n",
       "      <td>Tomáš Klus</td>\n",
       "      <td>80×</td>\n",
       "    </tr>\n",
       "    <tr>\n",
       "      <th>2</th>\n",
       "      <td>Purple Disco Machine</td>\n",
       "      <td>74×</td>\n",
       "    </tr>\n",
       "    <tr>\n",
       "      <th>3</th>\n",
       "      <td>Imany</td>\n",
       "      <td>65×</td>\n",
       "    </tr>\n",
       "    <tr>\n",
       "      <th>4</th>\n",
       "      <td>David Stypka</td>\n",
       "      <td>63×</td>\n",
       "    </tr>\n",
       "    <tr>\n",
       "      <th>5</th>\n",
       "      <td>Bastille</td>\n",
       "      <td>59×</td>\n",
       "    </tr>\n",
       "    <tr>\n",
       "      <th>6</th>\n",
       "      <td>Voxel</td>\n",
       "      <td>57×</td>\n",
       "    </tr>\n",
       "    <tr>\n",
       "      <th>7</th>\n",
       "      <td>Robbie Williams</td>\n",
       "      <td>57×</td>\n",
       "    </tr>\n",
       "    <tr>\n",
       "      <th>8</th>\n",
       "      <td>Lake Malawi</td>\n",
       "      <td>54×</td>\n",
       "    </tr>\n",
       "    <tr>\n",
       "      <th>9</th>\n",
       "      <td>Avril Lavigne</td>\n",
       "      <td>49×</td>\n",
       "    </tr>\n",
       "  </tbody>\n",
       "</table>\n",
       "</div>"
      ],
      "text/plain": [
       "             Interpreti Poměr rádio/stream\n",
       "0               Poetika               160×\n",
       "1            Tomáš Klus                80×\n",
       "2  Purple Disco Machine                74×\n",
       "3                 Imany                65×\n",
       "4          David Stypka                63×\n",
       "5              Bastille                59×\n",
       "6                 Voxel                57×\n",
       "7       Robbie Williams                57×\n",
       "8           Lake Malawi                54×\n",
       "9         Avril Lavigne                49×"
      ]
     },
     "execution_count": 57,
     "metadata": {},
     "output_type": "execute_result"
    }
   ],
   "source": [
    "hvezdy_radia"
   ]
  },
  {
   "cell_type": "code",
   "execution_count": 58,
   "id": "1ccffa14",
   "metadata": {},
   "outputs": [
    {
     "data": {
      "text/plain": [
       "'<table class=\"dataframe table table--responsive table--w100p table--striped-red table--plain\"><caption>Co lidé výrazně častěji slyší v rádiu než poslouchají online</caption><thead><tr style=\"text-align: right;\"><th class=\"text-nowrap\">Interpreti</th><th class=\"text-nowrap\">Poměr rádio/stream</th></tr></thead><tbody class=\"text-sm\"><tr><td>Poetika</td><td>160×</td></tr><tr><td>Tomáš Klus</td><td>80×</td></tr><tr><td>Purple Disco Machine</td><td>74×</td></tr><tr><td>Imany</td><td>65×</td></tr><tr><td>David Stypka</td><td>63×</td></tr><tr><td>Bastille</td><td>59×</td></tr><tr><td>Voxel</td><td>57×</td></tr><tr><td>Robbie Williams</td><td>57×</td></tr><tr><td>Lake Malawi</td><td>54×</td></tr><tr><td>Avril Lavigne</td><td>49×</td></tr></tbody><tfoot><tr style=\"text-align: center;\"><td colspan=2>Srovnání žebříčků top 100 radio a top 100 digital od roku 2015. Číslo vyjadřuje poměr mezi týdny v rádiových a online hitparádách.</td></tr></tfoot></table>'"
      ]
     },
     "execution_count": 58,
     "metadata": {},
     "output_type": "execute_result"
    }
   ],
   "source": [
    "tabulka(hvezdy_radia, titulek=\"Co lidé výrazně častěji slyší v rádiu než poslouchají online\", podtitulek=\"Srovnání žebříčků top 100 radio a top 100 digital od roku 2015. Číslo vyjadřuje poměr mezi týdny v rádiových a online hitparádách.\")"
   ]
  },
  {
   "cell_type": "code",
   "execution_count": 59,
   "id": "38ec07ed",
   "metadata": {},
   "outputs": [],
   "source": [
    "jenomonline = pd.DataFrame(stream[~stream['interpret_hlavni'].isin(radio['interpret_hlavni'].drop_duplicates().to_list())].groupby('interpret_hlavni')['week'].nunique().nlargest(10)).reset_index().rename(columns={'interpret_hlavni':'Interpreti','week':'Týdnů v digi hitparádě'}).replace({\"Interpreti\": interpreti_slovnik})"
   ]
  },
  {
   "cell_type": "code",
   "execution_count": 60,
   "id": "59db1eed",
   "metadata": {},
   "outputs": [
    {
     "data": {
      "text/html": [
       "<div>\n",
       "<style scoped>\n",
       "    .dataframe tbody tr th:only-of-type {\n",
       "        vertical-align: middle;\n",
       "    }\n",
       "\n",
       "    .dataframe tbody tr th {\n",
       "        vertical-align: top;\n",
       "    }\n",
       "\n",
       "    .dataframe thead th {\n",
       "        text-align: right;\n",
       "    }\n",
       "</style>\n",
       "<table border=\"1\" class=\"dataframe\">\n",
       "  <thead>\n",
       "    <tr style=\"text-align: right;\">\n",
       "      <th></th>\n",
       "      <th>Interpreti</th>\n",
       "      <th>Týdnů v digi hitparádě</th>\n",
       "    </tr>\n",
       "  </thead>\n",
       "  <tbody>\n",
       "    <tr>\n",
       "      <th>0</th>\n",
       "      <td>Wohnout</td>\n",
       "      <td>248</td>\n",
       "    </tr>\n",
       "    <tr>\n",
       "      <th>1</th>\n",
       "      <td>Viktor Sheen</td>\n",
       "      <td>246</td>\n",
       "    </tr>\n",
       "    <tr>\n",
       "      <th>2</th>\n",
       "      <td>Yzomandias</td>\n",
       "      <td>245</td>\n",
       "    </tr>\n",
       "    <tr>\n",
       "      <th>3</th>\n",
       "      <td>Nik Tendo</td>\n",
       "      <td>225</td>\n",
       "    </tr>\n",
       "    <tr>\n",
       "      <th>4</th>\n",
       "      <td>Ektor</td>\n",
       "      <td>216</td>\n",
       "    </tr>\n",
       "    <tr>\n",
       "      <th>5</th>\n",
       "      <td>Škwor</td>\n",
       "      <td>157</td>\n",
       "    </tr>\n",
       "    <tr>\n",
       "      <th>6</th>\n",
       "      <td>Travis Scott</td>\n",
       "      <td>151</td>\n",
       "    </tr>\n",
       "    <tr>\n",
       "      <th>7</th>\n",
       "      <td>Earth</td>\n",
       "      <td>149</td>\n",
       "    </tr>\n",
       "    <tr>\n",
       "      <th>8</th>\n",
       "      <td>Ca$Hanova Bulhar</td>\n",
       "      <td>148</td>\n",
       "    </tr>\n",
       "    <tr>\n",
       "      <th>9</th>\n",
       "      <td>Neighbourhood</td>\n",
       "      <td>144</td>\n",
       "    </tr>\n",
       "  </tbody>\n",
       "</table>\n",
       "</div>"
      ],
      "text/plain": [
       "         Interpreti  Týdnů v digi hitparádě\n",
       "0           Wohnout                     248\n",
       "1      Viktor Sheen                     246\n",
       "2        Yzomandias                     245\n",
       "3         Nik Tendo                     225\n",
       "4             Ektor                     216\n",
       "5             Škwor                     157\n",
       "6      Travis Scott                     151\n",
       "7             Earth                     149\n",
       "8  Ca$Hanova Bulhar                     148\n",
       "9     Neighbourhood                     144"
      ]
     },
     "execution_count": 60,
     "metadata": {},
     "output_type": "execute_result"
    }
   ],
   "source": [
    "jenomonline"
   ]
  },
  {
   "cell_type": "code",
   "execution_count": 61,
   "id": "33ddc28a",
   "metadata": {},
   "outputs": [
    {
     "data": {
      "text/plain": [
       "'<table class=\"dataframe table table--responsive table--w100p table--striped-red table--plain\"><caption>Online bodují, v rádiu zůstali pod stovkou nejhranějších</caption><thead><tr style=\"text-align: right;\"><th class=\"text-nowrap\">Interpreti</th><th class=\"text-nowrap\">Poměr rádio/stream</th></tr></thead><tbody class=\"text-sm\"><tr><td>Poetika</td><td>160×</td></tr><tr><td>Tomáš Klus</td><td>80×</td></tr><tr><td>Purple Disco Machine</td><td>74×</td></tr><tr><td>Imany</td><td>65×</td></tr><tr><td>David Stypka</td><td>63×</td></tr><tr><td>Bastille</td><td>59×</td></tr><tr><td>Voxel</td><td>57×</td></tr><tr><td>Robbie Williams</td><td>57×</td></tr><tr><td>Lake Malawi</td><td>54×</td></tr><tr><td>Avril Lavigne</td><td>49×</td></tr></tbody><tfoot><tr style=\"text-align: center;\"><td colspan=2>Data od roku 2015 do roku 2023.</td></tr></tfoot></table>'"
      ]
     },
     "execution_count": 61,
     "metadata": {},
     "output_type": "execute_result"
    }
   ],
   "source": [
    "tabulka(hvezdy_radia, titulek=\"Online bodují, v rádiu zůstali pod stovkou nejhranějších\", podtitulek=\"Data od roku 2015 do roku 2023.\")"
   ]
  }
 ],
 "metadata": {
  "kernelspec": {
   "display_name": "Python 3 (ipykernel)",
   "language": "python",
   "name": "python3"
  },
  "language_info": {
   "codemirror_mode": {
    "name": "ipython",
    "version": 3
   },
   "file_extension": ".py",
   "mimetype": "text/x-python",
   "name": "python",
   "nbconvert_exporter": "python",
   "pygments_lexer": "ipython3",
   "version": "3.10.8"
  }
 },
 "nbformat": 4,
 "nbformat_minor": 5
}
