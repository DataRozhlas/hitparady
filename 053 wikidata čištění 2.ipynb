{
 "cells": [
  {
   "cell_type": "code",
   "execution_count": 88,
   "id": "5f9e73ad",
   "metadata": {},
   "outputs": [],
   "source": [
    "import os\n",
    "import pandas as pd"
   ]
  },
  {
   "cell_type": "code",
   "execution_count": 89,
   "id": "842c4314",
   "metadata": {},
   "outputs": [],
   "source": [
    "from ast import literal_eval"
   ]
  },
  {
   "cell_type": "code",
   "execution_count": 90,
   "id": "c6320fe3",
   "metadata": {},
   "outputs": [],
   "source": [
    "df = pd.read_json(os.path.join('wikidata','wikidata_raw.json'))"
   ]
  },
  {
   "cell_type": "markdown",
   "id": "bedfb773",
   "metadata": {},
   "source": [
    "## Statistiky"
   ]
  },
  {
   "cell_type": "code",
   "execution_count": 91,
   "id": "ca8be151",
   "metadata": {},
   "outputs": [],
   "source": [
    "sloupce = df.columns.to_list()"
   ]
  },
  {
   "cell_type": "code",
   "execution_count": 92,
   "id": "6130b6a3",
   "metadata": {},
   "outputs": [
    {
     "name": "stderr",
     "output_type": "stream",
     "text": [
      "C:\\Users\\micha\\AppData\\Local\\Temp\\ipykernel_26480\\54388433.py:5: UserWarning: Boolean Series key will be reindexed to match DataFrame index.\n",
      "  statka['vyplneno'] = len(df.explode(s)[~df[s].isnull()])\n",
      "C:\\Users\\micha\\AppData\\Local\\Temp\\ipykernel_26480\\54388433.py:6: UserWarning: Boolean Series key will be reindexed to match DataFrame index.\n",
      "  statka['nevyplneno'] = len(df.explode(s)[df[s].isnull()])\n",
      "C:\\Users\\micha\\AppData\\Local\\Temp\\ipykernel_26480\\54388433.py:5: UserWarning: Boolean Series key will be reindexed to match DataFrame index.\n",
      "  statka['vyplneno'] = len(df.explode(s)[~df[s].isnull()])\n",
      "C:\\Users\\micha\\AppData\\Local\\Temp\\ipykernel_26480\\54388433.py:6: UserWarning: Boolean Series key will be reindexed to match DataFrame index.\n",
      "  statka['nevyplneno'] = len(df.explode(s)[df[s].isnull()])\n",
      "C:\\Users\\micha\\AppData\\Local\\Temp\\ipykernel_26480\\54388433.py:5: UserWarning: Boolean Series key will be reindexed to match DataFrame index.\n",
      "  statka['vyplneno'] = len(df.explode(s)[~df[s].isnull()])\n",
      "C:\\Users\\micha\\AppData\\Local\\Temp\\ipykernel_26480\\54388433.py:6: UserWarning: Boolean Series key will be reindexed to match DataFrame index.\n",
      "  statka['nevyplneno'] = len(df.explode(s)[df[s].isnull()])\n",
      "C:\\Users\\micha\\AppData\\Local\\Temp\\ipykernel_26480\\54388433.py:5: UserWarning: Boolean Series key will be reindexed to match DataFrame index.\n",
      "  statka['vyplneno'] = len(df.explode(s)[~df[s].isnull()])\n",
      "C:\\Users\\micha\\AppData\\Local\\Temp\\ipykernel_26480\\54388433.py:6: UserWarning: Boolean Series key will be reindexed to match DataFrame index.\n",
      "  statka['nevyplneno'] = len(df.explode(s)[df[s].isnull()])\n",
      "C:\\Users\\micha\\AppData\\Local\\Temp\\ipykernel_26480\\54388433.py:5: UserWarning: Boolean Series key will be reindexed to match DataFrame index.\n",
      "  statka['vyplneno'] = len(df.explode(s)[~df[s].isnull()])\n",
      "C:\\Users\\micha\\AppData\\Local\\Temp\\ipykernel_26480\\54388433.py:6: UserWarning: Boolean Series key will be reindexed to match DataFrame index.\n",
      "  statka['nevyplneno'] = len(df.explode(s)[df[s].isnull()])\n",
      "C:\\Users\\micha\\AppData\\Local\\Temp\\ipykernel_26480\\54388433.py:5: UserWarning: Boolean Series key will be reindexed to match DataFrame index.\n",
      "  statka['vyplneno'] = len(df.explode(s)[~df[s].isnull()])\n",
      "C:\\Users\\micha\\AppData\\Local\\Temp\\ipykernel_26480\\54388433.py:6: UserWarning: Boolean Series key will be reindexed to match DataFrame index.\n",
      "  statka['nevyplneno'] = len(df.explode(s)[df[s].isnull()])\n",
      "C:\\Users\\micha\\AppData\\Local\\Temp\\ipykernel_26480\\54388433.py:5: UserWarning: Boolean Series key will be reindexed to match DataFrame index.\n",
      "  statka['vyplneno'] = len(df.explode(s)[~df[s].isnull()])\n",
      "C:\\Users\\micha\\AppData\\Local\\Temp\\ipykernel_26480\\54388433.py:6: UserWarning: Boolean Series key will be reindexed to match DataFrame index.\n",
      "  statka['nevyplneno'] = len(df.explode(s)[df[s].isnull()])\n",
      "C:\\Users\\micha\\AppData\\Local\\Temp\\ipykernel_26480\\54388433.py:5: UserWarning: Boolean Series key will be reindexed to match DataFrame index.\n",
      "  statka['vyplneno'] = len(df.explode(s)[~df[s].isnull()])\n",
      "C:\\Users\\micha\\AppData\\Local\\Temp\\ipykernel_26480\\54388433.py:6: UserWarning: Boolean Series key will be reindexed to match DataFrame index.\n",
      "  statka['nevyplneno'] = len(df.explode(s)[df[s].isnull()])\n"
     ]
    },
    {
     "data": {
      "text/html": [
       "<div>\n",
       "<style scoped>\n",
       "    .dataframe tbody tr th:only-of-type {\n",
       "        vertical-align: middle;\n",
       "    }\n",
       "\n",
       "    .dataframe tbody tr th {\n",
       "        vertical-align: top;\n",
       "    }\n",
       "\n",
       "    .dataframe thead th {\n",
       "        text-align: right;\n",
       "    }\n",
       "</style>\n",
       "<table border=\"1\" class=\"dataframe\">\n",
       "  <thead>\n",
       "    <tr style=\"text-align: right;\">\n",
       "      <th></th>\n",
       "      <th>sloupec</th>\n",
       "      <th>vyplneno</th>\n",
       "      <th>nevyplneno</th>\n",
       "      <th>ruznych_hodnot</th>\n",
       "    </tr>\n",
       "  </thead>\n",
       "  <tbody>\n",
       "    <tr>\n",
       "      <th>0</th>\n",
       "      <td>interpret_hlavni</td>\n",
       "      <td>1180</td>\n",
       "      <td>0</td>\n",
       "      <td>1180</td>\n",
       "    </tr>\n",
       "    <tr>\n",
       "      <th>1</th>\n",
       "      <td>id</td>\n",
       "      <td>1180</td>\n",
       "      <td>0</td>\n",
       "      <td>1160</td>\n",
       "    </tr>\n",
       "    <tr>\n",
       "      <th>2</th>\n",
       "      <td>stazeno</td>\n",
       "      <td>1180</td>\n",
       "      <td>0</td>\n",
       "      <td>1</td>\n",
       "    </tr>\n",
       "    <tr>\n",
       "      <th>6</th>\n",
       "      <td>velikost</td>\n",
       "      <td>1178</td>\n",
       "      <td>2</td>\n",
       "      <td>23</td>\n",
       "    </tr>\n",
       "    <tr>\n",
       "      <th>3</th>\n",
       "      <td>nazev_wiki</td>\n",
       "      <td>1176</td>\n",
       "      <td>4</td>\n",
       "      <td>1156</td>\n",
       "    </tr>\n",
       "    <tr>\n",
       "      <th>4</th>\n",
       "      <td>popis_en</td>\n",
       "      <td>1149</td>\n",
       "      <td>31</td>\n",
       "      <td>727</td>\n",
       "    </tr>\n",
       "    <tr>\n",
       "      <th>15</th>\n",
       "      <td>misto_puvodu</td>\n",
       "      <td>1020</td>\n",
       "      <td>160</td>\n",
       "      <td>585</td>\n",
       "    </tr>\n",
       "    <tr>\n",
       "      <th>16</th>\n",
       "      <td>zeme_puvodu</td>\n",
       "      <td>1019</td>\n",
       "      <td>161</td>\n",
       "      <td>67</td>\n",
       "    </tr>\n",
       "    <tr>\n",
       "      <th>10</th>\n",
       "      <td>zacatek_pusobeni</td>\n",
       "      <td>941</td>\n",
       "      <td>239</td>\n",
       "      <td>73</td>\n",
       "    </tr>\n",
       "    <tr>\n",
       "      <th>7</th>\n",
       "      <td>zanry</td>\n",
       "      <td>2792</td>\n",
       "      <td>256</td>\n",
       "      <td>314</td>\n",
       "    </tr>\n",
       "    <tr>\n",
       "      <th>5</th>\n",
       "      <td>popis_cs</td>\n",
       "      <td>839</td>\n",
       "      <td>341</td>\n",
       "      <td>433</td>\n",
       "    </tr>\n",
       "    <tr>\n",
       "      <th>24</th>\n",
       "      <td>spotify_id</td>\n",
       "      <td>784</td>\n",
       "      <td>396</td>\n",
       "      <td>773</td>\n",
       "    </tr>\n",
       "    <tr>\n",
       "      <th>14</th>\n",
       "      <td>gender</td>\n",
       "      <td>756</td>\n",
       "      <td>424</td>\n",
       "      <td>4</td>\n",
       "    </tr>\n",
       "    <tr>\n",
       "      <th>8</th>\n",
       "      <td>datum_narozeni</td>\n",
       "      <td>746</td>\n",
       "      <td>434</td>\n",
       "      <td>707</td>\n",
       "    </tr>\n",
       "    <tr>\n",
       "      <th>17</th>\n",
       "      <td>obcanstvi</td>\n",
       "      <td>791</td>\n",
       "      <td>465</td>\n",
       "      <td>63</td>\n",
       "    </tr>\n",
       "    <tr>\n",
       "      <th>20</th>\n",
       "      <td>nastroje</td>\n",
       "      <td>1180</td>\n",
       "      <td>582</td>\n",
       "      <td>74</td>\n",
       "    </tr>\n",
       "    <tr>\n",
       "      <th>21</th>\n",
       "      <td>oceneni</td>\n",
       "      <td>1998</td>\n",
       "      <td>810</td>\n",
       "      <td>675</td>\n",
       "    </tr>\n",
       "    <tr>\n",
       "      <th>12</th>\n",
       "      <td>zalozeni</td>\n",
       "      <td>321</td>\n",
       "      <td>859</td>\n",
       "      <td>97</td>\n",
       "    </tr>\n",
       "    <tr>\n",
       "      <th>19</th>\n",
       "      <td>hlas</td>\n",
       "      <td>193</td>\n",
       "      <td>998</td>\n",
       "      <td>18</td>\n",
       "    </tr>\n",
       "    <tr>\n",
       "      <th>11</th>\n",
       "      <td>konec_pusobeni</td>\n",
       "      <td>56</td>\n",
       "      <td>1124</td>\n",
       "      <td>26</td>\n",
       "    </tr>\n",
       "    <tr>\n",
       "      <th>22</th>\n",
       "      <td>nabozenstvi</td>\n",
       "      <td>63</td>\n",
       "      <td>1124</td>\n",
       "      <td>28</td>\n",
       "    </tr>\n",
       "    <tr>\n",
       "      <th>9</th>\n",
       "      <td>datum_umrti</td>\n",
       "      <td>49</td>\n",
       "      <td>1131</td>\n",
       "      <td>47</td>\n",
       "    </tr>\n",
       "    <tr>\n",
       "      <th>23</th>\n",
       "      <td>orientace</td>\n",
       "      <td>50</td>\n",
       "      <td>1135</td>\n",
       "      <td>9</td>\n",
       "    </tr>\n",
       "    <tr>\n",
       "      <th>18</th>\n",
       "      <td>etnicita</td>\n",
       "      <td>44</td>\n",
       "      <td>1143</td>\n",
       "      <td>29</td>\n",
       "    </tr>\n",
       "    <tr>\n",
       "      <th>13</th>\n",
       "      <td>zanik</td>\n",
       "      <td>14</td>\n",
       "      <td>1166</td>\n",
       "      <td>12</td>\n",
       "    </tr>\n",
       "    <tr>\n",
       "      <th>25</th>\n",
       "      <td>spotify_odberatele</td>\n",
       "      <td>10</td>\n",
       "      <td>1170</td>\n",
       "      <td>10</td>\n",
       "    </tr>\n",
       "  </tbody>\n",
       "</table>\n",
       "</div>"
      ],
      "text/plain": [
       "               sloupec  vyplneno  nevyplneno  ruznych_hodnot\n",
       "0     interpret_hlavni      1180           0            1180\n",
       "1                   id      1180           0            1160\n",
       "2              stazeno      1180           0               1\n",
       "6             velikost      1178           2              23\n",
       "3           nazev_wiki      1176           4            1156\n",
       "4             popis_en      1149          31             727\n",
       "15        misto_puvodu      1020         160             585\n",
       "16         zeme_puvodu      1019         161              67\n",
       "10    zacatek_pusobeni       941         239              73\n",
       "7                zanry      2792         256             314\n",
       "5             popis_cs       839         341             433\n",
       "24          spotify_id       784         396             773\n",
       "14              gender       756         424               4\n",
       "8       datum_narozeni       746         434             707\n",
       "17           obcanstvi       791         465              63\n",
       "20            nastroje      1180         582              74\n",
       "21             oceneni      1998         810             675\n",
       "12            zalozeni       321         859              97\n",
       "19                hlas       193         998              18\n",
       "11      konec_pusobeni        56        1124              26\n",
       "22         nabozenstvi        63        1124              28\n",
       "9          datum_umrti        49        1131              47\n",
       "23           orientace        50        1135               9\n",
       "18            etnicita        44        1143              29\n",
       "13               zanik        14        1166              12\n",
       "25  spotify_odberatele        10        1170              10"
      ]
     },
     "execution_count": 92,
     "metadata": {},
     "output_type": "execute_result"
    }
   ],
   "source": [
    "statistiky = []\n",
    "for s in sloupce:\n",
    "    statka = {}\n",
    "    statka['sloupec'] = s\n",
    "    statka['vyplneno'] = len(df.explode(s)[~df[s].isnull()])\n",
    "    statka['nevyplneno'] = len(df.explode(s)[df[s].isnull()])\n",
    "    statka['ruznych_hodnot'] = df.explode(s)[s].nunique()\n",
    "    statistiky.append(statka)\n",
    "statistiky = pd.DataFrame(statistiky)\n",
    "statistiky.sort_values(by='nevyplneno')"
   ]
  },
  {
   "cell_type": "markdown",
   "id": "fe42a602",
   "metadata": {},
   "source": [
    "## Čištění"
   ]
  },
  {
   "cell_type": "code",
   "execution_count": 93,
   "id": "c8944913",
   "metadata": {},
   "outputs": [],
   "source": [
    "ceskove = df[(df['zeme_puvodu'].isnull()) & (df['popis_cs'].str.contains('česk'))]['interpret_hlavni'].to_list()"
   ]
  },
  {
   "cell_type": "code",
   "execution_count": 94,
   "id": "594569ea",
   "metadata": {},
   "outputs": [],
   "source": [
    "slovaci = ['Kontrafakt']"
   ]
  },
  {
   "cell_type": "code",
   "execution_count": 95,
   "id": "e4a809e0",
   "metadata": {},
   "outputs": [],
   "source": [
    "puvod_nejisty = ['Welshly Arms',\n",
    " 'Bodyrockers',\n",
    " 'Junge Junge',\n",
    " 'Karin Ann',\n",
    " 'Flipsyde',\n",
    " 'The Faim',\n",
    " 'D.H.T.',\n",
    " 'Banners',\n",
    " 'Bodybangers',\n",
    " 'Justin Jesso',\n",
    " 'Jc Stewart',\n",
    " 'Desmod',\n",
    " 'Novaspace',\n",
    " 'Djane Housekat',\n",
    " 'Vinylshakerz',\n",
    " 'Pascal Letoublon',\n",
    " 'Rat City',\n",
    " 'Yall',\n",
    " 'Younotus',\n",
    " 'Spankers',\n",
    " 'Sam And The Womp',\n",
    " 'Thxsomch',\n",
    " 'Hi-Tack',\n",
    " 'Gold 1',\n",
    " 'Beatfreakz',\n",
    " 'Dony',\n",
    " 'Dimitri Vegas',\n",
    " 'Fragma',\n",
    " 'Klangkarussell',\n",
    " 'Aloha From Hell',\n",
    " 'Karmah',\n",
    " 'Aquagen',\n",
    " 'Cian Ducrot',\n",
    " 'Renforshort',\n",
    " 'Dave Ramone',\n",
    " 'Cover Drive',\n",
    " 'Beach Weather',\n",
    " 'Urban Cone',\n",
    " 'Avantasia',\n",
    " 'Ari Abdul',\n",
    " 'Bpm',\n",
    " 'Surfaces',\n",
    " 'Boston Bun',\n",
    " 'Switch Disco',\n",
    " 'Hosh',\n",
    " 'Jodie Harsh',\n",
    " 'Public',\n",
    " 'Ocean Park Standoff',\n",
    " 'Nicky Your',\n",
    " 'Nitty',\n",
    " 'Fiedlerski',\n",
    " 'Shouse',\n",
    " 'Clou',\n",
    " 'Momo',\n",
    " 'Gladiator',\n",
    " 'James Harries',\n",
    " 'Fellas',\n",
    " 'Five O´Clock Tea',\n",
    " 'Rebels',\n",
    " 'Hematom',\n",
    " 'Highland',\n",
    " 'Atmo Music']"
   ]
  },
  {
   "cell_type": "code",
   "execution_count": 96,
   "id": "d9fcda82",
   "metadata": {},
   "outputs": [],
   "source": [
    "for x in df[(df['zeme_puvodu'].isnull())]['interpret_hlavni'].to_list():\n",
    "    if x not in puvod_nejisty:\n",
    "        ceskove.append(x)"
   ]
  },
  {
   "cell_type": "code",
   "execution_count": 97,
   "id": "137dc3fa",
   "metadata": {},
   "outputs": [],
   "source": [
    "df.loc[df['interpret_hlavni'].isin(ceskove),\"zeme_puvodu\"]=\"Česko\""
   ]
  },
  {
   "cell_type": "code",
   "execution_count": 98,
   "id": "520c4aa5",
   "metadata": {},
   "outputs": [],
   "source": [
    "df.loc[df['interpret_hlavni'].isin(slovaci),\"zeme_puvodu\"]=\"Slovensko\""
   ]
  },
  {
   "cell_type": "code",
   "execution_count": 99,
   "id": "1779ae4f",
   "metadata": {},
   "outputs": [],
   "source": [
    "df.loc[df['zeme_puvodu'] == 'Římská říše',\"zeme_puvodu\"]=\"Spojené království\""
   ]
  },
  {
   "cell_type": "code",
   "execution_count": 100,
   "id": "0b0afeac",
   "metadata": {},
   "outputs": [
    {
     "data": {
      "text/plain": [
       "['Welshly Arms',\n",
       " 'Bodyrockers',\n",
       " 'Junge Junge',\n",
       " 'Karin Ann',\n",
       " 'Flipsyde',\n",
       " 'The Faim',\n",
       " 'D.H.T.',\n",
       " 'Banners',\n",
       " 'Bodybangers',\n",
       " 'Justin Jesso',\n",
       " 'Jc Stewart',\n",
       " 'Desmod',\n",
       " 'Novaspace',\n",
       " 'Djane Housekat',\n",
       " 'Vinylshakerz',\n",
       " 'Pascal Letoublon',\n",
       " 'Rat City',\n",
       " 'Yall',\n",
       " 'Younotus',\n",
       " 'Spankers',\n",
       " 'Sam And The Womp',\n",
       " 'Thxsomch',\n",
       " 'Hi-Tack',\n",
       " 'Gold 1',\n",
       " 'Beatfreakz',\n",
       " 'Dony',\n",
       " 'Dimitri Vegas',\n",
       " 'Fragma',\n",
       " 'Klangkarussell',\n",
       " 'Aloha From Hell',\n",
       " 'Karmah',\n",
       " 'Aquagen',\n",
       " 'Cian Ducrot',\n",
       " 'Renforshort',\n",
       " 'Dave Ramone',\n",
       " 'Cover Drive',\n",
       " 'Beach Weather',\n",
       " 'Urban Cone',\n",
       " 'Avantasia',\n",
       " 'Ari Abdul',\n",
       " 'Bpm',\n",
       " 'Surfaces',\n",
       " 'Boston Bun',\n",
       " 'Switch Disco',\n",
       " 'Hosh',\n",
       " 'Jodie Harsh',\n",
       " 'Public',\n",
       " 'Ocean Park Standoff',\n",
       " 'Nicky Your',\n",
       " 'Nitty',\n",
       " 'Fiedlerski',\n",
       " 'Shouse',\n",
       " 'Clou',\n",
       " 'Momo',\n",
       " 'Gladiator',\n",
       " 'James Harries',\n",
       " 'Fellas',\n",
       " 'Five O´Clock Tea',\n",
       " 'Rebels',\n",
       " 'Hematom',\n",
       " 'Highland',\n",
       " 'Atmo Music']"
      ]
     },
     "execution_count": 100,
     "metadata": {},
     "output_type": "execute_result"
    }
   ],
   "source": [
    "df[(df['zeme_puvodu'].isnull())]['interpret_hlavni'].to_list()"
   ]
  },
  {
   "cell_type": "code",
   "execution_count": 101,
   "id": "168381bc",
   "metadata": {},
   "outputs": [],
   "source": [
    "smazat_narozeni = ['Gold 1','Momo','Shaun Baker']"
   ]
  },
  {
   "cell_type": "code",
   "execution_count": 102,
   "id": "4ad064c6",
   "metadata": {},
   "outputs": [],
   "source": [
    "df.loc[df['interpret_hlavni'].isin(smazat_narozeni),\"datum_narozeni\"]=None"
   ]
  },
  {
   "cell_type": "code",
   "execution_count": 103,
   "id": "410751af",
   "metadata": {},
   "outputs": [],
   "source": [
    "import re"
   ]
  },
  {
   "cell_type": "code",
   "execution_count": 104,
   "id": "1592d7bb",
   "metadata": {},
   "outputs": [],
   "source": [
    "def ctyrcislo(x):\n",
    "    try:\n",
    "        return re.search('\\d\\d\\d\\d',x).group()\n",
    "    except:\n",
    "        return None"
   ]
  },
  {
   "cell_type": "code",
   "execution_count": 105,
   "id": "1cffe1a1",
   "metadata": {},
   "outputs": [],
   "source": [
    "data = ['konec_pusobeni','zacatek_pusobeni','zalozeni','datum_narozeni','datum_umrti']"
   ]
  },
  {
   "cell_type": "code",
   "execution_count": 106,
   "id": "43ebdfbe",
   "metadata": {},
   "outputs": [],
   "source": [
    "for d in data:\n",
    "    df[d] = df[d].apply(lambda x: ctyrcislo(str(x)))"
   ]
  },
  {
   "cell_type": "markdown",
   "id": "d63381cc",
   "metadata": {},
   "source": [
    "## Kontrola x žebříčky"
   ]
  },
  {
   "cell_type": "code",
   "execution_count": 107,
   "id": "c93f9579",
   "metadata": {},
   "outputs": [],
   "source": [
    "cz = pd.read_csv(os.path.join(\"data\",\"CZ_RADIO_TOP_100_tydenni.csv\"))"
   ]
  },
  {
   "cell_type": "code",
   "execution_count": 108,
   "id": "c6a207a8",
   "metadata": {},
   "outputs": [],
   "source": [
    "cz = cz.merge(df, on='interpret_hlavni', how = 'outer')"
   ]
  },
  {
   "cell_type": "code",
   "execution_count": 109,
   "id": "1347d6c6",
   "metadata": {},
   "outputs": [
    {
     "data": {
      "text/plain": [
       "interpret_hlavni\n",
       "Lp                    221\n",
       "Train                 219\n",
       "September             183\n",
       "Meduza                179\n",
       "Poetika               160\n",
       "Wanted                129\n",
       "Minelli               113\n",
       "Like-It               108\n",
       "Agnes                 107\n",
       "Alex Gaudino          107\n",
       "Seeb                  103\n",
       "Airfare                99\n",
       "Lucas                  99\n",
       "Marquess               94\n",
       "Nebe                   93\n",
       "Milk                   90\n",
       "Light                  89\n",
       "B.O.B.                 88\n",
       "Timmy White            83\n",
       "Example                82\n",
       "Aura Dione             81\n",
       "Sheppard               81\n",
       "Markéta                80\n",
       "Nea                    79\n",
       "Laurent Wolf           78\n",
       "Robin Mood             76\n",
       "Za100Let               75\n",
       "Team                   73\n",
       "Keri Hilson            67\n",
       "Victoria               67\n",
       "Jessie J.              66\n",
       "Le Monde               65\n",
       "Hodiny                 64\n",
       "Kate Ryan              63\n",
       "Killers                63\n",
       "Mabel                  63\n",
       "Karl Wolf              62\n",
       "Passenger              62\n",
       "Fort Minor             61\n",
       "Nicole Scherzinger     60\n",
       "Frans                  59\n",
       "Joy Vance              59\n",
       "Faul                   58\n",
       "Sean Kingston          58\n",
       "Matej Smutný           57\n",
       "Years                  57\n",
       "Gayle                  55\n",
       "K´ Naan                55\n",
       "Popcorn Drama          55\n",
       "Guru Josh Project      54\n",
       "Mcclarnon Liz          54\n",
       "Lenka                  53\n",
       "Atb                    52\n",
       "Rahman A.R.            52\n",
       "Remme                  52\n",
       "Sparks Jordin          52\n",
       "2Choice                50\n",
       "Blige Mary J.          50\n",
       "Avidan Asaf            49\n",
       "Digital Fever          49\n",
       "dtype: int64"
      ]
     },
     "execution_count": 109,
     "metadata": {},
     "output_type": "execute_result"
    }
   ],
   "source": [
    "cz[cz['velikost'].isnull()].groupby('interpret_hlavni').size().nlargest(60)"
   ]
  },
  {
   "cell_type": "code",
   "execution_count": 110,
   "id": "412eaca0",
   "metadata": {},
   "outputs": [
    {
     "data": {
      "text/plain": [
       "interpret_hlavni\n",
       "Lp                    221\n",
       "Train                 219\n",
       "September             183\n",
       "Meduza                179\n",
       "Welshly Arms          170\n",
       "Flipsyde              163\n",
       "Poetika               160\n",
       "Wanted                129\n",
       "Atmo Music            118\n",
       "Minelli               113\n",
       "Like-It               108\n",
       "Agnes                 107\n",
       "Alex Gaudino          107\n",
       "Junge Junge           107\n",
       "Seeb                  103\n",
       "Jc Stewart            102\n",
       "Clou                  101\n",
       "Airfare                99\n",
       "Lucas                  99\n",
       "Marquess               94\n",
       "D.H.T.                 93\n",
       "Nebe                   93\n",
       "Milk                   90\n",
       "Light                  89\n",
       "B.O.B.                 88\n",
       "Novaspace              85\n",
       "Karmah                 83\n",
       "Timmy White            83\n",
       "Example                82\n",
       "Aura Dione             81\n",
       "Sheppard               81\n",
       "Markéta                80\n",
       "Nea                    79\n",
       "Laurent Wolf           78\n",
       "Robin Mood             76\n",
       "Za100Let               75\n",
       "Banners                72\n",
       "Shouse                 72\n",
       "Keri Hilson            67\n",
       "Victoria               67\n",
       "Jessie J.              66\n",
       "Le Monde               65\n",
       "Hodiny                 64\n",
       "Kate Ryan              63\n",
       "Killers                63\n",
       "Mabel                  63\n",
       "Karl Wolf              62\n",
       "Passenger              62\n",
       "Fort Minor             61\n",
       "Nicole Scherzinger     60\n",
       "Frans                  59\n",
       "Joy Vance              59\n",
       "Faul                   58\n",
       "James Harries          58\n",
       "Sean Kingston          58\n",
       "Matej Smutný           57\n",
       "Years                  57\n",
       "Gayle                  55\n",
       "K´ Naan                55\n",
       "Popcorn Drama          55\n",
       "dtype: int64"
      ]
     },
     "execution_count": 110,
     "metadata": {},
     "output_type": "execute_result"
    }
   ],
   "source": [
    "cz[(cz['zeme_puvodu'].isnull())].groupby('interpret_hlavni').size().nlargest(60)"
   ]
  },
  {
   "cell_type": "code",
   "execution_count": 111,
   "id": "528a6a82",
   "metadata": {},
   "outputs": [
    {
     "data": {
      "text/plain": [
       "interpret_hlavni\n",
       "Shaun Baker         227\n",
       "Banners              72\n",
       "Fiedlerski           48\n",
       "Justin Jesso         23\n",
       "Boston Bun            8\n",
       "Gold 1                8\n",
       "Ari Abdul             4\n",
       "Luude                 3\n",
       "Ca$Hanova Bulhar      1\n",
       "Maniak                1\n",
       "Momo                  1\n",
       "Samey                 1\n",
       "Thxsomch              1\n",
       "dtype: int64"
      ]
     },
     "execution_count": 111,
     "metadata": {},
     "output_type": "execute_result"
    }
   ],
   "source": [
    "cz[(cz['velikost'] == 'člověk') & (cz['datum_narozeni'].isnull())].groupby('interpret_hlavni').size().nlargest(20)"
   ]
  },
  {
   "cell_type": "code",
   "execution_count": 112,
   "id": "7b3dd14b",
   "metadata": {},
   "outputs": [],
   "source": [
    "b100 = pd.read_csv(os.path.join(\"data_b100\",\"b100.csv\"))"
   ]
  },
  {
   "cell_type": "code",
   "execution_count": 113,
   "id": "3ae68242",
   "metadata": {},
   "outputs": [],
   "source": [
    "b100 = b100.merge(df, on='interpret_hlavni', how = 'outer')"
   ]
  },
  {
   "cell_type": "code",
   "execution_count": 114,
   "id": "b7ae0e82",
   "metadata": {},
   "outputs": [
    {
     "data": {
      "text/plain": [
       "interpret_hlavni\n",
       "Kenny Chesney                 905\n",
       "Tim McGraw                    828\n",
       "Elvis Presley                 818\n",
       "Keith Urban                   717\n",
       "Rod Stewart                   682\n",
       "Stevie Wonder                 665\n",
       "Jason Aldean                  656\n",
       "Whitney Houston               654\n",
       "Aretha Franklin               630\n",
       "Rascal Flatts                 627\n",
       "R. Kelly                      625\n",
       "P!nk                          620\n",
       "Brad Paisley                  618\n",
       "Blake Shelton                 611\n",
       "The Beatles                   608\n",
       "Chicago                       607\n",
       "Diana Ross                    597\n",
       "Billy Joel                    595\n",
       "The Rolling Stones            585\n",
       "Carrie Underwood              565\n",
       "Luke Bryan                    562\n",
       "George Strait                 553\n",
       "Neil Diamond                  553\n",
       "Daryl Hall John Oates         540\n",
       "Mary J. Blige                 537\n",
       "The Beach Boys                531\n",
       "Toby Keith                    531\n",
       "Marvin Gaye                   526\n",
       "Bee Gees                      516\n",
       "Dionne Warwick                491\n",
       "The Temptations               476\n",
       "Dierks Bentley                475\n",
       "Kool                          469\n",
       "Smokey Robinson               445\n",
       "DJ Khaled                     430\n",
       "Aerosmith                     429\n",
       "Janet Jackson                 429\n",
       "Olivia Newton-John            427\n",
       "Heart                         426\n",
       "Cher                          420\n",
       "Donna Summer                  418\n",
       "Gladys Knight And The Pips    415\n",
       "Alan Jackson                  400\n",
       "The 4 Seasons                 390\n",
       "Barry Manilow                 389\n",
       "The Pointer Sisters           387\n",
       "Lil Baby                      386\n",
       "Earth                         382\n",
       "Trey Songz                    382\n",
       "James Brown                   375\n",
       "Prince                        375\n",
       "Lady Antebellum               374\n",
       "Bobby Vinton                  369\n",
       "The Isley Brothers            368\n",
       "Four Tops                     367\n",
       "Thomas Rhett                  362\n",
       "Brenda Lee                    360\n",
       "Brooks                        360\n",
       "Bob Seger                     359\n",
       "Fleetwood Mac                 355\n",
       "dtype: int64"
      ]
     },
     "execution_count": 114,
     "metadata": {},
     "output_type": "execute_result"
    }
   ],
   "source": [
    "b100[b100['velikost'].isnull()].groupby('interpret_hlavni').size().nlargest(60)"
   ]
  },
  {
   "cell_type": "markdown",
   "id": "8af5a53b",
   "metadata": {},
   "source": [
    "## Země původu"
   ]
  },
  {
   "cell_type": "code",
   "execution_count": 125,
   "id": "84f26121",
   "metadata": {},
   "outputs": [
    {
     "data": {
      "text/plain": [
       "zeme_puvodu\n",
       "Česko                             300\n",
       "Spojené státy americké            289\n",
       "Spojené království                190\n",
       "Německo                            46\n",
       "Slovensko                          37\n",
       "Kanada                             32\n",
       "Švédsko                            31\n",
       "Austrálie                          23\n",
       "Francie                            19\n",
       "Nizozemsko                         18\n",
       "Itálie                             13\n",
       "Irsko                               9\n",
       "Švýcarsko                           8\n",
       "Belgie                              7\n",
       "Rumunsko                            7\n",
       "Finsko                              6\n",
       "Norsko                              6\n",
       "Rusko                               6\n",
       "Jižní Korea                         5\n",
       "Polsko                              5\n",
       "Dánsko                              3\n",
       "Jamajka                             3\n",
       "Jihoafrická republika               3\n",
       "Kazachstán                          3\n",
       "Kolumbie                            3\n",
       "Nový Zéland                         3\n",
       "Rakousko                            3\n",
       "Barbados                            2\n",
       "Filipíny                            2\n",
       "Island                              2\n",
       "Konžská demokratická republika      2\n",
       "Kosovo                              2\n",
       "Kuba                                2\n",
       "Libanon                             2\n",
       "Trinidad a Tobago                   2\n",
       "Ukrajina                            2\n",
       "Španělsko                           2\n",
       "Alžírsko                            1\n",
       "Arménie                             1\n",
       "Brazílie                            1\n",
       "Ghana                               1\n",
       "Izrael                              1\n",
       "Japonsko                            1\n",
       "Jemen                               1\n",
       "Lichtenštejnsko                     1\n",
       "Litva                               1\n",
       "Maroko                              1\n",
       "Nigérie                             1\n",
       "Papua Nová Guinea                   1\n",
       "Singapur                            1\n",
       "dtype: int64"
      ]
     },
     "execution_count": 125,
     "metadata": {},
     "output_type": "execute_result"
    }
   ],
   "source": [
    "df.groupby('zeme_puvodu').size().nlargest(50)"
   ]
  },
  {
   "cell_type": "code",
   "execution_count": 116,
   "id": "24b3834a",
   "metadata": {
    "scrolled": true
   },
   "outputs": [
    {
     "data": {
      "text/plain": [
       "['Alice Merton', 'J. Cole']"
      ]
     },
     "execution_count": 116,
     "metadata": {},
     "output_type": "execute_result"
    }
   ],
   "source": [
    "df[df['zeme_puvodu'] == 'Svatá říše římská']['interpret_hlavni'].drop_duplicates().to_list()"
   ]
  },
  {
   "cell_type": "code",
   "execution_count": 117,
   "id": "5c5c52d9",
   "metadata": {},
   "outputs": [],
   "source": [
    "df.loc[df['zeme_puvodu'] == 'Moskevské knížectví',\"zeme_puvodu\"]=\"Rusko\"\n",
    "df.loc[df['zeme_puvodu'] == 'Ruské impérium',\"zeme_puvodu\"]=\"Rusko\""
   ]
  },
  {
   "cell_type": "code",
   "execution_count": 118,
   "id": "401ef5e5",
   "metadata": {},
   "outputs": [],
   "source": [
    "df.loc[df['zeme_puvodu'] == 'Braniborské markrabství',\"zeme_puvodu\"]=\"Německo\"\n",
    "df.loc[df['zeme_puvodu'] == 'Svatá říše římská',\"zeme_puvodu\"]=\"Německo\""
   ]
  },
  {
   "cell_type": "code",
   "execution_count": 119,
   "id": "159fc59e",
   "metadata": {},
   "outputs": [],
   "source": [
    "df.loc[df['zeme_puvodu'] == 'České knížectví',\"zeme_puvodu\"]=\"Česko\""
   ]
  },
  {
   "cell_type": "code",
   "execution_count": 120,
   "id": "b6719957",
   "metadata": {},
   "outputs": [],
   "source": [
    "df.loc[df['zeme_puvodu'] == 'Německá demokratická republika',\"zeme_puvodu\"]=\"Německo\""
   ]
  },
  {
   "cell_type": "code",
   "execution_count": 121,
   "id": "4aeaf5d5",
   "metadata": {},
   "outputs": [],
   "source": [
    "df.loc[df['zeme_puvodu'] == 'Spojené království Velké Británie a Irska','zeme_puvodu']=\"Spojené království\""
   ]
  },
  {
   "cell_type": "code",
   "execution_count": 122,
   "id": "9893a453",
   "metadata": {},
   "outputs": [],
   "source": [
    "df.loc[df['zeme_puvodu'] == 'Valašské knížectví',\"zeme_puvodu\"]=\"Rumunsko\"\n",
    "df.loc[df['zeme_puvodu'] == 'Rumunské království',\"zeme_puvodu\"]=\"Rumunsko\""
   ]
  },
  {
   "cell_type": "markdown",
   "id": "5efe950e",
   "metadata": {},
   "source": [
    "## Export"
   ]
  },
  {
   "cell_type": "code",
   "execution_count": 123,
   "id": "5adbc502",
   "metadata": {},
   "outputs": [],
   "source": [
    "df = df.sort_values(by='interpret_hlavni')"
   ]
  },
  {
   "cell_type": "code",
   "execution_count": 124,
   "id": "bffce5dd",
   "metadata": {},
   "outputs": [],
   "source": [
    "df.to_json(os.path.join('wikidata','wikidata.json'), orient=\"records\")\n",
    "df.to_csv(os.path.join('wikidata','wikidata.csv'), index=False)"
   ]
  }
 ],
 "metadata": {
  "kernelspec": {
   "display_name": "Python 3 (ipykernel)",
   "language": "python",
   "name": "python3"
  },
  "language_info": {
   "codemirror_mode": {
    "name": "ipython",
    "version": 3
   },
   "file_extension": ".py",
   "mimetype": "text/x-python",
   "name": "python",
   "nbconvert_exporter": "python",
   "pygments_lexer": "ipython3",
   "version": "3.10.8"
  }
 },
 "nbformat": 4,
 "nbformat_minor": 5
}
