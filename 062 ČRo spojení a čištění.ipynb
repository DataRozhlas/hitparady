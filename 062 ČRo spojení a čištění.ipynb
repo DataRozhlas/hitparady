{
 "cells": [
  {
   "cell_type": "code",
   "execution_count": 1,
   "id": "a62db7b0",
   "metadata": {},
   "outputs": [],
   "source": [
    "import os\n",
    "import json\n",
    "import pandas as pd"
   ]
  },
  {
   "cell_type": "code",
   "execution_count": 2,
   "id": "eb15e931",
   "metadata": {},
   "outputs": [],
   "source": [
    "def load_json_file(file):\n",
    "    with open(file) as f:\n",
    "        data = json.load(f)\n",
    "    return data['data']"
   ]
  },
  {
   "cell_type": "code",
   "execution_count": 3,
   "id": "be7390d2",
   "metadata": {},
   "outputs": [],
   "source": [
    "directory = \"cro\"\n",
    "file_list = os.listdir(directory)"
   ]
  },
  {
   "cell_type": "code",
   "execution_count": 4,
   "id": "e7cb103d",
   "metadata": {},
   "outputs": [],
   "source": [
    "df = pd.DataFrame()\n",
    "frames = []\n",
    "for file in file_list:\n",
    "    try:\n",
    "        if file.endswith(\".json\"):\n",
    "            filepath = os.path.join(directory, file)\n",
    "            stanice = file.split(\"-\")[0]\n",
    "            dataframe = pd.DataFrame(load_json_file(filepath))\n",
    "            dataframe['stanice'] = stanice\n",
    "            frames.append(dataframe)\n",
    "    except:\n",
    "        print(file)"
   ]
  },
  {
   "cell_type": "code",
   "execution_count": 5,
   "id": "82394973",
   "metadata": {},
   "outputs": [],
   "source": [
    "df = pd.concat(frames)"
   ]
  },
  {
   "cell_type": "code",
   "execution_count": 6,
   "id": "8cbef963",
   "metadata": {},
   "outputs": [],
   "source": [
    "df = df.drop(columns=['files','itemcode']).sort_values(by='since').reset_index(drop=True)"
   ]
  },
  {
   "cell_type": "code",
   "execution_count": 7,
   "id": "7d51f3ab",
   "metadata": {},
   "outputs": [
    {
     "data": {
      "text/html": [
       "<div>\n",
       "<style scoped>\n",
       "    .dataframe tbody tr th:only-of-type {\n",
       "        vertical-align: middle;\n",
       "    }\n",
       "\n",
       "    .dataframe tbody tr th {\n",
       "        vertical-align: top;\n",
       "    }\n",
       "\n",
       "    .dataframe thead th {\n",
       "        text-align: right;\n",
       "    }\n",
       "</style>\n",
       "<table border=\"1\" class=\"dataframe\">\n",
       "  <thead>\n",
       "    <tr style=\"text-align: right;\">\n",
       "      <th></th>\n",
       "      <th>stanice</th>\n",
       "      <th>since</th>\n",
       "      <th>id</th>\n",
       "      <th>interpret</th>\n",
       "      <th>interpret_id</th>\n",
       "      <th>track</th>\n",
       "      <th>track_id</th>\n",
       "    </tr>\n",
       "  </thead>\n",
       "  <tbody>\n",
       "    <tr>\n",
       "      <th>0</th>\n",
       "      <td>radiowave</td>\n",
       "      <td>2023-10-22T00:00:22+02:00</td>\n",
       "      <td>19376269.0</td>\n",
       "      <td>SYLVAN ESSO</td>\n",
       "      <td>11101.0</td>\n",
       "      <td>Frequency</td>\n",
       "      <td>82943.0</td>\n",
       "    </tr>\n",
       "    <tr>\n",
       "      <th>1</th>\n",
       "      <td>radiowave</td>\n",
       "      <td>2023-10-22T00:03:12+02:00</td>\n",
       "      <td>19376274.0</td>\n",
       "      <td>WINONA OAK</td>\n",
       "      <td>25899.0</td>\n",
       "      <td>Winter Rain</td>\n",
       "      <td>87407.0</td>\n",
       "    </tr>\n",
       "    <tr>\n",
       "      <th>2</th>\n",
       "      <td>jazz</td>\n",
       "      <td>2023-10-22T00:04:18+02:00</td>\n",
       "      <td>19376275.0</td>\n",
       "      <td>OMRI MOR</td>\n",
       "      <td>15258.0</td>\n",
       "      <td>Tears</td>\n",
       "      <td>51319.0</td>\n",
       "    </tr>\n",
       "    <tr>\n",
       "      <th>3</th>\n",
       "      <td>radiowave</td>\n",
       "      <td>2023-10-22T00:07:28+02:00</td>\n",
       "      <td>19376280.0</td>\n",
       "      <td>DIIV</td>\n",
       "      <td>2909.0</td>\n",
       "      <td>Skin Game</td>\n",
       "      <td>69599.0</td>\n",
       "    </tr>\n",
       "    <tr>\n",
       "      <th>4</th>\n",
       "      <td>jazz</td>\n",
       "      <td>2023-10-22T00:09:38+02:00</td>\n",
       "      <td>19376283.0</td>\n",
       "      <td>ALFREDO RODRIGUEZ &amp; PEDRITO MARTINEZ</td>\n",
       "      <td>19128.0</td>\n",
       "      <td>Estamos Llegando</td>\n",
       "      <td>63167.0</td>\n",
       "    </tr>\n",
       "    <tr>\n",
       "      <th>...</th>\n",
       "      <td>...</td>\n",
       "      <td>...</td>\n",
       "      <td>...</td>\n",
       "      <td>...</td>\n",
       "      <td>...</td>\n",
       "      <td>...</td>\n",
       "      <td>...</td>\n",
       "    </tr>\n",
       "    <tr>\n",
       "      <th>633247</th>\n",
       "      <td>radiozurnal</td>\n",
       "      <td>2025-05-05T23:56:06+02:00</td>\n",
       "      <td>22062725.0</td>\n",
       "      <td>ESPEN LIND</td>\n",
       "      <td>3300.0</td>\n",
       "      <td>LUCKY FOR YOU</td>\n",
       "      <td>8453.0</td>\n",
       "    </tr>\n",
       "    <tr>\n",
       "      <th>633248</th>\n",
       "      <td>dvojka</td>\n",
       "      <td>2025-05-05T23:56:36+02:00</td>\n",
       "      <td>22062728.0</td>\n",
       "      <td>CHRIS REA</td>\n",
       "      <td>3058.0</td>\n",
       "      <td>JULIA</td>\n",
       "      <td>10065.0</td>\n",
       "    </tr>\n",
       "    <tr>\n",
       "      <th>633249</th>\n",
       "      <td>radiowave</td>\n",
       "      <td>2025-05-05T23:57:05+02:00</td>\n",
       "      <td>22062730.0</td>\n",
       "      <td>KAI WHISTON</td>\n",
       "      <td>17961.0</td>\n",
       "      <td>Sweet Distraction</td>\n",
       "      <td>113699.0</td>\n",
       "    </tr>\n",
       "    <tr>\n",
       "      <th>633250</th>\n",
       "      <td>jazz</td>\n",
       "      <td>2025-05-05T23:58:35+02:00</td>\n",
       "      <td>22062739.0</td>\n",
       "      <td>AL DI MEOLA</td>\n",
       "      <td>2472.0</td>\n",
       "      <td>God Bird Change</td>\n",
       "      <td>37804.0</td>\n",
       "    </tr>\n",
       "    <tr>\n",
       "      <th>633251</th>\n",
       "      <td>dvojka</td>\n",
       "      <td>2025-05-05T23:58:41+02:00</td>\n",
       "      <td>22062740.0</td>\n",
       "      <td>STUDIOVÝ ORCHESTR</td>\n",
       "      <td>4144.0</td>\n",
       "      <td>ČESKÁ STÁTNÍ HYMNA</td>\n",
       "      <td>13826.0</td>\n",
       "    </tr>\n",
       "  </tbody>\n",
       "</table>\n",
       "<p>633252 rows × 7 columns</p>\n",
       "</div>"
      ],
      "text/plain": [
       "            stanice                      since          id  \\\n",
       "0         radiowave  2023-10-22T00:00:22+02:00  19376269.0   \n",
       "1         radiowave  2023-10-22T00:03:12+02:00  19376274.0   \n",
       "2              jazz  2023-10-22T00:04:18+02:00  19376275.0   \n",
       "3         radiowave  2023-10-22T00:07:28+02:00  19376280.0   \n",
       "4              jazz  2023-10-22T00:09:38+02:00  19376283.0   \n",
       "...             ...                        ...         ...   \n",
       "633247  radiozurnal  2025-05-05T23:56:06+02:00  22062725.0   \n",
       "633248       dvojka  2025-05-05T23:56:36+02:00  22062728.0   \n",
       "633249    radiowave  2025-05-05T23:57:05+02:00  22062730.0   \n",
       "633250         jazz  2025-05-05T23:58:35+02:00  22062739.0   \n",
       "633251       dvojka  2025-05-05T23:58:41+02:00  22062740.0   \n",
       "\n",
       "                                   interpret  interpret_id  \\\n",
       "0                                SYLVAN ESSO       11101.0   \n",
       "1                                 WINONA OAK       25899.0   \n",
       "2                                   OMRI MOR       15258.0   \n",
       "3                                       DIIV        2909.0   \n",
       "4       ALFREDO RODRIGUEZ & PEDRITO MARTINEZ       19128.0   \n",
       "...                                      ...           ...   \n",
       "633247                            ESPEN LIND        3300.0   \n",
       "633248                             CHRIS REA        3058.0   \n",
       "633249                           KAI WHISTON       17961.0   \n",
       "633250                           AL DI MEOLA        2472.0   \n",
       "633251                     STUDIOVÝ ORCHESTR        4144.0   \n",
       "\n",
       "                     track  track_id  \n",
       "0                Frequency   82943.0  \n",
       "1              Winter Rain   87407.0  \n",
       "2                    Tears   51319.0  \n",
       "3                Skin Game   69599.0  \n",
       "4         Estamos Llegando   63167.0  \n",
       "...                    ...       ...  \n",
       "633247       LUCKY FOR YOU    8453.0  \n",
       "633248               JULIA   10065.0  \n",
       "633249   Sweet Distraction  113699.0  \n",
       "633250     God Bird Change   37804.0  \n",
       "633251  ČESKÁ STÁTNÍ HYMNA   13826.0  \n",
       "\n",
       "[633252 rows x 7 columns]"
      ]
     },
     "execution_count": 7,
     "metadata": {},
     "output_type": "execute_result"
    }
   ],
   "source": [
    "df"
   ]
  },
  {
   "cell_type": "code",
   "execution_count": 8,
   "id": "3338189e",
   "metadata": {},
   "outputs": [],
   "source": [
    "df.to_json(os.path.join(\"data\",\"cro_raw.json\"), orient=\"records\")"
   ]
  },
  {
   "cell_type": "code",
   "execution_count": 17,
   "id": "79b26d1c-7489-480d-b492-7dd02b6967c7",
   "metadata": {},
   "outputs": [],
   "source": [
    "import polars as pl"
   ]
  },
  {
   "cell_type": "code",
   "execution_count": 29,
   "id": "b6672c5b-e2f1-4cd1-8c79-c2913e3f578c",
   "metadata": {},
   "outputs": [
    {
     "data": {
      "text/plain": [
       "['radiowave', 'jazz', 'radiozurnal', 'dvojka', 'pohoda', 'vltava', 'd']"
      ]
     },
     "execution_count": 29,
     "metadata": {},
     "output_type": "execute_result"
    }
   ],
   "source": [
    "kategorie = df['stanice'].drop_duplicates().to_list()\n",
    "kategorie"
   ]
  },
  {
   "cell_type": "code",
   "execution_count": 33,
   "id": "d8d5df5f-27a1-49ad-8a51-f1f768f31d6d",
   "metadata": {},
   "outputs": [],
   "source": [
    "df_pl = pl.from_pandas(df).with_columns(pl.col(\"since\").str.to_datetime()).with_columns(pl.col([\"id\",\"track_id\",\"interpret_id\"]).cast(int).cast(str)).with_columns(pl.col('stanice').cast(pl.Categorical))"
   ]
  },
  {
   "cell_type": "code",
   "execution_count": 37,
   "id": "a19ab118-7262-47b3-8c4a-f9c291499571",
   "metadata": {},
   "outputs": [],
   "source": [
    "from datetime import date"
   ]
  },
  {
   "cell_type": "code",
   "execution_count": 45,
   "id": "b99c5f21-af3d-4e98-9ecb-927f2e5c9001",
   "metadata": {},
   "outputs": [],
   "source": [
    "df_pl.write_parquet(os.path.join(\"data\",\"cro.parquet\"), use_pyarrow=True)"
   ]
  },
  {
   "cell_type": "code",
   "execution_count": 47,
   "id": "34d5cc25-0390-4781-a12a-9174eb4f8231",
   "metadata": {},
   "outputs": [
    {
     "data": {
      "text/plain": [
       "(633252, 7)"
      ]
     },
     "execution_count": 47,
     "metadata": {},
     "output_type": "execute_result"
    }
   ],
   "source": [
    "df_pl.shape"
   ]
  },
  {
   "cell_type": "code",
   "execution_count": 43,
   "id": "c4b86bb8-8cf2-4a27-ae22-b9e87388499f",
   "metadata": {},
   "outputs": [
    {
     "data": {
      "text/html": [
       "<div><style>\n",
       ".dataframe > thead > tr,\n",
       ".dataframe > tbody > tr {\n",
       "  text-align: right;\n",
       "  white-space: pre-wrap;\n",
       "}\n",
       "</style>\n",
       "<small>shape: (28_574, 7)</small><table border=\"1\" class=\"dataframe\"><thead><tr><th>stanice</th><th>since</th><th>id</th><th>interpret</th><th>interpret_id</th><th>track</th><th>track_id</th></tr><tr><td>cat</td><td>datetime[μs, UTC]</td><td>str</td><td>str</td><td>str</td><td>str</td><td>str</td></tr></thead><tbody><tr><td>&quot;radiowave&quot;</td><td>2023-10-22 00:01:36 UTC</td><td>&quot;19376508&quot;</td><td>&quot;NATASHA KMETO&quot;</td><td>&quot;9707&quot;</td><td>&quot;Nothing Forever&quot;</td><td>&quot;80655&quot;</td></tr><tr><td>&quot;radiowave&quot;</td><td>2023-10-22 00:04:36 UTC</td><td>&quot;19376514&quot;</td><td>&quot;BONZAI&quot;</td><td>&quot;11252&quot;</td><td>&quot;Cruel&quot;</td><td>&quot;38740&quot;</td></tr><tr><td>&quot;jazz&quot;</td><td>2023-10-22 00:05:08 UTC</td><td>&quot;19376516&quot;</td><td>&quot;ROBBEN FORD&quot;</td><td>&quot;253&quot;</td><td>&quot;Earthquake&quot;</td><td>&quot;259&quot;</td></tr><tr><td>&quot;radiozurnal&quot;</td><td>2023-10-22 00:06:13 UTC</td><td>&quot;19376517&quot;</td><td>&quot;KEANE&quot;</td><td>&quot;2981&quot;</td><td>&quot;CRYSTAL BALL&quot;</td><td>&quot;16945&quot;</td></tr><tr><td>&quot;radiowave&quot;</td><td>2023-10-22 00:07:59 UTC</td><td>&quot;19376523&quot;</td><td>&quot;BARTEES STRANGE&quot;</td><td>&quot;24053&quot;</td><td>&quot;Mustang&quot;</td><td>&quot;81193&quot;</td></tr><tr><td>&hellip;</td><td>&hellip;</td><td>&hellip;</td><td>&hellip;</td><td>&hellip;</td><td>&hellip;</td><td>&hellip;</td></tr><tr><td>&quot;pohoda&quot;</td><td>2025-05-05 00:56:00 UTC</td><td>&quot;22058207&quot;</td><td>&quot;MILAN CHLADIL&quot;</td><td>&quot;3562&quot;</td><td>&quot;Bylo léto a kvet mák&quot;</td><td>&quot;17868&quot;</td></tr><tr><td>&quot;dvojka&quot;</td><td>2025-05-05 00:57:17 UTC</td><td>&quot;22058211&quot;</td><td>&quot;GEORGE EZRA&quot;</td><td>&quot;8605&quot;</td><td>&quot;Budapest&quot;</td><td>&quot;25918&quot;</td></tr><tr><td>&quot;pohoda&quot;</td><td>2025-05-05 00:57:21 UTC</td><td>&quot;22058212&quot;</td><td>&quot;NAĎA URBÁNKOVÁ&quot;</td><td>&quot;3559&quot;</td><td>&quot;Tobě náležel čas&quot;</td><td>&quot;8963&quot;</td></tr><tr><td>&quot;jazz&quot;</td><td>2025-05-05 00:57:34 UTC</td><td>&quot;22058213&quot;</td><td>&quot;PIERRICK PÉDRON&quot;</td><td>&quot;2556&quot;</td><td>&quot;PP Song Tree&quot;</td><td>&quot;35114&quot;</td></tr><tr><td>&quot;radiowave&quot;</td><td>2025-05-05 00:59:27 UTC</td><td>&quot;22058217&quot;</td><td>&quot;GIRL_IRL &amp; CROSSTALK&quot;</td><td>&quot;34598&quot;</td><td>&quot;Buzz&quot;</td><td>&quot;115795&quot;</td></tr></tbody></table></div>"
      ],
      "text/plain": [
       "shape: (28_574, 7)\n",
       "┌─────────────┬─────────────────────┬──────────┬─────────────────┬──────────────┬──────────────────────┬──────────┐\n",
       "│ stanice     ┆ since               ┆ id       ┆ interpret       ┆ interpret_id ┆ track                ┆ track_id │\n",
       "│ ---         ┆ ---                 ┆ ---      ┆ ---             ┆ ---          ┆ ---                  ┆ ---      │\n",
       "│ cat         ┆ datetime[μs, UTC]   ┆ str      ┆ str             ┆ str          ┆ str                  ┆ str      │\n",
       "╞═════════════╪═════════════════════╪══════════╪═════════════════╪══════════════╪══════════════════════╪══════════╡\n",
       "│ radiowave   ┆ 2023-10-22 00:01:36 ┆ 19376508 ┆ NATASHA KMETO   ┆ 9707         ┆ Nothing Forever      ┆ 80655    │\n",
       "│             ┆ UTC                 ┆          ┆                 ┆              ┆                      ┆          │\n",
       "│ radiowave   ┆ 2023-10-22 00:04:36 ┆ 19376514 ┆ BONZAI          ┆ 11252        ┆ Cruel                ┆ 38740    │\n",
       "│             ┆ UTC                 ┆          ┆                 ┆              ┆                      ┆          │\n",
       "│ jazz        ┆ 2023-10-22 00:05:08 ┆ 19376516 ┆ ROBBEN FORD     ┆ 253          ┆ Earthquake           ┆ 259      │\n",
       "│             ┆ UTC                 ┆          ┆                 ┆              ┆                      ┆          │\n",
       "│ radiozurnal ┆ 2023-10-22 00:06:13 ┆ 19376517 ┆ KEANE           ┆ 2981         ┆ CRYSTAL BALL         ┆ 16945    │\n",
       "│             ┆ UTC                 ┆          ┆                 ┆              ┆                      ┆          │\n",
       "│ radiowave   ┆ 2023-10-22 00:07:59 ┆ 19376523 ┆ BARTEES STRANGE ┆ 24053        ┆ Mustang              ┆ 81193    │\n",
       "│             ┆ UTC                 ┆          ┆                 ┆              ┆                      ┆          │\n",
       "│ …           ┆ …                   ┆ …        ┆ …               ┆ …            ┆ …                    ┆ …        │\n",
       "│ pohoda      ┆ 2025-05-05 00:56:00 ┆ 22058207 ┆ MILAN CHLADIL   ┆ 3562         ┆ Bylo léto a kvet mák ┆ 17868    │\n",
       "│             ┆ UTC                 ┆          ┆                 ┆              ┆                      ┆          │\n",
       "│ dvojka      ┆ 2025-05-05 00:57:17 ┆ 22058211 ┆ GEORGE EZRA     ┆ 8605         ┆ Budapest             ┆ 25918    │\n",
       "│             ┆ UTC                 ┆          ┆                 ┆              ┆                      ┆          │\n",
       "│ pohoda      ┆ 2025-05-05 00:57:21 ┆ 22058212 ┆ NAĎA URBÁNKOVÁ  ┆ 3559         ┆ Tobě náležel čas     ┆ 8963     │\n",
       "│             ┆ UTC                 ┆          ┆                 ┆              ┆                      ┆          │\n",
       "│ jazz        ┆ 2025-05-05 00:57:34 ┆ 22058213 ┆ PIERRICK PÉDRON ┆ 2556         ┆ PP Song Tree         ┆ 35114    │\n",
       "│             ┆ UTC                 ┆          ┆                 ┆              ┆                      ┆          │\n",
       "│ radiowave   ┆ 2025-05-05 00:59:27 ┆ 22058217 ┆ GIRL_IRL &      ┆ 34598        ┆ Buzz                 ┆ 115795   │\n",
       "│             ┆ UTC                 ┆          ┆ CROSSTALK       ┆              ┆                      ┆          │\n",
       "└─────────────┴─────────────────────┴──────────┴─────────────────┴──────────────┴──────────────────────┴──────────┘"
      ]
     },
     "execution_count": 43,
     "metadata": {},
     "output_type": "execute_result"
    }
   ],
   "source": [
    "df_pl.filter(pl.col('since').dt.hour() == 0)"
   ]
  }
 ],
 "metadata": {
  "kernelspec": {
   "display_name": "Python 3 (ipykernel)",
   "language": "python",
   "name": "python3"
  },
  "language_info": {
   "codemirror_mode": {
    "name": "ipython",
    "version": 3
   },
   "file_extension": ".py",
   "mimetype": "text/x-python",
   "name": "python",
   "nbconvert_exporter": "python",
   "pygments_lexer": "ipython3",
   "version": "3.12.3"
  }
 },
 "nbformat": 4,
 "nbformat_minor": 5
}
