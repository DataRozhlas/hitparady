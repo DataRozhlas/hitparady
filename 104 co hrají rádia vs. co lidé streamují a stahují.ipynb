{
 "cells": [
  {
   "cell_type": "markdown",
   "id": "3379a928",
   "metadata": {},
   "source": [
    "Vytýkám před závorku: streamovací platformy používají typicky mladší lidi, rádio BY MĚLO BÝT PRO VŠECHNY, měli bychom na to při psaní pamatovat."
   ]
  },
  {
   "cell_type": "code",
   "execution_count": 60,
   "id": "57f0e052",
   "metadata": {},
   "outputs": [],
   "source": [
    "import os\n",
    "import pandas as pd"
   ]
  },
  {
   "cell_type": "code",
   "execution_count": 61,
   "id": "da85bd95",
   "metadata": {},
   "outputs": [],
   "source": [
    "radio = pd.read_csv(os.path.join(\"data\",\"CZ_RADIO_TOP_100_tydenni.csv\"))"
   ]
  },
  {
   "cell_type": "code",
   "execution_count": 62,
   "id": "47ab4f48",
   "metadata": {},
   "outputs": [],
   "source": [
    "stream = pd.read_csv(os.path.join(\"data\",\"CZ_SINGLES_DIGITAL_TOP_100_tydenni.csv\"))"
   ]
  },
  {
   "cell_type": "code",
   "execution_count": 63,
   "id": "bddac48c",
   "metadata": {},
   "outputs": [
    {
     "data": {
      "text/plain": [
       "2014"
      ]
     },
     "execution_count": 63,
     "metadata": {},
     "output_type": "execute_result"
    }
   ],
   "source": [
    "stream['rok'].min()"
   ]
  },
  {
   "cell_type": "code",
   "execution_count": 64,
   "id": "3c45007b",
   "metadata": {},
   "outputs": [],
   "source": [
    "radio = radio[radio['rok'] >= stream['rok'].min()]"
   ]
  },
  {
   "cell_type": "markdown",
   "id": "d68abff9",
   "metadata": {},
   "source": [
    "## Porovnání výskytů interpretů v top 100 rádio vs. stream od roku 2014"
   ]
  },
  {
   "cell_type": "code",
   "execution_count": 65,
   "id": "e51c8eca",
   "metadata": {},
   "outputs": [
    {
     "data": {
      "text/plain": [
       "interpret_hlavni\n",
       "Mirai              1180\n",
       "Kryštof             930\n",
       "Chinaski            880\n",
       "Marek Ztracený      828\n",
       "Slza                755\n",
       "Ed Sheeran          717\n",
       "Xindl X             705\n",
       "Imagine Dragons     660\n",
       "David Guetta        523\n",
       "Robin Schulz        499\n",
       "dtype: int64"
      ]
     },
     "execution_count": 65,
     "metadata": {},
     "output_type": "execute_result"
    }
   ],
   "source": [
    "radio.groupby('interpret_hlavni').size().nlargest(10)"
   ]
  },
  {
   "cell_type": "code",
   "execution_count": 66,
   "id": "568c859b",
   "metadata": {},
   "outputs": [
    {
     "data": {
      "text/plain": [
       "interpret_hlavni\n",
       "Viktor Sheen       1753\n",
       "Imagine Dragons    1488\n",
       "Ed Sheeran         1312\n",
       "Calin              1072\n",
       "Yzomandias          978\n",
       "The Weeknd          700\n",
       "Nik Tendo           695\n",
       "Kygo                625\n",
       "Onerepublic         559\n",
       "Chainsmokers        549\n",
       "dtype: int64"
      ]
     },
     "execution_count": 66,
     "metadata": {},
     "output_type": "execute_result"
    }
   ],
   "source": [
    "stream.groupby('interpret_hlavni').size().nlargest(10)"
   ]
  },
  {
   "cell_type": "code",
   "execution_count": 67,
   "id": "58f58edb",
   "metadata": {},
   "outputs": [],
   "source": [
    "pomer = (radio.groupby('interpret_hlavni').size() / stream.groupby('interpret_hlavni').size()).sort_values()"
   ]
  },
  {
   "cell_type": "markdown",
   "id": "75d4430d",
   "metadata": {},
   "source": [
    "### Co lidi streamují víc, než dramaturgové nasazují:"
   ]
  },
  {
   "cell_type": "markdown",
   "id": "5ae34fe2",
   "metadata": {},
   "source": [
    "Metodologicky velmi problematické (poměr jednotlivých účastí jednotlivých písní v žebříčcích v rádiu / online), není to objektivní pořadí, spíš pro orientaci!"
   ]
  },
  {
   "cell_type": "code",
   "execution_count": 68,
   "id": "f16b5407",
   "metadata": {},
   "outputs": [
    {
     "data": {
      "text/plain": [
       "interpret_hlavni\n",
       "Wohnout          0.008032\n",
       "Calin            0.015858\n",
       "James Hype       0.016667\n",
       "Matoma           0.027027\n",
       "Rema             0.033333\n",
       "Ben Cristovao    0.034783\n",
       "Rae Sremmurd     0.040000\n",
       "Kapitán Demo     0.042254\n",
       "Marc E. Bassy    0.047619\n",
       "Jon Bellion      0.052632\n",
       "Zhu              0.058824\n",
       "Labrinth         0.060000\n",
       "Loud Luxury      0.061224\n",
       "Queen            0.067416\n",
       "Timeflies        0.078947\n",
       "Surfaces         0.080000\n",
       "Doja Cat         0.083916\n",
       "Cardi B          0.085366\n",
       "Skrillex         0.085366\n",
       "Rixton           0.086957\n",
       "Cheat Codes      0.087912\n",
       "Luude            0.088235\n",
       "Drake            0.089506\n",
       "Fetty Wap        0.095238\n",
       "Ego              0.100000\n",
       "dtype: float64"
      ]
     },
     "execution_count": 68,
     "metadata": {},
     "output_type": "execute_result"
    }
   ],
   "source": [
    "pomer.head(25)"
   ]
  },
  {
   "cell_type": "markdown",
   "id": "b69f4791",
   "metadata": {},
   "source": [
    "### Co dramaturgové nasazují víc, než lidi poslouchají:"
   ]
  },
  {
   "cell_type": "code",
   "execution_count": 69,
   "id": "4080c37e",
   "metadata": {},
   "outputs": [
    {
     "data": {
      "text/plain": [
       "interpret_hlavni\n",
       "Poetika                   160.000000\n",
       "Purple Disco Machine       74.000000\n",
       "Lake Malawi                74.000000\n",
       "Voxel                      68.000000\n",
       "Imany                      65.000000\n",
       "David Stypka               63.000000\n",
       "Robbie Williams            58.000000\n",
       "U2                         57.000000\n",
       "Avril Lavigne              44.500000\n",
       "Bakermat                   43.000000\n",
       "Miro Žbirka                42.833333\n",
       "Lucie                      41.500000\n",
       "Biffy Clyro                41.000000\n",
       "Strumbellas                29.000000\n",
       "Junge Junge                26.750000\n",
       "Marek Ztracený             26.709677\n",
       "Ondřej Brzobohatý          23.000000\n",
       "Martin Solveig             22.666667\n",
       "Nico Santos                22.200000\n",
       "R3Hab                      21.666667\n",
       "James Blunt                20.250000\n",
       "Becky Hill                 20.200000\n",
       "Mans Zelmerlöw             18.666667\n",
       "Jelen                      17.321429\n",
       "Thirty Seconds To Mars     16.400000\n",
       "dtype: float64"
      ]
     },
     "execution_count": 69,
     "metadata": {},
     "output_type": "execute_result"
    }
   ],
   "source": [
    "pomer.dropna().nlargest(25)"
   ]
  },
  {
   "cell_type": "markdown",
   "id": "837fde50",
   "metadata": {},
   "source": [
    "ZDŮRAZŇUJI: jde o prezenci v top 100, ne poměr real vysílání / streamů. Může být zkreslené, nejde o objektivní pořadí, ale dost to napovídá."
   ]
  },
  {
   "cell_type": "markdown",
   "id": "524f72b3",
   "metadata": {},
   "source": [
    "### Rodíl nasazovanosti x streamovanosti žánrů"
   ]
  },
  {
   "cell_type": "code",
   "execution_count": 70,
   "id": "eb33b08e",
   "metadata": {},
   "outputs": [],
   "source": [
    "wikid = pd.read_json(os.path.join(\"wikidata\",\"wikidata.json\"))"
   ]
  },
  {
   "cell_type": "code",
   "execution_count": 71,
   "id": "a5bc096a",
   "metadata": {},
   "outputs": [],
   "source": [
    "zanry = pd.DataFrame(pomer).rename(columns={0:'nasazovanost'}).merge(wikid[['interpret_hlavni','zanry']], on='interpret_hlavni')"
   ]
  },
  {
   "cell_type": "code",
   "execution_count": 72,
   "id": "0fd80db3",
   "metadata": {},
   "outputs": [
    {
     "data": {
      "text/plain": [
       "zanry\n",
       "klasický heavy metal         0.067416\n",
       "drill                        0.089506\n",
       "G-Funk                       0.147727\n",
       "West Coast rap               0.147727\n",
       "conscious hip hop            0.147727\n",
       "jazz rap                     0.147727\n",
       "political hip hop            0.147727\n",
       "Horrorcore                   0.158038\n",
       "Midwest hip hop              0.158038\n",
       "dirty rap                    0.158038\n",
       "East Coast hip hop           0.186047\n",
       "big band                     0.195652\n",
       "swing                        0.195652\n",
       "cloud rap                    0.220503\n",
       "Country rap                  0.228495\n",
       "hardcore hip hop             0.237239\n",
       "samba                        0.262115\n",
       "Gangsta rap                  0.263639\n",
       "comedy hip hop               0.280826\n",
       "SoundCloud rap               0.308511\n",
       "lo-fi music                  0.308511\n",
       "future garage                0.384615\n",
       "leftfield house              0.384615\n",
       "Chillwave                    0.419355\n",
       "bluegrass                    0.419355\n",
       "garage rock                  0.419355\n",
       "hudebně dramatická tvorba    0.419355\n",
       "Slowcore                     0.422764\n",
       "sadcore                      0.422764\n",
       "bounce music                 0.438249\n",
       "Name: nasazovanost, dtype: float64"
      ]
     },
     "execution_count": 72,
     "metadata": {},
     "output_type": "execute_result"
    }
   ],
   "source": [
    "zanry.explode('zanry').groupby('zanry')['nasazovanost'].mean().dropna().nsmallest(30)"
   ]
  },
  {
   "cell_type": "code",
   "execution_count": 73,
   "id": "1d561970",
   "metadata": {},
   "outputs": [
    {
     "data": {
      "text/plain": [
       "zanry\n",
       "jazz rock                 63.000000\n",
       "post-punk                 57.000000\n",
       "post-grunge               44.500000\n",
       "dance-rock                29.020000\n",
       "soft rock                 23.143243\n",
       "Britpop                   21.437097\n",
       "blues                     17.861671\n",
       "American folk music       17.321429\n",
       "punk rock                 15.631729\n",
       "pop soul                  13.600000\n",
       "lidová hudba              13.470255\n",
       "hardstyle                 11.612745\n",
       "alternativní rock          9.398100\n",
       "folk                       9.371583\n",
       "akustická hudba            9.285714\n",
       "jazz house                 9.000000\n",
       "indie rock                 8.404081\n",
       "progresivní rock           8.233708\n",
       "dark wave                  8.000000\n",
       "industriální hudba         8.000000\n",
       "industriální rock          8.000000\n",
       "pop rock                   7.851114\n",
       "indie folk                 7.605053\n",
       "latinskoamerická hudba     7.123077\n",
       "big room house             6.822917\n",
       "taneční hudba              6.350383\n",
       "indie pop                  5.787820\n",
       "tradiční pop               5.778382\n",
       "tech house                 5.544649\n",
       "deathcore                  5.500000\n",
       "Name: nasazovanost, dtype: float64"
      ]
     },
     "execution_count": 73,
     "metadata": {},
     "output_type": "execute_result"
    }
   ],
   "source": [
    "zanry.explode('zanry').groupby('zanry')['nasazovanost'].mean().dropna().nlargest(30)"
   ]
  },
  {
   "cell_type": "markdown",
   "id": "169d4bc4",
   "metadata": {},
   "source": [
    "Zase: metodologicky je to ošementý, ale obrázek to dělá moc hezkej."
   ]
  },
  {
   "cell_type": "markdown",
   "id": "11d8df11",
   "metadata": {},
   "source": [
    "### Co lidi streamují, ale od roku 2014 nebylo v rádových TOP 100:"
   ]
  },
  {
   "cell_type": "code",
   "execution_count": 74,
   "id": "58f94d50",
   "metadata": {},
   "outputs": [
    {
     "data": {
      "text/plain": [
       "interpret_hlavni\n",
       "Viktor Sheen        1753\n",
       "Yzomandias           978\n",
       "Nik Tendo            695\n",
       "Ektor                531\n",
       "Ca$Hanova Bulhar     338\n",
       "Travis Scott         237\n",
       "Stein27              225\n",
       "Earth                198\n",
       "Xxxtentacion         195\n",
       "Robin Zoot           192\n",
       "Neighbourhood        179\n",
       "P T K                178\n",
       "Škwor                158\n",
       "Milion+              154\n",
       "Dorian               150\n",
       "Renne Dang           145\n",
       "Tom Odell            140\n",
       "Smack                137\n",
       "Juice Wrld           129\n",
       "Sergei Barracuda      93\n",
       "Koky                  92\n",
       "Hasan                 88\n",
       "Grey256               86\n",
       "Kojo                  84\n",
       "Gleb                  75\n",
       "Kontrafakt            74\n",
       "Decky                 69\n",
       "Rest                  67\n",
       "Arctic Monkeys        66\n",
       "Sto Zvířat            66\n",
       "Sima                  65\n",
       "Dababy                58\n",
       "Samey                 56\n",
       "Separ                 56\n",
       "Kanye West            55\n",
       "Hard Rico             54\n",
       "Flume                 52\n",
       "Kiiara                52\n",
       "Rammstein             52\n",
       "Elley Duhé            51\n",
       "6Ix9Ine               50\n",
       "Pil C                 50\n",
       "Future                49\n",
       "Labello               49\n",
       "Lil Uzi Vert          47\n",
       "Metro Boomin          47\n",
       "Sensey                47\n",
       "Benny Blanco          45\n",
       "Bts                   44\n",
       "Desiigner             44\n",
       "Lil Mosey             40\n",
       "Boywithuke            39\n",
       "Kordhell              39\n",
       "Pop Smoke             39\n",
       "Puerto                39\n",
       "Trevor Daniel         39\n",
       "Internet Money        37\n",
       "Thxsomch              37\n",
       "Acraze                36\n",
       "Milion Plus           36\n",
       "dtype: int64"
      ]
     },
     "execution_count": 74,
     "metadata": {},
     "output_type": "execute_result"
    }
   ],
   "source": [
    "streamovani = stream['interpret_hlavni'].drop_duplicates().to_list()\n",
    "nevysilani = [s for s in streamovani if len(radio[radio['interpret_hlavni'] == s]) == 0]\n",
    "stream[stream['interpret_hlavni'].isin(nevysilani)].groupby('interpret_hlavni').size().nlargest(60)"
   ]
  },
  {
   "cell_type": "markdown",
   "id": "4d6e9d89",
   "metadata": {},
   "source": [
    "NEMŮŽU UVĚŘIT ŽE TOTO NENÍ CHYBA"
   ]
  },
  {
   "cell_type": "markdown",
   "id": "c7a464bd",
   "metadata": {},
   "source": [
    "## Potenciální námět na domácí úkol: vydestilovat ze všech žánrů pár základních"
   ]
  },
  {
   "cell_type": "code",
   "execution_count": 75,
   "id": "874e438e",
   "metadata": {},
   "outputs": [
    {
     "data": {
      "text/plain": [
       "315"
      ]
     },
     "execution_count": 75,
     "metadata": {},
     "output_type": "execute_result"
    }
   ],
   "source": [
    "len(wikid.explode('zanry')['zanry'].drop_duplicates())"
   ]
  },
  {
   "cell_type": "code",
   "execution_count": 76,
   "id": "00e893a0",
   "metadata": {},
   "outputs": [
    {
     "data": {
      "text/plain": [
       "['Southern hip hop',\n",
       " 'hip hop',\n",
       " 'Gangsta rap',\n",
       " 'trap',\n",
       " 'hardcore hip hop',\n",
       " 'Atlanta hip hop',\n",
       " 'dirty south',\n",
       " 'pop rap',\n",
       " 'synthpop',\n",
       " 'electro hop',\n",
       " 'pop rock',\n",
       " 'pop punk',\n",
       " 'East Coast hip hop',\n",
       " None,\n",
       " 'SoundCloud rap',\n",
       " 'reggaeton',\n",
       " 'pop music',\n",
       " 'cloud rap',\n",
       " 'psychedelic rap',\n",
       " 'experimentální hip hop',\n",
       " 'alternativní hip-hop',\n",
       " 'hard rock',\n",
       " 'rock and roll',\n",
       " 'blues rock',\n",
       " 'Europop',\n",
       " 'euro disco',\n",
       " 'taneční hudba',\n",
       " 'glam rock',\n",
       " 'speed metal',\n",
       " 'power metal',\n",
       " 'heavy metal',\n",
       " 'dance-pop',\n",
       " 'elektronická hudba',\n",
       " 'soul',\n",
       " 'bílý soul',\n",
       " 'rhythm and blues',\n",
       " 'jazz',\n",
       " 'rock',\n",
       " 'barokní pop',\n",
       " 'alternative pop',\n",
       " 'Avant-pop',\n",
       " 'dark ambient',\n",
       " 'indie pop',\n",
       " 'chamber pop',\n",
       " 'electro house',\n",
       " 'progressive house',\n",
       " 'Dutch house',\n",
       " 'contemporary R&B',\n",
       " 'dancehall',\n",
       " 'reggae',\n",
       " 'elektronická taneční hudba',\n",
       " 'deep house',\n",
       " 'alternativní rock',\n",
       " 'experimentální rock',\n",
       " 'post-grunge',\n",
       " 'electronica',\n",
       " 'progresivní rock',\n",
       " 'alternativní R&B',\n",
       " 'house music',\n",
       " 'blues',\n",
       " 'shock rock',\n",
       " 'klasický heavy metal',\n",
       " 'garage rock',\n",
       " 'glam metal',\n",
       " 'neo soul',\n",
       " 'punk rock',\n",
       " 'tech house',\n",
       " 'future house',\n",
       " 'Brazilian bass',\n",
       " 'UK Garage',\n",
       " 'Trip hop',\n",
       " 'latinskoamerická hudba',\n",
       " 'folk pop',\n",
       " 'Latin pop',\n",
       " 'soft rock',\n",
       " 'folk rock',\n",
       " 'ska',\n",
       " 'opera',\n",
       " 'operatic pop',\n",
       " 'klasická hudba',\n",
       " 'šanson',\n",
       " 'tanec',\n",
       " 'dům',\n",
       " 'hip-hop kultura',\n",
       " 'eurodance',\n",
       " 'thrash metal',\n",
       " 'populární hudba',\n",
       " 'íránská pop music',\n",
       " 'post-punk revival',\n",
       " 'indie rock',\n",
       " 'psychedelický rock',\n",
       " 'samba',\n",
       " 'elektropop',\n",
       " 'emo rap',\n",
       " 'trance',\n",
       " 'psychedelický trance',\n",
       " 'vocal trance',\n",
       " 'uplifting trance',\n",
       " 'hardstyle',\n",
       " 'techno',\n",
       " 'progressive trance',\n",
       " 'future rave',\n",
       " 'alternative dance',\n",
       " 'nu-disco',\n",
       " 'Jumpstyle',\n",
       " 'Tropical house',\n",
       " 'country',\n",
       " 'Skiffle',\n",
       " 'tradiční pop',\n",
       " 'electro',\n",
       " 'beat',\n",
       " 'lidová hudba',\n",
       " 'cumbia',\n",
       " 'dark pop',\n",
       " 'Electroclash',\n",
       " 'jazz fusion',\n",
       " 'Chillwave',\n",
       " 'gospel',\n",
       " 'funk',\n",
       " 'disco',\n",
       " 'Afrobeat',\n",
       " 'hudebně dramatická tvorba',\n",
       " 'bounce music',\n",
       " 'rap',\n",
       " 'bluegrass',\n",
       " 'indie folk',\n",
       " 'folk',\n",
       " 'Latin hip hop',\n",
       " 'Medieval rock',\n",
       " 'K-pop',\n",
       " 'J-pop',\n",
       " 'rap rock',\n",
       " 'comedy rock',\n",
       " 'Britpop',\n",
       " 'American folk music',\n",
       " 'country rock',\n",
       " 'křesťanský rock',\n",
       " 'Americana',\n",
       " 'alternativní metal',\n",
       " 'Arena rock',\n",
       " 'downtempo',\n",
       " 'ambientní hudba',\n",
       " 'deathcore',\n",
       " 'metalcore',\n",
       " 'post-hardcore',\n",
       " 'teen pop',\n",
       " 'roots rock',\n",
       " 'adult contemporary',\n",
       " 'heartland rock',\n",
       " 'Horrorcore',\n",
       " 'progressive rap',\n",
       " 'Euro-Trance',\n",
       " 'variety',\n",
       " 'nová vlna',\n",
       " 'hyperpop',\n",
       " 'big beat',\n",
       " 'urban contemporary',\n",
       " 'Rave',\n",
       " 'post-punk',\n",
       " 'anarcho-punk',\n",
       " 'indietronica',\n",
       " 'Crunk',\n",
       " 'nu metal',\n",
       " 'Post-Britpop',\n",
       " 'alternativní country',\n",
       " 'Celtic rock',\n",
       " 'dream pop',\n",
       " 'Jangle pop',\n",
       " 'grunge',\n",
       " 'West Coast rap',\n",
       " 'Latin trap',\n",
       " 'French house',\n",
       " 'synth rock',\n",
       " 'leftfield house',\n",
       " 'piano rock',\n",
       " 'art rock',\n",
       " 'psychedelický pop',\n",
       " 'avantgardní jazz',\n",
       " 'art pop',\n",
       " 'jazz rock',\n",
       " 'ethereal wave',\n",
       " 'neoclassical dark wave',\n",
       " 'world music',\n",
       " 'power pop',\n",
       " 'dark wave',\n",
       " 'industriální hudba',\n",
       " 'industriální rock',\n",
       " 'smooth jazz',\n",
       " 'Moombahton',\n",
       " 'acoustic rock',\n",
       " 'reggae fusion',\n",
       " 'Reggae rock',\n",
       " 'future garage',\n",
       " 'drum and bass',\n",
       " 'EDM trap music',\n",
       " 'hardcore techno',\n",
       " 'Scandinavian pop',\n",
       " 'G-Funk',\n",
       " 'political hip hop',\n",
       " 'mafioso rap',\n",
       " 'drill',\n",
       " 'progresivní metal',\n",
       " 'New romantic',\n",
       " 'slap house',\n",
       " 'gotický metal',\n",
       " 'folktronica',\n",
       " 'alternativní hudba',\n",
       " 'Midwest hip hop',\n",
       " 'comedy hip hop',\n",
       " 'dirty rap',\n",
       " 'New Age',\n",
       " 'keltská hudba',\n",
       " 'screamo',\n",
       " 'Emo',\n",
       " 'independent music',\n",
       " 'emo pop',\n",
       " 'hip house',\n",
       " 'Groove metal',\n",
       " 'Hi-NRG',\n",
       " 'Folk punk',\n",
       " 'mumble rap',\n",
       " 'big room house',\n",
       " 'post-disco',\n",
       " 'EBM',\n",
       " 'electro-industrial',\n",
       " 'synthwave',\n",
       " 'electronic pop',\n",
       " 'glitch',\n",
       " 'Grime',\n",
       " 'Technický death metal',\n",
       " 'avantgardní metal',\n",
       " 'vocal jazz',\n",
       " 'grindie',\n",
       " 'Neue Deutsche Härte',\n",
       " 'Love metal',\n",
       " 'protopunk',\n",
       " 'funk metal',\n",
       " 'raï',\n",
       " 'Nová vlna britského heavy metalu',\n",
       " 'conscious hip hop',\n",
       " 'akustická hudba',\n",
       " 'free jazz',\n",
       " 'filmová hudba',\n",
       " 'surf rock',\n",
       " 'bhangra',\n",
       " 'British soul',\n",
       " 'Latin music',\n",
       " 'experimentální hudba',\n",
       " 'snap music',\n",
       " 'music of Hawaii',\n",
       " 'romance',\n",
       " 'estráda',\n",
       " 'dubstep',\n",
       " 'UK funky',\n",
       " 'breakstep',\n",
       " 'jazz rap',\n",
       " 'country pop',\n",
       " 'neo-psychedelia',\n",
       " 'Rapcore',\n",
       " 'rap metal',\n",
       " 'jižanský rock',\n",
       " 'jazz house',\n",
       " 'bubblegum pop',\n",
       " 'sadcore',\n",
       " 'Slowcore',\n",
       " 'funk rock',\n",
       " 'mluvené slovo',\n",
       " 'sophisti-pop',\n",
       " 'Country rap',\n",
       " 'lo-fi music',\n",
       " 'punk rap',\n",
       " 'lofi hip hop',\n",
       " 'rage rap',\n",
       " 'industriální metal',\n",
       " 'balada',\n",
       " 'indie',\n",
       " 'rocková opera',\n",
       " 'Rocksteady',\n",
       " 'happy hardcore',\n",
       " 'future bass',\n",
       " 'UK rap',\n",
       " 'big band',\n",
       " 'swing',\n",
       " 'New jack swing',\n",
       " 'symfonický rock',\n",
       " 'space rock',\n",
       " 'gothic rock',\n",
       " 'Neue Deutsche Welle',\n",
       " 'symfonický metal',\n",
       " 'ska punk',\n",
       " 'cello rock',\n",
       " 'doom metal',\n",
       " 'Electro swing',\n",
       " 'breakbeat',\n",
       " 'IDM',\n",
       " 'nu jazz',\n",
       " 'acid rock',\n",
       " 'proto-prog',\n",
       " 'Brooklyn drill',\n",
       " 'college rock',\n",
       " 'klasický rock',\n",
       " 'polka',\n",
       " 'jazz-funk',\n",
       " 'Latin rock',\n",
       " 'acid trance',\n",
       " 'dívčí skupina',\n",
       " 'dance-punk',\n",
       " 'pop soul',\n",
       " 'Psychedelická hudba',\n",
       " 'bedroom pop',\n",
       " 'dance-rock',\n",
       " 'tropical music',\n",
       " 'Highlife',\n",
       " 'Gypsy jazz',\n",
       " 'lidová píseň']"
      ]
     },
     "execution_count": 76,
     "metadata": {},
     "output_type": "execute_result"
    }
   ],
   "source": [
    "wikid.explode('zanry')['zanry'].drop_duplicates().to_list()"
   ]
  }
 ],
 "metadata": {
  "kernelspec": {
   "display_name": "Python 3 (ipykernel)",
   "language": "python",
   "name": "python3"
  },
  "language_info": {
   "codemirror_mode": {
    "name": "ipython",
    "version": 3
   },
   "file_extension": ".py",
   "mimetype": "text/x-python",
   "name": "python",
   "nbconvert_exporter": "python",
   "pygments_lexer": "ipython3",
   "version": "3.10.8"
  }
 },
 "nbformat": 4,
 "nbformat_minor": 5
}
