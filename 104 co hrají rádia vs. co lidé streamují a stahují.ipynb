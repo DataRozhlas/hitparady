{
 "cells": [
  {
   "cell_type": "markdown",
   "id": "3379a928",
   "metadata": {},
   "source": [
    "Vytýkám před závorku: streamovací platformy používají typicky mladší lidi, rádio BY MĚLO BÝT PRO VŠECHNY, měli bychom na to při psaní pamatovat."
   ]
  },
  {
   "cell_type": "code",
   "execution_count": 6,
   "id": "57f0e052",
   "metadata": {},
   "outputs": [],
   "source": [
    "import os\n",
    "import pandas as pd"
   ]
  },
  {
   "cell_type": "code",
   "execution_count": 7,
   "id": "da85bd95",
   "metadata": {},
   "outputs": [],
   "source": [
    "radio = pd.read_csv(os.path.join(\"data\",\"CZ_RADIO_TOP_100_tydenni.csv\"))"
   ]
  },
  {
   "cell_type": "code",
   "execution_count": 8,
   "id": "47ab4f48",
   "metadata": {},
   "outputs": [],
   "source": [
    "stream = pd.read_csv(os.path.join(\"data\",\"CZ_SINGLES_DIGITAL_TOP_100_tydenni.csv\"))"
   ]
  },
  {
   "cell_type": "code",
   "execution_count": 9,
   "id": "bddac48c",
   "metadata": {},
   "outputs": [
    {
     "data": {
      "text/plain": [
       "2014"
      ]
     },
     "execution_count": 9,
     "metadata": {},
     "output_type": "execute_result"
    }
   ],
   "source": [
    "stream['rok'].min()"
   ]
  },
  {
   "cell_type": "code",
   "execution_count": 10,
   "id": "3c45007b",
   "metadata": {},
   "outputs": [],
   "source": [
    "radio = radio[radio['rok'] >= stream['rok'].min()]"
   ]
  },
  {
   "cell_type": "markdown",
   "id": "d68abff9",
   "metadata": {},
   "source": [
    "## Porovnání výskytů interpretů v top 100 rádio vs. stream od roku 2014"
   ]
  },
  {
   "cell_type": "code",
   "execution_count": 11,
   "id": "e51c8eca",
   "metadata": {},
   "outputs": [
    {
     "data": {
      "text/plain": [
       "interpret_hlavni\n",
       "Mirai              1171\n",
       "Kryštof             921\n",
       "Chinaski            872\n",
       "Marek Ztracený      820\n",
       "Slza                748\n",
       "Ed Sheeran          709\n",
       "Xindl X             702\n",
       "Imagine Dragons     657\n",
       "Robin Schulz        499\n",
       "Mandrage            486\n",
       "dtype: int64"
      ]
     },
     "execution_count": 11,
     "metadata": {},
     "output_type": "execute_result"
    }
   ],
   "source": [
    "radio.groupby('interpret_hlavni').size().nlargest(10)"
   ]
  },
  {
   "cell_type": "code",
   "execution_count": 12,
   "id": "61500f83",
   "metadata": {},
   "outputs": [
    {
     "ename": "SyntaxError",
     "evalue": "cannot assign to subscript here. Maybe you meant '==' instead of '='? (3037739192.py, line 1)",
     "output_type": "error",
     "traceback": [
      "\u001b[1;36m  Cell \u001b[1;32mIn[12], line 1\u001b[1;36m\u001b[0m\n\u001b[1;33m    radio[radio['interpret_hlavni'] = 'Mirai'].groupby('week')\u001b[0m\n\u001b[1;37m          ^\u001b[0m\n\u001b[1;31mSyntaxError\u001b[0m\u001b[1;31m:\u001b[0m cannot assign to subscript here. Maybe you meant '==' instead of '='?\n"
     ]
    }
   ],
   "source": [
    "radio[radio['interpret_hlavni'] = 'Mirai'].groupby('week')"
   ]
  },
  {
   "cell_type": "code",
   "execution_count": null,
   "id": "568c859b",
   "metadata": {},
   "outputs": [],
   "source": [
    "stream.groupby('interpret_hlavni').size().nlargest(10)"
   ]
  },
  {
   "cell_type": "code",
   "execution_count": null,
   "id": "58f58edb",
   "metadata": {},
   "outputs": [],
   "source": [
    "pomer = (radio.groupby('interpret_hlavni').size() / stream.groupby('interpret_hlavni').size()).sort_values()"
   ]
  },
  {
   "cell_type": "markdown",
   "id": "75d4430d",
   "metadata": {},
   "source": [
    "### Co lidi streamují víc, než dramaturgové nasazují:"
   ]
  },
  {
   "cell_type": "code",
   "execution_count": null,
   "id": "f16b5407",
   "metadata": {},
   "outputs": [],
   "source": [
    "pomer.head(25)"
   ]
  },
  {
   "cell_type": "markdown",
   "id": "b69f4791",
   "metadata": {},
   "source": [
    "### Co dramaturgové nasazují víc, než lidi poslouchají:"
   ]
  },
  {
   "cell_type": "code",
   "execution_count": null,
   "id": "4080c37e",
   "metadata": {},
   "outputs": [],
   "source": [
    "pomer.dropna().nlargest(25)"
   ]
  },
  {
   "cell_type": "markdown",
   "id": "837fde50",
   "metadata": {},
   "source": [
    "ZDŮRAZŇUJI: jde o prezenci v top 100, ne poměr real vysílání / streamů. Může být zkreslené, nejde o objektivní pořadí, ale dost to napovídá."
   ]
  },
  {
   "cell_type": "markdown",
   "id": "524f72b3",
   "metadata": {},
   "source": [
    "### Rodíl nasazovanosti x streamovanosti žánrů"
   ]
  },
  {
   "cell_type": "code",
   "execution_count": null,
   "id": "eb33b08e",
   "metadata": {},
   "outputs": [],
   "source": [
    "wikid = pd.read_json(os.path.join(\"wikidata\",\"wikidata.json\"))"
   ]
  },
  {
   "cell_type": "code",
   "execution_count": null,
   "id": "a5bc096a",
   "metadata": {},
   "outputs": [],
   "source": [
    "zanry = pd.DataFrame(pomer).rename(columns={0:'nasazovanost'}).merge(wikid[['interpret_hlavni','zanry']], on='interpret_hlavni')"
   ]
  },
  {
   "cell_type": "code",
   "execution_count": null,
   "id": "0fd80db3",
   "metadata": {},
   "outputs": [],
   "source": [
    "zanry.explode('zanry').groupby('zanry')['nasazovanost'].mean().dropna().nsmallest(30)"
   ]
  },
  {
   "cell_type": "code",
   "execution_count": null,
   "id": "1d561970",
   "metadata": {},
   "outputs": [],
   "source": [
    "zanry.explode('zanry').groupby('zanry')['nasazovanost'].mean().dropna().nlargest(30)"
   ]
  },
  {
   "cell_type": "markdown",
   "id": "169d4bc4",
   "metadata": {},
   "source": [
    "Zase: metodologicky je to ošementý, ale obrázek to dělá moc hezkej."
   ]
  },
  {
   "cell_type": "markdown",
   "id": "11d8df11",
   "metadata": {},
   "source": [
    "### Co lidi streamují, ale od roku 2014 nebylo v rádových TOP 100:"
   ]
  },
  {
   "cell_type": "code",
   "execution_count": null,
   "id": "58f94d50",
   "metadata": {},
   "outputs": [],
   "source": [
    "streamovani = stream['interpret_hlavni'].drop_duplicates().to_list()\n",
    "nevysilani = [s for s in streamovani if len(radio[radio['interpret_hlavni'] == s]) == 0]\n",
    "stream[stream['interpret_hlavni'].isin(nevysilani)].groupby('interpret_hlavni').size().nlargest(60)"
   ]
  },
  {
   "cell_type": "markdown",
   "id": "4d6e9d89",
   "metadata": {},
   "source": [
    "DOPÍČI NEMŮŽU UVĚŘIT ŽE TOTO NENÍ CHYBA"
   ]
  },
  {
   "cell_type": "markdown",
   "id": "c7a464bd",
   "metadata": {},
   "source": [
    "## Potenciální námět na domácí úkol: vydestilovat ze všech žánrů pár základních"
   ]
  },
  {
   "cell_type": "code",
   "execution_count": null,
   "id": "874e438e",
   "metadata": {},
   "outputs": [],
   "source": [
    "len(wikid.explode('zanry')['zanry'].drop_duplicates())"
   ]
  },
  {
   "cell_type": "code",
   "execution_count": null,
   "id": "00e893a0",
   "metadata": {},
   "outputs": [],
   "source": [
    "wikid.explode('zanry')['zanry'].drop_duplicates().to_list()"
   ]
  }
 ],
 "metadata": {
  "kernelspec": {
   "display_name": "Python 3 (ipykernel)",
   "language": "python",
   "name": "python3"
  },
  "language_info": {
   "codemirror_mode": {
    "name": "ipython",
    "version": 3
   },
   "file_extension": ".py",
   "mimetype": "text/x-python",
   "name": "python",
   "nbconvert_exporter": "python",
   "pygments_lexer": "ipython3",
   "version": "3.10.8"
  }
 },
 "nbformat": 4,
 "nbformat_minor": 5
}
