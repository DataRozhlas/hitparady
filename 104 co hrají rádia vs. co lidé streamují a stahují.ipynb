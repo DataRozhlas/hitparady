{
 "cells": [
  {
   "cell_type": "markdown",
   "id": "e7fa8fd4",
   "metadata": {},
   "source": [
    "Vytýkám před závorku: streamovací platformy používají typicky mladší lidi, rádio BY MĚLO BÝT PRO VŠECHNY, měli bychom na to při psaní pamatovat."
   ]
  },
  {
   "cell_type": "code",
   "execution_count": 50,
   "id": "370d2ffe",
   "metadata": {},
   "outputs": [],
   "source": [
    "import os\n",
    "import pandas as pd"
   ]
  },
  {
   "cell_type": "code",
   "execution_count": 51,
   "id": "1c56a996",
   "metadata": {},
   "outputs": [],
   "source": [
    "radio = pd.read_csv(os.path.join(\"data\",\"CZ_RADIO_TOP_100_tydeni.csv\"))"
   ]
  },
  {
   "cell_type": "code",
   "execution_count": 52,
   "id": "8b828a09",
   "metadata": {},
   "outputs": [],
   "source": [
    "stream = pd.read_csv(os.path.join(\"data\",\"CZ_SINGLES_DIGITAL_TOP_100_tydeni.csv\"))"
   ]
  },
  {
   "cell_type": "code",
   "execution_count": 53,
   "id": "0713a6e5",
   "metadata": {},
   "outputs": [
    {
     "data": {
      "text/plain": [
       "2014"
      ]
     },
     "execution_count": 53,
     "metadata": {},
     "output_type": "execute_result"
    }
   ],
   "source": [
    "stream['rok'].min()"
   ]
  },
  {
   "cell_type": "code",
   "execution_count": 54,
   "id": "c45d10ec",
   "metadata": {},
   "outputs": [],
   "source": [
    "radio = radio[radio['rok'] >= stream['rok'].min()]"
   ]
  },
  {
   "cell_type": "markdown",
   "id": "6af45835",
   "metadata": {},
   "source": [
    "## Porovnání výskytů interpretů v top 100 rádio vs. stream od roku 2014"
   ]
  },
  {
   "cell_type": "code",
   "execution_count": 55,
   "id": "3f862c8d",
   "metadata": {},
   "outputs": [
    {
     "data": {
      "text/plain": [
       "interpret_hlavni\n",
       "Mirai              1171\n",
       "Kryštof             921\n",
       "Chinaski            872\n",
       "Marek Ztracený      820\n",
       "Slza                748\n",
       "Ed Sheeran          709\n",
       "Xindl X             702\n",
       "Imagine Dragons     657\n",
       "Robin Schulz        499\n",
       "Mandrage            486\n",
       "dtype: int64"
      ]
     },
     "execution_count": 55,
     "metadata": {},
     "output_type": "execute_result"
    }
   ],
   "source": [
    "radio.groupby('interpret_hlavni').size().nlargest(10)"
   ]
  },
  {
   "cell_type": "code",
   "execution_count": 56,
   "id": "f10ed2c2",
   "metadata": {},
   "outputs": [
    {
     "data": {
      "text/plain": [
       "interpret_hlavni\n",
       "Viktor Sheen       1698\n",
       "Imagine Dragons    1480\n",
       "Ed Sheeran         1312\n",
       "Calin              1039\n",
       "Yzomandias          973\n",
       "Nik Tendo           695\n",
       "The Weeknd          694\n",
       "Kygo                625\n",
       "Onerepublic         553\n",
       "Chainsmokers        549\n",
       "dtype: int64"
      ]
     },
     "execution_count": 56,
     "metadata": {},
     "output_type": "execute_result"
    }
   ],
   "source": [
    "stream.groupby('interpret_hlavni').size().nlargest(10)"
   ]
  },
  {
   "cell_type": "code",
   "execution_count": 57,
   "id": "876c4f1c",
   "metadata": {},
   "outputs": [],
   "source": [
    "pomer = (radio.groupby('interpret_hlavni').size() / stream.groupby('interpret_hlavni').size()).sort_values()"
   ]
  },
  {
   "cell_type": "markdown",
   "id": "c3d33251",
   "metadata": {},
   "source": [
    "### Co lidi streamují víc, než dramaturgové nasazují:"
   ]
  },
  {
   "cell_type": "code",
   "execution_count": 58,
   "id": "554d03bf",
   "metadata": {},
   "outputs": [
    {
     "data": {
      "text/plain": [
       "interpret_hlavni\n",
       "Wohnout          0.008065\n",
       "Calin            0.016362\n",
       "James Hype       0.016667\n",
       "Ben Cristovao    0.023669\n",
       "Matoma           0.027027\n",
       "Rema             0.034483\n",
       "Rae Sremmurd     0.040000\n",
       "Kapitán Demo     0.042254\n",
       "Marc E. Bassy    0.047619\n",
       "Jon Bellion      0.052632\n",
       "Zhu              0.058824\n",
       "Labrinth         0.060000\n",
       "Loud Luxury      0.061224\n",
       "Queen            0.067416\n",
       "Timeflies        0.078947\n",
       "Surfaces         0.080000\n",
       "Skrillex         0.085366\n",
       "Cardi B          0.085366\n",
       "Doja Cat         0.086331\n",
       "Rixton           0.086957\n",
       "Cheat Codes      0.087912\n",
       "Luude            0.088235\n",
       "Drake            0.090343\n",
       "Fetty Wap        0.095238\n",
       "Ego              0.100000\n",
       "dtype: float64"
      ]
     },
     "execution_count": 58,
     "metadata": {},
     "output_type": "execute_result"
    }
   ],
   "source": [
    "pomer.head(25)"
   ]
  },
  {
   "cell_type": "markdown",
   "id": "9ee317fa",
   "metadata": {},
   "source": [
    "### Co dramaturgové nasazují víc, než lidi poslouchají:"
   ]
  },
  {
   "cell_type": "code",
   "execution_count": 65,
   "id": "e43f18a4",
   "metadata": {},
   "outputs": [
    {
     "data": {
      "text/plain": [
       "interpret_hlavni\n",
       "Poetika                 156.000000\n",
       "Lake Malawi              74.000000\n",
       "Purple Disco Machine     70.000000\n",
       "Voxel                    68.000000\n",
       "Imany                    65.000000\n",
       "David Stypka             63.000000\n",
       "Robbie Williams          58.000000\n",
       "U2                       57.000000\n",
       "Avril Lavigne            44.500000\n",
       "Bakermat                 43.000000\n",
       "Miro Žbirka              42.166667\n",
       "Lucie                    41.500000\n",
       "Biffy Clyro              41.000000\n",
       "Strumbellas              29.000000\n",
       "Junge Junge              26.750000\n",
       "Marek Ztracený           26.451613\n",
       "Martin Solveig           22.666667\n",
       "Nico Santos              21.800000\n",
       "R3Hab                    21.666667\n",
       "Ondřej Brzobohatý        21.000000\n",
       "James Blunt              20.250000\n",
       "Becky Hill               20.200000\n",
       "Mans Zelmerlöw           18.666667\n",
       "Jelen                    16.964286\n",
       "Lenny                    16.052632\n",
       "dtype: float64"
      ]
     },
     "execution_count": 65,
     "metadata": {},
     "output_type": "execute_result"
    }
   ],
   "source": [
    "pomer.dropna().nlargest(25)"
   ]
  },
  {
   "cell_type": "markdown",
   "id": "3c863c8d",
   "metadata": {},
   "source": [
    "ZDŮRAZŇUJI: jde o prezenci v top 100, ne poměr real vysílání / streamů. Může být zkreslené, nejde o objektivní pořadí, ale dost to napovídá."
   ]
  },
  {
   "cell_type": "markdown",
   "id": "c2b82809",
   "metadata": {},
   "source": [
    "### Rodíl nasazovanosti x streamovanosti žánrů"
   ]
  },
  {
   "cell_type": "code",
   "execution_count": 71,
   "id": "79904f1f",
   "metadata": {},
   "outputs": [],
   "source": [
    "wikid = pd.read_json(os.path.join(\"wikidata\",\"wikidata.json\"))"
   ]
  },
  {
   "cell_type": "code",
   "execution_count": 77,
   "id": "4614722e",
   "metadata": {},
   "outputs": [],
   "source": [
    "zanry = pd.DataFrame(pomer).rename(columns={0:'nasazovanost'}).merge(wikid[['interpret_hlavni','zanry']], on='interpret_hlavni')"
   ]
  },
  {
   "cell_type": "code",
   "execution_count": 84,
   "id": "09e5adc8",
   "metadata": {},
   "outputs": [
    {
     "data": {
      "text/plain": [
       "zanry\n",
       "klasický heavy metal         0.067416\n",
       "drill                        0.090343\n",
       "G-Funk                       0.147727\n",
       "West Coast rap               0.147727\n",
       "conscious hip hop            0.147727\n",
       "jazz rap                     0.147727\n",
       "political hip hop            0.147727\n",
       "Horrorcore                   0.159780\n",
       "East Coast hip hop           0.186047\n",
       "big band                     0.195652\n",
       "swing                        0.195652\n",
       "emo rap                      0.221823\n",
       "Country rap                  0.236486\n",
       "samba                        0.262115\n",
       "Gangsta rap                  0.263639\n",
       "hardcore hip hop             0.267656\n",
       "lo-fi music                  0.308511\n",
       "future garage                0.384615\n",
       "leftfield house              0.384615\n",
       "comedy hip hop               0.413580\n",
       "Chillwave                    0.419355\n",
       "bluegrass                    0.419355\n",
       "garage rock                  0.419355\n",
       "hudebně dramatická tvorba    0.419355\n",
       "Slowcore                     0.436975\n",
       "sadcore                      0.436975\n",
       "bounce music                 0.438249\n",
       "alternativní R&B             0.446398\n",
       "psychedelický pop            0.452614\n",
       "electronic pop               0.468254\n",
       "Name: nasazovanost, dtype: float64"
      ]
     },
     "execution_count": 84,
     "metadata": {},
     "output_type": "execute_result"
    }
   ],
   "source": [
    "zanry.explode('zanry').groupby('zanry')['nasazovanost'].mean().dropna().nsmallest(30)"
   ]
  },
  {
   "cell_type": "code",
   "execution_count": 85,
   "id": "8678f083",
   "metadata": {},
   "outputs": [
    {
     "data": {
      "text/plain": [
       "zanry\n",
       "jazz rock                 63.000000\n",
       "post-punk                 57.000000\n",
       "post-grunge               44.500000\n",
       "dance-rock                29.020000\n",
       "soft rock                 23.139058\n",
       "Britpop                   21.435621\n",
       "blues                     17.855846\n",
       "American folk music       16.964286\n",
       "punk rock                 15.631737\n",
       "lidová hudba              13.468150\n",
       "pop soul                  13.100000\n",
       "hardstyle                 11.612745\n",
       "alternativní rock          9.649593\n",
       "folk                       9.370548\n",
       "akustická hudba            9.285714\n",
       "jazz house                 8.600000\n",
       "indie rock                 8.428730\n",
       "dark wave                  8.000000\n",
       "industriální hudba         8.000000\n",
       "industriální rock          8.000000\n",
       "progresivní rock           7.933708\n",
       "pop rock                   7.816070\n",
       "indie folk                 7.482337\n",
       "latinskoamerická hudba     7.123077\n",
       "big room house             6.572917\n",
       "taneční hudba              5.849248\n",
       "tradiční pop               5.778382\n",
       "indie pop                  5.771643\n",
       "deathcore                  5.500000\n",
       "pop punk                   5.445505\n",
       "Name: nasazovanost, dtype: float64"
      ]
     },
     "execution_count": 85,
     "metadata": {},
     "output_type": "execute_result"
    }
   ],
   "source": [
    "zanry.explode('zanry').groupby('zanry')['nasazovanost'].mean().dropna().nlargest(30)"
   ]
  },
  {
   "cell_type": "markdown",
   "id": "3dcbc30b",
   "metadata": {},
   "source": [
    "Zase: metodologicky je to ošementý, ale obrázek to dělá moc hezkej."
   ]
  },
  {
   "cell_type": "markdown",
   "id": "b66538dc",
   "metadata": {},
   "source": [
    "### Co lidi streamují, ale od roku 2014 nebylo v rádových TOP 100:"
   ]
  },
  {
   "cell_type": "code",
   "execution_count": 70,
   "id": "2b5e1db0",
   "metadata": {},
   "outputs": [
    {
     "data": {
      "text/plain": [
       "interpret_hlavni\n",
       "Viktor Sheen        1698\n",
       "Yzomandias           973\n",
       "Nik Tendo            695\n",
       "Ektor                523\n",
       "Ca$Hanova Bulhar     334\n",
       "Travis Scott         233\n",
       "Stein27              209\n",
       "Earth                198\n",
       "Xxxtentacion         195\n",
       "Robin Zoot           188\n",
       "Neighbourhood        175\n",
       "Milion+              154\n",
       "Škwor                154\n",
       "Dorian               150\n",
       "P T K                150\n",
       "Renne Dang           145\n",
       "Tom Odell            136\n",
       "Juice Wrld           129\n",
       "Smack                128\n",
       "Sergei Barracuda      93\n",
       "Hasan                 88\n",
       "Grey256               86\n",
       "Koky                  86\n",
       "Kojo                  77\n",
       "Gleb                  74\n",
       "Kontrafakt            74\n",
       "Decky                 69\n",
       "Rest                  67\n",
       "Arctic Monkeys        62\n",
       "Sto Zvířat            62\n",
       "Sima                  61\n",
       "Dababy                58\n",
       "Samey                 56\n",
       "Kanye West            55\n",
       "Flume                 52\n",
       "Kiiara                52\n",
       "Rammstein             52\n",
       "Separ                 52\n",
       "Elley Duhé            51\n",
       "6Ix9Ine               50\n",
       "Hard Rico             50\n",
       "Pil C                 50\n",
       "Future                49\n",
       "Labello               49\n",
       "Lil Uzi Vert          47\n",
       "Metro Boomin          47\n",
       "Sensey                47\n",
       "Benny Blanco          45\n",
       "Bts                   44\n",
       "Desiigner             44\n",
       "Lil Mosey             40\n",
       "Boywithuke            39\n",
       "Kordhell              39\n",
       "Pop Smoke             39\n",
       "Puerto                39\n",
       "Trevor Daniel         39\n",
       "Internet Money        37\n",
       "Acraze                36\n",
       "Milion Plus           36\n",
       "Roddy Ricch           36\n",
       "dtype: int64"
      ]
     },
     "execution_count": 70,
     "metadata": {},
     "output_type": "execute_result"
    }
   ],
   "source": [
    "streamovani = stream['interpret_hlavni'].drop_duplicates().to_list()\n",
    "nevysilani = [s for s in streamovani if len(radio[radio['interpret_hlavni'] == s]) == 0]\n",
    "stream[stream['interpret_hlavni'].isin(nevysilani)].groupby('interpret_hlavni').size().nlargest(60)"
   ]
  },
  {
   "cell_type": "markdown",
   "id": "214d8a5e",
   "metadata": {},
   "source": [
    "DOPÍČI NEMŮŽU UVĚŘIT ŽE TOTO NENÍ CHYBA"
   ]
  },
  {
   "cell_type": "markdown",
   "id": "fbb1ef04",
   "metadata": {},
   "source": [
    "## Potenciální námět na domácí úkol: vydestilovat ze všech žánrů pár základních"
   ]
  },
  {
   "cell_type": "code",
   "execution_count": 101,
   "id": "ad0735b9",
   "metadata": {},
   "outputs": [
    {
     "data": {
      "text/plain": [
       "309"
      ]
     },
     "execution_count": 101,
     "metadata": {},
     "output_type": "execute_result"
    }
   ],
   "source": [
    "len(wikid.explode('zanry')['zanry'].drop_duplicates())"
   ]
  },
  {
   "cell_type": "code",
   "execution_count": 102,
   "id": "70d2e31d",
   "metadata": {},
   "outputs": [
    {
     "data": {
      "text/plain": [
       "['Southern hip hop',\n",
       " 'hip hop',\n",
       " 'Gangsta rap',\n",
       " 'trap',\n",
       " 'hardcore hip hop',\n",
       " 'Atlanta hip hop',\n",
       " 'dirty south',\n",
       " 'pop rap',\n",
       " 'synthpop',\n",
       " 'electro hop',\n",
       " 'pop rock',\n",
       " 'pop punk',\n",
       " 'East Coast hip hop',\n",
       " None,\n",
       " 'SoundCloud rap',\n",
       " 'reggaeton',\n",
       " 'pop music',\n",
       " 'cloud rap',\n",
       " 'psychedelic rap',\n",
       " 'experimentální hip hop',\n",
       " 'alternativní hip-hop',\n",
       " 'hard rock',\n",
       " 'rock and roll',\n",
       " 'blues rock',\n",
       " 'Europop',\n",
       " 'euro disco',\n",
       " 'taneční hudba',\n",
       " 'glam rock',\n",
       " 'speed metal',\n",
       " 'power metal',\n",
       " 'heavy metal',\n",
       " 'dance-pop',\n",
       " 'elektronická hudba',\n",
       " 'soul',\n",
       " 'bílý soul',\n",
       " 'rhythm and blues',\n",
       " 'jazz',\n",
       " 'rock',\n",
       " 'barokní pop',\n",
       " 'alternative pop',\n",
       " 'Avant-pop',\n",
       " 'dark ambient',\n",
       " 'indie pop',\n",
       " 'chamber pop',\n",
       " 'electro house',\n",
       " 'progressive house',\n",
       " 'tech house',\n",
       " 'contemporary R&B',\n",
       " 'dancehall',\n",
       " 'reggae',\n",
       " 'elektronická taneční hudba',\n",
       " 'deep house',\n",
       " 'alternativní rock',\n",
       " 'experimentální rock',\n",
       " 'post-grunge',\n",
       " 'electronica',\n",
       " 'progresivní rock',\n",
       " 'alternativní R&B',\n",
       " 'house music',\n",
       " 'blues',\n",
       " 'shock rock',\n",
       " 'klasický heavy metal',\n",
       " 'garage rock',\n",
       " 'glam metal',\n",
       " 'neo soul',\n",
       " 'punk rock',\n",
       " 'future house',\n",
       " 'UK Garage',\n",
       " 'Trip hop',\n",
       " 'latinskoamerická hudba',\n",
       " 'folk pop',\n",
       " 'Latin pop',\n",
       " 'soft rock',\n",
       " 'folk rock',\n",
       " 'ska',\n",
       " 'opera',\n",
       " 'operatic pop',\n",
       " 'klasická hudba',\n",
       " 'šanson',\n",
       " 'tanec',\n",
       " 'dům',\n",
       " 'hip-hop kultura',\n",
       " 'eurodance',\n",
       " 'thrash metal',\n",
       " 'populární hudba',\n",
       " 'íránská pop music',\n",
       " 'post-punk revival',\n",
       " 'indie rock',\n",
       " 'psychedelický rock',\n",
       " 'samba',\n",
       " 'elektropop',\n",
       " 'emo rap',\n",
       " 'trance',\n",
       " 'psychedelický trance',\n",
       " 'vocal trance',\n",
       " 'uplifting trance',\n",
       " 'hardstyle',\n",
       " 'techno',\n",
       " 'progressive trance',\n",
       " 'future rave',\n",
       " 'alternative dance',\n",
       " 'nu-disco',\n",
       " 'Jumpstyle',\n",
       " 'Tropical house',\n",
       " 'country',\n",
       " 'tradiční pop',\n",
       " 'electro',\n",
       " 'beat',\n",
       " 'lidová hudba',\n",
       " 'cumbia',\n",
       " 'dark pop',\n",
       " 'Electroclash',\n",
       " 'jazz fusion',\n",
       " 'Chillwave',\n",
       " 'gospel',\n",
       " 'funk',\n",
       " 'disco',\n",
       " 'Afrobeat',\n",
       " 'hudebně dramatická tvorba',\n",
       " 'bounce music',\n",
       " 'rap',\n",
       " 'bluegrass',\n",
       " 'indie folk',\n",
       " 'folk',\n",
       " 'Latin hip hop',\n",
       " 'Medieval rock',\n",
       " 'K-pop',\n",
       " 'J-pop',\n",
       " 'rap rock',\n",
       " 'comedy rock',\n",
       " 'Britpop',\n",
       " 'American folk music',\n",
       " 'country rock',\n",
       " 'křesťanský rock',\n",
       " 'Americana',\n",
       " 'alternativní metal',\n",
       " 'Arena rock',\n",
       " 'downtempo',\n",
       " 'ambientní hudba',\n",
       " 'deathcore',\n",
       " 'metalcore',\n",
       " 'post-hardcore',\n",
       " 'teen pop',\n",
       " 'roots rock',\n",
       " 'adult contemporary',\n",
       " 'heartland rock',\n",
       " 'Horrorcore',\n",
       " 'progressive rap',\n",
       " 'Euro-Trance',\n",
       " 'variety',\n",
       " 'nová vlna',\n",
       " 'hyperpop',\n",
       " 'big beat',\n",
       " 'urban contemporary',\n",
       " 'Rave',\n",
       " 'post-punk',\n",
       " 'anarcho-punk',\n",
       " 'indietronica',\n",
       " 'Crunk',\n",
       " 'nu metal',\n",
       " 'Post-Britpop',\n",
       " 'alternativní country',\n",
       " 'Celtic rock',\n",
       " 'dream pop',\n",
       " 'Jangle pop',\n",
       " 'grunge',\n",
       " 'West Coast rap',\n",
       " 'Latin trap',\n",
       " 'French house',\n",
       " 'synth rock',\n",
       " 'leftfield house',\n",
       " 'piano rock',\n",
       " 'art rock',\n",
       " 'psychedelický pop',\n",
       " 'avantgardní jazz',\n",
       " 'art pop',\n",
       " 'jazz rock',\n",
       " 'ethereal wave',\n",
       " 'neoclassical dark wave',\n",
       " 'world music',\n",
       " 'power pop',\n",
       " 'Dutch house',\n",
       " 'dark wave',\n",
       " 'industriální hudba',\n",
       " 'industriální rock',\n",
       " 'smooth jazz',\n",
       " 'Moombahton',\n",
       " 'acoustic rock',\n",
       " 'reggae fusion',\n",
       " 'Reggae rock',\n",
       " 'future garage',\n",
       " 'drum and bass',\n",
       " 'EDM trap music',\n",
       " 'hardcore techno',\n",
       " 'Scandinavian pop',\n",
       " 'G-Funk',\n",
       " 'political hip hop',\n",
       " 'drill',\n",
       " 'progresivní metal',\n",
       " 'New romantic',\n",
       " 'Brazilian bass',\n",
       " 'slap house',\n",
       " 'gotický metal',\n",
       " 'folktronica',\n",
       " 'alternativní hudba',\n",
       " 'New Age',\n",
       " 'keltská hudba',\n",
       " 'screamo',\n",
       " 'Emo',\n",
       " 'independent music',\n",
       " 'emo pop',\n",
       " 'hip house',\n",
       " 'Groove metal',\n",
       " 'Hi-NRG',\n",
       " 'Folk punk',\n",
       " 'mumble rap',\n",
       " 'big room house',\n",
       " 'post-disco',\n",
       " 'EBM',\n",
       " 'electro-industrial',\n",
       " 'synthwave',\n",
       " 'electronic pop',\n",
       " 'glitch',\n",
       " 'Grime',\n",
       " 'Technický death metal',\n",
       " 'avantgardní metal',\n",
       " 'vocal jazz',\n",
       " 'grindie',\n",
       " 'Neue Deutsche Härte',\n",
       " 'Love metal',\n",
       " 'protopunk',\n",
       " 'funk metal',\n",
       " 'raï',\n",
       " 'Nová vlna britského heavy metalu',\n",
       " 'akustická hudba',\n",
       " 'free jazz',\n",
       " 'filmová hudba',\n",
       " 'surf rock',\n",
       " 'bhangra',\n",
       " 'British soul',\n",
       " 'mafioso rap',\n",
       " 'Latin music',\n",
       " 'experimentální hudba',\n",
       " 'romance',\n",
       " 'estráda',\n",
       " 'dubstep',\n",
       " 'UK funky',\n",
       " 'breakstep',\n",
       " 'conscious hip hop',\n",
       " 'jazz rap',\n",
       " 'country pop',\n",
       " 'neo-psychedelia',\n",
       " 'Rapcore',\n",
       " 'rap metal',\n",
       " 'jižanský rock',\n",
       " 'jazz house',\n",
       " 'bubblegum pop',\n",
       " 'sadcore',\n",
       " 'Slowcore',\n",
       " 'funk rock',\n",
       " 'mluvené slovo',\n",
       " 'sophisti-pop',\n",
       " 'dirty rap',\n",
       " 'snap music',\n",
       " 'Country rap',\n",
       " 'lo-fi music',\n",
       " 'punk rap',\n",
       " 'rage rap',\n",
       " 'industriální metal',\n",
       " 'balada',\n",
       " 'indie',\n",
       " 'comedy hip hop',\n",
       " 'rocková opera',\n",
       " 'Rocksteady',\n",
       " 'happy hardcore',\n",
       " 'future bass',\n",
       " 'UK rap',\n",
       " 'big band',\n",
       " 'swing',\n",
       " 'New jack swing',\n",
       " 'symfonický rock',\n",
       " 'space rock',\n",
       " 'gothic rock',\n",
       " 'Neue Deutsche Welle',\n",
       " 'symfonický metal',\n",
       " 'ska punk',\n",
       " 'cello rock',\n",
       " 'doom metal',\n",
       " 'Electro swing',\n",
       " 'breakbeat',\n",
       " 'IDM',\n",
       " 'nu jazz',\n",
       " 'acid rock',\n",
       " 'proto-prog',\n",
       " 'Brooklyn drill',\n",
       " 'college rock',\n",
       " 'klasický rock',\n",
       " 'polka',\n",
       " 'jazz-funk',\n",
       " 'Latin rock',\n",
       " 'dívčí skupina',\n",
       " 'dance-punk',\n",
       " 'pop soul',\n",
       " 'bedroom pop',\n",
       " 'dance-rock',\n",
       " 'tropical music',\n",
       " 'Highlife',\n",
       " 'Gypsy jazz',\n",
       " 'lidová píseň']"
      ]
     },
     "execution_count": 102,
     "metadata": {},
     "output_type": "execute_result"
    }
   ],
   "source": [
    "wikid.explode('zanry')['zanry'].drop_duplicates().to_list()"
   ]
  }
 ],
 "metadata": {
  "kernelspec": {
   "display_name": "Python 3 (ipykernel)",
   "language": "python",
   "name": "python3"
  },
  "language_info": {
   "codemirror_mode": {
    "name": "ipython",
    "version": 3
   },
   "file_extension": ".py",
   "mimetype": "text/x-python",
   "name": "python",
   "nbconvert_exporter": "python",
   "pygments_lexer": "ipython3",
   "version": "3.10.8"
  }
 },
 "nbformat": 4,
 "nbformat_minor": 5
}
