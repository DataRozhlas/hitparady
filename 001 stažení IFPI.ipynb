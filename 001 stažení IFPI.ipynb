{
 "cells": [
  {
   "cell_type": "code",
   "execution_count": 2,
   "id": "92a4352c",
   "metadata": {},
   "outputs": [],
   "source": [
    "hitparady = {\n",
    "    \"CZ - ALBUMS - TOP 100\": \"14\",\n",
    "    \"CZ - ALBUMS CLASSICAL - TOP 10\": \"25\",\n",
    "    \"CZ - RADIO - TOP 100\": \"2\",\n",
    "    \"CZ - RADIO - TOP 20 MODERN ROCK\": \"21\",\n",
    "    \"CZ - RADIO - TOP 50 CZ\": \"7\",\n",
    "    \"CZ - SINGLES DIGITAL - TOP 100\": \"30\",\n",
    "    \"CZ - SINGLES DIGITAL - TOP 50 CZ\": \"32\",\n",
    "    \"SK - ALBUMS - TOP 100\": \"36\",\n",
    "    \"SK - RADIO - TOP 100\": \"40\",\n",
    "    \"SK - RADIO - TOP 50 SK\": \"42\",\n",
    "    \"SK - SINGLES DIGITAL - TOP 100\": \"43\",\n",
    "    \"SK - SINGLES DIGITAL - TOP 50 SK\": \"44\"\n",
    "}"
   ]
  },
  {
   "cell_type": "code",
   "execution_count": 17,
   "id": "c8c74b83",
   "metadata": {},
   "outputs": [
    {
     "data": {
      "text/plain": [
       "12"
      ]
     },
     "execution_count": 17,
     "metadata": {},
     "output_type": "execute_result"
    }
   ],
   "source": [
    "len(hitparady)"
   ]
  },
  {
   "cell_type": "code",
   "execution_count": 8,
   "id": "ce50ec9d",
   "metadata": {},
   "outputs": [],
   "source": [
    "folder = \"ifpi\""
   ]
  },
  {
   "cell_type": "code",
   "execution_count": 25,
   "id": "af67c164",
   "metadata": {},
   "outputs": [],
   "source": [
    "import os\n",
    "\n",
    "if not os.path.exists(folder):\n",
    "    os.mkdir(folder)\n",
    "else:\n",
    "    pass"
   ]
  },
  {
   "cell_type": "code",
   "execution_count": 7,
   "id": "e20ebae3",
   "metadata": {},
   "outputs": [],
   "source": [
    "import requests"
   ]
  },
  {
   "cell_type": "code",
   "execution_count": 30,
   "id": "39930922",
   "metadata": {},
   "outputs": [],
   "source": [
    "from IPython.display import clear_output"
   ]
  },
  {
   "cell_type": "code",
   "execution_count": 34,
   "id": "0a289913",
   "metadata": {},
   "outputs": [],
   "source": [
    "def stahni_hitparady(hitparady, weekmin, weekmax):\n",
    "    celkem = len(hitparady) * (weekmax - weekmin + 1)\n",
    "    prubeh = 0\n",
    "    for key, val in hitparady.items():\n",
    "        for i in range (weekmin, weekmax + 1):\n",
    "            url = f\"https://ifpicr.cz/hitparada/{val}?weekId={i}\"\n",
    "            r = requests.get(url)\n",
    "            prubeh = prubeh + 1\n",
    "            print(f\"{prubeh}/{celkem} / {url}\")\n",
    "            if \"Při načítání hitparády došlo k chybě\" not in r.text:\n",
    "                with open(os.path.join(folder, f\"{val}-{i}.html\"), 'w+', encoding='utf-8') as f:\n",
    "                    f.write(r.text)\n",
    "            clear_output(wait=True)"
   ]
  },
  {
   "cell_type": "code",
   "execution_count": 35,
   "id": "3405590c",
   "metadata": {},
   "outputs": [
    {
     "name": "stdout",
     "output_type": "stream",
     "text": [
      "18804/18804 / https://ifpicr.cz/hitparada/44?weekId=2862\n"
     ]
    }
   ],
   "source": [
    "stahni_hitparady(hitparady, 1296, 2862)"
   ]
  }
 ],
 "metadata": {
  "kernelspec": {
   "display_name": "Python 3 (ipykernel)",
   "language": "python",
   "name": "python3"
  },
  "language_info": {
   "codemirror_mode": {
    "name": "ipython",
    "version": 3
   },
   "file_extension": ".py",
   "mimetype": "text/x-python",
   "name": "python",
   "nbconvert_exporter": "python",
   "pygments_lexer": "ipython3",
   "version": "3.10.8"
  }
 },
 "nbformat": 4,
 "nbformat_minor": 5
}
