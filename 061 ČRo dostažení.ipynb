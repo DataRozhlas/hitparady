{
 "cells": [
  {
   "cell_type": "code",
   "execution_count": 25,
   "id": "9f703388",
   "metadata": {},
   "outputs": [],
   "source": [
    "folder = \"cro\""
   ]
  },
  {
   "cell_type": "code",
   "execution_count": 26,
   "id": "b585315b",
   "metadata": {},
   "outputs": [],
   "source": [
    "import os\n",
    "\n",
    "if not os.path.exists(folder):\n",
    "    os.mkdir(folder)\n",
    "else:\n",
    "    pass"
   ]
  },
  {
   "cell_type": "code",
   "execution_count": 27,
   "id": "ae8a3193",
   "metadata": {},
   "outputs": [],
   "source": [
    "import requests"
   ]
  },
  {
   "cell_type": "code",
   "execution_count": 28,
   "id": "198aa17f",
   "metadata": {},
   "outputs": [],
   "source": [
    "from datetime import date, timedelta"
   ]
  },
  {
   "cell_type": "code",
   "execution_count": 29,
   "id": "9fca0570",
   "metadata": {},
   "outputs": [],
   "source": [
    "start_dt = date(2023, 10, 22)\n",
    "end_dt = date(2024, 8, 27)\n",
    "delta = timedelta(days=1)\n",
    "dates = []\n",
    "while start_dt <= end_dt:\n",
    "    dates.append(str(start_dt.isoformat()))\n",
    "    start_dt += delta"
   ]
  },
  {
   "cell_type": "code",
   "execution_count": 30,
   "id": "e2167982",
   "metadata": {},
   "outputs": [],
   "source": [
    "stanice = ['radiozurnal','radiowave','dvojka','vltava','plus','d-dur','jazz','pohoda']"
   ]
  },
  {
   "cell_type": "code",
   "execution_count": 31,
   "id": "05541ba4",
   "metadata": {},
   "outputs": [],
   "source": [
    "json_files = [f for f in os.listdir(\"cro\") if f.endswith('.json')]"
   ]
  },
  {
   "cell_type": "code",
   "execution_count": 32,
   "id": "93e23454",
   "metadata": {},
   "outputs": [],
   "source": [
    "for s in stanice:\n",
    "    for d in dates:\n",
    "        file = f\"{s}-{d}.json\"\n",
    "        if file not in json_files:\n",
    "            url = f\"\"\"https://api.rozhlas.cz/data/v2/playlist/day/{d.replace(\"-\", \"/\")}/{s}.json\"\"\"\n",
    "            r = requests.get(url)\n",
    "            with open(os.path.join(folder, file), 'w+', encoding='utf-8') as f:\n",
    "                print(url)\n",
    "                f.write(r.text)"
   ]
  }
 ],
 "metadata": {
  "kernelspec": {
   "display_name": "Python 3 (ipykernel)",
   "language": "python",
   "name": "python3"
  },
  "language_info": {
   "codemirror_mode": {
    "name": "ipython",
    "version": 3
   },
   "file_extension": ".py",
   "mimetype": "text/x-python",
   "name": "python",
   "nbconvert_exporter": "python",
   "pygments_lexer": "ipython3",
   "version": "3.11.5"
  }
 },
 "nbformat": 4,
 "nbformat_minor": 5
}
