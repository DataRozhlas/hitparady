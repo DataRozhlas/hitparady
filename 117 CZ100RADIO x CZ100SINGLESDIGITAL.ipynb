{
 "cells": [
  {
   "cell_type": "code",
   "execution_count": 1,
   "id": "b0bc27a1",
   "metadata": {},
   "outputs": [],
   "source": [
    "import os\n",
    "import pandas as pd"
   ]
  },
  {
   "cell_type": "code",
   "execution_count": 2,
   "id": "6d45d777",
   "metadata": {},
   "outputs": [],
   "source": [
    "df = pd.read_csv(os.path.join(\"data\",\"CZ_RADIO_TOP_100_tydenni.csv\"))\n",
    "df['week'] = df.apply(lambda x: f\"\"\"{x['rok']}-{x['tyden']}\"\"\", axis = 1)\n",
    "df = df[df['rok'] >= 2015]"
   ]
  },
  {
   "cell_type": "code",
   "execution_count": 3,
   "id": "c55279c3",
   "metadata": {},
   "outputs": [],
   "source": [
    "def nejmensispolecny(x):\n",
    "    x = x.lower().split('(')[0]\n",
    "    if x[0:3] == \"the\":\n",
    "        x = x.replace(\"the \",\"\")\n",
    "    return x"
   ]
  },
  {
   "cell_type": "code",
   "execution_count": 4,
   "id": "556a8e59",
   "metadata": {},
   "outputs": [],
   "source": [
    "df['track'] = df['track'].apply(lambda x: nejmensispolecny(x))\n",
    "df['interpret_hlavni'] = df['interpret_hlavni'].apply(lambda x: nejmensispolecny(x))"
   ]
  },
  {
   "cell_type": "code",
   "execution_count": 5,
   "id": "108e8e9e",
   "metadata": {},
   "outputs": [],
   "source": [
    "stream = pd.read_csv(os.path.join(\"data\",\"CZ_SINGLES_DIGITAL_TOP_100_tydenni.csv\"))\n",
    "stream = stream[stream['rok'] >= 2015]\n",
    "stream['week'] = stream.apply(lambda x: f\"\"\"{x['rok']}-{x['tyden']}\"\"\", axis = 1)"
   ]
  },
  {
   "cell_type": "code",
   "execution_count": 6,
   "id": "59dd7c1a",
   "metadata": {},
   "outputs": [],
   "source": [
    "stream['track'] = stream['track'].apply(lambda x: nejmensispolecny(x))\n",
    "stream['interpret_hlavni'] = stream['interpret_hlavni'].apply(lambda x: nejmensispolecny(x))"
   ]
  },
  {
   "cell_type": "code",
   "execution_count": 7,
   "id": "6651bb29",
   "metadata": {},
   "outputs": [],
   "source": [
    "df['w'] = df['week'].rank(method='dense').astype(int)"
   ]
  },
  {
   "cell_type": "code",
   "execution_count": 8,
   "id": "0da9d7b3",
   "metadata": {},
   "outputs": [
    {
     "data": {
      "text/html": [
       "<div>\n",
       "<style scoped>\n",
       "    .dataframe tbody tr th:only-of-type {\n",
       "        vertical-align: middle;\n",
       "    }\n",
       "\n",
       "    .dataframe tbody tr th {\n",
       "        vertical-align: top;\n",
       "    }\n",
       "\n",
       "    .dataframe thead th {\n",
       "        text-align: right;\n",
       "    }\n",
       "</style>\n",
       "<table border=\"1\" class=\"dataframe\">\n",
       "  <thead>\n",
       "    <tr style=\"text-align: right;\">\n",
       "      <th></th>\n",
       "      <th>Unnamed: 0</th>\n",
       "      <th>hitparada</th>\n",
       "      <th>rok</th>\n",
       "      <th>tyden</th>\n",
       "      <th>week</th>\n",
       "      <th>pozice</th>\n",
       "      <th>track</th>\n",
       "      <th>interpret</th>\n",
       "      <th>interpret_hlavni</th>\n",
       "      <th>vydavatel</th>\n",
       "      <th>w</th>\n",
       "    </tr>\n",
       "  </thead>\n",
       "  <tbody>\n",
       "    <tr>\n",
       "      <th>45900</th>\n",
       "      <td>46000</td>\n",
       "      <td>CZ - RADIO - TOP 100</td>\n",
       "      <td>2015</td>\n",
       "      <td>1</td>\n",
       "      <td>2015-1</td>\n",
       "      <td>1</td>\n",
       "      <td>víno</td>\n",
       "      <td>Chinaski</td>\n",
       "      <td>chinaski</td>\n",
       "      <td>Brainzone</td>\n",
       "      <td>1</td>\n",
       "    </tr>\n",
       "    <tr>\n",
       "      <th>45901</th>\n",
       "      <td>46001</td>\n",
       "      <td>CZ - RADIO - TOP 100</td>\n",
       "      <td>2015</td>\n",
       "      <td>1</td>\n",
       "      <td>2015-1</td>\n",
       "      <td>2</td>\n",
       "      <td>geronimo</td>\n",
       "      <td>Sheppard</td>\n",
       "      <td>sheppard</td>\n",
       "      <td>Universal Music</td>\n",
       "      <td>1</td>\n",
       "    </tr>\n",
       "    <tr>\n",
       "      <th>45902</th>\n",
       "      <td>46002</td>\n",
       "      <td>CZ - RADIO - TOP 100</td>\n",
       "      <td>2015</td>\n",
       "      <td>1</td>\n",
       "      <td>2015-1</td>\n",
       "      <td>3</td>\n",
       "      <td>shower</td>\n",
       "      <td>Becky G</td>\n",
       "      <td>becky g</td>\n",
       "      <td>Sony Music</td>\n",
       "      <td>1</td>\n",
       "    </tr>\n",
       "    <tr>\n",
       "      <th>45903</th>\n",
       "      <td>46003</td>\n",
       "      <td>CZ - RADIO - TOP 100</td>\n",
       "      <td>2015</td>\n",
       "      <td>1</td>\n",
       "      <td>2015-1</td>\n",
       "      <td>4</td>\n",
       "      <td>when the beat drops out</td>\n",
       "      <td>Marlon Roudette</td>\n",
       "      <td>marlon roudette</td>\n",
       "      <td>Universal Music</td>\n",
       "      <td>1</td>\n",
       "    </tr>\n",
       "    <tr>\n",
       "      <th>45904</th>\n",
       "      <td>46004</td>\n",
       "      <td>CZ - RADIO - TOP 100</td>\n",
       "      <td>2015</td>\n",
       "      <td>1</td>\n",
       "      <td>2015-1</td>\n",
       "      <td>5</td>\n",
       "      <td>take me to church</td>\n",
       "      <td>Hozier</td>\n",
       "      <td>hozier</td>\n",
       "      <td>Universal Music</td>\n",
       "      <td>1</td>\n",
       "    </tr>\n",
       "    <tr>\n",
       "      <th>...</th>\n",
       "      <td>...</td>\n",
       "      <td>...</td>\n",
       "      <td>...</td>\n",
       "      <td>...</td>\n",
       "      <td>...</td>\n",
       "      <td>...</td>\n",
       "      <td>...</td>\n",
       "      <td>...</td>\n",
       "      <td>...</td>\n",
       "      <td>...</td>\n",
       "      <td>...</td>\n",
       "    </tr>\n",
       "    <tr>\n",
       "      <th>90995</th>\n",
       "      <td>97195</td>\n",
       "      <td>CZ - RADIO - TOP 100</td>\n",
       "      <td>2023</td>\n",
       "      <td>43</td>\n",
       "      <td>2023-43</td>\n",
       "      <td>96</td>\n",
       "      <td>friend for life</td>\n",
       "      <td>X Ambassadors &amp; Medium Build</td>\n",
       "      <td>x ambassadors</td>\n",
       "      <td>Nan</td>\n",
       "      <td>445</td>\n",
       "    </tr>\n",
       "    <tr>\n",
       "      <th>90996</th>\n",
       "      <td>97196</td>\n",
       "      <td>CZ - RADIO - TOP 100</td>\n",
       "      <td>2023</td>\n",
       "      <td>43</td>\n",
       "      <td>2023-43</td>\n",
       "      <td>97</td>\n",
       "      <td>snap</td>\n",
       "      <td>Rosa Linn</td>\n",
       "      <td>rosa linn</td>\n",
       "      <td>Sony Music</td>\n",
       "      <td>445</td>\n",
       "    </tr>\n",
       "    <tr>\n",
       "      <th>90997</th>\n",
       "      <td>97197</td>\n",
       "      <td>CZ - RADIO - TOP 100</td>\n",
       "      <td>2023</td>\n",
       "      <td>43</td>\n",
       "      <td>2023-43</td>\n",
       "      <td>98</td>\n",
       "      <td>without you</td>\n",
       "      <td>Tribbs</td>\n",
       "      <td>tribbs</td>\n",
       "      <td>Nan</td>\n",
       "      <td>445</td>\n",
       "    </tr>\n",
       "    <tr>\n",
       "      <th>90998</th>\n",
       "      <td>97198</td>\n",
       "      <td>CZ - RADIO - TOP 100</td>\n",
       "      <td>2023</td>\n",
       "      <td>43</td>\n",
       "      <td>2023-43</td>\n",
       "      <td>99</td>\n",
       "      <td>meltdown</td>\n",
       "      <td>Niall Horan</td>\n",
       "      <td>niall horan</td>\n",
       "      <td>Universal Music</td>\n",
       "      <td>445</td>\n",
       "    </tr>\n",
       "    <tr>\n",
       "      <th>90999</th>\n",
       "      <td>97199</td>\n",
       "      <td>CZ - RADIO - TOP 100</td>\n",
       "      <td>2023</td>\n",
       "      <td>43</td>\n",
       "      <td>2023-43</td>\n",
       "      <td>100</td>\n",
       "      <td>do nebe se propadám</td>\n",
       "      <td>Kryštof</td>\n",
       "      <td>kryštof</td>\n",
       "      <td>I.Richmond.P./Universal Music</td>\n",
       "      <td>445</td>\n",
       "    </tr>\n",
       "  </tbody>\n",
       "</table>\n",
       "<p>45100 rows × 11 columns</p>\n",
       "</div>"
      ],
      "text/plain": [
       "       Unnamed: 0             hitparada   rok  tyden     week  pozice  \\\n",
       "45900       46000  CZ - RADIO - TOP 100  2015      1   2015-1       1   \n",
       "45901       46001  CZ - RADIO - TOP 100  2015      1   2015-1       2   \n",
       "45902       46002  CZ - RADIO - TOP 100  2015      1   2015-1       3   \n",
       "45903       46003  CZ - RADIO - TOP 100  2015      1   2015-1       4   \n",
       "45904       46004  CZ - RADIO - TOP 100  2015      1   2015-1       5   \n",
       "...           ...                   ...   ...    ...      ...     ...   \n",
       "90995       97195  CZ - RADIO - TOP 100  2023     43  2023-43      96   \n",
       "90996       97196  CZ - RADIO - TOP 100  2023     43  2023-43      97   \n",
       "90997       97197  CZ - RADIO - TOP 100  2023     43  2023-43      98   \n",
       "90998       97198  CZ - RADIO - TOP 100  2023     43  2023-43      99   \n",
       "90999       97199  CZ - RADIO - TOP 100  2023     43  2023-43     100   \n",
       "\n",
       "                         track                     interpret interpret_hlavni  \\\n",
       "45900                     víno                      Chinaski         chinaski   \n",
       "45901                 geronimo                      Sheppard         sheppard   \n",
       "45902                   shower                       Becky G          becky g   \n",
       "45903  when the beat drops out               Marlon Roudette  marlon roudette   \n",
       "45904        take me to church                        Hozier           hozier   \n",
       "...                        ...                           ...              ...   \n",
       "90995          friend for life  X Ambassadors & Medium Build    x ambassadors   \n",
       "90996                     snap                     Rosa Linn        rosa linn   \n",
       "90997              without you                        Tribbs           tribbs   \n",
       "90998                 meltdown                   Niall Horan      niall horan   \n",
       "90999      do nebe se propadám                       Kryštof          kryštof   \n",
       "\n",
       "                           vydavatel    w  \n",
       "45900                      Brainzone    1  \n",
       "45901                Universal Music    1  \n",
       "45902                     Sony Music    1  \n",
       "45903                Universal Music    1  \n",
       "45904                Universal Music    1  \n",
       "...                              ...  ...  \n",
       "90995                            Nan  445  \n",
       "90996                     Sony Music  445  \n",
       "90997                            Nan  445  \n",
       "90998                Universal Music  445  \n",
       "90999  I.Richmond.P./Universal Music  445  \n",
       "\n",
       "[45100 rows x 11 columns]"
      ]
     },
     "execution_count": 8,
     "metadata": {},
     "output_type": "execute_result"
    }
   ],
   "source": [
    "df"
   ]
  },
  {
   "cell_type": "code",
   "execution_count": 9,
   "id": "776fadd4",
   "metadata": {},
   "outputs": [],
   "source": [
    "stream['w'] = stream['week'].rank(method='dense').astype(int)"
   ]
  },
  {
   "cell_type": "code",
   "execution_count": 10,
   "id": "dab99ba6",
   "metadata": {},
   "outputs": [
    {
     "data": {
      "text/html": [
       "<div>\n",
       "<style scoped>\n",
       "    .dataframe tbody tr th:only-of-type {\n",
       "        vertical-align: middle;\n",
       "    }\n",
       "\n",
       "    .dataframe tbody tr th {\n",
       "        vertical-align: top;\n",
       "    }\n",
       "\n",
       "    .dataframe thead th {\n",
       "        text-align: right;\n",
       "    }\n",
       "</style>\n",
       "<table border=\"1\" class=\"dataframe\">\n",
       "  <thead>\n",
       "    <tr style=\"text-align: right;\">\n",
       "      <th></th>\n",
       "      <th>Unnamed: 0</th>\n",
       "      <th>hitparada</th>\n",
       "      <th>rok</th>\n",
       "      <th>tyden</th>\n",
       "      <th>week</th>\n",
       "      <th>pozice</th>\n",
       "      <th>track</th>\n",
       "      <th>interpret</th>\n",
       "      <th>interpret_hlavni</th>\n",
       "      <th>vydavatel</th>\n",
       "      <th>w</th>\n",
       "    </tr>\n",
       "  </thead>\n",
       "  <tbody>\n",
       "    <tr>\n",
       "      <th>3000</th>\n",
       "      <td>3100</td>\n",
       "      <td>CZ - SINGLES DIGITAL - TOP 100</td>\n",
       "      <td>2015</td>\n",
       "      <td>1</td>\n",
       "      <td>2015-1</td>\n",
       "      <td>1</td>\n",
       "      <td>take me to church</td>\n",
       "      <td>Hozier</td>\n",
       "      <td>hozier</td>\n",
       "      <td>Universal Music</td>\n",
       "      <td>1</td>\n",
       "    </tr>\n",
       "    <tr>\n",
       "      <th>3001</th>\n",
       "      <td>3101</td>\n",
       "      <td>CZ - SINGLES DIGITAL - TOP 100</td>\n",
       "      <td>2015</td>\n",
       "      <td>1</td>\n",
       "      <td>2015-1</td>\n",
       "      <td>2</td>\n",
       "      <td>thinking out loud</td>\n",
       "      <td>Ed Sheeran</td>\n",
       "      <td>ed sheeran</td>\n",
       "      <td>Warner Music</td>\n",
       "      <td>1</td>\n",
       "    </tr>\n",
       "    <tr>\n",
       "      <th>3002</th>\n",
       "      <td>3102</td>\n",
       "      <td>CZ - SINGLES DIGITAL - TOP 100</td>\n",
       "      <td>2015</td>\n",
       "      <td>1</td>\n",
       "      <td>2015-1</td>\n",
       "      <td>3</td>\n",
       "      <td>outside</td>\n",
       "      <td>Calvin Harris Feat. Ellie Goulding</td>\n",
       "      <td>calvin harris</td>\n",
       "      <td>Sony Music</td>\n",
       "      <td>1</td>\n",
       "    </tr>\n",
       "    <tr>\n",
       "      <th>3003</th>\n",
       "      <td>3103</td>\n",
       "      <td>CZ - SINGLES DIGITAL - TOP 100</td>\n",
       "      <td>2015</td>\n",
       "      <td>1</td>\n",
       "      <td>2015-1</td>\n",
       "      <td>4</td>\n",
       "      <td>uptown funk</td>\n",
       "      <td>Mark Ronson Feat. Bruno Mars</td>\n",
       "      <td>mark ronson</td>\n",
       "      <td>Sony Music</td>\n",
       "      <td>1</td>\n",
       "    </tr>\n",
       "    <tr>\n",
       "      <th>3004</th>\n",
       "      <td>3104</td>\n",
       "      <td>CZ - SINGLES DIGITAL - TOP 100</td>\n",
       "      <td>2015</td>\n",
       "      <td>1</td>\n",
       "      <td>2015-1</td>\n",
       "      <td>5</td>\n",
       "      <td>prayer in c</td>\n",
       "      <td>Lilly Wood &amp; The Prick And Robin Schulz</td>\n",
       "      <td>lilly wood</td>\n",
       "      <td>Warner Music</td>\n",
       "      <td>1</td>\n",
       "    </tr>\n",
       "    <tr>\n",
       "      <th>...</th>\n",
       "      <td>...</td>\n",
       "      <td>...</td>\n",
       "      <td>...</td>\n",
       "      <td>...</td>\n",
       "      <td>...</td>\n",
       "      <td>...</td>\n",
       "      <td>...</td>\n",
       "      <td>...</td>\n",
       "      <td>...</td>\n",
       "      <td>...</td>\n",
       "      <td>...</td>\n",
       "    </tr>\n",
       "    <tr>\n",
       "      <th>48095</th>\n",
       "      <td>54695</td>\n",
       "      <td>CZ - SINGLES DIGITAL - TOP 100</td>\n",
       "      <td>2023</td>\n",
       "      <td>43</td>\n",
       "      <td>2023-43</td>\n",
       "      <td>96</td>\n",
       "      <td>my eyes</td>\n",
       "      <td>Travis Scott</td>\n",
       "      <td>travis scott</td>\n",
       "      <td>Sony Music</td>\n",
       "      <td>445</td>\n",
       "    </tr>\n",
       "    <tr>\n",
       "      <th>48096</th>\n",
       "      <td>54696</td>\n",
       "      <td>CZ - SINGLES DIGITAL - TOP 100</td>\n",
       "      <td>2023</td>\n",
       "      <td>43</td>\n",
       "      <td>2023-43</td>\n",
       "      <td>97</td>\n",
       "      <td>heat waves</td>\n",
       "      <td>Glass Animals</td>\n",
       "      <td>glass animals</td>\n",
       "      <td>Universal Music</td>\n",
       "      <td>445</td>\n",
       "    </tr>\n",
       "    <tr>\n",
       "      <th>48097</th>\n",
       "      <td>54697</td>\n",
       "      <td>CZ - SINGLES DIGITAL - TOP 100</td>\n",
       "      <td>2023</td>\n",
       "      <td>43</td>\n",
       "      <td>2023-43</td>\n",
       "      <td>98</td>\n",
       "      <td>we fell in love in october</td>\n",
       "      <td>Girl In Red</td>\n",
       "      <td>girl in red</td>\n",
       "      <td>Awal Recordings</td>\n",
       "      <td>445</td>\n",
       "    </tr>\n",
       "    <tr>\n",
       "      <th>48098</th>\n",
       "      <td>54698</td>\n",
       "      <td>CZ - SINGLES DIGITAL - TOP 100</td>\n",
       "      <td>2023</td>\n",
       "      <td>43</td>\n",
       "      <td>2023-43</td>\n",
       "      <td>99</td>\n",
       "      <td>where are you now</td>\n",
       "      <td>Lost Frequencies &amp; Calum Scott</td>\n",
       "      <td>lost frequencies</td>\n",
       "      <td>Sony Music</td>\n",
       "      <td>445</td>\n",
       "    </tr>\n",
       "    <tr>\n",
       "      <th>48099</th>\n",
       "      <td>54699</td>\n",
       "      <td>CZ - SINGLES DIGITAL - TOP 100</td>\n",
       "      <td>2023</td>\n",
       "      <td>43</td>\n",
       "      <td>2023-43</td>\n",
       "      <td>100</td>\n",
       "      <td>sprinter</td>\n",
       "      <td>Dave &amp; Central Cee</td>\n",
       "      <td>dave</td>\n",
       "      <td>Universal Music</td>\n",
       "      <td>445</td>\n",
       "    </tr>\n",
       "  </tbody>\n",
       "</table>\n",
       "<p>45100 rows × 11 columns</p>\n",
       "</div>"
      ],
      "text/plain": [
       "       Unnamed: 0                       hitparada   rok  tyden     week  \\\n",
       "3000         3100  CZ - SINGLES DIGITAL - TOP 100  2015      1   2015-1   \n",
       "3001         3101  CZ - SINGLES DIGITAL - TOP 100  2015      1   2015-1   \n",
       "3002         3102  CZ - SINGLES DIGITAL - TOP 100  2015      1   2015-1   \n",
       "3003         3103  CZ - SINGLES DIGITAL - TOP 100  2015      1   2015-1   \n",
       "3004         3104  CZ - SINGLES DIGITAL - TOP 100  2015      1   2015-1   \n",
       "...           ...                             ...   ...    ...      ...   \n",
       "48095       54695  CZ - SINGLES DIGITAL - TOP 100  2023     43  2023-43   \n",
       "48096       54696  CZ - SINGLES DIGITAL - TOP 100  2023     43  2023-43   \n",
       "48097       54697  CZ - SINGLES DIGITAL - TOP 100  2023     43  2023-43   \n",
       "48098       54698  CZ - SINGLES DIGITAL - TOP 100  2023     43  2023-43   \n",
       "48099       54699  CZ - SINGLES DIGITAL - TOP 100  2023     43  2023-43   \n",
       "\n",
       "       pozice                       track  \\\n",
       "3000        1           take me to church   \n",
       "3001        2           thinking out loud   \n",
       "3002        3                     outside   \n",
       "3003        4                 uptown funk   \n",
       "3004        5                 prayer in c   \n",
       "...       ...                         ...   \n",
       "48095      96                     my eyes   \n",
       "48096      97                  heat waves   \n",
       "48097      98  we fell in love in october   \n",
       "48098      99           where are you now   \n",
       "48099     100                    sprinter   \n",
       "\n",
       "                                     interpret  interpret_hlavni  \\\n",
       "3000                                    Hozier            hozier   \n",
       "3001                                Ed Sheeran        ed sheeran   \n",
       "3002        Calvin Harris Feat. Ellie Goulding     calvin harris   \n",
       "3003              Mark Ronson Feat. Bruno Mars       mark ronson   \n",
       "3004   Lilly Wood & The Prick And Robin Schulz        lilly wood   \n",
       "...                                        ...               ...   \n",
       "48095                             Travis Scott      travis scott   \n",
       "48096                            Glass Animals     glass animals   \n",
       "48097                              Girl In Red       girl in red   \n",
       "48098           Lost Frequencies & Calum Scott  lost frequencies   \n",
       "48099                       Dave & Central Cee              dave   \n",
       "\n",
       "             vydavatel    w  \n",
       "3000   Universal Music    1  \n",
       "3001      Warner Music    1  \n",
       "3002        Sony Music    1  \n",
       "3003        Sony Music    1  \n",
       "3004      Warner Music    1  \n",
       "...                ...  ...  \n",
       "48095       Sony Music  445  \n",
       "48096  Universal Music  445  \n",
       "48097  Awal Recordings  445  \n",
       "48098       Sony Music  445  \n",
       "48099  Universal Music  445  \n",
       "\n",
       "[45100 rows x 11 columns]"
      ]
     },
     "execution_count": 10,
     "metadata": {},
     "output_type": "execute_result"
    }
   ],
   "source": [
    "stream"
   ]
  },
  {
   "cell_type": "markdown",
   "id": "ca5dd022",
   "metadata": {},
   "source": [
    "## Porovnání písní: která bodovala dřív online (-) a která v rádiu (+)"
   ]
  },
  {
   "cell_type": "code",
   "execution_count": 11,
   "id": "582bb759",
   "metadata": {},
   "outputs": [],
   "source": [
    "jednicky_radio = df[df['pozice'] == 1].groupby(['interpret_hlavni','track'])['w'].min()"
   ]
  },
  {
   "cell_type": "code",
   "execution_count": 12,
   "id": "fcf5cdf8",
   "metadata": {},
   "outputs": [],
   "source": [
    "jednicky_stream = stream[stream['pozice'] == 1].groupby(['interpret_hlavni','track'])['w'].min()"
   ]
  },
  {
   "cell_type": "code",
   "execution_count": 13,
   "id": "8a9bb370",
   "metadata": {},
   "outputs": [
    {
     "data": {
      "text/plain": [
       "interpret_hlavni  track         \n",
       "24kgoldn          mood              286\n",
       "6ix9ine           gooba             267\n",
       "adele             easy on me        343\n",
       "                  hello              39\n",
       "alan walker       faded              60\n",
       "                                   ... \n",
       "yzomandias        designer flow     296\n",
       "                  free karlo        398\n",
       "                  rodinnej typ      354\n",
       "                  rolls             282\n",
       "zayn              dusk till dawn    140\n",
       "Name: w, Length: 96, dtype: int32"
      ]
     },
     "execution_count": 13,
     "metadata": {},
     "output_type": "execute_result"
    }
   ],
   "source": [
    "jednicky_stream"
   ]
  },
  {
   "cell_type": "code",
   "execution_count": 14,
   "id": "22c454a5",
   "metadata": {},
   "outputs": [
    {
     "data": {
      "text/plain": [
       "interpret_hlavni   track            \n",
       "imagine dragons    bad liar            -53.0\n",
       "hozier             take me to church   -33.0\n",
       "twenty one pilots  heathens            -15.0\n",
       "ed sheeran         i don't care        -13.0\n",
       "shawn mendes       senorita            -12.0\n",
       "Name: w, dtype: float64"
      ]
     },
     "execution_count": 14,
     "metadata": {},
     "output_type": "execute_result"
    }
   ],
   "source": [
    "(jednicky_stream - jednicky_radio).dropna().sort_values().head()"
   ]
  },
  {
   "cell_type": "code",
   "execution_count": 15,
   "id": "5780f420",
   "metadata": {},
   "outputs": [
    {
     "data": {
      "text/plain": [
       "interpret_hlavni  track              \n",
       "justin bieber     love yourself          -1.0\n",
       "ed sheeran        shape of you            0.0\n",
       "alan walker       faded                   0.0\n",
       "ellie goulding    love me like you do     0.0\n",
       "ava max           sweet but psycho       11.0\n",
       "Name: w, dtype: float64"
      ]
     },
     "execution_count": 15,
     "metadata": {},
     "output_type": "execute_result"
    }
   ],
   "source": [
    "(jednicky_stream - jednicky_radio).dropna().sort_values().tail()"
   ]
  },
  {
   "cell_type": "code",
   "execution_count": 16,
   "id": "8d75a9ab",
   "metadata": {},
   "outputs": [
    {
     "data": {
      "text/plain": [
       "-9.666666666666666"
      ]
     },
     "execution_count": 16,
     "metadata": {},
     "output_type": "execute_result"
    }
   ],
   "source": [
    "(jednicky_stream - jednicky_radio).dropna().mean()"
   ]
  },
  {
   "cell_type": "code",
   "execution_count": 17,
   "id": "2884875e",
   "metadata": {},
   "outputs": [
    {
     "data": {
      "text/plain": [
       "interpret_hlavni  track               \n",
       "ed sheeran        happier                -87.0\n",
       "sam smith         too good at goodbyes   -67.0\n",
       "shawn mendes      stitches               -61.0\n",
       "justin bieber     sorry                  -58.0\n",
       "billie eilish     therefore i am         -58.0\n",
       "                                          ... \n",
       "julia michaels    issues                  28.0\n",
       "alan walker       alone                   31.0\n",
       "ofenbach          katchi                  38.0\n",
       "sheppard          geronimo                44.0\n",
       "david guetta      dangerous               44.0\n",
       "Name: w, Length: 167, dtype: float64"
      ]
     },
     "execution_count": 17,
     "metadata": {},
     "output_type": "execute_result"
    }
   ],
   "source": [
    "dodeseti_radio = df[df['pozice'] <= 10].groupby(['interpret_hlavni','track'])['w'].min()\n",
    "dodeseti_stream = stream[stream['pozice'] <= 10].groupby(['interpret_hlavni','track'])['w'].min()\n",
    "(dodeseti_stream - dodeseti_radio).dropna().sort_values()"
   ]
  },
  {
   "cell_type": "code",
   "execution_count": 18,
   "id": "8e5a2051",
   "metadata": {},
   "outputs": [
    {
     "data": {
      "text/plain": [
       "-9.479041916167665"
      ]
     },
     "execution_count": 18,
     "metadata": {},
     "output_type": "execute_result"
    }
   ],
   "source": [
    "(dodeseti_stream - dodeseti_radio).dropna().mean()"
   ]
  },
  {
   "cell_type": "code",
   "execution_count": 19,
   "id": "d3246e64",
   "metadata": {},
   "outputs": [
    {
     "data": {
      "text/plain": [
       "-9.0"
      ]
     },
     "execution_count": 19,
     "metadata": {},
     "output_type": "execute_result"
    }
   ],
   "source": [
    "(dodeseti_stream - dodeseti_radio).dropna().median()"
   ]
  },
  {
   "cell_type": "code",
   "execution_count": 20,
   "id": "853552a7",
   "metadata": {},
   "outputs": [
    {
     "data": {
      "text/plain": [
       "interpret_hlavni  track                    \n",
       "taylor swift      cruel summer                -204.0\n",
       "jubel             dancing in the moonlight    -103.0\n",
       "martin garrix     high on life                 -98.0\n",
       "ed sheeran        happier                      -69.0\n",
       "p!nk              just give me a reason        -65.0\n",
       "                                               ...  \n",
       "coldplay          viva la vida                 263.0\n",
       "olga lounová      jsem optimista               313.0\n",
       "jelen             magdaléna                    363.0\n",
       "kabát             western boogie               378.0\n",
       "amy macdonald     this is the life             411.0\n",
       "Name: w, Length: 874, dtype: float64"
      ]
     },
     "execution_count": 20,
     "metadata": {},
     "output_type": "execute_result"
    }
   ],
   "source": [
    "dosta_radio = df[df['pozice'] <= 100].groupby(['interpret_hlavni','track'])['w'].min()\n",
    "dosta_stream = stream[stream['pozice'] <= 100].groupby(['interpret_hlavni','track'])['w'].min()\n",
    "(dosta_stream - dosta_radio).dropna().sort_values()"
   ]
  },
  {
   "cell_type": "code",
   "execution_count": 21,
   "id": "52cf607c",
   "metadata": {},
   "outputs": [
    {
     "data": {
      "text/plain": [
       "-1.1418764302059496"
      ]
     },
     "execution_count": 21,
     "metadata": {},
     "output_type": "execute_result"
    }
   ],
   "source": [
    "(dosta_stream - dosta_radio).dropna().mean()"
   ]
  },
  {
   "cell_type": "code",
   "execution_count": 22,
   "id": "5ce1ccfc",
   "metadata": {},
   "outputs": [
    {
     "data": {
      "text/plain": [
       "-4.0"
      ]
     },
     "execution_count": 22,
     "metadata": {},
     "output_type": "execute_result"
    }
   ],
   "source": [
    "(dosta_stream - dosta_radio).dropna().median()"
   ]
  },
  {
   "cell_type": "markdown",
   "id": "fbab1c6c",
   "metadata": {},
   "source": [
    "Polovina písniček je o 4 týdny nebo více dřív populární online než v rádiu."
   ]
  },
  {
   "cell_type": "markdown",
   "id": "f0d599f3",
   "metadata": {},
   "source": [
    "## Vývoj v čase?"
   ]
  },
  {
   "cell_type": "code",
   "execution_count": 23,
   "id": "53cdc2de",
   "metadata": {},
   "outputs": [],
   "source": [
    "rozdily = pd.DataFrame((dosta_stream - dosta_radio).dropna().sort_values()).rename(columns={'w': 'rozdil'})"
   ]
  },
  {
   "cell_type": "code",
   "execution_count": 24,
   "id": "fdee6da4",
   "metadata": {},
   "outputs": [
    {
     "data": {
      "text/html": [
       "<div>\n",
       "<style scoped>\n",
       "    .dataframe tbody tr th:only-of-type {\n",
       "        vertical-align: middle;\n",
       "    }\n",
       "\n",
       "    .dataframe tbody tr th {\n",
       "        vertical-align: top;\n",
       "    }\n",
       "\n",
       "    .dataframe thead th {\n",
       "        text-align: right;\n",
       "    }\n",
       "</style>\n",
       "<table border=\"1\" class=\"dataframe\">\n",
       "  <thead>\n",
       "    <tr style=\"text-align: right;\">\n",
       "      <th></th>\n",
       "      <th></th>\n",
       "      <th>rozdil</th>\n",
       "    </tr>\n",
       "    <tr>\n",
       "      <th>interpret_hlavni</th>\n",
       "      <th>track</th>\n",
       "      <th></th>\n",
       "    </tr>\n",
       "  </thead>\n",
       "  <tbody>\n",
       "    <tr>\n",
       "      <th>taylor swift</th>\n",
       "      <th>cruel summer</th>\n",
       "      <td>-204.0</td>\n",
       "    </tr>\n",
       "    <tr>\n",
       "      <th>jubel</th>\n",
       "      <th>dancing in the moonlight</th>\n",
       "      <td>-103.0</td>\n",
       "    </tr>\n",
       "    <tr>\n",
       "      <th>martin garrix</th>\n",
       "      <th>high on life</th>\n",
       "      <td>-98.0</td>\n",
       "    </tr>\n",
       "    <tr>\n",
       "      <th>ed sheeran</th>\n",
       "      <th>happier</th>\n",
       "      <td>-69.0</td>\n",
       "    </tr>\n",
       "    <tr>\n",
       "      <th>p!nk</th>\n",
       "      <th>just give me a reason</th>\n",
       "      <td>-65.0</td>\n",
       "    </tr>\n",
       "    <tr>\n",
       "      <th>...</th>\n",
       "      <th>...</th>\n",
       "      <td>...</td>\n",
       "    </tr>\n",
       "    <tr>\n",
       "      <th>coldplay</th>\n",
       "      <th>viva la vida</th>\n",
       "      <td>263.0</td>\n",
       "    </tr>\n",
       "    <tr>\n",
       "      <th>olga lounová</th>\n",
       "      <th>jsem optimista</th>\n",
       "      <td>313.0</td>\n",
       "    </tr>\n",
       "    <tr>\n",
       "      <th>jelen</th>\n",
       "      <th>magdaléna</th>\n",
       "      <td>363.0</td>\n",
       "    </tr>\n",
       "    <tr>\n",
       "      <th>kabát</th>\n",
       "      <th>western boogie</th>\n",
       "      <td>378.0</td>\n",
       "    </tr>\n",
       "    <tr>\n",
       "      <th>amy macdonald</th>\n",
       "      <th>this is the life</th>\n",
       "      <td>411.0</td>\n",
       "    </tr>\n",
       "  </tbody>\n",
       "</table>\n",
       "<p>874 rows × 1 columns</p>\n",
       "</div>"
      ],
      "text/plain": [
       "                                            rozdil\n",
       "interpret_hlavni track                            \n",
       "taylor swift     cruel summer               -204.0\n",
       "jubel            dancing in the moonlight   -103.0\n",
       "martin garrix    high on life                -98.0\n",
       "ed sheeran       happier                     -69.0\n",
       "p!nk             just give me a reason       -65.0\n",
       "...                                            ...\n",
       "coldplay         viva la vida                263.0\n",
       "olga lounová     jsem optimista              313.0\n",
       "jelen            magdaléna                   363.0\n",
       "kabát            western boogie              378.0\n",
       "amy macdonald    this is the life            411.0\n",
       "\n",
       "[874 rows x 1 columns]"
      ]
     },
     "execution_count": 24,
     "metadata": {},
     "output_type": "execute_result"
    }
   ],
   "source": [
    "rozdily"
   ]
  },
  {
   "cell_type": "code",
   "execution_count": 25,
   "id": "0245c582",
   "metadata": {},
   "outputs": [],
   "source": [
    "poprve_vysilana = pd.DataFrame(df.groupby(['interpret_hlavni','track'])['rok'].min())"
   ]
  },
  {
   "cell_type": "code",
   "execution_count": 26,
   "id": "53f4faee",
   "metadata": {},
   "outputs": [
    {
     "data": {
      "text/html": [
       "<div>\n",
       "<style scoped>\n",
       "    .dataframe tbody tr th:only-of-type {\n",
       "        vertical-align: middle;\n",
       "    }\n",
       "\n",
       "    .dataframe tbody tr th {\n",
       "        vertical-align: top;\n",
       "    }\n",
       "\n",
       "    .dataframe thead th {\n",
       "        text-align: right;\n",
       "    }\n",
       "</style>\n",
       "<table border=\"1\" class=\"dataframe\">\n",
       "  <thead>\n",
       "    <tr style=\"text-align: right;\">\n",
       "      <th></th>\n",
       "      <th></th>\n",
       "      <th>rok</th>\n",
       "    </tr>\n",
       "    <tr>\n",
       "      <th>interpret_hlavni</th>\n",
       "      <th>track</th>\n",
       "      <th></th>\n",
       "    </tr>\n",
       "  </thead>\n",
       "  <tbody>\n",
       "    <tr>\n",
       "      <th rowspan=\"3\" valign=\"top\">24kgoldn</th>\n",
       "      <th>bite</th>\n",
       "      <td>2023</td>\n",
       "    </tr>\n",
       "    <tr>\n",
       "      <th>mood</th>\n",
       "      <td>2020</td>\n",
       "    </tr>\n",
       "    <tr>\n",
       "      <th>more than friends</th>\n",
       "      <td>2022</td>\n",
       "    </tr>\n",
       "    <tr>\n",
       "      <th>2choice</th>\n",
       "      <th>reasons to love you</th>\n",
       "      <td>2018</td>\n",
       "    </tr>\n",
       "    <tr>\n",
       "      <th>2kbaby</th>\n",
       "      <th>like this</th>\n",
       "      <td>2021</td>\n",
       "    </tr>\n",
       "    <tr>\n",
       "      <th>...</th>\n",
       "      <th>...</th>\n",
       "      <td>...</td>\n",
       "    </tr>\n",
       "    <tr>\n",
       "      <th>zhu</th>\n",
       "      <th>faded</th>\n",
       "      <td>2015</td>\n",
       "    </tr>\n",
       "    <tr>\n",
       "      <th rowspan=\"3\" valign=\"top\">zoe wees</th>\n",
       "      <th>control</th>\n",
       "      <td>2020</td>\n",
       "    </tr>\n",
       "    <tr>\n",
       "      <th>girls like us</th>\n",
       "      <td>2021</td>\n",
       "    </tr>\n",
       "    <tr>\n",
       "      <th>third wheel</th>\n",
       "      <td>2022</td>\n",
       "    </tr>\n",
       "    <tr>\n",
       "      <th>zoči voči</th>\n",
       "      <th>romantik</th>\n",
       "      <td>2016</td>\n",
       "    </tr>\n",
       "  </tbody>\n",
       "</table>\n",
       "<p>2350 rows × 1 columns</p>\n",
       "</div>"
      ],
      "text/plain": [
       "                                       rok\n",
       "interpret_hlavni track                    \n",
       "24kgoldn         bite                 2023\n",
       "                 mood                 2020\n",
       "                 more than friends    2022\n",
       "2choice          reasons to love you  2018\n",
       "2kbaby           like this            2021\n",
       "...                                    ...\n",
       "zhu              faded                2015\n",
       "zoe wees         control              2020\n",
       "                 girls like us        2021\n",
       "                 third wheel          2022\n",
       "zoči voči        romantik             2016\n",
       "\n",
       "[2350 rows x 1 columns]"
      ]
     },
     "execution_count": 26,
     "metadata": {},
     "output_type": "execute_result"
    }
   ],
   "source": [
    "poprve_vysilana"
   ]
  },
  {
   "cell_type": "code",
   "execution_count": 27,
   "id": "352a93dc",
   "metadata": {},
   "outputs": [],
   "source": [
    "poprve_vysilana = poprve_vysilana.merge(rozdily, left_index=True, right_index=True, how = 'outer')"
   ]
  },
  {
   "cell_type": "code",
   "execution_count": 28,
   "id": "8c28cd98",
   "metadata": {},
   "outputs": [
    {
     "data": {
      "text/html": [
       "<div>\n",
       "<style scoped>\n",
       "    .dataframe tbody tr th:only-of-type {\n",
       "        vertical-align: middle;\n",
       "    }\n",
       "\n",
       "    .dataframe tbody tr th {\n",
       "        vertical-align: top;\n",
       "    }\n",
       "\n",
       "    .dataframe thead th {\n",
       "        text-align: right;\n",
       "    }\n",
       "</style>\n",
       "<table border=\"1\" class=\"dataframe\">\n",
       "  <thead>\n",
       "    <tr style=\"text-align: right;\">\n",
       "      <th></th>\n",
       "      <th></th>\n",
       "      <th>rok</th>\n",
       "      <th>rozdil</th>\n",
       "    </tr>\n",
       "    <tr>\n",
       "      <th>interpret_hlavni</th>\n",
       "      <th>track</th>\n",
       "      <th></th>\n",
       "      <th></th>\n",
       "    </tr>\n",
       "  </thead>\n",
       "  <tbody>\n",
       "    <tr>\n",
       "      <th rowspan=\"3\" valign=\"top\">24kgoldn</th>\n",
       "      <th>bite</th>\n",
       "      <td>2023</td>\n",
       "      <td>NaN</td>\n",
       "    </tr>\n",
       "    <tr>\n",
       "      <th>mood</th>\n",
       "      <td>2020</td>\n",
       "      <td>-14.0</td>\n",
       "    </tr>\n",
       "    <tr>\n",
       "      <th>more than friends</th>\n",
       "      <td>2022</td>\n",
       "      <td>NaN</td>\n",
       "    </tr>\n",
       "    <tr>\n",
       "      <th>2choice</th>\n",
       "      <th>reasons to love you</th>\n",
       "      <td>2018</td>\n",
       "      <td>NaN</td>\n",
       "    </tr>\n",
       "    <tr>\n",
       "      <th>2kbaby</th>\n",
       "      <th>like this</th>\n",
       "      <td>2021</td>\n",
       "      <td>NaN</td>\n",
       "    </tr>\n",
       "    <tr>\n",
       "      <th>...</th>\n",
       "      <th>...</th>\n",
       "      <td>...</td>\n",
       "      <td>...</td>\n",
       "    </tr>\n",
       "    <tr>\n",
       "      <th>zhu</th>\n",
       "      <th>faded</th>\n",
       "      <td>2015</td>\n",
       "      <td>NaN</td>\n",
       "    </tr>\n",
       "    <tr>\n",
       "      <th rowspan=\"3\" valign=\"top\">zoe wees</th>\n",
       "      <th>control</th>\n",
       "      <td>2020</td>\n",
       "      <td>NaN</td>\n",
       "    </tr>\n",
       "    <tr>\n",
       "      <th>girls like us</th>\n",
       "      <td>2021</td>\n",
       "      <td>NaN</td>\n",
       "    </tr>\n",
       "    <tr>\n",
       "      <th>third wheel</th>\n",
       "      <td>2022</td>\n",
       "      <td>NaN</td>\n",
       "    </tr>\n",
       "    <tr>\n",
       "      <th>zoči voči</th>\n",
       "      <th>romantik</th>\n",
       "      <td>2016</td>\n",
       "      <td>NaN</td>\n",
       "    </tr>\n",
       "  </tbody>\n",
       "</table>\n",
       "<p>2350 rows × 2 columns</p>\n",
       "</div>"
      ],
      "text/plain": [
       "                                       rok  rozdil\n",
       "interpret_hlavni track                            \n",
       "24kgoldn         bite                 2023     NaN\n",
       "                 mood                 2020   -14.0\n",
       "                 more than friends    2022     NaN\n",
       "2choice          reasons to love you  2018     NaN\n",
       "2kbaby           like this            2021     NaN\n",
       "...                                    ...     ...\n",
       "zhu              faded                2015     NaN\n",
       "zoe wees         control              2020     NaN\n",
       "                 girls like us        2021     NaN\n",
       "                 third wheel          2022     NaN\n",
       "zoči voči        romantik             2016     NaN\n",
       "\n",
       "[2350 rows x 2 columns]"
      ]
     },
     "execution_count": 28,
     "metadata": {},
     "output_type": "execute_result"
    }
   ],
   "source": [
    "poprve_vysilana"
   ]
  },
  {
   "cell_type": "code",
   "execution_count": 29,
   "id": "f6a6d865",
   "metadata": {},
   "outputs": [
    {
     "data": {
      "text/plain": [
       "<Axes: xlabel='rok'>"
      ]
     },
     "execution_count": 29,
     "metadata": {},
     "output_type": "execute_result"
    },
    {
     "data": {
      "image/png": "[encoded data removed]",
      "text/plain": [
       "<Figure size 432x288 with 1 Axes>"
      ]
     },
     "metadata": {
      "needs_background": "light"
     },
     "output_type": "display_data"
    }
   ],
   "source": [
    "poprve_vysilana.groupby('rok')['rozdil'].median().plot.bar()"
   ]
  },
  {
   "cell_type": "markdown",
   "id": "3bac8d19",
   "metadata": {},
   "source": [
    "Tohle asi žádnej příběh nevypráví + nejsem si jistej, zda je ten výpočet metodologicky ok."
   ]
  }
 ],
 "metadata": {
  "kernelspec": {
   "display_name": "Python 3 (ipykernel)",
   "language": "python",
   "name": "python3"
  },
  "language_info": {
   "codemirror_mode": {
    "name": "ipython",
    "version": 3
   },
   "file_extension": ".py",
   "mimetype": "text/x-python",
   "name": "python",
   "nbconvert_exporter": "python",
   "pygments_lexer": "ipython3",
   "version": "3.10.8"
  }
 },
 "nbformat": 4,
 "nbformat_minor": 5
}
