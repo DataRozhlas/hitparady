{
 "cells": [
  {
   "cell_type": "code",
   "execution_count": 115,
   "id": "b0bc27a1",
   "metadata": {},
   "outputs": [],
   "source": [
    "import os\n",
    "import pandas as pd"
   ]
  },
  {
   "cell_type": "code",
   "execution_count": 116,
   "id": "6d45d777",
   "metadata": {},
   "outputs": [],
   "source": [
    "df = pd.read_csv(os.path.join(\"data\",\"CZ_RADIO_TOP_100_tydenni.csv\"))\n",
    "df['week'] = df.apply(lambda x: f\"\"\"{x['rok']}-{x['tyden']}\"\"\", axis = 1)\n",
    "df = df[df['rok'] >= 2015]"
   ]
  },
  {
   "cell_type": "code",
   "execution_count": 117,
   "id": "c55279c3",
   "metadata": {},
   "outputs": [],
   "source": [
    "def nejmensispolecny(x):\n",
    "    x = x.lower().split('(')[0]\n",
    "    if x[0:3] == \"the\":\n",
    "        x = x.replace(\"the \",\"\")\n",
    "    return x"
   ]
  },
  {
   "cell_type": "code",
   "execution_count": 118,
   "id": "556a8e59",
   "metadata": {},
   "outputs": [],
   "source": [
    "df['track'] = df['track'].apply(lambda x: nejmensispolecny(x))\n",
    "df['interpret_hlavni'] = df['interpret_hlavni'].apply(lambda x: nejmensispolecny(x))"
   ]
  },
  {
   "cell_type": "code",
   "execution_count": 119,
   "id": "108e8e9e",
   "metadata": {},
   "outputs": [],
   "source": [
    "stream = pd.read_csv(os.path.join(\"data\",\"CZ_SINGLES_DIGITAL_TOP_100_tydenni.csv\"))\n",
    "stream = stream[stream['rok'] >= 2015]\n",
    "stream['week'] = stream.apply(lambda x: f\"\"\"{x['rok']}-{x['tyden']}\"\"\", axis = 1)"
   ]
  },
  {
   "cell_type": "code",
   "execution_count": 120,
   "id": "59dd7c1a",
   "metadata": {},
   "outputs": [],
   "source": [
    "stream['track'] = stream['track'].apply(lambda x: nejmensispolecny(x))\n",
    "stream['interpret_hlavni'] = stream['interpret_hlavni'].apply(lambda x: nejmensispolecny(x))"
   ]
  },
  {
   "cell_type": "code",
   "execution_count": 121,
   "id": "6651bb29",
   "metadata": {},
   "outputs": [],
   "source": [
    "df['w'] = df['week'].rank(method='dense').astype(int)"
   ]
  },
  {
   "cell_type": "code",
   "execution_count": 122,
   "id": "0da9d7b3",
   "metadata": {},
   "outputs": [
    {
     "data": {
      "text/html": [
       "<div>\n",
       "<style scoped>\n",
       "    .dataframe tbody tr th:only-of-type {\n",
       "        vertical-align: middle;\n",
       "    }\n",
       "\n",
       "    .dataframe tbody tr th {\n",
       "        vertical-align: top;\n",
       "    }\n",
       "\n",
       "    .dataframe thead th {\n",
       "        text-align: right;\n",
       "    }\n",
       "</style>\n",
       "<table border=\"1\" class=\"dataframe\">\n",
       "  <thead>\n",
       "    <tr style=\"text-align: right;\">\n",
       "      <th></th>\n",
       "      <th>Unnamed: 0</th>\n",
       "      <th>hitparada</th>\n",
       "      <th>rok</th>\n",
       "      <th>tyden</th>\n",
       "      <th>week</th>\n",
       "      <th>pozice</th>\n",
       "      <th>track</th>\n",
       "      <th>interpret</th>\n",
       "      <th>interpret_hlavni</th>\n",
       "      <th>vydavatel</th>\n",
       "      <th>w</th>\n",
       "    </tr>\n",
       "  </thead>\n",
       "  <tbody>\n",
       "    <tr>\n",
       "      <th>45900</th>\n",
       "      <td>46000</td>\n",
       "      <td>CZ - RADIO - TOP 100</td>\n",
       "      <td>2015</td>\n",
       "      <td>1</td>\n",
       "      <td>2015-1</td>\n",
       "      <td>1</td>\n",
       "      <td>víno</td>\n",
       "      <td>Chinaski</td>\n",
       "      <td>chinaski</td>\n",
       "      <td>Brainzone</td>\n",
       "      <td>1</td>\n",
       "    </tr>\n",
       "    <tr>\n",
       "      <th>45901</th>\n",
       "      <td>46001</td>\n",
       "      <td>CZ - RADIO - TOP 100</td>\n",
       "      <td>2015</td>\n",
       "      <td>1</td>\n",
       "      <td>2015-1</td>\n",
       "      <td>2</td>\n",
       "      <td>geronimo</td>\n",
       "      <td>Sheppard</td>\n",
       "      <td>sheppard</td>\n",
       "      <td>Universal Music</td>\n",
       "      <td>1</td>\n",
       "    </tr>\n",
       "    <tr>\n",
       "      <th>45902</th>\n",
       "      <td>46002</td>\n",
       "      <td>CZ - RADIO - TOP 100</td>\n",
       "      <td>2015</td>\n",
       "      <td>1</td>\n",
       "      <td>2015-1</td>\n",
       "      <td>3</td>\n",
       "      <td>shower</td>\n",
       "      <td>Becky G</td>\n",
       "      <td>becky g</td>\n",
       "      <td>Sony Music</td>\n",
       "      <td>1</td>\n",
       "    </tr>\n",
       "    <tr>\n",
       "      <th>45903</th>\n",
       "      <td>46003</td>\n",
       "      <td>CZ - RADIO - TOP 100</td>\n",
       "      <td>2015</td>\n",
       "      <td>1</td>\n",
       "      <td>2015-1</td>\n",
       "      <td>4</td>\n",
       "      <td>when the beat drops out</td>\n",
       "      <td>Marlon Roudette</td>\n",
       "      <td>marlon roudette</td>\n",
       "      <td>Universal Music</td>\n",
       "      <td>1</td>\n",
       "    </tr>\n",
       "    <tr>\n",
       "      <th>45904</th>\n",
       "      <td>46004</td>\n",
       "      <td>CZ - RADIO - TOP 100</td>\n",
       "      <td>2015</td>\n",
       "      <td>1</td>\n",
       "      <td>2015-1</td>\n",
       "      <td>5</td>\n",
       "      <td>take me to church</td>\n",
       "      <td>Hozier</td>\n",
       "      <td>hozier</td>\n",
       "      <td>Universal Music</td>\n",
       "      <td>1</td>\n",
       "    </tr>\n",
       "    <tr>\n",
       "      <th>...</th>\n",
       "      <td>...</td>\n",
       "      <td>...</td>\n",
       "      <td>...</td>\n",
       "      <td>...</td>\n",
       "      <td>...</td>\n",
       "      <td>...</td>\n",
       "      <td>...</td>\n",
       "      <td>...</td>\n",
       "      <td>...</td>\n",
       "      <td>...</td>\n",
       "      <td>...</td>\n",
       "    </tr>\n",
       "    <tr>\n",
       "      <th>90595</th>\n",
       "      <td>96695</td>\n",
       "      <td>CZ - RADIO - TOP 100</td>\n",
       "      <td>2023</td>\n",
       "      <td>39</td>\n",
       "      <td>2023-39</td>\n",
       "      <td>96</td>\n",
       "      <td>happy</td>\n",
       "      <td>Nf</td>\n",
       "      <td>nf</td>\n",
       "      <td>Universal Music</td>\n",
       "      <td>440</td>\n",
       "    </tr>\n",
       "    <tr>\n",
       "      <th>90596</th>\n",
       "      <td>96696</td>\n",
       "      <td>CZ - RADIO - TOP 100</td>\n",
       "      <td>2023</td>\n",
       "      <td>39</td>\n",
       "      <td>2023-39</td>\n",
       "      <td>97</td>\n",
       "      <td>one &amp; only</td>\n",
       "      <td>Oliver Tree</td>\n",
       "      <td>oliver tree</td>\n",
       "      <td>Warner Music</td>\n",
       "      <td>440</td>\n",
       "    </tr>\n",
       "    <tr>\n",
       "      <th>90597</th>\n",
       "      <td>96697</td>\n",
       "      <td>CZ - RADIO - TOP 100</td>\n",
       "      <td>2023</td>\n",
       "      <td>39</td>\n",
       "      <td>2023-39</td>\n",
       "      <td>98</td>\n",
       "      <td>gravity</td>\n",
       "      <td>Twocolors &amp; Ásdís</td>\n",
       "      <td>twocolors</td>\n",
       "      <td>Universal Music</td>\n",
       "      <td>440</td>\n",
       "    </tr>\n",
       "    <tr>\n",
       "      <th>90598</th>\n",
       "      <td>96698</td>\n",
       "      <td>CZ - RADIO - TOP 100</td>\n",
       "      <td>2023</td>\n",
       "      <td>39</td>\n",
       "      <td>2023-39</td>\n",
       "      <td>99</td>\n",
       "      <td>runaway</td>\n",
       "      <td>P!Nk</td>\n",
       "      <td>p!nk</td>\n",
       "      <td>Sony Music</td>\n",
       "      <td>440</td>\n",
       "    </tr>\n",
       "    <tr>\n",
       "      <th>90599</th>\n",
       "      <td>96699</td>\n",
       "      <td>CZ - RADIO - TOP 100</td>\n",
       "      <td>2023</td>\n",
       "      <td>39</td>\n",
       "      <td>2023-39</td>\n",
       "      <td>100</td>\n",
       "      <td>kings &amp; queens</td>\n",
       "      <td>Ava Max</td>\n",
       "      <td>ava max</td>\n",
       "      <td>Warner Music</td>\n",
       "      <td>440</td>\n",
       "    </tr>\n",
       "  </tbody>\n",
       "</table>\n",
       "<p>44700 rows × 11 columns</p>\n",
       "</div>"
      ],
      "text/plain": [
       "       Unnamed: 0             hitparada   rok  tyden     week  pozice  \\\n",
       "45900       46000  CZ - RADIO - TOP 100  2015      1   2015-1       1   \n",
       "45901       46001  CZ - RADIO - TOP 100  2015      1   2015-1       2   \n",
       "45902       46002  CZ - RADIO - TOP 100  2015      1   2015-1       3   \n",
       "45903       46003  CZ - RADIO - TOP 100  2015      1   2015-1       4   \n",
       "45904       46004  CZ - RADIO - TOP 100  2015      1   2015-1       5   \n",
       "...           ...                   ...   ...    ...      ...     ...   \n",
       "90595       96695  CZ - RADIO - TOP 100  2023     39  2023-39      96   \n",
       "90596       96696  CZ - RADIO - TOP 100  2023     39  2023-39      97   \n",
       "90597       96697  CZ - RADIO - TOP 100  2023     39  2023-39      98   \n",
       "90598       96698  CZ - RADIO - TOP 100  2023     39  2023-39      99   \n",
       "90599       96699  CZ - RADIO - TOP 100  2023     39  2023-39     100   \n",
       "\n",
       "                         track          interpret interpret_hlavni  \\\n",
       "45900                     víno           Chinaski         chinaski   \n",
       "45901                 geronimo           Sheppard         sheppard   \n",
       "45902                   shower            Becky G          becky g   \n",
       "45903  when the beat drops out    Marlon Roudette  marlon roudette   \n",
       "45904        take me to church             Hozier           hozier   \n",
       "...                        ...                ...              ...   \n",
       "90595                    happy                 Nf               nf   \n",
       "90596               one & only        Oliver Tree      oliver tree   \n",
       "90597                  gravity  Twocolors & Ásdís        twocolors   \n",
       "90598                  runaway               P!Nk             p!nk   \n",
       "90599           kings & queens            Ava Max          ava max   \n",
       "\n",
       "             vydavatel    w  \n",
       "45900        Brainzone    1  \n",
       "45901  Universal Music    1  \n",
       "45902       Sony Music    1  \n",
       "45903  Universal Music    1  \n",
       "45904  Universal Music    1  \n",
       "...                ...  ...  \n",
       "90595  Universal Music  440  \n",
       "90596     Warner Music  440  \n",
       "90597  Universal Music  440  \n",
       "90598       Sony Music  440  \n",
       "90599     Warner Music  440  \n",
       "\n",
       "[44700 rows x 11 columns]"
      ]
     },
     "execution_count": 122,
     "metadata": {},
     "output_type": "execute_result"
    }
   ],
   "source": [
    "df"
   ]
  },
  {
   "cell_type": "code",
   "execution_count": 123,
   "id": "776fadd4",
   "metadata": {},
   "outputs": [],
   "source": [
    "stream['w'] = stream['week'].rank(method='dense').astype(int)"
   ]
  },
  {
   "cell_type": "code",
   "execution_count": 124,
   "id": "dab99ba6",
   "metadata": {},
   "outputs": [
    {
     "data": {
      "text/html": [
       "<div>\n",
       "<style scoped>\n",
       "    .dataframe tbody tr th:only-of-type {\n",
       "        vertical-align: middle;\n",
       "    }\n",
       "\n",
       "    .dataframe tbody tr th {\n",
       "        vertical-align: top;\n",
       "    }\n",
       "\n",
       "    .dataframe thead th {\n",
       "        text-align: right;\n",
       "    }\n",
       "</style>\n",
       "<table border=\"1\" class=\"dataframe\">\n",
       "  <thead>\n",
       "    <tr style=\"text-align: right;\">\n",
       "      <th></th>\n",
       "      <th>Unnamed: 0</th>\n",
       "      <th>hitparada</th>\n",
       "      <th>rok</th>\n",
       "      <th>tyden</th>\n",
       "      <th>week</th>\n",
       "      <th>pozice</th>\n",
       "      <th>track</th>\n",
       "      <th>interpret</th>\n",
       "      <th>interpret_hlavni</th>\n",
       "      <th>vydavatel</th>\n",
       "      <th>w</th>\n",
       "    </tr>\n",
       "  </thead>\n",
       "  <tbody>\n",
       "    <tr>\n",
       "      <th>3000</th>\n",
       "      <td>3100</td>\n",
       "      <td>CZ - SINGLES DIGITAL - TOP 100</td>\n",
       "      <td>2015</td>\n",
       "      <td>1</td>\n",
       "      <td>2015-1</td>\n",
       "      <td>1</td>\n",
       "      <td>take me to church</td>\n",
       "      <td>Hozier</td>\n",
       "      <td>hozier</td>\n",
       "      <td>Universal Music</td>\n",
       "      <td>1</td>\n",
       "    </tr>\n",
       "    <tr>\n",
       "      <th>3001</th>\n",
       "      <td>3101</td>\n",
       "      <td>CZ - SINGLES DIGITAL - TOP 100</td>\n",
       "      <td>2015</td>\n",
       "      <td>1</td>\n",
       "      <td>2015-1</td>\n",
       "      <td>2</td>\n",
       "      <td>thinking out loud</td>\n",
       "      <td>Ed Sheeran</td>\n",
       "      <td>ed sheeran</td>\n",
       "      <td>Warner Music</td>\n",
       "      <td>1</td>\n",
       "    </tr>\n",
       "    <tr>\n",
       "      <th>3002</th>\n",
       "      <td>3102</td>\n",
       "      <td>CZ - SINGLES DIGITAL - TOP 100</td>\n",
       "      <td>2015</td>\n",
       "      <td>1</td>\n",
       "      <td>2015-1</td>\n",
       "      <td>3</td>\n",
       "      <td>outside</td>\n",
       "      <td>Calvin Harris Feat. Ellie Goulding</td>\n",
       "      <td>calvin harris</td>\n",
       "      <td>Sony Music</td>\n",
       "      <td>1</td>\n",
       "    </tr>\n",
       "    <tr>\n",
       "      <th>3003</th>\n",
       "      <td>3103</td>\n",
       "      <td>CZ - SINGLES DIGITAL - TOP 100</td>\n",
       "      <td>2015</td>\n",
       "      <td>1</td>\n",
       "      <td>2015-1</td>\n",
       "      <td>4</td>\n",
       "      <td>uptown funk</td>\n",
       "      <td>Mark Ronson Feat. Bruno Mars</td>\n",
       "      <td>mark ronson</td>\n",
       "      <td>Sony Music</td>\n",
       "      <td>1</td>\n",
       "    </tr>\n",
       "    <tr>\n",
       "      <th>3004</th>\n",
       "      <td>3104</td>\n",
       "      <td>CZ - SINGLES DIGITAL - TOP 100</td>\n",
       "      <td>2015</td>\n",
       "      <td>1</td>\n",
       "      <td>2015-1</td>\n",
       "      <td>5</td>\n",
       "      <td>prayer in c</td>\n",
       "      <td>Lilly Wood &amp; The Prick And Robin Schulz</td>\n",
       "      <td>lilly wood</td>\n",
       "      <td>Warner Music</td>\n",
       "      <td>1</td>\n",
       "    </tr>\n",
       "    <tr>\n",
       "      <th>...</th>\n",
       "      <td>...</td>\n",
       "      <td>...</td>\n",
       "      <td>...</td>\n",
       "      <td>...</td>\n",
       "      <td>...</td>\n",
       "      <td>...</td>\n",
       "      <td>...</td>\n",
       "      <td>...</td>\n",
       "      <td>...</td>\n",
       "      <td>...</td>\n",
       "      <td>...</td>\n",
       "    </tr>\n",
       "    <tr>\n",
       "      <th>47695</th>\n",
       "      <td>54195</td>\n",
       "      <td>CZ - SINGLES DIGITAL - TOP 100</td>\n",
       "      <td>2023</td>\n",
       "      <td>39</td>\n",
       "      <td>2023-39</td>\n",
       "      <td>96</td>\n",
       "      <td>silent kill</td>\n",
       "      <td>P T K</td>\n",
       "      <td>p t k</td>\n",
       "      <td>Nan</td>\n",
       "      <td>440</td>\n",
       "    </tr>\n",
       "    <tr>\n",
       "      <th>47696</th>\n",
       "      <td>54196</td>\n",
       "      <td>CZ - SINGLES DIGITAL - TOP 100</td>\n",
       "      <td>2023</td>\n",
       "      <td>39</td>\n",
       "      <td>2023-39</td>\n",
       "      <td>97</td>\n",
       "      <td>prcvl</td>\n",
       "      <td>Yzomandias</td>\n",
       "      <td>yzomandias</td>\n",
       "      <td>Milion+ Ent./Universal Music</td>\n",
       "      <td>440</td>\n",
       "    </tr>\n",
       "    <tr>\n",
       "      <th>47697</th>\n",
       "      <td>54197</td>\n",
       "      <td>CZ - SINGLES DIGITAL - TOP 100</td>\n",
       "      <td>2023</td>\n",
       "      <td>39</td>\n",
       "      <td>2023-39</td>\n",
       "      <td>98</td>\n",
       "      <td>bad idea right?</td>\n",
       "      <td>Olivia Rodrigo</td>\n",
       "      <td>olivia rodrigo</td>\n",
       "      <td>Universal Music</td>\n",
       "      <td>440</td>\n",
       "    </tr>\n",
       "    <tr>\n",
       "      <th>47698</th>\n",
       "      <td>54198</td>\n",
       "      <td>CZ - SINGLES DIGITAL - TOP 100</td>\n",
       "      <td>2023</td>\n",
       "      <td>39</td>\n",
       "      <td>2023-39</td>\n",
       "      <td>99</td>\n",
       "      <td>vitej</td>\n",
       "      <td>Vadak</td>\n",
       "      <td>vadak</td>\n",
       "      <td>Vadim Tkachenko</td>\n",
       "      <td>440</td>\n",
       "    </tr>\n",
       "    <tr>\n",
       "      <th>47699</th>\n",
       "      <td>54199</td>\n",
       "      <td>CZ - SINGLES DIGITAL - TOP 100</td>\n",
       "      <td>2023</td>\n",
       "      <td>39</td>\n",
       "      <td>2023-39</td>\n",
       "      <td>100</td>\n",
       "      <td>šedá hus</td>\n",
       "      <td>Gleb</td>\n",
       "      <td>gleb</td>\n",
       "      <td>Universal Music</td>\n",
       "      <td>440</td>\n",
       "    </tr>\n",
       "  </tbody>\n",
       "</table>\n",
       "<p>44700 rows × 11 columns</p>\n",
       "</div>"
      ],
      "text/plain": [
       "       Unnamed: 0                       hitparada   rok  tyden     week  \\\n",
       "3000         3100  CZ - SINGLES DIGITAL - TOP 100  2015      1   2015-1   \n",
       "3001         3101  CZ - SINGLES DIGITAL - TOP 100  2015      1   2015-1   \n",
       "3002         3102  CZ - SINGLES DIGITAL - TOP 100  2015      1   2015-1   \n",
       "3003         3103  CZ - SINGLES DIGITAL - TOP 100  2015      1   2015-1   \n",
       "3004         3104  CZ - SINGLES DIGITAL - TOP 100  2015      1   2015-1   \n",
       "...           ...                             ...   ...    ...      ...   \n",
       "47695       54195  CZ - SINGLES DIGITAL - TOP 100  2023     39  2023-39   \n",
       "47696       54196  CZ - SINGLES DIGITAL - TOP 100  2023     39  2023-39   \n",
       "47697       54197  CZ - SINGLES DIGITAL - TOP 100  2023     39  2023-39   \n",
       "47698       54198  CZ - SINGLES DIGITAL - TOP 100  2023     39  2023-39   \n",
       "47699       54199  CZ - SINGLES DIGITAL - TOP 100  2023     39  2023-39   \n",
       "\n",
       "       pozice              track                                interpret  \\\n",
       "3000        1  take me to church                                   Hozier   \n",
       "3001        2  thinking out loud                               Ed Sheeran   \n",
       "3002        3            outside       Calvin Harris Feat. Ellie Goulding   \n",
       "3003        4        uptown funk             Mark Ronson Feat. Bruno Mars   \n",
       "3004        5        prayer in c  Lilly Wood & The Prick And Robin Schulz   \n",
       "...       ...                ...                                      ...   \n",
       "47695      96        silent kill                                    P T K   \n",
       "47696      97              prcvl                               Yzomandias   \n",
       "47697      98    bad idea right?                           Olivia Rodrigo   \n",
       "47698      99              vitej                                    Vadak   \n",
       "47699     100           šedá hus                                     Gleb   \n",
       "\n",
       "      interpret_hlavni                     vydavatel    w  \n",
       "3000            hozier               Universal Music    1  \n",
       "3001        ed sheeran                  Warner Music    1  \n",
       "3002     calvin harris                    Sony Music    1  \n",
       "3003       mark ronson                    Sony Music    1  \n",
       "3004        lilly wood                  Warner Music    1  \n",
       "...                ...                           ...  ...  \n",
       "47695            p t k                           Nan  440  \n",
       "47696       yzomandias  Milion+ Ent./Universal Music  440  \n",
       "47697   olivia rodrigo               Universal Music  440  \n",
       "47698            vadak               Vadim Tkachenko  440  \n",
       "47699             gleb               Universal Music  440  \n",
       "\n",
       "[44700 rows x 11 columns]"
      ]
     },
     "execution_count": 124,
     "metadata": {},
     "output_type": "execute_result"
    }
   ],
   "source": [
    "stream"
   ]
  },
  {
   "cell_type": "markdown",
   "id": "ca5dd022",
   "metadata": {},
   "source": [
    "## Porovnání písní: která bodovala dřív online (-) a která v rádiu (+)"
   ]
  },
  {
   "cell_type": "code",
   "execution_count": 125,
   "id": "582bb759",
   "metadata": {},
   "outputs": [],
   "source": [
    "jednicky_radio = df[df['pozice'] == 1].groupby(['interpret_hlavni','track'])['w'].min()"
   ]
  },
  {
   "cell_type": "code",
   "execution_count": 126,
   "id": "fcf5cdf8",
   "metadata": {},
   "outputs": [],
   "source": [
    "jednicky_stream = stream[stream['pozice'] == 1].groupby(['interpret_hlavni','track'])['w'].min()"
   ]
  },
  {
   "cell_type": "code",
   "execution_count": 127,
   "id": "8a9bb370",
   "metadata": {},
   "outputs": [
    {
     "data": {
      "text/plain": [
       "interpret_hlavni  track         \n",
       "24kgoldn          mood              286\n",
       "6ix9ine           gooba             267\n",
       "adele             easy on me        343\n",
       "                  hello              39\n",
       "alan walker       faded              60\n",
       "                                   ... \n",
       "yzomandias        designer flow     296\n",
       "                  free karlo        398\n",
       "                  rodinnej typ      354\n",
       "                  rolls             282\n",
       "zayn              dusk till dawn    140\n",
       "Name: w, Length: 94, dtype: int32"
      ]
     },
     "execution_count": 127,
     "metadata": {},
     "output_type": "execute_result"
    }
   ],
   "source": [
    "jednicky_stream"
   ]
  },
  {
   "cell_type": "code",
   "execution_count": 128,
   "id": "22c454a5",
   "metadata": {},
   "outputs": [
    {
     "data": {
      "text/plain": [
       "interpret_hlavni   track            \n",
       "imagine dragons    bad liar            -53.0\n",
       "hozier             take me to church   -33.0\n",
       "twenty one pilots  heathens            -15.0\n",
       "ed sheeran         i don't care        -13.0\n",
       "shawn mendes       senorita            -12.0\n",
       "Name: w, dtype: float64"
      ]
     },
     "execution_count": 128,
     "metadata": {},
     "output_type": "execute_result"
    }
   ],
   "source": [
    "(jednicky_stream - jednicky_radio).dropna().sort_values().head()"
   ]
  },
  {
   "cell_type": "code",
   "execution_count": 129,
   "id": "5780f420",
   "metadata": {},
   "outputs": [
    {
     "data": {
      "text/plain": [
       "interpret_hlavni  track              \n",
       "justin bieber     love yourself          -1.0\n",
       "ed sheeran        shape of you            0.0\n",
       "alan walker       faded                   0.0\n",
       "ellie goulding    love me like you do     0.0\n",
       "ava max           sweet but psycho       11.0\n",
       "Name: w, dtype: float64"
      ]
     },
     "execution_count": 129,
     "metadata": {},
     "output_type": "execute_result"
    }
   ],
   "source": [
    "(jednicky_stream - jednicky_radio).dropna().sort_values().tail()"
   ]
  },
  {
   "cell_type": "code",
   "execution_count": 130,
   "id": "8d75a9ab",
   "metadata": {},
   "outputs": [
    {
     "data": {
      "text/plain": [
       "-9.666666666666666"
      ]
     },
     "execution_count": 130,
     "metadata": {},
     "output_type": "execute_result"
    }
   ],
   "source": [
    "(jednicky_stream - jednicky_radio).dropna().mean()"
   ]
  },
  {
   "cell_type": "code",
   "execution_count": 131,
   "id": "2884875e",
   "metadata": {},
   "outputs": [
    {
     "data": {
      "text/plain": [
       "interpret_hlavni  track               \n",
       "ed sheeran        happier                -87.0\n",
       "sam smith         too good at goodbyes   -67.0\n",
       "shawn mendes      stitches               -61.0\n",
       "justin bieber     sorry                  -58.0\n",
       "billie eilish     therefore i am         -58.0\n",
       "                                          ... \n",
       "julia michaels    issues                  28.0\n",
       "alan walker       alone                   31.0\n",
       "ofenbach          katchi                  38.0\n",
       "sheppard          geronimo                44.0\n",
       "david guetta      dangerous               44.0\n",
       "Name: w, Length: 167, dtype: float64"
      ]
     },
     "execution_count": 131,
     "metadata": {},
     "output_type": "execute_result"
    }
   ],
   "source": [
    "dodeseti_radio = df[df['pozice'] <= 10].groupby(['interpret_hlavni','track'])['w'].min()\n",
    "dodeseti_stream = stream[stream['pozice'] <= 10].groupby(['interpret_hlavni','track'])['w'].min()\n",
    "(dodeseti_stream - dodeseti_radio).dropna().sort_values()"
   ]
  },
  {
   "cell_type": "code",
   "execution_count": 132,
   "id": "8e5a2051",
   "metadata": {},
   "outputs": [
    {
     "data": {
      "text/plain": [
       "-9.479041916167665"
      ]
     },
     "execution_count": 132,
     "metadata": {},
     "output_type": "execute_result"
    }
   ],
   "source": [
    "(dodeseti_stream - dodeseti_radio).dropna().mean()"
   ]
  },
  {
   "cell_type": "code",
   "execution_count": 133,
   "id": "d3246e64",
   "metadata": {},
   "outputs": [
    {
     "data": {
      "text/plain": [
       "-9.0"
      ]
     },
     "execution_count": 133,
     "metadata": {},
     "output_type": "execute_result"
    }
   ],
   "source": [
    "(dodeseti_stream - dodeseti_radio).dropna().median()"
   ]
  },
  {
   "cell_type": "code",
   "execution_count": 134,
   "id": "853552a7",
   "metadata": {},
   "outputs": [
    {
     "data": {
      "text/plain": [
       "interpret_hlavni  track                    \n",
       "taylor swift      cruel summer                -204.0\n",
       "jubel             dancing in the moonlight    -103.0\n",
       "martin garrix     high on life                 -98.0\n",
       "ed sheeran        happier                      -69.0\n",
       "p!nk              just give me a reason        -65.0\n",
       "                                               ...  \n",
       "coldplay          viva la vida                 263.0\n",
       "olga lounová      jsem optimista               313.0\n",
       "jelen             magdaléna                    363.0\n",
       "kabát             western boogie               378.0\n",
       "amy macdonald     this is the life             411.0\n",
       "Name: w, Length: 873, dtype: float64"
      ]
     },
     "execution_count": 134,
     "metadata": {},
     "output_type": "execute_result"
    }
   ],
   "source": [
    "dosta_radio = df[df['pozice'] <= 100].groupby(['interpret_hlavni','track'])['w'].min()\n",
    "dosta_stream = stream[stream['pozice'] <= 100].groupby(['interpret_hlavni','track'])['w'].min()\n",
    "(dosta_stream - dosta_radio).dropna().sort_values()"
   ]
  },
  {
   "cell_type": "code",
   "execution_count": 135,
   "id": "52cf607c",
   "metadata": {},
   "outputs": [
    {
     "data": {
      "text/plain": [
       "-1.1420389461626574"
      ]
     },
     "execution_count": 135,
     "metadata": {},
     "output_type": "execute_result"
    }
   ],
   "source": [
    "(dosta_stream - dosta_radio).dropna().mean()"
   ]
  },
  {
   "cell_type": "code",
   "execution_count": 136,
   "id": "5ce1ccfc",
   "metadata": {},
   "outputs": [
    {
     "data": {
      "text/plain": [
       "-4.0"
      ]
     },
     "execution_count": 136,
     "metadata": {},
     "output_type": "execute_result"
    }
   ],
   "source": [
    "(dosta_stream - dosta_radio).dropna().median()"
   ]
  },
  {
   "cell_type": "markdown",
   "id": "fbab1c6c",
   "metadata": {},
   "source": [
    "Polovina písniček je o 4 týdny nebo více dřív populární online než v rádiu."
   ]
  },
  {
   "cell_type": "markdown",
   "id": "f0d599f3",
   "metadata": {},
   "source": [
    "## Vývoj v čase?"
   ]
  },
  {
   "cell_type": "code",
   "execution_count": 137,
   "id": "53cdc2de",
   "metadata": {},
   "outputs": [],
   "source": [
    "rozdily = pd.DataFrame((dosta_stream - dosta_radio).dropna().sort_values()).rename(columns={'w': 'rozdil'})"
   ]
  },
  {
   "cell_type": "code",
   "execution_count": 138,
   "id": "fdee6da4",
   "metadata": {},
   "outputs": [
    {
     "data": {
      "text/html": [
       "<div>\n",
       "<style scoped>\n",
       "    .dataframe tbody tr th:only-of-type {\n",
       "        vertical-align: middle;\n",
       "    }\n",
       "\n",
       "    .dataframe tbody tr th {\n",
       "        vertical-align: top;\n",
       "    }\n",
       "\n",
       "    .dataframe thead th {\n",
       "        text-align: right;\n",
       "    }\n",
       "</style>\n",
       "<table border=\"1\" class=\"dataframe\">\n",
       "  <thead>\n",
       "    <tr style=\"text-align: right;\">\n",
       "      <th></th>\n",
       "      <th></th>\n",
       "      <th>rozdil</th>\n",
       "    </tr>\n",
       "    <tr>\n",
       "      <th>interpret_hlavni</th>\n",
       "      <th>track</th>\n",
       "      <th></th>\n",
       "    </tr>\n",
       "  </thead>\n",
       "  <tbody>\n",
       "    <tr>\n",
       "      <th>taylor swift</th>\n",
       "      <th>cruel summer</th>\n",
       "      <td>-204.0</td>\n",
       "    </tr>\n",
       "    <tr>\n",
       "      <th>jubel</th>\n",
       "      <th>dancing in the moonlight</th>\n",
       "      <td>-103.0</td>\n",
       "    </tr>\n",
       "    <tr>\n",
       "      <th>martin garrix</th>\n",
       "      <th>high on life</th>\n",
       "      <td>-98.0</td>\n",
       "    </tr>\n",
       "    <tr>\n",
       "      <th>ed sheeran</th>\n",
       "      <th>happier</th>\n",
       "      <td>-69.0</td>\n",
       "    </tr>\n",
       "    <tr>\n",
       "      <th>p!nk</th>\n",
       "      <th>just give me a reason</th>\n",
       "      <td>-65.0</td>\n",
       "    </tr>\n",
       "    <tr>\n",
       "      <th>...</th>\n",
       "      <th>...</th>\n",
       "      <td>...</td>\n",
       "    </tr>\n",
       "    <tr>\n",
       "      <th>coldplay</th>\n",
       "      <th>viva la vida</th>\n",
       "      <td>263.0</td>\n",
       "    </tr>\n",
       "    <tr>\n",
       "      <th>olga lounová</th>\n",
       "      <th>jsem optimista</th>\n",
       "      <td>313.0</td>\n",
       "    </tr>\n",
       "    <tr>\n",
       "      <th>jelen</th>\n",
       "      <th>magdaléna</th>\n",
       "      <td>363.0</td>\n",
       "    </tr>\n",
       "    <tr>\n",
       "      <th>kabát</th>\n",
       "      <th>western boogie</th>\n",
       "      <td>378.0</td>\n",
       "    </tr>\n",
       "    <tr>\n",
       "      <th>amy macdonald</th>\n",
       "      <th>this is the life</th>\n",
       "      <td>411.0</td>\n",
       "    </tr>\n",
       "  </tbody>\n",
       "</table>\n",
       "<p>873 rows × 1 columns</p>\n",
       "</div>"
      ],
      "text/plain": [
       "                                            rozdil\n",
       "interpret_hlavni track                            \n",
       "taylor swift     cruel summer               -204.0\n",
       "jubel            dancing in the moonlight   -103.0\n",
       "martin garrix    high on life                -98.0\n",
       "ed sheeran       happier                     -69.0\n",
       "p!nk             just give me a reason       -65.0\n",
       "...                                            ...\n",
       "coldplay         viva la vida                263.0\n",
       "olga lounová     jsem optimista              313.0\n",
       "jelen            magdaléna                   363.0\n",
       "kabát            western boogie              378.0\n",
       "amy macdonald    this is the life            411.0\n",
       "\n",
       "[873 rows x 1 columns]"
      ]
     },
     "execution_count": 138,
     "metadata": {},
     "output_type": "execute_result"
    }
   ],
   "source": [
    "rozdily"
   ]
  },
  {
   "cell_type": "code",
   "execution_count": 139,
   "id": "0245c582",
   "metadata": {},
   "outputs": [],
   "source": [
    "poprve_vysilana = pd.DataFrame(df.groupby(['interpret_hlavni','track'])['rok'].min())"
   ]
  },
  {
   "cell_type": "code",
   "execution_count": 140,
   "id": "53f4faee",
   "metadata": {},
   "outputs": [
    {
     "data": {
      "text/html": [
       "<div>\n",
       "<style scoped>\n",
       "    .dataframe tbody tr th:only-of-type {\n",
       "        vertical-align: middle;\n",
       "    }\n",
       "\n",
       "    .dataframe tbody tr th {\n",
       "        vertical-align: top;\n",
       "    }\n",
       "\n",
       "    .dataframe thead th {\n",
       "        text-align: right;\n",
       "    }\n",
       "</style>\n",
       "<table border=\"1\" class=\"dataframe\">\n",
       "  <thead>\n",
       "    <tr style=\"text-align: right;\">\n",
       "      <th></th>\n",
       "      <th></th>\n",
       "      <th>rok</th>\n",
       "    </tr>\n",
       "    <tr>\n",
       "      <th>interpret_hlavni</th>\n",
       "      <th>track</th>\n",
       "      <th></th>\n",
       "    </tr>\n",
       "  </thead>\n",
       "  <tbody>\n",
       "    <tr>\n",
       "      <th rowspan=\"3\" valign=\"top\">24kgoldn</th>\n",
       "      <th>bite</th>\n",
       "      <td>2023</td>\n",
       "    </tr>\n",
       "    <tr>\n",
       "      <th>mood</th>\n",
       "      <td>2020</td>\n",
       "    </tr>\n",
       "    <tr>\n",
       "      <th>more than friends</th>\n",
       "      <td>2022</td>\n",
       "    </tr>\n",
       "    <tr>\n",
       "      <th>2choice</th>\n",
       "      <th>reasons to love you</th>\n",
       "      <td>2018</td>\n",
       "    </tr>\n",
       "    <tr>\n",
       "      <th>2kbaby</th>\n",
       "      <th>like this</th>\n",
       "      <td>2021</td>\n",
       "    </tr>\n",
       "    <tr>\n",
       "      <th>...</th>\n",
       "      <th>...</th>\n",
       "      <td>...</td>\n",
       "    </tr>\n",
       "    <tr>\n",
       "      <th>zhu</th>\n",
       "      <th>faded</th>\n",
       "      <td>2015</td>\n",
       "    </tr>\n",
       "    <tr>\n",
       "      <th rowspan=\"3\" valign=\"top\">zoe wees</th>\n",
       "      <th>control</th>\n",
       "      <td>2020</td>\n",
       "    </tr>\n",
       "    <tr>\n",
       "      <th>girls like us</th>\n",
       "      <td>2021</td>\n",
       "    </tr>\n",
       "    <tr>\n",
       "      <th>third wheel</th>\n",
       "      <td>2022</td>\n",
       "    </tr>\n",
       "    <tr>\n",
       "      <th>zoči voči</th>\n",
       "      <th>romantik</th>\n",
       "      <td>2016</td>\n",
       "    </tr>\n",
       "  </tbody>\n",
       "</table>\n",
       "<p>2332 rows × 1 columns</p>\n",
       "</div>"
      ],
      "text/plain": [
       "                                       rok\n",
       "interpret_hlavni track                    \n",
       "24kgoldn         bite                 2023\n",
       "                 mood                 2020\n",
       "                 more than friends    2022\n",
       "2choice          reasons to love you  2018\n",
       "2kbaby           like this            2021\n",
       "...                                    ...\n",
       "zhu              faded                2015\n",
       "zoe wees         control              2020\n",
       "                 girls like us        2021\n",
       "                 third wheel          2022\n",
       "zoči voči        romantik             2016\n",
       "\n",
       "[2332 rows x 1 columns]"
      ]
     },
     "execution_count": 140,
     "metadata": {},
     "output_type": "execute_result"
    }
   ],
   "source": [
    "poprve_vysilana"
   ]
  },
  {
   "cell_type": "code",
   "execution_count": 141,
   "id": "352a93dc",
   "metadata": {},
   "outputs": [],
   "source": [
    "poprve_vysilana = poprve_vysilana.merge(rozdily, left_index=True, right_index=True, how = 'outer')"
   ]
  },
  {
   "cell_type": "code",
   "execution_count": 142,
   "id": "8c28cd98",
   "metadata": {},
   "outputs": [
    {
     "data": {
      "text/html": [
       "<div>\n",
       "<style scoped>\n",
       "    .dataframe tbody tr th:only-of-type {\n",
       "        vertical-align: middle;\n",
       "    }\n",
       "\n",
       "    .dataframe tbody tr th {\n",
       "        vertical-align: top;\n",
       "    }\n",
       "\n",
       "    .dataframe thead th {\n",
       "        text-align: right;\n",
       "    }\n",
       "</style>\n",
       "<table border=\"1\" class=\"dataframe\">\n",
       "  <thead>\n",
       "    <tr style=\"text-align: right;\">\n",
       "      <th></th>\n",
       "      <th></th>\n",
       "      <th>rok</th>\n",
       "      <th>rozdil</th>\n",
       "    </tr>\n",
       "    <tr>\n",
       "      <th>interpret_hlavni</th>\n",
       "      <th>track</th>\n",
       "      <th></th>\n",
       "      <th></th>\n",
       "    </tr>\n",
       "  </thead>\n",
       "  <tbody>\n",
       "    <tr>\n",
       "      <th rowspan=\"3\" valign=\"top\">24kgoldn</th>\n",
       "      <th>bite</th>\n",
       "      <td>2023</td>\n",
       "      <td>NaN</td>\n",
       "    </tr>\n",
       "    <tr>\n",
       "      <th>mood</th>\n",
       "      <td>2020</td>\n",
       "      <td>-14.0</td>\n",
       "    </tr>\n",
       "    <tr>\n",
       "      <th>more than friends</th>\n",
       "      <td>2022</td>\n",
       "      <td>NaN</td>\n",
       "    </tr>\n",
       "    <tr>\n",
       "      <th>2choice</th>\n",
       "      <th>reasons to love you</th>\n",
       "      <td>2018</td>\n",
       "      <td>NaN</td>\n",
       "    </tr>\n",
       "    <tr>\n",
       "      <th>2kbaby</th>\n",
       "      <th>like this</th>\n",
       "      <td>2021</td>\n",
       "      <td>NaN</td>\n",
       "    </tr>\n",
       "    <tr>\n",
       "      <th>...</th>\n",
       "      <th>...</th>\n",
       "      <td>...</td>\n",
       "      <td>...</td>\n",
       "    </tr>\n",
       "    <tr>\n",
       "      <th>zhu</th>\n",
       "      <th>faded</th>\n",
       "      <td>2015</td>\n",
       "      <td>NaN</td>\n",
       "    </tr>\n",
       "    <tr>\n",
       "      <th rowspan=\"3\" valign=\"top\">zoe wees</th>\n",
       "      <th>control</th>\n",
       "      <td>2020</td>\n",
       "      <td>NaN</td>\n",
       "    </tr>\n",
       "    <tr>\n",
       "      <th>girls like us</th>\n",
       "      <td>2021</td>\n",
       "      <td>NaN</td>\n",
       "    </tr>\n",
       "    <tr>\n",
       "      <th>third wheel</th>\n",
       "      <td>2022</td>\n",
       "      <td>NaN</td>\n",
       "    </tr>\n",
       "    <tr>\n",
       "      <th>zoči voči</th>\n",
       "      <th>romantik</th>\n",
       "      <td>2016</td>\n",
       "      <td>NaN</td>\n",
       "    </tr>\n",
       "  </tbody>\n",
       "</table>\n",
       "<p>2332 rows × 2 columns</p>\n",
       "</div>"
      ],
      "text/plain": [
       "                                       rok  rozdil\n",
       "interpret_hlavni track                            \n",
       "24kgoldn         bite                 2023     NaN\n",
       "                 mood                 2020   -14.0\n",
       "                 more than friends    2022     NaN\n",
       "2choice          reasons to love you  2018     NaN\n",
       "2kbaby           like this            2021     NaN\n",
       "...                                    ...     ...\n",
       "zhu              faded                2015     NaN\n",
       "zoe wees         control              2020     NaN\n",
       "                 girls like us        2021     NaN\n",
       "                 third wheel          2022     NaN\n",
       "zoči voči        romantik             2016     NaN\n",
       "\n",
       "[2332 rows x 2 columns]"
      ]
     },
     "execution_count": 142,
     "metadata": {},
     "output_type": "execute_result"
    }
   ],
   "source": [
    "poprve_vysilana"
   ]
  },
  {
   "cell_type": "code",
   "execution_count": 143,
   "id": "f6a6d865",
   "metadata": {},
   "outputs": [
    {
     "data": {
      "text/plain": [
       "<Axes: xlabel='rok'>"
      ]
     },
     "execution_count": 143,
     "metadata": {},
     "output_type": "execute_result"
    },
    {
     "data": {
      "image/png": "[encoded data removed]",
      "text/plain": [
       "<Figure size 432x288 with 1 Axes>"
      ]
     },
     "metadata": {
      "needs_background": "light"
     },
     "output_type": "display_data"
    }
   ],
   "source": [
    "poprve_vysilana.groupby('rok')['rozdil'].median().plot.bar()"
   ]
  },
  {
   "cell_type": "markdown",
   "id": "3bac8d19",
   "metadata": {},
   "source": [
    "Tohle asi žádnej příběh nevypráví + nejsem si jistej, zda je ten výpočet metodologicky ok."
   ]
  }
 ],
 "metadata": {
  "kernelspec": {
   "display_name": "Python 3 (ipykernel)",
   "language": "python",
   "name": "python3"
  },
  "language_info": {
   "codemirror_mode": {
    "name": "ipython",
    "version": 3
   },
   "file_extension": ".py",
   "mimetype": "text/x-python",
   "name": "python",
   "nbconvert_exporter": "python",
   "pygments_lexer": "ipython3",
   "version": "3.10.8"
  }
 },
 "nbformat": 4,
 "nbformat_minor": 5
}
