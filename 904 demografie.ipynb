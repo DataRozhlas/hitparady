{
 "cells": [
  {
   "cell_type": "markdown",
   "id": "7c9ccbfe",
   "metadata": {},
   "source": [
    "Podklady pro články Anety Martínkové na iROZHLAS.cz v prosinci 2023."
   ]
  },
  {
   "cell_type": "code",
   "execution_count": 1,
   "id": "cc45331c",
   "metadata": {},
   "outputs": [],
   "source": [
    "import os\n",
    "import pandas as pd"
   ]
  },
  {
   "cell_type": "code",
   "execution_count": 2,
   "id": "31ea2490",
   "metadata": {},
   "outputs": [],
   "source": [
    "from src.tabulka import tabulka\n",
    "from src.graf import graf"
   ]
  },
  {
   "cell_type": "code",
   "execution_count": 3,
   "id": "529e619b",
   "metadata": {},
   "outputs": [],
   "source": [
    "df = pd.read_csv(os.path.join(\"data\",\"CZ_RADIO_TOP_100_tydenni.csv\"))\n",
    "wikid = pd.read_json(os.path.join(\"wikidata\",\"wikidata.json\"))\n",
    "df = df.merge(wikid, on=\"interpret_hlavni\", how=\"outer\")"
   ]
  },
  {
   "cell_type": "code",
   "execution_count": 4,
   "id": "b002b290",
   "metadata": {},
   "outputs": [],
   "source": [
    "df = df.sort_values(by=['rok','tyden'])"
   ]
  },
  {
   "cell_type": "markdown",
   "id": "5bd55587",
   "metadata": {},
   "source": [
    "## Podíl žen na sólovém interpretstvu"
   ]
  },
  {
   "cell_type": "code",
   "execution_count": 5,
   "id": "e78bcd8e",
   "metadata": {},
   "outputs": [],
   "source": [
    "roky = [int(x) for x in df['rok'].drop_duplicates().dropna().tolist()]"
   ]
  },
  {
   "cell_type": "code",
   "execution_count": 6,
   "id": "01707134",
   "metadata": {},
   "outputs": [
    {
     "data": {
      "text/plain": [
       "[2006,\n",
       " 2007,\n",
       " 2008,\n",
       " 2009,\n",
       " 2010,\n",
       " 2011,\n",
       " 2012,\n",
       " 2013,\n",
       " 2014,\n",
       " 2015,\n",
       " 2016,\n",
       " 2017,\n",
       " 2018,\n",
       " 2019,\n",
       " 2020,\n",
       " 2021,\n",
       " 2022,\n",
       " 2023]"
      ]
     },
     "execution_count": 6,
     "metadata": {},
     "output_type": "execute_result"
    }
   ],
   "source": [
    "roky"
   ]
  },
  {
   "cell_type": "code",
   "execution_count": 7,
   "id": "de10b620",
   "metadata": {},
   "outputs": [],
   "source": [
    "pocet_lidi = len(df[(df['velikost'] == 'člověk') & (~df['gender'].isnull())]['interpret_hlavni'].drop_duplicates())"
   ]
  },
  {
   "cell_type": "code",
   "execution_count": 8,
   "id": "0c37d2d6",
   "metadata": {},
   "outputs": [
    {
     "data": {
      "text/html": [
       "<div>\n",
       "<style scoped>\n",
       "    .dataframe tbody tr th:only-of-type {\n",
       "        vertical-align: middle;\n",
       "    }\n",
       "\n",
       "    .dataframe tbody tr th {\n",
       "        vertical-align: top;\n",
       "    }\n",
       "\n",
       "    .dataframe thead th {\n",
       "        text-align: right;\n",
       "    }\n",
       "</style>\n",
       "<table border=\"1\" class=\"dataframe\">\n",
       "  <thead>\n",
       "    <tr style=\"text-align: right;\">\n",
       "      <th></th>\n",
       "      <th>interpret_hlavni</th>\n",
       "      <th>gender</th>\n",
       "    </tr>\n",
       "  </thead>\n",
       "  <tbody>\n",
       "    <tr>\n",
       "      <th>38680</th>\n",
       "      <td>Miley Cyrus</td>\n",
       "      <td>genderfluid</td>\n",
       "    </tr>\n",
       "    <tr>\n",
       "      <th>60069</th>\n",
       "      <td>Demi Lovato</td>\n",
       "      <td>genderfluid</td>\n",
       "    </tr>\n",
       "    <tr>\n",
       "      <th>62595</th>\n",
       "      <td>Sam Smith</td>\n",
       "      <td>nebinární</td>\n",
       "    </tr>\n",
       "    <tr>\n",
       "      <th>91110</th>\n",
       "      <td>Lil Uzi Vert</td>\n",
       "      <td>nebinární</td>\n",
       "    </tr>\n",
       "  </tbody>\n",
       "</table>\n",
       "</div>"
      ],
      "text/plain": [
       "      interpret_hlavni       gender\n",
       "38680      Miley Cyrus  genderfluid\n",
       "60069      Demi Lovato  genderfluid\n",
       "62595        Sam Smith    nebinární\n",
       "91110     Lil Uzi Vert    nebinární"
      ]
     },
     "execution_count": 8,
     "metadata": {},
     "output_type": "execute_result"
    }
   ],
   "source": [
    "df[(df['velikost'] == 'člověk') & (~df['gender'].isin(['muž','žena']))][['interpret_hlavni','gender']].drop_duplicates()"
   ]
  },
  {
   "cell_type": "code",
   "execution_count": 9,
   "id": "5d602f0e",
   "metadata": {},
   "outputs": [],
   "source": [
    "podil_zen = pd.Series(df[(df['gender'] == 'žena')].groupby('rok').size() / df[df['gender'].isin(['žena','muž','genderfluid','nebinární'])].groupby('rok').size(), name=\"podíl žen\").reindex(roky)"
   ]
  },
  {
   "cell_type": "code",
   "execution_count": 10,
   "id": "f171210a",
   "metadata": {},
   "outputs": [],
   "source": [
    "podil_muzu = pd.Series(df[(df['gender'] == 'muž')].groupby('rok').size() / df[df['gender'].isin(['žena','muž','genderfluid','nebinární'])].groupby('rok').size(), name=\"podíl mužů\").reindex(roky)"
   ]
  },
  {
   "cell_type": "code",
   "execution_count": 11,
   "id": "6c5140b9",
   "metadata": {},
   "outputs": [],
   "source": [
    "podil_ostatnich = pd.Series(df[(df['gender'].isin(['genderfluid','nebinární']))].groupby('rok').size() / df[df['gender'].isin(['žena','muž','genderfluid','nebinární'])].groupby('rok').size(), name=\"podíl genderfluid a nebinárních osob\").reindex(roky)"
   ]
  },
  {
   "cell_type": "code",
   "execution_count": 12,
   "id": "53bb8dde",
   "metadata": {},
   "outputs": [
    {
     "name": "stdout",
     "output_type": "stream",
     "text": [
      "Graf uložen.\n"
     ]
    }
   ],
   "source": [
    "graf(sloupcovy=[podil_ostatnich,podil_muzu,podil_zen], target=\"genderovy_podil\", titulek='Podíl sólově vystupujících žen a mužů v týdenních žebříčcích 100 nejhranějších písní', podtitulek=f'''Z {pocet_lidi} lidí v datech se jinak než jako žena či muž identifikují Miley Cyrus, Demi Lovato, Sam Smith a Lil Uzi Vert.''', kredity=[\"Zdroj dat: Česká národní skupina Mezinárodní federace hudebního průmyslu a Wikidata | Vizualizace: Michal Kašpárek, iROZHLAS.cz\",\"https://www.irozhlas.cz/zpravy-tag/datova-zurnalistika\"], procenta=[podil_ostatnich,podil_muzu,podil_zen], prvni=True, osay=' ', osay2=' ', skladany=True, naopak=False)"
   ]
  },
  {
   "cell_type": "markdown",
   "id": "2cc58e9d",
   "metadata": {},
   "source": [
    "## Věk mužů a žen: čísla"
   ]
  },
  {
   "cell_type": "code",
   "execution_count": 24,
   "id": "cf57c2db",
   "metadata": {},
   "outputs": [
    {
     "data": {
      "text/plain": [
       "27.0"
      ]
     },
     "execution_count": 24,
     "metadata": {},
     "output_type": "execute_result"
    }
   ],
   "source": [
    "df[df['gender'] == 'žena']['vek'].median()"
   ]
  },
  {
   "cell_type": "code",
   "execution_count": 25,
   "id": "031c826b",
   "metadata": {},
   "outputs": [
    {
     "data": {
      "text/plain": [
       "29.101907157078486"
      ]
     },
     "execution_count": 25,
     "metadata": {},
     "output_type": "execute_result"
    }
   ],
   "source": [
    "df[df['gender'] == 'žena']['vek'].mean()"
   ]
  },
  {
   "cell_type": "code",
   "execution_count": 26,
   "id": "2ace231a",
   "metadata": {},
   "outputs": [
    {
     "data": {
      "text/plain": [
       "31.0"
      ]
     },
     "execution_count": 26,
     "metadata": {},
     "output_type": "execute_result"
    }
   ],
   "source": [
    "df[df['gender'] == 'muž']['vek'].median()"
   ]
  },
  {
   "cell_type": "code",
   "execution_count": 27,
   "id": "de00fc7b",
   "metadata": {},
   "outputs": [
    {
     "data": {
      "text/plain": [
       "33.245962324984326"
      ]
     },
     "execution_count": 27,
     "metadata": {},
     "output_type": "execute_result"
    }
   ],
   "source": [
    "df[df['gender'] == 'muž']['vek'].mean()"
   ]
  },
  {
   "cell_type": "markdown",
   "id": "b7422f7e",
   "metadata": {},
   "source": [
    "## Věk mužů a žen: graf"
   ]
  },
  {
   "cell_type": "code",
   "execution_count": 13,
   "id": "7914304c",
   "metadata": {},
   "outputs": [],
   "source": [
    "df['vek'] = df['rok'] - df['datum_narozeni']"
   ]
  },
  {
   "cell_type": "code",
   "execution_count": 14,
   "id": "6ed35a62",
   "metadata": {},
   "outputs": [],
   "source": [
    "veky = [x for x in range(15,66)]"
   ]
  },
  {
   "cell_type": "code",
   "execution_count": 15,
   "id": "a89292e8",
   "metadata": {},
   "outputs": [],
   "source": [
    "veky_z = pd.Series(df[df['gender'] == 'žena'].groupby('vek').size(),name='věky žen').reindex(veky)"
   ]
  },
  {
   "cell_type": "code",
   "execution_count": 16,
   "id": "8ab6ff14",
   "metadata": {},
   "outputs": [],
   "source": [
    "veky_m = pd.Series(df[df['gender'] == 'muž'].groupby('vek').size(),name='věky mužů').reindex(veky)"
   ]
  },
  {
   "cell_type": "code",
   "execution_count": 17,
   "id": "5953d83e",
   "metadata": {},
   "outputs": [
    {
     "name": "stdout",
     "output_type": "stream",
     "text": [
      "Graf uložen.\n"
     ]
    }
   ],
   "source": [
    "graf(sloupcovy=[veky_z,veky_m], target=\"histogram_stari\", titulek='Věky sólově vystupujících mužů a žen v týdenních žebříčcích 100 nejhranějších písní', podtitulek=f'''Do součtů počítáme každou píseň a každý týden v hitparádě zvlášť. Pro přehlednost ořezáváme sporadicky osídlené okraje grafu, tedy interprety a interpretky pod 15 a nad 65 let.''', kredity=[\"Zdroj dat: Česká národní skupina Mezinárodní federace hudebního průmyslu a Wikidata | Vizualizace: Michal Kašpárek, iROZHLAS.cz\",\"https://www.irozhlas.cz/zpravy-tag/datova-zurnalistika\"], histogram=True, prvni=True, osay=' ', osay2=' ', skladany=False, naopak=False, barvy=[\"#fd7f6f\",\"#7eb0d5\"])"
   ]
  },
  {
   "cell_type": "markdown",
   "id": "b3e7927a",
   "metadata": {},
   "source": [
    "## Úspěšné ženy"
   ]
  },
  {
   "cell_type": "code",
   "execution_count": 18,
   "id": "280af0f3",
   "metadata": {},
   "outputs": [],
   "source": [
    "top10zen = pd.DataFrame(df[(df['gender'] == 'žena') & (df['pozice'] == 1)].groupby(\"interpret_hlavni\")['week'].nunique().nlargest(10)).reset_index().rename(columns={'interpret_hlavni':'Interpretka','week':'Týdnů jako #1'})"
   ]
  },
  {
   "cell_type": "code",
   "execution_count": 19,
   "id": "cdb88715",
   "metadata": {},
   "outputs": [
    {
     "data": {
      "text/plain": [
       "interpret_hlavni\n",
       "Ewa Farna             22\n",
       "Lucie Vondráčková     18\n",
       "Lucie Bílá            16\n",
       "Anna K.               15\n",
       "Lenny                 15\n",
       "Aneta Langerová       12\n",
       "Tereza Kerndlová      11\n",
       "Olga Lounová           9\n",
       "Markéta Konvičková     7\n",
       "Emma Smetana           6\n",
       "Name: track, dtype: int64"
      ]
     },
     "execution_count": 19,
     "metadata": {},
     "output_type": "execute_result"
    }
   ],
   "source": [
    "df[(df['gender'] == 'žena') & (df['zeme_puvodu'] == \"Česko\")].groupby(\"interpret_hlavni\")['track'].nunique().nlargest(10)"
   ]
  },
  {
   "cell_type": "code",
   "execution_count": 20,
   "id": "807df4ae",
   "metadata": {},
   "outputs": [
    {
     "data": {
      "text/plain": [
       "interpret_hlavni\n",
       "Lenny            4\n",
       "Ewa Farna        2\n",
       "Helena Zeťová    1\n",
       "Name: week, dtype: int64"
      ]
     },
     "execution_count": 20,
     "metadata": {},
     "output_type": "execute_result"
    }
   ],
   "source": [
    "df[(df['gender'] == 'žena') & (df['pozice'] == 1) & (df['zeme_puvodu'] == \"Česko\")].groupby(\"interpret_hlavni\")['week'].nunique().nlargest(10)"
   ]
  },
  {
   "cell_type": "code",
   "execution_count": 21,
   "id": "50ead1cb",
   "metadata": {},
   "outputs": [
    {
     "data": {
      "text/plain": [
       "'<table class=\"dataframe table table--responsive table--w100p table--striped-red table--plain\"><caption>Ženy, které strávily nejvíce týdnů na vrcholu české hitparády</caption><thead><tr style=\"text-align: right;\"><th class=\"text-nowrap\"></th><th class=\"text-nowrap\">Interpretka</th><th class=\"text-nowrap\">Týdnů jako #1</th></tr></thead><tbody class=\"text-sm\"><tr><td>1.</td><td>Adele</td><td>24</td></tr><tr><td>2.</td><td>Nelly Furtado</td><td>24</td></tr><tr><td>3.</td><td>P!Nk</td><td>23</td></tr><tr><td>4.</td><td>Shakira</td><td>16</td></tr><tr><td>5.</td><td>Ava Max</td><td>12</td></tr><tr><td>6.</td><td>Katy Perry</td><td>12</td></tr><tr><td>7.</td><td>Alesha Dixon</td><td>11</td></tr><tr><td>8.</td><td>Rihanna</td><td>10</td></tr><tr><td>9.</td><td>Carly Rae Jepsen</td><td>8</td></tr><tr><td>10.</td><td>Lady Gaga</td><td>8</td></tr></tbody><tfoot><tr style=\"text-align: center;\"><td colspan=\"100%\">Z Češek se to od ledna 2006 do listopadu 2023 podařilo pouze Lenny (4 týdny), Ewě Farne (2 týdny) a Heleně Zeťové (1 týden).</td></tr></tfoot></table>'"
      ]
     },
     "execution_count": 21,
     "metadata": {},
     "output_type": "execute_result"
    }
   ],
   "source": [
    "tabulka(top10zen, titulek=\"Ženy, které strávily nejvíce týdnů na vrcholu české hitparády\", podtitulek=\"Z Češek se to od ledna 2006 do listopadu 2023 podařilo pouze Lenny (4 týdny), Ewě Farne (2 týdny) a Heleně Zeťové (1 týden).\", poradi=True)"
   ]
  },
  {
   "cell_type": "code",
   "execution_count": 22,
   "id": "8f1824c9",
   "metadata": {},
   "outputs": [],
   "source": [
    "top10cesek = pd.DataFrame(df[(df['gender'] == 'žena') & (df['zeme_puvodu'] == \"Česko\")].groupby(\"interpret_hlavni\")['week'].nunique().nlargest(10)).reset_index().rename(columns={'interpret_hlavni':'Interpretka','week':'Týdnů v top 100'})"
   ]
  },
  {
   "cell_type": "code",
   "execution_count": 23,
   "id": "68c4db57",
   "metadata": {},
   "outputs": [
    {
     "data": {
      "text/plain": [
       "'<table class=\"dataframe table table--responsive table--w100p table--striped-red table--plain\"><caption>Češky, které se v top 100 držely nejvíce týdnů</caption><thead><tr style=\"text-align: right;\"><th class=\"text-nowrap\"></th><th class=\"text-nowrap\">Interpretka</th><th class=\"text-nowrap\">Týdnů v top 100</th></tr></thead><tbody class=\"text-sm\"><tr><td>1.</td><td>Anna K.</td><td>386</td></tr><tr><td>2.</td><td>Ewa Farna</td><td>303</td></tr><tr><td>3.</td><td>Lenny</td><td>284</td></tr><tr><td>4.</td><td>Lucie Vondráčková</td><td>228</td></tr><tr><td>5.</td><td>Lucie Bílá</td><td>220</td></tr><tr><td>6.</td><td>Aneta Langerová</td><td>197</td></tr><tr><td>7.</td><td>Olga Lounová</td><td>196</td></tr><tr><td>8.</td><td>Tereza Kerndlová</td><td>139</td></tr><tr><td>9.</td><td>Helena Zeťová</td><td>107</td></tr><tr><td>10.</td><td>Lenka Filipová</td><td>104</td></tr></tbody><tfoot><tr style=\"text-align: center;\"><td colspan=\"100%\">Data od ledna 2006 do listopadu 2023.</td></tr></tfoot></table>'"
      ]
     },
     "execution_count": 23,
     "metadata": {},
     "output_type": "execute_result"
    }
   ],
   "source": [
    "tabulka(top10cesek, titulek=\"Češky, které se v top 100 držely nejvíce týdnů\", podtitulek=\"Data od ledna 2006 do listopadu 2023.\", poradi=True)"
   ]
  }
 ],
 "metadata": {
  "kernelspec": {
   "display_name": "Python 3 (ipykernel)",
   "language": "python",
   "name": "python3"
  },
  "language_info": {
   "codemirror_mode": {
    "name": "ipython",
    "version": 3
   },
   "file_extension": ".py",
   "mimetype": "text/x-python",
   "name": "python",
   "nbconvert_exporter": "python",
   "pygments_lexer": "ipython3",
   "version": "3.10.8"
  }
 },
 "nbformat": 4,
 "nbformat_minor": 5
}
