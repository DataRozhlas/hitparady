{
 "cells": [
  {
   "cell_type": "markdown",
   "id": "7c9ccbfe",
   "metadata": {},
   "source": [
    "Podklady pro články Anety Martínkové na iROZHLAS.cz v prosinci 2023."
   ]
  },
  {
   "cell_type": "code",
   "execution_count": 1,
   "id": "cc45331c",
   "metadata": {},
   "outputs": [],
   "source": [
    "import os\n",
    "import pandas as pd"
   ]
  },
  {
   "cell_type": "code",
   "execution_count": 2,
   "id": "31ea2490",
   "metadata": {},
   "outputs": [],
   "source": [
    "from src.tabulka import tabulka\n",
    "from src.graf import graf"
   ]
  },
  {
   "cell_type": "code",
   "execution_count": 3,
   "id": "529e619b",
   "metadata": {},
   "outputs": [],
   "source": [
    "df = pd.read_csv(os.path.join(\"data\",\"CZ_RADIO_TOP_100_tydenni.csv\"))\n",
    "wikid = pd.read_json(os.path.join(\"wikidata\",\"wikidata.json\"))\n",
    "df = df.merge(wikid, on=\"interpret_hlavni\", how=\"outer\")"
   ]
  },
  {
   "cell_type": "code",
   "execution_count": 4,
   "id": "b002b290",
   "metadata": {},
   "outputs": [],
   "source": [
    "df = df.sort_values(by=['rok','tyden'])"
   ]
  },
  {
   "cell_type": "markdown",
   "id": "5bd55587",
   "metadata": {},
   "source": [
    "## Podíl žen na sólovém interpretstvu"
   ]
  },
  {
   "cell_type": "code",
   "execution_count": 5,
   "id": "e78bcd8e",
   "metadata": {},
   "outputs": [],
   "source": [
    "roky = [int(x) for x in df['rok'].drop_duplicates().dropna().tolist()]"
   ]
  },
  {
   "cell_type": "code",
   "execution_count": 6,
   "id": "01707134",
   "metadata": {},
   "outputs": [
    {
     "data": {
      "text/plain": [
       "[2006,\n",
       " 2007,\n",
       " 2008,\n",
       " 2009,\n",
       " 2010,\n",
       " 2011,\n",
       " 2012,\n",
       " 2013,\n",
       " 2014,\n",
       " 2015,\n",
       " 2016,\n",
       " 2017,\n",
       " 2018,\n",
       " 2019,\n",
       " 2020,\n",
       " 2021,\n",
       " 2022,\n",
       " 2023]"
      ]
     },
     "execution_count": 6,
     "metadata": {},
     "output_type": "execute_result"
    }
   ],
   "source": [
    "roky"
   ]
  },
  {
   "cell_type": "code",
   "execution_count": 7,
   "id": "de10b620",
   "metadata": {},
   "outputs": [],
   "source": [
    "pocet_lidi = len(df[(df['velikost'] == 'člověk') & (~df['gender'].isnull())]['interpret_hlavni'].drop_duplicates())"
   ]
  },
  {
   "cell_type": "code",
   "execution_count": 8,
   "id": "8f93db26",
   "metadata": {},
   "outputs": [],
   "source": [
    "nebin = ['genderfluid','nebinární','genderqueer']"
   ]
  },
  {
   "cell_type": "code",
   "execution_count": 9,
   "id": "0c37d2d6",
   "metadata": {},
   "outputs": [
    {
     "data": {
      "text/html": [
       "<div>\n",
       "<style scoped>\n",
       "    .dataframe tbody tr th:only-of-type {\n",
       "        vertical-align: middle;\n",
       "    }\n",
       "\n",
       "    .dataframe tbody tr th {\n",
       "        vertical-align: top;\n",
       "    }\n",
       "\n",
       "    .dataframe thead th {\n",
       "        text-align: right;\n",
       "    }\n",
       "</style>\n",
       "<table border=\"1\" class=\"dataframe\">\n",
       "  <thead>\n",
       "    <tr style=\"text-align: right;\">\n",
       "      <th></th>\n",
       "      <th>interpret_hlavni</th>\n",
       "      <th>gender</th>\n",
       "    </tr>\n",
       "  </thead>\n",
       "  <tbody>\n",
       "    <tr>\n",
       "      <th>38786</th>\n",
       "      <td>Miley Cyrus</td>\n",
       "      <td>genderfluid</td>\n",
       "    </tr>\n",
       "    <tr>\n",
       "      <th>60221</th>\n",
       "      <td>Demi Lovato</td>\n",
       "      <td>genderfluid</td>\n",
       "    </tr>\n",
       "    <tr>\n",
       "      <th>62752</th>\n",
       "      <td>Sam Smith</td>\n",
       "      <td>nebinární</td>\n",
       "    </tr>\n",
       "    <tr>\n",
       "      <th>91430</th>\n",
       "      <td>Ashley O</td>\n",
       "      <td>genderfluid</td>\n",
       "    </tr>\n",
       "    <tr>\n",
       "      <th>91431</th>\n",
       "      <td>Ashnikko</td>\n",
       "      <td>genderfluid</td>\n",
       "    </tr>\n",
       "    <tr>\n",
       "      <th>91616</th>\n",
       "      <td>Kim Dracula</td>\n",
       "      <td>nebinární</td>\n",
       "    </tr>\n",
       "    <tr>\n",
       "      <th>91618</th>\n",
       "      <td>King Princess</td>\n",
       "      <td>genderqueer</td>\n",
       "    </tr>\n",
       "    <tr>\n",
       "      <th>91643</th>\n",
       "      <td>Lil Uzi Vert</td>\n",
       "      <td>nebinární</td>\n",
       "    </tr>\n",
       "  </tbody>\n",
       "</table>\n",
       "</div>"
      ],
      "text/plain": [
       "      interpret_hlavni       gender\n",
       "38786      Miley Cyrus  genderfluid\n",
       "60221      Demi Lovato  genderfluid\n",
       "62752        Sam Smith    nebinární\n",
       "91430         Ashley O  genderfluid\n",
       "91431         Ashnikko  genderfluid\n",
       "91616      Kim Dracula    nebinární\n",
       "91618    King Princess  genderqueer\n",
       "91643     Lil Uzi Vert    nebinární"
      ]
     },
     "execution_count": 9,
     "metadata": {},
     "output_type": "execute_result"
    }
   ],
   "source": [
    "df[(df['velikost'] == 'člověk') & (df['gender'].isin(nebin))][['interpret_hlavni','gender']].drop_duplicates()"
   ]
  },
  {
   "cell_type": "code",
   "execution_count": 10,
   "id": "729820b0",
   "metadata": {},
   "outputs": [
    {
     "data": {
      "text/plain": [
       "'Miley Cyrus, Demi Lovato, Sam Smith, Ashley O, Ashnikko, Kim Dracula, King Princess, Lil Uzi Vert'"
      ]
     },
     "execution_count": 10,
     "metadata": {},
     "output_type": "execute_result"
    }
   ],
   "source": [
    "\", \".join(df[(df['velikost'] == 'člověk') & (df['gender'].isin(nebin))][['interpret_hlavni','gender']].drop_duplicates()['interpret_hlavni'].to_list())"
   ]
  },
  {
   "cell_type": "code",
   "execution_count": 11,
   "id": "5d602f0e",
   "metadata": {},
   "outputs": [],
   "source": [
    "podil_zen = pd.Series(df[(df['gender'] == 'žena')].groupby('rok').size() / df[df['gender'].isin(['žena','muž','genderfluid','nebinární','genderqueer'])].groupby('rok').size(), name=\"podíl žen\").reindex(roky)"
   ]
  },
  {
   "cell_type": "code",
   "execution_count": 12,
   "id": "f171210a",
   "metadata": {},
   "outputs": [],
   "source": [
    "podil_muzu = pd.Series(df[(df['gender'] == 'muž')].groupby('rok').size() / df[df['gender'].isin(['žena','muž','genderfluid','nebinární','genderqueer'])].groupby('rok').size(), name=\"podíl mužů\").reindex(roky)"
   ]
  },
  {
   "cell_type": "code",
   "execution_count": 13,
   "id": "6c5140b9",
   "metadata": {},
   "outputs": [],
   "source": [
    "podil_ostatnich = pd.Series(df[(df['gender'].isin(['genderfluid','nebinární','genderqueer']))].groupby('rok').size() / df[df['gender'].isin(['žena','muž','genderfluid','nebinární','genderqueer'])].groupby('rok').size(), name=\"podíl genderfluid a nebinárních osob\").reindex(roky)"
   ]
  },
  {
   "cell_type": "code",
   "execution_count": 119,
   "id": "53bb8dde",
   "metadata": {},
   "outputs": [
    {
     "name": "stdout",
     "output_type": "stream",
     "text": [
      "Graf uložen.\n"
     ]
    }
   ],
   "source": [
    "graf(sloupcovy=[podil_ostatnich,podil_muzu,podil_zen], target=\"genderovy_podil\", titulek='Zastoupení žen v rádiových hitparádách dekádu klesalo', podtitulek=f'''Genderové podíly sólově vystupujícího interpretstva v týdenních hitparádách TOP 100 radio. Z {pocet_lidi} lidí v datech se jinak než jako žena či muž identifikují Miley Cyrus (Ashley O), Demi Lovato, Sam Smith, Ashnikko, Kim Dracula, King Princess a Lil Uzi Vert.''', kredity=[\"Zdroj dat: ČNS IFPI a Wikidata | Vizualizace: Michal Kašpárek, iROZHLAS.cz\",\"https://www.irozhlas.cz/zpravy-tag/datova-zurnalistika\"], procenta=[podil_ostatnich,podil_muzu,podil_zen], prvni=True, osay=' ', osay2=' ', skladany=True, naopak=False)"
   ]
  },
  {
   "cell_type": "markdown",
   "id": "2cc58e9d",
   "metadata": {},
   "source": [
    "## Věk mužů a žen: čísla"
   ]
  },
  {
   "cell_type": "code",
   "execution_count": 15,
   "id": "09c19b82",
   "metadata": {},
   "outputs": [],
   "source": [
    "df['vek'] = df['rok'] - df['datum_narozeni']"
   ]
  },
  {
   "cell_type": "code",
   "execution_count": 16,
   "id": "cf57c2db",
   "metadata": {},
   "outputs": [
    {
     "data": {
      "text/plain": [
       "27.0"
      ]
     },
     "execution_count": 16,
     "metadata": {},
     "output_type": "execute_result"
    }
   ],
   "source": [
    "df[df['gender'] == 'žena']['vek'].median()"
   ]
  },
  {
   "cell_type": "code",
   "execution_count": 17,
   "id": "031c826b",
   "metadata": {},
   "outputs": [
    {
     "data": {
      "text/plain": [
       "29.186850674523182"
      ]
     },
     "execution_count": 17,
     "metadata": {},
     "output_type": "execute_result"
    }
   ],
   "source": [
    "df[df['gender'] == 'žena']['vek'].mean()"
   ]
  },
  {
   "cell_type": "code",
   "execution_count": 18,
   "id": "2ace231a",
   "metadata": {},
   "outputs": [
    {
     "data": {
      "text/plain": [
       "31.0"
      ]
     },
     "execution_count": 18,
     "metadata": {},
     "output_type": "execute_result"
    }
   ],
   "source": [
    "df[df['gender'] == 'muž']['vek'].median()"
   ]
  },
  {
   "cell_type": "code",
   "execution_count": 19,
   "id": "de00fc7b",
   "metadata": {},
   "outputs": [
    {
     "data": {
      "text/plain": [
       "33.344492054990184"
      ]
     },
     "execution_count": 19,
     "metadata": {},
     "output_type": "execute_result"
    }
   ],
   "source": [
    "df[df['gender'] == 'muž']['vek'].mean()"
   ]
  },
  {
   "cell_type": "markdown",
   "id": "b7422f7e",
   "metadata": {},
   "source": [
    "## Věk mužů a žen: graf"
   ]
  },
  {
   "cell_type": "code",
   "execution_count": 20,
   "id": "6ed35a62",
   "metadata": {},
   "outputs": [],
   "source": [
    "veky = [x for x in range(15,66)]"
   ]
  },
  {
   "cell_type": "code",
   "execution_count": 21,
   "id": "a89292e8",
   "metadata": {},
   "outputs": [],
   "source": [
    "veky_z = pd.Series(df[df['gender'] == 'žena'].groupby('vek').size(),name='věky žen').reindex(veky)"
   ]
  },
  {
   "cell_type": "code",
   "execution_count": 22,
   "id": "8ab6ff14",
   "metadata": {},
   "outputs": [],
   "source": [
    "veky_m = pd.Series(df[df['gender'] == 'muž'].groupby('vek').size(),name='věky mužů').reindex(veky)"
   ]
  },
  {
   "cell_type": "code",
   "execution_count": 114,
   "id": "5953d83e",
   "metadata": {},
   "outputs": [
    {
     "name": "stdout",
     "output_type": "stream",
     "text": [
      "Graf uložen.\n"
     ]
    }
   ],
   "source": [
    "graf(sloupcovy=[veky_z,veky_m], target=\"histogram_stari\", titulek='Ženy mizí z rádiové hitparády dřív než muži', podtitulek=f'''Do 24 let mají sólově vystupující ženy stejnou šanci na prosazení jako sólově vystupující muži. Zatímco ženy se pak z rádií vytrácejí, muži se drží o dekádu déle. (Do součtů počítáme každou píseň a každý týden v hitparádě zvlášť. Pro přehlednost ořezáváme sporadicky osídlené okraje grafu.)''', kredity=[\"Zdroj dat: ČNS IFPI a Wikidata | Vizualizace: Michal Kašpárek, iROZHLAS.cz\",\"https://www.irozhlas.cz/zpravy-tag/datova-zurnalistika\"], histogram=True, prvni=True, osay=' ', osay2=' ', skladany=False, naopak=False, barvy=[\"#fd7f6f\",\"#7eb0d5\"])"
   ]
  },
  {
   "cell_type": "markdown",
   "id": "b3e7927a",
   "metadata": {},
   "source": [
    "## Úspěšné ženy"
   ]
  },
  {
   "cell_type": "code",
   "execution_count": 72,
   "id": "280af0f3",
   "metadata": {},
   "outputs": [],
   "source": [
    "top10zen = pd.DataFrame(df[(df['gender'] == 'žena') & (df['pozice'] == 1)].groupby(\"interpret_hlavni\")['week'].nunique().nlargest(10)).reset_index().rename(columns={'interpret_hlavni':'Interpretka','week':'Týdnů jako #1'})"
   ]
  },
  {
   "cell_type": "code",
   "execution_count": 73,
   "id": "6e6eb941",
   "metadata": {},
   "outputs": [
    {
     "data": {
      "text/html": [
       "<div>\n",
       "<style scoped>\n",
       "    .dataframe tbody tr th:only-of-type {\n",
       "        vertical-align: middle;\n",
       "    }\n",
       "\n",
       "    .dataframe tbody tr th {\n",
       "        vertical-align: top;\n",
       "    }\n",
       "\n",
       "    .dataframe thead th {\n",
       "        text-align: right;\n",
       "    }\n",
       "</style>\n",
       "<table border=\"1\" class=\"dataframe\">\n",
       "  <thead>\n",
       "    <tr style=\"text-align: right;\">\n",
       "      <th></th>\n",
       "      <th>Interpretka</th>\n",
       "      <th>Týdnů jako #1</th>\n",
       "    </tr>\n",
       "  </thead>\n",
       "  <tbody>\n",
       "    <tr>\n",
       "      <th>0</th>\n",
       "      <td>Adele</td>\n",
       "      <td>24</td>\n",
       "    </tr>\n",
       "    <tr>\n",
       "      <th>1</th>\n",
       "      <td>Nelly Furtado</td>\n",
       "      <td>24</td>\n",
       "    </tr>\n",
       "    <tr>\n",
       "      <th>2</th>\n",
       "      <td>P!Nk</td>\n",
       "      <td>24</td>\n",
       "    </tr>\n",
       "    <tr>\n",
       "      <th>3</th>\n",
       "      <td>Shakira</td>\n",
       "      <td>16</td>\n",
       "    </tr>\n",
       "    <tr>\n",
       "      <th>4</th>\n",
       "      <td>Ava Max</td>\n",
       "      <td>12</td>\n",
       "    </tr>\n",
       "    <tr>\n",
       "      <th>5</th>\n",
       "      <td>Katy Perry</td>\n",
       "      <td>12</td>\n",
       "    </tr>\n",
       "    <tr>\n",
       "      <th>6</th>\n",
       "      <td>Alesha Dixon</td>\n",
       "      <td>11</td>\n",
       "    </tr>\n",
       "    <tr>\n",
       "      <th>7</th>\n",
       "      <td>Rihanna</td>\n",
       "      <td>10</td>\n",
       "    </tr>\n",
       "    <tr>\n",
       "      <th>8</th>\n",
       "      <td>Lady Gaga</td>\n",
       "      <td>8</td>\n",
       "    </tr>\n",
       "    <tr>\n",
       "      <th>9</th>\n",
       "      <td>Colbie Caillat</td>\n",
       "      <td>7</td>\n",
       "    </tr>\n",
       "  </tbody>\n",
       "</table>\n",
       "</div>"
      ],
      "text/plain": [
       "      Interpretka  Týdnů jako #1\n",
       "0           Adele             24\n",
       "1   Nelly Furtado             24\n",
       "2            P!Nk             24\n",
       "3         Shakira             16\n",
       "4         Ava Max             12\n",
       "5      Katy Perry             12\n",
       "6    Alesha Dixon             11\n",
       "7         Rihanna             10\n",
       "8       Lady Gaga              8\n",
       "9  Colbie Caillat              7"
      ]
     },
     "execution_count": 73,
     "metadata": {},
     "output_type": "execute_result"
    }
   ],
   "source": [
    "top10zen"
   ]
  },
  {
   "cell_type": "code",
   "execution_count": 80,
   "id": "aa9c1219",
   "metadata": {},
   "outputs": [],
   "source": [
    "top10zen['Země původu'] = top10zen['Interpretka'].apply(lambda x: wikid[wikid['interpret_hlavni'] == x]['zeme_puvodu'].iloc[0])\n",
    "top10zen['Žánry'] = top10zen['Interpretka'].apply(lambda x: \", \".join([x for x in wikid[wikid['interpret_hlavni'] == x].explode(\"zanry\")['zanry'].drop_duplicates().to_list()[0:3] if x != \"pop music\"]))\n",
    "top10zen['Žánry'] = top10zen['Žánry'].apply(lambda x: \"-\" if len(x) < 3 else x)\n",
    "top10zen = top10zen.apply(lambda x: x.replace({\"Spojené státy americké\": \"USA\"}))"
   ]
  },
  {
   "cell_type": "code",
   "execution_count": 81,
   "id": "3ece09c0",
   "metadata": {},
   "outputs": [
    {
     "data": {
      "text/html": [
       "<div>\n",
       "<style scoped>\n",
       "    .dataframe tbody tr th:only-of-type {\n",
       "        vertical-align: middle;\n",
       "    }\n",
       "\n",
       "    .dataframe tbody tr th {\n",
       "        vertical-align: top;\n",
       "    }\n",
       "\n",
       "    .dataframe thead th {\n",
       "        text-align: right;\n",
       "    }\n",
       "</style>\n",
       "<table border=\"1\" class=\"dataframe\">\n",
       "  <thead>\n",
       "    <tr style=\"text-align: right;\">\n",
       "      <th></th>\n",
       "      <th>Interpretka</th>\n",
       "      <th>Týdnů jako #1</th>\n",
       "      <th>Země původu</th>\n",
       "      <th>Žánry</th>\n",
       "    </tr>\n",
       "  </thead>\n",
       "  <tbody>\n",
       "    <tr>\n",
       "      <th>0</th>\n",
       "      <td>Adele</td>\n",
       "      <td>24</td>\n",
       "      <td>Spojené království</td>\n",
       "      <td>bílý soul, rhythm and blues</td>\n",
       "    </tr>\n",
       "    <tr>\n",
       "      <th>1</th>\n",
       "      <td>Nelly Furtado</td>\n",
       "      <td>24</td>\n",
       "      <td>Kanada</td>\n",
       "      <td>rhythm and blues, lidová hudba</td>\n",
       "    </tr>\n",
       "    <tr>\n",
       "      <th>2</th>\n",
       "      <td>P!Nk</td>\n",
       "      <td>24</td>\n",
       "      <td>USA</td>\n",
       "      <td>pop rock, contemporary R&amp;B</td>\n",
       "    </tr>\n",
       "    <tr>\n",
       "      <th>3</th>\n",
       "      <td>Shakira</td>\n",
       "      <td>16</td>\n",
       "      <td>Kolumbie</td>\n",
       "      <td>Latin pop, pop rock</td>\n",
       "    </tr>\n",
       "    <tr>\n",
       "      <th>4</th>\n",
       "      <td>Ava Max</td>\n",
       "      <td>12</td>\n",
       "      <td>USA</td>\n",
       "      <td>dance-pop</td>\n",
       "    </tr>\n",
       "    <tr>\n",
       "      <th>5</th>\n",
       "      <td>Katy Perry</td>\n",
       "      <td>12</td>\n",
       "      <td>USA</td>\n",
       "      <td>rock, pop rock</td>\n",
       "    </tr>\n",
       "    <tr>\n",
       "      <th>6</th>\n",
       "      <td>Alesha Dixon</td>\n",
       "      <td>11</td>\n",
       "      <td>Spojené království</td>\n",
       "      <td>-</td>\n",
       "    </tr>\n",
       "    <tr>\n",
       "      <th>7</th>\n",
       "      <td>Rihanna</td>\n",
       "      <td>10</td>\n",
       "      <td>Barbados</td>\n",
       "      <td>taneční hudba, contemporary R&amp;B</td>\n",
       "    </tr>\n",
       "    <tr>\n",
       "      <th>8</th>\n",
       "      <td>Lady Gaga</td>\n",
       "      <td>8</td>\n",
       "      <td>USA</td>\n",
       "      <td>elektropop, dance-pop, synthpop</td>\n",
       "    </tr>\n",
       "    <tr>\n",
       "      <th>9</th>\n",
       "      <td>Colbie Caillat</td>\n",
       "      <td>7</td>\n",
       "      <td>USA</td>\n",
       "      <td>pop rock, country</td>\n",
       "    </tr>\n",
       "  </tbody>\n",
       "</table>\n",
       "</div>"
      ],
      "text/plain": [
       "      Interpretka  Týdnů jako #1         Země původu  \\\n",
       "0           Adele             24  Spojené království   \n",
       "1   Nelly Furtado             24              Kanada   \n",
       "2            P!Nk             24                 USA   \n",
       "3         Shakira             16            Kolumbie   \n",
       "4         Ava Max             12                 USA   \n",
       "5      Katy Perry             12                 USA   \n",
       "6    Alesha Dixon             11  Spojené království   \n",
       "7         Rihanna             10            Barbados   \n",
       "8       Lady Gaga              8                 USA   \n",
       "9  Colbie Caillat              7                 USA   \n",
       "\n",
       "                             Žánry  \n",
       "0      bílý soul, rhythm and blues  \n",
       "1   rhythm and blues, lidová hudba  \n",
       "2       pop rock, contemporary R&B  \n",
       "3              Latin pop, pop rock  \n",
       "4                        dance-pop  \n",
       "5                   rock, pop rock  \n",
       "6                                -  \n",
       "7  taneční hudba, contemporary R&B  \n",
       "8  elektropop, dance-pop, synthpop  \n",
       "9                pop rock, country  "
      ]
     },
     "execution_count": 81,
     "metadata": {},
     "output_type": "execute_result"
    }
   ],
   "source": [
    "top10zen"
   ]
  },
  {
   "cell_type": "code",
   "execution_count": 25,
   "id": "30dc5841",
   "metadata": {},
   "outputs": [
    {
     "data": {
      "text/plain": [
       "interpret_hlavni\n",
       "Rihanna              30\n",
       "P!Nk                 28\n",
       "Lady Gaga            25\n",
       "Katy Perry           24\n",
       "Ewa Farna            22\n",
       "Lucie Vondráčková    18\n",
       "Avril Lavigne        17\n",
       "Taylor Swift         17\n",
       "Britney Spears       16\n",
       "Lucie Bílá           16\n",
       "Name: track, dtype: int64"
      ]
     },
     "execution_count": 25,
     "metadata": {},
     "output_type": "execute_result"
    }
   ],
   "source": [
    "df[(df['gender'] == 'žena')].groupby(\"interpret_hlavni\")['track'].nunique().nlargest(10)"
   ]
  },
  {
   "cell_type": "code",
   "execution_count": 26,
   "id": "cdb88715",
   "metadata": {},
   "outputs": [
    {
     "data": {
      "text/plain": [
       "interpret_hlavni\n",
       "Ewa Farna             22\n",
       "Lucie Vondráčková     18\n",
       "Lucie Bílá            16\n",
       "Anna K.               15\n",
       "Lenny                 15\n",
       "Aneta Langerová       12\n",
       "Tereza Kerndlová      11\n",
       "Olga Lounová           9\n",
       "Markéta Konvičková     7\n",
       "Emma Smetana           6\n",
       "Name: track, dtype: int64"
      ]
     },
     "execution_count": 26,
     "metadata": {},
     "output_type": "execute_result"
    }
   ],
   "source": [
    "df[(df['gender'] == 'žena') & (df['zeme_puvodu'] == \"Česko\")].groupby(\"interpret_hlavni\")['track'].nunique().nlargest(10)"
   ]
  },
  {
   "cell_type": "code",
   "execution_count": 27,
   "id": "807df4ae",
   "metadata": {},
   "outputs": [
    {
     "data": {
      "text/plain": [
       "interpret_hlavni\n",
       "Lenny            4\n",
       "Ewa Farna        2\n",
       "Helena Zeťová    1\n",
       "Name: week, dtype: int64"
      ]
     },
     "execution_count": 27,
     "metadata": {},
     "output_type": "execute_result"
    }
   ],
   "source": [
    "df[(df['gender'] == 'žena') & (df['pozice'] == 1) & (df['zeme_puvodu'] == \"Česko\")].groupby(\"interpret_hlavni\")['week'].nunique().nlargest(10)"
   ]
  },
  {
   "cell_type": "code",
   "execution_count": 85,
   "id": "beba4710",
   "metadata": {},
   "outputs": [
    {
     "data": {
      "text/plain": [
       "27"
      ]
     },
     "execution_count": 85,
     "metadata": {},
     "output_type": "execute_result"
    }
   ],
   "source": [
    "df[(df['interpret_hlavni'] == 'Miley Cyrus') & (df['pozice'] == 1)]['week'].nunique()"
   ]
  },
  {
   "cell_type": "code",
   "execution_count": 117,
   "id": "50ead1cb",
   "metadata": {},
   "outputs": [
    {
     "data": {
      "text/plain": [
       "'<table class=\"dataframe table table--responsive table--w100p table--striped-red table--plain\"><caption>Ženy, které strávily nejvíce týdnů na vrcholu české hitparády</caption><thead><tr style=\"text-align: right;\"><th class=\"text-nowrap\">Interpretka</th><th class=\"text-nowrap\">Týdnů jako #1</th><th class=\"text-nowrap\">Země původu</th><th class=\"text-nowrap\">Žánry</th></tr></thead><tbody class=\"text-sm\"><tr><td>Adele</td><td>24</td><td>Spojené království</td><td>bílý soul, rhythm and blues</td></tr><tr><td>Nelly Furtado</td><td>24</td><td>Kanada</td><td>rhythm and blues, lidová hudba</td></tr><tr><td>P!Nk</td><td>24</td><td>USA</td><td>pop rock, contemporary R&amp;B</td></tr><tr><td>Shakira</td><td>16</td><td>Kolumbie</td><td>Latin pop, pop rock</td></tr><tr><td>Ava Max</td><td>12</td><td>USA</td><td>dance-pop</td></tr><tr><td>Katy Perry</td><td>12</td><td>USA</td><td>rock, pop rock</td></tr><tr><td>Alesha Dixon</td><td>11</td><td>Spojené království</td><td>-</td></tr><tr><td>Rihanna</td><td>10</td><td>Barbados</td><td>taneční hudba, contemporary R&amp;B</td></tr><tr><td>Lady Gaga</td><td>8</td><td>USA</td><td>elektropop, dance-pop, synthpop</td></tr><tr><td>Colbie Caillat</td><td>7</td><td>USA</td><td>pop rock, country</td></tr></tbody><tfoot><tr style=\"text-align: center;\"><td colspan=4>Pokud bychom tabulku rozšířili o lidi, kteří se neidentifikují jako muži, její čelo by s 27 týdny patřilo Miley Cyrus. (Data od ledna 2006 do listopadu 2023.)</td></tr></tfoot></table>'"
      ]
     },
     "execution_count": 117,
     "metadata": {},
     "output_type": "execute_result"
    }
   ],
   "source": [
    "tabulka(top10zen, titulek=\"Ženy, které strávily nejvíce týdnů na vrcholu české hitparády\", podtitulek=\"Pokud bychom tabulku rozšířili o lidi, kteří se neidentifikují jako muži, její čelo by s 27 týdny patřilo Miley Cyrus. (Data od ledna 2006 do listopadu 2023.)\", poradi=False)"
   ]
  },
  {
   "cell_type": "code",
   "execution_count": 109,
   "id": "8f1824c9",
   "metadata": {},
   "outputs": [],
   "source": [
    "top10cesek = pd.DataFrame(df[(df['gender'] == 'žena') & (df['zeme_puvodu'] == \"Česko\")].groupby(\"interpret_hlavni\")['week'].nunique().nlargest(10)).reset_index().rename(columns={'interpret_hlavni':'Interpretka','week':'Týdnů v TOP 100'})"
   ]
  },
  {
   "cell_type": "code",
   "execution_count": 96,
   "id": "8bc52b69",
   "metadata": {},
   "outputs": [
    {
     "data": {
      "text/plain": [
       "'Vánoce na míru'"
      ]
     },
     "execution_count": 96,
     "metadata": {},
     "output_type": "execute_result"
    }
   ],
   "source": [
    "df[df['interpret_hlavni'] == 'Ewa Farna'].groupby('track')['pozice'].min().nsmallest(1).index.to_list()[0]"
   ]
  },
  {
   "cell_type": "code",
   "execution_count": 110,
   "id": "2268fed2",
   "metadata": {},
   "outputs": [],
   "source": [
    "top10cesek['Nejvýše umístěný track'] = top10cesek['Interpretka'].apply(lambda x: f\"\"\"{df[df['interpret_hlavni'] == x].groupby('track')['pozice'].min().nsmallest(1).index.to_list()[0]} ({int(df[df['interpret_hlavni'] == x]['pozice'].min())}.)\"\"\")"
   ]
  },
  {
   "cell_type": "code",
   "execution_count": 113,
   "id": "68c4db57",
   "metadata": {},
   "outputs": [
    {
     "data": {
      "text/plain": [
       "'<table class=\"dataframe table table--responsive table--w100p table--striped-red table--plain\"><caption>Češky, které se v TOP 100 držely nejvíce týdnů</caption><thead><tr style=\"text-align: right;\"><th class=\"text-nowrap\"></th><th class=\"text-nowrap\">Interpretka</th><th class=\"text-nowrap\">Týdnů v TOP 100</th><th class=\"text-nowrap\">Nejvýše umístěný track</th></tr></thead><tbody class=\"text-sm\"><tr><td>1.</td><td>Anna K.</td><td>391</td><td>Údolí včel (6.)</td></tr><tr><td>2.</td><td>Ewa Farna</td><td>304</td><td>Vánoce na míru (1.)</td></tr><tr><td>3.</td><td>Lenny</td><td>285</td><td>Hell.o (1.)</td></tr><tr><td>4.</td><td>Lucie Vondráčková</td><td>230</td><td>Láska umí víc (10.)</td></tr><tr><td>5.</td><td>Lucie Bílá</td><td>225</td><td>Dobrý kafe (7.)</td></tr><tr><td>6.</td><td>Aneta Langerová</td><td>197</td><td>Srdcotepec (24.)</td></tr><tr><td>7.</td><td>Olga Lounová</td><td>196</td><td>Cyklista (14.)</td></tr><tr><td>8.</td><td>Tereza Kerndlová</td><td>139</td><td>Anděl (3.)</td></tr><tr><td>9.</td><td>Lenka Filipová</td><td>108</td><td>Samotní nejsme nic (10.)</td></tr><tr><td>10.</td><td>Helena Zeťová</td><td>107</td><td>Impossible (Unstoppable) (1.)</td></tr></tbody><tfoot><tr style=\"text-align: center;\"><td colspan=4>Data od ledna 2006 do listopadu 2023.</td></tr></tfoot></table>'"
      ]
     },
     "execution_count": 113,
     "metadata": {},
     "output_type": "execute_result"
    }
   ],
   "source": [
    "tabulka(top10cesek, titulek=\"Češky, které se v TOP 100 držely nejvíce týdnů\", podtitulek=\"Data od ledna 2006 do listopadu 2023.\", poradi=True)"
   ]
  },
  {
   "cell_type": "code",
   "execution_count": 112,
   "id": "aaaa14e6",
   "metadata": {},
   "outputs": [
    {
     "data": {
      "text/html": [
       "<div>\n",
       "<style scoped>\n",
       "    .dataframe tbody tr th:only-of-type {\n",
       "        vertical-align: middle;\n",
       "    }\n",
       "\n",
       "    .dataframe tbody tr th {\n",
       "        vertical-align: top;\n",
       "    }\n",
       "\n",
       "    .dataframe thead th {\n",
       "        text-align: right;\n",
       "    }\n",
       "</style>\n",
       "<table border=\"1\" class=\"dataframe\">\n",
       "  <thead>\n",
       "    <tr style=\"text-align: right;\">\n",
       "      <th></th>\n",
       "      <th>Interpretka</th>\n",
       "      <th>Týdnů v TOP 100</th>\n",
       "      <th>Nejvýše umístěný track</th>\n",
       "    </tr>\n",
       "  </thead>\n",
       "  <tbody>\n",
       "    <tr>\n",
       "      <th>0</th>\n",
       "      <td>Anna K.</td>\n",
       "      <td>391</td>\n",
       "      <td>Údolí včel (6.)</td>\n",
       "    </tr>\n",
       "    <tr>\n",
       "      <th>1</th>\n",
       "      <td>Ewa Farna</td>\n",
       "      <td>304</td>\n",
       "      <td>Vánoce na míru (1.)</td>\n",
       "    </tr>\n",
       "    <tr>\n",
       "      <th>2</th>\n",
       "      <td>Lenny</td>\n",
       "      <td>285</td>\n",
       "      <td>Hell.o (1.)</td>\n",
       "    </tr>\n",
       "    <tr>\n",
       "      <th>3</th>\n",
       "      <td>Lucie Vondráčková</td>\n",
       "      <td>230</td>\n",
       "      <td>Láska umí víc (10.)</td>\n",
       "    </tr>\n",
       "    <tr>\n",
       "      <th>4</th>\n",
       "      <td>Lucie Bílá</td>\n",
       "      <td>225</td>\n",
       "      <td>Dobrý kafe (7.)</td>\n",
       "    </tr>\n",
       "    <tr>\n",
       "      <th>5</th>\n",
       "      <td>Aneta Langerová</td>\n",
       "      <td>197</td>\n",
       "      <td>Srdcotepec (24.)</td>\n",
       "    </tr>\n",
       "    <tr>\n",
       "      <th>6</th>\n",
       "      <td>Olga Lounová</td>\n",
       "      <td>196</td>\n",
       "      <td>Cyklista (14.)</td>\n",
       "    </tr>\n",
       "    <tr>\n",
       "      <th>7</th>\n",
       "      <td>Tereza Kerndlová</td>\n",
       "      <td>139</td>\n",
       "      <td>Anděl (3.)</td>\n",
       "    </tr>\n",
       "    <tr>\n",
       "      <th>8</th>\n",
       "      <td>Lenka Filipová</td>\n",
       "      <td>108</td>\n",
       "      <td>Samotní nejsme nic (10.)</td>\n",
       "    </tr>\n",
       "    <tr>\n",
       "      <th>9</th>\n",
       "      <td>Helena Zeťová</td>\n",
       "      <td>107</td>\n",
       "      <td>Impossible (Unstoppable) (1.)</td>\n",
       "    </tr>\n",
       "  </tbody>\n",
       "</table>\n",
       "</div>"
      ],
      "text/plain": [
       "         Interpretka  Týdnů v TOP 100         Nejvýše umístěný track\n",
       "0            Anna K.              391                Údolí včel (6.)\n",
       "1          Ewa Farna              304            Vánoce na míru (1.)\n",
       "2              Lenny              285                    Hell.o (1.)\n",
       "3  Lucie Vondráčková              230            Láska umí víc (10.)\n",
       "4         Lucie Bílá              225                Dobrý kafe (7.)\n",
       "5    Aneta Langerová              197               Srdcotepec (24.)\n",
       "6       Olga Lounová              196                 Cyklista (14.)\n",
       "7   Tereza Kerndlová              139                     Anděl (3.)\n",
       "8     Lenka Filipová              108       Samotní nejsme nic (10.)\n",
       "9      Helena Zeťová              107  Impossible (Unstoppable) (1.)"
      ]
     },
     "execution_count": 112,
     "metadata": {},
     "output_type": "execute_result"
    }
   ],
   "source": [
    "top10cesek"
   ]
  },
  {
   "cell_type": "markdown",
   "id": "93c00b69",
   "metadata": {},
   "source": [
    "## Vs. stream (27. 11. 2023)"
   ]
  },
  {
   "cell_type": "code",
   "execution_count": 33,
   "id": "e078d6fc",
   "metadata": {},
   "outputs": [],
   "source": [
    "stream = pd.read_csv(os.path.join(\"data\",\"CZ_SINGLES_DIGITAL_TOP_100_tydenni.csv\"))"
   ]
  },
  {
   "cell_type": "code",
   "execution_count": 34,
   "id": "fb0f0c23",
   "metadata": {},
   "outputs": [],
   "source": [
    "stream = stream.merge(wikid, on=\"interpret_hlavni\", how=\"outer\")"
   ]
  },
  {
   "cell_type": "markdown",
   "id": "db4b25ca",
   "metadata": {},
   "source": [
    "Kolik dat vlastně máme?"
   ]
  },
  {
   "cell_type": "code",
   "execution_count": 35,
   "id": "872a24e6",
   "metadata": {},
   "outputs": [
    {
     "data": {
      "text/plain": [
       "0.9520517395182873"
      ]
     },
     "execution_count": 35,
     "metadata": {},
     "output_type": "execute_result"
    }
   ],
   "source": [
    "len(stream[~stream['velikost'].isnull()]) / len(stream)"
   ]
  },
  {
   "cell_type": "code",
   "execution_count": 36,
   "id": "59995134",
   "metadata": {},
   "outputs": [
    {
     "data": {
      "text/plain": [
       "0.7084786310923689"
      ]
     },
     "execution_count": 36,
     "metadata": {},
     "output_type": "execute_result"
    }
   ],
   "source": [
    "len(stream[~stream['gender'].isnull()]) / len(stream)"
   ]
  },
  {
   "cell_type": "code",
   "execution_count": 37,
   "id": "62d64a5e",
   "metadata": {},
   "outputs": [
    {
     "data": {
      "text/plain": [
       "0.7085106382978723"
      ]
     },
     "execution_count": 37,
     "metadata": {},
     "output_type": "execute_result"
    }
   ],
   "source": [
    "len(stream[(stream['rok'] == 2023) &  (~stream['gender'].isnull())]) / len(stream[stream['rok'] == 2023])"
   ]
  },
  {
   "cell_type": "code",
   "execution_count": 38,
   "id": "d6c45eca",
   "metadata": {},
   "outputs": [],
   "source": [
    "s_roky = [x for x in roky if x >= 2014]"
   ]
  },
  {
   "cell_type": "code",
   "execution_count": 39,
   "id": "61edcf6e",
   "metadata": {},
   "outputs": [],
   "source": [
    "s_podil_zen = pd.Series(stream[(stream['gender'] == 'žena')].groupby('rok').size() / stream[stream['gender'].isin(['žena','muž','genderfluid','nebinární','genderqueer'])].groupby('rok').size(), name=\"podíl žen\").reindex(s_roky)"
   ]
  },
  {
   "cell_type": "code",
   "execution_count": 40,
   "id": "b33af918",
   "metadata": {},
   "outputs": [],
   "source": [
    "s_podil_muzu = pd.Series(stream[(stream['gender'] == 'muž')].groupby('rok').size() / stream[stream['gender'].isin(['žena','muž','genderfluid','nebinární','genderqueer'])].groupby('rok').size(), name=\"podíl mužů\").reindex(s_roky)"
   ]
  },
  {
   "cell_type": "code",
   "execution_count": 41,
   "id": "1459ee25",
   "metadata": {},
   "outputs": [],
   "source": [
    "s_podil_ostatnich = pd.Series(stream[(stream['gender'].isin(['genderfluid','nebinární','genderqueer']))].groupby('rok').size() / stream[stream['gender'].isin(['žena','muž','genderfluid','nebinární','genderqueer'])].groupby('rok').size(), name=\"podíl genderfluid a nebinárních osob\").reindex(s_roky)"
   ]
  },
  {
   "cell_type": "code",
   "execution_count": 120,
   "id": "e76701ac",
   "metadata": {},
   "outputs": [
    {
     "name": "stdout",
     "output_type": "stream",
     "text": [
      "Graf uložen.\n"
     ]
    }
   ],
   "source": [
    "graf(sloupcovy=[s_podil_ostatnich,s_podil_muzu,s_podil_zen], target=\"genderovy_podil_stream\", titulek='Ženy prohrávají s muži i na streamu', podtitulek=f'''Genderové podíly sólově vystupujícího interpretstva v žebříčku TOP 100 digitál.''', kredity=[\"Zdroj dat: ČNS IFPI a Wikidata | Vizualizace: Michal Kašpárek, iROZHLAS.cz\",\"https://www.irozhlas.cz/zpravy-tag/datova-zurnalistika\"], procenta=[s_podil_ostatnich,s_podil_muzu,s_podil_zen], prvni=True, osay=' ', osay2=' ', skladany=True, naopak=False)"
   ]
  }
 ],
 "metadata": {
  "kernelspec": {
   "display_name": "Python 3 (ipykernel)",
   "language": "python",
   "name": "python3"
  },
  "language_info": {
   "codemirror_mode": {
    "name": "ipython",
    "version": 3
   },
   "file_extension": ".py",
   "mimetype": "text/x-python",
   "name": "python",
   "nbconvert_exporter": "python",
   "pygments_lexer": "ipython3",
   "version": "3.11.5"
  }
 },
 "nbformat": 4,
 "nbformat_minor": 5
}
